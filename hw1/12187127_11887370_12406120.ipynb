{
 "cells": [
  {
   "cell_type": "markdown",
   "metadata": {
    "deletable": false,
    "editable": false,
    "nbgrader": {
     "cell_type": "markdown",
     "checksum": "1bba455de8bc2825ca70469169bbadaa",
     "grade": false,
     "grade_id": "cell-c9cd9e550239e812",
     "locked": true,
     "schema_version": 3,
     "solution": false,
     "task": false
    }
   },
   "source": [
    "# Homework 1 (Total Points: 250) <a class=\"anchor\" id=\"top\"></a>\n",
    "\n",
    "\n",
    "**Submission instructions**:\n",
    "- The cells with the `# YOUR CODE HERE` denote that these sections are graded and you need to add your implementation.\n",
    "- For Part 1: You can use the `nltk`, `NumPy`, and `matplotlib` libraries here. Other libraries, e.g., `gensim` or `scikit-learn`, may not be used. For Part 2: `gensim` is allowed in addition to the imported libraries in the next code cell\n",
    "- Please use Python 3.6.5 and `pip install -r requirements.txt` to avoid version issues.\n",
    "- The notebook you submit has to have the student ids, separated by underscores (E.g., `12341234_12341234_12341234_hw1.ipynb`).\n",
    "- This will be parsed by a regexp, **so please double check your filename**.\n",
    "- Only one member of each group has to submit the file (**please do not compress the .ipynb file when you will submit it**) to canvas.\n",
    "- **Make sure to check that your notebook runs before submission**. A quick way to do this is to restart the kernel and run all the cells.  \n",
    "- Do not change the number of arugments in the given functions.\n",
    "- **Please do not delete/add new cells**. Removing cells **will** lead to grade deduction. \n",
    "- Note, that you are not allowed to use Google Colab.\n",
    "\n",
    "\n",
    "**Learning Goals**:\n",
    "- [Part 1, Term-based matching](#part1) (165 points):\n",
    "    - Learn how to load a dataset and process it.\n",
    "    - Learn how to implement several standard IR methods (TF-IDF, BM25, QL) and understand their weaknesses & strengths.\n",
    "    - Learn how to evaluate IR methods.\n",
    "- [Part 2, Semantic-based matching](#part2) (85 points):\n",
    "    - Learn how to implement vector-space retrieval methods (LSI, LDA).\n",
    "    - Learn how to use LSI and LDA for re-ranking.\n",
    "\n",
    "    \n",
    "**Resources**: \n",
    "- **Part 1**: Sections 2.3, 4.1, 4.2, 4.3, 5.3, 5.6, 5.7, 6.2, 7, 8 of [Search Engines: Information Retrieval in Practice](https://ciir.cs.umass.edu/downloads/SEIRiP.pdf)\n",
    "- **Part 2**: [LSI - Chapter 18](https://nlp.stanford.edu/IR-book/pdf/18lsi.pdf) from [Introduction to Information Retrieval](https://nlp.stanford.edu/IR-book/) book and the [original LDA paper](https://jmlr.org/papers/volume3/blei03a/blei03a.pdf)"
   ]
  },
  {
   "cell_type": "code",
   "execution_count": 2,
   "metadata": {
    "deletable": false,
    "editable": false,
    "nbgrader": {
     "cell_type": "code",
     "checksum": "c55bfe94ff1f564dd595547e516c4c6e",
     "grade": false,
     "grade_id": "cell-f5357fabdb9660e3",
     "locked": true,
     "schema_version": 3,
     "solution": false,
     "task": false
    }
   },
   "outputs": [],
   "source": [
    "# imports \n",
    "# TODO: Ensure that no additional library is imported in the notebook. \n",
    "# TODO: Only the standard library and the following libraries are allowed:\n",
    "# TODO: You can also use unlisted classes from these libraries or standard libraries (such as defaultdict, Counter, ...).\n",
    "\n",
    "import os\n",
    "import zipfile\n",
    "from functools import partial\n",
    "\n",
    "import nltk\n",
    "import requests\n",
    "import numpy as np\n",
    "from tqdm import tqdm\n",
    "\n",
    "import matplotlib.pyplot as plt\n",
    "from matplotlib.pyplot import cm\n",
    "\n",
    "from ipywidgets import widgets\n",
    "from IPython.display import display, HTML\n",
    "#from IPython.html import widgets\n",
    "from collections import namedtuple\n",
    "\n",
    "%matplotlib inline"
   ]
  },
  {
   "cell_type": "markdown",
   "metadata": {
    "deletable": false,
    "editable": false,
    "nbgrader": {
     "cell_type": "markdown",
     "checksum": "c8328f758ca5b69f76eee03dbbdd4715",
     "grade": false,
     "grade_id": "cell-7428e12ed184408b",
     "locked": true,
     "schema_version": 3,
     "solution": false,
     "task": false
    }
   },
   "source": [
    "\n",
    "# Part 1: Term-based Matching (165 points) <a class=\"anchor\" id=\"part1\"></a>\n",
    "\n",
    "[Back to top](#top)\n",
    "\n",
    "In the first part, we will learn the basics of IR from loading and preprocessing the material, to implementing some well known search algorithms, to evaluating the ranking performance of the implemented algorithms. We will be using the CACM dataset throughout the assignment. The CACM dataset is a collection of titles and abstracts from the journal CACM (Communication of the ACM).\n",
    "\n",
    "Table of contents:\n",
    "- [Section 1: Text Processing](#text_processing) (5 points)\n",
    "- [Section 2: Indexing](#indexing) (10 points)\n",
    "- [Section 3: Ranking](#ranking) (80 points)\n",
    "- [Section 4: Evaluation](#evaluation) (40 points)\n",
    "- [Section 5: Analysis](#analysis) (30 points)\n"
   ]
  },
  {
   "cell_type": "markdown",
   "metadata": {
    "deletable": false,
    "editable": false,
    "nbgrader": {
     "cell_type": "markdown",
     "checksum": "4e3f938065183dc743aa8254b96b4f5e",
     "grade": false,
     "grade_id": "cell-4b24825cf4ae55ec",
     "locked": true,
     "schema_version": 3,
     "solution": false,
     "task": false
    }
   },
   "source": [
    "---\n",
    "## Section 1: Text Processing (5 points)<a class=\"anchor\" id=\"text_processing\"></a>\n",
    "\n",
    "[Back to Part 1](#part1)\n",
    "\n",
    "In this section, we will load the dataset and learn how to clean up the data to make it usable for an IR system. \n",
    "First, go through the implementation of the following functions:\n",
    "- `read_cacm_docs`: Reads in the CACM documents.\n",
    "- `read_queries`: Reads in the CACM queries.\n",
    "- `load_stopwords`: Loads the stopwords.\n",
    "\n",
    "The points of this section are earned for the following implementations:\n",
    "- `tokenize` (3 points): Tokenizes the input text.\n",
    "- `stem_token` (2 points): Stems the given token. \n",
    "\n",
    "We are using the [CACM dataset](http://ir.dcs.gla.ac.uk/resources/test_collections/cacm/), which is a small, classic IR dataset, composed of a collection of titles and abstracts from the journal CACM. It comes with relevance judgements for queries, so we can evaluate our IR system. \n"
   ]
  },
  {
   "cell_type": "markdown",
   "metadata": {
    "deletable": false,
    "editable": false,
    "nbgrader": {
     "cell_type": "markdown",
     "checksum": "0155d897c7016389d73d160921947a6f",
     "grade": false,
     "grade_id": "cell-45651364e7af6d5a",
     "locked": true,
     "schema_version": 3,
     "solution": false,
     "task": false
    }
   },
   "source": [
    "---\n",
    "### 1.1 Read the CACM documents\n",
    "\n",
    "\n",
    "The following cell downloads the dataset and unzips it to a local directory."
   ]
  },
  {
   "cell_type": "code",
   "execution_count": 3,
   "metadata": {
    "deletable": false,
    "editable": false,
    "nbgrader": {
     "cell_type": "code",
     "checksum": "4d43c9ad6e77cc01ce4cef0c34824930",
     "grade": false,
     "grade_id": "cell-bbc3030bb3fe7e02",
     "locked": true,
     "schema_version": 3,
     "solution": false,
     "task": false
    }
   },
   "outputs": [],
   "source": [
    "def download_dataset():\n",
    "    folder_path = os.environ.get(\"IR1_DATA_PATH\")\n",
    "    if not folder_path:\n",
    "        folder_path = \"./datasets/\"\n",
    "    os.makedirs(folder_path, exist_ok=True)\n",
    "    \n",
    "    file_location = os.path.join(folder_path, \"cacm.zip\")\n",
    "    \n",
    "    # download file if it doesn't exist\n",
    "    if not os.path.exists(file_location):\n",
    "        \n",
    "        url = \"https://surfdrive.surf.nl/files/index.php/s/M0FGJpX2p8wDwxR/download\"\n",
    "\n",
    "        with open(file_location, \"wb\") as handle:\n",
    "            print(f\"Downloading file from {url} to {file_location}\")\n",
    "            response = requests.get(url, stream=True)\n",
    "            for data in tqdm(response.iter_content()):\n",
    "                handle.write(data)\n",
    "            print(\"Finished downloading file\")\n",
    "    \n",
    "    if not os.path.exists(os.path.join(folder_path, \"train.txt\")):\n",
    "        \n",
    "        # unzip file\n",
    "        with zipfile.ZipFile(file_location, 'r') as zip_ref:\n",
    "            zip_ref.extractall(folder_path)\n",
    "        \n",
    "download_dataset()"
   ]
  },
  {
   "cell_type": "markdown",
   "metadata": {
    "deletable": false,
    "editable": false,
    "nbgrader": {
     "cell_type": "markdown",
     "checksum": "31609b0d61d0c74cbd69bc43e47c23be",
     "grade": false,
     "grade_id": "cell-a7dd9a9bf98ede05",
     "locked": true,
     "schema_version": 3,
     "solution": false,
     "task": false
    }
   },
   "source": [
    "---\n",
    "\n",
    "You can see a brief description of each file in the dataset by looking at the README file:"
   ]
  },
  {
   "cell_type": "code",
   "execution_count": 4,
   "metadata": {
    "deletable": false,
    "editable": false,
    "nbgrader": {
     "cell_type": "code",
     "checksum": "cb3c9a2b8b2bf4fd5b7446b0c4c00f43",
     "grade": false,
     "grade_id": "cell-9b6ff1a17124711f",
     "locked": true,
     "schema_version": 3,
     "solution": false,
     "task": false
    }
   },
   "outputs": [
    {
     "name": "stdout",
     "output_type": "stream",
     "text": [
      "Files in this directory with sizes:\n",
      "          0 Jun 19 21:01 README\n",
      "\n",
      "    2187734 Jun 19 20:55 cacm.all              text of documents\n",
      "        626 Jun 19 20:58 cite.info             key to citation info\n",
      "                                                (the X sections in cacm.all)\n",
      "       2668 Jun 19 20:55 common_words           stop words used by smart\n",
      "       2194 Jun 19 20:55 make_coll*             shell script to make collection\n",
      "       1557 Jun 19 20:55 make_coll_term*        ditto (both useless without\n",
      "                                                smart system)\n",
      "       9948 Jun 19 20:55 qrels.text             relation giving\n",
      "                                                    qid did 0 0\n",
      "                                                to indicate dument did is\n",
      "                                                relevant to query qid\n",
      "      13689 Jun 19 20:55 query.text             Original text of the query\n",
      "\n"
     ]
    }
   ],
   "source": [
    "##### Read the README file \n",
    "with open (\"./datasets/README\",\"r\") as file:\n",
    "    readme = file.read()\n",
    "    print(readme)\n",
    "#####"
   ]
  },
  {
   "cell_type": "markdown",
   "metadata": {
    "deletable": false,
    "editable": false,
    "nbgrader": {
     "cell_type": "markdown",
     "checksum": "6e2712c4c4632bf7486a532f7f18074d",
     "grade": false,
     "grade_id": "cell-73351431869fda76",
     "locked": true,
     "schema_version": 3,
     "solution": false,
     "task": false
    }
   },
   "source": [
    "---\n",
    "We are interested in 4 files:\n",
    "- `cacm.all` : Contains the text for all documents. Note that some documents do not have abstracts available\n",
    "- `query.text` : The text of all queries\n",
    "- `qrels.text` : The relevance judgements\n",
    "- `common_words` : A list of common words. This may be used as a collection of stopwords"
   ]
  },
  {
   "cell_type": "code",
   "execution_count": 5,
   "metadata": {
    "deletable": false,
    "editable": false,
    "nbgrader": {
     "cell_type": "code",
     "checksum": "f1162c15177eb4ffe466531d03cff4a2",
     "grade": false,
     "grade_id": "cell-b44dd14079f278ca",
     "locked": true,
     "schema_version": 3,
     "solution": false,
     "task": false
    }
   },
   "outputs": [
    {
     "name": "stdout",
     "output_type": "stream",
     "text": [
      ".I 1\n",
      ".T\n",
      "Preliminary Report-International Algebraic Language\n",
      ".B\n",
      "CACM December, 1958\n",
      ".A\n",
      "Perlis, A. J.\n",
      "Samelson,K.\n",
      ".N\n",
      "CA581203 JB March 22, 1978  8:28 PM\n",
      ".X\n",
      "100\t5\t1\n",
      "123\t5\t1\n",
      "164\t5\t1\n",
      "1\t5\t1\n",
      "1\t5\t1\n",
      "1\t5\t1\n",
      "205\t5\t1\n",
      "210\t5\t1\n",
      "214\t5\t1\n",
      "1982\t5\t1\n",
      "398\t5\t1\n",
      "642\t5\t1\n",
      "669\t5\t1\n",
      "1\t6\t1\n",
      "1\t6\t1\n",
      "1\t6\t1\n",
      "1\t6\t1\n",
      "1\t6\t1\n",
      "1\t6\t1\n",
      "1\t6\t1\n",
      "1\t6\t1\n",
      "1\t6\t1\n",
      "1\t6\t1\n",
      "165\t6\t1\n",
      "196\t6\t1\n",
      "196\t6\t1\n",
      "1273\t6\t1\n",
      "1883\t6\t1\n",
      "324\t6\t1\n",
      "43\t6\t1\n",
      "53\t6\t1\n",
      "91\t6\t1\n",
      "410\t6\t1\n",
      "3184\t6\t1\n",
      "\n"
     ]
    }
   ],
   "source": [
    "##### The first 45 lines of the CACM dataset forms the first record\n",
    "# We are interested only in 3 fields. \n",
    "# 1. the '.I' field, which is the document id\n",
    "# 2. the '.T' field (the title) and\n",
    "# 3. the '.W' field (the abstract, which may be absent)\n",
    "with open (\"./datasets/cacm.all\",\"r\") as file:\n",
    "    cacm_all = \"\".join(file.readlines()[:45])\n",
    "    print(cacm_all)\n",
    "#####"
   ]
  },
  {
   "cell_type": "markdown",
   "metadata": {
    "deletable": false,
    "editable": false,
    "nbgrader": {
     "cell_type": "markdown",
     "checksum": "250b413baccd8efb186bb46a34ae0060",
     "grade": false,
     "grade_id": "cell-c4bf2e263ec553d8",
     "locked": true,
     "schema_version": 3,
     "solution": false,
     "task": false
    }
   },
   "source": [
    "---\n",
    "\n",
    "The following function reads the `cacm.all` file. Note that each document has a variable number of lines. The `.I` field denotes a new document:"
   ]
  },
  {
   "cell_type": "code",
   "execution_count": 6,
   "metadata": {
    "deletable": false,
    "editable": false,
    "nbgrader": {
     "cell_type": "code",
     "checksum": "57d757e6a7a6938740dc899022b4f291",
     "grade": false,
     "grade_id": "cell-b736116eb419c624",
     "locked": true,
     "schema_version": 3,
     "solution": false,
     "task": false
    }
   },
   "outputs": [],
   "source": [
    "def read_cacm_docs(root_folder = \"./datasets/\"):\n",
    "    \"\"\"\n",
    "        Reads in the CACM documents. The dataset is assumed to be in the folder \"./datasets/\" by default\n",
    "        Returns: A list of 2-tuples: (doc_id, document), where 'document' is a single string created by \n",
    "            appending the title and abstract (separated by a \"\\n\"). \n",
    "            In case the record doesn't have an abstract, the document is composed only by the title\n",
    "    \"\"\"\n",
    "    with open(os.path.join(root_folder, \"cacm.all\")) as reader:\n",
    "        lines = reader.readlines()\n",
    "    \n",
    "    doc_id, title, abstract = None, None, None\n",
    "    \n",
    "    docs = []\n",
    "    line_idx = 0\n",
    "    while line_idx < len(lines):\n",
    "        line = lines[line_idx]\n",
    "        if line.startswith(\".I\"):\n",
    "            if doc_id is not None:\n",
    "                docs.append((doc_id, title, abstract))\n",
    "                doc_id, title, abstract = None, None, None\n",
    "            \n",
    "            doc_id = line.split()[-1]\n",
    "            line_idx += 1\n",
    "        elif line.startswith(\".T\"):\n",
    "            # start at next line\n",
    "            line_idx += 1\n",
    "            temp_lines = []\n",
    "            # read till next '.'\n",
    "            while not lines[line_idx].startswith(\".\"):\n",
    "                temp_lines.append(lines[line_idx].strip(\"\\n\"))\n",
    "                line_idx += 1\n",
    "            title = \"\\n\".join(temp_lines).strip(\"\\n\")\n",
    "        elif line.startswith(\".W\"):\n",
    "            # start at next line\n",
    "            line_idx += 1\n",
    "            temp_lines = []\n",
    "            # read till next '.'\n",
    "            while not lines[line_idx].startswith(\".\"):\n",
    "                temp_lines.append(lines[line_idx].strip(\"\\n\"))\n",
    "                line_idx += 1\n",
    "            abstract = \"\\n\".join(temp_lines).strip(\"\\n\")\n",
    "        else:\n",
    "            line_idx += 1\n",
    "    \n",
    "    docs.append((doc_id, title, abstract))\n",
    "    \n",
    "    p_docs = []\n",
    "    for (did, t, a) in docs:\n",
    "        if a is None:\n",
    "            a = \"\"\n",
    "        p_docs.append((did, t + \"\\n\" + a))\n",
    "    return p_docs\n"
   ]
  },
  {
   "cell_type": "code",
   "execution_count": 7,
   "metadata": {
    "deletable": false,
    "editable": false,
    "nbgrader": {
     "cell_type": "code",
     "checksum": "2f81930fcd89670b6e20e2255e1f2369",
     "grade": false,
     "grade_id": "cell-a1c43818e0d3fd79",
     "locked": true,
     "schema_version": 3,
     "solution": false,
     "task": false
    }
   },
   "outputs": [],
   "source": [
    "##### Function check\n",
    "docs = read_cacm_docs()\n",
    "\n",
    "assert isinstance(docs, list)\n",
    "assert len(docs) == 3204, \"There should be exactly 3204 documents\"\n",
    "\n",
    "unzipped_docs = list(zip(*docs))\n",
    "assert np.sum(np.array(list(map(int,unzipped_docs[0])))) == 5134410\n",
    "\n",
    "##### "
   ]
  },
  {
   "cell_type": "markdown",
   "metadata": {
    "deletable": false,
    "editable": false,
    "nbgrader": {
     "cell_type": "markdown",
     "checksum": "25fd3cfaf2137c56002b850699b3c9d3",
     "grade": false,
     "grade_id": "cell-5ed2ddc91f73c60e",
     "locked": true,
     "schema_version": 3,
     "solution": false,
     "task": false
    }
   },
   "source": [
    "---\n",
    "### 1.2 Read the CACM queries\n",
    "\n",
    "Next, let us read the queries. They are formatted similarly:"
   ]
  },
  {
   "cell_type": "code",
   "execution_count": 8,
   "metadata": {
    "deletable": false,
    "editable": false,
    "nbgrader": {
     "cell_type": "code",
     "checksum": "5d26c0908e758acb9968b84056b1060a",
     "grade": false,
     "grade_id": "cell-5c7e8e7c4fc2757f",
     "locked": true,
     "schema_version": 3,
     "solution": false,
     "task": false
    }
   },
   "outputs": [
    {
     "name": "stdout",
     "output_type": "stream",
     "text": [
      ".I 1\r\n",
      ".W\r\n",
      " What articles exist which deal with TSS (Time Sharing System), an\r\n",
      "operating system for IBM computers?\r\n",
      ".N\r\n",
      " 1. Richard Alexander, Comp Serv, Langmuir Lab (TSS)\r\n",
      " \r\n",
      ".I 2\r\n",
      ".W\r\n",
      " I am interested in articles written either by Prieve or Udo Pooch\r\n",
      ".A\r\n",
      "Prieve, B.\r\n",
      "Pooch, U.\r\n",
      ".N\r\n",
      " 2. Richard Alexander, Comp Serv, Langmuir Lab (author = Pooch or Prieve)\r\n"
     ]
    }
   ],
   "source": [
    "##### The first 15 lines of 'query.text' has 2 queries\n",
    "# We are interested only in 2 fields. \n",
    "# 1. the '.I' - the query id\n",
    "# 2. the '.W' - the query\n",
    "!head -15 ./datasets/query.text\n",
    "#####"
   ]
  },
  {
   "cell_type": "markdown",
   "metadata": {
    "deletable": false,
    "editable": false,
    "nbgrader": {
     "cell_type": "markdown",
     "checksum": "8f19f311a660f30e3f86cb0f7037d54a",
     "grade": false,
     "grade_id": "cell-88e293507d2dcef6",
     "locked": true,
     "schema_version": 3,
     "solution": false,
     "task": false
    }
   },
   "source": [
    "---\n",
    "\n",
    "The following function reads the `query.text` file:"
   ]
  },
  {
   "cell_type": "code",
   "execution_count": 9,
   "metadata": {
    "deletable": false,
    "editable": false,
    "nbgrader": {
     "cell_type": "code",
     "checksum": "e3fbb193211007672849487f5cff1664",
     "grade": false,
     "grade_id": "cell-433e3ad5d0e2572a",
     "locked": true,
     "schema_version": 3,
     "solution": false,
     "task": false
    }
   },
   "outputs": [],
   "source": [
    "def read_queries(root_folder = \"./datasets/\"):\n",
    "    \"\"\"\n",
    "        Reads in the CACM queries. The dataset is assumed to be in the folder \"./datasets/\" by default\n",
    "        Returns: A list of 2-tuples: (query_id, query)\n",
    "    \"\"\"\n",
    "    with open(os.path.join(root_folder, \"query.text\")) as reader:\n",
    "        lines = reader.readlines()\n",
    "    \n",
    "    query_id, query = None, None\n",
    "    \n",
    "    queries = []\n",
    "    line_idx = 0\n",
    "    while line_idx < len(lines):\n",
    "        line = lines[line_idx]\n",
    "        if line.startswith(\".I\"):\n",
    "            if query_id is not None:\n",
    "                queries.append((query_id, query))\n",
    "                query_id, query = None, None\n",
    "    \n",
    "            query_id = line.split()[-1]\n",
    "            line_idx += 1\n",
    "        elif line.startswith(\".W\"):\n",
    "            # start at next line\n",
    "            line_idx += 1\n",
    "            temp_lines = []\n",
    "            # read till next '.'\n",
    "            while not lines[line_idx].startswith(\".\"):\n",
    "                temp_lines.append(lines[line_idx].strip(\"\\n\"))\n",
    "                line_idx += 1\n",
    "            query = \"\\n\".join(temp_lines).strip(\"\\n\")\n",
    "        else:\n",
    "            line_idx += 1\n",
    "    \n",
    "    queries.append((query_id, query))\n",
    "    return queries\n"
   ]
  },
  {
   "cell_type": "code",
   "execution_count": 10,
   "metadata": {
    "deletable": false,
    "editable": false,
    "nbgrader": {
     "cell_type": "code",
     "checksum": "a897b9771b54f447be3418d7246fc4a0",
     "grade": false,
     "grade_id": "cell-6ec540abce66c598",
     "locked": true,
     "schema_version": 3,
     "solution": false,
     "task": false
    }
   },
   "outputs": [],
   "source": [
    "##### Function check\n",
    "queries = read_queries()\n",
    "\n",
    "assert isinstance(queries, list)\n",
    "assert len(queries) == 64 and all([q[1] is not None for q in queries]), \"There should be exactly 64 queries\"\n",
    "\n",
    "unzipped_queries = list(zip(*queries))\n",
    "assert np.sum(np.array(list(map(int,unzipped_queries[0])))) == 2080\n",
    "\n",
    "##### "
   ]
  },
  {
   "cell_type": "markdown",
   "metadata": {
    "deletable": false,
    "editable": false,
    "nbgrader": {
     "cell_type": "markdown",
     "checksum": "a300c41912ac63b239070b4c15c9f5c5",
     "grade": false,
     "grade_id": "cell-1c31569491d7b782",
     "locked": true,
     "schema_version": 3,
     "solution": false,
     "task": false
    }
   },
   "source": [
    "---\n",
    "### 1.3 Read the stop words\n",
    "\n",
    "We use the common words stored in `common_words`:"
   ]
  },
  {
   "cell_type": "code",
   "execution_count": 11,
   "metadata": {
    "deletable": false,
    "editable": false,
    "nbgrader": {
     "cell_type": "code",
     "checksum": "1ad6f5bae6a792504c1c8513ae5751ad",
     "grade": false,
     "grade_id": "cell-34bdb63461418a96",
     "locked": true,
     "schema_version": 3,
     "solution": false,
     "task": false
    }
   },
   "outputs": [
    {
     "name": "stdout",
     "output_type": "stream",
     "text": [
      "a\r\n",
      "about\r\n",
      "above\r\n",
      "accordingly\r\n",
      "across\r\n",
      "after\r\n",
      "afterwards\r\n",
      "again\r\n",
      "against\r\n",
      "all\r\n"
     ]
    }
   ],
   "source": [
    "##### Read the stop words file \n",
    "!head ./datasets/common_words\n",
    "##### Read the README file "
   ]
  },
  {
   "cell_type": "markdown",
   "metadata": {
    "deletable": false,
    "editable": false,
    "nbgrader": {
     "cell_type": "markdown",
     "checksum": "6d0fe612e770213b6397c2179b07a966",
     "grade": false,
     "grade_id": "cell-4744bde0338895d8",
     "locked": true,
     "schema_version": 3,
     "solution": false,
     "task": false
    }
   },
   "source": [
    "---\n",
    "\n",
    "The following function reads the `common_words` file (For better coverage, we try to keep them in lowercase):"
   ]
  },
  {
   "cell_type": "code",
   "execution_count": 12,
   "metadata": {
    "deletable": false,
    "editable": false,
    "nbgrader": {
     "cell_type": "code",
     "checksum": "9409713fd26eb0c33587e190638997c4",
     "grade": false,
     "grade_id": "cell-7357aa40f64e5bcb",
     "locked": true,
     "schema_version": 3,
     "solution": false,
     "task": false
    }
   },
   "outputs": [],
   "source": [
    "def load_stopwords(root_folder = \"./datasets/\"):\n",
    "    \"\"\"\n",
    "        Loads the stopwords. The dataset is assumed to be in the folder \"./datasets/\" by default\n",
    "        Output: A set of stopwords\n",
    "    \"\"\"\n",
    "    with open(os.path.join(root_folder, \"common_words\")) as reader:\n",
    "        lines = reader.readlines()\n",
    "    stopwords = set([l.strip().lower() for l in lines])\n",
    "    return stopwords\n"
   ]
  },
  {
   "cell_type": "code",
   "execution_count": 13,
   "metadata": {
    "deletable": false,
    "editable": false,
    "nbgrader": {
     "cell_type": "code",
     "checksum": "f1c8153c3c38133bc2db6e7b076ad470",
     "grade": false,
     "grade_id": "cell-2ca3ac162004de97",
     "locked": true,
     "schema_version": 3,
     "solution": false,
     "task": false
    }
   },
   "outputs": [],
   "source": [
    "##### Function check\n",
    "stopwords = load_stopwords()\n",
    "\n",
    "assert isinstance(stopwords, set)\n",
    "assert len(stopwords) == 428, \"There should be exactly 428 stop words\"\n",
    "\n",
    "assert np.sum(np.array(list(map(len,stopwords)))) == 2234\n",
    "\n",
    "##### \n"
   ]
  },
  {
   "cell_type": "markdown",
   "metadata": {
    "deletable": false,
    "editable": false,
    "nbgrader": {
     "cell_type": "markdown",
     "checksum": "92c1191e9e7291dcf0d70dc67b907a65",
     "grade": false,
     "grade_id": "cell-134b72872f4300cb",
     "locked": true,
     "schema_version": 3,
     "solution": false,
     "task": false
    }
   },
   "source": [
    "---\n",
    "### 1.4 Tokenization (3 points)\n",
    "\n",
    "We can now write some basic text processing functions. \n",
    "A first step is to tokenize the text. \n",
    "\n",
    "**Note**: Use the  `WordPunctTokenizer` available in the `nltk` library:"
   ]
  },
  {
   "cell_type": "code",
   "execution_count": 14,
   "metadata": {
    "deletable": false,
    "nbgrader": {
     "cell_type": "code",
     "checksum": "3f5564d3c75bf22fbf832b3a9b938f37",
     "grade": false,
     "grade_id": "cell-322be4c9499bdc4b",
     "locked": false,
     "schema_version": 3,
     "solution": true,
     "task": false
    }
   },
   "outputs": [],
   "source": [
    "# TODO: Implement this! (4 points)\n",
    "def tokenize(text):\n",
    "    \"\"\"\n",
    "        Tokenizes the input text. Use the WordPunctTokenizer\n",
    "        Input: text - a string\n",
    "        Output: a list of tokens\n",
    "    \"\"\"\n",
    "    \n",
    "    tk = nltk.WordPunctTokenizer()\n",
    "    \n",
    "    return tk.tokenize(text) "
   ]
  },
  {
   "cell_type": "code",
   "execution_count": 15,
   "metadata": {
    "deletable": false,
    "editable": false,
    "nbgrader": {
     "cell_type": "code",
     "checksum": "e15af22c4d8ae0a3f9dac43bef7097ec",
     "grade": true,
     "grade_id": "cell-7fbf48bf7541a622",
     "locked": true,
     "points": 3,
     "schema_version": 3,
     "solution": false,
     "task": false
    }
   },
   "outputs": [
    {
     "name": "stdout",
     "output_type": "stream",
     "text": [
      "['the', 'quick', 'brown', 'fox', 'jumps', 'over', 'the', 'lazy', 'dog']\n"
     ]
    }
   ],
   "source": [
    "##### Function check\n",
    "text = \"the quick brown fox jumps over the lazy dog\"\n",
    "tokens = tokenize(text)\n",
    "\n",
    "assert isinstance(tokens, list)\n",
    "assert len(tokens) == 9\n",
    "\n",
    "print(tokens)\n",
    "# output: ['the', 'quick', 'brown', 'fox', 'jumps', 'over', 'the', 'lazy', 'dog']\n",
    "#####"
   ]
  },
  {
   "cell_type": "markdown",
   "metadata": {
    "deletable": false,
    "editable": false,
    "nbgrader": {
     "cell_type": "markdown",
     "checksum": "34210618bff4cb47aad2f03cb4b9854c",
     "grade": false,
     "grade_id": "cell-fd1b98ae61b697ca",
     "locked": true,
     "schema_version": 3,
     "solution": false,
     "task": false
    }
   },
   "source": [
    "---\n",
    "### 1.5 Stemming (2 points)\n",
    "\n",
    "Write a function to stem tokens. \n",
    "Again, you can use the nltk library for this:"
   ]
  },
  {
   "cell_type": "code",
   "execution_count": 16,
   "metadata": {
    "deletable": false,
    "nbgrader": {
     "cell_type": "code",
     "checksum": "1c4a6aa979d66158c7b6b992af43293a",
     "grade": false,
     "grade_id": "cell-e3f6c8e3f874b28d",
     "locked": false,
     "schema_version": 3,
     "solution": true,
     "task": false
    }
   },
   "outputs": [],
   "source": [
    "# TODO: Implement this! (3 points)\n",
    "def stem_token(token):\n",
    "    \"\"\"\n",
    "        Stems the given token using the PorterStemmer from the nltk library\n",
    "        Input: a single token\n",
    "        Output: the stem of the token\n",
    "    \"\"\"\n",
    "    stemmer = nltk.PorterStemmer()\n",
    "    \n",
    "    return stemmer.stem(token)"
   ]
  },
  {
   "cell_type": "code",
   "execution_count": 17,
   "metadata": {
    "deletable": false,
    "editable": false,
    "nbgrader": {
     "cell_type": "code",
     "checksum": "9363b4f09b556d424d9c895d4ab57b1c",
     "grade": true,
     "grade_id": "cell-cd6863e6ee6ed205",
     "locked": true,
     "points": 2,
     "schema_version": 3,
     "solution": false,
     "task": false
    }
   },
   "outputs": [],
   "source": [
    "##### Function check\n",
    "\n",
    "assert stem_token('owned') == 'own'\n",
    "assert stem_token('itemization') == 'item'\n",
    "#####"
   ]
  },
  {
   "cell_type": "markdown",
   "metadata": {
    "deletable": false,
    "editable": false,
    "nbgrader": {
     "cell_type": "markdown",
     "checksum": "0b311d014146da6afa1d39542fab9869",
     "grade": false,
     "grade_id": "cell-47c9f90498699110",
     "locked": true,
     "schema_version": 3,
     "solution": false,
     "task": false
    }
   },
   "source": [
    "---\n",
    "### 1.6 Summary\n",
    "\n",
    "The following function puts it all together. Given an input string, this functions tokenizes and processes it according to the flags that you set."
   ]
  },
  {
   "cell_type": "code",
   "execution_count": 18,
   "metadata": {
    "deletable": false,
    "editable": false,
    "nbgrader": {
     "cell_type": "code",
     "checksum": "2ff2d215ee8e0039c5a91fd3de12e6bd",
     "grade": false,
     "grade_id": "cell-dd0d3f46b30801da",
     "locked": true,
     "schema_version": 3,
     "solution": false,
     "task": false
    }
   },
   "outputs": [],
   "source": [
    "#### Putting it all together\n",
    "def process_text(text, stem=False, remove_stopwords=False, lowercase_text=False):\n",
    "    \n",
    "    tokens = []\n",
    "    for token in tokenize(text):\n",
    "        if remove_stopwords and token.lower() in stopwords:\n",
    "            continue\n",
    "        if stem:\n",
    "            token = stem_token(token)\n",
    "        if lowercase_text:\n",
    "            token = token.lower()\n",
    "        tokens.append(token)\n",
    "\n",
    "    return tokens\n",
    "#### "
   ]
  },
  {
   "cell_type": "markdown",
   "metadata": {
    "deletable": false,
    "editable": false,
    "nbgrader": {
     "cell_type": "markdown",
     "checksum": "02d433b18eb43654fa4306a7bf55b190",
     "grade": false,
     "grade_id": "cell-8d885bfd2edd43ae",
     "locked": true,
     "schema_version": 3,
     "solution": false,
     "task": false
    }
   },
   "source": [
    "---\n",
    "\n",
    "Let's create two sets of preprocessed documents.\n",
    "We can process the documents and queries according to these two configurations:"
   ]
  },
  {
   "cell_type": "code",
   "execution_count": 19,
   "metadata": {
    "deletable": false,
    "editable": false,
    "nbgrader": {
     "cell_type": "code",
     "checksum": "dbe4ca667be6842fdcf512fbcad50c7f",
     "grade": false,
     "grade_id": "cell-d427365ee0fb21d8",
     "locked": true,
     "schema_version": 3,
     "solution": false,
     "task": false
    }
   },
   "outputs": [],
   "source": [
    "# In this configuration:\n",
    "# Don't preprocess the text, except to tokenize \n",
    "config_1 = {\n",
    "  \"stem\": False,\n",
    "  \"remove_stopwords\" : False,\n",
    "  \"lowercase_text\": True\n",
    "} \n",
    "\n",
    "\n",
    "# In this configuration:\n",
    "# Preprocess the text, stem and remove stopwords\n",
    "config_2 = {\n",
    "  \"stem\": True,\n",
    "  \"remove_stopwords\" : True,\n",
    "  \"lowercase_text\": True, \n",
    "} \n",
    "\n",
    "####\n",
    "doc_repr_1 = []\n",
    "doc_repr_2 = []\n",
    "for (doc_id, document) in docs:\n",
    "    doc_repr_1.append((doc_id, process_text(document, **config_1)))\n",
    "    doc_repr_2.append((doc_id, process_text(document, **config_2)))\n",
    "\n",
    "####"
   ]
  },
  {
   "cell_type": "markdown",
   "metadata": {
    "deletable": false,
    "editable": false,
    "nbgrader": {
     "cell_type": "markdown",
     "checksum": "b60589aac19e80941d860d9b3f1e9a16",
     "grade": false,
     "grade_id": "cell-b1c102db61ae7495",
     "locked": true,
     "schema_version": 3,
     "solution": false,
     "task": false
    }
   },
   "source": [
    "--- \n",
    "\n",
    "## Section 2: Indexing (10 points)<a class=\"anchor\" id=\"indexing\"></a>\n",
    "\n",
    "[Back to Part 1](#part1)\n",
    "\n",
    "\n",
    "\n",
    "A retrieval function usually takes in a query document pair, and scores a query against a document.  Our document set is quite small - just a few thousand documents. However, consider a web-scale dataset with a few million documents. In such a scenario, it would become infeasible to score every query and document pair. In such a case, we can build an inverted index. From Wikipedia:\n",
    "\n",
    "> ... , an inverted index (also referred to as a postings file or inverted file) is a database index storing a mapping from content, such as words or numbers, to its locations in a table, .... The purpose of an inverted index is to allow fast full-text searches, at a cost of increased processing when a document is added to the database. ...\n",
    "\n",
    "\n",
    "Consider a simple inverted index, which maps from word to document. This can improve the performance of a retrieval system significantly. In this assignment, we consider a *simple* inverted index, which maps a word to a set of documents. In practice, however, more complex indices might be used.  \n"
   ]
  },
  {
   "cell_type": "markdown",
   "metadata": {
    "deletable": false,
    "editable": false,
    "nbgrader": {
     "cell_type": "markdown",
     "checksum": "710fd943f45523ac36fcb887cc0d4d39",
     "grade": false,
     "grade_id": "cell-fa373192c1b7bb95",
     "locked": true,
     "schema_version": 3,
     "solution": false,
     "task": false
    }
   },
   "source": [
    "### 2.1 Term Frequency-index (10 points)\n",
    "In this assignment, we will be using an index created in memory since our dataset is tiny. To get started, build a simple index that maps each `token` to a list of `(doc_id, count)` where `count` is the count of the `token` in `doc_id`.\n",
    "For consistency, build this index using a python dictionary.\n",
    "    \n",
    "Now, implement a function to build an index:"
   ]
  },
  {
   "cell_type": "code",
   "execution_count": 20,
   "metadata": {
    "deletable": false,
    "nbgrader": {
     "cell_type": "code",
     "checksum": "d4e8c6b658c469379d5fe511de05b536",
     "grade": false,
     "grade_id": "cell-077599b87e953209",
     "locked": false,
     "schema_version": 3,
     "solution": true,
     "task": false
    }
   },
   "outputs": [],
   "source": [
    "from collections import Counter, defaultdict\n",
    "\n",
    "# TODO: Implement this! (10 points)\n",
    "def build_tf_index(documents):\n",
    "    \"\"\"\n",
    "        Build an inverted index (with counts). The output is a dictionary which takes in a token\n",
    "        and returns a list of (doc_id, count) where 'count' is the count of the 'token' in 'doc_id'\n",
    "        Input: a list of documents - (doc_id, tokens) \n",
    "        Output: An inverted index implemented within a pyhton dictionary: [token] -> [(doc_id, token_count)]\n",
    "    \"\"\"\n",
    "    # YOUR CODE HERE\n",
    "    \n",
    "    # retrieve all unique words and create tuples (doc_id, {word: count})\n",
    "    words = list(set([word for document in documents for word in document[1]]))\n",
    "    document = [(doc[0], Counter(doc[1])) for doc in documents] \n",
    "    \n",
    "    inv_index = defaultdict(list)\n",
    "    \n",
    "    for word in words:\n",
    "        # count is a dictionary with tokens as keys and the tfs as values\n",
    "        # only append if a word is present in count dict\n",
    "        inv_index[word].append([(doc_id, count[word]) for doc_id, count in document if word in count])\n",
    "            \n",
    "    return inv_index"
   ]
  },
  {
   "cell_type": "markdown",
   "metadata": {
    "deletable": false,
    "editable": false,
    "nbgrader": {
     "cell_type": "markdown",
     "checksum": "15e7041b4323d2a290322de538ff7670",
     "grade": false,
     "grade_id": "cell-093aebfa504f96f2",
     "locked": true,
     "schema_version": 3,
     "solution": false,
     "task": false
    }
   },
   "source": [
    "---\n",
    "Now we can build indexed documents and preprocess the queries based on the two configurations:"
   ]
  },
  {
   "cell_type": "code",
   "execution_count": 21,
   "metadata": {
    "deletable": false,
    "editable": false,
    "nbgrader": {
     "cell_type": "code",
     "checksum": "e27540c1d8d77a3779a05f557f3f40c6",
     "grade": false,
     "grade_id": "cell-b2ff1676348b90a8",
     "locked": true,
     "schema_version": 3,
     "solution": false,
     "task": false
    }
   },
   "outputs": [],
   "source": [
    "#### Indexed documents based on the two configs\n",
    "\n",
    "# Create the 2 indices\n",
    "tf_index_1 = build_tf_index(doc_repr_1)\n",
    "tf_index_2 = build_tf_index(doc_repr_2)\n",
    "\n",
    "# This function returns the tf_index of the corresponding config\n",
    "def get_index(index_set):\n",
    "    assert index_set in {1, 2}\n",
    "    return {\n",
    "        1: tf_index_1,\n",
    "        2: tf_index_2\n",
    "    }[index_set]\n",
    "\n",
    "####\n",
    "#### Preprocessed query based on the two configs\n",
    "\n",
    "# This function preprocesses the text given the index set, according to the specified config\n",
    "def preprocess_query(text, index_set):\n",
    "    assert index_set in {1, 2}\n",
    "    if index_set == 1:\n",
    "        return process_text(text, **config_1)\n",
    "    elif index_set == 2:\n",
    "        return process_text(text, **config_2)\n",
    "\n",
    "#### "
   ]
  },
  {
   "cell_type": "code",
   "execution_count": 22,
   "metadata": {
    "deletable": false,
    "editable": false,
    "nbgrader": {
     "cell_type": "code",
     "checksum": "f0cbc8703e1248cd6edf03f9019b69db",
     "grade": true,
     "grade_id": "cell-fc7c7232d5d2ee46",
     "locked": true,
     "points": 5,
     "schema_version": 3,
     "solution": false,
     "task": false
    }
   },
   "outputs": [
    {
     "name": "stdout",
     "output_type": "stream",
     "text": [
      "sample tf index for computer: [[('4', 1), ('7', 1), ('10', 1), ('13', 1), ('19', 1), ('22', 1), ('23', 1), ('37', 1), ('40', 3), ('41', 1), ('44', 1), ('48', 1), ('57', 1), ('58', 2), ('63', 2), ('68', 1), ('71', 3), ('80', 1), ('82', 1), ('90', 1), ('92', 1), ('93', 3), ('95', 1), ('96', 2), ('104', 1), ('106', 2), ('123', 1), ('124', 1), ('143', 1), ('144', 1), ('146', 1), ('173', 1), ('175', 1), ('185', 1), ('188', 1), ('192', 1), ('202', 1), ('217', 1), ('218', 1), ('236', 2), ('237', 1), ('242', 1), ('251', 1), ('252', 2), ('254', 1), ('274', 1), ('276', 1), ('278', 3), ('282', 1), ('300', 1), ('303', 1), ('320', 1), ('322', 4), ('323', 1), ('331', 1), ('361', 1), ('409', 1), ('417', 5), ('436', 1), ('439', 1), ('461', 1), ('462', 1), ('464', 2), ('482', 1), ('488', 1), ('489', 1), ('491', 1), ('495', 2), ('496', 1), ('525', 1), ('530', 1), ('531', 1), ('557', 1), ('558', 2), ('561', 1), ('585', 1), ('595', 2), ('605', 1), ('617', 1), ('619', 1), ('644', 2), ('671', 1), ('675', 1), ('678', 6), ('681', 1), ('695', 2), ('698', 3), ('725', 1), ('726', 1), ('728', 3), ('756', 1), ('758', 2), ('794', 1), ('796', 3), ('799', 1), ('824', 1), ('825', 1), ('828', 1), ('829', 1), ('851', 1), ('854', 1), ('858', 1), ('859', 1), ('860', 1), ('865', 1), ('893', 1), ('931', 1), ('940', 3), ('962', 2), ('963', 2), ('964', 1), ('971', 1), ('972', 2), ('974', 1), ('997', 1), ('998', 1), ('1000', 1), ('1001', 3), ('1002', 1), ('1003', 5), ('1008', 2), ('1009', 1), ('1010', 1), ('1013', 1), ('1014', 2), ('1026', 1), ('1030', 4), ('1033', 1), ('1046', 1), ('1051', 1), ('1066', 5), ('1071', 4), ('1073', 1), ('1083', 2), ('1088', 2), ('1089', 1), ('1098', 2), ('1099', 3), ('1100', 1), ('1101', 1), ('1103', 1), ('1108', 2), ('1112', 1), ('1113', 2), ('1114', 1), ('1116', 2), ('1134', 1), ('1144', 3), ('1145', 1), ('1155', 1), ('1159', 2), ('1160', 1), ('1166', 1), ('1169', 2), ('1172', 5), ('1179', 1), ('1181', 1), ('1183', 2), ('1184', 1), ('1188', 5), ('1195', 1), ('1196', 2), ('1197', 1), ('1199', 2), ('1200', 1), ('1205', 1), ('1206', 1), ('1208', 1), ('1214', 2), ('1235', 1), ('1237', 1), ('1247', 2), ('1248', 1), ('1252', 1), ('1257', 1), ('1259', 1), ('1260', 2), ('1261', 1), ('1265', 1), ('1270', 2), ('1272', 2), ('1281', 3), ('1305', 2), ('1306', 3), ('1307', 2), ('1308', 1), ('1309', 2), ('1315', 2), ('1323', 1), ('1324', 1), ('1325', 3), ('1326', 2), ('1327', 3), ('1329', 1), ('1330', 1), ('1334', 1), ('1341', 2), ('1345', 1), ('1347', 1), ('1348', 1), ('1354', 2), ('1365', 1), ('1366', 6), ('1368', 1), ('1382', 1), ('1383', 2), ('1384', 3), ('1385', 5), ('1388', 1), ('1391', 1), ('1394', 2), ('1409', 4), ('1412', 1), ('1427', 2), ('1428', 2), ('1429', 1), ('1433', 2), ('1435', 2), ('1445', 3), ('1453', 1), ('1454', 2), ('1468', 1), ('1471', 1), ('1473', 1), ('1482', 1), ('1484', 1), ('1487', 2), ('1496', 2), ('1503', 3), ('1506', 2), ('1515', 1), ('1516', 1), ('1517', 2), ('1518', 1), ('1525', 2), ('1526', 1), ('1528', 1), ('1533', 1), ('1542', 1), ('1543', 7), ('1545', 1), ('1550', 1), ('1551', 1), ('1553', 1), ('1554', 2), ('1566', 1), ('1571', 1), ('1590', 2), ('1591', 2), ('1592', 1), ('1595', 2), ('1602', 3), ('1605', 1), ('1608', 1), ('1609', 1), ('1610', 1), ('1615', 1), ('1616', 1), ('1621', 2), ('1627', 1), ('1628', 1), ('1630', 1), ('1631', 1), ('1641', 1), ('1642', 2), ('1652', 2), ('1654', 5), ('1658', 1), ('1659', 2), ('1664', 2), ('1670', 1), ('1671', 1), ('1677', 1), ('1678', 2), ('1680', 4), ('1682', 1), ('1686', 3), ('1691', 1), ('1697', 2), ('1698', 1), ('1700', 2), ('1703', 1), ('1711', 1), ('1720', 1), ('1723', 1), ('1726', 1), ('1735', 4), ('1741', 3), ('1742', 3), ('1745', 1), ('1747', 2), ('1750', 1), ('1751', 1), ('1754', 2), ('1764', 3), ('1769', 2), ('1771', 9), ('1792', 1), ('1805', 1), ('1808', 1), ('1809', 3), ('1826', 1), ('1829', 2), ('1834', 3), ('1843', 2), ('1844', 4), ('1845', 2), ('1846', 2), ('1854', 1), ('1868', 1), ('1870', 1), ('1885', 2), ('1889', 1), ('1890', 2), ('1891', 2), ('1892', 1), ('1901', 2), ('1902', 1), ('1905', 1), ('1906', 1), ('1908', 3), ('1912', 1), ('1916', 1), ('1926', 1), ('1927', 2), ('1929', 2), ('1933', 1), ('1936', 1), ('1939', 2), ('1945', 1), ('1946', 1), ('1949', 1), ('1951', 4), ('1962', 2), ('1976', 1), ('1978', 1), ('1997', 1), ('2003', 4), ('2004', 4), ('2016', 1), ('2020', 1), ('2034', 1), ('2036', 1), ('2053', 1), ('2054', 4), ('2062', 4), ('2065', 1), ('2078', 1), ('2079', 1), ('2091', 1), ('2095', 2), ('2096', 2), ('2105', 5), ('2106', 2), ('2113', 1), ('2130', 1), ('2144', 1), ('2147', 1), ('2151', 1), ('2152', 1), ('2153', 2), ('2163', 1), ('2180', 2), ('2181', 6), ('2186', 1), ('2187', 4), ('2188', 2), ('2189', 1), ('2194', 2), ('2196', 5), ('2197', 2), ('2201', 2), ('2209', 2), ('2211', 3), ('2215', 1), ('2220', 2), ('2221', 1), ('2232', 1), ('2233', 1), ('2245', 1), ('2249', 2), ('2250', 1), ('2255', 1), ('2261', 1), ('2262', 2), ('2267', 1), ('2268', 2), ('2273', 1), ('2276', 1), ('2277', 1), ('2285', 2), ('2286', 1), ('2287', 1), ('2297', 1), ('2300', 3), ('2303', 1), ('2304', 2), ('2306', 1), ('2308', 2), ('2309', 2), ('2310', 4), ('2317', 1), ('2318', 3), ('2319', 1), ('2321', 1), ('2322', 2), ('2325', 1), ('2326', 2), ('2329', 1), ('2339', 2), ('2343', 1), ('2357', 1), ('2367', 2), ('2368', 2), ('2370', 2), ('2371', 2), ('2377', 1), ('2378', 3), ('2379', 1), ('2383', 3), ('2387', 1), ('2389', 1), ('2390', 4), ('2396', 1), ('2402', 1), ('2406', 2), ('2423', 1), ('2426', 1), ('2447', 1), ('2453', 2), ('2478', 1), ('2479', 2), ('2481', 1), ('2485', 5), ('2486', 2), ('2490', 1), ('2494', 3), ('2496', 1), ('2501', 2), ('2502', 1), ('2503', 1), ('2504', 1), ('2516', 1), ('2517', 1), ('2519', 2), ('2522', 2), ('2527', 1), ('2535', 7), ('2536', 1), ('2538', 3), ('2541', 1), ('2547', 2), ('2553', 1), ('2555', 1), ('2560', 2), ('2569', 2), ('2573', 1), ('2580', 4), ('2589', 1), ('2592', 1), ('2593', 3), ('2598', 2), ('2620', 1), ('2621', 1), ('2622', 3), ('2624', 3), ('2625', 1), ('2631', 1), ('2634', 1), ('2643', 1), ('2645', 1), ('2646', 1), ('2663', 1), ('2667', 1), ('2674', 2), ('2675', 1), ('2687', 1), ('2710', 1), ('2715', 1), ('2718', 1), ('2727', 1), ('2735', 1), ('2739', 2), ('2742', 1), ('2751', 2), ('2753', 1), ('2755', 1), ('2771', 1), ('2776', 2), ('2785', 2), ('2802', 1), ('2812', 5), ('2813', 2), ('2818', 1), ('2820', 2), ('2823', 3), ('2825', 1), ('2828', 1), ('2829', 1), ('2841', 1), ('2847', 1), ('2849', 2), ('2852', 5), ('2856', 1), ('2859', 1), ('2861', 1), ('2869', 1), ('2870', 1), ('2871', 1), ('2872', 1), ('2875', 1), ('2878', 2), ('2879', 1), ('2881', 2), ('2893', 3), ('2894', 3), ('2899', 5), ('2902', 1), ('2913', 1), ('2918', 1), ('2919', 2), ('2924', 2), ('2930', 3), ('2935', 1), ('2947', 1), ('2948', 2), ('2949', 4), ('2951', 1), ('2959', 1), ('2962', 2), ('2966', 1), ('2967', 2), ('2969', 4), ('2971', 1), ('2973', 1), ('2977', 2), ('2984', 1), ('2985', 4), ('2988', 2), ('2996', 1), ('2999', 2), ('3003', 2), ('3010', 3), ('3012', 1), ('3019', 1), ('3022', 2), ('3024', 3), ('3026', 2), ('3027', 1), ('3028', 2), ('3029', 1), ('3032', 2), ('3036', 2), ('3038', 1), ('3046', 1), ('3049', 1), ('3050', 4), ('3052', 1), ('3066', 1), ('3068', 1), ('3070', 2), ('3072', 2), ('3076', 1), ('3077', 1), ('3078', 4), ('3088', 1), ('3090', 1), ('3091', 2), ('3097', 1), ('3098', 1), ('3107', 1), ('3112', 1), ('3116', 1), ('3117', 5), ('3122', 1), ('3123', 1), ('3129', 1), ('3130', 6), ('3136', 4), ('3140', 1), ('3142', 1), ('3150', 1), ('3153', 1), ('3154', 1), ('3160', 4), ('3161', 1), ('3165', 1), ('3173', 1), ('3176', 1), ('3182', 1), ('3192', 1), ('3193', 1), ('3195', 1), ('3197', 1), ('3200', 1), ('3202', 2), ('3204', 2)]]\n",
      "sample tf index for examples: [[('111', 1), ('320', 1), ('644', 1), ('691', 1), ('727', 1), ('848', 1), ('892', 1), ('893', 1), ('1049', 1), ('1051', 1), ('1154', 1), ('1188', 1), ('1196', 1), ('1259', 1), ('1267', 1), ('1288', 1), ('1348', 1), ('1358', 1), ('1369', 1), ('1386', 1), ('1392', 1), ('1456', 1), ('1470', 1), ('1485', 1), ('1505', 1), ('1524', 1), ('1588', 1), ('1614', 1), ('1624', 1), ('1651', 1), ('1673', 1), ('1681', 1), ('1739', 1), ('1743', 1), ('1747', 1), ('1787', 1), ('1806', 1), ('1827', 1), ('1834', 1), ('1854', 1), ('1855', 1), ('1856', 1), ('1860', 1), ('1890', 1), ('1929', 1), ('1977', 1), ('1989', 1), ('2060', 1), ('2092', 1), ('2094', 1), ('2113', 1), ('2125', 1), ('2152', 1), ('2202', 1), ('2204', 1), ('2208', 1), ('2254', 1), ('2338', 1), ('2356', 2), ('2367', 1), ('2396', 2), ('2436', 1), ('2457', 1), ('2514', 1), ('2544', 1), ('2546', 1), ('2597', 1), ('2604', 1), ('2645', 1), ('2646', 1), ('2701', 1), ('2720', 1), ('2722', 2), ('2738', 1), ('2749', 1), ('2816', 1), ('2829', 1), ('2851', 1), ('2864', 1), ('2866', 1), ('2876', 1), ('2907', 1), ('2913', 1), ('2914', 1), ('2922', 1), ('2931', 1), ('2932', 1), ('2939', 1), ('2946', 1), ('2958', 1), ('2959', 1), ('2980', 1), ('2987', 1), ('3004', 1), ('3006', 1), ('3014', 1), ('3043', 1), ('3071', 1), ('3080', 2), ('3087', 2), ('3088', 1), ('3100', 2), ('3101', 1), ('3115', 1), ('3120', 1), ('3121', 1), ('3128', 1), ('3134', 1), ('3163', 1), ('3175', 1)]]\n"
     ]
    }
   ],
   "source": [
    "##### Function check\n",
    "\n",
    "assert isinstance(tf_index_1, dict)\n",
    "\n",
    "assert isinstance(tf_index_1['computer'], list)\n",
    "print('sample tf index for computer:', tf_index_1['computer'][:10])\n",
    "\n",
    "assert isinstance(tf_index_1['examples'], list)\n",
    "print('sample tf index for examples:', tf_index_1['examples'][:10])\n",
    "#### "
   ]
  },
  {
   "cell_type": "code",
   "execution_count": 23,
   "metadata": {
    "deletable": false,
    "editable": false,
    "nbgrader": {
     "cell_type": "code",
     "checksum": "d49b8ac36815d9a5cb4bed838ab53a50",
     "grade": true,
     "grade_id": "cell-ff06bd11204db250",
     "locked": true,
     "points": 5,
     "schema_version": 3,
     "solution": false,
     "task": false
    }
   },
   "outputs": [
    {
     "name": "stdout",
     "output_type": "stream",
     "text": [
      "sample tf index for computer: [[('4', 1), ('7', 1), ('10', 1), ('13', 1), ('19', 1), ('22', 1), ('23', 1), ('37', 1), ('40', 3), ('41', 1), ('44', 1), ('48', 1), ('57', 1), ('58', 2), ('63', 2), ('68', 1), ('71', 3), ('80', 1), ('82', 1), ('90', 1), ('92', 1), ('93', 3), ('95', 1), ('96', 2), ('104', 1), ('106', 2), ('123', 1), ('124', 1), ('143', 1), ('144', 1), ('146', 1), ('173', 1), ('175', 1), ('185', 1), ('188', 1), ('192', 1), ('202', 1), ('217', 1), ('218', 1), ('236', 2), ('237', 1), ('242', 1), ('251', 1), ('252', 2), ('254', 1), ('274', 1), ('276', 1), ('278', 3), ('282', 1), ('300', 1), ('303', 1), ('320', 1), ('322', 4), ('323', 1), ('331', 1), ('361', 1), ('409', 1), ('417', 5), ('436', 1), ('439', 1), ('461', 1), ('462', 1), ('464', 2), ('482', 1), ('488', 1), ('489', 1), ('491', 1), ('495', 2), ('496', 1), ('525', 1), ('530', 1), ('531', 1), ('557', 1), ('558', 2), ('561', 1), ('585', 1), ('595', 2), ('605', 1), ('617', 1), ('619', 1), ('644', 2), ('671', 1), ('675', 1), ('678', 6), ('681', 1), ('695', 2), ('698', 3), ('725', 1), ('726', 1), ('728', 3), ('756', 1), ('758', 2), ('794', 1), ('796', 3), ('799', 1), ('824', 1), ('825', 1), ('828', 1), ('829', 1), ('851', 1), ('854', 1), ('858', 1), ('859', 1), ('860', 1), ('865', 1), ('893', 1), ('931', 1), ('940', 3), ('962', 2), ('963', 2), ('964', 1), ('971', 1), ('972', 2), ('974', 1), ('997', 1), ('998', 1), ('1000', 1), ('1001', 3), ('1002', 1), ('1003', 5), ('1008', 2), ('1009', 1), ('1010', 1), ('1013', 1), ('1014', 2), ('1026', 1), ('1030', 4), ('1033', 1), ('1046', 1), ('1051', 1), ('1066', 5), ('1071', 4), ('1073', 1), ('1083', 2), ('1088', 2), ('1089', 1), ('1098', 2), ('1099', 3), ('1100', 1), ('1101', 1), ('1103', 1), ('1108', 2), ('1112', 1), ('1113', 2), ('1114', 1), ('1116', 2), ('1134', 1), ('1144', 3), ('1145', 1), ('1155', 1), ('1159', 2), ('1160', 1), ('1166', 1), ('1169', 2), ('1172', 5), ('1179', 1), ('1181', 1), ('1183', 2), ('1184', 1), ('1188', 5), ('1195', 1), ('1196', 2), ('1197', 1), ('1199', 2), ('1200', 1), ('1205', 1), ('1206', 1), ('1208', 1), ('1214', 2), ('1235', 1), ('1237', 1), ('1247', 2), ('1248', 1), ('1252', 1), ('1257', 1), ('1259', 1), ('1260', 2), ('1261', 1), ('1265', 1), ('1270', 2), ('1272', 2), ('1281', 3), ('1305', 2), ('1306', 3), ('1307', 2), ('1308', 1), ('1309', 2), ('1315', 2), ('1323', 1), ('1324', 1), ('1325', 3), ('1326', 2), ('1327', 3), ('1329', 1), ('1330', 1), ('1334', 1), ('1341', 2), ('1345', 1), ('1347', 1), ('1348', 1), ('1354', 2), ('1365', 1), ('1366', 6), ('1368', 1), ('1382', 1), ('1383', 2), ('1384', 3), ('1385', 5), ('1388', 1), ('1391', 1), ('1394', 2), ('1409', 4), ('1412', 1), ('1427', 2), ('1428', 2), ('1429', 1), ('1433', 2), ('1435', 2), ('1445', 3), ('1453', 1), ('1454', 2), ('1468', 1), ('1471', 1), ('1473', 1), ('1482', 1), ('1484', 1), ('1487', 2), ('1496', 2), ('1503', 3), ('1506', 2), ('1515', 1), ('1516', 1), ('1517', 2), ('1518', 1), ('1525', 2), ('1526', 1), ('1528', 1), ('1533', 1), ('1542', 1), ('1543', 7), ('1545', 1), ('1550', 1), ('1551', 1), ('1553', 1), ('1554', 2), ('1566', 1), ('1571', 1), ('1590', 2), ('1591', 2), ('1592', 1), ('1595', 2), ('1602', 3), ('1605', 1), ('1608', 1), ('1609', 1), ('1610', 1), ('1615', 1), ('1616', 1), ('1621', 2), ('1627', 1), ('1628', 1), ('1630', 1), ('1631', 1), ('1641', 1), ('1642', 2), ('1652', 2), ('1654', 5), ('1658', 1), ('1659', 2), ('1664', 2), ('1670', 1), ('1671', 1), ('1677', 1), ('1678', 2), ('1680', 4), ('1682', 1), ('1686', 3), ('1691', 1), ('1697', 2), ('1698', 1), ('1700', 2), ('1703', 1), ('1711', 1), ('1720', 1), ('1723', 1), ('1726', 1), ('1735', 4), ('1741', 3), ('1742', 3), ('1745', 1), ('1747', 2), ('1750', 1), ('1751', 1), ('1754', 2), ('1764', 3), ('1769', 2), ('1771', 9), ('1792', 1), ('1805', 1), ('1808', 1), ('1809', 3), ('1826', 1), ('1829', 2), ('1834', 3), ('1843', 2), ('1844', 4), ('1845', 2), ('1846', 2), ('1854', 1), ('1868', 1), ('1870', 1), ('1885', 2), ('1889', 1), ('1890', 2), ('1891', 2), ('1892', 1), ('1901', 2), ('1902', 1), ('1905', 1), ('1906', 1), ('1908', 3), ('1912', 1), ('1916', 1), ('1926', 1), ('1927', 2), ('1929', 2), ('1933', 1), ('1936', 1), ('1939', 2), ('1945', 1), ('1946', 1), ('1949', 1), ('1951', 4), ('1962', 2), ('1976', 1), ('1978', 1), ('1997', 1), ('2003', 4), ('2004', 4), ('2016', 1), ('2020', 1), ('2034', 1), ('2036', 1), ('2053', 1), ('2054', 4), ('2062', 4), ('2065', 1), ('2078', 1), ('2079', 1), ('2091', 1), ('2095', 2), ('2096', 2), ('2105', 5), ('2106', 2), ('2113', 1), ('2130', 1), ('2144', 1), ('2147', 1), ('2151', 1), ('2152', 1), ('2153', 2), ('2163', 1), ('2180', 2), ('2181', 6), ('2186', 1), ('2187', 4), ('2188', 2), ('2189', 1), ('2194', 2), ('2196', 5), ('2197', 2), ('2201', 2), ('2209', 2), ('2211', 3), ('2215', 1), ('2220', 2), ('2221', 1), ('2232', 1), ('2233', 1), ('2245', 1), ('2249', 2), ('2250', 1), ('2255', 1), ('2261', 1), ('2262', 2), ('2267', 1), ('2268', 2), ('2273', 1), ('2276', 1), ('2277', 1), ('2285', 2), ('2286', 1), ('2287', 1), ('2297', 1), ('2300', 3), ('2303', 1), ('2304', 2), ('2306', 1), ('2308', 2), ('2309', 2), ('2310', 4), ('2317', 1), ('2318', 3), ('2319', 1), ('2321', 1), ('2322', 2), ('2325', 1), ('2326', 2), ('2329', 1), ('2339', 2), ('2343', 1), ('2357', 1), ('2367', 2), ('2368', 2), ('2370', 2), ('2371', 2), ('2377', 1), ('2378', 3), ('2379', 1), ('2383', 3), ('2387', 1), ('2389', 1), ('2390', 4), ('2396', 1), ('2402', 1), ('2406', 2), ('2423', 1), ('2426', 1), ('2447', 1), ('2453', 2), ('2478', 1), ('2479', 2), ('2481', 1), ('2485', 5), ('2486', 2), ('2490', 1), ('2494', 3), ('2496', 1), ('2501', 2), ('2502', 1), ('2503', 1), ('2504', 1), ('2516', 1), ('2517', 1), ('2519', 2), ('2522', 2), ('2527', 1), ('2535', 7), ('2536', 1), ('2538', 3), ('2541', 1), ('2547', 2), ('2553', 1), ('2555', 1), ('2560', 2), ('2569', 2), ('2573', 1), ('2580', 4), ('2589', 1), ('2592', 1), ('2593', 3), ('2598', 2), ('2620', 1), ('2621', 1), ('2622', 3), ('2624', 3), ('2625', 1), ('2631', 1), ('2634', 1), ('2643', 1), ('2645', 1), ('2646', 1), ('2663', 1), ('2667', 1), ('2674', 2), ('2675', 1), ('2687', 1), ('2710', 1), ('2715', 1), ('2718', 1), ('2727', 1), ('2735', 1), ('2739', 2), ('2742', 1), ('2751', 2), ('2753', 1), ('2755', 1), ('2771', 1), ('2776', 2), ('2785', 2), ('2802', 1), ('2812', 5), ('2813', 2), ('2818', 1), ('2820', 2), ('2823', 3), ('2825', 1), ('2828', 1), ('2829', 1), ('2841', 1), ('2847', 1), ('2849', 2), ('2852', 5), ('2856', 1), ('2859', 1), ('2861', 1), ('2869', 1), ('2870', 1), ('2871', 1), ('2872', 1), ('2875', 1), ('2878', 2), ('2879', 1), ('2881', 2), ('2893', 3), ('2894', 3), ('2899', 5), ('2902', 1), ('2913', 1), ('2918', 1), ('2919', 2), ('2924', 2), ('2930', 3), ('2935', 1), ('2947', 1), ('2948', 2), ('2949', 4), ('2951', 1), ('2959', 1), ('2962', 2), ('2966', 1), ('2967', 2), ('2969', 4), ('2971', 1), ('2973', 1), ('2977', 2), ('2984', 1), ('2985', 4), ('2988', 2), ('2996', 1), ('2999', 2), ('3003', 2), ('3010', 3), ('3012', 1), ('3019', 1), ('3022', 2), ('3024', 3), ('3026', 2), ('3027', 1), ('3028', 2), ('3029', 1), ('3032', 2), ('3036', 2), ('3038', 1), ('3046', 1), ('3049', 1), ('3050', 4), ('3052', 1), ('3066', 1), ('3068', 1), ('3070', 2), ('3072', 2), ('3076', 1), ('3077', 1), ('3078', 4), ('3088', 1), ('3090', 1), ('3091', 2), ('3097', 1), ('3098', 1), ('3107', 1), ('3112', 1), ('3116', 1), ('3117', 5), ('3122', 1), ('3123', 1), ('3129', 1), ('3130', 6), ('3136', 4), ('3140', 1), ('3142', 1), ('3150', 1), ('3153', 1), ('3154', 1), ('3160', 4), ('3161', 1), ('3165', 1), ('3173', 1), ('3176', 1), ('3182', 1), ('3192', 1), ('3193', 1), ('3195', 1), ('3197', 1), ('3200', 1), ('3202', 2), ('3204', 2)]]\n",
      "sample tf index for examples: []\n"
     ]
    }
   ],
   "source": [
    "##### Function check\n",
    "\n",
    "assert isinstance(tf_index_2, dict)\n",
    "\n",
    "assert isinstance(tf_index_2['computer'], list)\n",
    "print('sample tf index for computer:', tf_index_1['computer'][:10])\n",
    "\n",
    "assert isinstance(tf_index_2['examples'], list)\n",
    "print('sample tf index for examples:', tf_index_2['examples'][:10])\n",
    "#### "
   ]
  },
  {
   "cell_type": "markdown",
   "metadata": {
    "deletable": false,
    "editable": false,
    "nbgrader": {
     "cell_type": "markdown",
     "checksum": "880b2ef3ca405f2af6e0667d2dc7a600",
     "grade": false,
     "grade_id": "cell-89eba71f04310291",
     "locked": true,
     "schema_version": 3,
     "solution": false,
     "task": false
    }
   },
   "source": [
    "\n",
    "---\n",
    "## Section 3: Ranking  (80 points) <a class=\"anchor\" id=\"ranking\"></a>\n",
    "\n",
    "[Back to Part 1](#part1)\n",
    "\n",
    "Now that we have cleaned and processed our dataset, we can start building simple IR systems. \n",
    "\n",
    "For now, we consider *simple* IR systems, which involve computing scores from the tokens present in the document/query. More advanced methods are covered in later assignments.\n",
    "\n",
    "We will implement the following methods in this section:\n",
    "- [Section 3.1: Bag of Words](#bow) (10 points)\n",
    "- [Section 3.2: TF-IDF](#tfidf) (15 points)\n",
    "- [Section 3.3: Query Likelihood Model](#qlm) (35 points)\n",
    "- [Section 3.4: BM25](#bm25) (20 points)\n",
    "\n",
    "*All search functions should be able to handle multiple words queries.*\n",
    "\n",
    "**Scoring policy:**\n",
    "Your implementations in this section are scored based on the expected performance of your ranking functions.\n",
    "You will get a full mark if your implementation meets the expected performance (measured by some evaluation metric).\n",
    "Otherwise, you may get partial credit.\n",
    "For example, if your *Bag of words* ranking function has 60% of expected performance, you will get 6 out of 10."
   ]
  },
  {
   "cell_type": "markdown",
   "metadata": {
    "deletable": false,
    "editable": false,
    "nbgrader": {
     "cell_type": "markdown",
     "checksum": "6c74e5061917358300c6e8085ec07864",
     "grade": false,
     "grade_id": "cell-3daf70a60e393adf",
     "locked": true,
     "schema_version": 3,
     "solution": false,
     "task": false
    }
   },
   "source": [
    "--- \n",
    "\n",
    "### Section 3.1: Bag of Words (10 points)<a class=\"anchor\" id=\"bow\"></a>\n",
    "\n",
    "Probably the simplest IR model is the Bag of Words (BOW) model.\n",
    "Implement a function that scores and ranks all the documents against a query using this model.   \n",
    "\n",
    "- For consistency, you should use the count of the token and **not** the binary indicator.\n",
    "- Use `float` type for the scores (even though the scores are integers in this case).\n",
    "- No normalization of the scores is necessary, as the ordering is what we are interested in.\n",
    "- If two documents have the same score, they can have any ordering: you are not required to disambiguate.\n"
   ]
  },
  {
   "cell_type": "code",
   "execution_count": 24,
   "metadata": {
    "deletable": false,
    "nbgrader": {
     "cell_type": "code",
     "checksum": "fee4640e22bfc4f05eb958a675ef40e7",
     "grade": false,
     "grade_id": "cell-de9cf0459c4b9324",
     "locked": false,
     "schema_version": 3,
     "solution": true,
     "task": false
    }
   },
   "outputs": [],
   "source": [
    "# TODO: Implement this! (10 points)\n",
    "def bow_search(query, index_set):\n",
    "    \"\"\"\n",
    "        Perform a search over all documents with the given query. \n",
    "        Note: You have to use the `get_index` function created in the previous cells\n",
    "        Input: \n",
    "            query - a (unprocessed) query\n",
    "            index_set - the index to use\n",
    "        Output: a list of (document_id, score), sorted in descending relevance to the given query. \n",
    "    \"\"\"\n",
    "    index = get_index(index_set)\n",
    "    processed_query = preprocess_query(query, index_set)\n",
    "        \n",
    "    # YOUR CODE HERE\n",
    "\n",
    "    # one list with all the tuples\n",
    "    total = [index[word] for word in processed_query]\n",
    "    all_tuples = [tup for word in total for tuples in word for tup in tuples]\n",
    "    \n",
    "    score = dict()\n",
    "    \n",
    "    for tup in all_tuples:\n",
    "        if tup[0] not in score:\n",
    "            # {doc_id: score} \n",
    "            score[tup[0]] = float(tup[1])\n",
    "        else:\n",
    "            # update the score\n",
    "            score[tup[0]] += float(tup[1])\n",
    "\n",
    "    return sorted(score.items(), key=lambda s: s[1], reverse=True)\n"
   ]
  },
  {
   "cell_type": "code",
   "execution_count": 25,
   "metadata": {
    "deletable": false,
    "editable": false,
    "nbgrader": {
     "cell_type": "code",
     "checksum": "613524fbbf02b1d122c6611a71fbf11b",
     "grade": true,
     "grade_id": "cell-9f6aceae6dd9125f",
     "locked": true,
     "points": 2,
     "schema_version": 3,
     "solution": false,
     "task": false
    }
   },
   "outputs": [],
   "source": [
    "#### Function check\n",
    "\n",
    "test_bow = bow_search(\"how to implement bag of words search\", index_set=1)[:5]\n",
    "assert isinstance(test_bow, list)\n",
    "assert len(test_bow[0]) == 2\n",
    "assert isinstance(test_bow[0][0], str)\n",
    "assert isinstance(test_bow[0][1], float)\n",
    "\n",
    "#### "
   ]
  },
  {
   "cell_type": "code",
   "execution_count": 26,
   "metadata": {
    "deletable": false,
    "editable": false,
    "nbgrader": {
     "cell_type": "code",
     "checksum": "9af20897659edb62fe77598483590500",
     "grade": true,
     "grade_id": "cell-4eed3abf233d9b58",
     "locked": true,
     "points": 2,
     "schema_version": 3,
     "solution": false,
     "task": false
    }
   },
   "outputs": [
    {
     "name": "stdout",
     "output_type": "stream",
     "text": [
      "BOW Results:\n",
      "Rank 0(1.3e+01): On Computing The Fast Fourier Transform\\nCooley an...\n",
      "Rank 1(1.2e+01): Variable Length Tree Structures Having Minimum Ave...\n",
      "Rank 2(1.1e+01): A Modular Computer Sharing System\\nAn alternative ...\n",
      "Rank 3(1e+01): PEEKABIT, Computer Offspring of Punched\\nCard PEEK...\n",
      "Rank 4(9.0): Computer Simulation-Discussion of the\\nTechnique a...\n"
     ]
    }
   ],
   "source": [
    "\n",
    "docs_by_id = dict(docs)\n",
    "def print_results(docs, len_limit=50):    \n",
    "    for i, (doc_id, score) in enumerate(docs):\n",
    "        doc_content = docs_by_id[doc_id].strip().replace(\"\\n\", \"\\\\n\")[:len_limit] + \"...\"\n",
    "        print(f\"Rank {i}({score:.2}): {doc_content}\")\n",
    "\n",
    "test_bow_2 = bow_search(\"computer search word\", index_set=2)[:5]\n",
    "print(f\"BOW Results:\")\n",
    "print_results(test_bow_2)\n"
   ]
  },
  {
   "cell_type": "code",
   "execution_count": 27,
   "metadata": {
    "deletable": false,
    "editable": false,
    "nbgrader": {
     "cell_type": "code",
     "checksum": "3c9c8b16c8e7d1032f101e9da8a6e845",
     "grade": true,
     "grade_id": "cell-4d65a2d7090c466c",
     "locked": true,
     "points": 3,
     "schema_version": 3,
     "solution": false,
     "task": false
    }
   },
   "outputs": [
    {
     "name": "stdout",
     "output_type": "stream",
     "text": [
      "BOW Results:\n",
      "Rank 0(9.0): CURRICULUM 68 -- Recommendations for Academic\\nPro...\n",
      "Rank 1(9.0): Variable Length Tree Structures Having Minimum Ave...\n",
      "Rank 2(7.0): Computer Formulation of the Equations of Motion Us...\n",
      "Rank 3(7.0): The Effects of Multiplexing on a Computer-Communic...\n",
      "Rank 4(6.0): Optimizing Bit-time Computer Simulation\\nA major c...\n"
     ]
    }
   ],
   "source": [
    "\n",
    "test_bow_1 = bow_search(\"computer search word\", index_set=1)[:5]\n",
    "print(f\"BOW Results:\")\n",
    "print_results(test_bow_1)\n"
   ]
  },
  {
   "cell_type": "code",
   "execution_count": 28,
   "metadata": {
    "deletable": false,
    "editable": false,
    "nbgrader": {
     "cell_type": "code",
     "checksum": "b7e593847aa4202ae45ec061fb18ad73",
     "grade": true,
     "grade_id": "cell-dedf36ab5853ce20",
     "locked": true,
     "points": 3,
     "schema_version": 3,
     "solution": false,
     "task": false
    }
   },
   "outputs": [
    {
     "name": "stdout",
     "output_type": "stream",
     "text": [
      "top-5 docs for index1: ('1771', '1936', '1543', '2535', '678')\n",
      "top-5 docs for index2: ('1525', '1936', '1844', '1700', '1366')\n"
     ]
    }
   ],
   "source": [
    "print('top-5 docs for index1:', list(zip(*test_bow_1[:5]))[0])\n",
    "print('top-5 docs for index2:', list(zip(*test_bow_2[:5]))[0])\n"
   ]
  },
  {
   "cell_type": "markdown",
   "metadata": {
    "deletable": false,
    "editable": false,
    "nbgrader": {
     "cell_type": "markdown",
     "checksum": "b04352ee0716dfdf094b8cdb6f32e984",
     "grade": false,
     "grade_id": "cell-a5c09c79ac1f2871",
     "locked": true,
     "schema_version": 3,
     "solution": false,
     "task": false
    }
   },
   "source": [
    "\n",
    "---\n",
    "\n",
    "### Section 3.2: TF-IDF (15 points) <a class=\"anchor\" id=\"tfidf\"></a>\n",
    "\n",
    "Before we implement the tf-idf scoring functions, let's first write a function to compute the document frequencies of all words.  \n",
    "\n",
    "#### 3.2.1 Document frequency (5 points)\n",
    "Compute the document frequencies of all tokens in the collection. \n",
    "Your code should return a dictionary with tokens as its keys and the number of documents containing the token as values.\n",
    "For consistency, the values should have `int` type."
   ]
  },
  {
   "cell_type": "code",
   "execution_count": 29,
   "metadata": {
    "deletable": false,
    "nbgrader": {
     "cell_type": "code",
     "checksum": "5c53263cf4c0b0ffcaae08b91fc364cc",
     "grade": false,
     "grade_id": "cell-9a2369f32e864b8a",
     "locked": false,
     "schema_version": 3,
     "solution": true,
     "task": false
    }
   },
   "outputs": [],
   "source": [
    "# TODO: Implement this! (5 points)\n",
    "def compute_df(documents):\n",
    "    \"\"\"\n",
    "        Compute the document frequency of all terms in the vocabulary\n",
    "        Input: A list of documents\n",
    "        Output: A dictionary with {token: document frequency (int)}\n",
    "    \"\"\"\n",
    "    # YOUR CODE HERE\n",
    "    \n",
    "    df = defaultdict(int)\n",
    "    \n",
    "    for document in documents:\n",
    "        # deal with duplicates\n",
    "        for word in set(document):\n",
    "            if word not in df:\n",
    "                df[word] = 1\n",
    "            else:\n",
    "                df[word] += 1\n",
    "                \n",
    "    return df\n"
   ]
  },
  {
   "cell_type": "code",
   "execution_count": 30,
   "metadata": {
    "deletable": false,
    "editable": false,
    "nbgrader": {
     "cell_type": "code",
     "checksum": "154985511d7925c5793a1f97dea81880",
     "grade": false,
     "grade_id": "cell-4c3bddd0b73ac90e",
     "locked": true,
     "schema_version": 3,
     "solution": false,
     "task": false
    }
   },
   "outputs": [],
   "source": [
    "#### Compute df based on the two configs\n",
    "\n",
    "# get the document frequencies of each document\n",
    "df_1 = compute_df([d[1] for d in doc_repr_1])\n",
    "df_2 = compute_df([d[1] for d in doc_repr_2])\n",
    "\n",
    "def get_df(index_set):\n",
    "    assert index_set in {1, 2}\n",
    "    return {\n",
    "        1: df_1,\n",
    "        2: df_2\n",
    "    }[index_set]\n",
    "####"
   ]
  },
  {
   "cell_type": "code",
   "execution_count": 31,
   "metadata": {
    "deletable": false,
    "editable": false,
    "nbgrader": {
     "cell_type": "code",
     "checksum": "110cc180068cf3f77c682ee3de2a117c",
     "grade": true,
     "grade_id": "cell-79e8a6db1e5fc46f",
     "locked": true,
     "points": 5,
     "schema_version": 3,
     "solution": false,
     "task": false
    }
   },
   "outputs": [
    {
     "name": "stdout",
     "output_type": "stream",
     "text": [
      "597\n",
      "11\n"
     ]
    }
   ],
   "source": [
    "#### Function check\n",
    "\n",
    "print(df_1['computer'])\n",
    "print(df_2['computer'])\n",
    "####"
   ]
  },
  {
   "cell_type": "markdown",
   "metadata": {
    "deletable": false,
    "editable": false,
    "nbgrader": {
     "cell_type": "markdown",
     "checksum": "d0d577668fa51b80aeab6e67209ae73b",
     "grade": false,
     "grade_id": "cell-52f6acc487e1b96d",
     "locked": true,
     "schema_version": 3,
     "solution": false,
     "task": false
    }
   },
   "source": [
    "---\n",
    "#### 3.2.2 TF-IDF search (10 points)\n",
    "Next, implement a function that computes a tf-idf score, given a query.\n",
    "Use the following formulas for TF and IDF:\n",
    "\n",
    "$$ TF=\\log (1 + f_{d,t}) $$\n",
    "\n",
    "$$ IDF=\\log (\\frac{N}{n_t})$$\n",
    "\n",
    "where $f_{d,t}$ is the frequency of token $t$ in document $d$, $N$ is the number of total documents and $n_t$ is the number of documents containing token $t$.\n",
    "\n",
    "**Note:** your implementation will be auto-graded assuming you have used the above formulas.\n"
   ]
  },
  {
   "cell_type": "code",
   "execution_count": 32,
   "metadata": {
    "deletable": false,
    "nbgrader": {
     "cell_type": "code",
     "checksum": "3534c44b4a3419ca1db98eebe7115dc1",
     "grade": false,
     "grade_id": "cell-2fb5ba34b2994cd9",
     "locked": false,
     "schema_version": 3,
     "solution": true,
     "task": false
    }
   },
   "outputs": [],
   "source": [
    "# TODO: Implement this! (10 points)\n",
    "def tfidf_search(query, index_set):\n",
    "    \"\"\"\n",
    "        Perform a search over all documents with the given query using tf-idf. \n",
    "        Note #1: You have to use the `get_index` (and the `get_df`) function created in the previous cells\n",
    "        Input: \n",
    "            query - a (unprocessed) query\n",
    "            index_set - the index to use\n",
    "        Output: a list of (document_id, score), sorted in descending relevance to the given query \n",
    "    \"\"\"\n",
    "    index = get_index(index_set)\n",
    "    df = get_df(index_set)\n",
    "    processed_query = preprocess_query(query, index_set)\n",
    "    \n",
    "    N = len(docs)\n",
    "    \n",
    "    # YOUR CODE HERE\n",
    "    \n",
    "    def tf_idf(tf, df, N):\n",
    "        \"\"\"\n",
    "            Returns a list with doc_ids and tf-idfs per word as a tuple\n",
    "        \"\"\"\n",
    "        try:\n",
    "            tf_idf = [(tup[0], np.log(1 + tup[1]) * np.log(N/df)) for tup in tf[0]]\n",
    "        except:\n",
    "            # the function cannot handle empty lists\n",
    "            tf_idf = []\n",
    "\n",
    "        return tf_idf\n",
    " \n",
    "    # a list with lists containing tuples (doc_id, tf_idf)\n",
    "    score_temp = [tf_idf(index[word], df[word], N) for word in processed_query]\n",
    "  \n",
    "    # ensure that the final list is N long\n",
    "    score = {doc[0]:float(0) for doc in docs}\n",
    "    \n",
    "    for tup_list in score_temp:\n",
    "        for tup in tup_list:\n",
    "            if tup[0] in score:\n",
    "                # this is basically the sum part for the score\n",
    "                score[tup[0]] += tup[1]\n",
    "    \n",
    "    return sorted(score.items(), key=lambda s: s[1], reverse=True)"
   ]
  },
  {
   "cell_type": "code",
   "execution_count": 33,
   "metadata": {
    "deletable": false,
    "editable": false,
    "nbgrader": {
     "cell_type": "code",
     "checksum": "7b66a514663d898694b09a23a597312b",
     "grade": true,
     "grade_id": "cell-bc68aeeacf42beb3",
     "locked": true,
     "points": 2,
     "schema_version": 3,
     "solution": false,
     "task": false
    }
   },
   "outputs": [],
   "source": [
    "\n",
    "#### Function check\n",
    "test_tfidf = tfidf_search(\"how to implement tf idf search\", index_set=1)[:5]\n",
    "assert isinstance(test_tfidf, list)\n",
    "assert len(test_tfidf[0]) == 2\n",
    "assert isinstance(test_tfidf[0][0], str)\n",
    "assert isinstance(test_tfidf[0][1], float)\n",
    "\n",
    "####"
   ]
  },
  {
   "cell_type": "code",
   "execution_count": 34,
   "metadata": {
    "deletable": false,
    "editable": false,
    "nbgrader": {
     "cell_type": "code",
     "checksum": "98fb1326cf4bf7983ae237ca8a9105f9",
     "grade": true,
     "grade_id": "cell-c7702fa8179fadb9",
     "locked": true,
     "points": 2,
     "schema_version": 3,
     "solution": false,
     "task": false
    }
   },
   "outputs": [
    {
     "name": "stdout",
     "output_type": "stream",
     "text": [
      "TFIDF Results:\n",
      "Rank 0(1.3e+01): PEEKABIT, Computer Offspring of Punched\\nCard PEEK...\n",
      "Rank 1(9.8): Variable Length Tree Structures Having Minimum Ave...\n",
      "Rank 2(8.2): A Stochastic Approach to the Grammatical Coding of...\n",
      "Rank 3(8.1): Full Table Quadratic Searching for Scatter Storage...\n",
      "Rank 4(7.6): Use of Tree Structures for Processing Files\\nIn da...\n"
     ]
    }
   ],
   "source": [
    "\n",
    "test_tfidf_2 = tfidf_search(\"computer word search\", index_set=2)[:5]\n",
    "print(f\"TFIDF Results:\")\n",
    "print_results(test_tfidf_2)\n"
   ]
  },
  {
   "cell_type": "code",
   "execution_count": 35,
   "metadata": {
    "deletable": false,
    "editable": false,
    "nbgrader": {
     "cell_type": "code",
     "checksum": "733b5b67be5e53989f5b763ce5e52ee9",
     "grade": true,
     "grade_id": "cell-3284f50ac29abbaa",
     "locked": true,
     "points": 3,
     "schema_version": 3,
     "solution": false,
     "task": false
    }
   },
   "outputs": [
    {
     "name": "stdout",
     "output_type": "stream",
     "text": [
      "TFIDF Results:\n",
      "Rank 0(9.4): Variable Length Tree Structures Having Minimum Ave...\n",
      "Rank 1(7.4): On the Feasibility of Voice Input to\\nan On-line C...\n",
      "Rank 2(7.3): Median Split Trees: A Fast Lookup Technique for Fr...\n",
      "Rank 3(7.0): Execution Time Requirements for Encipherment Progr...\n",
      "Rank 4(7.0): Storage and Search Properties of a Tree-Organized ...\n"
     ]
    }
   ],
   "source": [
    "\n",
    "test_tfidf_1 = tfidf_search(\"computer word search\", index_set=1)[:5]\n",
    "print(f\"TFIDF Results:\")\n",
    "print_results(test_tfidf_1)\n"
   ]
  },
  {
   "cell_type": "code",
   "execution_count": 36,
   "metadata": {
    "deletable": false,
    "editable": false,
    "nbgrader": {
     "cell_type": "code",
     "checksum": "e0edb37a5ae807a2de85d578c87ccb78",
     "grade": true,
     "grade_id": "cell-d908c80a3155354b",
     "locked": true,
     "points": 3,
     "schema_version": 3,
     "solution": false,
     "task": false
    }
   },
   "outputs": [
    {
     "name": "stdout",
     "output_type": "stream",
     "text": [
      "top-5 docs for index1 with BOW search: ('1771', '1936', '1543', '2535', '678')\n",
      "top-5 docs for index2 with BOW search: ('1525', '1936', '1844', '1700', '1366')\n",
      "top-5 docs for index1 with TF-IDF search: ('1936', '2054', '3041', '2620', '944')\n",
      "top-5 docs for index2 with TF-IDF search: ('1700', '1936', '1235', '2018', '849')\n"
     ]
    }
   ],
   "source": [
    "\n",
    "print('top-5 docs for index1 with BOW search:', list(zip(*test_bow_1[:5]))[0])\n",
    "print('top-5 docs for index2 with BOW search:', list(zip(*test_bow_2[:5]))[0])\n",
    "print('top-5 docs for index1 with TF-IDF search:', list(zip(*test_tfidf_1[:5]))[0])\n",
    "print('top-5 docs for index2 with TF-IDF search:', list(zip(*test_tfidf_2[:5]))[0])\n",
    "\n"
   ]
  },
  {
   "cell_type": "markdown",
   "metadata": {
    "deletable": false,
    "editable": false,
    "nbgrader": {
     "cell_type": "markdown",
     "checksum": "cdffc83f0eaea937cf64a212e7e9af8d",
     "grade": false,
     "grade_id": "cell-f5d923459ba21733",
     "locked": true,
     "schema_version": 3,
     "solution": false,
     "task": false
    }
   },
   "source": [
    "--- \n",
    "\n",
    "### Section 3.3: Query Likelihood Model (35 points) <a class=\"anchor\" id=\"qlm\"></a>\n",
    "\n",
    "In this section, you will implement a simple query likelihood model. \n",
    "\n",
    "\n",
    "#### 3.3.1 Naive QL (15 points)\n",
    "\n",
    "First, let us implement a naive version of a QL model, assuming a multinomial unigram language model (with a uniform prior over the documents). \n",
    "\n"
   ]
  },
  {
   "cell_type": "code",
   "execution_count": 37,
   "metadata": {
    "deletable": false,
    "editable": false,
    "nbgrader": {
     "cell_type": "code",
     "checksum": "b7ae2b7d818b428b4638c1c9206d2aca",
     "grade": false,
     "grade_id": "cell-98505778f7b68e7f",
     "locked": true,
     "schema_version": 3,
     "solution": false,
     "task": false
    }
   },
   "outputs": [],
   "source": [
    "#### Document length for normalization\n",
    "\n",
    "def doc_lengths(documents):\n",
    "    doc_lengths = {doc_id:len(doc) for (doc_id, doc) in documents}\n",
    "    return doc_lengths\n",
    "\n",
    "doc_lengths_1 = doc_lengths(doc_repr_1)\n",
    "doc_lengths_2 = doc_lengths(doc_repr_2)\n",
    "\n",
    "def get_doc_lengths(index_set):\n",
    "    assert index_set in {1, 2}\n",
    "    return {\n",
    "        1: doc_lengths_1,\n",
    "        2: doc_lengths_2\n",
    "    }[index_set]\n",
    "####"
   ]
  },
  {
   "cell_type": "code",
   "execution_count": 38,
   "metadata": {
    "deletable": false,
    "nbgrader": {
     "cell_type": "code",
     "checksum": "cedd08303a914243fefdb6b876977ca1",
     "grade": false,
     "grade_id": "cell-8bcf2b804d636c2e",
     "locked": false,
     "schema_version": 3,
     "solution": true,
     "task": false
    }
   },
   "outputs": [],
   "source": [
    "# TODO: Implement this! (15 points)\n",
    "def naive_ql_search(query, index_set):\n",
    "    \"\"\"\n",
    "        Perform a search over all documents with the given query using a naive QL model. \n",
    "        Note #1: You have to use the `get_index` (and get_doc_lengths) function created in the previous cells\n",
    "        Input: \n",
    "            query - a (unprocessed) query\n",
    "            index_set - the index to use\n",
    "        Output: a list of (document_id, score), sorted in descending relevance to the given query \n",
    "    \"\"\"\n",
    "    index = get_index(index_set)\n",
    "    doc_lengths = get_doc_lengths(index_set)\n",
    "    processed_query = preprocess_query(query, index_set)\n",
    "    \n",
    "    # YOUR CODE HERE\n",
    "    \n",
    "    # this includes relevant and irrelevant doc_ids --> only the relevant doc_ids will be updated\n",
    "    score = {doc_id: 0 for doc_id in doc_lengths.keys()}\n",
    "    \n",
    "    for word in processed_query:  \n",
    "        # list with tuples (doc_id, tf) \n",
    "        tf_list = index[word]\n",
    "        \n",
    "        # skip all the words that are not present in index\n",
    "        if len(tf_list) != 0:           \n",
    "\n",
    "            # retrieve doc_id, tf, and dl\n",
    "            for doc_id, tf in tf_list[0]:\n",
    "                dl = doc_lengths[doc_id]\n",
    "\n",
    "                if score[doc_id] == 0:\n",
    "                    # the score can be updated with *=\n",
    "                    score[doc_id] = 1\n",
    "\n",
    "                # update the scores\n",
    "                score[doc_id] *= tf / dl  \n",
    "                \n",
    "    return sorted(score.items(), key=lambda s: s[1], reverse=True)\n"
   ]
  },
  {
   "cell_type": "code",
   "execution_count": 39,
   "metadata": {
    "deletable": false,
    "editable": false,
    "nbgrader": {
     "cell_type": "code",
     "checksum": "b550d15bdad28354c336020a00c33d56",
     "grade": true,
     "grade_id": "cell-5a83ac12ecde8578",
     "locked": true,
     "points": 3,
     "schema_version": 3,
     "solution": false,
     "task": false
    }
   },
   "outputs": [
    {
     "name": "stdout",
     "output_type": "stream",
     "text": [
      "Naive QL Results:\n",
      "Rank 0(0.2): A Report Writer For COBOL...\n",
      "Rank 1(0.2): A CRT Report Generating System...\n",
      "Rank 2(0.17): Preliminary Report-International Algebraic Languag...\n",
      "Rank 3(0.17): Supplement to the ALGOL 60 Report...\n",
      "Rank 4(0.14): ALGOL Sub-Committee Report - Extensions...\n"
     ]
    }
   ],
   "source": [
    "#### Function check\n",
    "test_naiveql = naive_ql_search(\"report\", index_set=1)[:5]\n",
    "print(f\"Naive QL Results:\")\n",
    "print_results(test_naiveql)\n",
    "####"
   ]
  },
  {
   "cell_type": "code",
   "execution_count": 40,
   "metadata": {
    "deletable": false,
    "editable": false,
    "nbgrader": {
     "cell_type": "code",
     "checksum": "799df1d81c63fe90edbb6c218fc707fb",
     "grade": true,
     "grade_id": "cell-80f4bf2137f997bb",
     "locked": true,
     "points": 2,
     "schema_version": 3,
     "solution": false,
     "task": false
    }
   },
   "outputs": [],
   "source": [
    "#### Please do not change this. This cell is used for grading."
   ]
  },
  {
   "cell_type": "code",
   "execution_count": 41,
   "metadata": {
    "deletable": false,
    "editable": false,
    "nbgrader": {
     "cell_type": "code",
     "checksum": "875a4a517d27e20625d41783cebec118",
     "grade": true,
     "grade_id": "cell-5ce2993458a8ce51",
     "locked": true,
     "points": 3,
     "schema_version": 3,
     "solution": false,
     "task": false
    }
   },
   "outputs": [],
   "source": [
    "#### Please do not change this. This cell is used for grading."
   ]
  },
  {
   "cell_type": "code",
   "execution_count": 42,
   "metadata": {
    "deletable": false,
    "editable": false,
    "nbgrader": {
     "cell_type": "code",
     "checksum": "d5c4e1c3852e71a46f32825b122f1b71",
     "grade": true,
     "grade_id": "cell-7753bdb54e292f3d",
     "locked": true,
     "points": 3,
     "schema_version": 3,
     "solution": false,
     "task": false
    }
   },
   "outputs": [],
   "source": [
    "#### Please do not change this. This cell is used for grading."
   ]
  },
  {
   "cell_type": "code",
   "execution_count": 43,
   "metadata": {
    "deletable": false,
    "editable": false,
    "nbgrader": {
     "cell_type": "code",
     "checksum": "c4d4332d4356e89ce0240f6b80e1899a",
     "grade": true,
     "grade_id": "cell-54e476e2f96e64bb",
     "locked": true,
     "points": 4,
     "schema_version": 3,
     "solution": false,
     "task": false
    }
   },
   "outputs": [],
   "source": [
    "#### Please do not change this. This cell is used for grading."
   ]
  },
  {
   "cell_type": "markdown",
   "metadata": {
    "deletable": false,
    "editable": false,
    "nbgrader": {
     "cell_type": "markdown",
     "checksum": "8d739dc91a22bd48897f603885f95a74",
     "grade": false,
     "grade_id": "cell-5414dfd69dab8b94",
     "locked": true,
     "schema_version": 3,
     "solution": false,
     "task": false
    }
   },
   "source": [
    "---\n",
    "#### 3.3.2 QL (20 points)\n",
    "Now, let's implement a QL model that handles the issues with the naive version. In particular, you will implement a QL model with Jelinek-Mercer Smoothing. That means an interpolated score is computed per word - one term is the same as the previous naive version, and the second term comes from a unigram language model. In addition, you should accumulate the scores by summing the **log** (smoothed) probability which leads to better numerical stability."
   ]
  },
  {
   "cell_type": "code",
   "execution_count": 45,
   "metadata": {
    "deletable": false,
    "nbgrader": {
     "cell_type": "code",
     "checksum": "b8c6abf937ad333e628f1db891f2e29e",
     "grade": false,
     "grade_id": "cell-bb1f506409771257",
     "locked": false,
     "schema_version": 3,
     "solution": true,
     "task": false
    }
   },
   "outputs": [],
   "source": [
    "# TODO: Implement this! (20 points)\n",
    "\n",
    "# YOUR CODE HERE\n",
    "# raise NotImplementedError()\n",
    "\n",
    "def ql_search(query, index_set):\n",
    "    \"\"\"\n",
    "        Perform a search over all documents with the given query using a QL model \n",
    "        with Jelinek-Mercer Smoothing (set smoothing=0.1). \n",
    "        \n",
    "        \n",
    "        Note #1: You have to use the `get_index` (and get_doc_lengths) function created in the previous cells\n",
    "        Note #2: You might have to create some variables beforehand and use them in this function\n",
    "        \n",
    "        \n",
    "        Input: \n",
    "            query - a (unprocessed) query\n",
    "            index_set - the index to use\n",
    "        Output: a list of (document_id, score), sorted in descending relevance to the given query \n",
    "    \"\"\"\n",
    "    index = get_index(index_set)\n",
    "    doc_lengths = get_doc_lengths(index_set)\n",
    "    processed_query = preprocess_query(query, index_set)\n",
    "    \n",
    "    # YOUR CODE HERE\n",
    "    \n",
    "    smoothing = 0.1\n",
    "    # collection length\n",
    "    cl = len(doc_lengths)\n",
    "    \n",
    "    score = {doc_id: float(0) for doc_id in doc_lengths.keys()}\n",
    "    \n",
    "    for word in processed_query:\n",
    "\n",
    "        if index[word] != []:\n",
    "            cf = np.sum(list(dict(index[word][0]).values()))\n",
    "\n",
    "            # list with tuples (doc_id, tf)\n",
    "            tf_list = index[word]\n",
    "\n",
    "            # retrieve doc_id, tf, and dl\n",
    "            for doc_id, tf in tf_list[0]:\n",
    "                dl = doc_lengths[doc_id]\n",
    "\n",
    "                # update the scores; first entry is naive\n",
    "                if score[doc_id] == 0:\n",
    "                    score[doc_id] = tf / dl\n",
    "                # this handles a query; second entry + is smoothed \n",
    "                else:\n",
    "                    # there are two ways to implement this according to piazza\n",
    "                    \n",
    "                    # method 1 from the slides which passes the test\n",
    "#                     score[doc_id] += abs(np.log((smoothing * (tf / dl)) + ((1 - smoothing) * (cf / cl))))\n",
    "                    \n",
    "                    # recommended method according to piazza which does not pass the test\n",
    "                    score[doc_id] += abs(np.log(((1 - smoothing) * (tf / dl)) + (smoothing * (cf / cl))))\n",
    "                    \n",
    "        \n",
    "    return sorted(score.items(), key=lambda s: s[1], reverse=True)\n"
   ]
  },
  {
   "cell_type": "code",
   "execution_count": 46,
   "metadata": {
    "deletable": false,
    "editable": false,
    "nbgrader": {
     "cell_type": "code",
     "checksum": "0b12a7f3355193a257fd9f5f69a66562",
     "grade": true,
     "grade_id": "cell-850e9d6369bcec32",
     "locked": true,
     "points": 4,
     "schema_version": 3,
     "solution": false,
     "task": false
    }
   },
   "outputs": [
    {
     "name": "stdout",
     "output_type": "stream",
     "text": [
      "Rank 0(0.2): A Report Writer For COBOL...\n",
      "Rank 1(0.2): A CRT Report Generating System...\n",
      "Rank 2(0.17): Preliminary Report-International Algebraic Languag...\n",
      "Rank 3(0.17): Supplement to the ALGOL 60 Report...\n",
      "Rank 4(0.14): ALGOL Sub-Committee Report - Extensions...\n",
      "\n",
      "Rank 0(4.5e+01): The State of Computer Oriented Curricula in Busine...\n",
      "Rank 1(4.5e+01): A Profile of the Programmer\\nSynopsis: 549 members...\n",
      "Rank 2(4.5e+01): A Relational Model of Data for Large Shared Data B...\n",
      "Rank 3(4.5e+01): Coding Clinical Laboratory Data For Automatic Stor...\n",
      "Rank 4(4.4e+01): Studies in Machine Cognition Using The Game of Pok...\n"
     ]
    }
   ],
   "source": [
    "#### Function check\n",
    "test_ql_results = ql_search(\"report\", index_set=1)[:5]\n",
    "print_results(test_ql_results)\n",
    "print()\n",
    "test_ql_results_long = ql_search(\"report \" * 10, index_set=1)[:5]\n",
    "print_results(test_ql_results_long)\n",
    "####"
   ]
  },
  {
   "cell_type": "code",
   "execution_count": 47,
   "metadata": {
    "deletable": false,
    "editable": false,
    "nbgrader": {
     "cell_type": "code",
     "checksum": "e40be645140389c115849856145f5b59",
     "grade": true,
     "grade_id": "cell-958cdcf6fd6899b7",
     "locked": true,
     "points": 3,
     "schema_version": 3,
     "solution": false,
     "task": false
    }
   },
   "outputs": [],
   "source": [
    "#### Please do not change this. This cell is used for grading."
   ]
  },
  {
   "cell_type": "code",
   "execution_count": 48,
   "metadata": {
    "deletable": false,
    "editable": false,
    "nbgrader": {
     "cell_type": "code",
     "checksum": "41d4aff001df17e7963ba79b45810b30",
     "grade": true,
     "grade_id": "cell-384dc23a0c251f6e",
     "locked": true,
     "points": 4,
     "schema_version": 3,
     "solution": false,
     "task": false
    }
   },
   "outputs": [],
   "source": [
    "#### Please do not change this. This cell is used for grading."
   ]
  },
  {
   "cell_type": "code",
   "execution_count": 49,
   "metadata": {
    "deletable": false,
    "editable": false,
    "nbgrader": {
     "cell_type": "code",
     "checksum": "893e8c5a073abc8ebb763d267b91bc02",
     "grade": true,
     "grade_id": "cell-7218966cba5097cc",
     "locked": true,
     "points": 4,
     "schema_version": 3,
     "solution": false,
     "task": false
    }
   },
   "outputs": [],
   "source": [
    "#### Please do not change this. This cell is used for grading."
   ]
  },
  {
   "cell_type": "code",
   "execution_count": 50,
   "metadata": {
    "deletable": false,
    "editable": false,
    "nbgrader": {
     "cell_type": "code",
     "checksum": "f99cb6f8b1f5830aaed8f06712ff846e",
     "grade": true,
     "grade_id": "cell-481ab073259ae53f",
     "locked": true,
     "points": 5,
     "schema_version": 3,
     "solution": false,
     "task": false
    }
   },
   "outputs": [],
   "source": [
    "#### Please do not change this. This cell is used for grading."
   ]
  },
  {
   "cell_type": "markdown",
   "metadata": {
    "deletable": false,
    "editable": false,
    "nbgrader": {
     "cell_type": "markdown",
     "checksum": "c02f14705d679579b1aa9f78f54779d5",
     "grade": false,
     "grade_id": "cell-f44088bfdac1dc90",
     "locked": true,
     "schema_version": 3,
     "solution": false,
     "task": false
    }
   },
   "source": [
    "--- \n",
    "\n",
    "### Section 3.4: BM25 (20 points) <a class=\"anchor\" id=\"bm25\"></a>\n",
    "\n",
    "In this section, we will implement the BM25 scoring function. \n"
   ]
  },
  {
   "cell_type": "code",
   "execution_count": 51,
   "metadata": {
    "deletable": false,
    "nbgrader": {
     "cell_type": "code",
     "checksum": "e57efe06ea92af1c83784a42eb3d86e0",
     "grade": false,
     "grade_id": "cell-15640fc9b5d00a3c",
     "locked": false,
     "schema_version": 3,
     "solution": true,
     "task": false
    }
   },
   "outputs": [],
   "source": [
    "# TODO: Implement this! (20 points)\n",
    "def bm25_search(query, index_set):\n",
    "    \"\"\"\n",
    "        Perform a search over all documents with the given query using BM25. Use k_1 = 1.5 and b = 0.75\n",
    "        Note #1: You have to use the `get_index` (and `get_doc_lengths`) function created in the previous cells\n",
    "        Note #2: You might have to create some variables beforehand and use them in this function\n",
    "        \n",
    "        Input: \n",
    "            query - a (unprocessed) query\n",
    "            index_set - the index to use\n",
    "        Output: a list of (document_id, score), sorted in descending relevance to the given query \n",
    "    \"\"\"\n",
    "    \n",
    "    index = get_index(index_set)\n",
    "    df = get_df(index_set)\n",
    "    doc_lengths = get_doc_lengths(index_set)\n",
    "    processed_query = preprocess_query(query, index_set)\n",
    "    \n",
    "    # YOUR CODE HERE\n",
    "    \n",
    "    score = {doc_id: float(0) for doc_id in doc_lengths.keys()}\n",
    "    \n",
    "    k_1 = 1.5\n",
    "    b = 0.75\n",
    "    \n",
    "    for word in processed_query:\n",
    "        tf_list = index[word]\n",
    "        \n",
    "        if tf_list != []:\n",
    "        \n",
    "            for doc_id, tf in tf_list[0]:\n",
    "    \n",
    "                # split formula\n",
    "                p1 = np.log(len(doc_lengths) / df[word])\n",
    "                p2 = (k_1 + 1) * tf\n",
    "                p3 = k_1 * ((1 - b) + b * (doc_lengths[doc_id] / np.mean(list(doc_lengths.values())))) + tf\n",
    "    \n",
    "                # construct bm25\n",
    "                bm25 = p1 * (p2 / p3)\n",
    "\n",
    "                if score[doc_id] == 0:\n",
    "                    score[doc_id] = bm25 \n",
    "                else:\n",
    "                    score[doc_id] += bm25 \n",
    "    \n",
    "    return sorted(score.items(), key=lambda s: s[1], reverse=True)\n"
   ]
  },
  {
   "cell_type": "code",
   "execution_count": 52,
   "metadata": {
    "deletable": false,
    "editable": false,
    "nbgrader": {
     "cell_type": "code",
     "checksum": "4be9de5d4e94637960d83725422bea6c",
     "grade": true,
     "grade_id": "cell-d10536bca72c74b1",
     "locked": true,
     "points": 3,
     "schema_version": 3,
     "solution": false,
     "task": false
    }
   },
   "outputs": [
    {
     "name": "stdout",
     "output_type": "stream",
     "text": [
      "Rank 0(6.7): A Report Writer For COBOL...\n",
      "Rank 1(6.7): A CRT Report Generating System...\n",
      "Rank 2(6.6): Preliminary Report-International Algebraic Languag...\n",
      "Rank 3(6.6): Supplement to the ALGOL 60 Report...\n",
      "Rank 4(6.5): ALGOL Sub-Committee Report - Extensions...\n"
     ]
    }
   ],
   "source": [
    "#### Function check\n",
    "test_bm25_results = bm25_search(\"report\", index_set=1)[:5]\n",
    "print_results(test_bm25_results)\n",
    "####"
   ]
  },
  {
   "cell_type": "code",
   "execution_count": 53,
   "metadata": {
    "deletable": false,
    "editable": false,
    "nbgrader": {
     "cell_type": "code",
     "checksum": "31b550d6a46ae4f8ede88788799ac2b9",
     "grade": true,
     "grade_id": "cell-60f6ec5052712d79",
     "locked": true,
     "points": 5,
     "schema_version": 3,
     "solution": false,
     "task": false
    }
   },
   "outputs": [],
   "source": [
    "#### Please do not change this. This cell is used for grading."
   ]
  },
  {
   "cell_type": "code",
   "execution_count": 54,
   "metadata": {
    "deletable": false,
    "editable": false,
    "nbgrader": {
     "cell_type": "code",
     "checksum": "3da2ec16bfe781916e71755d65aa2983",
     "grade": true,
     "grade_id": "cell-5d17524043a5abcc",
     "locked": true,
     "points": 5,
     "schema_version": 3,
     "solution": false,
     "task": false
    }
   },
   "outputs": [],
   "source": [
    "#### Please do not change this. This cell is used for grading."
   ]
  },
  {
   "cell_type": "code",
   "execution_count": 55,
   "metadata": {
    "deletable": false,
    "editable": false,
    "nbgrader": {
     "cell_type": "code",
     "checksum": "e7b563d54fa84c20909c0ae107010541",
     "grade": true,
     "grade_id": "cell-ff8e704eda1184e3",
     "locked": true,
     "points": 3,
     "schema_version": 3,
     "solution": false,
     "task": false
    }
   },
   "outputs": [],
   "source": [
    "#### Please do not change this. This cell is used for grading."
   ]
  },
  {
   "cell_type": "code",
   "execution_count": 56,
   "metadata": {
    "deletable": false,
    "editable": false,
    "nbgrader": {
     "cell_type": "code",
     "checksum": "b013f90974b396630a8831d6f1d7e5f7",
     "grade": true,
     "grade_id": "cell-a52310500a2543cb",
     "locked": true,
     "points": 4,
     "schema_version": 3,
     "solution": false,
     "task": false
    }
   },
   "outputs": [],
   "source": [
    "#### Please do not change this. This cell is used for grading."
   ]
  },
  {
   "cell_type": "markdown",
   "metadata": {
    "deletable": false,
    "editable": false,
    "nbgrader": {
     "cell_type": "markdown",
     "checksum": "8fcf67cb7d5e8b26cb9bf1f0aa42c847",
     "grade": false,
     "grade_id": "cell-8b2b412c81d62f2d",
     "locked": true,
     "schema_version": 3,
     "solution": false,
     "task": false
    }
   },
   "source": [
    "\n",
    "---\n",
    "\n",
    "### 3.5. Test Your Functions\n",
    "\n",
    "The widget below allows you to play with the search functions you've written so far. Use this to test your search functions and ensure that they work as expected."
   ]
  },
  {
   "cell_type": "code",
   "execution_count": 57,
   "metadata": {
    "deletable": false,
    "editable": false,
    "nbgrader": {
     "cell_type": "code",
     "checksum": "dfeb204b390acc0794dbdcac92b0cf2c",
     "grade": false,
     "grade_id": "cell-c9c2bb76354e8d97",
     "locked": true,
     "schema_version": 3,
     "solution": false,
     "task": false
    }
   },
   "outputs": [],
   "source": [
    "#### Highlighter function\n",
    "# class for results\n",
    "ResultRow = namedtuple(\"ResultRow\", [\"doc_id\", \"snippet\", \"score\"])\n",
    "# doc_id -> doc\n",
    "docs_by_id = dict((d[0], d[1]) for d in docs)\n",
    "\n",
    "def highlight_text(document, query, tol=17):\n",
    "    import re\n",
    "    tokens = tokenize(query)\n",
    "    regex = \"|\".join(f\"(\\\\b{t}\\\\b)\" for t in tokens)\n",
    "    regex = re.compile(regex, flags=re.IGNORECASE)\n",
    "    output = \"\"\n",
    "    i = 0\n",
    "    for m in regex.finditer(document):\n",
    "        start_idx = max(0, m.start() - tol)\n",
    "        end_idx = min(len(document), m.end() + tol)\n",
    "        output += \"\".join([\"...\",\n",
    "                        document[start_idx:m.start()],\n",
    "                        \"<strong>\",\n",
    "                        document[m.start():m.end()],\n",
    "                        \"</strong>\",\n",
    "                        document[m.end():end_idx],\n",
    "                        \"...\"])\n",
    "    return output.replace(\"\\n\", \" \")\n",
    "\n",
    "\n",
    "def make_results(query, search_fn, index_set):\n",
    "    results = []\n",
    "    for doc_id, score in search_fn(query, index_set):\n",
    "        highlight = highlight_text(docs_by_id[doc_id], query)\n",
    "        if len(highlight.strip()) == 0:\n",
    "            highlight = docs_by_id[doc_id]\n",
    "        results.append(ResultRow(doc_id, highlight, score))\n",
    "    return results\n",
    "####"
   ]
  },
  {
   "cell_type": "code",
   "execution_count": 58,
   "metadata": {},
   "outputs": [
    {
     "data": {
      "application/vnd.jupyter.widget-view+json": {
       "model_id": "3731e646813d4e7584ac589500ae3e11",
       "version_major": 2,
       "version_minor": 0
      },
      "text/plain": [
       "Text(value='', description='Search Bar')"
      ]
     },
     "metadata": {},
     "output_type": "display_data"
    }
   ],
   "source": [
    "# TODO: Set this to the function you want to test!\n",
    "# this function should take in a query (string)\n",
    "# and return a sorted list of (doc_id, score) \n",
    "# with the most relevant document in the first position\n",
    "search_fn = bm25_search\n",
    "index_set = 1\n",
    "\n",
    "text = widgets.Text(description=\"Search Bar\", width=200)\n",
    "display(text)\n",
    "\n",
    "def handle_submit(sender):\n",
    "    print(f\"Searching for: '{sender.value}'\")\n",
    "    \n",
    "    results = make_results(sender.value, search_fn, index_set)\n",
    "    \n",
    "    # display only the top 5\n",
    "    results = results[:5]\n",
    "    \n",
    "    body = \"\"\n",
    "    for idx, r in enumerate(results):\n",
    "        body += f\"<li>Document #{r.doc_id}({r.score}): {r.snippet}</li>\"\n",
    "    display(HTML(f\"<ul>{body}</ul>\"))\n",
    "    \n",
    "\n",
    "text.on_submit(handle_submit)"
   ]
  },
  {
   "cell_type": "markdown",
   "metadata": {
    "deletable": false,
    "editable": false,
    "nbgrader": {
     "cell_type": "markdown",
     "checksum": "019b1ff878dc6339dd068e2d48d19904",
     "grade": false,
     "grade_id": "cell-8d46fe8e4f3d8cdb",
     "locked": true,
     "schema_version": 3,
     "solution": false,
     "task": false
    }
   },
   "source": [
    "---\n",
    "\n",
    "## Section 4: Evaluation (40 points) <a class=\"anchor\" id=\"evaluation\"></a>\n",
    "\n",
    "[Back to Part 1](#part1)\n",
    "\n",
    "In order to analyze the effectiveness of retrieval algorithms, we first have to learn how to evaluate such a system. In particular, we will work with offline evaluation metrics. These metrics are computed on a dataset with known relevance judgements.\n",
    "\n",
    "Implement the following evaluation metrics. \n",
    "\n",
    "1. Precision (7 points)\n",
    "2. Recall (7 points)\n",
    "3. Mean Average Precision (13 points)\n",
    "4. Expected Reciprocal Rank (13 points)"
   ]
  },
  {
   "cell_type": "markdown",
   "metadata": {
    "deletable": false,
    "editable": false,
    "nbgrader": {
     "cell_type": "markdown",
     "checksum": "e46f54c7f81d88bbc950b0fae14c4ca5",
     "grade": false,
     "grade_id": "cell-3419fd3bc663d7cc",
     "locked": true,
     "schema_version": 3,
     "solution": false,
     "task": false
    }
   },
   "source": [
    "---\n",
    "### 4.1 Read relevance labels\n",
    "\n",
    "Let's take a look at the `qrels.text` file, which contains the ground truth relevance scores. The relevance labels for CACM are binary - either 0 or 1. \n"
   ]
  },
  {
   "cell_type": "code",
   "execution_count": 59,
   "metadata": {
    "deletable": false,
    "editable": false,
    "nbgrader": {
     "cell_type": "code",
     "checksum": "6c11025f5a222796f2882c73c1634799",
     "grade": false,
     "grade_id": "cell-6b738366059dde9e",
     "locked": true,
     "schema_version": 3,
     "solution": false,
     "task": false
    }
   },
   "outputs": [
    {
     "name": "stdout",
     "output_type": "stream",
     "text": [
      "01 1410  0 0\r\n",
      "01 1572  0 0\r\n",
      "01 1605  0 0\r\n",
      "01 2020  0 0\r\n",
      "01 2358  0 0\r\n",
      "02 2434  0 0\r\n",
      "02 2863  0 0\r\n",
      "02 3078  0 0\r\n",
      "03 1134  0 0\r\n",
      "03 1613  0 0\r\n"
     ]
    }
   ],
   "source": [
    "!head ./datasets/qrels.text"
   ]
  },
  {
   "cell_type": "markdown",
   "metadata": {
    "deletable": false,
    "editable": false,
    "nbgrader": {
     "cell_type": "markdown",
     "checksum": "7ce95245c1597183320d7254afde5c8e",
     "grade": false,
     "grade_id": "cell-10e16bff2753ffbb",
     "locked": true,
     "schema_version": 3,
     "solution": false,
     "task": false
    }
   },
   "source": [
    "---\n",
    "\n",
    "The first column is the query_id and the second column is the document_id. We can safely ignore the 3rd and 4th columns."
   ]
  },
  {
   "cell_type": "code",
   "execution_count": 60,
   "metadata": {
    "deletable": false,
    "nbgrader": {
     "cell_type": "code",
     "checksum": "000c6d59dce08dba0ba1e8d691dbbc2e",
     "grade": false,
     "grade_id": "cell-ee5253a4ef602fce",
     "locked": false,
     "schema_version": 3,
     "solution": true,
     "task": false
    }
   },
   "outputs": [],
   "source": [
    "def read_qrels(root_folder = \"./datasets/\"):\n",
    "    \"\"\"\n",
    "        Reads the qrels.text file. \n",
    "        Output: A dictionary: query_id -> [list of relevant documents]\n",
    "    \"\"\"\n",
    "    with open(os.path.join(root_folder, \"qrels.text\")) as reader:\n",
    "        lines = reader.readlines()\n",
    "    \n",
    "    from collections import defaultdict\n",
    "    relevant_docs = defaultdict(set)\n",
    "    for line in lines:\n",
    "        query_id, doc_id, _, _ = line.split()\n",
    "        relevant_docs[str(int(query_id))].add(doc_id)\n",
    "    return relevant_docs\n"
   ]
  },
  {
   "cell_type": "code",
   "execution_count": 61,
   "metadata": {
    "deletable": false,
    "editable": false,
    "nbgrader": {
     "cell_type": "code",
     "checksum": "d60caeba85c2a97d2211184a5ae91fd1",
     "grade": false,
     "grade_id": "cell-72215605fbe24f65",
     "locked": true,
     "schema_version": 3,
     "solution": false,
     "task": false
    }
   },
   "outputs": [],
   "source": [
    "#### Function check\n",
    "qrels = read_qrels()\n",
    "\n",
    "assert len(qrels) == 52, \"There should be 52 queries with relevance judgements\"\n",
    "assert sum(len(j) for j in qrels.values()) == 796, \"There should be a total of 796 Relevance Judgements\"\n",
    "\n",
    "assert np.min(np.array([len(j) for j in qrels.values()])) == 1\n",
    "assert np.max(np.array([len(j) for j in qrels.values()])) == 51\n",
    "\n",
    "####"
   ]
  },
  {
   "cell_type": "markdown",
   "metadata": {
    "deletable": false,
    "editable": false,
    "nbgrader": {
     "cell_type": "markdown",
     "checksum": "6c9e7428a52e291a2cdf92a379730d4c",
     "grade": false,
     "grade_id": "cell-176a6fb2939d0420",
     "locked": true,
     "schema_version": 3,
     "solution": false,
     "task": false
    }
   },
   "source": [
    "---\n",
    "**Note:** For a given query `query_id`, you can assume that documents *not* in `qrels[query_id]` are not relevant to `query_id`. \n"
   ]
  },
  {
   "cell_type": "markdown",
   "metadata": {
    "deletable": false,
    "editable": false,
    "nbgrader": {
     "cell_type": "markdown",
     "checksum": "b26a818c7b4f7ad490e00b35ea0edd69",
     "grade": false,
     "grade_id": "cell-bd8341b72cdd89bb",
     "locked": true,
     "schema_version": 3,
     "solution": false,
     "task": false
    }
   },
   "source": [
    "---\n",
    "### 4.2 Precision (7 points)\n",
    "Implement the `precision@k` metric:"
   ]
  },
  {
   "cell_type": "code",
   "execution_count": 62,
   "metadata": {
    "deletable": false,
    "nbgrader": {
     "cell_type": "code",
     "checksum": "43dea1979ebdec24ffcfeff71c670433",
     "grade": false,
     "grade_id": "cell-494bd0cce108ed67",
     "locked": false,
     "schema_version": 3,
     "solution": true,
     "task": false
    }
   },
   "outputs": [],
   "source": [
    "# TODO: Implement this! (7 points)\n",
    "def precision_k(results, relevant_docs, k):\n",
    "    \"\"\"\n",
    "        Compute Precision@K\n",
    "        Input: \n",
    "            results: A sorted list of 2-tuples (document_id, score), \n",
    "                    with the most relevant document in the first position\n",
    "            relevant_docs: A set of relevant documents. \n",
    "            k: the cut-off\n",
    "        Output: Precision@K\n",
    "    \"\"\"\n",
    "    if k > len(results):\n",
    "        k = len(results)\n",
    "        \n",
    "    # YOUR CODE HERE\n",
    "    \n",
    "    # results till k\n",
    "    r_k = dict(results[:k]).keys()\n",
    "        \n",
    "    # intersection\n",
    "    return len(set(r_k) & set(relevant_docs)) / k\n"
   ]
  },
  {
   "cell_type": "code",
   "execution_count": 63,
   "metadata": {
    "deletable": false,
    "editable": false,
    "nbgrader": {
     "cell_type": "code",
     "checksum": "9222e35582b1840ffb60fd02fb0b60c3",
     "grade": true,
     "grade_id": "cell-e7ff0d91c319ca64",
     "locked": true,
     "points": 7,
     "schema_version": 3,
     "solution": false,
     "task": false
    }
   },
   "outputs": [
    {
     "name": "stdout",
     "output_type": "stream",
     "text": [
      "query: What articles exist which deal with TSS (Time Sharing System), an\n",
      "operating system for IBM computers?\n",
      "precision@10 = 0.2\n"
     ]
    }
   ],
   "source": [
    "\n",
    "#### Function check\n",
    "qid = queries[0][0]\n",
    "qtext = queries[0][1]\n",
    "print(f'query:{qtext}')\n",
    "results = bm25_search(qtext, 2)\n",
    "precision = precision_k(results, qrels[qid], 10)\n",
    "print(f'precision@10 = {precision}')\n",
    "####"
   ]
  },
  {
   "cell_type": "markdown",
   "metadata": {
    "deletable": false,
    "editable": false,
    "nbgrader": {
     "cell_type": "markdown",
     "checksum": "8fd3b3998197c7097a40348500affb68",
     "grade": false,
     "grade_id": "cell-afd95f865bc7191e",
     "locked": true,
     "schema_version": 3,
     "solution": false,
     "task": false
    }
   },
   "source": [
    "---\n",
    "### 4.3 Recall (7 points)\n",
    "Implement the `recall@k` metric:"
   ]
  },
  {
   "cell_type": "code",
   "execution_count": 64,
   "metadata": {
    "deletable": false,
    "nbgrader": {
     "cell_type": "code",
     "checksum": "b2020e5741ae03b3fe35817ed8f4ccaa",
     "grade": false,
     "grade_id": "cell-c323fc8c3f8a7cf8",
     "locked": false,
     "schema_version": 3,
     "solution": true,
     "task": false
    }
   },
   "outputs": [],
   "source": [
    "# TODO: Implement this! (7 points)\n",
    "def recall_k(results, relevant_docs, k):\n",
    "    \"\"\"\n",
    "        Compute Recall@K\n",
    "        Input: \n",
    "            results: A sorted list of 2-tuples (document_id, score), with the most relevant document in the first position\n",
    "            relevant_docs: A set of relevant documents. \n",
    "            k: the cut-off\n",
    "        Output: Recall@K\n",
    "    \"\"\"\n",
    "    # YOUR CODE HERE\n",
    "    \n",
    "    # results till k\n",
    "    r_k = set(dict(results[:k]).keys())\n",
    "    \n",
    "    return len(r_k & set(relevant_docs)) / len(relevant_docs)\n"
   ]
  },
  {
   "cell_type": "code",
   "execution_count": 65,
   "metadata": {
    "deletable": false,
    "editable": false,
    "nbgrader": {
     "cell_type": "code",
     "checksum": "56b6e0b8522f8b2dffbfb3206b2efa84",
     "grade": true,
     "grade_id": "cell-b25172161aef165c",
     "locked": true,
     "points": 7,
     "schema_version": 3,
     "solution": false,
     "task": false
    }
   },
   "outputs": [
    {
     "name": "stdout",
     "output_type": "stream",
     "text": [
      "query: SETL, Very High Level Languages\n",
      "recall@10 = 0.3157894736842105\n"
     ]
    }
   ],
   "source": [
    "#### Function check\n",
    "qid = queries[10][0]\n",
    "qtext = queries[10][1]\n",
    "print(f'query:{qtext}')\n",
    "results = bm25_search(qtext, 2)\n",
    "recall = recall_k(results, qrels[qid], 10)\n",
    "print(f'recall@10 = {recall}')\n",
    "####"
   ]
  },
  {
   "cell_type": "markdown",
   "metadata": {
    "deletable": false,
    "editable": false,
    "nbgrader": {
     "cell_type": "markdown",
     "checksum": "b3d3c7bd1cd977cd07ef5df7d3fbf159",
     "grade": false,
     "grade_id": "cell-77fd2e7a39a74739",
     "locked": true,
     "schema_version": 3,
     "solution": false,
     "task": false
    }
   },
   "source": [
    "---\n",
    "### 4.4 Mean Average Precision (13 points)\n",
    "Implement the `map` metric:"
   ]
  },
  {
   "cell_type": "code",
   "execution_count": 66,
   "metadata": {
    "deletable": false,
    "nbgrader": {
     "cell_type": "code",
     "checksum": "aae2c62f2ffd76f5b6c004e9519b9f14",
     "grade": false,
     "grade_id": "cell-e50925fa9093a30d",
     "locked": false,
     "schema_version": 3,
     "solution": true,
     "task": false
    }
   },
   "outputs": [],
   "source": [
    "# TODO: Implement this! (12 points)\n",
    "def average_precision(results, relevant_docs):\n",
    "    \"\"\"\n",
    "        Compute Average Precision (for a single query - the results are \n",
    "        averaged across queries to get MAP in the next few cells)\n",
    "        Hint: You can use the recall_k and precision_k functions here!\n",
    "        Input: \n",
    "            results: A sorted list of 2-tuples (document_id, score), with the most \n",
    "                    relevant document in the first position\n",
    "            relevant_docs: A set of relevant documents. \n",
    "        Output: Average Precision\n",
    "    \"\"\"\n",
    "    # YOUR CODE HERE\n",
    "    \n",
    "    # sum(precision at rank k for document) / len(relevant_docs)\n",
    "    \n",
    "    numerator = 0\n",
    "    \n",
    "    for index, tup in enumerate(results, 1):\n",
    "        if tup[0] in relevant_docs:\n",
    "            numerator += precision_k(results, relevant_docs, index)\n",
    "    \n",
    "    return numerator / len(relevant_docs)\n"
   ]
  },
  {
   "cell_type": "code",
   "execution_count": 67,
   "metadata": {
    "deletable": false,
    "editable": false,
    "nbgrader": {
     "cell_type": "code",
     "checksum": "3b00e147c2fa146fa59f179b7c9cab75",
     "grade": true,
     "grade_id": "cell-8a1f7ec98571e58b",
     "locked": true,
     "points": 13,
     "schema_version": 3,
     "solution": false,
     "task": false
    }
   },
   "outputs": [
    {
     "name": "stdout",
     "output_type": "stream",
     "text": [
      "query: computational complexity, intractability, class-complete reductions,\n",
      "algorithms and efficiency\n",
      "MAP = 0.17240404110559454\n"
     ]
    }
   ],
   "source": [
    "#### Function check\n",
    "qid = queries[20][0]\n",
    "qtext = queries[20][1]\n",
    "print(f'query:{qtext}')\n",
    "results = bm25_search(qtext, 2)\n",
    "mean_ap = average_precision(results, qrels[qid])\n",
    "print(f'MAP = {mean_ap}')\n",
    "####"
   ]
  },
  {
   "cell_type": "markdown",
   "metadata": {
    "deletable": false,
    "editable": false,
    "nbgrader": {
     "cell_type": "markdown",
     "checksum": "36f85f45ef52d9467ba9a717d6d99ff2",
     "grade": false,
     "grade_id": "cell-1da18f0fe6f6d7be",
     "locked": true,
     "schema_version": 3,
     "solution": false,
     "task": false
    }
   },
   "source": [
    "---\n",
    "### 4.5 Expected Reciprocal Rank (13 points)\n",
    "Implement the `err` metric:"
   ]
  },
  {
   "cell_type": "code",
   "execution_count": 68,
   "metadata": {
    "deletable": false,
    "nbgrader": {
     "cell_type": "code",
     "checksum": "9ac94db728e23ea1f5dc0d509473c6fb",
     "grade": false,
     "grade_id": "cell-64262889f9b267ea",
     "locked": false,
     "schema_version": 3,
     "solution": true,
     "task": false
    }
   },
   "outputs": [],
   "source": [
    "# TODO: Implement this! (12 points)\n",
    "def err(results, relevant_docs):\n",
    "    \"\"\"\n",
    "        Compute the expected reciprocal rank.\n",
    "        Hint: https://dl.acm.org/doi/pdf/10.1145/1645953.1646033?download=true\n",
    "        Input: \n",
    "            results: A sorted list of 2-tuples (document_id, score), with the most \n",
    "                    relevant document in the first position\n",
    "            relevant_docs: A set of relevant documents. \n",
    "        Output: ERR\n",
    "        \n",
    "    \"\"\"\n",
    "    # YOUR CODE HERE\n",
    "    \n",
    "    ERR = 0\n",
    "    p = 1\n",
    "    \n",
    "    for rank in range(len(results)):\n",
    "        if results[rank][0] in relevant_docs:\n",
    "            g = 1\n",
    "        else:\n",
    "            g = 0\n",
    "\n",
    "        # g consists of {0, 1} because it's binary ; g_max is always 1\n",
    "        R = ((2**g) - 1) / (2**1)    \n",
    "    \n",
    "        # can't divide by 0\n",
    "        ERR = ERR + (p * (R / (rank + 1)))\n",
    "        p = p * (1 - R)  \n",
    "    \n",
    "    return ERR"
   ]
  },
  {
   "cell_type": "code",
   "execution_count": 69,
   "metadata": {
    "deletable": false,
    "editable": false,
    "nbgrader": {
     "cell_type": "code",
     "checksum": "b7d201de0990b69d5f38704668665d87",
     "grade": true,
     "grade_id": "cell-071e3970ff1afae4",
     "locked": true,
     "points": 13,
     "schema_version": 3,
     "solution": false,
     "task": false
    }
   },
   "outputs": [
    {
     "name": "stdout",
     "output_type": "stream",
     "text": [
      "query: I'd like to find articles describing the use of singular value decomposition\n",
      "in digital image processing.  Applications include finding approximations\n",
      "to the original image and restoring images that are subject to noise. An\n",
      "article on the subject is H.C. Andrews and C.L. Patterson \"Outer product\n",
      "expansions and their uses in digital image processing\", American Mathematical\n",
      "Monthly, vol. 82.\n",
      "ERR = 0.625\n"
     ]
    }
   ],
   "source": [
    "#### Function check\n",
    "qid = queries[30][0]\n",
    "qtext = queries[30][1]\n",
    "print(f'query:{qtext}')\n",
    "results = bm25_search(qtext, 2)\n",
    "ERR = err(results, qrels[qid])\n",
    "print(f'ERR = {ERR}')\n",
    "####"
   ]
  },
  {
   "cell_type": "markdown",
   "metadata": {
    "deletable": false,
    "editable": false,
    "nbgrader": {
     "cell_type": "markdown",
     "checksum": "5bd94caf77cfa5f34675df758d91002d",
     "grade": false,
     "grade_id": "cell-43709a765f353946",
     "locked": true,
     "schema_version": 3,
     "solution": false,
     "task": false
    }
   },
   "source": [
    "---\n",
    "### 4.6 Evaluate Search Functions\n",
    "\n",
    "Let's define some metrics@k using [partial functions](https://docs.python.org/3/library/functools.html#functools.partial)"
   ]
  },
  {
   "cell_type": "code",
   "execution_count": 70,
   "metadata": {
    "deletable": false,
    "editable": false,
    "nbgrader": {
     "cell_type": "code",
     "checksum": "49ccc158e5fb7340ace55e90eeb9d62a",
     "grade": false,
     "grade_id": "cell-dab560e18e340da8",
     "locked": true,
     "schema_version": 3,
     "solution": false,
     "task": false
    }
   },
   "outputs": [],
   "source": [
    "#### metrics@k functions\n",
    "\n",
    "recall_at_1 = partial(recall_k, k=1)\n",
    "recall_at_5 = partial(recall_k, k=5)\n",
    "recall_at_10 = partial(recall_k, k=10)\n",
    "precision_at_1 = partial(precision_k, k=1)\n",
    "precision_at_5 = partial(precision_k, k=5)\n",
    "precision_at_10 = partial(precision_k, k=10)\n",
    "\n",
    "\n",
    "list_of_metrics = [\n",
    "    (\"ERR\", err),\n",
    "    (\"MAP\", average_precision),\n",
    "    (\"Recall@1\",recall_at_1),\n",
    "    (\"Recall@5\", recall_at_5),\n",
    "    (\"Recall@10\", recall_at_10),\n",
    "    (\"Precision@1\", precision_at_1),\n",
    "    (\"Precision@5\", precision_at_5),\n",
    "    (\"Precision@10\", precision_at_10)]\n",
    "####"
   ]
  },
  {
   "cell_type": "markdown",
   "metadata": {
    "deletable": false,
    "editable": false,
    "nbgrader": {
     "cell_type": "markdown",
     "checksum": "fb541002c03221b453b8936290020ea5",
     "grade": false,
     "grade_id": "cell-580a2bdc66d03b47",
     "locked": true,
     "schema_version": 3,
     "solution": false,
     "task": false
    }
   },
   "source": [
    "---\n",
    "\n",
    "The following function evaluates a `search_fn` using the `metric_fn`. Note that the final number is averaged over all the queries"
   ]
  },
  {
   "cell_type": "code",
   "execution_count": 71,
   "metadata": {},
   "outputs": [],
   "source": [
    "recall_at_1 = partial(recall_k, k=1)\n",
    "recall_at_5 = partial(recall_k, k=5)\n",
    "recall_at_10 = partial(recall_k, k=10)\n",
    "recall_at_20 = partial(recall_k, k=20)\n",
    "precision_at_1 = partial(precision_k, k=1)\n",
    "precision_at_5 = partial(precision_k, k=5)\n",
    "precision_at_10 = partial(precision_k, k=10)\n",
    "precision_at_20 = partial(precision_k, k=20)\n",
    "\n",
    "list_of_metrics = [\n",
    "    (\"ERR\", err),\n",
    "    (\"MAP\", average_precision),\n",
    "    (\"Recall@1\",recall_at_1),\n",
    "    (\"Recall@5\", recall_at_5),\n",
    "    (\"Recall@10\", recall_at_10),\n",
    "    (\"Recall@20\", recall_at_20),\n",
    "    (\"Precision@1\", precision_at_1),\n",
    "    (\"Precision@5\", precision_at_5),\n",
    "    (\"Precision@10\", precision_at_10),\n",
    "    (\"Precision@20\", precision_at_20)]\n",
    "\n",
    "#### Evaluate a search function\n",
    "\n",
    "list_of_search_fns = [\n",
    "    (\"BOW\", bow_search),\n",
    "    (\"TF-IDF\", tfidf_search),\n",
    "    (\"NaiveQL\", naive_ql_search),\n",
    "    (\"QL\", ql_search),\n",
    "    (\"BM25\", bm25_search)\n",
    "]\n",
    "\n",
    "def evaluate_search_fn(search_fn, metric_fns, index_set=None):\n",
    "    # build a dict query_id -> query \n",
    "    queries_by_id = dict((q[0], q[1]) for q in queries)\n",
    "    \n",
    "    metrics = {}\n",
    "    for metric, metric_fn in metric_fns:\n",
    "        metrics[metric] = np.zeros(len(qrels), dtype=np.float32)\n",
    "    \n",
    "    for i, (query_id, relevant_docs) in enumerate(qrels.items()):\n",
    "        query = queries_by_id[query_id]\n",
    "        if index_set:\n",
    "            results = search_fn(query, index_set)\n",
    "        else:\n",
    "            results = search_fn(query)\n",
    "        \n",
    "        for metric, metric_fn in metric_fns:\n",
    "            metrics[metric][i] = metric_fn(results, relevant_docs)\n",
    "    \n",
    "    final_dict = {}\n",
    "    for metric, metric_vals in metrics.items():\n",
    "        final_dict[metric] = metric_vals.mean()\n",
    "    \n",
    "    return final_dict\n",
    "\n",
    "####\n",
    "\n",
    "sample_results = [(i,None) for i in [4,0,1,17,2,5,6,13,9,10,8,20,3,15,16]]\n",
    "sample_qrel = [1,8,5,13,15,2]\n",
    "assert precision_k(sample_results, sample_qrel, 1) == 0.\n",
    "assert precision_k(sample_results, sample_qrel, 5) == 0.4\n",
    "assert precision_k(sample_results, sample_qrel, 10) == 0.4\n",
    "assert precision_k(sample_results, sample_qrel, 20) == 0.4\n",
    "assert recall_k(sample_results, sample_qrel, 1) == 0.\n",
    "assert np.allclose(recall_k(sample_results, sample_qrel, 5), 1./3.)\n",
    "assert np.allclose(recall_k(sample_results, sample_qrel, 10), 2./3.)\n",
    "assert recall_k(sample_results, sample_qrel, 20) == 1.\n",
    "assert np.allclose(average_precision(sample_results, sample_qrel), 0.436, 0.001)\n",
    "assert np.allclose(err(sample_results, sample_qrel), 0.2492, 0.001)\n"
   ]
  },
  {
   "cell_type": "markdown",
   "metadata": {
    "deletable": false,
    "editable": false,
    "nbgrader": {
     "cell_type": "markdown",
     "checksum": "6ea67534f74a8f81e1f504794f641709",
     "grade": false,
     "grade_id": "cell-b156d83a0649cbb4",
     "locked": true,
     "schema_version": 3,
     "solution": false,
     "task": false
    }
   },
   "source": [
    "## Section 5: Analysis (30 points) <a class=\"anchor\" id=\"analysis\"></a>\n",
    "\n",
    "[Back to Part 1](#part1)\n",
    "\n",
    "In the final section of Part1, we will compare the different term-based IR algorithms and different preprocessing configurations and analyze their advantages and disadvantages.\n",
    "\n",
    "### Section 5.1: Plot (20 points)\n",
    "\n",
    "First, gather the results. The results should consider the index set, the different search functions and different metrics. Plot the results in bar charts, per metric, with clear labels.\n",
    "\n",
    "**Rubric:**\n",
    "- Each Metric is plotted: 7 points\n",
    "- Each Method is plotted: 7 points\n",
    "- Clear titles, x label, y labels and legends (if applicable): 6 points"
   ]
  },
  {
   "cell_type": "code",
   "execution_count": 72,
   "metadata": {
    "deletable": false,
    "nbgrader": {
     "cell_type": "code",
     "checksum": "7e2588a925d13ddf588abe8311dc9cfc",
     "grade": true,
     "grade_id": "cell-46fda42a25863a04",
     "locked": false,
     "points": 20,
     "schema_version": 3,
     "solution": true,
     "task": false
    }
   },
   "outputs": [
    {
     "name": "stderr",
     "output_type": "stream",
     "text": [
      "/Users/kevintran/opt/anaconda3/envs/python365/lib/python3.6/site-packages/ipykernel_launcher.py:80: UserWarning: Matplotlib is currently using module://ipykernel.pylab.backend_inline, which is a non-GUI backend, so cannot show the figure.\n"
     ]
    },
    {
     "data": {
      "image/png": "[encoded data removed]",
      "text/plain": [
       "<Figure size 1440x1440 with 10 Axes>"
      ]
     },
     "metadata": {
      "needs_background": "light"
     },
     "output_type": "display_data"
    }
   ],
   "source": [
    "# YOUR CODE HERE\n",
    "\n",
    "# the order makes the plot more clear\n",
    "list_of_metrics = [\n",
    "    (\"ERR\", err),\n",
    "    (\"MAP\", average_precision),\n",
    "    (\"Recall@1\",recall_at_1),\n",
    "    (\"Precision@1\", precision_at_1),\n",
    "    (\"Recall@5\", recall_at_5),\n",
    "    (\"Precision@5\", precision_at_5),\n",
    "    (\"Recall@10\", recall_at_10),\n",
    "    (\"Precision@10\", precision_at_10),\n",
    "    (\"Recall@20\", recall_at_20),\n",
    "    (\"Precision@20\", precision_at_20)]\n",
    "\n",
    "# this is the final dict for the plots\n",
    "complete = dict() \n",
    "# temporary dict to differentiate between index 1 and 2\n",
    "temp = dict()   \n",
    "\n",
    "# for both index sets\n",
    "for x in [1,2]:\n",
    "    for search in list_of_search_fns:\n",
    "        temp[search[0]] = evaluate_search_fn(search[1], list_of_metrics, x)\n",
    "    complete[x] = temp\n",
    "    # reset dict\n",
    "    temp = dict()\n",
    "\n",
    "methods = [search[0] for search in list_of_search_fns]\n",
    "metrics = [metric[0] for metric in list_of_metrics]\n",
    "    \n",
    "# split data according to index\n",
    "data_1 = defaultdict(list)\n",
    "data_2 = defaultdict(list)\n",
    "\n",
    "# temporary x-axis labels which are numeric\n",
    "temp_x = np.arange(len(methods)) # + 1\n",
    "\n",
    "# add values to complete\n",
    "for metric in metrics:\n",
    "\n",
    "    # index 1\n",
    "    values_1 = [complete[1][method][metric] for method in methods] \n",
    "    data_1[metric].append(values_1)\n",
    "    \n",
    "    # index 2\n",
    "    values_2 = [complete[2][method][metric] for method in methods]\n",
    "    data_2[metric].append(values_2)\n",
    "    \n",
    "# plot\n",
    "fig, ax = plt.subplots(5, 2, figsize=(20, 20))\n",
    "\n",
    "# adjust y and pad for spacing\n",
    "fig.suptitle('Metric per method per index set', y=1.02, size='xx-large')\n",
    "fig.tight_layout(pad=5.0)\n",
    "\n",
    "# this is a lifesaver\n",
    "ax = ax.flatten()\n",
    "\n",
    "for index, metric in enumerate(metrics):\n",
    "    width = 0.35\n",
    "\n",
    "    # create plots for indices 1 and 2\n",
    "    ax[index].bar(temp_x - width/2, data_1[metric][0], width, color='salmon', label='Index set 1')\n",
    "    ax[index].bar(temp_x + width/2, data_2[metric][0], width, color='skyblue', label='Index set 2')\n",
    "\n",
    "    # set to actual labels\n",
    "    ax[index].set_xticks(temp_x)\n",
    "    ax[index].set_xticklabels(methods)\n",
    "\n",
    "    # set y-axis \n",
    "    ax[index].set_ylabel(metric + ' score')\n",
    "    ax[index].set_title('Figure {}: Results of {}'.format(index + 1, metric))\n",
    "    \n",
    "    # set same ylim for all plot to make differences between plots more clear\n",
    "    ax[index].set_ylim((0, 0.60))\n",
    "\n",
    "    ax[index].legend()\n",
    "   \n",
    "fig.show()"
   ]
  },
  {
   "cell_type": "markdown",
   "metadata": {
    "deletable": false,
    "editable": false,
    "nbgrader": {
     "cell_type": "markdown",
     "checksum": "e88c444a0acf4e398c65e289169b75f7",
     "grade": false,
     "grade_id": "cell-8aabe3bcf265deb0",
     "locked": true,
     "points": 10,
     "schema_version": 3,
     "solution": false,
     "task": true
    }
   },
   "source": [
    "---\n",
    "### Section 5.2: Summary (10 points)\n",
    "Write a summary of what you observe in the results.\n",
    "Your summary should compare results across the 2 indices and the methods being used. State what you expected to see in the results, followed by either supporting evidence *or* justify why the results did not support your expectations.      "
   ]
  },
  {
   "cell_type": "markdown",
   "metadata": {},
   "source": [
    "#### Summary of 2 indices\n",
    "Across the two indices in the figures plotted above, you can clearly see that index set 2 (represented by the blue bars) has higher scores in nearly all graphs. Only the QL in Figures 3 and 5 (Recall@1 and Recall@5) give a higher score for index set 1 than set 2, but the differences are quite small. These findings are in line with our expectations, as the pre-processing of index set 2 includes lowercasing, stemming, and the removal of stopwords, as opposed to index set 1 for which only lowercasing is used.\n",
    "\n",
    "#### Summary across methods \n",
    "We expected that the BM25 method is the best performing metric overall. This expectation is supported by the plotted figures because in all the figures (i.e. all of the evaluation metrics used), BM25 performs best. We also expected the BOW to perform worse than the TF-IDF, as the BOW only takes the frequency of a term into account, while the TF-IDF also uses the number of documents that a term occurs in. This expectation is also supported by the Figures because the outcome of TF-IDF is higher in all of them.\n",
    "\n",
    "Furthermore, we expected the recall score to increase with the rank and the precision to decrease because if the number of documents increases, the percentage of relevant items will decrease, whereas the number of retrieved relevant items will increase. This is also supported by the Figures above.\n",
    "\n",
    "Moreover, we expected low scores for NaiveQL (i.e. when the tf = 0, the product will also be 0). This expectation is supported by the Figures. In addition, we expected the QL to perform better than the NaiveQL model because the QL model handles the issues with the naive version by using Jelinek-Mercer Smoothing. This expectation is also supported by the Figures plotted above as the QL model performs better in every Figure. \n"
   ]
  },
  {
   "cell_type": "markdown",
   "metadata": {
    "deletable": false,
    "editable": false,
    "nbgrader": {
     "cell_type": "markdown",
     "checksum": "b3eb77be74eecca205fc7b47316d1627",
     "grade": false,
     "grade_id": "cell-bb60dd5c092d0f2e",
     "locked": true,
     "schema_version": 3,
     "solution": false,
     "task": false
    }
   },
   "source": [
    "---\n",
    "---\n",
    "# Part 2: Semantic-based Matching (85 points) <a class=\"anchor\" id=\"part2\"></a>\n",
    "\n",
    "[Back to top](#top)\n",
    "\n",
    "We will now experiment with methods that go beyond lexical methods like TF-IDF, which operate at the word level and are high dimensional and sparse, and look at methods which constructs low dimensional dense representations of queries and documents. \n",
    "\n",
    "Since these low-dimensional methods have a higher time complexity, they are typically used in conjunction with methods like BM-25. That is, instead of searching through potentially million documents to find matches using low dimensional vectors, a list of K documents are retrieved using BM25, and then **re-ranked** using the other method. This is the method that is going to be applied in the following exercises. \n",
    "\n",
    "LSI/LDA takes documents that are similar on a semantic level - for instance, if they are describing the same topic - and projects them into nearby vectors, despite having low lexical overlap.\n",
    "\n",
    "In this assignment, you will use `gensim` to create LSI/LDA models and use them in re-ranking. \n",
    "\n",
    "**Note**: The following exercises only uses `doc_repr_2` and `config_2`\n",
    "\n",
    "Table of contents:\n",
    "- [Section 6: LSI](#lsi) (15 points)\n",
    "- [Section 7: LDA](#lda) (10 points)\n",
    "- [Section 8: Word2Vec/Doc2Vec](#2vec) (20 points)\n",
    "- [Section 8: Re-ranking](#reranking) (10 points)\n",
    "- [Section 9: Re-ranking Evaluation](#reranking_eval) (30 points)"
   ]
  },
  {
   "cell_type": "markdown",
   "metadata": {
    "deletable": false,
    "editable": false,
    "nbgrader": {
     "cell_type": "markdown",
     "checksum": "f7c7b2cab82f576ed0acf836ca57171c",
     "grade": false,
     "grade_id": "cell-6b2c81e7a8abd180",
     "locked": true,
     "schema_version": 3,
     "solution": false,
     "task": false
    }
   },
   "source": [
    "---\n",
    "## Section 6: Latent Semantic Indexing (LSI) (15 points) <a class=\"anchor\" id=\"lsi\"></a>\n",
    "\n",
    "[Back to Part 2](#part2)\n",
    "\n",
    "LSI is one of the methods to embed the queries and documents into vectors. It is based on a method similar to Principal Component Analysis (PCA) for obtaining a dense concept matrix out of the sparse term-document matrix.\n",
    "\n",
    "See [wikipedia](https://en.wikipedia.org/wiki/Latent_semantic_analysis), particularly [#Mathematics_of_LSI](https://en.wikipedia.org/wiki/Latent_semantic_analysis#Mathematics_of_LSI)."
   ]
  },
  {
   "cell_type": "code",
   "execution_count": 73,
   "metadata": {
    "deletable": false,
    "editable": false,
    "nbgrader": {
     "cell_type": "code",
     "checksum": "c17ee75319cb517e2bf48ec3d9efc329",
     "grade": false,
     "grade_id": "cell-59913daee47f680d",
     "locked": true,
     "schema_version": 3,
     "solution": false,
     "task": false
    }
   },
   "outputs": [],
   "source": [
    "from gensim.corpora import Dictionary\n",
    "from gensim.models import LdaModel, LsiModel, Word2Vec\n",
    "from gensim.models.doc2vec import Doc2Vec, TaggedDocument\n",
    "from gensim import downloader as g_downloader\n",
    "# gensim uses logging, so set it up \n",
    "import logging\n",
    "logging.basicConfig(format='%(asctime)s : %(levelname)s : %(message)s', level=logging.INFO)"
   ]
  },
  {
   "cell_type": "markdown",
   "metadata": {
    "deletable": false,
    "editable": false,
    "nbgrader": {
     "cell_type": "markdown",
     "checksum": "5fce140c546759b54a9fc060901ae77c",
     "grade": false,
     "grade_id": "cell-3644faff4976598a",
     "locked": true,
     "schema_version": 3,
     "solution": false,
     "task": false
    }
   },
   "source": [
    "---\n",
    "### Section 6.1: Cosine Similarity (5 points)<a class=\"anchor\" id=\"cosing_sim\"></a>\n",
    "Before we begin, let us first define our method of similarity for the LSI model, the cosine similarity:\n",
    "\n",
    "$$\\text{similarity} = \\cos(\\theta) = {\\mathbf{A} \\cdot \\mathbf{B} \\over \\|\\mathbf{A}\\| \\|\\mathbf{B}\\|} = \\frac{ \\sum\\limits_{i=1}^{n}{A_i  B_i} }{ \\sqrt{\\sum\\limits_{i=1}^{n}{A_i^2}}  \\sqrt{\\sum\\limits_{i=1}^{n}{B_i^2}} }$$\n",
    "\n",
    "Since we are using gensim, the types of vectors returned by their classes are of the form defined below (they are not just simple vectors):"
   ]
  },
  {
   "cell_type": "code",
   "execution_count": 74,
   "metadata": {
    "deletable": false,
    "editable": false,
    "nbgrader": {
     "cell_type": "code",
     "checksum": "4e340e1a1d546f430c018fd0760e707a",
     "grade": false,
     "grade_id": "cell-3995a50f951314d5",
     "locked": true,
     "schema_version": 3,
     "solution": false,
     "task": false
    }
   },
   "outputs": [],
   "source": [
    "# 1, 2, 3 are either latent dimensions (LSI), or topics (LDA)\n",
    "# The second value in each tuple is a number (LSI) or a probability (LDA)  \n",
    "example_vec_1 = [(1, 0.2), (2, 0.3), (3, 0.4)]\n",
    "example_vec_2 = [(1, 0.2), (2, 0.7), (3, 0.4)]"
   ]
  },
  {
   "cell_type": "markdown",
   "metadata": {
    "deletable": false,
    "editable": false,
    "nbgrader": {
     "cell_type": "markdown",
     "checksum": "20832fd4f579f49ae204b0efee02edd1",
     "grade": false,
     "grade_id": "cell-5e54d581858dc8f7",
     "locked": true,
     "schema_version": 3,
     "solution": false,
     "task": false
    }
   },
   "source": [
    "---\n",
    "**Implementation (2+3 points):**\n",
    "Now, implement the `dot product` operation on these types of vectors and using this operator, implement the `cosine similarity` (don't forget: two functions to implement!):"
   ]
  },
  {
   "cell_type": "code",
   "execution_count": 75,
   "metadata": {
    "deletable": false,
    "nbgrader": {
     "cell_type": "code",
     "checksum": "06a712ee75fc213a21c5f0067fd8fe28",
     "grade": false,
     "grade_id": "cell-0e8189f5f93de33f",
     "locked": false,
     "schema_version": 3,
     "solution": true,
     "task": false
    }
   },
   "outputs": [],
   "source": [
    "# TODO: Implement this! (2 points)\n",
    "def dot(vec_1,vec_2): \n",
    "    \"\"\"\n",
    "        vec_1 and vec_2 are of the form: [(int, float), (int, float), ...]\n",
    "        Return the dot product of two such vectors, computed only on the floats\n",
    "        You can assume that the lengths of the vectors are the same, and the dimensions are aligned \n",
    "            i.e you won't get: vec_1 = [(1, 0.2)] ; vec_2 = [(2, 0.3)] \n",
    "                                (dimensions are unaligned and lengths are different)\n",
    "    \"\"\"\n",
    "    # YOUR CODE HERE\n",
    "    \n",
    "    values_1 = np.array([tup[1] for tup in vec_1])\n",
    "    values_2 = np.array([tup[1] for tup in vec_2])\n",
    "     \n",
    "    return np.dot(values_1, values_2)\n",
    "\n",
    "# TODO: Implement this! (3 points)\n",
    "def cosine_sim(vec_1, vec_2):\n",
    "    # YOUR CODE HERE\n",
    "    \n",
    "    if len(vec_1) == 0 or len(vec_2) == 0:\n",
    "        return 0\n",
    "    \n",
    "    numerator = dot(vec_1, vec_2)\n",
    "    denominator_a = np.sqrt(dot(vec_1, vec_1))\n",
    "    denominator_b = np.sqrt(dot(vec_2, vec_2))\n",
    "    \n",
    "    return numerator / (denominator_a * denominator_b)"
   ]
  },
  {
   "cell_type": "code",
   "execution_count": 76,
   "metadata": {
    "deletable": false,
    "editable": false,
    "nbgrader": {
     "cell_type": "code",
     "checksum": "d22a4a7325ba7815a808390388f534a1",
     "grade": true,
     "grade_id": "cell-b25d04ed6b79fd35",
     "locked": true,
     "points": 2,
     "schema_version": 3,
     "solution": false,
     "task": false
    }
   },
   "outputs": [
    {
     "name": "stdout",
     "output_type": "stream",
     "text": [
      "vectors: ([(1, 0.2), (2, 0.3), (3, 0.4)], [(1, 0.2), (2, 0.7), (3, 0.4)])\n",
      "dot product = 0.41000000000000003\n",
      "cosine similarity = 0.9165587597202866\n"
     ]
    }
   ],
   "source": [
    "##### Function check\n",
    "print(f'vectors: {(example_vec_1,example_vec_2)}')\n",
    "print(f'dot product = {dot(example_vec_1,example_vec_2)}')\n",
    "print(f'cosine similarity = {cosine_sim(example_vec_1,example_vec_2)}')\n",
    "##### "
   ]
  },
  {
   "cell_type": "code",
   "execution_count": 77,
   "metadata": {
    "deletable": false,
    "editable": false,
    "nbgrader": {
     "cell_type": "code",
     "checksum": "0744131724ce76b1b3f163b4bae5f700",
     "grade": true,
     "grade_id": "cell-ae3c4466866ace77",
     "locked": true,
     "points": 3,
     "schema_version": 3,
     "solution": false,
     "task": false
    }
   },
   "outputs": [],
   "source": [
    "#### Please do not change this. This cell is used for grading."
   ]
  },
  {
   "cell_type": "markdown",
   "metadata": {
    "deletable": false,
    "editable": false,
    "nbgrader": {
     "cell_type": "markdown",
     "checksum": "9b123f599f9ea372d14676e23f1c6a52",
     "grade": false,
     "grade_id": "cell-4b2534067c44fcdf",
     "locked": true,
     "schema_version": 3,
     "solution": false,
     "task": false
    }
   },
   "source": [
    "---\n",
    "### Section 6.2: LSI Retrieval (10 points)<a class=\"anchor\" id=\"lsi_retrieval\"></a>\n",
    "LSI retrieval is simply ranking the documents based on their cosine similarity to the query vector.\n",
    "First, let's write a parent class for vector-based retrieval models:"
   ]
  },
  {
   "cell_type": "code",
   "execution_count": 78,
   "metadata": {
    "deletable": false,
    "editable": false,
    "nbgrader": {
     "cell_type": "code",
     "checksum": "ecc111d58182570e2252b8ef5d6b02af",
     "grade": false,
     "grade_id": "cell-937936cea18711ee",
     "locked": true,
     "schema_version": 3,
     "solution": false,
     "task": false
    }
   },
   "outputs": [],
   "source": [
    "class VectorSpaceRetrievalModel:\n",
    "    \"\"\"\n",
    "        Parent class for Dense Vector Retrieval models\n",
    "    \"\"\"\n",
    "    def __init__(self, doc_repr):\n",
    "        \"\"\"\n",
    "            document_collection: \n",
    "                [\n",
    "                    (doc_id_1, [token 1, token 2, ...]), \n",
    "                    (doc_id_2, [token 1, token 2, ....]) \n",
    "                    ...\n",
    "                ]\n",
    "\n",
    "        \"\"\"\n",
    "        self.doc_repr = doc_repr\n",
    "        self.documents = [_[1] for _ in self.doc_repr]\n",
    "        \n",
    "        # construct a dictionary\n",
    "        self.dictionary = Dictionary(self.documents)\n",
    "        # Filter out words that occur less than 20 documents, or more than 50% of the documents.\n",
    "        self.dictionary.filter_extremes(no_below=10)\n",
    "        self.corpus = [self.dictionary.doc2bow(doc) for doc in self.documents]\n",
    "    \n",
    "        # Make a index to word dictionary.\n",
    "        temp = self.dictionary[0]  # This is only to \"load\" the dictionary.\n",
    "        self.id2word = self.dictionary.id2token\n",
    "        \n",
    "        # this is set by the train_model function\n",
    "        self.model = None\n",
    "        \n",
    "        \n",
    "    def vectorize_documents(self):\n",
    "        \"\"\"\n",
    "            Returns a doc_id -> vector dictionary\n",
    "        \"\"\"\n",
    "        vectors = {}\n",
    "        for (doc_id, _), cc in zip(self.doc_repr, self.corpus):\n",
    "            vectors[doc_id] = self.model[cc]\n",
    "        return vectors\n",
    "\n",
    "    def vectorize_query(self, query):\n",
    "        # Note the use of config_2 here!\n",
    "        query = process_text(query, **config_2)\n",
    "        query_vector = self.dictionary.doc2bow(query)\n",
    "        return self.model[query_vector]\n",
    "    \n",
    "    def train_model(self):\n",
    "        \"\"\"\n",
    "            Trains a model and sets the 'self.model' variable. \n",
    "            Make sure to use the variables created in the __init__ method.\n",
    "            e.g the variables which may be useful: {corpus, dictionary, id2word}\n",
    "        \"\"\"\n",
    "        raise NotImplementedError()"
   ]
  },
  {
   "cell_type": "markdown",
   "metadata": {
    "deletable": false,
    "editable": false,
    "nbgrader": {
     "cell_type": "markdown",
     "checksum": "ff161eefd9b81b768cd6361bc1a502b0",
     "grade": false,
     "grade_id": "cell-704a18c2f80cd60c",
     "locked": true,
     "schema_version": 3,
     "solution": false,
     "task": false
    }
   },
   "source": [
    "---\n",
    "**Implementation (5 points):**\n",
    "Implement the `train_model` method in the following class (note that this is only one line of code in `gensim`!). Ensure that the parameters defined in the `__init__` method are not changed, and are *used in the `train_method` function*. Normally, the hyperaparameter space will be searched using grid search / other methods - in this assignment we have provided the hyperparameters for you.\n",
    "\n",
    "The last two lines of code train an LSI model on the list of documents which have been stemmed, lower-cased and have stopwords removed. "
   ]
  },
  {
   "cell_type": "code",
   "execution_count": 79,
   "metadata": {
    "deletable": false,
    "nbgrader": {
     "cell_type": "code",
     "checksum": "0e90eedc27c248bc1ae050518a46a46c",
     "grade": false,
     "grade_id": "cell-307682c9089f15d6",
     "locked": false,
     "schema_version": 3,
     "solution": true,
     "task": false
    }
   },
   "outputs": [],
   "source": [
    "# TODO: Implement this! (5 points)\n",
    "class LsiRetrievalModel(VectorSpaceRetrievalModel):\n",
    "    def __init__(self, doc_repr):\n",
    "        super().__init__(doc_repr)\n",
    "        \n",
    "        self.num_topics = 100\n",
    "        self.chunksize = 2000\n",
    "    \n",
    "    def train_model(self):\n",
    "        # YOUR CODE HERE\n",
    "        \n",
    "        self.model = LsiModel(corpus=self.corpus, num_topics=self.num_topics, chunksize=self.chunksize, \n",
    "                              id2word=self.id2word)\n",
    "        \n",
    "        return self.model"
   ]
  },
  {
   "cell_type": "code",
   "execution_count": 80,
   "metadata": {
    "deletable": false,
    "editable": false,
    "nbgrader": {
     "cell_type": "code",
     "checksum": "00399cfe13d60cb4beed1271e36004b0",
     "grade": true,
     "grade_id": "cell-5ce512650c1b2dfb",
     "locked": true,
     "points": 0,
     "schema_version": 3,
     "solution": false,
     "task": false
    }
   },
   "outputs": [
    {
     "name": "stderr",
     "output_type": "stream",
     "text": [
      "2022-02-28 19:35:35,639 : INFO : adding document #0 to Dictionary(0 unique tokens: [])\n",
      "2022-02-28 19:35:35,756 : INFO : built Dictionary(5937 unique tokens: ['-', 'algebra', 'intern', 'languag', 'preliminari']...) from 3204 documents (total 115969 corpus positions)\n",
      "2022-02-28 19:35:35,761 : INFO : discarding 4740 tokens: [('repeat', 8), ('glossari', 7), ('inspect', 8), ('uncol', 2), ('rung', 9), ('secant', 2), ('.', 1603), ('acceler', 6), ('diverg', 3), ('induc', 9)]...\n",
      "2022-02-28 19:35:35,762 : INFO : keeping 1197 tokens which were in no less than 10 and no more than 1602 (=50.0%) documents\n",
      "2022-02-28 19:35:35,763 : INFO : resulting dictionary: Dictionary(1197 unique tokens: ['-', 'algebra', 'intern', 'languag', 'preliminari']...)\n",
      "2022-02-28 19:35:35,816 : INFO : using serial LSI version on this node\n",
      "2022-02-28 19:35:35,817 : INFO : updating model with new documents\n",
      "2022-02-28 19:35:35,817 : INFO : preparing a new chunk of documents\n",
      "2022-02-28 19:35:35,826 : INFO : using 100 extra samples and 2 power iterations\n",
      "2022-02-28 19:35:35,827 : INFO : 1st phase: constructing (1197, 200) action matrix\n",
      "2022-02-28 19:35:35,845 : INFO : orthonormalizing (1197, 200) action matrix\n",
      "2022-02-28 19:35:36,011 : INFO : 2nd phase: running dense svd on (200, 2000) matrix\n",
      "2022-02-28 19:35:36,162 : INFO : computing the final decomposition\n",
      "2022-02-28 19:35:36,163 : INFO : keeping 100 factors (discarding 13.457% of energy spectrum)\n",
      "2022-02-28 19:35:36,166 : INFO : processed documents up to #2000\n",
      "2022-02-28 19:35:36,168 : INFO : topic #0(152.127): 0.741*\",\" + 0.342*\"-\" + 0.211*\"system\" + 0.204*\"program\" + 0.192*\"comput\" + 0.146*\"(\" + 0.127*\"languag\" + 0.108*\")\" + 0.084*\"gener\" + 0.083*\"data\"\n",
      "2022-02-28 19:35:36,168 : INFO : topic #1(60.600): -0.607*\"(\" + -0.434*\")\" + -0.366*\"algorithm\" + -0.300*\"-\" + 0.237*\",\" + 0.213*\"system\" + 0.132*\"comput\" + -0.096*\"[\" + 0.093*\"program\" + -0.084*\"])\"\n",
      "2022-02-28 19:35:36,168 : INFO : topic #2(57.438): -0.744*\"-\" + 0.452*\",\" + -0.263*\"system\" + 0.214*\"(\" + 0.166*\")\" + -0.107*\"time\" + -0.105*\"program\" + 0.094*\"algorithm\" + -0.068*\"comput\" + -0.067*\"share\"\n",
      "2022-02-28 19:35:36,169 : INFO : topic #3(48.370): 0.483*\"system\" + 0.375*\"program\" + 0.367*\"comput\" + -0.363*\"-\" + -0.308*\",\" + 0.212*\"(\" + 0.168*\")\" + 0.147*\"algorithm\" + -0.144*\"languag\" + 0.119*\"time\"\n",
      "2022-02-28 19:35:36,169 : INFO : topic #4(45.710): -0.489*\"comput\" + 0.475*\"languag\" + 0.428*\"program\" + -0.238*\"method\" + -0.141*\"problem\" + 0.121*\"system\" + 0.109*\")\" + -0.107*\"equat\" + -0.100*\"algorithm\" + 0.099*\"(\"\n",
      "2022-02-28 19:35:36,170 : INFO : preparing a new chunk of documents\n",
      "2022-02-28 19:35:36,177 : INFO : using 100 extra samples and 2 power iterations\n",
      "2022-02-28 19:35:36,178 : INFO : 1st phase: constructing (1197, 200) action matrix\n",
      "2022-02-28 19:35:36,188 : INFO : orthonormalizing (1197, 200) action matrix\n",
      "2022-02-28 19:35:36,384 : INFO : 2nd phase: running dense svd on (200, 1204) matrix\n",
      "2022-02-28 19:35:36,497 : INFO : computing the final decomposition\n",
      "2022-02-28 19:35:36,498 : INFO : keeping 100 factors (discarding 14.035% of energy spectrum)\n",
      "2022-02-28 19:35:36,500 : INFO : merging projections: (1197, 100) + (1197, 100)\n",
      "2022-02-28 19:35:36,574 : INFO : keeping 100 factors (discarding 8.169% of energy spectrum)\n",
      "2022-02-28 19:35:36,577 : INFO : processed documents up to #3204\n",
      "2022-02-28 19:35:36,578 : INFO : topic #0(225.136): 0.759*\",\" + 0.337*\"-\" + 0.196*\"system\" + 0.186*\"program\" + 0.166*\"comput\" + 0.139*\"(\" + 0.103*\")\" + 0.103*\"algorithm\" + 0.099*\"languag\" + 0.087*\"time\"\n",
      "2022-02-28 19:35:36,578 : INFO : topic #1(87.805): 0.613*\"-\" + -0.399*\",\" + 0.399*\"(\" + 0.326*\"algorithm\" + 0.293*\")\" + -0.129*\"system\" + -0.107*\"program\" + 0.085*\"method\" + 0.077*\"time\" + 0.062*\"1\"\n",
      "2022-02-28 19:35:36,579 : INFO : topic #2(81.909): 0.550*\"-\" + -0.434*\"(\" + 0.355*\"system\" + -0.321*\")\" + -0.291*\",\" + -0.266*\"algorithm\" + 0.146*\"program\" + 0.123*\"comput\" + 0.078*\"time\" + -0.064*\"[\"\n",
      "2022-02-28 19:35:36,579 : INFO : topic #3(72.433): -0.693*\"program\" + 0.339*\",\" + 0.279*\"-\" + -0.251*\"(\" + -0.221*\"system\" + -0.214*\"languag\" + -0.204*\")\" + -0.160*\"comput\" + -0.099*\"data\" + -0.056*\"execut\"\n",
      "2022-02-28 19:35:36,580 : INFO : topic #4(68.523): -0.673*\"system\" + 0.453*\"program\" + 0.254*\"languag\" + 0.212*\"-\" + -0.179*\"comput\" + -0.165*\"(\" + -0.121*\")\" + -0.115*\"model\" + 0.101*\",\" + -0.098*\"algorithm\"\n"
     ]
    },
    {
     "data": {
      "text/plain": [
       "[(0, 0.015214342314075082),\n",
       " (1, -0.016288738210519856),\n",
       " (2, -0.00018401393279511308),\n",
       " (3, -0.0018134530622585894),\n",
       " (4, -0.009397770377809315),\n",
       " (5, -0.004711244503687714),\n",
       " (6, 0.02711081849407718),\n",
       " (7, 0.01669433998391986),\n",
       " (8, -0.03173416221694102),\n",
       " (9, -0.0006578583696114221),\n",
       " (10, 0.0021220971924800283),\n",
       " (11, -0.017353835912064713),\n",
       " (12, 0.00014740774590105317),\n",
       " (13, 0.0017157826126895995),\n",
       " (14, 0.004201617561334197),\n",
       " (15, 0.005315741989261964),\n",
       " (16, 0.005650766238294524),\n",
       " (17, 0.0034078326968207083),\n",
       " (18, -0.01704606948924402),\n",
       " (19, 0.022713422702921815),\n",
       " (20, -0.00876625319634142),\n",
       " (21, -0.013210285131687172),\n",
       " (22, 0.046908851537212484),\n",
       " (23, 0.02535805482928411),\n",
       " (24, -0.009527482145872207),\n",
       " (25, -0.010351543451861723),\n",
       " (26, 0.005867497687672318),\n",
       " (27, 0.07711595255130334),\n",
       " (28, -0.06208196033134836),\n",
       " (29, 0.03042206370071133),\n",
       " (30, 0.04429551820380094),\n",
       " (31, 0.04653913760661099),\n",
       " (32, -0.07487506262923052),\n",
       " (33, 0.0424345735591248),\n",
       " (34, -0.026807704669892386),\n",
       " (35, 0.059392094099544816),\n",
       " (36, 0.0443166140964147),\n",
       " (37, -0.0019494576320852408),\n",
       " (38, -0.06123742604138514),\n",
       " (39, 0.022778649807139773),\n",
       " (40, -0.0412902872836407),\n",
       " (41, -0.03645088817935353),\n",
       " (42, 0.023358857804256564),\n",
       " (43, 0.014684858412433187),\n",
       " (44, 0.022607356674001055),\n",
       " (45, 0.05730077350513312),\n",
       " (46, 0.011379511198893072),\n",
       " (47, 0.00458381302581971),\n",
       " (48, 0.014887583386801715),\n",
       " (49, 0.03115995070913579),\n",
       " (50, 0.018838394538818838),\n",
       " (51, 0.04713505031492277),\n",
       " (52, -0.0013809104466477838),\n",
       " (53, 0.001045545901212917),\n",
       " (54, 0.038013177986347436),\n",
       " (55, 0.03306837968528176),\n",
       " (56, -0.006122773513015871),\n",
       " (57, -0.014360482441258841),\n",
       " (58, -0.017697196528883023),\n",
       " (59, 0.04352120461880761),\n",
       " (60, -0.022199673634675),\n",
       " (61, -0.034251045435194916),\n",
       " (62, -0.02505559416110512),\n",
       " (63, 0.04439191156452576),\n",
       " (64, -0.046976894884834725),\n",
       " (65, 0.034349759655392595),\n",
       " (66, 0.021070849759366038),\n",
       " (67, -0.033005128967318734),\n",
       " (68, 0.017088951427320212),\n",
       " (69, -0.05672312308842858),\n",
       " (70, -0.05501211363254697),\n",
       " (71, -0.009192481180161121),\n",
       " (72, 0.030363501242016932),\n",
       " (73, -0.07804751129226076),\n",
       " (74, -0.06368279731746304),\n",
       " (75, 0.045972686492970906),\n",
       " (76, -0.0048913729624694355),\n",
       " (77, 0.004743587081364646),\n",
       " (78, 0.03523080136159176),\n",
       " (79, 0.04001547969875088),\n",
       " (80, 0.009529941323349292),\n",
       " (81, -0.00859235211526628),\n",
       " (82, 0.04990279993698908),\n",
       " (83, -0.03191358320708465),\n",
       " (84, 0.03851751265423347),\n",
       " (85, -0.042267283825166244),\n",
       " (86, -0.006002177427920769),\n",
       " (87, 0.05062511811187999),\n",
       " (88, -0.04518507607719761),\n",
       " (89, -0.07325659245450888),\n",
       " (90, -0.024013696417266514),\n",
       " (91, 0.05572321867331757),\n",
       " (92, 0.029917674960043064),\n",
       " (93, -0.06374125323711492),\n",
       " (94, 0.013700160458688219),\n",
       " (95, -0.005503075731830655),\n",
       " (96, -0.01328786701376412),\n",
       " (97, 0.013673717072992093),\n",
       " (98, 0.0058333792129752725),\n",
       " (99, 0.014154884520060043)]"
      ]
     },
     "execution_count": 80,
     "metadata": {},
     "output_type": "execute_result"
    }
   ],
   "source": [
    "##### Function check\n",
    "lsi = LsiRetrievalModel(doc_repr_2)\n",
    "lsi.train_model()\n",
    "\n",
    "# you can now get an LSI vector for a given query in the following way:\n",
    "lsi.vectorize_query(\"report\")\n",
    "##### "
   ]
  },
  {
   "cell_type": "markdown",
   "metadata": {
    "deletable": false,
    "editable": false,
    "nbgrader": {
     "cell_type": "markdown",
     "checksum": "7116bb9f576c5bb04934e1d59c51d729",
     "grade": false,
     "grade_id": "cell-4c5eeb557b4fca2f",
     "locked": true,
     "points": 5,
     "schema_version": 3,
     "solution": false,
     "task": true
    }
   },
   "source": [
    "\\#### Please do not change this. This cell is used for grading."
   ]
  },
  {
   "cell_type": "markdown",
   "metadata": {
    "deletable": false,
    "editable": false,
    "nbgrader": {
     "cell_type": "markdown",
     "checksum": "26e2ff3c413745e633d99f66c041d6b1",
     "grade": false,
     "grade_id": "cell-c4e50296cd17a555",
     "locked": true,
     "schema_version": 3,
     "solution": false,
     "task": false
    }
   },
   "source": [
    "---\n",
    "**Implementation (5 points):**\n",
    " Next, implement a basic ranking class for vector space retrieval (used for all semantic methods): "
   ]
  },
  {
   "cell_type": "code",
   "execution_count": 81,
   "metadata": {
    "deletable": false,
    "nbgrader": {
     "cell_type": "code",
     "checksum": "1a8389d2f0635c3405e2b0b27ed9f327",
     "grade": false,
     "grade_id": "cell-250515d288e80cdc",
     "locked": false,
     "schema_version": 3,
     "solution": true,
     "task": false
    }
   },
   "outputs": [],
   "source": [
    "# TODO: Implement this! (5 points)\n",
    "class DenseRetrievalRanker:\n",
    "    def __init__(self, vsrm, similarity_fn):\n",
    "        \"\"\"\n",
    "            vsrm: instance of `VectorSpaceRetrievalModel`\n",
    "            similarity_fn: function instance that takes in two vectors \n",
    "                            and returns a similarity score e.g cosine_sim defined earlier\n",
    "        \"\"\"\n",
    "        self.vsrm = vsrm \n",
    "        self.vectorized_documents = self.vsrm.vectorize_documents()\n",
    "        self.similarity_fn = similarity_fn\n",
    "    \n",
    "    def _compute_sim(self, query_vector):\n",
    "        \"\"\"\n",
    "            Compute the similarity of `query_vector` to documents in \n",
    "            `self.vectorized_documents` using `self.similarity_fn`\n",
    "            Returns a list of (doc_id, score) tuples\n",
    "        \"\"\"\n",
    "        # YOUR CODE HERE\n",
    "        \n",
    "        output = []\n",
    "        \n",
    "        for doc_id in list(self.vectorized_documents.keys()):\n",
    "            output.append((doc_id, self.similarity_fn(query_vector, self.vectorized_documents[doc_id])))\n",
    "          \n",
    "        # this replaces nans with 0.0 in later checks\n",
    "        if np.isnan(output[0][1]):\n",
    "            return [(tup[0], 0.0) for tup in output]\n",
    "        \n",
    "        return output\n",
    "    \n",
    "    def search(self, query):\n",
    "        scores = self._compute_sim(self.vsrm.vectorize_query(query))\n",
    "        scores.sort(key=lambda _:-_[1])\n",
    "        return scores \n"
   ]
  },
  {
   "cell_type": "code",
   "execution_count": 82,
   "metadata": {
    "deletable": false,
    "editable": false,
    "nbgrader": {
     "cell_type": "code",
     "checksum": "f237dd1ef6c1783c06797f4b514421f5",
     "grade": true,
     "grade_id": "cell-b73068b3e77a8e31",
     "locked": true,
     "points": 0,
     "schema_version": 3,
     "solution": false,
     "task": false
    }
   },
   "outputs": [
    {
     "data": {
      "text/plain": [
       "[('599', 0.8052460388725822),\n",
       " ('947', 0.5828283831737162),\n",
       " ('53', 0.5066535268275001),\n",
       " ('1339', 0.44756533872309406),\n",
       " ('3160', 0.44520081662248134)]"
      ]
     },
     "execution_count": 82,
     "metadata": {},
     "output_type": "execute_result"
    }
   ],
   "source": [
    "##### Function check\n",
    "drm_lsi = DenseRetrievalRanker(lsi, cosine_sim)\n",
    "drm_lsi.search(\"report\")[:5]\n",
    "##### "
   ]
  },
  {
   "cell_type": "markdown",
   "metadata": {
    "deletable": false,
    "editable": false,
    "nbgrader": {
     "cell_type": "markdown",
     "checksum": "5b3f19fdcaa585d263706d5a26038799",
     "grade": false,
     "grade_id": "cell-034c755a6502b868",
     "locked": true,
     "points": 5,
     "schema_version": 3,
     "solution": false,
     "task": true
    }
   },
   "source": [
    "\\#### Please do not change this. This cell is used for grading."
   ]
  },
  {
   "cell_type": "markdown",
   "metadata": {
    "deletable": false,
    "editable": false,
    "nbgrader": {
     "cell_type": "markdown",
     "checksum": "dcafef6e037033c46304b914f7c78bdf",
     "grade": false,
     "grade_id": "cell-d1df23f497d5ed6b",
     "locked": true,
     "schema_version": 3,
     "solution": false,
     "task": false
    }
   },
   "source": [
    "---\n",
    "Now, you can test your LSI model in the following cell: try finding queries which are lexically different to documents, but semantically similar - does LSI work well for these queries?!"
   ]
  },
  {
   "cell_type": "code",
   "execution_count": 83,
   "metadata": {
    "deletable": false,
    "editable": false,
    "nbgrader": {
     "cell_type": "code",
     "checksum": "11734bc7674377b340ad51297a8e8bb5",
     "grade": false,
     "grade_id": "cell-efd1d08dfc04ec3e",
     "locked": true,
     "schema_version": 3,
     "solution": false,
     "task": false
    }
   },
   "outputs": [
    {
     "data": {
      "application/vnd.jupyter.widget-view+json": {
       "model_id": "9fba5a7b44d34581a00fb4469fa95761",
       "version_major": 2,
       "version_minor": 0
      },
      "text/plain": [
       "Text(value='', description='Search Bar')"
      ]
     },
     "metadata": {},
     "output_type": "display_data"
    }
   ],
   "source": [
    "# test your LSI model\n",
    "search_fn = drm_lsi.search\n",
    "\n",
    "text = widgets.Text(description=\"Search Bar\", width=200)\n",
    "display(text)\n",
    "\n",
    "def make_results_2(query, search_fn):\n",
    "    results = []\n",
    "    for doc_id, score in search_fn(query):\n",
    "        highlight = highlight_text(docs_by_id[doc_id], query)\n",
    "        if len(highlight.strip()) == 0:\n",
    "            highlight = docs_by_id[doc_id]\n",
    "        results.append(ResultRow(doc_id, highlight, score))\n",
    "    return results\n",
    "\n",
    "def handle_submit_2(sender):\n",
    "    print(f\"Searching for: '{sender.value}' (SEARCH FN: {search_fn})\")\n",
    "    \n",
    "    results = make_results_2(sender.value, search_fn)\n",
    "    \n",
    "    # display only the top 5\n",
    "    results = results[:5]\n",
    "    \n",
    "    body = \"\"\n",
    "    for idx, r in enumerate(results):\n",
    "        body += f\"<li>Document #{r.doc_id}({r.score}): {r.snippet}</li>\"\n",
    "    display(HTML(f\"<ul>{body}</ul>\"))\n",
    "    \n",
    "\n",
    "text.on_submit(handle_submit_2)"
   ]
  },
  {
   "cell_type": "markdown",
   "metadata": {
    "deletable": false,
    "editable": false,
    "nbgrader": {
     "cell_type": "markdown",
     "checksum": "d074ce1ca48384cdda78742741c938be",
     "grade": false,
     "grade_id": "cell-3a86cef264d8f6cf",
     "locked": true,
     "schema_version": 3,
     "solution": false,
     "task": false
    }
   },
   "source": [
    "---\n",
    "## Section 7: Latent Dirichlet Allocation (LDA) (10 points) <a class=\"anchor\" id=\"lda\"></a>\n",
    "\n",
    "[Back to Part 2](#part2)\n",
    "\n",
    "The specifics of LDA is out of the scope of this assignment, but we will use the `gensim` implementation to perform search using LDA over our small document collection. The key thing to remember is that LDA, unlike LSI, outputs a topic **distribution**, not a vector. With that in mind, let's first define a similarity measure.\n"
   ]
  },
  {
   "cell_type": "markdown",
   "metadata": {
    "deletable": false,
    "editable": false,
    "nbgrader": {
     "cell_type": "markdown",
     "checksum": "db01092373b18f0c9dfed1bb17db4ad9",
     "grade": false,
     "grade_id": "cell-6b78ad22c2d60ba7",
     "locked": true,
     "schema_version": 3,
     "solution": false,
     "task": false
    }
   },
   "source": [
    "---\n",
    "### Section 7.1: Jenson-Shannon divergence (5 points) <a class=\"anchor\" id=\"js_sim\"></a>\n",
    "\n",
    "The Jenson-Shannon divergence is a symmetric and finite measure on two probability distributions (unlike the KL, which is neither). For identical distributions, the JSD is equal to 0, and since our code uses 0 as irrelevant and higher scores as relevant, we use `(1 - JSD)` as the score or 'similarity' in our setup\n",
    "\n",
    "**Note**: the JSD is bounded to \\[0,1\\] only if we use log base 2. So please ensure that you're using `np.log2` instead of `np.log`"
   ]
  },
  {
   "cell_type": "code",
   "execution_count": 84,
   "metadata": {
    "deletable": false,
    "nbgrader": {
     "cell_type": "code",
     "checksum": "a579e6cd7a24a3516bc9a84528b392d3",
     "grade": false,
     "grade_id": "cell-d2376a85a4841e98",
     "locked": false,
     "schema_version": 3,
     "solution": true,
     "task": false
    }
   },
   "outputs": [],
   "source": [
    "## TODO: Implement this! (5 points)\n",
    "def jenson_shannon_divergence(vec_1, vec_2, assert_prob=False):\n",
    "    \"\"\"\n",
    "        Computes the Jensen-Shannon divergence between two probability distributions. \n",
    "        NOTE: DO NOT RETURN 1 - JSD here, that is handled by the next function which is already implemented! \n",
    "        The inputs are *gensim* vectors - same as the vectors for the cosine_sim function\n",
    "        assert_prob is a flag that checks if the inputs are proper probability distributions \n",
    "            i.e they sum to 1 and are positive - use this to check your inputs if needed. \n",
    "                (This is optional to implement, but recommended - \n",
    "                you can the default to False to save a few ms off the runtime)\n",
    "    \"\"\"\n",
    "    # YOUR CODE HERE\n",
    "    \n",
    "    def kl_divergence(vec_1, vec_2):\n",
    "        \"\"\"\n",
    "            Calculate the Kullback Leibler divergence. \n",
    "        \"\"\"\n",
    "        score = 0\n",
    "        \n",
    "        for i in range(len(vec_1)):\n",
    "            # np.log2 [0, 1]\n",
    "            # vec_2 is a list and not list of tuples\n",
    "            score += vec_1[i][1] * np.log2(vec_1[i][1] / vec_2[i])\n",
    "        \n",
    "        return score\n",
    "        \n",
    "    if assert_prob == True:\n",
    "        \n",
    "        # check that all values or positive\n",
    "        minus_1 = [tup[1] for tup in vec_1 if tup[1] < 0]\n",
    "        minus_2 = [tup[1] for tup in vec_2 if tup[1] < 0]\n",
    "        \n",
    "        if len(minus_1) > 0 or len(minus_2) > 0:\n",
    "            return 1\n",
    "        \n",
    "        # check that the sum is 1\n",
    "        condition_1 = np.sum([tup[1] for tup in vec_1]) \n",
    "        condition_2 = np.sum([tup[1] for tup in vec_2])\n",
    "    \n",
    "        if condition_1 == 1 and condition_2 == 1:\n",
    "            m = [0.5 * (vec_1[i][1] + vec_2[i][1]) for i in range(len(vec_1))] \n",
    "            return (0.5 * kl_divergence(vec_1, m)) + (0.5 * kl_divergence(vec_2, m))\n",
    "        else:\n",
    "            return 1  \n",
    "    \n",
    "    # Make a vector of the mean of the two vectors.\n",
    "    m = [0.5 * (vec_1[i][1] + vec_2[i][1]) for i in range(len(vec_1))] \n",
    "    \n",
    "    return (0.5 * kl_divergence(vec_1, m)) + (0.5 * kl_divergence(vec_2, m))\n",
    "\n",
    "def jenson_shannon_sim(vec_1, vec_2, assert_prob=True):\n",
    "    \n",
    "    # added the assert_prob to check if the assert_prob in def jenson_shannon_divergence works\n",
    "    return 1 - jenson_shannon_divergence(vec_1, vec_2, assert_prob)\n"
   ]
  },
  {
   "cell_type": "code",
   "execution_count": 85,
   "metadata": {
    "deletable": false,
    "editable": false,
    "nbgrader": {
     "cell_type": "code",
     "checksum": "ab340aa941c9fb5c89b3fd0a9139e246",
     "grade": true,
     "grade_id": "cell-487c6d2933f38053",
     "locked": true,
     "points": 5,
     "schema_version": 3,
     "solution": false,
     "task": false
    }
   },
   "outputs": [
    {
     "data": {
      "text/plain": [
       "0.9251064410358459"
      ]
     },
     "execution_count": 85,
     "metadata": {},
     "output_type": "execute_result"
    }
   ],
   "source": [
    "##### Function check\n",
    "vec_1 = [(1, 0.3), (2, 0.4), (3, 0.3)]\n",
    "vec_2 = [(1, 0.1), (2, 0.7), (3, 0.2)]\n",
    "jenson_shannon_sim(vec_1, vec_2, assert_prob=True)\n",
    "##### "
   ]
  },
  {
   "cell_type": "markdown",
   "metadata": {
    "deletable": false,
    "editable": false,
    "nbgrader": {
     "cell_type": "markdown",
     "checksum": "0a1583a5f23e3390038331cce67f5d8e",
     "grade": false,
     "grade_id": "cell-4535cc67a50b80fa",
     "locked": true,
     "schema_version": 3,
     "solution": false,
     "task": false
    }
   },
   "source": [
    "---\n",
    "### Section 7.2: LDA retrieval (5 points) <a class=\"anchor\" id=\"lda_ret\"></a>\n",
    "\n",
    "Implement the `train_model` method in the following class (note that this is only one line of code in `gensim`!). Ensure that the parameters defined in the `__init__` method are not changed, and are *used in the `train_method` function*. You do not need to set this. Normally, the hyperaparameter space will be searched using grid search / other methods. Note that training the LDA model might take some time\n",
    "\n",
    "The last two lines of code train an LDA model on the list of documents which have been stemmed, lower-cased and have stopwords removed. "
   ]
  },
  {
   "cell_type": "code",
   "execution_count": 86,
   "metadata": {
    "deletable": false,
    "nbgrader": {
     "cell_type": "code",
     "checksum": "27de8e4fa85536bb396b73bfc51b3f50",
     "grade": false,
     "grade_id": "cell-021a48dff4a8bb91",
     "locked": false,
     "schema_version": 3,
     "solution": true,
     "task": false
    }
   },
   "outputs": [],
   "source": [
    "# TODO: Implement this! (5 points)\n",
    "class LdaRetrievalModel(VectorSpaceRetrievalModel):\n",
    "    def __init__(self, doc_repr):\n",
    "        super().__init__(doc_repr)\n",
    "        \n",
    "        # use these parameters in the train_model method\n",
    "        self.num_topics = 100\n",
    "        self.chunksize = 2000\n",
    "        self.passes = 20\n",
    "        self.iterations = 400\n",
    "        self.eval_every = 10\n",
    "        # this is need to get full vectors\n",
    "        self.minimum_probability=0.0\n",
    "        self.alpha='auto'\n",
    "        self.eta='auto'\n",
    "    \n",
    "    \n",
    "    def train_model(self):\n",
    "        # YOUR CODE HERE\n",
    "\n",
    "        self.model = LdaModel(corpus=self.corpus, num_topics=self.num_topics, id2word=self.id2word,\n",
    "                             chunksize=self.chunksize, passes=self.passes, iterations=self.iterations,\n",
    "                             eval_every=self.eval_every, minimum_probability=self.minimum_probability,\n",
    "                             alpha=self.alpha, eta=self.eta)\n",
    "        \n",
    "        return self.model"
   ]
  },
  {
   "cell_type": "code",
   "execution_count": 87,
   "metadata": {
    "deletable": false,
    "editable": false,
    "nbgrader": {
     "cell_type": "code",
     "checksum": "be70fcb8098d0b6ce64cd2a10e6a05b7",
     "grade": true,
     "grade_id": "cell-86750b715f0345fd",
     "locked": true,
     "points": 0,
     "schema_version": 3,
     "solution": false,
     "task": false
    }
   },
   "outputs": [
    {
     "name": "stderr",
     "output_type": "stream",
     "text": [
      "2022-02-28 19:35:39,444 : INFO : adding document #0 to Dictionary(0 unique tokens: [])\n",
      "2022-02-28 19:35:39,562 : INFO : built Dictionary(5937 unique tokens: ['-', 'algebra', 'intern', 'languag', 'preliminari']...) from 3204 documents (total 115969 corpus positions)\n",
      "2022-02-28 19:35:39,567 : INFO : discarding 4740 tokens: [('repeat', 8), ('glossari', 7), ('inspect', 8), ('uncol', 2), ('rung', 9), ('secant', 2), ('.', 1603), ('acceler', 6), ('diverg', 3), ('induc', 9)]...\n",
      "2022-02-28 19:35:39,567 : INFO : keeping 1197 tokens which were in no less than 10 and no more than 1602 (=50.0%) documents\n",
      "2022-02-28 19:35:39,569 : INFO : resulting dictionary: Dictionary(1197 unique tokens: ['-', 'algebra', 'intern', 'languag', 'preliminari']...)\n",
      "2022-02-28 19:35:39,619 : INFO : using autotuned alpha, starting with [0.01, 0.01, 0.01, 0.01, 0.01, 0.01, 0.01, 0.01, 0.01, 0.01, 0.01, 0.01, 0.01, 0.01, 0.01, 0.01, 0.01, 0.01, 0.01, 0.01, 0.01, 0.01, 0.01, 0.01, 0.01, 0.01, 0.01, 0.01, 0.01, 0.01, 0.01, 0.01, 0.01, 0.01, 0.01, 0.01, 0.01, 0.01, 0.01, 0.01, 0.01, 0.01, 0.01, 0.01, 0.01, 0.01, 0.01, 0.01, 0.01, 0.01, 0.01, 0.01, 0.01, 0.01, 0.01, 0.01, 0.01, 0.01, 0.01, 0.01, 0.01, 0.01, 0.01, 0.01, 0.01, 0.01, 0.01, 0.01, 0.01, 0.01, 0.01, 0.01, 0.01, 0.01, 0.01, 0.01, 0.01, 0.01, 0.01, 0.01, 0.01, 0.01, 0.01, 0.01, 0.01, 0.01, 0.01, 0.01, 0.01, 0.01, 0.01, 0.01, 0.01, 0.01, 0.01, 0.01, 0.01, 0.01, 0.01, 0.01]\n",
      "2022-02-28 19:35:39,620 : INFO : using serial LDA version on this node\n",
      "2022-02-28 19:35:39,629 : INFO : running online (multi-pass) LDA training, 100 topics, 20 passes over the supplied corpus of 3204 documents, updating model once every 2000 documents, evaluating perplexity every 3204 documents, iterating 400x with a convergence threshold of 0.001000\n",
      "2022-02-28 19:35:39,629 : INFO : PROGRESS: pass 0, at document #2000/3204\n",
      "2022-02-28 19:35:40,557 : INFO : optimized alpha [0.009823292, 0.009776685, 0.009781372, 0.009817616, 0.009972759, 0.009797133, 0.009807444, 0.009823152, 0.009812608, 0.009811772, 0.009797, 0.009807521, 0.009817679, 0.0098805055, 0.009776285, 0.0097816875, 0.0098124845, 0.009776677, 0.00978671, 0.00983791, 0.0098125655, 0.009797288, 0.009776507, 0.009776479, 0.009802457, 0.009781676, 0.009781743, 0.009848974, 0.00988549, 0.009766194, 0.009889995, 0.009797406, 0.009946647, 0.009823394, 0.009853229, 0.009802509, 0.009802378, 0.009802251, 0.009958716, 0.0099222725, 0.009786623, 0.0098385485, 0.009791976, 0.00981309, 0.009941356, 0.009848564, 0.009812726, 0.009797054, 0.009838436, 0.009844468, 0.009844034, 0.009838658, 0.009849514, 0.009791873, 0.010010573, 0.009786663, 0.00978674, 0.009838705, 0.009870253, 0.009930823, 0.009823457, 0.009786761, 0.009786784, 0.009792047, 0.009807339, 0.009963411, 0.009870074, 0.009797496, 0.0097869, 0.00982319, 0.009786776, 0.009817603, 0.009807726, 0.009926966, 0.009771328, 0.009833485, 0.009833346, 0.009838299, 0.009853823, 0.009848986, 0.009833181, 0.009802263, 0.009817522, 0.009870373, 0.009813185, 0.009833103, 0.009791853, 0.00980215, 0.009776402, 0.009787019, 0.009906608, 0.009781624, 0.009869681, 0.009858618, 0.009822986, 0.009828123, 0.009766176, 0.009863752, 0.009802145, 0.00985895]\n",
      "2022-02-28 19:35:40,559 : INFO : merging changes from 2000 documents into a model of 3204 documents\n",
      "2022-02-28 19:35:40,565 : INFO : topic #74 (0.010): 0.051*\"-\" + 0.041*\"process\" + 0.041*\"system\" + 0.031*\"length\" + 0.031*\"program\" + 0.020*\"random\" + 0.020*\"7090\" + 0.020*\"fix\" + 0.020*\"creat\" + 0.020*\"space\"\n",
      "2022-02-28 19:35:40,565 : INFO : topic #18 (0.010): 0.050*\"sort\" + 0.042*\"-\" + 0.042*\"polyphas\" + 0.033*\"tape\" + 0.025*\"techniqu\" + 0.025*\"process\" + 0.025*\"merg\" + 0.025*\"minim\" + 0.025*\"read\" + 0.017*\"produc\"\n",
      "2022-02-28 19:35:40,566 : INFO : topic #32 (0.010): 0.060*\",\" + 0.046*\"algorithm\" + 0.039*\"comput\" + 0.033*\"(\" + 0.019*\"method\" + 0.018*\")\" + 0.018*\"-\" + 0.017*\"discuss\" + 0.015*\"program\" + 0.014*\"[\"\n",
      "2022-02-28 19:35:40,566 : INFO : topic #65 (0.010): 0.056*\"-\" + 0.045*\",\" + 0.031*\"comput\" + 0.020*\"program\" + 0.017*\"languag\" + 0.013*\"system\" + 0.012*\"function\" + 0.012*\"set\" + 0.012*\"gener\" + 0.009*\"data\"\n",
      "2022-02-28 19:35:40,566 : INFO : topic #54 (0.010): 0.070*\",\" + 0.033*\"-\" + 0.027*\"program\" + 0.020*\"system\" + 0.020*\"comput\" + 0.014*\"(\" + 0.012*\")\" + 0.011*\"process\" + 0.010*\"\"\" + 0.009*\"list\"\n",
      "2022-02-28 19:35:40,567 : INFO : topic diff=82.641029, rho=1.000000\n",
      "2022-02-28 19:35:41,154 : INFO : -7.297 per-word bound, 157.3 perplexity estimate based on a held-out corpus of 1204 documents with 49783 words\n",
      "2022-02-28 19:35:41,155 : INFO : PROGRESS: pass 0, at document #3204/3204\n",
      "2022-02-28 19:35:41,611 : INFO : optimized alpha [0.009994316, 0.009799467, 0.009856445, 0.0098985005, 0.009867786, 0.010208773, 0.009801783, 0.0097413175, 0.010019289, 0.010013212, 0.009843756, 0.009754989, 0.009912104, 0.01002961, 0.009905144, 0.010085298, 0.009830159, 0.009964898, 0.009880133, 0.009961303, 0.009824013, 0.009974782, 0.009922647, 0.009997661, 0.009945018, 0.009985826, 0.010044246, 0.009949486, 0.009903086, 0.009778563, 0.0101982765, 0.010110536, 0.009962465, 0.010042699, 0.0098751495, 0.009919667, 0.009990501, 0.009948272, 0.010308798, 0.010384951, 0.009839608, 0.009914601, 0.0098505085, 0.010097148, 0.010161674, 0.009771456, 0.010036906, 0.010013055, 0.01009755, 0.009968063, 0.009939999, 0.009945346, 0.010157498, 0.009739421, 0.010189973, 0.009669652, 0.009869272, 0.009815642, 0.010079528, 0.009869157, 0.010197849, 0.009769305, 0.009984871, 0.010268569, 0.0097420765, 0.009991832, 0.010073131, 0.010419204, 0.009991866, 0.0098780105, 0.009909248, 0.009869689, 0.010049692, 0.010075927, 0.009892832, 0.009922059, 0.009986616, 0.00974935, 0.009912283, 0.009996359, 0.010027698, 0.010266695, 0.009946076, 0.0102459295, 0.010021725, 0.009880173, 0.009855329, 0.010017588, 0.009694642, 0.009898224, 0.010080779, 0.00988616, 0.010231729, 0.0097335, 0.009893731, 0.009751601, 0.009910091, 0.010116765, 0.009941602, 0.010031039]\n",
      "2022-02-28 19:35:41,614 : INFO : merging changes from 1204 documents into a model of 3204 documents\n",
      "2022-02-28 19:35:41,617 : INFO : topic #55 (0.010): 0.085*\"posit\" + 0.069*\"(\" + 0.059*\"algorithm\" + 0.046*\"low\" + 0.045*\"present\" + 0.041*\"matrix\" + 0.039*\"transform\" + 0.037*\"-\" + 0.037*\"pattern\" + 0.036*\")\"\n",
      "2022-02-28 19:35:41,618 : INFO : topic #93 (0.010): 0.100*\"algorithm\" + 0.071*\"(\" + 0.043*\"[\" + 0.039*\")\" + 0.033*\"perform\" + 0.031*\"integr\" + 0.028*\"compar\" + 0.026*\",\" + 0.025*\"decomposit\" + 0.023*\"a1\"\n",
      "2022-02-28 19:35:41,618 : INFO : topic #63 (0.010): 0.157*\"]\" + 0.052*\"properti\" + 0.046*\",\" + 0.034*\"[\" + 0.034*\"tree\" + 0.032*\"test\" + 0.022*\"paper\" + 0.019*\"model\" + 0.019*\"1\" + 0.018*\"procedur\"\n",
      "2022-02-28 19:35:41,619 : INFO : topic #39 (0.010): 0.092*\",\" + 0.042*\"-\" + 0.042*\"system\" + 0.019*\"data\" + 0.018*\"program\" + 0.017*\"languag\" + 0.012*\"analyz\" + 0.012*\"(\" + 0.012*\"design\" + 0.011*\"architectur\"\n",
      "2022-02-28 19:35:41,619 : INFO : topic #67 (0.010): 0.093*\"system\" + 0.062*\",\" + 0.045*\"memori\" + 0.042*\"model\" + 0.023*\"time\" + 0.021*\"comput\" + 0.019*\"distribut\" + 0.018*\"-\" + 0.018*\"oper\" + 0.015*\"softwar\"\n",
      "2022-02-28 19:35:41,619 : INFO : topic diff=0.753085, rho=0.707107\n",
      "2022-02-28 19:35:41,624 : INFO : PROGRESS: pass 1, at document #2000/3204\n",
      "2022-02-28 19:35:42,030 : INFO : optimized alpha [0.010018266, 0.0099237235, 0.0099288225, 0.009817394, 0.009769623, 0.0101959305, 0.009757119, 0.009685609, 0.009911217, 0.009966998, 0.0098456545, 0.009862553, 0.009891543, 0.010029817, 0.01086493, 0.010109775, 0.009755907, 0.009916752, 0.009907114, 0.009886963, 0.009760514, 0.009993165, 0.009959877, 0.009958896, 0.009908416, 0.009952927, 0.010039906, 0.009896938, 0.009833398, 0.009814477, 0.010129503, 0.010108664, 0.009893568, 0.009971925, 0.009881597, 0.009883034, 0.010000633, 0.009993165, 0.010210784, 0.01031573, 0.009900999, 0.009867844, 0.009797003, 0.010009299, 0.0101752095, 0.009727269, 0.009974152, 0.00999825, 0.009982039, 0.009885445, 0.00985338, 0.009902977, 0.010084299, 0.00971652, 0.010100379, 0.009729619, 0.009869877, 0.009729147, 0.010044191, 0.009900156, 0.01014316, 0.009761043, 0.009925558, 0.010183712, 0.00966212, 0.009920428, 0.010059759, 0.010424177, 0.010007307, 0.009881714, 0.009914897, 0.009802353, 0.00998168, 0.009988748, 0.009882253, 0.009928762, 0.00989583, 0.009705423, 0.009886827, 0.009913304, 0.009965348, 0.010206612, 0.010146048, 0.010181995, 0.009967528, 0.009823328, 0.009803834, 0.010050555, 0.009799188, 0.00983819, 0.010010049, 0.009885905, 0.01011829, 0.009909708, 0.009855171, 0.009689675, 0.009974894, 0.010280032, 0.009986802, 0.009971345]\n"
     ]
    },
    {
     "name": "stderr",
     "output_type": "stream",
     "text": [
      "2022-02-28 19:35:42,032 : INFO : merging changes from 2000 documents into a model of 3204 documents\n",
      "2022-02-28 19:35:42,035 : INFO : topic #77 (0.010): 0.052*\",\" + 0.051*\"equival\" + 0.037*\"complet\" + 0.028*\"syntax\" + 0.026*\"check\" + 0.025*\"algorithm\" + 0.020*\"time\" + 0.018*\"recurs\" + 0.017*\"algol\" + 0.017*\"problem\"\n",
      "2022-02-28 19:35:42,036 : INFO : topic #95 (0.010): 0.068*\",\" + 0.047*\"integr\" + 0.034*\"statement\" + 0.030*\"-\" + 0.029*\"parallel\" + 0.029*\"program\" + 0.025*\"item\" + 0.024*\"word\" + 0.023*\"improv\" + 0.021*\"store\"\n",
      "2022-02-28 19:35:42,036 : INFO : topic #39 (0.010): 0.094*\",\" + 0.045*\"-\" + 0.043*\"system\" + 0.021*\"program\" + 0.019*\"data\" + 0.018*\"languag\" + 0.014*\"analyz\" + 0.012*\"(\" + 0.011*\"grammar\" + 0.010*\"design\"\n",
      "2022-02-28 19:35:42,036 : INFO : topic #67 (0.010): 0.098*\"system\" + 0.059*\",\" + 0.041*\"memori\" + 0.037*\"model\" + 0.026*\"time\" + 0.022*\"comput\" + 0.020*\"-\" + 0.019*\"share\" + 0.017*\"oper\" + 0.015*\"distribut\"\n",
      "2022-02-28 19:35:42,037 : INFO : topic #14 (0.011): 0.249*\"(\" + 0.216*\"algorithm\" + 0.198*\")\" + 0.053*\"[\" + 0.041*\"function\" + 0.038*\"])\" + 0.025*\"polynomi\" + 0.023*\"interpol\" + 0.020*\"equat\" + 0.019*\"solut\"\n",
      "2022-02-28 19:35:42,037 : INFO : topic diff=0.299806, rho=0.526900\n",
      "2022-02-28 19:35:42,526 : INFO : -6.904 per-word bound, 119.7 perplexity estimate based on a held-out corpus of 1204 documents with 49783 words\n",
      "2022-02-28 19:35:42,527 : INFO : PROGRESS: pass 1, at document #3204/3204\n",
      "2022-02-28 19:35:42,893 : INFO : optimized alpha [0.010132021, 0.010111027, 0.010054184, 0.009909516, 0.009715588, 0.010567516, 0.009807628, 0.0096987495, 0.010109982, 0.0101709515, 0.009959702, 0.009871671, 0.010085623, 0.010167699, 0.011516825, 0.010518574, 0.009831459, 0.010101406, 0.010103948, 0.009979524, 0.009823237, 0.010210448, 0.010236683, 0.010173423, 0.010059186, 0.0101319365, 0.010286019, 0.009999509, 0.009800788, 0.0099769235, 0.0103887115, 0.010358707, 0.009925126, 0.010069701, 0.009889239, 0.010014651, 0.010282501, 0.01014598, 0.010377847, 0.010518629, 0.010050049, 0.009925294, 0.0099332305, 0.010230671, 0.010344485, 0.009730566, 0.010181958, 0.010252898, 0.010189286, 0.009943164, 0.0099212285, 0.010000364, 0.010287894, 0.009736382, 0.010116638, 0.009752839, 0.010049211, 0.009693816, 0.010141907, 0.00991349, 0.010403517, 0.009875414, 0.010105164, 0.010585775, 0.0096396515, 0.009907966, 0.010166736, 0.011019179, 0.010236353, 0.010010188, 0.01012503, 0.009925264, 0.010167643, 0.010104172, 0.01003832, 0.010017102, 0.010041359, 0.009695374, 0.010002037, 0.010102694, 0.010248213, 0.010600988, 0.01028502, 0.010428418, 0.010127707, 0.009938437, 0.009930199, 0.010238288, 0.009851648, 0.009948156, 0.010135302, 0.010068621, 0.010404127, 0.009873966, 0.009978766, 0.009680554, 0.010139137, 0.010492424, 0.0101301465, 0.010078017]\n",
      "2022-02-28 19:35:42,896 : INFO : merging changes from 1204 documents into a model of 3204 documents\n",
      "2022-02-28 19:35:42,899 : INFO : topic #64 (0.010): 0.121*\",\" + 0.073*\"version\" + 0.070*\"famili\" + 0.058*\"e2\" + 0.049*\"-\" + 0.047*\"content\" + 0.044*\"gener\" + 0.041*\"compil\" + 0.024*\"algorithm\" + 0.023*\"essenti\"\n",
      "2022-02-28 19:35:42,899 : INFO : topic #7 (0.010): 0.063*\"system\" + 0.048*\",\" + 0.046*\"-\" + 0.046*\"process\" + 0.041*\"languag\" + 0.035*\"data\" + 0.034*\"question\" + 0.024*\"base\" + 0.019*\"answer\" + 0.017*\"english\"\n",
      "2022-02-28 19:35:42,900 : INFO : topic #81 (0.011): 0.075*\"key\" + 0.052*\"access\" + 0.040*\",\" + 0.038*\"bound\" + 0.028*\"order\" + 0.028*\"storag\" + 0.025*\"number\" + 0.020*\"select\" + 0.019*\"block\" + 0.018*\"sort\"\n",
      "2022-02-28 19:35:42,900 : INFO : topic #67 (0.011): 0.115*\"system\" + 0.060*\",\" + 0.052*\"memori\" + 0.051*\"model\" + 0.027*\"time\" + 0.022*\"perform\" + 0.022*\"comput\" + 0.019*\"oper\" + 0.019*\"-\" + 0.018*\"hardwar\"\n",
      "2022-02-28 19:35:42,900 : INFO : topic #14 (0.012): 0.262*\"(\" + 0.223*\")\" + 0.220*\"algorithm\" + 0.057*\"[\" + 0.039*\"function\" + 0.024*\"interpol\" + 0.021*\"linear\" + 0.018*\"polynomi\" + 0.017*\"equat\" + 0.017*\"solut\"\n",
      "2022-02-28 19:35:42,901 : INFO : topic diff=0.414109, rho=0.526900\n",
      "2022-02-28 19:35:42,905 : INFO : PROGRESS: pass 2, at document #2000/3204\n",
      "2022-02-28 19:35:43,293 : INFO : optimized alpha [0.010176815, 0.010283242, 0.010143694, 0.009852967, 0.009644851, 0.010576896, 0.009801666, 0.009674727, 0.01003035, 0.01015257, 0.010007667, 0.010051466, 0.010120864, 0.010225139, 0.012579289, 0.010598326, 0.009771593, 0.010083799, 0.010157591, 0.009940591, 0.00981228, 0.010237908, 0.0103062745, 0.010151845, 0.010052323, 0.010127922, 0.010306728, 0.009970058, 0.009747088, 0.010085706, 0.0103476625, 0.0103794085, 0.009863712, 0.010024589, 0.009895626, 0.010005474, 0.010313191, 0.010225739, 0.010288562, 0.010451061, 0.010148923, 0.009894401, 0.0098974835, 0.0101562375, 0.010428512, 0.009714345, 0.010136983, 0.010278421, 0.0100981705, 0.009881222, 0.009865053, 0.009963576, 0.010229111, 0.009756554, 0.010033003, 0.00990215, 0.010086232, 0.0096532535, 0.01013733, 0.010004446, 0.01036745, 0.009902853, 0.010077841, 0.010517367, 0.00959484, 0.0098592555, 0.010162218, 0.011079083, 0.010294142, 0.010020011, 0.01019508, 0.009884552, 0.010125647, 0.010037401, 0.01011773, 0.010054119, 0.009975283, 0.0096858805, 0.01001724, 0.010052306, 0.010216622, 0.010550156, 0.010483344, 0.010369521, 0.01008157, 0.0099002, 0.009903421, 0.01031686, 0.010000725, 0.009918822, 0.010075331, 0.01010971, 0.0103228595, 0.010344217, 0.009965896, 0.00966492, 0.010277118, 0.010568454, 0.010236315, 0.010051735]\n",
      "2022-02-28 19:35:43,296 : INFO : merging changes from 2000 documents into a model of 3204 documents\n",
      "2022-02-28 19:35:43,299 : INFO : topic #4 (0.010): 0.051*\"comput\" + 0.043*\"-\" + 0.033*\",\" + 0.020*\"diagram\" + 0.019*\"transit\" + 0.019*\"reflect\" + 0.018*\"present\" + 0.017*\"gener\" + 0.017*\"linguist\" + 0.017*\"algorithm\"\n",
      "2022-02-28 19:35:43,299 : INFO : topic #64 (0.010): 0.121*\",\" + 0.062*\"version\" + 0.061*\"famili\" + 0.053*\"e2\" + 0.053*\"compil\" + 0.048*\"-\" + 0.045*\"gener\" + 0.035*\"content\" + 0.028*\"machin\" + 0.025*\"essenti\"\n",
      "2022-02-28 19:35:43,300 : INFO : topic #15 (0.011): 0.162*\"list\" + 0.115*\"structur\" + 0.044*\"concept\" + 0.037*\"defin\" + 0.032*\"definit\" + 0.030*\"-\" + 0.028*\"process\" + 0.025*\"descript\" + 0.025*\"languag\" + 0.025*\"notat\"\n",
      "2022-02-28 19:35:43,300 : INFO : topic #67 (0.011): 0.120*\"system\" + 0.058*\",\" + 0.048*\"memori\" + 0.047*\"model\" + 0.030*\"time\" + 0.023*\"comput\" + 0.021*\"share\" + 0.021*\"-\" + 0.021*\"perform\" + 0.018*\"oper\"\n",
      "2022-02-28 19:35:43,300 : INFO : topic #14 (0.013): 0.280*\"(\" + 0.245*\")\" + 0.226*\"algorithm\" + 0.038*\"[\" + 0.036*\"function\" + 0.020*\"polynomi\" + 0.019*\"interpol\" + 0.019*\"])\" + 0.015*\"solut\" + 0.014*\"equat\"\n",
      "2022-02-28 19:35:43,301 : INFO : topic diff=0.391440, rho=0.466151\n",
      "2022-02-28 19:35:43,760 : INFO : -6.786 per-word bound, 110.3 perplexity estimate based on a held-out corpus of 1204 documents with 49783 words\n",
      "2022-02-28 19:35:43,761 : INFO : PROGRESS: pass 2, at document #3204/3204\n",
      "2022-02-28 19:35:44,087 : INFO : optimized alpha [0.010269725, 0.0105223, 0.010289974, 0.009954702, 0.009620109, 0.010899962, 0.00987829, 0.009741265, 0.01024709, 0.010354365, 0.010136067, 0.010089552, 0.010353536, 0.010367541, 0.01347114, 0.011044829, 0.009847213, 0.010276005, 0.010372795, 0.010034965, 0.009933826, 0.010448145, 0.010607604, 0.010375074, 0.010194699, 0.010299409, 0.010559349, 0.010124471, 0.009748171, 0.010340974, 0.010575413, 0.010619609, 0.009885585, 0.010131637, 0.009930241, 0.010138495, 0.010594639, 0.010385464, 0.0104006035, 0.010586444, 0.010324685, 0.00994615, 0.010042384, 0.010337507, 0.010603708, 0.009756994, 0.010302442, 0.010514607, 0.01031841, 0.009929679, 0.009937908, 0.010050562, 0.010410395, 0.009767496, 0.010037832, 0.00998699, 0.010300865, 0.009628498, 0.010244319, 0.010063317, 0.0105673345, 0.010039469, 0.010265418, 0.010892055, 0.0095888125, 0.009858402, 0.01026166, 0.011637222, 0.010535443, 0.010153751, 0.010442418, 0.0100326855, 0.010299577, 0.010172113, 0.010315401, 0.010176157, 0.010132255, 0.009712859, 0.010131682, 0.010217402, 0.010526576, 0.010906447, 0.010630175, 0.0105606625, 0.01020035, 0.010030191, 0.010046857, 0.010504079, 0.010108693, 0.0100444155, 0.0102189435, 0.010311806, 0.010578555, 0.010317032, 0.010103479, 0.009670105, 0.010442954, 0.010757799, 0.010370997, 0.010178517]\n"
     ]
    },
    {
     "name": "stderr",
     "output_type": "stream",
     "text": [
      "2022-02-28 19:35:44,090 : INFO : merging changes from 1204 documents into a model of 3204 documents\n",
      "2022-02-28 19:35:44,093 : INFO : topic #57 (0.010): 0.067*\",\" + 0.051*\"-\" + 0.041*\"express\" + 0.030*\"monitor\" + 0.026*\"system\" + 0.022*\"6\" + 0.020*\"laboratori\" + 0.020*\"comput\" + 0.020*\"code\" + 0.017*\"extend\"\n",
      "2022-02-28 19:35:44,093 : INFO : topic #64 (0.010): 0.126*\",\" + 0.091*\"version\" + 0.077*\"famili\" + 0.059*\"e2\" + 0.057*\"content\" + 0.044*\"gener\" + 0.044*\"-\" + 0.044*\"compil\" + 0.034*\"essenti\" + 0.027*\"introduc\"\n",
      "2022-02-28 19:35:44,094 : INFO : topic #15 (0.011): 0.162*\"list\" + 0.155*\"structur\" + 0.050*\"defin\" + 0.042*\"concept\" + 0.035*\"definit\" + 0.030*\"-\" + 0.028*\"process\" + 0.025*\"previou\" + 0.024*\"languag\" + 0.020*\"implement\"\n",
      "2022-02-28 19:35:44,094 : INFO : topic #67 (0.012): 0.128*\"system\" + 0.058*\",\" + 0.056*\"model\" + 0.054*\"memori\" + 0.030*\"time\" + 0.027*\"perform\" + 0.022*\"comput\" + 0.020*\"oper\" + 0.020*\"hardwar\" + 0.019*\"share\"\n",
      "2022-02-28 19:35:44,095 : INFO : topic #14 (0.013): 0.293*\"(\" + 0.258*\")\" + 0.223*\"algorithm\" + 0.042*\"[\" + 0.034*\"function\" + 0.020*\"interpol\" + 0.016*\"polynomi\" + 0.016*\"linear\" + 0.013*\"-\" + 0.012*\"solut\"\n",
      "2022-02-28 19:35:44,095 : INFO : topic diff=0.520331, rho=0.466151\n",
      "2022-02-28 19:35:44,099 : INFO : PROGRESS: pass 3, at document #2000/3204\n",
      "2022-02-28 19:35:44,467 : INFO : optimized alpha [0.010297436, 0.01068954, 0.010379818, 0.009916694, 0.009567235, 0.010908061, 0.009898619, 0.009755678, 0.01019105, 0.010358612, 0.010209558, 0.010295718, 0.010415237, 0.010452794, 0.014609556, 0.011152586, 0.009802398, 0.010267649, 0.010429485, 0.010002349, 0.009963878, 0.01048099, 0.010680938, 0.01037391, 0.010198908, 0.010297163, 0.010587811, 0.010101472, 0.009716351, 0.010497356, 0.010543249, 0.010673193, 0.009831857, 0.0100933, 0.00995783, 0.01015593, 0.010640921, 0.010473384, 0.01033391, 0.010534451, 0.010447691, 0.009923388, 0.010030853, 0.0102782175, 0.010720942, 0.009757861, 0.010276425, 0.010572229, 0.01023668, 0.009868833, 0.009890147, 0.010054216, 0.0103607625, 0.009824393, 0.009964882, 0.010170187, 0.0103706615, 0.009600234, 0.010266558, 0.010188743, 0.0105310595, 0.010079092, 0.010268077, 0.010830141, 0.009560491, 0.009826928, 0.010273041, 0.011702467, 0.010616272, 0.010170916, 0.010540883, 0.010001766, 0.0102827195, 0.010120414, 0.010402882, 0.010235796, 0.010076485, 0.009715713, 0.010169132, 0.010175483, 0.010524309, 0.010863344, 0.010805843, 0.010513039, 0.010152202, 0.010012626, 0.010024379, 0.010599807, 0.0102670705, 0.010034817, 0.010177606, 0.010354841, 0.010509542, 0.010904383, 0.010123689, 0.009680109, 0.010587166, 0.010816775, 0.01050326, 0.010182783]\n",
      "2022-02-28 19:35:44,469 : INFO : merging changes from 2000 documents into a model of 3204 documents\n",
      "2022-02-28 19:35:44,473 : INFO : topic #64 (0.010): 0.127*\",\" + 0.077*\"version\" + 0.067*\"famili\" + 0.055*\"e2\" + 0.054*\"compil\" + 0.049*\"gener\" + 0.043*\"content\" + 0.043*\"-\" + 0.036*\"essenti\" + 0.028*\"machin\"\n",
      "2022-02-28 19:35:44,473 : INFO : topic #57 (0.010): 0.067*\",\" + 0.052*\"-\" + 0.033*\"monitor\" + 0.033*\"express\" + 0.025*\"system\" + 0.025*\"code\" + 0.025*\"laboratori\" + 0.024*\"6\" + 0.022*\"comput\" + 0.020*\"program\"\n",
      "2022-02-28 19:35:44,473 : INFO : topic #15 (0.011): 0.188*\"list\" + 0.151*\"structur\" + 0.045*\"defin\" + 0.042*\"concept\" + 0.032*\"definit\" + 0.031*\"-\" + 0.030*\"process\" + 0.028*\"languag\" + 0.023*\"notat\" + 0.020*\"descript\"\n",
      "2022-02-28 19:35:44,474 : INFO : topic #67 (0.012): 0.131*\"system\" + 0.057*\",\" + 0.052*\"model\" + 0.050*\"memori\" + 0.033*\"time\" + 0.025*\"perform\" + 0.023*\"comput\" + 0.023*\"share\" + 0.021*\"-\" + 0.019*\"hardwar\"\n",
      "2022-02-28 19:35:44,474 : INFO : topic #14 (0.015): 0.305*\"(\" + 0.278*\")\" + 0.228*\"algorithm\" + 0.032*\"function\" + 0.026*\"[\" + 0.017*\"interpol\" + 0.017*\"polynomi\" + 0.013*\"-\" + 0.012*\"chebyshev\" + 0.011*\"linear\"\n",
      "2022-02-28 19:35:44,474 : INFO : topic diff=0.537543, rho=0.422502\n",
      "2022-02-28 19:35:44,918 : INFO : -6.705 per-word bound, 104.3 perplexity estimate based on a held-out corpus of 1204 documents with 49783 words\n",
      "2022-02-28 19:35:44,919 : INFO : PROGRESS: pass 3, at document #3204/3204\n",
      "2022-02-28 19:35:45,236 : INFO : optimized alpha [0.010385895, 0.010974175, 0.010509244, 0.010030915, 0.009574584, 0.011198141, 0.009986404, 0.009844547, 0.010393424, 0.010561789, 0.010340887, 0.010336087, 0.0106771365, 0.010619687, 0.015638331, 0.011590753, 0.009878956, 0.010472461, 0.010623283, 0.0100711435, 0.010099596, 0.010651273, 0.01097835, 0.010589815, 0.010321572, 0.010479296, 0.010823584, 0.01027508, 0.009739843, 0.010829811, 0.010766991, 0.0108863, 0.009870879, 0.010212891, 0.010014323, 0.010291943, 0.010934178, 0.010626558, 0.01043648, 0.01065444, 0.010641685, 0.009971238, 0.010177449, 0.0104437545, 0.010923134, 0.009804394, 0.010434966, 0.010796704, 0.010449356, 0.009924657, 0.009960684, 0.010155059, 0.010522613, 0.009855581, 0.009989514, 0.010267662, 0.010585905, 0.009593652, 0.010364105, 0.010284929, 0.010687453, 0.010239544, 0.010458097, 0.011176232, 0.009573732, 0.00985599, 0.010363887, 0.012206968, 0.010857038, 0.010307501, 0.01079452, 0.010161899, 0.010445537, 0.010247228, 0.01060242, 0.010368829, 0.010223693, 0.009758353, 0.010302397, 0.010344749, 0.010847716, 0.011195971, 0.010954665, 0.010672872, 0.010271551, 0.010152868, 0.010159005, 0.010778248, 0.010405, 0.010167334, 0.0103091085, 0.010572877, 0.010743814, 0.010862513, 0.010263719, 0.009696149, 0.010742183, 0.011001402, 0.01067359, 0.010294871]\n",
      "2022-02-28 19:35:45,239 : INFO : merging changes from 1204 documents into a model of 3204 documents\n",
      "2022-02-28 19:35:45,242 : INFO : topic #64 (0.010): 0.129*\",\" + 0.101*\"version\" + 0.078*\"famili\" + 0.064*\"content\" + 0.059*\"e2\" + 0.046*\"essenti\" + 0.046*\"gener\" + 0.045*\"compil\" + 0.038*\"-\" + 0.030*\"introduc\"\n",
      "2022-02-28 19:35:45,242 : INFO : topic #4 (0.010): 0.059*\"comput\" + 0.045*\"-\" + 0.044*\"transit\" + 0.035*\",\" + 0.034*\"reflect\" + 0.024*\"feasibl\" + 0.019*\"linguist\" + 0.019*\"power\" + 0.018*\"algorithm\" + 0.018*\"drawn\"\n",
      "2022-02-28 19:35:45,243 : INFO : topic #15 (0.012): 0.187*\"structur\" + 0.179*\"list\" + 0.054*\"defin\" + 0.043*\"concept\" + 0.034*\"definit\" + 0.030*\"-\" + 0.030*\"process\" + 0.026*\"languag\" + 0.023*\"previou\" + 0.020*\"implement\"\n",
      "2022-02-28 19:35:45,243 : INFO : topic #67 (0.012): 0.137*\"system\" + 0.059*\"model\" + 0.057*\",\" + 0.054*\"memori\" + 0.032*\"time\" + 0.030*\"perform\" + 0.022*\"comput\" + 0.021*\"hardwar\" + 0.021*\"share\" + 0.020*\"oper\"\n",
      "2022-02-28 19:35:45,244 : INFO : topic #14 (0.016): 0.313*\"(\" + 0.283*\")\" + 0.227*\"algorithm\" + 0.030*\"[\" + 0.030*\"function\" + 0.018*\"interpol\" + 0.014*\"polynomi\" + 0.013*\"-\" + 0.012*\"linear\" + 0.010*\"chebyshev\"\n",
      "2022-02-28 19:35:45,244 : INFO : topic diff=0.649477, rho=0.422502\n",
      "2022-02-28 19:35:45,248 : INFO : PROGRESS: pass 4, at document #2000/3204\n",
      "2022-02-28 19:35:45,611 : INFO : optimized alpha [0.01041987, 0.01118203, 0.010598496, 0.010007757, 0.00954847, 0.011212331, 0.01001734, 0.009875713, 0.010353033, 0.010583384, 0.010408888, 0.010547476, 0.010754188, 0.010729728, 0.01688498, 0.011709982, 0.009853895, 0.01047789, 0.010683451, 0.010053752, 0.01015091, 0.010693846, 0.011055965, 0.010589698, 0.010347675, 0.010476343, 0.010863555, 0.010259118, 0.009711874, 0.011001664, 0.010752889, 0.01094366, 0.009832527, 0.01018577, 0.010057695, 0.010315917, 0.010983899, 0.01070802, 0.010373738, 0.010602589, 0.010766631, 0.009955005, 0.0101704905, 0.010390771, 0.011051503, 0.009813586, 0.010422739, 0.010859773, 0.010393417, 0.009879733, 0.00991562, 0.010172553, 0.010480546, 0.009934031, 0.009926396, 0.01044316, 0.010660346, 0.009573118, 0.010413399, 0.010433918, 0.010645176, 0.01028181, 0.0104700085, 0.011130775, 0.009560342, 0.009837913, 0.010376669, 0.01229546, 0.0109675145, 0.010335284, 0.010900276, 0.010136865, 0.010450034, 0.010211922, 0.010705856, 0.010456533, 0.010180144, 0.009763624, 0.010351099, 0.010307448, 0.010864273, 0.011161823, 0.011131649, 0.010634769, 0.0102272965, 0.010144355, 0.010142038, 0.0108816065, 0.010567566, 0.010174183, 0.010264924, 0.010626212, 0.01068085, 0.011425516, 0.010298302, 0.009706261, 0.010903826, 0.01106172, 0.010817621, 0.010309016]\n",
      "2022-02-28 19:35:45,614 : INFO : merging changes from 2000 documents into a model of 3204 documents\n",
      "2022-02-28 19:35:45,617 : INFO : topic #64 (0.010): 0.130*\",\" + 0.085*\"version\" + 0.067*\"famili\" + 0.055*\"compil\" + 0.054*\"e2\" + 0.051*\"gener\" + 0.048*\"content\" + 0.047*\"essenti\" + 0.038*\"-\" + 0.029*\"machin\"\n"
     ]
    },
    {
     "name": "stderr",
     "output_type": "stream",
     "text": [
      "2022-02-28 19:35:45,617 : INFO : topic #4 (0.010): 0.057*\"comput\" + 0.045*\"-\" + 0.037*\"transit\" + 0.032*\",\" + 0.025*\"reflect\" + 0.023*\"power\" + 0.023*\"diagram\" + 0.022*\"present\" + 0.020*\"drawn\" + 0.020*\"linguist\"\n",
      "2022-02-28 19:35:45,618 : INFO : topic #15 (0.012): 0.199*\"list\" + 0.182*\"structur\" + 0.049*\"defin\" + 0.042*\"concept\" + 0.032*\"definit\" + 0.032*\"process\" + 0.031*\"-\" + 0.030*\"languag\" + 0.023*\"notat\" + 0.020*\"implement\"\n",
      "2022-02-28 19:35:45,618 : INFO : topic #67 (0.012): 0.140*\"system\" + 0.056*\",\" + 0.055*\"model\" + 0.051*\"memori\" + 0.035*\"time\" + 0.028*\"perform\" + 0.025*\"share\" + 0.024*\"comput\" + 0.021*\"hardwar\" + 0.021*\"-\"\n",
      "2022-02-28 19:35:45,618 : INFO : topic #14 (0.017): 0.319*\"(\" + 0.296*\")\" + 0.229*\"algorithm\" + 0.029*\"function\" + 0.019*\"[\" + 0.016*\"interpol\" + 0.015*\"polynomi\" + 0.012*\"-\" + 0.011*\"chebyshev\" + 0.009*\"linear\"\n",
      "2022-02-28 19:35:45,618 : INFO : topic diff=0.634630, rho=0.389191\n",
      "2022-02-28 19:35:46,051 : INFO : -6.650 per-word bound, 100.5 perplexity estimate based on a held-out corpus of 1204 documents with 49783 words\n",
      "2022-02-28 19:35:46,052 : INFO : PROGRESS: pass 4, at document #3204/3204\n",
      "2022-02-28 19:35:46,359 : INFO : optimized alpha [0.010498592, 0.01149405, 0.01072507, 0.010120449, 0.009563042, 0.011472837, 0.010118557, 0.009971265, 0.010558469, 0.010796816, 0.0105442, 0.0106074335, 0.011038296, 0.010891783, 0.018054642, 0.012145515, 0.0099316295, 0.010668769, 0.010884644, 0.010121309, 0.01028352, 0.010862852, 0.011346091, 0.010801355, 0.010468264, 0.010652696, 0.011069425, 0.01043767, 0.00973806, 0.011374013, 0.01096849, 0.011142367, 0.009876114, 0.010333695, 0.010139354, 0.0104524335, 0.0112768095, 0.010857332, 0.010486407, 0.010710729, 0.010961575, 0.010003276, 0.0103267105, 0.0105307475, 0.011258323, 0.0098732775, 0.010580264, 0.011072849, 0.010614872, 0.009945168, 0.009978433, 0.010286055, 0.010637705, 0.009978954, 0.009980148, 0.010532762, 0.010875167, 0.009581103, 0.010517617, 0.010553086, 0.01077311, 0.0104444055, 0.01066412, 0.011459153, 0.009586158, 0.009885236, 0.010450667, 0.012779677, 0.011217672, 0.010468746, 0.011145054, 0.010289103, 0.010618413, 0.010339867, 0.010891888, 0.010603759, 0.010317019, 0.009829134, 0.010505423, 0.01047838, 0.0111928545, 0.01146997, 0.011287599, 0.010772844, 0.010324943, 0.010291264, 0.010273882, 0.011040402, 0.0107195815, 0.0103172595, 0.010390511, 0.010843317, 0.010909399, 0.011367042, 0.010435112, 0.009728348, 0.0110546, 0.011247705, 0.011000512, 0.010419668]\n",
      "2022-02-28 19:35:46,362 : INFO : merging changes from 1204 documents into a model of 3204 documents\n",
      "2022-02-28 19:35:46,365 : INFO : topic #57 (0.010): 0.069*\",\" + 0.052*\"express\" + 0.045*\"-\" + 0.039*\"monitor\" + 0.035*\"extend\" + 0.028*\"6\" + 0.026*\"laboratori\" + 0.025*\"system\" + 0.021*\"code\" + 0.020*\"mechan\"\n",
      "2022-02-28 19:35:46,365 : INFO : topic #4 (0.010): 0.059*\"comput\" + 0.049*\"transit\" + 0.044*\"-\" + 0.034*\"reflect\" + 0.033*\",\" + 0.025*\"feasibl\" + 0.024*\"power\" + 0.021*\"drawn\" + 0.020*\"connect\" + 0.020*\"present\"\n",
      "2022-02-28 19:35:46,365 : INFO : topic #15 (0.012): 0.217*\"structur\" + 0.191*\"list\" + 0.057*\"defin\" + 0.042*\"concept\" + 0.034*\"definit\" + 0.031*\"-\" + 0.031*\"process\" + 0.028*\"languag\" + 0.022*\"previou\" + 0.020*\"implement\"\n",
      "2022-02-28 19:35:46,366 : INFO : topic #67 (0.013): 0.143*\"system\" + 0.061*\"model\" + 0.055*\",\" + 0.054*\"memori\" + 0.034*\"time\" + 0.033*\"perform\" + 0.023*\"hardwar\" + 0.023*\"comput\" + 0.022*\"share\" + 0.021*\"oper\"\n",
      "2022-02-28 19:35:46,366 : INFO : topic #14 (0.018): 0.327*\"(\" + 0.299*\")\" + 0.226*\"algorithm\" + 0.028*\"function\" + 0.022*\"[\" + 0.017*\"interpol\" + 0.013*\"-\" + 0.012*\"polynomi\" + 0.010*\"chebyshev\" + 0.010*\"linear\"\n",
      "2022-02-28 19:35:46,366 : INFO : topic diff=0.695730, rho=0.389191\n",
      "2022-02-28 19:35:46,371 : INFO : PROGRESS: pass 5, at document #2000/3204\n",
      "2022-02-28 19:35:46,728 : INFO : optimized alpha [0.010530619, 0.011731796, 0.010814529, 0.010109985, 0.009552206, 0.011490865, 0.010160599, 0.010004217, 0.010531338, 0.010822003, 0.010615536, 0.010819724, 0.011133838, 0.011003249, 0.01939063, 0.012263103, 0.009916049, 0.01067495, 0.010946346, 0.010114904, 0.010337142, 0.010902375, 0.01143872, 0.010817909, 0.010502256, 0.010643425, 0.011110163, 0.010423878, 0.00972195, 0.011554047, 0.010960173, 0.0112220775, 0.009843207, 0.010317509, 0.010196636, 0.010486034, 0.011330167, 0.010941555, 0.010428394, 0.010668797, 0.011091088, 0.009990778, 0.010329217, 0.010483173, 0.01139173, 0.009891372, 0.010564477, 0.011133335, 0.010567234, 0.009909669, 0.009939179, 0.010304301, 0.01059798, 0.010083915, 0.009924479, 0.010704532, 0.0109522985, 0.00957025, 0.010594864, 0.010705622, 0.010729834, 0.010481711, 0.010682334, 0.011415862, 0.009579902, 0.009881914, 0.010470696, 0.0128510045, 0.01133971, 0.010504061, 0.011252228, 0.0102709, 0.0106298365, 0.01031267, 0.011002826, 0.010695889, 0.010283819, 0.00983805, 0.010566157, 0.0104467785, 0.011214342, 0.011439711, 0.011473571, 0.010737302, 0.0102879135, 0.0102849435, 0.010267163, 0.011153565, 0.010887225, 0.010312016, 0.010368456, 0.010896466, 0.010851154, 0.011893349, 0.010471183, 0.009740357, 0.011211421, 0.011311853, 0.011154672, 0.0104367705]\n",
      "2022-02-28 19:35:46,731 : INFO : merging changes from 2000 documents into a model of 3204 documents\n",
      "2022-02-28 19:35:46,734 : INFO : topic #57 (0.010): 0.069*\",\" + 0.045*\"-\" + 0.045*\"express\" + 0.041*\"monitor\" + 0.030*\"extend\" + 0.028*\"laboratori\" + 0.027*\"6\" + 0.026*\"code\" + 0.025*\"system\" + 0.021*\"program\"\n",
      "2022-02-28 19:35:46,734 : INFO : topic #4 (0.010): 0.059*\"comput\" + 0.045*\"-\" + 0.042*\"transit\" + 0.031*\",\" + 0.027*\"power\" + 0.025*\"diagram\" + 0.025*\"reflect\" + 0.023*\"present\" + 0.022*\"drawn\" + 0.021*\"feasibl\"\n",
      "2022-02-28 19:35:46,735 : INFO : topic #15 (0.012): 0.209*\"structur\" + 0.208*\"list\" + 0.052*\"defin\" + 0.040*\"concept\" + 0.034*\"process\" + 0.033*\"definit\" + 0.032*\"-\" + 0.030*\"languag\" + 0.022*\"notat\" + 0.021*\"implement\"\n",
      "2022-02-28 19:35:46,735 : INFO : topic #67 (0.013): 0.146*\"system\" + 0.057*\"model\" + 0.054*\",\" + 0.049*\"memori\" + 0.037*\"time\" + 0.030*\"perform\" + 0.026*\"share\" + 0.024*\"comput\" + 0.023*\"hardwar\" + 0.020*\"-\"\n",
      "2022-02-28 19:35:46,735 : INFO : topic #14 (0.019): 0.330*\"(\" + 0.308*\")\" + 0.226*\"algorithm\" + 0.028*\"function\" + 0.016*\"interpol\" + 0.014*\"[\" + 0.014*\"polynomi\" + 0.013*\"-\" + 0.011*\"chebyshev\" + 0.007*\"bessel\"\n",
      "2022-02-28 19:35:46,736 : INFO : topic diff=0.639438, rho=0.362690\n",
      "2022-02-28 19:35:47,155 : INFO : -6.606 per-word bound, 97.4 perplexity estimate based on a held-out corpus of 1204 documents with 49783 words\n",
      "2022-02-28 19:35:47,155 : INFO : PROGRESS: pass 5, at document #3204/3204\n",
      "2022-02-28 19:35:47,449 : INFO : optimized alpha [0.010617437, 0.0120731555, 0.010936326, 0.010231211, 0.009593085, 0.011750955, 0.010268143, 0.010100048, 0.010747715, 0.01101014, 0.010752297, 0.010874778, 0.01143122, 0.011162213, 0.020670503, 0.012681257, 0.010007261, 0.0108677875, 0.011149454, 0.010191091, 0.010471084, 0.011068225, 0.011731658, 0.011017651, 0.010641105, 0.010815864, 0.011297473, 0.0106111225, 0.009750484, 0.0119679, 0.011193492, 0.011416282, 0.009881942, 0.010484821, 0.010288535, 0.010633497, 0.01162194, 0.011091874, 0.010524852, 0.010764065, 0.011291805, 0.01004271, 0.010466868, 0.010605293, 0.0116010215, 0.009944624, 0.010706017, 0.011341043, 0.010776021, 0.009974619, 0.010016896, 0.010420201, 0.010736035, 0.010144139, 0.010006203, 0.010797511, 0.011155171, 0.009578809, 0.010731483, 0.010856084, 0.01085027, 0.0106443465, 0.010891413, 0.011737847, 0.009619361, 0.009938886, 0.010549644, 0.0132962465, 0.011587221, 0.010629453, 0.011501113, 0.010414155, 0.010794669, 0.01044895, 0.011181514, 0.010844009, 0.010431341, 0.009917609, 0.010714668, 0.010617188, 0.011540562, 0.011731434, 0.011626849, 0.01087046, 0.010379773, 0.010432679, 0.0103912065, 0.011309424, 0.011043516, 0.010452868, 0.010489764, 0.011104656, 0.011063179, 0.01182722, 0.0105997855, 0.009767612, 0.011352906, 0.0115007, 0.011316808, 0.010543945]\n",
      "2022-02-28 19:35:47,452 : INFO : merging changes from 1204 documents into a model of 3204 documents\n",
      "2022-02-28 19:35:47,455 : INFO : topic #4 (0.010): 0.061*\"comput\" + 0.053*\"transit\" + 0.042*\"-\" + 0.033*\"reflect\" + 0.032*\",\" + 0.030*\"power\" + 0.025*\"feasibl\" + 0.023*\"connect\" + 0.022*\"drawn\" + 0.021*\"present\"\n"
     ]
    },
    {
     "name": "stderr",
     "output_type": "stream",
     "text": [
      "2022-02-28 19:35:47,455 : INFO : topic #57 (0.010): 0.070*\",\" + 0.055*\"express\" + 0.048*\"monitor\" + 0.043*\"-\" + 0.041*\"extend\" + 0.029*\"6\" + 0.027*\"laboratori\" + 0.026*\"system\" + 0.022*\"mechan\" + 0.021*\"code\"\n",
      "2022-02-28 19:35:47,456 : INFO : topic #15 (0.013): 0.240*\"structur\" + 0.201*\"list\" + 0.058*\"defin\" + 0.041*\"concept\" + 0.034*\"definit\" + 0.032*\"-\" + 0.032*\"process\" + 0.029*\"languag\" + 0.021*\"implement\" + 0.020*\"previou\"\n",
      "2022-02-28 19:35:47,456 : INFO : topic #67 (0.013): 0.149*\"system\" + 0.063*\"model\" + 0.054*\",\" + 0.052*\"memori\" + 0.035*\"time\" + 0.034*\"perform\" + 0.024*\"hardwar\" + 0.023*\"share\" + 0.023*\"comput\" + 0.021*\"oper\"\n",
      "2022-02-28 19:35:47,456 : INFO : topic #14 (0.021): 0.338*\"(\" + 0.310*\")\" + 0.224*\"algorithm\" + 0.027*\"function\" + 0.017*\"interpol\" + 0.014*\"[\" + 0.013*\"-\" + 0.012*\"polynomi\" + 0.009*\"chebyshev\" + 0.007*\"linear\"\n",
      "2022-02-28 19:35:47,457 : INFO : topic diff=0.660410, rho=0.362690\n",
      "2022-02-28 19:35:47,460 : INFO : PROGRESS: pass 6, at document #2000/3204\n",
      "2022-02-28 19:35:47,809 : INFO : optimized alpha [0.010653315, 0.012335549, 0.011017343, 0.010223052, 0.009603395, 0.011764619, 0.010318477, 0.010136567, 0.010733996, 0.0110332165, 0.010830734, 0.011089135, 0.011535089, 0.011269903, 0.022139737, 0.012800393, 0.010006568, 0.010882201, 0.011211256, 0.010197713, 0.0105288075, 0.011116745, 0.011820805, 0.01103834, 0.010685801, 0.010802817, 0.011341287, 0.010604758, 0.009738022, 0.012158963, 0.011195953, 0.011503287, 0.00985544, 0.010479792, 0.01035863, 0.010675941, 0.011665174, 0.01118486, 0.010474614, 0.010730869, 0.011420801, 0.010029868, 0.010472629, 0.010562582, 0.011753783, 0.009970673, 0.0107001765, 0.011407365, 0.0107356785, 0.00994196, 0.009980522, 0.010449916, 0.01070041, 0.010254466, 0.009961481, 0.0109614935, 0.01123172, 0.009577863, 0.0108306585, 0.011020309, 0.010813593, 0.010690169, 0.0109209195, 0.011708415, 0.009617479, 0.00995337, 0.010577989, 0.013366003, 0.011713099, 0.010666313, 0.011604546, 0.010400373, 0.010827352, 0.010426705, 0.011298188, 0.010938806, 0.01040517, 0.009931402, 0.010773757, 0.010594201, 0.011560864, 0.0117007755, 0.011814334, 0.010844466, 0.010348919, 0.010428241, 0.0103883855, 0.011420727, 0.011215279, 0.010442394, 0.010469004, 0.011163773, 0.0110129565, 0.012330458, 0.010637418, 0.00977959, 0.011506291, 0.011572731, 0.011467696, 0.01056378]\n",
      "2022-02-28 19:35:47,812 : INFO : merging changes from 2000 documents into a model of 3204 documents\n",
      "2022-02-28 19:35:47,814 : INFO : topic #57 (0.010): 0.070*\",\" + 0.049*\"monitor\" + 0.047*\"express\" + 0.043*\"-\" + 0.035*\"extend\" + 0.029*\"laboratori\" + 0.028*\"6\" + 0.026*\"system\" + 0.025*\"code\" + 0.022*\"program\"\n",
      "2022-02-28 19:35:47,815 : INFO : topic #64 (0.010): 0.130*\",\" + 0.101*\"version\" + 0.065*\"famili\" + 0.057*\"essenti\" + 0.056*\"compil\" + 0.052*\"gener\" + 0.052*\"e2\" + 0.051*\"content\" + 0.035*\"introduc\" + 0.032*\"-\"\n",
      "2022-02-28 19:35:47,815 : INFO : topic #15 (0.013): 0.231*\"structur\" + 0.216*\"list\" + 0.053*\"defin\" + 0.040*\"concept\" + 0.034*\"process\" + 0.033*\"definit\" + 0.032*\"-\" + 0.030*\"languag\" + 0.022*\"notat\" + 0.022*\"implement\"\n",
      "2022-02-28 19:35:47,815 : INFO : topic #67 (0.013): 0.153*\"system\" + 0.059*\"model\" + 0.053*\",\" + 0.047*\"memori\" + 0.038*\"time\" + 0.032*\"perform\" + 0.027*\"share\" + 0.024*\"hardwar\" + 0.024*\"comput\" + 0.021*\"oper\"\n",
      "2022-02-28 19:35:47,816 : INFO : topic #14 (0.022): 0.338*\"(\" + 0.317*\")\" + 0.224*\"algorithm\" + 0.027*\"function\" + 0.016*\"interpol\" + 0.013*\"polynomi\" + 0.013*\"-\" + 0.010*\"chebyshev\" + 0.010*\"[\" + 0.007*\"bessel\"\n",
      "2022-02-28 19:35:47,816 : INFO : topic diff=0.586470, rho=0.340958\n",
      "2022-02-28 19:35:48,230 : INFO : -6.575 per-word bound, 95.3 perplexity estimate based on a held-out corpus of 1204 documents with 49783 words\n",
      "2022-02-28 19:35:48,230 : INFO : PROGRESS: pass 6, at document #3204/3204\n",
      "2022-02-28 19:35:48,519 : INFO : optimized alpha [0.010744773, 0.012687022, 0.01112943, 0.010352638, 0.009648039, 0.012002261, 0.01042043, 0.010233155, 0.010952513, 0.011202536, 0.010969651, 0.011149506, 0.011823919, 0.011414191, 0.023539199, 0.013196912, 0.010107235, 0.011065576, 0.011410905, 0.010284626, 0.010664865, 0.011280754, 0.012098292, 0.011231486, 0.010835827, 0.010972573, 0.01152552, 0.010804184, 0.0097741205, 0.01259584, 0.011415111, 0.011717798, 0.009912678, 0.010662614, 0.01044552, 0.010818979, 0.01196744, 0.011324228, 0.010572267, 0.0108245015, 0.011598986, 0.010076734, 0.010609125, 0.010678326, 0.011963413, 0.010032762, 0.010840545, 0.011608224, 0.010949518, 0.010009474, 0.010051652, 0.01057164, 0.0108374385, 0.010314009, 0.010056603, 0.011064382, 0.011421593, 0.009597824, 0.010985055, 0.0111695, 0.010927893, 0.01084767, 0.011120175, 0.01201645, 0.009655401, 0.010019016, 0.010658739, 0.01377189, 0.011956227, 0.010788197, 0.011848918, 0.010533301, 0.010980629, 0.010577074, 0.011477449, 0.011076222, 0.010539232, 0.010018298, 0.010926994, 0.010780291, 0.011873637, 0.011972441, 0.011959223, 0.01098012, 0.010427265, 0.010580398, 0.010500078, 0.011578181, 0.011373368, 0.010593946, 0.010590168, 0.011365148, 0.01121738, 0.012257394, 0.010768386, 0.009797551, 0.011636822, 0.0117553165, 0.0116215, 0.010668306]\n",
      "2022-02-28 19:35:48,521 : INFO : merging changes from 1204 documents into a model of 3204 documents\n",
      "2022-02-28 19:35:48,524 : INFO : topic #57 (0.010): 0.069*\",\" + 0.055*\"express\" + 0.055*\"monitor\" + 0.045*\"extend\" + 0.041*\"-\" + 0.029*\"6\" + 0.028*\"laboratori\" + 0.026*\"system\" + 0.023*\"mechan\" + 0.021*\"code\"\n",
      "2022-02-28 19:35:48,525 : INFO : topic #64 (0.010): 0.127*\",\" + 0.124*\"version\" + 0.072*\"famili\" + 0.066*\"content\" + 0.060*\"essenti\" + 0.054*\"e2\" + 0.048*\"gener\" + 0.048*\"compil\" + 0.037*\"introduc\" + 0.029*\"-\"\n",
      "2022-02-28 19:35:48,525 : INFO : topic #15 (0.013): 0.258*\"structur\" + 0.208*\"list\" + 0.058*\"defin\" + 0.039*\"concept\" + 0.032*\"-\" + 0.032*\"definit\" + 0.032*\"process\" + 0.029*\"languag\" + 0.022*\"implement\" + 0.018*\"notat\"\n",
      "2022-02-28 19:35:48,525 : INFO : topic #67 (0.014): 0.156*\"system\" + 0.064*\"model\" + 0.052*\",\" + 0.049*\"memori\" + 0.037*\"time\" + 0.035*\"perform\" + 0.025*\"hardwar\" + 0.024*\"share\" + 0.023*\"comput\" + 0.021*\"oper\"\n",
      "2022-02-28 19:35:48,526 : INFO : topic #14 (0.024): 0.346*\"(\" + 0.318*\")\" + 0.221*\"algorithm\" + 0.027*\"function\" + 0.016*\"interpol\" + 0.013*\"-\" + 0.011*\"polynomi\" + 0.009*\"chebyshev\" + 0.009*\"[\" + 0.005*\"bessel\"\n",
      "2022-02-28 19:35:48,526 : INFO : topic diff=0.589194, rho=0.340958\n",
      "2022-02-28 19:35:48,530 : INFO : PROGRESS: pass 7, at document #2000/3204\n",
      "2022-02-28 19:35:48,876 : INFO : optimized alpha [0.010784336, 0.012948829, 0.011208531, 0.010353125, 0.009663054, 0.012016056, 0.010478692, 0.010266294, 0.010934982, 0.0112239765, 0.011049812, 0.0113596525, 0.01193232, 0.01152636, 0.025160652, 0.013326903, 0.01011159, 0.011087642, 0.01147859, 0.010296203, 0.010724945, 0.011332259, 0.01219461, 0.0112523, 0.010894031, 0.010968579, 0.011564833, 0.010793755, 0.009763143, 0.012794857, 0.01141646, 0.011808129, 0.009893071, 0.010662458, 0.010524253, 0.010873277, 0.012009105, 0.011416696, 0.010528608, 0.010795293, 0.011707449, 0.010065317, 0.010616069, 0.0106450375, 0.012112004, 0.010062735, 0.010838304, 0.011676628, 0.01091197, 0.0099856965, 0.01002438, 0.01060329, 0.010805354, 0.010439884, 0.010021209, 0.011232658, 0.011501737, 0.009600826, 0.011092344, 0.011347309, 0.010893411, 0.010896236, 0.011154964, 0.011993926, 0.0096542835, 0.010039691, 0.010699749, 0.0138430325, 0.012088316, 0.010826802, 0.011947376, 0.010533745, 0.01101687, 0.010562628, 0.011594583, 0.011170446, 0.010512609, 0.010036522, 0.010988469, 0.010761314, 0.011900784, 0.011941691, 0.012149121, 0.010957223, 0.010410462, 0.0105828205, 0.010495781, 0.011692039, 0.011560909, 0.010580238, 0.010577479, 0.011424703, 0.011172417, 0.0127501, 0.010811018, 0.009811268, 0.011793432, 0.011829378, 0.01176821, 0.010688933]\n",
      "2022-02-28 19:35:48,879 : INFO : merging changes from 2000 documents into a model of 3204 documents\n",
      "2022-02-28 19:35:48,882 : INFO : topic #57 (0.010): 0.070*\",\" + 0.056*\"monitor\" + 0.047*\"express\" + 0.042*\"-\" + 0.038*\"extend\" + 0.029*\"laboratori\" + 0.028*\"6\" + 0.026*\"system\" + 0.025*\"code\" + 0.022*\"program\"\n",
      "2022-02-28 19:35:48,882 : INFO : topic #64 (0.010): 0.129*\",\" + 0.106*\"version\" + 0.064*\"famili\" + 0.059*\"essenti\" + 0.057*\"compil\" + 0.053*\"gener\" + 0.052*\"content\" + 0.051*\"e2\" + 0.037*\"introduc\" + 0.030*\"-\"\n"
     ]
    },
    {
     "name": "stderr",
     "output_type": "stream",
     "text": [
      "2022-02-28 19:35:48,883 : INFO : topic #15 (0.013): 0.248*\"structur\" + 0.221*\"list\" + 0.054*\"defin\" + 0.038*\"concept\" + 0.034*\"process\" + 0.033*\"-\" + 0.032*\"definit\" + 0.031*\"languag\" + 0.023*\"implement\" + 0.022*\"notat\"\n",
      "2022-02-28 19:35:48,883 : INFO : topic #67 (0.014): 0.160*\"system\" + 0.060*\"model\" + 0.052*\",\" + 0.045*\"memori\" + 0.039*\"time\" + 0.033*\"perform\" + 0.028*\"share\" + 0.025*\"hardwar\" + 0.024*\"comput\" + 0.021*\"oper\"\n",
      "2022-02-28 19:35:48,883 : INFO : topic #14 (0.025): 0.344*\"(\" + 0.323*\")\" + 0.222*\"algorithm\" + 0.026*\"function\" + 0.015*\"interpol\" + 0.012*\"-\" + 0.012*\"polynomi\" + 0.010*\"chebyshev\" + 0.007*\"bessel\" + 0.007*\"[\"\n",
      "2022-02-28 19:35:48,883 : INFO : topic diff=0.515506, rho=0.322715\n",
      "2022-02-28 19:35:49,294 : INFO : -6.547 per-word bound, 93.5 perplexity estimate based on a held-out corpus of 1204 documents with 49783 words\n",
      "2022-02-28 19:35:49,295 : INFO : PROGRESS: pass 7, at document #3204/3204\n",
      "2022-02-28 19:35:49,585 : INFO : optimized alpha [0.010871569, 0.013308245, 0.011312222, 0.010482528, 0.009705957, 0.012240589, 0.010573131, 0.01036944, 0.011138674, 0.011391941, 0.011185433, 0.011425311, 0.012224106, 0.011663963, 0.02666072, 0.013718637, 0.010226656, 0.011266132, 0.0116731115, 0.0103847785, 0.010866416, 0.011476743, 0.012485095, 0.011437303, 0.011052166, 0.011142751, 0.01175347, 0.011002343, 0.009808772, 0.013256895, 0.011623457, 0.012033058, 0.0099561475, 0.010831648, 0.010612617, 0.011021547, 0.012306971, 0.0115589425, 0.010639122, 0.010890875, 0.01186547, 0.010110537, 0.01074943, 0.010755511, 0.012323068, 0.010127467, 0.010978198, 0.011872307, 0.011107904, 0.010055835, 0.010098021, 0.010733819, 0.01093326, 0.010499021, 0.010117552, 0.0113332225, 0.01168037, 0.009625606, 0.011267215, 0.011495926, 0.011011483, 0.011049799, 0.011355042, 0.012293593, 0.009698668, 0.010113391, 0.010773767, 0.014232023, 0.012322113, 0.010948957, 0.012179129, 0.01066922, 0.011160343, 0.010706458, 0.011772422, 0.011307569, 0.010652053, 0.010124959, 0.011138029, 0.01093644, 0.012199204, 0.012212038, 0.012296665, 0.011083854, 0.010496673, 0.010731283, 0.010599648, 0.011839225, 0.011752546, 0.0107478425, 0.010695984, 0.011620717, 0.0113558015, 0.012670572, 0.0109360935, 0.009839598, 0.0119207855, 0.012003934, 0.011911775, 0.010800298]\n",
      "2022-02-28 19:35:49,588 : INFO : merging changes from 1204 documents into a model of 3204 documents\n",
      "2022-02-28 19:35:49,591 : INFO : topic #57 (0.010): 0.068*\",\" + 0.061*\"monitor\" + 0.054*\"express\" + 0.048*\"extend\" + 0.039*\"-\" + 0.031*\"6\" + 0.029*\"laboratori\" + 0.026*\"system\" + 0.023*\"mechan\" + 0.021*\"code\"\n",
      "2022-02-28 19:35:49,591 : INFO : topic #4 (0.010): 0.066*\"comput\" + 0.055*\"transit\" + 0.038*\"-\" + 0.035*\"power\" + 0.032*\"reflect\" + 0.031*\",\" + 0.029*\"state\" + 0.026*\"connect\" + 0.025*\"feasibl\" + 0.023*\"requir\"\n",
      "2022-02-28 19:35:49,592 : INFO : topic #15 (0.014): 0.274*\"structur\" + 0.212*\"list\" + 0.059*\"defin\" + 0.037*\"concept\" + 0.033*\"-\" + 0.032*\"process\" + 0.032*\"definit\" + 0.029*\"languag\" + 0.023*\"implement\" + 0.018*\"notat\"\n",
      "2022-02-28 19:35:49,592 : INFO : topic #67 (0.014): 0.162*\"system\" + 0.063*\"model\" + 0.051*\",\" + 0.046*\"memori\" + 0.037*\"time\" + 0.036*\"perform\" + 0.026*\"hardwar\" + 0.025*\"share\" + 0.024*\"comput\" + 0.021*\"oper\"\n",
      "2022-02-28 19:35:49,593 : INFO : topic #14 (0.027): 0.352*\"(\" + 0.325*\")\" + 0.218*\"algorithm\" + 0.026*\"function\" + 0.016*\"interpol\" + 0.013*\"-\" + 0.010*\"polynomi\" + 0.009*\"chebyshev\" + 0.006*\"[\" + 0.005*\"bessel\"\n",
      "2022-02-28 19:35:49,593 : INFO : topic diff=0.513191, rho=0.322715\n",
      "2022-02-28 19:35:49,597 : INFO : PROGRESS: pass 8, at document #2000/3204\n",
      "2022-02-28 19:35:49,940 : INFO : optimized alpha [0.010909576, 0.013594886, 0.01138638, 0.01048935, 0.009732744, 0.012258516, 0.010632384, 0.010409194, 0.011140102, 0.011419092, 0.011272616, 0.0116395475, 0.012344985, 0.011778992, 0.028388077, 0.013842751, 0.010238665, 0.011291865, 0.011742991, 0.01040084, 0.010928927, 0.011538407, 0.012573084, 0.011456657, 0.011107799, 0.011143573, 0.011799663, 0.010996611, 0.009800464, 0.013460632, 0.011631121, 0.012123181, 0.0099441465, 0.010831019, 0.010693224, 0.011086925, 0.012341708, 0.01164767, 0.010602763, 0.010871942, 0.011967842, 0.010106561, 0.010760864, 0.010719016, 0.012468349, 0.010153325, 0.010980906, 0.011941122, 0.011072998, 0.010035254, 0.010075595, 0.010768989, 0.010904326, 0.010626919, 0.010091929, 0.011497593, 0.0117551945, 0.009632039, 0.011379283, 0.011678882, 0.010985585, 0.011094382, 0.011396511, 0.012275756, 0.009699635, 0.0101381475, 0.0108216265, 0.014291689, 0.012453017, 0.010987534, 0.012277032, 0.010669531, 0.011220619, 0.010700772, 0.011886878, 0.011401695, 0.01062978, 0.010147182, 0.01120033, 0.010931282, 0.012227551, 0.012188534, 0.012485821, 0.0110654365, 0.010476144, 0.010741631, 0.010597253, 0.011948712, 0.011934528, 0.010739161, 0.010683946, 0.011680892, 0.011319269, 0.013154553, 0.010982044, 0.009857836, 0.012075497, 0.012080234, 0.012058772, 0.010820066]\n",
      "2022-02-28 19:35:49,942 : INFO : merging changes from 2000 documents into a model of 3204 documents\n",
      "2022-02-28 19:35:49,945 : INFO : topic #57 (0.010): 0.069*\",\" + 0.061*\"monitor\" + 0.047*\"express\" + 0.041*\"extend\" + 0.040*\"-\" + 0.030*\"laboratori\" + 0.030*\"6\" + 0.027*\"system\" + 0.025*\"code\" + 0.022*\"batch\"\n",
      "2022-02-28 19:35:49,946 : INFO : topic #64 (0.010): 0.129*\",\" + 0.109*\"version\" + 0.063*\"famili\" + 0.059*\"essenti\" + 0.058*\"compil\" + 0.054*\"gener\" + 0.053*\"content\" + 0.050*\"e2\" + 0.039*\"introduc\" + 0.027*\"-\"\n",
      "2022-02-28 19:35:49,946 : INFO : topic #15 (0.014): 0.263*\"structur\" + 0.225*\"list\" + 0.055*\"defin\" + 0.036*\"concept\" + 0.034*\"process\" + 0.033*\"-\" + 0.031*\"definit\" + 0.030*\"languag\" + 0.024*\"implement\" + 0.021*\"notat\"\n",
      "2022-02-28 19:35:49,946 : INFO : topic #67 (0.014): 0.165*\"system\" + 0.060*\"model\" + 0.051*\",\" + 0.043*\"memori\" + 0.040*\"time\" + 0.034*\"perform\" + 0.028*\"share\" + 0.026*\"hardwar\" + 0.024*\"comput\" + 0.021*\"oper\"\n",
      "2022-02-28 19:35:49,947 : INFO : topic #14 (0.028): 0.350*\"(\" + 0.328*\")\" + 0.220*\"algorithm\" + 0.025*\"function\" + 0.015*\"interpol\" + 0.012*\"-\" + 0.011*\"polynomi\" + 0.010*\"chebyshev\" + 0.007*\"bessel\" + 0.006*\"kind\"\n",
      "2022-02-28 19:35:49,947 : INFO : topic diff=0.446445, rho=0.307119\n",
      "2022-02-28 19:35:50,365 : INFO : -6.529 per-word bound, 92.3 perplexity estimate based on a held-out corpus of 1204 documents with 49783 words\n",
      "2022-02-28 19:35:50,366 : INFO : PROGRESS: pass 8, at document #3204/3204\n",
      "2022-02-28 19:35:50,644 : INFO : optimized alpha [0.010993248, 0.013974392, 0.011485661, 0.010621776, 0.009779195, 0.012468482, 0.010714659, 0.0105136605, 0.011348172, 0.011586401, 0.011411356, 0.011704479, 0.012641027, 0.011910933, 0.030056817, 0.014231191, 0.010354407, 0.0114665, 0.011927292, 0.01049125, 0.011062165, 0.011689201, 0.012864344, 0.011634729, 0.01126845, 0.011305302, 0.01199631, 0.0112034865, 0.009857349, 0.013946597, 0.011830519, 0.0123434635, 0.010010011, 0.011002041, 0.010783193, 0.011243652, 0.012636407, 0.011784146, 0.010711602, 0.010969507, 0.012122639, 0.01015294, 0.01088891, 0.010819537, 0.012668719, 0.010215529, 0.011137728, 0.012138748, 0.011261517, 0.010110464, 0.010162063, 0.010894373, 0.011024364, 0.010704838, 0.010187137, 0.011593568, 0.011933061, 0.009658706, 0.01155688, 0.011848555, 0.011107556, 0.0112391375, 0.011595366, 0.012565472, 0.009740072, 0.010208959, 0.010895305, 0.014673001, 0.012681946, 0.011107617, 0.012503888, 0.010799626, 0.0113844285, 0.010852927, 0.012061051, 0.011545117, 0.01077204, 0.010239899, 0.011346969, 0.011105522, 0.012507114, 0.012446172, 0.012633403, 0.011189957, 0.010559113, 0.010884429, 0.010686188, 0.012098996, 0.01214702, 0.010897649, 0.010800513, 0.011866573, 0.011492442, 0.013068878, 0.011104926, 0.009887909, 0.012197283, 0.012244814, 0.012196464, 0.010938122]\n",
      "2022-02-28 19:35:50,647 : INFO : merging changes from 1204 documents into a model of 3204 documents\n",
      "2022-02-28 19:35:50,650 : INFO : topic #57 (0.010): 0.069*\"monitor\" + 0.068*\",\" + 0.052*\"express\" + 0.052*\"extend\" + 0.038*\"-\" + 0.032*\"6\" + 0.030*\"laboratori\" + 0.027*\"system\" + 0.024*\"mechan\" + 0.022*\"code\"\n",
      "2022-02-28 19:35:50,651 : INFO : topic #4 (0.010): 0.068*\"comput\" + 0.054*\"transit\" + 0.037*\"power\" + 0.036*\"state\" + 0.036*\"-\" + 0.031*\"reflect\" + 0.030*\",\" + 0.027*\"connect\" + 0.026*\"requir\" + 0.026*\"calcul\"\n"
     ]
    },
    {
     "name": "stderr",
     "output_type": "stream",
     "text": [
      "2022-02-28 19:35:50,651 : INFO : topic #15 (0.014): 0.287*\"structur\" + 0.217*\"list\" + 0.059*\"defin\" + 0.036*\"concept\" + 0.033*\"-\" + 0.033*\"process\" + 0.030*\"definit\" + 0.029*\"languag\" + 0.024*\"implement\" + 0.017*\"notat\"\n",
      "2022-02-28 19:35:50,651 : INFO : topic #67 (0.015): 0.166*\"system\" + 0.063*\"model\" + 0.051*\",\" + 0.045*\"memori\" + 0.038*\"time\" + 0.037*\"perform\" + 0.026*\"hardwar\" + 0.025*\"share\" + 0.024*\"comput\" + 0.022*\"oper\"\n",
      "2022-02-28 19:35:50,652 : INFO : topic #14 (0.030): 0.358*\"(\" + 0.329*\")\" + 0.216*\"algorithm\" + 0.025*\"function\" + 0.015*\"interpol\" + 0.013*\"-\" + 0.009*\"polynomi\" + 0.009*\"chebyshev\" + 0.005*\"bessel\" + 0.005*\"kind\"\n",
      "2022-02-28 19:35:50,652 : INFO : topic diff=0.444345, rho=0.307119\n",
      "2022-02-28 19:35:50,656 : INFO : PROGRESS: pass 9, at document #2000/3204\n",
      "2022-02-28 19:35:50,993 : INFO : optimized alpha [0.011036447, 0.014268683, 0.011557143, 0.010643755, 0.009815438, 0.012488619, 0.010767035, 0.010556647, 0.011340405, 0.011613872, 0.011507133, 0.011913, 0.012765103, 0.012016874, 0.031910516, 0.014354369, 0.010373573, 0.0114993155, 0.011992554, 0.010510037, 0.011120661, 0.011751989, 0.012956238, 0.011659789, 0.011325083, 0.011315681, 0.012040233, 0.0111988215, 0.009855763, 0.014161892, 0.011838941, 0.012439259, 0.010000419, 0.011009045, 0.010862618, 0.011316368, 0.012664763, 0.011876578, 0.010678582, 0.0109499665, 0.012223215, 0.010152648, 0.010899812, 0.010786509, 0.012807479, 0.010246716, 0.011151572, 0.012201121, 0.011229066, 0.010094172, 0.01015143, 0.010931259, 0.010998437, 0.010846173, 0.010167399, 0.0117547, 0.012011942, 0.009666903, 0.011675425, 0.012038873, 0.0110810315, 0.011288427, 0.011641672, 0.012550332, 0.0097401105, 0.010239031, 0.010946403, 0.014737122, 0.012817807, 0.011146314, 0.012603549, 0.010802976, 0.011447308, 0.010848881, 0.012175071, 0.011641079, 0.010756838, 0.010267424, 0.011416931, 0.011104991, 0.012536817, 0.012422256, 0.01282821, 0.011175669, 0.010539819, 0.010890994, 0.010681043, 0.012204655, 0.012340389, 0.010888935, 0.010790585, 0.01192763, 0.011463855, 0.0135398265, 0.01114586, 0.009910287, 0.012354372, 0.012316288, 0.0123424055, 0.010963561]\n",
      "2022-02-28 19:35:50,995 : INFO : merging changes from 2000 documents into a model of 3204 documents\n",
      "2022-02-28 19:35:50,998 : INFO : topic #57 (0.010): 0.069*\",\" + 0.067*\"monitor\" + 0.045*\"express\" + 0.044*\"extend\" + 0.039*\"-\" + 0.031*\"laboratori\" + 0.031*\"6\" + 0.028*\"system\" + 0.025*\"code\" + 0.023*\"telephon\"\n",
      "2022-02-28 19:35:50,998 : INFO : topic #64 (0.010): 0.129*\",\" + 0.112*\"version\" + 0.063*\"famili\" + 0.061*\"compil\" + 0.059*\"essenti\" + 0.056*\"gener\" + 0.053*\"content\" + 0.050*\"e2\" + 0.040*\"introduc\" + 0.025*\"-\"\n",
      "2022-02-28 19:35:50,999 : INFO : topic #15 (0.014): 0.276*\"structur\" + 0.228*\"list\" + 0.056*\"defin\" + 0.036*\"concept\" + 0.035*\"process\" + 0.034*\"-\" + 0.030*\"languag\" + 0.029*\"definit\" + 0.024*\"implement\" + 0.020*\"notat\"\n",
      "2022-02-28 19:35:50,999 : INFO : topic #67 (0.015): 0.170*\"system\" + 0.060*\"model\" + 0.051*\",\" + 0.041*\"memori\" + 0.040*\"time\" + 0.035*\"perform\" + 0.029*\"share\" + 0.026*\"hardwar\" + 0.024*\"comput\" + 0.021*\"oper\"\n",
      "2022-02-28 19:35:50,999 : INFO : topic #14 (0.032): 0.354*\"(\" + 0.332*\")\" + 0.217*\"algorithm\" + 0.025*\"function\" + 0.015*\"interpol\" + 0.012*\"-\" + 0.010*\"polynomi\" + 0.010*\"chebyshev\" + 0.006*\"bessel\" + 0.006*\"kind\"\n",
      "2022-02-28 19:35:51,000 : INFO : topic diff=0.385942, rho=0.293585\n",
      "2022-02-28 19:35:51,401 : INFO : -6.511 per-word bound, 91.2 perplexity estimate based on a held-out corpus of 1204 documents with 49783 words\n",
      "2022-02-28 19:35:51,402 : INFO : PROGRESS: pass 9, at document #3204/3204\n",
      "2022-02-28 19:35:51,676 : INFO : optimized alpha [0.011114351, 0.014655744, 0.011652634, 0.010776718, 0.009881954, 0.012697678, 0.010856838, 0.010665198, 0.011570046, 0.011775357, 0.011652362, 0.011974598, 0.0130633535, 0.01214689, 0.033631913, 0.014737419, 0.010490394, 0.011670862, 0.012167835, 0.010610059, 0.011257429, 0.0119031565, 0.013236506, 0.011831841, 0.011480436, 0.011496798, 0.012239222, 0.0113963, 0.009920497, 0.014673889, 0.012028917, 0.012665144, 0.010071408, 0.011185218, 0.010954499, 0.011470608, 0.012944892, 0.012016879, 0.010791438, 0.011041462, 0.012375559, 0.010197598, 0.011020602, 0.0108967, 0.013001461, 0.010306752, 0.0113111045, 0.012398236, 0.011413952, 0.010166773, 0.010239843, 0.011062885, 0.011119649, 0.010923595, 0.010254315, 0.011852411, 0.012166054, 0.0096906265, 0.011867618, 0.012211892, 0.011204129, 0.01143918, 0.011839951, 0.0128313545, 0.009786551, 0.010314956, 0.011022738, 0.015104718, 0.01304611, 0.011259338, 0.012835664, 0.010931146, 0.011619777, 0.011001194, 0.012343324, 0.01177651, 0.010896865, 0.010359348, 0.011567026, 0.011267943, 0.012808378, 0.012665695, 0.012979289, 0.011298509, 0.0106173605, 0.011036878, 0.010764265, 0.01235245, 0.012565054, 0.011052659, 0.01090305, 0.012112911, 0.01163089, 0.01345841, 0.011278048, 0.00993712, 0.012471316, 0.012472082, 0.012477823, 0.011080106]\n",
      "2022-02-28 19:35:51,679 : INFO : merging changes from 1204 documents into a model of 3204 documents\n",
      "2022-02-28 19:35:51,682 : INFO : topic #57 (0.010): 0.074*\"monitor\" + 0.068*\",\" + 0.055*\"extend\" + 0.047*\"express\" + 0.037*\"-\" + 0.033*\"6\" + 0.031*\"laboratori\" + 0.028*\"system\" + 0.025*\"mechan\" + 0.023*\"batch\"\n",
      "2022-02-28 19:35:51,683 : INFO : topic #64 (0.010): 0.129*\"version\" + 0.127*\",\" + 0.070*\"content\" + 0.069*\"famili\" + 0.060*\"essenti\" + 0.054*\"compil\" + 0.053*\"gener\" + 0.051*\"e2\" + 0.043*\"introduc\" + 0.023*\"-\"\n",
      "2022-02-28 19:35:51,683 : INFO : topic #15 (0.015): 0.299*\"structur\" + 0.220*\"list\" + 0.060*\"defin\" + 0.035*\"concept\" + 0.034*\"-\" + 0.033*\"process\" + 0.028*\"definit\" + 0.028*\"languag\" + 0.024*\"implement\" + 0.016*\"notat\"\n",
      "2022-02-28 19:35:51,683 : INFO : topic #67 (0.015): 0.171*\"system\" + 0.062*\"model\" + 0.050*\",\" + 0.043*\"memori\" + 0.039*\"time\" + 0.038*\"perform\" + 0.027*\"hardwar\" + 0.026*\"share\" + 0.024*\"comput\" + 0.022*\"oper\"\n",
      "2022-02-28 19:35:51,684 : INFO : topic #14 (0.034): 0.361*\"(\" + 0.334*\")\" + 0.213*\"algorithm\" + 0.024*\"function\" + 0.015*\"interpol\" + 0.013*\"-\" + 0.009*\"chebyshev\" + 0.009*\"polynomi\" + 0.005*\"bessel\" + 0.005*\"kind\"\n",
      "2022-02-28 19:35:51,684 : INFO : topic diff=0.386231, rho=0.293585\n",
      "2022-02-28 19:35:51,689 : INFO : PROGRESS: pass 10, at document #2000/3204\n",
      "2022-02-28 19:35:52,024 : INFO : optimized alpha [0.011154729, 0.014966695, 0.011721805, 0.010799375, 0.00992411, 0.012718236, 0.0109137045, 0.010703695, 0.011569839, 0.011799929, 0.011758272, 0.012191761, 0.013183548, 0.012259896, 0.03558268, 0.01485796, 0.010511774, 0.011702123, 0.012230661, 0.010635766, 0.011317028, 0.011965422, 0.013334254, 0.011857388, 0.0115448, 0.011509611, 0.012284557, 0.011395981, 0.009924919, 0.014901435, 0.0120365005, 0.012757611, 0.010068236, 0.011196259, 0.01104379, 0.011552224, 0.012980153, 0.012103033, 0.010762937, 0.011023018, 0.012471154, 0.010196406, 0.01102953, 0.010871256, 0.013132529, 0.010335659, 0.0113305375, 0.012461666, 0.011382118, 0.010154351, 0.010232743, 0.011106281, 0.011094733, 0.011064223, 0.010238446, 0.01201584, 0.012240417, 0.009696289, 0.011987876, 0.012401372, 0.011177089, 0.011494743, 0.01189606, 0.012815128, 0.009787042, 0.010345582, 0.011078501, 0.015154074, 0.013181561, 0.0112983165, 0.012931862, 0.01093579, 0.011695194, 0.010995414, 0.012453836, 0.0118727125, 0.010883662, 0.010384553, 0.011639491, 0.011263917, 0.01283961, 0.012641468, 0.013167167, 0.01129281, 0.010600742, 0.011044604, 0.010758062, 0.01245832, 0.01276676, 0.011045494, 0.010898241, 0.012171594, 0.011604596, 0.01392536, 0.01132225, 0.009957747, 0.012629319, 0.0125410175, 0.012617972, 0.011107766]\n",
      "2022-02-28 19:35:52,026 : INFO : merging changes from 2000 documents into a model of 3204 documents\n",
      "2022-02-28 19:35:52,029 : INFO : topic #57 (0.010): 0.072*\"monitor\" + 0.069*\",\" + 0.047*\"extend\" + 0.041*\"express\" + 0.038*\"-\" + 0.032*\"laboratori\" + 0.032*\"6\" + 0.030*\"system\" + 0.025*\"telephon\" + 0.024*\"code\"\n",
      "2022-02-28 19:35:52,030 : INFO : topic #64 (0.010): 0.129*\",\" + 0.113*\"version\" + 0.064*\"compil\" + 0.063*\"famili\" + 0.059*\"essenti\" + 0.057*\"gener\" + 0.057*\"content\" + 0.050*\"e2\" + 0.040*\"introduc\" + 0.024*\"-\"\n",
      "2022-02-28 19:35:52,030 : INFO : topic #1 (0.015): 0.411*\"method\" + 0.152*\"'\" + 0.091*\"procedur\" + 0.072*\"recurs\" + 0.060*\"comment\" + 0.029*\"comput\" + 0.028*\"appli\" + 0.027*\"function\" + 0.023*\"minim\" + 0.016*\"nonlinear\"\n"
     ]
    },
    {
     "name": "stderr",
     "output_type": "stream",
     "text": [
      "2022-02-28 19:35:52,030 : INFO : topic #67 (0.015): 0.174*\"system\" + 0.059*\"model\" + 0.050*\",\" + 0.041*\"time\" + 0.040*\"memori\" + 0.036*\"perform\" + 0.029*\"share\" + 0.027*\"hardwar\" + 0.024*\"comput\" + 0.022*\"oper\"\n",
      "2022-02-28 19:35:52,030 : INFO : topic #14 (0.036): 0.358*\"(\" + 0.336*\")\" + 0.214*\"algorithm\" + 0.024*\"function\" + 0.014*\"interpol\" + 0.013*\"-\" + 0.010*\"polynomi\" + 0.009*\"chebyshev\" + 0.006*\"bessel\" + 0.006*\"kind\"\n",
      "2022-02-28 19:35:52,031 : INFO : topic diff=0.335907, rho=0.281696\n",
      "2022-02-28 19:35:52,432 : INFO : -6.497 per-word bound, 90.3 perplexity estimate based on a held-out corpus of 1204 documents with 49783 words\n",
      "2022-02-28 19:35:52,432 : INFO : PROGRESS: pass 10, at document #3204/3204\n",
      "2022-02-28 19:35:52,707 : INFO : optimized alpha [0.011232726, 0.015376488, 0.011813953, 0.010933258, 0.010007166, 0.012918071, 0.011005693, 0.0108113, 0.011818154, 0.011956425, 0.011907223, 0.012250325, 0.013475117, 0.012388371, 0.037353322, 0.015236714, 0.010627334, 0.011862874, 0.012403499, 0.010737667, 0.011449468, 0.012114697, 0.013610891, 0.012021477, 0.011700847, 0.011690792, 0.01248066, 0.011585168, 0.0099994615, 0.015441486, 0.012234887, 0.0129894065, 0.010139332, 0.011369682, 0.011142864, 0.011704423, 0.01324987, 0.012241672, 0.010872105, 0.011122281, 0.01262748, 0.010237691, 0.011146441, 0.010980492, 0.01331773, 0.010413334, 0.01148793, 0.012653106, 0.011564081, 0.010224631, 0.010318369, 0.011236416, 0.011219897, 0.011146487, 0.010329847, 0.012112627, 0.012392473, 0.009719672, 0.012189271, 0.012569393, 0.011298904, 0.011646243, 0.012111191, 0.0130855795, 0.00982994, 0.010419065, 0.01114943, 0.015494846, 0.013403562, 0.011410355, 0.013148468, 0.011062406, 0.011879219, 0.011156114, 0.0126168635, 0.012003817, 0.011024385, 0.010471083, 0.011782162, 0.011413883, 0.013104145, 0.012886807, 0.01331902, 0.011406291, 0.010680852, 0.011193896, 0.010841211, 0.012601314, 0.013013083, 0.0112094125, 0.011019987, 0.012351365, 0.011763696, 0.013844704, 0.011455545, 0.009993357, 0.012744926, 0.012694672, 0.012748881, 0.011225771]\n",
      "2022-02-28 19:35:52,709 : INFO : merging changes from 1204 documents into a model of 3204 documents\n",
      "2022-02-28 19:35:52,713 : INFO : topic #57 (0.010): 0.079*\"monitor\" + 0.069*\",\" + 0.058*\"extend\" + 0.043*\"express\" + 0.036*\"-\" + 0.034*\"6\" + 0.032*\"laboratori\" + 0.029*\"system\" + 0.025*\"mechan\" + 0.024*\"telephon\"\n",
      "2022-02-28 19:35:52,713 : INFO : topic #64 (0.010): 0.129*\"version\" + 0.127*\",\" + 0.072*\"content\" + 0.069*\"famili\" + 0.060*\"essenti\" + 0.057*\"compil\" + 0.055*\"gener\" + 0.051*\"e2\" + 0.041*\"introduc\" + 0.021*\"report\"\n",
      "2022-02-28 19:35:52,714 : INFO : topic #29 (0.015): 0.498*\"problem\" + 0.096*\"solut\" + 0.069*\"solv\" + 0.053*\"program\" + 0.036*\",\" + 0.018*\"involv\" + 0.016*\"reader\" + 0.016*\"practic\" + 0.015*\"paper\" + 0.014*\"engin\"\n",
      "2022-02-28 19:35:52,714 : INFO : topic #67 (0.015): 0.174*\"system\" + 0.061*\"model\" + 0.050*\",\" + 0.041*\"memori\" + 0.039*\"perform\" + 0.039*\"time\" + 0.027*\"hardwar\" + 0.027*\"share\" + 0.024*\"comput\" + 0.022*\"oper\"\n",
      "2022-02-28 19:35:52,714 : INFO : topic #14 (0.037): 0.365*\"(\" + 0.338*\")\" + 0.209*\"algorithm\" + 0.024*\"function\" + 0.015*\"interpol\" + 0.013*\"-\" + 0.009*\"chebyshev\" + 0.008*\"polynomi\" + 0.005*\"bessel\" + 0.005*\"kind\"\n",
      "2022-02-28 19:35:52,715 : INFO : topic diff=0.339139, rho=0.281696\n",
      "2022-02-28 19:35:52,719 : INFO : PROGRESS: pass 11, at document #2000/3204\n",
      "2022-02-28 19:35:53,050 : INFO : optimized alpha [0.01127356, 0.015709193, 0.0118810795, 0.010955064, 0.010054966, 0.012946108, 0.01105494, 0.010854539, 0.011825092, 0.011981616, 0.0120053915, 0.012456177, 0.01358998, 0.012503394, 0.039404955, 0.015352832, 0.010650853, 0.011892891, 0.0124608, 0.010766981, 0.011513413, 0.012173249, 0.013707308, 0.012047483, 0.011761566, 0.01170426, 0.0125309415, 0.011579476, 0.010005346, 0.01567135, 0.012248307, 0.013087768, 0.010137931, 0.011387735, 0.011232742, 0.01178364, 0.01327205, 0.012321989, 0.010850724, 0.0111093335, 0.012718568, 0.010235655, 0.01115505, 0.010962088, 0.013448877, 0.010444319, 0.011504896, 0.012717722, 0.011532757, 0.010214357, 0.010313124, 0.0112829525, 0.011197387, 0.011292836, 0.010310466, 0.012286781, 0.012464467, 0.009724392, 0.012323187, 0.012773789, 0.011277496, 0.011699931, 0.012166823, 0.013066737, 0.009833523, 0.010451804, 0.011203774, 0.015545257, 0.013539007, 0.011448105, 0.013241579, 0.011068319, 0.01195546, 0.011159473, 0.012725941, 0.012102414, 0.011023393, 0.010498403, 0.011850917, 0.0114191305, 0.013149317, 0.012869355, 0.013504269, 0.011399319, 0.010672419, 0.011201101, 0.010838448, 0.012705892, 0.0132112065, 0.011202076, 0.011015274, 0.01241124, 0.011741242, 0.014308613, 0.01150449, 0.010013694, 0.012895629, 0.012768212, 0.012887139, 0.011252528]\n",
      "2022-02-28 19:35:53,053 : INFO : merging changes from 2000 documents into a model of 3204 documents\n",
      "2022-02-28 19:35:53,056 : INFO : topic #57 (0.010): 0.076*\"monitor\" + 0.070*\",\" + 0.049*\"extend\" + 0.038*\"-\" + 0.037*\"express\" + 0.033*\"laboratori\" + 0.033*\"6\" + 0.031*\"system\" + 0.027*\"telephon\" + 0.025*\"batch\"\n",
      "2022-02-28 19:35:53,056 : INFO : topic #64 (0.010): 0.129*\",\" + 0.115*\"version\" + 0.065*\"compil\" + 0.063*\"famili\" + 0.060*\"essenti\" + 0.059*\"gener\" + 0.059*\"content\" + 0.050*\"e2\" + 0.039*\"introduc\" + 0.022*\"part\"\n",
      "2022-02-28 19:35:53,056 : INFO : topic #29 (0.016): 0.489*\"problem\" + 0.096*\"solut\" + 0.068*\"solv\" + 0.054*\"program\" + 0.036*\",\" + 0.018*\"involv\" + 0.017*\"engin\" + 0.015*\"reader\" + 0.015*\"practic\" + 0.015*\"paper\"\n",
      "2022-02-28 19:35:53,057 : INFO : topic #1 (0.016): 0.433*\"method\" + 0.148*\"'\" + 0.089*\"procedur\" + 0.070*\"recurs\" + 0.059*\"comment\" + 0.030*\"comput\" + 0.028*\"appli\" + 0.024*\"function\" + 0.021*\"minim\" + 0.014*\"nonlinear\"\n",
      "2022-02-28 19:35:53,057 : INFO : topic #14 (0.039): 0.361*\"(\" + 0.339*\")\" + 0.211*\"algorithm\" + 0.023*\"function\" + 0.014*\"interpol\" + 0.013*\"-\" + 0.009*\"chebyshev\" + 0.009*\"polynomi\" + 0.006*\"bessel\" + 0.006*\"kind\"\n",
      "2022-02-28 19:35:53,057 : INFO : topic diff=0.295970, rho=0.271143\n",
      "2022-02-28 19:35:53,456 : INFO : -6.485 per-word bound, 89.6 perplexity estimate based on a held-out corpus of 1204 documents with 49783 words\n",
      "2022-02-28 19:35:53,457 : INFO : PROGRESS: pass 11, at document #3204/3204\n",
      "2022-02-28 19:35:53,729 : INFO : optimized alpha [0.0113518145, 0.016132418, 0.0119703505, 0.011087697, 0.010151589, 0.013143479, 0.011149282, 0.010951627, 0.012068062, 0.012136438, 0.012155615, 0.012526187, 0.013884842, 0.012628026, 0.04128667, 0.015738409, 0.010770325, 0.012049131, 0.012626055, 0.010868351, 0.011639395, 0.0123156225, 0.013980954, 0.012206952, 0.011918651, 0.011885918, 0.012719093, 0.011774091, 0.010075474, 0.016205745, 0.012441583, 0.013323015, 0.010207016, 0.011572196, 0.011333753, 0.011936957, 0.013538459, 0.012459365, 0.010956688, 0.011203204, 0.012878899, 0.010280691, 0.011271059, 0.011073136, 0.013635161, 0.010517406, 0.011650025, 0.012909816, 0.0117148915, 0.010287237, 0.010393916, 0.011422139, 0.011324035, 0.011377397, 0.010408699, 0.012391181, 0.012600877, 0.009754024, 0.012528447, 0.012937366, 0.011400999, 0.011847202, 0.012379573, 0.013336346, 0.009882027, 0.0105279125, 0.011280198, 0.015878176, 0.013758422, 0.011561983, 0.013452561, 0.011193772, 0.012142913, 0.011315892, 0.012884379, 0.012232339, 0.011167653, 0.010587132, 0.011984199, 0.011564877, 0.013407786, 0.013108433, 0.013657313, 0.011509472, 0.010745336, 0.011348806, 0.010919226, 0.012844583, 0.013458701, 0.011361443, 0.011141053, 0.012586157, 0.011901184, 0.014218694, 0.011636591, 0.010039368, 0.013001468, 0.012923183, 0.013019773, 0.011372164]\n",
      "2022-02-28 19:35:53,731 : INFO : merging changes from 1204 documents into a model of 3204 documents\n",
      "2022-02-28 19:35:53,735 : INFO : topic #57 (0.010): 0.081*\"monitor\" + 0.069*\",\" + 0.061*\"extend\" + 0.039*\"express\" + 0.035*\"-\" + 0.035*\"6\" + 0.032*\"laboratori\" + 0.030*\"system\" + 0.026*\"telephon\" + 0.026*\"mechan\"\n",
      "2022-02-28 19:35:53,735 : INFO : topic #64 (0.010): 0.129*\"version\" + 0.127*\",\" + 0.074*\"content\" + 0.068*\"famili\" + 0.060*\"essenti\" + 0.058*\"compil\" + 0.058*\"gener\" + 0.051*\"e2\" + 0.040*\"introduc\" + 0.024*\"report\"\n",
      "2022-02-28 19:35:53,736 : INFO : topic #1 (0.016): 0.448*\"method\" + 0.151*\"'\" + 0.080*\"procedur\" + 0.070*\"recurs\" + 0.061*\"comment\" + 0.030*\"comput\" + 0.030*\"appli\" + 0.021*\"function\" + 0.020*\"minim\" + 0.014*\"algorithm\"\n"
     ]
    },
    {
     "name": "stderr",
     "output_type": "stream",
     "text": [
      "2022-02-28 19:35:53,736 : INFO : topic #29 (0.016): 0.504*\"problem\" + 0.098*\"solut\" + 0.071*\"solv\" + 0.052*\"program\" + 0.035*\",\" + 0.018*\"involv\" + 0.016*\"reader\" + 0.015*\"paper\" + 0.015*\"practic\" + 0.014*\"engin\"\n",
      "2022-02-28 19:35:53,736 : INFO : topic #14 (0.041): 0.367*\"(\" + 0.340*\")\" + 0.208*\"algorithm\" + 0.023*\"function\" + 0.015*\"interpol\" + 0.013*\"-\" + 0.009*\"chebyshev\" + 0.008*\"polynomi\" + 0.005*\"bessel\" + 0.005*\"kind\"\n",
      "2022-02-28 19:35:53,736 : INFO : topic diff=0.300723, rho=0.271143\n",
      "2022-02-28 19:35:53,741 : INFO : PROGRESS: pass 12, at document #2000/3204\n",
      "2022-02-28 19:35:54,072 : INFO : optimized alpha [0.01139317, 0.016464802, 0.012035709, 0.011108698, 0.010212801, 0.013173705, 0.0111972485, 0.01099949, 0.012069033, 0.012165462, 0.012257661, 0.012739818, 0.014007474, 0.012743562, 0.04343042, 0.015852494, 0.0107916985, 0.012079598, 0.012683159, 0.010902622, 0.011700015, 0.0123822745, 0.014079874, 0.012228736, 0.011979095, 0.011903186, 0.012770917, 0.011774212, 0.010078709, 0.016438264, 0.012454094, 0.013425588, 0.010211282, 0.011589288, 0.0114243515, 0.012017128, 0.013551681, 0.012540814, 0.010939068, 0.011190908, 0.01296746, 0.010290033, 0.011280867, 0.011055393, 0.013764947, 0.010549014, 0.011672297, 0.012974052, 0.011685549, 0.010278956, 0.010390412, 0.011467198, 0.011303658, 0.011526703, 0.010394234, 0.012566594, 0.012667499, 0.009760349, 0.012666208, 0.013138236, 0.011378731, 0.011903954, 0.012441561, 0.013318447, 0.009885842, 0.010562589, 0.011339186, 0.015913032, 0.013888682, 0.011597113, 0.013542924, 0.011199431, 0.012223361, 0.011317352, 0.012992313, 0.012331685, 0.011167939, 0.010617874, 0.012050959, 0.011568211, 0.013447293, 0.013090417, 0.013845735, 0.01150592, 0.010736065, 0.011361574, 0.0109153595, 0.012948127, 0.013662413, 0.011353968, 0.011137908, 0.012640817, 0.011887001, 0.014669047, 0.011687227, 0.010064756, 0.013150421, 0.012999657, 0.013158195, 0.011399648]\n",
      "2022-02-28 19:35:54,075 : INFO : merging changes from 2000 documents into a model of 3204 documents\n",
      "2022-02-28 19:35:54,078 : INFO : topic #57 (0.010): 0.078*\"monitor\" + 0.070*\",\" + 0.053*\"extend\" + 0.037*\"-\" + 0.035*\"express\" + 0.034*\"laboratori\" + 0.033*\"6\" + 0.032*\"system\" + 0.028*\"telephon\" + 0.025*\"batch\"\n",
      "2022-02-28 19:35:54,079 : INFO : topic #64 (0.010): 0.129*\",\" + 0.116*\"version\" + 0.064*\"compil\" + 0.063*\"famili\" + 0.063*\"gener\" + 0.061*\"content\" + 0.061*\"essenti\" + 0.049*\"e2\" + 0.038*\"introduc\" + 0.023*\"report\"\n",
      "2022-02-28 19:35:54,079 : INFO : topic #29 (0.016): 0.495*\"problem\" + 0.098*\"solut\" + 0.070*\"solv\" + 0.052*\"program\" + 0.035*\",\" + 0.019*\"involv\" + 0.017*\"engin\" + 0.015*\"reader\" + 0.015*\"paper\" + 0.015*\"practic\"\n",
      "2022-02-28 19:35:54,080 : INFO : topic #1 (0.016): 0.451*\"method\" + 0.145*\"'\" + 0.087*\"procedur\" + 0.069*\"recurs\" + 0.057*\"comment\" + 0.031*\"comput\" + 0.028*\"appli\" + 0.021*\"function\" + 0.020*\"minim\" + 0.013*\"e4\"\n",
      "2022-02-28 19:35:54,080 : INFO : topic #14 (0.043): 0.363*\"(\" + 0.341*\")\" + 0.210*\"algorithm\" + 0.023*\"function\" + 0.014*\"interpol\" + 0.013*\"-\" + 0.009*\"chebyshev\" + 0.009*\"polynomi\" + 0.006*\"bessel\" + 0.005*\"kind\"\n",
      "2022-02-28 19:35:54,080 : INFO : topic diff=0.264208, rho=0.261694\n",
      "2022-02-28 19:35:54,476 : INFO : -6.475 per-word bound, 88.9 perplexity estimate based on a held-out corpus of 1204 documents with 49783 words\n",
      "2022-02-28 19:35:54,477 : INFO : PROGRESS: pass 12, at document #3204/3204\n",
      "2022-02-28 19:35:54,750 : INFO : optimized alpha [0.011471735, 0.016898328, 0.012122407, 0.011245171, 0.0103090955, 0.013369102, 0.011286522, 0.011106005, 0.012328219, 0.012321598, 0.012417405, 0.012815361, 0.014291088, 0.012870325, 0.045332797, 0.01623531, 0.010912751, 0.012231856, 0.012841431, 0.011003631, 0.01182769, 0.012526384, 0.014351212, 0.012384126, 0.012137613, 0.012080428, 0.012957271, 0.011961694, 0.010155964, 0.016988434, 0.012642707, 0.013661867, 0.010285212, 0.011777134, 0.011519997, 0.012171746, 0.013800277, 0.0126746, 0.011047078, 0.0112799285, 0.013120818, 0.010338522, 0.011393736, 0.011163492, 0.01394359, 0.010627071, 0.011821374, 0.013164398, 0.011860558, 0.010352178, 0.010480469, 0.011610403, 0.011426955, 0.011626207, 0.010501391, 0.012667692, 0.012800153, 0.009793739, 0.012867296, 0.013311929, 0.011496362, 0.012047406, 0.012655197, 0.013584863, 0.009933173, 0.010636668, 0.011410928, 0.016231759, 0.014106087, 0.011705421, 0.013743027, 0.011319151, 0.012419971, 0.011472373, 0.0131466, 0.0124552855, 0.011310991, 0.010704215, 0.012183286, 0.011710186, 0.013709139, 0.013326826, 0.014009424, 0.011613145, 0.010811782, 0.011508125, 0.010998755, 0.013091436, 0.013923444, 0.011514348, 0.011257898, 0.012819464, 0.012045461, 0.014573742, 0.011815884, 0.010094349, 0.013258577, 0.013156153, 0.013281248, 0.011516102]\n",
      "2022-02-28 19:35:54,753 : INFO : merging changes from 1204 documents into a model of 3204 documents\n",
      "2022-02-28 19:35:54,756 : INFO : topic #57 (0.010): 0.083*\"monitor\" + 0.069*\",\" + 0.063*\"extend\" + 0.037*\"express\" + 0.035*\"6\" + 0.034*\"-\" + 0.032*\"laboratori\" + 0.032*\"system\" + 0.027*\"telephon\" + 0.026*\"mechan\"\n",
      "2022-02-28 19:35:54,756 : INFO : topic #64 (0.010): 0.129*\"version\" + 0.127*\",\" + 0.077*\"content\" + 0.068*\"famili\" + 0.060*\"essenti\" + 0.060*\"gener\" + 0.059*\"compil\" + 0.050*\"e2\" + 0.040*\"introduc\" + 0.025*\"report\"\n",
      "2022-02-28 19:35:54,757 : INFO : topic #1 (0.017): 0.464*\"method\" + 0.148*\"'\" + 0.079*\"procedur\" + 0.069*\"recurs\" + 0.060*\"comment\" + 0.031*\"comput\" + 0.031*\"appli\" + 0.019*\"minim\" + 0.019*\"function\" + 0.013*\"algorithm\"\n",
      "2022-02-28 19:35:54,757 : INFO : topic #29 (0.017): 0.509*\"problem\" + 0.101*\"solut\" + 0.072*\"solv\" + 0.050*\"program\" + 0.034*\",\" + 0.019*\"involv\" + 0.016*\"reader\" + 0.015*\"paper\" + 0.015*\"practic\" + 0.014*\"engin\"\n",
      "2022-02-28 19:35:54,757 : INFO : topic #14 (0.045): 0.369*\"(\" + 0.342*\")\" + 0.206*\"algorithm\" + 0.023*\"function\" + 0.014*\"interpol\" + 0.013*\"-\" + 0.008*\"chebyshev\" + 0.008*\"polynomi\" + 0.005*\"bessel\" + 0.005*\"kind\"\n",
      "2022-02-28 19:35:54,758 : INFO : topic diff=0.269737, rho=0.261694\n",
      "2022-02-28 19:35:54,762 : INFO : PROGRESS: pass 13, at document #2000/3204\n",
      "2022-02-28 19:35:55,094 : INFO : optimized alpha [0.011516463, 0.017247668, 0.012187715, 0.011268315, 0.010376755, 0.013399688, 0.011341956, 0.011148442, 0.012331228, 0.012348038, 0.012512349, 0.013032024, 0.0144143, 0.012991611, 0.04755402, 0.016349597, 0.010938967, 0.0122597255, 0.012896833, 0.011034178, 0.011892729, 0.012583252, 0.014452757, 0.012406648, 0.01219175, 0.012093701, 0.013009046, 0.011953598, 0.010165737, 0.017223764, 0.01265921, 0.013773933, 0.010288217, 0.01179926, 0.011614411, 0.012257696, 0.013814002, 0.012758879, 0.011028626, 0.011275565, 0.013202111, 0.010346624, 0.011403272, 0.011150634, 0.014075821, 0.010659327, 0.011842894, 0.013230058, 0.011831623, 0.010343089, 0.010477204, 0.011657161, 0.011410041, 0.011774327, 0.010487347, 0.012843116, 0.0128649585, 0.009798989, 0.012997501, 0.0135064535, 0.0114881685, 0.012107159, 0.0127217, 0.013566161, 0.009939758, 0.010676037, 0.011469967, 0.01627443, 0.01423328, 0.011738163, 0.013834412, 0.0113231735, 0.0124998875, 0.011474978, 0.013253648, 0.012552337, 0.011316818, 0.010735603, 0.012251454, 0.0117118005, 0.013751918, 0.013308286, 0.014197834, 0.011609776, 0.010804392, 0.011524832, 0.010995231, 0.013192543, 0.014140199, 0.0115082245, 0.011260503, 0.012872387, 0.012029908, 0.015020446, 0.011865143, 0.010124478, 0.013406061, 0.013233894, 0.013413384, 0.011544315]\n",
      "2022-02-28 19:35:55,097 : INFO : merging changes from 2000 documents into a model of 3204 documents\n",
      "2022-02-28 19:35:55,100 : INFO : topic #57 (0.010): 0.080*\"monitor\" + 0.071*\",\" + 0.056*\"extend\" + 0.036*\"-\" + 0.034*\"laboratori\" + 0.034*\"6\" + 0.034*\"express\" + 0.032*\"system\" + 0.030*\"telephon\" + 0.026*\"batch\"\n",
      "2022-02-28 19:35:55,100 : INFO : topic #64 (0.010): 0.128*\",\" + 0.117*\"version\" + 0.065*\"compil\" + 0.064*\"gener\" + 0.064*\"famili\" + 0.064*\"content\" + 0.061*\"essenti\" + 0.049*\"e2\" + 0.039*\"introduc\" + 0.023*\"report\"\n",
      "2022-02-28 19:35:55,100 : INFO : topic #1 (0.017): 0.467*\"method\" + 0.142*\"'\" + 0.085*\"procedur\" + 0.068*\"recurs\" + 0.056*\"comment\" + 0.032*\"comput\" + 0.029*\"appli\" + 0.019*\"function\" + 0.019*\"minim\" + 0.012*\"e4\"\n",
      "2022-02-28 19:35:55,101 : INFO : topic #29 (0.017): 0.500*\"problem\" + 0.102*\"solut\" + 0.070*\"solv\" + 0.050*\"program\" + 0.034*\",\" + 0.019*\"involv\" + 0.017*\"engin\" + 0.015*\"reader\" + 0.015*\"paper\" + 0.015*\"practic\"\n"
     ]
    },
    {
     "name": "stderr",
     "output_type": "stream",
     "text": [
      "2022-02-28 19:35:55,101 : INFO : topic #14 (0.048): 0.365*\"(\" + 0.343*\")\" + 0.207*\"algorithm\" + 0.023*\"function\" + 0.014*\"interpol\" + 0.013*\"-\" + 0.009*\"chebyshev\" + 0.009*\"polynomi\" + 0.006*\"bessel\" + 0.005*\"kind\"\n",
      "2022-02-28 19:35:55,101 : INFO : topic diff=0.238178, rho=0.253169\n",
      "2022-02-28 19:35:55,492 : INFO : -6.465 per-word bound, 88.3 perplexity estimate based on a held-out corpus of 1204 documents with 49783 words\n",
      "2022-02-28 19:35:55,493 : INFO : PROGRESS: pass 13, at document #3204/3204\n",
      "2022-02-28 19:35:55,756 : INFO : optimized alpha [0.011588132, 0.017696047, 0.012272081, 0.011406342, 0.010470731, 0.013593502, 0.011433703, 0.01124282, 0.012583355, 0.012503181, 0.012676529, 0.013110407, 0.014705311, 0.013112259, 0.049442764, 0.016726617, 0.011063989, 0.012410896, 0.013045743, 0.011142044, 0.012017204, 0.01273207, 0.014713059, 0.012555766, 0.012354472, 0.0122746, 0.013193916, 0.012136971, 0.010241073, 0.017768705, 0.012848974, 0.0140087055, 0.010358158, 0.0119857015, 0.011714745, 0.012414015, 0.0140602775, 0.012892087, 0.011131656, 0.011364815, 0.013351749, 0.010396254, 0.011518191, 0.011253727, 0.014253344, 0.010730925, 0.011990974, 0.013418932, 0.012007542, 0.010416708, 0.010567359, 0.011799477, 0.011530299, 0.011878707, 0.010591933, 0.012949231, 0.012996972, 0.009831747, 0.01320862, 0.013673407, 0.011610297, 0.012249819, 0.012944721, 0.013829956, 0.009988134, 0.010743653, 0.011537431, 0.0165872, 0.01444295, 0.011843781, 0.014032817, 0.011437548, 0.012695207, 0.01163131, 0.013406975, 0.0126701975, 0.011458937, 0.010819789, 0.0123806065, 0.011850414, 0.014008833, 0.013542526, 0.0143543575, 0.01171436, 0.010878329, 0.0116752805, 0.011074302, 0.0133211315, 0.01440931, 0.011667367, 0.011387126, 0.013049766, 0.012189708, 0.014923039, 0.01199062, 0.0101556685, 0.013508173, 0.013383844, 0.013533064, 0.011662833]\n",
      "2022-02-28 19:35:55,759 : INFO : merging changes from 1204 documents into a model of 3204 documents\n",
      "2022-02-28 19:35:55,762 : INFO : topic #57 (0.010): 0.086*\"monitor\" + 0.069*\",\" + 0.066*\"extend\" + 0.035*\"6\" + 0.034*\"express\" + 0.033*\"-\" + 0.033*\"laboratori\" + 0.032*\"system\" + 0.029*\"telephon\" + 0.027*\"mechan\"\n",
      "2022-02-28 19:35:55,763 : INFO : topic #64 (0.010): 0.129*\"version\" + 0.126*\",\" + 0.079*\"content\" + 0.067*\"famili\" + 0.061*\"gener\" + 0.060*\"essenti\" + 0.060*\"compil\" + 0.050*\"e2\" + 0.040*\"introduc\" + 0.025*\"report\"\n",
      "2022-02-28 19:35:55,763 : INFO : topic #1 (0.018): 0.478*\"method\" + 0.144*\"'\" + 0.077*\"procedur\" + 0.067*\"recurs\" + 0.059*\"comment\" + 0.032*\"comput\" + 0.032*\"appli\" + 0.018*\"minim\" + 0.017*\"function\" + 0.011*\"algorithm\"\n",
      "2022-02-28 19:35:55,763 : INFO : topic #29 (0.018): 0.513*\"problem\" + 0.104*\"solut\" + 0.072*\"solv\" + 0.048*\"program\" + 0.033*\",\" + 0.019*\"involv\" + 0.016*\"reader\" + 0.015*\"paper\" + 0.015*\"practic\" + 0.014*\"engin\"\n",
      "2022-02-28 19:35:55,763 : INFO : topic #14 (0.049): 0.371*\"(\" + 0.344*\")\" + 0.203*\"algorithm\" + 0.023*\"function\" + 0.014*\"interpol\" + 0.013*\"-\" + 0.008*\"chebyshev\" + 0.008*\"polynomi\" + 0.005*\"bessel\" + 0.005*\"kind\"\n",
      "2022-02-28 19:35:55,764 : INFO : topic diff=0.243760, rho=0.253169\n",
      "2022-02-28 19:35:55,768 : INFO : PROGRESS: pass 14, at document #2000/3204\n",
      "2022-02-28 19:35:56,098 : INFO : optimized alpha [0.011636323, 0.018056542, 0.012335935, 0.011434316, 0.010538298, 0.013622863, 0.011487933, 0.011291185, 0.012593106, 0.012528682, 0.012775644, 0.013328858, 0.0148293525, 0.013231103, 0.051740468, 0.016839195, 0.011093574, 0.0124378335, 0.013106107, 0.011177401, 0.012082165, 0.0127938455, 0.014815635, 0.012577507, 0.012411702, 0.012287069, 0.013242473, 0.012130124, 0.010253363, 0.017998274, 0.012866134, 0.014128736, 0.010365119, 0.01200684, 0.011810076, 0.012498, 0.014074359, 0.012974494, 0.011118002, 0.011355076, 0.01342942, 0.010405724, 0.011528852, 0.011241327, 0.014382745, 0.010763839, 0.012014684, 0.01348441, 0.011978907, 0.010408107, 0.010566922, 0.011847919, 0.011515206, 0.0120244, 0.010580915, 0.013123364, 0.013057043, 0.009837236, 0.013343064, 0.013868516, 0.011597953, 0.012305038, 0.01300448, 0.013810532, 0.009992375, 0.010782253, 0.011603841, 0.016625252, 0.014579803, 0.011875692, 0.01412007, 0.011445659, 0.012776287, 0.0116350185, 0.01351334, 0.012776197, 0.01146292, 0.010849183, 0.012453244, 0.011854745, 0.014051524, 0.01352359, 0.0145431, 0.011708283, 0.01087818, 0.011692741, 0.011071102, 0.013420006, 0.014614785, 0.011663928, 0.011383932, 0.013102713, 0.012174271, 0.015366563, 0.012040142, 0.010185316, 0.01365449, 0.013458026, 0.013665865, 0.011688855]\n",
      "2022-02-28 19:35:56,100 : INFO : merging changes from 2000 documents into a model of 3204 documents\n",
      "2022-02-28 19:35:56,103 : INFO : topic #57 (0.010): 0.082*\"monitor\" + 0.071*\",\" + 0.058*\"extend\" + 0.035*\"-\" + 0.035*\"laboratori\" + 0.034*\"6\" + 0.032*\"system\" + 0.031*\"express\" + 0.031*\"telephon\" + 0.026*\"batch\"\n",
      "2022-02-28 19:35:56,104 : INFO : topic #64 (0.010): 0.128*\",\" + 0.117*\"version\" + 0.066*\"content\" + 0.065*\"gener\" + 0.065*\"compil\" + 0.063*\"famili\" + 0.062*\"essenti\" + 0.049*\"e2\" + 0.038*\"introduc\" + 0.024*\"report\"\n",
      "2022-02-28 19:35:56,104 : INFO : topic #1 (0.018): 0.481*\"method\" + 0.138*\"'\" + 0.083*\"procedur\" + 0.066*\"recurs\" + 0.056*\"comment\" + 0.033*\"comput\" + 0.030*\"appli\" + 0.018*\"minim\" + 0.017*\"function\" + 0.012*\"e4\"\n",
      "2022-02-28 19:35:56,104 : INFO : topic #29 (0.018): 0.505*\"problem\" + 0.104*\"solut\" + 0.071*\"solv\" + 0.048*\"program\" + 0.033*\",\" + 0.019*\"involv\" + 0.017*\"engin\" + 0.015*\"paper\" + 0.015*\"reader\" + 0.014*\"practic\"\n",
      "2022-02-28 19:35:56,105 : INFO : topic #14 (0.052): 0.367*\"(\" + 0.345*\")\" + 0.205*\"algorithm\" + 0.022*\"function\" + 0.014*\"interpol\" + 0.013*\"-\" + 0.009*\"chebyshev\" + 0.009*\"polynomi\" + 0.006*\"bessel\" + 0.005*\"kind\"\n",
      "2022-02-28 19:35:56,105 : INFO : topic diff=0.216413, rho=0.245426\n",
      "2022-02-28 19:35:56,501 : INFO : -6.456 per-word bound, 87.8 perplexity estimate based on a held-out corpus of 1204 documents with 49783 words\n",
      "2022-02-28 19:35:56,502 : INFO : PROGRESS: pass 14, at document #3204/3204\n",
      "2022-02-28 19:35:56,769 : INFO : optimized alpha [0.011708669, 0.018516626, 0.012418199, 0.011571815, 0.01063234, 0.013812627, 0.011577541, 0.011395026, 0.012867323, 0.012685623, 0.012944323, 0.013412887, 0.015122168, 0.013351564, 0.053599205, 0.017210843, 0.011220444, 0.012590797, 0.013248973, 0.011282883, 0.012206324, 0.012939446, 0.015083626, 0.012731051, 0.012571104, 0.012461816, 0.013426223, 0.012312148, 0.010331233, 0.018537626, 0.013059983, 0.01437989, 0.010439809, 0.012209424, 0.011915206, 0.012651047, 0.014321567, 0.013109997, 0.011225599, 0.01144006, 0.013578371, 0.0104606915, 0.011636397, 0.011344382, 0.014559433, 0.010840375, 0.0121571, 0.013674946, 0.01215108, 0.01047795, 0.0106571475, 0.011989677, 0.011635152, 0.012126286, 0.010680961, 0.0132319555, 0.013191216, 0.009871463, 0.013561702, 0.0140290465, 0.011719767, 0.012444483, 0.013229045, 0.014066517, 0.010039774, 0.010848318, 0.011671912, 0.016932089, 0.014782267, 0.011978875, 0.0143115055, 0.011559758, 0.012973348, 0.011792899, 0.013660428, 0.012891197, 0.01160665, 0.010931424, 0.012582091, 0.011990265, 0.014301036, 0.0137448665, 0.014698686, 0.0118056685, 0.010952709, 0.011840124, 0.011146131, 0.0135454675, 0.014883235, 0.011824492, 0.011503016, 0.013276405, 0.012325474, 0.015270239, 0.012157911, 0.010217969, 0.013750968, 0.013610041, 0.013782479, 0.011804707]\n",
      "2022-02-28 19:35:56,772 : INFO : merging changes from 1204 documents into a model of 3204 documents\n",
      "2022-02-28 19:35:56,775 : INFO : topic #57 (0.010): 0.088*\"monitor\" + 0.070*\",\" + 0.068*\"extend\" + 0.036*\"6\" + 0.034*\"laboratori\" + 0.033*\"-\" + 0.032*\"system\" + 0.032*\"express\" + 0.030*\"telephon\" + 0.028*\"mechan\"\n",
      "2022-02-28 19:35:56,775 : INFO : topic #64 (0.010): 0.128*\"version\" + 0.126*\",\" + 0.081*\"content\" + 0.067*\"famili\" + 0.064*\"gener\" + 0.061*\"essenti\" + 0.060*\"compil\" + 0.050*\"e2\" + 0.038*\"introduc\" + 0.027*\"report\"\n",
      "2022-02-28 19:35:56,775 : INFO : topic #29 (0.019): 0.517*\"problem\" + 0.106*\"solut\" + 0.073*\"solv\" + 0.046*\"program\" + 0.033*\",\" + 0.019*\"involv\" + 0.016*\"reader\" + 0.016*\"paper\" + 0.014*\"engin\" + 0.014*\"practic\"\n",
      "2022-02-28 19:35:56,776 : INFO : topic #1 (0.019): 0.491*\"method\" + 0.139*\"'\" + 0.076*\"procedur\" + 0.066*\"recurs\" + 0.058*\"comment\" + 0.033*\"comput\" + 0.032*\"appli\" + 0.017*\"minim\" + 0.016*\"function\" + 0.011*\"find\"\n"
     ]
    },
    {
     "name": "stderr",
     "output_type": "stream",
     "text": [
      "2022-02-28 19:35:56,776 : INFO : topic #14 (0.054): 0.373*\"(\" + 0.346*\")\" + 0.201*\"algorithm\" + 0.022*\"function\" + 0.014*\"interpol\" + 0.014*\"-\" + 0.008*\"chebyshev\" + 0.007*\"polynomi\" + 0.005*\"bessel\" + 0.005*\"kind\"\n",
      "2022-02-28 19:35:56,776 : INFO : topic diff=0.221726, rho=0.245426\n",
      "2022-02-28 19:35:56,780 : INFO : PROGRESS: pass 15, at document #2000/3204\n",
      "2022-02-28 19:35:57,112 : INFO : optimized alpha [0.011751649, 0.018884487, 0.012480724, 0.011600396, 0.010706185, 0.013847531, 0.011629227, 0.011442342, 0.012872674, 0.012713296, 0.01304304, 0.013633482, 0.01524707, 0.013468243, 0.0559073, 0.017317863, 0.011250546, 0.0126153575, 0.013303145, 0.011320108, 0.012272785, 0.012996545, 0.015176509, 0.012753565, 0.012622386, 0.012478081, 0.013478121, 0.012306413, 0.010349529, 0.01877226, 0.013077819, 0.014499284, 0.010443009, 0.012232436, 0.012017128, 0.0127347745, 0.014336047, 0.013196931, 0.011216322, 0.011432229, 0.0136559475, 0.010477745, 0.011649655, 0.011328287, 0.014682897, 0.010875207, 0.012177179, 0.0137403235, 0.012124178, 0.01047108, 0.0106567945, 0.0120384125, 0.011624609, 0.012279921, 0.01067412, 0.013409718, 0.013251394, 0.00987835, 0.013692289, 0.014224931, 0.011716187, 0.012499836, 0.013301446, 0.014046394, 0.01004542, 0.010888768, 0.01174412, 0.016976302, 0.014909294, 0.012012933, 0.014394908, 0.01156487, 0.013054068, 0.011804727, 0.013764634, 0.012992063, 0.01161593, 0.010961485, 0.012651597, 0.011994318, 0.014340257, 0.013727291, 0.014887921, 0.011804163, 0.010959374, 0.011855581, 0.011149944, 0.013642296, 0.015091676, 0.011822204, 0.011503992, 0.0133262705, 0.012311636, 0.015711155, 0.012207768, 0.010245927, 0.013894725, 0.013682497, 0.013914485, 0.011831489]\n",
      "2022-02-28 19:35:57,115 : INFO : merging changes from 2000 documents into a model of 3204 documents\n",
      "2022-02-28 19:35:57,118 : INFO : topic #57 (0.010): 0.084*\"monitor\" + 0.071*\",\" + 0.060*\"extend\" + 0.035*\"laboratori\" + 0.035*\"6\" + 0.035*\"-\" + 0.033*\"system\" + 0.031*\"telephon\" + 0.029*\"express\" + 0.027*\"batch\"\n",
      "2022-02-28 19:35:57,119 : INFO : topic #64 (0.010): 0.128*\",\" + 0.117*\"version\" + 0.069*\"content\" + 0.067*\"gener\" + 0.067*\"compil\" + 0.063*\"famili\" + 0.062*\"essenti\" + 0.049*\"e2\" + 0.037*\"introduc\" + 0.024*\"report\"\n",
      "2022-02-28 19:35:57,119 : INFO : topic #29 (0.019): 0.509*\"problem\" + 0.106*\"solut\" + 0.073*\"solv\" + 0.047*\"program\" + 0.033*\",\" + 0.020*\"involv\" + 0.017*\"engin\" + 0.015*\"paper\" + 0.015*\"reader\" + 0.014*\"practic\"\n",
      "2022-02-28 19:35:57,119 : INFO : topic #1 (0.019): 0.494*\"method\" + 0.134*\"'\" + 0.081*\"procedur\" + 0.065*\"recurs\" + 0.055*\"comment\" + 0.034*\"comput\" + 0.030*\"appli\" + 0.017*\"minim\" + 0.016*\"function\" + 0.012*\"e4\"\n",
      "2022-02-28 19:35:57,120 : INFO : topic #14 (0.056): 0.369*\"(\" + 0.347*\")\" + 0.203*\"algorithm\" + 0.022*\"function\" + 0.014*\"interpol\" + 0.013*\"-\" + 0.009*\"chebyshev\" + 0.008*\"polynomi\" + 0.006*\"bessel\" + 0.005*\"kind\"\n",
      "2022-02-28 19:35:57,120 : INFO : topic diff=0.198039, rho=0.238352\n",
      "2022-02-28 19:35:57,514 : INFO : -6.449 per-word bound, 87.4 perplexity estimate based on a held-out corpus of 1204 documents with 49783 words\n",
      "2022-02-28 19:35:57,515 : INFO : PROGRESS: pass 15, at document #3204/3204\n",
      "2022-02-28 19:35:57,779 : INFO : optimized alpha [0.011822356, 0.01935318, 0.012561066, 0.011732912, 0.010804658, 0.014044511, 0.011716935, 0.011541716, 0.01315368, 0.012869669, 0.013211265, 0.013723005, 0.015554195, 0.013591334, 0.05772119, 0.017691389, 0.011374877, 0.012762774, 0.013450921, 0.0114279315, 0.0123941945, 0.013139103, 0.015431249, 0.012896434, 0.0127812205, 0.012651981, 0.013652958, 0.012482661, 0.010431968, 0.019335816, 0.013270692, 0.014752514, 0.010520346, 0.012431757, 0.012119941, 0.012895019, 0.01457607, 0.013334831, 0.011323876, 0.011517791, 0.0137989605, 0.010531591, 0.011757295, 0.011422366, 0.014861932, 0.010945814, 0.0123191215, 0.013930025, 0.012292956, 0.010541566, 0.010745076, 0.01217977, 0.011744358, 0.0123916315, 0.010780645, 0.013523531, 0.013382687, 0.009913966, 0.013913197, 0.01438774, 0.011837792, 0.012633901, 0.0135199325, 0.014289465, 0.010089896, 0.010957715, 0.011812845, 0.017281286, 0.015110812, 0.012113895, 0.014579631, 0.011676576, 0.013255601, 0.0119525455, 0.013914001, 0.01309931, 0.011761429, 0.0110462755, 0.012780344, 0.012131879, 0.0145970825, 0.013944484, 0.015036928, 0.011908948, 0.011032316, 0.01200247, 0.011230072, 0.013764871, 0.015368696, 0.011984362, 0.01161829, 0.013493876, 0.012457243, 0.015622042, 0.012330365, 0.0102779325, 0.013985794, 0.013834016, 0.014031003, 0.0119449245]\n",
      "2022-02-28 19:35:57,782 : INFO : merging changes from 1204 documents into a model of 3204 documents\n",
      "2022-02-28 19:35:57,786 : INFO : topic #57 (0.010): 0.089*\"monitor\" + 0.071*\"extend\" + 0.070*\",\" + 0.036*\"6\" + 0.034*\"laboratori\" + 0.033*\"system\" + 0.032*\"-\" + 0.030*\"telephon\" + 0.030*\"express\" + 0.028*\"mechan\"\n",
      "2022-02-28 19:35:57,786 : INFO : topic #64 (0.010): 0.128*\"version\" + 0.127*\",\" + 0.083*\"content\" + 0.067*\"famili\" + 0.064*\"gener\" + 0.063*\"compil\" + 0.061*\"essenti\" + 0.050*\"e2\" + 0.037*\"introduc\" + 0.025*\"report\"\n",
      "2022-02-28 19:35:57,786 : INFO : topic #29 (0.019): 0.519*\"problem\" + 0.108*\"solut\" + 0.074*\"solv\" + 0.044*\"program\" + 0.032*\",\" + 0.019*\"involv\" + 0.016*\"paper\" + 0.016*\"reader\" + 0.014*\"engin\" + 0.014*\"practic\"\n",
      "2022-02-28 19:35:57,787 : INFO : topic #1 (0.019): 0.503*\"method\" + 0.135*\"'\" + 0.074*\"procedur\" + 0.065*\"recurs\" + 0.057*\"comment\" + 0.034*\"comput\" + 0.033*\"appli\" + 0.016*\"minim\" + 0.014*\"function\" + 0.011*\"find\"\n",
      "2022-02-28 19:35:57,787 : INFO : topic #14 (0.058): 0.374*\"(\" + 0.347*\")\" + 0.199*\"algorithm\" + 0.022*\"function\" + 0.014*\"interpol\" + 0.014*\"-\" + 0.008*\"chebyshev\" + 0.007*\"polynomi\" + 0.005*\"bessel\" + 0.005*\"kind\"\n",
      "2022-02-28 19:35:57,787 : INFO : topic diff=0.202831, rho=0.238352\n",
      "2022-02-28 19:35:57,792 : INFO : PROGRESS: pass 16, at document #2000/3204\n",
      "2022-02-28 19:35:58,118 : INFO : optimized alpha [0.011870048, 0.019721916, 0.012622382, 0.011762112, 0.010881031, 0.014078216, 0.01177176, 0.01159215, 0.013168505, 0.012894993, 0.013308092, 0.013941137, 0.015680188, 0.013709223, 0.060059384, 0.017792989, 0.011405577, 0.012786605, 0.013503802, 0.011465699, 0.012456379, 0.013194954, 0.015536248, 0.012916741, 0.0128387, 0.012663061, 0.013705052, 0.012476628, 0.010448771, 0.019571235, 0.013289178, 0.014873158, 0.01052974, 0.012453784, 0.012231279, 0.0129815675, 0.014589373, 0.013426269, 0.011313627, 0.011503499, 0.013868464, 0.010545998, 0.0117743565, 0.011409461, 0.014986607, 0.010978778, 0.012339991, 0.0139953885, 0.0122663, 0.010535076, 0.010748582, 0.012230202, 0.01173127, 0.012547631, 0.010775184, 0.013703584, 0.013447754, 0.009922158, 0.014049898, 0.014577876, 0.011834239, 0.012689513, 0.013600002, 0.014268774, 0.0100956885, 0.011000027, 0.011885169, 0.017319243, 0.0152336415, 0.012144469, 0.014656034, 0.011681542, 0.0133423, 0.01196524, 0.014017807, 0.013201453, 0.011772968, 0.01107576, 0.012845509, 0.012137138, 0.014641431, 0.01392162, 0.015226848, 0.011911713, 0.011040327, 0.012022989, 0.011235275, 0.013859846, 0.015574956, 0.011980365, 0.011617877, 0.013547078, 0.012442051, 0.016061028, 0.012382016, 0.010311509, 0.014125459, 0.013909701, 0.014160724, 0.01196973]\n",
      "2022-02-28 19:35:58,120 : INFO : merging changes from 2000 documents into a model of 3204 documents\n",
      "2022-02-28 19:35:58,123 : INFO : topic #57 (0.010): 0.085*\"monitor\" + 0.071*\",\" + 0.063*\"extend\" + 0.035*\"laboratori\" + 0.035*\"6\" + 0.034*\"system\" + 0.034*\"-\" + 0.032*\"telephon\" + 0.028*\"express\" + 0.027*\"batch\"\n",
      "2022-02-28 19:35:58,124 : INFO : topic #64 (0.010): 0.129*\",\" + 0.117*\"version\" + 0.071*\"content\" + 0.068*\"gener\" + 0.068*\"compil\" + 0.063*\"famili\" + 0.063*\"essenti\" + 0.049*\"e2\" + 0.036*\"introduc\" + 0.023*\"part\"\n",
      "2022-02-28 19:35:58,124 : INFO : topic #29 (0.020): 0.511*\"problem\" + 0.108*\"solut\" + 0.073*\"solv\" + 0.045*\"program\" + 0.032*\",\" + 0.020*\"involv\" + 0.016*\"engin\" + 0.015*\"paper\" + 0.015*\"reader\" + 0.014*\"practic\"\n",
      "2022-02-28 19:35:58,124 : INFO : topic #1 (0.020): 0.504*\"method\" + 0.131*\"'\" + 0.080*\"procedur\" + 0.064*\"recurs\" + 0.055*\"comment\" + 0.035*\"comput\" + 0.031*\"appli\" + 0.017*\"minim\" + 0.013*\"function\" + 0.012*\"e4\"\n",
      "2022-02-28 19:35:58,125 : INFO : topic #14 (0.060): 0.370*\"(\" + 0.348*\")\" + 0.201*\"algorithm\" + 0.022*\"function\" + 0.014*\"interpol\" + 0.013*\"-\" + 0.009*\"chebyshev\" + 0.007*\"polynomi\" + 0.006*\"bessel\" + 0.005*\"kind\"\n"
     ]
    },
    {
     "name": "stderr",
     "output_type": "stream",
     "text": [
      "2022-02-28 19:35:58,125 : INFO : topic diff=0.182307, rho=0.231857\n",
      "2022-02-28 19:35:58,512 : INFO : -6.443 per-word bound, 87.0 perplexity estimate based on a held-out corpus of 1204 documents with 49783 words\n",
      "2022-02-28 19:35:58,512 : INFO : PROGRESS: pass 16, at document #3204/3204\n",
      "2022-02-28 19:35:58,774 : INFO : optimized alpha [0.011941621, 0.02020709, 0.012700985, 0.011896746, 0.010977608, 0.014269102, 0.011857676, 0.011685063, 0.013461755, 0.013045981, 0.013476096, 0.014036328, 0.016002078, 0.013824276, 0.061895985, 0.018165236, 0.011523178, 0.012931242, 0.013651326, 0.011578141, 0.012577727, 0.013329658, 0.015796121, 0.0130594, 0.0129947215, 0.01283391, 0.013876712, 0.012657024, 0.010527532, 0.020136997, 0.013489199, 0.015126104, 0.010603477, 0.012652527, 0.012331944, 0.013138979, 0.014825413, 0.013556321, 0.011423544, 0.0115941735, 0.014011436, 0.010598824, 0.011875275, 0.011495029, 0.015159214, 0.0110500865, 0.012476892, 0.014187225, 0.012436788, 0.010604196, 0.0108392015, 0.0123713445, 0.011848637, 0.012661938, 0.010879656, 0.013822597, 0.013579028, 0.00995528, 0.014267928, 0.014740401, 0.011955772, 0.012816017, 0.013823291, 0.014516021, 0.010139395, 0.011074028, 0.011954846, 0.017609432, 0.015431507, 0.012243409, 0.01483725, 0.011795522, 0.013548685, 0.012119762, 0.014166973, 0.013313944, 0.011911301, 0.011161017, 0.012974354, 0.0122744655, 0.014897294, 0.01414311, 0.015384158, 0.012014496, 0.011113996, 0.01216727, 0.0113181695, 0.01397976, 0.015857833, 0.012141938, 0.011725324, 0.013714161, 0.012584948, 0.0159665, 0.012497459, 0.010346933, 0.014214165, 0.014055611, 0.014274562, 0.012080979]\n",
      "2022-02-28 19:35:58,777 : INFO : merging changes from 1204 documents into a model of 3204 documents\n",
      "2022-02-28 19:35:58,780 : INFO : topic #57 (0.010): 0.090*\"monitor\" + 0.073*\"extend\" + 0.070*\",\" + 0.036*\"6\" + 0.034*\"laboratori\" + 0.034*\"system\" + 0.031*\"-\" + 0.031*\"telephon\" + 0.029*\"express\" + 0.028*\"mechan\"\n",
      "2022-02-28 19:35:58,780 : INFO : topic #64 (0.010): 0.128*\"version\" + 0.127*\",\" + 0.084*\"content\" + 0.067*\"famili\" + 0.065*\"gener\" + 0.064*\"compil\" + 0.061*\"essenti\" + 0.050*\"e2\" + 0.037*\"introduc\" + 0.024*\"report\"\n",
      "2022-02-28 19:35:58,780 : INFO : topic #29 (0.020): 0.522*\"problem\" + 0.109*\"solut\" + 0.075*\"solv\" + 0.043*\"program\" + 0.031*\",\" + 0.020*\"involv\" + 0.016*\"paper\" + 0.016*\"reader\" + 0.014*\"practic\" + 0.014*\"engin\"\n",
      "2022-02-28 19:35:58,781 : INFO : topic #1 (0.020): 0.514*\"method\" + 0.131*\"'\" + 0.073*\"procedur\" + 0.064*\"recurs\" + 0.057*\"comment\" + 0.035*\"comput\" + 0.034*\"appli\" + 0.016*\"minim\" + 0.012*\"function\" + 0.011*\"find\"\n",
      "2022-02-28 19:35:58,781 : INFO : topic #14 (0.062): 0.376*\"(\" + 0.348*\")\" + 0.198*\"algorithm\" + 0.022*\"function\" + 0.014*\"interpol\" + 0.014*\"-\" + 0.008*\"chebyshev\" + 0.006*\"polynomi\" + 0.005*\"kind\" + 0.005*\"bessel\"\n",
      "2022-02-28 19:35:58,781 : INFO : topic diff=0.186677, rho=0.231857\n",
      "2022-02-28 19:35:58,785 : INFO : PROGRESS: pass 17, at document #2000/3204\n",
      "2022-02-28 19:35:59,111 : INFO : optimized alpha [0.011992633, 0.020583298, 0.012761197, 0.011926601, 0.011056521, 0.014304884, 0.01191419, 0.011725247, 0.013472115, 0.013076533, 0.013571216, 0.014261929, 0.01612748, 0.013935443, 0.0642554, 0.01826358, 0.0115558375, 0.012957313, 0.013704585, 0.011615103, 0.012640087, 0.01339654, 0.015898779, 0.013082099, 0.013050906, 0.012853091, 0.013932314, 0.01265061, 0.010548835, 0.020366658, 0.013506797, 0.015242935, 0.010610389, 0.012675024, 0.012448567, 0.013226865, 0.014837617, 0.01364, 0.01141088, 0.011585792, 0.01407789, 0.010620364, 0.011892, 0.011481258, 0.01528353, 0.011082496, 0.012501406, 0.014252708, 0.012411713, 0.010601673, 0.010843901, 0.012420695, 0.011839843, 0.012823358, 0.01087312, 0.014002034, 0.013647354, 0.009962454, 0.014407706, 0.014928318, 0.011950834, 0.012879182, 0.013893901, 0.014498002, 0.010148774, 0.011114366, 0.012024588, 0.017641397, 0.015552039, 0.0122761745, 0.01490858, 0.011804336, 0.013643026, 0.012134723, 0.01426896, 0.013411397, 0.011927826, 0.011191232, 0.013045721, 0.012279439, 0.0149366185, 0.014121592, 0.015573393, 0.012013131, 0.011127084, 0.012191341, 0.011325981, 0.014074591, 0.016071001, 0.012140405, 0.011724911, 0.013769184, 0.012568464, 0.016400157, 0.012546687, 0.010378854, 0.014354818, 0.014129748, 0.014400667, 0.012105258]\n",
      "2022-02-28 19:35:59,113 : INFO : merging changes from 2000 documents into a model of 3204 documents\n",
      "2022-02-28 19:35:59,116 : INFO : topic #57 (0.010): 0.087*\"monitor\" + 0.071*\",\" + 0.065*\"extend\" + 0.036*\"laboratori\" + 0.036*\"6\" + 0.034*\"system\" + 0.033*\"-\" + 0.032*\"telephon\" + 0.027*\"express\" + 0.027*\"batch\"\n",
      "2022-02-28 19:35:59,117 : INFO : topic #64 (0.010): 0.129*\",\" + 0.117*\"version\" + 0.073*\"content\" + 0.069*\"gener\" + 0.069*\"compil\" + 0.064*\"famili\" + 0.062*\"essenti\" + 0.049*\"e2\" + 0.036*\"introduc\" + 0.023*\"part\"\n",
      "2022-02-28 19:35:59,117 : INFO : topic #29 (0.020): 0.514*\"problem\" + 0.109*\"solut\" + 0.074*\"solv\" + 0.044*\"program\" + 0.031*\",\" + 0.020*\"involv\" + 0.016*\"engin\" + 0.016*\"paper\" + 0.015*\"reader\" + 0.014*\"practic\"\n",
      "2022-02-28 19:35:59,117 : INFO : topic #1 (0.021): 0.517*\"method\" + 0.127*\"'\" + 0.077*\"procedur\" + 0.064*\"recurs\" + 0.054*\"comment\" + 0.035*\"comput\" + 0.032*\"appli\" + 0.016*\"minim\" + 0.012*\"e4\" + 0.012*\"function\"\n",
      "2022-02-28 19:35:59,118 : INFO : topic #14 (0.064): 0.372*\"(\" + 0.349*\")\" + 0.200*\"algorithm\" + 0.022*\"function\" + 0.013*\"interpol\" + 0.013*\"-\" + 0.009*\"chebyshev\" + 0.006*\"bessel\" + 0.006*\"polynomi\" + 0.006*\"kind\"\n",
      "2022-02-28 19:35:59,118 : INFO : topic diff=0.168754, rho=0.225865\n",
      "2022-02-28 19:35:59,508 : INFO : -6.437 per-word bound, 86.6 perplexity estimate based on a held-out corpus of 1204 documents with 49783 words\n",
      "2022-02-28 19:35:59,509 : INFO : PROGRESS: pass 17, at document #3204/3204\n",
      "2022-02-28 19:35:59,771 : INFO : optimized alpha [0.012060533, 0.021077778, 0.0128382, 0.012061222, 0.011153414, 0.014487177, 0.012005218, 0.011814081, 0.01375763, 0.013227358, 0.013741695, 0.014357382, 0.01645253, 0.014050845, 0.0660399, 0.01863128, 0.011677867, 0.013101833, 0.013854687, 0.011729957, 0.012759152, 0.013523704, 0.01615205, 0.01322713, 0.013219071, 0.01302586, 0.014101098, 0.012840093, 0.010634114, 0.02091973, 0.013703713, 0.015498296, 0.010688789, 0.012873329, 0.012554134, 0.013381739, 0.015069941, 0.013777902, 0.011523159, 0.011672697, 0.014220823, 0.010672241, 0.011995521, 0.011569619, 0.01545606, 0.011152506, 0.012640579, 0.014436089, 0.012583969, 0.0106695425, 0.01093699, 0.012557094, 0.011955087, 0.012937954, 0.010979864, 0.014121146, 0.0137761915, 0.009993252, 0.014625684, 0.0150933815, 0.012079304, 0.0129984105, 0.014135265, 0.014741476, 0.010191753, 0.011186948, 0.012099644, 0.017954202, 0.015749449, 0.012373259, 0.01508374, 0.0119207045, 0.013846692, 0.0122821815, 0.014417991, 0.01352427, 0.012066027, 0.011272742, 0.0131747015, 0.012412054, 0.015191827, 0.014339575, 0.015733317, 0.01210941, 0.011199388, 0.012340163, 0.011409462, 0.014189399, 0.016366018, 0.01229702, 0.011825969, 0.013933345, 0.012713456, 0.01630027, 0.012662383, 0.010415612, 0.014438616, 0.014272889, 0.014525598, 0.012214443]\n",
      "2022-02-28 19:35:59,774 : INFO : merging changes from 1204 documents into a model of 3204 documents\n",
      "2022-02-28 19:35:59,777 : INFO : topic #57 (0.010): 0.092*\"monitor\" + 0.074*\"extend\" + 0.070*\",\" + 0.037*\"6\" + 0.035*\"laboratori\" + 0.034*\"system\" + 0.031*\"telephon\" + 0.030*\"-\" + 0.029*\"mechan\" + 0.028*\"express\"\n",
      "2022-02-28 19:35:59,778 : INFO : topic #64 (0.010): 0.128*\"version\" + 0.128*\",\" + 0.085*\"content\" + 0.067*\"famili\" + 0.066*\"gener\" + 0.065*\"compil\" + 0.061*\"essenti\" + 0.049*\"e2\" + 0.036*\"introduc\" + 0.023*\"report\"\n",
      "2022-02-28 19:35:59,778 : INFO : topic #29 (0.021): 0.524*\"problem\" + 0.110*\"solut\" + 0.075*\"solv\" + 0.042*\"program\" + 0.031*\",\" + 0.020*\"involv\" + 0.016*\"paper\" + 0.016*\"reader\" + 0.014*\"engin\" + 0.014*\"practic\"\n",
      "2022-02-28 19:35:59,778 : INFO : topic #1 (0.021): 0.525*\"method\" + 0.128*\"'\" + 0.071*\"procedur\" + 0.064*\"recurs\" + 0.056*\"comment\" + 0.035*\"comput\" + 0.035*\"appli\" + 0.015*\"minim\" + 0.011*\"find\" + 0.010*\"function\"\n",
      "2022-02-28 19:35:59,778 : INFO : topic #14 (0.066): 0.377*\"(\" + 0.349*\")\" + 0.197*\"algorithm\" + 0.022*\"function\" + 0.014*\"-\" + 0.014*\"interpol\" + 0.008*\"chebyshev\" + 0.005*\"kind\" + 0.005*\"bessel\" + 0.005*\"polynomi\"\n"
     ]
    },
    {
     "name": "stderr",
     "output_type": "stream",
     "text": [
      "2022-02-28 19:35:59,779 : INFO : topic diff=0.172710, rho=0.225865\n",
      "2022-02-28 19:35:59,783 : INFO : PROGRESS: pass 18, at document #2000/3204\n",
      "2022-02-28 19:36:00,109 : INFO : optimized alpha [0.012105373, 0.021464251, 0.012897418, 0.012090372, 0.011231147, 0.014518711, 0.012062147, 0.011860166, 0.013771235, 0.013257118, 0.013839743, 0.014581136, 0.016575594, 0.014163518, 0.06842764, 0.018720314, 0.011709798, 0.013127202, 0.013905328, 0.011771405, 0.012818955, 0.013590909, 0.016258096, 0.013246243, 0.0132740745, 0.0130471885, 0.014153915, 0.012837527, 0.010650342, 0.021145515, 0.013720426, 0.0156182125, 0.010702731, 0.012894833, 0.012674747, 0.013471045, 0.015077712, 0.013863236, 0.011514631, 0.011667243, 0.014290694, 0.010692376, 0.012015916, 0.01155633, 0.015578276, 0.011180697, 0.012660227, 0.014504883, 0.012560402, 0.010667258, 0.010942869, 0.012608229, 0.011946461, 0.013102037, 0.01097463, 0.014300177, 0.013844798, 0.010000571, 0.014768597, 0.015275948, 0.012074334, 0.0130575495, 0.014213689, 0.014726066, 0.010201209, 0.011231567, 0.012165612, 0.017986262, 0.01586961, 0.012405428, 0.015146792, 0.011930595, 0.01394556, 0.012293848, 0.0145213995, 0.013624658, 0.012082092, 0.01130495, 0.013243304, 0.012419551, 0.015227968, 0.014312985, 0.015921967, 0.012105497, 0.011213639, 0.012363605, 0.011415997, 0.014282629, 0.016571848, 0.0122952135, 0.011826986, 0.013987136, 0.012699926, 0.01672893, 0.012714898, 0.010456367, 0.014578823, 0.0143471835, 0.014651356, 0.01224091]\n",
      "2022-02-28 19:36:00,112 : INFO : merging changes from 2000 documents into a model of 3204 documents\n",
      "2022-02-28 19:36:00,115 : INFO : topic #57 (0.010): 0.088*\"monitor\" + 0.071*\",\" + 0.067*\"extend\" + 0.036*\"laboratori\" + 0.036*\"6\" + 0.035*\"system\" + 0.033*\"telephon\" + 0.032*\"-\" + 0.027*\"batch\" + 0.026*\"express\"\n",
      "2022-02-28 19:36:00,115 : INFO : topic #64 (0.010): 0.129*\",\" + 0.117*\"version\" + 0.074*\"content\" + 0.071*\"compil\" + 0.070*\"gener\" + 0.064*\"famili\" + 0.062*\"essenti\" + 0.048*\"e2\" + 0.035*\"introduc\" + 0.023*\"part\"\n",
      "2022-02-28 19:36:00,115 : INFO : topic #29 (0.021): 0.516*\"problem\" + 0.110*\"solut\" + 0.074*\"solv\" + 0.043*\"program\" + 0.031*\",\" + 0.020*\"involv\" + 0.016*\"engin\" + 0.016*\"paper\" + 0.015*\"reader\" + 0.014*\"practic\"\n",
      "2022-02-28 19:36:00,116 : INFO : topic #1 (0.021): 0.527*\"method\" + 0.125*\"'\" + 0.075*\"procedur\" + 0.063*\"recurs\" + 0.054*\"comment\" + 0.036*\"comput\" + 0.033*\"appli\" + 0.015*\"minim\" + 0.012*\"e4\" + 0.011*\"find\"\n",
      "2022-02-28 19:36:00,116 : INFO : topic #14 (0.068): 0.373*\"(\" + 0.350*\")\" + 0.200*\"algorithm\" + 0.022*\"function\" + 0.014*\"-\" + 0.013*\"interpol\" + 0.009*\"chebyshev\" + 0.006*\"bessel\" + 0.005*\"kind\" + 0.004*\"polynomi\"\n",
      "2022-02-28 19:36:00,116 : INFO : topic diff=0.157127, rho=0.220316\n",
      "2022-02-28 19:36:00,518 : INFO : -6.430 per-word bound, 86.2 perplexity estimate based on a held-out corpus of 1204 documents with 49783 words\n",
      "2022-02-28 19:36:00,518 : INFO : PROGRESS: pass 18, at document #3204/3204\n",
      "2022-02-28 19:36:00,786 : INFO : optimized alpha [0.012171993, 0.021971857, 0.012972913, 0.01222286, 0.011328479, 0.01470878, 0.012149339, 0.011947511, 0.0140644265, 0.01340549, 0.014020404, 0.014679567, 0.016900593, 0.014274033, 0.07013604, 0.019087275, 0.011829848, 0.013266917, 0.01405289, 0.011884419, 0.012938236, 0.013720949, 0.016501874, 0.013386448, 0.013432421, 0.013217386, 0.014322568, 0.013026621, 0.010732176, 0.02170049, 0.01390939, 0.015870618, 0.010781782, 0.013092847, 0.012785282, 0.013620984, 0.015306561, 0.013993621, 0.011627173, 0.011752649, 0.014433822, 0.010749255, 0.012124259, 0.011641005, 0.015750654, 0.011251481, 0.012792414, 0.014688058, 0.012722937, 0.010737893, 0.01103231, 0.012749382, 0.012061896, 0.013216959, 0.011079569, 0.014416834, 0.013973869, 0.010030966, 0.01498687, 0.015443692, 0.012200674, 0.01317947, 0.014444562, 0.0149660325, 0.010245372, 0.011300769, 0.012248181, 0.01828455, 0.016060835, 0.012498496, 0.0153161725, 0.012044983, 0.01416179, 0.012438925, 0.014673135, 0.0137328915, 0.0122202905, 0.011384961, 0.013372542, 0.01254996, 0.015482681, 0.0145276375, 0.016084567, 0.01220685, 0.011280566, 0.012505574, 0.011500102, 0.014397729, 0.01686117, 0.012447079, 0.011937241, 0.01414352, 0.012840169, 0.016630147, 0.0128310025, 0.010494411, 0.014657897, 0.014485077, 0.01476309, 0.012348229]\n",
      "2022-02-28 19:36:00,789 : INFO : merging changes from 1204 documents into a model of 3204 documents\n",
      "2022-02-28 19:36:00,792 : INFO : topic #57 (0.010): 0.093*\"monitor\" + 0.075*\"extend\" + 0.070*\",\" + 0.037*\"6\" + 0.035*\"laboratori\" + 0.034*\"system\" + 0.032*\"telephon\" + 0.030*\"-\" + 0.029*\"mechan\" + 0.027*\"express\"\n",
      "2022-02-28 19:36:00,792 : INFO : topic #64 (0.010): 0.128*\",\" + 0.127*\"version\" + 0.087*\"content\" + 0.067*\"gener\" + 0.067*\"famili\" + 0.067*\"compil\" + 0.061*\"essenti\" + 0.049*\"e2\" + 0.036*\"introduc\" + 0.023*\"part\"\n",
      "2022-02-28 19:36:00,793 : INFO : topic #29 (0.022): 0.524*\"problem\" + 0.112*\"solut\" + 0.076*\"solv\" + 0.041*\"program\" + 0.030*\",\" + 0.020*\"involv\" + 0.016*\"paper\" + 0.016*\"reader\" + 0.014*\"engin\" + 0.014*\"practic\"\n",
      "2022-02-28 19:36:00,793 : INFO : topic #1 (0.022): 0.535*\"method\" + 0.125*\"'\" + 0.069*\"procedur\" + 0.062*\"recurs\" + 0.056*\"comment\" + 0.036*\"comput\" + 0.035*\"appli\" + 0.014*\"minim\" + 0.011*\"find\" + 0.010*\"e4\"\n",
      "2022-02-28 19:36:00,793 : INFO : topic #14 (0.070): 0.378*\"(\" + 0.350*\")\" + 0.196*\"algorithm\" + 0.022*\"function\" + 0.014*\"-\" + 0.014*\"interpol\" + 0.008*\"chebyshev\" + 0.005*\"kind\" + 0.005*\"bessel\" + 0.004*\"polynomi\"\n",
      "2022-02-28 19:36:00,794 : INFO : topic diff=0.160727, rho=0.220316\n",
      "2022-02-28 19:36:00,798 : INFO : PROGRESS: pass 19, at document #2000/3204\n",
      "2022-02-28 19:36:01,122 : INFO : optimized alpha [0.012216165, 0.022361621, 0.013031185, 0.012252642, 0.011408811, 0.014747265, 0.012205359, 0.011992785, 0.0140872225, 0.013434494, 0.014118443, 0.014907869, 0.017026711, 0.01438192, 0.07246969, 0.019175379, 0.011859851, 0.013291676, 0.014106936, 0.011922537, 0.013003947, 0.013781051, 0.016605781, 0.013406508, 0.013489201, 0.0132407835, 0.014378821, 0.013024951, 0.010750416, 0.021926872, 0.013919309, 0.015992004, 0.010794336, 0.013116305, 0.012908549, 0.013716185, 0.015313396, 0.014080541, 0.011616174, 0.0117526185, 0.014504009, 0.010774987, 0.012144247, 0.0116218105, 0.01587448, 0.011282912, 0.012811533, 0.014753905, 0.012698065, 0.010734633, 0.011039302, 0.012799559, 0.012053398, 0.013381005, 0.011079174, 0.014598606, 0.0140457675, 0.01003947, 0.015131359, 0.015627677, 0.012198361, 0.013238992, 0.014524622, 0.0149532, 0.010254836, 0.0113484245, 0.012315846, 0.018320858, 0.016177215, 0.012528768, 0.015382776, 0.012057212, 0.014257569, 0.012455612, 0.014771729, 0.013836345, 0.012237198, 0.011419103, 0.013441362, 0.012553097, 0.015517323, 0.014503956, 0.016271008, 0.012209694, 0.011294728, 0.012525659, 0.011510297, 0.014486349, 0.017061537, 0.012447695, 0.011938191, 0.014199142, 0.012825349, 0.017053988, 0.012882571, 0.010536834, 0.014794549, 0.014558015, 0.014890182, 0.012375574]\n",
      "2022-02-28 19:36:01,124 : INFO : merging changes from 2000 documents into a model of 3204 documents\n",
      "2022-02-28 19:36:01,128 : INFO : topic #57 (0.010): 0.090*\"monitor\" + 0.071*\",\" + 0.068*\"extend\" + 0.037*\"laboratori\" + 0.037*\"6\" + 0.035*\"system\" + 0.033*\"telephon\" + 0.032*\"-\" + 0.027*\"batch\" + 0.027*\"mechan\"\n",
      "2022-02-28 19:36:01,128 : INFO : topic #64 (0.010): 0.130*\",\" + 0.117*\"version\" + 0.075*\"content\" + 0.071*\"compil\" + 0.070*\"gener\" + 0.064*\"famili\" + 0.063*\"essenti\" + 0.048*\"e2\" + 0.035*\"introduc\" + 0.023*\"part\"\n",
      "2022-02-28 19:36:01,128 : INFO : topic #29 (0.022): 0.517*\"problem\" + 0.111*\"solut\" + 0.075*\"solv\" + 0.042*\"program\" + 0.030*\",\" + 0.020*\"involv\" + 0.016*\"engin\" + 0.016*\"paper\" + 0.015*\"reader\" + 0.014*\"practic\"\n",
      "2022-02-28 19:36:01,129 : INFO : topic #1 (0.022): 0.537*\"method\" + 0.122*\"'\" + 0.073*\"procedur\" + 0.062*\"recurs\" + 0.054*\"comment\" + 0.036*\"comput\" + 0.033*\"appli\" + 0.014*\"minim\" + 0.011*\"e4\" + 0.011*\"find\"\n",
      "2022-02-28 19:36:01,129 : INFO : topic #14 (0.072): 0.374*\"(\" + 0.351*\")\" + 0.199*\"algorithm\" + 0.022*\"function\" + 0.014*\"-\" + 0.013*\"interpol\" + 0.009*\"chebyshev\" + 0.006*\"bessel\" + 0.005*\"kind\" + 0.003*\"polynomi\"\n",
      "2022-02-28 19:36:01,129 : INFO : topic diff=0.146955, rho=0.215156\n",
      "2022-02-28 19:36:01,523 : INFO : -6.427 per-word bound, 86.0 perplexity estimate based on a held-out corpus of 1204 documents with 49783 words\n"
     ]
    },
    {
     "name": "stderr",
     "output_type": "stream",
     "text": [
      "2022-02-28 19:36:01,524 : INFO : PROGRESS: pass 19, at document #3204/3204\n",
      "2022-02-28 19:36:01,790 : INFO : optimized alpha [0.012279425, 0.02286285, 0.01310528, 0.012389676, 0.011518918, 0.014929287, 0.012291029, 0.012080734, 0.014393554, 0.013585366, 0.014296716, 0.015014629, 0.017352251, 0.014487787, 0.07408022, 0.019531425, 0.011978052, 0.013431551, 0.0142547265, 0.012033794, 0.013121151, 0.013911453, 0.016849352, 0.013546927, 0.013650133, 0.013408497, 0.014552586, 0.013206848, 0.010834759, 0.022471875, 0.014110578, 0.016244477, 0.010872066, 0.0133166425, 0.01301491, 0.013866335, 0.015539001, 0.0142162535, 0.011726956, 0.011843117, 0.014644806, 0.010828969, 0.0122551825, 0.011707183, 0.01604137, 0.011360585, 0.012946256, 0.014929124, 0.012862742, 0.010806048, 0.011129259, 0.012940958, 0.012169142, 0.013501103, 0.01118443, 0.014715502, 0.014172624, 0.010071294, 0.0153389415, 0.015789874, 0.0123271765, 0.013356527, 0.014760971, 0.015195284, 0.01030017, 0.0114122955, 0.0123992795, 0.018621914, 0.016368283, 0.012620265, 0.015554889, 0.012169794, 0.01448443, 0.012605313, 0.01491835, 0.013950057, 0.012375531, 0.011497763, 0.013568531, 0.012681454, 0.01576897, 0.014715537, 0.016433392, 0.012304945, 0.011364569, 0.012669999, 0.011593, 0.014599301, 0.0173544, 0.012595047, 0.012035743, 0.014358103, 0.012958689, 0.01695013, 0.012994402, 0.010572293, 0.01488228, 0.014693487, 0.015005027, 0.012481143]\n",
      "2022-02-28 19:36:01,793 : INFO : merging changes from 1204 documents into a model of 3204 documents\n",
      "2022-02-28 19:36:01,796 : INFO : topic #57 (0.010): 0.094*\"monitor\" + 0.077*\"extend\" + 0.070*\",\" + 0.038*\"6\" + 0.036*\"laboratori\" + 0.035*\"system\" + 0.032*\"telephon\" + 0.029*\"mechan\" + 0.029*\"-\" + 0.028*\"batch\"\n",
      "2022-02-28 19:36:01,796 : INFO : topic #64 (0.010): 0.128*\",\" + 0.126*\"version\" + 0.088*\"content\" + 0.069*\"gener\" + 0.067*\"famili\" + 0.067*\"compil\" + 0.061*\"essenti\" + 0.049*\"e2\" + 0.036*\"introduc\" + 0.023*\"report\"\n",
      "2022-02-28 19:36:01,796 : INFO : topic #29 (0.022): 0.526*\"problem\" + 0.112*\"solut\" + 0.076*\"solv\" + 0.040*\"program\" + 0.030*\",\" + 0.020*\"involv\" + 0.017*\"paper\" + 0.016*\"reader\" + 0.014*\"engin\" + 0.014*\"practic\"\n",
      "2022-02-28 19:36:01,797 : INFO : topic #1 (0.023): 0.545*\"method\" + 0.122*\"'\" + 0.068*\"procedur\" + 0.061*\"recurs\" + 0.056*\"comment\" + 0.036*\"comput\" + 0.035*\"appli\" + 0.014*\"minim\" + 0.011*\"find\" + 0.010*\"e4\"\n",
      "2022-02-28 19:36:01,797 : INFO : topic #14 (0.074): 0.379*\"(\" + 0.351*\")\" + 0.196*\"algorithm\" + 0.022*\"function\" + 0.014*\"-\" + 0.014*\"interpol\" + 0.008*\"chebyshev\" + 0.005*\"kind\" + 0.005*\"bessel\" + 0.003*\"polynomi\"\n",
      "2022-02-28 19:36:01,797 : INFO : topic diff=0.150046, rho=0.215156\n"
     ]
    },
    {
     "data": {
      "text/plain": [
       "[(0, 0.41604292),\n",
       " (1, 0.009396659),\n",
       " (2, 0.005386286),\n",
       " (3, 0.005092172),\n",
       " (4, 0.0047342894),\n",
       " (5, 0.006135955),\n",
       " (6, 0.0050516278),\n",
       " (7, 0.0049651964),\n",
       " (8, 0.0059157684),\n",
       " (9, 0.005583602),\n",
       " (10, 0.005875968),\n",
       " (11, 0.006171031),\n",
       " (12, 0.0071317963),\n",
       " (13, 0.005954498),\n",
       " (14, 0.03044706),\n",
       " (15, 0.00802744),\n",
       " (16, 0.004922994),\n",
       " (17, 0.005520384),\n",
       " (18, 0.00585871),\n",
       " (19, 0.004945904),\n",
       " (20, 0.0053928094),\n",
       " (21, 0.005717624),\n",
       " (22, 0.006925104),\n",
       " (23, 0.0055678035),\n",
       " (24, 0.0056102215),\n",
       " (25, 0.0055109086),\n",
       " (26, 0.0059811305),\n",
       " (27, 0.0054280306),\n",
       " (28, 0.0044530993),\n",
       " (29, 0.009235968),\n",
       " (30, 0.005799465),\n",
       " (31, 0.0066764997),\n",
       " (32, 0.004468432),\n",
       " (33, 0.0054731565),\n",
       " (34, 0.005349144),\n",
       " (35, 0.0056990804),\n",
       " (36, 0.0063865483),\n",
       " (37, 0.0058428976),\n",
       " (38, 0.004819793),\n",
       " (39, 0.0048675356),\n",
       " (40, 0.006019033),\n",
       " (41, 0.0044507193),\n",
       " (42, 0.0050368947),\n",
       " (43, 0.0048116664),\n",
       " (44, 0.0065930225),\n",
       " (45, 0.004669214),\n",
       " (46, 0.005320927),\n",
       " (47, 0.0061358884),\n",
       " (48, 0.005286603),\n",
       " (49, 0.004441299),\n",
       " (50, 0.004574139),\n",
       " (51, 0.0053187497),\n",
       " (52, 0.0050015324),\n",
       " (53, 0.00554897),\n",
       " (54, 0.004596814),\n",
       " (55, 0.0060480894),\n",
       " (56, 0.005824966),\n",
       " (57, 0.0041393144),\n",
       " (58, 0.0063043237),\n",
       " (59, 0.0064896573),\n",
       " (60, 0.0050664847),\n",
       " (61, 0.005489549),\n",
       " (62, 0.0060667773),\n",
       " (63, 0.00624528),\n",
       " (64, 0.004233382),\n",
       " (65, 0.0046904674),\n",
       " (66, 0.005096119),\n",
       " (67, 0.0076536294),\n",
       " (68, 0.0067273844),\n",
       " (69, 0.0051869443),\n",
       " (70, 0.0063930782),\n",
       " (71, 0.0050018),\n",
       " (72, 0.005953118),\n",
       " (73, 0.005180799),\n",
       " (74, 0.00613146),\n",
       " (75, 0.0057334905),\n",
       " (76, 0.005086358),\n",
       " (77, 0.0047255945),\n",
       " (78, 0.0055766827),\n",
       " (79, 0.0052120932),\n",
       " (80, 0.0064810654),\n",
       " (81, 0.006048104),\n",
       " (82, 0.006754144),\n",
       " (83, 0.0050573475),\n",
       " (84, 0.004670852),\n",
       " (85, 0.005207385),\n",
       " (86, 0.004764737),\n",
       " (87, 0.0060003307),\n",
       " (88, 0.0071326797),\n",
       " (89, 0.0051765796),\n",
       " (90, 0.004946705),\n",
       " (91, 0.005901198),\n",
       " (92, 0.005326037),\n",
       " (93, 0.0069665243),\n",
       " (94, 0.005340715),\n",
       " (95, 0.004345225),\n",
       " (96, 0.006116635),\n",
       " (97, 0.006039041),\n",
       " (98, 0.0061670844),\n",
       " (99, 0.005129765)]"
      ]
     },
     "execution_count": 87,
     "metadata": {},
     "output_type": "execute_result"
    }
   ],
   "source": [
    "##### Function check\n",
    "lda = LdaRetrievalModel(doc_repr_2)\n",
    "lda.train_model()\n",
    "\n",
    "# you can now get an LDA vector for a given query in the following way:\n",
    "lda.vectorize_query(\"report\")\n",
    "##### "
   ]
  },
  {
   "cell_type": "markdown",
   "metadata": {
    "deletable": false,
    "editable": false,
    "nbgrader": {
     "cell_type": "markdown",
     "checksum": "32d83b6ea79ca3ddb789a7f8805a1b25",
     "grade": false,
     "grade_id": "cell-0e24b727d5908c0e",
     "locked": true,
     "points": 5,
     "schema_version": 3,
     "solution": false,
     "task": true
    }
   },
   "source": [
    "\\#### Please do not change this. This cell is used for grading."
   ]
  },
  {
   "cell_type": "markdown",
   "metadata": {
    "deletable": false,
    "editable": false,
    "nbgrader": {
     "cell_type": "markdown",
     "checksum": "114a934f0b9ce696e6cf09d3b8da6a3d",
     "grade": false,
     "grade_id": "cell-b1bffcb970b18aeb",
     "locked": true,
     "schema_version": 3,
     "solution": false,
     "task": false
    }
   },
   "source": [
    "---\n",
    "Now we can use the `DenseRetrievalModel` class to obtain an LDA search function.\n",
    "You can test your LDA model in the following cell: Try finding queries which are lexically different to documents, but semantically similar - does LDA work well for these queries?!"
   ]
  },
  {
   "cell_type": "code",
   "execution_count": 88,
   "metadata": {},
   "outputs": [
    {
     "data": {
      "application/vnd.jupyter.widget-view+json": {
       "model_id": "c91f51b5d4984d5fba69955507848427",
       "version_major": 2,
       "version_minor": 0
      },
      "text/plain": [
       "Text(value='', description='Search Bar')"
      ]
     },
     "metadata": {},
     "output_type": "display_data"
    }
   ],
   "source": [
    "drm_lda = DenseRetrievalRanker(lda, jenson_shannon_sim)\n",
    "\n",
    "# test your LDA model\n",
    "search_fn = drm_lda.search\n",
    "\n",
    "text = widgets.Text(description=\"Search Bar\", width=200)\n",
    "display(text)\n",
    "\n",
    "\n",
    "text.on_submit(handle_submit_2)"
   ]
  },
  {
   "cell_type": "markdown",
   "metadata": {
    "deletable": false,
    "editable": false,
    "nbgrader": {
     "cell_type": "markdown",
     "checksum": "9d7f15863b655119b45f4d89354e5661",
     "grade": false,
     "grade_id": "cell-190cd0854b2791cc",
     "locked": true,
     "schema_version": 3,
     "solution": false,
     "task": false
    }
   },
   "source": [
    "## Section 8: Word2Vec/Doc2Vec (20 points) <a class=\"anchor\" id=\"2vec\"></a>\n",
    "\n",
    "[Back to Part 2](#part2)\n",
    "\n",
    "We will implement two other methods here, the Word2Vec model and the Doc2Vec model, also using `gensim`. Word2Vec creates representations of words, not documents, so the word level vectors need to be aggregated to obtain a representation for the document. Here, we will simply take the mean of the vectors. \n",
    "\n",
    "\n",
    "A drawback of these models is that they need a lot of training data. Our dataset is tiny, so in addition to using a model trained on the data, we will also use a pre-trained model for Word2Vec (this will be automatically downloaded).     \n",
    "\n",
    "*Note*:\n",
    "1. The code in vectorize_documents / vectorize_query should return gensim-like vectors i.e `[(dim, val), .. (dim, val)]`. \n",
    "2. For Word2Vec: You should also handle the following two cases: (a) A word in the query is not present in the vocabulary of the model and (b) none of the words in the query are present in the model - you can return 0 scores for all documents in this case. For either of these, you can check if a `word` is present in the vocab by using `word in self.model`\n"
   ]
  },
  {
   "cell_type": "code",
   "execution_count": 89,
   "metadata": {
    "deletable": false,
    "nbgrader": {
     "cell_type": "code",
     "checksum": "83ab733608ed14c29c09b36b4e1b6daa",
     "grade": false,
     "grade_id": "cell-2b73759f9baf688f",
     "locked": false,
     "schema_version": 3,
     "solution": true,
     "task": false
    },
    "scrolled": true
   },
   "outputs": [
    {
     "name": "stderr",
     "output_type": "stream",
     "text": [
      "2022-02-28 19:36:02,973 : INFO : adding document #0 to Dictionary(0 unique tokens: [])\n",
      "2022-02-28 19:36:03,070 : INFO : built Dictionary(5937 unique tokens: ['-', 'algebra', 'intern', 'languag', 'preliminari']...) from 3204 documents (total 115969 corpus positions)\n",
      "2022-02-28 19:36:03,074 : INFO : discarding 4740 tokens: [('repeat', 8), ('glossari', 7), ('inspect', 8), ('uncol', 2), ('rung', 9), ('secant', 2), ('.', 1603), ('acceler', 6), ('diverg', 3), ('induc', 9)]...\n",
      "2022-02-28 19:36:03,075 : INFO : keeping 1197 tokens which were in no less than 10 and no more than 1602 (=50.0%) documents\n",
      "2022-02-28 19:36:03,077 : INFO : resulting dictionary: Dictionary(1197 unique tokens: ['-', 'algebra', 'intern', 'languag', 'preliminari']...)\n",
      "2022-02-28 19:36:03,128 : INFO : collecting all words and their counts\n",
      "2022-02-28 19:36:03,129 : INFO : PROGRESS: at sentence #0, processed 0 words, keeping 0 word types\n",
      "2022-02-28 19:36:03,141 : INFO : collected 5937 word types from a corpus of 115969 raw words and 3204 sentences\n",
      "2022-02-28 19:36:03,142 : INFO : Loading a fresh vocabulary\n",
      "2022-02-28 19:36:03,149 : INFO : effective_min_count=1 retains 5937 unique words (100% of original 5937, drops 0)\n",
      "2022-02-28 19:36:03,149 : INFO : effective_min_count=1 leaves 115969 word corpus (100% of original 115969, drops 0)\n",
      "2022-02-28 19:36:03,161 : INFO : deleting the raw counts dictionary of 5937 items\n",
      "2022-02-28 19:36:03,162 : INFO : sample=0.001 downsamples 40 most-common words\n",
      "2022-02-28 19:36:03,163 : INFO : downsampling leaves estimated 92346 word corpus (79.6% of prior 115969)\n",
      "2022-02-28 19:36:03,170 : INFO : estimated required memory for 5937 words and 100 dimensions: 7718100 bytes\n",
      "2022-02-28 19:36:03,171 : INFO : resetting layer weights\n",
      "2022-02-28 19:36:03,985 : INFO : training model with 3 workers on 5937 vocabulary and 100 features, using sg=0 hs=0 sample=0.001 negative=5 window=5\n",
      "2022-02-28 19:36:04,032 : INFO : worker thread finished; awaiting finish of 2 more threads\n",
      "2022-02-28 19:36:04,035 : INFO : worker thread finished; awaiting finish of 1 more threads\n",
      "2022-02-28 19:36:04,036 : INFO : worker thread finished; awaiting finish of 0 more threads\n",
      "2022-02-28 19:36:04,037 : INFO : EPOCH - 1 : training on 115969 raw words (92241 effective words) took 0.0s, 1929197 effective words/s\n",
      "2022-02-28 19:36:04,079 : INFO : worker thread finished; awaiting finish of 2 more threads\n",
      "2022-02-28 19:36:04,080 : INFO : worker thread finished; awaiting finish of 1 more threads\n",
      "2022-02-28 19:36:04,082 : INFO : worker thread finished; awaiting finish of 0 more threads\n",
      "2022-02-28 19:36:04,082 : INFO : EPOCH - 2 : training on 115969 raw words (92353 effective words) took 0.0s, 2149452 effective words/s\n",
      "2022-02-28 19:36:04,124 : INFO : worker thread finished; awaiting finish of 2 more threads\n",
      "2022-02-28 19:36:04,127 : INFO : worker thread finished; awaiting finish of 1 more threads\n",
      "2022-02-28 19:36:04,128 : INFO : worker thread finished; awaiting finish of 0 more threads\n",
      "2022-02-28 19:36:04,129 : INFO : EPOCH - 3 : training on 115969 raw words (92323 effective words) took 0.0s, 2165972 effective words/s\n",
      "2022-02-28 19:36:04,170 : INFO : worker thread finished; awaiting finish of 2 more threads\n",
      "2022-02-28 19:36:04,173 : INFO : worker thread finished; awaiting finish of 1 more threads\n",
      "2022-02-28 19:36:04,174 : INFO : worker thread finished; awaiting finish of 0 more threads\n",
      "2022-02-28 19:36:04,175 : INFO : EPOCH - 4 : training on 115969 raw words (92452 effective words) took 0.0s, 2121403 effective words/s\n",
      "2022-02-28 19:36:04,217 : INFO : worker thread finished; awaiting finish of 2 more threads\n",
      "2022-02-28 19:36:04,219 : INFO : worker thread finished; awaiting finish of 1 more threads\n",
      "2022-02-28 19:36:04,220 : INFO : worker thread finished; awaiting finish of 0 more threads\n",
      "2022-02-28 19:36:04,221 : INFO : EPOCH - 5 : training on 115969 raw words (92261 effective words) took 0.0s, 2118086 effective words/s\n",
      "2022-02-28 19:36:04,221 : INFO : training on a 579845 raw words (461630 effective words) took 0.2s, 1964180 effective words/s\n",
      "/Users/kevintran/opt/anaconda3/envs/python365/lib/python3.6/site-packages/ipykernel_launcher.py:57: DeprecationWarning: Call to deprecated `__contains__` (Method will be removed in 4.0.0, use self.wv.__contains__() instead).\n",
      "/Users/kevintran/opt/anaconda3/envs/python365/lib/python3.6/site-packages/ipykernel_launcher.py:64: DeprecationWarning: Call to deprecated `__getitem__` (Method will be removed in 4.0.0, use self.wv.__getitem__() instead).\n"
     ]
    },
    {
     "data": {
      "text/plain": [
       "[(0, 0.36355352),\n",
       " (1, -0.61892027),\n",
       " (2, -0.758259),\n",
       " (3, 0.039783783),\n",
       " (4, -0.16753566),\n",
       " (5, -0.32442755),\n",
       " (6, 0.41005754),\n",
       " (7, 0.4058317),\n",
       " (8, -0.20826022),\n",
       " (9, -0.71776175),\n",
       " (10, -0.16974868),\n",
       " (11, 0.7164597),\n",
       " (12, 0.29464114),\n",
       " (13, -1.0542911),\n",
       " (14, -0.50607884),\n",
       " (15, 0.11861497),\n",
       " (16, 0.196292),\n",
       " (17, 0.6337207),\n",
       " (18, 0.006951832),\n",
       " (19, -0.32584363),\n",
       " (20, 0.019227987),\n",
       " (21, 0.058368575),\n",
       " (22, 0.015025738),\n",
       " (23, 0.011791607),\n",
       " (24, -0.07369862),\n",
       " (25, -0.95055425),\n",
       " (26, 0.4692925),\n",
       " (27, 0.69635457),\n",
       " (28, 0.5516009),\n",
       " (29, -0.44844985),\n",
       " (30, 0.32215592),\n",
       " (31, 0.7250643),\n",
       " (32, -0.037845653),\n",
       " (33, 0.27419645),\n",
       " (34, -0.07045198),\n",
       " (35, -0.70742255),\n",
       " (36, 0.6729199),\n",
       " (37, -0.1608116),\n",
       " (38, 0.2807662),\n",
       " (39, -0.62251353),\n",
       " (40, -0.44347265),\n",
       " (41, 0.43747622),\n",
       " (42, -0.39267433),\n",
       " (43, -0.15780914),\n",
       " (44, 0.32442343),\n",
       " (45, -0.10179744),\n",
       " (46, 0.4385985),\n",
       " (47, 0.5444468),\n",
       " (48, 0.039774645),\n",
       " (49, -0.257285),\n",
       " (50, 0.3297451),\n",
       " (51, -0.20147589),\n",
       " (52, 1.233619),\n",
       " (53, 0.38444188),\n",
       " (54, 0.4806985),\n",
       " (55, -0.13836482),\n",
       " (56, -0.015257998),\n",
       " (57, 0.425972),\n",
       " (58, 0.030934501),\n",
       " (59, -0.30454287),\n",
       " (60, -0.4411809),\n",
       " (61, -0.019517818),\n",
       " (62, -0.06947299),\n",
       " (63, 0.6444051),\n",
       " (64, -0.6824974),\n",
       " (65, 0.586235),\n",
       " (66, 0.93553805),\n",
       " (67, -0.0901),\n",
       " (68, 0.10500675),\n",
       " (69, 0.050573397),\n",
       " (70, 0.088113606),\n",
       " (71, -0.7722008),\n",
       " (72, 0.3505455),\n",
       " (73, 0.3377917),\n",
       " (74, 0.10081117),\n",
       " (75, 0.23381981),\n",
       " (76, 0.3028263),\n",
       " (77, -0.3291451),\n",
       " (78, 0.20151636),\n",
       " (79, 0.086154036),\n",
       " (80, 0.0035200904),\n",
       " (81, 0.042889353),\n",
       " (82, -0.33137414),\n",
       " (83, -0.35104185),\n",
       " (84, -0.18634701),\n",
       " (85, 0.08040929),\n",
       " (86, 0.39549252),\n",
       " (87, 0.6407431),\n",
       " (88, 0.2110827),\n",
       " (89, 0.45756224),\n",
       " (90, -0.015017908),\n",
       " (91, -0.3543712),\n",
       " (92, -0.49878144),\n",
       " (93, 0.8422382),\n",
       " (94, 0.48234856),\n",
       " (95, 0.7126529),\n",
       " (96, -0.036899485),\n",
       " (97, -0.032930773),\n",
       " (98, 0.44590843),\n",
       " (99, -0.13552697)]"
      ]
     },
     "execution_count": 89,
     "metadata": {},
     "output_type": "execute_result"
    }
   ],
   "source": [
    "# TODO: Implement this! (10 points)\n",
    "class W2VRetrievalModel(VectorSpaceRetrievalModel):\n",
    "    def __init__(self, doc_repr):\n",
    "        super().__init__(doc_repr)\n",
    "        \n",
    "        # the dimensionality of the vectors\n",
    "        self.size = 100 \n",
    "        self.min_count = 1\n",
    "    \n",
    "    def train_model(self):\n",
    "        \"\"\"\n",
    "        Trains the W2V model\n",
    "        \"\"\"\n",
    "        # YOUR CODE HERE\n",
    "\n",
    "        self.model = Word2Vec(sentences=self.documents, size=self.size, min_count=self.min_count)\n",
    "    \n",
    "        return self.model\n",
    "        \n",
    "    def vectorize_documents(self):\n",
    "        \"\"\"\n",
    "            Returns a doc_id -> vector dictionary\n",
    "        \"\"\"\n",
    "        \n",
    "        # YOUR CODE HERE        \n",
    "        \n",
    "        vectors = dict()\n",
    "        \n",
    "        for (doc_id, _), cc in zip(self.doc_repr, self.documents):\n",
    "\n",
    "            # this check is needed for the last check before doc2vec\n",
    "            cc = [word for word in cc if word in self.model]\n",
    "            \n",
    "            if len(cc) != 0:\n",
    "                # axis=0 returns the right format\n",
    "                output = np.mean(self.model[cc], axis=0)\n",
    "            else:\n",
    "                output = np.zeros(self.size)\n",
    "                \n",
    "            # same format as query vectors\n",
    "            vectors[doc_id] = [(x, output[x]) for x in range(self.size)]\n",
    "\n",
    "        return vectors\n",
    "    \n",
    "\n",
    "    def vectorize_query(self, query):\n",
    "        \"\"\"\n",
    "        Vectorizes the query using the W2V model\n",
    "        \"\"\"\n",
    "        query = process_text(query, **config_2)\n",
    "        # YOUR CODE HERE\n",
    "\n",
    "        filtered_query = []\n",
    "        \n",
    "        # skip the words that are not in self.model --> ranking will still be the same\n",
    "        for word in query:\n",
    "            if word in self.model:\n",
    "                filtered_query.append(word)\n",
    "        \n",
    "        # handle words that are not in the vocab\n",
    "        if len(filtered_query) == 0:\n",
    "            return [(x, 0.0) for x in range(self.size)]\n",
    "            \n",
    "        vectorized_query = np.mean(self.model[filtered_query], axis=0)\n",
    "        \n",
    "        return [(x, vectorized_query[x]) for x in range(self.size)]\n",
    "\n",
    "class W2VPretrainedRetrievalModel(W2VRetrievalModel):\n",
    "    def __init__(self, doc_repr):\n",
    "        super().__init__(doc_repr)\n",
    "        self.model_name = \"word2vec-google-news-300\"\n",
    "        self.size = 300\n",
    "    \n",
    "    def train_model(self):\n",
    "        \"\"\"\n",
    "        Loads the pretrained model\n",
    "        \"\"\"\n",
    "        self.model = g_downloader.load(self.model_name)\n",
    "\n",
    "w2v = W2VRetrievalModel(doc_repr_2)\n",
    "w2v.train_model()\n",
    "\n",
    "# you can now get a W2V vector for a given query in the following way:\n",
    "w2v.vectorize_query(\"report\")"
   ]
  },
  {
   "cell_type": "code",
   "execution_count": 90,
   "metadata": {
    "deletable": false,
    "editable": false,
    "nbgrader": {
     "cell_type": "code",
     "checksum": "f92b5c5a8c6c4b80652b94223209ab0b",
     "grade": true,
     "grade_id": "cell-b31c0f8d214b8bdf",
     "locked": true,
     "points": 0,
     "schema_version": 3,
     "solution": false,
     "task": false
    }
   },
   "outputs": [
    {
     "name": "stderr",
     "output_type": "stream",
     "text": [
      "/Users/kevintran/opt/anaconda3/envs/python365/lib/python3.6/site-packages/ipykernel_launcher.py:57: DeprecationWarning: Call to deprecated `__contains__` (Method will be removed in 4.0.0, use self.wv.__contains__() instead).\n",
      "/Users/kevintran/opt/anaconda3/envs/python365/lib/python3.6/site-packages/ipykernel_launcher.py:64: DeprecationWarning: Call to deprecated `__getitem__` (Method will be removed in 4.0.0, use self.wv.__getitem__() instead).\n"
     ]
    }
   ],
   "source": [
    "assert len(w2v.vectorize_query(\"report\")) == 100\n",
    "assert len(w2v.vectorize_query(\"this is a sentence that is not mellifluous\")) == 100\n"
   ]
  },
  {
   "cell_type": "markdown",
   "metadata": {
    "deletable": false,
    "editable": false,
    "nbgrader": {
     "cell_type": "markdown",
     "checksum": "8dfaabebcb06f308a7ca61fdc5d369e7",
     "grade": false,
     "grade_id": "cell-c2614fa067386384",
     "locked": true,
     "points": 8,
     "schema_version": 3,
     "solution": false,
     "task": true
    }
   },
   "source": [
    "\\#### Please do not change this. This cell is used for grading."
   ]
  },
  {
   "cell_type": "code",
   "execution_count": 91,
   "metadata": {
    "scrolled": true
   },
   "outputs": [
    {
     "name": "stderr",
     "output_type": "stream",
     "text": [
      "2022-02-28 19:36:04,234 : INFO : adding document #0 to Dictionary(0 unique tokens: [])\n",
      "2022-02-28 19:36:04,324 : INFO : built Dictionary(5937 unique tokens: ['-', 'algebra', 'intern', 'languag', 'preliminari']...) from 3204 documents (total 115969 corpus positions)\n",
      "2022-02-28 19:36:04,330 : INFO : discarding 4740 tokens: [('repeat', 8), ('glossari', 7), ('inspect', 8), ('uncol', 2), ('rung', 9), ('secant', 2), ('.', 1603), ('acceler', 6), ('diverg', 3), ('induc', 9)]...\n",
      "2022-02-28 19:36:04,330 : INFO : keeping 1197 tokens which were in no less than 10 and no more than 1602 (=50.0%) documents\n",
      "2022-02-28 19:36:04,332 : INFO : resulting dictionary: Dictionary(1197 unique tokens: ['-', 'algebra', 'intern', 'languag', 'preliminari']...)\n",
      "2022-02-28 19:36:04,476 : INFO : loading projection weights from /Users/kevintran/gensim-data/word2vec-google-news-300/word2vec-google-news-300.gz\n",
      "2022-02-28 19:36:39,976 : INFO : loaded (3000000, 300) matrix from /Users/kevintran/gensim-data/word2vec-google-news-300/word2vec-google-news-300.gz\n"
     ]
    },
    {
     "data": {
      "text/plain": [
       "[(0, -0.14257812),\n",
       " (1, -0.1640625),\n",
       " (2, -0.09033203),\n",
       " (3, -0.11230469),\n",
       " (4, 0.100097656),\n",
       " (5, -0.041259766),\n",
       " (6, 0.048828125),\n",
       " (7, -0.13671875),\n",
       " (8, 0.19628906),\n",
       " (9, -0.13476562),\n",
       " (10, -0.017578125),\n",
       " (11, 0.032226562),\n",
       " (12, 0.095214844),\n",
       " (13, -0.10595703),\n",
       " (14, -0.16992188),\n",
       " (15, 0.041015625),\n",
       " (16, -0.26367188),\n",
       " (17, -0.0063171387),\n",
       " (18, -0.17773438),\n",
       " (19, -0.24023438),\n",
       " (20, 0.3515625),\n",
       " (21, -0.012207031),\n",
       " (22, -0.16210938),\n",
       " (23, -0.12060547),\n",
       " (24, 0.04321289),\n",
       " (25, 0.10986328),\n",
       " (26, 0.052490234),\n",
       " (27, 0.17871094),\n",
       " (28, -0.14550781),\n",
       " (29, 0.13769531),\n",
       " (30, -0.08203125),\n",
       " (31, -0.28320312),\n",
       " (32, -0.10888672),\n",
       " (33, -0.2890625),\n",
       " (34, 0.072265625),\n",
       " (35, -0.04736328),\n",
       " (36, 0.040283203),\n",
       " (37, 0.067871094),\n",
       " (38, 0.11669922),\n",
       " (39, 0.000831604),\n",
       " (40, 0.068359375),\n",
       " (41, 0.12011719),\n",
       " (42, -0.088378906),\n",
       " (43, 0.33789062),\n",
       " (44, -0.044677734),\n",
       " (45, -0.030151367),\n",
       " (46, 0.0076904297),\n",
       " (47, -0.021118164),\n",
       " (48, -0.25390625),\n",
       " (49, 0.14941406),\n",
       " (50, 0.3984375),\n",
       " (51, 0.021606445),\n",
       " (52, -0.02319336),\n",
       " (53, 0.0063476562),\n",
       " (54, 0.008239746),\n",
       " (55, -0.16894531),\n",
       " (56, 0.037353516),\n",
       " (57, -0.06347656),\n",
       " (58, 0.1171875),\n",
       " (59, -0.1484375),\n",
       " (60, -0.07861328),\n",
       " (61, 0.36914062),\n",
       " (62, -0.22460938),\n",
       " (63, 0.17382812),\n",
       " (64, 0.0138549805),\n",
       " (65, 0.1875),\n",
       " (66, -0.10107422),\n",
       " (67, 0.037841797),\n",
       " (68, 0.0021209717),\n",
       " (69, -0.05126953),\n",
       " (70, 0.096191406),\n",
       " (71, -0.057128906),\n",
       " (72, 0.10595703),\n",
       " (73, -0.020996094),\n",
       " (74, 0.16113281),\n",
       " (75, 0.09765625),\n",
       " (76, 0.038330078),\n",
       " (77, 0.21972656),\n",
       " (78, 0.10644531),\n",
       " (79, 0.0859375),\n",
       " (80, 0.1796875),\n",
       " (81, -0.08300781),\n",
       " (82, -0.033203125),\n",
       " (83, 0.041015625),\n",
       " (84, -0.064941406),\n",
       " (85, 0.019897461),\n",
       " (86, 0.13378906),\n",
       " (87, -0.09765625),\n",
       " (88, -0.19335938),\n",
       " (89, -0.23535156),\n",
       " (90, 0.19042969),\n",
       " (91, 0.0024871826),\n",
       " (92, -0.01574707),\n",
       " (93, 0.032226562),\n",
       " (94, -0.21972656),\n",
       " (95, -0.091308594),\n",
       " (96, 0.021240234),\n",
       " (97, 0.15820312),\n",
       " (98, 0.29882812),\n",
       " (99, -0.328125),\n",
       " (100, 0.057373047),\n",
       " (101, -0.04638672),\n",
       " (102, 0.11328125),\n",
       " (103, -0.1015625),\n",
       " (104, 0.18066406),\n",
       " (105, -0.025146484),\n",
       " (106, -0.16601562),\n",
       " (107, -0.096191406),\n",
       " (108, 0.018798828),\n",
       " (109, -0.19433594),\n",
       " (110, 0.14941406),\n",
       " (111, -0.056640625),\n",
       " (112, -0.106933594),\n",
       " (113, -0.15039062),\n",
       " (114, -0.17578125),\n",
       " (115, 0.11279297),\n",
       " (116, 0.049316406),\n",
       " (117, 0.21972656),\n",
       " (118, 0.31835938),\n",
       " (119, 0.15722656),\n",
       " (120, -0.29296875),\n",
       " (121, 0.10498047),\n",
       " (122, -0.296875),\n",
       " (123, -0.013427734),\n",
       " (124, 0.09082031),\n",
       " (125, 0.012573242),\n",
       " (126, -0.051513672),\n",
       " (127, -0.12890625),\n",
       " (128, 0.014465332),\n",
       " (129, 0.12060547),\n",
       " (130, -0.10107422),\n",
       " (131, -0.111328125),\n",
       " (132, 0.063964844),\n",
       " (133, -0.052978516),\n",
       " (134, -0.04321289),\n",
       " (135, -0.012939453),\n",
       " (136, -0.02758789),\n",
       " (137, -0.09716797),\n",
       " (138, -0.20214844),\n",
       " (139, 0.123046875),\n",
       " (140, -0.04248047),\n",
       " (141, 0.17382812),\n",
       " (142, -0.013671875),\n",
       " (143, 0.1015625),\n",
       " (144, -0.0009384155),\n",
       " (145, -0.03564453),\n",
       " (146, 0.30078125),\n",
       " (147, -0.068359375),\n",
       " (148, -0.056152344),\n",
       " (149, 0.037597656),\n",
       " (150, 0.06591797),\n",
       " (151, 0.040283203),\n",
       " (152, 0.0119018555),\n",
       " (153, 0.096191406),\n",
       " (154, 0.3671875),\n",
       " (155, -0.27929688),\n",
       " (156, -0.052001953),\n",
       " (157, -0.106933594),\n",
       " (158, -0.13476562),\n",
       " (159, -0.046142578),\n",
       " (160, 0.25),\n",
       " (161, 0.0056762695),\n",
       " (162, -0.014404297),\n",
       " (163, -0.03100586),\n",
       " (164, -0.060302734),\n",
       " (165, 0.10595703),\n",
       " (166, 0.37890625),\n",
       " (167, 0.05883789),\n",
       " (168, 0.123046875),\n",
       " (169, -0.115234375),\n",
       " (170, 0.14941406),\n",
       " (171, -0.1640625),\n",
       " (172, -0.23339844),\n",
       " (173, -0.07763672),\n",
       " (174, 0.026733398),\n",
       " (175, -0.021118164),\n",
       " (176, 0.19433594),\n",
       " (177, -0.056152344),\n",
       " (178, -0.006439209),\n",
       " (179, -0.16992188),\n",
       " (180, -0.118652344),\n",
       " (181, -0.06738281),\n",
       " (182, -0.068847656),\n",
       " (183, -0.08691406),\n",
       " (184, -0.1015625),\n",
       " (185, 0.014160156),\n",
       " (186, -0.20117188),\n",
       " (187, 0.09814453),\n",
       " (188, -0.010253906),\n",
       " (189, 0.1875),\n",
       " (190, 0.19628906),\n",
       " (191, -0.22070312),\n",
       " (192, -0.19628906),\n",
       " (193, -0.07373047),\n",
       " (194, 0.06640625),\n",
       " (195, -0.13378906),\n",
       " (196, 0.18359375),\n",
       " (197, -0.20019531),\n",
       " (198, 0.19824219),\n",
       " (199, 0.05029297),\n",
       " (200, 0.029907227),\n",
       " (201, 0.017700195),\n",
       " (202, -0.19335938),\n",
       " (203, -0.096191406),\n",
       " (204, -0.10253906),\n",
       " (205, 0.21289062),\n",
       " (206, -0.029907227),\n",
       " (207, 0.14355469),\n",
       " (208, 0.041015625),\n",
       " (209, -0.21191406),\n",
       " (210, 0.20800781),\n",
       " (211, 0.13769531),\n",
       " (212, -0.01965332),\n",
       " (213, 0.014953613),\n",
       " (214, -0.09765625),\n",
       " (215, 0.24316406),\n",
       " (216, 0.080078125),\n",
       " (217, 0.08251953),\n",
       " (218, 0.09863281),\n",
       " (219, 0.056884766),\n",
       " (220, 0.04248047),\n",
       " (221, 0.068847656),\n",
       " (222, -0.03540039),\n",
       " (223, -0.076171875),\n",
       " (224, -0.00016117096),\n",
       " (225, -0.07519531),\n",
       " (226, 0.22460938),\n",
       " (227, 0.15136719),\n",
       " (228, 0.10058594),\n",
       " (229, 0.10986328),\n",
       " (230, 0.023803711),\n",
       " (231, 0.088378906),\n",
       " (232, 0.061767578),\n",
       " (233, -0.107910156),\n",
       " (234, 0.06225586),\n",
       " (235, 0.0034332275),\n",
       " (236, 0.080566406),\n",
       " (237, 0.106933594),\n",
       " (238, 0.08886719),\n",
       " (239, -0.23730469),\n",
       " (240, 0.064941406),\n",
       " (241, 0.010192871),\n",
       " (242, -0.088378906),\n",
       " (243, -0.33203125),\n",
       " (244, 0.0046691895),\n",
       " (245, 0.21289062),\n",
       " (246, 0.0859375),\n",
       " (247, 0.020385742),\n",
       " (248, 0.045654297),\n",
       " (249, 0.1484375),\n",
       " (250, 0.11816406),\n",
       " (251, 0.055664062),\n",
       " (252, -0.17285156),\n",
       " (253, -0.125),\n",
       " (254, -0.025390625),\n",
       " (255, -0.31835938),\n",
       " (256, 0.03112793),\n",
       " (257, 0.0859375),\n",
       " (258, -0.041992188),\n",
       " (259, 0.15625),\n",
       " (260, 0.16113281),\n",
       " (261, 0.19824219),\n",
       " (262, -0.100097656),\n",
       " (263, 0.203125),\n",
       " (264, 0.12890625),\n",
       " (265, 0.23339844),\n",
       " (266, -0.26757812),\n",
       " (267, 0.05517578),\n",
       " (268, 0.048828125),\n",
       " (269, 0.072265625),\n",
       " (270, 0.24414062),\n",
       " (271, 0.24414062),\n",
       " (272, 0.056884766),\n",
       " (273, -0.0546875),\n",
       " (274, -0.033691406),\n",
       " (275, -0.12060547),\n",
       " (276, 0.03491211),\n",
       " (277, -0.14550781),\n",
       " (278, 0.087402344),\n",
       " (279, -0.08300781),\n",
       " (280, 0.017211914),\n",
       " (281, 0.14355469),\n",
       " (282, -0.122558594),\n",
       " (283, 0.1796875),\n",
       " (284, 0.13085938),\n",
       " (285, -0.16503906),\n",
       " (286, 0.012756348),\n",
       " (287, 0.16015625),\n",
       " (288, -0.03112793),\n",
       " (289, 0.08203125),\n",
       " (290, 0.17382812),\n",
       " (291, -0.16796875),\n",
       " (292, 0.13085938),\n",
       " (293, 0.08544922),\n",
       " (294, -0.2109375),\n",
       " (295, -0.13085938),\n",
       " (296, -0.028930664),\n",
       " (297, -0.10546875),\n",
       " (298, 0.084472656),\n",
       " (299, -0.14160156)]"
      ]
     },
     "execution_count": 91,
     "metadata": {},
     "output_type": "execute_result"
    }
   ],
   "source": [
    "w2v_pretrained = W2VPretrainedRetrievalModel(doc_repr_2)\n",
    "w2v_pretrained.train_model()\n",
    "\n",
    "# you can now get an W2V vector for a given query in the following way:\n",
    "w2v_pretrained.vectorize_query(\"report\")"
   ]
  },
  {
   "cell_type": "code",
   "execution_count": 92,
   "metadata": {
    "deletable": false,
    "editable": false,
    "nbgrader": {
     "cell_type": "code",
     "checksum": "0822845afb5eafe5ddb1ffeaa4f4942a",
     "grade": true,
     "grade_id": "cell-1b1466f8ce516f42",
     "locked": true,
     "points": 2,
     "schema_version": 3,
     "solution": false,
     "task": false
    }
   },
   "outputs": [
    {
     "name": "stdout",
     "output_type": "stream",
     "text": [
      "300\n"
     ]
    }
   ],
   "source": [
    "##### Function check\n",
    "\n",
    "print(len(w2v_pretrained.vectorize_query(\"report\")))\n",
    "#####"
   ]
  },
  {
   "cell_type": "code",
   "execution_count": 93,
   "metadata": {},
   "outputs": [
    {
     "name": "stderr",
     "output_type": "stream",
     "text": [
      "/Users/kevintran/opt/anaconda3/envs/python365/lib/python3.6/site-packages/ipykernel_launcher.py:32: DeprecationWarning: Call to deprecated `__contains__` (Method will be removed in 4.0.0, use self.wv.__contains__() instead).\n",
      "/Users/kevintran/opt/anaconda3/envs/python365/lib/python3.6/site-packages/ipykernel_launcher.py:36: DeprecationWarning: Call to deprecated `__getitem__` (Method will be removed in 4.0.0, use self.wv.__getitem__() instead).\n"
     ]
    },
    {
     "data": {
      "application/vnd.jupyter.widget-view+json": {
       "model_id": "ec262f9ad7bd46b2bb067d03d688709c",
       "version_major": 2,
       "version_minor": 0
      },
      "text/plain": [
       "Text(value='', description='Search Bar')"
      ]
     },
     "metadata": {},
     "output_type": "display_data"
    }
   ],
   "source": [
    "drm_w2v = DenseRetrievalRanker(w2v, cosine_sim)\n",
    "\n",
    "# test your LDA model\n",
    "search_fn = drm_w2v.search\n",
    "\n",
    "text = widgets.Text(description=\"Search Bar\", width=200)\n",
    "display(text)\n",
    "\n",
    "\n",
    "text.on_submit(handle_submit_2)"
   ]
  },
  {
   "cell_type": "code",
   "execution_count": 94,
   "metadata": {},
   "outputs": [
    {
     "data": {
      "application/vnd.jupyter.widget-view+json": {
       "model_id": "6969091f779047489954c50fe511276e",
       "version_major": 2,
       "version_minor": 0
      },
      "text/plain": [
       "Text(value='', description='Search Bar')"
      ]
     },
     "metadata": {},
     "output_type": "display_data"
    }
   ],
   "source": [
    "drm_w2v_pretrained = DenseRetrievalRanker(w2v_pretrained, cosine_sim)\n",
    "\n",
    "# test your LDA model\n",
    "search_fn = drm_w2v_pretrained.search\n",
    "\n",
    "text = widgets.Text(description=\"Search Bar\", width=200)\n",
    "display(text)\n",
    "\n",
    "\n",
    "text.on_submit(handle_submit_2)"
   ]
  },
  {
   "cell_type": "markdown",
   "metadata": {
    "deletable": false,
    "editable": false,
    "nbgrader": {
     "cell_type": "markdown",
     "checksum": "51b778984fd60757974f51047c61eb15",
     "grade": false,
     "grade_id": "cell-b92f701cbc706108",
     "locked": true,
     "schema_version": 3,
     "solution": false,
     "task": false
    }
   },
   "source": [
    "**Implementation (10 points):**\n",
    "For Doc2Vec, you will need to create a list of `TaggedDocument` instead of using the `self.corpus` or `self.documents` variable. Use the document id as the 'tag'.\n",
    "  "
   ]
  },
  {
   "cell_type": "code",
   "execution_count": 95,
   "metadata": {
    "deletable": false,
    "nbgrader": {
     "cell_type": "code",
     "checksum": "1f60fdeb97febb7f4a6fd5bf109aac20",
     "grade": false,
     "grade_id": "cell-680facdcc98a19ab",
     "locked": false,
     "schema_version": 3,
     "solution": true,
     "task": false
    },
    "scrolled": true
   },
   "outputs": [
    {
     "name": "stderr",
     "output_type": "stream",
     "text": [
      "2022-02-28 19:36:41,360 : INFO : adding document #0 to Dictionary(0 unique tokens: [])\n",
      "2022-02-28 19:36:41,451 : INFO : built Dictionary(5937 unique tokens: ['-', 'algebra', 'intern', 'languag', 'preliminari']...) from 3204 documents (total 115969 corpus positions)\n",
      "2022-02-28 19:36:41,456 : INFO : discarding 4740 tokens: [('repeat', 8), ('glossari', 7), ('inspect', 8), ('uncol', 2), ('rung', 9), ('secant', 2), ('.', 1603), ('acceler', 6), ('diverg', 3), ('induc', 9)]...\n",
      "2022-02-28 19:36:41,456 : INFO : keeping 1197 tokens which were in no less than 10 and no more than 1602 (=50.0%) documents\n",
      "2022-02-28 19:36:41,458 : INFO : resulting dictionary: Dictionary(1197 unique tokens: ['-', 'algebra', 'intern', 'languag', 'preliminari']...)\n",
      "2022-02-28 19:36:41,514 : INFO : collecting all words and their counts\n",
      "2022-02-28 19:36:41,516 : INFO : PROGRESS: at example #0, processed 0 words (0/s), 0 word types, 0 tags\n",
      "2022-02-28 19:36:41,534 : INFO : collected 5937 word types and 3204 unique tags from a corpus of 3204 examples and 115969 words\n",
      "2022-02-28 19:36:41,535 : INFO : Loading a fresh vocabulary\n",
      "2022-02-28 19:36:41,542 : INFO : effective_min_count=1 retains 5937 unique words (100% of original 5937, drops 0)\n",
      "2022-02-28 19:36:41,543 : INFO : effective_min_count=1 leaves 115969 word corpus (100% of original 115969, drops 0)\n",
      "2022-02-28 19:36:41,560 : INFO : deleting the raw counts dictionary of 5937 items\n",
      "2022-02-28 19:36:41,560 : INFO : sample=0.001 downsamples 40 most-common words\n",
      "2022-02-28 19:36:41,561 : INFO : downsampling leaves estimated 92346 word corpus (79.6% of prior 115969)\n",
      "2022-02-28 19:36:41,571 : INFO : estimated required memory for 5937 words and 100 dimensions: 9640500 bytes\n",
      "2022-02-28 19:36:41,572 : INFO : resetting layer weights\n",
      "2022-02-28 19:36:42,804 : INFO : training model with 3 workers on 5937 vocabulary and 100 features, using sg=0 hs=0 sample=0.001 negative=5 window=5\n",
      "2022-02-28 19:36:42,978 : INFO : worker thread finished; awaiting finish of 2 more threads\n",
      "2022-02-28 19:36:42,984 : INFO : worker thread finished; awaiting finish of 1 more threads\n",
      "2022-02-28 19:36:42,987 : INFO : worker thread finished; awaiting finish of 0 more threads\n",
      "2022-02-28 19:36:42,987 : INFO : EPOCH - 1 : training on 115969 raw words (95568 effective words) took 0.2s, 558748 effective words/s\n",
      "2022-02-28 19:36:43,152 : INFO : worker thread finished; awaiting finish of 2 more threads\n",
      "2022-02-28 19:36:43,160 : INFO : worker thread finished; awaiting finish of 1 more threads\n",
      "2022-02-28 19:36:43,161 : INFO : worker thread finished; awaiting finish of 0 more threads\n",
      "2022-02-28 19:36:43,162 : INFO : EPOCH - 2 : training on 115969 raw words (95573 effective words) took 0.2s, 558994 effective words/s\n",
      "2022-02-28 19:36:43,328 : INFO : worker thread finished; awaiting finish of 2 more threads\n",
      "2022-02-28 19:36:43,333 : INFO : worker thread finished; awaiting finish of 1 more threads\n",
      "2022-02-28 19:36:43,336 : INFO : worker thread finished; awaiting finish of 0 more threads\n",
      "2022-02-28 19:36:43,337 : INFO : EPOCH - 3 : training on 115969 raw words (95421 effective words) took 0.2s, 552482 effective words/s\n",
      "2022-02-28 19:36:43,504 : INFO : worker thread finished; awaiting finish of 2 more threads\n",
      "2022-02-28 19:36:43,512 : INFO : worker thread finished; awaiting finish of 1 more threads\n",
      "2022-02-28 19:36:43,515 : INFO : worker thread finished; awaiting finish of 0 more threads\n",
      "2022-02-28 19:36:43,516 : INFO : EPOCH - 4 : training on 115969 raw words (95439 effective words) took 0.2s, 542426 effective words/s\n",
      "2022-02-28 19:36:43,687 : INFO : worker thread finished; awaiting finish of 2 more threads\n",
      "2022-02-28 19:36:43,692 : INFO : worker thread finished; awaiting finish of 1 more threads\n",
      "2022-02-28 19:36:43,696 : INFO : worker thread finished; awaiting finish of 0 more threads\n",
      "2022-02-28 19:36:43,697 : INFO : EPOCH - 5 : training on 115969 raw words (95496 effective words) took 0.2s, 535234 effective words/s\n",
      "2022-02-28 19:36:43,861 : INFO : worker thread finished; awaiting finish of 2 more threads\n",
      "2022-02-28 19:36:43,871 : INFO : worker thread finished; awaiting finish of 1 more threads\n",
      "2022-02-28 19:36:43,873 : INFO : worker thread finished; awaiting finish of 0 more threads\n",
      "2022-02-28 19:36:43,873 : INFO : EPOCH - 6 : training on 115969 raw words (95657 effective words) took 0.2s, 548804 effective words/s\n",
      "2022-02-28 19:36:44,042 : INFO : worker thread finished; awaiting finish of 2 more threads\n",
      "2022-02-28 19:36:44,049 : INFO : worker thread finished; awaiting finish of 1 more threads\n",
      "2022-02-28 19:36:44,050 : INFO : worker thread finished; awaiting finish of 0 more threads\n",
      "2022-02-28 19:36:44,051 : INFO : EPOCH - 7 : training on 115969 raw words (95469 effective words) took 0.2s, 547579 effective words/s\n",
      "2022-02-28 19:36:44,214 : INFO : worker thread finished; awaiting finish of 2 more threads\n",
      "2022-02-28 19:36:44,221 : INFO : worker thread finished; awaiting finish of 1 more threads\n",
      "2022-02-28 19:36:44,222 : INFO : worker thread finished; awaiting finish of 0 more threads\n",
      "2022-02-28 19:36:44,222 : INFO : EPOCH - 8 : training on 115969 raw words (95404 effective words) took 0.2s, 568032 effective words/s\n",
      "2022-02-28 19:36:44,391 : INFO : worker thread finished; awaiting finish of 2 more threads\n",
      "2022-02-28 19:36:44,395 : INFO : worker thread finished; awaiting finish of 1 more threads\n",
      "2022-02-28 19:36:44,397 : INFO : worker thread finished; awaiting finish of 0 more threads\n",
      "2022-02-28 19:36:44,397 : INFO : EPOCH - 9 : training on 115969 raw words (95648 effective words) took 0.2s, 554863 effective words/s\n",
      "2022-02-28 19:36:44,569 : INFO : worker thread finished; awaiting finish of 2 more threads\n",
      "2022-02-28 19:36:44,573 : INFO : worker thread finished; awaiting finish of 1 more threads\n",
      "2022-02-28 19:36:44,575 : INFO : worker thread finished; awaiting finish of 0 more threads\n",
      "2022-02-28 19:36:44,575 : INFO : EPOCH - 10 : training on 115969 raw words (95552 effective words) took 0.2s, 548136 effective words/s\n",
      "2022-02-28 19:36:44,745 : INFO : worker thread finished; awaiting finish of 2 more threads\n",
      "2022-02-28 19:36:44,749 : INFO : worker thread finished; awaiting finish of 1 more threads\n",
      "2022-02-28 19:36:44,750 : INFO : worker thread finished; awaiting finish of 0 more threads\n",
      "2022-02-28 19:36:44,750 : INFO : EPOCH - 11 : training on 115969 raw words (95511 effective words) took 0.2s, 554648 effective words/s\n",
      "2022-02-28 19:36:44,914 : INFO : worker thread finished; awaiting finish of 2 more threads\n",
      "2022-02-28 19:36:44,917 : INFO : worker thread finished; awaiting finish of 1 more threads\n",
      "2022-02-28 19:36:44,921 : INFO : worker thread finished; awaiting finish of 0 more threads\n",
      "2022-02-28 19:36:44,921 : INFO : EPOCH - 12 : training on 115969 raw words (95483 effective words) took 0.2s, 565293 effective words/s\n",
      "2022-02-28 19:36:45,087 : INFO : worker thread finished; awaiting finish of 2 more threads\n",
      "2022-02-28 19:36:45,091 : INFO : worker thread finished; awaiting finish of 1 more threads\n",
      "2022-02-28 19:36:45,092 : INFO : worker thread finished; awaiting finish of 0 more threads\n",
      "2022-02-28 19:36:45,092 : INFO : EPOCH - 13 : training on 115969 raw words (95698 effective words) took 0.2s, 571970 effective words/s\n",
      "2022-02-28 19:36:45,254 : INFO : worker thread finished; awaiting finish of 2 more threads\n",
      "2022-02-28 19:36:45,264 : INFO : worker thread finished; awaiting finish of 1 more threads\n",
      "2022-02-28 19:36:45,265 : INFO : worker thread finished; awaiting finish of 0 more threads\n",
      "2022-02-28 19:36:45,265 : INFO : EPOCH - 14 : training on 115969 raw words (95553 effective words) took 0.2s, 561095 effective words/s\n",
      "2022-02-28 19:36:45,432 : INFO : worker thread finished; awaiting finish of 2 more threads\n",
      "2022-02-28 19:36:45,437 : INFO : worker thread finished; awaiting finish of 1 more threads\n",
      "2022-02-28 19:36:45,439 : INFO : worker thread finished; awaiting finish of 0 more threads\n",
      "2022-02-28 19:36:45,440 : INFO : EPOCH - 15 : training on 115969 raw words (95519 effective words) took 0.2s, 556412 effective words/s\n",
      "2022-02-28 19:36:45,607 : INFO : worker thread finished; awaiting finish of 2 more threads\n",
      "2022-02-28 19:36:45,610 : INFO : worker thread finished; awaiting finish of 1 more threads\n"
     ]
    },
    {
     "name": "stderr",
     "output_type": "stream",
     "text": [
      "2022-02-28 19:36:45,613 : INFO : worker thread finished; awaiting finish of 0 more threads\n",
      "2022-02-28 19:36:45,613 : INFO : EPOCH - 16 : training on 115969 raw words (95502 effective words) took 0.2s, 558458 effective words/s\n",
      "2022-02-28 19:36:45,773 : INFO : worker thread finished; awaiting finish of 2 more threads\n",
      "2022-02-28 19:36:45,786 : INFO : worker thread finished; awaiting finish of 1 more threads\n",
      "2022-02-28 19:36:45,786 : INFO : worker thread finished; awaiting finish of 0 more threads\n",
      "2022-02-28 19:36:45,787 : INFO : EPOCH - 17 : training on 115969 raw words (95559 effective words) took 0.2s, 558808 effective words/s\n",
      "2022-02-28 19:36:45,949 : INFO : worker thread finished; awaiting finish of 2 more threads\n",
      "2022-02-28 19:36:45,959 : INFO : worker thread finished; awaiting finish of 1 more threads\n",
      "2022-02-28 19:36:45,961 : INFO : worker thread finished; awaiting finish of 0 more threads\n",
      "2022-02-28 19:36:45,961 : INFO : EPOCH - 18 : training on 115969 raw words (95547 effective words) took 0.2s, 555442 effective words/s\n",
      "2022-02-28 19:36:46,130 : INFO : worker thread finished; awaiting finish of 2 more threads\n",
      "2022-02-28 19:36:46,140 : INFO : worker thread finished; awaiting finish of 1 more threads\n",
      "2022-02-28 19:36:46,140 : INFO : worker thread finished; awaiting finish of 0 more threads\n",
      "2022-02-28 19:36:46,140 : INFO : EPOCH - 19 : training on 115969 raw words (95379 effective words) took 0.2s, 539492 effective words/s\n",
      "2022-02-28 19:36:46,308 : INFO : worker thread finished; awaiting finish of 2 more threads\n",
      "2022-02-28 19:36:46,315 : INFO : worker thread finished; awaiting finish of 1 more threads\n",
      "2022-02-28 19:36:46,315 : INFO : worker thread finished; awaiting finish of 0 more threads\n",
      "2022-02-28 19:36:46,316 : INFO : EPOCH - 20 : training on 115969 raw words (95472 effective words) took 0.2s, 553326 effective words/s\n",
      "2022-02-28 19:36:46,316 : INFO : training on a 2319380 raw words (1910450 effective words) took 3.5s, 544110 effective words/s\n"
     ]
    },
    {
     "data": {
      "text/plain": [
       "[(0, -0.5614621),\n",
       " (1, -0.60325694),\n",
       " (2, -0.07822907),\n",
       " (3, -0.38229042),\n",
       " (4, -0.18228485),\n",
       " (5, -0.4744635),\n",
       " (6, 0.55007243),\n",
       " (7, -0.012406933),\n",
       " (8, -0.96226287),\n",
       " (9, -1.0394104),\n",
       " (10, 0.5842343),\n",
       " (11, -0.27745238),\n",
       " (12, -0.36418056),\n",
       " (13, -0.9255785),\n",
       " (14, -0.6770947),\n",
       " (15, 0.60486585),\n",
       " (16, 0.2745228),\n",
       " (17, 0.116785295),\n",
       " (18, -0.17656136),\n",
       " (19, 0.25951007),\n",
       " (20, -1.2121322),\n",
       " (21, 0.26935893),\n",
       " (22, 0.36438635),\n",
       " (23, 0.6954281),\n",
       " (24, 1.2291882),\n",
       " (25, 0.3366722),\n",
       " (26, 0.5268048),\n",
       " (27, -0.12125793),\n",
       " (28, 0.42841473),\n",
       " (29, -0.16429965),\n",
       " (30, -0.1805839),\n",
       " (31, -0.46892348),\n",
       " (32, 0.098941825),\n",
       " (33, -1.0244384),\n",
       " (34, 0.95046395),\n",
       " (35, -0.48756677),\n",
       " (36, -0.57839054),\n",
       " (37, 0.6463781),\n",
       " (38, 0.033281393),\n",
       " (39, 0.45439956),\n",
       " (40, -0.66470045),\n",
       " (41, 0.70590866),\n",
       " (42, -0.43703657),\n",
       " (43, -0.21628988),\n",
       " (44, 1.1447535),\n",
       " (45, 0.13079678),\n",
       " (46, 0.4948747),\n",
       " (47, 0.7116999),\n",
       " (48, -0.47442582),\n",
       " (49, 0.24372123),\n",
       " (50, 1.1508137),\n",
       " (51, -0.19588606),\n",
       " (52, 1.7135316),\n",
       " (53, -0.16813286),\n",
       " (54, -0.4697661),\n",
       " (55, -0.73841494),\n",
       " (56, -0.05455847),\n",
       " (57, -0.77309555),\n",
       " (58, -0.4526864),\n",
       " (59, 0.37485307),\n",
       " (60, -0.3016715),\n",
       " (61, -0.098571345),\n",
       " (62, 0.11928737),\n",
       " (63, 1.1051155),\n",
       " (64, -0.55564713),\n",
       " (65, 0.12532271),\n",
       " (66, 0.14689755),\n",
       " (67, 0.09961067),\n",
       " (68, -0.5902408),\n",
       " (69, -1.1229465),\n",
       " (70, 0.89646447),\n",
       " (71, -1.259829),\n",
       " (72, 0.12733842),\n",
       " (73, 0.6453041),\n",
       " (74, 0.17447688),\n",
       " (75, -0.17843056),\n",
       " (76, 0.69629294),\n",
       " (77, -0.13917328),\n",
       " (78, 0.1167087),\n",
       " (79, -0.33561677),\n",
       " (80, 0.49625802),\n",
       " (81, 0.30102003),\n",
       " (82, -1.0239396),\n",
       " (83, 0.23980926),\n",
       " (84, -0.35499102),\n",
       " (85, -0.60936254),\n",
       " (86, 0.886646),\n",
       " (87, 0.12453853),\n",
       " (88, 0.15530993),\n",
       " (89, 0.24066149),\n",
       " (90, 0.5363535),\n",
       " (91, -1.6324861),\n",
       " (92, 0.6898574),\n",
       " (93, -0.10600731),\n",
       " (94, 0.64627194),\n",
       " (95, 0.78486305),\n",
       " (96, 0.3405543),\n",
       " (97, 0.08826396),\n",
       " (98, 0.86367184),\n",
       " (99, -0.6578526)]"
      ]
     },
     "execution_count": 95,
     "metadata": {},
     "output_type": "execute_result"
    }
   ],
   "source": [
    "# TODO: Implement this! (10 points)\n",
    "class D2VRetrievalModel(VectorSpaceRetrievalModel):\n",
    "    def __init__(self, doc_repr):\n",
    "        super().__init__(doc_repr)\n",
    "        \n",
    "        self.vector_size= 100\n",
    "        self.min_count = 1\n",
    "        self.epochs = 20\n",
    "        \n",
    "        # YOUR CODE HERE\n",
    "        \n",
    "        self.TaggedDocuments = []\n",
    "\n",
    "        # assign tag to each document\n",
    "        for (doc_id, _), cc in zip(self.doc_repr, self.documents):\n",
    "            self.TaggedDocuments.append(TaggedDocument(cc, [doc_id]))\n",
    "        \n",
    "    def train_model(self):\n",
    "        # YOUR CODE HERE\n",
    "        \n",
    "        self.model = Doc2Vec(documents=self.TaggedDocuments, vector_size=self.vector_size, min_count=self.min_count,\n",
    "                            epochs=self.epochs)\n",
    "\n",
    "        return self.model\n",
    "    \n",
    "    def vectorize_documents(self):\n",
    "        \"\"\"\n",
    "            Returns a doc_id -> vector dictionary\n",
    "        \"\"\"\n",
    "        # YOUR CODE HERE\n",
    "        \n",
    "        vectors = dict()\n",
    "        \n",
    "        for (doc_id, _), cc in zip(self.doc_repr, self.documents):\n",
    "            \n",
    "            if doc_id in self.model.docvecs:\n",
    "                output = self.model.docvecs[doc_id]\n",
    "            else:\n",
    "                output = np.zeros(self.vector_size)\n",
    "                \n",
    "            # same format as query vectors\n",
    "            vectors[doc_id] = [(x, output[x]) for x in range(self.vector_size)]\n",
    "\n",
    "        return vectors\n",
    "\n",
    "    def vectorize_query(self, query):\n",
    "        \n",
    "        # YOUR CODE HERE\n",
    "        \n",
    "        query = process_text(query, **config_2)\n",
    "        \n",
    "        filtered_query = []\n",
    "        \n",
    "        # check if word is present in vocab\n",
    "        for word in query:\n",
    "            if word in self.model.wv:\n",
    "                filtered_query.append(word)\n",
    "                \n",
    "        if len(filtered_query) == 0:\n",
    "            return [(x, 0.0) for x in range(self.vector_size)]\n",
    "        \n",
    "        vectorized_query = self.model[filtered_query]\n",
    "\n",
    "        output = [(i, vectorized_query[0][i]) for i in range(self.vector_size)]\n",
    "        \n",
    "        return output\n",
    "    \n",
    "        \n",
    "d2v = D2VRetrievalModel(doc_repr_2)\n",
    "d2v.train_model()\n",
    "\n",
    "\n",
    "# # you can now get an LSI vector for a given query in the following way:\n",
    "d2v.vectorize_query(\"report\")"
   ]
  },
  {
   "cell_type": "code",
   "execution_count": 96,
   "metadata": {
    "deletable": false,
    "editable": false,
    "nbgrader": {
     "cell_type": "code",
     "checksum": "e83a363a9d4f136efbdde1426a83925e",
     "grade": true,
     "grade_id": "cell-5e2c5e0c9a2e8cb5",
     "locked": true,
     "points": 0,
     "schema_version": 3,
     "solution": false,
     "task": false
    }
   },
   "outputs": [],
   "source": [
    "#### Please do not change this. This cell is used for grading."
   ]
  },
  {
   "cell_type": "markdown",
   "metadata": {
    "deletable": false,
    "editable": false,
    "nbgrader": {
     "cell_type": "markdown",
     "checksum": "5bb46bf6b9be1e0ca66f0b0bc6260ecb",
     "grade": false,
     "grade_id": "cell-8a49d414f798a595",
     "locked": true,
     "points": 10,
     "schema_version": 3,
     "solution": false,
     "task": true
    }
   },
   "source": [
    "\\#### Please do not change this. This cell is used for grading."
   ]
  },
  {
   "cell_type": "code",
   "execution_count": 97,
   "metadata": {},
   "outputs": [
    {
     "data": {
      "application/vnd.jupyter.widget-view+json": {
       "model_id": "c5ce044813d74999892fc994c31e8e68",
       "version_major": 2,
       "version_minor": 0
      },
      "text/plain": [
       "Text(value='', description='Search Bar')"
      ]
     },
     "metadata": {},
     "output_type": "display_data"
    }
   ],
   "source": [
    "drm_d2v = DenseRetrievalRanker(d2v, cosine_sim)\n",
    "\n",
    "# test your LDA model\n",
    "search_fn = drm_d2v.search\n",
    "\n",
    "text = widgets.Text(description=\"Search Bar\", width=200)\n",
    "display(text)\n",
    "\n",
    "\n",
    "text.on_submit(handle_submit_2)"
   ]
  },
  {
   "cell_type": "markdown",
   "metadata": {
    "deletable": false,
    "editable": false,
    "nbgrader": {
     "cell_type": "markdown",
     "checksum": "363ec36c1d03d9f9e1c2045a6e193c14",
     "grade": false,
     "grade_id": "cell-3529ae29eece7b97",
     "locked": true,
     "schema_version": 3,
     "solution": false,
     "task": false
    }
   },
   "source": [
    "---\n",
    "## Section 9: Re-ranking (10 points) <a class=\"anchor\" id=\"reranking\"></a>\n",
    "\n",
    "[Back to Part 2](#part2)\n",
    "\n",
    "To motivate the re-ranking perspective (i.e retrieve with lexical method + rerank with a semantic method), let's search using semantic methods and compare it to BM25's performance, along with their runtime:\n"
   ]
  },
  {
   "cell_type": "code",
   "execution_count": 98,
   "metadata": {
    "deletable": false,
    "editable": false,
    "nbgrader": {
     "cell_type": "code",
     "checksum": "5755f70e3eb28abc65d14d80125338af",
     "grade": false,
     "grade_id": "cell-f8f43bf5ae383128",
     "locked": true,
     "schema_version": 3,
     "solution": false,
     "task": false
    }
   },
   "outputs": [
    {
     "name": "stdout",
     "output_type": "stream",
     "text": [
      "BM25: \n",
      "79.9 ms ± 265 µs per loop (mean ± std. dev. of 7 runs, 10 loops each)\n",
      "LSI: \n",
      "213 ms ± 1.99 ms per loop (mean ± std. dev. of 7 runs, 1 loop each)\n",
      "LDA: \n",
      "1.31 s ± 7.76 ms per loop (mean ± std. dev. of 7 runs, 1 loop each)\n",
      "W2V: \n"
     ]
    },
    {
     "name": "stderr",
     "output_type": "stream",
     "text": [
      "/Users/kevintran/opt/anaconda3/envs/python365/lib/python3.6/site-packages/ipykernel_launcher.py:57: DeprecationWarning: Call to deprecated `__contains__` (Method will be removed in 4.0.0, use self.wv.__contains__() instead).\n",
      "/Users/kevintran/opt/anaconda3/envs/python365/lib/python3.6/site-packages/ipykernel_launcher.py:64: DeprecationWarning: Call to deprecated `__getitem__` (Method will be removed in 4.0.0, use self.wv.__getitem__() instead).\n"
     ]
    },
    {
     "name": "stdout",
     "output_type": "stream",
     "text": [
      "215 ms ± 4.91 ms per loop (mean ± std. dev. of 7 runs, 1 loop each)\n",
      "W2V(Pretrained): \n"
     ]
    },
    {
     "name": "stderr",
     "output_type": "stream",
     "text": [
      "/Users/kevintran/opt/anaconda3/envs/python365/lib/python3.6/site-packages/ipykernel_launcher.py:28: RuntimeWarning: invalid value encountered in double_scalars\n"
     ]
    },
    {
     "name": "stdout",
     "output_type": "stream",
     "text": [
      "577 ms ± 621 µs per loop (mean ± std. dev. of 7 runs, 1 loop each)\n",
      "D2V:\n",
      "213 ms ± 450 µs per loop (mean ± std. dev. of 7 runs, 1 loop each)\n"
     ]
    }
   ],
   "source": [
    "query = \"algebraic functions\"\n",
    "print(\"BM25: \")\n",
    "%timeit bm25_search(query, 2)\n",
    "print(\"LSI: \")\n",
    "%timeit drm_lsi.search(query)\n",
    "print(\"LDA: \")\n",
    "%timeit drm_lda.search(query)\n",
    "print(\"W2V: \")\n",
    "%timeit drm_w2v.search(query)\n",
    "print(\"W2V(Pretrained): \")\n",
    "%timeit drm_w2v_pretrained.search(query)\n",
    "print(\"D2V:\")\n",
    "%timeit drm_d2v.search(query)"
   ]
  },
  {
   "cell_type": "markdown",
   "metadata": {
    "deletable": false,
    "editable": false,
    "nbgrader": {
     "cell_type": "markdown",
     "checksum": "ae398da0a8c23c95bcbb0023b7ec6f34",
     "grade": false,
     "grade_id": "cell-db5ff09f97841af7",
     "locked": true,
     "schema_version": 3,
     "solution": false,
     "task": false
    }
   },
   "source": [
    "---\n",
    "\n",
    "**Implementation (10 points):**\n",
    "Re-ranking involves retrieving a small set of documents using simple but fast methods like BM25 and then re-ranking them with the aid of semantic methods such as LDA or LSI. Implement the following class, which takes in an `initial_retrieval_fn` - the initial retrieval function and `vsrm` - an instance of the `VectorSpaceRetrievalModel` class (i.e LSI/LDA) as input. The search function should first retrieve an initial list of K documents, and then these documents are re-ranked using a semantic method. This not only makes retrieval faster, but semantic methods perform poorly when used in isolation, as you will find out."
   ]
  },
  {
   "cell_type": "code",
   "execution_count": 104,
   "metadata": {
    "deletable": false,
    "nbgrader": {
     "cell_type": "code",
     "checksum": "63b6b05a676a2ae3f08d8bed1bc59428",
     "grade": false,
     "grade_id": "cell-5bf47600d1a0c507",
     "locked": false,
     "schema_version": 3,
     "solution": true,
     "task": false
    }
   },
   "outputs": [],
   "source": [
    "# TODO: Implement this! (10 points)\n",
    "class DenseRerankingModel:\n",
    "    def __init__(self, initial_retrieval_fn, vsrm, similarity_fn):\n",
    "        \"\"\"\n",
    "            initial_retrieval_fn: takes in a query and returns a list of [(doc_id, score)] (sorted)\n",
    "            vsrm: instance of `VectorSpaceRetrievalModel`\n",
    "            similarity_fn: function instance that takes in two vectors \n",
    "                            and returns a similarity score e.g cosine_sim defined earlier\n",
    "        \"\"\"\n",
    "        self.ret = initial_retrieval_fn\n",
    "        self.vsrm = vsrm\n",
    "        self.similarity_fn = similarity_fn\n",
    "        self.vectorized_documents = vsrm.vectorize_documents()\n",
    "        \n",
    "        assert len(self.vectorized_documents) == len(doc_repr_2)\n",
    "    \n",
    "    def search(self, query, K=50):\n",
    "        \"\"\"\n",
    "            First, retrieve the top K results using the retrieval function\n",
    "            Then, re-rank the results using the VSRM instance\n",
    "        \"\"\"\n",
    "        # YOUR CODE HERE\n",
    "        \n",
    "        # get doc_ids that are in the top K results\n",
    "        top_k = [tup[0] for tup in self.ret(query)[:K]]\n",
    "        \n",
    "        query_vector = self.vsrm.vectorize_query(query)\n",
    "        \n",
    "        scores = []\n",
    "        \n",
    "        for doc_id in list(self.vectorized_documents.keys()):\n",
    "            # filter scores on doc_ids that are in top K results\n",
    "            if doc_id in top_k:\n",
    "                scores.append((doc_id, self.similarity_fn(query_vector, self.vectorized_documents[doc_id])))\n",
    "        \n",
    "        scores.sort(key=lambda _:-_[1])\n",
    "\n",
    "        return scores\n"
   ]
  },
  {
   "cell_type": "code",
   "execution_count": 105,
   "metadata": {
    "deletable": false,
    "editable": false,
    "nbgrader": {
     "cell_type": "code",
     "checksum": "334ab5af96976265cace682ab82a7387",
     "grade": true,
     "grade_id": "cell-52c6d18a4c0b4882",
     "locked": true,
     "points": 0,
     "schema_version": 3,
     "solution": false,
     "task": false
    }
   },
   "outputs": [
    {
     "name": "stderr",
     "output_type": "stream",
     "text": [
      "/Users/kevintran/opt/anaconda3/envs/python365/lib/python3.6/site-packages/ipykernel_launcher.py:32: DeprecationWarning: Call to deprecated `__contains__` (Method will be removed in 4.0.0, use self.wv.__contains__() instead).\n",
      "/Users/kevintran/opt/anaconda3/envs/python365/lib/python3.6/site-packages/ipykernel_launcher.py:36: DeprecationWarning: Call to deprecated `__getitem__` (Method will be removed in 4.0.0, use self.wv.__getitem__() instead).\n"
     ]
    }
   ],
   "source": [
    "##### Function check\n",
    "bm25_search_2 = partial(bm25_search, index_set=2)\n",
    "lsi_rerank = DenseRerankingModel(bm25_search_2, lsi, cosine_sim)\n",
    "lda_rerank = DenseRerankingModel(bm25_search_2, lda, jenson_shannon_sim)\n",
    "w2v_rerank = DenseRerankingModel(bm25_search_2, w2v, cosine_sim)\n",
    "w2v_pretrained_rerank = DenseRerankingModel(bm25_search_2, w2v_pretrained, cosine_sim)\n",
    "d2v_rerank = DenseRerankingModel(bm25_search_2, d2v, cosine_sim)\n",
    "\n",
    "##### "
   ]
  },
  {
   "cell_type": "markdown",
   "metadata": {
    "deletable": false,
    "editable": false,
    "nbgrader": {
     "cell_type": "markdown",
     "checksum": "bd904253f45f84e63bab3a69729058fc",
     "grade": false,
     "grade_id": "cell-93215dfe6bcf7cff",
     "locked": true,
     "points": 10,
     "schema_version": 3,
     "solution": false,
     "task": true
    }
   },
   "source": [
    "\\#### Please do not change this. This cell is used for grading."
   ]
  },
  {
   "cell_type": "markdown",
   "metadata": {
    "deletable": false,
    "editable": false,
    "nbgrader": {
     "cell_type": "markdown",
     "checksum": "b592e60292bfe3d9ef2930a354c4077a",
     "grade": false,
     "grade_id": "cell-aa694ff55fa91e7d",
     "locked": true,
     "schema_version": 3,
     "solution": false,
     "task": false
    }
   },
   "source": [
    "---\n",
    "Now, let us time the new search functions:"
   ]
  },
  {
   "cell_type": "code",
   "execution_count": 106,
   "metadata": {
    "deletable": false,
    "editable": false,
    "nbgrader": {
     "cell_type": "code",
     "checksum": "338c7e3528cba266a865a061287c0e38",
     "grade": false,
     "grade_id": "cell-5edbd481562ad91f",
     "locked": true,
     "schema_version": 3,
     "solution": false,
     "task": false
    }
   },
   "outputs": [
    {
     "name": "stdout",
     "output_type": "stream",
     "text": [
      "BM25: \n",
      "79.3 ms ± 602 µs per loop (mean ± std. dev. of 7 runs, 10 loops each)\n",
      "LSI: \n",
      "84.8 ms ± 787 µs per loop (mean ± std. dev. of 7 runs, 10 loops each)\n",
      "LDA: \n",
      "103 ms ± 1.17 ms per loop (mean ± std. dev. of 7 runs, 10 loops each)\n",
      "W2V: \n"
     ]
    },
    {
     "name": "stderr",
     "output_type": "stream",
     "text": [
      "/Users/kevintran/opt/anaconda3/envs/python365/lib/python3.6/site-packages/ipykernel_launcher.py:57: DeprecationWarning: Call to deprecated `__contains__` (Method will be removed in 4.0.0, use self.wv.__contains__() instead).\n",
      "/Users/kevintran/opt/anaconda3/envs/python365/lib/python3.6/site-packages/ipykernel_launcher.py:64: DeprecationWarning: Call to deprecated `__getitem__` (Method will be removed in 4.0.0, use self.wv.__getitem__() instead).\n"
     ]
    },
    {
     "name": "stdout",
     "output_type": "stream",
     "text": [
      "84.3 ms ± 235 µs per loop (mean ± std. dev. of 7 runs, 10 loops each)\n",
      "W2V(Pretrained): \n",
      "89.8 ms ± 274 µs per loop (mean ± std. dev. of 7 runs, 10 loops each)\n",
      "D2V:\n",
      "84.3 ms ± 386 µs per loop (mean ± std. dev. of 7 runs, 10 loops each)\n"
     ]
    }
   ],
   "source": [
    "query = \"algebraic functions\"\n",
    "print(\"BM25: \")\n",
    "%timeit bm25_search(query, 2)\n",
    "print(\"LSI: \")\n",
    "%timeit lsi_rerank.search(query)\n",
    "print(\"LDA: \")\n",
    "%timeit lda_rerank.search(query)\n",
    "print(\"W2V: \")\n",
    "%timeit w2v_rerank.search(query)\n",
    "print(\"W2V(Pretrained): \")\n",
    "%timeit w2v_pretrained_rerank.search(query)\n",
    "print(\"D2V:\")\n",
    "%timeit d2v_rerank.search(query)"
   ]
  },
  {
   "cell_type": "markdown",
   "metadata": {
    "deletable": false,
    "editable": false,
    "nbgrader": {
     "cell_type": "markdown",
     "checksum": "c45c5e3f015b2de89d9d39ae3766368b",
     "grade": false,
     "grade_id": "cell-85c50f2ab9eec301",
     "locked": true,
     "schema_version": 3,
     "solution": false,
     "task": false
    }
   },
   "source": [
    "---\n",
    "As you can see, it is much faster (but BM25 is still orders of magnitude faster)."
   ]
  },
  {
   "cell_type": "markdown",
   "metadata": {
    "deletable": false,
    "editable": false,
    "nbgrader": {
     "cell_type": "markdown",
     "checksum": "1e2f3388e3807659f303fe31a75a010e",
     "grade": false,
     "grade_id": "cell-5071bb99b2af61cb",
     "locked": true,
     "schema_version": 3,
     "solution": false,
     "task": false
    }
   },
   "source": [
    "---\n",
    "## Section 10: Evaluation & Analysis (30 points) <a class=\"anchor\" id=\"reranking_eval\"></a>\n",
    "\n",
    "[Back to Part 2](#part2)\n",
    "\n",
    "[Previously](#evaluation) we have implemented some evaluation metrics and used them for measuring the ranking performance of term-based IR algorithms. In this section, we will do the same for semantic methods, both with and without re-ranking.\n",
    "\n",
    "### Section 10.1: Plot (10 points)\n",
    "\n",
    "First, gather the results. The results should consider the index set, the different search functions and different metrics. Plot the results in bar charts, per metric, with clear labels.\n",
    "\n",
    "Then, gather only the re-ranking models, and plot and compare them with the results obtained in part 1 (only index set 2)."
   ]
  },
  {
   "cell_type": "code",
   "execution_count": 107,
   "metadata": {
    "deletable": false,
    "editable": false,
    "nbgrader": {
     "cell_type": "code",
     "checksum": "4fe81520ac6413a803838913fd64de03",
     "grade": false,
     "grade_id": "cell-b672fe6dfae0b1ce",
     "locked": true,
     "schema_version": 3,
     "solution": false,
     "task": false
    }
   },
   "outputs": [],
   "source": [
    "list_of_sem_search_fns = [\n",
    "    (\"lda\", drm_lda.search),\n",
    "    (\"lsi\", drm_lsi.search),\n",
    "    (\"w2v\", drm_w2v.search),\n",
    "    (\"w2v_pretrained\", drm_w2v_pretrained.search),\n",
    "    (\"d2v\", drm_d2v.search),\n",
    "    (\"lsi_rr\", lsi_rerank.search),\n",
    "    (\"lda_rr\", lda_rerank.search),\n",
    "    (\"w2v_rr\", w2v_rerank.search),\n",
    "    (\"w2v_pretrained_rr\", w2v_pretrained_rerank.search),\n",
    "    (\"d2v_rr\", d2v_rerank.search),\n",
    "    \n",
    "]"
   ]
  },
  {
   "cell_type": "code",
   "execution_count": 124,
   "metadata": {
    "deletable": false,
    "nbgrader": {
     "cell_type": "code",
     "checksum": "54707c4afac084299aeefa047259b4a9",
     "grade": true,
     "grade_id": "cell-7dd8273b0f5a3c22",
     "locked": false,
     "points": 10,
     "schema_version": 3,
     "solution": true,
     "task": false
    }
   },
   "outputs": [
    {
     "name": "stderr",
     "output_type": "stream",
     "text": [
      "/Users/kevintran/opt/anaconda3/envs/python365/lib/python3.6/site-packages/ipykernel_launcher.py:57: DeprecationWarning: Call to deprecated `__contains__` (Method will be removed in 4.0.0, use self.wv.__contains__() instead).\n",
      "/Users/kevintran/opt/anaconda3/envs/python365/lib/python3.6/site-packages/ipykernel_launcher.py:64: DeprecationWarning: Call to deprecated `__getitem__` (Method will be removed in 4.0.0, use self.wv.__getitem__() instead).\n",
      "/Users/kevintran/opt/anaconda3/envs/python365/lib/python3.6/site-packages/ipykernel_launcher.py:28: RuntimeWarning: invalid value encountered in double_scalars\n",
      "/Users/kevintran/opt/anaconda3/envs/python365/lib/python3.6/site-packages/ipykernel_launcher.py:64: UserWarning: Matplotlib is currently using module://ipykernel.pylab.backend_inline, which is a non-GUI backend, so cannot show the figure.\n"
     ]
    },
    {
     "data": {
      "image/png": "[encoded data removed]",
      "text/plain": [
       "<Figure size 1440x1440 with 10 Axes>"
      ]
     },
     "metadata": {
      "needs_background": "light"
     },
     "output_type": "display_data"
    }
   ],
   "source": [
    "# YOUR CODE HERE\n",
    "\n",
    "# the order makes the plot more clear\n",
    "list_of_metrics = [\n",
    "    (\"ERR\", err),\n",
    "    (\"MAP\", average_precision),\n",
    "    (\"Recall@1\",recall_at_1),\n",
    "    (\"Precision@1\", precision_at_1),\n",
    "    (\"Recall@5\", recall_at_5),\n",
    "    (\"Precision@5\", precision_at_5),\n",
    "    (\"Recall@10\", recall_at_10),\n",
    "    (\"Precision@10\", precision_at_10),\n",
    "    (\"Recall@20\", recall_at_20),\n",
    "    (\"Precision@20\", precision_at_20)]\n",
    "\n",
    "# prepare data for the plot\n",
    "\n",
    "# this is the final dict for the plots\n",
    "complete = dict()\n",
    "\n",
    "for search in list_of_sem_search_fns:\n",
    "    complete[search[0]] = evaluate_search_fn(search[1], list_of_metrics)\n",
    "    \n",
    "methods = [search[0] for search in list_of_sem_search_fns]\n",
    "metrics = [search[0] for search in list_of_metrics]\n",
    "\n",
    "data = defaultdict(list)\n",
    "\n",
    "# temporary x-axis labels which are numeric\n",
    "temp_x = np.arange(len(methods))\n",
    "\n",
    "for metric in metrics:\n",
    "    values = [complete[method][metric] for method in methods]\n",
    "    data[metric].append(values)\n",
    "    \n",
    "# plot\n",
    "fig, ax = plt.subplots(5, 2, figsize=(20, 20))\n",
    "\n",
    "# adjust y and pad for spacing\n",
    "fig.suptitle('Semanctic methods', y=1.02, size='xx-large')\n",
    "fig.tight_layout(pad=8.0)\n",
    "\n",
    "# this is a lifesaver\n",
    "ax = ax.flatten()\n",
    "\n",
    "for index, metric in enumerate(metrics):\n",
    "    \n",
    "    # create plots\n",
    "    ax[index].bar(temp_x, data[metric][0], color='skyblue', label='Index set 2')\n",
    "    \n",
    "    # set to actual labels\n",
    "    ax[index].set_xticks(temp_x)\n",
    "    ax[index].set_xticklabels(methods, rotation=45)\n",
    "    \n",
    "    # set y-axis\n",
    "    ax[index].set_ylabel(metric + ' score')\n",
    "    ax[index].set_title('Figure {}: Results of {}'.format(index + 1, metric))\n",
    "    \n",
    "    # set same ylim for all plots to make differences between plots more clear\n",
    "    ax[index].set_ylim((0, 0.60))\n",
    "    \n",
    "    ax[index].legend()\n",
    "    \n",
    "fig.show()"
   ]
  },
  {
   "cell_type": "markdown",
   "metadata": {
    "deletable": false,
    "editable": false,
    "nbgrader": {
     "cell_type": "markdown",
     "checksum": "a8a3b6189bdde66704c694d85e38d049",
     "grade": false,
     "grade_id": "cell-deb2ef3daa306e82",
     "locked": true,
     "schema_version": 3,
     "solution": false,
     "task": false
    }
   },
   "source": [
    "### Section 10.2: Summary (20 points)\n",
    "\n",
    "Your summary should compare methods from Part 1 and Part 2 (only for index set 2). State what you expected to see in the results, followed by either supporting evidence *or* justify why the results did not support your expectations. Consider the availability of data, scalability, domain/type of data, etc."
   ]
  },
  {
   "cell_type": "markdown",
   "metadata": {
    "deletable": false,
    "nbgrader": {
     "cell_type": "markdown",
     "checksum": "ff97c43837d10bff6aaffa75e1492887",
     "grade": true,
     "grade_id": "cell-ec5dd7d9cf59dd86",
     "locked": false,
     "points": 20,
     "schema_version": 3,
     "solution": true,
     "task": false
    }
   },
   "source": [
    "#### Results of Part 2\n",
    "We expected that the re-ranked models would perform better than those which are not re-ranked, because re-ranking makes use of fast methods like BM25 to make an initial selection of relevant documents and uses semantic methods to re-rank them. This not only speeds up the retrieval process, but semantic methods also perform better when used in combination with other methods. Our expectation is supported by the Figures plotted above, as all of the re-ranked versions of the models perform better than their not re-ranked versions. In addition, we expected that re-ranking semantic based models would make them more scalable than semantic models without re-ranking, because the performance speed should increase. This expectation is supported by the time measurements in the cells above Section 10. \n",
    "\n",
    "Furthermore, we expected that the performance of pre-trained semantic retrieval models would perform better than models that are not pre-trained, because models that are not pre-trained have fewer data available to train on. Pre-trained models make use of more documents, making them more accurate in ranking documents by their semantic value. This can also be seen in the plots, because the scores of the pretrained models are higher than the models that are not pre-trained. \n",
    " \n",
    "\n",
    "#### Comparison of Part 1 and Part 2\n",
    "Our expectation was that the overall performance of semantic based retrieval models would be better than the overall performance of term based retrieval models, as term based models only use frequency of terms and semantic based models use the semantic value of a word to search for words with similar semantic value. As it turns out, our results do not support our expectation as the plotted Figures above show lower values for the used evaluation metrics for all semantic models, compared to the scores in the plotted Figures at the end of Part 1. A possible explanation is that we only use a small amount of words to train our semantic based models, which makes it hard to use the advantage of semantic based models. This explanation is supported by the fact that the pretrained Word2Vec model performs better than the Word2Vec model we trained ourselves, as can be seen in the Figures above. Another explanation is that semantic based retrieval models usually dont't perform well on their own. "
   ]
  },
  {
   "cell_type": "code",
   "execution_count": null,
   "metadata": {},
   "outputs": [],
   "source": []
  }
 ],
 "metadata": {
  "kernelspec": {
   "display_name": "Python 3 (ipykernel)",
   "language": "python",
   "name": "python3"
  },
  "language_info": {
   "codemirror_mode": {
    "name": "ipython",
    "version": 3
   },
   "file_extension": ".py",
   "mimetype": "text/x-python",
   "name": "python",
   "nbconvert_exporter": "python",
   "pygments_lexer": "ipython3",
   "version": "3.9.7"
  },
  "toc": {
   "base_numbering": 1,
   "nav_menu": {},
   "number_sections": true,
   "sideBar": true,
   "skip_h1_title": false,
   "title_cell": "Table of Contents",
   "title_sidebar": "Contents",
   "toc_cell": false,
   "toc_position": {},
   "toc_section_display": true,
   "toc_window_display": false
  }
 },
 "nbformat": 4,
 "nbformat_minor": 4
}
