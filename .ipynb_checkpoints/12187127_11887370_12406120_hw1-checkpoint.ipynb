{
 "cells": [
  {
   "cell_type": "markdown",
   "metadata": {
    "deletable": false,
    "editable": false,
    "nbgrader": {
     "cell_type": "markdown",
     "checksum": "1bba455de8bc2825ca70469169bbadaa",
     "grade": false,
     "grade_id": "cell-c9cd9e550239e812",
     "locked": true,
     "schema_version": 3,
     "solution": false,
     "task": false
    }
   },
   "source": [
    "# Homework 1 (Total Points: 250) <a class=\"anchor\" id=\"top\"></a>\n",
    "\n",
    "\n",
    "**Submission instructions**:\n",
    "- The cells with the `# YOUR CODE HERE` denote that these sections are graded and you need to add your implementation.\n",
    "- For Part 1: You can use the `nltk`, `NumPy`, and `matplotlib` libraries here. Other libraries, e.g., `gensim` or `scikit-learn`, may not be used. For Part 2: `gensim` is allowed in addition to the imported libraries in the next code cell\n",
    "- Please use Python 3.6.5 and `pip install -r requirements.txt` to avoid version issues.\n",
    "- The notebook you submit has to have the student ids, separated by underscores (E.g., `12341234_12341234_12341234_hw1.ipynb`).\n",
    "- This will be parsed by a regexp, **so please double check your filename**.\n",
    "- Only one member of each group has to submit the file (**please do not compress the .ipynb file when you will submit it**) to canvas.\n",
    "- **Make sure to check that your notebook runs before submission**. A quick way to do this is to restart the kernel and run all the cells.  \n",
    "- Do not change the number of arugments in the given functions.\n",
    "- **Please do not delete/add new cells**. Removing cells **will** lead to grade deduction. \n",
    "- Note, that you are not allowed to use Google Colab.\n",
    "\n",
    "\n",
    "**Learning Goals**:\n",
    "- [Part 1, Term-based matching](#part1) (165 points):\n",
    "    - Learn how to load a dataset and process it.\n",
    "    - Learn how to implement several standard IR methods (TF-IDF, BM25, QL) and understand their weaknesses & strengths.\n",
    "    - Learn how to evaluate IR methods.\n",
    "- [Part 2, Semantic-based matching](#part2) (85 points):\n",
    "    - Learn how to implement vector-space retrieval methods (LSI, LDA).\n",
    "    - Learn how to use LSI and LDA for re-ranking.\n",
    "\n",
    "    \n",
    "**Resources**: \n",
    "- **Part 1**: Sections 2.3, 4.1, 4.2, 4.3, 5.3, 5.6, 5.7, 6.2, 7, 8 of [Search Engines: Information Retrieval in Practice](https://ciir.cs.umass.edu/downloads/SEIRiP.pdf)\n",
    "- **Part 2**: [LSI - Chapter 18](https://nlp.stanford.edu/IR-book/pdf/18lsi.pdf) from [Introduction to Information Retrieval](https://nlp.stanford.edu/IR-book/) book and the [original LDA paper](https://jmlr.org/papers/volume3/blei03a/blei03a.pdf)"
   ]
  },
  {
   "cell_type": "code",
   "execution_count": 1,
   "metadata": {
    "deletable": false,
    "editable": false,
    "nbgrader": {
     "cell_type": "code",
     "checksum": "c55bfe94ff1f564dd595547e516c4c6e",
     "grade": false,
     "grade_id": "cell-f5357fabdb9660e3",
     "locked": true,
     "schema_version": 3,
     "solution": false,
     "task": false
    }
   },
   "outputs": [],
   "source": [
    "# imports \n",
    "# TODO: Ensure that no additional library is imported in the notebook. \n",
    "# TODO: Only the standard library and the following libraries are allowed:\n",
    "# TODO: You can also use unlisted classes from these libraries or standard libraries (such as defaultdict, Counter, ...).\n",
    "\n",
    "import os\n",
    "import zipfile\n",
    "from functools import partial\n",
    "\n",
    "import nltk\n",
    "import requests\n",
    "import numpy as np\n",
    "from tqdm import tqdm\n",
    "\n",
    "import matplotlib.pyplot as plt\n",
    "from matplotlib.pyplot import cm\n",
    "\n",
    "from ipywidgets import widgets\n",
    "from IPython.display import display, HTML\n",
    "#from IPython.html import widgets\n",
    "from collections import namedtuple\n",
    "\n",
    "%matplotlib inline"
   ]
  },
  {
   "cell_type": "markdown",
   "metadata": {
    "deletable": false,
    "editable": false,
    "nbgrader": {
     "cell_type": "markdown",
     "checksum": "c8328f758ca5b69f76eee03dbbdd4715",
     "grade": false,
     "grade_id": "cell-7428e12ed184408b",
     "locked": true,
     "schema_version": 3,
     "solution": false,
     "task": false
    }
   },
   "source": [
    "\n",
    "# Part 1: Term-based Matching (165 points) <a class=\"anchor\" id=\"part1\"></a>\n",
    "\n",
    "[Back to top](#top)\n",
    "\n",
    "In the first part, we will learn the basics of IR from loading and preprocessing the material, to implementing some well known search algorithms, to evaluating the ranking performance of the implemented algorithms. We will be using the CACM dataset throughout the assignment. The CACM dataset is a collection of titles and abstracts from the journal CACM (Communication of the ACM).\n",
    "\n",
    "Table of contents:\n",
    "- [Section 1: Text Processing](#text_processing) (5 points)\n",
    "- [Section 2: Indexing](#indexing) (10 points)\n",
    "- [Section 3: Ranking](#ranking) (80 points)\n",
    "- [Section 4: Evaluation](#evaluation) (40 points)\n",
    "- [Section 5: Analysis](#analysis) (30 points)\n"
   ]
  },
  {
   "cell_type": "markdown",
   "metadata": {
    "deletable": false,
    "editable": false,
    "nbgrader": {
     "cell_type": "markdown",
     "checksum": "4e3f938065183dc743aa8254b96b4f5e",
     "grade": false,
     "grade_id": "cell-4b24825cf4ae55ec",
     "locked": true,
     "schema_version": 3,
     "solution": false,
     "task": false
    }
   },
   "source": [
    "---\n",
    "## Section 1: Text Processing (5 points)<a class=\"anchor\" id=\"text_processing\"></a>\n",
    "\n",
    "[Back to Part 1](#part1)\n",
    "\n",
    "In this section, we will load the dataset and learn how to clean up the data to make it usable for an IR system. \n",
    "First, go through the implementation of the following functions:\n",
    "- `read_cacm_docs`: Reads in the CACM documents.\n",
    "- `read_queries`: Reads in the CACM queries.\n",
    "- `load_stopwords`: Loads the stopwords.\n",
    "\n",
    "The points of this section are earned for the following implementations:\n",
    "- `tokenize` (3 points): Tokenizes the input text.\n",
    "- `stem_token` (2 points): Stems the given token. \n",
    "\n",
    "We are using the [CACM dataset](http://ir.dcs.gla.ac.uk/resources/test_collections/cacm/), which is a small, classic IR dataset, composed of a collection of titles and abstracts from the journal CACM. It comes with relevance judgements for queries, so we can evaluate our IR system. \n"
   ]
  },
  {
   "cell_type": "markdown",
   "metadata": {
    "deletable": false,
    "editable": false,
    "nbgrader": {
     "cell_type": "markdown",
     "checksum": "0155d897c7016389d73d160921947a6f",
     "grade": false,
     "grade_id": "cell-45651364e7af6d5a",
     "locked": true,
     "schema_version": 3,
     "solution": false,
     "task": false
    }
   },
   "source": [
    "---\n",
    "### 1.1 Read the CACM documents\n",
    "\n",
    "\n",
    "The following cell downloads the dataset and unzips it to a local directory."
   ]
  },
  {
   "cell_type": "code",
   "execution_count": 2,
   "metadata": {
    "deletable": false,
    "editable": false,
    "nbgrader": {
     "cell_type": "code",
     "checksum": "4d43c9ad6e77cc01ce4cef0c34824930",
     "grade": false,
     "grade_id": "cell-bbc3030bb3fe7e02",
     "locked": true,
     "schema_version": 3,
     "solution": false,
     "task": false
    }
   },
   "outputs": [],
   "source": [
    "def download_dataset():\n",
    "    folder_path = os.environ.get(\"IR1_DATA_PATH\")\n",
    "    if not folder_path:\n",
    "        folder_path = \"./datasets/\"\n",
    "    os.makedirs(folder_path, exist_ok=True)\n",
    "    \n",
    "    file_location = os.path.join(folder_path, \"cacm.zip\")\n",
    "    \n",
    "    # download file if it doesn't exist\n",
    "    if not os.path.exists(file_location):\n",
    "        \n",
    "        url = \"https://surfdrive.surf.nl/files/index.php/s/M0FGJpX2p8wDwxR/download\"\n",
    "\n",
    "        with open(file_location, \"wb\") as handle:\n",
    "            print(f\"Downloading file from {url} to {file_location}\")\n",
    "            response = requests.get(url, stream=True)\n",
    "            for data in tqdm(response.iter_content()):\n",
    "                handle.write(data)\n",
    "            print(\"Finished downloading file\")\n",
    "    \n",
    "    if not os.path.exists(os.path.join(folder_path, \"train.txt\")):\n",
    "        \n",
    "        # unzip file\n",
    "        with zipfile.ZipFile(file_location, 'r') as zip_ref:\n",
    "            zip_ref.extractall(folder_path)\n",
    "        \n",
    "download_dataset()"
   ]
  },
  {
   "cell_type": "markdown",
   "metadata": {
    "deletable": false,
    "editable": false,
    "nbgrader": {
     "cell_type": "markdown",
     "checksum": "31609b0d61d0c74cbd69bc43e47c23be",
     "grade": false,
     "grade_id": "cell-a7dd9a9bf98ede05",
     "locked": true,
     "schema_version": 3,
     "solution": false,
     "task": false
    }
   },
   "source": [
    "---\n",
    "\n",
    "You can see a brief description of each file in the dataset by looking at the README file:"
   ]
  },
  {
   "cell_type": "code",
   "execution_count": 3,
   "metadata": {
    "deletable": false,
    "editable": false,
    "nbgrader": {
     "cell_type": "code",
     "checksum": "cb3c9a2b8b2bf4fd5b7446b0c4c00f43",
     "grade": false,
     "grade_id": "cell-9b6ff1a17124711f",
     "locked": true,
     "schema_version": 3,
     "solution": false,
     "task": false
    }
   },
   "outputs": [
    {
     "name": "stdout",
     "output_type": "stream",
     "text": [
      "Files in this directory with sizes:\n",
      "          0 Jun 19 21:01 README\n",
      "\n",
      "    2187734 Jun 19 20:55 cacm.all              text of documents\n",
      "        626 Jun 19 20:58 cite.info             key to citation info\n",
      "                                                (the X sections in cacm.all)\n",
      "       2668 Jun 19 20:55 common_words           stop words used by smart\n",
      "       2194 Jun 19 20:55 make_coll*             shell script to make collection\n",
      "       1557 Jun 19 20:55 make_coll_term*        ditto (both useless without\n",
      "                                                smart system)\n",
      "       9948 Jun 19 20:55 qrels.text             relation giving\n",
      "                                                    qid did 0 0\n",
      "                                                to indicate dument did is\n",
      "                                                relevant to query qid\n",
      "      13689 Jun 19 20:55 query.text             Original text of the query\n",
      "\n"
     ]
    }
   ],
   "source": [
    "##### Read the README file \n",
    "with open (\"./datasets/README\",\"r\") as file:\n",
    "    readme = file.read()\n",
    "    print(readme)\n",
    "#####"
   ]
  },
  {
   "cell_type": "markdown",
   "metadata": {
    "deletable": false,
    "editable": false,
    "nbgrader": {
     "cell_type": "markdown",
     "checksum": "6e2712c4c4632bf7486a532f7f18074d",
     "grade": false,
     "grade_id": "cell-73351431869fda76",
     "locked": true,
     "schema_version": 3,
     "solution": false,
     "task": false
    }
   },
   "source": [
    "---\n",
    "We are interested in 4 files:\n",
    "- `cacm.all` : Contains the text for all documents. Note that some documents do not have abstracts available\n",
    "- `query.text` : The text of all queries\n",
    "- `qrels.text` : The relevance judgements\n",
    "- `common_words` : A list of common words. This may be used as a collection of stopwords"
   ]
  },
  {
   "cell_type": "code",
   "execution_count": 4,
   "metadata": {
    "deletable": false,
    "editable": false,
    "nbgrader": {
     "cell_type": "code",
     "checksum": "f1162c15177eb4ffe466531d03cff4a2",
     "grade": false,
     "grade_id": "cell-b44dd14079f278ca",
     "locked": true,
     "schema_version": 3,
     "solution": false,
     "task": false
    }
   },
   "outputs": [
    {
     "name": "stdout",
     "output_type": "stream",
     "text": [
      ".I 1\n",
      ".T\n",
      "Preliminary Report-International Algebraic Language\n",
      ".B\n",
      "CACM December, 1958\n",
      ".A\n",
      "Perlis, A. J.\n",
      "Samelson,K.\n",
      ".N\n",
      "CA581203 JB March 22, 1978  8:28 PM\n",
      ".X\n",
      "100\t5\t1\n",
      "123\t5\t1\n",
      "164\t5\t1\n",
      "1\t5\t1\n",
      "1\t5\t1\n",
      "1\t5\t1\n",
      "205\t5\t1\n",
      "210\t5\t1\n",
      "214\t5\t1\n",
      "1982\t5\t1\n",
      "398\t5\t1\n",
      "642\t5\t1\n",
      "669\t5\t1\n",
      "1\t6\t1\n",
      "1\t6\t1\n",
      "1\t6\t1\n",
      "1\t6\t1\n",
      "1\t6\t1\n",
      "1\t6\t1\n",
      "1\t6\t1\n",
      "1\t6\t1\n",
      "1\t6\t1\n",
      "1\t6\t1\n",
      "165\t6\t1\n",
      "196\t6\t1\n",
      "196\t6\t1\n",
      "1273\t6\t1\n",
      "1883\t6\t1\n",
      "324\t6\t1\n",
      "43\t6\t1\n",
      "53\t6\t1\n",
      "91\t6\t1\n",
      "410\t6\t1\n",
      "3184\t6\t1\n",
      "\n"
     ]
    }
   ],
   "source": [
    "##### The first 45 lines of the CACM dataset forms the first record\n",
    "# We are interested only in 3 fields. \n",
    "# 1. the '.I' field, which is the document id\n",
    "# 2. the '.T' field (the title) and\n",
    "# 3. the '.W' field (the abstract, which may be absent)\n",
    "with open (\"./datasets/cacm.all\",\"r\") as file:\n",
    "    cacm_all = \"\".join(file.readlines()[:45])\n",
    "    print(cacm_all)\n",
    "#####"
   ]
  },
  {
   "cell_type": "markdown",
   "metadata": {
    "deletable": false,
    "editable": false,
    "nbgrader": {
     "cell_type": "markdown",
     "checksum": "250b413baccd8efb186bb46a34ae0060",
     "grade": false,
     "grade_id": "cell-c4bf2e263ec553d8",
     "locked": true,
     "schema_version": 3,
     "solution": false,
     "task": false
    }
   },
   "source": [
    "---\n",
    "\n",
    "The following function reads the `cacm.all` file. Note that each document has a variable number of lines. The `.I` field denotes a new document:"
   ]
  },
  {
   "cell_type": "code",
   "execution_count": 5,
   "metadata": {
    "deletable": false,
    "editable": false,
    "nbgrader": {
     "cell_type": "code",
     "checksum": "57d757e6a7a6938740dc899022b4f291",
     "grade": false,
     "grade_id": "cell-b736116eb419c624",
     "locked": true,
     "schema_version": 3,
     "solution": false,
     "task": false
    }
   },
   "outputs": [],
   "source": [
    "def read_cacm_docs(root_folder = \"./datasets/\"):\n",
    "    \"\"\"\n",
    "        Reads in the CACM documents. The dataset is assumed to be in the folder \"./datasets/\" by default\n",
    "        Returns: A list of 2-tuples: (doc_id, document), where 'document' is a single string created by \n",
    "            appending the title and abstract (separated by a \"\\n\"). \n",
    "            In case the record doesn't have an abstract, the document is composed only by the title\n",
    "    \"\"\"\n",
    "    with open(os.path.join(root_folder, \"cacm.all\")) as reader:\n",
    "        lines = reader.readlines()\n",
    "    \n",
    "    doc_id, title, abstract = None, None, None\n",
    "    \n",
    "    docs = []\n",
    "    line_idx = 0\n",
    "    while line_idx < len(lines):\n",
    "        line = lines[line_idx]\n",
    "        if line.startswith(\".I\"):\n",
    "            if doc_id is not None:\n",
    "                docs.append((doc_id, title, abstract))\n",
    "                doc_id, title, abstract = None, None, None\n",
    "            \n",
    "            doc_id = line.split()[-1]\n",
    "            line_idx += 1\n",
    "        elif line.startswith(\".T\"):\n",
    "            # start at next line\n",
    "            line_idx += 1\n",
    "            temp_lines = []\n",
    "            # read till next '.'\n",
    "            while not lines[line_idx].startswith(\".\"):\n",
    "                temp_lines.append(lines[line_idx].strip(\"\\n\"))\n",
    "                line_idx += 1\n",
    "            title = \"\\n\".join(temp_lines).strip(\"\\n\")\n",
    "        elif line.startswith(\".W\"):\n",
    "            # start at next line\n",
    "            line_idx += 1\n",
    "            temp_lines = []\n",
    "            # read till next '.'\n",
    "            while not lines[line_idx].startswith(\".\"):\n",
    "                temp_lines.append(lines[line_idx].strip(\"\\n\"))\n",
    "                line_idx += 1\n",
    "            abstract = \"\\n\".join(temp_lines).strip(\"\\n\")\n",
    "        else:\n",
    "            line_idx += 1\n",
    "    \n",
    "    docs.append((doc_id, title, abstract))\n",
    "    \n",
    "    p_docs = []\n",
    "    for (did, t, a) in docs:\n",
    "        if a is None:\n",
    "            a = \"\"\n",
    "        p_docs.append((did, t + \"\\n\" + a))\n",
    "    return p_docs\n"
   ]
  },
  {
   "cell_type": "code",
   "execution_count": 6,
   "metadata": {
    "deletable": false,
    "editable": false,
    "nbgrader": {
     "cell_type": "code",
     "checksum": "2f81930fcd89670b6e20e2255e1f2369",
     "grade": false,
     "grade_id": "cell-a1c43818e0d3fd79",
     "locked": true,
     "schema_version": 3,
     "solution": false,
     "task": false
    }
   },
   "outputs": [],
   "source": [
    "##### Function check\n",
    "docs = read_cacm_docs()\n",
    "\n",
    "assert isinstance(docs, list)\n",
    "assert len(docs) == 3204, \"There should be exactly 3204 documents\"\n",
    "\n",
    "unzipped_docs = list(zip(*docs))\n",
    "assert np.sum(np.array(list(map(int,unzipped_docs[0])))) == 5134410\n",
    "\n",
    "##### "
   ]
  },
  {
   "cell_type": "markdown",
   "metadata": {
    "deletable": false,
    "editable": false,
    "nbgrader": {
     "cell_type": "markdown",
     "checksum": "25fd3cfaf2137c56002b850699b3c9d3",
     "grade": false,
     "grade_id": "cell-5ed2ddc91f73c60e",
     "locked": true,
     "schema_version": 3,
     "solution": false,
     "task": false
    }
   },
   "source": [
    "---\n",
    "### 1.2 Read the CACM queries\n",
    "\n",
    "Next, let us read the queries. They are formatted similarly:"
   ]
  },
  {
   "cell_type": "code",
   "execution_count": 7,
   "metadata": {
    "deletable": false,
    "editable": false,
    "nbgrader": {
     "cell_type": "code",
     "checksum": "5d26c0908e758acb9968b84056b1060a",
     "grade": false,
     "grade_id": "cell-5c7e8e7c4fc2757f",
     "locked": true,
     "schema_version": 3,
     "solution": false,
     "task": false
    }
   },
   "outputs": [
    {
     "name": "stdout",
     "output_type": "stream",
     "text": [
      ".I 1\r\n",
      ".W\r\n",
      " What articles exist which deal with TSS (Time Sharing System), an\r\n",
      "operating system for IBM computers?\r\n",
      ".N\r\n",
      " 1. Richard Alexander, Comp Serv, Langmuir Lab (TSS)\r\n",
      " \r\n",
      ".I 2\r\n",
      ".W\r\n",
      " I am interested in articles written either by Prieve or Udo Pooch\r\n",
      ".A\r\n",
      "Prieve, B.\r\n",
      "Pooch, U.\r\n",
      ".N\r\n",
      " 2. Richard Alexander, Comp Serv, Langmuir Lab (author = Pooch or Prieve)\r\n"
     ]
    }
   ],
   "source": [
    "##### The first 15 lines of 'query.text' has 2 queries\n",
    "# We are interested only in 2 fields. \n",
    "# 1. the '.I' - the query id\n",
    "# 2. the '.W' - the query\n",
    "!head -15 ./datasets/query.text\n",
    "#####"
   ]
  },
  {
   "cell_type": "markdown",
   "metadata": {
    "deletable": false,
    "editable": false,
    "nbgrader": {
     "cell_type": "markdown",
     "checksum": "8f19f311a660f30e3f86cb0f7037d54a",
     "grade": false,
     "grade_id": "cell-88e293507d2dcef6",
     "locked": true,
     "schema_version": 3,
     "solution": false,
     "task": false
    }
   },
   "source": [
    "---\n",
    "\n",
    "The following function reads the `query.text` file:"
   ]
  },
  {
   "cell_type": "code",
   "execution_count": 8,
   "metadata": {
    "deletable": false,
    "editable": false,
    "nbgrader": {
     "cell_type": "code",
     "checksum": "e3fbb193211007672849487f5cff1664",
     "grade": false,
     "grade_id": "cell-433e3ad5d0e2572a",
     "locked": true,
     "schema_version": 3,
     "solution": false,
     "task": false
    }
   },
   "outputs": [],
   "source": [
    "def read_queries(root_folder = \"./datasets/\"):\n",
    "    \"\"\"\n",
    "        Reads in the CACM queries. The dataset is assumed to be in the folder \"./datasets/\" by default\n",
    "        Returns: A list of 2-tuples: (query_id, query)\n",
    "    \"\"\"\n",
    "    with open(os.path.join(root_folder, \"query.text\")) as reader:\n",
    "        lines = reader.readlines()\n",
    "    \n",
    "    query_id, query = None, None\n",
    "    \n",
    "    queries = []\n",
    "    line_idx = 0\n",
    "    while line_idx < len(lines):\n",
    "        line = lines[line_idx]\n",
    "        if line.startswith(\".I\"):\n",
    "            if query_id is not None:\n",
    "                queries.append((query_id, query))\n",
    "                query_id, query = None, None\n",
    "    \n",
    "            query_id = line.split()[-1]\n",
    "            line_idx += 1\n",
    "        elif line.startswith(\".W\"):\n",
    "            # start at next line\n",
    "            line_idx += 1\n",
    "            temp_lines = []\n",
    "            # read till next '.'\n",
    "            while not lines[line_idx].startswith(\".\"):\n",
    "                temp_lines.append(lines[line_idx].strip(\"\\n\"))\n",
    "                line_idx += 1\n",
    "            query = \"\\n\".join(temp_lines).strip(\"\\n\")\n",
    "        else:\n",
    "            line_idx += 1\n",
    "    \n",
    "    queries.append((query_id, query))\n",
    "    return queries\n"
   ]
  },
  {
   "cell_type": "code",
   "execution_count": 9,
   "metadata": {
    "deletable": false,
    "editable": false,
    "nbgrader": {
     "cell_type": "code",
     "checksum": "a897b9771b54f447be3418d7246fc4a0",
     "grade": false,
     "grade_id": "cell-6ec540abce66c598",
     "locked": true,
     "schema_version": 3,
     "solution": false,
     "task": false
    }
   },
   "outputs": [],
   "source": [
    "##### Function check\n",
    "queries = read_queries()\n",
    "\n",
    "assert isinstance(queries, list)\n",
    "assert len(queries) == 64 and all([q[1] is not None for q in queries]), \"There should be exactly 64 queries\"\n",
    "\n",
    "unzipped_queries = list(zip(*queries))\n",
    "assert np.sum(np.array(list(map(int,unzipped_queries[0])))) == 2080\n",
    "\n",
    "##### "
   ]
  },
  {
   "cell_type": "markdown",
   "metadata": {
    "deletable": false,
    "editable": false,
    "nbgrader": {
     "cell_type": "markdown",
     "checksum": "a300c41912ac63b239070b4c15c9f5c5",
     "grade": false,
     "grade_id": "cell-1c31569491d7b782",
     "locked": true,
     "schema_version": 3,
     "solution": false,
     "task": false
    }
   },
   "source": [
    "---\n",
    "### 1.3 Read the stop words\n",
    "\n",
    "We use the common words stored in `common_words`:"
   ]
  },
  {
   "cell_type": "code",
   "execution_count": 10,
   "metadata": {
    "deletable": false,
    "editable": false,
    "nbgrader": {
     "cell_type": "code",
     "checksum": "1ad6f5bae6a792504c1c8513ae5751ad",
     "grade": false,
     "grade_id": "cell-34bdb63461418a96",
     "locked": true,
     "schema_version": 3,
     "solution": false,
     "task": false
    }
   },
   "outputs": [
    {
     "name": "stdout",
     "output_type": "stream",
     "text": [
      "a\r\n",
      "about\r\n",
      "above\r\n",
      "accordingly\r\n",
      "across\r\n",
      "after\r\n",
      "afterwards\r\n",
      "again\r\n",
      "against\r\n",
      "all\r\n"
     ]
    }
   ],
   "source": [
    "##### Read the stop words file \n",
    "!head ./datasets/common_words\n",
    "##### Read the README file "
   ]
  },
  {
   "cell_type": "markdown",
   "metadata": {
    "deletable": false,
    "editable": false,
    "nbgrader": {
     "cell_type": "markdown",
     "checksum": "6d0fe612e770213b6397c2179b07a966",
     "grade": false,
     "grade_id": "cell-4744bde0338895d8",
     "locked": true,
     "schema_version": 3,
     "solution": false,
     "task": false
    }
   },
   "source": [
    "---\n",
    "\n",
    "The following function reads the `common_words` file (For better coverage, we try to keep them in lowercase):"
   ]
  },
  {
   "cell_type": "code",
   "execution_count": 11,
   "metadata": {
    "deletable": false,
    "editable": false,
    "nbgrader": {
     "cell_type": "code",
     "checksum": "9409713fd26eb0c33587e190638997c4",
     "grade": false,
     "grade_id": "cell-7357aa40f64e5bcb",
     "locked": true,
     "schema_version": 3,
     "solution": false,
     "task": false
    }
   },
   "outputs": [],
   "source": [
    "def load_stopwords(root_folder = \"./datasets/\"):\n",
    "    \"\"\"\n",
    "        Loads the stopwords. The dataset is assumed to be in the folder \"./datasets/\" by default\n",
    "        Output: A set of stopwords\n",
    "    \"\"\"\n",
    "    with open(os.path.join(root_folder, \"common_words\")) as reader:\n",
    "        lines = reader.readlines()\n",
    "    stopwords = set([l.strip().lower() for l in lines])\n",
    "    return stopwords\n"
   ]
  },
  {
   "cell_type": "code",
   "execution_count": 12,
   "metadata": {
    "deletable": false,
    "editable": false,
    "nbgrader": {
     "cell_type": "code",
     "checksum": "f1c8153c3c38133bc2db6e7b076ad470",
     "grade": false,
     "grade_id": "cell-2ca3ac162004de97",
     "locked": true,
     "schema_version": 3,
     "solution": false,
     "task": false
    }
   },
   "outputs": [],
   "source": [
    "##### Function check\n",
    "stopwords = load_stopwords()\n",
    "\n",
    "assert isinstance(stopwords, set)\n",
    "assert len(stopwords) == 428, \"There should be exactly 428 stop words\"\n",
    "\n",
    "assert np.sum(np.array(list(map(len,stopwords)))) == 2234\n",
    "\n",
    "##### \n"
   ]
  },
  {
   "cell_type": "markdown",
   "metadata": {
    "deletable": false,
    "editable": false,
    "nbgrader": {
     "cell_type": "markdown",
     "checksum": "92c1191e9e7291dcf0d70dc67b907a65",
     "grade": false,
     "grade_id": "cell-134b72872f4300cb",
     "locked": true,
     "schema_version": 3,
     "solution": false,
     "task": false
    }
   },
   "source": [
    "---\n",
    "### 1.4 Tokenization (3 points)\n",
    "\n",
    "We can now write some basic text processing functions. \n",
    "A first step is to tokenize the text. \n",
    "\n",
    "**Note**: Use the  `WordPunctTokenizer` available in the `nltk` library:"
   ]
  },
  {
   "cell_type": "code",
   "execution_count": 13,
   "metadata": {
    "deletable": false,
    "nbgrader": {
     "cell_type": "code",
     "checksum": "3f5564d3c75bf22fbf832b3a9b938f37",
     "grade": false,
     "grade_id": "cell-322be4c9499bdc4b",
     "locked": false,
     "schema_version": 3,
     "solution": true,
     "task": false
    }
   },
   "outputs": [],
   "source": [
    "# TODO: Implement this! (4 points)\n",
    "def tokenize(text):\n",
    "    \"\"\"\n",
    "        Tokenizes the input text. Use the WordPunctTokenizer\n",
    "        Input: text - a string\n",
    "        Output: a list of tokens\n",
    "    \"\"\"\n",
    "    \n",
    "    tk = nltk.WordPunctTokenizer()\n",
    "    \n",
    "    return tk.tokenize(text) "
   ]
  },
  {
   "cell_type": "code",
   "execution_count": 14,
   "metadata": {
    "deletable": false,
    "editable": false,
    "nbgrader": {
     "cell_type": "code",
     "checksum": "e15af22c4d8ae0a3f9dac43bef7097ec",
     "grade": true,
     "grade_id": "cell-7fbf48bf7541a622",
     "locked": true,
     "points": 3,
     "schema_version": 3,
     "solution": false,
     "task": false
    }
   },
   "outputs": [
    {
     "name": "stdout",
     "output_type": "stream",
     "text": [
      "['the', 'quick', 'brown', 'fox', 'jumps', 'over', 'the', 'lazy', 'dog']\n"
     ]
    }
   ],
   "source": [
    "##### Function check\n",
    "text = \"the quick brown fox jumps over the lazy dog\"\n",
    "tokens = tokenize(text)\n",
    "\n",
    "assert isinstance(tokens, list)\n",
    "assert len(tokens) == 9\n",
    "\n",
    "print(tokens)\n",
    "# output: ['the', 'quick', 'brown', 'fox', 'jumps', 'over', 'the', 'lazy', 'dog']\n",
    "#####"
   ]
  },
  {
   "cell_type": "markdown",
   "metadata": {
    "deletable": false,
    "editable": false,
    "nbgrader": {
     "cell_type": "markdown",
     "checksum": "34210618bff4cb47aad2f03cb4b9854c",
     "grade": false,
     "grade_id": "cell-fd1b98ae61b697ca",
     "locked": true,
     "schema_version": 3,
     "solution": false,
     "task": false
    }
   },
   "source": [
    "---\n",
    "### 1.5 Stemming (2 points)\n",
    "\n",
    "Write a function to stem tokens. \n",
    "Again, you can use the nltk library for this:"
   ]
  },
  {
   "cell_type": "code",
   "execution_count": 15,
   "metadata": {
    "deletable": false,
    "nbgrader": {
     "cell_type": "code",
     "checksum": "1c4a6aa979d66158c7b6b992af43293a",
     "grade": false,
     "grade_id": "cell-e3f6c8e3f874b28d",
     "locked": false,
     "schema_version": 3,
     "solution": true,
     "task": false
    }
   },
   "outputs": [],
   "source": [
    "# TODO: Implement this! (3 points)\n",
    "def stem_token(token):\n",
    "    \"\"\"\n",
    "        Stems the given token using the PorterStemmer from the nltk library\n",
    "        Input: a single token\n",
    "        Output: the stem of the token\n",
    "    \"\"\"\n",
    "    stemmer = nltk.PorterStemmer()\n",
    "    \n",
    "    return stemmer.stem(token)"
   ]
  },
  {
   "cell_type": "code",
   "execution_count": 16,
   "metadata": {
    "deletable": false,
    "editable": false,
    "nbgrader": {
     "cell_type": "code",
     "checksum": "9363b4f09b556d424d9c895d4ab57b1c",
     "grade": true,
     "grade_id": "cell-cd6863e6ee6ed205",
     "locked": true,
     "points": 2,
     "schema_version": 3,
     "solution": false,
     "task": false
    }
   },
   "outputs": [],
   "source": [
    "##### Function check\n",
    "\n",
    "assert stem_token('owned') == 'own'\n",
    "assert stem_token('itemization') == 'item'\n",
    "#####"
   ]
  },
  {
   "cell_type": "markdown",
   "metadata": {
    "deletable": false,
    "editable": false,
    "nbgrader": {
     "cell_type": "markdown",
     "checksum": "0b311d014146da6afa1d39542fab9869",
     "grade": false,
     "grade_id": "cell-47c9f90498699110",
     "locked": true,
     "schema_version": 3,
     "solution": false,
     "task": false
    }
   },
   "source": [
    "---\n",
    "### 1.6 Summary\n",
    "\n",
    "The following function puts it all together. Given an input string, this functions tokenizes and processes it according to the flags that you set."
   ]
  },
  {
   "cell_type": "code",
   "execution_count": 17,
   "metadata": {
    "deletable": false,
    "editable": false,
    "nbgrader": {
     "cell_type": "code",
     "checksum": "2ff2d215ee8e0039c5a91fd3de12e6bd",
     "grade": false,
     "grade_id": "cell-dd0d3f46b30801da",
     "locked": true,
     "schema_version": 3,
     "solution": false,
     "task": false
    }
   },
   "outputs": [],
   "source": [
    "#### Putting it all together\n",
    "def process_text(text, stem=False, remove_stopwords=False, lowercase_text=False):\n",
    "    \n",
    "    tokens = []\n",
    "    for token in tokenize(text):\n",
    "        if remove_stopwords and token.lower() in stopwords:\n",
    "            continue\n",
    "        if stem:\n",
    "            token = stem_token(token)\n",
    "        if lowercase_text:\n",
    "            token = token.lower()\n",
    "        tokens.append(token)\n",
    "\n",
    "    return tokens\n",
    "#### "
   ]
  },
  {
   "cell_type": "markdown",
   "metadata": {
    "deletable": false,
    "editable": false,
    "nbgrader": {
     "cell_type": "markdown",
     "checksum": "02d433b18eb43654fa4306a7bf55b190",
     "grade": false,
     "grade_id": "cell-8d885bfd2edd43ae",
     "locked": true,
     "schema_version": 3,
     "solution": false,
     "task": false
    }
   },
   "source": [
    "---\n",
    "\n",
    "Let's create two sets of preprocessed documents.\n",
    "We can process the documents and queries according to these two configurations:"
   ]
  },
  {
   "cell_type": "code",
   "execution_count": 18,
   "metadata": {
    "deletable": false,
    "editable": false,
    "nbgrader": {
     "cell_type": "code",
     "checksum": "dbe4ca667be6842fdcf512fbcad50c7f",
     "grade": false,
     "grade_id": "cell-d427365ee0fb21d8",
     "locked": true,
     "schema_version": 3,
     "solution": false,
     "task": false
    }
   },
   "outputs": [],
   "source": [
    "# In this configuration:\n",
    "# Don't preprocess the text, except to tokenize \n",
    "config_1 = {\n",
    "  \"stem\": False,\n",
    "  \"remove_stopwords\" : False,\n",
    "  \"lowercase_text\": True\n",
    "} \n",
    "\n",
    "\n",
    "# In this configuration:\n",
    "# Preprocess the text, stem and remove stopwords\n",
    "config_2 = {\n",
    "  \"stem\": True,\n",
    "  \"remove_stopwords\" : True,\n",
    "  \"lowercase_text\": True, \n",
    "} \n",
    "\n",
    "####\n",
    "doc_repr_1 = []\n",
    "doc_repr_2 = []\n",
    "for (doc_id, document) in docs:\n",
    "    doc_repr_1.append((doc_id, process_text(document, **config_1)))\n",
    "    doc_repr_2.append((doc_id, process_text(document, **config_2)))\n",
    "\n",
    "####"
   ]
  },
  {
   "cell_type": "markdown",
   "metadata": {
    "deletable": false,
    "editable": false,
    "nbgrader": {
     "cell_type": "markdown",
     "checksum": "b60589aac19e80941d860d9b3f1e9a16",
     "grade": false,
     "grade_id": "cell-b1c102db61ae7495",
     "locked": true,
     "schema_version": 3,
     "solution": false,
     "task": false
    }
   },
   "source": [
    "--- \n",
    "\n",
    "## Section 2: Indexing (10 points)<a class=\"anchor\" id=\"indexing\"></a>\n",
    "\n",
    "[Back to Part 1](#part1)\n",
    "\n",
    "\n",
    "\n",
    "A retrieval function usually takes in a query document pair, and scores a query against a document.  Our document set is quite small - just a few thousand documents. However, consider a web-scale dataset with a few million documents. In such a scenario, it would become infeasible to score every query and document pair. In such a case, we can build an inverted index. From Wikipedia:\n",
    "\n",
    "> ... , an inverted index (also referred to as a postings file or inverted file) is a database index storing a mapping from content, such as words or numbers, to its locations in a table, .... The purpose of an inverted index is to allow fast full-text searches, at a cost of increased processing when a document is added to the database. ...\n",
    "\n",
    "\n",
    "Consider a simple inverted index, which maps from word to document. This can improve the performance of a retrieval system significantly. In this assignment, we consider a *simple* inverted index, which maps a word to a set of documents. In practice, however, more complex indices might be used.  \n"
   ]
  },
  {
   "cell_type": "markdown",
   "metadata": {
    "deletable": false,
    "editable": false,
    "nbgrader": {
     "cell_type": "markdown",
     "checksum": "710fd943f45523ac36fcb887cc0d4d39",
     "grade": false,
     "grade_id": "cell-fa373192c1b7bb95",
     "locked": true,
     "schema_version": 3,
     "solution": false,
     "task": false
    }
   },
   "source": [
    "### 2.1 Term Frequency-index (10 points)\n",
    "In this assignment, we will be using an index created in memory since our dataset is tiny. To get started, build a simple index that maps each `token` to a list of `(doc_id, count)` where `count` is the count of the `token` in `doc_id`.\n",
    "For consistency, build this index using a python dictionary.\n",
    "    \n",
    "Now, implement a function to build an index:"
   ]
  },
  {
   "cell_type": "code",
   "execution_count": 19,
   "metadata": {
    "deletable": false,
    "nbgrader": {
     "cell_type": "code",
     "checksum": "d4e8c6b658c469379d5fe511de05b536",
     "grade": false,
     "grade_id": "cell-077599b87e953209",
     "locked": false,
     "schema_version": 3,
     "solution": true,
     "task": false
    }
   },
   "outputs": [],
   "source": [
    "from collections import Counter, defaultdict\n",
    "\n",
    "# TODO: Implement this! (10 points)\n",
    "def build_tf_index(documents):\n",
    "    \"\"\"\n",
    "        Build an inverted index (with counts). The output is a dictionary which takes in a token\n",
    "        and returns a list of (doc_id, count) where 'count' is the count of the 'token' in 'doc_id'\n",
    "        Input: a list of documents - (doc_id, tokens) \n",
    "        Output: An inverted index implemented within a pyhton dictionary: [token] -> [(doc_id, token_count)]\n",
    "    \"\"\"\n",
    "    # YOUR CODE HERE\n",
    "    \n",
    "    # retrieve all unique words and create tuples (doc_id, {word: count})\n",
    "    words = list(set([word for document in documents for word in document[1]]))\n",
    "    document = [(doc[0], Counter(doc[1])) for doc in documents] \n",
    "    \n",
    "    inv_index = defaultdict(list)\n",
    "    \n",
    "    for word in words:\n",
    "        # count is a dictionary with tokens as keys and the tfs as values\n",
    "        # only append if a word is present in count dict\n",
    "        inv_index[word].append([(doc_id, count[word]) for doc_id, count in document if word in count])\n",
    "            \n",
    "    return inv_index"
   ]
  },
  {
   "cell_type": "markdown",
   "metadata": {
    "deletable": false,
    "editable": false,
    "nbgrader": {
     "cell_type": "markdown",
     "checksum": "15e7041b4323d2a290322de538ff7670",
     "grade": false,
     "grade_id": "cell-093aebfa504f96f2",
     "locked": true,
     "schema_version": 3,
     "solution": false,
     "task": false
    }
   },
   "source": [
    "---\n",
    "Now we can build indexed documents and preprocess the queries based on the two configurations:"
   ]
  },
  {
   "cell_type": "code",
   "execution_count": 20,
   "metadata": {
    "deletable": false,
    "editable": false,
    "nbgrader": {
     "cell_type": "code",
     "checksum": "e27540c1d8d77a3779a05f557f3f40c6",
     "grade": false,
     "grade_id": "cell-b2ff1676348b90a8",
     "locked": true,
     "schema_version": 3,
     "solution": false,
     "task": false
    }
   },
   "outputs": [],
   "source": [
    "#### Indexed documents based on the two configs\n",
    "\n",
    "# Create the 2 indices\n",
    "tf_index_1 = build_tf_index(doc_repr_1)\n",
    "tf_index_2 = build_tf_index(doc_repr_2)\n",
    "\n",
    "# This function returns the tf_index of the corresponding config\n",
    "def get_index(index_set):\n",
    "    assert index_set in {1, 2}\n",
    "    return {\n",
    "        1: tf_index_1,\n",
    "        2: tf_index_2\n",
    "    }[index_set]\n",
    "\n",
    "####\n",
    "#### Preprocessed query based on the two configs\n",
    "\n",
    "# This function preprocesses the text given the index set, according to the specified config\n",
    "def preprocess_query(text, index_set):\n",
    "    assert index_set in {1, 2}\n",
    "    if index_set == 1:\n",
    "        return process_text(text, **config_1)\n",
    "    elif index_set == 2:\n",
    "        return process_text(text, **config_2)\n",
    "\n",
    "#### "
   ]
  },
  {
   "cell_type": "code",
   "execution_count": 21,
   "metadata": {
    "deletable": false,
    "editable": false,
    "nbgrader": {
     "cell_type": "code",
     "checksum": "f0cbc8703e1248cd6edf03f9019b69db",
     "grade": true,
     "grade_id": "cell-fc7c7232d5d2ee46",
     "locked": true,
     "points": 5,
     "schema_version": 3,
     "solution": false,
     "task": false
    }
   },
   "outputs": [
    {
     "name": "stdout",
     "output_type": "stream",
     "text": [
      "sample tf index for computer: [[('4', 1), ('7', 1), ('10', 1), ('13', 1), ('19', 1), ('22', 1), ('23', 1), ('37', 1), ('40', 3), ('41', 1), ('44', 1), ('48', 1), ('57', 1), ('58', 2), ('63', 2), ('68', 1), ('71', 3), ('80', 1), ('82', 1), ('90', 1), ('92', 1), ('93', 3), ('95', 1), ('96', 2), ('104', 1), ('106', 2), ('123', 1), ('124', 1), ('143', 1), ('144', 1), ('146', 1), ('173', 1), ('175', 1), ('185', 1), ('188', 1), ('192', 1), ('202', 1), ('217', 1), ('218', 1), ('236', 2), ('237', 1), ('242', 1), ('251', 1), ('252', 2), ('254', 1), ('274', 1), ('276', 1), ('278', 3), ('282', 1), ('300', 1), ('303', 1), ('320', 1), ('322', 4), ('323', 1), ('331', 1), ('361', 1), ('409', 1), ('417', 5), ('436', 1), ('439', 1), ('461', 1), ('462', 1), ('464', 2), ('482', 1), ('488', 1), ('489', 1), ('491', 1), ('495', 2), ('496', 1), ('525', 1), ('530', 1), ('531', 1), ('557', 1), ('558', 2), ('561', 1), ('585', 1), ('595', 2), ('605', 1), ('617', 1), ('619', 1), ('644', 2), ('671', 1), ('675', 1), ('678', 6), ('681', 1), ('695', 2), ('698', 3), ('725', 1), ('726', 1), ('728', 3), ('756', 1), ('758', 2), ('794', 1), ('796', 3), ('799', 1), ('824', 1), ('825', 1), ('828', 1), ('829', 1), ('851', 1), ('854', 1), ('858', 1), ('859', 1), ('860', 1), ('865', 1), ('893', 1), ('931', 1), ('940', 3), ('962', 2), ('963', 2), ('964', 1), ('971', 1), ('972', 2), ('974', 1), ('997', 1), ('998', 1), ('1000', 1), ('1001', 3), ('1002', 1), ('1003', 5), ('1008', 2), ('1009', 1), ('1010', 1), ('1013', 1), ('1014', 2), ('1026', 1), ('1030', 4), ('1033', 1), ('1046', 1), ('1051', 1), ('1066', 5), ('1071', 4), ('1073', 1), ('1083', 2), ('1088', 2), ('1089', 1), ('1098', 2), ('1099', 3), ('1100', 1), ('1101', 1), ('1103', 1), ('1108', 2), ('1112', 1), ('1113', 2), ('1114', 1), ('1116', 2), ('1134', 1), ('1144', 3), ('1145', 1), ('1155', 1), ('1159', 2), ('1160', 1), ('1166', 1), ('1169', 2), ('1172', 5), ('1179', 1), ('1181', 1), ('1183', 2), ('1184', 1), ('1188', 5), ('1195', 1), ('1196', 2), ('1197', 1), ('1199', 2), ('1200', 1), ('1205', 1), ('1206', 1), ('1208', 1), ('1214', 2), ('1235', 1), ('1237', 1), ('1247', 2), ('1248', 1), ('1252', 1), ('1257', 1), ('1259', 1), ('1260', 2), ('1261', 1), ('1265', 1), ('1270', 2), ('1272', 2), ('1281', 3), ('1305', 2), ('1306', 3), ('1307', 2), ('1308', 1), ('1309', 2), ('1315', 2), ('1323', 1), ('1324', 1), ('1325', 3), ('1326', 2), ('1327', 3), ('1329', 1), ('1330', 1), ('1334', 1), ('1341', 2), ('1345', 1), ('1347', 1), ('1348', 1), ('1354', 2), ('1365', 1), ('1366', 6), ('1368', 1), ('1382', 1), ('1383', 2), ('1384', 3), ('1385', 5), ('1388', 1), ('1391', 1), ('1394', 2), ('1409', 4), ('1412', 1), ('1427', 2), ('1428', 2), ('1429', 1), ('1433', 2), ('1435', 2), ('1445', 3), ('1453', 1), ('1454', 2), ('1468', 1), ('1471', 1), ('1473', 1), ('1482', 1), ('1484', 1), ('1487', 2), ('1496', 2), ('1503', 3), ('1506', 2), ('1515', 1), ('1516', 1), ('1517', 2), ('1518', 1), ('1525', 2), ('1526', 1), ('1528', 1), ('1533', 1), ('1542', 1), ('1543', 7), ('1545', 1), ('1550', 1), ('1551', 1), ('1553', 1), ('1554', 2), ('1566', 1), ('1571', 1), ('1590', 2), ('1591', 2), ('1592', 1), ('1595', 2), ('1602', 3), ('1605', 1), ('1608', 1), ('1609', 1), ('1610', 1), ('1615', 1), ('1616', 1), ('1621', 2), ('1627', 1), ('1628', 1), ('1630', 1), ('1631', 1), ('1641', 1), ('1642', 2), ('1652', 2), ('1654', 5), ('1658', 1), ('1659', 2), ('1664', 2), ('1670', 1), ('1671', 1), ('1677', 1), ('1678', 2), ('1680', 4), ('1682', 1), ('1686', 3), ('1691', 1), ('1697', 2), ('1698', 1), ('1700', 2), ('1703', 1), ('1711', 1), ('1720', 1), ('1723', 1), ('1726', 1), ('1735', 4), ('1741', 3), ('1742', 3), ('1745', 1), ('1747', 2), ('1750', 1), ('1751', 1), ('1754', 2), ('1764', 3), ('1769', 2), ('1771', 9), ('1792', 1), ('1805', 1), ('1808', 1), ('1809', 3), ('1826', 1), ('1829', 2), ('1834', 3), ('1843', 2), ('1844', 4), ('1845', 2), ('1846', 2), ('1854', 1), ('1868', 1), ('1870', 1), ('1885', 2), ('1889', 1), ('1890', 2), ('1891', 2), ('1892', 1), ('1901', 2), ('1902', 1), ('1905', 1), ('1906', 1), ('1908', 3), ('1912', 1), ('1916', 1), ('1926', 1), ('1927', 2), ('1929', 2), ('1933', 1), ('1936', 1), ('1939', 2), ('1945', 1), ('1946', 1), ('1949', 1), ('1951', 4), ('1962', 2), ('1976', 1), ('1978', 1), ('1997', 1), ('2003', 4), ('2004', 4), ('2016', 1), ('2020', 1), ('2034', 1), ('2036', 1), ('2053', 1), ('2054', 4), ('2062', 4), ('2065', 1), ('2078', 1), ('2079', 1), ('2091', 1), ('2095', 2), ('2096', 2), ('2105', 5), ('2106', 2), ('2113', 1), ('2130', 1), ('2144', 1), ('2147', 1), ('2151', 1), ('2152', 1), ('2153', 2), ('2163', 1), ('2180', 2), ('2181', 6), ('2186', 1), ('2187', 4), ('2188', 2), ('2189', 1), ('2194', 2), ('2196', 5), ('2197', 2), ('2201', 2), ('2209', 2), ('2211', 3), ('2215', 1), ('2220', 2), ('2221', 1), ('2232', 1), ('2233', 1), ('2245', 1), ('2249', 2), ('2250', 1), ('2255', 1), ('2261', 1), ('2262', 2), ('2267', 1), ('2268', 2), ('2273', 1), ('2276', 1), ('2277', 1), ('2285', 2), ('2286', 1), ('2287', 1), ('2297', 1), ('2300', 3), ('2303', 1), ('2304', 2), ('2306', 1), ('2308', 2), ('2309', 2), ('2310', 4), ('2317', 1), ('2318', 3), ('2319', 1), ('2321', 1), ('2322', 2), ('2325', 1), ('2326', 2), ('2329', 1), ('2339', 2), ('2343', 1), ('2357', 1), ('2367', 2), ('2368', 2), ('2370', 2), ('2371', 2), ('2377', 1), ('2378', 3), ('2379', 1), ('2383', 3), ('2387', 1), ('2389', 1), ('2390', 4), ('2396', 1), ('2402', 1), ('2406', 2), ('2423', 1), ('2426', 1), ('2447', 1), ('2453', 2), ('2478', 1), ('2479', 2), ('2481', 1), ('2485', 5), ('2486', 2), ('2490', 1), ('2494', 3), ('2496', 1), ('2501', 2), ('2502', 1), ('2503', 1), ('2504', 1), ('2516', 1), ('2517', 1), ('2519', 2), ('2522', 2), ('2527', 1), ('2535', 7), ('2536', 1), ('2538', 3), ('2541', 1), ('2547', 2), ('2553', 1), ('2555', 1), ('2560', 2), ('2569', 2), ('2573', 1), ('2580', 4), ('2589', 1), ('2592', 1), ('2593', 3), ('2598', 2), ('2620', 1), ('2621', 1), ('2622', 3), ('2624', 3), ('2625', 1), ('2631', 1), ('2634', 1), ('2643', 1), ('2645', 1), ('2646', 1), ('2663', 1), ('2667', 1), ('2674', 2), ('2675', 1), ('2687', 1), ('2710', 1), ('2715', 1), ('2718', 1), ('2727', 1), ('2735', 1), ('2739', 2), ('2742', 1), ('2751', 2), ('2753', 1), ('2755', 1), ('2771', 1), ('2776', 2), ('2785', 2), ('2802', 1), ('2812', 5), ('2813', 2), ('2818', 1), ('2820', 2), ('2823', 3), ('2825', 1), ('2828', 1), ('2829', 1), ('2841', 1), ('2847', 1), ('2849', 2), ('2852', 5), ('2856', 1), ('2859', 1), ('2861', 1), ('2869', 1), ('2870', 1), ('2871', 1), ('2872', 1), ('2875', 1), ('2878', 2), ('2879', 1), ('2881', 2), ('2893', 3), ('2894', 3), ('2899', 5), ('2902', 1), ('2913', 1), ('2918', 1), ('2919', 2), ('2924', 2), ('2930', 3), ('2935', 1), ('2947', 1), ('2948', 2), ('2949', 4), ('2951', 1), ('2959', 1), ('2962', 2), ('2966', 1), ('2967', 2), ('2969', 4), ('2971', 1), ('2973', 1), ('2977', 2), ('2984', 1), ('2985', 4), ('2988', 2), ('2996', 1), ('2999', 2), ('3003', 2), ('3010', 3), ('3012', 1), ('3019', 1), ('3022', 2), ('3024', 3), ('3026', 2), ('3027', 1), ('3028', 2), ('3029', 1), ('3032', 2), ('3036', 2), ('3038', 1), ('3046', 1), ('3049', 1), ('3050', 4), ('3052', 1), ('3066', 1), ('3068', 1), ('3070', 2), ('3072', 2), ('3076', 1), ('3077', 1), ('3078', 4), ('3088', 1), ('3090', 1), ('3091', 2), ('3097', 1), ('3098', 1), ('3107', 1), ('3112', 1), ('3116', 1), ('3117', 5), ('3122', 1), ('3123', 1), ('3129', 1), ('3130', 6), ('3136', 4), ('3140', 1), ('3142', 1), ('3150', 1), ('3153', 1), ('3154', 1), ('3160', 4), ('3161', 1), ('3165', 1), ('3173', 1), ('3176', 1), ('3182', 1), ('3192', 1), ('3193', 1), ('3195', 1), ('3197', 1), ('3200', 1), ('3202', 2), ('3204', 2)]]\n",
      "sample tf index for examples: [[('111', 1), ('320', 1), ('644', 1), ('691', 1), ('727', 1), ('848', 1), ('892', 1), ('893', 1), ('1049', 1), ('1051', 1), ('1154', 1), ('1188', 1), ('1196', 1), ('1259', 1), ('1267', 1), ('1288', 1), ('1348', 1), ('1358', 1), ('1369', 1), ('1386', 1), ('1392', 1), ('1456', 1), ('1470', 1), ('1485', 1), ('1505', 1), ('1524', 1), ('1588', 1), ('1614', 1), ('1624', 1), ('1651', 1), ('1673', 1), ('1681', 1), ('1739', 1), ('1743', 1), ('1747', 1), ('1787', 1), ('1806', 1), ('1827', 1), ('1834', 1), ('1854', 1), ('1855', 1), ('1856', 1), ('1860', 1), ('1890', 1), ('1929', 1), ('1977', 1), ('1989', 1), ('2060', 1), ('2092', 1), ('2094', 1), ('2113', 1), ('2125', 1), ('2152', 1), ('2202', 1), ('2204', 1), ('2208', 1), ('2254', 1), ('2338', 1), ('2356', 2), ('2367', 1), ('2396', 2), ('2436', 1), ('2457', 1), ('2514', 1), ('2544', 1), ('2546', 1), ('2597', 1), ('2604', 1), ('2645', 1), ('2646', 1), ('2701', 1), ('2720', 1), ('2722', 2), ('2738', 1), ('2749', 1), ('2816', 1), ('2829', 1), ('2851', 1), ('2864', 1), ('2866', 1), ('2876', 1), ('2907', 1), ('2913', 1), ('2914', 1), ('2922', 1), ('2931', 1), ('2932', 1), ('2939', 1), ('2946', 1), ('2958', 1), ('2959', 1), ('2980', 1), ('2987', 1), ('3004', 1), ('3006', 1), ('3014', 1), ('3043', 1), ('3071', 1), ('3080', 2), ('3087', 2), ('3088', 1), ('3100', 2), ('3101', 1), ('3115', 1), ('3120', 1), ('3121', 1), ('3128', 1), ('3134', 1), ('3163', 1), ('3175', 1)]]\n"
     ]
    }
   ],
   "source": [
    "##### Function check\n",
    "\n",
    "assert isinstance(tf_index_1, dict)\n",
    "\n",
    "assert isinstance(tf_index_1['computer'], list)\n",
    "print('sample tf index for computer:', tf_index_1['computer'][:10])\n",
    "\n",
    "assert isinstance(tf_index_1['examples'], list)\n",
    "print('sample tf index for examples:', tf_index_1['examples'][:10])\n",
    "#### "
   ]
  },
  {
   "cell_type": "code",
   "execution_count": 22,
   "metadata": {
    "deletable": false,
    "editable": false,
    "nbgrader": {
     "cell_type": "code",
     "checksum": "d49b8ac36815d9a5cb4bed838ab53a50",
     "grade": true,
     "grade_id": "cell-ff06bd11204db250",
     "locked": true,
     "points": 5,
     "schema_version": 3,
     "solution": false,
     "task": false
    }
   },
   "outputs": [
    {
     "name": "stdout",
     "output_type": "stream",
     "text": [
      "sample tf index for computer: [[('4', 1), ('7', 1), ('10', 1), ('13', 1), ('19', 1), ('22', 1), ('23', 1), ('37', 1), ('40', 3), ('41', 1), ('44', 1), ('48', 1), ('57', 1), ('58', 2), ('63', 2), ('68', 1), ('71', 3), ('80', 1), ('82', 1), ('90', 1), ('92', 1), ('93', 3), ('95', 1), ('96', 2), ('104', 1), ('106', 2), ('123', 1), ('124', 1), ('143', 1), ('144', 1), ('146', 1), ('173', 1), ('175', 1), ('185', 1), ('188', 1), ('192', 1), ('202', 1), ('217', 1), ('218', 1), ('236', 2), ('237', 1), ('242', 1), ('251', 1), ('252', 2), ('254', 1), ('274', 1), ('276', 1), ('278', 3), ('282', 1), ('300', 1), ('303', 1), ('320', 1), ('322', 4), ('323', 1), ('331', 1), ('361', 1), ('409', 1), ('417', 5), ('436', 1), ('439', 1), ('461', 1), ('462', 1), ('464', 2), ('482', 1), ('488', 1), ('489', 1), ('491', 1), ('495', 2), ('496', 1), ('525', 1), ('530', 1), ('531', 1), ('557', 1), ('558', 2), ('561', 1), ('585', 1), ('595', 2), ('605', 1), ('617', 1), ('619', 1), ('644', 2), ('671', 1), ('675', 1), ('678', 6), ('681', 1), ('695', 2), ('698', 3), ('725', 1), ('726', 1), ('728', 3), ('756', 1), ('758', 2), ('794', 1), ('796', 3), ('799', 1), ('824', 1), ('825', 1), ('828', 1), ('829', 1), ('851', 1), ('854', 1), ('858', 1), ('859', 1), ('860', 1), ('865', 1), ('893', 1), ('931', 1), ('940', 3), ('962', 2), ('963', 2), ('964', 1), ('971', 1), ('972', 2), ('974', 1), ('997', 1), ('998', 1), ('1000', 1), ('1001', 3), ('1002', 1), ('1003', 5), ('1008', 2), ('1009', 1), ('1010', 1), ('1013', 1), ('1014', 2), ('1026', 1), ('1030', 4), ('1033', 1), ('1046', 1), ('1051', 1), ('1066', 5), ('1071', 4), ('1073', 1), ('1083', 2), ('1088', 2), ('1089', 1), ('1098', 2), ('1099', 3), ('1100', 1), ('1101', 1), ('1103', 1), ('1108', 2), ('1112', 1), ('1113', 2), ('1114', 1), ('1116', 2), ('1134', 1), ('1144', 3), ('1145', 1), ('1155', 1), ('1159', 2), ('1160', 1), ('1166', 1), ('1169', 2), ('1172', 5), ('1179', 1), ('1181', 1), ('1183', 2), ('1184', 1), ('1188', 5), ('1195', 1), ('1196', 2), ('1197', 1), ('1199', 2), ('1200', 1), ('1205', 1), ('1206', 1), ('1208', 1), ('1214', 2), ('1235', 1), ('1237', 1), ('1247', 2), ('1248', 1), ('1252', 1), ('1257', 1), ('1259', 1), ('1260', 2), ('1261', 1), ('1265', 1), ('1270', 2), ('1272', 2), ('1281', 3), ('1305', 2), ('1306', 3), ('1307', 2), ('1308', 1), ('1309', 2), ('1315', 2), ('1323', 1), ('1324', 1), ('1325', 3), ('1326', 2), ('1327', 3), ('1329', 1), ('1330', 1), ('1334', 1), ('1341', 2), ('1345', 1), ('1347', 1), ('1348', 1), ('1354', 2), ('1365', 1), ('1366', 6), ('1368', 1), ('1382', 1), ('1383', 2), ('1384', 3), ('1385', 5), ('1388', 1), ('1391', 1), ('1394', 2), ('1409', 4), ('1412', 1), ('1427', 2), ('1428', 2), ('1429', 1), ('1433', 2), ('1435', 2), ('1445', 3), ('1453', 1), ('1454', 2), ('1468', 1), ('1471', 1), ('1473', 1), ('1482', 1), ('1484', 1), ('1487', 2), ('1496', 2), ('1503', 3), ('1506', 2), ('1515', 1), ('1516', 1), ('1517', 2), ('1518', 1), ('1525', 2), ('1526', 1), ('1528', 1), ('1533', 1), ('1542', 1), ('1543', 7), ('1545', 1), ('1550', 1), ('1551', 1), ('1553', 1), ('1554', 2), ('1566', 1), ('1571', 1), ('1590', 2), ('1591', 2), ('1592', 1), ('1595', 2), ('1602', 3), ('1605', 1), ('1608', 1), ('1609', 1), ('1610', 1), ('1615', 1), ('1616', 1), ('1621', 2), ('1627', 1), ('1628', 1), ('1630', 1), ('1631', 1), ('1641', 1), ('1642', 2), ('1652', 2), ('1654', 5), ('1658', 1), ('1659', 2), ('1664', 2), ('1670', 1), ('1671', 1), ('1677', 1), ('1678', 2), ('1680', 4), ('1682', 1), ('1686', 3), ('1691', 1), ('1697', 2), ('1698', 1), ('1700', 2), ('1703', 1), ('1711', 1), ('1720', 1), ('1723', 1), ('1726', 1), ('1735', 4), ('1741', 3), ('1742', 3), ('1745', 1), ('1747', 2), ('1750', 1), ('1751', 1), ('1754', 2), ('1764', 3), ('1769', 2), ('1771', 9), ('1792', 1), ('1805', 1), ('1808', 1), ('1809', 3), ('1826', 1), ('1829', 2), ('1834', 3), ('1843', 2), ('1844', 4), ('1845', 2), ('1846', 2), ('1854', 1), ('1868', 1), ('1870', 1), ('1885', 2), ('1889', 1), ('1890', 2), ('1891', 2), ('1892', 1), ('1901', 2), ('1902', 1), ('1905', 1), ('1906', 1), ('1908', 3), ('1912', 1), ('1916', 1), ('1926', 1), ('1927', 2), ('1929', 2), ('1933', 1), ('1936', 1), ('1939', 2), ('1945', 1), ('1946', 1), ('1949', 1), ('1951', 4), ('1962', 2), ('1976', 1), ('1978', 1), ('1997', 1), ('2003', 4), ('2004', 4), ('2016', 1), ('2020', 1), ('2034', 1), ('2036', 1), ('2053', 1), ('2054', 4), ('2062', 4), ('2065', 1), ('2078', 1), ('2079', 1), ('2091', 1), ('2095', 2), ('2096', 2), ('2105', 5), ('2106', 2), ('2113', 1), ('2130', 1), ('2144', 1), ('2147', 1), ('2151', 1), ('2152', 1), ('2153', 2), ('2163', 1), ('2180', 2), ('2181', 6), ('2186', 1), ('2187', 4), ('2188', 2), ('2189', 1), ('2194', 2), ('2196', 5), ('2197', 2), ('2201', 2), ('2209', 2), ('2211', 3), ('2215', 1), ('2220', 2), ('2221', 1), ('2232', 1), ('2233', 1), ('2245', 1), ('2249', 2), ('2250', 1), ('2255', 1), ('2261', 1), ('2262', 2), ('2267', 1), ('2268', 2), ('2273', 1), ('2276', 1), ('2277', 1), ('2285', 2), ('2286', 1), ('2287', 1), ('2297', 1), ('2300', 3), ('2303', 1), ('2304', 2), ('2306', 1), ('2308', 2), ('2309', 2), ('2310', 4), ('2317', 1), ('2318', 3), ('2319', 1), ('2321', 1), ('2322', 2), ('2325', 1), ('2326', 2), ('2329', 1), ('2339', 2), ('2343', 1), ('2357', 1), ('2367', 2), ('2368', 2), ('2370', 2), ('2371', 2), ('2377', 1), ('2378', 3), ('2379', 1), ('2383', 3), ('2387', 1), ('2389', 1), ('2390', 4), ('2396', 1), ('2402', 1), ('2406', 2), ('2423', 1), ('2426', 1), ('2447', 1), ('2453', 2), ('2478', 1), ('2479', 2), ('2481', 1), ('2485', 5), ('2486', 2), ('2490', 1), ('2494', 3), ('2496', 1), ('2501', 2), ('2502', 1), ('2503', 1), ('2504', 1), ('2516', 1), ('2517', 1), ('2519', 2), ('2522', 2), ('2527', 1), ('2535', 7), ('2536', 1), ('2538', 3), ('2541', 1), ('2547', 2), ('2553', 1), ('2555', 1), ('2560', 2), ('2569', 2), ('2573', 1), ('2580', 4), ('2589', 1), ('2592', 1), ('2593', 3), ('2598', 2), ('2620', 1), ('2621', 1), ('2622', 3), ('2624', 3), ('2625', 1), ('2631', 1), ('2634', 1), ('2643', 1), ('2645', 1), ('2646', 1), ('2663', 1), ('2667', 1), ('2674', 2), ('2675', 1), ('2687', 1), ('2710', 1), ('2715', 1), ('2718', 1), ('2727', 1), ('2735', 1), ('2739', 2), ('2742', 1), ('2751', 2), ('2753', 1), ('2755', 1), ('2771', 1), ('2776', 2), ('2785', 2), ('2802', 1), ('2812', 5), ('2813', 2), ('2818', 1), ('2820', 2), ('2823', 3), ('2825', 1), ('2828', 1), ('2829', 1), ('2841', 1), ('2847', 1), ('2849', 2), ('2852', 5), ('2856', 1), ('2859', 1), ('2861', 1), ('2869', 1), ('2870', 1), ('2871', 1), ('2872', 1), ('2875', 1), ('2878', 2), ('2879', 1), ('2881', 2), ('2893', 3), ('2894', 3), ('2899', 5), ('2902', 1), ('2913', 1), ('2918', 1), ('2919', 2), ('2924', 2), ('2930', 3), ('2935', 1), ('2947', 1), ('2948', 2), ('2949', 4), ('2951', 1), ('2959', 1), ('2962', 2), ('2966', 1), ('2967', 2), ('2969', 4), ('2971', 1), ('2973', 1), ('2977', 2), ('2984', 1), ('2985', 4), ('2988', 2), ('2996', 1), ('2999', 2), ('3003', 2), ('3010', 3), ('3012', 1), ('3019', 1), ('3022', 2), ('3024', 3), ('3026', 2), ('3027', 1), ('3028', 2), ('3029', 1), ('3032', 2), ('3036', 2), ('3038', 1), ('3046', 1), ('3049', 1), ('3050', 4), ('3052', 1), ('3066', 1), ('3068', 1), ('3070', 2), ('3072', 2), ('3076', 1), ('3077', 1), ('3078', 4), ('3088', 1), ('3090', 1), ('3091', 2), ('3097', 1), ('3098', 1), ('3107', 1), ('3112', 1), ('3116', 1), ('3117', 5), ('3122', 1), ('3123', 1), ('3129', 1), ('3130', 6), ('3136', 4), ('3140', 1), ('3142', 1), ('3150', 1), ('3153', 1), ('3154', 1), ('3160', 4), ('3161', 1), ('3165', 1), ('3173', 1), ('3176', 1), ('3182', 1), ('3192', 1), ('3193', 1), ('3195', 1), ('3197', 1), ('3200', 1), ('3202', 2), ('3204', 2)]]\n",
      "sample tf index for examples: []\n"
     ]
    }
   ],
   "source": [
    "##### Function check\n",
    "\n",
    "assert isinstance(tf_index_2, dict)\n",
    "\n",
    "assert isinstance(tf_index_2['computer'], list)\n",
    "print('sample tf index for computer:', tf_index_1['computer'][:10])\n",
    "\n",
    "assert isinstance(tf_index_2['examples'], list)\n",
    "print('sample tf index for examples:', tf_index_2['examples'][:10])\n",
    "#### "
   ]
  },
  {
   "cell_type": "markdown",
   "metadata": {
    "deletable": false,
    "editable": false,
    "nbgrader": {
     "cell_type": "markdown",
     "checksum": "880b2ef3ca405f2af6e0667d2dc7a600",
     "grade": false,
     "grade_id": "cell-89eba71f04310291",
     "locked": true,
     "schema_version": 3,
     "solution": false,
     "task": false
    }
   },
   "source": [
    "\n",
    "---\n",
    "## Section 3: Ranking  (80 points) <a class=\"anchor\" id=\"ranking\"></a>\n",
    "\n",
    "[Back to Part 1](#part1)\n",
    "\n",
    "Now that we have cleaned and processed our dataset, we can start building simple IR systems. \n",
    "\n",
    "For now, we consider *simple* IR systems, which involve computing scores from the tokens present in the document/query. More advanced methods are covered in later assignments.\n",
    "\n",
    "We will implement the following methods in this section:\n",
    "- [Section 3.1: Bag of Words](#bow) (10 points)\n",
    "- [Section 3.2: TF-IDF](#tfidf) (15 points)\n",
    "- [Section 3.3: Query Likelihood Model](#qlm) (35 points)\n",
    "- [Section 3.4: BM25](#bm25) (20 points)\n",
    "\n",
    "*All search functions should be able to handle multiple words queries.*\n",
    "\n",
    "**Scoring policy:**\n",
    "Your implementations in this section are scored based on the expected performance of your ranking functions.\n",
    "You will get a full mark if your implementation meets the expected performance (measured by some evaluation metric).\n",
    "Otherwise, you may get partial credit.\n",
    "For example, if your *Bag of words* ranking function has 60% of expected performance, you will get 6 out of 10."
   ]
  },
  {
   "cell_type": "markdown",
   "metadata": {
    "deletable": false,
    "editable": false,
    "nbgrader": {
     "cell_type": "markdown",
     "checksum": "6c74e5061917358300c6e8085ec07864",
     "grade": false,
     "grade_id": "cell-3daf70a60e393adf",
     "locked": true,
     "schema_version": 3,
     "solution": false,
     "task": false
    }
   },
   "source": [
    "--- \n",
    "\n",
    "### Section 3.1: Bag of Words (10 points)<a class=\"anchor\" id=\"bow\"></a>\n",
    "\n",
    "Probably the simplest IR model is the Bag of Words (BOW) model.\n",
    "Implement a function that scores and ranks all the documents against a query using this model.   \n",
    "\n",
    "- For consistency, you should use the count of the token and **not** the binary indicator.\n",
    "- Use `float` type for the scores (even though the scores are integers in this case).\n",
    "- No normalization of the scores is necessary, as the ordering is what we are interested in.\n",
    "- If two documents have the same score, they can have any ordering: you are not required to disambiguate.\n"
   ]
  },
  {
   "cell_type": "code",
   "execution_count": 23,
   "metadata": {
    "deletable": false,
    "nbgrader": {
     "cell_type": "code",
     "checksum": "fee4640e22bfc4f05eb958a675ef40e7",
     "grade": false,
     "grade_id": "cell-de9cf0459c4b9324",
     "locked": false,
     "schema_version": 3,
     "solution": true,
     "task": false
    }
   },
   "outputs": [],
   "source": [
    "# TODO: Implement this! (10 points)\n",
    "def bow_search(query, index_set):\n",
    "    \"\"\"\n",
    "        Perform a search over all documents with the given query. \n",
    "        Note: You have to use the `get_index` function created in the previous cells\n",
    "        Input: \n",
    "            query - a (unprocessed) query\n",
    "            index_set - the index to use\n",
    "        Output: a list of (document_id, score), sorted in descending relevance to the given query. \n",
    "    \"\"\"\n",
    "    index = get_index(index_set)\n",
    "    processed_query = preprocess_query(query, index_set)\n",
    "        \n",
    "    # YOUR CODE HERE\n",
    "\n",
    "    # one list with all the tuples\n",
    "    total = [index[word] for word in processed_query]\n",
    "    all_tuples = [tup for word in total for tuples in word for tup in tuples]\n",
    "    \n",
    "    score = dict()\n",
    "    \n",
    "    for tup in all_tuples:\n",
    "        if tup[0] not in score:\n",
    "            # {doc_id: score} \n",
    "            score[tup[0]] = float(tup[1])\n",
    "        else:\n",
    "            # update the score\n",
    "            score[tup[0]] += float(tup[1])\n",
    "\n",
    "    return sorted(score.items(), key=lambda s: s[1], reverse=True)\n"
   ]
  },
  {
   "cell_type": "code",
   "execution_count": 24,
   "metadata": {
    "deletable": false,
    "editable": false,
    "nbgrader": {
     "cell_type": "code",
     "checksum": "613524fbbf02b1d122c6611a71fbf11b",
     "grade": true,
     "grade_id": "cell-9f6aceae6dd9125f",
     "locked": true,
     "points": 2,
     "schema_version": 3,
     "solution": false,
     "task": false
    }
   },
   "outputs": [],
   "source": [
    "#### Function check\n",
    "\n",
    "test_bow = bow_search(\"how to implement bag of words search\", index_set=1)[:5]\n",
    "assert isinstance(test_bow, list)\n",
    "assert len(test_bow[0]) == 2\n",
    "assert isinstance(test_bow[0][0], str)\n",
    "assert isinstance(test_bow[0][1], float)\n",
    "\n",
    "#### "
   ]
  },
  {
   "cell_type": "code",
   "execution_count": 25,
   "metadata": {
    "deletable": false,
    "editable": false,
    "nbgrader": {
     "cell_type": "code",
     "checksum": "9af20897659edb62fe77598483590500",
     "grade": true,
     "grade_id": "cell-4eed3abf233d9b58",
     "locked": true,
     "points": 2,
     "schema_version": 3,
     "solution": false,
     "task": false
    }
   },
   "outputs": [
    {
     "name": "stdout",
     "output_type": "stream",
     "text": [
      "BOW Results:\n",
      "Rank 0(1.3e+01): On Computing The Fast Fourier Transform\\nCooley an...\n",
      "Rank 1(1.2e+01): Variable Length Tree Structures Having Minimum Ave...\n",
      "Rank 2(1.1e+01): A Modular Computer Sharing System\\nAn alternative ...\n",
      "Rank 3(1e+01): PEEKABIT, Computer Offspring of Punched\\nCard PEEK...\n",
      "Rank 4(9.0): Computer Simulation-Discussion of the\\nTechnique a...\n"
     ]
    }
   ],
   "source": [
    "\n",
    "docs_by_id = dict(docs)\n",
    "def print_results(docs, len_limit=50):    \n",
    "    for i, (doc_id, score) in enumerate(docs):\n",
    "        doc_content = docs_by_id[doc_id].strip().replace(\"\\n\", \"\\\\n\")[:len_limit] + \"...\"\n",
    "        print(f\"Rank {i}({score:.2}): {doc_content}\")\n",
    "\n",
    "test_bow_2 = bow_search(\"computer search word\", index_set=2)[:5]\n",
    "print(f\"BOW Results:\")\n",
    "print_results(test_bow_2)\n"
   ]
  },
  {
   "cell_type": "code",
   "execution_count": 26,
   "metadata": {
    "deletable": false,
    "editable": false,
    "nbgrader": {
     "cell_type": "code",
     "checksum": "3c9c8b16c8e7d1032f101e9da8a6e845",
     "grade": true,
     "grade_id": "cell-4d65a2d7090c466c",
     "locked": true,
     "points": 3,
     "schema_version": 3,
     "solution": false,
     "task": false
    }
   },
   "outputs": [
    {
     "name": "stdout",
     "output_type": "stream",
     "text": [
      "BOW Results:\n",
      "Rank 0(9.0): CURRICULUM 68 -- Recommendations for Academic\\nPro...\n",
      "Rank 1(9.0): Variable Length Tree Structures Having Minimum Ave...\n",
      "Rank 2(7.0): Computer Formulation of the Equations of Motion Us...\n",
      "Rank 3(7.0): The Effects of Multiplexing on a Computer-Communic...\n",
      "Rank 4(6.0): Optimizing Bit-time Computer Simulation\\nA major c...\n"
     ]
    }
   ],
   "source": [
    "\n",
    "test_bow_1 = bow_search(\"computer search word\", index_set=1)[:5]\n",
    "print(f\"BOW Results:\")\n",
    "print_results(test_bow_1)\n"
   ]
  },
  {
   "cell_type": "code",
   "execution_count": 27,
   "metadata": {
    "deletable": false,
    "editable": false,
    "nbgrader": {
     "cell_type": "code",
     "checksum": "b7e593847aa4202ae45ec061fb18ad73",
     "grade": true,
     "grade_id": "cell-dedf36ab5853ce20",
     "locked": true,
     "points": 3,
     "schema_version": 3,
     "solution": false,
     "task": false
    }
   },
   "outputs": [
    {
     "name": "stdout",
     "output_type": "stream",
     "text": [
      "top-5 docs for index1: ('1771', '1936', '1543', '2535', '678')\n",
      "top-5 docs for index2: ('1525', '1936', '1844', '1700', '1366')\n"
     ]
    }
   ],
   "source": [
    "print('top-5 docs for index1:', list(zip(*test_bow_1[:5]))[0])\n",
    "print('top-5 docs for index2:', list(zip(*test_bow_2[:5]))[0])\n"
   ]
  },
  {
   "cell_type": "markdown",
   "metadata": {
    "deletable": false,
    "editable": false,
    "nbgrader": {
     "cell_type": "markdown",
     "checksum": "b04352ee0716dfdf094b8cdb6f32e984",
     "grade": false,
     "grade_id": "cell-a5c09c79ac1f2871",
     "locked": true,
     "schema_version": 3,
     "solution": false,
     "task": false
    }
   },
   "source": [
    "\n",
    "---\n",
    "\n",
    "### Section 3.2: TF-IDF (15 points) <a class=\"anchor\" id=\"tfidf\"></a>\n",
    "\n",
    "Before we implement the tf-idf scoring functions, let's first write a function to compute the document frequencies of all words.  \n",
    "\n",
    "#### 3.2.1 Document frequency (5 points)\n",
    "Compute the document frequencies of all tokens in the collection. \n",
    "Your code should return a dictionary with tokens as its keys and the number of documents containing the token as values.\n",
    "For consistency, the values should have `int` type."
   ]
  },
  {
   "cell_type": "code",
   "execution_count": 28,
   "metadata": {
    "deletable": false,
    "nbgrader": {
     "cell_type": "code",
     "checksum": "5c53263cf4c0b0ffcaae08b91fc364cc",
     "grade": false,
     "grade_id": "cell-9a2369f32e864b8a",
     "locked": false,
     "schema_version": 3,
     "solution": true,
     "task": false
    }
   },
   "outputs": [],
   "source": [
    "# TODO: Implement this! (5 points)\n",
    "def compute_df(documents):\n",
    "    \"\"\"\n",
    "        Compute the document frequency of all terms in the vocabulary\n",
    "        Input: A list of documents\n",
    "        Output: A dictionary with {token: document frequency (int)}\n",
    "    \"\"\"\n",
    "    # YOUR CODE HERE\n",
    "    \n",
    "    df = defaultdict(int)\n",
    "    \n",
    "    for document in documents:\n",
    "        # deal with duplicates\n",
    "        for word in set(document):\n",
    "            if word not in df:\n",
    "                df[word] = 1\n",
    "            else:\n",
    "                df[word] += 1\n",
    "                \n",
    "    return df\n"
   ]
  },
  {
   "cell_type": "code",
   "execution_count": 29,
   "metadata": {
    "deletable": false,
    "editable": false,
    "nbgrader": {
     "cell_type": "code",
     "checksum": "154985511d7925c5793a1f97dea81880",
     "grade": false,
     "grade_id": "cell-4c3bddd0b73ac90e",
     "locked": true,
     "schema_version": 3,
     "solution": false,
     "task": false
    }
   },
   "outputs": [],
   "source": [
    "#### Compute df based on the two configs\n",
    "\n",
    "# get the document frequencies of each document\n",
    "df_1 = compute_df([d[1] for d in doc_repr_1])\n",
    "df_2 = compute_df([d[1] for d in doc_repr_2])\n",
    "\n",
    "def get_df(index_set):\n",
    "    assert index_set in {1, 2}\n",
    "    return {\n",
    "        1: df_1,\n",
    "        2: df_2\n",
    "    }[index_set]\n",
    "####"
   ]
  },
  {
   "cell_type": "code",
   "execution_count": 30,
   "metadata": {
    "deletable": false,
    "editable": false,
    "nbgrader": {
     "cell_type": "code",
     "checksum": "110cc180068cf3f77c682ee3de2a117c",
     "grade": true,
     "grade_id": "cell-79e8a6db1e5fc46f",
     "locked": true,
     "points": 5,
     "schema_version": 3,
     "solution": false,
     "task": false
    }
   },
   "outputs": [
    {
     "name": "stdout",
     "output_type": "stream",
     "text": [
      "597\n",
      "11\n"
     ]
    }
   ],
   "source": [
    "#### Function check\n",
    "\n",
    "print(df_1['computer'])\n",
    "print(df_2['computer'])\n",
    "####"
   ]
  },
  {
   "cell_type": "markdown",
   "metadata": {
    "deletable": false,
    "editable": false,
    "nbgrader": {
     "cell_type": "markdown",
     "checksum": "d0d577668fa51b80aeab6e67209ae73b",
     "grade": false,
     "grade_id": "cell-52f6acc487e1b96d",
     "locked": true,
     "schema_version": 3,
     "solution": false,
     "task": false
    }
   },
   "source": [
    "---\n",
    "#### 3.2.2 TF-IDF search (10 points)\n",
    "Next, implement a function that computes a tf-idf score, given a query.\n",
    "Use the following formulas for TF and IDF:\n",
    "\n",
    "$$ TF=\\log (1 + f_{d,t}) $$\n",
    "\n",
    "$$ IDF=\\log (\\frac{N}{n_t})$$\n",
    "\n",
    "where $f_{d,t}$ is the frequency of token $t$ in document $d$, $N$ is the number of total documents and $n_t$ is the number of documents containing token $t$.\n",
    "\n",
    "**Note:** your implementation will be auto-graded assuming you have used the above formulas.\n"
   ]
  },
  {
   "cell_type": "code",
   "execution_count": 31,
   "metadata": {
    "deletable": false,
    "nbgrader": {
     "cell_type": "code",
     "checksum": "3534c44b4a3419ca1db98eebe7115dc1",
     "grade": false,
     "grade_id": "cell-2fb5ba34b2994cd9",
     "locked": false,
     "schema_version": 3,
     "solution": true,
     "task": false
    }
   },
   "outputs": [],
   "source": [
    "# TODO: Implement this! (10 points)\n",
    "def tfidf_search(query, index_set):\n",
    "    \"\"\"\n",
    "        Perform a search over all documents with the given query using tf-idf. \n",
    "        Note #1: You have to use the `get_index` (and the `get_df`) function created in the previous cells\n",
    "        Input: \n",
    "            query - a (unprocessed) query\n",
    "            index_set - the index to use\n",
    "        Output: a list of (document_id, score), sorted in descending relevance to the given query \n",
    "    \"\"\"\n",
    "    index = get_index(index_set)\n",
    "    df = get_df(index_set)\n",
    "    processed_query = preprocess_query(query, index_set)\n",
    "    \n",
    "    N = len(docs)\n",
    "    \n",
    "    # YOUR CODE HERE\n",
    "    \n",
    "    def tf_idf(tf, df, N):\n",
    "        \"\"\"\n",
    "            Returns a list with doc_ids and tf-idfs per word as a tuple\n",
    "        \"\"\"\n",
    "        try:\n",
    "            tf_idf = [(tup[0], np.log(1 + tup[1]) * np.log(N/df)) for tup in tf[0]]\n",
    "        except:\n",
    "            # the function cannot handle empty lists\n",
    "            tf_idf = []\n",
    "\n",
    "        return tf_idf\n",
    " \n",
    "    # a list with lists containing tuples (doc_id, tf_idf)\n",
    "    score_temp = [tf_idf(index[word], df[word], N) for word in processed_query]\n",
    "  \n",
    "    # ensure that the final list is N long\n",
    "    score = {doc[0]:float(0) for doc in docs}\n",
    "    \n",
    "    for tup_list in score_temp:\n",
    "        for tup in tup_list:\n",
    "            if tup[0] in score:\n",
    "                # this is basically the sum part for the score\n",
    "                score[tup[0]] += tup[1]\n",
    "    \n",
    "    return sorted(score.items(), key=lambda s: s[1], reverse=True)"
   ]
  },
  {
   "cell_type": "code",
   "execution_count": 32,
   "metadata": {
    "deletable": false,
    "editable": false,
    "nbgrader": {
     "cell_type": "code",
     "checksum": "7b66a514663d898694b09a23a597312b",
     "grade": true,
     "grade_id": "cell-bc68aeeacf42beb3",
     "locked": true,
     "points": 2,
     "schema_version": 3,
     "solution": false,
     "task": false
    }
   },
   "outputs": [],
   "source": [
    "\n",
    "#### Function check\n",
    "test_tfidf = tfidf_search(\"how to implement tf idf search\", index_set=1)[:5]\n",
    "assert isinstance(test_tfidf, list)\n",
    "assert len(test_tfidf[0]) == 2\n",
    "assert isinstance(test_tfidf[0][0], str)\n",
    "assert isinstance(test_tfidf[0][1], float)\n",
    "\n",
    "####"
   ]
  },
  {
   "cell_type": "code",
   "execution_count": 33,
   "metadata": {
    "deletable": false,
    "editable": false,
    "nbgrader": {
     "cell_type": "code",
     "checksum": "98fb1326cf4bf7983ae237ca8a9105f9",
     "grade": true,
     "grade_id": "cell-c7702fa8179fadb9",
     "locked": true,
     "points": 2,
     "schema_version": 3,
     "solution": false,
     "task": false
    }
   },
   "outputs": [
    {
     "name": "stdout",
     "output_type": "stream",
     "text": [
      "TFIDF Results:\n",
      "Rank 0(1.3e+01): PEEKABIT, Computer Offspring of Punched\\nCard PEEK...\n",
      "Rank 1(9.8): Variable Length Tree Structures Having Minimum Ave...\n",
      "Rank 2(8.2): A Stochastic Approach to the Grammatical Coding of...\n",
      "Rank 3(8.1): Full Table Quadratic Searching for Scatter Storage...\n",
      "Rank 4(7.6): Use of Tree Structures for Processing Files\\nIn da...\n"
     ]
    }
   ],
   "source": [
    "\n",
    "test_tfidf_2 = tfidf_search(\"computer word search\", index_set=2)[:5]\n",
    "print(f\"TFIDF Results:\")\n",
    "print_results(test_tfidf_2)\n"
   ]
  },
  {
   "cell_type": "code",
   "execution_count": 34,
   "metadata": {
    "deletable": false,
    "editable": false,
    "nbgrader": {
     "cell_type": "code",
     "checksum": "733b5b67be5e53989f5b763ce5e52ee9",
     "grade": true,
     "grade_id": "cell-3284f50ac29abbaa",
     "locked": true,
     "points": 3,
     "schema_version": 3,
     "solution": false,
     "task": false
    }
   },
   "outputs": [
    {
     "name": "stdout",
     "output_type": "stream",
     "text": [
      "TFIDF Results:\n",
      "Rank 0(9.4): Variable Length Tree Structures Having Minimum Ave...\n",
      "Rank 1(7.4): On the Feasibility of Voice Input to\\nan On-line C...\n",
      "Rank 2(7.3): Median Split Trees: A Fast Lookup Technique for Fr...\n",
      "Rank 3(7.0): Execution Time Requirements for Encipherment Progr...\n",
      "Rank 4(7.0): Storage and Search Properties of a Tree-Organized ...\n"
     ]
    }
   ],
   "source": [
    "\n",
    "test_tfidf_1 = tfidf_search(\"computer word search\", index_set=1)[:5]\n",
    "print(f\"TFIDF Results:\")\n",
    "print_results(test_tfidf_1)\n"
   ]
  },
  {
   "cell_type": "code",
   "execution_count": 35,
   "metadata": {
    "deletable": false,
    "editable": false,
    "nbgrader": {
     "cell_type": "code",
     "checksum": "e0edb37a5ae807a2de85d578c87ccb78",
     "grade": true,
     "grade_id": "cell-d908c80a3155354b",
     "locked": true,
     "points": 3,
     "schema_version": 3,
     "solution": false,
     "task": false
    }
   },
   "outputs": [
    {
     "name": "stdout",
     "output_type": "stream",
     "text": [
      "top-5 docs for index1 with BOW search: ('1771', '1936', '1543', '2535', '678')\n",
      "top-5 docs for index2 with BOW search: ('1525', '1936', '1844', '1700', '1366')\n",
      "top-5 docs for index1 with TF-IDF search: ('1936', '2054', '3041', '2620', '944')\n",
      "top-5 docs for index2 with TF-IDF search: ('1700', '1936', '1235', '2018', '849')\n"
     ]
    }
   ],
   "source": [
    "\n",
    "print('top-5 docs for index1 with BOW search:', list(zip(*test_bow_1[:5]))[0])\n",
    "print('top-5 docs for index2 with BOW search:', list(zip(*test_bow_2[:5]))[0])\n",
    "print('top-5 docs for index1 with TF-IDF search:', list(zip(*test_tfidf_1[:5]))[0])\n",
    "print('top-5 docs for index2 with TF-IDF search:', list(zip(*test_tfidf_2[:5]))[0])\n",
    "\n"
   ]
  },
  {
   "cell_type": "markdown",
   "metadata": {
    "deletable": false,
    "editable": false,
    "nbgrader": {
     "cell_type": "markdown",
     "checksum": "cdffc83f0eaea937cf64a212e7e9af8d",
     "grade": false,
     "grade_id": "cell-f5d923459ba21733",
     "locked": true,
     "schema_version": 3,
     "solution": false,
     "task": false
    }
   },
   "source": [
    "--- \n",
    "\n",
    "### Section 3.3: Query Likelihood Model (35 points) <a class=\"anchor\" id=\"qlm\"></a>\n",
    "\n",
    "In this section, you will implement a simple query likelihood model. \n",
    "\n",
    "\n",
    "#### 3.3.1 Naive QL (15 points)\n",
    "\n",
    "First, let us implement a naive version of a QL model, assuming a multinomial unigram language model (with a uniform prior over the documents). \n",
    "\n"
   ]
  },
  {
   "cell_type": "code",
   "execution_count": 36,
   "metadata": {
    "deletable": false,
    "editable": false,
    "nbgrader": {
     "cell_type": "code",
     "checksum": "b7ae2b7d818b428b4638c1c9206d2aca",
     "grade": false,
     "grade_id": "cell-98505778f7b68e7f",
     "locked": true,
     "schema_version": 3,
     "solution": false,
     "task": false
    }
   },
   "outputs": [],
   "source": [
    "#### Document length for normalization\n",
    "\n",
    "def doc_lengths(documents):\n",
    "    doc_lengths = {doc_id:len(doc) for (doc_id, doc) in documents}\n",
    "    return doc_lengths\n",
    "\n",
    "doc_lengths_1 = doc_lengths(doc_repr_1)\n",
    "doc_lengths_2 = doc_lengths(doc_repr_2)\n",
    "\n",
    "def get_doc_lengths(index_set):\n",
    "    assert index_set in {1, 2}\n",
    "    return {\n",
    "        1: doc_lengths_1,\n",
    "        2: doc_lengths_2\n",
    "    }[index_set]\n",
    "####"
   ]
  },
  {
   "cell_type": "code",
   "execution_count": 261,
   "metadata": {
    "deletable": false,
    "nbgrader": {
     "cell_type": "code",
     "checksum": "cedd08303a914243fefdb6b876977ca1",
     "grade": false,
     "grade_id": "cell-8bcf2b804d636c2e",
     "locked": false,
     "schema_version": 3,
     "solution": true,
     "task": false
    }
   },
   "outputs": [],
   "source": [
    "# TODO: Implement this! (15 points)\n",
    "def naive_ql_search(query, index_set):\n",
    "    \"\"\"\n",
    "        Perform a search over all documents with the given query using a naive QL model. \n",
    "        Note #1: You have to use the `get_index` (and get_doc_lengths) function created in the previous cells\n",
    "        Input: \n",
    "            query - a (unprocessed) query\n",
    "            index_set - the index to use\n",
    "        Output: a list of (document_id, score), sorted in descending relevance to the given query \n",
    "    \"\"\"\n",
    "    index = get_index(index_set)\n",
    "    doc_lengths = get_doc_lengths(index_set)\n",
    "    processed_query = preprocess_query(query, index_set)\n",
    "    \n",
    "    # YOUR CODE HERE\n",
    "    \n",
    "    # this includes relevant and irrelevant doc_ids --> only the relevant doc_ids will be updated\n",
    "    score = {doc_id: 0 for doc_id in doc_lengths.keys()}\n",
    "    \n",
    "    for word in processed_query:  \n",
    "        # list with tuples (doc_id, tf) \n",
    "        tf_list = index[word]\n",
    "        \n",
    "        # skip all the words that are not present in index\n",
    "        if len(tf_list) != 0:           \n",
    "\n",
    "            # retrieve doc_id, tf, and dl\n",
    "            for doc_id, tf in tf_list[0]:\n",
    "                dl = doc_lengths[doc_id]\n",
    "\n",
    "                if score[doc_id] == 0:\n",
    "                    # the score can be updated with *=\n",
    "                    score[doc_id] = tf / dl\n",
    "                else:\n",
    "                    # update the scores\n",
    "                    score[doc_id] *= tf / dl  \n",
    "                \n",
    "    return sorted(score.items(), key=lambda s: s[1], reverse=True)\n"
   ]
  },
  {
   "cell_type": "code",
   "execution_count": 262,
   "metadata": {
    "deletable": false,
    "editable": false,
    "nbgrader": {
     "cell_type": "code",
     "checksum": "b550d15bdad28354c336020a00c33d56",
     "grade": true,
     "grade_id": "cell-5a83ac12ecde8578",
     "locked": true,
     "points": 3,
     "schema_version": 3,
     "solution": false,
     "task": false
    }
   },
   "outputs": [
    {
     "name": "stdout",
     "output_type": "stream",
     "text": [
      "Naive QL Results:\n",
      "Rank 0(0.2): A Report Writer For COBOL...\n",
      "Rank 1(0.2): A CRT Report Generating System...\n",
      "Rank 2(0.17): Preliminary Report-International Algebraic Languag...\n",
      "Rank 3(0.17): Supplement to the ALGOL 60 Report...\n",
      "Rank 4(0.14): ALGOL Sub-Committee Report - Extensions...\n"
     ]
    }
   ],
   "source": [
    "#### Function check\n",
    "test_naiveql = naive_ql_search(\"report\", index_set=1)[:5]\n",
    "print(f\"Naive QL Results:\")\n",
    "print_results(test_naiveql)\n",
    "####"
   ]
  },
  {
   "cell_type": "code",
   "execution_count": 263,
   "metadata": {
    "deletable": false,
    "editable": false,
    "nbgrader": {
     "cell_type": "code",
     "checksum": "799df1d81c63fe90edbb6c218fc707fb",
     "grade": true,
     "grade_id": "cell-80f4bf2137f997bb",
     "locked": true,
     "points": 2,
     "schema_version": 3,
     "solution": false,
     "task": false
    }
   },
   "outputs": [],
   "source": [
    "#### Please do not change this. This cell is used for grading."
   ]
  },
  {
   "cell_type": "code",
   "execution_count": 264,
   "metadata": {
    "deletable": false,
    "editable": false,
    "nbgrader": {
     "cell_type": "code",
     "checksum": "875a4a517d27e20625d41783cebec118",
     "grade": true,
     "grade_id": "cell-5ce2993458a8ce51",
     "locked": true,
     "points": 3,
     "schema_version": 3,
     "solution": false,
     "task": false
    }
   },
   "outputs": [],
   "source": [
    "#### Please do not change this. This cell is used for grading."
   ]
  },
  {
   "cell_type": "code",
   "execution_count": 265,
   "metadata": {
    "deletable": false,
    "editable": false,
    "nbgrader": {
     "cell_type": "code",
     "checksum": "d5c4e1c3852e71a46f32825b122f1b71",
     "grade": true,
     "grade_id": "cell-7753bdb54e292f3d",
     "locked": true,
     "points": 3,
     "schema_version": 3,
     "solution": false,
     "task": false
    }
   },
   "outputs": [],
   "source": [
    "#### Please do not change this. This cell is used for grading."
   ]
  },
  {
   "cell_type": "code",
   "execution_count": 266,
   "metadata": {
    "deletable": false,
    "editable": false,
    "nbgrader": {
     "cell_type": "code",
     "checksum": "c4d4332d4356e89ce0240f6b80e1899a",
     "grade": true,
     "grade_id": "cell-54e476e2f96e64bb",
     "locked": true,
     "points": 4,
     "schema_version": 3,
     "solution": false,
     "task": false
    }
   },
   "outputs": [],
   "source": [
    "#### Please do not change this. This cell is used for grading."
   ]
  },
  {
   "cell_type": "markdown",
   "metadata": {
    "deletable": false,
    "editable": false,
    "nbgrader": {
     "cell_type": "markdown",
     "checksum": "8d739dc91a22bd48897f603885f95a74",
     "grade": false,
     "grade_id": "cell-5414dfd69dab8b94",
     "locked": true,
     "schema_version": 3,
     "solution": false,
     "task": false
    }
   },
   "source": [
    "---\n",
    "#### 3.3.2 QL (20 points)\n",
    "Now, let's implement a QL model that handles the issues with the naive version. In particular, you will implement a QL model with Jelinek-Mercer Smoothing. That means an interpolated score is computed per word - one term is the same as the previous naive version, and the second term comes from a unigram language model. In addition, you should accumulate the scores by summing the **log** (smoothed) probability which leads to better numerical stability."
   ]
  },
  {
   "cell_type": "code",
   "execution_count": 229,
   "metadata": {
    "deletable": false,
    "nbgrader": {
     "cell_type": "code",
     "checksum": "b8c6abf937ad333e628f1db891f2e29e",
     "grade": false,
     "grade_id": "cell-bb1f506409771257",
     "locked": false,
     "schema_version": 3,
     "solution": true,
     "task": false
    }
   },
   "outputs": [],
   "source": [
    "# TODO: Implement this! (20 points)\n",
    "\n",
    "# YOUR CODE HERE\n",
    "# raise NotImplementedError()\n",
    "\n",
    "def ql_search(query, index_set):\n",
    "    \"\"\"\n",
    "        Perform a search over all documents with the given query using a QL model \n",
    "        with Jelinek-Mercer Smoothing (set smoothing=0.1). \n",
    "        \n",
    "        \n",
    "        Note #1: You have to use the `get_index` (and get_doc_lengths) function created in the previous cells\n",
    "        Note #2: You might have to create some variables beforehand and use them in this function\n",
    "        \n",
    "        \n",
    "        Input: \n",
    "            query - a (unprocessed) query\n",
    "            index_set - the index to use\n",
    "        Output: a list of (document_id, score), sorted in descending relevance to the given query \n",
    "    \"\"\"\n",
    "    index = get_index(index_set)\n",
    "    doc_lengths = get_doc_lengths(index_set)\n",
    "    processed_query = preprocess_query(query, index_set)\n",
    "    \n",
    "    # YOUR CODE HERE\n",
    "    \n",
    "    smoothing = 0.1\n",
    "    # collection length\n",
    "    cl = len(doc_lengths)\n",
    "    \n",
    "    score = {doc_id: float(0) for doc_id in doc_lengths.keys()}\n",
    "    \n",
    "    for word in processed_query:\n",
    "\n",
    "        if index[word] != []:\n",
    "            cf = np.sum(list(dict(index[word][0]).values()))\n",
    "\n",
    "            # list with tuples (doc_id, tf)\n",
    "            tf_list = index[word]\n",
    "\n",
    "            # retrieve doc_id, tf, and dl\n",
    "            for doc_id, tf in tf_list[0]:\n",
    "                dl = doc_lengths[doc_id]\n",
    "\n",
    "                # update the scores; first entry is naive\n",
    "                if score[doc_id] == 0:\n",
    "                    score[doc_id] = tf / dl\n",
    "                # this handles a query; second entry + is smoothed \n",
    "                else:\n",
    "                    # there are two ways to implement this according to piazza\n",
    "                    \n",
    "                    # method 1 from the slides which passes the test\n",
    "#                     score[doc_id] += abs(np.log((smoothing * (tf / dl)) + ((1 - smoothing) * (cf / cl))))\n",
    "                    \n",
    "                    # recommended method according to piazza which does not pass the test\n",
    "                    score[doc_id] += abs(np.log(((1 - smoothing) * (tf / dl)) + (smoothing * (cf / cl))))\n",
    "                    \n",
    "        \n",
    "    return sorted(score.items(), key=lambda s: s[1], reverse=True)\n"
   ]
  },
  {
   "cell_type": "code",
   "execution_count": 230,
   "metadata": {
    "deletable": false,
    "editable": false,
    "nbgrader": {
     "cell_type": "code",
     "checksum": "0b12a7f3355193a257fd9f5f69a66562",
     "grade": true,
     "grade_id": "cell-850e9d6369bcec32",
     "locked": true,
     "points": 4,
     "schema_version": 3,
     "solution": false,
     "task": false
    }
   },
   "outputs": [
    {
     "name": "stdout",
     "output_type": "stream",
     "text": [
      "Rank 0(0.2): A Report Writer For COBOL...\n",
      "Rank 1(0.2): A CRT Report Generating System...\n",
      "Rank 2(0.17): Preliminary Report-International Algebraic Languag...\n",
      "Rank 3(0.17): Supplement to the ALGOL 60 Report...\n",
      "Rank 4(0.14): ALGOL Sub-Committee Report - Extensions...\n",
      "\n",
      "Rank 0(4.5e+01): The State of Computer Oriented Curricula in Busine...\n",
      "Rank 1(4.5e+01): A Profile of the Programmer\\nSynopsis: 549 members...\n",
      "Rank 2(4.5e+01): A Relational Model of Data for Large Shared Data B...\n",
      "Rank 3(4.5e+01): Coding Clinical Laboratory Data For Automatic Stor...\n",
      "Rank 4(4.4e+01): Studies in Machine Cognition Using The Game of Pok...\n"
     ]
    }
   ],
   "source": [
    "#### Function check\n",
    "test_ql_results = ql_search(\"report\", index_set=1)[:5]\n",
    "print_results(test_ql_results)\n",
    "print()\n",
    "test_ql_results_long = ql_search(\"report \" * 10, index_set=1)[:5]\n",
    "print_results(test_ql_results_long)\n",
    "####"
   ]
  },
  {
   "cell_type": "code",
   "execution_count": 231,
   "metadata": {
    "deletable": false,
    "editable": false,
    "nbgrader": {
     "cell_type": "code",
     "checksum": "e40be645140389c115849856145f5b59",
     "grade": true,
     "grade_id": "cell-958cdcf6fd6899b7",
     "locked": true,
     "points": 3,
     "schema_version": 3,
     "solution": false,
     "task": false
    }
   },
   "outputs": [],
   "source": [
    "#### Please do not change this. This cell is used for grading."
   ]
  },
  {
   "cell_type": "code",
   "execution_count": 232,
   "metadata": {
    "deletable": false,
    "editable": false,
    "nbgrader": {
     "cell_type": "code",
     "checksum": "41d4aff001df17e7963ba79b45810b30",
     "grade": true,
     "grade_id": "cell-384dc23a0c251f6e",
     "locked": true,
     "points": 4,
     "schema_version": 3,
     "solution": false,
     "task": false
    }
   },
   "outputs": [],
   "source": [
    "#### Please do not change this. This cell is used for grading."
   ]
  },
  {
   "cell_type": "code",
   "execution_count": 233,
   "metadata": {
    "deletable": false,
    "editable": false,
    "nbgrader": {
     "cell_type": "code",
     "checksum": "893e8c5a073abc8ebb763d267b91bc02",
     "grade": true,
     "grade_id": "cell-7218966cba5097cc",
     "locked": true,
     "points": 4,
     "schema_version": 3,
     "solution": false,
     "task": false
    }
   },
   "outputs": [],
   "source": [
    "#### Please do not change this. This cell is used for grading."
   ]
  },
  {
   "cell_type": "code",
   "execution_count": 234,
   "metadata": {
    "deletable": false,
    "editable": false,
    "nbgrader": {
     "cell_type": "code",
     "checksum": "f99cb6f8b1f5830aaed8f06712ff846e",
     "grade": true,
     "grade_id": "cell-481ab073259ae53f",
     "locked": true,
     "points": 5,
     "schema_version": 3,
     "solution": false,
     "task": false
    }
   },
   "outputs": [],
   "source": [
    "#### Please do not change this. This cell is used for grading."
   ]
  },
  {
   "cell_type": "markdown",
   "metadata": {
    "deletable": false,
    "editable": false,
    "nbgrader": {
     "cell_type": "markdown",
     "checksum": "c02f14705d679579b1aa9f78f54779d5",
     "grade": false,
     "grade_id": "cell-f44088bfdac1dc90",
     "locked": true,
     "schema_version": 3,
     "solution": false,
     "task": false
    }
   },
   "source": [
    "--- \n",
    "\n",
    "### Section 3.4: BM25 (20 points) <a class=\"anchor\" id=\"bm25\"></a>\n",
    "\n",
    "In this section, we will implement the BM25 scoring function. \n"
   ]
  },
  {
   "cell_type": "code",
   "execution_count": 235,
   "metadata": {
    "deletable": false,
    "nbgrader": {
     "cell_type": "code",
     "checksum": "e57efe06ea92af1c83784a42eb3d86e0",
     "grade": false,
     "grade_id": "cell-15640fc9b5d00a3c",
     "locked": false,
     "schema_version": 3,
     "solution": true,
     "task": false
    }
   },
   "outputs": [],
   "source": [
    "# TODO: Implement this! (20 points)\n",
    "def bm25_search(query, index_set):\n",
    "    \"\"\"\n",
    "        Perform a search over all documents with the given query using BM25. Use k_1 = 1.5 and b = 0.75\n",
    "        Note #1: You have to use the `get_index` (and `get_doc_lengths`) function created in the previous cells\n",
    "        Note #2: You might have to create some variables beforehand and use them in this function\n",
    "        \n",
    "        Input: \n",
    "            query - a (unprocessed) query\n",
    "            index_set - the index to use\n",
    "        Output: a list of (document_id, score), sorted in descending relevance to the given query \n",
    "    \"\"\"\n",
    "    \n",
    "    index = get_index(index_set)\n",
    "    df = get_df(index_set)\n",
    "    doc_lengths = get_doc_lengths(index_set)\n",
    "    processed_query = preprocess_query(query, index_set)\n",
    "    \n",
    "    # YOUR CODE HERE\n",
    "    \n",
    "    score = {doc_id: float(0) for doc_id in doc_lengths.keys()}\n",
    "    \n",
    "    k_1 = 1.5\n",
    "    b = 0.75\n",
    "    \n",
    "    for word in processed_query:\n",
    "        tf_list = index[word]\n",
    "        \n",
    "        if tf_list != []:\n",
    "        \n",
    "            for doc_id, tf in tf_list[0]:\n",
    "    \n",
    "                # split formula\n",
    "                p1 = np.log(len(doc_lengths) / df[word])\n",
    "                p2 = (k_1 + 1) * tf\n",
    "                p3 = k_1 * ((1 - b) + b * (doc_lengths[doc_id] / np.mean(list(doc_lengths.values())))) + tf\n",
    "    \n",
    "                # construct bm25\n",
    "                bm25 = p1 * (p2 / p3)\n",
    "\n",
    "                if score[doc_id] == 0:\n",
    "                    score[doc_id] = bm25 \n",
    "                else:\n",
    "                    score[doc_id] += bm25 \n",
    "    \n",
    "    return sorted(score.items(), key=lambda s: s[1], reverse=True)\n"
   ]
  },
  {
   "cell_type": "code",
   "execution_count": 236,
   "metadata": {
    "deletable": false,
    "editable": false,
    "nbgrader": {
     "cell_type": "code",
     "checksum": "4be9de5d4e94637960d83725422bea6c",
     "grade": true,
     "grade_id": "cell-d10536bca72c74b1",
     "locked": true,
     "points": 3,
     "schema_version": 3,
     "solution": false,
     "task": false
    }
   },
   "outputs": [
    {
     "name": "stdout",
     "output_type": "stream",
     "text": [
      "Rank 0(6.7): A Report Writer For COBOL...\n",
      "Rank 1(6.7): A CRT Report Generating System...\n",
      "Rank 2(6.6): Preliminary Report-International Algebraic Languag...\n",
      "Rank 3(6.6): Supplement to the ALGOL 60 Report...\n",
      "Rank 4(6.5): ALGOL Sub-Committee Report - Extensions...\n"
     ]
    }
   ],
   "source": [
    "#### Function check\n",
    "test_bm25_results = bm25_search(\"report\", index_set=1)[:5]\n",
    "print_results(test_bm25_results)\n",
    "####"
   ]
  },
  {
   "cell_type": "code",
   "execution_count": 237,
   "metadata": {
    "deletable": false,
    "editable": false,
    "nbgrader": {
     "cell_type": "code",
     "checksum": "31b550d6a46ae4f8ede88788799ac2b9",
     "grade": true,
     "grade_id": "cell-60f6ec5052712d79",
     "locked": true,
     "points": 5,
     "schema_version": 3,
     "solution": false,
     "task": false
    }
   },
   "outputs": [],
   "source": [
    "#### Please do not change this. This cell is used for grading."
   ]
  },
  {
   "cell_type": "code",
   "execution_count": 238,
   "metadata": {
    "deletable": false,
    "editable": false,
    "nbgrader": {
     "cell_type": "code",
     "checksum": "3da2ec16bfe781916e71755d65aa2983",
     "grade": true,
     "grade_id": "cell-5d17524043a5abcc",
     "locked": true,
     "points": 5,
     "schema_version": 3,
     "solution": false,
     "task": false
    }
   },
   "outputs": [],
   "source": [
    "#### Please do not change this. This cell is used for grading."
   ]
  },
  {
   "cell_type": "code",
   "execution_count": 239,
   "metadata": {
    "deletable": false,
    "editable": false,
    "nbgrader": {
     "cell_type": "code",
     "checksum": "e7b563d54fa84c20909c0ae107010541",
     "grade": true,
     "grade_id": "cell-ff8e704eda1184e3",
     "locked": true,
     "points": 3,
     "schema_version": 3,
     "solution": false,
     "task": false
    }
   },
   "outputs": [],
   "source": [
    "#### Please do not change this. This cell is used for grading."
   ]
  },
  {
   "cell_type": "code",
   "execution_count": 240,
   "metadata": {
    "deletable": false,
    "editable": false,
    "nbgrader": {
     "cell_type": "code",
     "checksum": "b013f90974b396630a8831d6f1d7e5f7",
     "grade": true,
     "grade_id": "cell-a52310500a2543cb",
     "locked": true,
     "points": 4,
     "schema_version": 3,
     "solution": false,
     "task": false
    }
   },
   "outputs": [],
   "source": [
    "#### Please do not change this. This cell is used for grading."
   ]
  },
  {
   "cell_type": "markdown",
   "metadata": {
    "deletable": false,
    "editable": false,
    "nbgrader": {
     "cell_type": "markdown",
     "checksum": "8fcf67cb7d5e8b26cb9bf1f0aa42c847",
     "grade": false,
     "grade_id": "cell-8b2b412c81d62f2d",
     "locked": true,
     "schema_version": 3,
     "solution": false,
     "task": false
    }
   },
   "source": [
    "\n",
    "---\n",
    "\n",
    "### 3.5. Test Your Functions\n",
    "\n",
    "The widget below allows you to play with the search functions you've written so far. Use this to test your search functions and ensure that they work as expected."
   ]
  },
  {
   "cell_type": "code",
   "execution_count": 241,
   "metadata": {
    "deletable": false,
    "editable": false,
    "nbgrader": {
     "cell_type": "code",
     "checksum": "dfeb204b390acc0794dbdcac92b0cf2c",
     "grade": false,
     "grade_id": "cell-c9c2bb76354e8d97",
     "locked": true,
     "schema_version": 3,
     "solution": false,
     "task": false
    }
   },
   "outputs": [],
   "source": [
    "#### Highlighter function\n",
    "# class for results\n",
    "ResultRow = namedtuple(\"ResultRow\", [\"doc_id\", \"snippet\", \"score\"])\n",
    "# doc_id -> doc\n",
    "docs_by_id = dict((d[0], d[1]) for d in docs)\n",
    "\n",
    "def highlight_text(document, query, tol=17):\n",
    "    import re\n",
    "    tokens = tokenize(query)\n",
    "    regex = \"|\".join(f\"(\\\\b{t}\\\\b)\" for t in tokens)\n",
    "    regex = re.compile(regex, flags=re.IGNORECASE)\n",
    "    output = \"\"\n",
    "    i = 0\n",
    "    for m in regex.finditer(document):\n",
    "        start_idx = max(0, m.start() - tol)\n",
    "        end_idx = min(len(document), m.end() + tol)\n",
    "        output += \"\".join([\"...\",\n",
    "                        document[start_idx:m.start()],\n",
    "                        \"<strong>\",\n",
    "                        document[m.start():m.end()],\n",
    "                        \"</strong>\",\n",
    "                        document[m.end():end_idx],\n",
    "                        \"...\"])\n",
    "    return output.replace(\"\\n\", \" \")\n",
    "\n",
    "\n",
    "def make_results(query, search_fn, index_set):\n",
    "    results = []\n",
    "    for doc_id, score in search_fn(query, index_set):\n",
    "        highlight = highlight_text(docs_by_id[doc_id], query)\n",
    "        if len(highlight.strip()) == 0:\n",
    "            highlight = docs_by_id[doc_id]\n",
    "        results.append(ResultRow(doc_id, highlight, score))\n",
    "    return results\n",
    "####"
   ]
  },
  {
   "cell_type": "code",
   "execution_count": 242,
   "metadata": {},
   "outputs": [
    {
     "data": {
      "application/vnd.jupyter.widget-view+json": {
       "model_id": "9086a633ddf946a6ba82216fa99f39da",
       "version_major": 2,
       "version_minor": 0
      },
      "text/plain": [
       "Text(value='', description='Search Bar')"
      ]
     },
     "metadata": {},
     "output_type": "display_data"
    }
   ],
   "source": [
    "# TODO: Set this to the function you want to test!\n",
    "# this function should take in a query (string)\n",
    "# and return a sorted list of (doc_id, score) \n",
    "# with the most relevant document in the first position\n",
    "search_fn = bm25_search\n",
    "index_set = 1\n",
    "\n",
    "text = widgets.Text(description=\"Search Bar\", width=200)\n",
    "display(text)\n",
    "\n",
    "def handle_submit(sender):\n",
    "    print(f\"Searching for: '{sender.value}'\")\n",
    "    \n",
    "    results = make_results(sender.value, search_fn, index_set)\n",
    "    \n",
    "    # display only the top 5\n",
    "    results = results[:5]\n",
    "    \n",
    "    body = \"\"\n",
    "    for idx, r in enumerate(results):\n",
    "        body += f\"<li>Document #{r.doc_id}({r.score}): {r.snippet}</li>\"\n",
    "    display(HTML(f\"<ul>{body}</ul>\"))\n",
    "    \n",
    "\n",
    "text.on_submit(handle_submit)"
   ]
  },
  {
   "cell_type": "markdown",
   "metadata": {
    "deletable": false,
    "editable": false,
    "nbgrader": {
     "cell_type": "markdown",
     "checksum": "019b1ff878dc6339dd068e2d48d19904",
     "grade": false,
     "grade_id": "cell-8d46fe8e4f3d8cdb",
     "locked": true,
     "schema_version": 3,
     "solution": false,
     "task": false
    }
   },
   "source": [
    "---\n",
    "\n",
    "## Section 4: Evaluation (40 points) <a class=\"anchor\" id=\"evaluation\"></a>\n",
    "\n",
    "[Back to Part 1](#part1)\n",
    "\n",
    "In order to analyze the effectiveness of retrieval algorithms, we first have to learn how to evaluate such a system. In particular, we will work with offline evaluation metrics. These metrics are computed on a dataset with known relevance judgements.\n",
    "\n",
    "Implement the following evaluation metrics. \n",
    "\n",
    "1. Precision (7 points)\n",
    "2. Recall (7 points)\n",
    "3. Mean Average Precision (13 points)\n",
    "4. Expected Reciprocal Rank (13 points)"
   ]
  },
  {
   "cell_type": "markdown",
   "metadata": {
    "deletable": false,
    "editable": false,
    "nbgrader": {
     "cell_type": "markdown",
     "checksum": "e46f54c7f81d88bbc950b0fae14c4ca5",
     "grade": false,
     "grade_id": "cell-3419fd3bc663d7cc",
     "locked": true,
     "schema_version": 3,
     "solution": false,
     "task": false
    }
   },
   "source": [
    "---\n",
    "### 4.1 Read relevance labels\n",
    "\n",
    "Let's take a look at the `qrels.text` file, which contains the ground truth relevance scores. The relevance labels for CACM are binary - either 0 or 1. \n"
   ]
  },
  {
   "cell_type": "code",
   "execution_count": 243,
   "metadata": {
    "deletable": false,
    "editable": false,
    "nbgrader": {
     "cell_type": "code",
     "checksum": "6c11025f5a222796f2882c73c1634799",
     "grade": false,
     "grade_id": "cell-6b738366059dde9e",
     "locked": true,
     "schema_version": 3,
     "solution": false,
     "task": false
    }
   },
   "outputs": [
    {
     "name": "stdout",
     "output_type": "stream",
     "text": [
      "01 1410  0 0\r\n",
      "01 1572  0 0\r\n",
      "01 1605  0 0\r\n",
      "01 2020  0 0\r\n",
      "01 2358  0 0\r\n",
      "02 2434  0 0\r\n",
      "02 2863  0 0\r\n",
      "02 3078  0 0\r\n",
      "03 1134  0 0\r\n",
      "03 1613  0 0\r\n"
     ]
    }
   ],
   "source": [
    "!head ./datasets/qrels.text"
   ]
  },
  {
   "cell_type": "markdown",
   "metadata": {
    "deletable": false,
    "editable": false,
    "nbgrader": {
     "cell_type": "markdown",
     "checksum": "7ce95245c1597183320d7254afde5c8e",
     "grade": false,
     "grade_id": "cell-10e16bff2753ffbb",
     "locked": true,
     "schema_version": 3,
     "solution": false,
     "task": false
    }
   },
   "source": [
    "---\n",
    "\n",
    "The first column is the query_id and the second column is the document_id. We can safely ignore the 3rd and 4th columns."
   ]
  },
  {
   "cell_type": "code",
   "execution_count": 244,
   "metadata": {
    "deletable": false,
    "nbgrader": {
     "cell_type": "code",
     "checksum": "000c6d59dce08dba0ba1e8d691dbbc2e",
     "grade": false,
     "grade_id": "cell-ee5253a4ef602fce",
     "locked": false,
     "schema_version": 3,
     "solution": true,
     "task": false
    }
   },
   "outputs": [],
   "source": [
    "def read_qrels(root_folder = \"./datasets/\"):\n",
    "    \"\"\"\n",
    "        Reads the qrels.text file. \n",
    "        Output: A dictionary: query_id -> [list of relevant documents]\n",
    "    \"\"\"\n",
    "    with open(os.path.join(root_folder, \"qrels.text\")) as reader:\n",
    "        lines = reader.readlines()\n",
    "    \n",
    "    from collections import defaultdict\n",
    "    relevant_docs = defaultdict(set)\n",
    "    for line in lines:\n",
    "        query_id, doc_id, _, _ = line.split()\n",
    "        relevant_docs[str(int(query_id))].add(doc_id)\n",
    "    return relevant_docs\n"
   ]
  },
  {
   "cell_type": "code",
   "execution_count": 245,
   "metadata": {
    "deletable": false,
    "editable": false,
    "nbgrader": {
     "cell_type": "code",
     "checksum": "d60caeba85c2a97d2211184a5ae91fd1",
     "grade": false,
     "grade_id": "cell-72215605fbe24f65",
     "locked": true,
     "schema_version": 3,
     "solution": false,
     "task": false
    }
   },
   "outputs": [],
   "source": [
    "#### Function check\n",
    "qrels = read_qrels()\n",
    "\n",
    "assert len(qrels) == 52, \"There should be 52 queries with relevance judgements\"\n",
    "assert sum(len(j) for j in qrels.values()) == 796, \"There should be a total of 796 Relevance Judgements\"\n",
    "\n",
    "assert np.min(np.array([len(j) for j in qrels.values()])) == 1\n",
    "assert np.max(np.array([len(j) for j in qrels.values()])) == 51\n",
    "\n",
    "####"
   ]
  },
  {
   "cell_type": "markdown",
   "metadata": {
    "deletable": false,
    "editable": false,
    "nbgrader": {
     "cell_type": "markdown",
     "checksum": "6c9e7428a52e291a2cdf92a379730d4c",
     "grade": false,
     "grade_id": "cell-176a6fb2939d0420",
     "locked": true,
     "schema_version": 3,
     "solution": false,
     "task": false
    }
   },
   "source": [
    "---\n",
    "**Note:** For a given query `query_id`, you can assume that documents *not* in `qrels[query_id]` are not relevant to `query_id`. \n"
   ]
  },
  {
   "cell_type": "markdown",
   "metadata": {
    "deletable": false,
    "editable": false,
    "nbgrader": {
     "cell_type": "markdown",
     "checksum": "b26a818c7b4f7ad490e00b35ea0edd69",
     "grade": false,
     "grade_id": "cell-bd8341b72cdd89bb",
     "locked": true,
     "schema_version": 3,
     "solution": false,
     "task": false
    }
   },
   "source": [
    "---\n",
    "### 4.2 Precision (7 points)\n",
    "Implement the `precision@k` metric:"
   ]
  },
  {
   "cell_type": "code",
   "execution_count": 246,
   "metadata": {
    "deletable": false,
    "nbgrader": {
     "cell_type": "code",
     "checksum": "43dea1979ebdec24ffcfeff71c670433",
     "grade": false,
     "grade_id": "cell-494bd0cce108ed67",
     "locked": false,
     "schema_version": 3,
     "solution": true,
     "task": false
    }
   },
   "outputs": [],
   "source": [
    "# TODO: Implement this! (7 points)\n",
    "def precision_k(results, relevant_docs, k):\n",
    "    \"\"\"\n",
    "        Compute Precision@K\n",
    "        Input: \n",
    "            results: A sorted list of 2-tuples (document_id, score), \n",
    "                    with the most relevant document in the first position\n",
    "            relevant_docs: A set of relevant documents. \n",
    "            k: the cut-off\n",
    "        Output: Precision@K\n",
    "    \"\"\"\n",
    "    if k > len(results):\n",
    "        k = len(results)\n",
    "        \n",
    "    # YOUR CODE HERE\n",
    "    \n",
    "    # results till k\n",
    "    r_k = dict(results[:k]).keys()\n",
    "        \n",
    "    # intersection\n",
    "    return len(set(r_k) & set(relevant_docs)) / k\n"
   ]
  },
  {
   "cell_type": "code",
   "execution_count": 247,
   "metadata": {
    "deletable": false,
    "editable": false,
    "nbgrader": {
     "cell_type": "code",
     "checksum": "9222e35582b1840ffb60fd02fb0b60c3",
     "grade": true,
     "grade_id": "cell-e7ff0d91c319ca64",
     "locked": true,
     "points": 7,
     "schema_version": 3,
     "solution": false,
     "task": false
    }
   },
   "outputs": [
    {
     "name": "stdout",
     "output_type": "stream",
     "text": [
      "query: What articles exist which deal with TSS (Time Sharing System), an\n",
      "operating system for IBM computers?\n",
      "precision@10 = 0.2\n"
     ]
    }
   ],
   "source": [
    "\n",
    "#### Function check\n",
    "qid = queries[0][0]\n",
    "qtext = queries[0][1]\n",
    "print(f'query:{qtext}')\n",
    "results = bm25_search(qtext, 2)\n",
    "precision = precision_k(results, qrels[qid], 10)\n",
    "print(f'precision@10 = {precision}')\n",
    "####"
   ]
  },
  {
   "cell_type": "markdown",
   "metadata": {
    "deletable": false,
    "editable": false,
    "nbgrader": {
     "cell_type": "markdown",
     "checksum": "8fd3b3998197c7097a40348500affb68",
     "grade": false,
     "grade_id": "cell-afd95f865bc7191e",
     "locked": true,
     "schema_version": 3,
     "solution": false,
     "task": false
    }
   },
   "source": [
    "---\n",
    "### 4.3 Recall (7 points)\n",
    "Implement the `recall@k` metric:"
   ]
  },
  {
   "cell_type": "code",
   "execution_count": 248,
   "metadata": {
    "deletable": false,
    "nbgrader": {
     "cell_type": "code",
     "checksum": "b2020e5741ae03b3fe35817ed8f4ccaa",
     "grade": false,
     "grade_id": "cell-c323fc8c3f8a7cf8",
     "locked": false,
     "schema_version": 3,
     "solution": true,
     "task": false
    }
   },
   "outputs": [],
   "source": [
    "# TODO: Implement this! (7 points)\n",
    "def recall_k(results, relevant_docs, k):\n",
    "    \"\"\"\n",
    "        Compute Recall@K\n",
    "        Input: \n",
    "            results: A sorted list of 2-tuples (document_id, score), with the most relevant document in the first position\n",
    "            relevant_docs: A set of relevant documents. \n",
    "            k: the cut-off\n",
    "        Output: Recall@K\n",
    "    \"\"\"\n",
    "    # YOUR CODE HERE\n",
    "    \n",
    "    # results till k\n",
    "    r_k = set(dict(results[:k]).keys())\n",
    "    \n",
    "    return len(r_k & set(relevant_docs)) / len(relevant_docs)\n"
   ]
  },
  {
   "cell_type": "code",
   "execution_count": 249,
   "metadata": {
    "deletable": false,
    "editable": false,
    "nbgrader": {
     "cell_type": "code",
     "checksum": "56b6e0b8522f8b2dffbfb3206b2efa84",
     "grade": true,
     "grade_id": "cell-b25172161aef165c",
     "locked": true,
     "points": 7,
     "schema_version": 3,
     "solution": false,
     "task": false
    }
   },
   "outputs": [
    {
     "name": "stdout",
     "output_type": "stream",
     "text": [
      "query: SETL, Very High Level Languages\n",
      "recall@10 = 0.3157894736842105\n"
     ]
    }
   ],
   "source": [
    "#### Function check\n",
    "qid = queries[10][0]\n",
    "qtext = queries[10][1]\n",
    "print(f'query:{qtext}')\n",
    "results = bm25_search(qtext, 2)\n",
    "recall = recall_k(results, qrels[qid], 10)\n",
    "print(f'recall@10 = {recall}')\n",
    "####"
   ]
  },
  {
   "cell_type": "markdown",
   "metadata": {
    "deletable": false,
    "editable": false,
    "nbgrader": {
     "cell_type": "markdown",
     "checksum": "b3d3c7bd1cd977cd07ef5df7d3fbf159",
     "grade": false,
     "grade_id": "cell-77fd2e7a39a74739",
     "locked": true,
     "schema_version": 3,
     "solution": false,
     "task": false
    }
   },
   "source": [
    "---\n",
    "### 4.4 Mean Average Precision (13 points)\n",
    "Implement the `map` metric:"
   ]
  },
  {
   "cell_type": "code",
   "execution_count": 250,
   "metadata": {
    "deletable": false,
    "nbgrader": {
     "cell_type": "code",
     "checksum": "aae2c62f2ffd76f5b6c004e9519b9f14",
     "grade": false,
     "grade_id": "cell-e50925fa9093a30d",
     "locked": false,
     "schema_version": 3,
     "solution": true,
     "task": false
    }
   },
   "outputs": [],
   "source": [
    "# TODO: Implement this! (12 points)\n",
    "def average_precision(results, relevant_docs):\n",
    "    \"\"\"\n",
    "        Compute Average Precision (for a single query - the results are \n",
    "        averaged across queries to get MAP in the next few cells)\n",
    "        Hint: You can use the recall_k and precision_k functions here!\n",
    "        Input: \n",
    "            results: A sorted list of 2-tuples (document_id, score), with the most \n",
    "                    relevant document in the first position\n",
    "            relevant_docs: A set of relevant documents. \n",
    "        Output: Average Precision\n",
    "    \"\"\"\n",
    "    # YOUR CODE HERE\n",
    "    \n",
    "    # sum(precision at rank k for document) / len(relevant_docs)\n",
    "    \n",
    "    numerator = 0\n",
    "    \n",
    "    for index, tup in enumerate(results, 1):\n",
    "        if tup[0] in relevant_docs:\n",
    "            numerator += precision_k(results, relevant_docs, index)\n",
    "    \n",
    "    return numerator / len(relevant_docs)\n"
   ]
  },
  {
   "cell_type": "code",
   "execution_count": 251,
   "metadata": {
    "deletable": false,
    "editable": false,
    "nbgrader": {
     "cell_type": "code",
     "checksum": "3b00e147c2fa146fa59f179b7c9cab75",
     "grade": true,
     "grade_id": "cell-8a1f7ec98571e58b",
     "locked": true,
     "points": 13,
     "schema_version": 3,
     "solution": false,
     "task": false
    }
   },
   "outputs": [
    {
     "name": "stdout",
     "output_type": "stream",
     "text": [
      "query: computational complexity, intractability, class-complete reductions,\n",
      "algorithms and efficiency\n",
      "MAP = 0.17240404110559454\n"
     ]
    }
   ],
   "source": [
    "#### Function check\n",
    "qid = queries[20][0]\n",
    "qtext = queries[20][1]\n",
    "print(f'query:{qtext}')\n",
    "results = bm25_search(qtext, 2)\n",
    "mean_ap = average_precision(results, qrels[qid])\n",
    "print(f'MAP = {mean_ap}')\n",
    "####"
   ]
  },
  {
   "cell_type": "markdown",
   "metadata": {
    "deletable": false,
    "editable": false,
    "nbgrader": {
     "cell_type": "markdown",
     "checksum": "36f85f45ef52d9467ba9a717d6d99ff2",
     "grade": false,
     "grade_id": "cell-1da18f0fe6f6d7be",
     "locked": true,
     "schema_version": 3,
     "solution": false,
     "task": false
    }
   },
   "source": [
    "---\n",
    "### 4.5 Expected Reciprocal Rank (13 points)\n",
    "Implement the `err` metric:"
   ]
  },
  {
   "cell_type": "code",
   "execution_count": 252,
   "metadata": {
    "deletable": false,
    "nbgrader": {
     "cell_type": "code",
     "checksum": "9ac94db728e23ea1f5dc0d509473c6fb",
     "grade": false,
     "grade_id": "cell-64262889f9b267ea",
     "locked": false,
     "schema_version": 3,
     "solution": true,
     "task": false
    }
   },
   "outputs": [],
   "source": [
    "# TODO: Implement this! (12 points)\n",
    "def err(results, relevant_docs):\n",
    "    \"\"\"\n",
    "        Compute the expected reciprocal rank.\n",
    "        Hint: https://dl.acm.org/doi/pdf/10.1145/1645953.1646033?download=true\n",
    "        Input: \n",
    "            results: A sorted list of 2-tuples (document_id, score), with the most \n",
    "                    relevant document in the first position\n",
    "            relevant_docs: A set of relevant documents. \n",
    "        Output: ERR\n",
    "        \n",
    "    \"\"\"\n",
    "    # YOUR CODE HERE\n",
    "    \n",
    "    ERR = 0\n",
    "    p = 1\n",
    "    \n",
    "    for rank in range(len(results)):\n",
    "        if results[rank][0] in relevant_docs:\n",
    "            g = 1\n",
    "        else:\n",
    "            g = 0\n",
    "\n",
    "        # g consists of {0, 1} because it's binary ; g_max is always 1\n",
    "        R = ((2**g) - 1) / (2**1)    \n",
    "    \n",
    "        # can't divide by 0\n",
    "        ERR = ERR + (p * (R / (rank + 1)))\n",
    "#         ERR += p * (R / (rank + 1))\n",
    "        p = p * (1 - R)  \n",
    "    \n",
    "    return ERR"
   ]
  },
  {
   "cell_type": "code",
   "execution_count": 253,
   "metadata": {
    "deletable": false,
    "editable": false,
    "nbgrader": {
     "cell_type": "code",
     "checksum": "b7d201de0990b69d5f38704668665d87",
     "grade": true,
     "grade_id": "cell-071e3970ff1afae4",
     "locked": true,
     "points": 13,
     "schema_version": 3,
     "solution": false,
     "task": false
    }
   },
   "outputs": [
    {
     "name": "stdout",
     "output_type": "stream",
     "text": [
      "query: I'd like to find articles describing the use of singular value decomposition\n",
      "in digital image processing.  Applications include finding approximations\n",
      "to the original image and restoring images that are subject to noise. An\n",
      "article on the subject is H.C. Andrews and C.L. Patterson \"Outer product\n",
      "expansions and their uses in digital image processing\", American Mathematical\n",
      "Monthly, vol. 82.\n",
      "ERR = 0.625\n"
     ]
    }
   ],
   "source": [
    "#### Function check\n",
    "qid = queries[30][0]\n",
    "qtext = queries[30][1]\n",
    "print(f'query:{qtext}')\n",
    "results = bm25_search(qtext, 2)\n",
    "ERR = err(results, qrels[qid])\n",
    "print(f'ERR = {ERR}')\n",
    "####"
   ]
  },
  {
   "cell_type": "markdown",
   "metadata": {
    "deletable": false,
    "editable": false,
    "nbgrader": {
     "cell_type": "markdown",
     "checksum": "5bd94caf77cfa5f34675df758d91002d",
     "grade": false,
     "grade_id": "cell-43709a765f353946",
     "locked": true,
     "schema_version": 3,
     "solution": false,
     "task": false
    }
   },
   "source": [
    "---\n",
    "### 4.6 Evaluate Search Functions\n",
    "\n",
    "Let's define some metrics@k using [partial functions](https://docs.python.org/3/library/functools.html#functools.partial)"
   ]
  },
  {
   "cell_type": "code",
   "execution_count": 254,
   "metadata": {
    "deletable": false,
    "editable": false,
    "nbgrader": {
     "cell_type": "code",
     "checksum": "49ccc158e5fb7340ace55e90eeb9d62a",
     "grade": false,
     "grade_id": "cell-dab560e18e340da8",
     "locked": true,
     "schema_version": 3,
     "solution": false,
     "task": false
    }
   },
   "outputs": [],
   "source": [
    "#### metrics@k functions\n",
    "\n",
    "recall_at_1 = partial(recall_k, k=1)\n",
    "recall_at_5 = partial(recall_k, k=5)\n",
    "recall_at_10 = partial(recall_k, k=10)\n",
    "precision_at_1 = partial(precision_k, k=1)\n",
    "precision_at_5 = partial(precision_k, k=5)\n",
    "precision_at_10 = partial(precision_k, k=10)\n",
    "\n",
    "\n",
    "list_of_metrics = [\n",
    "    (\"ERR\", err),\n",
    "    (\"MAP\", average_precision),\n",
    "    (\"Recall@1\",recall_at_1),\n",
    "    (\"Recall@5\", recall_at_5),\n",
    "    (\"Recall@10\", recall_at_10),\n",
    "    (\"Precision@1\", precision_at_1),\n",
    "    (\"Precision@5\", precision_at_5),\n",
    "    (\"Precision@10\", precision_at_10)]\n",
    "####"
   ]
  },
  {
   "cell_type": "markdown",
   "metadata": {
    "deletable": false,
    "editable": false,
    "nbgrader": {
     "cell_type": "markdown",
     "checksum": "fb541002c03221b453b8936290020ea5",
     "grade": false,
     "grade_id": "cell-580a2bdc66d03b47",
     "locked": true,
     "schema_version": 3,
     "solution": false,
     "task": false
    }
   },
   "source": [
    "---\n",
    "\n",
    "The following function evaluates a `search_fn` using the `metric_fn`. Note that the final number is averaged over all the queries"
   ]
  },
  {
   "cell_type": "code",
   "execution_count": 255,
   "metadata": {},
   "outputs": [
    {
     "name": "stdout",
     "output_type": "stream",
     "text": [
      "BOW\n",
      "{'ERR': 0.11996831, 'MAP': 0.06623642, 'Recall@1': 0.009497121, 'Recall@5': 0.04654979, 'Recall@10': 0.080543, 'Recall@20': 0.12496212, 'Precision@1': 0.07692308, 'Precision@5': 0.080769226, 'Precision@10': 0.07307692, 'Precision@20': 0.058653846}\n",
      "TF-IDF\n",
      "{'ERR': 0.41484997, 'MAP': 0.2551034, 'Recall@1': 0.08998284, 'Recall@5': 0.21299928, 'Recall@10': 0.2675624, 'Recall@20': 0.35488722, 'Precision@1': 0.53846157, 'Precision@5': 0.33846155, 'Precision@10': 0.25, 'Precision@20': 0.19038464}\n",
      "NaiveQL\n",
      "{'ERR': 0.004748977, 'MAP': 0.0055716513, 'Recall@1': 0.0, 'Recall@5': 0.0, 'Recall@10': 0.0, 'Recall@20': 0.0, 'Precision@1': 0.0, 'Precision@5': 0.0, 'Precision@10': 0.0, 'Precision@20': 0.0}\n",
      "QL\n",
      "{'ERR': 0.2787004, 'MAP': 0.14574434, 'Recall@1': 0.045611043, 'Recall@5': 0.10767846, 'Recall@10': 0.15969984, 'Recall@20': 0.22813624, 'Precision@1': 0.32692307, 'Precision@5': 0.21153846, 'Precision@10': 0.16923077, 'Precision@20': 0.13365385}\n",
      "BM25\n",
      "{'ERR': 0.4261782, 'MAP': 0.30067486, 'Recall@1': 0.10448813, 'Recall@5': 0.23509185, 'Recall@10': 0.31572816, 'Recall@20': 0.40326038, 'Precision@1': 0.5192308, 'Precision@5': 0.40384614, 'Precision@10': 0.31923077, 'Precision@20': 0.23076923}\n"
     ]
    }
   ],
   "source": [
    "recall_at_1 = partial(recall_k, k=1)\n",
    "recall_at_5 = partial(recall_k, k=5)\n",
    "recall_at_10 = partial(recall_k, k=10)\n",
    "recall_at_20 = partial(recall_k, k=20)\n",
    "precision_at_1 = partial(precision_k, k=1)\n",
    "precision_at_5 = partial(precision_k, k=5)\n",
    "precision_at_10 = partial(precision_k, k=10)\n",
    "precision_at_20 = partial(precision_k, k=20)\n",
    "\n",
    "list_of_metrics = [\n",
    "    (\"ERR\", err),\n",
    "    (\"MAP\", average_precision),\n",
    "    (\"Recall@1\",recall_at_1),\n",
    "    (\"Recall@5\", recall_at_5),\n",
    "    (\"Recall@10\", recall_at_10),\n",
    "    (\"Recall@20\", recall_at_20),\n",
    "    (\"Precision@1\", precision_at_1),\n",
    "    (\"Precision@5\", precision_at_5),\n",
    "    (\"Precision@10\", precision_at_10),\n",
    "    (\"Precision@20\", precision_at_20)]\n",
    "\n",
    "#### Evaluate a search function\n",
    "\n",
    "list_of_search_fns = [\n",
    "    (\"BOW\", bow_search),\n",
    "    (\"TF-IDF\", tfidf_search),\n",
    "    (\"NaiveQL\", naive_ql_search),\n",
    "    (\"QL\", ql_search),\n",
    "    (\"BM25\", bm25_search)\n",
    "]\n",
    "\n",
    "def evaluate_search_fn(search_fn, metric_fns, index_set=None):\n",
    "    # build a dict query_id -> query \n",
    "    queries_by_id = dict((q[0], q[1]) for q in queries)\n",
    "    \n",
    "    metrics = {}\n",
    "    for metric, metric_fn in metric_fns:\n",
    "        metrics[metric] = np.zeros(len(qrels), dtype=np.float32)\n",
    "    \n",
    "    for i, (query_id, relevant_docs) in enumerate(qrels.items()):\n",
    "        query = queries_by_id[query_id]\n",
    "        if index_set:\n",
    "            results = search_fn(query, index_set)\n",
    "        else:\n",
    "            results = search_fn(query)\n",
    "        \n",
    "        for metric, metric_fn in metric_fns:\n",
    "            metrics[metric][i] = metric_fn(results, relevant_docs)\n",
    "    \n",
    "    final_dict = {}\n",
    "    for metric, metric_vals in metrics.items():\n",
    "        final_dict[metric] = metric_vals.mean()\n",
    "    \n",
    "    return final_dict\n",
    "\n",
    "####\n",
    "\n",
    "sample_results = [(i,None) for i in [4,0,1,17,2,5,6,13,9,10,8,20,3,15,16]]\n",
    "sample_qrel = [1,8,5,13,15,2]\n",
    "assert precision_k(sample_results, sample_qrel, 1) == 0.\n",
    "assert precision_k(sample_results, sample_qrel, 5) == 0.4\n",
    "assert precision_k(sample_results, sample_qrel, 10) == 0.4\n",
    "assert precision_k(sample_results, sample_qrel, 20) == 0.4\n",
    "assert recall_k(sample_results, sample_qrel, 1) == 0.\n",
    "assert np.allclose(recall_k(sample_results, sample_qrel, 5), 1./3.)\n",
    "assert np.allclose(recall_k(sample_results, sample_qrel, 10), 2./3.)\n",
    "assert recall_k(sample_results, sample_qrel, 20) == 1.\n",
    "assert np.allclose(average_precision(sample_results, sample_qrel), 0.436, 0.001)\n",
    "assert np.allclose(err(sample_results, sample_qrel), 0.2492, 0.001)\n",
    "\n",
    "\n",
    "for tup in list_of_search_fns:\n",
    "    print(tup[0])\n",
    "    print(evaluate_search_fn(tup[1], list_of_metrics, index_set=2))"
   ]
  },
  {
   "cell_type": "markdown",
   "metadata": {
    "deletable": false,
    "editable": false,
    "nbgrader": {
     "cell_type": "markdown",
     "checksum": "6ea67534f74a8f81e1f504794f641709",
     "grade": false,
     "grade_id": "cell-b156d83a0649cbb4",
     "locked": true,
     "schema_version": 3,
     "solution": false,
     "task": false
    }
   },
   "source": [
    "## Section 5: Analysis (30 points) <a class=\"anchor\" id=\"analysis\"></a>\n",
    "\n",
    "[Back to Part 1](#part1)\n",
    "\n",
    "In the final section of Part1, we will compare the different term-based IR algorithms and different preprocessing configurations and analyze their advantages and disadvantages.\n",
    "\n",
    "### Section 5.1: Plot (20 points)\n",
    "\n",
    "First, gather the results. The results should consider the index set, the different search functions and different metrics. Plot the results in bar charts, per metric, with clear labels.\n",
    "\n",
    "**Rubric:**\n",
    "- Each Metric is plotted: 7 points\n",
    "- Each Method is plotted: 7 points\n",
    "- Clear titles, x label, y labels and legends (if applicable): 6 points"
   ]
  },
  {
   "cell_type": "code",
   "execution_count": 145,
   "metadata": {
    "deletable": false,
    "nbgrader": {
     "cell_type": "code",
     "checksum": "7e2588a925d13ddf588abe8311dc9cfc",
     "grade": true,
     "grade_id": "cell-46fda42a25863a04",
     "locked": false,
     "points": 20,
     "schema_version": 3,
     "solution": true,
     "task": false
    }
   },
   "outputs": [
    {
     "ename": "KeyboardInterrupt",
     "evalue": "",
     "output_type": "error",
     "traceback": [
      "\u001b[0;31m---------------------------------------------------------------------------\u001b[0m",
      "\u001b[0;31mKeyboardInterrupt\u001b[0m                         Traceback (most recent call last)",
      "\u001b[0;32m<ipython-input-145-0d7b62071483>\u001b[0m in \u001b[0;36m<module>\u001b[0;34m\u001b[0m\n\u001b[1;32m     22\u001b[0m \u001b[0;32mfor\u001b[0m \u001b[0mx\u001b[0m \u001b[0;32min\u001b[0m \u001b[0;34m[\u001b[0m\u001b[0;36m1\u001b[0m\u001b[0;34m,\u001b[0m\u001b[0;36m2\u001b[0m\u001b[0;34m]\u001b[0m\u001b[0;34m:\u001b[0m\u001b[0;34m\u001b[0m\u001b[0m\n\u001b[1;32m     23\u001b[0m     \u001b[0;32mfor\u001b[0m \u001b[0msearch\u001b[0m \u001b[0;32min\u001b[0m \u001b[0mlist_of_search_fns\u001b[0m\u001b[0;34m:\u001b[0m\u001b[0;34m\u001b[0m\u001b[0m\n\u001b[0;32m---> 24\u001b[0;31m         \u001b[0mtemp\u001b[0m\u001b[0;34m[\u001b[0m\u001b[0msearch\u001b[0m\u001b[0;34m[\u001b[0m\u001b[0;36m0\u001b[0m\u001b[0;34m]\u001b[0m\u001b[0;34m]\u001b[0m \u001b[0;34m=\u001b[0m \u001b[0mevaluate_search_fn\u001b[0m\u001b[0;34m(\u001b[0m\u001b[0msearch\u001b[0m\u001b[0;34m[\u001b[0m\u001b[0;36m1\u001b[0m\u001b[0;34m]\u001b[0m\u001b[0;34m,\u001b[0m \u001b[0mlist_of_metrics\u001b[0m\u001b[0;34m,\u001b[0m \u001b[0mx\u001b[0m\u001b[0;34m)\u001b[0m\u001b[0;34m\u001b[0m\u001b[0m\n\u001b[0m\u001b[1;32m     25\u001b[0m     \u001b[0mcomplete\u001b[0m\u001b[0;34m[\u001b[0m\u001b[0mx\u001b[0m\u001b[0;34m]\u001b[0m \u001b[0;34m=\u001b[0m \u001b[0mtemp\u001b[0m\u001b[0;34m\u001b[0m\u001b[0m\n\u001b[1;32m     26\u001b[0m     \u001b[0;31m# reset dict\u001b[0m\u001b[0;34m\u001b[0m\u001b[0;34m\u001b[0m\u001b[0m\n",
      "\u001b[0;32m<ipython-input-144-016ca45027a1>\u001b[0m in \u001b[0;36mevaluate_search_fn\u001b[0;34m(search_fn, metric_fns, index_set)\u001b[0m\n\u001b[1;32m     41\u001b[0m         \u001b[0mquery\u001b[0m \u001b[0;34m=\u001b[0m \u001b[0mqueries_by_id\u001b[0m\u001b[0;34m[\u001b[0m\u001b[0mquery_id\u001b[0m\u001b[0;34m]\u001b[0m\u001b[0;34m\u001b[0m\u001b[0m\n\u001b[1;32m     42\u001b[0m         \u001b[0;32mif\u001b[0m \u001b[0mindex_set\u001b[0m\u001b[0;34m:\u001b[0m\u001b[0;34m\u001b[0m\u001b[0m\n\u001b[0;32m---> 43\u001b[0;31m             \u001b[0mresults\u001b[0m \u001b[0;34m=\u001b[0m \u001b[0msearch_fn\u001b[0m\u001b[0;34m(\u001b[0m\u001b[0mquery\u001b[0m\u001b[0;34m,\u001b[0m \u001b[0mindex_set\u001b[0m\u001b[0;34m)\u001b[0m\u001b[0;34m\u001b[0m\u001b[0m\n\u001b[0m\u001b[1;32m     44\u001b[0m         \u001b[0;32melse\u001b[0m\u001b[0;34m:\u001b[0m\u001b[0;34m\u001b[0m\u001b[0m\n\u001b[1;32m     45\u001b[0m             \u001b[0mresults\u001b[0m \u001b[0;34m=\u001b[0m \u001b[0msearch_fn\u001b[0m\u001b[0;34m(\u001b[0m\u001b[0mquery\u001b[0m\u001b[0;34m)\u001b[0m\u001b[0;34m\u001b[0m\u001b[0m\n",
      "\u001b[0;32m<ipython-input-118-2bf30b5770ef>\u001b[0m in \u001b[0;36mql_search\u001b[0;34m(query, index_set)\u001b[0m\n\u001b[1;32m     54\u001b[0m \u001b[0;34m\u001b[0m\u001b[0m\n\u001b[1;32m     55\u001b[0m                     \u001b[0;31m# recommended method according to piazza which does not pass the test\u001b[0m\u001b[0;34m\u001b[0m\u001b[0;34m\u001b[0m\u001b[0m\n\u001b[0;32m---> 56\u001b[0;31m                     \u001b[0mscore\u001b[0m\u001b[0;34m[\u001b[0m\u001b[0mdoc_id\u001b[0m\u001b[0;34m]\u001b[0m \u001b[0;34m+=\u001b[0m \u001b[0mabs\u001b[0m\u001b[0;34m(\u001b[0m\u001b[0mnp\u001b[0m\u001b[0;34m.\u001b[0m\u001b[0mlog\u001b[0m\u001b[0;34m(\u001b[0m\u001b[0;34m(\u001b[0m\u001b[0;34m(\u001b[0m\u001b[0;36m1\u001b[0m \u001b[0;34m-\u001b[0m \u001b[0msmoothing\u001b[0m\u001b[0;34m)\u001b[0m \u001b[0;34m*\u001b[0m \u001b[0;34m(\u001b[0m\u001b[0mtf\u001b[0m \u001b[0;34m/\u001b[0m \u001b[0mdl\u001b[0m\u001b[0;34m)\u001b[0m\u001b[0;34m)\u001b[0m \u001b[0;34m+\u001b[0m \u001b[0;34m(\u001b[0m\u001b[0msmoothing\u001b[0m \u001b[0;34m*\u001b[0m \u001b[0;34m(\u001b[0m\u001b[0mcf\u001b[0m \u001b[0;34m/\u001b[0m \u001b[0mcl\u001b[0m\u001b[0;34m)\u001b[0m\u001b[0;34m)\u001b[0m\u001b[0;34m)\u001b[0m\u001b[0;34m)\u001b[0m\u001b[0;34m\u001b[0m\u001b[0m\n\u001b[0m\u001b[1;32m     57\u001b[0m \u001b[0;34m\u001b[0m\u001b[0m\n\u001b[1;32m     58\u001b[0m \u001b[0;34m\u001b[0m\u001b[0m\n",
      "\u001b[0;31mKeyboardInterrupt\u001b[0m: "
     ]
    }
   ],
   "source": [
    "# YOUR CODE HERE\n",
    "\n",
    "# the order makes the plot more clear\n",
    "list_of_metrics = [\n",
    "    (\"ERR\", err),\n",
    "    (\"MAP\", average_precision),\n",
    "    (\"Recall@1\",recall_at_1),\n",
    "    (\"Precision@1\", precision_at_1),\n",
    "    (\"Recall@5\", recall_at_5),\n",
    "    (\"Precision@5\", precision_at_5),\n",
    "    (\"Recall@10\", recall_at_10),\n",
    "    (\"Precision@10\", precision_at_10),\n",
    "    (\"Recall@20\", recall_at_20),\n",
    "    (\"Precision@20\", precision_at_20)]\n",
    "\n",
    "# this is the final dict for the plots\n",
    "complete = dict() \n",
    "# temporary dict to differentiate between index 1 and 2\n",
    "temp = dict()   \n",
    "\n",
    "# for both index sets\n",
    "for x in [1,2]:\n",
    "    for search in list_of_search_fns:\n",
    "        temp[search[0]] = evaluate_search_fn(search[1], list_of_metrics, x)\n",
    "    complete[x] = temp\n",
    "    # reset dict\n",
    "    temp = dict()\n",
    "\n",
    "methods = [search[0] for search in list_of_search_fns]\n",
    "metrics = [metric[0] for metric in list_of_metrics]\n",
    "    \n",
    "# split data according to index\n",
    "data_1 = defaultdict(list)\n",
    "data_2 = defaultdict(list)\n",
    "\n",
    "# temporary x-axis labels which are numeric\n",
    "temp_x = np.arange(len(methods)) # + 1\n",
    "\n",
    "# add values to complete\n",
    "for metric in metrics:\n",
    "\n",
    "    # index 1\n",
    "    values_1 = [complete[1][method][metric] for method in methods] \n",
    "    data_1[metric].append(values_1)\n",
    "    \n",
    "    # index 2\n",
    "    values_2 = [complete[2][method][metric] for method in methods]\n",
    "    data_2[metric].append(values_2)\n",
    "    \n",
    "# plot\n",
    "fig, ax = plt.subplots(5, 2, figsize=(20, 20))\n",
    "\n",
    "# adjust y and pad for spacing\n",
    "fig.suptitle('Metric per method per index set', y=1.02, size='xx-large')\n",
    "fig.tight_layout(pad=5.0)\n",
    "\n",
    "# this is a lifesaver\n",
    "ax = ax.flatten()\n",
    "\n",
    "for index, metric in enumerate(metrics):\n",
    "    width = 0.35\n",
    "\n",
    "    # create plots for indices 1 and 2\n",
    "    ax[index].bar(temp_x - width/2, data_1[metric][0], width, color='salmon', label='Index set 1')\n",
    "    ax[index].bar(temp_x + width/2, data_2[metric][0], width, color='skyblue', label='Index set 2')\n",
    "\n",
    "    # set to actual labels\n",
    "    ax[index].set_xticks(temp_x)\n",
    "    ax[index].set_xticklabels(methods)\n",
    "\n",
    "    # set y-axis \n",
    "    ax[index].set_ylabel(metric + ' score')\n",
    "    ax[index].set_title('Figure {}: Results of {}'.format(index + 1, metric))\n",
    "    \n",
    "    # set same ylim for all plot to make differences between plots more clear\n",
    "    ax[index].set_ylim((0, 0.60))\n",
    "\n",
    "    ax[index].legend()\n",
    "\n",
    "   \n",
    "fig.show()"
   ]
  },
  {
   "cell_type": "markdown",
   "metadata": {
    "deletable": false,
    "editable": false,
    "nbgrader": {
     "cell_type": "markdown",
     "checksum": "e88c444a0acf4e398c65e289169b75f7",
     "grade": false,
     "grade_id": "cell-8aabe3bcf265deb0",
     "locked": true,
     "points": 10,
     "schema_version": 3,
     "solution": false,
     "task": true
    }
   },
   "source": [
    "---\n",
    "### Section 5.2: Summary (10 points)\n",
    "Write a summary of what you observe in the results.\n",
    "Your summary should compare results across the 2 indices and the methods being used. State what you expected to see in the results, followed by either supporting evidence *or* justify why the results did not support your expectations.      "
   ]
  },
  {
   "cell_type": "markdown",
   "metadata": {},
   "source": [
    "#### compare results across the 2 indices\n",
    "\n",
    "#### compare results with the methods used\n",
    "\n",
    "#### what did we expect to see\n",
    "\n",
    "#### is the result what we expected?\n",
    "\n",
    "Across the two indices, you can clearly see that index set 2 performs better in nearly all graphs. The results of the methods are what we expected i.e., in almost all metrics, BM25 performs best. Moreover, the recall score increases with the rank, whereas the precision decreases. Which makes a lot of sense because the more documents there are, the number of relevant items will decrease, wheras the number of retrieved relevant items will increase. \n",
    "\n",
    "ERR should be better than MAP because it takes the relevance of an item into account. This is supported by the graphs.\n",
    "\n",
    "Naive ql performs really bad but smoothing helps a lot. "
   ]
  },
  {
   "cell_type": "markdown",
   "metadata": {
    "deletable": false,
    "editable": false,
    "nbgrader": {
     "cell_type": "markdown",
     "checksum": "b3eb77be74eecca205fc7b47316d1627",
     "grade": false,
     "grade_id": "cell-bb60dd5c092d0f2e",
     "locked": true,
     "schema_version": 3,
     "solution": false,
     "task": false
    }
   },
   "source": [
    "---\n",
    "---\n",
    "# Part 2: Semantic-based Matching (85 points) <a class=\"anchor\" id=\"part2\"></a>\n",
    "\n",
    "[Back to top](#top)\n",
    "\n",
    "We will now experiment with methods that go beyond lexical methods like TF-IDF, which operate at the word level and are high dimensional and sparse, and look at methods which constructs low dimensional dense representations of queries and documents. \n",
    "\n",
    "Since these low-dimensional methods have a higher time complexity, they are typically used in conjunction with methods like BM-25. That is, instead of searching through potentially million documents to find matches using low dimensional vectors, a list of K documents are retrieved using BM25, and then **re-ranked** using the other method. This is the method that is going to be applied in the following exercises. \n",
    "\n",
    "LSI/LDA takes documents that are similar on a semantic level - for instance, if they are describing the same topic - and projects them into nearby vectors, despite having low lexical overlap.\n",
    "\n",
    "In this assignment, you will use `gensim` to create LSI/LDA models and use them in re-ranking. \n",
    "\n",
    "**Note**: The following exercises only uses `doc_repr_2` and `config_2`\n",
    "\n",
    "Table of contents:\n",
    "- [Section 6: LSI](#lsi) (15 points)\n",
    "- [Section 7: LDA](#lda) (10 points)\n",
    "- [Section 8: Word2Vec/Doc2Vec](#2vec) (20 points)\n",
    "- [Section 8: Re-ranking](#reranking) (10 points)\n",
    "- [Section 9: Re-ranking Evaluation](#reranking_eval) (30 points)"
   ]
  },
  {
   "cell_type": "markdown",
   "metadata": {
    "deletable": false,
    "editable": false,
    "nbgrader": {
     "cell_type": "markdown",
     "checksum": "f7c7b2cab82f576ed0acf836ca57171c",
     "grade": false,
     "grade_id": "cell-6b2c81e7a8abd180",
     "locked": true,
     "schema_version": 3,
     "solution": false,
     "task": false
    }
   },
   "source": [
    "---\n",
    "## Section 6: Latent Semantic Indexing (LSI) (15 points) <a class=\"anchor\" id=\"lsi\"></a>\n",
    "\n",
    "[Back to Part 2](#part2)\n",
    "\n",
    "LSI is one of the methods to embed the queries and documents into vectors. It is based on a method similar to Principal Component Analysis (PCA) for obtaining a dense concept matrix out of the sparse term-document matrix.\n",
    "\n",
    "See [wikipedia](https://en.wikipedia.org/wiki/Latent_semantic_analysis), particularly [#Mathematics_of_LSI](https://en.wikipedia.org/wiki/Latent_semantic_analysis#Mathematics_of_LSI)."
   ]
  },
  {
   "cell_type": "code",
   "execution_count": 71,
   "metadata": {
    "deletable": false,
    "editable": false,
    "nbgrader": {
     "cell_type": "code",
     "checksum": "c17ee75319cb517e2bf48ec3d9efc329",
     "grade": false,
     "grade_id": "cell-59913daee47f680d",
     "locked": true,
     "schema_version": 3,
     "solution": false,
     "task": false
    }
   },
   "outputs": [],
   "source": [
    "from gensim.corpora import Dictionary\n",
    "from gensim.models import LdaModel, LsiModel, Word2Vec\n",
    "from gensim.models.doc2vec import Doc2Vec, TaggedDocument\n",
    "from gensim import downloader as g_downloader\n",
    "# gensim uses logging, so set it up \n",
    "import logging\n",
    "logging.basicConfig(format='%(asctime)s : %(levelname)s : %(message)s', level=logging.INFO)"
   ]
  },
  {
   "cell_type": "markdown",
   "metadata": {
    "deletable": false,
    "editable": false,
    "nbgrader": {
     "cell_type": "markdown",
     "checksum": "5fce140c546759b54a9fc060901ae77c",
     "grade": false,
     "grade_id": "cell-3644faff4976598a",
     "locked": true,
     "schema_version": 3,
     "solution": false,
     "task": false
    }
   },
   "source": [
    "---\n",
    "### Section 6.1: Cosine Similarity (5 points)<a class=\"anchor\" id=\"cosing_sim\"></a>\n",
    "Before we begin, let us first define our method of similarity for the LSI model, the cosine similarity:\n",
    "\n",
    "$$\\text{similarity} = \\cos(\\theta) = {\\mathbf{A} \\cdot \\mathbf{B} \\over \\|\\mathbf{A}\\| \\|\\mathbf{B}\\|} = \\frac{ \\sum\\limits_{i=1}^{n}{A_i  B_i} }{ \\sqrt{\\sum\\limits_{i=1}^{n}{A_i^2}}  \\sqrt{\\sum\\limits_{i=1}^{n}{B_i^2}} }$$\n",
    "\n",
    "Since we are using gensim, the types of vectors returned by their classes are of the form defined below (they are not just simple vectors):"
   ]
  },
  {
   "cell_type": "code",
   "execution_count": 72,
   "metadata": {
    "deletable": false,
    "editable": false,
    "nbgrader": {
     "cell_type": "code",
     "checksum": "4e340e1a1d546f430c018fd0760e707a",
     "grade": false,
     "grade_id": "cell-3995a50f951314d5",
     "locked": true,
     "schema_version": 3,
     "solution": false,
     "task": false
    }
   },
   "outputs": [],
   "source": [
    "# 1, 2, 3 are either latent dimensions (LSI), or topics (LDA)\n",
    "# The second value in each tuple is a number (LSI) or a probability (LDA)  \n",
    "example_vec_1 = [(1, 0.2), (2, 0.3), (3, 0.4)]\n",
    "example_vec_2 = [(1, 0.2), (2, 0.7), (3, 0.4)]"
   ]
  },
  {
   "cell_type": "markdown",
   "metadata": {
    "deletable": false,
    "editable": false,
    "nbgrader": {
     "cell_type": "markdown",
     "checksum": "20832fd4f579f49ae204b0efee02edd1",
     "grade": false,
     "grade_id": "cell-5e54d581858dc8f7",
     "locked": true,
     "schema_version": 3,
     "solution": false,
     "task": false
    }
   },
   "source": [
    "---\n",
    "**Implementation (2+3 points):**\n",
    "Now, implement the `dot product` operation on these types of vectors and using this operator, implement the `cosine similarity` (don't forget: two functions to implement!):"
   ]
  },
  {
   "cell_type": "code",
   "execution_count": 73,
   "metadata": {
    "deletable": false,
    "nbgrader": {
     "cell_type": "code",
     "checksum": "06a712ee75fc213a21c5f0067fd8fe28",
     "grade": false,
     "grade_id": "cell-0e8189f5f93de33f",
     "locked": false,
     "schema_version": 3,
     "solution": true,
     "task": false
    }
   },
   "outputs": [],
   "source": [
    "# TODO: Implement this! (2 points)\n",
    "def dot(vec_1,vec_2): \n",
    "    \"\"\"\n",
    "        vec_1 and vec_2 are of the form: [(int, float), (int, float), ...]\n",
    "        Return the dot product of two such vectors, computed only on the floats\n",
    "        You can assume that the lengths of the vectors are the same, and the dimensions are aligned \n",
    "            i.e you won't get: vec_1 = [(1, 0.2)] ; vec_2 = [(2, 0.3)] \n",
    "                                (dimensions are unaligned and lengths are different)\n",
    "    \"\"\"\n",
    "    # YOUR CODE HERE\n",
    "    \n",
    "    values_1 = np.array([tup[1] for tup in vec_1])\n",
    "    values_2 = np.array([tup[1] for tup in vec_2])\n",
    "     \n",
    "    return np.dot(values_1, values_2)\n",
    "\n",
    "# TODO: Implement this! (3 points)\n",
    "def cosine_sim(vec_1, vec_2):\n",
    "    # YOUR CODE HERE\n",
    "    \n",
    "    if len(vec_1) == 0 or len(vec_2) == 0:\n",
    "        return 0\n",
    "    \n",
    "    numerator = dot(vec_1, vec_2)\n",
    "    denominator_a = np.sqrt(dot(vec_1, vec_1))\n",
    "    denominator_b = np.sqrt(dot(vec_2, vec_2))\n",
    "    \n",
    "    return numerator / (denominator_a * denominator_b)"
   ]
  },
  {
   "cell_type": "code",
   "execution_count": 74,
   "metadata": {
    "deletable": false,
    "editable": false,
    "nbgrader": {
     "cell_type": "code",
     "checksum": "d22a4a7325ba7815a808390388f534a1",
     "grade": true,
     "grade_id": "cell-b25d04ed6b79fd35",
     "locked": true,
     "points": 2,
     "schema_version": 3,
     "solution": false,
     "task": false
    }
   },
   "outputs": [
    {
     "name": "stdout",
     "output_type": "stream",
     "text": [
      "vectors: ([(1, 0.2), (2, 0.3), (3, 0.4)], [(1, 0.2), (2, 0.7), (3, 0.4)])\n",
      "dot product = 0.41000000000000003\n",
      "cosine similarity = 0.9165587597202866\n"
     ]
    }
   ],
   "source": [
    "##### Function check\n",
    "print(f'vectors: {(example_vec_1,example_vec_2)}')\n",
    "print(f'dot product = {dot(example_vec_1,example_vec_2)}')\n",
    "print(f'cosine similarity = {cosine_sim(example_vec_1,example_vec_2)}')\n",
    "##### "
   ]
  },
  {
   "cell_type": "code",
   "execution_count": 75,
   "metadata": {
    "deletable": false,
    "editable": false,
    "nbgrader": {
     "cell_type": "code",
     "checksum": "0744131724ce76b1b3f163b4bae5f700",
     "grade": true,
     "grade_id": "cell-ae3c4466866ace77",
     "locked": true,
     "points": 3,
     "schema_version": 3,
     "solution": false,
     "task": false
    }
   },
   "outputs": [],
   "source": [
    "#### Please do not change this. This cell is used for grading."
   ]
  },
  {
   "cell_type": "markdown",
   "metadata": {
    "deletable": false,
    "editable": false,
    "nbgrader": {
     "cell_type": "markdown",
     "checksum": "9b123f599f9ea372d14676e23f1c6a52",
     "grade": false,
     "grade_id": "cell-4b2534067c44fcdf",
     "locked": true,
     "schema_version": 3,
     "solution": false,
     "task": false
    }
   },
   "source": [
    "---\n",
    "### Section 6.2: LSI Retrieval (10 points)<a class=\"anchor\" id=\"lsi_retrieval\"></a>\n",
    "LSI retrieval is simply ranking the documents based on their cosine similarity to the query vector.\n",
    "First, let's write a parent class for vector-based retrieval models:"
   ]
  },
  {
   "cell_type": "code",
   "execution_count": 76,
   "metadata": {
    "deletable": false,
    "editable": false,
    "nbgrader": {
     "cell_type": "code",
     "checksum": "ecc111d58182570e2252b8ef5d6b02af",
     "grade": false,
     "grade_id": "cell-937936cea18711ee",
     "locked": true,
     "schema_version": 3,
     "solution": false,
     "task": false
    }
   },
   "outputs": [],
   "source": [
    "class VectorSpaceRetrievalModel:\n",
    "    \"\"\"\n",
    "        Parent class for Dense Vector Retrieval models\n",
    "    \"\"\"\n",
    "    def __init__(self, doc_repr):\n",
    "        \"\"\"\n",
    "            document_collection: \n",
    "                [\n",
    "                    (doc_id_1, [token 1, token 2, ...]), \n",
    "                    (doc_id_2, [token 1, token 2, ....]) \n",
    "                    ...\n",
    "                ]\n",
    "\n",
    "        \"\"\"\n",
    "        self.doc_repr = doc_repr\n",
    "        self.documents = [_[1] for _ in self.doc_repr]\n",
    "        \n",
    "        # construct a dictionary\n",
    "        self.dictionary = Dictionary(self.documents)\n",
    "        # Filter out words that occur less than 20 documents, or more than 50% of the documents.\n",
    "        self.dictionary.filter_extremes(no_below=10)\n",
    "        self.corpus = [self.dictionary.doc2bow(doc) for doc in self.documents]\n",
    "    \n",
    "        # Make a index to word dictionary.\n",
    "        temp = self.dictionary[0]  # This is only to \"load\" the dictionary.\n",
    "        self.id2word = self.dictionary.id2token\n",
    "        \n",
    "        # this is set by the train_model function\n",
    "        self.model = None\n",
    "        \n",
    "        \n",
    "    def vectorize_documents(self):\n",
    "        \"\"\"\n",
    "            Returns a doc_id -> vector dictionary\n",
    "        \"\"\"\n",
    "        vectors = {}\n",
    "        for (doc_id, _), cc in zip(self.doc_repr, self.corpus):\n",
    "            vectors[doc_id] = self.model[cc]\n",
    "        return vectors\n",
    "\n",
    "    def vectorize_query(self, query):\n",
    "        # Note the use of config_2 here!\n",
    "        query = process_text(query, **config_2)\n",
    "        query_vector = self.dictionary.doc2bow(query)\n",
    "        return self.model[query_vector]\n",
    "    \n",
    "    def train_model(self):\n",
    "        \"\"\"\n",
    "            Trains a model and sets the 'self.model' variable. \n",
    "            Make sure to use the variables created in the __init__ method.\n",
    "            e.g the variables which may be useful: {corpus, dictionary, id2word}\n",
    "        \"\"\"\n",
    "        raise NotImplementedError()"
   ]
  },
  {
   "cell_type": "markdown",
   "metadata": {
    "deletable": false,
    "editable": false,
    "nbgrader": {
     "cell_type": "markdown",
     "checksum": "ff161eefd9b81b768cd6361bc1a502b0",
     "grade": false,
     "grade_id": "cell-704a18c2f80cd60c",
     "locked": true,
     "schema_version": 3,
     "solution": false,
     "task": false
    }
   },
   "source": [
    "---\n",
    "**Implementation (5 points):**\n",
    "Implement the `train_model` method in the following class (note that this is only one line of code in `gensim`!). Ensure that the parameters defined in the `__init__` method are not changed, and are *used in the `train_method` function*. Normally, the hyperaparameter space will be searched using grid search / other methods - in this assignment we have provided the hyperparameters for you.\n",
    "\n",
    "The last two lines of code train an LSI model on the list of documents which have been stemmed, lower-cased and have stopwords removed. "
   ]
  },
  {
   "cell_type": "code",
   "execution_count": 77,
   "metadata": {
    "deletable": false,
    "nbgrader": {
     "cell_type": "code",
     "checksum": "0e90eedc27c248bc1ae050518a46a46c",
     "grade": false,
     "grade_id": "cell-307682c9089f15d6",
     "locked": false,
     "schema_version": 3,
     "solution": true,
     "task": false
    }
   },
   "outputs": [],
   "source": [
    "# TODO: Implement this! (5 points)\n",
    "class LsiRetrievalModel(VectorSpaceRetrievalModel):\n",
    "    def __init__(self, doc_repr):\n",
    "        super().__init__(doc_repr)\n",
    "        \n",
    "        self.num_topics = 100\n",
    "        self.chunksize = 2000\n",
    "    \n",
    "    def train_model(self):\n",
    "        # YOUR CODE HERE\n",
    "        \n",
    "        self.model = LsiModel(corpus=self.corpus, num_topics=self.num_topics, chunksize=self.chunksize, \n",
    "                              id2word=self.id2word)\n",
    "        \n",
    "        return self.model"
   ]
  },
  {
   "cell_type": "code",
   "execution_count": 78,
   "metadata": {
    "deletable": false,
    "editable": false,
    "nbgrader": {
     "cell_type": "code",
     "checksum": "00399cfe13d60cb4beed1271e36004b0",
     "grade": true,
     "grade_id": "cell-5ce512650c1b2dfb",
     "locked": true,
     "points": 0,
     "schema_version": 3,
     "solution": false,
     "task": false
    }
   },
   "outputs": [
    {
     "name": "stderr",
     "output_type": "stream",
     "text": [
      "2022-02-28 12:45:21,226 : INFO : adding document #0 to Dictionary(0 unique tokens: [])\n",
      "2022-02-28 12:45:21,320 : INFO : built Dictionary(5937 unique tokens: ['-', 'algebra', 'intern', 'languag', 'preliminari']...) from 3204 documents (total 115969 corpus positions)\n",
      "2022-02-28 12:45:21,324 : INFO : discarding 4740 tokens: [('repeat', 8), ('glossari', 7), ('inspect', 8), ('uncol', 2), ('rung', 9), ('secant', 2), ('.', 1603), ('acceler', 6), ('diverg', 3), ('induc', 9)]...\n",
      "2022-02-28 12:45:21,325 : INFO : keeping 1197 tokens which were in no less than 10 and no more than 1602 (=50.0%) documents\n",
      "2022-02-28 12:45:21,326 : INFO : resulting dictionary: Dictionary(1197 unique tokens: ['-', 'algebra', 'intern', 'languag', 'preliminari']...)\n",
      "2022-02-28 12:45:21,378 : INFO : using serial LSI version on this node\n",
      "2022-02-28 12:45:21,379 : INFO : updating model with new documents\n",
      "2022-02-28 12:45:21,379 : INFO : preparing a new chunk of documents\n",
      "2022-02-28 12:45:21,389 : INFO : using 100 extra samples and 2 power iterations\n",
      "2022-02-28 12:45:21,390 : INFO : 1st phase: constructing (1197, 200) action matrix\n",
      "2022-02-28 12:45:21,407 : INFO : orthonormalizing (1197, 200) action matrix\n",
      "2022-02-28 12:45:21,582 : INFO : 2nd phase: running dense svd on (200, 2000) matrix\n",
      "2022-02-28 12:45:21,730 : INFO : computing the final decomposition\n",
      "2022-02-28 12:45:21,730 : INFO : keeping 100 factors (discarding 13.454% of energy spectrum)\n",
      "2022-02-28 12:45:21,733 : INFO : processed documents up to #2000\n",
      "2022-02-28 12:45:21,734 : INFO : topic #0(152.127): 0.741*\",\" + 0.342*\"-\" + 0.211*\"system\" + 0.204*\"program\" + 0.192*\"comput\" + 0.146*\"(\" + 0.127*\"languag\" + 0.108*\")\" + 0.084*\"gener\" + 0.083*\"data\"\n",
      "2022-02-28 12:45:21,735 : INFO : topic #1(60.600): 0.607*\"(\" + 0.434*\")\" + 0.366*\"algorithm\" + 0.300*\"-\" + -0.237*\",\" + -0.213*\"system\" + -0.132*\"comput\" + 0.096*\"[\" + -0.093*\"program\" + 0.084*\"])\"\n",
      "2022-02-28 12:45:21,735 : INFO : topic #2(57.438): -0.744*\"-\" + 0.452*\",\" + -0.263*\"system\" + 0.214*\"(\" + 0.166*\")\" + -0.107*\"time\" + -0.105*\"program\" + 0.094*\"algorithm\" + -0.068*\"comput\" + -0.067*\"share\"\n",
      "2022-02-28 12:45:21,735 : INFO : topic #3(48.370): -0.483*\"system\" + -0.375*\"program\" + -0.367*\"comput\" + 0.363*\"-\" + 0.308*\",\" + -0.212*\"(\" + -0.168*\")\" + -0.147*\"algorithm\" + 0.144*\"languag\" + -0.119*\"time\"\n",
      "2022-02-28 12:45:21,736 : INFO : topic #4(45.710): -0.489*\"comput\" + 0.475*\"languag\" + 0.428*\"program\" + -0.238*\"method\" + -0.141*\"problem\" + 0.121*\"system\" + 0.109*\")\" + -0.107*\"equat\" + -0.100*\"algorithm\" + 0.099*\"(\"\n",
      "2022-02-28 12:45:21,736 : INFO : preparing a new chunk of documents\n",
      "2022-02-28 12:45:21,744 : INFO : using 100 extra samples and 2 power iterations\n",
      "2022-02-28 12:45:21,744 : INFO : 1st phase: constructing (1197, 200) action matrix\n",
      "2022-02-28 12:45:21,753 : INFO : orthonormalizing (1197, 200) action matrix\n",
      "2022-02-28 12:45:21,951 : INFO : 2nd phase: running dense svd on (200, 1204) matrix\n",
      "2022-02-28 12:45:22,059 : INFO : computing the final decomposition\n",
      "2022-02-28 12:45:22,059 : INFO : keeping 100 factors (discarding 14.027% of energy spectrum)\n",
      "2022-02-28 12:45:22,061 : INFO : merging projections: (1197, 100) + (1197, 100)\n",
      "2022-02-28 12:45:22,135 : INFO : keeping 100 factors (discarding 8.170% of energy spectrum)\n",
      "2022-02-28 12:45:22,138 : INFO : processed documents up to #3204\n",
      "2022-02-28 12:45:22,138 : INFO : topic #0(225.136): 0.759*\",\" + 0.337*\"-\" + 0.196*\"system\" + 0.186*\"program\" + 0.166*\"comput\" + 0.139*\"(\" + 0.103*\")\" + 0.103*\"algorithm\" + 0.099*\"languag\" + 0.087*\"time\"\n",
      "2022-02-28 12:45:22,138 : INFO : topic #1(87.805): 0.613*\"-\" + -0.399*\",\" + 0.399*\"(\" + 0.326*\"algorithm\" + 0.293*\")\" + -0.129*\"system\" + -0.107*\"program\" + 0.085*\"method\" + 0.077*\"time\" + 0.062*\"1\"\n",
      "2022-02-28 12:45:22,139 : INFO : topic #2(81.909): 0.550*\"-\" + -0.434*\"(\" + 0.355*\"system\" + -0.321*\")\" + -0.291*\",\" + -0.266*\"algorithm\" + 0.146*\"program\" + 0.123*\"comput\" + 0.078*\"time\" + -0.064*\"[\"\n",
      "2022-02-28 12:45:22,139 : INFO : topic #3(72.433): -0.693*\"program\" + 0.339*\",\" + 0.279*\"-\" + -0.251*\"(\" + -0.221*\"system\" + -0.214*\"languag\" + -0.204*\")\" + -0.160*\"comput\" + -0.099*\"data\" + -0.056*\"execut\"\n",
      "2022-02-28 12:45:22,139 : INFO : topic #4(68.523): -0.673*\"system\" + 0.453*\"program\" + 0.254*\"languag\" + 0.212*\"-\" + -0.179*\"comput\" + -0.165*\"(\" + -0.121*\")\" + -0.115*\"model\" + 0.101*\",\" + -0.098*\"algorithm\"\n"
     ]
    },
    {
     "data": {
      "text/plain": [
       "[(0, 0.01521491725948722),\n",
       " (1, -0.01629877956744725),\n",
       " (2, -0.00022090020161401498),\n",
       " (3, -0.001864106555096402),\n",
       " (4, -0.009393325767764419),\n",
       " (5, -0.0047262323785759175),\n",
       " (6, 0.027135918609908008),\n",
       " (7, 0.016829652563226362),\n",
       " (8, -0.03170669323782037),\n",
       " (9, -0.0007639933448842992),\n",
       " (10, 0.001982153109922146),\n",
       " (11, -0.017518304174411553),\n",
       " (12, 0.0004788103665507547),\n",
       " (13, 0.0017353431621068335),\n",
       " (14, 0.0038270016678000358),\n",
       " (15, 0.005327139769397365),\n",
       " (16, 0.005473456301187418),\n",
       " (17, 0.001980295355525054),\n",
       " (18, -0.0180366998527497),\n",
       " (19, 0.020726092610355667),\n",
       " (20, -0.010961546096691203),\n",
       " (21, -0.014247118583679915),\n",
       " (22, 0.04649576112142203),\n",
       " (23, 0.025581816959192552),\n",
       " (24, -0.010651526017188107),\n",
       " (25, -0.009740688204733705),\n",
       " (26, 0.006286907244630003),\n",
       " (27, 0.07437705689579789),\n",
       " (28, -0.06654087819679154),\n",
       " (29, 0.03156817445540518),\n",
       " (30, 0.041052756028591646),\n",
       " (31, 0.045662976308154746),\n",
       " (32, -0.07443458108499741),\n",
       " (33, 0.046119855821482356),\n",
       " (34, -0.01681334268945832),\n",
       " (35, 0.06322854926862392),\n",
       " (36, 0.03521934503470312),\n",
       " (37, -0.007435118917351541),\n",
       " (38, -0.061610138987371665),\n",
       " (39, 0.02983625787272915),\n",
       " (40, -0.036557675747865954),\n",
       " (41, -0.039139859128039106),\n",
       " (42, 0.02608386564016004),\n",
       " (43, 0.011109777811466943),\n",
       " (44, 0.012560889456350567),\n",
       " (45, 0.06384972645628437),\n",
       " (46, -0.002676477350670635),\n",
       " (47, 0.0065348602901664915),\n",
       " (48, 0.01711614520550132),\n",
       " (49, 0.033602864240401105),\n",
       " (50, 0.015170609200887537),\n",
       " (51, 0.046744026137220576),\n",
       " (52, -0.017093758313951633),\n",
       " (53, -0.001494026517828252),\n",
       " (54, 0.03475968879663047),\n",
       " (55, -0.017924485668868683),\n",
       " (56, 0.023994260546228052),\n",
       " (57, -0.01304538151662302),\n",
       " (58, -0.017681500455350236),\n",
       " (59, 0.03904604718236491),\n",
       " (60, -0.0062223985190339665),\n",
       " (61, -0.04401353687103302),\n",
       " (62, 0.023214747863340008),\n",
       " (63, 0.034329107532177605),\n",
       " (64, 0.046330432288981094),\n",
       " (65, 0.05622226871715085),\n",
       " (66, 0.0006943968633163211),\n",
       " (67, -0.003907896853987538),\n",
       " (68, 0.013645423135971505),\n",
       " (69, -0.09902706108931336),\n",
       " (70, 0.02716174909074845),\n",
       " (71, -0.010421908757045972),\n",
       " (72, 0.00443034224141655),\n",
       " (73, -0.0930677432205553),\n",
       " (74, 0.005559569238084921),\n",
       " (75, 0.035292256898829186),\n",
       " (76, 0.03461697781733569),\n",
       " (77, 0.010883540878796664),\n",
       " (78, 0.05110841515183251),\n",
       " (79, 0.026143849086799426),\n",
       " (80, -0.0255495292019375),\n",
       " (81, -0.00219384689928415),\n",
       " (82, 0.013395745345729838),\n",
       " (83, 0.03894799962438048),\n",
       " (84, 0.04856869853921555),\n",
       " (85, -0.019691404290973304),\n",
       " (86, -0.011540604625029928),\n",
       " (87, -0.00935846587788415),\n",
       " (88, -0.05954417679546953),\n",
       " (89, -0.09648985468555088),\n",
       " (90, -0.0353269626402104),\n",
       " (91, 0.02314869662644192),\n",
       " (92, 0.0013452464453870237),\n",
       " (93, -0.032429917665797295),\n",
       " (94, -0.06212923638286566),\n",
       " (95, -0.006359149117715006),\n",
       " (96, -0.02490752523451336),\n",
       " (97, -0.012479717215432753),\n",
       " (98, -0.003941916755675966),\n",
       " (99, 0.05491202844228217)]"
      ]
     },
     "execution_count": 78,
     "metadata": {},
     "output_type": "execute_result"
    }
   ],
   "source": [
    "##### Function check\n",
    "lsi = LsiRetrievalModel(doc_repr_2)\n",
    "lsi.train_model()\n",
    "\n",
    "# you can now get an LSI vector for a given query in the following way:\n",
    "lsi.vectorize_query(\"report\")\n",
    "##### "
   ]
  },
  {
   "cell_type": "markdown",
   "metadata": {
    "deletable": false,
    "editable": false,
    "nbgrader": {
     "cell_type": "markdown",
     "checksum": "7116bb9f576c5bb04934e1d59c51d729",
     "grade": false,
     "grade_id": "cell-4c5eeb557b4fca2f",
     "locked": true,
     "points": 5,
     "schema_version": 3,
     "solution": false,
     "task": true
    }
   },
   "source": [
    "\\#### Please do not change this. This cell is used for grading."
   ]
  },
  {
   "cell_type": "markdown",
   "metadata": {
    "deletable": false,
    "editable": false,
    "nbgrader": {
     "cell_type": "markdown",
     "checksum": "26e2ff3c413745e633d99f66c041d6b1",
     "grade": false,
     "grade_id": "cell-c4e50296cd17a555",
     "locked": true,
     "schema_version": 3,
     "solution": false,
     "task": false
    }
   },
   "source": [
    "---\n",
    "**Implementation (5 points):**\n",
    " Next, implement a basic ranking class for vector space retrieval (used for all semantic methods): "
   ]
  },
  {
   "cell_type": "code",
   "execution_count": 79,
   "metadata": {
    "deletable": false,
    "nbgrader": {
     "cell_type": "code",
     "checksum": "1a8389d2f0635c3405e2b0b27ed9f327",
     "grade": false,
     "grade_id": "cell-250515d288e80cdc",
     "locked": false,
     "schema_version": 3,
     "solution": true,
     "task": false
    }
   },
   "outputs": [],
   "source": [
    "# TODO: Implement this! (5 points)\n",
    "class DenseRetrievalRanker:\n",
    "    def __init__(self, vsrm, similarity_fn):\n",
    "        \"\"\"\n",
    "            vsrm: instance of `VectorSpaceRetrievalModel`\n",
    "            similarity_fn: function instance that takes in two vectors \n",
    "                            and returns a similarity score e.g cosine_sim defined earlier\n",
    "        \"\"\"\n",
    "        self.vsrm = vsrm \n",
    "        self.vectorized_documents = self.vsrm.vectorize_documents()\n",
    "        self.similarity_fn = similarity_fn\n",
    "    \n",
    "    def _compute_sim(self, query_vector):\n",
    "        \"\"\"\n",
    "            Compute the similarity of `query_vector` to documents in \n",
    "            `self.vectorized_documents` using `self.similarity_fn`\n",
    "            Returns a list of (doc_id, score) tuples\n",
    "        \"\"\"\n",
    "        # YOUR CODE HERE\n",
    "        \n",
    "        output = []\n",
    "        \n",
    "        for doc_id in list(self.vectorized_documents.keys()):\n",
    "            output.append((doc_id, self.similarity_fn(query_vector, self.vectorized_documents[doc_id])))\n",
    "        \n",
    "        return output\n",
    "    \n",
    "    def search(self, query):\n",
    "        scores = self._compute_sim(self.vsrm.vectorize_query(query))\n",
    "        scores.sort(key=lambda _:-_[1])\n",
    "        return scores \n"
   ]
  },
  {
   "cell_type": "code",
   "execution_count": 80,
   "metadata": {
    "deletable": false,
    "editable": false,
    "nbgrader": {
     "cell_type": "code",
     "checksum": "f237dd1ef6c1783c06797f4b514421f5",
     "grade": true,
     "grade_id": "cell-b73068b3e77a8e31",
     "locked": true,
     "points": 0,
     "schema_version": 3,
     "solution": false,
     "task": false
    }
   },
   "outputs": [
    {
     "data": {
      "text/plain": [
       "[('599', 0.7942918773386028),\n",
       " ('947', 0.5832786688508904),\n",
       " ('53', 0.5053737924578612),\n",
       " ('1339', 0.44582409698999764),\n",
       " ('3160', 0.4450781103545025)]"
      ]
     },
     "execution_count": 80,
     "metadata": {},
     "output_type": "execute_result"
    }
   ],
   "source": [
    "##### Function check\n",
    "drm_lsi = DenseRetrievalRanker(lsi, cosine_sim)\n",
    "drm_lsi.search(\"report\")[:5]\n",
    "##### "
   ]
  },
  {
   "cell_type": "markdown",
   "metadata": {
    "deletable": false,
    "editable": false,
    "nbgrader": {
     "cell_type": "markdown",
     "checksum": "5b3f19fdcaa585d263706d5a26038799",
     "grade": false,
     "grade_id": "cell-034c755a6502b868",
     "locked": true,
     "points": 5,
     "schema_version": 3,
     "solution": false,
     "task": true
    }
   },
   "source": [
    "\\#### Please do not change this. This cell is used for grading."
   ]
  },
  {
   "cell_type": "markdown",
   "metadata": {
    "deletable": false,
    "editable": false,
    "nbgrader": {
     "cell_type": "markdown",
     "checksum": "dcafef6e037033c46304b914f7c78bdf",
     "grade": false,
     "grade_id": "cell-d1df23f497d5ed6b",
     "locked": true,
     "schema_version": 3,
     "solution": false,
     "task": false
    }
   },
   "source": [
    "---\n",
    "Now, you can test your LSI model in the following cell: try finding queries which are lexically different to documents, but semantically similar - does LSI work well for these queries?!"
   ]
  },
  {
   "cell_type": "code",
   "execution_count": 81,
   "metadata": {
    "deletable": false,
    "editable": false,
    "nbgrader": {
     "cell_type": "code",
     "checksum": "11734bc7674377b340ad51297a8e8bb5",
     "grade": false,
     "grade_id": "cell-efd1d08dfc04ec3e",
     "locked": true,
     "schema_version": 3,
     "solution": false,
     "task": false
    }
   },
   "outputs": [
    {
     "data": {
      "application/vnd.jupyter.widget-view+json": {
       "model_id": "3c2e9bd42c164a45ab9f7d1850e0ad3f",
       "version_major": 2,
       "version_minor": 0
      },
      "text/plain": [
       "Text(value='', description='Search Bar')"
      ]
     },
     "metadata": {},
     "output_type": "display_data"
    }
   ],
   "source": [
    "# test your LSI model\n",
    "search_fn = drm_lsi.search\n",
    "\n",
    "text = widgets.Text(description=\"Search Bar\", width=200)\n",
    "display(text)\n",
    "\n",
    "def make_results_2(query, search_fn):\n",
    "    results = []\n",
    "    for doc_id, score in search_fn(query):\n",
    "        highlight = highlight_text(docs_by_id[doc_id], query)\n",
    "        if len(highlight.strip()) == 0:\n",
    "            highlight = docs_by_id[doc_id]\n",
    "        results.append(ResultRow(doc_id, highlight, score))\n",
    "    return results\n",
    "\n",
    "def handle_submit_2(sender):\n",
    "    print(f\"Searching for: '{sender.value}' (SEARCH FN: {search_fn})\")\n",
    "    \n",
    "    results = make_results_2(sender.value, search_fn)\n",
    "    \n",
    "    # display only the top 5\n",
    "    results = results[:5]\n",
    "    \n",
    "    body = \"\"\n",
    "    for idx, r in enumerate(results):\n",
    "        body += f\"<li>Document #{r.doc_id}({r.score}): {r.snippet}</li>\"\n",
    "    display(HTML(f\"<ul>{body}</ul>\"))\n",
    "    \n",
    "\n",
    "text.on_submit(handle_submit_2)"
   ]
  },
  {
   "cell_type": "markdown",
   "metadata": {
    "deletable": false,
    "editable": false,
    "nbgrader": {
     "cell_type": "markdown",
     "checksum": "d074ce1ca48384cdda78742741c938be",
     "grade": false,
     "grade_id": "cell-3a86cef264d8f6cf",
     "locked": true,
     "schema_version": 3,
     "solution": false,
     "task": false
    }
   },
   "source": [
    "---\n",
    "## Section 7: Latent Dirichlet Allocation (LDA) (10 points) <a class=\"anchor\" id=\"lda\"></a>\n",
    "\n",
    "[Back to Part 2](#part2)\n",
    "\n",
    "The specifics of LDA is out of the scope of this assignment, but we will use the `gensim` implementation to perform search using LDA over our small document collection. The key thing to remember is that LDA, unlike LSI, outputs a topic **distribution**, not a vector. With that in mind, let's first define a similarity measure.\n"
   ]
  },
  {
   "cell_type": "markdown",
   "metadata": {
    "deletable": false,
    "editable": false,
    "nbgrader": {
     "cell_type": "markdown",
     "checksum": "db01092373b18f0c9dfed1bb17db4ad9",
     "grade": false,
     "grade_id": "cell-6b78ad22c2d60ba7",
     "locked": true,
     "schema_version": 3,
     "solution": false,
     "task": false
    }
   },
   "source": [
    "---\n",
    "### Section 7.1: Jenson-Shannon divergence (5 points) <a class=\"anchor\" id=\"js_sim\"></a>\n",
    "\n",
    "The Jenson-Shannon divergence is a symmetric and finite measure on two probability distributions (unlike the KL, which is neither). For identical distributions, the JSD is equal to 0, and since our code uses 0 as irrelevant and higher scores as relevant, we use `(1 - JSD)` as the score or 'similarity' in our setup\n",
    "\n",
    "**Note**: the JSD is bounded to \\[0,1\\] only if we use log base 2. So please ensure that you're using `np.log2` instead of `np.log`"
   ]
  },
  {
   "cell_type": "code",
   "execution_count": 82,
   "metadata": {
    "deletable": false,
    "nbgrader": {
     "cell_type": "code",
     "checksum": "a579e6cd7a24a3516bc9a84528b392d3",
     "grade": false,
     "grade_id": "cell-d2376a85a4841e98",
     "locked": false,
     "schema_version": 3,
     "solution": true,
     "task": false
    }
   },
   "outputs": [],
   "source": [
    "## TODO: Implement this! (5 points)\n",
    "def jenson_shannon_divergence(vec_1, vec_2, assert_prob=False):\n",
    "    \"\"\"\n",
    "        Computes the Jensen-Shannon divergence between two probability distributions. \n",
    "        NOTE: DO NOT RETURN 1 - JSD here, that is handled by the next function which is already implemented! \n",
    "        The inputs are *gensim* vectors - same as the vectors for the cosine_sim function\n",
    "        assert_prob is a flag that checks if the inputs are proper probability distributions \n",
    "            i.e they sum to 1 and are positive - use this to check your inputs if needed. \n",
    "                (This is optional to implement, but recommended - \n",
    "                you can the default to False to save a few ms off the runtime)\n",
    "    \"\"\"\n",
    "    # YOUR CODE HERE\n",
    "    \n",
    "    def kl_divergence(vec_1, vec_2):\n",
    "        \n",
    "        score = 0\n",
    "        \n",
    "        for i in range(len(vec_1)):\n",
    "            # np.log2 [0, 1]\n",
    "            # vec_2 is a list and not list of tuples\n",
    "            score += vec_1[i][1] * np.log2(vec_1[i][1] / vec_2[i])\n",
    "        \n",
    "        return score\n",
    "        \n",
    "    if assert_prob == True:\n",
    "        \n",
    "        # check that all values or positive\n",
    "        minus_1 = [tup[1] for tup in vec_1 if tup[1] < 0]\n",
    "        minus_2 = [tup[1] for tup in vec_2 if tup[1] < 0]\n",
    "        \n",
    "        if len(minus_1) > 0 or len(minus_2) > 0:\n",
    "            return 1\n",
    "        \n",
    "        # check that the sum is 1\n",
    "        condition_1 = np.sum([tup[1] for tup in vec_1]) \n",
    "        condition_2 = np.sum([tup[1] for tup in vec_2])\n",
    "    \n",
    "        if condition_1 == 1 and condition_2 == 1:\n",
    "            m = [0.5 * (vec_1[i][1] + vec_2[i][1]) for i in range(len(vec_1))] \n",
    "            return (0.5 * kl_divergence(vec_1, m)) + (0.5 * kl_divergence(vec_2, m))\n",
    "        else:\n",
    "            return 1  \n",
    "        \n",
    "    m = [0.5 * (vec_1[i][1] + vec_2[i][1]) for i in range(len(vec_1))] \n",
    "    return (0.5 * kl_divergence(vec_1, m)) + (0.5 * kl_divergence(vec_2, m))\n",
    "\n",
    "def jenson_shannon_sim(vec_1, vec_2, assert_prob=True):\n",
    "    \n",
    "    # added the assert_prob to check if the assert_prob in def jenson_shannon_divergence works\n",
    "    return 1 - jenson_shannon_divergence(vec_1, vec_2, assert_prob)\n"
   ]
  },
  {
   "cell_type": "code",
   "execution_count": 83,
   "metadata": {
    "deletable": false,
    "editable": false,
    "nbgrader": {
     "cell_type": "code",
     "checksum": "ab340aa941c9fb5c89b3fd0a9139e246",
     "grade": true,
     "grade_id": "cell-487c6d2933f38053",
     "locked": true,
     "points": 5,
     "schema_version": 3,
     "solution": false,
     "task": false
    }
   },
   "outputs": [
    {
     "data": {
      "text/plain": [
       "0.9251064410358459"
      ]
     },
     "execution_count": 83,
     "metadata": {},
     "output_type": "execute_result"
    }
   ],
   "source": [
    "##### Function check\n",
    "vec_1 = [(1, 0.3), (2, 0.4), (3, 0.3)]\n",
    "vec_2 = [(1, 0.1), (2, 0.7), (3, 0.2)]\n",
    "jenson_shannon_sim(vec_1, vec_2, assert_prob=True)\n",
    "##### "
   ]
  },
  {
   "cell_type": "markdown",
   "metadata": {
    "deletable": false,
    "editable": false,
    "nbgrader": {
     "cell_type": "markdown",
     "checksum": "0a1583a5f23e3390038331cce67f5d8e",
     "grade": false,
     "grade_id": "cell-4535cc67a50b80fa",
     "locked": true,
     "schema_version": 3,
     "solution": false,
     "task": false
    }
   },
   "source": [
    "---\n",
    "### Section 7.2: LDA retrieval (5 points) <a class=\"anchor\" id=\"lda_ret\"></a>\n",
    "\n",
    "Implement the `train_model` method in the following class (note that this is only one line of code in `gensim`!). Ensure that the parameters defined in the `__init__` method are not changed, and are *used in the `train_method` function*. You do not need to set this. Normally, the hyperaparameter space will be searched using grid search / other methods. Note that training the LDA model might take some time\n",
    "\n",
    "The last two lines of code train an LDA model on the list of documents which have been stemmed, lower-cased and have stopwords removed. "
   ]
  },
  {
   "cell_type": "code",
   "execution_count": 84,
   "metadata": {
    "deletable": false,
    "nbgrader": {
     "cell_type": "code",
     "checksum": "27de8e4fa85536bb396b73bfc51b3f50",
     "grade": false,
     "grade_id": "cell-021a48dff4a8bb91",
     "locked": false,
     "schema_version": 3,
     "solution": true,
     "task": false
    }
   },
   "outputs": [],
   "source": [
    "# TODO: Implement this! (5 points)\n",
    "class LdaRetrievalModel(VectorSpaceRetrievalModel):\n",
    "    def __init__(self, doc_repr):\n",
    "        super().__init__(doc_repr)\n",
    "        \n",
    "        # use these parameters in the train_model method\n",
    "        self.num_topics = 100\n",
    "        self.chunksize = 2000\n",
    "        self.passes = 20\n",
    "        self.iterations = 400\n",
    "        self.eval_every = 10\n",
    "        # this is need to get full vectors\n",
    "        self.minimum_probability=0.0\n",
    "        self.alpha='auto'\n",
    "        self.eta='auto'\n",
    "    \n",
    "    \n",
    "    def train_model(self):\n",
    "        # YOUR CODE HERE\n",
    "\n",
    "        self.model = LdaModel(corpus=self.corpus, num_topics=self.num_topics, id2word=self.id2word,\n",
    "                             chunksize=self.chunksize, passes=self.passes, iterations=self.iterations,\n",
    "                             eval_every=self.eval_every, minimum_probability=self.minimum_probability,\n",
    "                             alpha=self.alpha, eta=self.eta)\n",
    "        \n",
    "        return self.model"
   ]
  },
  {
   "cell_type": "code",
   "execution_count": 85,
   "metadata": {
    "deletable": false,
    "editable": false,
    "nbgrader": {
     "cell_type": "code",
     "checksum": "be70fcb8098d0b6ce64cd2a10e6a05b7",
     "grade": true,
     "grade_id": "cell-86750b715f0345fd",
     "locked": true,
     "points": 0,
     "schema_version": 3,
     "solution": false,
     "task": false
    }
   },
   "outputs": [
    {
     "name": "stderr",
     "output_type": "stream",
     "text": [
      "2022-02-28 12:45:22,764 : INFO : adding document #0 to Dictionary(0 unique tokens: [])\n",
      "2022-02-28 12:45:22,854 : INFO : built Dictionary(5937 unique tokens: ['-', 'algebra', 'intern', 'languag', 'preliminari']...) from 3204 documents (total 115969 corpus positions)\n",
      "2022-02-28 12:45:22,858 : INFO : discarding 4740 tokens: [('repeat', 8), ('glossari', 7), ('inspect', 8), ('uncol', 2), ('rung', 9), ('secant', 2), ('.', 1603), ('acceler', 6), ('diverg', 3), ('induc', 9)]...\n",
      "2022-02-28 12:45:22,859 : INFO : keeping 1197 tokens which were in no less than 10 and no more than 1602 (=50.0%) documents\n",
      "2022-02-28 12:45:22,860 : INFO : resulting dictionary: Dictionary(1197 unique tokens: ['-', 'algebra', 'intern', 'languag', 'preliminari']...)\n",
      "2022-02-28 12:45:22,911 : INFO : using autotuned alpha, starting with [0.01, 0.01, 0.01, 0.01, 0.01, 0.01, 0.01, 0.01, 0.01, 0.01, 0.01, 0.01, 0.01, 0.01, 0.01, 0.01, 0.01, 0.01, 0.01, 0.01, 0.01, 0.01, 0.01, 0.01, 0.01, 0.01, 0.01, 0.01, 0.01, 0.01, 0.01, 0.01, 0.01, 0.01, 0.01, 0.01, 0.01, 0.01, 0.01, 0.01, 0.01, 0.01, 0.01, 0.01, 0.01, 0.01, 0.01, 0.01, 0.01, 0.01, 0.01, 0.01, 0.01, 0.01, 0.01, 0.01, 0.01, 0.01, 0.01, 0.01, 0.01, 0.01, 0.01, 0.01, 0.01, 0.01, 0.01, 0.01, 0.01, 0.01, 0.01, 0.01, 0.01, 0.01, 0.01, 0.01, 0.01, 0.01, 0.01, 0.01, 0.01, 0.01, 0.01, 0.01, 0.01, 0.01, 0.01, 0.01, 0.01, 0.01, 0.01, 0.01, 0.01, 0.01, 0.01, 0.01, 0.01, 0.01, 0.01, 0.01]\n",
      "2022-02-28 12:45:22,912 : INFO : using serial LDA version on this node\n",
      "2022-02-28 12:45:22,921 : INFO : running online (multi-pass) LDA training, 100 topics, 20 passes over the supplied corpus of 3204 documents, updating model once every 2000 documents, evaluating perplexity every 3204 documents, iterating 400x with a convergence threshold of 0.001000\n",
      "2022-02-28 12:45:22,922 : INFO : PROGRESS: pass 0, at document #2000/3204\n",
      "2022-02-28 12:45:23,859 : INFO : optimized alpha [0.00979412, 0.009830233, 0.009840702, 0.009799242, 0.009788954, 0.009836621, 0.009804173, 0.009841101, 0.009819997, 0.009872287, 0.009830687, 0.009866297, 0.00991437, 0.009851128, 0.009908082, 0.009809076, 0.0098094605, 0.009840442, 0.009789068, 0.0098716775, 0.009834835, 0.009797639, 0.009866167, 0.009810723, 0.009934104, 0.009773324, 0.009773296, 0.009783535, 0.009825375, 0.0098556, 0.009793787, 0.009892536, 0.00980963, 0.010290324, 0.009809612, 0.009794263, 0.009809398, 0.009835103, 0.009814443, 0.009818878, 0.009860627, 0.009768261, 0.009851352, 0.009783634, 0.009814486, 0.009783875, 0.0098354705, 0.009793809, 0.009804369, 0.009773417, 0.009854814, 0.009929586, 0.009778759, 0.009850831, 0.009793892, 0.009909089, 0.009846017, 0.009840138, 0.009768288, 0.009825354, 0.009825325, 0.009809467, 0.0098570585, 0.00987648, 0.009856155, 0.009820505, 0.0098197805, 0.009789007, 0.009804385, 0.00991303, 0.0097733885, 0.0097887525, 0.009847847, 0.009830307, 0.009794004, 0.009778611, 0.009835645, 0.00979931, 0.009819943, 0.009819894, 0.009804179, 0.009773358, 0.0098721385, 0.009809595, 0.009872408, 0.009870576, 0.009778439, 0.009840624, 0.009840239, 0.009856569, 0.009757915, 0.009788751, 0.0098246625, 0.0099087, 0.00977857, 0.0098098125, 0.009809371, 0.00977857, 0.009799373, 0.0098301405]\n",
      "2022-02-28 12:45:23,862 : INFO : merging changes from 2000 documents into a model of 3204 documents\n",
      "2022-02-28 12:45:23,866 : INFO : topic #90 (0.010): 0.001*\"implic\" + 0.001*\"favor\" + 0.001*\"adapt\" + 0.001*\"polygon\" + 0.001*\"stage\" + 0.001*\"situat\" + 0.001*\"respons\" + 0.001*\"industri\" + 0.001*\"regress\" + 0.001*\"drive\"\n",
      "2022-02-28 12:45:23,866 : INFO : topic #81 (0.010): 0.113*\"statement\" + 0.077*\"\"\" + 0.045*\"close\" + 0.034*\"open\" + 0.034*\"ambigu\" + 0.034*\"syntax\" + 0.034*\"equat\" + 0.034*\",\" + 0.023*\"algol\" + 0.023*\"defin\"\n",
      "2022-02-28 12:45:23,867 : INFO : topic #55 (0.010): 0.060*\",\" + 0.034*\"program\" + 0.028*\"data\" + 0.025*\"system\" + 0.023*\"-\" + 0.014*\"languag\" + 0.011*\"user\" + 0.011*\"retriev\" + 0.011*\"comput\" + 0.011*\"time\"\n",
      "2022-02-28 12:45:23,867 : INFO : topic #93 (0.010): 0.058*\",\" + 0.038*\"-\" + 0.028*\"system\" + 0.022*\"method\" + 0.017*\"solut\" + 0.016*\"comput\" + 0.016*\"equat\" + 0.015*\"problem\" + 0.013*\"inform\" + 0.012*\"machin\"\n",
      "2022-02-28 12:45:23,867 : INFO : topic #33 (0.010): 0.090*\",\" + 0.032*\"-\" + 0.027*\"comput\" + 0.027*\"program\" + 0.025*\"system\" + 0.011*\"problem\" + 0.010*\"time\" + 0.009*\"languag\" + 0.008*\"paper\" + 0.008*\"(\"\n",
      "2022-02-28 12:45:23,867 : INFO : topic diff=83.505646, rho=1.000000\n",
      "2022-02-28 12:45:24,476 : INFO : -7.246 per-word bound, 151.8 perplexity estimate based on a held-out corpus of 1204 documents with 49783 words\n",
      "2022-02-28 12:45:24,477 : INFO : PROGRESS: pass 0, at document #3204/3204\n",
      "2022-02-28 12:45:24,958 : INFO : optimized alpha [0.010214936, 0.009741093, 0.010040653, 0.009933312, 0.010429578, 0.010150366, 0.009779774, 0.009864626, 0.009837038, 0.010038337, 0.009943841, 0.010001342, 0.010430346, 0.009928267, 0.010288728, 0.009891747, 0.009973665, 0.009875906, 0.009975985, 0.009989778, 0.00981616, 0.009720285, 0.009794454, 0.009844763, 0.009920989, 0.009748664, 0.009738406, 0.00997512, 0.010074002, 0.009784007, 0.00979244, 0.010075412, 0.01002148, 0.0113032255, 0.0098552, 0.0099836495, 0.009855679, 0.009739896, 0.009853557, 0.009871921, 0.010060551, 0.009843154, 0.01005233, 0.009742607, 0.009713904, 0.010089148, 0.009770746, 0.009752535, 0.0098382505, 0.009912595, 0.009907068, 0.010109113, 0.010083342, 0.009926582, 0.009893142, 0.0104127, 0.010041645, 0.010121387, 0.009867481, 0.009807462, 0.010237907, 0.009979225, 0.010124563, 0.009958457, 0.01008071, 0.0101457285, 0.00991311, 0.009882892, 0.009910049, 0.009827566, 0.009819609, 0.009752376, 0.0098765, 0.009776707, 0.009834561, 0.009895038, 0.009841368, 0.010027975, 0.009843448, 0.010020706, 0.009913907, 0.009999013, 0.01009754, 0.009921088, 0.010289836, 0.009911113, 0.009632061, 0.010332312, 0.009779586, 0.010052572, 0.009496431, 0.009758076, 0.009753469, 0.00996192, 0.009830219, 0.0100340275, 0.009902179, 0.009725751, 0.009940064, 0.009912248]\n",
      "2022-02-28 12:45:24,961 : INFO : merging changes from 1204 documents into a model of 3204 documents\n",
      "2022-02-28 12:45:24,964 : INFO : topic #90 (0.009): 0.001*\"implic\" + 0.001*\"favor\" + 0.001*\"adapt\" + 0.001*\"polygon\" + 0.001*\"stage\" + 0.001*\"situat\" + 0.001*\"respons\" + 0.001*\"industri\" + 0.001*\"regress\" + 0.001*\"drive\"\n",
      "2022-02-28 12:45:24,964 : INFO : topic #86 (0.010): 0.116*\"algorithm\" + 0.103*\"quadratur\" + 0.080*\"call\" + 0.069*\"round\" + 0.067*\"transform\" + 0.056*\"error\" + 0.041*\"devot\" + 0.039*\"differ\" + 0.038*\"fourier\" + 0.037*\"attent\"\n",
      "2022-02-28 12:45:24,964 : INFO : topic #12 (0.010): 0.081*\",\" + 0.032*\"-\" + 0.019*\"time\" + 0.018*\"program\" + 0.017*\"memori\" + 0.016*\"system\" + 0.013*\"process\" + 0.012*\"list\" + 0.012*\"comput\" + 0.012*\"\"\"\n",
      "2022-02-28 12:45:24,965 : INFO : topic #55 (0.010): 0.066*\",\" + 0.046*\"program\" + 0.043*\"data\" + 0.025*\"system\" + 0.017*\"-\" + 0.017*\"type\" + 0.014*\"structur\" + 0.013*\"array\" + 0.013*\"implement\" + 0.013*\"languag\"\n",
      "2022-02-28 12:45:24,965 : INFO : topic #33 (0.011): 0.101*\",\" + 0.031*\"-\" + 0.029*\"system\" + 0.027*\"program\" + 0.026*\"comput\" + 0.010*\"paper\" + 0.010*\"time\" + 0.009*\"data\" + 0.008*\"problem\" + 0.007*\"process\"\n",
      "2022-02-28 12:45:24,966 : INFO : topic diff=0.743373, rho=0.707107\n",
      "2022-02-28 12:45:24,970 : INFO : PROGRESS: pass 1, at document #2000/3204\n",
      "2022-02-28 12:45:25,382 : INFO : optimized alpha [0.010223587, 0.0097571835, 0.00996182, 0.009943854, 0.01051017, 0.010063807, 0.009888614, 0.009803234, 0.009831362, 0.009986784, 0.009872914, 0.009955288, 0.010382988, 0.009873654, 0.010223604, 0.009850231, 0.009928223, 0.009790374, 0.009906207, 0.009893399, 0.010326305, 0.009712471, 0.009711098, 0.009793623, 0.009920379, 0.009644547, 0.009874212, 0.010608965, 0.010113239, 0.00971356, 0.00978868, 0.010044498, 0.009950974, 0.011341945, 0.009743573, 0.010024468, 0.009798807, 0.009770714, 0.009765354, 0.009925341, 0.010040137, 0.009825881, 0.010070506, 0.009781149, 0.009753175, 0.01002493, 0.009792051, 0.009849623, 0.009826351, 0.009880357, 0.009897472, 0.010073327, 0.010073187, 0.009868685, 0.0098246755, 0.01038224, 0.009954659, 0.010005025, 0.009839287, 0.009833557, 0.0102064395, 0.009991534, 0.010052601, 0.009870978, 0.010041075, 0.010080882, 0.009945103, 0.009807345, 0.0099318465, 0.009730024, 0.009815481, 0.009694873, 0.009835455, 0.009740244, 0.00977561, 0.009897818, 0.009777498, 0.010020852, 0.009758235, 0.009979913, 0.009847639, 0.010101253, 0.010061089, 0.009892696, 0.010327641, 0.009928356, 0.00961562, 0.010213097, 0.009711552, 0.010052085, 0.009348562, 0.009718651, 0.009793348, 0.009952763, 0.00983947, 0.009971373, 0.009905007, 0.009731294, 0.009898031, 0.009946739]\n"
     ]
    },
    {
     "name": "stderr",
     "output_type": "stream",
     "text": [
      "2022-02-28 12:45:25,385 : INFO : merging changes from 2000 documents into a model of 3204 documents\n",
      "2022-02-28 12:45:25,388 : INFO : topic #90 (0.009): 0.001*\"implic\" + 0.001*\"favor\" + 0.001*\"adapt\" + 0.001*\"polygon\" + 0.001*\"stage\" + 0.001*\"situat\" + 0.001*\"respons\" + 0.001*\"industri\" + 0.001*\"regress\" + 0.001*\"drive\"\n",
      "2022-02-28 12:45:25,389 : INFO : topic #25 (0.010): 0.111*\"reconstruct\" + 0.110*\"move\" + 0.093*\"measur\" + 0.072*\"intersect\" + 0.071*\"track\" + 0.069*\"method\" + 0.054*\"gener\" + 0.054*\",\" + 0.045*\"common\" + 0.040*\"point\"\n",
      "2022-02-28 12:45:25,389 : INFO : topic #4 (0.011): 0.112*\"(\" + 0.087*\")\" + 0.085*\"]\" + 0.069*\"set\" + 0.042*\"1\" + 0.035*\"equat\" + 0.035*\",\" + 0.033*\"partit\" + 0.032*\"algorithm\" + 0.027*\"solut\"\n",
      "2022-02-28 12:45:25,389 : INFO : topic #27 (0.011): 0.233*\"(\" + 0.231*\"algorithm\" + 0.217*\")\" + 0.046*\"$\" + 0.035*\"invers\" + 0.031*\"))\" + 0.027*\"-\" + 0.026*\"ii\" + 0.025*\"matrix\" + 0.021*\"normal\"\n",
      "2022-02-28 12:45:25,389 : INFO : topic #33 (0.011): 0.105*\",\" + 0.030*\"-\" + 0.030*\"system\" + 0.028*\"program\" + 0.028*\"comput\" + 0.010*\"paper\" + 0.010*\"time\" + 0.009*\"data\" + 0.009*\"problem\" + 0.008*\"process\"\n",
      "2022-02-28 12:45:25,390 : INFO : topic diff=0.288545, rho=0.526900\n",
      "2022-02-28 12:45:25,888 : INFO : -6.873 per-word bound, 117.2 perplexity estimate based on a held-out corpus of 1204 documents with 49783 words\n",
      "2022-02-28 12:45:25,888 : INFO : PROGRESS: pass 1, at document #3204/3204\n",
      "2022-02-28 12:45:26,272 : INFO : optimized alpha [0.010557267, 0.0097330725, 0.010129427, 0.010034909, 0.011145275, 0.0102685215, 0.009966284, 0.009835406, 0.009915398, 0.010043781, 0.010010726, 0.0100781005, 0.010628314, 0.010041828, 0.010428608, 0.010017435, 0.010072954, 0.009836322, 0.010129591, 0.010013405, 0.010463195, 0.009808751, 0.009689103, 0.009985724, 0.009916529, 0.00966863, 0.009922053, 0.011126902, 0.010371814, 0.009790633, 0.00989272, 0.010230017, 0.0101765515, 0.011848615, 0.009745299, 0.010332615, 0.009934753, 0.009758982, 0.0098790405, 0.009999441, 0.01023011, 0.010100712, 0.010296649, 0.009812632, 0.00978039, 0.010272652, 0.0098503595, 0.009858416, 0.0099657765, 0.010093959, 0.009919831, 0.010153416, 0.01041501, 0.009983146, 0.009970007, 0.010650157, 0.010110268, 0.010278888, 0.009996826, 0.00992611, 0.01049208, 0.010144691, 0.010194618, 0.009941937, 0.010239981, 0.010321177, 0.010058539, 0.009939752, 0.010134412, 0.009736742, 0.009985183, 0.00973553, 0.009901787, 0.00977717, 0.009829475, 0.010050713, 0.009814422, 0.010210355, 0.009838979, 0.010183914, 0.009982354, 0.010360112, 0.010211869, 0.010024586, 0.01064587, 0.009981108, 0.009610465, 0.010582534, 0.009739593, 0.010176313, 0.009171278, 0.009865922, 0.009781456, 0.010006343, 0.009991753, 0.010197181, 0.010053351, 0.009820138, 0.010095831, 0.0101178745]\n",
      "2022-02-28 12:45:26,274 : INFO : merging changes from 1204 documents into a model of 3204 documents\n",
      "2022-02-28 12:45:26,278 : INFO : topic #90 (0.009): 0.001*\"implic\" + 0.001*\"favor\" + 0.001*\"adapt\" + 0.001*\"polygon\" + 0.001*\"stage\" + 0.001*\"situat\" + 0.001*\"respons\" + 0.001*\"industri\" + 0.001*\"regress\" + 0.001*\"drive\"\n",
      "2022-02-28 12:45:26,278 : INFO : topic #86 (0.010): 0.180*\"transform\" + 0.096*\"algorithm\" + 0.074*\"round\" + 0.074*\"quadratur\" + 0.063*\"fourier\" + 0.062*\"differ\" + 0.058*\"error\" + 0.040*\"call\" + 0.035*\"procedur\" + 0.035*\"fast\"\n",
      "2022-02-28 12:45:26,278 : INFO : topic #27 (0.011): 0.260*\"(\" + 0.235*\"algorithm\" + 0.218*\")\" + 0.063*\"$\" + 0.049*\"))\" + 0.030*\"-\" + 0.020*\"matrix\" + 0.020*\"invers\" + 0.018*\"ii\" + 0.016*\"normal\"\n",
      "2022-02-28 12:45:26,279 : INFO : topic #4 (0.011): 0.121*\"]\" + 0.120*\"(\" + 0.106*\")\" + 0.062*\"set\" + 0.056*\"1\" + 0.032*\"equat\" + 0.031*\",\" + 0.031*\"2\" + 0.030*\"algorithm\" + 0.028*\"partit\"\n",
      "2022-02-28 12:45:26,279 : INFO : topic #33 (0.012): 0.110*\",\" + 0.030*\"system\" + 0.029*\"comput\" + 0.029*\"program\" + 0.028*\"-\" + 0.009*\"data\" + 0.009*\"paper\" + 0.008*\"problem\" + 0.008*\"process\" + 0.007*\"time\"\n",
      "2022-02-28 12:45:26,279 : INFO : topic diff=0.416206, rho=0.526900\n",
      "2022-02-28 12:45:26,283 : INFO : PROGRESS: pass 2, at document #2000/3204\n",
      "2022-02-28 12:45:26,669 : INFO : optimized alpha [0.010581541, 0.009815452, 0.010075992, 0.010081863, 0.011235373, 0.010200417, 0.010069822, 0.009796923, 0.009948279, 0.010008823, 0.009947918, 0.010037451, 0.010589198, 0.010047023, 0.010366941, 0.010022281, 0.010055999, 0.009783705, 0.0100778835, 0.009938479, 0.011033536, 0.009882169, 0.009637205, 0.00997226, 0.009943198, 0.009593316, 0.010080134, 0.012118637, 0.010439096, 0.009784924, 0.009925822, 0.0101868855, 0.010131732, 0.011873885, 0.009650526, 0.010467456, 0.009940303, 0.0098336525, 0.009827307, 0.010086594, 0.010222545, 0.010130076, 0.010371673, 0.009884102, 0.009859357, 0.010235314, 0.009941366, 0.009972678, 0.009989793, 0.010071052, 0.009947517, 0.010146291, 0.010444029, 0.009962752, 0.009946713, 0.010625625, 0.010042692, 0.010185472, 0.009992384, 0.010012403, 0.0104688285, 0.010185682, 0.010135545, 0.009868501, 0.010234932, 0.010264149, 0.010107672, 0.009887108, 0.010209766, 0.009665031, 0.01000392, 0.009706921, 0.009892111, 0.0097830715, 0.009817986, 0.010066612, 0.009776043, 0.010236474, 0.009785994, 0.010203859, 0.00992839, 0.010533066, 0.010178988, 0.010020613, 0.01073518, 0.010036872, 0.009660568, 0.01047976, 0.00970902, 0.010194683, 0.009050464, 0.009902078, 0.009886173, 0.010077241, 0.010066984, 0.010168888, 0.01006449, 0.009876066, 0.010097857, 0.010178357]\n",
      "2022-02-28 12:45:26,672 : INFO : merging changes from 2000 documents into a model of 3204 documents\n",
      "2022-02-28 12:45:26,675 : INFO : topic #90 (0.009): 0.001*\"implic\" + 0.001*\"favor\" + 0.001*\"adapt\" + 0.001*\"polygon\" + 0.001*\"stage\" + 0.001*\"situat\" + 0.001*\"respons\" + 0.001*\"industri\" + 0.001*\"regress\" + 0.001*\"drive\"\n",
      "2022-02-28 12:45:26,675 : INFO : topic #25 (0.010): 0.152*\"measur\" + 0.125*\"move\" + 0.105*\"reconstruct\" + 0.074*\"track\" + 0.070*\"intersect\" + 0.057*\"method\" + 0.053*\",\" + 0.048*\"common\" + 0.046*\"gener\" + 0.045*\"point\"\n",
      "2022-02-28 12:45:26,676 : INFO : topic #4 (0.011): 0.121*\"(\" + 0.101*\")\" + 0.094*\"]\" + 0.062*\"set\" + 0.058*\"1\" + 0.041*\"2\" + 0.034*\"equat\" + 0.032*\",\" + 0.030*\"partit\" + 0.028*\"algorithm\"\n",
      "2022-02-28 12:45:26,676 : INFO : topic #33 (0.012): 0.115*\",\" + 0.032*\"comput\" + 0.031*\"program\" + 0.030*\"system\" + 0.028*\"-\" + 0.010*\"paper\" + 0.009*\"data\" + 0.009*\"problem\" + 0.009*\"process\" + 0.008*\"time\"\n",
      "2022-02-28 12:45:26,676 : INFO : topic #27 (0.012): 0.278*\"(\" + 0.254*\")\" + 0.241*\"algorithm\" + 0.034*\"$\" + 0.026*\"invers\" + 0.024*\"))\" + 0.021*\"matrix\" + 0.021*\"-\" + 0.020*\"ii\" + 0.017*\"integr\"\n",
      "2022-02-28 12:45:26,677 : INFO : topic diff=0.370924, rho=0.466151\n",
      "2022-02-28 12:45:27,146 : INFO : -6.759 per-word bound, 108.3 perplexity estimate based on a held-out corpus of 1204 documents with 49783 words\n",
      "2022-02-28 12:45:27,147 : INFO : PROGRESS: pass 2, at document #3204/3204\n",
      "2022-02-28 12:45:27,487 : INFO : optimized alpha [0.010898362, 0.009836728, 0.010233375, 0.01016259, 0.011802681, 0.010379217, 0.010200905, 0.009811571, 0.010046651, 0.010060441, 0.0101098595, 0.010158764, 0.010774753, 0.010220283, 0.010570045, 0.010226107, 0.01018105, 0.009852554, 0.010313113, 0.010061357, 0.01121125, 0.0100404695, 0.009674004, 0.010194623, 0.009956511, 0.009631786, 0.010148572, 0.012829277, 0.010679247, 0.009980934, 0.010068179, 0.010376001, 0.010369106, 0.01228153, 0.0096739195, 0.01081667, 0.010096401, 0.009862034, 0.009963621, 0.01019519, 0.010411793, 0.010424289, 0.010602349, 0.009919617, 0.009886968, 0.0104688695, 0.010039477, 0.010014867, 0.010141408, 0.0102813495, 0.009991268, 0.010201668, 0.010736254, 0.010092256, 0.010119227, 0.010865242, 0.01023294, 0.01047839, 0.010148312, 0.010121498, 0.010691738, 0.010341719, 0.010246032, 0.009975257, 0.010431871, 0.010494723, 0.010208398, 0.01007117, 0.010442965, 0.009718898, 0.010209846, 0.009755533, 0.0099594705, 0.009851053, 0.00990128, 0.010245857, 0.009821812, 0.010417637, 0.009873914, 0.010422009, 0.010075585, 0.010807116, 0.010321072, 0.01014601, 0.011069233, 0.010122955, 0.0097131375, 0.010795169, 0.009776931, 0.010321052, 0.0089048175, 0.010064033, 0.009925621, 0.010215487, 0.010237648, 0.010374613, 0.010228128, 0.010094335, 0.010306029, 0.01036254]\n",
      "2022-02-28 12:45:27,489 : INFO : merging changes from 1204 documents into a model of 3204 documents\n"
     ]
    },
    {
     "name": "stderr",
     "output_type": "stream",
     "text": [
      "2022-02-28 12:45:27,492 : INFO : topic #90 (0.009): 0.001*\"implic\" + 0.001*\"favor\" + 0.001*\"adapt\" + 0.001*\"polygon\" + 0.001*\"stage\" + 0.001*\"situat\" + 0.001*\"respons\" + 0.001*\"industri\" + 0.001*\"regress\" + 0.001*\"drive\"\n",
      "2022-02-28 12:45:27,493 : INFO : topic #25 (0.010): 0.200*\"measur\" + 0.161*\"move\" + 0.120*\"reconstruct\" + 0.071*\"intersect\" + 0.064*\"track\" + 0.052*\",\" + 0.051*\"common\" + 0.043*\"point\" + 0.039*\"method\" + 0.033*\"gener\"\n",
      "2022-02-28 12:45:27,493 : INFO : topic #4 (0.012): 0.130*\"(\" + 0.121*\")\" + 0.119*\"]\" + 0.068*\"1\" + 0.055*\"set\" + 0.043*\"2\" + 0.030*\",\" + 0.029*\"[\" + 0.027*\"partit\" + 0.026*\"algorithm\"\n",
      "2022-02-28 12:45:27,493 : INFO : topic #33 (0.012): 0.118*\",\" + 0.033*\"comput\" + 0.031*\"program\" + 0.030*\"system\" + 0.026*\"-\" + 0.009*\"paper\" + 0.009*\"provid\" + 0.009*\"develop\" + 0.009*\"data\" + 0.008*\"problem\"\n",
      "2022-02-28 12:45:27,494 : INFO : topic #27 (0.013): 0.296*\"(\" + 0.249*\")\" + 0.241*\"algorithm\" + 0.046*\"$\" + 0.036*\"))\" + 0.021*\"-\" + 0.017*\"invers\" + 0.016*\"matrix\" + 0.016*\"ii\" + 0.014*\"integr\"\n",
      "2022-02-28 12:45:27,494 : INFO : topic diff=0.503843, rho=0.466151\n",
      "2022-02-28 12:45:27,498 : INFO : PROGRESS: pass 3, at document #2000/3204\n",
      "2022-02-28 12:45:27,873 : INFO : optimized alpha [0.010941363, 0.009933402, 0.010182386, 0.010227114, 0.011921792, 0.010319137, 0.010323327, 0.009784707, 0.010095961, 0.010047189, 0.010071958, 0.0101349605, 0.010750058, 0.010248232, 0.010519808, 0.010235958, 0.010180733, 0.009820687, 0.010279784, 0.010008939, 0.0117667, 0.010136997, 0.009643009, 0.010206956, 0.010003126, 0.009573686, 0.010319145, 0.013969793, 0.010737198, 0.009996166, 0.0101170745, 0.010349111, 0.010346622, 0.012297707, 0.009597034, 0.010988995, 0.010109509, 0.009964398, 0.009931522, 0.010304962, 0.010412656, 0.010480058, 0.010679213, 0.0099893715, 0.009978229, 0.010453458, 0.010163181, 0.010144896, 0.010190815, 0.010267954, 0.010053181, 0.01021353, 0.01079503, 0.010086536, 0.010144679, 0.010852834, 0.010184017, 0.010397672, 0.010165327, 0.010232735, 0.010669155, 0.010393815, 0.010197415, 0.0099157505, 0.010432728, 0.010461496, 0.01025978, 0.010035485, 0.010535291, 0.009665905, 0.010225657, 0.00973891, 0.009978935, 0.0098841395, 0.009912517, 0.010291954, 0.009798807, 0.01048072, 0.009830921, 0.010465666, 0.0100455955, 0.011028313, 0.010297535, 0.010157399, 0.011197029, 0.010178091, 0.00978187, 0.010708027, 0.009779124, 0.010355236, 0.008802736, 0.010120008, 0.01006128, 0.0103346715, 0.010310061, 0.010354393, 0.010239733, 0.010167999, 0.010328557, 0.01043895]\n",
      "2022-02-28 12:45:27,876 : INFO : merging changes from 2000 documents into a model of 3204 documents\n",
      "2022-02-28 12:45:27,879 : INFO : topic #90 (0.009): 0.001*\"implic\" + 0.001*\"favor\" + 0.001*\"adapt\" + 0.001*\"polygon\" + 0.001*\"stage\" + 0.001*\"situat\" + 0.001*\"respons\" + 0.001*\"industri\" + 0.001*\"regress\" + 0.001*\"drive\"\n",
      "2022-02-28 12:45:27,880 : INFO : topic #25 (0.010): 0.196*\"measur\" + 0.133*\"move\" + 0.103*\"reconstruct\" + 0.076*\"track\" + 0.074*\"intersect\" + 0.052*\",\" + 0.045*\"point\" + 0.044*\"method\" + 0.043*\"common\" + 0.036*\"argument\"\n",
      "2022-02-28 12:45:27,880 : INFO : topic #4 (0.012): 0.133*\"(\" + 0.118*\")\" + 0.093*\"]\" + 0.072*\"1\" + 0.057*\"set\" + 0.052*\"2\" + 0.031*\",\" + 0.029*\"partit\" + 0.026*\"3\" + 0.025*\"equat\"\n",
      "2022-02-28 12:45:27,880 : INFO : topic #33 (0.012): 0.123*\",\" + 0.035*\"comput\" + 0.033*\"program\" + 0.030*\"system\" + 0.025*\"-\" + 0.010*\"paper\" + 0.009*\"data\" + 0.009*\"provid\" + 0.009*\"problem\" + 0.009*\"develop\"\n",
      "2022-02-28 12:45:27,881 : INFO : topic #27 (0.014): 0.302*\"(\" + 0.271*\")\" + 0.243*\"algorithm\" + 0.030*\"$\" + 0.022*\"))\" + 0.019*\"invers\" + 0.018*\"integr\" + 0.017*\"-\" + 0.016*\"matrix\" + 0.016*\"ii\"\n",
      "2022-02-28 12:45:27,881 : INFO : topic diff=0.504932, rho=0.422502\n",
      "2022-02-28 12:45:28,334 : INFO : -6.685 per-word bound, 102.9 perplexity estimate based on a held-out corpus of 1204 documents with 49783 words\n",
      "2022-02-28 12:45:28,334 : INFO : PROGRESS: pass 3, at document #3204/3204\n",
      "2022-02-28 12:45:28,661 : INFO : optimized alpha [0.011218141, 0.009959647, 0.0103443945, 0.010307685, 0.012470145, 0.010497471, 0.010482623, 0.009813545, 0.010221681, 0.010109043, 0.010234419, 0.010295985, 0.010911967, 0.010424869, 0.01072071, 0.0104699, 0.010291281, 0.009898061, 0.010491905, 0.010124949, 0.011985302, 0.010303053, 0.009705068, 0.010411194, 0.010004862, 0.009620213, 0.010390832, 0.014856208, 0.010972862, 0.010233037, 0.010257739, 0.010529413, 0.010579124, 0.012660675, 0.009640621, 0.011357878, 0.010255738, 0.010000494, 0.010098653, 0.01042537, 0.010593248, 0.010807622, 0.010913698, 0.010032326, 0.010024221, 0.010671118, 0.010277073, 0.010186144, 0.010372768, 0.010475155, 0.0101037305, 0.010275372, 0.011075938, 0.010219025, 0.0103457, 0.011084071, 0.010383617, 0.010677817, 0.010332942, 0.010349787, 0.010854297, 0.010539875, 0.010302179, 0.010024042, 0.010627457, 0.010687492, 0.010369786, 0.010225332, 0.01076474, 0.0097607225, 0.010432659, 0.009801179, 0.010058498, 0.009970746, 0.010040875, 0.010459627, 0.009897238, 0.010664694, 0.009911615, 0.01068804, 0.01019791, 0.011305028, 0.010434605, 0.010278971, 0.011538883, 0.010260169, 0.009860703, 0.010990077, 0.009876013, 0.010463007, 0.008679053, 0.010307241, 0.010146092, 0.010512281, 0.010469767, 0.010575729, 0.010418293, 0.0104084285, 0.0105488235, 0.010629652]\n",
      "2022-02-28 12:45:28,664 : INFO : merging changes from 1204 documents into a model of 3204 documents\n",
      "2022-02-28 12:45:28,667 : INFO : topic #90 (0.009): 0.001*\"implic\" + 0.001*\"favor\" + 0.001*\"adapt\" + 0.001*\"polygon\" + 0.001*\"stage\" + 0.001*\"situat\" + 0.001*\"respons\" + 0.001*\"industri\" + 0.001*\"regress\" + 0.001*\"drive\"\n",
      "2022-02-28 12:45:28,668 : INFO : topic #34 (0.010): 0.119*\"architectur\" + 0.056*\",\" + 0.041*\"smaller\" + 0.036*\"cover\" + 0.035*\"system\" + 0.031*\"past\" + 0.030*\"entir\" + 0.028*\"paper\" + 0.027*\"consider\" + 0.021*\"number\"\n",
      "2022-02-28 12:45:28,668 : INFO : topic #4 (0.012): 0.141*\"(\" + 0.135*\")\" + 0.114*\"]\" + 0.077*\"1\" + 0.051*\"2\" + 0.049*\"set\" + 0.031*\"[\" + 0.028*\",\" + 0.027*\"partit\" + 0.026*\"3\"\n",
      "2022-02-28 12:45:28,669 : INFO : topic #33 (0.013): 0.123*\",\" + 0.035*\"comput\" + 0.031*\"program\" + 0.030*\"system\" + 0.024*\"-\" + 0.010*\"provid\" + 0.010*\"develop\" + 0.010*\"paper\" + 0.009*\"manag\" + 0.009*\"problem\"\n",
      "2022-02-28 12:45:28,669 : INFO : topic #27 (0.015): 0.317*\"(\" + 0.268*\")\" + 0.238*\"algorithm\" + 0.039*\"$\" + 0.031*\"))\" + 0.017*\"-\" + 0.015*\"integr\" + 0.013*\"matrix\" + 0.013*\"invers\" + 0.011*\"ii\"\n",
      "2022-02-28 12:45:28,669 : INFO : topic diff=0.618116, rho=0.422502\n",
      "2022-02-28 12:45:28,673 : INFO : PROGRESS: pass 4, at document #2000/3204\n",
      "2022-02-28 12:45:29,035 : INFO : optimized alpha [0.011269577, 0.01005755, 0.010317287, 0.01038176, 0.012585831, 0.010453878, 0.010608765, 0.009791962, 0.010295451, 0.010101545, 0.010225131, 0.010269441, 0.010895216, 0.010450116, 0.01067961, 0.01050208, 0.010299208, 0.0098926425, 0.010472282, 0.010080936, 0.012521722, 0.0104105985, 0.009700155, 0.0104358755, 0.01005856, 0.009575633, 0.010562024, 0.016153907, 0.01102996, 0.010268029, 0.010306771, 0.010505897, 0.010573485, 0.012669922, 0.009581102, 0.011546635, 0.01026957, 0.010117516, 0.0100861825, 0.010541678, 0.010601646, 0.010870356, 0.010995179, 0.010083638, 0.010121006, 0.010666121, 0.010416499, 0.010317329, 0.0104483375, 0.010465823, 0.010161527, 0.010307039, 0.011150835, 0.01023153, 0.010418891, 0.0110865785, 0.010335389, 0.010605202, 0.010366259, 0.010461339, 0.010841263, 0.010585963, 0.0102618495, 0.009989364, 0.010641819, 0.010670082, 0.010421544, 0.010205553, 0.010862548, 0.00971438, 0.010458396, 0.009790435, 0.010143903, 0.010015272, 0.010070802, 0.010518113, 0.009882146, 0.01075203, 0.009874699, 0.01074441, 0.010169918, 0.011533363, 0.01041888, 0.010307592, 0.01168253, 0.010315369, 0.009941898, 0.010905228, 0.009899573, 0.010505074, 0.008590729, 0.010378697, 0.01031603, 0.0106562795, 0.010542916, 0.010562057, 0.010440559, 0.0104943905, 0.010589373, 0.010706376]\n",
      "2022-02-28 12:45:29,038 : INFO : merging changes from 2000 documents into a model of 3204 documents\n",
      "2022-02-28 12:45:29,041 : INFO : topic #90 (0.009): 0.001*\"implic\" + 0.001*\"favor\" + 0.001*\"adapt\" + 0.001*\"polygon\" + 0.001*\"stage\" + 0.001*\"situat\" + 0.001*\"respons\" + 0.001*\"industri\" + 0.001*\"regress\" + 0.001*\"drive\"\n"
     ]
    },
    {
     "name": "stderr",
     "output_type": "stream",
     "text": [
      "2022-02-28 12:45:29,041 : INFO : topic #34 (0.010): 0.081*\"architectur\" + 0.057*\",\" + 0.041*\"smaller\" + 0.040*\"system\" + 0.031*\"consider\" + 0.030*\"cover\" + 0.028*\"entir\" + 0.027*\"paper\" + 0.024*\"past\" + 0.021*\"data\"\n",
      "2022-02-28 12:45:29,042 : INFO : topic #4 (0.013): 0.144*\"(\" + 0.132*\")\" + 0.092*\"]\" + 0.082*\"1\" + 0.061*\"2\" + 0.049*\"set\" + 0.029*\",\" + 0.029*\"3\" + 0.028*\"partit\" + 0.026*\"[\"\n",
      "2022-02-28 12:45:29,042 : INFO : topic #33 (0.013): 0.128*\",\" + 0.036*\"comput\" + 0.033*\"program\" + 0.029*\"system\" + 0.024*\"-\" + 0.010*\"provid\" + 0.010*\"develop\" + 0.010*\"paper\" + 0.009*\"problem\" + 0.009*\"data\"\n",
      "2022-02-28 12:45:29,042 : INFO : topic #27 (0.016): 0.320*\"(\" + 0.284*\")\" + 0.238*\"algorithm\" + 0.028*\"$\" + 0.020*\"))\" + 0.019*\"integr\" + 0.014*\"-\" + 0.014*\"invers\" + 0.014*\"matrix\" + 0.010*\"normal\"\n",
      "2022-02-28 12:45:29,043 : INFO : topic diff=0.594575, rho=0.389191\n",
      "2022-02-28 12:45:29,484 : INFO : -6.634 per-word bound, 99.3 perplexity estimate based on a held-out corpus of 1204 documents with 49783 words\n",
      "2022-02-28 12:45:29,484 : INFO : PROGRESS: pass 4, at document #3204/3204\n",
      "2022-02-28 12:45:29,797 : INFO : optimized alpha [0.011521292, 0.010078485, 0.010481514, 0.01047322, 0.01311005, 0.010616365, 0.010760248, 0.009819802, 0.010435771, 0.010169219, 0.010386375, 0.01041916, 0.01104557, 0.010621439, 0.010880537, 0.010737811, 0.010398487, 0.009964793, 0.010676944, 0.010192131, 0.012732806, 0.010578633, 0.0097708525, 0.010636558, 0.0100606475, 0.009647632, 0.010630596, 0.017197406, 0.011246247, 0.010533461, 0.010454256, 0.010666617, 0.010797492, 0.013001532, 0.00964457, 0.011942543, 0.010408914, 0.010163665, 0.01027472, 0.0106563885, 0.010800826, 0.011228457, 0.011214251, 0.01014343, 0.01017962, 0.010889904, 0.010535319, 0.010364839, 0.010648647, 0.01067578, 0.010221875, 0.010374641, 0.0114395805, 0.010374565, 0.010647306, 0.01129856, 0.010531582, 0.010880735, 0.0105457865, 0.010579909, 0.011013762, 0.010738899, 0.010366032, 0.01009992, 0.010830179, 0.01089133, 0.010537189, 0.010388939, 0.011091262, 0.0098185325, 0.0106684845, 0.0098582115, 0.010237249, 0.010115245, 0.010213082, 0.010684387, 0.009996434, 0.010933872, 0.009963109, 0.01097332, 0.010328114, 0.011801013, 0.010542821, 0.010443922, 0.011997921, 0.01040162, 0.010018164, 0.0111826705, 0.010024946, 0.010636061, 0.00848329, 0.010566654, 0.010437277, 0.010860348, 0.010694858, 0.010771818, 0.010620353, 0.010723265, 0.010801926, 0.010905018]\n",
      "2022-02-28 12:45:29,799 : INFO : merging changes from 1204 documents into a model of 3204 documents\n",
      "2022-02-28 12:45:29,803 : INFO : topic #90 (0.008): 0.001*\"implic\" + 0.001*\"favor\" + 0.001*\"adapt\" + 0.001*\"polygon\" + 0.001*\"stage\" + 0.001*\"situat\" + 0.001*\"respons\" + 0.001*\"industri\" + 0.001*\"regress\" + 0.001*\"drive\"\n",
      "2022-02-28 12:45:29,803 : INFO : topic #25 (0.010): 0.293*\"measur\" + 0.163*\"move\" + 0.113*\"reconstruct\" + 0.071*\"intersect\" + 0.065*\"track\" + 0.047*\"point\" + 0.047*\",\" + 0.037*\"argument\" + 0.023*\"method\" + 0.019*\"gener\"\n",
      "2022-02-28 12:45:29,803 : INFO : topic #33 (0.013): 0.129*\",\" + 0.038*\"comput\" + 0.031*\"program\" + 0.029*\"system\" + 0.023*\"-\" + 0.012*\"provid\" + 0.011*\"develop\" + 0.011*\"manag\" + 0.010*\"paper\" + 0.009*\"problem\"\n",
      "2022-02-28 12:45:29,804 : INFO : topic #4 (0.013): 0.151*\"(\" + 0.148*\")\" + 0.110*\"]\" + 0.083*\"1\" + 0.057*\"2\" + 0.043*\"set\" + 0.033*\"[\" + 0.028*\"3\" + 0.027*\",\" + 0.026*\"partit\"\n",
      "2022-02-28 12:45:29,804 : INFO : topic #27 (0.017): 0.330*\"(\" + 0.280*\")\" + 0.234*\"algorithm\" + 0.035*\"$\" + 0.028*\"))\" + 0.016*\"integr\" + 0.015*\"-\" + 0.012*\"matrix\" + 0.010*\"invers\" + 0.009*\"normal\"\n",
      "2022-02-28 12:45:29,804 : INFO : topic diff=0.658356, rho=0.389191\n",
      "2022-02-28 12:45:29,808 : INFO : PROGRESS: pass 5, at document #2000/3204\n",
      "2022-02-28 12:45:30,160 : INFO : optimized alpha [0.011583176, 0.010176421, 0.010461442, 0.010554323, 0.01321432, 0.010577382, 0.0109085, 0.009813367, 0.010524113, 0.01017773, 0.010398149, 0.010397909, 0.011039857, 0.010652253, 0.010839292, 0.010764992, 0.010406085, 0.009976818, 0.010667313, 0.010153223, 0.013258696, 0.010677946, 0.009772082, 0.01065895, 0.010115349, 0.00960691, 0.010798078, 0.018610934, 0.011309213, 0.0105959, 0.01051523, 0.010644237, 0.010800888, 0.0130076995, 0.009599044, 0.012166074, 0.010421634, 0.010287055, 0.010279148, 0.010769818, 0.0108197015, 0.01130006, 0.011296353, 0.010201161, 0.010281922, 0.010892023, 0.0106708985, 0.010496221, 0.010740462, 0.01066805, 0.010283886, 0.010406662, 0.011529759, 0.010391705, 0.010756262, 0.011304069, 0.010491507, 0.010810832, 0.01056891, 0.010692661, 0.011007211, 0.010791553, 0.010340129, 0.010071521, 0.010842929, 0.010883908, 0.01060307, 0.010382972, 0.0111910915, 0.009779238, 0.010699497, 0.009850555, 0.010338296, 0.010173691, 0.010255726, 0.010740887, 0.009993437, 0.011031546, 0.009940124, 0.011035481, 0.010307194, 0.012038043, 0.010537911, 0.010499245, 0.012137779, 0.010466885, 0.010096488, 0.011103523, 0.010056086, 0.010689129, 0.008405568, 0.010644896, 0.01061349, 0.011034536, 0.010765292, 0.010769898, 0.0106425425, 0.010825134, 0.010837232, 0.010990534]\n",
      "2022-02-28 12:45:30,163 : INFO : merging changes from 2000 documents into a model of 3204 documents\n",
      "2022-02-28 12:45:30,166 : INFO : topic #90 (0.008): 0.001*\"implic\" + 0.001*\"favor\" + 0.001*\"adapt\" + 0.001*\"polygon\" + 0.001*\"stage\" + 0.001*\"situat\" + 0.001*\"respons\" + 0.001*\"industri\" + 0.001*\"regress\" + 0.001*\"drive\"\n",
      "2022-02-28 12:45:30,166 : INFO : topic #25 (0.010): 0.283*\"measur\" + 0.137*\"move\" + 0.100*\"reconstruct\" + 0.076*\"track\" + 0.073*\"intersect\" + 0.050*\"point\" + 0.048*\",\" + 0.044*\"argument\" + 0.027*\"method\" + 0.023*\"gener\"\n",
      "2022-02-28 12:45:30,166 : INFO : topic #4 (0.013): 0.154*\"(\" + 0.144*\")\" + 0.091*\"]\" + 0.089*\"1\" + 0.067*\"2\" + 0.043*\"set\" + 0.031*\"3\" + 0.029*\"[\" + 0.028*\"partit\" + 0.027*\",\"\n",
      "2022-02-28 12:45:30,167 : INFO : topic #20 (0.013): 0.219*\"[\" + 0.195*\"algorithm\" + 0.169*\"(\" + 0.156*\"])\" + 0.019*\"function\" + 0.019*\"complex\" + 0.017*\"g6\" + 0.016*\"matrix\" + 0.016*\"-\" + 0.015*\"gener\"\n",
      "2022-02-28 12:45:30,167 : INFO : topic #27 (0.019): 0.331*\"(\" + 0.293*\")\" + 0.235*\"algorithm\" + 0.026*\"$\" + 0.019*\"))\" + 0.019*\"integr\" + 0.013*\"matrix\" + 0.013*\"-\" + 0.011*\"invers\" + 0.009*\"normal\"\n",
      "2022-02-28 12:45:30,167 : INFO : topic diff=0.599546, rho=0.362690\n",
      "2022-02-28 12:45:30,594 : INFO : -6.595 per-word bound, 96.6 perplexity estimate based on a held-out corpus of 1204 documents with 49783 words\n",
      "2022-02-28 12:45:30,594 : INFO : PROGRESS: pass 5, at document #3204/3204\n",
      "2022-02-28 12:45:30,891 : INFO : optimized alpha [0.0118280705, 0.010195971, 0.010635254, 0.010652642, 0.01371523, 0.010746534, 0.011084004, 0.009846303, 0.010662519, 0.010254049, 0.010556356, 0.010538811, 0.011181284, 0.010816826, 0.011038498, 0.011007642, 0.010483636, 0.010060127, 0.010873327, 0.010267172, 0.013472393, 0.010858806, 0.0098565295, 0.010844934, 0.010117844, 0.009689564, 0.010864561, 0.019784141, 0.011527231, 0.010870759, 0.010682409, 0.010788947, 0.011015646, 0.01333754, 0.009673912, 0.012577308, 0.010555889, 0.0103424415, 0.010475746, 0.010887042, 0.011024098, 0.011666462, 0.011530907, 0.010285282, 0.010342841, 0.011109862, 0.010804659, 0.010543264, 0.01094938, 0.010875825, 0.010340405, 0.010460784, 0.011803989, 0.010535762, 0.011005462, 0.011521177, 0.0106988065, 0.011084243, 0.010741287, 0.010803761, 0.011159576, 0.010938739, 0.010431819, 0.01019088, 0.011020329, 0.0110925175, 0.010708325, 0.010562079, 0.011431423, 0.009904012, 0.010917337, 0.009914646, 0.010428887, 0.010273757, 0.010389695, 0.01090393, 0.01013779, 0.011206208, 0.010029523, 0.011275502, 0.010465474, 0.012288537, 0.0106640635, 0.010656104, 0.012464219, 0.010557371, 0.010170981, 0.011372306, 0.010173998, 0.01082877, 0.00831067, 0.010847815, 0.010755938, 0.011244462, 0.010914746, 0.010987487, 0.010821721, 0.011058408, 0.011051093, 0.011194786]\n",
      "2022-02-28 12:45:30,893 : INFO : merging changes from 1204 documents into a model of 3204 documents\n",
      "2022-02-28 12:45:30,897 : INFO : topic #90 (0.008): 0.001*\"implic\" + 0.001*\"favor\" + 0.001*\"adapt\" + 0.001*\"polygon\" + 0.001*\"stage\" + 0.001*\"situat\" + 0.001*\"respons\" + 0.001*\"industri\" + 0.001*\"regress\" + 0.001*\"drive\"\n",
      "2022-02-28 12:45:30,897 : INFO : topic #25 (0.010): 0.325*\"measur\" + 0.158*\"move\" + 0.108*\"reconstruct\" + 0.068*\"intersect\" + 0.064*\"track\" + 0.047*\"point\" + 0.044*\",\" + 0.044*\"argument\" + 0.019*\"method\" + 0.016*\"gener\"\n"
     ]
    },
    {
     "name": "stderr",
     "output_type": "stream",
     "text": [
      "2022-02-28 12:45:30,897 : INFO : topic #20 (0.013): 0.232*\"[\" + 0.207*\"algorithm\" + 0.163*\"(\" + 0.121*\"])\" + 0.023*\"complex\" + 0.019*\"g6\" + 0.018*\"matrix\" + 0.018*\"function\" + 0.016*\"eigenvalu\" + 0.016*\"gener\"\n",
      "2022-02-28 12:45:30,897 : INFO : topic #4 (0.014): 0.161*\"(\" + 0.159*\")\" + 0.108*\"]\" + 0.090*\"1\" + 0.062*\"2\" + 0.037*\"set\" + 0.033*\"[\" + 0.030*\"3\" + 0.026*\"partit\" + 0.026*\",\"\n",
      "2022-02-28 12:45:30,898 : INFO : topic #27 (0.020): 0.339*\"(\" + 0.288*\")\" + 0.230*\"algorithm\" + 0.033*\"$\" + 0.026*\"))\" + 0.016*\"integr\" + 0.013*\"-\" + 0.012*\"matrix\" + 0.009*\"invers\" + 0.008*\"normal\"\n",
      "2022-02-28 12:45:30,898 : INFO : topic diff=0.625042, rho=0.362690\n",
      "2022-02-28 12:45:30,902 : INFO : PROGRESS: pass 6, at document #2000/3204\n",
      "2022-02-28 12:45:31,250 : INFO : optimized alpha [0.011893852, 0.010285689, 0.010619514, 0.010738807, 0.013837697, 0.010713068, 0.011246421, 0.009844524, 0.010755475, 0.010264293, 0.0105744675, 0.010520432, 0.011175848, 0.010845604, 0.011013993, 0.011036047, 0.0104912855, 0.010077042, 0.0108670825, 0.010239626, 0.013986109, 0.010958573, 0.009861382, 0.01086545, 0.010168455, 0.009661614, 0.011026045, 0.021303492, 0.011584288, 0.010929136, 0.010745333, 0.010775105, 0.011038708, 0.013352732, 0.009636797, 0.012812691, 0.010575012, 0.010474157, 0.010484628, 0.010994821, 0.011048702, 0.011738976, 0.011606327, 0.010350667, 0.010443693, 0.011101355, 0.010957749, 0.010679122, 0.011047607, 0.010876954, 0.010413483, 0.010491539, 0.011886969, 0.01055893, 0.011148253, 0.011527637, 0.010667426, 0.011018375, 0.010769927, 0.010921999, 0.011155127, 0.010999584, 0.010411562, 0.010165953, 0.011046862, 0.011088481, 0.010770806, 0.010561337, 0.01152982, 0.009867027, 0.010951428, 0.009911377, 0.010539296, 0.0103363665, 0.010440512, 0.01096655, 0.01014519, 0.011302541, 0.010013436, 0.011341427, 0.01045077, 0.01250795, 0.010670504, 0.010719375, 0.012614359, 0.010621178, 0.0102471765, 0.011299884, 0.010227824, 0.010878881, 0.00824136, 0.010927165, 0.0109501975, 0.01143659, 0.01098691, 0.010990388, 0.0108607495, 0.011154943, 0.011096941, 0.01128321]\n",
      "2022-02-28 12:45:31,253 : INFO : merging changes from 2000 documents into a model of 3204 documents\n",
      "2022-02-28 12:45:31,256 : INFO : topic #90 (0.008): 0.001*\"implic\" + 0.001*\"favor\" + 0.001*\"adapt\" + 0.001*\"polygon\" + 0.001*\"stage\" + 0.001*\"situat\" + 0.001*\"respons\" + 0.001*\"industri\" + 0.001*\"regress\" + 0.001*\"drive\"\n",
      "2022-02-28 12:45:31,256 : INFO : topic #25 (0.010): 0.316*\"measur\" + 0.136*\"move\" + 0.096*\"reconstruct\" + 0.074*\"track\" + 0.070*\"intersect\" + 0.051*\"argument\" + 0.050*\"point\" + 0.045*\",\" + 0.022*\"method\" + 0.016*\"gener\"\n",
      "2022-02-28 12:45:31,257 : INFO : topic #4 (0.014): 0.165*\"(\" + 0.155*\")\" + 0.096*\"1\" + 0.090*\"]\" + 0.070*\"2\" + 0.037*\"set\" + 0.032*\"3\" + 0.029*\"[\" + 0.027*\"partit\" + 0.026*\",\"\n",
      "2022-02-28 12:45:31,257 : INFO : topic #20 (0.014): 0.223*\"[\" + 0.200*\"algorithm\" + 0.171*\"(\" + 0.156*\"])\" + 0.019*\"complex\" + 0.017*\"function\" + 0.017*\"g6\" + 0.016*\"matrix\" + 0.016*\"-\" + 0.015*\"eigenvalu\"\n",
      "2022-02-28 12:45:31,257 : INFO : topic #27 (0.021): 0.338*\"(\" + 0.298*\")\" + 0.231*\"algorithm\" + 0.025*\"$\" + 0.019*\"integr\" + 0.019*\"))\" + 0.013*\"matrix\" + 0.012*\"-\" + 0.010*\"invers\" + 0.008*\"normal\"\n",
      "2022-02-28 12:45:31,257 : INFO : topic diff=0.553004, rho=0.340958\n",
      "2022-02-28 12:45:31,675 : INFO : -6.565 per-word bound, 94.7 perplexity estimate based on a held-out corpus of 1204 documents with 49783 words\n",
      "2022-02-28 12:45:31,676 : INFO : PROGRESS: pass 6, at document #3204/3204\n",
      "2022-02-28 12:45:31,969 : INFO : optimized alpha [0.012140706, 0.010304144, 0.010784761, 0.010831761, 0.014346983, 0.010882977, 0.011452186, 0.009887527, 0.010895996, 0.010354451, 0.010736892, 0.010657143, 0.01131002, 0.010995775, 0.011219165, 0.011273975, 0.010567902, 0.010170524, 0.011066173, 0.010359414, 0.01421948, 0.01114306, 0.009944464, 0.0110392, 0.0101743, 0.009745701, 0.011094258, 0.022548025, 0.011795177, 0.011202064, 0.010916591, 0.010918612, 0.01125579, 0.013667451, 0.009716352, 0.013230897, 0.010717488, 0.010538003, 0.010698801, 0.011111866, 0.011246577, 0.012099103, 0.01183352, 0.010448023, 0.010509982, 0.011302253, 0.011090715, 0.010735169, 0.011265834, 0.011090117, 0.010472848, 0.010540041, 0.0121661555, 0.010698719, 0.01143782, 0.011751041, 0.010852464, 0.011285379, 0.010930761, 0.011036324, 0.011306134, 0.0111392, 0.010498686, 0.010293724, 0.011221694, 0.011286819, 0.010873441, 0.010749699, 0.011756364, 0.010002311, 0.011177742, 0.009978044, 0.010636797, 0.010439837, 0.010582336, 0.011121407, 0.010302842, 0.011468571, 0.0100983605, 0.011573935, 0.0106159365, 0.012736373, 0.010787142, 0.010880632, 0.01293555, 0.010712802, 0.010323471, 0.0115493005, 0.010354099, 0.0110301, 0.008156421, 0.011126792, 0.0111132525, 0.011643786, 0.011131877, 0.011206991, 0.011040435, 0.011381095, 0.011307087, 0.011493911]\n",
      "2022-02-28 12:45:31,971 : INFO : merging changes from 1204 documents into a model of 3204 documents\n",
      "2022-02-28 12:45:31,974 : INFO : topic #90 (0.008): 0.001*\"implic\" + 0.001*\"favor\" + 0.001*\"adapt\" + 0.001*\"polygon\" + 0.001*\"stage\" + 0.001*\"situat\" + 0.001*\"respons\" + 0.001*\"industri\" + 0.001*\"regress\" + 0.001*\"drive\"\n",
      "2022-02-28 12:45:31,975 : INFO : topic #34 (0.010): 0.103*\"architectur\" + 0.063*\"cover\" + 0.060*\",\" + 0.057*\"consider\" + 0.038*\"entir\" + 0.038*\"smaller\" + 0.035*\"paper\" + 0.031*\"system\" + 0.029*\"past\" + 0.021*\"number\"\n",
      "2022-02-28 12:45:31,975 : INFO : topic #20 (0.014): 0.235*\"[\" + 0.214*\"algorithm\" + 0.163*\"(\" + 0.123*\"])\" + 0.023*\"complex\" + 0.019*\"matrix\" + 0.018*\"g6\" + 0.016*\"eigenvalu\" + 0.016*\"-\" + 0.016*\"function\"\n",
      "2022-02-28 12:45:31,975 : INFO : topic #4 (0.014): 0.171*\"(\" + 0.168*\")\" + 0.105*\"]\" + 0.095*\"1\" + 0.066*\"2\" + 0.033*\"set\" + 0.033*\"[\" + 0.031*\"3\" + 0.025*\"partit\" + 0.024*\",\"\n",
      "2022-02-28 12:45:31,976 : INFO : topic #27 (0.023): 0.346*\"(\" + 0.295*\")\" + 0.224*\"algorithm\" + 0.032*\"$\" + 0.025*\"))\" + 0.016*\"integr\" + 0.013*\"-\" + 0.011*\"matrix\" + 0.008*\"invers\" + 0.008*\"normal\"\n",
      "2022-02-28 12:45:31,976 : INFO : topic diff=0.561288, rho=0.340958\n",
      "2022-02-28 12:45:31,980 : INFO : PROGRESS: pass 7, at document #2000/3204\n",
      "2022-02-28 12:45:32,320 : INFO : optimized alpha [0.012206674, 0.010395051, 0.010776441, 0.010917715, 0.014469508, 0.01085616, 0.011629128, 0.0098913675, 0.010992135, 0.010364422, 0.010753856, 0.010646499, 0.011315795, 0.011021178, 0.011204252, 0.011303779, 0.010577262, 0.010198341, 0.0110595655, 0.010336691, 0.0147279855, 0.011238437, 0.009955808, 0.011058183, 0.010224718, 0.009725902, 0.011252767, 0.024174811, 0.01186239, 0.011264254, 0.010969338, 0.0109052975, 0.011278788, 0.013680263, 0.009683296, 0.013470456, 0.0107355, 0.01066961, 0.010716819, 0.011211355, 0.011278561, 0.012182718, 0.011918492, 0.010519022, 0.010616728, 0.0113043785, 0.01123788, 0.010865469, 0.011370612, 0.011088507, 0.010552987, 0.010573231, 0.012254539, 0.0107239215, 0.011601074, 0.0117793875, 0.010822044, 0.011226619, 0.010961257, 0.011151331, 0.011323814, 0.011204401, 0.010481615, 0.010273449, 0.011248345, 0.011284079, 0.010934761, 0.010748388, 0.011855862, 0.009976818, 0.011216713, 0.009978674, 0.010751245, 0.010503035, 0.01063752, 0.011184558, 0.010317915, 0.011579044, 0.01008515, 0.011649574, 0.010606749, 0.012943901, 0.010791578, 0.010954953, 0.013066775, 0.010780703, 0.010399772, 0.011484895, 0.010410436, 0.011092183, 0.008093966, 0.01120941, 0.011345622, 0.0118275955, 0.011214962, 0.011214367, 0.011089771, 0.0114786215, 0.011350261, 0.011579917]\n",
      "2022-02-28 12:45:32,323 : INFO : merging changes from 2000 documents into a model of 3204 documents\n",
      "2022-02-28 12:45:32,326 : INFO : topic #90 (0.008): 0.001*\"implic\" + 0.001*\"favor\" + 0.001*\"adapt\" + 0.001*\"polygon\" + 0.001*\"stage\" + 0.001*\"situat\" + 0.001*\"respons\" + 0.001*\"industri\" + 0.001*\"regress\" + 0.001*\"drive\"\n",
      "2022-02-28 12:45:32,326 : INFO : topic #34 (0.010): 0.077*\"architectur\" + 0.061*\",\" + 0.059*\"consider\" + 0.054*\"cover\" + 0.038*\"smaller\" + 0.036*\"entir\" + 0.036*\"system\" + 0.035*\"paper\" + 0.024*\"past\" + 0.020*\"number\"\n",
      "2022-02-28 12:45:32,327 : INFO : topic #4 (0.014): 0.175*\"(\" + 0.164*\")\" + 0.101*\"1\" + 0.087*\"]\" + 0.073*\"2\" + 0.034*\"set\" + 0.033*\"3\" + 0.029*\"[\" + 0.027*\"partit\" + 0.025*\",\"\n",
      "2022-02-28 12:45:32,327 : INFO : topic #20 (0.015): 0.226*\"[\" + 0.206*\"algorithm\" + 0.172*\"(\" + 0.155*\"])\" + 0.020*\"complex\" + 0.017*\"matrix\" + 0.017*\"g6\" + 0.016*\"-\" + 0.015*\"eigenvalu\" + 0.013*\"function\"\n"
     ]
    },
    {
     "name": "stderr",
     "output_type": "stream",
     "text": [
      "2022-02-28 12:45:32,327 : INFO : topic #27 (0.024): 0.344*\"(\" + 0.303*\")\" + 0.227*\"algorithm\" + 0.025*\"$\" + 0.019*\"))\" + 0.019*\"integr\" + 0.012*\"-\" + 0.011*\"matrix\" + 0.008*\"invers\" + 0.007*\"normal\"\n",
      "2022-02-28 12:45:32,328 : INFO : topic diff=0.490745, rho=0.322715\n",
      "2022-02-28 12:45:32,738 : INFO : -6.541 per-word bound, 93.1 perplexity estimate based on a held-out corpus of 1204 documents with 49783 words\n",
      "2022-02-28 12:45:32,738 : INFO : PROGRESS: pass 7, at document #3204/3204\n",
      "2022-02-28 12:45:33,031 : INFO : optimized alpha [0.01245668, 0.010415408, 0.010943284, 0.011012132, 0.014970104, 0.011030524, 0.011877394, 0.009938232, 0.011123525, 0.010456215, 0.010918018, 0.010774294, 0.011453285, 0.011173671, 0.011403755, 0.011532387, 0.010653345, 0.010293171, 0.011253213, 0.010439922, 0.014958882, 0.011406258, 0.010045902, 0.011224382, 0.010230726, 0.009803746, 0.011316993, 0.025452131, 0.012077472, 0.01155492, 0.011145031, 0.011042461, 0.011481091, 0.013975173, 0.009762098, 0.013897523, 0.010877459, 0.010738679, 0.01093403, 0.011331821, 0.011483523, 0.012545265, 0.012126988, 0.010625992, 0.010679657, 0.011499799, 0.011364712, 0.010918342, 0.011592684, 0.0112899, 0.010626476, 0.010622619, 0.012540205, 0.010866232, 0.011922552, 0.011996873, 0.011010804, 0.011482794, 0.011115116, 0.011266179, 0.011477453, 0.01133476, 0.010570654, 0.010387215, 0.0114217, 0.011470853, 0.011038454, 0.010928834, 0.012070426, 0.01011148, 0.011443252, 0.010047941, 0.010841118, 0.010604612, 0.010776027, 0.011317544, 0.01048845, 0.011753505, 0.010169076, 0.0118732285, 0.010770532, 0.013159332, 0.01090884, 0.011109321, 0.013387833, 0.010867999, 0.0104864, 0.011726986, 0.010533908, 0.011254876, 0.008017152, 0.011397946, 0.01152003, 0.012042904, 0.011362421, 0.011434195, 0.011267876, 0.011702275, 0.011551812, 0.011794703]\n",
      "2022-02-28 12:45:33,034 : INFO : merging changes from 1204 documents into a model of 3204 documents\n",
      "2022-02-28 12:45:33,037 : INFO : topic #90 (0.008): 0.001*\"implic\" + 0.001*\"favor\" + 0.001*\"adapt\" + 0.001*\"polygon\" + 0.001*\"stage\" + 0.001*\"situat\" + 0.001*\"respons\" + 0.001*\"industri\" + 0.001*\"regress\" + 0.001*\"drive\"\n",
      "2022-02-28 12:45:33,037 : INFO : topic #34 (0.010): 0.100*\"architectur\" + 0.065*\"cover\" + 0.064*\"consider\" + 0.062*\",\" + 0.038*\"entir\" + 0.038*\"paper\" + 0.037*\"smaller\" + 0.031*\"system\" + 0.028*\"past\" + 0.022*\"number\"\n",
      "2022-02-28 12:45:33,038 : INFO : topic #4 (0.015): 0.181*\"(\" + 0.176*\")\" + 0.102*\"]\" + 0.099*\"1\" + 0.068*\"2\" + 0.033*\"3\" + 0.030*\"[\" + 0.030*\"set\" + 0.024*\"partit\" + 0.024*\",\"\n",
      "2022-02-28 12:45:33,038 : INFO : topic #20 (0.015): 0.238*\"[\" + 0.221*\"algorithm\" + 0.164*\"(\" + 0.123*\"])\" + 0.023*\"complex\" + 0.020*\"matrix\" + 0.018*\"g6\" + 0.016*\"eigenvalu\" + 0.016*\"-\" + 0.014*\"gener\"\n",
      "2022-02-28 12:45:33,038 : INFO : topic #27 (0.025): 0.351*\"(\" + 0.299*\")\" + 0.220*\"algorithm\" + 0.031*\"$\" + 0.024*\"))\" + 0.016*\"integr\" + 0.012*\"-\" + 0.010*\"matrix\" + 0.007*\"normal\" + 0.007*\"invers\"\n",
      "2022-02-28 12:45:33,038 : INFO : topic diff=0.493039, rho=0.322715\n",
      "2022-02-28 12:45:33,043 : INFO : PROGRESS: pass 8, at document #2000/3204\n",
      "2022-02-28 12:45:33,379 : INFO : optimized alpha [0.012521081, 0.01050777, 0.01093497, 0.01109479, 0.015088425, 0.011007901, 0.012078298, 0.009944001, 0.011221153, 0.010474137, 0.010940599, 0.010765752, 0.011455268, 0.011202856, 0.011395938, 0.011565412, 0.010667648, 0.010321443, 0.011249667, 0.010420087, 0.0154610975, 0.011499536, 0.010056949, 0.011240384, 0.010281058, 0.009785306, 0.011471603, 0.027149625, 0.012145158, 0.0116191665, 0.01120379, 0.011033107, 0.011506166, 0.013987856, 0.0097340755, 0.014153103, 0.010899552, 0.010883742, 0.010953892, 0.011430925, 0.011517082, 0.012636122, 0.01220825, 0.0107072685, 0.01078898, 0.011501197, 0.011505066, 0.011055659, 0.011704047, 0.011301602, 0.0107035665, 0.010654882, 0.012630222, 0.010893584, 0.012108488, 0.012034572, 0.01098627, 0.0114270635, 0.011147496, 0.011378746, 0.011503071, 0.011399028, 0.010556492, 0.010369619, 0.011453911, 0.011467689, 0.011097329, 0.010930393, 0.012162092, 0.010087041, 0.011479892, 0.010050546, 0.010961522, 0.010662038, 0.010830526, 0.0113797495, 0.010518666, 0.011868836, 0.010158407, 0.011956487, 0.010763039, 0.01336018, 0.010914847, 0.01118919, 0.013536762, 0.01094497, 0.010564592, 0.011666079, 0.010591142, 0.01131597, 0.007960395, 0.011477076, 0.01177131, 0.012223062, 0.011445684, 0.01144046, 0.011323479, 0.011802994, 0.011592714, 0.01188611]\n",
      "2022-02-28 12:45:33,381 : INFO : merging changes from 2000 documents into a model of 3204 documents\n",
      "2022-02-28 12:45:33,384 : INFO : topic #90 (0.008): 0.001*\"implic\" + 0.001*\"favor\" + 0.001*\"adapt\" + 0.001*\"polygon\" + 0.001*\"stage\" + 0.001*\"situat\" + 0.001*\"respons\" + 0.001*\"industri\" + 0.001*\"regress\" + 0.001*\"drive\"\n",
      "2022-02-28 12:45:33,385 : INFO : topic #25 (0.010): 0.353*\"measur\" + 0.134*\"move\" + 0.093*\"reconstruct\" + 0.071*\"track\" + 0.067*\"intersect\" + 0.061*\"argument\" + 0.047*\"point\" + 0.041*\",\" + 0.016*\"method\" + 0.011*\"field\"\n",
      "2022-02-28 12:45:33,385 : INFO : topic #4 (0.015): 0.185*\"(\" + 0.172*\")\" + 0.104*\"1\" + 0.086*\"]\" + 0.075*\"2\" + 0.034*\"3\" + 0.031*\"set\" + 0.027*\"[\" + 0.026*\"partit\" + 0.024*\",\"\n",
      "2022-02-28 12:45:33,385 : INFO : topic #20 (0.015): 0.229*\"[\" + 0.212*\"algorithm\" + 0.173*\"(\" + 0.154*\"])\" + 0.020*\"complex\" + 0.018*\"matrix\" + 0.017*\"g6\" + 0.016*\"-\" + 0.015*\"eigenvalu\" + 0.013*\"gener\"\n",
      "2022-02-28 12:45:33,385 : INFO : topic #27 (0.027): 0.349*\"(\" + 0.307*\")\" + 0.224*\"algorithm\" + 0.025*\"$\" + 0.019*\"))\" + 0.018*\"integr\" + 0.011*\"-\" + 0.010*\"matrix\" + 0.007*\"normal\" + 0.007*\"invers\"\n",
      "2022-02-28 12:45:33,386 : INFO : topic diff=0.429147, rho=0.307119\n",
      "2022-02-28 12:45:33,792 : INFO : -6.523 per-word bound, 92.0 perplexity estimate based on a held-out corpus of 1204 documents with 49783 words\n",
      "2022-02-28 12:45:33,792 : INFO : PROGRESS: pass 8, at document #3204/3204\n",
      "2022-02-28 12:45:34,075 : INFO : optimized alpha [0.012768905, 0.010524497, 0.011101117, 0.011188037, 0.015570447, 0.01120689, 0.012359863, 0.009994448, 0.011358877, 0.010575824, 0.011107096, 0.010885753, 0.011581391, 0.01134072, 0.011593933, 0.011791986, 0.010738003, 0.010415152, 0.011436027, 0.010511302, 0.015689828, 0.011666852, 0.010143546, 0.011402991, 0.01028986, 0.009862704, 0.011532418, 0.028447432, 0.012352639, 0.011898626, 0.011384369, 0.011173445, 0.011701005, 0.014257686, 0.009807417, 0.014594445, 0.0110388845, 0.010957826, 0.011175031, 0.011552227, 0.011714714, 0.013018683, 0.012425113, 0.0108235935, 0.010854505, 0.011686363, 0.011623634, 0.011122577, 0.011930857, 0.011495683, 0.010773913, 0.010713462, 0.012916723, 0.011035975, 0.012447682, 0.012263136, 0.011179393, 0.011691771, 0.011298255, 0.011488806, 0.011671579, 0.011532918, 0.010644754, 0.010473571, 0.011617742, 0.011662059, 0.011196703, 0.011101356, 0.012375419, 0.010224153, 0.011707498, 0.0101146335, 0.011064255, 0.010767692, 0.010974643, 0.011513289, 0.010683197, 0.0120397, 0.010246937, 0.012178784, 0.010931607, 0.013556835, 0.011024591, 0.011340578, 0.013852172, 0.011034178, 0.010647603, 0.011899288, 0.01071785, 0.011469755, 0.007890348, 0.011661661, 0.011969495, 0.01243101, 0.011584471, 0.011652427, 0.011503837, 0.012028222, 0.011798823, 0.0120873265]\n",
      "2022-02-28 12:45:34,078 : INFO : merging changes from 1204 documents into a model of 3204 documents\n",
      "2022-02-28 12:45:34,081 : INFO : topic #90 (0.008): 0.001*\"implic\" + 0.001*\"favor\" + 0.001*\"adapt\" + 0.001*\"polygon\" + 0.001*\"stage\" + 0.001*\"situat\" + 0.001*\"respons\" + 0.001*\"industri\" + 0.001*\"regress\" + 0.001*\"drive\"\n",
      "2022-02-28 12:45:34,081 : INFO : topic #34 (0.010): 0.099*\"architectur\" + 0.069*\"consider\" + 0.066*\"cover\" + 0.062*\",\" + 0.040*\"paper\" + 0.039*\"entir\" + 0.037*\"smaller\" + 0.031*\"system\" + 0.028*\"past\" + 0.023*\"number\"\n",
      "2022-02-28 12:45:34,082 : INFO : topic #4 (0.016): 0.190*\"(\" + 0.184*\")\" + 0.101*\"1\" + 0.099*\"]\" + 0.070*\"2\" + 0.035*\"3\" + 0.028*\"set\" + 0.028*\"[\" + 0.023*\"partit\" + 0.023*\",\"\n",
      "2022-02-28 12:45:34,082 : INFO : topic #20 (0.016): 0.241*\"[\" + 0.224*\"algorithm\" + 0.165*\"(\" + 0.124*\"])\" + 0.024*\"complex\" + 0.020*\"matrix\" + 0.018*\"g6\" + 0.016*\"eigenvalu\" + 0.016*\"-\" + 0.014*\"gener\"\n",
      "2022-02-28 12:45:34,082 : INFO : topic #27 (0.028): 0.354*\"(\" + 0.302*\")\" + 0.218*\"algorithm\" + 0.031*\"$\" + 0.024*\"))\" + 0.016*\"integr\" + 0.012*\"-\" + 0.009*\"matrix\" + 0.007*\"normal\" + 0.006*\"invers\"\n"
     ]
    },
    {
     "name": "stderr",
     "output_type": "stream",
     "text": [
      "2022-02-28 12:45:34,083 : INFO : topic diff=0.430563, rho=0.307119\n",
      "2022-02-28 12:45:34,087 : INFO : PROGRESS: pass 9, at document #2000/3204\n",
      "2022-02-28 12:45:34,421 : INFO : optimized alpha [0.012833964, 0.010612325, 0.011094396, 0.01127118, 0.015680622, 0.011189431, 0.012574651, 0.010006329, 0.011456487, 0.010596303, 0.01113015, 0.010879216, 0.01158164, 0.011373736, 0.011589206, 0.011836779, 0.0107584335, 0.010448624, 0.011432043, 0.010492643, 0.0161892, 0.011761922, 0.01015735, 0.011421426, 0.010350833, 0.009845423, 0.01168215, 0.030223612, 0.012430322, 0.011956358, 0.011452306, 0.01116436, 0.011729734, 0.014277386, 0.009781046, 0.0148602715, 0.011058336, 0.01111142, 0.011203308, 0.011651353, 0.011749996, 0.013114944, 0.012499394, 0.01090532, 0.010960336, 0.011692328, 0.011757895, 0.011258859, 0.012045501, 0.011501304, 0.010848352, 0.010744822, 0.012999091, 0.011065451, 0.012640315, 0.012300572, 0.011156866, 0.011640166, 0.011327586, 0.011599355, 0.011711519, 0.011589693, 0.010639374, 0.010459952, 0.011644957, 0.011658394, 0.01126006, 0.011102377, 0.012467249, 0.010200543, 0.011745497, 0.010119001, 0.011185761, 0.010827876, 0.0110254055, 0.011583337, 0.010719887, 0.012149384, 0.010238476, 0.012264143, 0.01092558, 0.013755765, 0.011038706, 0.011427639, 0.014000134, 0.011108614, 0.01072938, 0.0118486, 0.010779266, 0.011526812, 0.007838363, 0.011744564, 0.0122336075, 0.012608343, 0.0116664115, 0.011657664, 0.011562107, 0.012136001, 0.011839416, 0.012173478]\n",
      "2022-02-28 12:45:34,423 : INFO : merging changes from 2000 documents into a model of 3204 documents\n",
      "2022-02-28 12:45:34,426 : INFO : topic #90 (0.008): 0.001*\"implic\" + 0.001*\"favor\" + 0.001*\"adapt\" + 0.001*\"polygon\" + 0.001*\"stage\" + 0.001*\"situat\" + 0.001*\"respons\" + 0.001*\"industri\" + 0.001*\"regress\" + 0.001*\"drive\"\n",
      "2022-02-28 12:45:34,427 : INFO : topic #34 (0.010): 0.077*\"architectur\" + 0.070*\"consider\" + 0.063*\",\" + 0.059*\"cover\" + 0.040*\"paper\" + 0.038*\"smaller\" + 0.036*\"entir\" + 0.036*\"system\" + 0.024*\"past\" + 0.021*\"number\"\n",
      "2022-02-28 12:45:34,427 : INFO : topic #4 (0.016): 0.194*\"(\" + 0.179*\")\" + 0.106*\"1\" + 0.084*\"]\" + 0.076*\"2\" + 0.036*\"3\" + 0.029*\"set\" + 0.025*\"[\" + 0.025*\"partit\" + 0.023*\",\"\n",
      "2022-02-28 12:45:34,427 : INFO : topic #20 (0.016): 0.232*\"[\" + 0.215*\"algorithm\" + 0.174*\"(\" + 0.153*\"])\" + 0.020*\"complex\" + 0.018*\"matrix\" + 0.017*\"g6\" + 0.016*\"-\" + 0.015*\"eigenvalu\" + 0.013*\"gener\"\n",
      "2022-02-28 12:45:34,428 : INFO : topic #27 (0.030): 0.352*\"(\" + 0.309*\")\" + 0.222*\"algorithm\" + 0.025*\"$\" + 0.019*\"))\" + 0.018*\"integr\" + 0.011*\"-\" + 0.009*\"matrix\" + 0.007*\"normal\" + 0.006*\"gauss\"\n",
      "2022-02-28 12:45:34,428 : INFO : topic diff=0.374007, rho=0.293585\n",
      "2022-02-28 12:45:34,831 : INFO : -6.508 per-word bound, 91.0 perplexity estimate based on a held-out corpus of 1204 documents with 49783 words\n",
      "2022-02-28 12:45:34,832 : INFO : PROGRESS: pass 9, at document #3204/3204\n",
      "2022-02-28 12:45:35,113 : INFO : optimized alpha [0.013077365, 0.010625791, 0.011268659, 0.011358169, 0.016164502, 0.011390262, 0.012899587, 0.010072431, 0.011592296, 0.010702324, 0.011296554, 0.01100293, 0.011717843, 0.011512411, 0.011780712, 0.012062201, 0.01083164, 0.010546645, 0.01161486, 0.010580659, 0.016420895, 0.011920848, 0.010240893, 0.011578442, 0.010364644, 0.009922585, 0.011740047, 0.03157182, 0.012631234, 0.012231593, 0.011632609, 0.011308056, 0.011912523, 0.014560025, 0.009854339, 0.015317622, 0.011195613, 0.011198553, 0.011415105, 0.011776636, 0.011941438, 0.013502717, 0.012703276, 0.011036204, 0.011025838, 0.011862734, 0.011877737, 0.011342232, 0.012256963, 0.011697445, 0.010916029, 0.010804055, 0.013268137, 0.0112057375, 0.01300127, 0.012525089, 0.011332592, 0.011896791, 0.011473185, 0.01171659, 0.011891687, 0.011718811, 0.010732405, 0.010565407, 0.011814606, 0.011840438, 0.011361215, 0.011275769, 0.012677029, 0.010335371, 0.011972047, 0.0101883765, 0.011281924, 0.010921709, 0.011161968, 0.011709247, 0.0108844545, 0.0123173995, 0.010321372, 0.0124707, 0.011096546, 0.013945432, 0.011150116, 0.011576786, 0.014331752, 0.011205301, 0.010811901, 0.012083089, 0.010909445, 0.011669753, 0.0077740354, 0.011923103, 0.012467858, 0.012803931, 0.011805974, 0.011862844, 0.011736613, 0.012357607, 0.012044803, 0.01236823]\n",
      "2022-02-28 12:45:35,115 : INFO : merging changes from 1204 documents into a model of 3204 documents\n",
      "2022-02-28 12:45:35,118 : INFO : topic #90 (0.008): 0.001*\"implic\" + 0.001*\"favor\" + 0.001*\"adapt\" + 0.001*\"polygon\" + 0.001*\"stage\" + 0.001*\"situat\" + 0.001*\"respons\" + 0.001*\"industri\" + 0.001*\"regress\" + 0.001*\"drive\"\n",
      "2022-02-28 12:45:35,119 : INFO : topic #34 (0.010): 0.098*\"architectur\" + 0.072*\"consider\" + 0.067*\"cover\" + 0.063*\",\" + 0.043*\"paper\" + 0.039*\"entir\" + 0.037*\"smaller\" + 0.032*\"system\" + 0.027*\"past\" + 0.023*\"number\"\n",
      "2022-02-28 12:45:35,119 : INFO : topic #4 (0.016): 0.198*\"(\" + 0.190*\")\" + 0.104*\"1\" + 0.096*\"]\" + 0.071*\"2\" + 0.035*\"3\" + 0.027*\"set\" + 0.026*\"[\" + 0.022*\"partit\" + 0.022*\",\"\n",
      "2022-02-28 12:45:35,119 : INFO : topic #20 (0.016): 0.242*\"[\" + 0.227*\"algorithm\" + 0.165*\"(\" + 0.124*\"])\" + 0.024*\"complex\" + 0.020*\"matrix\" + 0.018*\"g6\" + 0.016*\"-\" + 0.016*\"eigenvalu\" + 0.013*\"gener\"\n",
      "2022-02-28 12:45:35,120 : INFO : topic #27 (0.032): 0.357*\"(\" + 0.304*\")\" + 0.217*\"algorithm\" + 0.030*\"$\" + 0.024*\"))\" + 0.016*\"integr\" + 0.011*\"-\" + 0.008*\"matrix\" + 0.007*\"normal\" + 0.006*\"gauss\"\n",
      "2022-02-28 12:45:35,120 : INFO : topic diff=0.375295, rho=0.293585\n",
      "2022-02-28 12:45:35,124 : INFO : PROGRESS: pass 10, at document #2000/3204\n",
      "2022-02-28 12:45:35,455 : INFO : optimized alpha [0.013141451, 0.010715482, 0.011269767, 0.011440411, 0.016271519, 0.011374308, 0.013118184, 0.010091348, 0.011691926, 0.010725243, 0.011324916, 0.010999771, 0.011728144, 0.011547391, 0.011773902, 0.012108316, 0.01085622, 0.01057898, 0.011607184, 0.0105645135, 0.016920574, 0.012012928, 0.010251499, 0.011597605, 0.010431327, 0.009907675, 0.011888847, 0.033422086, 0.012704417, 0.012283179, 0.011701383, 0.011302345, 0.011943254, 0.014579684, 0.009832198, 0.015577379, 0.01121586, 0.011367246, 0.011446616, 0.011872723, 0.011980154, 0.013612225, 0.01277483, 0.011118486, 0.011130122, 0.011869853, 0.012004845, 0.011481096, 0.0123698665, 0.01170722, 0.01098976, 0.010837709, 0.013352833, 0.011238789, 0.013186499, 0.012567849, 0.011315242, 0.011849083, 0.011501373, 0.011825508, 0.011940119, 0.011776934, 0.010735091, 0.010550975, 0.01183888, 0.011836406, 0.01142091, 0.011277863, 0.012771081, 0.01031393, 0.012008124, 0.010198683, 0.011400031, 0.010986125, 0.01122358, 0.011778678, 0.010919729, 0.012421991, 0.010313528, 0.012560325, 0.011090322, 0.014135125, 0.011160587, 0.011664422, 0.014487471, 0.011282179, 0.010892751, 0.01204696, 0.010970356, 0.011733151, 0.0077261613, 0.012006608, 0.01272837, 0.012975078, 0.011891881, 0.011872277, 0.011791129, 0.012463667, 0.012088653, 0.012453159]\n",
      "2022-02-28 12:45:35,458 : INFO : merging changes from 2000 documents into a model of 3204 documents\n",
      "2022-02-28 12:45:35,461 : INFO : topic #90 (0.008): 0.001*\"implic\" + 0.001*\"favor\" + 0.001*\"adapt\" + 0.001*\"polygon\" + 0.001*\"stage\" + 0.001*\"situat\" + 0.001*\"respons\" + 0.001*\"industri\" + 0.001*\"regress\" + 0.001*\"drive\"\n",
      "2022-02-28 12:45:35,461 : INFO : topic #34 (0.010): 0.077*\"architectur\" + 0.073*\"consider\" + 0.063*\",\" + 0.059*\"cover\" + 0.042*\"paper\" + 0.037*\"smaller\" + 0.036*\"entir\" + 0.036*\"system\" + 0.023*\"past\" + 0.022*\"number\"\n",
      "2022-02-28 12:45:35,462 : INFO : topic #4 (0.016): 0.201*\"(\" + 0.185*\")\" + 0.108*\"1\" + 0.082*\"]\" + 0.077*\"2\" + 0.036*\"3\" + 0.027*\"set\" + 0.024*\"partit\" + 0.023*\"[\" + 0.023*\",\"\n",
      "2022-02-28 12:45:35,462 : INFO : topic #20 (0.017): 0.233*\"[\" + 0.217*\"algorithm\" + 0.174*\"(\" + 0.152*\"])\" + 0.021*\"complex\" + 0.018*\"matrix\" + 0.017*\"g6\" + 0.016*\"-\" + 0.015*\"eigenvalu\" + 0.013*\"gener\"\n",
      "2022-02-28 12:45:35,462 : INFO : topic #27 (0.033): 0.354*\"(\" + 0.310*\")\" + 0.221*\"algorithm\" + 0.025*\"$\" + 0.019*\"))\" + 0.018*\"integr\" + 0.011*\"-\" + 0.008*\"matrix\" + 0.007*\"normal\" + 0.006*\"gauss\"\n",
      "2022-02-28 12:45:35,463 : INFO : topic diff=0.326961, rho=0.281696\n",
      "2022-02-28 12:45:35,865 : INFO : -6.496 per-word bound, 90.3 perplexity estimate based on a held-out corpus of 1204 documents with 49783 words\n",
      "2022-02-28 12:45:35,865 : INFO : PROGRESS: pass 10, at document #3204/3204\n"
     ]
    },
    {
     "name": "stderr",
     "output_type": "stream",
     "text": [
      "2022-02-28 12:45:36,143 : INFO : optimized alpha [0.013381237, 0.010728463, 0.011449622, 0.011529727, 0.016735157, 0.01157479, 0.01346289, 0.010162557, 0.011834493, 0.010832992, 0.011483674, 0.011119614, 0.011862712, 0.011687125, 0.011965193, 0.012324674, 0.010932288, 0.010668909, 0.011784449, 0.010647276, 0.017143533, 0.0121669555, 0.010334823, 0.011752386, 0.010444778, 0.009984752, 0.011944166, 0.03477477, 0.012896416, 0.012560586, 0.01187648, 0.0114415325, 0.012112147, 0.014854379, 0.009912453, 0.016029688, 0.011354127, 0.011456644, 0.011660833, 0.012002224, 0.012168895, 0.0140193775, 0.01297584, 0.011250563, 0.01119317, 0.012043344, 0.012117722, 0.011580188, 0.012578576, 0.011905916, 0.011060202, 0.010905396, 0.013621378, 0.011372062, 0.013570318, 0.012780212, 0.011501674, 0.012104214, 0.011642493, 0.011936036, 0.012134829, 0.011901927, 0.010830289, 0.010653073, 0.0120061245, 0.012012887, 0.011529539, 0.0114513915, 0.012969014, 0.010444452, 0.012231455, 0.010268305, 0.011495519, 0.011081965, 0.011358548, 0.011900522, 0.011092618, 0.012576022, 0.010398665, 0.012761265, 0.011256197, 0.014308572, 0.0112711, 0.011811722, 0.014805278, 0.011378272, 0.010969949, 0.012271649, 0.011096409, 0.011888389, 0.007666728, 0.012174298, 0.012966502, 0.013174272, 0.012029706, 0.012077054, 0.011968815, 0.012676593, 0.012288187, 0.012645161]\n",
      "2022-02-28 12:45:36,145 : INFO : merging changes from 1204 documents into a model of 3204 documents\n",
      "2022-02-28 12:45:36,148 : INFO : topic #90 (0.008): 0.001*\"implic\" + 0.001*\"favor\" + 0.001*\"adapt\" + 0.001*\"polygon\" + 0.001*\"stage\" + 0.001*\"situat\" + 0.001*\"respons\" + 0.001*\"industri\" + 0.001*\"regress\" + 0.001*\"drive\"\n",
      "2022-02-28 12:45:36,149 : INFO : topic #34 (0.010): 0.097*\"architectur\" + 0.074*\"consider\" + 0.067*\"cover\" + 0.063*\",\" + 0.044*\"paper\" + 0.040*\"entir\" + 0.037*\"smaller\" + 0.033*\"system\" + 0.027*\"past\" + 0.023*\"number\"\n",
      "2022-02-28 12:45:36,149 : INFO : topic #4 (0.017): 0.204*\"(\" + 0.195*\")\" + 0.107*\"1\" + 0.095*\"]\" + 0.073*\"2\" + 0.037*\"3\" + 0.025*\"[\" + 0.023*\"set\" + 0.022*\"partit\" + 0.022*\",\"\n",
      "2022-02-28 12:45:36,149 : INFO : topic #20 (0.017): 0.243*\"[\" + 0.229*\"algorithm\" + 0.166*\"(\" + 0.125*\"])\" + 0.025*\"complex\" + 0.020*\"matrix\" + 0.018*\"g6\" + 0.016*\"-\" + 0.016*\"eigenvalu\" + 0.013*\"gener\"\n",
      "2022-02-28 12:45:36,150 : INFO : topic #27 (0.035): 0.359*\"(\" + 0.305*\")\" + 0.216*\"algorithm\" + 0.030*\"$\" + 0.023*\"))\" + 0.016*\"integr\" + 0.011*\"-\" + 0.008*\"matrix\" + 0.007*\"normal\" + 0.006*\"gauss\"\n",
      "2022-02-28 12:45:36,150 : INFO : topic diff=0.329468, rho=0.281696\n",
      "2022-02-28 12:45:36,154 : INFO : PROGRESS: pass 11, at document #2000/3204\n",
      "2022-02-28 12:45:36,487 : INFO : optimized alpha [0.013446404, 0.010821562, 0.011455027, 0.0116112325, 0.016837107, 0.0115634175, 0.013682057, 0.010190814, 0.011936306, 0.010858201, 0.011507683, 0.011118085, 0.011877556, 0.011724054, 0.011961321, 0.012368849, 0.010956336, 0.010697501, 0.011778172, 0.010631977, 0.017637245, 0.012259651, 0.010346711, 0.011772293, 0.01051256, 0.009970657, 0.01208921, 0.03670167, 0.012968865, 0.0126166055, 0.011944641, 0.011437455, 0.012148223, 0.014880762, 0.009894079, 0.016309597, 0.011375187, 0.011638812, 0.011689184, 0.012095581, 0.012206, 0.014134606, 0.013039509, 0.01133515, 0.011296231, 0.012048181, 0.012243223, 0.011721999, 0.012693489, 0.011914786, 0.011128887, 0.010938196, 0.013710415, 0.011408637, 0.013772513, 0.012831725, 0.011488987, 0.012060105, 0.011668049, 0.01204363, 0.012181414, 0.0119614275, 0.010834551, 0.010639298, 0.012037474, 0.0120102195, 0.01158745, 0.011459248, 0.013058428, 0.010422223, 0.012264122, 0.010279965, 0.0116137685, 0.011144577, 0.0114151575, 0.011969533, 0.011132585, 0.01267589, 0.010394191, 0.012853363, 0.011249809, 0.014491684, 0.011287502, 0.011903338, 0.014956743, 0.01145297, 0.0110545745, 0.01223745, 0.011157019, 0.011946595, 0.0076223775, 0.012258592, 0.013229107, 0.013345267, 0.012129402, 0.012090459, 0.012027879, 0.012776161, 0.01234195, 0.01273419]\n",
      "2022-02-28 12:45:36,489 : INFO : merging changes from 2000 documents into a model of 3204 documents\n",
      "2022-02-28 12:45:36,492 : INFO : topic #90 (0.008): 0.001*\"implic\" + 0.001*\"favor\" + 0.001*\"adapt\" + 0.001*\"polygon\" + 0.001*\"stage\" + 0.001*\"situat\" + 0.001*\"respons\" + 0.001*\"industri\" + 0.001*\"regress\" + 0.001*\"drive\"\n",
      "2022-02-28 12:45:36,493 : INFO : topic #34 (0.010): 0.077*\"architectur\" + 0.074*\"consider\" + 0.063*\",\" + 0.060*\"cover\" + 0.043*\"paper\" + 0.037*\"entir\" + 0.037*\"smaller\" + 0.037*\"system\" + 0.023*\"past\" + 0.021*\"number\"\n",
      "2022-02-28 12:45:36,493 : INFO : topic #4 (0.017): 0.206*\"(\" + 0.190*\")\" + 0.111*\"1\" + 0.082*\"]\" + 0.078*\"2\" + 0.037*\"3\" + 0.024*\"set\" + 0.024*\"partit\" + 0.022*\"[\" + 0.022*\",\"\n",
      "2022-02-28 12:45:36,494 : INFO : topic #20 (0.018): 0.233*\"[\" + 0.219*\"algorithm\" + 0.174*\"(\" + 0.151*\"])\" + 0.021*\"complex\" + 0.019*\"matrix\" + 0.017*\"g6\" + 0.017*\"-\" + 0.015*\"eigenvalu\" + 0.013*\"gener\"\n",
      "2022-02-28 12:45:36,494 : INFO : topic #27 (0.037): 0.357*\"(\" + 0.311*\")\" + 0.221*\"algorithm\" + 0.025*\"$\" + 0.019*\"))\" + 0.017*\"integr\" + 0.011*\"-\" + 0.007*\"matrix\" + 0.007*\"normal\" + 0.006*\"gauss\"\n",
      "2022-02-28 12:45:36,494 : INFO : topic diff=0.287873, rho=0.271143\n",
      "2022-02-28 12:45:36,895 : INFO : -6.486 per-word bound, 89.6 perplexity estimate based on a held-out corpus of 1204 documents with 49783 words\n",
      "2022-02-28 12:45:36,895 : INFO : PROGRESS: pass 11, at document #3204/3204\n",
      "2022-02-28 12:45:37,171 : INFO : optimized alpha [0.013683225, 0.010831611, 0.011643262, 0.011702976, 0.017292926, 0.01177456, 0.014044448, 0.010264591, 0.012061348, 0.010962925, 0.011662145, 0.011237014, 0.012002839, 0.011865073, 0.012155616, 0.012585441, 0.0110351965, 0.010789614, 0.011942488, 0.010714803, 0.01786811, 0.012409331, 0.0104276445, 0.011917368, 0.010521062, 0.010045564, 0.01214225, 0.038080834, 0.013170419, 0.012894131, 0.012123111, 0.011577738, 0.012318008, 0.015158824, 0.009976592, 0.016772272, 0.011509634, 0.011743516, 0.011898275, 0.0122186085, 0.012398169, 0.014543179, 0.013226357, 0.011471296, 0.011357114, 0.012216917, 0.012344166, 0.011831129, 0.012899922, 0.012108351, 0.011199653, 0.010996353, 0.013969863, 0.011538133, 0.014168095, 0.013050553, 0.011673149, 0.0123144, 0.011810432, 0.0121507635, 0.012368426, 0.012090782, 0.0109343715, 0.010738498, 0.012202777, 0.012195484, 0.011679661, 0.011622958, 0.013257136, 0.010549028, 0.012484789, 0.01035454, 0.01170884, 0.011235038, 0.011548979, 0.012093215, 0.011316353, 0.012848327, 0.010476887, 0.013060869, 0.01140862, 0.014649815, 0.011389702, 0.012052026, 0.0152852405, 0.01155914, 0.011134251, 0.012473062, 0.011292174, 0.012097605, 0.0075671845, 0.012424464, 0.01347749, 0.013539517, 0.012263165, 0.012284541, 0.012195451, 0.012992572, 0.01253361, 0.012932647]\n",
      "2022-02-28 12:45:37,174 : INFO : merging changes from 1204 documents into a model of 3204 documents\n",
      "2022-02-28 12:45:37,177 : INFO : topic #90 (0.008): 0.001*\"implic\" + 0.001*\"favor\" + 0.001*\"adapt\" + 0.001*\"polygon\" + 0.001*\"stage\" + 0.001*\"situat\" + 0.001*\"respons\" + 0.001*\"industri\" + 0.001*\"regress\" + 0.001*\"drive\"\n",
      "2022-02-28 12:45:37,177 : INFO : topic #34 (0.010): 0.095*\"architectur\" + 0.076*\"consider\" + 0.067*\"cover\" + 0.063*\",\" + 0.044*\"paper\" + 0.040*\"entir\" + 0.036*\"smaller\" + 0.033*\"system\" + 0.027*\"past\" + 0.022*\"number\"\n",
      "2022-02-28 12:45:37,177 : INFO : topic #4 (0.017): 0.209*\"(\" + 0.199*\")\" + 0.109*\"1\" + 0.094*\"]\" + 0.074*\"2\" + 0.037*\"3\" + 0.023*\"[\" + 0.022*\"partit\" + 0.021*\"set\" + 0.021*\",\"\n",
      "2022-02-28 12:45:37,178 : INFO : topic #20 (0.018): 0.242*\"[\" + 0.232*\"algorithm\" + 0.165*\"(\" + 0.124*\"])\" + 0.026*\"complex\" + 0.021*\"matrix\" + 0.018*\"g6\" + 0.016*\"-\" + 0.016*\"eigenvalu\" + 0.013*\"gener\"\n",
      "2022-02-28 12:45:37,178 : INFO : topic #27 (0.038): 0.362*\"(\" + 0.307*\")\" + 0.215*\"algorithm\" + 0.030*\"$\" + 0.023*\"))\" + 0.015*\"integr\" + 0.011*\"-\" + 0.007*\"normal\" + 0.007*\"matrix\" + 0.006*\"gauss\"\n",
      "2022-02-28 12:45:37,178 : INFO : topic diff=0.291401, rho=0.271143\n",
      "2022-02-28 12:45:37,182 : INFO : PROGRESS: pass 12, at document #2000/3204\n",
      "2022-02-28 12:45:37,510 : INFO : optimized alpha [0.013747774, 0.010921042, 0.011649516, 0.011783962, 0.017392408, 0.011767443, 0.014266557, 0.010296271, 0.012173353, 0.010987457, 0.011686778, 0.011235536, 0.012017168, 0.01189926, 0.012151279, 0.012629461, 0.011061679, 0.010823174, 0.011932934, 0.01070165, 0.018360935, 0.012501215, 0.010440708, 0.011941214, 0.010592794, 0.010033492, 0.012283947, 0.040059634, 0.013240592, 0.012944468, 0.012189238, 0.0115721235, 0.012351211, 0.01518942, 0.009961669, 0.017042194, 0.011525385, 0.011933221, 0.0119267935, 0.012312741, 0.012435375, 0.01466805, 0.01328455, 0.011553761, 0.0114577, 0.012216417, 0.012466662, 0.011971408, 0.013018701, 0.012121161, 0.011266591, 0.011028431, 0.014056021, 0.011575117, 0.014380274, 0.013110553, 0.011658768, 0.012271999, 0.011839737, 0.012257325, 0.012416654, 0.01214546, 0.010940076, 0.0107253045, 0.01223773, 0.012194029, 0.011743784, 0.011628706, 0.01334412, 0.010527379, 0.012519104, 0.010370111, 0.011825902, 0.011297547, 0.011611569, 0.012157146, 0.011360872, 0.012967296, 0.010472767, 0.013152134, 0.011403575, 0.014830711, 0.011401193, 0.012147645, 0.015428955, 0.011637976, 0.01121819, 0.012440557, 0.011354007, 0.012154091, 0.007525917, 0.012506432, 0.013749666, 0.0137088625, 0.012365129, 0.012297084, 0.012255941, 0.013094553, 0.0125839235, 0.013020838]\n"
     ]
    },
    {
     "name": "stderr",
     "output_type": "stream",
     "text": [
      "2022-02-28 12:45:37,512 : INFO : merging changes from 2000 documents into a model of 3204 documents\n",
      "2022-02-28 12:45:37,515 : INFO : topic #90 (0.008): 0.001*\"implic\" + 0.001*\"favor\" + 0.001*\"adapt\" + 0.001*\"polygon\" + 0.001*\"stage\" + 0.001*\"situat\" + 0.001*\"respons\" + 0.001*\"industri\" + 0.001*\"regress\" + 0.001*\"drive\"\n",
      "2022-02-28 12:45:37,516 : INFO : topic #34 (0.010): 0.076*\"consider\" + 0.076*\"architectur\" + 0.064*\",\" + 0.060*\"cover\" + 0.043*\"paper\" + 0.038*\"entir\" + 0.037*\"system\" + 0.036*\"smaller\" + 0.023*\"past\" + 0.020*\"number\"\n",
      "2022-02-28 12:45:37,516 : INFO : topic #4 (0.017): 0.211*\"(\" + 0.194*\")\" + 0.114*\"1\" + 0.082*\"]\" + 0.079*\"2\" + 0.038*\"3\" + 0.023*\"partit\" + 0.022*\",\" + 0.021*\"[\" + 0.021*\"set\"\n",
      "2022-02-28 12:45:37,516 : INFO : topic #20 (0.018): 0.233*\"[\" + 0.221*\"algorithm\" + 0.173*\"(\" + 0.150*\"])\" + 0.022*\"complex\" + 0.019*\"matrix\" + 0.017*\"g6\" + 0.017*\"-\" + 0.015*\"eigenvalu\" + 0.013*\"gener\"\n",
      "2022-02-28 12:45:37,516 : INFO : topic #27 (0.040): 0.359*\"(\" + 0.313*\")\" + 0.220*\"algorithm\" + 0.025*\"$\" + 0.019*\"))\" + 0.016*\"integr\" + 0.010*\"-\" + 0.007*\"normal\" + 0.006*\"gauss\" + 0.006*\"s15\"\n",
      "2022-02-28 12:45:37,517 : INFO : topic diff=0.255564, rho=0.261694\n",
      "2022-02-28 12:45:37,915 : INFO : -6.475 per-word bound, 89.0 perplexity estimate based on a held-out corpus of 1204 documents with 49783 words\n",
      "2022-02-28 12:45:37,915 : INFO : PROGRESS: pass 12, at document #3204/3204\n",
      "2022-02-28 12:45:38,190 : INFO : optimized alpha [0.013985263, 0.010928352, 0.011835933, 0.011886004, 0.017829461, 0.011981545, 0.014641227, 0.010379411, 0.0123083275, 0.011089378, 0.011845034, 0.011348896, 0.012136562, 0.012039253, 0.01234619, 0.012849423, 0.011140851, 0.010915125, 0.012093041, 0.010787032, 0.018571692, 0.012647011, 0.010524061, 0.012082498, 0.010605799, 0.010108613, 0.012334956, 0.041433148, 0.013443273, 0.013222509, 0.012366121, 0.011706133, 0.012516791, 0.015458038, 0.0100463955, 0.017489482, 0.011658874, 0.0120427245, 0.012126061, 0.012437675, 0.0126230875, 0.015091423, 0.01346381, 0.01169406, 0.011519131, 0.012375623, 0.012575412, 0.012082663, 0.013217694, 0.012312783, 0.011332792, 0.011094753, 0.014322286, 0.011703813, 0.014782236, 0.013336103, 0.011830741, 0.012525919, 0.011975819, 0.01235868, 0.012604668, 0.0122661395, 0.011046831, 0.010821892, 0.012396224, 0.012369244, 0.01184622, 0.011788367, 0.013544006, 0.010657704, 0.01273758, 0.010440478, 0.011918184, 0.011380474, 0.011746995, 0.012285464, 0.01153572, 0.013132639, 0.0105533395, 0.013352125, 0.011565801, 0.014987247, 0.011508183, 0.012297934, 0.01576899, 0.011743801, 0.011293138, 0.012673512, 0.011493119, 0.012306635, 0.007474425, 0.01266817, 0.014008849, 0.013898526, 0.012498059, 0.012491826, 0.0124274045, 0.013303449, 0.012782008, 0.013214682]\n",
      "2022-02-28 12:45:38,193 : INFO : merging changes from 1204 documents into a model of 3204 documents\n",
      "2022-02-28 12:45:38,196 : INFO : topic #90 (0.007): 0.001*\"implic\" + 0.001*\"favor\" + 0.001*\"adapt\" + 0.001*\"polygon\" + 0.001*\"stage\" + 0.001*\"situat\" + 0.001*\"respons\" + 0.001*\"industri\" + 0.001*\"regress\" + 0.001*\"drive\"\n",
      "2022-02-28 12:45:38,196 : INFO : topic #34 (0.010): 0.092*\"architectur\" + 0.078*\"consider\" + 0.066*\"cover\" + 0.063*\",\" + 0.045*\"paper\" + 0.040*\"entir\" + 0.035*\"smaller\" + 0.033*\"system\" + 0.026*\"past\" + 0.021*\"number\"\n",
      "2022-02-28 12:45:38,196 : INFO : topic #4 (0.018): 0.213*\"(\" + 0.202*\")\" + 0.112*\"1\" + 0.093*\"]\" + 0.075*\"2\" + 0.038*\"3\" + 0.022*\"[\" + 0.022*\"partit\" + 0.020*\",\" + 0.019*\"set\"\n",
      "2022-02-28 12:45:38,197 : INFO : topic #20 (0.019): 0.242*\"[\" + 0.234*\"algorithm\" + 0.165*\"(\" + 0.124*\"])\" + 0.026*\"complex\" + 0.021*\"matrix\" + 0.018*\"g6\" + 0.017*\"-\" + 0.016*\"eigenvalu\" + 0.014*\"symmetr\"\n",
      "2022-02-28 12:45:38,197 : INFO : topic #27 (0.041): 0.364*\"(\" + 0.308*\")\" + 0.214*\"algorithm\" + 0.029*\"$\" + 0.023*\"))\" + 0.014*\"integr\" + 0.011*\"-\" + 0.007*\"normal\" + 0.006*\"gauss\" + 0.005*\"matrix\"\n",
      "2022-02-28 12:45:38,197 : INFO : topic diff=0.259588, rho=0.261694\n",
      "2022-02-28 12:45:38,201 : INFO : PROGRESS: pass 13, at document #2000/3204\n",
      "2022-02-28 12:45:38,527 : INFO : optimized alpha [0.014051078, 0.011019937, 0.011852141, 0.01196813, 0.017924558, 0.011979955, 0.014872015, 0.010414367, 0.012422602, 0.0111133205, 0.011864194, 0.011350373, 0.012152133, 0.012073933, 0.01234613, 0.012893393, 0.011163983, 0.010950655, 0.012084955, 0.010773145, 0.01906126, 0.01273988, 0.010536933, 0.012108594, 0.010673236, 0.010097179, 0.012473649, 0.04345506, 0.013518147, 0.0132808555, 0.012431958, 0.011699034, 0.012552008, 0.015492852, 0.010035914, 0.017773796, 0.011675624, 0.012246477, 0.012150273, 0.012532767, 0.012663714, 0.01521293, 0.013511559, 0.011777531, 0.011617472, 0.012381147, 0.012692058, 0.012220245, 0.013328845, 0.012323209, 0.01139826, 0.011127644, 0.014409419, 0.011738276, 0.015001097, 0.013409553, 0.011817876, 0.012486686, 0.012004275, 0.0124597335, 0.012652944, 0.0123194195, 0.011052442, 0.010812004, 0.012431584, 0.01236901, 0.011905767, 0.011796636, 0.013626826, 0.0106365485, 0.012770434, 0.010459796, 0.012037347, 0.01144732, 0.011807967, 0.012350866, 0.011584816, 0.013252355, 0.010549562, 0.013444531, 0.011560571, 0.015160597, 0.011523889, 0.012394565, 0.015923455, 0.011819328, 0.011378044, 0.012645814, 0.011559155, 0.012363187, 0.0074358704, 0.01274959, 0.014287725, 0.01406125, 0.012627434, 0.012505095, 0.012486151, 0.013401208, 0.012832236, 0.013298788]\n",
      "2022-02-28 12:45:38,529 : INFO : merging changes from 2000 documents into a model of 3204 documents\n",
      "2022-02-28 12:45:38,533 : INFO : topic #90 (0.007): 0.001*\"implic\" + 0.001*\"favor\" + 0.001*\"adapt\" + 0.001*\"polygon\" + 0.001*\"stage\" + 0.001*\"situat\" + 0.001*\"respons\" + 0.001*\"industri\" + 0.001*\"regress\" + 0.001*\"drive\"\n",
      "2022-02-28 12:45:38,533 : INFO : topic #34 (0.010): 0.078*\"consider\" + 0.075*\"architectur\" + 0.063*\",\" + 0.060*\"cover\" + 0.044*\"paper\" + 0.037*\"system\" + 0.037*\"entir\" + 0.036*\"smaller\" + 0.023*\"past\" + 0.019*\"number\"\n",
      "2022-02-28 12:45:38,533 : INFO : topic #4 (0.018): 0.215*\"(\" + 0.198*\")\" + 0.116*\"1\" + 0.081*\"]\" + 0.080*\"2\" + 0.039*\"3\" + 0.023*\"partit\" + 0.021*\",\" + 0.020*\"[\" + 0.019*\"set\"\n",
      "2022-02-28 12:45:38,533 : INFO : topic #20 (0.019): 0.234*\"[\" + 0.224*\"algorithm\" + 0.173*\"(\" + 0.149*\"])\" + 0.022*\"complex\" + 0.019*\"matrix\" + 0.017*\"g6\" + 0.017*\"-\" + 0.015*\"eigenvalu\" + 0.013*\"symmetr\"\n",
      "2022-02-28 12:45:38,534 : INFO : topic #27 (0.043): 0.362*\"(\" + 0.315*\")\" + 0.219*\"algorithm\" + 0.025*\"$\" + 0.019*\"))\" + 0.014*\"integr\" + 0.010*\"-\" + 0.007*\"normal\" + 0.006*\"gauss\" + 0.006*\"s15\"\n",
      "2022-02-28 12:45:38,534 : INFO : topic diff=0.229182, rho=0.253169\n",
      "2022-02-28 12:45:38,931 : INFO : -6.466 per-word bound, 88.4 perplexity estimate based on a held-out corpus of 1204 documents with 49783 words\n",
      "2022-02-28 12:45:38,931 : INFO : PROGRESS: pass 13, at document #3204/3204\n",
      "2022-02-28 12:45:39,201 : INFO : optimized alpha [0.014280773, 0.011029355, 0.012044666, 0.012067502, 0.018351011, 0.012212827, 0.015259756, 0.010502027, 0.012549123, 0.011215195, 0.012013859, 0.011468216, 0.012276496, 0.012210641, 0.01253421, 0.013106298, 0.01125071, 0.011040381, 0.012246335, 0.010856531, 0.019264394, 0.012882148, 0.010618304, 0.0122617595, 0.010685997, 0.010170531, 0.012522821, 0.044858236, 0.013730931, 0.013551604, 0.012607598, 0.011829797, 0.012716498, 0.01575921, 0.010122873, 0.018236099, 0.011806025, 0.012373876, 0.01235054, 0.012654609, 0.012850111, 0.015645701, 0.013683791, 0.011919657, 0.011679547, 0.0125366375, 0.012803207, 0.012336332, 0.013540545, 0.0125081, 0.011455421, 0.011199436, 0.01467985, 0.011871357, 0.015416409, 0.013645032, 0.011985913, 0.012740846, 0.012139674, 0.012560937, 0.012834211, 0.0124371555, 0.011156671, 0.010906257, 0.01258641, 0.012542947, 0.012005588, 0.011950171, 0.013816578, 0.010761523, 0.012984577, 0.010535038, 0.012132176, 0.011530425, 0.011947767, 0.012476024, 0.011761041, 0.013413854, 0.0106349215, 0.0136575615, 0.011719102, 0.015306219, 0.011623369, 0.012536241, 0.016251802, 0.011927549, 0.011453343, 0.012873892, 0.011707319, 0.012507084, 0.00738765, 0.012910215, 0.014555216, 0.014249538, 0.012762209, 0.012698305, 0.012653834, 0.013611512, 0.013028884, 0.013491223]\n",
      "2022-02-28 12:45:39,204 : INFO : merging changes from 1204 documents into a model of 3204 documents\n"
     ]
    },
    {
     "name": "stderr",
     "output_type": "stream",
     "text": [
      "2022-02-28 12:45:39,207 : INFO : topic #90 (0.007): 0.001*\"implic\" + 0.001*\"favor\" + 0.001*\"adapt\" + 0.001*\"polygon\" + 0.001*\"stage\" + 0.001*\"situat\" + 0.001*\"respons\" + 0.001*\"industri\" + 0.001*\"regress\" + 0.001*\"drive\"\n",
      "2022-02-28 12:45:39,208 : INFO : topic #34 (0.010): 0.090*\"architectur\" + 0.079*\"consider\" + 0.065*\"cover\" + 0.063*\",\" + 0.045*\"paper\" + 0.039*\"entir\" + 0.035*\"smaller\" + 0.034*\"system\" + 0.025*\"past\" + 0.021*\"deriv\"\n",
      "2022-02-28 12:45:39,208 : INFO : topic #4 (0.018): 0.217*\"(\" + 0.205*\")\" + 0.114*\"1\" + 0.093*\"]\" + 0.076*\"2\" + 0.039*\"3\" + 0.022*\"[\" + 0.021*\"partit\" + 0.020*\",\" + 0.017*\"),\"\n",
      "2022-02-28 12:45:39,208 : INFO : topic #20 (0.019): 0.242*\"[\" + 0.235*\"algorithm\" + 0.166*\"(\" + 0.125*\"])\" + 0.026*\"complex\" + 0.021*\"matrix\" + 0.018*\"g6\" + 0.017*\"-\" + 0.016*\"eigenvalu\" + 0.014*\"symmetr\"\n",
      "2022-02-28 12:45:39,209 : INFO : topic #27 (0.045): 0.367*\"(\" + 0.310*\")\" + 0.214*\"algorithm\" + 0.029*\"$\" + 0.023*\"))\" + 0.013*\"integr\" + 0.011*\"-\" + 0.007*\"normal\" + 0.006*\"gauss\" + 0.005*\"s15\"\n",
      "2022-02-28 12:45:39,209 : INFO : topic diff=0.233605, rho=0.253169\n",
      "2022-02-28 12:45:39,213 : INFO : PROGRESS: pass 14, at document #2000/3204\n",
      "2022-02-28 12:45:39,535 : INFO : optimized alpha [0.014344541, 0.011113599, 0.012062919, 0.01215086, 0.018448945, 0.012211972, 0.015488591, 0.010541408, 0.0126611935, 0.011240015, 0.012038271, 0.011469628, 0.012290103, 0.012244357, 0.012532096, 0.0131470375, 0.011274769, 0.011073779, 0.012236648, 0.010845968, 0.019755907, 0.012976088, 0.010630996, 0.012285485, 0.010753428, 0.010159637, 0.012658821, 0.04692722, 0.013807163, 0.013607908, 0.012670168, 0.011827214, 0.012756878, 0.015792267, 0.010114092, 0.018524425, 0.011823685, 0.012582884, 0.0123751275, 0.012747663, 0.012892606, 0.015781201, 0.013726805, 0.012004258, 0.011778741, 0.012544896, 0.012919094, 0.012472954, 0.013649327, 0.01251781, 0.011519529, 0.0112358695, 0.014768049, 0.011907808, 0.015649993, 0.013724947, 0.011975994, 0.012701445, 0.012168841, 0.012661428, 0.012890515, 0.012487668, 0.011171817, 0.010899466, 0.012619148, 0.012542354, 0.012066765, 0.0119609665, 0.013905853, 0.010740852, 0.013016042, 0.010556625, 0.012247556, 0.011597222, 0.012008706, 0.012542921, 0.011814544, 0.0135327615, 0.010631398, 0.013747756, 0.011713689, 0.015474349, 0.01163876, 0.012635492, 0.01640285, 0.012005854, 0.011536478, 0.0128460415, 0.011771804, 0.012562191, 0.007351512, 0.012991334, 0.0148306, 0.014411182, 0.012893902, 0.012710739, 0.012715696, 0.013706954, 0.013075952, 0.013576477]\n",
      "2022-02-28 12:45:39,538 : INFO : merging changes from 2000 documents into a model of 3204 documents\n",
      "2022-02-28 12:45:39,541 : INFO : topic #90 (0.007): 0.001*\"implic\" + 0.001*\"favor\" + 0.001*\"adapt\" + 0.001*\"polygon\" + 0.001*\"stage\" + 0.001*\"situat\" + 0.001*\"respons\" + 0.001*\"industri\" + 0.001*\"regress\" + 0.001*\"drive\"\n",
      "2022-02-28 12:45:39,541 : INFO : topic #25 (0.010): 0.402*\"measur\" + 0.135*\"move\" + 0.093*\"reconstruct\" + 0.069*\"track\" + 0.063*\"intersect\" + 0.063*\"argument\" + 0.034*\",\" + 0.030*\"point\" + 0.018*\"field\" + 0.006*\"gener\"\n",
      "2022-02-28 12:45:39,542 : INFO : topic #35 (0.019): 0.240*\"system\" + 0.088*\"-\" + 0.066*\",\" + 0.060*\"user\" + 0.047*\"comput\" + 0.042*\"time\" + 0.041*\"oper\" + 0.040*\"share\" + 0.028*\"process\" + 0.026*\"design\"\n",
      "2022-02-28 12:45:39,542 : INFO : topic #20 (0.020): 0.234*\"[\" + 0.225*\"algorithm\" + 0.173*\"(\" + 0.149*\"])\" + 0.023*\"complex\" + 0.019*\"matrix\" + 0.017*\"g6\" + 0.017*\"-\" + 0.015*\"eigenvalu\" + 0.013*\"symmetr\"\n",
      "2022-02-28 12:45:39,542 : INFO : topic #27 (0.047): 0.365*\"(\" + 0.316*\")\" + 0.219*\"algorithm\" + 0.025*\"$\" + 0.019*\"))\" + 0.012*\"integr\" + 0.010*\"-\" + 0.007*\"normal\" + 0.006*\"gauss\" + 0.006*\"s15\"\n",
      "2022-02-28 12:45:39,542 : INFO : topic diff=0.207563, rho=0.245426\n",
      "2022-02-28 12:45:39,937 : INFO : -6.460 per-word bound, 88.0 perplexity estimate based on a held-out corpus of 1204 documents with 49783 words\n",
      "2022-02-28 12:45:39,937 : INFO : PROGRESS: pass 14, at document #3204/3204\n",
      "2022-02-28 12:45:40,205 : INFO : optimized alpha [0.014572775, 0.011122786, 0.012259352, 0.012242849, 0.018857706, 0.012430834, 0.015889842, 0.010631433, 0.012795222, 0.011341944, 0.012187269, 0.011596521, 0.012414243, 0.012383124, 0.012724122, 0.013361291, 0.011354899, 0.011154634, 0.012391947, 0.010931899, 0.019955449, 0.013115177, 0.010710539, 0.012437895, 0.010763757, 0.010233417, 0.012706326, 0.048299834, 0.01401588, 0.013883049, 0.012844828, 0.01195747, 0.012917826, 0.01606023, 0.010199121, 0.018979568, 0.011953589, 0.012722809, 0.012571627, 0.012866645, 0.013080736, 0.016217578, 0.013886866, 0.012148371, 0.011836737, 0.012697055, 0.013035438, 0.012596499, 0.013854458, 0.012701532, 0.011580021, 0.011306013, 0.015040066, 0.012035593, 0.016076496, 0.013959351, 0.012147909, 0.012948386, 0.0123061985, 0.012760182, 0.013073508, 0.012594957, 0.011278314, 0.010993751, 0.012778362, 0.012715236, 0.012164193, 0.012118615, 0.014094653, 0.010863037, 0.013226196, 0.010628018, 0.012342589, 0.011680592, 0.012147997, 0.012670377, 0.01199728, 0.013693461, 0.01071487, 0.013954146, 0.01186888, 0.015616064, 0.011736013, 0.012776747, 0.01673663, 0.012123946, 0.011612249, 0.013067044, 0.011919382, 0.012718685, 0.0073061935, 0.013148524, 0.015103708, 0.014604679, 0.013033404, 0.012900098, 0.012877332, 0.013907731, 0.013274203, 0.013765083]\n",
      "2022-02-28 12:45:40,208 : INFO : merging changes from 1204 documents into a model of 3204 documents\n",
      "2022-02-28 12:45:40,211 : INFO : topic #90 (0.007): 0.001*\"implic\" + 0.001*\"favor\" + 0.001*\"adapt\" + 0.001*\"polygon\" + 0.001*\"stage\" + 0.001*\"situat\" + 0.001*\"respons\" + 0.001*\"industri\" + 0.001*\"regress\" + 0.001*\"drive\"\n",
      "2022-02-28 12:45:40,211 : INFO : topic #25 (0.010): 0.419*\"measur\" + 0.150*\"move\" + 0.100*\"reconstruct\" + 0.063*\"track\" + 0.061*\"intersect\" + 0.056*\"argument\" + 0.032*\",\" + 0.026*\"point\" + 0.018*\"field\" + 0.005*\"manner\"\n",
      "2022-02-28 12:45:40,212 : INFO : topic #35 (0.019): 0.241*\"system\" + 0.088*\"-\" + 0.067*\",\" + 0.061*\"user\" + 0.046*\"comput\" + 0.041*\"time\" + 0.041*\"oper\" + 0.039*\"share\" + 0.027*\"process\" + 0.027*\"design\"\n",
      "2022-02-28 12:45:40,212 : INFO : topic #20 (0.020): 0.243*\"[\" + 0.235*\"algorithm\" + 0.166*\"(\" + 0.125*\"])\" + 0.026*\"complex\" + 0.021*\"matrix\" + 0.018*\"g6\" + 0.017*\"-\" + 0.015*\"eigenvalu\" + 0.014*\"symmetr\"\n",
      "2022-02-28 12:45:40,212 : INFO : topic #27 (0.048): 0.370*\"(\" + 0.313*\")\" + 0.213*\"algorithm\" + 0.029*\"$\" + 0.023*\"))\" + 0.010*\"-\" + 0.010*\"integr\" + 0.007*\"normal\" + 0.006*\"gauss\" + 0.005*\"s15\"\n",
      "2022-02-28 12:45:40,212 : INFO : topic diff=0.211886, rho=0.245426\n",
      "2022-02-28 12:45:40,216 : INFO : PROGRESS: pass 15, at document #2000/3204\n",
      "2022-02-28 12:45:40,536 : INFO : optimized alpha [0.014638098, 0.011209426, 0.012278193, 0.01232455, 0.018944945, 0.012430704, 0.016122317, 0.010668747, 0.012902177, 0.011367572, 0.012209433, 0.011603363, 0.01242754, 0.012417387, 0.012729188, 0.013405349, 0.011375819, 0.011187338, 0.012382281, 0.010920476, 0.02044908, 0.0132072065, 0.010723077, 0.0124668, 0.010832493, 0.010223027, 0.012839866, 0.05040961, 0.01409021, 0.013942429, 0.012905809, 0.0119562885, 0.012957103, 0.016095553, 0.010191933, 0.019262698, 0.011969301, 0.012934394, 0.012596691, 0.012959379, 0.013123488, 0.016353803, 0.01393537, 0.012232697, 0.011934085, 0.012711016, 0.013150788, 0.012732409, 0.013969338, 0.012710566, 0.011641463, 0.011339017, 0.0151258595, 0.012075494, 0.016315669, 0.014042566, 0.012140811, 0.0129088685, 0.012331637, 0.012860265, 0.013125214, 0.0126458965, 0.0112958355, 0.010989881, 0.012807047, 0.012714278, 0.012225508, 0.01212887, 0.014188598, 0.0108427955, 0.01325008, 0.010650552, 0.012455929, 0.011746101, 0.012206129, 0.0127343405, 0.012053765, 0.013811842, 0.010714158, 0.014045743, 0.011863312, 0.0157811, 0.01174973, 0.012881705, 0.016894601, 0.012209405, 0.011704877, 0.013042163, 0.011988175, 0.012774036, 0.0072721965, 0.013227854, 0.015382879, 0.014767256, 0.013170724, 0.0129133705, 0.012931616, 0.014002749, 0.013324568, 0.013848414]\n",
      "2022-02-28 12:45:40,538 : INFO : merging changes from 2000 documents into a model of 3204 documents\n",
      "2022-02-28 12:45:40,541 : INFO : topic #90 (0.007): 0.001*\"implic\" + 0.001*\"favor\" + 0.001*\"adapt\" + 0.001*\"polygon\" + 0.001*\"stage\" + 0.001*\"situat\" + 0.001*\"respons\" + 0.001*\"industri\" + 0.001*\"regress\" + 0.001*\"drive\"\n"
     ]
    },
    {
     "name": "stderr",
     "output_type": "stream",
     "text": [
      "2022-02-28 12:45:40,541 : INFO : topic #34 (0.010): 0.080*\"consider\" + 0.073*\"architectur\" + 0.064*\",\" + 0.058*\"cover\" + 0.045*\"paper\" + 0.039*\"system\" + 0.037*\"entir\" + 0.035*\"smaller\" + 0.022*\"past\" + 0.021*\"deriv\"\n",
      "2022-02-28 12:45:40,542 : INFO : topic #35 (0.019): 0.240*\"system\" + 0.089*\"-\" + 0.067*\",\" + 0.060*\"user\" + 0.046*\"comput\" + 0.042*\"time\" + 0.041*\"oper\" + 0.040*\"share\" + 0.028*\"process\" + 0.026*\"design\"\n",
      "2022-02-28 12:45:40,542 : INFO : topic #20 (0.020): 0.235*\"[\" + 0.226*\"algorithm\" + 0.173*\"(\" + 0.148*\"])\" + 0.023*\"complex\" + 0.019*\"matrix\" + 0.017*\"g6\" + 0.017*\"-\" + 0.014*\"eigenvalu\" + 0.013*\"symmetr\"\n",
      "2022-02-28 12:45:40,542 : INFO : topic #27 (0.050): 0.368*\"(\" + 0.318*\")\" + 0.218*\"algorithm\" + 0.025*\"$\" + 0.019*\"))\" + 0.010*\"-\" + 0.010*\"integr\" + 0.007*\"normal\" + 0.006*\"gauss\" + 0.006*\"s15\"\n",
      "2022-02-28 12:45:40,543 : INFO : topic diff=0.189529, rho=0.238352\n",
      "2022-02-28 12:45:40,938 : INFO : -6.453 per-word bound, 87.6 perplexity estimate based on a held-out corpus of 1204 documents with 49783 words\n",
      "2022-02-28 12:45:40,938 : INFO : PROGRESS: pass 15, at document #3204/3204\n",
      "2022-02-28 12:45:41,205 : INFO : optimized alpha [0.014859396, 0.011222845, 0.012476179, 0.012416861, 0.019359218, 0.012663499, 0.01651559, 0.010761174, 0.013023155, 0.011471932, 0.0123602785, 0.011732278, 0.012551547, 0.0125558805, 0.012917743, 0.0136212595, 0.01145651, 0.011277483, 0.012529517, 0.0110024465, 0.020641284, 0.0133433845, 0.010803108, 0.012621078, 0.010844792, 0.010295291, 0.012885855, 0.051769786, 0.014309334, 0.01421109, 0.013077223, 0.012083854, 0.013112396, 0.016362041, 0.010275183, 0.019725855, 0.012091829, 0.01309976, 0.0127898, 0.013078326, 0.013313556, 0.01679434, 0.014097742, 0.012374094, 0.011992906, 0.012860098, 0.013259169, 0.012863303, 0.014179327, 0.0128958635, 0.011700577, 0.011412181, 0.015390756, 0.01220554, 0.016750487, 0.014279005, 0.012304691, 0.013154142, 0.0124662155, 0.012956692, 0.013315371, 0.012753431, 0.011409141, 0.011080042, 0.012958036, 0.012886351, 0.012325659, 0.0122835105, 0.014368261, 0.010966731, 0.013459166, 0.010724645, 0.0125462, 0.011827598, 0.012347532, 0.01285666, 0.0122335935, 0.013966497, 0.010795913, 0.014242944, 0.01202017, 0.015912872, 0.0118496725, 0.013027828, 0.017224092, 0.0123373475, 0.01177886, 0.0132591855, 0.012140099, 0.012935324, 0.0072294725, 0.01337674, 0.015664894, 0.014965984, 0.013315082, 0.013094059, 0.013084903, 0.014197108, 0.013527398, 0.014036255]\n",
      "2022-02-28 12:45:41,207 : INFO : merging changes from 1204 documents into a model of 3204 documents\n",
      "2022-02-28 12:45:41,210 : INFO : topic #90 (0.007): 0.001*\"implic\" + 0.001*\"favor\" + 0.001*\"adapt\" + 0.001*\"polygon\" + 0.001*\"stage\" + 0.001*\"situat\" + 0.001*\"respons\" + 0.001*\"industri\" + 0.001*\"regress\" + 0.001*\"drive\"\n",
      "2022-02-28 12:45:41,211 : INFO : topic #34 (0.010): 0.088*\"architectur\" + 0.080*\"consider\" + 0.064*\"cover\" + 0.064*\",\" + 0.046*\"paper\" + 0.038*\"entir\" + 0.036*\"system\" + 0.034*\"smaller\" + 0.024*\"past\" + 0.022*\"deriv\"\n",
      "2022-02-28 12:45:41,211 : INFO : topic #35 (0.020): 0.242*\"system\" + 0.089*\"-\" + 0.068*\",\" + 0.061*\"user\" + 0.046*\"comput\" + 0.041*\"oper\" + 0.041*\"time\" + 0.039*\"share\" + 0.027*\"process\" + 0.027*\"design\"\n",
      "2022-02-28 12:45:41,212 : INFO : topic #20 (0.021): 0.243*\"[\" + 0.236*\"algorithm\" + 0.166*\"(\" + 0.125*\"])\" + 0.026*\"complex\" + 0.021*\"matrix\" + 0.018*\"g6\" + 0.017*\"-\" + 0.015*\"eigenvalu\" + 0.014*\"symmetr\"\n",
      "2022-02-28 12:45:41,212 : INFO : topic #27 (0.052): 0.373*\"(\" + 0.314*\")\" + 0.213*\"algorithm\" + 0.029*\"$\" + 0.023*\"))\" + 0.010*\"-\" + 0.008*\"integr\" + 0.007*\"normal\" + 0.006*\"gauss\" + 0.005*\"s15\"\n",
      "2022-02-28 12:45:41,212 : INFO : topic diff=0.193934, rho=0.238352\n",
      "2022-02-28 12:45:41,217 : INFO : PROGRESS: pass 16, at document #2000/3204\n",
      "2022-02-28 12:45:41,540 : INFO : optimized alpha [0.014921195, 0.011309268, 0.0125028165, 0.012497078, 0.01944739, 0.012665515, 0.016746175, 0.010805298, 0.013129832, 0.011498403, 0.012384655, 0.011740234, 0.012570412, 0.012592216, 0.012919239, 0.013663898, 0.011482444, 0.01130696, 0.012522785, 0.010990229, 0.021132628, 0.013433663, 0.010816759, 0.012656488, 0.010912385, 0.010285357, 0.0130171655, 0.05390789, 0.014383528, 0.014261924, 0.013136753, 0.012084023, 0.0131491255, 0.016401524, 0.010269474, 0.020019963, 0.012107127, 0.013325003, 0.0128124105, 0.013167821, 0.013356608, 0.016935281, 0.014141747, 0.012459714, 0.0120913545, 0.0128735695, 0.013369444, 0.01300462, 0.014295414, 0.012905723, 0.011763652, 0.011443294, 0.015474349, 0.012244524, 0.017005248, 0.014367047, 0.012295964, 0.013117494, 0.01249386, 0.01305051, 0.013368848, 0.01280332, 0.011426258, 0.011075124, 0.012987425, 0.012888016, 0.012382929, 0.012291857, 0.014463697, 0.010946877, 0.013480449, 0.010746815, 0.012660587, 0.011891886, 0.012405854, 0.012922298, 0.012293176, 0.014082755, 0.010795401, 0.014334316, 0.012015836, 0.016073229, 0.011864551, 0.013132542, 0.017385352, 0.012424177, 0.011869936, 0.013230996, 0.012204656, 0.012996975, 0.007197415, 0.013454469, 0.015955327, 0.015127892, 0.01345648, 0.013108125, 0.013143979, 0.014293462, 0.0135779735, 0.014119406]\n",
      "2022-02-28 12:45:41,543 : INFO : merging changes from 2000 documents into a model of 3204 documents\n",
      "2022-02-28 12:45:41,546 : INFO : topic #90 (0.007): 0.001*\"implic\" + 0.001*\"favor\" + 0.001*\"adapt\" + 0.001*\"polygon\" + 0.001*\"stage\" + 0.001*\"situat\" + 0.001*\"respons\" + 0.001*\"industri\" + 0.001*\"regress\" + 0.001*\"drive\"\n",
      "2022-02-28 12:45:41,546 : INFO : topic #25 (0.010): 0.411*\"measur\" + 0.135*\"move\" + 0.093*\"reconstruct\" + 0.069*\"track\" + 0.063*\"intersect\" + 0.063*\"argument\" + 0.033*\",\" + 0.026*\"point\" + 0.018*\"field\" + 0.006*\"manner\"\n",
      "2022-02-28 12:45:41,547 : INFO : topic #35 (0.020): 0.242*\"system\" + 0.090*\"-\" + 0.069*\",\" + 0.060*\"user\" + 0.046*\"comput\" + 0.042*\"time\" + 0.042*\"oper\" + 0.040*\"share\" + 0.028*\"process\" + 0.026*\"design\"\n",
      "2022-02-28 12:45:41,547 : INFO : topic #20 (0.021): 0.235*\"[\" + 0.225*\"algorithm\" + 0.173*\"(\" + 0.147*\"])\" + 0.023*\"complex\" + 0.019*\"matrix\" + 0.017*\"g6\" + 0.017*\"-\" + 0.014*\"eigenvalu\" + 0.013*\"symmetr\"\n",
      "2022-02-28 12:45:41,547 : INFO : topic #27 (0.054): 0.370*\"(\" + 0.319*\")\" + 0.218*\"algorithm\" + 0.025*\"$\" + 0.019*\"))\" + 0.010*\"-\" + 0.008*\"integr\" + 0.007*\"normal\" + 0.006*\"gauss\" + 0.006*\"s15\"\n",
      "2022-02-28 12:45:41,548 : INFO : topic diff=0.174640, rho=0.231857\n",
      "2022-02-28 12:45:41,939 : INFO : -6.446 per-word bound, 87.2 perplexity estimate based on a held-out corpus of 1204 documents with 49783 words\n",
      "2022-02-28 12:45:41,940 : INFO : PROGRESS: pass 16, at document #3204/3204\n",
      "2022-02-28 12:45:42,205 : INFO : optimized alpha [0.0151387565, 0.011322362, 0.012707457, 0.01259225, 0.0198486, 0.012894989, 0.017137423, 0.010900127, 0.013250943, 0.011605276, 0.012535201, 0.011871307, 0.012689576, 0.0127304895, 0.013107031, 0.013879168, 0.01156161, 0.01139316, 0.012669635, 0.011072773, 0.021317683, 0.013567141, 0.010897295, 0.012817701, 0.010928757, 0.010356223, 0.013061756, 0.055198386, 0.014604834, 0.014546546, 0.013307719, 0.012209124, 0.013301503, 0.016670091, 0.010353071, 0.020479707, 0.012231932, 0.013503425, 0.0130072795, 0.01328684, 0.013548821, 0.017393224, 0.014298273, 0.012603429, 0.012148771, 0.0130198505, 0.013472845, 0.013133013, 0.014507673, 0.013087837, 0.011821441, 0.011519458, 0.015735421, 0.01237451, 0.017455328, 0.014597041, 0.012452132, 0.0133615, 0.012620976, 0.013139762, 0.013553314, 0.012908671, 0.011537425, 0.011169922, 0.013125507, 0.013059566, 0.012478583, 0.012443729, 0.014645784, 0.01107055, 0.013691319, 0.010817389, 0.012746393, 0.011973928, 0.012547109, 0.013047182, 0.012470294, 0.014234454, 0.0108797345, 0.014539554, 0.0121651525, 0.016201623, 0.011962506, 0.0132759735, 0.017710876, 0.012547357, 0.01194914, 0.0134468675, 0.012356353, 0.013153037, 0.007157019, 0.013603039, 0.01623449, 0.015311437, 0.013608373, 0.013288226, 0.01330211, 0.014487339, 0.01379057, 0.014301296]\n",
      "2022-02-28 12:45:42,208 : INFO : merging changes from 1204 documents into a model of 3204 documents\n",
      "2022-02-28 12:45:42,211 : INFO : topic #90 (0.007): 0.001*\"implic\" + 0.001*\"favor\" + 0.001*\"adapt\" + 0.001*\"polygon\" + 0.001*\"stage\" + 0.001*\"situat\" + 0.001*\"respons\" + 0.001*\"industri\" + 0.001*\"regress\" + 0.001*\"drive\"\n",
      "2022-02-28 12:45:42,211 : INFO : topic #34 (0.010): 0.087*\"architectur\" + 0.082*\"consider\" + 0.064*\",\" + 0.063*\"cover\" + 0.046*\"paper\" + 0.038*\"entir\" + 0.037*\"system\" + 0.034*\"smaller\" + 0.023*\"past\" + 0.022*\"deriv\"\n"
     ]
    },
    {
     "name": "stderr",
     "output_type": "stream",
     "text": [
      "2022-02-28 12:45:42,211 : INFO : topic #35 (0.020): 0.243*\"system\" + 0.090*\"-\" + 0.070*\",\" + 0.061*\"user\" + 0.045*\"comput\" + 0.041*\"oper\" + 0.040*\"time\" + 0.039*\"share\" + 0.027*\"design\" + 0.027*\"process\"\n",
      "2022-02-28 12:45:42,212 : INFO : topic #20 (0.021): 0.244*\"[\" + 0.235*\"algorithm\" + 0.166*\"(\" + 0.125*\"])\" + 0.026*\"complex\" + 0.021*\"matrix\" + 0.017*\"g6\" + 0.017*\"-\" + 0.015*\"eigenvalu\" + 0.014*\"symmetr\"\n",
      "2022-02-28 12:45:42,212 : INFO : topic #27 (0.055): 0.375*\"(\" + 0.315*\")\" + 0.213*\"algorithm\" + 0.029*\"$\" + 0.023*\"))\" + 0.010*\"-\" + 0.007*\"normal\" + 0.006*\"integr\" + 0.006*\"gauss\" + 0.005*\"s15\"\n",
      "2022-02-28 12:45:42,212 : INFO : topic diff=0.178929, rho=0.231857\n",
      "2022-02-28 12:45:42,216 : INFO : PROGRESS: pass 17, at document #2000/3204\n",
      "2022-02-28 12:45:42,532 : INFO : optimized alpha [0.015200603, 0.011407376, 0.012735999, 0.012673991, 0.019930992, 0.012896201, 0.017362112, 0.010943501, 0.013357442, 0.011629898, 0.01255746, 0.011880305, 0.012706592, 0.012764518, 0.01311403, 0.013923637, 0.0115845, 0.0114272805, 0.01266718, 0.0110660875, 0.021809204, 0.013655806, 0.010910775, 0.012849263, 0.010998951, 0.01034673, 0.013191026, 0.057376087, 0.014682378, 0.014595633, 0.013364404, 0.012205086, 0.013337308, 0.016711758, 0.010348767, 0.020771382, 0.012248231, 0.013739834, 0.01303343, 0.01337477, 0.013595274, 0.017539006, 0.014337962, 0.012687587, 0.012248368, 0.013032845, 0.013582834, 0.013272375, 0.0146283405, 0.013098556, 0.011883527, 0.0115526905, 0.015816877, 0.012415465, 0.01770857, 0.014684754, 0.012449005, 0.013323097, 0.012646565, 0.013233494, 0.0136117, 0.012959056, 0.011552871, 0.011165174, 0.01315563, 0.013063832, 0.012534737, 0.012451658, 0.014739413, 0.011051026, 0.013711573, 0.010839257, 0.0128590325, 0.012038455, 0.012604217, 0.013113038, 0.012525815, 0.014347125, 0.010881798, 0.014632452, 0.012160653, 0.016364792, 0.0119785275, 0.0133805415, 0.017869238, 0.012637081, 0.012045516, 0.01341854, 0.012425276, 0.013204432, 0.0071266913, 0.013680818, 0.016527453, 0.015467476, 0.013749427, 0.0133016445, 0.013361404, 0.014581819, 0.013841302, 0.01438435]\n",
      "2022-02-28 12:45:42,535 : INFO : merging changes from 2000 documents into a model of 3204 documents\n",
      "2022-02-28 12:45:42,538 : INFO : topic #90 (0.007): 0.001*\"implic\" + 0.001*\"favor\" + 0.001*\"adapt\" + 0.001*\"polygon\" + 0.001*\"stage\" + 0.001*\"situat\" + 0.001*\"respons\" + 0.001*\"industri\" + 0.001*\"regress\" + 0.001*\"drive\"\n",
      "2022-02-28 12:45:42,538 : INFO : topic #25 (0.010): 0.414*\"measur\" + 0.135*\"move\" + 0.093*\"reconstruct\" + 0.069*\"track\" + 0.063*\"intersect\" + 0.063*\"argument\" + 0.033*\",\" + 0.025*\"point\" + 0.017*\"field\" + 0.006*\"manner\"\n",
      "2022-02-28 12:45:42,538 : INFO : topic #35 (0.021): 0.242*\"system\" + 0.090*\"-\" + 0.070*\",\" + 0.060*\"user\" + 0.045*\"comput\" + 0.042*\"oper\" + 0.042*\"time\" + 0.040*\"share\" + 0.028*\"process\" + 0.026*\"design\"\n",
      "2022-02-28 12:45:42,539 : INFO : topic #20 (0.022): 0.236*\"[\" + 0.226*\"algorithm\" + 0.173*\"(\" + 0.147*\"])\" + 0.023*\"complex\" + 0.019*\"matrix\" + 0.017*\"g6\" + 0.017*\"-\" + 0.014*\"eigenvalu\" + 0.013*\"symmetr\"\n",
      "2022-02-28 12:45:42,539 : INFO : topic #27 (0.057): 0.373*\"(\" + 0.320*\")\" + 0.218*\"algorithm\" + 0.025*\"$\" + 0.019*\"))\" + 0.010*\"-\" + 0.007*\"normal\" + 0.006*\"gauss\" + 0.006*\"s15\" + 0.006*\"integr\"\n",
      "2022-02-28 12:45:42,539 : INFO : topic diff=0.161868, rho=0.225865\n",
      "2022-02-28 12:45:42,929 : INFO : -6.441 per-word bound, 86.9 perplexity estimate based on a held-out corpus of 1204 documents with 49783 words\n",
      "2022-02-28 12:45:42,929 : INFO : PROGRESS: pass 17, at document #3204/3204\n",
      "2022-02-28 12:45:43,198 : INFO : optimized alpha [0.015414668, 0.011420163, 0.01294023, 0.012769643, 0.020323234, 0.013127626, 0.017748073, 0.011038717, 0.013481305, 0.011737085, 0.012707895, 0.012011354, 0.012821118, 0.012900417, 0.013298834, 0.014138377, 0.011662203, 0.011511865, 0.012811417, 0.011149234, 0.021991204, 0.013789377, 0.010989857, 0.013005443, 0.011010872, 0.01041823, 0.013234308, 0.058620732, 0.014914472, 0.014871626, 0.013532607, 0.012330211, 0.013487057, 0.01697, 0.010432815, 0.021228127, 0.012370803, 0.013931565, 0.013230266, 0.013488988, 0.013787208, 0.018018568, 0.014483515, 0.012833681, 0.012306731, 0.013174089, 0.013694328, 0.0134033365, 0.014840341, 0.01328265, 0.011942424, 0.011629609, 0.016077228, 0.012545522, 0.018171214, 0.014914687, 0.012604927, 0.013558534, 0.01277621, 0.013323348, 0.013793358, 0.013064824, 0.011668598, 0.011258258, 0.013298682, 0.013232532, 0.012628465, 0.012600943, 0.014912935, 0.011168348, 0.01392952, 0.010910549, 0.012950257, 0.0121189, 0.012747808, 0.013245498, 0.0127100125, 0.014498723, 0.010966664, 0.014829053, 0.012307427, 0.0164902, 0.012081502, 0.013521548, 0.018191148, 0.012762814, 0.012120812, 0.013625902, 0.012581577, 0.013367958, 0.0070884004, 0.01382164, 0.016816005, 0.015647855, 0.013898706, 0.013478728, 0.013519317, 0.014772574, 0.014053684, 0.014565936]\n",
      "2022-02-28 12:45:43,201 : INFO : merging changes from 1204 documents into a model of 3204 documents\n",
      "2022-02-28 12:45:43,204 : INFO : topic #90 (0.007): 0.001*\"implic\" + 0.001*\"favor\" + 0.001*\"adapt\" + 0.001*\"polygon\" + 0.001*\"stage\" + 0.001*\"situat\" + 0.001*\"respons\" + 0.001*\"industri\" + 0.001*\"regress\" + 0.001*\"drive\"\n",
      "2022-02-28 12:45:43,204 : INFO : topic #34 (0.010): 0.086*\"architectur\" + 0.083*\"consider\" + 0.064*\",\" + 0.063*\"cover\" + 0.046*\"paper\" + 0.038*\"entir\" + 0.038*\"system\" + 0.033*\"smaller\" + 0.023*\"past\" + 0.022*\"obtain\"\n",
      "2022-02-28 12:45:43,205 : INFO : topic #35 (0.021): 0.244*\"system\" + 0.090*\"-\" + 0.071*\",\" + 0.061*\"user\" + 0.045*\"comput\" + 0.041*\"oper\" + 0.040*\"time\" + 0.039*\"share\" + 0.027*\"design\" + 0.027*\"process\"\n",
      "2022-02-28 12:45:43,205 : INFO : topic #20 (0.022): 0.245*\"[\" + 0.235*\"algorithm\" + 0.166*\"(\" + 0.125*\"])\" + 0.026*\"complex\" + 0.021*\"matrix\" + 0.017*\"g6\" + 0.017*\"-\" + 0.015*\"eigenvalu\" + 0.014*\"symmetr\"\n",
      "2022-02-28 12:45:43,205 : INFO : topic #27 (0.059): 0.377*\"(\" + 0.317*\")\" + 0.213*\"algorithm\" + 0.029*\"$\" + 0.023*\"))\" + 0.010*\"-\" + 0.007*\"normal\" + 0.006*\"gauss\" + 0.005*\"s15\" + 0.005*\"integr\"\n",
      "2022-02-28 12:45:43,206 : INFO : topic diff=0.166016, rho=0.225865\n",
      "2022-02-28 12:45:43,210 : INFO : PROGRESS: pass 18, at document #2000/3204\n",
      "2022-02-28 12:45:43,527 : INFO : optimized alpha [0.015474958, 0.011507667, 0.01296928, 0.012848657, 0.020404594, 0.013132375, 0.017972615, 0.011081409, 0.013595116, 0.011759967, 0.012730923, 0.012020014, 0.012837824, 0.012936521, 0.013305238, 0.014184523, 0.011688672, 0.011547987, 0.012805934, 0.011142846, 0.022487804, 0.013876534, 0.011004381, 0.013043308, 0.011082449, 0.010409109, 0.013360256, 0.060833972, 0.014993526, 0.0149222575, 0.013588069, 0.012330265, 0.013519022, 0.017010087, 0.010428695, 0.021528931, 0.012386688, 0.014181, 0.013254022, 0.013575438, 0.013829455, 0.018179337, 0.014522264, 0.012919285, 0.012403495, 0.0131881535, 0.013802672, 0.013541002, 0.01495916, 0.013292727, 0.012000858, 0.011663642, 0.0161567, 0.012584243, 0.018430706, 0.015009143, 0.0125987325, 0.013518462, 0.012805462, 0.0134141175, 0.013850482, 0.013112926, 0.011683702, 0.011252484, 0.013328076, 0.013237867, 0.0126822665, 0.012609858, 0.015003223, 0.011150385, 0.013948751, 0.010933304, 0.013061305, 0.012181024, 0.012803822, 0.01331458, 0.012771378, 0.014611265, 0.010968798, 0.014920298, 0.012302781, 0.016652739, 0.01209857, 0.013621607, 0.018352862, 0.012852592, 0.012223773, 0.013599038, 0.012646498, 0.01342276, 0.0070596496, 0.013899528, 0.017104335, 0.015796622, 0.014039584, 0.013494515, 0.013575808, 0.014866979, 0.01410314, 0.014648998]\n",
      "2022-02-28 12:45:43,530 : INFO : merging changes from 2000 documents into a model of 3204 documents\n",
      "2022-02-28 12:45:43,533 : INFO : topic #90 (0.007): 0.001*\"implic\" + 0.001*\"favor\" + 0.001*\"adapt\" + 0.001*\"polygon\" + 0.001*\"stage\" + 0.001*\"situat\" + 0.001*\"respons\" + 0.001*\"industri\" + 0.001*\"regress\" + 0.001*\"drive\"\n",
      "2022-02-28 12:45:43,533 : INFO : topic #34 (0.010): 0.084*\"consider\" + 0.072*\"architectur\" + 0.065*\",\" + 0.058*\"cover\" + 0.045*\"paper\" + 0.041*\"system\" + 0.036*\"entir\" + 0.034*\"smaller\" + 0.022*\"obtain\" + 0.022*\"deriv\"\n",
      "2022-02-28 12:45:43,533 : INFO : topic #35 (0.022): 0.243*\"system\" + 0.091*\"-\" + 0.071*\",\" + 0.060*\"user\" + 0.045*\"comput\" + 0.042*\"oper\" + 0.041*\"time\" + 0.040*\"share\" + 0.028*\"process\" + 0.026*\"design\"\n"
     ]
    },
    {
     "name": "stderr",
     "output_type": "stream",
     "text": [
      "2022-02-28 12:45:43,533 : INFO : topic #20 (0.022): 0.237*\"[\" + 0.226*\"algorithm\" + 0.173*\"(\" + 0.146*\"])\" + 0.023*\"complex\" + 0.019*\"matrix\" + 0.017*\"g6\" + 0.017*\"-\" + 0.014*\"eigenvalu\" + 0.014*\"symmetr\"\n",
      "2022-02-28 12:45:43,534 : INFO : topic #27 (0.061): 0.375*\"(\" + 0.321*\")\" + 0.217*\"algorithm\" + 0.025*\"$\" + 0.019*\"))\" + 0.010*\"-\" + 0.008*\"normal\" + 0.006*\"gauss\" + 0.006*\"s15\" + 0.004*\"integr\"\n",
      "2022-02-28 12:45:43,534 : INFO : topic diff=0.151173, rho=0.220316\n",
      "2022-02-28 12:45:43,927 : INFO : -6.436 per-word bound, 86.6 perplexity estimate based on a held-out corpus of 1204 documents with 49783 words\n",
      "2022-02-28 12:45:43,927 : INFO : PROGRESS: pass 18, at document #3204/3204\n",
      "2022-02-28 12:45:44,192 : INFO : optimized alpha [0.015683018, 0.011522268, 0.01317574, 0.012937769, 0.020791918, 0.013365951, 0.018353058, 0.011179138, 0.013719281, 0.011865424, 0.012876664, 0.012151176, 0.012955175, 0.013065434, 0.013489797, 0.014396328, 0.011769344, 0.01162892, 0.012950082, 0.011222547, 0.022654092, 0.014007791, 0.011084136, 0.0132018, 0.011096216, 0.010481271, 0.0134023465, 0.062094796, 0.015211574, 0.015198048, 0.0137561755, 0.0124578485, 0.013673872, 0.017274251, 0.010507431, 0.021994602, 0.012507196, 0.014376068, 0.013457943, 0.013690037, 0.01401614, 0.018655023, 0.014670674, 0.013065543, 0.012460611, 0.013331964, 0.013901905, 0.013669719, 0.015171068, 0.0134740975, 0.012060857, 0.0117370635, 0.016410649, 0.012712195, 0.01890968, 0.015247419, 0.012754574, 0.013753137, 0.012932898, 0.013504663, 0.014029467, 0.013216817, 0.011793206, 0.011341912, 0.013463812, 0.013401473, 0.012776595, 0.01275676, 0.015176784, 0.011265706, 0.014161268, 0.01100738, 0.013148362, 0.012264351, 0.0129475305, 0.013442415, 0.012969835, 0.014762957, 0.011048171, 0.015122302, 0.01245171, 0.01677213, 0.012197601, 0.013762912, 0.018671287, 0.012978625, 0.012302054, 0.013808288, 0.012802855, 0.013576422, 0.0070232702, 0.014040484, 0.017393146, 0.01599161, 0.014186394, 0.01367638, 0.013736311, 0.015052235, 0.014315333, 0.014825116]\n",
      "2022-02-28 12:45:44,195 : INFO : merging changes from 1204 documents into a model of 3204 documents\n",
      "2022-02-28 12:45:44,198 : INFO : topic #90 (0.007): 0.001*\"implic\" + 0.001*\"favor\" + 0.001*\"adapt\" + 0.001*\"polygon\" + 0.001*\"stage\" + 0.001*\"situat\" + 0.001*\"respons\" + 0.001*\"industri\" + 0.001*\"regress\" + 0.001*\"drive\"\n",
      "2022-02-28 12:45:44,198 : INFO : topic #25 (0.010): 0.432*\"measur\" + 0.148*\"move\" + 0.100*\"reconstruct\" + 0.063*\"track\" + 0.061*\"intersect\" + 0.057*\"argument\" + 0.031*\",\" + 0.018*\"point\" + 0.015*\"field\" + 0.005*\"manner\"\n",
      "2022-02-28 12:45:44,198 : INFO : topic #35 (0.022): 0.245*\"system\" + 0.090*\"-\" + 0.072*\",\" + 0.061*\"user\" + 0.044*\"comput\" + 0.041*\"oper\" + 0.040*\"time\" + 0.039*\"share\" + 0.028*\"design\" + 0.027*\"process\"\n",
      "2022-02-28 12:45:44,199 : INFO : topic #20 (0.023): 0.247*\"[\" + 0.234*\"algorithm\" + 0.166*\"(\" + 0.126*\"])\" + 0.025*\"complex\" + 0.021*\"matrix\" + 0.018*\"g6\" + 0.017*\"-\" + 0.015*\"eigenvalu\" + 0.014*\"symmetr\"\n",
      "2022-02-28 12:45:44,199 : INFO : topic #27 (0.062): 0.378*\"(\" + 0.317*\")\" + 0.213*\"algorithm\" + 0.029*\"$\" + 0.022*\"))\" + 0.010*\"-\" + 0.007*\"normal\" + 0.006*\"gauss\" + 0.005*\"s15\" + 0.003*\"integr\"\n",
      "2022-02-28 12:45:44,199 : INFO : topic diff=0.154874, rho=0.220316\n",
      "2022-02-28 12:45:44,204 : INFO : PROGRESS: pass 19, at document #2000/3204\n",
      "2022-02-28 12:45:44,525 : INFO : optimized alpha [0.015743524, 0.011608523, 0.01320947, 0.013018388, 0.020867905, 0.013368395, 0.018573552, 0.01122352, 0.013824136, 0.011891744, 0.01290051, 0.012163473, 0.012972937, 0.013100821, 0.013495688, 0.014445829, 0.011795467, 0.011669504, 0.012947349, 0.011215226, 0.023141291, 0.014098083, 0.011098485, 0.013238792, 0.011169157, 0.0104724895, 0.0135265505, 0.06431531, 0.015289166, 0.015247003, 0.013810484, 0.012460497, 0.013706516, 0.017318605, 0.0105046285, 0.022292934, 0.012524091, 0.014631212, 0.01348512, 0.013773658, 0.0140588265, 0.018815096, 0.014707088, 0.013149865, 0.012557344, 0.013349993, 0.014008709, 0.013799825, 0.015299557, 0.013483577, 0.012118441, 0.0117731625, 0.016488241, 0.0127515895, 0.019175706, 0.015343531, 0.012753787, 0.013717375, 0.012960092, 0.013595551, 0.014088424, 0.013262631, 0.011810559, 0.011338789, 0.013496904, 0.013403536, 0.012832243, 0.012768075, 0.015262171, 0.011248046, 0.014182584, 0.011033375, 0.013256517, 0.012324195, 0.013001127, 0.013508907, 0.013031443, 0.014875445, 0.0110515645, 0.015215215, 0.012446911, 0.016941419, 0.012215714, 0.013864475, 0.018828496, 0.013072721, 0.012410294, 0.0137782255, 0.012873487, 0.01362724, 0.0069959573, 0.014117069, 0.01768397, 0.01613665, 0.014324126, 0.013691484, 0.013796054, 0.015143363, 0.014366518, 0.0149050625]\n",
      "2022-02-28 12:45:44,527 : INFO : merging changes from 2000 documents into a model of 3204 documents\n",
      "2022-02-28 12:45:44,530 : INFO : topic #90 (0.007): 0.001*\"implic\" + 0.001*\"favor\" + 0.001*\"adapt\" + 0.001*\"polygon\" + 0.001*\"stage\" + 0.001*\"situat\" + 0.001*\"respons\" + 0.001*\"industri\" + 0.001*\"regress\" + 0.001*\"drive\"\n",
      "2022-02-28 12:45:44,531 : INFO : topic #25 (0.010): 0.420*\"measur\" + 0.136*\"move\" + 0.093*\"reconstruct\" + 0.069*\"track\" + 0.063*\"intersect\" + 0.062*\"argument\" + 0.033*\",\" + 0.020*\"point\" + 0.016*\"field\" + 0.006*\"manner\"\n",
      "2022-02-28 12:45:44,531 : INFO : topic #35 (0.022): 0.244*\"system\" + 0.091*\"-\" + 0.072*\",\" + 0.060*\"user\" + 0.044*\"comput\" + 0.041*\"oper\" + 0.041*\"time\" + 0.040*\"share\" + 0.028*\"process\" + 0.027*\"design\"\n",
      "2022-02-28 12:45:44,531 : INFO : topic #20 (0.023): 0.239*\"[\" + 0.225*\"algorithm\" + 0.173*\"(\" + 0.147*\"])\" + 0.022*\"complex\" + 0.019*\"matrix\" + 0.017*\"g6\" + 0.017*\"-\" + 0.014*\"eigenvalu\" + 0.014*\"symmetr\"\n",
      "2022-02-28 12:45:44,532 : INFO : topic #27 (0.064): 0.376*\"(\" + 0.322*\")\" + 0.217*\"algorithm\" + 0.025*\"$\" + 0.019*\"))\" + 0.010*\"-\" + 0.008*\"normal\" + 0.006*\"gauss\" + 0.006*\"s15\" + 0.004*\"ii\"\n",
      "2022-02-28 12:45:44,532 : INFO : topic diff=0.141623, rho=0.215156\n",
      "2022-02-28 12:45:44,923 : INFO : -6.432 per-word bound, 86.4 perplexity estimate based on a held-out corpus of 1204 documents with 49783 words\n",
      "2022-02-28 12:45:44,923 : INFO : PROGRESS: pass 19, at document #3204/3204\n",
      "2022-02-28 12:45:45,190 : INFO : optimized alpha [0.015948571, 0.011624867, 0.013416008, 0.013115257, 0.021250596, 0.01359708, 0.018948399, 0.011323774, 0.01395619, 0.011993391, 0.013051048, 0.0122992, 0.013086107, 0.013230069, 0.013682565, 0.014662615, 0.011872715, 0.011749091, 0.01308923, 0.011293691, 0.023304965, 0.014229644, 0.011176958, 0.013392591, 0.011182696, 0.01054352, 0.013567514, 0.06551801, 0.015507198, 0.015522864, 0.013976177, 0.012586116, 0.013856533, 0.017576162, 0.010587746, 0.022751808, 0.012640481, 0.014832278, 0.013691363, 0.013888607, 0.014245539, 0.019303342, 0.014853163, 0.013298788, 0.012613278, 0.013506174, 0.014111109, 0.013928869, 0.015519785, 0.013662416, 0.0121795265, 0.011849512, 0.016739098, 0.012877593, 0.019668242, 0.015584852, 0.0129096145, 0.0139491, 0.013083198, 0.013686854, 0.0142700365, 0.013369528, 0.011916174, 0.01142881, 0.013630527, 0.013562274, 0.012924893, 0.012912758, 0.015430304, 0.011361526, 0.014392345, 0.011106229, 0.013344288, 0.012408296, 0.01314273, 0.013634693, 0.013230312, 0.015016576, 0.011133622, 0.015422927, 0.012600257, 0.017061122, 0.012313097, 0.014003533, 0.019143429, 0.013196791, 0.012487111, 0.013986992, 0.013027758, 0.013786107, 0.006961322, 0.014260787, 0.01796969, 0.01631716, 0.014471192, 0.013873239, 0.013956738, 0.015328638, 0.014583821, 0.015081204]\n",
      "2022-02-28 12:45:45,193 : INFO : merging changes from 1204 documents into a model of 3204 documents\n",
      "2022-02-28 12:45:45,196 : INFO : topic #90 (0.007): 0.001*\"implic\" + 0.001*\"favor\" + 0.001*\"adapt\" + 0.001*\"polygon\" + 0.001*\"stage\" + 0.001*\"situat\" + 0.001*\"respons\" + 0.001*\"industri\" + 0.001*\"regress\" + 0.001*\"drive\"\n",
      "2022-02-28 12:45:45,196 : INFO : topic #25 (0.011): 0.435*\"measur\" + 0.148*\"move\" + 0.099*\"reconstruct\" + 0.063*\"track\" + 0.061*\"intersect\" + 0.057*\"argument\" + 0.031*\",\" + 0.016*\"point\" + 0.015*\"field\" + 0.005*\"manner\"\n",
      "2022-02-28 12:45:45,196 : INFO : topic #35 (0.023): 0.246*\"system\" + 0.091*\"-\" + 0.073*\",\" + 0.061*\"user\" + 0.044*\"comput\" + 0.041*\"oper\" + 0.040*\"time\" + 0.039*\"share\" + 0.028*\"design\" + 0.027*\"process\"\n",
      "2022-02-28 12:45:45,197 : INFO : topic #20 (0.023): 0.249*\"[\" + 0.234*\"algorithm\" + 0.166*\"(\" + 0.127*\"])\" + 0.025*\"complex\" + 0.020*\"matrix\" + 0.018*\"g6\" + 0.017*\"-\" + 0.014*\"symmetr\" + 0.014*\"eigenvalu\"\n"
     ]
    },
    {
     "name": "stderr",
     "output_type": "stream",
     "text": [
      "2022-02-28 12:45:45,197 : INFO : topic #27 (0.066): 0.379*\"(\" + 0.318*\")\" + 0.213*\"algorithm\" + 0.029*\"$\" + 0.022*\"))\" + 0.010*\"-\" + 0.007*\"normal\" + 0.006*\"gauss\" + 0.005*\"s15\" + 0.003*\"ii\"\n",
      "2022-02-28 12:45:45,197 : INFO : topic diff=0.145060, rho=0.215156\n"
     ]
    },
    {
     "data": {
      "text/plain": [
       "[(0, 0.0065119434),\n",
       " (1, 0.0047465367),\n",
       " (2, 0.0054778755),\n",
       " (3, 0.005355076),\n",
       " (4, 0.008676807),\n",
       " (5, 0.0055518085),\n",
       " (6, 0.0077367993),\n",
       " (7, 0.0046235975),\n",
       " (8, 0.0056984364),\n",
       " (9, 0.004897008),\n",
       " (10, 0.0053288587),\n",
       " (11, 0.0050218725),\n",
       " (12, 0.0053431736),\n",
       " (13, 0.0054019545),\n",
       " (14, 0.0055867126),\n",
       " (15, 0.005986876),\n",
       " (16, 0.004847735),\n",
       " (17, 0.004797258),\n",
       " (18, 0.005344449),\n",
       " (19, 0.0046113143),\n",
       " (20, 0.0095156245),\n",
       " (21, 0.00581009),\n",
       " (22, 0.004563651),\n",
       " (23, 0.005468314),\n",
       " (24, 0.41286823),\n",
       " (25, 0.0043050125),\n",
       " (26, 0.0055397362),\n",
       " (27, 0.026751583),\n",
       " (28, 0.0063317264),\n",
       " (29, 0.006338123),\n",
       " (30, 0.005706597),\n",
       " (31, 0.005139023),\n",
       " (32, 0.0056577455),\n",
       " (33, 0.007176503),\n",
       " (34, 0.004323071),\n",
       " (35, 0.009289766),\n",
       " (36, 0.0051612207),\n",
       " (37, 0.006056151),\n",
       " (38, 0.005590305),\n",
       " (39, 0.0056708413),\n",
       " (40, 0.0058165803),\n",
       " (41, 0.007881726),\n",
       " (42, 0.006064678),\n",
       " (43, 0.0054300134),\n",
       " (44, 0.0051501133),\n",
       " (45, 0.0055146907),\n",
       " (46, 0.0057616914),\n",
       " (47, 0.005687281),\n",
       " (48, 0.006336866),\n",
       " (49, 0.005578486),\n",
       " (50, 0.0049730088),\n",
       " (51, 0.0048382613),\n",
       " (52, 0.0068347226),\n",
       " (53, 0.0052580354),\n",
       " (54, 0.008030718),\n",
       " (55, 0.0063634333),\n",
       " (56, 0.00527111),\n",
       " (57, 0.0056955414),\n",
       " (58, 0.005341986),\n",
       " (59, 0.0055884644),\n",
       " (60, 0.0058265827),\n",
       " (61, 0.005458897),\n",
       " (62, 0.0048654797),\n",
       " (63, 0.0046664844),\n",
       " (64, 0.0055654654),\n",
       " (65, 0.005537597),\n",
       " (66, 0.0052773487),\n",
       " (67, 0.0052723936),\n",
       " (68, 0.00630033),\n",
       " (69, 0.0046390123),\n",
       " (70, 0.0058765225),\n",
       " (71, 0.004534772),\n",
       " (72, 0.0054485914),\n",
       " (73, 0.005066417),\n",
       " (74, 0.0053662932),\n",
       " (75, 0.005567166),\n",
       " (76, 0.0054020537),\n",
       " (77, 0.0061314013),\n",
       " (78, 0.004545957),\n",
       " (79, 0.0062973183),\n",
       " (80, 0.005144797),\n",
       " (81, 0.0069662076),\n",
       " (82, 0.005027547),\n",
       " (83, 0.005717767),\n",
       " (84, 0.007816432),\n",
       " (85, 0.005388367),\n",
       " (86, 0.005098598),\n",
       " (87, 0.005711013),\n",
       " (88, 0.0053193495),\n",
       " (89, 0.00562899),\n",
       " (90, 0.0028423695),\n",
       " (91, 0.0058228057),\n",
       " (92, 0.007337184),\n",
       " (93, 0.006662442),\n",
       " (94, 0.005908716),\n",
       " (95, 0.0056645665),\n",
       " (96, 0.00569866),\n",
       " (97, 0.0062588193),\n",
       " (98, 0.005954704),\n",
       " (99, 0.0061577894)]"
      ]
     },
     "execution_count": 85,
     "metadata": {},
     "output_type": "execute_result"
    }
   ],
   "source": [
    "##### Function check\n",
    "lda = LdaRetrievalModel(doc_repr_2)\n",
    "lda.train_model()\n",
    "\n",
    "# you can now get an LDA vector for a given query in the following way:\n",
    "lda.vectorize_query(\"report\")\n",
    "##### "
   ]
  },
  {
   "cell_type": "markdown",
   "metadata": {
    "deletable": false,
    "editable": false,
    "nbgrader": {
     "cell_type": "markdown",
     "checksum": "32d83b6ea79ca3ddb789a7f8805a1b25",
     "grade": false,
     "grade_id": "cell-0e24b727d5908c0e",
     "locked": true,
     "points": 5,
     "schema_version": 3,
     "solution": false,
     "task": true
    }
   },
   "source": [
    "\\#### Please do not change this. This cell is used for grading."
   ]
  },
  {
   "cell_type": "markdown",
   "metadata": {
    "deletable": false,
    "editable": false,
    "nbgrader": {
     "cell_type": "markdown",
     "checksum": "114a934f0b9ce696e6cf09d3b8da6a3d",
     "grade": false,
     "grade_id": "cell-b1bffcb970b18aeb",
     "locked": true,
     "schema_version": 3,
     "solution": false,
     "task": false
    }
   },
   "source": [
    "---\n",
    "Now we can use the `DenseRetrievalModel` class to obtain an LDA search function.\n",
    "You can test your LDA model in the following cell: Try finding queries which are lexically different to documents, but semantically similar - does LDA work well for these queries?!"
   ]
  },
  {
   "cell_type": "code",
   "execution_count": 86,
   "metadata": {},
   "outputs": [
    {
     "data": {
      "application/vnd.jupyter.widget-view+json": {
       "model_id": "fb53cda01742470492ff2ac714a6a7b8",
       "version_major": 2,
       "version_minor": 0
      },
      "text/plain": [
       "Text(value='', description='Search Bar')"
      ]
     },
     "metadata": {},
     "output_type": "display_data"
    }
   ],
   "source": [
    "drm_lda = DenseRetrievalRanker(lda, jenson_shannon_sim)\n",
    "\n",
    "# test your LDA model\n",
    "search_fn = drm_lda.search\n",
    "\n",
    "text = widgets.Text(description=\"Search Bar\", width=200)\n",
    "display(text)\n",
    "\n",
    "\n",
    "text.on_submit(handle_submit_2)"
   ]
  },
  {
   "cell_type": "markdown",
   "metadata": {
    "deletable": false,
    "editable": false,
    "nbgrader": {
     "cell_type": "markdown",
     "checksum": "9d7f15863b655119b45f4d89354e5661",
     "grade": false,
     "grade_id": "cell-190cd0854b2791cc",
     "locked": true,
     "schema_version": 3,
     "solution": false,
     "task": false
    }
   },
   "source": [
    "## Section 8: Word2Vec/Doc2Vec (20 points) <a class=\"anchor\" id=\"2vec\"></a>\n",
    "\n",
    "[Back to Part 2](#part2)\n",
    "\n",
    "We will implement two other methods here, the Word2Vec model and the Doc2Vec model, also using `gensim`. Word2Vec creates representations of words, not documents, so the word level vectors need to be aggregated to obtain a representation for the document. Here, we will simply take the mean of the vectors. \n",
    "\n",
    "\n",
    "A drawback of these models is that they need a lot of training data. Our dataset is tiny, so in addition to using a model trained on the data, we will also use a pre-trained model for Word2Vec (this will be automatically downloaded).     \n",
    "\n",
    "*Note*:\n",
    "1. The code in vectorize_documents / vectorize_query should return gensim-like vectors i.e `[(dim, val), .. (dim, val)]`. \n",
    "2. For Word2Vec: You should also handle the following two cases: (a) A word in the query is not present in the vocabulary of the model and (b) none of the words in the query are present in the model - you can return 0 scores for all documents in this case. For either of these, you can check if a `word` is present in the vocab by using `word in self.model`\n"
   ]
  },
  {
   "cell_type": "code",
   "execution_count": 104,
   "metadata": {
    "deletable": false,
    "nbgrader": {
     "cell_type": "code",
     "checksum": "83ab733608ed14c29c09b36b4e1b6daa",
     "grade": false,
     "grade_id": "cell-2b73759f9baf688f",
     "locked": false,
     "schema_version": 3,
     "solution": true,
     "task": false
    },
    "scrolled": true
   },
   "outputs": [
    {
     "name": "stderr",
     "output_type": "stream",
     "text": [
      "2022-02-28 13:07:02,227 : INFO : adding document #0 to Dictionary(0 unique tokens: [])\n",
      "2022-02-28 13:07:02,332 : INFO : built Dictionary(5937 unique tokens: ['-', 'algebra', 'intern', 'languag', 'preliminari']...) from 3204 documents (total 115969 corpus positions)\n",
      "2022-02-28 13:07:02,337 : INFO : discarding 4740 tokens: [('repeat', 8), ('glossari', 7), ('inspect', 8), ('uncol', 2), ('rung', 9), ('secant', 2), ('.', 1603), ('acceler', 6), ('diverg', 3), ('induc', 9)]...\n",
      "2022-02-28 13:07:02,337 : INFO : keeping 1197 tokens which were in no less than 10 and no more than 1602 (=50.0%) documents\n",
      "2022-02-28 13:07:02,339 : INFO : resulting dictionary: Dictionary(1197 unique tokens: ['-', 'algebra', 'intern', 'languag', 'preliminari']...)\n",
      "2022-02-28 13:07:02,391 : INFO : collecting all words and their counts\n",
      "2022-02-28 13:07:02,391 : INFO : PROGRESS: at sentence #0, processed 0 words, keeping 0 word types\n",
      "2022-02-28 13:07:02,403 : INFO : collected 5937 word types from a corpus of 115969 raw words and 3204 sentences\n",
      "2022-02-28 13:07:02,404 : INFO : Loading a fresh vocabulary\n",
      "2022-02-28 13:07:02,411 : INFO : effective_min_count=1 retains 5937 unique words (100% of original 5937, drops 0)\n",
      "2022-02-28 13:07:02,412 : INFO : effective_min_count=1 leaves 115969 word corpus (100% of original 115969, drops 0)\n",
      "2022-02-28 13:07:02,424 : INFO : deleting the raw counts dictionary of 5937 items\n",
      "2022-02-28 13:07:02,424 : INFO : sample=0.001 downsamples 40 most-common words\n",
      "2022-02-28 13:07:02,424 : INFO : downsampling leaves estimated 92346 word corpus (79.6% of prior 115969)\n",
      "2022-02-28 13:07:02,432 : INFO : estimated required memory for 5937 words and 100 dimensions: 7718100 bytes\n",
      "2022-02-28 13:07:02,432 : INFO : resetting layer weights\n",
      "2022-02-28 13:07:03,224 : INFO : training model with 3 workers on 5937 vocabulary and 100 features, using sg=0 hs=0 sample=0.001 negative=5 window=5\n",
      "2022-02-28 13:07:03,270 : INFO : worker thread finished; awaiting finish of 2 more threads\n",
      "2022-02-28 13:07:03,273 : INFO : worker thread finished; awaiting finish of 1 more threads\n",
      "2022-02-28 13:07:03,274 : INFO : worker thread finished; awaiting finish of 0 more threads\n",
      "2022-02-28 13:07:03,274 : INFO : EPOCH - 1 : training on 115969 raw words (92241 effective words) took 0.0s, 2003546 effective words/s\n",
      "2022-02-28 13:07:03,318 : INFO : worker thread finished; awaiting finish of 2 more threads\n",
      "2022-02-28 13:07:03,320 : INFO : worker thread finished; awaiting finish of 1 more threads\n",
      "2022-02-28 13:07:03,321 : INFO : worker thread finished; awaiting finish of 0 more threads\n",
      "2022-02-28 13:07:03,322 : INFO : EPOCH - 2 : training on 115969 raw words (92491 effective words) took 0.0s, 2129132 effective words/s\n",
      "2022-02-28 13:07:03,364 : INFO : worker thread finished; awaiting finish of 2 more threads\n",
      "2022-02-28 13:07:03,367 : INFO : worker thread finished; awaiting finish of 1 more threads\n",
      "2022-02-28 13:07:03,368 : INFO : worker thread finished; awaiting finish of 0 more threads\n",
      "2022-02-28 13:07:03,369 : INFO : EPOCH - 3 : training on 115969 raw words (92402 effective words) took 0.0s, 2068611 effective words/s\n",
      "2022-02-28 13:07:03,411 : INFO : worker thread finished; awaiting finish of 2 more threads\n",
      "2022-02-28 13:07:03,414 : INFO : worker thread finished; awaiting finish of 1 more threads\n",
      "2022-02-28 13:07:03,415 : INFO : worker thread finished; awaiting finish of 0 more threads\n",
      "2022-02-28 13:07:03,416 : INFO : EPOCH - 4 : training on 115969 raw words (92377 effective words) took 0.0s, 2150461 effective words/s\n",
      "2022-02-28 13:07:03,458 : INFO : worker thread finished; awaiting finish of 2 more threads\n",
      "2022-02-28 13:07:03,461 : INFO : worker thread finished; awaiting finish of 1 more threads\n",
      "2022-02-28 13:07:03,462 : INFO : worker thread finished; awaiting finish of 0 more threads\n",
      "2022-02-28 13:07:03,462 : INFO : EPOCH - 5 : training on 115969 raw words (92227 effective words) took 0.0s, 2159432 effective words/s\n",
      "2022-02-28 13:07:03,463 : INFO : training on a 579845 raw words (461738 effective words) took 0.2s, 1937853 effective words/s\n",
      "/Users/kevintran/opt/anaconda3/envs/python365/lib/python3.6/site-packages/ipykernel_launcher.py:52: DeprecationWarning: Call to deprecated `__contains__` (Method will be removed in 4.0.0, use self.wv.__contains__() instead).\n",
      "/Users/kevintran/opt/anaconda3/envs/python365/lib/python3.6/site-packages/ipykernel_launcher.py:58: DeprecationWarning: Call to deprecated `__getitem__` (Method will be removed in 4.0.0, use self.wv.__getitem__() instead).\n"
     ]
    },
    {
     "data": {
      "text/plain": [
       "[(0, 0.4936506),\n",
       " (1, 0.0714301),\n",
       " (2, 0.11596303),\n",
       " (3, 0.42861813),\n",
       " (4, -0.69542867),\n",
       " (5, 0.18120962),\n",
       " (6, -0.04076165),\n",
       " (7, -0.083350934),\n",
       " (8, -0.055004504),\n",
       " (9, 0.6659826),\n",
       " (10, -0.2611332),\n",
       " (11, -0.59542155),\n",
       " (12, -0.3252434),\n",
       " (13, -0.7236181),\n",
       " (14, 0.51346064),\n",
       " (15, 0.27843466),\n",
       " (16, 0.58648944),\n",
       " (17, 0.77825),\n",
       " (18, -0.6443483),\n",
       " (19, -0.025729746),\n",
       " (20, -0.19131018),\n",
       " (21, -0.34461522),\n",
       " (22, -0.6640172),\n",
       " (23, -0.58858526),\n",
       " (24, -0.145353),\n",
       " (25, 0.4535468),\n",
       " (26, -0.57260287),\n",
       " (27, -0.6102935),\n",
       " (28, 0.08041507),\n",
       " (29, -0.111680284),\n",
       " (30, -0.16480844),\n",
       " (31, -0.06958332),\n",
       " (32, 0.2847282),\n",
       " (33, 0.23683095),\n",
       " (34, 0.5794347),\n",
       " (35, -0.4109359),\n",
       " (36, -0.029545875),\n",
       " (37, -0.3289853),\n",
       " (38, -0.3211751),\n",
       " (39, -0.07756336),\n",
       " (40, 0.20693989),\n",
       " (41, -0.16906217),\n",
       " (42, 1.0437857),\n",
       " (43, 0.15952808),\n",
       " (44, -0.080813795),\n",
       " (45, 0.28496692),\n",
       " (46, 0.0658576),\n",
       " (47, 0.010286848),\n",
       " (48, -0.09482667),\n",
       " (49, -0.21364686),\n",
       " (50, -0.037781663),\n",
       " (51, -0.5253554),\n",
       " (52, 0.73140776),\n",
       " (53, 0.35168862),\n",
       " (54, -0.0924953),\n",
       " (55, 0.74048704),\n",
       " (56, 0.05063148),\n",
       " (57, -0.044465195),\n",
       " (58, -0.14821172),\n",
       " (59, 0.42322713),\n",
       " (60, 0.49272776),\n",
       " (61, -0.008080764),\n",
       " (62, -1.0941423),\n",
       " (63, 0.3033276),\n",
       " (64, -0.42242202),\n",
       " (65, -0.95558053),\n",
       " (66, 0.17310065),\n",
       " (67, 0.85807383),\n",
       " (68, -0.36217287),\n",
       " (69, 0.26058164),\n",
       " (70, -0.73293245),\n",
       " (71, -0.31074986),\n",
       " (72, 0.013500917),\n",
       " (73, -0.15870948),\n",
       " (74, 0.025308987),\n",
       " (75, 0.10448754),\n",
       " (76, -0.21016818),\n",
       " (77, 0.15412942),\n",
       " (78, -0.102081075),\n",
       " (79, 0.2283201),\n",
       " (80, 0.101288974),\n",
       " (81, 0.25515348),\n",
       " (82, -0.37401184),\n",
       " (83, -0.43203372),\n",
       " (84, 0.7724493),\n",
       " (85, 0.7169107),\n",
       " (86, 0.66079545),\n",
       " (87, -0.031267058),\n",
       " (88, 0.4343777),\n",
       " (89, -0.71315986),\n",
       " (90, 0.3924732),\n",
       " (91, 0.14454),\n",
       " (92, 0.3343959),\n",
       " (93, 0.16760565),\n",
       " (94, 0.28440043),\n",
       " (95, 1.1713386),\n",
       " (96, -0.14884503),\n",
       " (97, 0.024695115),\n",
       " (98, -0.8744142),\n",
       " (99, 0.11461087)]"
      ]
     },
     "execution_count": 104,
     "metadata": {},
     "output_type": "execute_result"
    }
   ],
   "source": [
    "# TODO: Implement this! (10 points)\n",
    "class W2VRetrievalModel(VectorSpaceRetrievalModel):\n",
    "    def __init__(self, doc_repr):\n",
    "        super().__init__(doc_repr)\n",
    "        \n",
    "        # the dimensionality of the vectors\n",
    "        self.size = 100 \n",
    "        self.min_count = 1\n",
    "    \n",
    "    def train_model(self):\n",
    "        \"\"\"\n",
    "        Trains the W2V model\n",
    "        \"\"\"\n",
    "        # YOUR CODE HERE\n",
    "\n",
    "        self.model = Word2Vec(sentences=self.documents, size=self.size, min_count=self.min_count)\n",
    "    \n",
    "        return self.model\n",
    "        \n",
    "    def vectorize_documents(self):\n",
    "        \"\"\"\n",
    "            Returns a doc_id -> vector dictionary\n",
    "        \"\"\"\n",
    "        \n",
    "        # YOUR CODE HERE        \n",
    "        \n",
    "        vectors = dict()\n",
    "        \n",
    "        for (doc_id, _), cc in zip(self.doc_repr, self.documents):\n",
    "\n",
    "            output = np.mean(self.model[cc], axis=0)\n",
    "            \n",
    "            # same format as query vectors\n",
    "            vectors[doc_id] = [(x, output[x]) for x in range(self.size)]\n",
    "\n",
    "        return vectors\n",
    "    \n",
    "\n",
    "    def vectorize_query(self, query):\n",
    "        \"\"\"\n",
    "        Vectorizes the query using the W2V model\n",
    "        \"\"\"\n",
    "        query = process_text(query, **config_2)\n",
    "        # YOUR CODE HERE\n",
    "        \n",
    "#         zero_temp = []\n",
    "\n",
    "        filtered_query = []\n",
    "        \n",
    "        # skip the words that are not in self.model --> ranking will still be the same\n",
    "        for word in query:\n",
    "            if word in self.model:\n",
    "                filtered_query.append(word)\n",
    "                \n",
    "        if len(filtered_query) == 0:\n",
    "            return [[x, 0.0] for x in range(self.size)]\n",
    "            \n",
    "        vectorized_query = np.mean(self.model[filtered_query], axis=0)\n",
    "        \n",
    "        return [(x, vectorized_query[x]) for x in range(self.size)]\n",
    "\n",
    "class W2VPretrainedRetrievalModel(W2VRetrievalModel):\n",
    "    def __init__(self, doc_repr):\n",
    "        super().__init__(doc_repr)\n",
    "        self.model_name = \"word2vec-google-news-300\"\n",
    "        self.size = 300\n",
    "    \n",
    "    def train_model(self):\n",
    "        \"\"\"\n",
    "        Loads the pretrained model\n",
    "        \"\"\"\n",
    "        self.model = g_downloader.load(self.model_name)\n",
    "\n",
    "w2v = W2VRetrievalModel(doc_repr_2)\n",
    "w2v.train_model()\n",
    "# w2v.vectorize_documents()\n",
    "\n",
    "# you can now get a W2V vector for a given query in the following way:\n",
    "w2v.vectorize_query(\"report\")"
   ]
  },
  {
   "cell_type": "code",
   "execution_count": 105,
   "metadata": {
    "deletable": false,
    "editable": false,
    "nbgrader": {
     "cell_type": "code",
     "checksum": "f92b5c5a8c6c4b80652b94223209ab0b",
     "grade": true,
     "grade_id": "cell-b31c0f8d214b8bdf",
     "locked": true,
     "points": 0,
     "schema_version": 3,
     "solution": false,
     "task": false
    }
   },
   "outputs": [
    {
     "name": "stderr",
     "output_type": "stream",
     "text": [
      "/Users/kevintran/opt/anaconda3/envs/python365/lib/python3.6/site-packages/ipykernel_launcher.py:52: DeprecationWarning: Call to deprecated `__contains__` (Method will be removed in 4.0.0, use self.wv.__contains__() instead).\n",
      "/Users/kevintran/opt/anaconda3/envs/python365/lib/python3.6/site-packages/ipykernel_launcher.py:58: DeprecationWarning: Call to deprecated `__getitem__` (Method will be removed in 4.0.0, use self.wv.__getitem__() instead).\n"
     ]
    }
   ],
   "source": [
    "assert len(w2v.vectorize_query(\"report\")) == 100\n",
    "assert len(w2v.vectorize_query(\"this is a sentence that is not mellifluous\")) == 100\n"
   ]
  },
  {
   "cell_type": "markdown",
   "metadata": {
    "deletable": false,
    "editable": false,
    "nbgrader": {
     "cell_type": "markdown",
     "checksum": "8dfaabebcb06f308a7ca61fdc5d369e7",
     "grade": false,
     "grade_id": "cell-c2614fa067386384",
     "locked": true,
     "points": 8,
     "schema_version": 3,
     "solution": false,
     "task": true
    }
   },
   "source": [
    "\\#### Please do not change this. This cell is used for grading."
   ]
  },
  {
   "cell_type": "code",
   "execution_count": 89,
   "metadata": {
    "scrolled": true
   },
   "outputs": [
    {
     "name": "stderr",
     "output_type": "stream",
     "text": [
      "2022-02-28 12:45:47,624 : INFO : adding document #0 to Dictionary(0 unique tokens: [])\n",
      "2022-02-28 12:45:47,715 : INFO : built Dictionary(5937 unique tokens: ['-', 'algebra', 'intern', 'languag', 'preliminari']...) from 3204 documents (total 115969 corpus positions)\n",
      "2022-02-28 12:45:47,720 : INFO : discarding 4740 tokens: [('repeat', 8), ('glossari', 7), ('inspect', 8), ('uncol', 2), ('rung', 9), ('secant', 2), ('.', 1603), ('acceler', 6), ('diverg', 3), ('induc', 9)]...\n",
      "2022-02-28 12:45:47,720 : INFO : keeping 1197 tokens which were in no less than 10 and no more than 1602 (=50.0%) documents\n",
      "2022-02-28 12:45:47,722 : INFO : resulting dictionary: Dictionary(1197 unique tokens: ['-', 'algebra', 'intern', 'languag', 'preliminari']...)\n",
      "2022-02-28 12:45:47,886 : INFO : loading projection weights from /Users/kevintran/gensim-data/word2vec-google-news-300/word2vec-google-news-300.gz\n",
      "2022-02-28 12:46:23,612 : INFO : loaded (3000000, 300) matrix from /Users/kevintran/gensim-data/word2vec-google-news-300/word2vec-google-news-300.gz\n"
     ]
    },
    {
     "data": {
      "text/plain": [
       "[(0, -0.14257812),\n",
       " (1, -0.1640625),\n",
       " (2, -0.09033203),\n",
       " (3, -0.11230469),\n",
       " (4, 0.100097656),\n",
       " (5, -0.041259766),\n",
       " (6, 0.048828125),\n",
       " (7, -0.13671875),\n",
       " (8, 0.19628906),\n",
       " (9, -0.13476562),\n",
       " (10, -0.017578125),\n",
       " (11, 0.032226562),\n",
       " (12, 0.095214844),\n",
       " (13, -0.10595703),\n",
       " (14, -0.16992188),\n",
       " (15, 0.041015625),\n",
       " (16, -0.26367188),\n",
       " (17, -0.0063171387),\n",
       " (18, -0.17773438),\n",
       " (19, -0.24023438),\n",
       " (20, 0.3515625),\n",
       " (21, -0.012207031),\n",
       " (22, -0.16210938),\n",
       " (23, -0.12060547),\n",
       " (24, 0.04321289),\n",
       " (25, 0.10986328),\n",
       " (26, 0.052490234),\n",
       " (27, 0.17871094),\n",
       " (28, -0.14550781),\n",
       " (29, 0.13769531),\n",
       " (30, -0.08203125),\n",
       " (31, -0.28320312),\n",
       " (32, -0.10888672),\n",
       " (33, -0.2890625),\n",
       " (34, 0.072265625),\n",
       " (35, -0.04736328),\n",
       " (36, 0.040283203),\n",
       " (37, 0.067871094),\n",
       " (38, 0.11669922),\n",
       " (39, 0.000831604),\n",
       " (40, 0.068359375),\n",
       " (41, 0.12011719),\n",
       " (42, -0.088378906),\n",
       " (43, 0.33789062),\n",
       " (44, -0.044677734),\n",
       " (45, -0.030151367),\n",
       " (46, 0.0076904297),\n",
       " (47, -0.021118164),\n",
       " (48, -0.25390625),\n",
       " (49, 0.14941406),\n",
       " (50, 0.3984375),\n",
       " (51, 0.021606445),\n",
       " (52, -0.02319336),\n",
       " (53, 0.0063476562),\n",
       " (54, 0.008239746),\n",
       " (55, -0.16894531),\n",
       " (56, 0.037353516),\n",
       " (57, -0.06347656),\n",
       " (58, 0.1171875),\n",
       " (59, -0.1484375),\n",
       " (60, -0.07861328),\n",
       " (61, 0.36914062),\n",
       " (62, -0.22460938),\n",
       " (63, 0.17382812),\n",
       " (64, 0.0138549805),\n",
       " (65, 0.1875),\n",
       " (66, -0.10107422),\n",
       " (67, 0.037841797),\n",
       " (68, 0.0021209717),\n",
       " (69, -0.05126953),\n",
       " (70, 0.096191406),\n",
       " (71, -0.057128906),\n",
       " (72, 0.10595703),\n",
       " (73, -0.020996094),\n",
       " (74, 0.16113281),\n",
       " (75, 0.09765625),\n",
       " (76, 0.038330078),\n",
       " (77, 0.21972656),\n",
       " (78, 0.10644531),\n",
       " (79, 0.0859375),\n",
       " (80, 0.1796875),\n",
       " (81, -0.08300781),\n",
       " (82, -0.033203125),\n",
       " (83, 0.041015625),\n",
       " (84, -0.064941406),\n",
       " (85, 0.019897461),\n",
       " (86, 0.13378906),\n",
       " (87, -0.09765625),\n",
       " (88, -0.19335938),\n",
       " (89, -0.23535156),\n",
       " (90, 0.19042969),\n",
       " (91, 0.0024871826),\n",
       " (92, -0.01574707),\n",
       " (93, 0.032226562),\n",
       " (94, -0.21972656),\n",
       " (95, -0.091308594),\n",
       " (96, 0.021240234),\n",
       " (97, 0.15820312),\n",
       " (98, 0.29882812),\n",
       " (99, -0.328125),\n",
       " (100, 0.057373047),\n",
       " (101, -0.04638672),\n",
       " (102, 0.11328125),\n",
       " (103, -0.1015625),\n",
       " (104, 0.18066406),\n",
       " (105, -0.025146484),\n",
       " (106, -0.16601562),\n",
       " (107, -0.096191406),\n",
       " (108, 0.018798828),\n",
       " (109, -0.19433594),\n",
       " (110, 0.14941406),\n",
       " (111, -0.056640625),\n",
       " (112, -0.106933594),\n",
       " (113, -0.15039062),\n",
       " (114, -0.17578125),\n",
       " (115, 0.11279297),\n",
       " (116, 0.049316406),\n",
       " (117, 0.21972656),\n",
       " (118, 0.31835938),\n",
       " (119, 0.15722656),\n",
       " (120, -0.29296875),\n",
       " (121, 0.10498047),\n",
       " (122, -0.296875),\n",
       " (123, -0.013427734),\n",
       " (124, 0.09082031),\n",
       " (125, 0.012573242),\n",
       " (126, -0.051513672),\n",
       " (127, -0.12890625),\n",
       " (128, 0.014465332),\n",
       " (129, 0.12060547),\n",
       " (130, -0.10107422),\n",
       " (131, -0.111328125),\n",
       " (132, 0.063964844),\n",
       " (133, -0.052978516),\n",
       " (134, -0.04321289),\n",
       " (135, -0.012939453),\n",
       " (136, -0.02758789),\n",
       " (137, -0.09716797),\n",
       " (138, -0.20214844),\n",
       " (139, 0.123046875),\n",
       " (140, -0.04248047),\n",
       " (141, 0.17382812),\n",
       " (142, -0.013671875),\n",
       " (143, 0.1015625),\n",
       " (144, -0.0009384155),\n",
       " (145, -0.03564453),\n",
       " (146, 0.30078125),\n",
       " (147, -0.068359375),\n",
       " (148, -0.056152344),\n",
       " (149, 0.037597656),\n",
       " (150, 0.06591797),\n",
       " (151, 0.040283203),\n",
       " (152, 0.0119018555),\n",
       " (153, 0.096191406),\n",
       " (154, 0.3671875),\n",
       " (155, -0.27929688),\n",
       " (156, -0.052001953),\n",
       " (157, -0.106933594),\n",
       " (158, -0.13476562),\n",
       " (159, -0.046142578),\n",
       " (160, 0.25),\n",
       " (161, 0.0056762695),\n",
       " (162, -0.014404297),\n",
       " (163, -0.03100586),\n",
       " (164, -0.060302734),\n",
       " (165, 0.10595703),\n",
       " (166, 0.37890625),\n",
       " (167, 0.05883789),\n",
       " (168, 0.123046875),\n",
       " (169, -0.115234375),\n",
       " (170, 0.14941406),\n",
       " (171, -0.1640625),\n",
       " (172, -0.23339844),\n",
       " (173, -0.07763672),\n",
       " (174, 0.026733398),\n",
       " (175, -0.021118164),\n",
       " (176, 0.19433594),\n",
       " (177, -0.056152344),\n",
       " (178, -0.006439209),\n",
       " (179, -0.16992188),\n",
       " (180, -0.118652344),\n",
       " (181, -0.06738281),\n",
       " (182, -0.068847656),\n",
       " (183, -0.08691406),\n",
       " (184, -0.1015625),\n",
       " (185, 0.014160156),\n",
       " (186, -0.20117188),\n",
       " (187, 0.09814453),\n",
       " (188, -0.010253906),\n",
       " (189, 0.1875),\n",
       " (190, 0.19628906),\n",
       " (191, -0.22070312),\n",
       " (192, -0.19628906),\n",
       " (193, -0.07373047),\n",
       " (194, 0.06640625),\n",
       " (195, -0.13378906),\n",
       " (196, 0.18359375),\n",
       " (197, -0.20019531),\n",
       " (198, 0.19824219),\n",
       " (199, 0.05029297),\n",
       " (200, 0.029907227),\n",
       " (201, 0.017700195),\n",
       " (202, -0.19335938),\n",
       " (203, -0.096191406),\n",
       " (204, -0.10253906),\n",
       " (205, 0.21289062),\n",
       " (206, -0.029907227),\n",
       " (207, 0.14355469),\n",
       " (208, 0.041015625),\n",
       " (209, -0.21191406),\n",
       " (210, 0.20800781),\n",
       " (211, 0.13769531),\n",
       " (212, -0.01965332),\n",
       " (213, 0.014953613),\n",
       " (214, -0.09765625),\n",
       " (215, 0.24316406),\n",
       " (216, 0.080078125),\n",
       " (217, 0.08251953),\n",
       " (218, 0.09863281),\n",
       " (219, 0.056884766),\n",
       " (220, 0.04248047),\n",
       " (221, 0.068847656),\n",
       " (222, -0.03540039),\n",
       " (223, -0.076171875),\n",
       " (224, -0.00016117096),\n",
       " (225, -0.07519531),\n",
       " (226, 0.22460938),\n",
       " (227, 0.15136719),\n",
       " (228, 0.10058594),\n",
       " (229, 0.10986328),\n",
       " (230, 0.023803711),\n",
       " (231, 0.088378906),\n",
       " (232, 0.061767578),\n",
       " (233, -0.107910156),\n",
       " (234, 0.06225586),\n",
       " (235, 0.0034332275),\n",
       " (236, 0.080566406),\n",
       " (237, 0.106933594),\n",
       " (238, 0.08886719),\n",
       " (239, -0.23730469),\n",
       " (240, 0.064941406),\n",
       " (241, 0.010192871),\n",
       " (242, -0.088378906),\n",
       " (243, -0.33203125),\n",
       " (244, 0.0046691895),\n",
       " (245, 0.21289062),\n",
       " (246, 0.0859375),\n",
       " (247, 0.020385742),\n",
       " (248, 0.045654297),\n",
       " (249, 0.1484375),\n",
       " (250, 0.11816406),\n",
       " (251, 0.055664062),\n",
       " (252, -0.17285156),\n",
       " (253, -0.125),\n",
       " (254, -0.025390625),\n",
       " (255, -0.31835938),\n",
       " (256, 0.03112793),\n",
       " (257, 0.0859375),\n",
       " (258, -0.041992188),\n",
       " (259, 0.15625),\n",
       " (260, 0.16113281),\n",
       " (261, 0.19824219),\n",
       " (262, -0.100097656),\n",
       " (263, 0.203125),\n",
       " (264, 0.12890625),\n",
       " (265, 0.23339844),\n",
       " (266, -0.26757812),\n",
       " (267, 0.05517578),\n",
       " (268, 0.048828125),\n",
       " (269, 0.072265625),\n",
       " (270, 0.24414062),\n",
       " (271, 0.24414062),\n",
       " (272, 0.056884766),\n",
       " (273, -0.0546875),\n",
       " (274, -0.033691406),\n",
       " (275, -0.12060547),\n",
       " (276, 0.03491211),\n",
       " (277, -0.14550781),\n",
       " (278, 0.087402344),\n",
       " (279, -0.08300781),\n",
       " (280, 0.017211914),\n",
       " (281, 0.14355469),\n",
       " (282, -0.122558594),\n",
       " (283, 0.1796875),\n",
       " (284, 0.13085938),\n",
       " (285, -0.16503906),\n",
       " (286, 0.012756348),\n",
       " (287, 0.16015625),\n",
       " (288, -0.03112793),\n",
       " (289, 0.08203125),\n",
       " (290, 0.17382812),\n",
       " (291, -0.16796875),\n",
       " (292, 0.13085938),\n",
       " (293, 0.08544922),\n",
       " (294, -0.2109375),\n",
       " (295, -0.13085938),\n",
       " (296, -0.028930664),\n",
       " (297, -0.10546875),\n",
       " (298, 0.084472656),\n",
       " (299, -0.14160156)]"
      ]
     },
     "execution_count": 89,
     "metadata": {},
     "output_type": "execute_result"
    }
   ],
   "source": [
    "w2v_pretrained = W2VPretrainedRetrievalModel(doc_repr_2)\n",
    "w2v_pretrained.train_model()\n",
    "\n",
    "# you can now get an W2V vector for a given query in the following way:\n",
    "w2v_pretrained.vectorize_query(\"report\")"
   ]
  },
  {
   "cell_type": "code",
   "execution_count": 106,
   "metadata": {
    "deletable": false,
    "editable": false,
    "nbgrader": {
     "cell_type": "code",
     "checksum": "0822845afb5eafe5ddb1ffeaa4f4942a",
     "grade": true,
     "grade_id": "cell-1b1466f8ce516f42",
     "locked": true,
     "points": 2,
     "schema_version": 3,
     "solution": false,
     "task": false
    }
   },
   "outputs": [
    {
     "name": "stdout",
     "output_type": "stream",
     "text": [
      "300\n"
     ]
    }
   ],
   "source": [
    "##### Function check\n",
    "\n",
    "print(len(w2v_pretrained.vectorize_query(\"report\")))\n",
    "#####"
   ]
  },
  {
   "cell_type": "code",
   "execution_count": 107,
   "metadata": {},
   "outputs": [
    {
     "name": "stderr",
     "output_type": "stream",
     "text": [
      "/Users/kevintran/opt/anaconda3/envs/python365/lib/python3.6/site-packages/ipykernel_launcher.py:31: DeprecationWarning: Call to deprecated `__getitem__` (Method will be removed in 4.0.0, use self.wv.__getitem__() instead).\n"
     ]
    },
    {
     "data": {
      "application/vnd.jupyter.widget-view+json": {
       "model_id": "454a4562f7e0418394b44ab2faeb8164",
       "version_major": 2,
       "version_minor": 0
      },
      "text/plain": [
       "Text(value='', description='Search Bar')"
      ]
     },
     "metadata": {},
     "output_type": "display_data"
    },
    {
     "name": "stdout",
     "output_type": "stream",
     "text": [
      "Searching for: 'report' (SEARCH FN: <bound method DenseRetrievalRanker.search of <__main__.DenseRetrievalRanker object at 0x7fc1f2aba978>>)\n"
     ]
    },
    {
     "name": "stderr",
     "output_type": "stream",
     "text": [
      "/Users/kevintran/opt/anaconda3/envs/python365/lib/python3.6/site-packages/ipykernel_launcher.py:52: DeprecationWarning: Call to deprecated `__contains__` (Method will be removed in 4.0.0, use self.wv.__contains__() instead).\n",
      "/Users/kevintran/opt/anaconda3/envs/python365/lib/python3.6/site-packages/ipykernel_launcher.py:58: DeprecationWarning: Call to deprecated `__getitem__` (Method will be removed in 4.0.0, use self.wv.__getitem__() instead).\n"
     ]
    },
    {
     "data": {
      "text/html": [
       "<ul><li>Document #1781(0.999920666217804): Translator Writing systems\n",
       "A critical review of recent efforts to automate\n",
       "the writing of translators of programming languages \n",
       "is presented.  The formal study of syntax and its application\n",
       "to translator writing are discussed in \n",
       "Section II.  Various approaches to automating the post syntactic\n",
       "(semantic) aspects of translator writing \n",
       "are discussed in Section III, and several related topics in Section IV.</li><li>Document #679(0.9999188780784607): Recent Improvements in MADCAP\n",
       "MADCAP is a programming language admitting subscripts,\n",
       "superscripts and certain forms of displayed \n",
       "formulas.  The basic implementation of this language was\n",
       "described in a previous paper [MADCAP: A scientific \n",
       "compiler for a displayed formula textbook language, Comm.\n",
       "ACM 4 (Jan. 61), 31-36].  This paper discusses \n",
       "recent improvements in the language in three areas: complex\n",
       "display, logical control, and subprogramming. \n",
       " In the area of complex display, the most prominent improvements\n",
       "are a notation for integration and for \n",
       "the binomial coefficients.  In the area of logical control\n",
       "the chief new feature is a notation for variably \n",
       "nested looping.  The discussion of subprogramming is focused\n",
       "on MADCAP's notation for and use of \"procedures.\"</li><li>Document #224(0.999918520450592): Sequential Formula Translation\n",
       "The syntax of an algorithmic language such\n",
       "as ALGOL is conveniently described as a sequence \n",
       "of states indicated by an element called cellar.  Transitions\n",
       "are controlled by admissible state-symbol \n",
       "pairs which may be represented by a transition matrix.\n",
       "This description of syntax furnishes at the same \n",
       "time an extremely simple rule for translating into machine\n",
       "programs statements in the algorithmic language. \n",
       " Sequential treatment, however, is not feasible in the case\n",
       "of certain optimizing processes such as recursive \n",
       "address calculation.</li><li>Document #1553(0.9999170899391174): Contextual Understanding by Computers\n",
       "A further development of a computer program\n",
       "(ELIZA) capable of conversing in natural language \n",
       "is discussed.  The importance of context to both human\n",
       "and machine understanding is stressed.  It is \n",
       "argued that the adequacy of the level of understanding\n",
       "achieved in a particular conversation depends \n",
       "on the purpose of that conversation, and that absolute\n",
       "understanding on the part of either humans or \n",
       "machines is impossible.</li><li>Document #2298(0.9999170303344727): An Environment for Research in Microprogramming and Emulation\n",
       "The development of the research project in\n",
       "microprogramming and emulation at State University \n",
       "of New York at Buffalo consisted of three phases: the\n",
       "evaluation of various possible machines to support \n",
       "this research; the decision to purchase one such machine,\n",
       "which appears to be superior to the others \n",
       "considered; and the organization and definition of goals\n",
       "for each group in the project.  Each of these \n",
       "phases is reported, with emphasis placed on the\n",
       "early results achieved in this research.</li></ul>"
      ],
      "text/plain": [
       "<IPython.core.display.HTML object>"
      ]
     },
     "metadata": {},
     "output_type": "display_data"
    },
    {
     "name": "stdout",
     "output_type": "stream",
     "text": [
      "Searching for: 'computer' (SEARCH FN: <bound method DenseRetrievalRanker.search of <__main__.DenseRetrievalRanker object at 0x7fc1f2aba978>>)\n"
     ]
    },
    {
     "name": "stderr",
     "output_type": "stream",
     "text": [
      "/Users/kevintran/opt/anaconda3/envs/python365/lib/python3.6/site-packages/ipykernel_launcher.py:52: DeprecationWarning: Call to deprecated `__contains__` (Method will be removed in 4.0.0, use self.wv.__contains__() instead).\n",
      "/Users/kevintran/opt/anaconda3/envs/python365/lib/python3.6/site-packages/ipykernel_launcher.py:58: DeprecationWarning: Call to deprecated `__getitem__` (Method will be removed in 4.0.0, use self.wv.__getitem__() instead).\n"
     ]
    },
    {
     "data": {
      "text/html": [
       "<ul><li>Document #1000(0.9998671412467957): ...<strong>Computer</strong> Patent Disclosur...</li><li>Document #1106(0.9998571276664734): Programming of Digital Computers\n",
       "</li><li>Document #72(0.9998355507850647): An Educational Program in Computing \n",
       "</li><li>Document #1089(0.9998182654380798): ...Designing a <strong>Computer</strong> Center ...</li><li>Document #47(0.9998142123222351): Russian Visit to U.S. Computers\n",
       "</li></ul>"
      ],
      "text/plain": [
       "<IPython.core.display.HTML object>"
      ]
     },
     "metadata": {},
     "output_type": "display_data"
    },
    {
     "name": "stdout",
     "output_type": "stream",
     "text": [
      "Searching for: 'computer report' (SEARCH FN: <bound method DenseRetrievalRanker.search of <__main__.DenseRetrievalRanker object at 0x7fc1f2aba978>>)\n"
     ]
    },
    {
     "name": "stderr",
     "output_type": "stream",
     "text": [
      "/Users/kevintran/opt/anaconda3/envs/python365/lib/python3.6/site-packages/ipykernel_launcher.py:52: DeprecationWarning: Call to deprecated `__contains__` (Method will be removed in 4.0.0, use self.wv.__contains__() instead).\n",
      "/Users/kevintran/opt/anaconda3/envs/python365/lib/python3.6/site-packages/ipykernel_launcher.py:58: DeprecationWarning: Call to deprecated `__getitem__` (Method will be removed in 4.0.0, use self.wv.__getitem__() instead).\n"
     ]
    },
    {
     "data": {
      "text/html": [
       "<ul><li>Document #2504(0.9999727606773376): ...erning Music and <strong>Computer</strong> Composition in C...</li><li>Document #189(0.9999657869338989): The Future of Automatic Digital Computers\n",
       "</li><li>Document #80(0.9999647736549377): ... on an Automatic <strong>Computer</strong> ...</li><li>Document #2899(0.9999585747718811): ...A Survey of <strong>Computer</strong> Science Offering......r development in <strong>computer</strong> science together......suing  topics in <strong>computer</strong> science beyond t......ine the type  of <strong>computer</strong> science programs......s either have no <strong>computer</strong> science program ...</li><li>Document #1105(0.9999566078186035): On Introducing Digital Computing\n",
       "</li></ul>"
      ],
      "text/plain": [
       "<IPython.core.display.HTML object>"
      ]
     },
     "metadata": {},
     "output_type": "display_data"
    },
    {
     "name": "stdout",
     "output_type": "stream",
     "text": [
      "Searching for: 'computer report kaas' (SEARCH FN: <bound method DenseRetrievalRanker.search of <__main__.DenseRetrievalRanker object at 0x7fc1f2aba978>>)\n"
     ]
    },
    {
     "name": "stderr",
     "output_type": "stream",
     "text": [
      "/Users/kevintran/opt/anaconda3/envs/python365/lib/python3.6/site-packages/ipykernel_launcher.py:52: DeprecationWarning: Call to deprecated `__contains__` (Method will be removed in 4.0.0, use self.wv.__contains__() instead).\n",
      "/Users/kevintran/opt/anaconda3/envs/python365/lib/python3.6/site-packages/ipykernel_launcher.py:58: DeprecationWarning: Call to deprecated `__getitem__` (Method will be removed in 4.0.0, use self.wv.__getitem__() instead).\n"
     ]
    },
    {
     "data": {
      "text/html": [
       "<ul><li>Document #2504(0.9999727606773376): ...erning Music and <strong>Computer</strong> Composition in C...</li><li>Document #189(0.9999657869338989): The Future of Automatic Digital Computers\n",
       "</li><li>Document #80(0.9999647736549377): ... on an Automatic <strong>Computer</strong> ...</li><li>Document #2899(0.9999585747718811): ...A Survey of <strong>Computer</strong> Science Offering......r development in <strong>computer</strong> science together......suing  topics in <strong>computer</strong> science beyond t......ine the type  of <strong>computer</strong> science programs......s either have no <strong>computer</strong> science program ...</li><li>Document #1105(0.9999566078186035): On Introducing Digital Computing\n",
       "</li></ul>"
      ],
      "text/plain": [
       "<IPython.core.display.HTML object>"
      ]
     },
     "metadata": {},
     "output_type": "display_data"
    },
    {
     "name": "stdout",
     "output_type": "stream",
     "text": [
      "Searching for: 'kaas' (SEARCH FN: <bound method DenseRetrievalRanker.search of <__main__.DenseRetrievalRanker object at 0x7fc1f2aba978>>)\n"
     ]
    },
    {
     "name": "stderr",
     "output_type": "stream",
     "text": [
      "/Users/kevintran/opt/anaconda3/envs/python365/lib/python3.6/site-packages/ipykernel_launcher.py:52: DeprecationWarning: Call to deprecated `__contains__` (Method will be removed in 4.0.0, use self.wv.__contains__() instead).\n",
      "/Users/kevintran/opt/anaconda3/envs/python365/lib/python3.6/site-packages/ipykernel_launcher.py:28: RuntimeWarning: invalid value encountered in double_scalars\n"
     ]
    },
    {
     "data": {
      "text/html": [
       "<ul><li>Document #1(nan): Preliminary Report-International Algebraic Language\n",
       "</li><li>Document #2(nan): Extraction of Roots by Repeated Subtractions for Digital Computers\n",
       "</li><li>Document #3(nan): Techniques Department on Matrix Program Schemes\n",
       "</li><li>Document #4(nan): Glossary of Computer Engineering and Programming Terminology\n",
       "</li><li>Document #5(nan): Two Square-Root Approximations\n",
       "</li></ul>"
      ],
      "text/plain": [
       "<IPython.core.display.HTML object>"
      ]
     },
     "metadata": {},
     "output_type": "display_data"
    }
   ],
   "source": [
    "drm_w2v = DenseRetrievalRanker(w2v, cosine_sim)\n",
    "\n",
    "# test your LDA model\n",
    "search_fn = drm_w2v.search\n",
    "\n",
    "text = widgets.Text(description=\"Search Bar\", width=200)\n",
    "display(text)\n",
    "\n",
    "\n",
    "text.on_submit(handle_submit_2)"
   ]
  },
  {
   "cell_type": "code",
   "execution_count": 108,
   "metadata": {},
   "outputs": [
    {
     "ename": "KeyError",
     "evalue": "\"word 'preliminari' not in vocabulary\"",
     "output_type": "error",
     "traceback": [
      "\u001b[0;31m---------------------------------------------------------------------------\u001b[0m",
      "\u001b[0;31mKeyError\u001b[0m                                  Traceback (most recent call last)",
      "\u001b[0;32m<ipython-input-108-9bc78995897c>\u001b[0m in \u001b[0;36m<module>\u001b[0;34m\u001b[0m\n\u001b[0;32m----> 1\u001b[0;31m \u001b[0mdrm_w2v_pretrained\u001b[0m \u001b[0;34m=\u001b[0m \u001b[0mDenseRetrievalRanker\u001b[0m\u001b[0;34m(\u001b[0m\u001b[0mw2v_pretrained\u001b[0m\u001b[0;34m,\u001b[0m \u001b[0mcosine_sim\u001b[0m\u001b[0;34m)\u001b[0m\u001b[0;34m\u001b[0m\u001b[0m\n\u001b[0m\u001b[1;32m      2\u001b[0m \u001b[0;34m\u001b[0m\u001b[0m\n\u001b[1;32m      3\u001b[0m \u001b[0;31m# test your LDA model\u001b[0m\u001b[0;34m\u001b[0m\u001b[0;34m\u001b[0m\u001b[0m\n\u001b[1;32m      4\u001b[0m \u001b[0msearch_fn\u001b[0m \u001b[0;34m=\u001b[0m \u001b[0mdrm_w2v_pretrained\u001b[0m\u001b[0;34m.\u001b[0m\u001b[0msearch\u001b[0m\u001b[0;34m\u001b[0m\u001b[0m\n\u001b[1;32m      5\u001b[0m \u001b[0;34m\u001b[0m\u001b[0m\n",
      "\u001b[0;32m<ipython-input-79-489ba50bc9c8>\u001b[0m in \u001b[0;36m__init__\u001b[0;34m(self, vsrm, similarity_fn)\u001b[0m\n\u001b[1;32m      8\u001b[0m         \"\"\"\n\u001b[1;32m      9\u001b[0m         \u001b[0mself\u001b[0m\u001b[0;34m.\u001b[0m\u001b[0mvsrm\u001b[0m \u001b[0;34m=\u001b[0m \u001b[0mvsrm\u001b[0m\u001b[0;34m\u001b[0m\u001b[0m\n\u001b[0;32m---> 10\u001b[0;31m         \u001b[0mself\u001b[0m\u001b[0;34m.\u001b[0m\u001b[0mvectorized_documents\u001b[0m \u001b[0;34m=\u001b[0m \u001b[0mself\u001b[0m\u001b[0;34m.\u001b[0m\u001b[0mvsrm\u001b[0m\u001b[0;34m.\u001b[0m\u001b[0mvectorize_documents\u001b[0m\u001b[0;34m(\u001b[0m\u001b[0;34m)\u001b[0m\u001b[0;34m\u001b[0m\u001b[0m\n\u001b[0m\u001b[1;32m     11\u001b[0m         \u001b[0mself\u001b[0m\u001b[0;34m.\u001b[0m\u001b[0msimilarity_fn\u001b[0m \u001b[0;34m=\u001b[0m \u001b[0msimilarity_fn\u001b[0m\u001b[0;34m\u001b[0m\u001b[0m\n\u001b[1;32m     12\u001b[0m \u001b[0;34m\u001b[0m\u001b[0m\n",
      "\u001b[0;32m<ipython-input-87-56773399af99>\u001b[0m in \u001b[0;36mvectorize_documents\u001b[0;34m(self)\u001b[0m\n\u001b[1;32m     29\u001b[0m         \u001b[0;32mfor\u001b[0m \u001b[0;34m(\u001b[0m\u001b[0mdoc_id\u001b[0m\u001b[0;34m,\u001b[0m \u001b[0m_\u001b[0m\u001b[0;34m)\u001b[0m\u001b[0;34m,\u001b[0m \u001b[0mcc\u001b[0m \u001b[0;32min\u001b[0m \u001b[0mzip\u001b[0m\u001b[0;34m(\u001b[0m\u001b[0mself\u001b[0m\u001b[0;34m.\u001b[0m\u001b[0mdoc_repr\u001b[0m\u001b[0;34m,\u001b[0m \u001b[0mself\u001b[0m\u001b[0;34m.\u001b[0m\u001b[0mdocuments\u001b[0m\u001b[0;34m)\u001b[0m\u001b[0;34m:\u001b[0m\u001b[0;34m\u001b[0m\u001b[0m\n\u001b[1;32m     30\u001b[0m \u001b[0;34m\u001b[0m\u001b[0m\n\u001b[0;32m---> 31\u001b[0;31m             \u001b[0moutput\u001b[0m \u001b[0;34m=\u001b[0m \u001b[0mnp\u001b[0m\u001b[0;34m.\u001b[0m\u001b[0mmean\u001b[0m\u001b[0;34m(\u001b[0m\u001b[0mself\u001b[0m\u001b[0;34m.\u001b[0m\u001b[0mmodel\u001b[0m\u001b[0;34m[\u001b[0m\u001b[0mcc\u001b[0m\u001b[0;34m]\u001b[0m\u001b[0;34m,\u001b[0m \u001b[0maxis\u001b[0m\u001b[0;34m=\u001b[0m\u001b[0;36m0\u001b[0m\u001b[0;34m)\u001b[0m\u001b[0;34m\u001b[0m\u001b[0m\n\u001b[0m\u001b[1;32m     32\u001b[0m \u001b[0;34m\u001b[0m\u001b[0m\n\u001b[1;32m     33\u001b[0m             \u001b[0;31m# same format as query vectors\u001b[0m\u001b[0;34m\u001b[0m\u001b[0;34m\u001b[0m\u001b[0m\n",
      "\u001b[0;32m~/opt/anaconda3/envs/python365/lib/python3.6/site-packages/gensim/models/keyedvectors.py\u001b[0m in \u001b[0;36m__getitem__\u001b[0;34m(self, entities)\u001b[0m\n\u001b[1;32m    353\u001b[0m             \u001b[0;32mreturn\u001b[0m \u001b[0mself\u001b[0m\u001b[0;34m.\u001b[0m\u001b[0mget_vector\u001b[0m\u001b[0;34m(\u001b[0m\u001b[0mentities\u001b[0m\u001b[0;34m)\u001b[0m\u001b[0;34m\u001b[0m\u001b[0m\n\u001b[1;32m    354\u001b[0m \u001b[0;34m\u001b[0m\u001b[0m\n\u001b[0;32m--> 355\u001b[0;31m         \u001b[0;32mreturn\u001b[0m \u001b[0mvstack\u001b[0m\u001b[0;34m(\u001b[0m\u001b[0;34m[\u001b[0m\u001b[0mself\u001b[0m\u001b[0;34m.\u001b[0m\u001b[0mget_vector\u001b[0m\u001b[0;34m(\u001b[0m\u001b[0mentity\u001b[0m\u001b[0;34m)\u001b[0m \u001b[0;32mfor\u001b[0m \u001b[0mentity\u001b[0m \u001b[0;32min\u001b[0m \u001b[0mentities\u001b[0m\u001b[0;34m]\u001b[0m\u001b[0;34m)\u001b[0m\u001b[0;34m\u001b[0m\u001b[0m\n\u001b[0m\u001b[1;32m    356\u001b[0m \u001b[0;34m\u001b[0m\u001b[0m\n\u001b[1;32m    357\u001b[0m     \u001b[0;32mdef\u001b[0m \u001b[0m__contains__\u001b[0m\u001b[0;34m(\u001b[0m\u001b[0mself\u001b[0m\u001b[0;34m,\u001b[0m \u001b[0mentity\u001b[0m\u001b[0;34m)\u001b[0m\u001b[0;34m:\u001b[0m\u001b[0;34m\u001b[0m\u001b[0m\n",
      "\u001b[0;32m~/opt/anaconda3/envs/python365/lib/python3.6/site-packages/gensim/models/keyedvectors.py\u001b[0m in \u001b[0;36m<listcomp>\u001b[0;34m(.0)\u001b[0m\n\u001b[1;32m    353\u001b[0m             \u001b[0;32mreturn\u001b[0m \u001b[0mself\u001b[0m\u001b[0;34m.\u001b[0m\u001b[0mget_vector\u001b[0m\u001b[0;34m(\u001b[0m\u001b[0mentities\u001b[0m\u001b[0;34m)\u001b[0m\u001b[0;34m\u001b[0m\u001b[0m\n\u001b[1;32m    354\u001b[0m \u001b[0;34m\u001b[0m\u001b[0m\n\u001b[0;32m--> 355\u001b[0;31m         \u001b[0;32mreturn\u001b[0m \u001b[0mvstack\u001b[0m\u001b[0;34m(\u001b[0m\u001b[0;34m[\u001b[0m\u001b[0mself\u001b[0m\u001b[0;34m.\u001b[0m\u001b[0mget_vector\u001b[0m\u001b[0;34m(\u001b[0m\u001b[0mentity\u001b[0m\u001b[0;34m)\u001b[0m \u001b[0;32mfor\u001b[0m \u001b[0mentity\u001b[0m \u001b[0;32min\u001b[0m \u001b[0mentities\u001b[0m\u001b[0;34m]\u001b[0m\u001b[0;34m)\u001b[0m\u001b[0;34m\u001b[0m\u001b[0m\n\u001b[0m\u001b[1;32m    356\u001b[0m \u001b[0;34m\u001b[0m\u001b[0m\n\u001b[1;32m    357\u001b[0m     \u001b[0;32mdef\u001b[0m \u001b[0m__contains__\u001b[0m\u001b[0;34m(\u001b[0m\u001b[0mself\u001b[0m\u001b[0;34m,\u001b[0m \u001b[0mentity\u001b[0m\u001b[0;34m)\u001b[0m\u001b[0;34m:\u001b[0m\u001b[0;34m\u001b[0m\u001b[0m\n",
      "\u001b[0;32m~/opt/anaconda3/envs/python365/lib/python3.6/site-packages/gensim/models/keyedvectors.py\u001b[0m in \u001b[0;36mget_vector\u001b[0;34m(self, word)\u001b[0m\n\u001b[1;32m    469\u001b[0m \u001b[0;34m\u001b[0m\u001b[0m\n\u001b[1;32m    470\u001b[0m     \u001b[0;32mdef\u001b[0m \u001b[0mget_vector\u001b[0m\u001b[0;34m(\u001b[0m\u001b[0mself\u001b[0m\u001b[0;34m,\u001b[0m \u001b[0mword\u001b[0m\u001b[0;34m)\u001b[0m\u001b[0;34m:\u001b[0m\u001b[0;34m\u001b[0m\u001b[0m\n\u001b[0;32m--> 471\u001b[0;31m         \u001b[0;32mreturn\u001b[0m \u001b[0mself\u001b[0m\u001b[0;34m.\u001b[0m\u001b[0mword_vec\u001b[0m\u001b[0;34m(\u001b[0m\u001b[0mword\u001b[0m\u001b[0;34m)\u001b[0m\u001b[0;34m\u001b[0m\u001b[0m\n\u001b[0m\u001b[1;32m    472\u001b[0m \u001b[0;34m\u001b[0m\u001b[0m\n\u001b[1;32m    473\u001b[0m     \u001b[0;32mdef\u001b[0m \u001b[0mwords_closer_than\u001b[0m\u001b[0;34m(\u001b[0m\u001b[0mself\u001b[0m\u001b[0;34m,\u001b[0m \u001b[0mw1\u001b[0m\u001b[0;34m,\u001b[0m \u001b[0mw2\u001b[0m\u001b[0;34m)\u001b[0m\u001b[0;34m:\u001b[0m\u001b[0;34m\u001b[0m\u001b[0m\n",
      "\u001b[0;32m~/opt/anaconda3/envs/python365/lib/python3.6/site-packages/gensim/models/keyedvectors.py\u001b[0m in \u001b[0;36mword_vec\u001b[0;34m(self, word, use_norm)\u001b[0m\n\u001b[1;32m    466\u001b[0m             \u001b[0;32mreturn\u001b[0m \u001b[0mresult\u001b[0m\u001b[0;34m\u001b[0m\u001b[0m\n\u001b[1;32m    467\u001b[0m         \u001b[0;32melse\u001b[0m\u001b[0;34m:\u001b[0m\u001b[0;34m\u001b[0m\u001b[0m\n\u001b[0;32m--> 468\u001b[0;31m             \u001b[0;32mraise\u001b[0m \u001b[0mKeyError\u001b[0m\u001b[0;34m(\u001b[0m\u001b[0;34m\"word '%s' not in vocabulary\"\u001b[0m \u001b[0;34m%\u001b[0m \u001b[0mword\u001b[0m\u001b[0;34m)\u001b[0m\u001b[0;34m\u001b[0m\u001b[0m\n\u001b[0m\u001b[1;32m    469\u001b[0m \u001b[0;34m\u001b[0m\u001b[0m\n\u001b[1;32m    470\u001b[0m     \u001b[0;32mdef\u001b[0m \u001b[0mget_vector\u001b[0m\u001b[0;34m(\u001b[0m\u001b[0mself\u001b[0m\u001b[0;34m,\u001b[0m \u001b[0mword\u001b[0m\u001b[0;34m)\u001b[0m\u001b[0;34m:\u001b[0m\u001b[0;34m\u001b[0m\u001b[0m\n",
      "\u001b[0;31mKeyError\u001b[0m: \"word 'preliminari' not in vocabulary\""
     ]
    }
   ],
   "source": [
    "drm_w2v_pretrained = DenseRetrievalRanker(w2v_pretrained, cosine_sim)\n",
    "\n",
    "# test your LDA model\n",
    "search_fn = drm_w2v_pretrained.search\n",
    "\n",
    "text = widgets.Text(description=\"Search Bar\", width=200)\n",
    "display(text)\n",
    "\n",
    "\n",
    "text.on_submit(handle_submit_2)"
   ]
  },
  {
   "cell_type": "markdown",
   "metadata": {
    "deletable": false,
    "editable": false,
    "nbgrader": {
     "cell_type": "markdown",
     "checksum": "51b778984fd60757974f51047c61eb15",
     "grade": false,
     "grade_id": "cell-b92f701cbc706108",
     "locked": true,
     "schema_version": 3,
     "solution": false,
     "task": false
    }
   },
   "source": [
    "**Implementation (10 points):**\n",
    "For Doc2Vec, you will need to create a list of `TaggedDocument` instead of using the `self.corpus` or `self.documents` variable. Use the document id as the 'tag'.\n",
    "  "
   ]
  },
  {
   "cell_type": "code",
   "execution_count": null,
   "metadata": {
    "deletable": false,
    "nbgrader": {
     "cell_type": "code",
     "checksum": "1f60fdeb97febb7f4a6fd5bf109aac20",
     "grade": false,
     "grade_id": "cell-680facdcc98a19ab",
     "locked": false,
     "schema_version": 3,
     "solution": true,
     "task": false
    }
   },
   "outputs": [],
   "source": [
    "# TODO: Implement this! (10 points)\n",
    "class D2VRetrievalModel(VectorSpaceRetrievalModel):\n",
    "    def __init__(self, doc_repr):\n",
    "        super().__init__(doc_repr)\n",
    "        \n",
    "        self.vector_size= 100\n",
    "        self.min_count = 1\n",
    "        self.epochs = 20\n",
    "        \n",
    "        # YOUR CODE HERE\n",
    "        raise NotImplementedError()\n",
    "        \n",
    "    def train_model(self):\n",
    "        # YOUR CODE HERE\n",
    "        raise NotImplementedError()\n",
    "    \n",
    "    def vectorize_documents(self):\n",
    "        \"\"\"\n",
    "            Returns a doc_id -> vector dictionary\n",
    "        \"\"\"\n",
    "        # YOUR CODE HERE\n",
    "        raise NotImplementedError()\n",
    "\n",
    "    def vectorize_query(self, query):\n",
    "        # YOUR CODE HERE\n",
    "        raise NotImplementedError()\n",
    "        \n",
    "d2v = D2VRetrievalModel(doc_repr_2)\n",
    "d2v.train_model()\n",
    "\n",
    "\n",
    "# # you can now get an LSI vector for a given query in the following way:\n",
    "d2v.vectorize_query(\"report\")"
   ]
  },
  {
   "cell_type": "code",
   "execution_count": null,
   "metadata": {
    "deletable": false,
    "editable": false,
    "nbgrader": {
     "cell_type": "code",
     "checksum": "e83a363a9d4f136efbdde1426a83925e",
     "grade": true,
     "grade_id": "cell-5e2c5e0c9a2e8cb5",
     "locked": true,
     "points": 0,
     "schema_version": 3,
     "solution": false,
     "task": false
    }
   },
   "outputs": [],
   "source": [
    "#### Please do not change this. This cell is used for grading."
   ]
  },
  {
   "cell_type": "markdown",
   "metadata": {
    "deletable": false,
    "editable": false,
    "nbgrader": {
     "cell_type": "markdown",
     "checksum": "5bb46bf6b9be1e0ca66f0b0bc6260ecb",
     "grade": false,
     "grade_id": "cell-8a49d414f798a595",
     "locked": true,
     "points": 10,
     "schema_version": 3,
     "solution": false,
     "task": true
    }
   },
   "source": [
    "\\#### Please do not change this. This cell is used for grading."
   ]
  },
  {
   "cell_type": "code",
   "execution_count": null,
   "metadata": {},
   "outputs": [],
   "source": [
    "drm_d2v = DenseRetrievalRanker(d2v, cosine_sim)\n",
    "\n",
    "# test your LDA model\n",
    "search_fn = drm_d2v.search\n",
    "\n",
    "text = widgets.Text(description=\"Search Bar\", width=200)\n",
    "display(text)\n",
    "\n",
    "\n",
    "text.on_submit(handle_submit_2)"
   ]
  },
  {
   "cell_type": "markdown",
   "metadata": {
    "deletable": false,
    "editable": false,
    "nbgrader": {
     "cell_type": "markdown",
     "checksum": "363ec36c1d03d9f9e1c2045a6e193c14",
     "grade": false,
     "grade_id": "cell-3529ae29eece7b97",
     "locked": true,
     "schema_version": 3,
     "solution": false,
     "task": false
    }
   },
   "source": [
    "---\n",
    "## Section 9: Re-ranking (10 points) <a class=\"anchor\" id=\"reranking\"></a>\n",
    "\n",
    "[Back to Part 2](#part2)\n",
    "\n",
    "To motivate the re-ranking perspective (i.e retrieve with lexical method + rerank with a semantic method), let's search using semantic methods and compare it to BM25's performance, along with their runtime:\n"
   ]
  },
  {
   "cell_type": "code",
   "execution_count": null,
   "metadata": {
    "deletable": false,
    "editable": false,
    "nbgrader": {
     "cell_type": "code",
     "checksum": "5755f70e3eb28abc65d14d80125338af",
     "grade": false,
     "grade_id": "cell-f8f43bf5ae383128",
     "locked": true,
     "schema_version": 3,
     "solution": false,
     "task": false
    }
   },
   "outputs": [],
   "source": [
    "query = \"algebraic functions\"\n",
    "print(\"BM25: \")\n",
    "%timeit bm25_search(query, 2)\n",
    "print(\"LSI: \")\n",
    "%timeit drm_lsi.search(query)\n",
    "print(\"LDA: \")\n",
    "%timeit drm_lda.search(query)\n",
    "print(\"W2V: \")\n",
    "%timeit drm_w2v.search(query)\n",
    "print(\"W2V(Pretrained): \")\n",
    "%timeit drm_w2v_pretrained.search(query)\n",
    "print(\"D2V:\")\n",
    "%timeit drm_d2v.search(query)"
   ]
  },
  {
   "cell_type": "markdown",
   "metadata": {
    "deletable": false,
    "editable": false,
    "nbgrader": {
     "cell_type": "markdown",
     "checksum": "ae398da0a8c23c95bcbb0023b7ec6f34",
     "grade": false,
     "grade_id": "cell-db5ff09f97841af7",
     "locked": true,
     "schema_version": 3,
     "solution": false,
     "task": false
    }
   },
   "source": [
    "---\n",
    "\n",
    "**Implementation (10 points):**\n",
    "Re-ranking involves retrieving a small set of documents using simple but fast methods like BM25 and then re-ranking them with the aid of semantic methods such as LDA or LSI. Implement the following class, which takes in an `initial_retrieval_fn` - the initial retrieval function and `vsrm` - an instance of the `VectorSpaceRetrievalModel` class (i.e LSI/LDA) as input. The search function should first retrieve an initial list of K documents, and then these documents are re-ranked using a semantic method. This not only makes retrieval faster, but semantic methods perform poorly when used in isolation, as you will find out."
   ]
  },
  {
   "cell_type": "code",
   "execution_count": null,
   "metadata": {
    "deletable": false,
    "nbgrader": {
     "cell_type": "code",
     "checksum": "63b6b05a676a2ae3f08d8bed1bc59428",
     "grade": false,
     "grade_id": "cell-5bf47600d1a0c507",
     "locked": false,
     "schema_version": 3,
     "solution": true,
     "task": false
    }
   },
   "outputs": [],
   "source": [
    "# TODO: Implement this! (10 points)\n",
    "class DenseRerankingModel:\n",
    "    def __init__(self, initial_retrieval_fn, vsrm, similarity_fn):\n",
    "        \"\"\"\n",
    "            initial_retrieval_fn: takes in a query and returns a list of [(doc_id, score)] (sorted)\n",
    "            vsrm: instance of `VectorSpaceRetrievalModel`\n",
    "            similarity_fn: function instance that takes in two vectors \n",
    "                            and returns a similarity score e.g cosine_sim defined earlier\n",
    "        \"\"\"\n",
    "        self.ret = initial_retrieval_fn\n",
    "        self.vsrm = vsrm\n",
    "        self.similarity_fn = similarity_fn\n",
    "        self.vectorized_documents = vsrm.vectorize_documents()\n",
    "        \n",
    "        assert len(self.vectorized_documents) == len(doc_repr_2)\n",
    "    \n",
    "    def search(self, query, K=50):\n",
    "        \"\"\"\n",
    "            First, retrieve the top K results using the retrieval function\n",
    "            Then, re-rank the results using the VSRM instance\n",
    "        \"\"\"\n",
    "        # YOUR CODE HERE\n",
    "        raise NotImplementedError()"
   ]
  },
  {
   "cell_type": "code",
   "execution_count": null,
   "metadata": {
    "deletable": false,
    "editable": false,
    "nbgrader": {
     "cell_type": "code",
     "checksum": "334ab5af96976265cace682ab82a7387",
     "grade": true,
     "grade_id": "cell-52c6d18a4c0b4882",
     "locked": true,
     "points": 0,
     "schema_version": 3,
     "solution": false,
     "task": false
    }
   },
   "outputs": [],
   "source": [
    "##### Function check\n",
    "bm25_search_2 = partial(bm25_search, index_set=2)\n",
    "lsi_rerank = DenseRerankingModel(bm25_search_2, lsi, cosine_sim)\n",
    "lda_rerank = DenseRerankingModel(bm25_search_2, lda, jenson_shannon_sim)\n",
    "w2v_rerank = DenseRerankingModel(bm25_search_2, w2v, cosine_sim)\n",
    "w2v_pretrained_rerank = DenseRerankingModel(bm25_search_2, w2v_pretrained, cosine_sim)\n",
    "d2v_rerank = DenseRerankingModel(bm25_search_2, d2v, cosine_sim)\n",
    "\n",
    "##### "
   ]
  },
  {
   "cell_type": "markdown",
   "metadata": {
    "deletable": false,
    "editable": false,
    "nbgrader": {
     "cell_type": "markdown",
     "checksum": "bd904253f45f84e63bab3a69729058fc",
     "grade": false,
     "grade_id": "cell-93215dfe6bcf7cff",
     "locked": true,
     "points": 10,
     "schema_version": 3,
     "solution": false,
     "task": true
    }
   },
   "source": [
    "\\#### Please do not change this. This cell is used for grading."
   ]
  },
  {
   "cell_type": "markdown",
   "metadata": {
    "deletable": false,
    "editable": false,
    "nbgrader": {
     "cell_type": "markdown",
     "checksum": "b592e60292bfe3d9ef2930a354c4077a",
     "grade": false,
     "grade_id": "cell-aa694ff55fa91e7d",
     "locked": true,
     "schema_version": 3,
     "solution": false,
     "task": false
    }
   },
   "source": [
    "---\n",
    "Now, let us time the new search functions:"
   ]
  },
  {
   "cell_type": "code",
   "execution_count": null,
   "metadata": {
    "deletable": false,
    "editable": false,
    "nbgrader": {
     "cell_type": "code",
     "checksum": "338c7e3528cba266a865a061287c0e38",
     "grade": false,
     "grade_id": "cell-5edbd481562ad91f",
     "locked": true,
     "schema_version": 3,
     "solution": false,
     "task": false
    }
   },
   "outputs": [],
   "source": [
    "query = \"algebraic functions\"\n",
    "print(\"BM25: \")\n",
    "%timeit bm25_search(query, 2)\n",
    "print(\"LSI: \")\n",
    "%timeit lsi_rerank.search(query)\n",
    "print(\"LDA: \")\n",
    "%timeit lda_rerank.search(query)\n",
    "print(\"W2V: \")\n",
    "%timeit w2v_rerank.search(query)\n",
    "print(\"W2V(Pretrained): \")\n",
    "%timeit w2v_pretrained_rerank.search(query)\n",
    "print(\"D2V:\")\n",
    "%timeit d2v_rerank.search(query)"
   ]
  },
  {
   "cell_type": "markdown",
   "metadata": {
    "deletable": false,
    "editable": false,
    "nbgrader": {
     "cell_type": "markdown",
     "checksum": "c45c5e3f015b2de89d9d39ae3766368b",
     "grade": false,
     "grade_id": "cell-85c50f2ab9eec301",
     "locked": true,
     "schema_version": 3,
     "solution": false,
     "task": false
    }
   },
   "source": [
    "---\n",
    "As you can see, it is much faster (but BM25 is still orders of magnitude faster)."
   ]
  },
  {
   "cell_type": "markdown",
   "metadata": {
    "deletable": false,
    "editable": false,
    "nbgrader": {
     "cell_type": "markdown",
     "checksum": "1e2f3388e3807659f303fe31a75a010e",
     "grade": false,
     "grade_id": "cell-5071bb99b2af61cb",
     "locked": true,
     "schema_version": 3,
     "solution": false,
     "task": false
    }
   },
   "source": [
    "---\n",
    "## Section 10: Evaluation & Analysis (30 points) <a class=\"anchor\" id=\"reranking_eval\"></a>\n",
    "\n",
    "[Back to Part 2](#part2)\n",
    "\n",
    "[Previously](#evaluation) we have implemented some evaluation metrics and used them for measuring the ranking performance of term-based IR algorithms. In this section, we will do the same for semantic methods, both with and without re-ranking.\n",
    "\n",
    "### Section 10.1: Plot (10 points)\n",
    "\n",
    "First, gather the results. The results should consider the index set, the different search functions and different metrics. Plot the results in bar charts, per metric, with clear labels.\n",
    "\n",
    "Then, gather only the re-ranking models, and plot and compare them with the results obtained in part 1 (only index set 2)."
   ]
  },
  {
   "cell_type": "code",
   "execution_count": null,
   "metadata": {
    "deletable": false,
    "editable": false,
    "nbgrader": {
     "cell_type": "code",
     "checksum": "4fe81520ac6413a803838913fd64de03",
     "grade": false,
     "grade_id": "cell-b672fe6dfae0b1ce",
     "locked": true,
     "schema_version": 3,
     "solution": false,
     "task": false
    }
   },
   "outputs": [],
   "source": [
    "list_of_sem_search_fns = [\n",
    "    (\"lda\", drm_lda.search),\n",
    "    (\"lsi\", drm_lsi.search),\n",
    "    (\"w2v\", drm_w2v.search),\n",
    "    (\"w2v_pretrained\", drm_w2v_pretrained.search),\n",
    "    (\"d2v\", drm_d2v.search),\n",
    "    (\"lsi_rr\", lsi_rerank.search),\n",
    "    (\"lda_rr\", lda_rerank.search),\n",
    "    (\"w2v_rr\", w2v_rerank.search),\n",
    "    (\"w2v_pretrained_rr\", w2v_pretrained_rerank.search),\n",
    "    (\"d2v_rr\", d2v_rerank.search),\n",
    "    \n",
    "]"
   ]
  },
  {
   "cell_type": "code",
   "execution_count": null,
   "metadata": {
    "deletable": false,
    "nbgrader": {
     "cell_type": "code",
     "checksum": "54707c4afac084299aeefa047259b4a9",
     "grade": true,
     "grade_id": "cell-7dd8273b0f5a3c22",
     "locked": false,
     "points": 10,
     "schema_version": 3,
     "solution": true,
     "task": false
    }
   },
   "outputs": [],
   "source": [
    "# YOUR CODE HERE\n",
    "raise NotImplementedError()"
   ]
  },
  {
   "cell_type": "markdown",
   "metadata": {
    "deletable": false,
    "editable": false,
    "nbgrader": {
     "cell_type": "markdown",
     "checksum": "a8a3b6189bdde66704c694d85e38d049",
     "grade": false,
     "grade_id": "cell-deb2ef3daa306e82",
     "locked": true,
     "schema_version": 3,
     "solution": false,
     "task": false
    }
   },
   "source": [
    "### Section 10.2: Summary (20 points)\n",
    "\n",
    "Your summary should compare methods from Part 1 and Part 2 (only for index set 2). State what you expected to see in the results, followed by either supporting evidence *or* justify why the results did not support your expectations. Consider the availability of data, scalability, domain/type of data, etc."
   ]
  },
  {
   "cell_type": "markdown",
   "metadata": {
    "deletable": false,
    "nbgrader": {
     "cell_type": "markdown",
     "checksum": "ff97c43837d10bff6aaffa75e1492887",
     "grade": true,
     "grade_id": "cell-ec5dd7d9cf59dd86",
     "locked": false,
     "points": 20,
     "schema_version": 3,
     "solution": true,
     "task": false
    }
   },
   "source": [
    "YOUR ANSWER HERE"
   ]
  }
 ],
 "metadata": {
  "kernelspec": {
   "display_name": "Python 3",
   "language": "python",
   "name": "python3"
  },
  "language_info": {
   "codemirror_mode": {
    "name": "ipython",
    "version": 3
   },
   "file_extension": ".py",
   "mimetype": "text/x-python",
   "name": "python",
   "nbconvert_exporter": "python",
   "pygments_lexer": "ipython3",
   "version": "3.6.5"
  },
  "toc": {
   "base_numbering": 1,
   "nav_menu": {},
   "number_sections": true,
   "sideBar": true,
   "skip_h1_title": false,
   "title_cell": "Table of Contents",
   "title_sidebar": "Contents",
   "toc_cell": false,
   "toc_position": {},
   "toc_section_display": true,
   "toc_window_display": false
  }
 },
 "nbformat": 4,
 "nbformat_minor": 4
}
