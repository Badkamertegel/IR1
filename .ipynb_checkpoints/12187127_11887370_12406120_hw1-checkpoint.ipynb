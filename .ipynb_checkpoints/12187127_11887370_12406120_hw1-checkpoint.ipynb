{
 "cells": [
  {
   "cell_type": "markdown",
   "metadata": {
    "deletable": false,
    "editable": false,
    "nbgrader": {
     "cell_type": "markdown",
     "checksum": "1bba455de8bc2825ca70469169bbadaa",
     "grade": false,
     "grade_id": "cell-c9cd9e550239e812",
     "locked": true,
     "schema_version": 3,
     "solution": false,
     "task": false
    }
   },
   "source": [
    "# Homework 1 (Total Points: 250) <a class=\"anchor\" id=\"top\"></a>\n",
    "\n",
    "\n",
    "**Submission instructions**:\n",
    "- The cells with the `# YOUR CODE HERE` denote that these sections are graded and you need to add your implementation.\n",
    "- For Part 1: You can use the `nltk`, `NumPy`, and `matplotlib` libraries here. Other libraries, e.g., `gensim` or `scikit-learn`, may not be used. For Part 2: `gensim` is allowed in addition to the imported libraries in the next code cell\n",
    "- Please use Python 3.6.5 and `pip install -r requirements.txt` to avoid version issues.\n",
    "- The notebook you submit has to have the student ids, separated by underscores (E.g., `12341234_12341234_12341234_hw1.ipynb`).\n",
    "- This will be parsed by a regexp, **so please double check your filename**.\n",
    "- Only one member of each group has to submit the file (**please do not compress the .ipynb file when you will submit it**) to canvas.\n",
    "- **Make sure to check that your notebook runs before submission**. A quick way to do this is to restart the kernel and run all the cells.  \n",
    "- Do not change the number of arugments in the given functions.\n",
    "- **Please do not delete/add new cells**. Removing cells **will** lead to grade deduction. \n",
    "- Note, that you are not allowed to use Google Colab.\n",
    "\n",
    "\n",
    "**Learning Goals**:\n",
    "- [Part 1, Term-based matching](#part1) (165 points):\n",
    "    - Learn how to load a dataset and process it.\n",
    "    - Learn how to implement several standard IR methods (TF-IDF, BM25, QL) and understand their weaknesses & strengths.\n",
    "    - Learn how to evaluate IR methods.\n",
    "- [Part 2, Semantic-based matching](#part2) (85 points):\n",
    "    - Learn how to implement vector-space retrieval methods (LSI, LDA).\n",
    "    - Learn how to use LSI and LDA for re-ranking.\n",
    "\n",
    "    \n",
    "**Resources**: \n",
    "- **Part 1**: Sections 2.3, 4.1, 4.2, 4.3, 5.3, 5.6, 5.7, 6.2, 7, 8 of [Search Engines: Information Retrieval in Practice](https://ciir.cs.umass.edu/downloads/SEIRiP.pdf)\n",
    "- **Part 2**: [LSI - Chapter 18](https://nlp.stanford.edu/IR-book/pdf/18lsi.pdf) from [Introduction to Information Retrieval](https://nlp.stanford.edu/IR-book/) book and the [original LDA paper](https://jmlr.org/papers/volume3/blei03a/blei03a.pdf)"
   ]
  },
  {
   "cell_type": "code",
   "execution_count": 1,
   "metadata": {
    "deletable": false,
    "editable": false,
    "nbgrader": {
     "cell_type": "code",
     "checksum": "c55bfe94ff1f564dd595547e516c4c6e",
     "grade": false,
     "grade_id": "cell-f5357fabdb9660e3",
     "locked": true,
     "schema_version": 3,
     "solution": false,
     "task": false
    }
   },
   "outputs": [],
   "source": [
    "# imports \n",
    "# TODO: Ensure that no additional library is imported in the notebook. \n",
    "# TODO: Only the standard library and the following libraries are allowed:\n",
    "# TODO: You can also use unlisted classes from these libraries or standard libraries (such as defaultdict, Counter, ...).\n",
    "\n",
    "import os\n",
    "import zipfile\n",
    "from functools import partial\n",
    "\n",
    "import nltk\n",
    "import requests\n",
    "import numpy as np\n",
    "from tqdm import tqdm\n",
    "\n",
    "import matplotlib.pyplot as plt\n",
    "from matplotlib.pyplot import cm\n",
    "\n",
    "from ipywidgets import widgets\n",
    "from IPython.display import display, HTML\n",
    "#from IPython.html import widgets\n",
    "from collections import namedtuple\n",
    "\n",
    "%matplotlib inline"
   ]
  },
  {
   "cell_type": "markdown",
   "metadata": {
    "deletable": false,
    "editable": false,
    "nbgrader": {
     "cell_type": "markdown",
     "checksum": "c8328f758ca5b69f76eee03dbbdd4715",
     "grade": false,
     "grade_id": "cell-7428e12ed184408b",
     "locked": true,
     "schema_version": 3,
     "solution": false,
     "task": false
    }
   },
   "source": [
    "\n",
    "# Part 1: Term-based Matching (165 points) <a class=\"anchor\" id=\"part1\"></a>\n",
    "\n",
    "[Back to top](#top)\n",
    "\n",
    "In the first part, we will learn the basics of IR from loading and preprocessing the material, to implementing some well known search algorithms, to evaluating the ranking performance of the implemented algorithms. We will be using the CACM dataset throughout the assignment. The CACM dataset is a collection of titles and abstracts from the journal CACM (Communication of the ACM).\n",
    "\n",
    "Table of contents:\n",
    "- [Section 1: Text Processing](#text_processing) (5 points)\n",
    "- [Section 2: Indexing](#indexing) (10 points)\n",
    "- [Section 3: Ranking](#ranking) (80 points)\n",
    "- [Section 4: Evaluation](#evaluation) (40 points)\n",
    "- [Section 5: Analysis](#analysis) (30 points)\n"
   ]
  },
  {
   "cell_type": "markdown",
   "metadata": {
    "deletable": false,
    "editable": false,
    "nbgrader": {
     "cell_type": "markdown",
     "checksum": "4e3f938065183dc743aa8254b96b4f5e",
     "grade": false,
     "grade_id": "cell-4b24825cf4ae55ec",
     "locked": true,
     "schema_version": 3,
     "solution": false,
     "task": false
    }
   },
   "source": [
    "---\n",
    "## Section 1: Text Processing (5 points)<a class=\"anchor\" id=\"text_processing\"></a>\n",
    "\n",
    "[Back to Part 1](#part1)\n",
    "\n",
    "In this section, we will load the dataset and learn how to clean up the data to make it usable for an IR system. \n",
    "First, go through the implementation of the following functions:\n",
    "- `read_cacm_docs`: Reads in the CACM documents.\n",
    "- `read_queries`: Reads in the CACM queries.\n",
    "- `load_stopwords`: Loads the stopwords.\n",
    "\n",
    "The points of this section are earned for the following implementations:\n",
    "- `tokenize` (3 points): Tokenizes the input text.\n",
    "- `stem_token` (2 points): Stems the given token. \n",
    "\n",
    "We are using the [CACM dataset](http://ir.dcs.gla.ac.uk/resources/test_collections/cacm/), which is a small, classic IR dataset, composed of a collection of titles and abstracts from the journal CACM. It comes with relevance judgements for queries, so we can evaluate our IR system. \n"
   ]
  },
  {
   "cell_type": "markdown",
   "metadata": {
    "deletable": false,
    "editable": false,
    "nbgrader": {
     "cell_type": "markdown",
     "checksum": "0155d897c7016389d73d160921947a6f",
     "grade": false,
     "grade_id": "cell-45651364e7af6d5a",
     "locked": true,
     "schema_version": 3,
     "solution": false,
     "task": false
    }
   },
   "source": [
    "---\n",
    "### 1.1 Read the CACM documents\n",
    "\n",
    "\n",
    "The following cell downloads the dataset and unzips it to a local directory."
   ]
  },
  {
   "cell_type": "code",
   "execution_count": 2,
   "metadata": {
    "deletable": false,
    "editable": false,
    "nbgrader": {
     "cell_type": "code",
     "checksum": "4d43c9ad6e77cc01ce4cef0c34824930",
     "grade": false,
     "grade_id": "cell-bbc3030bb3fe7e02",
     "locked": true,
     "schema_version": 3,
     "solution": false,
     "task": false
    }
   },
   "outputs": [],
   "source": [
    "def download_dataset():\n",
    "    folder_path = os.environ.get(\"IR1_DATA_PATH\")\n",
    "    if not folder_path:\n",
    "        folder_path = \"./datasets/\"\n",
    "    os.makedirs(folder_path, exist_ok=True)\n",
    "    \n",
    "    file_location = os.path.join(folder_path, \"cacm.zip\")\n",
    "    \n",
    "    # download file if it doesn't exist\n",
    "    if not os.path.exists(file_location):\n",
    "        \n",
    "        url = \"https://surfdrive.surf.nl/files/index.php/s/M0FGJpX2p8wDwxR/download\"\n",
    "\n",
    "        with open(file_location, \"wb\") as handle:\n",
    "            print(f\"Downloading file from {url} to {file_location}\")\n",
    "            response = requests.get(url, stream=True)\n",
    "            for data in tqdm(response.iter_content()):\n",
    "                handle.write(data)\n",
    "            print(\"Finished downloading file\")\n",
    "    \n",
    "    if not os.path.exists(os.path.join(folder_path, \"train.txt\")):\n",
    "        \n",
    "        # unzip file\n",
    "        with zipfile.ZipFile(file_location, 'r') as zip_ref:\n",
    "            zip_ref.extractall(folder_path)\n",
    "        \n",
    "download_dataset()"
   ]
  },
  {
   "cell_type": "markdown",
   "metadata": {
    "deletable": false,
    "editable": false,
    "nbgrader": {
     "cell_type": "markdown",
     "checksum": "31609b0d61d0c74cbd69bc43e47c23be",
     "grade": false,
     "grade_id": "cell-a7dd9a9bf98ede05",
     "locked": true,
     "schema_version": 3,
     "solution": false,
     "task": false
    }
   },
   "source": [
    "---\n",
    "\n",
    "You can see a brief description of each file in the dataset by looking at the README file:"
   ]
  },
  {
   "cell_type": "code",
   "execution_count": 3,
   "metadata": {
    "deletable": false,
    "editable": false,
    "nbgrader": {
     "cell_type": "code",
     "checksum": "cb3c9a2b8b2bf4fd5b7446b0c4c00f43",
     "grade": false,
     "grade_id": "cell-9b6ff1a17124711f",
     "locked": true,
     "schema_version": 3,
     "solution": false,
     "task": false
    }
   },
   "outputs": [
    {
     "name": "stdout",
     "output_type": "stream",
     "text": [
      "Files in this directory with sizes:\n",
      "          0 Jun 19 21:01 README\n",
      "\n",
      "    2187734 Jun 19 20:55 cacm.all              text of documents\n",
      "        626 Jun 19 20:58 cite.info             key to citation info\n",
      "                                                (the X sections in cacm.all)\n",
      "       2668 Jun 19 20:55 common_words           stop words used by smart\n",
      "       2194 Jun 19 20:55 make_coll*             shell script to make collection\n",
      "       1557 Jun 19 20:55 make_coll_term*        ditto (both useless without\n",
      "                                                smart system)\n",
      "       9948 Jun 19 20:55 qrels.text             relation giving\n",
      "                                                    qid did 0 0\n",
      "                                                to indicate dument did is\n",
      "                                                relevant to query qid\n",
      "      13689 Jun 19 20:55 query.text             Original text of the query\n",
      "\n"
     ]
    }
   ],
   "source": [
    "##### Read the README file \n",
    "with open (\"./datasets/README\",\"r\") as file:\n",
    "    readme = file.read()\n",
    "    print(readme)\n",
    "#####"
   ]
  },
  {
   "cell_type": "markdown",
   "metadata": {
    "deletable": false,
    "editable": false,
    "nbgrader": {
     "cell_type": "markdown",
     "checksum": "6e2712c4c4632bf7486a532f7f18074d",
     "grade": false,
     "grade_id": "cell-73351431869fda76",
     "locked": true,
     "schema_version": 3,
     "solution": false,
     "task": false
    }
   },
   "source": [
    "---\n",
    "We are interested in 4 files:\n",
    "- `cacm.all` : Contains the text for all documents. Note that some documents do not have abstracts available\n",
    "- `query.text` : The text of all queries\n",
    "- `qrels.text` : The relevance judgements\n",
    "- `common_words` : A list of common words. This may be used as a collection of stopwords"
   ]
  },
  {
   "cell_type": "code",
   "execution_count": 4,
   "metadata": {
    "deletable": false,
    "editable": false,
    "nbgrader": {
     "cell_type": "code",
     "checksum": "f1162c15177eb4ffe466531d03cff4a2",
     "grade": false,
     "grade_id": "cell-b44dd14079f278ca",
     "locked": true,
     "schema_version": 3,
     "solution": false,
     "task": false
    }
   },
   "outputs": [
    {
     "name": "stdout",
     "output_type": "stream",
     "text": [
      ".I 1\n",
      ".T\n",
      "Preliminary Report-International Algebraic Language\n",
      ".B\n",
      "CACM December, 1958\n",
      ".A\n",
      "Perlis, A. J.\n",
      "Samelson,K.\n",
      ".N\n",
      "CA581203 JB March 22, 1978  8:28 PM\n",
      ".X\n",
      "100\t5\t1\n",
      "123\t5\t1\n",
      "164\t5\t1\n",
      "1\t5\t1\n",
      "1\t5\t1\n",
      "1\t5\t1\n",
      "205\t5\t1\n",
      "210\t5\t1\n",
      "214\t5\t1\n",
      "1982\t5\t1\n",
      "398\t5\t1\n",
      "642\t5\t1\n",
      "669\t5\t1\n",
      "1\t6\t1\n",
      "1\t6\t1\n",
      "1\t6\t1\n",
      "1\t6\t1\n",
      "1\t6\t1\n",
      "1\t6\t1\n",
      "1\t6\t1\n",
      "1\t6\t1\n",
      "1\t6\t1\n",
      "1\t6\t1\n",
      "165\t6\t1\n",
      "196\t6\t1\n",
      "196\t6\t1\n",
      "1273\t6\t1\n",
      "1883\t6\t1\n",
      "324\t6\t1\n",
      "43\t6\t1\n",
      "53\t6\t1\n",
      "91\t6\t1\n",
      "410\t6\t1\n",
      "3184\t6\t1\n",
      "\n"
     ]
    }
   ],
   "source": [
    "##### The first 45 lines of the CACM dataset forms the first record\n",
    "# We are interested only in 3 fields. \n",
    "# 1. the '.I' field, which is the document id\n",
    "# 2. the '.T' field (the title) and\n",
    "# 3. the '.W' field (the abstract, which may be absent)\n",
    "with open (\"./datasets/cacm.all\",\"r\") as file:\n",
    "    cacm_all = \"\".join(file.readlines()[:45])\n",
    "    print(cacm_all)\n",
    "#####"
   ]
  },
  {
   "cell_type": "markdown",
   "metadata": {
    "deletable": false,
    "editable": false,
    "nbgrader": {
     "cell_type": "markdown",
     "checksum": "250b413baccd8efb186bb46a34ae0060",
     "grade": false,
     "grade_id": "cell-c4bf2e263ec553d8",
     "locked": true,
     "schema_version": 3,
     "solution": false,
     "task": false
    }
   },
   "source": [
    "---\n",
    "\n",
    "The following function reads the `cacm.all` file. Note that each document has a variable number of lines. The `.I` field denotes a new document:"
   ]
  },
  {
   "cell_type": "code",
   "execution_count": 5,
   "metadata": {
    "deletable": false,
    "editable": false,
    "nbgrader": {
     "cell_type": "code",
     "checksum": "57d757e6a7a6938740dc899022b4f291",
     "grade": false,
     "grade_id": "cell-b736116eb419c624",
     "locked": true,
     "schema_version": 3,
     "solution": false,
     "task": false
    }
   },
   "outputs": [],
   "source": [
    "def read_cacm_docs(root_folder = \"./datasets/\"):\n",
    "    \"\"\"\n",
    "        Reads in the CACM documents. The dataset is assumed to be in the folder \"./datasets/\" by default\n",
    "        Returns: A list of 2-tuples: (doc_id, document), where 'document' is a single string created by \n",
    "            appending the title and abstract (separated by a \"\\n\"). \n",
    "            In case the record doesn't have an abstract, the document is composed only by the title\n",
    "    \"\"\"\n",
    "    with open(os.path.join(root_folder, \"cacm.all\")) as reader:\n",
    "        lines = reader.readlines()\n",
    "    \n",
    "    doc_id, title, abstract = None, None, None\n",
    "    \n",
    "    docs = []\n",
    "    line_idx = 0\n",
    "    while line_idx < len(lines):\n",
    "        line = lines[line_idx]\n",
    "        if line.startswith(\".I\"):\n",
    "            if doc_id is not None:\n",
    "                docs.append((doc_id, title, abstract))\n",
    "                doc_id, title, abstract = None, None, None\n",
    "            \n",
    "            doc_id = line.split()[-1]\n",
    "            line_idx += 1\n",
    "        elif line.startswith(\".T\"):\n",
    "            # start at next line\n",
    "            line_idx += 1\n",
    "            temp_lines = []\n",
    "            # read till next '.'\n",
    "            while not lines[line_idx].startswith(\".\"):\n",
    "                temp_lines.append(lines[line_idx].strip(\"\\n\"))\n",
    "                line_idx += 1\n",
    "            title = \"\\n\".join(temp_lines).strip(\"\\n\")\n",
    "        elif line.startswith(\".W\"):\n",
    "            # start at next line\n",
    "            line_idx += 1\n",
    "            temp_lines = []\n",
    "            # read till next '.'\n",
    "            while not lines[line_idx].startswith(\".\"):\n",
    "                temp_lines.append(lines[line_idx].strip(\"\\n\"))\n",
    "                line_idx += 1\n",
    "            abstract = \"\\n\".join(temp_lines).strip(\"\\n\")\n",
    "        else:\n",
    "            line_idx += 1\n",
    "    \n",
    "    docs.append((doc_id, title, abstract))\n",
    "    \n",
    "    p_docs = []\n",
    "    for (did, t, a) in docs:\n",
    "        if a is None:\n",
    "            a = \"\"\n",
    "        p_docs.append((did, t + \"\\n\" + a))\n",
    "    return p_docs\n"
   ]
  },
  {
   "cell_type": "code",
   "execution_count": 6,
   "metadata": {
    "deletable": false,
    "editable": false,
    "nbgrader": {
     "cell_type": "code",
     "checksum": "2f81930fcd89670b6e20e2255e1f2369",
     "grade": false,
     "grade_id": "cell-a1c43818e0d3fd79",
     "locked": true,
     "schema_version": 3,
     "solution": false,
     "task": false
    }
   },
   "outputs": [],
   "source": [
    "##### Function check\n",
    "docs = read_cacm_docs()\n",
    "\n",
    "assert isinstance(docs, list)\n",
    "assert len(docs) == 3204, \"There should be exactly 3204 documents\"\n",
    "\n",
    "unzipped_docs = list(zip(*docs))\n",
    "assert np.sum(np.array(list(map(int,unzipped_docs[0])))) == 5134410\n",
    "\n",
    "##### "
   ]
  },
  {
   "cell_type": "markdown",
   "metadata": {
    "deletable": false,
    "editable": false,
    "nbgrader": {
     "cell_type": "markdown",
     "checksum": "25fd3cfaf2137c56002b850699b3c9d3",
     "grade": false,
     "grade_id": "cell-5ed2ddc91f73c60e",
     "locked": true,
     "schema_version": 3,
     "solution": false,
     "task": false
    }
   },
   "source": [
    "---\n",
    "### 1.2 Read the CACM queries\n",
    "\n",
    "Next, let us read the queries. They are formatted similarly:"
   ]
  },
  {
   "cell_type": "code",
   "execution_count": 7,
   "metadata": {
    "deletable": false,
    "editable": false,
    "nbgrader": {
     "cell_type": "code",
     "checksum": "5d26c0908e758acb9968b84056b1060a",
     "grade": false,
     "grade_id": "cell-5c7e8e7c4fc2757f",
     "locked": true,
     "schema_version": 3,
     "solution": false,
     "task": false
    }
   },
   "outputs": [
    {
     "name": "stdout",
     "output_type": "stream",
     "text": [
      ".I 1\r\n",
      ".W\r\n",
      " What articles exist which deal with TSS (Time Sharing System), an\r\n",
      "operating system for IBM computers?\r\n",
      ".N\r\n",
      " 1. Richard Alexander, Comp Serv, Langmuir Lab (TSS)\r\n",
      " \r\n",
      ".I 2\r\n",
      ".W\r\n",
      " I am interested in articles written either by Prieve or Udo Pooch\r\n",
      ".A\r\n",
      "Prieve, B.\r\n",
      "Pooch, U.\r\n",
      ".N\r\n",
      " 2. Richard Alexander, Comp Serv, Langmuir Lab (author = Pooch or Prieve)\r\n"
     ]
    }
   ],
   "source": [
    "##### The first 15 lines of 'query.text' has 2 queries\n",
    "# We are interested only in 2 fields. \n",
    "# 1. the '.I' - the query id\n",
    "# 2. the '.W' - the query\n",
    "!head -15 ./datasets/query.text\n",
    "#####"
   ]
  },
  {
   "cell_type": "markdown",
   "metadata": {
    "deletable": false,
    "editable": false,
    "nbgrader": {
     "cell_type": "markdown",
     "checksum": "8f19f311a660f30e3f86cb0f7037d54a",
     "grade": false,
     "grade_id": "cell-88e293507d2dcef6",
     "locked": true,
     "schema_version": 3,
     "solution": false,
     "task": false
    }
   },
   "source": [
    "---\n",
    "\n",
    "The following function reads the `query.text` file:"
   ]
  },
  {
   "cell_type": "code",
   "execution_count": 8,
   "metadata": {
    "deletable": false,
    "editable": false,
    "nbgrader": {
     "cell_type": "code",
     "checksum": "e3fbb193211007672849487f5cff1664",
     "grade": false,
     "grade_id": "cell-433e3ad5d0e2572a",
     "locked": true,
     "schema_version": 3,
     "solution": false,
     "task": false
    }
   },
   "outputs": [],
   "source": [
    "def read_queries(root_folder = \"./datasets/\"):\n",
    "    \"\"\"\n",
    "        Reads in the CACM queries. The dataset is assumed to be in the folder \"./datasets/\" by default\n",
    "        Returns: A list of 2-tuples: (query_id, query)\n",
    "    \"\"\"\n",
    "    with open(os.path.join(root_folder, \"query.text\")) as reader:\n",
    "        lines = reader.readlines()\n",
    "    \n",
    "    query_id, query = None, None\n",
    "    \n",
    "    queries = []\n",
    "    line_idx = 0\n",
    "    while line_idx < len(lines):\n",
    "        line = lines[line_idx]\n",
    "        if line.startswith(\".I\"):\n",
    "            if query_id is not None:\n",
    "                queries.append((query_id, query))\n",
    "                query_id, query = None, None\n",
    "    \n",
    "            query_id = line.split()[-1]\n",
    "            line_idx += 1\n",
    "        elif line.startswith(\".W\"):\n",
    "            # start at next line\n",
    "            line_idx += 1\n",
    "            temp_lines = []\n",
    "            # read till next '.'\n",
    "            while not lines[line_idx].startswith(\".\"):\n",
    "                temp_lines.append(lines[line_idx].strip(\"\\n\"))\n",
    "                line_idx += 1\n",
    "            query = \"\\n\".join(temp_lines).strip(\"\\n\")\n",
    "        else:\n",
    "            line_idx += 1\n",
    "    \n",
    "    queries.append((query_id, query))\n",
    "    return queries\n"
   ]
  },
  {
   "cell_type": "code",
   "execution_count": 9,
   "metadata": {
    "deletable": false,
    "editable": false,
    "nbgrader": {
     "cell_type": "code",
     "checksum": "a897b9771b54f447be3418d7246fc4a0",
     "grade": false,
     "grade_id": "cell-6ec540abce66c598",
     "locked": true,
     "schema_version": 3,
     "solution": false,
     "task": false
    }
   },
   "outputs": [],
   "source": [
    "##### Function check\n",
    "queries = read_queries()\n",
    "\n",
    "assert isinstance(queries, list)\n",
    "assert len(queries) == 64 and all([q[1] is not None for q in queries]), \"There should be exactly 64 queries\"\n",
    "\n",
    "unzipped_queries = list(zip(*queries))\n",
    "assert np.sum(np.array(list(map(int,unzipped_queries[0])))) == 2080\n",
    "\n",
    "##### "
   ]
  },
  {
   "cell_type": "markdown",
   "metadata": {
    "deletable": false,
    "editable": false,
    "nbgrader": {
     "cell_type": "markdown",
     "checksum": "a300c41912ac63b239070b4c15c9f5c5",
     "grade": false,
     "grade_id": "cell-1c31569491d7b782",
     "locked": true,
     "schema_version": 3,
     "solution": false,
     "task": false
    }
   },
   "source": [
    "---\n",
    "### 1.3 Read the stop words\n",
    "\n",
    "We use the common words stored in `common_words`:"
   ]
  },
  {
   "cell_type": "code",
   "execution_count": 10,
   "metadata": {
    "deletable": false,
    "editable": false,
    "nbgrader": {
     "cell_type": "code",
     "checksum": "1ad6f5bae6a792504c1c8513ae5751ad",
     "grade": false,
     "grade_id": "cell-34bdb63461418a96",
     "locked": true,
     "schema_version": 3,
     "solution": false,
     "task": false
    }
   },
   "outputs": [
    {
     "name": "stdout",
     "output_type": "stream",
     "text": [
      "a\r\n",
      "about\r\n",
      "above\r\n",
      "accordingly\r\n",
      "across\r\n",
      "after\r\n",
      "afterwards\r\n",
      "again\r\n",
      "against\r\n",
      "all\r\n"
     ]
    }
   ],
   "source": [
    "##### Read the stop words file \n",
    "!head ./datasets/common_words\n",
    "##### Read the README file "
   ]
  },
  {
   "cell_type": "markdown",
   "metadata": {
    "deletable": false,
    "editable": false,
    "nbgrader": {
     "cell_type": "markdown",
     "checksum": "6d0fe612e770213b6397c2179b07a966",
     "grade": false,
     "grade_id": "cell-4744bde0338895d8",
     "locked": true,
     "schema_version": 3,
     "solution": false,
     "task": false
    }
   },
   "source": [
    "---\n",
    "\n",
    "The following function reads the `common_words` file (For better coverage, we try to keep them in lowercase):"
   ]
  },
  {
   "cell_type": "code",
   "execution_count": 11,
   "metadata": {
    "deletable": false,
    "editable": false,
    "nbgrader": {
     "cell_type": "code",
     "checksum": "9409713fd26eb0c33587e190638997c4",
     "grade": false,
     "grade_id": "cell-7357aa40f64e5bcb",
     "locked": true,
     "schema_version": 3,
     "solution": false,
     "task": false
    }
   },
   "outputs": [],
   "source": [
    "def load_stopwords(root_folder = \"./datasets/\"):\n",
    "    \"\"\"\n",
    "        Loads the stopwords. The dataset is assumed to be in the folder \"./datasets/\" by default\n",
    "        Output: A set of stopwords\n",
    "    \"\"\"\n",
    "    with open(os.path.join(root_folder, \"common_words\")) as reader:\n",
    "        lines = reader.readlines()\n",
    "    stopwords = set([l.strip().lower() for l in lines])\n",
    "    return stopwords\n"
   ]
  },
  {
   "cell_type": "code",
   "execution_count": 12,
   "metadata": {
    "deletable": false,
    "editable": false,
    "nbgrader": {
     "cell_type": "code",
     "checksum": "f1c8153c3c38133bc2db6e7b076ad470",
     "grade": false,
     "grade_id": "cell-2ca3ac162004de97",
     "locked": true,
     "schema_version": 3,
     "solution": false,
     "task": false
    }
   },
   "outputs": [],
   "source": [
    "##### Function check\n",
    "stopwords = load_stopwords()\n",
    "\n",
    "assert isinstance(stopwords, set)\n",
    "assert len(stopwords) == 428, \"There should be exactly 428 stop words\"\n",
    "\n",
    "assert np.sum(np.array(list(map(len,stopwords)))) == 2234\n",
    "\n",
    "##### \n"
   ]
  },
  {
   "cell_type": "markdown",
   "metadata": {
    "deletable": false,
    "editable": false,
    "nbgrader": {
     "cell_type": "markdown",
     "checksum": "92c1191e9e7291dcf0d70dc67b907a65",
     "grade": false,
     "grade_id": "cell-134b72872f4300cb",
     "locked": true,
     "schema_version": 3,
     "solution": false,
     "task": false
    }
   },
   "source": [
    "---\n",
    "### 1.4 Tokenization (3 points)\n",
    "\n",
    "We can now write some basic text processing functions. \n",
    "A first step is to tokenize the text. \n",
    "\n",
    "**Note**: Use the  `WordPunctTokenizer` available in the `nltk` library:"
   ]
  },
  {
   "cell_type": "code",
   "execution_count": 13,
   "metadata": {
    "deletable": false,
    "nbgrader": {
     "cell_type": "code",
     "checksum": "3f5564d3c75bf22fbf832b3a9b938f37",
     "grade": false,
     "grade_id": "cell-322be4c9499bdc4b",
     "locked": false,
     "schema_version": 3,
     "solution": true,
     "task": false
    }
   },
   "outputs": [],
   "source": [
    "# TODO: Implement this! (4 points)\n",
    "def tokenize(text):\n",
    "    \"\"\"\n",
    "        Tokenizes the input text. Use the WordPunctTokenizer\n",
    "        Input: text - a string\n",
    "        Output: a list of tokens\n",
    "    \"\"\"\n",
    "    \n",
    "    tk = nltk.WordPunctTokenizer()\n",
    "    \n",
    "    return tk.tokenize(text) "
   ]
  },
  {
   "cell_type": "code",
   "execution_count": 14,
   "metadata": {
    "deletable": false,
    "editable": false,
    "nbgrader": {
     "cell_type": "code",
     "checksum": "e15af22c4d8ae0a3f9dac43bef7097ec",
     "grade": true,
     "grade_id": "cell-7fbf48bf7541a622",
     "locked": true,
     "points": 3,
     "schema_version": 3,
     "solution": false,
     "task": false
    }
   },
   "outputs": [
    {
     "name": "stdout",
     "output_type": "stream",
     "text": [
      "['the', 'quick', 'brown', 'fox', 'jumps', 'over', 'the', 'lazy', 'dog']\n"
     ]
    }
   ],
   "source": [
    "##### Function check\n",
    "text = \"the quick brown fox jumps over the lazy dog\"\n",
    "tokens = tokenize(text)\n",
    "\n",
    "assert isinstance(tokens, list)\n",
    "assert len(tokens) == 9\n",
    "\n",
    "print(tokens)\n",
    "# output: ['the', 'quick', 'brown', 'fox', 'jumps', 'over', 'the', 'lazy', 'dog']\n",
    "#####"
   ]
  },
  {
   "cell_type": "markdown",
   "metadata": {
    "deletable": false,
    "editable": false,
    "nbgrader": {
     "cell_type": "markdown",
     "checksum": "34210618bff4cb47aad2f03cb4b9854c",
     "grade": false,
     "grade_id": "cell-fd1b98ae61b697ca",
     "locked": true,
     "schema_version": 3,
     "solution": false,
     "task": false
    }
   },
   "source": [
    "---\n",
    "### 1.5 Stemming (2 points)\n",
    "\n",
    "Write a function to stem tokens. \n",
    "Again, you can use the nltk library for this:"
   ]
  },
  {
   "cell_type": "code",
   "execution_count": 15,
   "metadata": {
    "deletable": false,
    "nbgrader": {
     "cell_type": "code",
     "checksum": "1c4a6aa979d66158c7b6b992af43293a",
     "grade": false,
     "grade_id": "cell-e3f6c8e3f874b28d",
     "locked": false,
     "schema_version": 3,
     "solution": true,
     "task": false
    }
   },
   "outputs": [],
   "source": [
    "# TODO: Implement this! (3 points)\n",
    "def stem_token(token):\n",
    "    \"\"\"\n",
    "        Stems the given token using the PorterStemmer from the nltk library\n",
    "        Input: a single token\n",
    "        Output: the stem of the token\n",
    "    \"\"\"\n",
    "    stemmer = nltk.PorterStemmer()\n",
    "    \n",
    "    return stemmer.stem(token)"
   ]
  },
  {
   "cell_type": "code",
   "execution_count": 16,
   "metadata": {
    "deletable": false,
    "editable": false,
    "nbgrader": {
     "cell_type": "code",
     "checksum": "9363b4f09b556d424d9c895d4ab57b1c",
     "grade": true,
     "grade_id": "cell-cd6863e6ee6ed205",
     "locked": true,
     "points": 2,
     "schema_version": 3,
     "solution": false,
     "task": false
    }
   },
   "outputs": [],
   "source": [
    "##### Function check\n",
    "\n",
    "assert stem_token('owned') == 'own'\n",
    "assert stem_token('itemization') == 'item'\n",
    "#####"
   ]
  },
  {
   "cell_type": "markdown",
   "metadata": {
    "deletable": false,
    "editable": false,
    "nbgrader": {
     "cell_type": "markdown",
     "checksum": "0b311d014146da6afa1d39542fab9869",
     "grade": false,
     "grade_id": "cell-47c9f90498699110",
     "locked": true,
     "schema_version": 3,
     "solution": false,
     "task": false
    }
   },
   "source": [
    "---\n",
    "### 1.6 Summary\n",
    "\n",
    "The following function puts it all together. Given an input string, this functions tokenizes and processes it according to the flags that you set."
   ]
  },
  {
   "cell_type": "code",
   "execution_count": 17,
   "metadata": {
    "deletable": false,
    "editable": false,
    "nbgrader": {
     "cell_type": "code",
     "checksum": "2ff2d215ee8e0039c5a91fd3de12e6bd",
     "grade": false,
     "grade_id": "cell-dd0d3f46b30801da",
     "locked": true,
     "schema_version": 3,
     "solution": false,
     "task": false
    }
   },
   "outputs": [],
   "source": [
    "#### Putting it all together\n",
    "def process_text(text, stem=False, remove_stopwords=False, lowercase_text=False):\n",
    "    \n",
    "    tokens = []\n",
    "    for token in tokenize(text):\n",
    "        if remove_stopwords and token.lower() in stopwords:\n",
    "            continue\n",
    "        if stem:\n",
    "            token = stem_token(token)\n",
    "        if lowercase_text:\n",
    "            token = token.lower()\n",
    "        tokens.append(token)\n",
    "\n",
    "    return tokens\n",
    "#### "
   ]
  },
  {
   "cell_type": "markdown",
   "metadata": {
    "deletable": false,
    "editable": false,
    "nbgrader": {
     "cell_type": "markdown",
     "checksum": "02d433b18eb43654fa4306a7bf55b190",
     "grade": false,
     "grade_id": "cell-8d885bfd2edd43ae",
     "locked": true,
     "schema_version": 3,
     "solution": false,
     "task": false
    }
   },
   "source": [
    "---\n",
    "\n",
    "Let's create two sets of preprocessed documents.\n",
    "We can process the documents and queries according to these two configurations:"
   ]
  },
  {
   "cell_type": "code",
   "execution_count": 18,
   "metadata": {
    "deletable": false,
    "editable": false,
    "nbgrader": {
     "cell_type": "code",
     "checksum": "dbe4ca667be6842fdcf512fbcad50c7f",
     "grade": false,
     "grade_id": "cell-d427365ee0fb21d8",
     "locked": true,
     "schema_version": 3,
     "solution": false,
     "task": false
    }
   },
   "outputs": [],
   "source": [
    "# In this configuration:\n",
    "# Don't preprocess the text, except to tokenize \n",
    "config_1 = {\n",
    "  \"stem\": False,\n",
    "  \"remove_stopwords\" : False,\n",
    "  \"lowercase_text\": True\n",
    "} \n",
    "\n",
    "\n",
    "# In this configuration:\n",
    "# Preprocess the text, stem and remove stopwords\n",
    "config_2 = {\n",
    "  \"stem\": True,\n",
    "  \"remove_stopwords\" : True,\n",
    "  \"lowercase_text\": True, \n",
    "} \n",
    "\n",
    "####\n",
    "doc_repr_1 = []\n",
    "doc_repr_2 = []\n",
    "for (doc_id, document) in docs:\n",
    "    doc_repr_1.append((doc_id, process_text(document, **config_1)))\n",
    "    doc_repr_2.append((doc_id, process_text(document, **config_2)))\n",
    "\n",
    "####"
   ]
  },
  {
   "cell_type": "markdown",
   "metadata": {
    "deletable": false,
    "editable": false,
    "nbgrader": {
     "cell_type": "markdown",
     "checksum": "b60589aac19e80941d860d9b3f1e9a16",
     "grade": false,
     "grade_id": "cell-b1c102db61ae7495",
     "locked": true,
     "schema_version": 3,
     "solution": false,
     "task": false
    }
   },
   "source": [
    "--- \n",
    "\n",
    "## Section 2: Indexing (10 points)<a class=\"anchor\" id=\"indexing\"></a>\n",
    "\n",
    "[Back to Part 1](#part1)\n",
    "\n",
    "\n",
    "\n",
    "A retrieval function usually takes in a query document pair, and scores a query against a document.  Our document set is quite small - just a few thousand documents. However, consider a web-scale dataset with a few million documents. In such a scenario, it would become infeasible to score every query and document pair. In such a case, we can build an inverted index. From Wikipedia:\n",
    "\n",
    "> ... , an inverted index (also referred to as a postings file or inverted file) is a database index storing a mapping from content, such as words or numbers, to its locations in a table, .... The purpose of an inverted index is to allow fast full-text searches, at a cost of increased processing when a document is added to the database. ...\n",
    "\n",
    "\n",
    "Consider a simple inverted index, which maps from word to document. This can improve the performance of a retrieval system significantly. In this assignment, we consider a *simple* inverted index, which maps a word to a set of documents. In practice, however, more complex indices might be used.  \n"
   ]
  },
  {
   "cell_type": "markdown",
   "metadata": {
    "deletable": false,
    "editable": false,
    "nbgrader": {
     "cell_type": "markdown",
     "checksum": "710fd943f45523ac36fcb887cc0d4d39",
     "grade": false,
     "grade_id": "cell-fa373192c1b7bb95",
     "locked": true,
     "schema_version": 3,
     "solution": false,
     "task": false
    }
   },
   "source": [
    "### 2.1 Term Frequency-index (10 points)\n",
    "In this assignment, we will be using an index created in memory since our dataset is tiny. To get started, build a simple index that maps each `token` to a list of `(doc_id, count)` where `count` is the count of the `token` in `doc_id`.\n",
    "For consistency, build this index using a python dictionary.\n",
    "    \n",
    "Now, implement a function to build an index:"
   ]
  },
  {
   "cell_type": "code",
   "execution_count": 19,
   "metadata": {
    "deletable": false,
    "nbgrader": {
     "cell_type": "code",
     "checksum": "d4e8c6b658c469379d5fe511de05b536",
     "grade": false,
     "grade_id": "cell-077599b87e953209",
     "locked": false,
     "schema_version": 3,
     "solution": true,
     "task": false
    }
   },
   "outputs": [],
   "source": [
    "from collections import Counter, defaultdict\n",
    "\n",
    "# TODO: Implement this! (10 points)\n",
    "def build_tf_index(documents):\n",
    "    \"\"\"\n",
    "        Build an inverted index (with counts). The output is a dictionary which takes in a token\n",
    "        and returns a list of (doc_id, count) where 'count' is the count of the 'token' in 'doc_id'\n",
    "        Input: a list of documents - (doc_id, tokens) \n",
    "        Output: An inverted index implemented within a pyhton dictionary: [token] -> [(doc_id, token_count)]\n",
    "    \"\"\"\n",
    "    # YOUR CODE HERE\n",
    "    \n",
    "    # retrieve all unique words and create tuples (doc_id, {word: count})\n",
    "    words = list(set([word for document in documents for word in document[1]]))\n",
    "    document = [(doc[0], Counter(doc[1])) for doc in documents] \n",
    "    \n",
    "    inv_index = defaultdict(list)\n",
    "    \n",
    "    for word in words:\n",
    "        # count is a dictionary with tokens as keys and the tfs as values\n",
    "        # only append if a word is present in count dict\n",
    "        inv_index[word].append([(doc_id, count[word]) for doc_id, count in document if word in count])\n",
    "            \n",
    "    return inv_index"
   ]
  },
  {
   "cell_type": "markdown",
   "metadata": {
    "deletable": false,
    "editable": false,
    "nbgrader": {
     "cell_type": "markdown",
     "checksum": "15e7041b4323d2a290322de538ff7670",
     "grade": false,
     "grade_id": "cell-093aebfa504f96f2",
     "locked": true,
     "schema_version": 3,
     "solution": false,
     "task": false
    }
   },
   "source": [
    "---\n",
    "Now we can build indexed documents and preprocess the queries based on the two configurations:"
   ]
  },
  {
   "cell_type": "code",
   "execution_count": 20,
   "metadata": {
    "deletable": false,
    "editable": false,
    "nbgrader": {
     "cell_type": "code",
     "checksum": "e27540c1d8d77a3779a05f557f3f40c6",
     "grade": false,
     "grade_id": "cell-b2ff1676348b90a8",
     "locked": true,
     "schema_version": 3,
     "solution": false,
     "task": false
    }
   },
   "outputs": [],
   "source": [
    "#### Indexed documents based on the two configs\n",
    "\n",
    "# Create the 2 indices\n",
    "tf_index_1 = build_tf_index(doc_repr_1)\n",
    "tf_index_2 = build_tf_index(doc_repr_2)\n",
    "\n",
    "# This function returns the tf_index of the corresponding config\n",
    "def get_index(index_set):\n",
    "    assert index_set in {1, 2}\n",
    "    return {\n",
    "        1: tf_index_1,\n",
    "        2: tf_index_2\n",
    "    }[index_set]\n",
    "\n",
    "####\n",
    "#### Preprocessed query based on the two configs\n",
    "\n",
    "# This function preprocesses the text given the index set, according to the specified config\n",
    "def preprocess_query(text, index_set):\n",
    "    assert index_set in {1, 2}\n",
    "    if index_set == 1:\n",
    "        return process_text(text, **config_1)\n",
    "    elif index_set == 2:\n",
    "        return process_text(text, **config_2)\n",
    "\n",
    "#### "
   ]
  },
  {
   "cell_type": "code",
   "execution_count": 21,
   "metadata": {
    "deletable": false,
    "editable": false,
    "nbgrader": {
     "cell_type": "code",
     "checksum": "f0cbc8703e1248cd6edf03f9019b69db",
     "grade": true,
     "grade_id": "cell-fc7c7232d5d2ee46",
     "locked": true,
     "points": 5,
     "schema_version": 3,
     "solution": false,
     "task": false
    }
   },
   "outputs": [
    {
     "name": "stdout",
     "output_type": "stream",
     "text": [
      "sample tf index for computer: [[('4', 1), ('7', 1), ('10', 1), ('13', 1), ('19', 1), ('22', 1), ('23', 1), ('37', 1), ('40', 3), ('41', 1), ('44', 1), ('48', 1), ('57', 1), ('58', 2), ('63', 2), ('68', 1), ('71', 3), ('80', 1), ('82', 1), ('90', 1), ('92', 1), ('93', 3), ('95', 1), ('96', 2), ('104', 1), ('106', 2), ('123', 1), ('124', 1), ('143', 1), ('144', 1), ('146', 1), ('173', 1), ('175', 1), ('185', 1), ('188', 1), ('192', 1), ('202', 1), ('217', 1), ('218', 1), ('236', 2), ('237', 1), ('242', 1), ('251', 1), ('252', 2), ('254', 1), ('274', 1), ('276', 1), ('278', 3), ('282', 1), ('300', 1), ('303', 1), ('320', 1), ('322', 4), ('323', 1), ('331', 1), ('361', 1), ('409', 1), ('417', 5), ('436', 1), ('439', 1), ('461', 1), ('462', 1), ('464', 2), ('482', 1), ('488', 1), ('489', 1), ('491', 1), ('495', 2), ('496', 1), ('525', 1), ('530', 1), ('531', 1), ('557', 1), ('558', 2), ('561', 1), ('585', 1), ('595', 2), ('605', 1), ('617', 1), ('619', 1), ('644', 2), ('671', 1), ('675', 1), ('678', 6), ('681', 1), ('695', 2), ('698', 3), ('725', 1), ('726', 1), ('728', 3), ('756', 1), ('758', 2), ('794', 1), ('796', 3), ('799', 1), ('824', 1), ('825', 1), ('828', 1), ('829', 1), ('851', 1), ('854', 1), ('858', 1), ('859', 1), ('860', 1), ('865', 1), ('893', 1), ('931', 1), ('940', 3), ('962', 2), ('963', 2), ('964', 1), ('971', 1), ('972', 2), ('974', 1), ('997', 1), ('998', 1), ('1000', 1), ('1001', 3), ('1002', 1), ('1003', 5), ('1008', 2), ('1009', 1), ('1010', 1), ('1013', 1), ('1014', 2), ('1026', 1), ('1030', 4), ('1033', 1), ('1046', 1), ('1051', 1), ('1066', 5), ('1071', 4), ('1073', 1), ('1083', 2), ('1088', 2), ('1089', 1), ('1098', 2), ('1099', 3), ('1100', 1), ('1101', 1), ('1103', 1), ('1108', 2), ('1112', 1), ('1113', 2), ('1114', 1), ('1116', 2), ('1134', 1), ('1144', 3), ('1145', 1), ('1155', 1), ('1159', 2), ('1160', 1), ('1166', 1), ('1169', 2), ('1172', 5), ('1179', 1), ('1181', 1), ('1183', 2), ('1184', 1), ('1188', 5), ('1195', 1), ('1196', 2), ('1197', 1), ('1199', 2), ('1200', 1), ('1205', 1), ('1206', 1), ('1208', 1), ('1214', 2), ('1235', 1), ('1237', 1), ('1247', 2), ('1248', 1), ('1252', 1), ('1257', 1), ('1259', 1), ('1260', 2), ('1261', 1), ('1265', 1), ('1270', 2), ('1272', 2), ('1281', 3), ('1305', 2), ('1306', 3), ('1307', 2), ('1308', 1), ('1309', 2), ('1315', 2), ('1323', 1), ('1324', 1), ('1325', 3), ('1326', 2), ('1327', 3), ('1329', 1), ('1330', 1), ('1334', 1), ('1341', 2), ('1345', 1), ('1347', 1), ('1348', 1), ('1354', 2), ('1365', 1), ('1366', 6), ('1368', 1), ('1382', 1), ('1383', 2), ('1384', 3), ('1385', 5), ('1388', 1), ('1391', 1), ('1394', 2), ('1409', 4), ('1412', 1), ('1427', 2), ('1428', 2), ('1429', 1), ('1433', 2), ('1435', 2), ('1445', 3), ('1453', 1), ('1454', 2), ('1468', 1), ('1471', 1), ('1473', 1), ('1482', 1), ('1484', 1), ('1487', 2), ('1496', 2), ('1503', 3), ('1506', 2), ('1515', 1), ('1516', 1), ('1517', 2), ('1518', 1), ('1525', 2), ('1526', 1), ('1528', 1), ('1533', 1), ('1542', 1), ('1543', 7), ('1545', 1), ('1550', 1), ('1551', 1), ('1553', 1), ('1554', 2), ('1566', 1), ('1571', 1), ('1590', 2), ('1591', 2), ('1592', 1), ('1595', 2), ('1602', 3), ('1605', 1), ('1608', 1), ('1609', 1), ('1610', 1), ('1615', 1), ('1616', 1), ('1621', 2), ('1627', 1), ('1628', 1), ('1630', 1), ('1631', 1), ('1641', 1), ('1642', 2), ('1652', 2), ('1654', 5), ('1658', 1), ('1659', 2), ('1664', 2), ('1670', 1), ('1671', 1), ('1677', 1), ('1678', 2), ('1680', 4), ('1682', 1), ('1686', 3), ('1691', 1), ('1697', 2), ('1698', 1), ('1700', 2), ('1703', 1), ('1711', 1), ('1720', 1), ('1723', 1), ('1726', 1), ('1735', 4), ('1741', 3), ('1742', 3), ('1745', 1), ('1747', 2), ('1750', 1), ('1751', 1), ('1754', 2), ('1764', 3), ('1769', 2), ('1771', 9), ('1792', 1), ('1805', 1), ('1808', 1), ('1809', 3), ('1826', 1), ('1829', 2), ('1834', 3), ('1843', 2), ('1844', 4), ('1845', 2), ('1846', 2), ('1854', 1), ('1868', 1), ('1870', 1), ('1885', 2), ('1889', 1), ('1890', 2), ('1891', 2), ('1892', 1), ('1901', 2), ('1902', 1), ('1905', 1), ('1906', 1), ('1908', 3), ('1912', 1), ('1916', 1), ('1926', 1), ('1927', 2), ('1929', 2), ('1933', 1), ('1936', 1), ('1939', 2), ('1945', 1), ('1946', 1), ('1949', 1), ('1951', 4), ('1962', 2), ('1976', 1), ('1978', 1), ('1997', 1), ('2003', 4), ('2004', 4), ('2016', 1), ('2020', 1), ('2034', 1), ('2036', 1), ('2053', 1), ('2054', 4), ('2062', 4), ('2065', 1), ('2078', 1), ('2079', 1), ('2091', 1), ('2095', 2), ('2096', 2), ('2105', 5), ('2106', 2), ('2113', 1), ('2130', 1), ('2144', 1), ('2147', 1), ('2151', 1), ('2152', 1), ('2153', 2), ('2163', 1), ('2180', 2), ('2181', 6), ('2186', 1), ('2187', 4), ('2188', 2), ('2189', 1), ('2194', 2), ('2196', 5), ('2197', 2), ('2201', 2), ('2209', 2), ('2211', 3), ('2215', 1), ('2220', 2), ('2221', 1), ('2232', 1), ('2233', 1), ('2245', 1), ('2249', 2), ('2250', 1), ('2255', 1), ('2261', 1), ('2262', 2), ('2267', 1), ('2268', 2), ('2273', 1), ('2276', 1), ('2277', 1), ('2285', 2), ('2286', 1), ('2287', 1), ('2297', 1), ('2300', 3), ('2303', 1), ('2304', 2), ('2306', 1), ('2308', 2), ('2309', 2), ('2310', 4), ('2317', 1), ('2318', 3), ('2319', 1), ('2321', 1), ('2322', 2), ('2325', 1), ('2326', 2), ('2329', 1), ('2339', 2), ('2343', 1), ('2357', 1), ('2367', 2), ('2368', 2), ('2370', 2), ('2371', 2), ('2377', 1), ('2378', 3), ('2379', 1), ('2383', 3), ('2387', 1), ('2389', 1), ('2390', 4), ('2396', 1), ('2402', 1), ('2406', 2), ('2423', 1), ('2426', 1), ('2447', 1), ('2453', 2), ('2478', 1), ('2479', 2), ('2481', 1), ('2485', 5), ('2486', 2), ('2490', 1), ('2494', 3), ('2496', 1), ('2501', 2), ('2502', 1), ('2503', 1), ('2504', 1), ('2516', 1), ('2517', 1), ('2519', 2), ('2522', 2), ('2527', 1), ('2535', 7), ('2536', 1), ('2538', 3), ('2541', 1), ('2547', 2), ('2553', 1), ('2555', 1), ('2560', 2), ('2569', 2), ('2573', 1), ('2580', 4), ('2589', 1), ('2592', 1), ('2593', 3), ('2598', 2), ('2620', 1), ('2621', 1), ('2622', 3), ('2624', 3), ('2625', 1), ('2631', 1), ('2634', 1), ('2643', 1), ('2645', 1), ('2646', 1), ('2663', 1), ('2667', 1), ('2674', 2), ('2675', 1), ('2687', 1), ('2710', 1), ('2715', 1), ('2718', 1), ('2727', 1), ('2735', 1), ('2739', 2), ('2742', 1), ('2751', 2), ('2753', 1), ('2755', 1), ('2771', 1), ('2776', 2), ('2785', 2), ('2802', 1), ('2812', 5), ('2813', 2), ('2818', 1), ('2820', 2), ('2823', 3), ('2825', 1), ('2828', 1), ('2829', 1), ('2841', 1), ('2847', 1), ('2849', 2), ('2852', 5), ('2856', 1), ('2859', 1), ('2861', 1), ('2869', 1), ('2870', 1), ('2871', 1), ('2872', 1), ('2875', 1), ('2878', 2), ('2879', 1), ('2881', 2), ('2893', 3), ('2894', 3), ('2899', 5), ('2902', 1), ('2913', 1), ('2918', 1), ('2919', 2), ('2924', 2), ('2930', 3), ('2935', 1), ('2947', 1), ('2948', 2), ('2949', 4), ('2951', 1), ('2959', 1), ('2962', 2), ('2966', 1), ('2967', 2), ('2969', 4), ('2971', 1), ('2973', 1), ('2977', 2), ('2984', 1), ('2985', 4), ('2988', 2), ('2996', 1), ('2999', 2), ('3003', 2), ('3010', 3), ('3012', 1), ('3019', 1), ('3022', 2), ('3024', 3), ('3026', 2), ('3027', 1), ('3028', 2), ('3029', 1), ('3032', 2), ('3036', 2), ('3038', 1), ('3046', 1), ('3049', 1), ('3050', 4), ('3052', 1), ('3066', 1), ('3068', 1), ('3070', 2), ('3072', 2), ('3076', 1), ('3077', 1), ('3078', 4), ('3088', 1), ('3090', 1), ('3091', 2), ('3097', 1), ('3098', 1), ('3107', 1), ('3112', 1), ('3116', 1), ('3117', 5), ('3122', 1), ('3123', 1), ('3129', 1), ('3130', 6), ('3136', 4), ('3140', 1), ('3142', 1), ('3150', 1), ('3153', 1), ('3154', 1), ('3160', 4), ('3161', 1), ('3165', 1), ('3173', 1), ('3176', 1), ('3182', 1), ('3192', 1), ('3193', 1), ('3195', 1), ('3197', 1), ('3200', 1), ('3202', 2), ('3204', 2)]]\n",
      "sample tf index for examples: [[('111', 1), ('320', 1), ('644', 1), ('691', 1), ('727', 1), ('848', 1), ('892', 1), ('893', 1), ('1049', 1), ('1051', 1), ('1154', 1), ('1188', 1), ('1196', 1), ('1259', 1), ('1267', 1), ('1288', 1), ('1348', 1), ('1358', 1), ('1369', 1), ('1386', 1), ('1392', 1), ('1456', 1), ('1470', 1), ('1485', 1), ('1505', 1), ('1524', 1), ('1588', 1), ('1614', 1), ('1624', 1), ('1651', 1), ('1673', 1), ('1681', 1), ('1739', 1), ('1743', 1), ('1747', 1), ('1787', 1), ('1806', 1), ('1827', 1), ('1834', 1), ('1854', 1), ('1855', 1), ('1856', 1), ('1860', 1), ('1890', 1), ('1929', 1), ('1977', 1), ('1989', 1), ('2060', 1), ('2092', 1), ('2094', 1), ('2113', 1), ('2125', 1), ('2152', 1), ('2202', 1), ('2204', 1), ('2208', 1), ('2254', 1), ('2338', 1), ('2356', 2), ('2367', 1), ('2396', 2), ('2436', 1), ('2457', 1), ('2514', 1), ('2544', 1), ('2546', 1), ('2597', 1), ('2604', 1), ('2645', 1), ('2646', 1), ('2701', 1), ('2720', 1), ('2722', 2), ('2738', 1), ('2749', 1), ('2816', 1), ('2829', 1), ('2851', 1), ('2864', 1), ('2866', 1), ('2876', 1), ('2907', 1), ('2913', 1), ('2914', 1), ('2922', 1), ('2931', 1), ('2932', 1), ('2939', 1), ('2946', 1), ('2958', 1), ('2959', 1), ('2980', 1), ('2987', 1), ('3004', 1), ('3006', 1), ('3014', 1), ('3043', 1), ('3071', 1), ('3080', 2), ('3087', 2), ('3088', 1), ('3100', 2), ('3101', 1), ('3115', 1), ('3120', 1), ('3121', 1), ('3128', 1), ('3134', 1), ('3163', 1), ('3175', 1)]]\n"
     ]
    }
   ],
   "source": [
    "##### Function check\n",
    "\n",
    "assert isinstance(tf_index_1, dict)\n",
    "\n",
    "assert isinstance(tf_index_1['computer'], list)\n",
    "print('sample tf index for computer:', tf_index_1['computer'][:10])\n",
    "\n",
    "assert isinstance(tf_index_1['examples'], list)\n",
    "print('sample tf index for examples:', tf_index_1['examples'][:10])\n",
    "#### "
   ]
  },
  {
   "cell_type": "code",
   "execution_count": 22,
   "metadata": {
    "deletable": false,
    "editable": false,
    "nbgrader": {
     "cell_type": "code",
     "checksum": "d49b8ac36815d9a5cb4bed838ab53a50",
     "grade": true,
     "grade_id": "cell-ff06bd11204db250",
     "locked": true,
     "points": 5,
     "schema_version": 3,
     "solution": false,
     "task": false
    }
   },
   "outputs": [
    {
     "name": "stdout",
     "output_type": "stream",
     "text": [
      "sample tf index for computer: [[('4', 1), ('7', 1), ('10', 1), ('13', 1), ('19', 1), ('22', 1), ('23', 1), ('37', 1), ('40', 3), ('41', 1), ('44', 1), ('48', 1), ('57', 1), ('58', 2), ('63', 2), ('68', 1), ('71', 3), ('80', 1), ('82', 1), ('90', 1), ('92', 1), ('93', 3), ('95', 1), ('96', 2), ('104', 1), ('106', 2), ('123', 1), ('124', 1), ('143', 1), ('144', 1), ('146', 1), ('173', 1), ('175', 1), ('185', 1), ('188', 1), ('192', 1), ('202', 1), ('217', 1), ('218', 1), ('236', 2), ('237', 1), ('242', 1), ('251', 1), ('252', 2), ('254', 1), ('274', 1), ('276', 1), ('278', 3), ('282', 1), ('300', 1), ('303', 1), ('320', 1), ('322', 4), ('323', 1), ('331', 1), ('361', 1), ('409', 1), ('417', 5), ('436', 1), ('439', 1), ('461', 1), ('462', 1), ('464', 2), ('482', 1), ('488', 1), ('489', 1), ('491', 1), ('495', 2), ('496', 1), ('525', 1), ('530', 1), ('531', 1), ('557', 1), ('558', 2), ('561', 1), ('585', 1), ('595', 2), ('605', 1), ('617', 1), ('619', 1), ('644', 2), ('671', 1), ('675', 1), ('678', 6), ('681', 1), ('695', 2), ('698', 3), ('725', 1), ('726', 1), ('728', 3), ('756', 1), ('758', 2), ('794', 1), ('796', 3), ('799', 1), ('824', 1), ('825', 1), ('828', 1), ('829', 1), ('851', 1), ('854', 1), ('858', 1), ('859', 1), ('860', 1), ('865', 1), ('893', 1), ('931', 1), ('940', 3), ('962', 2), ('963', 2), ('964', 1), ('971', 1), ('972', 2), ('974', 1), ('997', 1), ('998', 1), ('1000', 1), ('1001', 3), ('1002', 1), ('1003', 5), ('1008', 2), ('1009', 1), ('1010', 1), ('1013', 1), ('1014', 2), ('1026', 1), ('1030', 4), ('1033', 1), ('1046', 1), ('1051', 1), ('1066', 5), ('1071', 4), ('1073', 1), ('1083', 2), ('1088', 2), ('1089', 1), ('1098', 2), ('1099', 3), ('1100', 1), ('1101', 1), ('1103', 1), ('1108', 2), ('1112', 1), ('1113', 2), ('1114', 1), ('1116', 2), ('1134', 1), ('1144', 3), ('1145', 1), ('1155', 1), ('1159', 2), ('1160', 1), ('1166', 1), ('1169', 2), ('1172', 5), ('1179', 1), ('1181', 1), ('1183', 2), ('1184', 1), ('1188', 5), ('1195', 1), ('1196', 2), ('1197', 1), ('1199', 2), ('1200', 1), ('1205', 1), ('1206', 1), ('1208', 1), ('1214', 2), ('1235', 1), ('1237', 1), ('1247', 2), ('1248', 1), ('1252', 1), ('1257', 1), ('1259', 1), ('1260', 2), ('1261', 1), ('1265', 1), ('1270', 2), ('1272', 2), ('1281', 3), ('1305', 2), ('1306', 3), ('1307', 2), ('1308', 1), ('1309', 2), ('1315', 2), ('1323', 1), ('1324', 1), ('1325', 3), ('1326', 2), ('1327', 3), ('1329', 1), ('1330', 1), ('1334', 1), ('1341', 2), ('1345', 1), ('1347', 1), ('1348', 1), ('1354', 2), ('1365', 1), ('1366', 6), ('1368', 1), ('1382', 1), ('1383', 2), ('1384', 3), ('1385', 5), ('1388', 1), ('1391', 1), ('1394', 2), ('1409', 4), ('1412', 1), ('1427', 2), ('1428', 2), ('1429', 1), ('1433', 2), ('1435', 2), ('1445', 3), ('1453', 1), ('1454', 2), ('1468', 1), ('1471', 1), ('1473', 1), ('1482', 1), ('1484', 1), ('1487', 2), ('1496', 2), ('1503', 3), ('1506', 2), ('1515', 1), ('1516', 1), ('1517', 2), ('1518', 1), ('1525', 2), ('1526', 1), ('1528', 1), ('1533', 1), ('1542', 1), ('1543', 7), ('1545', 1), ('1550', 1), ('1551', 1), ('1553', 1), ('1554', 2), ('1566', 1), ('1571', 1), ('1590', 2), ('1591', 2), ('1592', 1), ('1595', 2), ('1602', 3), ('1605', 1), ('1608', 1), ('1609', 1), ('1610', 1), ('1615', 1), ('1616', 1), ('1621', 2), ('1627', 1), ('1628', 1), ('1630', 1), ('1631', 1), ('1641', 1), ('1642', 2), ('1652', 2), ('1654', 5), ('1658', 1), ('1659', 2), ('1664', 2), ('1670', 1), ('1671', 1), ('1677', 1), ('1678', 2), ('1680', 4), ('1682', 1), ('1686', 3), ('1691', 1), ('1697', 2), ('1698', 1), ('1700', 2), ('1703', 1), ('1711', 1), ('1720', 1), ('1723', 1), ('1726', 1), ('1735', 4), ('1741', 3), ('1742', 3), ('1745', 1), ('1747', 2), ('1750', 1), ('1751', 1), ('1754', 2), ('1764', 3), ('1769', 2), ('1771', 9), ('1792', 1), ('1805', 1), ('1808', 1), ('1809', 3), ('1826', 1), ('1829', 2), ('1834', 3), ('1843', 2), ('1844', 4), ('1845', 2), ('1846', 2), ('1854', 1), ('1868', 1), ('1870', 1), ('1885', 2), ('1889', 1), ('1890', 2), ('1891', 2), ('1892', 1), ('1901', 2), ('1902', 1), ('1905', 1), ('1906', 1), ('1908', 3), ('1912', 1), ('1916', 1), ('1926', 1), ('1927', 2), ('1929', 2), ('1933', 1), ('1936', 1), ('1939', 2), ('1945', 1), ('1946', 1), ('1949', 1), ('1951', 4), ('1962', 2), ('1976', 1), ('1978', 1), ('1997', 1), ('2003', 4), ('2004', 4), ('2016', 1), ('2020', 1), ('2034', 1), ('2036', 1), ('2053', 1), ('2054', 4), ('2062', 4), ('2065', 1), ('2078', 1), ('2079', 1), ('2091', 1), ('2095', 2), ('2096', 2), ('2105', 5), ('2106', 2), ('2113', 1), ('2130', 1), ('2144', 1), ('2147', 1), ('2151', 1), ('2152', 1), ('2153', 2), ('2163', 1), ('2180', 2), ('2181', 6), ('2186', 1), ('2187', 4), ('2188', 2), ('2189', 1), ('2194', 2), ('2196', 5), ('2197', 2), ('2201', 2), ('2209', 2), ('2211', 3), ('2215', 1), ('2220', 2), ('2221', 1), ('2232', 1), ('2233', 1), ('2245', 1), ('2249', 2), ('2250', 1), ('2255', 1), ('2261', 1), ('2262', 2), ('2267', 1), ('2268', 2), ('2273', 1), ('2276', 1), ('2277', 1), ('2285', 2), ('2286', 1), ('2287', 1), ('2297', 1), ('2300', 3), ('2303', 1), ('2304', 2), ('2306', 1), ('2308', 2), ('2309', 2), ('2310', 4), ('2317', 1), ('2318', 3), ('2319', 1), ('2321', 1), ('2322', 2), ('2325', 1), ('2326', 2), ('2329', 1), ('2339', 2), ('2343', 1), ('2357', 1), ('2367', 2), ('2368', 2), ('2370', 2), ('2371', 2), ('2377', 1), ('2378', 3), ('2379', 1), ('2383', 3), ('2387', 1), ('2389', 1), ('2390', 4), ('2396', 1), ('2402', 1), ('2406', 2), ('2423', 1), ('2426', 1), ('2447', 1), ('2453', 2), ('2478', 1), ('2479', 2), ('2481', 1), ('2485', 5), ('2486', 2), ('2490', 1), ('2494', 3), ('2496', 1), ('2501', 2), ('2502', 1), ('2503', 1), ('2504', 1), ('2516', 1), ('2517', 1), ('2519', 2), ('2522', 2), ('2527', 1), ('2535', 7), ('2536', 1), ('2538', 3), ('2541', 1), ('2547', 2), ('2553', 1), ('2555', 1), ('2560', 2), ('2569', 2), ('2573', 1), ('2580', 4), ('2589', 1), ('2592', 1), ('2593', 3), ('2598', 2), ('2620', 1), ('2621', 1), ('2622', 3), ('2624', 3), ('2625', 1), ('2631', 1), ('2634', 1), ('2643', 1), ('2645', 1), ('2646', 1), ('2663', 1), ('2667', 1), ('2674', 2), ('2675', 1), ('2687', 1), ('2710', 1), ('2715', 1), ('2718', 1), ('2727', 1), ('2735', 1), ('2739', 2), ('2742', 1), ('2751', 2), ('2753', 1), ('2755', 1), ('2771', 1), ('2776', 2), ('2785', 2), ('2802', 1), ('2812', 5), ('2813', 2), ('2818', 1), ('2820', 2), ('2823', 3), ('2825', 1), ('2828', 1), ('2829', 1), ('2841', 1), ('2847', 1), ('2849', 2), ('2852', 5), ('2856', 1), ('2859', 1), ('2861', 1), ('2869', 1), ('2870', 1), ('2871', 1), ('2872', 1), ('2875', 1), ('2878', 2), ('2879', 1), ('2881', 2), ('2893', 3), ('2894', 3), ('2899', 5), ('2902', 1), ('2913', 1), ('2918', 1), ('2919', 2), ('2924', 2), ('2930', 3), ('2935', 1), ('2947', 1), ('2948', 2), ('2949', 4), ('2951', 1), ('2959', 1), ('2962', 2), ('2966', 1), ('2967', 2), ('2969', 4), ('2971', 1), ('2973', 1), ('2977', 2), ('2984', 1), ('2985', 4), ('2988', 2), ('2996', 1), ('2999', 2), ('3003', 2), ('3010', 3), ('3012', 1), ('3019', 1), ('3022', 2), ('3024', 3), ('3026', 2), ('3027', 1), ('3028', 2), ('3029', 1), ('3032', 2), ('3036', 2), ('3038', 1), ('3046', 1), ('3049', 1), ('3050', 4), ('3052', 1), ('3066', 1), ('3068', 1), ('3070', 2), ('3072', 2), ('3076', 1), ('3077', 1), ('3078', 4), ('3088', 1), ('3090', 1), ('3091', 2), ('3097', 1), ('3098', 1), ('3107', 1), ('3112', 1), ('3116', 1), ('3117', 5), ('3122', 1), ('3123', 1), ('3129', 1), ('3130', 6), ('3136', 4), ('3140', 1), ('3142', 1), ('3150', 1), ('3153', 1), ('3154', 1), ('3160', 4), ('3161', 1), ('3165', 1), ('3173', 1), ('3176', 1), ('3182', 1), ('3192', 1), ('3193', 1), ('3195', 1), ('3197', 1), ('3200', 1), ('3202', 2), ('3204', 2)]]\n",
      "sample tf index for examples: []\n"
     ]
    }
   ],
   "source": [
    "##### Function check\n",
    "\n",
    "assert isinstance(tf_index_2, dict)\n",
    "\n",
    "assert isinstance(tf_index_2['computer'], list)\n",
    "print('sample tf index for computer:', tf_index_1['computer'][:10])\n",
    "\n",
    "assert isinstance(tf_index_2['examples'], list)\n",
    "print('sample tf index for examples:', tf_index_2['examples'][:10])\n",
    "#### "
   ]
  },
  {
   "cell_type": "markdown",
   "metadata": {
    "deletable": false,
    "editable": false,
    "nbgrader": {
     "cell_type": "markdown",
     "checksum": "880b2ef3ca405f2af6e0667d2dc7a600",
     "grade": false,
     "grade_id": "cell-89eba71f04310291",
     "locked": true,
     "schema_version": 3,
     "solution": false,
     "task": false
    }
   },
   "source": [
    "\n",
    "---\n",
    "## Section 3: Ranking  (80 points) <a class=\"anchor\" id=\"ranking\"></a>\n",
    "\n",
    "[Back to Part 1](#part1)\n",
    "\n",
    "Now that we have cleaned and processed our dataset, we can start building simple IR systems. \n",
    "\n",
    "For now, we consider *simple* IR systems, which involve computing scores from the tokens present in the document/query. More advanced methods are covered in later assignments.\n",
    "\n",
    "We will implement the following methods in this section:\n",
    "- [Section 3.1: Bag of Words](#bow) (10 points)\n",
    "- [Section 3.2: TF-IDF](#tfidf) (15 points)\n",
    "- [Section 3.3: Query Likelihood Model](#qlm) (35 points)\n",
    "- [Section 3.4: BM25](#bm25) (20 points)\n",
    "\n",
    "*All search functions should be able to handle multiple words queries.*\n",
    "\n",
    "**Scoring policy:**\n",
    "Your implementations in this section are scored based on the expected performance of your ranking functions.\n",
    "You will get a full mark if your implementation meets the expected performance (measured by some evaluation metric).\n",
    "Otherwise, you may get partial credit.\n",
    "For example, if your *Bag of words* ranking function has 60% of expected performance, you will get 6 out of 10."
   ]
  },
  {
   "cell_type": "markdown",
   "metadata": {
    "deletable": false,
    "editable": false,
    "nbgrader": {
     "cell_type": "markdown",
     "checksum": "6c74e5061917358300c6e8085ec07864",
     "grade": false,
     "grade_id": "cell-3daf70a60e393adf",
     "locked": true,
     "schema_version": 3,
     "solution": false,
     "task": false
    }
   },
   "source": [
    "--- \n",
    "\n",
    "### Section 3.1: Bag of Words (10 points)<a class=\"anchor\" id=\"bow\"></a>\n",
    "\n",
    "Probably the simplest IR model is the Bag of Words (BOW) model.\n",
    "Implement a function that scores and ranks all the documents against a query using this model.   \n",
    "\n",
    "- For consistency, you should use the count of the token and **not** the binary indicator.\n",
    "- Use `float` type for the scores (even though the scores are integers in this case).\n",
    "- No normalization of the scores is necessary, as the ordering is what we are interested in.\n",
    "- If two documents have the same score, they can have any ordering: you are not required to disambiguate.\n"
   ]
  },
  {
   "cell_type": "code",
   "execution_count": 23,
   "metadata": {
    "deletable": false,
    "nbgrader": {
     "cell_type": "code",
     "checksum": "fee4640e22bfc4f05eb958a675ef40e7",
     "grade": false,
     "grade_id": "cell-de9cf0459c4b9324",
     "locked": false,
     "schema_version": 3,
     "solution": true,
     "task": false
    }
   },
   "outputs": [],
   "source": [
    "# TODO: Implement this! (10 points)\n",
    "def bow_search(query, index_set):\n",
    "    \"\"\"\n",
    "        Perform a search over all documents with the given query. \n",
    "        Note: You have to use the `get_index` function created in the previous cells\n",
    "        Input: \n",
    "            query - a (unprocessed) query\n",
    "            index_set - the index to use\n",
    "        Output: a list of (document_id, score), sorted in descending relevance to the given query. \n",
    "    \"\"\"\n",
    "    index = get_index(index_set)\n",
    "    processed_query = preprocess_query(query, index_set)\n",
    "        \n",
    "    # YOUR CODE HERE\n",
    "\n",
    "    # one list with all the tuples\n",
    "    total = [index[word] for word in processed_query]\n",
    "    all_tuples = [tup for word in total for tuples in word for tup in tuples]\n",
    "    \n",
    "    score = dict()\n",
    "    \n",
    "    for tup in all_tuples:\n",
    "        if tup[0] not in score:\n",
    "            # {doc_id: score} \n",
    "            score[tup[0]] = float(tup[1])\n",
    "        else:\n",
    "            # update the score\n",
    "            score[tup[0]] += float(tup[1])\n",
    "\n",
    "    return sorted(score.items(), key=lambda s: s[1], reverse=True)\n"
   ]
  },
  {
   "cell_type": "code",
   "execution_count": 24,
   "metadata": {
    "deletable": false,
    "editable": false,
    "nbgrader": {
     "cell_type": "code",
     "checksum": "613524fbbf02b1d122c6611a71fbf11b",
     "grade": true,
     "grade_id": "cell-9f6aceae6dd9125f",
     "locked": true,
     "points": 2,
     "schema_version": 3,
     "solution": false,
     "task": false
    }
   },
   "outputs": [],
   "source": [
    "#### Function check\n",
    "\n",
    "test_bow = bow_search(\"how to implement bag of words search\", index_set=1)[:5]\n",
    "assert isinstance(test_bow, list)\n",
    "assert len(test_bow[0]) == 2\n",
    "assert isinstance(test_bow[0][0], str)\n",
    "assert isinstance(test_bow[0][1], float)\n",
    "\n",
    "#### "
   ]
  },
  {
   "cell_type": "code",
   "execution_count": 25,
   "metadata": {
    "deletable": false,
    "editable": false,
    "nbgrader": {
     "cell_type": "code",
     "checksum": "9af20897659edb62fe77598483590500",
     "grade": true,
     "grade_id": "cell-4eed3abf233d9b58",
     "locked": true,
     "points": 2,
     "schema_version": 3,
     "solution": false,
     "task": false
    }
   },
   "outputs": [
    {
     "name": "stdout",
     "output_type": "stream",
     "text": [
      "BOW Results:\n",
      "Rank 0(1.3e+01): On Computing The Fast Fourier Transform\\nCooley an...\n",
      "Rank 1(1.2e+01): Variable Length Tree Structures Having Minimum Ave...\n",
      "Rank 2(1.1e+01): A Modular Computer Sharing System\\nAn alternative ...\n",
      "Rank 3(1e+01): PEEKABIT, Computer Offspring of Punched\\nCard PEEK...\n",
      "Rank 4(9.0): Computer Simulation-Discussion of the\\nTechnique a...\n"
     ]
    }
   ],
   "source": [
    "\n",
    "docs_by_id = dict(docs)\n",
    "def print_results(docs, len_limit=50):    \n",
    "    for i, (doc_id, score) in enumerate(docs):\n",
    "        doc_content = docs_by_id[doc_id].strip().replace(\"\\n\", \"\\\\n\")[:len_limit] + \"...\"\n",
    "        print(f\"Rank {i}({score:.2}): {doc_content}\")\n",
    "\n",
    "test_bow_2 = bow_search(\"computer search word\", index_set=2)[:5]\n",
    "print(f\"BOW Results:\")\n",
    "print_results(test_bow_2)\n"
   ]
  },
  {
   "cell_type": "code",
   "execution_count": 26,
   "metadata": {
    "deletable": false,
    "editable": false,
    "nbgrader": {
     "cell_type": "code",
     "checksum": "3c9c8b16c8e7d1032f101e9da8a6e845",
     "grade": true,
     "grade_id": "cell-4d65a2d7090c466c",
     "locked": true,
     "points": 3,
     "schema_version": 3,
     "solution": false,
     "task": false
    }
   },
   "outputs": [
    {
     "name": "stdout",
     "output_type": "stream",
     "text": [
      "BOW Results:\n",
      "Rank 0(9.0): CURRICULUM 68 -- Recommendations for Academic\\nPro...\n",
      "Rank 1(9.0): Variable Length Tree Structures Having Minimum Ave...\n",
      "Rank 2(7.0): Computer Formulation of the Equations of Motion Us...\n",
      "Rank 3(7.0): The Effects of Multiplexing on a Computer-Communic...\n",
      "Rank 4(6.0): Optimizing Bit-time Computer Simulation\\nA major c...\n"
     ]
    }
   ],
   "source": [
    "\n",
    "test_bow_1 = bow_search(\"computer search word\", index_set=1)[:5]\n",
    "print(f\"BOW Results:\")\n",
    "print_results(test_bow_1)\n"
   ]
  },
  {
   "cell_type": "code",
   "execution_count": 27,
   "metadata": {
    "deletable": false,
    "editable": false,
    "nbgrader": {
     "cell_type": "code",
     "checksum": "b7e593847aa4202ae45ec061fb18ad73",
     "grade": true,
     "grade_id": "cell-dedf36ab5853ce20",
     "locked": true,
     "points": 3,
     "schema_version": 3,
     "solution": false,
     "task": false
    }
   },
   "outputs": [
    {
     "name": "stdout",
     "output_type": "stream",
     "text": [
      "top-5 docs for index1: ('1771', '1936', '1543', '2535', '678')\n",
      "top-5 docs for index2: ('1525', '1936', '1844', '1700', '1366')\n"
     ]
    }
   ],
   "source": [
    "print('top-5 docs for index1:', list(zip(*test_bow_1[:5]))[0])\n",
    "print('top-5 docs for index2:', list(zip(*test_bow_2[:5]))[0])\n"
   ]
  },
  {
   "cell_type": "markdown",
   "metadata": {
    "deletable": false,
    "editable": false,
    "nbgrader": {
     "cell_type": "markdown",
     "checksum": "b04352ee0716dfdf094b8cdb6f32e984",
     "grade": false,
     "grade_id": "cell-a5c09c79ac1f2871",
     "locked": true,
     "schema_version": 3,
     "solution": false,
     "task": false
    }
   },
   "source": [
    "\n",
    "---\n",
    "\n",
    "### Section 3.2: TF-IDF (15 points) <a class=\"anchor\" id=\"tfidf\"></a>\n",
    "\n",
    "Before we implement the tf-idf scoring functions, let's first write a function to compute the document frequencies of all words.  \n",
    "\n",
    "#### 3.2.1 Document frequency (5 points)\n",
    "Compute the document frequencies of all tokens in the collection. \n",
    "Your code should return a dictionary with tokens as its keys and the number of documents containing the token as values.\n",
    "For consistency, the values should have `int` type."
   ]
  },
  {
   "cell_type": "code",
   "execution_count": 28,
   "metadata": {
    "deletable": false,
    "nbgrader": {
     "cell_type": "code",
     "checksum": "5c53263cf4c0b0ffcaae08b91fc364cc",
     "grade": false,
     "grade_id": "cell-9a2369f32e864b8a",
     "locked": false,
     "schema_version": 3,
     "solution": true,
     "task": false
    }
   },
   "outputs": [],
   "source": [
    "# TODO: Implement this! (5 points)\n",
    "def compute_df(documents):\n",
    "    \"\"\"\n",
    "        Compute the document frequency of all terms in the vocabulary\n",
    "        Input: A list of documents\n",
    "        Output: A dictionary with {token: document frequency (int)}\n",
    "    \"\"\"\n",
    "    # YOUR CODE HERE\n",
    "    \n",
    "    df = defaultdict(int)\n",
    "    \n",
    "    for document in documents:\n",
    "        # deal with duplicates\n",
    "        for word in set(document):\n",
    "            if word not in df:\n",
    "                df[word] = 1\n",
    "            else:\n",
    "                df[word] += 1\n",
    "                \n",
    "    return df\n"
   ]
  },
  {
   "cell_type": "code",
   "execution_count": 29,
   "metadata": {
    "deletable": false,
    "editable": false,
    "nbgrader": {
     "cell_type": "code",
     "checksum": "154985511d7925c5793a1f97dea81880",
     "grade": false,
     "grade_id": "cell-4c3bddd0b73ac90e",
     "locked": true,
     "schema_version": 3,
     "solution": false,
     "task": false
    }
   },
   "outputs": [],
   "source": [
    "#### Compute df based on the two configs\n",
    "\n",
    "# get the document frequencies of each document\n",
    "df_1 = compute_df([d[1] for d in doc_repr_1])\n",
    "df_2 = compute_df([d[1] for d in doc_repr_2])\n",
    "\n",
    "def get_df(index_set):\n",
    "    assert index_set in {1, 2}\n",
    "    return {\n",
    "        1: df_1,\n",
    "        2: df_2\n",
    "    }[index_set]\n",
    "####"
   ]
  },
  {
   "cell_type": "code",
   "execution_count": 30,
   "metadata": {
    "deletable": false,
    "editable": false,
    "nbgrader": {
     "cell_type": "code",
     "checksum": "110cc180068cf3f77c682ee3de2a117c",
     "grade": true,
     "grade_id": "cell-79e8a6db1e5fc46f",
     "locked": true,
     "points": 5,
     "schema_version": 3,
     "solution": false,
     "task": false
    }
   },
   "outputs": [
    {
     "name": "stdout",
     "output_type": "stream",
     "text": [
      "597\n",
      "11\n"
     ]
    }
   ],
   "source": [
    "#### Function check\n",
    "\n",
    "print(df_1['computer'])\n",
    "print(df_2['computer'])\n",
    "####"
   ]
  },
  {
   "cell_type": "markdown",
   "metadata": {
    "deletable": false,
    "editable": false,
    "nbgrader": {
     "cell_type": "markdown",
     "checksum": "d0d577668fa51b80aeab6e67209ae73b",
     "grade": false,
     "grade_id": "cell-52f6acc487e1b96d",
     "locked": true,
     "schema_version": 3,
     "solution": false,
     "task": false
    }
   },
   "source": [
    "---\n",
    "#### 3.2.2 TF-IDF search (10 points)\n",
    "Next, implement a function that computes a tf-idf score, given a query.\n",
    "Use the following formulas for TF and IDF:\n",
    "\n",
    "$$ TF=\\log (1 + f_{d,t}) $$\n",
    "\n",
    "$$ IDF=\\log (\\frac{N}{n_t})$$\n",
    "\n",
    "where $f_{d,t}$ is the frequency of token $t$ in document $d$, $N$ is the number of total documents and $n_t$ is the number of documents containing token $t$.\n",
    "\n",
    "**Note:** your implementation will be auto-graded assuming you have used the above formulas.\n"
   ]
  },
  {
   "cell_type": "code",
   "execution_count": 31,
   "metadata": {
    "deletable": false,
    "nbgrader": {
     "cell_type": "code",
     "checksum": "3534c44b4a3419ca1db98eebe7115dc1",
     "grade": false,
     "grade_id": "cell-2fb5ba34b2994cd9",
     "locked": false,
     "schema_version": 3,
     "solution": true,
     "task": false
    }
   },
   "outputs": [],
   "source": [
    "# TODO: Implement this! (10 points)\n",
    "def tfidf_search(query, index_set):\n",
    "    \"\"\"\n",
    "        Perform a search over all documents with the given query using tf-idf. \n",
    "        Note #1: You have to use the `get_index` (and the `get_df`) function created in the previous cells\n",
    "        Input: \n",
    "            query - a (unprocessed) query\n",
    "            index_set - the index to use\n",
    "        Output: a list of (document_id, score), sorted in descending relevance to the given query \n",
    "    \"\"\"\n",
    "    index = get_index(index_set)\n",
    "    df = get_df(index_set)\n",
    "    processed_query = preprocess_query(query, index_set)\n",
    "    \n",
    "    N = len(docs)\n",
    "    \n",
    "    # YOUR CODE HERE\n",
    "    \n",
    "    def tf_idf(tf, df, N):\n",
    "        \"\"\"\n",
    "            Returns a list with doc_ids and tf-idfs per word as a tuple\n",
    "        \"\"\"\n",
    "        try:\n",
    "            tf_idf = [(tup[0], np.log(1 + tup[1]) * np.log(N/df)) for tup in tf[0]]\n",
    "        except:\n",
    "            # the function cannot handle empty lists\n",
    "            tf_idf = []\n",
    "\n",
    "        return tf_idf\n",
    " \n",
    "    # a list with lists containing tuples (doc_id, tf_idf)\n",
    "    score_temp = [tf_idf(index[word], df[word], N) for word in processed_query]\n",
    "  \n",
    "    # ensure that the final list is N long\n",
    "    score = {doc[0]:float(0) for doc in docs}\n",
    "    \n",
    "    for tup_list in score_temp:\n",
    "        for tup in tup_list:\n",
    "            if tup[0] in score:\n",
    "                # this is basically the sum part for the score\n",
    "                score[tup[0]] += tup[1]\n",
    "    \n",
    "    return sorted(score.items(), key=lambda s: s[1], reverse=True)"
   ]
  },
  {
   "cell_type": "code",
   "execution_count": 32,
   "metadata": {
    "deletable": false,
    "editable": false,
    "nbgrader": {
     "cell_type": "code",
     "checksum": "7b66a514663d898694b09a23a597312b",
     "grade": true,
     "grade_id": "cell-bc68aeeacf42beb3",
     "locked": true,
     "points": 2,
     "schema_version": 3,
     "solution": false,
     "task": false
    }
   },
   "outputs": [],
   "source": [
    "\n",
    "#### Function check\n",
    "test_tfidf = tfidf_search(\"how to implement tf idf search\", index_set=1)[:5]\n",
    "assert isinstance(test_tfidf, list)\n",
    "assert len(test_tfidf[0]) == 2\n",
    "assert isinstance(test_tfidf[0][0], str)\n",
    "assert isinstance(test_tfidf[0][1], float)\n",
    "\n",
    "####"
   ]
  },
  {
   "cell_type": "code",
   "execution_count": 33,
   "metadata": {
    "deletable": false,
    "editable": false,
    "nbgrader": {
     "cell_type": "code",
     "checksum": "98fb1326cf4bf7983ae237ca8a9105f9",
     "grade": true,
     "grade_id": "cell-c7702fa8179fadb9",
     "locked": true,
     "points": 2,
     "schema_version": 3,
     "solution": false,
     "task": false
    }
   },
   "outputs": [
    {
     "name": "stdout",
     "output_type": "stream",
     "text": [
      "TFIDF Results:\n",
      "Rank 0(1.3e+01): PEEKABIT, Computer Offspring of Punched\\nCard PEEK...\n",
      "Rank 1(9.8): Variable Length Tree Structures Having Minimum Ave...\n",
      "Rank 2(8.2): A Stochastic Approach to the Grammatical Coding of...\n",
      "Rank 3(8.1): Full Table Quadratic Searching for Scatter Storage...\n",
      "Rank 4(7.6): Use of Tree Structures for Processing Files\\nIn da...\n"
     ]
    }
   ],
   "source": [
    "\n",
    "test_tfidf_2 = tfidf_search(\"computer word search\", index_set=2)[:5]\n",
    "print(f\"TFIDF Results:\")\n",
    "print_results(test_tfidf_2)\n"
   ]
  },
  {
   "cell_type": "code",
   "execution_count": 34,
   "metadata": {
    "deletable": false,
    "editable": false,
    "nbgrader": {
     "cell_type": "code",
     "checksum": "733b5b67be5e53989f5b763ce5e52ee9",
     "grade": true,
     "grade_id": "cell-3284f50ac29abbaa",
     "locked": true,
     "points": 3,
     "schema_version": 3,
     "solution": false,
     "task": false
    }
   },
   "outputs": [
    {
     "name": "stdout",
     "output_type": "stream",
     "text": [
      "TFIDF Results:\n",
      "Rank 0(9.4): Variable Length Tree Structures Having Minimum Ave...\n",
      "Rank 1(7.4): On the Feasibility of Voice Input to\\nan On-line C...\n",
      "Rank 2(7.3): Median Split Trees: A Fast Lookup Technique for Fr...\n",
      "Rank 3(7.0): Execution Time Requirements for Encipherment Progr...\n",
      "Rank 4(7.0): Storage and Search Properties of a Tree-Organized ...\n"
     ]
    }
   ],
   "source": [
    "\n",
    "test_tfidf_1 = tfidf_search(\"computer word search\", index_set=1)[:5]\n",
    "print(f\"TFIDF Results:\")\n",
    "print_results(test_tfidf_1)\n"
   ]
  },
  {
   "cell_type": "code",
   "execution_count": 35,
   "metadata": {
    "deletable": false,
    "editable": false,
    "nbgrader": {
     "cell_type": "code",
     "checksum": "e0edb37a5ae807a2de85d578c87ccb78",
     "grade": true,
     "grade_id": "cell-d908c80a3155354b",
     "locked": true,
     "points": 3,
     "schema_version": 3,
     "solution": false,
     "task": false
    }
   },
   "outputs": [
    {
     "name": "stdout",
     "output_type": "stream",
     "text": [
      "top-5 docs for index1 with BOW search: ('1771', '1936', '1543', '2535', '678')\n",
      "top-5 docs for index2 with BOW search: ('1525', '1936', '1844', '1700', '1366')\n",
      "top-5 docs for index1 with TF-IDF search: ('1936', '2054', '3041', '2620', '944')\n",
      "top-5 docs for index2 with TF-IDF search: ('1700', '1936', '1235', '2018', '849')\n"
     ]
    }
   ],
   "source": [
    "\n",
    "print('top-5 docs for index1 with BOW search:', list(zip(*test_bow_1[:5]))[0])\n",
    "print('top-5 docs for index2 with BOW search:', list(zip(*test_bow_2[:5]))[0])\n",
    "print('top-5 docs for index1 with TF-IDF search:', list(zip(*test_tfidf_1[:5]))[0])\n",
    "print('top-5 docs for index2 with TF-IDF search:', list(zip(*test_tfidf_2[:5]))[0])\n",
    "\n"
   ]
  },
  {
   "cell_type": "markdown",
   "metadata": {
    "deletable": false,
    "editable": false,
    "nbgrader": {
     "cell_type": "markdown",
     "checksum": "cdffc83f0eaea937cf64a212e7e9af8d",
     "grade": false,
     "grade_id": "cell-f5d923459ba21733",
     "locked": true,
     "schema_version": 3,
     "solution": false,
     "task": false
    }
   },
   "source": [
    "--- \n",
    "\n",
    "### Section 3.3: Query Likelihood Model (35 points) <a class=\"anchor\" id=\"qlm\"></a>\n",
    "\n",
    "In this section, you will implement a simple query likelihood model. \n",
    "\n",
    "\n",
    "#### 3.3.1 Naive QL (15 points)\n",
    "\n",
    "First, let us implement a naive version of a QL model, assuming a multinomial unigram language model (with a uniform prior over the documents). \n",
    "\n"
   ]
  },
  {
   "cell_type": "code",
   "execution_count": 36,
   "metadata": {
    "deletable": false,
    "editable": false,
    "nbgrader": {
     "cell_type": "code",
     "checksum": "b7ae2b7d818b428b4638c1c9206d2aca",
     "grade": false,
     "grade_id": "cell-98505778f7b68e7f",
     "locked": true,
     "schema_version": 3,
     "solution": false,
     "task": false
    }
   },
   "outputs": [],
   "source": [
    "#### Document length for normalization\n",
    "\n",
    "def doc_lengths(documents):\n",
    "    doc_lengths = {doc_id:len(doc) for (doc_id, doc) in documents}\n",
    "    return doc_lengths\n",
    "\n",
    "doc_lengths_1 = doc_lengths(doc_repr_1)\n",
    "doc_lengths_2 = doc_lengths(doc_repr_2)\n",
    "\n",
    "def get_doc_lengths(index_set):\n",
    "    assert index_set in {1, 2}\n",
    "    return {\n",
    "        1: doc_lengths_1,\n",
    "        2: doc_lengths_2\n",
    "    }[index_set]\n",
    "####"
   ]
  },
  {
   "cell_type": "code",
   "execution_count": 37,
   "metadata": {
    "deletable": false,
    "nbgrader": {
     "cell_type": "code",
     "checksum": "cedd08303a914243fefdb6b876977ca1",
     "grade": false,
     "grade_id": "cell-8bcf2b804d636c2e",
     "locked": false,
     "schema_version": 3,
     "solution": true,
     "task": false
    }
   },
   "outputs": [
    {
     "data": {
      "text/plain": [
       "[('599', 0.2),\n",
       " ('2689', 0.2),\n",
       " ('1', 0.16666666666666666),\n",
       " ('947', 0.16666666666666666),\n",
       " ('65', 0.14285714285714285)]"
      ]
     },
     "execution_count": 37,
     "metadata": {},
     "output_type": "execute_result"
    }
   ],
   "source": [
    "# TODO: Implement this! (15 points)\n",
    "def naive_ql_search(query, index_set):\n",
    "    \"\"\"\n",
    "        Perform a search over all documents with the given query using a naive QL model. \n",
    "        Note #1: You have to use the `get_index` (and get_doc_lengths) function created in the previous cells\n",
    "        Input: \n",
    "            query - a (unprocessed) query\n",
    "            index_set - the index to use\n",
    "        Output: a list of (document_id, score), sorted in descending relevance to the given query \n",
    "    \"\"\"\n",
    "    index = get_index(index_set)\n",
    "    doc_lengths = get_doc_lengths(index_set)\n",
    "    processed_query = preprocess_query(query, index_set)\n",
    "    \n",
    "    # YOUR CODE HERE\n",
    "    \n",
    "    # this includes relevant and irrelevant doc_ids --> only the relevant doc_ids will be updated\n",
    "    score = {doc_id: 0 for doc_id in doc_lengths.keys()}\n",
    "    \n",
    "    for word in processed_query:  \n",
    "        # list with tuples (doc_id, tf)    \n",
    "        tf_list = index[word]\n",
    "        \n",
    "        if len(tf_list) == 0:           \n",
    "            # if one token in the query doesn't exist, then the product will always be zeo\n",
    "            zeros = {doc_id: 0 for doc_id in doc_lengths.keys()}\n",
    "            return sorted(zeros.items(), key=lambda s: s[1], reverse=True)\n",
    "\n",
    "        # retrieve doc_id, tf, and dl\n",
    "        for doc_id, tf in tf_list[0]:\n",
    "            dl = doc_lengths[doc_id]\n",
    "\n",
    "            # this ensures that if every token in the query is present in the vocabulary\n",
    "            # the score can be updated with *=\n",
    "            if score[doc_id] == 0 and word in index:\n",
    "                score[doc_id] = 1\n",
    "\n",
    "            # update the scores\n",
    "            score[doc_id] *= tf / dl     \n",
    "                \n",
    "    return sorted(score.items(), key=lambda s: s[1], reverse=True)\n",
    "\n",
    "naive_ql_search(\"report\", index_set=1)[:5]\n"
   ]
  },
  {
   "cell_type": "code",
   "execution_count": 38,
   "metadata": {
    "deletable": false,
    "editable": false,
    "nbgrader": {
     "cell_type": "code",
     "checksum": "b550d15bdad28354c336020a00c33d56",
     "grade": true,
     "grade_id": "cell-5a83ac12ecde8578",
     "locked": true,
     "points": 3,
     "schema_version": 3,
     "solution": false,
     "task": false
    }
   },
   "outputs": [
    {
     "name": "stdout",
     "output_type": "stream",
     "text": [
      "Naive QL Results:\n",
      "Rank 0(0.2): A Report Writer For COBOL...\n",
      "Rank 1(0.2): A CRT Report Generating System...\n",
      "Rank 2(0.17): Preliminary Report-International Algebraic Languag...\n",
      "Rank 3(0.17): Supplement to the ALGOL 60 Report...\n",
      "Rank 4(0.14): ALGOL Sub-Committee Report - Extensions...\n"
     ]
    }
   ],
   "source": [
    "#### Function check\n",
    "test_naiveql = naive_ql_search(\"report\", index_set=1)[:5]\n",
    "print(f\"Naive QL Results:\")\n",
    "print_results(test_naiveql)\n",
    "####"
   ]
  },
  {
   "cell_type": "code",
   "execution_count": 39,
   "metadata": {
    "deletable": false,
    "editable": false,
    "nbgrader": {
     "cell_type": "code",
     "checksum": "799df1d81c63fe90edbb6c218fc707fb",
     "grade": true,
     "grade_id": "cell-80f4bf2137f997bb",
     "locked": true,
     "points": 2,
     "schema_version": 3,
     "solution": false,
     "task": false
    }
   },
   "outputs": [],
   "source": [
    "#### Please do not change this. This cell is used for grading."
   ]
  },
  {
   "cell_type": "code",
   "execution_count": 40,
   "metadata": {
    "deletable": false,
    "editable": false,
    "nbgrader": {
     "cell_type": "code",
     "checksum": "875a4a517d27e20625d41783cebec118",
     "grade": true,
     "grade_id": "cell-5ce2993458a8ce51",
     "locked": true,
     "points": 3,
     "schema_version": 3,
     "solution": false,
     "task": false
    }
   },
   "outputs": [],
   "source": [
    "#### Please do not change this. This cell is used for grading."
   ]
  },
  {
   "cell_type": "code",
   "execution_count": 41,
   "metadata": {
    "deletable": false,
    "editable": false,
    "nbgrader": {
     "cell_type": "code",
     "checksum": "d5c4e1c3852e71a46f32825b122f1b71",
     "grade": true,
     "grade_id": "cell-7753bdb54e292f3d",
     "locked": true,
     "points": 3,
     "schema_version": 3,
     "solution": false,
     "task": false
    }
   },
   "outputs": [],
   "source": [
    "#### Please do not change this. This cell is used for grading."
   ]
  },
  {
   "cell_type": "code",
   "execution_count": 42,
   "metadata": {
    "deletable": false,
    "editable": false,
    "nbgrader": {
     "cell_type": "code",
     "checksum": "c4d4332d4356e89ce0240f6b80e1899a",
     "grade": true,
     "grade_id": "cell-54e476e2f96e64bb",
     "locked": true,
     "points": 4,
     "schema_version": 3,
     "solution": false,
     "task": false
    }
   },
   "outputs": [],
   "source": [
    "#### Please do not change this. This cell is used for grading."
   ]
  },
  {
   "cell_type": "markdown",
   "metadata": {
    "deletable": false,
    "editable": false,
    "nbgrader": {
     "cell_type": "markdown",
     "checksum": "8d739dc91a22bd48897f603885f95a74",
     "grade": false,
     "grade_id": "cell-5414dfd69dab8b94",
     "locked": true,
     "schema_version": 3,
     "solution": false,
     "task": false
    }
   },
   "source": [
    "---\n",
    "#### 3.3.2 QL (20 points)\n",
    "Now, let's implement a QL model that handles the issues with the naive version. In particular, you will implement a QL model with Jelinek-Mercer Smoothing. That means an interpolated score is computed per word - one term is the same as the previous naive version, and the second term comes from a unigram language model. In addition, you should accumulate the scores by summing the **log** (smoothed) probability which leads to better numerical stability."
   ]
  },
  {
   "cell_type": "code",
   "execution_count": 43,
   "metadata": {
    "deletable": false,
    "nbgrader": {
     "cell_type": "code",
     "checksum": "b8c6abf937ad333e628f1db891f2e29e",
     "grade": false,
     "grade_id": "cell-bb1f506409771257",
     "locked": false,
     "schema_version": 3,
     "solution": true,
     "task": false
    }
   },
   "outputs": [],
   "source": [
    "# TODO: Implement this! (20 points)\n",
    "\n",
    "# YOUR CODE HERE\n",
    "# raise NotImplementedError()\n",
    "\n",
    "def ql_search(query, index_set):\n",
    "    \"\"\"\n",
    "        Perform a search over all documents with the given query using a QL model \n",
    "        with Jelinek-Mercer Smoothing (set smoothing=0.1). \n",
    "        \n",
    "        \n",
    "        Note #1: You have to use the `get_index` (and get_doc_lengths) function created in the previous cells\n",
    "        Note #2: You might have to create some variables beforehand and use them in this function\n",
    "        \n",
    "        \n",
    "        Input: \n",
    "            query - a (unprocessed) query\n",
    "            index_set - the index to use\n",
    "        Output: a list of (document_id, score), sorted in descending relevance to the given query \n",
    "    \"\"\"\n",
    "    index = get_index(index_set)\n",
    "    doc_lengths = get_doc_lengths(index_set)\n",
    "    processed_query = preprocess_query(query, index_set)\n",
    "    \n",
    "    # YOUR CODE HERE\n",
    "    \n",
    "    smoothing = 0.1\n",
    "    # collection length\n",
    "    cl = len(doc_lengths)\n",
    "    \n",
    "    score = {doc_id: float(0) for doc_id in doc_lengths.keys()}\n",
    "    \n",
    "    for word in processed_query:\n",
    "\n",
    "        if index[word] != []:\n",
    "            cf = np.sum(list(dict(index[word][0]).values()))\n",
    "\n",
    "            # list with tuples (doc_id, tf)\n",
    "            tf_list = index[word]\n",
    "\n",
    "            # retrieve doc_id, tf, and dl\n",
    "            for doc_id, tf in tf_list[0]:\n",
    "                dl = doc_lengths[doc_id]\n",
    "\n",
    "                # update the scores; first entry is naive\n",
    "                if score[doc_id] == 0:\n",
    "                    score[doc_id] = tf / dl\n",
    "                # this handles a query; second entry + is smoothed \n",
    "                else:\n",
    "                    # there are two ways to implement this according to piazza\n",
    "                    \n",
    "                    # method 1 from the slides which passes the test\n",
    "                    score[doc_id] += abs(np.log((smoothing * (tf / dl)) + ((1 - smoothing) * (cf / cl))))\n",
    "                    \n",
    "                    # recommended method according to piazza which does not pass the test\n",
    "#                     score[doc_id] += abs(np.log(((1 - smoothing) * (tf / dl)) + (smoothing * (cf / cl))))\n",
    "                    \n",
    "        \n",
    "    return sorted(score.items(), key=lambda s: s[1], reverse=True)\n"
   ]
  },
  {
   "cell_type": "code",
   "execution_count": 44,
   "metadata": {
    "deletable": false,
    "editable": false,
    "nbgrader": {
     "cell_type": "code",
     "checksum": "0b12a7f3355193a257fd9f5f69a66562",
     "grade": true,
     "grade_id": "cell-850e9d6369bcec32",
     "locked": true,
     "points": 4,
     "schema_version": 3,
     "solution": false,
     "task": false
    }
   },
   "outputs": [
    {
     "name": "stdout",
     "output_type": "stream",
     "text": [
      "Rank 0(0.2): A Report Writer For COBOL...\n",
      "Rank 1(0.2): A CRT Report Generating System...\n",
      "Rank 2(0.17): Preliminary Report-International Algebraic Languag...\n",
      "Rank 3(0.17): Supplement to the ALGOL 60 Report...\n",
      "Rank 4(0.14): ALGOL Sub-Committee Report - Extensions...\n",
      "\n",
      "Rank 0(3.4e+01): The State of Computer Oriented Curricula in Busine...\n",
      "Rank 1(3.4e+01): A Profile of the Programmer\\nSynopsis: 549 members...\n",
      "Rank 2(3.4e+01): A Relational Model of Data for Large Shared Data B...\n",
      "Rank 3(3.4e+01): Coding Clinical Laboratory Data For Automatic Stor...\n",
      "Rank 4(3.4e+01): Studies in Machine Cognition Using The Game of Pok...\n"
     ]
    }
   ],
   "source": [
    "#### Function check\n",
    "test_ql_results = ql_search(\"report\", index_set=1)[:5]\n",
    "print_results(test_ql_results)\n",
    "print()\n",
    "test_ql_results_long = ql_search(\"report \" * 10, index_set=1)[:5]\n",
    "print_results(test_ql_results_long)\n",
    "####"
   ]
  },
  {
   "cell_type": "code",
   "execution_count": 45,
   "metadata": {
    "deletable": false,
    "editable": false,
    "nbgrader": {
     "cell_type": "code",
     "checksum": "e40be645140389c115849856145f5b59",
     "grade": true,
     "grade_id": "cell-958cdcf6fd6899b7",
     "locked": true,
     "points": 3,
     "schema_version": 3,
     "solution": false,
     "task": false
    }
   },
   "outputs": [],
   "source": [
    "#### Please do not change this. This cell is used for grading."
   ]
  },
  {
   "cell_type": "code",
   "execution_count": 46,
   "metadata": {
    "deletable": false,
    "editable": false,
    "nbgrader": {
     "cell_type": "code",
     "checksum": "41d4aff001df17e7963ba79b45810b30",
     "grade": true,
     "grade_id": "cell-384dc23a0c251f6e",
     "locked": true,
     "points": 4,
     "schema_version": 3,
     "solution": false,
     "task": false
    }
   },
   "outputs": [],
   "source": [
    "#### Please do not change this. This cell is used for grading."
   ]
  },
  {
   "cell_type": "code",
   "execution_count": 47,
   "metadata": {
    "deletable": false,
    "editable": false,
    "nbgrader": {
     "cell_type": "code",
     "checksum": "893e8c5a073abc8ebb763d267b91bc02",
     "grade": true,
     "grade_id": "cell-7218966cba5097cc",
     "locked": true,
     "points": 4,
     "schema_version": 3,
     "solution": false,
     "task": false
    }
   },
   "outputs": [],
   "source": [
    "#### Please do not change this. This cell is used for grading."
   ]
  },
  {
   "cell_type": "code",
   "execution_count": 48,
   "metadata": {
    "deletable": false,
    "editable": false,
    "nbgrader": {
     "cell_type": "code",
     "checksum": "f99cb6f8b1f5830aaed8f06712ff846e",
     "grade": true,
     "grade_id": "cell-481ab073259ae53f",
     "locked": true,
     "points": 5,
     "schema_version": 3,
     "solution": false,
     "task": false
    }
   },
   "outputs": [],
   "source": [
    "#### Please do not change this. This cell is used for grading."
   ]
  },
  {
   "cell_type": "markdown",
   "metadata": {
    "deletable": false,
    "editable": false,
    "nbgrader": {
     "cell_type": "markdown",
     "checksum": "c02f14705d679579b1aa9f78f54779d5",
     "grade": false,
     "grade_id": "cell-f44088bfdac1dc90",
     "locked": true,
     "schema_version": 3,
     "solution": false,
     "task": false
    }
   },
   "source": [
    "--- \n",
    "\n",
    "### Section 3.4: BM25 (20 points) <a class=\"anchor\" id=\"bm25\"></a>\n",
    "\n",
    "In this section, we will implement the BM25 scoring function. \n"
   ]
  },
  {
   "cell_type": "code",
   "execution_count": 49,
   "metadata": {
    "deletable": false,
    "nbgrader": {
     "cell_type": "code",
     "checksum": "e57efe06ea92af1c83784a42eb3d86e0",
     "grade": false,
     "grade_id": "cell-15640fc9b5d00a3c",
     "locked": false,
     "schema_version": 3,
     "solution": true,
     "task": false
    }
   },
   "outputs": [],
   "source": [
    "# TODO: Implement this! (20 points)\n",
    "def bm25_search(query, index_set):\n",
    "    \"\"\"\n",
    "        Perform a search over all documents with the given query using BM25. Use k_1 = 1.5 and b = 0.75\n",
    "        Note #1: You have to use the `get_index` (and `get_doc_lengths`) function created in the previous cells\n",
    "        Note #2: You might have to create some variables beforehand and use them in this function\n",
    "        \n",
    "        Input: \n",
    "            query - a (unprocessed) query\n",
    "            index_set - the index to use\n",
    "        Output: a list of (document_id, score), sorted in descending relevance to the given query \n",
    "    \"\"\"\n",
    "    \n",
    "    index = get_index(index_set)\n",
    "    df = get_df(index_set)\n",
    "    doc_lengths = get_doc_lengths(index_set)\n",
    "    processed_query = preprocess_query(query, index_set)\n",
    "    \n",
    "    # YOUR CODE HERE\n",
    "    \n",
    "    score = {doc_id: float(0) for doc_id in doc_lengths.keys()}\n",
    "    \n",
    "    k_1 = 1.5\n",
    "    b = 0.75\n",
    "    \n",
    "    for word in processed_query:\n",
    "        tf_list = index[word]\n",
    "        \n",
    "        if tf_list != []:\n",
    "        \n",
    "            for doc_id, tf in tf_list[0]:\n",
    "    \n",
    "                # split formula\n",
    "                p1 = np.log(len(doc_lengths) / df[word])\n",
    "                p2 = (k_1 + 1) * tf\n",
    "                p3 = k_1 * ((1 - b) + b * (doc_lengths[doc_id] / np.mean(list(doc_lengths.values())))) + tf\n",
    "    \n",
    "                # construct bm25\n",
    "                bm25 = p1 * (p2 / p3)\n",
    "\n",
    "                if score[doc_id] == 0:\n",
    "                    score[doc_id] = bm25 \n",
    "                else:\n",
    "                    score[doc_id] += bm25 \n",
    "    \n",
    "    return sorted(score.items(), key=lambda s: s[1], reverse=True)\n"
   ]
  },
  {
   "cell_type": "code",
   "execution_count": 50,
   "metadata": {
    "deletable": false,
    "editable": false,
    "nbgrader": {
     "cell_type": "code",
     "checksum": "4be9de5d4e94637960d83725422bea6c",
     "grade": true,
     "grade_id": "cell-d10536bca72c74b1",
     "locked": true,
     "points": 3,
     "schema_version": 3,
     "solution": false,
     "task": false
    }
   },
   "outputs": [
    {
     "name": "stdout",
     "output_type": "stream",
     "text": [
      "Rank 0(6.7): A Report Writer For COBOL...\n",
      "Rank 1(6.7): A CRT Report Generating System...\n",
      "Rank 2(6.6): Preliminary Report-International Algebraic Languag...\n",
      "Rank 3(6.6): Supplement to the ALGOL 60 Report...\n",
      "Rank 4(6.5): ALGOL Sub-Committee Report - Extensions...\n"
     ]
    }
   ],
   "source": [
    "#### Function check\n",
    "test_bm25_results = bm25_search(\"report\", index_set=1)[:5]\n",
    "print_results(test_bm25_results)\n",
    "####"
   ]
  },
  {
   "cell_type": "code",
   "execution_count": 51,
   "metadata": {
    "deletable": false,
    "editable": false,
    "nbgrader": {
     "cell_type": "code",
     "checksum": "31b550d6a46ae4f8ede88788799ac2b9",
     "grade": true,
     "grade_id": "cell-60f6ec5052712d79",
     "locked": true,
     "points": 5,
     "schema_version": 3,
     "solution": false,
     "task": false
    }
   },
   "outputs": [],
   "source": [
    "#### Please do not change this. This cell is used for grading."
   ]
  },
  {
   "cell_type": "code",
   "execution_count": 52,
   "metadata": {
    "deletable": false,
    "editable": false,
    "nbgrader": {
     "cell_type": "code",
     "checksum": "3da2ec16bfe781916e71755d65aa2983",
     "grade": true,
     "grade_id": "cell-5d17524043a5abcc",
     "locked": true,
     "points": 5,
     "schema_version": 3,
     "solution": false,
     "task": false
    }
   },
   "outputs": [],
   "source": [
    "#### Please do not change this. This cell is used for grading."
   ]
  },
  {
   "cell_type": "code",
   "execution_count": 53,
   "metadata": {
    "deletable": false,
    "editable": false,
    "nbgrader": {
     "cell_type": "code",
     "checksum": "e7b563d54fa84c20909c0ae107010541",
     "grade": true,
     "grade_id": "cell-ff8e704eda1184e3",
     "locked": true,
     "points": 3,
     "schema_version": 3,
     "solution": false,
     "task": false
    }
   },
   "outputs": [],
   "source": [
    "#### Please do not change this. This cell is used for grading."
   ]
  },
  {
   "cell_type": "code",
   "execution_count": 54,
   "metadata": {
    "deletable": false,
    "editable": false,
    "nbgrader": {
     "cell_type": "code",
     "checksum": "b013f90974b396630a8831d6f1d7e5f7",
     "grade": true,
     "grade_id": "cell-a52310500a2543cb",
     "locked": true,
     "points": 4,
     "schema_version": 3,
     "solution": false,
     "task": false
    }
   },
   "outputs": [],
   "source": [
    "#### Please do not change this. This cell is used for grading."
   ]
  },
  {
   "cell_type": "markdown",
   "metadata": {
    "deletable": false,
    "editable": false,
    "nbgrader": {
     "cell_type": "markdown",
     "checksum": "8fcf67cb7d5e8b26cb9bf1f0aa42c847",
     "grade": false,
     "grade_id": "cell-8b2b412c81d62f2d",
     "locked": true,
     "schema_version": 3,
     "solution": false,
     "task": false
    }
   },
   "source": [
    "\n",
    "---\n",
    "\n",
    "### 3.5. Test Your Functions\n",
    "\n",
    "The widget below allows you to play with the search functions you've written so far. Use this to test your search functions and ensure that they work as expected."
   ]
  },
  {
   "cell_type": "code",
   "execution_count": 55,
   "metadata": {
    "deletable": false,
    "editable": false,
    "nbgrader": {
     "cell_type": "code",
     "checksum": "dfeb204b390acc0794dbdcac92b0cf2c",
     "grade": false,
     "grade_id": "cell-c9c2bb76354e8d97",
     "locked": true,
     "schema_version": 3,
     "solution": false,
     "task": false
    }
   },
   "outputs": [],
   "source": [
    "#### Highlighter function\n",
    "# class for results\n",
    "ResultRow = namedtuple(\"ResultRow\", [\"doc_id\", \"snippet\", \"score\"])\n",
    "# doc_id -> doc\n",
    "docs_by_id = dict((d[0], d[1]) for d in docs)\n",
    "\n",
    "def highlight_text(document, query, tol=17):\n",
    "    import re\n",
    "    tokens = tokenize(query)\n",
    "    regex = \"|\".join(f\"(\\\\b{t}\\\\b)\" for t in tokens)\n",
    "    regex = re.compile(regex, flags=re.IGNORECASE)\n",
    "    output = \"\"\n",
    "    i = 0\n",
    "    for m in regex.finditer(document):\n",
    "        start_idx = max(0, m.start() - tol)\n",
    "        end_idx = min(len(document), m.end() + tol)\n",
    "        output += \"\".join([\"...\",\n",
    "                        document[start_idx:m.start()],\n",
    "                        \"<strong>\",\n",
    "                        document[m.start():m.end()],\n",
    "                        \"</strong>\",\n",
    "                        document[m.end():end_idx],\n",
    "                        \"...\"])\n",
    "    return output.replace(\"\\n\", \" \")\n",
    "\n",
    "\n",
    "def make_results(query, search_fn, index_set):\n",
    "    results = []\n",
    "    for doc_id, score in search_fn(query, index_set):\n",
    "        highlight = highlight_text(docs_by_id[doc_id], query)\n",
    "        if len(highlight.strip()) == 0:\n",
    "            highlight = docs_by_id[doc_id]\n",
    "        results.append(ResultRow(doc_id, highlight, score))\n",
    "    return results\n",
    "####"
   ]
  },
  {
   "cell_type": "code",
   "execution_count": 56,
   "metadata": {},
   "outputs": [
    {
     "data": {
      "application/vnd.jupyter.widget-view+json": {
       "model_id": "bea295bc63714a7a9d576f7d7413a020",
       "version_major": 2,
       "version_minor": 0
      },
      "text/plain": [
       "Text(value='', description='Search Bar')"
      ]
     },
     "metadata": {},
     "output_type": "display_data"
    }
   ],
   "source": [
    "# TODO: Set this to the function you want to test!\n",
    "# this function should take in a query (string)\n",
    "# and return a sorted list of (doc_id, score) \n",
    "# with the most relevant document in the first position\n",
    "search_fn = bm25_search\n",
    "index_set = 1\n",
    "\n",
    "text = widgets.Text(description=\"Search Bar\", width=200)\n",
    "display(text)\n",
    "\n",
    "def handle_submit(sender):\n",
    "    print(f\"Searching for: '{sender.value}'\")\n",
    "    \n",
    "    results = make_results(sender.value, search_fn, index_set)\n",
    "    \n",
    "    # display only the top 5\n",
    "    results = results[:5]\n",
    "    \n",
    "    body = \"\"\n",
    "    for idx, r in enumerate(results):\n",
    "        body += f\"<li>Document #{r.doc_id}({r.score}): {r.snippet}</li>\"\n",
    "    display(HTML(f\"<ul>{body}</ul>\"))\n",
    "    \n",
    "\n",
    "text.on_submit(handle_submit)"
   ]
  },
  {
   "cell_type": "markdown",
   "metadata": {
    "deletable": false,
    "editable": false,
    "nbgrader": {
     "cell_type": "markdown",
     "checksum": "019b1ff878dc6339dd068e2d48d19904",
     "grade": false,
     "grade_id": "cell-8d46fe8e4f3d8cdb",
     "locked": true,
     "schema_version": 3,
     "solution": false,
     "task": false
    }
   },
   "source": [
    "---\n",
    "\n",
    "## Section 4: Evaluation (40 points) <a class=\"anchor\" id=\"evaluation\"></a>\n",
    "\n",
    "[Back to Part 1](#part1)\n",
    "\n",
    "In order to analyze the effectiveness of retrieval algorithms, we first have to learn how to evaluate such a system. In particular, we will work with offline evaluation metrics. These metrics are computed on a dataset with known relevance judgements.\n",
    "\n",
    "Implement the following evaluation metrics. \n",
    "\n",
    "1. Precision (7 points)\n",
    "2. Recall (7 points)\n",
    "3. Mean Average Precision (13 points)\n",
    "4. Expected Reciprocal Rank (13 points)"
   ]
  },
  {
   "cell_type": "markdown",
   "metadata": {
    "deletable": false,
    "editable": false,
    "nbgrader": {
     "cell_type": "markdown",
     "checksum": "e46f54c7f81d88bbc950b0fae14c4ca5",
     "grade": false,
     "grade_id": "cell-3419fd3bc663d7cc",
     "locked": true,
     "schema_version": 3,
     "solution": false,
     "task": false
    }
   },
   "source": [
    "---\n",
    "### 4.1 Read relevance labels\n",
    "\n",
    "Let's take a look at the `qrels.text` file, which contains the ground truth relevance scores. The relevance labels for CACM are binary - either 0 or 1. \n"
   ]
  },
  {
   "cell_type": "code",
   "execution_count": 57,
   "metadata": {
    "deletable": false,
    "editable": false,
    "nbgrader": {
     "cell_type": "code",
     "checksum": "6c11025f5a222796f2882c73c1634799",
     "grade": false,
     "grade_id": "cell-6b738366059dde9e",
     "locked": true,
     "schema_version": 3,
     "solution": false,
     "task": false
    }
   },
   "outputs": [
    {
     "name": "stdout",
     "output_type": "stream",
     "text": [
      "01 1410  0 0\r\n",
      "01 1572  0 0\r\n",
      "01 1605  0 0\r\n",
      "01 2020  0 0\r\n",
      "01 2358  0 0\r\n",
      "02 2434  0 0\r\n",
      "02 2863  0 0\r\n",
      "02 3078  0 0\r\n",
      "03 1134  0 0\r\n",
      "03 1613  0 0\r\n"
     ]
    }
   ],
   "source": [
    "!head ./datasets/qrels.text"
   ]
  },
  {
   "cell_type": "markdown",
   "metadata": {
    "deletable": false,
    "editable": false,
    "nbgrader": {
     "cell_type": "markdown",
     "checksum": "7ce95245c1597183320d7254afde5c8e",
     "grade": false,
     "grade_id": "cell-10e16bff2753ffbb",
     "locked": true,
     "schema_version": 3,
     "solution": false,
     "task": false
    }
   },
   "source": [
    "---\n",
    "\n",
    "The first column is the query_id and the second column is the document_id. We can safely ignore the 3rd and 4th columns."
   ]
  },
  {
   "cell_type": "code",
   "execution_count": 58,
   "metadata": {
    "deletable": false,
    "nbgrader": {
     "cell_type": "code",
     "checksum": "000c6d59dce08dba0ba1e8d691dbbc2e",
     "grade": false,
     "grade_id": "cell-ee5253a4ef602fce",
     "locked": false,
     "schema_version": 3,
     "solution": true,
     "task": false
    }
   },
   "outputs": [],
   "source": [
    "def read_qrels(root_folder = \"./datasets/\"):\n",
    "    \"\"\"\n",
    "        Reads the qrels.text file. \n",
    "        Output: A dictionary: query_id -> [list of relevant documents]\n",
    "    \"\"\"\n",
    "    with open(os.path.join(root_folder, \"qrels.text\")) as reader:\n",
    "        lines = reader.readlines()\n",
    "    \n",
    "    from collections import defaultdict\n",
    "    relevant_docs = defaultdict(set)\n",
    "    for line in lines:\n",
    "        query_id, doc_id, _, _ = line.split()\n",
    "        relevant_docs[str(int(query_id))].add(doc_id)\n",
    "    return relevant_docs\n"
   ]
  },
  {
   "cell_type": "code",
   "execution_count": 59,
   "metadata": {
    "deletable": false,
    "editable": false,
    "nbgrader": {
     "cell_type": "code",
     "checksum": "d60caeba85c2a97d2211184a5ae91fd1",
     "grade": false,
     "grade_id": "cell-72215605fbe24f65",
     "locked": true,
     "schema_version": 3,
     "solution": false,
     "task": false
    }
   },
   "outputs": [],
   "source": [
    "#### Function check\n",
    "qrels = read_qrels()\n",
    "\n",
    "assert len(qrels) == 52, \"There should be 52 queries with relevance judgements\"\n",
    "assert sum(len(j) for j in qrels.values()) == 796, \"There should be a total of 796 Relevance Judgements\"\n",
    "\n",
    "assert np.min(np.array([len(j) for j in qrels.values()])) == 1\n",
    "assert np.max(np.array([len(j) for j in qrels.values()])) == 51\n",
    "\n",
    "####"
   ]
  },
  {
   "cell_type": "markdown",
   "metadata": {
    "deletable": false,
    "editable": false,
    "nbgrader": {
     "cell_type": "markdown",
     "checksum": "6c9e7428a52e291a2cdf92a379730d4c",
     "grade": false,
     "grade_id": "cell-176a6fb2939d0420",
     "locked": true,
     "schema_version": 3,
     "solution": false,
     "task": false
    }
   },
   "source": [
    "---\n",
    "**Note:** For a given query `query_id`, you can assume that documents *not* in `qrels[query_id]` are not relevant to `query_id`. \n"
   ]
  },
  {
   "cell_type": "markdown",
   "metadata": {
    "deletable": false,
    "editable": false,
    "nbgrader": {
     "cell_type": "markdown",
     "checksum": "b26a818c7b4f7ad490e00b35ea0edd69",
     "grade": false,
     "grade_id": "cell-bd8341b72cdd89bb",
     "locked": true,
     "schema_version": 3,
     "solution": false,
     "task": false
    }
   },
   "source": [
    "---\n",
    "### 4.2 Precision (7 points)\n",
    "Implement the `precision@k` metric:"
   ]
  },
  {
   "cell_type": "code",
   "execution_count": 60,
   "metadata": {
    "deletable": false,
    "nbgrader": {
     "cell_type": "code",
     "checksum": "43dea1979ebdec24ffcfeff71c670433",
     "grade": false,
     "grade_id": "cell-494bd0cce108ed67",
     "locked": false,
     "schema_version": 3,
     "solution": true,
     "task": false
    }
   },
   "outputs": [],
   "source": [
    "# TODO: Implement this! (7 points)\n",
    "def precision_k(results, relevant_docs, k):\n",
    "    \"\"\"\n",
    "        Compute Precision@K\n",
    "        Input: \n",
    "            results: A sorted list of 2-tuples (document_id, score), \n",
    "                    with the most relevant document in the first position\n",
    "            relevant_docs: A set of relevant documents. \n",
    "            k: the cut-off\n",
    "        Output: Precision@K\n",
    "    \"\"\"\n",
    "    if k > len(results):\n",
    "        k = len(results)\n",
    "        \n",
    "    # YOUR CODE HERE\n",
    "    \n",
    "    # results till k\n",
    "    r_k = dict(results[:k]).keys()\n",
    "        \n",
    "    # intersection\n",
    "    return len(set(r_k) & set(relevant_docs)) / k\n"
   ]
  },
  {
   "cell_type": "code",
   "execution_count": 61,
   "metadata": {
    "deletable": false,
    "editable": false,
    "nbgrader": {
     "cell_type": "code",
     "checksum": "9222e35582b1840ffb60fd02fb0b60c3",
     "grade": true,
     "grade_id": "cell-e7ff0d91c319ca64",
     "locked": true,
     "points": 7,
     "schema_version": 3,
     "solution": false,
     "task": false
    }
   },
   "outputs": [
    {
     "name": "stdout",
     "output_type": "stream",
     "text": [
      "query: What articles exist which deal with TSS (Time Sharing System), an\n",
      "operating system for IBM computers?\n",
      "precision@10 = 0.2\n"
     ]
    }
   ],
   "source": [
    "\n",
    "#### Function check\n",
    "qid = queries[0][0]\n",
    "qtext = queries[0][1]\n",
    "print(f'query:{qtext}')\n",
    "results = bm25_search(qtext, 2)\n",
    "precision = precision_k(results, qrels[qid], 10)\n",
    "print(f'precision@10 = {precision}')\n",
    "####"
   ]
  },
  {
   "cell_type": "markdown",
   "metadata": {
    "deletable": false,
    "editable": false,
    "nbgrader": {
     "cell_type": "markdown",
     "checksum": "8fd3b3998197c7097a40348500affb68",
     "grade": false,
     "grade_id": "cell-afd95f865bc7191e",
     "locked": true,
     "schema_version": 3,
     "solution": false,
     "task": false
    }
   },
   "source": [
    "---\n",
    "### 4.3 Recall (7 points)\n",
    "Implement the `recall@k` metric:"
   ]
  },
  {
   "cell_type": "code",
   "execution_count": 62,
   "metadata": {
    "deletable": false,
    "nbgrader": {
     "cell_type": "code",
     "checksum": "b2020e5741ae03b3fe35817ed8f4ccaa",
     "grade": false,
     "grade_id": "cell-c323fc8c3f8a7cf8",
     "locked": false,
     "schema_version": 3,
     "solution": true,
     "task": false
    }
   },
   "outputs": [],
   "source": [
    "# TODO: Implement this! (7 points)\n",
    "def recall_k(results, relevant_docs, k):\n",
    "    \"\"\"\n",
    "        Compute Recall@K\n",
    "        Input: \n",
    "            results: A sorted list of 2-tuples (document_id, score), with the most relevant document in the first position\n",
    "            relevant_docs: A set of relevant documents. \n",
    "            k: the cut-off\n",
    "        Output: Recall@K\n",
    "    \"\"\"\n",
    "    # YOUR CODE HERE\n",
    "    \n",
    "    # results till k\n",
    "    r_k = set(dict(results[:k]).keys())\n",
    "    \n",
    "    return len(r_k & set(relevant_docs)) / len(relevant_docs)\n"
   ]
  },
  {
   "cell_type": "code",
   "execution_count": 63,
   "metadata": {
    "deletable": false,
    "editable": false,
    "nbgrader": {
     "cell_type": "code",
     "checksum": "56b6e0b8522f8b2dffbfb3206b2efa84",
     "grade": true,
     "grade_id": "cell-b25172161aef165c",
     "locked": true,
     "points": 7,
     "schema_version": 3,
     "solution": false,
     "task": false
    }
   },
   "outputs": [
    {
     "name": "stdout",
     "output_type": "stream",
     "text": [
      "query: SETL, Very High Level Languages\n",
      "recall@10 = 0.3157894736842105\n"
     ]
    }
   ],
   "source": [
    "#### Function check\n",
    "qid = queries[10][0]\n",
    "qtext = queries[10][1]\n",
    "print(f'query:{qtext}')\n",
    "results = bm25_search(qtext, 2)\n",
    "recall = recall_k(results, qrels[qid], 10)\n",
    "print(f'recall@10 = {recall}')\n",
    "####"
   ]
  },
  {
   "cell_type": "markdown",
   "metadata": {
    "deletable": false,
    "editable": false,
    "nbgrader": {
     "cell_type": "markdown",
     "checksum": "b3d3c7bd1cd977cd07ef5df7d3fbf159",
     "grade": false,
     "grade_id": "cell-77fd2e7a39a74739",
     "locked": true,
     "schema_version": 3,
     "solution": false,
     "task": false
    }
   },
   "source": [
    "---\n",
    "### 4.4 Mean Average Precision (13 points)\n",
    "Implement the `map` metric:"
   ]
  },
  {
   "cell_type": "code",
   "execution_count": 64,
   "metadata": {
    "deletable": false,
    "nbgrader": {
     "cell_type": "code",
     "checksum": "aae2c62f2ffd76f5b6c004e9519b9f14",
     "grade": false,
     "grade_id": "cell-e50925fa9093a30d",
     "locked": false,
     "schema_version": 3,
     "solution": true,
     "task": false
    }
   },
   "outputs": [],
   "source": [
    "# TODO: Implement this! (12 points)\n",
    "def average_precision(results, relevant_docs):\n",
    "    \"\"\"\n",
    "        Compute Average Precision (for a single query - the results are \n",
    "        averaged across queries to get MAP in the next few cells)\n",
    "        Hint: You can use the recall_k and precision_k functions here!\n",
    "        Input: \n",
    "            results: A sorted list of 2-tuples (document_id, score), with the most \n",
    "                    relevant document in the first position\n",
    "            relevant_docs: A set of relevant documents. \n",
    "        Output: Average Precision\n",
    "    \"\"\"\n",
    "    # YOUR CODE HERE\n",
    "    \n",
    "    # sum(precision at rank k for document) / len(relevant_docs)\n",
    "    \n",
    "    numerator = 0\n",
    "    \n",
    "    for index, tup in enumerate(results, 1):\n",
    "        if tup[0] in relevant_docs:\n",
    "            numerator += precision_k(results, relevant_docs, index)\n",
    "    \n",
    "    return numerator / len(relevant_docs)\n"
   ]
  },
  {
   "cell_type": "code",
   "execution_count": 65,
   "metadata": {
    "deletable": false,
    "editable": false,
    "nbgrader": {
     "cell_type": "code",
     "checksum": "3b00e147c2fa146fa59f179b7c9cab75",
     "grade": true,
     "grade_id": "cell-8a1f7ec98571e58b",
     "locked": true,
     "points": 13,
     "schema_version": 3,
     "solution": false,
     "task": false
    }
   },
   "outputs": [
    {
     "name": "stdout",
     "output_type": "stream",
     "text": [
      "query: computational complexity, intractability, class-complete reductions,\n",
      "algorithms and efficiency\n",
      "MAP = 0.17240404110559454\n"
     ]
    }
   ],
   "source": [
    "#### Function check\n",
    "qid = queries[20][0]\n",
    "qtext = queries[20][1]\n",
    "print(f'query:{qtext}')\n",
    "results = bm25_search(qtext, 2)\n",
    "mean_ap = average_precision(results, qrels[qid])\n",
    "print(f'MAP = {mean_ap}')\n",
    "####"
   ]
  },
  {
   "cell_type": "markdown",
   "metadata": {
    "deletable": false,
    "editable": false,
    "nbgrader": {
     "cell_type": "markdown",
     "checksum": "36f85f45ef52d9467ba9a717d6d99ff2",
     "grade": false,
     "grade_id": "cell-1da18f0fe6f6d7be",
     "locked": true,
     "schema_version": 3,
     "solution": false,
     "task": false
    }
   },
   "source": [
    "---\n",
    "### 4.5 Expected Reciprocal Rank (13 points)\n",
    "Implement the `err` metric:"
   ]
  },
  {
   "cell_type": "code",
   "execution_count": 66,
   "metadata": {
    "deletable": false,
    "nbgrader": {
     "cell_type": "code",
     "checksum": "9ac94db728e23ea1f5dc0d509473c6fb",
     "grade": false,
     "grade_id": "cell-64262889f9b267ea",
     "locked": false,
     "schema_version": 3,
     "solution": true,
     "task": false
    }
   },
   "outputs": [],
   "source": [
    "# TODO: Implement this! (12 points)\n",
    "def err(results, relevant_docs):\n",
    "    \"\"\"\n",
    "        Compute the expected reciprocal rank.\n",
    "        Hint: https://dl.acm.org/doi/pdf/10.1145/1645953.1646033?download=true\n",
    "        Input: \n",
    "            results: A sorted list of 2-tuples (document_id, score), with the most \n",
    "                    relevant document in the first position\n",
    "            relevant_docs: A set of relevant documents. \n",
    "        Output: ERR\n",
    "        \n",
    "    \"\"\"\n",
    "    # YOUR CODE HERE\n",
    "    \n",
    "    ERR = 0\n",
    "    p = 1\n",
    "    \n",
    "    for rank in range(len(results)):\n",
    "        if results[rank][0] in relevant_docs:\n",
    "            g = 1\n",
    "        else:\n",
    "            g = 0\n",
    "\n",
    "        # g consists of {0, 1} because it's binary ; g_max is always 1\n",
    "        R = ((2**g) - 1) / (2**1)    \n",
    "    \n",
    "        # can't divide by 0\n",
    "        ERR = ERR + (p * (R / (rank + 1)))\n",
    "#         ERR += p * (R / (rank + 1))\n",
    "        p = p * (1 - R)  \n",
    "    \n",
    "    return ERR"
   ]
  },
  {
   "cell_type": "code",
   "execution_count": 67,
   "metadata": {
    "deletable": false,
    "editable": false,
    "nbgrader": {
     "cell_type": "code",
     "checksum": "b7d201de0990b69d5f38704668665d87",
     "grade": true,
     "grade_id": "cell-071e3970ff1afae4",
     "locked": true,
     "points": 13,
     "schema_version": 3,
     "solution": false,
     "task": false
    }
   },
   "outputs": [
    {
     "name": "stdout",
     "output_type": "stream",
     "text": [
      "query: I'd like to find articles describing the use of singular value decomposition\n",
      "in digital image processing.  Applications include finding approximations\n",
      "to the original image and restoring images that are subject to noise. An\n",
      "article on the subject is H.C. Andrews and C.L. Patterson \"Outer product\n",
      "expansions and their uses in digital image processing\", American Mathematical\n",
      "Monthly, vol. 82.\n",
      "ERR = 0.625\n"
     ]
    }
   ],
   "source": [
    "#### Function check\n",
    "qid = queries[30][0]\n",
    "qtext = queries[30][1]\n",
    "print(f'query:{qtext}')\n",
    "results = bm25_search(qtext, 2)\n",
    "ERR = err(results, qrels[qid])\n",
    "print(f'ERR = {ERR}')\n",
    "####"
   ]
  },
  {
   "cell_type": "markdown",
   "metadata": {
    "deletable": false,
    "editable": false,
    "nbgrader": {
     "cell_type": "markdown",
     "checksum": "5bd94caf77cfa5f34675df758d91002d",
     "grade": false,
     "grade_id": "cell-43709a765f353946",
     "locked": true,
     "schema_version": 3,
     "solution": false,
     "task": false
    }
   },
   "source": [
    "---\n",
    "### 4.6 Evaluate Search Functions\n",
    "\n",
    "Let's define some metrics@k using [partial functions](https://docs.python.org/3/library/functools.html#functools.partial)"
   ]
  },
  {
   "cell_type": "code",
   "execution_count": 68,
   "metadata": {
    "deletable": false,
    "editable": false,
    "nbgrader": {
     "cell_type": "code",
     "checksum": "49ccc158e5fb7340ace55e90eeb9d62a",
     "grade": false,
     "grade_id": "cell-dab560e18e340da8",
     "locked": true,
     "schema_version": 3,
     "solution": false,
     "task": false
    }
   },
   "outputs": [],
   "source": [
    "#### metrics@k functions\n",
    "\n",
    "recall_at_1 = partial(recall_k, k=1)\n",
    "recall_at_5 = partial(recall_k, k=5)\n",
    "recall_at_10 = partial(recall_k, k=10)\n",
    "precision_at_1 = partial(precision_k, k=1)\n",
    "precision_at_5 = partial(precision_k, k=5)\n",
    "precision_at_10 = partial(precision_k, k=10)\n",
    "\n",
    "\n",
    "list_of_metrics = [\n",
    "    (\"ERR\", err),\n",
    "    (\"MAP\", average_precision),\n",
    "    (\"Recall@1\",recall_at_1),\n",
    "    (\"Recall@5\", recall_at_5),\n",
    "    (\"Recall@10\", recall_at_10),\n",
    "    (\"Precision@1\", precision_at_1),\n",
    "    (\"Precision@5\", precision_at_5),\n",
    "    (\"Precision@10\", precision_at_10)]\n",
    "####"
   ]
  },
  {
   "cell_type": "markdown",
   "metadata": {
    "deletable": false,
    "editable": false,
    "nbgrader": {
     "cell_type": "markdown",
     "checksum": "fb541002c03221b453b8936290020ea5",
     "grade": false,
     "grade_id": "cell-580a2bdc66d03b47",
     "locked": true,
     "schema_version": 3,
     "solution": false,
     "task": false
    }
   },
   "source": [
    "---\n",
    "\n",
    "The following function evaluates a `search_fn` using the `metric_fn`. Note that the final number is averaged over all the queries"
   ]
  },
  {
   "cell_type": "code",
   "execution_count": 69,
   "metadata": {},
   "outputs": [],
   "source": [
    "recall_at_1 = partial(recall_k, k=1)\n",
    "recall_at_5 = partial(recall_k, k=5)\n",
    "recall_at_10 = partial(recall_k, k=10)\n",
    "recall_at_20 = partial(recall_k, k=20)\n",
    "precision_at_1 = partial(precision_k, k=1)\n",
    "precision_at_5 = partial(precision_k, k=5)\n",
    "precision_at_10 = partial(precision_k, k=10)\n",
    "precision_at_20 = partial(precision_k, k=20)\n",
    "\n",
    "list_of_metrics = [\n",
    "    (\"ERR\", err),\n",
    "    (\"MAP\", average_precision),\n",
    "    (\"Recall@1\",recall_at_1),\n",
    "    (\"Recall@5\", recall_at_5),\n",
    "    (\"Recall@10\", recall_at_10),\n",
    "    (\"Recall@20\", recall_at_20),\n",
    "    (\"Precision@1\", precision_at_1),\n",
    "    (\"Precision@5\", precision_at_5),\n",
    "    (\"Precision@10\", precision_at_10),\n",
    "    (\"Precision@20\", precision_at_20)]\n",
    "\n",
    "#### Evaluate a search function\n",
    "\n",
    "list_of_search_fns = [\n",
    "    (\"BOW\", bow_search),\n",
    "    (\"TF-IDF\", tfidf_search),\n",
    "    (\"NaiveQL\", naive_ql_search),\n",
    "    (\"QL\", ql_search),\n",
    "    (\"BM25\", bm25_search)\n",
    "]\n",
    "\n",
    "def evaluate_search_fn(search_fn, metric_fns, index_set=None):\n",
    "    # build a dict query_id -> query \n",
    "    queries_by_id = dict((q[0], q[1]) for q in queries)\n",
    "    \n",
    "    metrics = {}\n",
    "    for metric, metric_fn in metric_fns:\n",
    "        metrics[metric] = np.zeros(len(qrels), dtype=np.float32)\n",
    "    \n",
    "    for i, (query_id, relevant_docs) in enumerate(qrels.items()):\n",
    "        query = queries_by_id[query_id]\n",
    "        if index_set:\n",
    "            results = search_fn(query, index_set)\n",
    "        else:\n",
    "            results = search_fn(query)\n",
    "        \n",
    "        for metric, metric_fn in metric_fns:\n",
    "            metrics[metric][i] = metric_fn(results, relevant_docs)\n",
    "    \n",
    "    final_dict = {}\n",
    "    for metric, metric_vals in metrics.items():\n",
    "        final_dict[metric] = metric_vals.mean()\n",
    "    \n",
    "    return final_dict\n",
    "\n",
    "####\n",
    "\n",
    "sample_results = [(i,None) for i in [4,0,1,17,2,5,6,13,9,10,8,20,3,15,16]]\n",
    "sample_qrel = [1,8,5,13,15,2]\n",
    "assert precision_k(sample_results, sample_qrel, 1) == 0.\n",
    "assert precision_k(sample_results, sample_qrel, 5) == 0.4\n",
    "assert precision_k(sample_results, sample_qrel, 10) == 0.4\n",
    "assert precision_k(sample_results, sample_qrel, 20) == 0.4\n",
    "assert recall_k(sample_results, sample_qrel, 1) == 0.\n",
    "assert np.allclose(recall_k(sample_results, sample_qrel, 5), 1./3.)\n",
    "assert np.allclose(recall_k(sample_results, sample_qrel, 10), 2./3.)\n",
    "assert recall_k(sample_results, sample_qrel, 20) == 1.\n",
    "assert np.allclose(average_precision(sample_results, sample_qrel), 0.436, 0.001)\n",
    "assert np.allclose(err(sample_results, sample_qrel), 0.2492, 0.001)\n",
    "\n",
    "\n",
    "# for tup in list_of_search_fns:\n",
    "#     print(tup[0])\n",
    "#     print(evaluate_search_fn(tup[1], list_of_metrics, index_set=2))"
   ]
  },
  {
   "cell_type": "markdown",
   "metadata": {
    "deletable": false,
    "editable": false,
    "nbgrader": {
     "cell_type": "markdown",
     "checksum": "6ea67534f74a8f81e1f504794f641709",
     "grade": false,
     "grade_id": "cell-b156d83a0649cbb4",
     "locked": true,
     "schema_version": 3,
     "solution": false,
     "task": false
    }
   },
   "source": [
    "## Section 5: Analysis (30 points) <a class=\"anchor\" id=\"analysis\"></a>\n",
    "\n",
    "[Back to Part 1](#part1)\n",
    "\n",
    "In the final section of Part1, we will compare the different term-based IR algorithms and different preprocessing configurations and analyze their advantages and disadvantages.\n",
    "\n",
    "### Section 5.1: Plot (20 points)\n",
    "\n",
    "First, gather the results. The results should consider the index set, the different search functions and different metrics. Plot the results in bar charts, per metric, with clear labels.\n",
    "\n",
    "**Rubric:**\n",
    "- Each Metric is plotted: 7 points\n",
    "- Each Method is plotted: 7 points\n",
    "- Clear titles, x label, y labels and legends (if applicable): 6 points"
   ]
  },
  {
   "cell_type": "code",
   "execution_count": 90,
   "metadata": {
    "deletable": false,
    "nbgrader": {
     "cell_type": "code",
     "checksum": "7e2588a925d13ddf588abe8311dc9cfc",
     "grade": true,
     "grade_id": "cell-46fda42a25863a04",
     "locked": false,
     "points": 20,
     "schema_version": 3,
     "solution": true,
     "task": false
    }
   },
   "outputs": [
    {
     "name": "stderr",
     "output_type": "stream",
     "text": [
      "/Users/kevintran/opt/anaconda3/envs/python365/lib/python3.6/site-packages/ipykernel_launcher.py:80: UserWarning: Matplotlib is currently using module://ipykernel.pylab.backend_inline, which is a non-GUI backend, so cannot show the figure.\n"
     ]
    },
    {
     "data": {
      "image/png": "[encoded data removed]",
      "text/plain": [
       "<Figure size 1440x1440 with 10 Axes>"
      ]
     },
     "metadata": {
      "needs_background": "light"
     },
     "output_type": "display_data"
    }
   ],
   "source": [
    "# YOUR CODE HERE\n",
    "\n",
    "# the order makes the plot more clear\n",
    "list_of_metrics = [\n",
    "    (\"ERR\", err),\n",
    "    (\"MAP\", average_precision),\n",
    "    (\"Recall@1\",recall_at_1),\n",
    "    (\"Precision@1\", precision_at_1),\n",
    "    (\"Recall@5\", recall_at_5),\n",
    "    (\"Precision@5\", precision_at_5),\n",
    "    (\"Recall@10\", recall_at_10),\n",
    "    (\"Precision@10\", precision_at_10),\n",
    "    (\"Recall@20\", recall_at_20),\n",
    "    (\"Precision@20\", precision_at_20)]\n",
    "\n",
    "# this is the final dict for the plots\n",
    "complete = dict() \n",
    "# temporary dict to differentiate between index 1 and 2\n",
    "temp = dict()   \n",
    "\n",
    "# for both index sets\n",
    "for x in [1,2]:\n",
    "    for search in list_of_search_fns:\n",
    "        temp[search[0]] = evaluate_search_fn(search[1], list_of_metrics, x)\n",
    "    complete[x] = temp\n",
    "    # reset dict\n",
    "    temp = dict()\n",
    "\n",
    "methods = [search[0] for search in list_of_search_fns]\n",
    "metrics = [metric[0] for metric in list_of_metrics]\n",
    "    \n",
    "# split data according to index\n",
    "data_1 = defaultdict(list)\n",
    "data_2 = defaultdict(list)\n",
    "\n",
    "# temporary x-axis labels which are numeric\n",
    "temp_x = np.arange(len(methods)) # + 1\n",
    "\n",
    "# add values to complete\n",
    "for metric in metrics:\n",
    "\n",
    "    # index 1\n",
    "    values_1 = [complete[1][method][metric] for method in methods] \n",
    "    data_1[metric].append(values_1)\n",
    "    \n",
    "    # index 2\n",
    "    values_2 = [complete[2][method][metric] for method in methods]\n",
    "    data_2[metric].append(values_2)\n",
    "    \n",
    "# plot\n",
    "fig, ax = plt.subplots(5, 2, figsize=(20, 20))\n",
    "\n",
    "# adjust y and pad for spacing\n",
    "fig.suptitle('Metric per method per index set', y=1.02, size='xx-large')\n",
    "fig.tight_layout(pad=5.0)\n",
    "\n",
    "ax = ax.flatten()\n",
    "\n",
    "for index, metric in enumerate(metrics):\n",
    "    width = 0.35\n",
    "\n",
    "    # create plots for indices 1 and 2\n",
    "    ax[index].bar(temp_x - width/2, data_1[metric][0], width, color='salmon', label='Index set 1')\n",
    "    ax[index].bar(temp_x + width/2, data_2[metric][0], width, color='skyblue', label='Index set 2')\n",
    "\n",
    "    # set to actual labels\n",
    "    ax[index].set_xticks(temp_x)\n",
    "    ax[index].set_xticklabels(methods)\n",
    "\n",
    "    # set y-axis \n",
    "    ax[index].set_ylabel(metric + ' score')\n",
    "    ax[index].set_title('Figure {}: Results of {}'.format(index + 1, metric))\n",
    "    \n",
    "    # set same ylim for all plot to make differences between plots more clear\n",
    "    ax[index].set_ylim((0, 0.60))\n",
    "\n",
    "    ax[index].legend()\n",
    "\n",
    "   \n",
    "fig.show()"
   ]
  },
  {
   "cell_type": "markdown",
   "metadata": {
    "deletable": false,
    "editable": false,
    "nbgrader": {
     "cell_type": "markdown",
     "checksum": "e88c444a0acf4e398c65e289169b75f7",
     "grade": false,
     "grade_id": "cell-8aabe3bcf265deb0",
     "locked": true,
     "points": 10,
     "schema_version": 3,
     "solution": false,
     "task": true
    }
   },
   "source": [
    "---\n",
    "### Section 5.2: Summary (10 points)\n",
    "Write a summary of what you observe in the results.\n",
    "Your summary should compare results across the 2 indices and the methods being used. State what you expected to see in the results, followed by either supporting evidence *or* justify why the results did not support your expectations.      "
   ]
  },
  {
   "cell_type": "markdown",
   "metadata": {},
   "source": [
    "#### compare results across the 2 indices\n",
    "\n",
    "#### compare results with the methods used\n",
    "\n",
    "#### what did we expect to see\n",
    "\n",
    "#### is the result what we expected?\n",
    "\n",
    "Across the two indices, you can clearly see that index set 2 performs better in nearly all graphs. The results of the methods are what we expected i.e., in almost all metrics, BM25 performs best. Moreover, the recall score increases with the rank, whereas the precision decreases. Which makes a lot of sense because the more documents there are, the number of relevant items will decrease, wheras the number of retrieved relevant items will increase. \n",
    "\n",
    "ERR should be better than MAP because it takes the relevance of an item into account. This is supported by the graphs.\n",
    "\n",
    "Naive ql performs really bad but smoothing helps a lot. "
   ]
  },
  {
   "cell_type": "markdown",
   "metadata": {
    "deletable": false,
    "editable": false,
    "nbgrader": {
     "cell_type": "markdown",
     "checksum": "b3eb77be74eecca205fc7b47316d1627",
     "grade": false,
     "grade_id": "cell-bb60dd5c092d0f2e",
     "locked": true,
     "schema_version": 3,
     "solution": false,
     "task": false
    }
   },
   "source": [
    "---\n",
    "---\n",
    "# Part 2: Semantic-based Matching (85 points) <a class=\"anchor\" id=\"part2\"></a>\n",
    "\n",
    "[Back to top](#top)\n",
    "\n",
    "We will now experiment with methods that go beyond lexical methods like TF-IDF, which operate at the word level and are high dimensional and sparse, and look at methods which constructs low dimensional dense representations of queries and documents. \n",
    "\n",
    "Since these low-dimensional methods have a higher time complexity, they are typically used in conjunction with methods like BM-25. That is, instead of searching through potentially million documents to find matches using low dimensional vectors, a list of K documents are retrieved using BM25, and then **re-ranked** using the other method. This is the method that is going to be applied in the following exercises. \n",
    "\n",
    "LSI/LDA takes documents that are similar on a semantic level - for instance, if they are describing the same topic - and projects them into nearby vectors, despite having low lexical overlap.\n",
    "\n",
    "In this assignment, you will use `gensim` to create LSI/LDA models and use them in re-ranking. \n",
    "\n",
    "**Note**: The following exercises only uses `doc_repr_2` and `config_2`\n",
    "\n",
    "Table of contents:\n",
    "- [Section 6: LSI](#lsi) (15 points)\n",
    "- [Section 7: LDA](#lda) (10 points)\n",
    "- [Section 8: Word2Vec/Doc2Vec](#2vec) (20 points)\n",
    "- [Section 8: Re-ranking](#reranking) (10 points)\n",
    "- [Section 9: Re-ranking Evaluation](#reranking_eval) (30 points)"
   ]
  },
  {
   "cell_type": "markdown",
   "metadata": {
    "deletable": false,
    "editable": false,
    "nbgrader": {
     "cell_type": "markdown",
     "checksum": "f7c7b2cab82f576ed0acf836ca57171c",
     "grade": false,
     "grade_id": "cell-6b2c81e7a8abd180",
     "locked": true,
     "schema_version": 3,
     "solution": false,
     "task": false
    }
   },
   "source": [
    "---\n",
    "## Section 6: Latent Semantic Indexing (LSI) (15 points) <a class=\"anchor\" id=\"lsi\"></a>\n",
    "\n",
    "[Back to Part 2](#part2)\n",
    "\n",
    "LSI is one of the methods to embed the queries and documents into vectors. It is based on a method similar to Principal Component Analysis (PCA) for obtaining a dense concept matrix out of the sparse term-document matrix.\n",
    "\n",
    "See [wikipedia](https://en.wikipedia.org/wiki/Latent_semantic_analysis), particularly [#Mathematics_of_LSI](https://en.wikipedia.org/wiki/Latent_semantic_analysis#Mathematics_of_LSI)."
   ]
  },
  {
   "cell_type": "code",
   "execution_count": 71,
   "metadata": {
    "deletable": false,
    "editable": false,
    "nbgrader": {
     "cell_type": "code",
     "checksum": "c17ee75319cb517e2bf48ec3d9efc329",
     "grade": false,
     "grade_id": "cell-59913daee47f680d",
     "locked": true,
     "schema_version": 3,
     "solution": false,
     "task": false
    }
   },
   "outputs": [],
   "source": [
    "from gensim.corpora import Dictionary\n",
    "from gensim.models import LdaModel, LsiModel, Word2Vec\n",
    "from gensim.models.doc2vec import Doc2Vec, TaggedDocument\n",
    "from gensim import downloader as g_downloader\n",
    "# gensim uses logging, so set it up \n",
    "import logging\n",
    "logging.basicConfig(format='%(asctime)s : %(levelname)s : %(message)s', level=logging.INFO)"
   ]
  },
  {
   "cell_type": "markdown",
   "metadata": {
    "deletable": false,
    "editable": false,
    "nbgrader": {
     "cell_type": "markdown",
     "checksum": "5fce140c546759b54a9fc060901ae77c",
     "grade": false,
     "grade_id": "cell-3644faff4976598a",
     "locked": true,
     "schema_version": 3,
     "solution": false,
     "task": false
    }
   },
   "source": [
    "---\n",
    "### Section 6.1: Cosine Similarity (5 points)<a class=\"anchor\" id=\"cosing_sim\"></a>\n",
    "Before we begin, let us first define our method of similarity for the LSI model, the cosine similarity:\n",
    "\n",
    "$$\\text{similarity} = \\cos(\\theta) = {\\mathbf{A} \\cdot \\mathbf{B} \\over \\|\\mathbf{A}\\| \\|\\mathbf{B}\\|} = \\frac{ \\sum\\limits_{i=1}^{n}{A_i  B_i} }{ \\sqrt{\\sum\\limits_{i=1}^{n}{A_i^2}}  \\sqrt{\\sum\\limits_{i=1}^{n}{B_i^2}} }$$\n",
    "\n",
    "Since we are using gensim, the types of vectors returned by their classes are of the form defined below (they are not just simple vectors):"
   ]
  },
  {
   "cell_type": "code",
   "execution_count": 72,
   "metadata": {
    "deletable": false,
    "editable": false,
    "nbgrader": {
     "cell_type": "code",
     "checksum": "4e340e1a1d546f430c018fd0760e707a",
     "grade": false,
     "grade_id": "cell-3995a50f951314d5",
     "locked": true,
     "schema_version": 3,
     "solution": false,
     "task": false
    }
   },
   "outputs": [],
   "source": [
    "# 1, 2, 3 are either latent dimensions (LSI), or topics (LDA)\n",
    "# The second value in each tuple is a number (LSI) or a probability (LDA)  \n",
    "example_vec_1 = [(1, 0.2), (2, 0.3), (3, 0.4)]\n",
    "example_vec_2 = [(1, 0.2), (2, 0.7), (3, 0.4)]"
   ]
  },
  {
   "cell_type": "markdown",
   "metadata": {
    "deletable": false,
    "editable": false,
    "nbgrader": {
     "cell_type": "markdown",
     "checksum": "20832fd4f579f49ae204b0efee02edd1",
     "grade": false,
     "grade_id": "cell-5e54d581858dc8f7",
     "locked": true,
     "schema_version": 3,
     "solution": false,
     "task": false
    }
   },
   "source": [
    "---\n",
    "**Implementation (2+3 points):**\n",
    "Now, implement the `dot product` operation on these types of vectors and using this operator, implement the `cosine similarity` (don't forget: two functions to implement!):"
   ]
  },
  {
   "cell_type": "code",
   "execution_count": 73,
   "metadata": {
    "deletable": false,
    "nbgrader": {
     "cell_type": "code",
     "checksum": "06a712ee75fc213a21c5f0067fd8fe28",
     "grade": false,
     "grade_id": "cell-0e8189f5f93de33f",
     "locked": false,
     "schema_version": 3,
     "solution": true,
     "task": false
    }
   },
   "outputs": [],
   "source": [
    "# TODO: Implement this! (2 points)\n",
    "def dot(vec_1,vec_2): \n",
    "    \"\"\"\n",
    "        vec_1 and vec_2 are of the form: [(int, float), (int, float), ...]\n",
    "        Return the dot product of two such vectors, computed only on the floats\n",
    "        You can assume that the lengths of the vectors are the same, and the dimensions are aligned \n",
    "            i.e you won't get: vec_1 = [(1, 0.2)] ; vec_2 = [(2, 0.3)] \n",
    "                                (dimensions are unaligned and lengths are different)\n",
    "    \"\"\"\n",
    "    # YOUR CODE HERE\n",
    "    \n",
    "    values_1 = np.array([tup[1] for tup in vec_1])\n",
    "    values_2 = np.array([tup[1] for tup in vec_2])\n",
    "     \n",
    "    return np.dot(values_1, values_2)\n",
    "\n",
    "# TODO: Implement this! (3 points)\n",
    "def cosine_sim(vec_1, vec_2):\n",
    "    # YOUR CODE HERE\n",
    "    \n",
    "    if len(vec_1) == 0 or len(vec_2) == 0:\n",
    "        return 0\n",
    "    \n",
    "    numerator = dot(vec_1, vec_2)\n",
    "    denominator_a = np.sqrt(dot(vec_1, vec_1))\n",
    "    denominator_b = np.sqrt(dot(vec_2, vec_2))\n",
    "    \n",
    "    return numerator / (denominator_a * denominator_b)"
   ]
  },
  {
   "cell_type": "code",
   "execution_count": 74,
   "metadata": {
    "deletable": false,
    "editable": false,
    "nbgrader": {
     "cell_type": "code",
     "checksum": "d22a4a7325ba7815a808390388f534a1",
     "grade": true,
     "grade_id": "cell-b25d04ed6b79fd35",
     "locked": true,
     "points": 2,
     "schema_version": 3,
     "solution": false,
     "task": false
    }
   },
   "outputs": [
    {
     "name": "stdout",
     "output_type": "stream",
     "text": [
      "vectors: ([(1, 0.2), (2, 0.3), (3, 0.4)], [(1, 0.2), (2, 0.7), (3, 0.4)])\n",
      "dot product = 0.41000000000000003\n",
      "cosine similarity = 0.9165587597202866\n"
     ]
    }
   ],
   "source": [
    "##### Function check\n",
    "print(f'vectors: {(example_vec_1,example_vec_2)}')\n",
    "print(f'dot product = {dot(example_vec_1,example_vec_2)}')\n",
    "print(f'cosine similarity = {cosine_sim(example_vec_1,example_vec_2)}')\n",
    "##### "
   ]
  },
  {
   "cell_type": "code",
   "execution_count": 75,
   "metadata": {
    "deletable": false,
    "editable": false,
    "nbgrader": {
     "cell_type": "code",
     "checksum": "0744131724ce76b1b3f163b4bae5f700",
     "grade": true,
     "grade_id": "cell-ae3c4466866ace77",
     "locked": true,
     "points": 3,
     "schema_version": 3,
     "solution": false,
     "task": false
    }
   },
   "outputs": [],
   "source": [
    "#### Please do not change this. This cell is used for grading."
   ]
  },
  {
   "cell_type": "markdown",
   "metadata": {
    "deletable": false,
    "editable": false,
    "nbgrader": {
     "cell_type": "markdown",
     "checksum": "9b123f599f9ea372d14676e23f1c6a52",
     "grade": false,
     "grade_id": "cell-4b2534067c44fcdf",
     "locked": true,
     "schema_version": 3,
     "solution": false,
     "task": false
    }
   },
   "source": [
    "---\n",
    "### Section 6.2: LSI Retrieval (10 points)<a class=\"anchor\" id=\"lsi_retrieval\"></a>\n",
    "LSI retrieval is simply ranking the documents based on their cosine similarity to the query vector.\n",
    "First, let's write a parent class for vector-based retrieval models:"
   ]
  },
  {
   "cell_type": "code",
   "execution_count": 76,
   "metadata": {
    "deletable": false,
    "editable": false,
    "nbgrader": {
     "cell_type": "code",
     "checksum": "ecc111d58182570e2252b8ef5d6b02af",
     "grade": false,
     "grade_id": "cell-937936cea18711ee",
     "locked": true,
     "schema_version": 3,
     "solution": false,
     "task": false
    }
   },
   "outputs": [],
   "source": [
    "class VectorSpaceRetrievalModel:\n",
    "    \"\"\"\n",
    "        Parent class for Dense Vector Retrieval models\n",
    "    \"\"\"\n",
    "    def __init__(self, doc_repr):\n",
    "        \"\"\"\n",
    "            document_collection: \n",
    "                [\n",
    "                    (doc_id_1, [token 1, token 2, ...]), \n",
    "                    (doc_id_2, [token 1, token 2, ....]) \n",
    "                    ...\n",
    "                ]\n",
    "\n",
    "        \"\"\"\n",
    "        self.doc_repr = doc_repr\n",
    "        self.documents = [_[1] for _ in self.doc_repr]\n",
    "        \n",
    "        # construct a dictionary\n",
    "        self.dictionary = Dictionary(self.documents)\n",
    "        # Filter out words that occur less than 20 documents, or more than 50% of the documents.\n",
    "        self.dictionary.filter_extremes(no_below=10)\n",
    "        self.corpus = [self.dictionary.doc2bow(doc) for doc in self.documents]\n",
    "    \n",
    "        # Make a index to word dictionary.\n",
    "        temp = self.dictionary[0]  # This is only to \"load\" the dictionary.\n",
    "        self.id2word = self.dictionary.id2token\n",
    "        \n",
    "        # this is set by the train_model function\n",
    "        self.model = None\n",
    "        \n",
    "        \n",
    "    def vectorize_documents(self):\n",
    "        \"\"\"\n",
    "            Returns a doc_id -> vector dictionary\n",
    "        \"\"\"\n",
    "        vectors = {}\n",
    "        for (doc_id, _), cc in zip(self.doc_repr, self.corpus):\n",
    "            vectors[doc_id] = self.model[cc]\n",
    "        return vectors\n",
    "\n",
    "    def vectorize_query(self, query):\n",
    "        # Note the use of config_2 here!\n",
    "        query = process_text(query, **config_2)\n",
    "        query_vector = self.dictionary.doc2bow(query)\n",
    "        return self.model[query_vector]\n",
    "    \n",
    "    def train_model(self):\n",
    "        \"\"\"\n",
    "            Trains a model and sets the 'self.model' variable. \n",
    "            Make sure to use the variables created in the __init__ method.\n",
    "            e.g the variables which may be useful: {corpus, dictionary, id2word}\n",
    "        \"\"\"\n",
    "        raise NotImplementedError()"
   ]
  },
  {
   "cell_type": "markdown",
   "metadata": {
    "deletable": false,
    "editable": false,
    "nbgrader": {
     "cell_type": "markdown",
     "checksum": "ff161eefd9b81b768cd6361bc1a502b0",
     "grade": false,
     "grade_id": "cell-704a18c2f80cd60c",
     "locked": true,
     "schema_version": 3,
     "solution": false,
     "task": false
    }
   },
   "source": [
    "---\n",
    "**Implementation (5 points):**\n",
    "Implement the `train_model` method in the following class (note that this is only one line of code in `gensim`!). Ensure that the parameters defined in the `__init__` method are not changed, and are *used in the `train_method` function*. Normally, the hyperaparameter space will be searched using grid search / other methods - in this assignment we have provided the hyperparameters for you.\n",
    "\n",
    "The last two lines of code train an LSI model on the list of documents which have been stemmed, lower-cased and have stopwords removed. "
   ]
  },
  {
   "cell_type": "code",
   "execution_count": 77,
   "metadata": {
    "deletable": false,
    "nbgrader": {
     "cell_type": "code",
     "checksum": "0e90eedc27c248bc1ae050518a46a46c",
     "grade": false,
     "grade_id": "cell-307682c9089f15d6",
     "locked": false,
     "schema_version": 3,
     "solution": true,
     "task": false
    }
   },
   "outputs": [],
   "source": [
    "# TODO: Implement this! (5 points)\n",
    "class LsiRetrievalModel(VectorSpaceRetrievalModel):\n",
    "    def __init__(self, doc_repr):\n",
    "        super().__init__(doc_repr)\n",
    "        \n",
    "        self.num_topics = 100\n",
    "        self.chunksize = 2000\n",
    "    \n",
    "    def train_model(self):\n",
    "        # YOUR CODE HERE\n",
    "        \n",
    "        self.model = LsiModel(corpus=self.corpus, num_topics=self.num_topics, chunksize=self.chunksize, \n",
    "                              id2word=self.id2word)\n",
    "        \n",
    "        return self.model"
   ]
  },
  {
   "cell_type": "code",
   "execution_count": 78,
   "metadata": {
    "deletable": false,
    "editable": false,
    "nbgrader": {
     "cell_type": "code",
     "checksum": "00399cfe13d60cb4beed1271e36004b0",
     "grade": true,
     "grade_id": "cell-5ce512650c1b2dfb",
     "locked": true,
     "points": 0,
     "schema_version": 3,
     "solution": false,
     "task": false
    }
   },
   "outputs": [
    {
     "name": "stderr",
     "output_type": "stream",
     "text": [
      "2022-02-27 13:01:47,779 : INFO : adding document #0 to Dictionary(0 unique tokens: [])\n",
      "2022-02-27 13:01:47,876 : INFO : built Dictionary(5937 unique tokens: ['-', 'algebra', 'intern', 'languag', 'preliminari']...) from 3204 documents (total 115969 corpus positions)\n",
      "2022-02-27 13:01:47,882 : INFO : discarding 4740 tokens: [('repeat', 8), ('glossari', 7), ('inspect', 8), ('uncol', 2), ('rung', 9), ('secant', 2), ('.', 1603), ('acceler', 6), ('diverg', 3), ('induc', 9)]...\n",
      "2022-02-27 13:01:47,882 : INFO : keeping 1197 tokens which were in no less than 10 and no more than 1602 (=50.0%) documents\n",
      "2022-02-27 13:01:47,884 : INFO : resulting dictionary: Dictionary(1197 unique tokens: ['-', 'algebra', 'intern', 'languag', 'preliminari']...)\n",
      "2022-02-27 13:01:47,935 : INFO : using serial LSI version on this node\n",
      "2022-02-27 13:01:47,936 : INFO : updating model with new documents\n",
      "2022-02-27 13:01:47,936 : INFO : preparing a new chunk of documents\n",
      "2022-02-27 13:01:47,946 : INFO : using 100 extra samples and 2 power iterations\n",
      "2022-02-27 13:01:47,947 : INFO : 1st phase: constructing (1197, 200) action matrix\n",
      "2022-02-27 13:01:47,965 : INFO : orthonormalizing (1197, 200) action matrix\n",
      "2022-02-27 13:01:48,139 : INFO : 2nd phase: running dense svd on (200, 2000) matrix\n",
      "2022-02-27 13:01:48,287 : INFO : computing the final decomposition\n",
      "2022-02-27 13:01:48,288 : INFO : keeping 100 factors (discarding 13.452% of energy spectrum)\n",
      "2022-02-27 13:01:48,290 : INFO : processed documents up to #2000\n",
      "2022-02-27 13:01:48,291 : INFO : topic #0(152.127): 0.741*\",\" + 0.342*\"-\" + 0.211*\"system\" + 0.204*\"program\" + 0.192*\"comput\" + 0.146*\"(\" + 0.127*\"languag\" + 0.108*\")\" + 0.084*\"gener\" + 0.083*\"data\"\n",
      "2022-02-27 13:01:48,292 : INFO : topic #1(60.600): 0.607*\"(\" + 0.434*\")\" + 0.366*\"algorithm\" + 0.300*\"-\" + -0.237*\",\" + -0.213*\"system\" + -0.132*\"comput\" + 0.096*\"[\" + -0.093*\"program\" + 0.084*\"])\"\n",
      "2022-02-27 13:01:48,293 : INFO : topic #2(57.438): -0.744*\"-\" + 0.452*\",\" + -0.263*\"system\" + 0.214*\"(\" + 0.166*\")\" + -0.107*\"time\" + -0.105*\"program\" + 0.094*\"algorithm\" + -0.068*\"comput\" + -0.067*\"share\"\n",
      "2022-02-27 13:01:48,293 : INFO : topic #3(48.370): -0.483*\"system\" + -0.375*\"program\" + -0.367*\"comput\" + 0.363*\"-\" + 0.308*\",\" + -0.212*\"(\" + -0.168*\")\" + -0.147*\"algorithm\" + 0.144*\"languag\" + -0.119*\"time\"\n",
      "2022-02-27 13:01:48,294 : INFO : topic #4(45.710): -0.489*\"comput\" + 0.475*\"languag\" + 0.428*\"program\" + -0.238*\"method\" + -0.141*\"problem\" + 0.121*\"system\" + 0.109*\")\" + -0.107*\"equat\" + -0.100*\"algorithm\" + 0.099*\"(\"\n",
      "2022-02-27 13:01:48,294 : INFO : preparing a new chunk of documents\n",
      "2022-02-27 13:01:48,302 : INFO : using 100 extra samples and 2 power iterations\n",
      "2022-02-27 13:01:48,303 : INFO : 1st phase: constructing (1197, 200) action matrix\n",
      "2022-02-27 13:01:48,314 : INFO : orthonormalizing (1197, 200) action matrix\n",
      "2022-02-27 13:01:48,524 : INFO : 2nd phase: running dense svd on (200, 1204) matrix\n",
      "2022-02-27 13:01:48,631 : INFO : computing the final decomposition\n",
      "2022-02-27 13:01:48,631 : INFO : keeping 100 factors (discarding 14.031% of energy spectrum)\n",
      "2022-02-27 13:01:48,633 : INFO : merging projections: (1197, 100) + (1197, 100)\n",
      "2022-02-27 13:01:48,705 : INFO : keeping 100 factors (discarding 8.159% of energy spectrum)\n",
      "2022-02-27 13:01:48,707 : INFO : processed documents up to #3204\n",
      "2022-02-27 13:01:48,708 : INFO : topic #0(225.136): 0.759*\",\" + 0.337*\"-\" + 0.196*\"system\" + 0.186*\"program\" + 0.166*\"comput\" + 0.139*\"(\" + 0.103*\")\" + 0.103*\"algorithm\" + 0.099*\"languag\" + 0.087*\"time\"\n",
      "2022-02-27 13:01:48,708 : INFO : topic #1(87.805): 0.613*\"-\" + -0.399*\",\" + 0.399*\"(\" + 0.326*\"algorithm\" + 0.293*\")\" + -0.129*\"system\" + -0.107*\"program\" + 0.085*\"method\" + 0.077*\"time\" + 0.062*\"1\"\n",
      "2022-02-27 13:01:48,709 : INFO : topic #2(81.909): 0.550*\"-\" + -0.434*\"(\" + 0.355*\"system\" + -0.321*\")\" + -0.291*\",\" + -0.266*\"algorithm\" + 0.146*\"program\" + 0.123*\"comput\" + 0.078*\"time\" + -0.064*\"[\"\n",
      "2022-02-27 13:01:48,709 : INFO : topic #3(72.433): -0.693*\"program\" + 0.339*\",\" + 0.279*\"-\" + -0.251*\"(\" + -0.221*\"system\" + -0.214*\"languag\" + -0.204*\")\" + -0.160*\"comput\" + -0.099*\"data\" + -0.056*\"execut\"\n",
      "2022-02-27 13:01:48,710 : INFO : topic #4(68.523): -0.673*\"system\" + 0.453*\"program\" + 0.254*\"languag\" + 0.212*\"-\" + -0.179*\"comput\" + -0.165*\"(\" + -0.121*\")\" + -0.115*\"model\" + 0.101*\",\" + -0.098*\"algorithm\"\n"
     ]
    },
    {
     "data": {
      "text/plain": [
       "[(0, 0.015215964831070709),\n",
       " (1, -0.016269641770370935),\n",
       " (2, -0.00018210822929154219),\n",
       " (3, -0.001848839848212038),\n",
       " (4, -0.00940055972102331),\n",
       " (5, -0.004778226536230621),\n",
       " (6, 0.027094275618461047),\n",
       " (7, 0.016804782327011287),\n",
       " (8, -0.03176057077871815),\n",
       " (9, -0.0007108766565480876),\n",
       " (10, 0.002199069009485823),\n",
       " (11, -0.01752979773777449),\n",
       " (12, 2.042591605217782e-05),\n",
       " (13, 0.0014762553606523293),\n",
       " (14, 0.0043027765387428085),\n",
       " (15, 0.004995188512388799),\n",
       " (16, 0.005135386344133735),\n",
       " (17, 0.002163570635460639),\n",
       " (18, -0.01780350037449759),\n",
       " (19, 0.019839843418054684),\n",
       " (20, -0.00996354014737335),\n",
       " (21, -0.013050251453788953),\n",
       " (22, 0.04785811065029703),\n",
       " (23, 0.025852194409890762),\n",
       " (24, -0.011289706336956471),\n",
       " (25, -0.011147232199558883),\n",
       " (26, 0.006035656197839877),\n",
       " (27, 0.07523711652237783),\n",
       " (28, -0.06230674998264584),\n",
       " (29, 0.029655770118350987),\n",
       " (30, 0.04170556184696471),\n",
       " (31, 0.04356649270620878),\n",
       " (32, -0.07267146034379368),\n",
       " (33, 0.05025458356861405),\n",
       " (34, -0.022130701891183942),\n",
       " (35, 0.06285024946654776),\n",
       " (36, 0.047581887187736635),\n",
       " (37, -0.008151689873400425),\n",
       " (38, -0.05958098301200244),\n",
       " (39, 0.025027453938641475),\n",
       " (40, -0.04403366786332703),\n",
       " (41, -0.031470536908157556),\n",
       " (42, 0.022265450354188997),\n",
       " (43, 0.014288036539667336),\n",
       " (44, 0.02899665563877346),\n",
       " (45, -0.05227898900935031),\n",
       " (46, -0.010415473300554296),\n",
       " (47, 0.009221628475309026),\n",
       " (48, 0.01419209268203653),\n",
       " (49, 0.035997654540749144),\n",
       " (50, 0.01891032392645288),\n",
       " (51, 0.04775584370196346),\n",
       " (52, -0.012043022411573977),\n",
       " (53, 0.003206385773360459),\n",
       " (54, 0.0366104550392624),\n",
       " (55, 0.009963269869881452),\n",
       " (56, 0.026091365910847576),\n",
       " (57, -0.01989379586581015),\n",
       " (58, -0.009689678261090047),\n",
       " (59, 0.04221928118591163),\n",
       " (60, -0.025224580595317764),\n",
       " (61, -0.04858350885208499),\n",
       " (62, 0.03800995049823703),\n",
       " (63, 0.04589502550700216),\n",
       " (64, 0.008035286170153207),\n",
       " (65, 0.05696449281484213),\n",
       " (66, 0.005154159066885703),\n",
       " (67, -0.04688397997576531),\n",
       " (68, 0.03563947615637061),\n",
       " (69, -0.03783746055814299),\n",
       " (70, -0.04556817624928187),\n",
       " (71, -0.02206193323081288),\n",
       " (72, 0.02779724720858318),\n",
       " (73, -0.08104801615397408),\n",
       " (74, -0.044182619436894055),\n",
       " (75, 0.02959542648239472),\n",
       " (76, -0.02367807213044532),\n",
       " (77, 0.03372920564346499),\n",
       " (78, 0.04120868197593537),\n",
       " (79, 0.01194148607733828),\n",
       " (80, -0.03292346027065241),\n",
       " (81, 0.0018221587306227437),\n",
       " (82, 0.0456018155626092),\n",
       " (83, 0.03380908445139776),\n",
       " (84, -0.05194115891463855),\n",
       " (85, 0.009470828902684934),\n",
       " (86, 0.017103237797457194),\n",
       " (87, 0.00713871620256681),\n",
       " (88, -0.06713496278820082),\n",
       " (89, -0.07088102667202217),\n",
       " (90, -0.03110191700621891),\n",
       " (91, 0.03564076268938431),\n",
       " (92, 0.004566272517493709),\n",
       " (93, -0.04257555415636706),\n",
       " (94, 0.05333886585167494),\n",
       " (95, -0.01951375559719306),\n",
       " (96, -0.0010425903411254312),\n",
       " (97, 0.0279951402605479),\n",
       " (98, 0.017529296009198638),\n",
       " (99, -0.010905623516471482)]"
      ]
     },
     "execution_count": 78,
     "metadata": {},
     "output_type": "execute_result"
    }
   ],
   "source": [
    "##### Function check\n",
    "lsi = LsiRetrievalModel(doc_repr_2)\n",
    "lsi.train_model()\n",
    "\n",
    "# you can now get an LSI vector for a given query in the following way:\n",
    "lsi.vectorize_query(\"report\")\n",
    "##### "
   ]
  },
  {
   "cell_type": "markdown",
   "metadata": {
    "deletable": false,
    "editable": false,
    "nbgrader": {
     "cell_type": "markdown",
     "checksum": "7116bb9f576c5bb04934e1d59c51d729",
     "grade": false,
     "grade_id": "cell-4c5eeb557b4fca2f",
     "locked": true,
     "points": 5,
     "schema_version": 3,
     "solution": false,
     "task": true
    }
   },
   "source": [
    "\\#### Please do not change this. This cell is used for grading."
   ]
  },
  {
   "cell_type": "markdown",
   "metadata": {
    "deletable": false,
    "editable": false,
    "nbgrader": {
     "cell_type": "markdown",
     "checksum": "26e2ff3c413745e633d99f66c041d6b1",
     "grade": false,
     "grade_id": "cell-c4e50296cd17a555",
     "locked": true,
     "schema_version": 3,
     "solution": false,
     "task": false
    }
   },
   "source": [
    "---\n",
    "**Implementation (5 points):**\n",
    " Next, implement a basic ranking class for vector space retrieval (used for all semantic methods): "
   ]
  },
  {
   "cell_type": "code",
   "execution_count": 79,
   "metadata": {
    "deletable": false,
    "nbgrader": {
     "cell_type": "code",
     "checksum": "1a8389d2f0635c3405e2b0b27ed9f327",
     "grade": false,
     "grade_id": "cell-250515d288e80cdc",
     "locked": false,
     "schema_version": 3,
     "solution": true,
     "task": false
    }
   },
   "outputs": [],
   "source": [
    "# TODO: Implement this! (5 points)\n",
    "class DenseRetrievalRanker:\n",
    "    def __init__(self, vsrm, similarity_fn):\n",
    "        \"\"\"\n",
    "            vsrm: instance of `VectorSpaceRetrievalModel`\n",
    "            similarity_fn: function instance that takes in two vectors \n",
    "                            and returns a similarity score e.g cosine_sim defined earlier\n",
    "        \"\"\"\n",
    "        self.vsrm = vsrm \n",
    "        self.vectorized_documents = self.vsrm.vectorize_documents()\n",
    "        self.similarity_fn = similarity_fn\n",
    "    \n",
    "    def _compute_sim(self, query_vector):\n",
    "        \"\"\"\n",
    "            Compute the similarity of `query_vector` to documents in \n",
    "            `self.vectorized_documents` using `self.similarity_fn`\n",
    "            Returns a list of (doc_id, score) tuples\n",
    "        \"\"\"\n",
    "        # YOUR CODE HERE\n",
    "        \n",
    "        output = []\n",
    "        \n",
    "        for doc_id in list(self.vectorized_documents.keys()):\n",
    "            output.append((doc_id, self.similarity_fn(query_vector, self.vectorized_documents[doc_id])))\n",
    "        \n",
    "        return output\n",
    "    \n",
    "    def search(self, query):\n",
    "        scores = self._compute_sim(self.vsrm.vectorize_query(query))\n",
    "        scores.sort(key=lambda _:-_[1])\n",
    "        return scores \n"
   ]
  },
  {
   "cell_type": "code",
   "execution_count": 80,
   "metadata": {
    "deletable": false,
    "editable": false,
    "nbgrader": {
     "cell_type": "code",
     "checksum": "f237dd1ef6c1783c06797f4b514421f5",
     "grade": true,
     "grade_id": "cell-b73068b3e77a8e31",
     "locked": true,
     "points": 0,
     "schema_version": 3,
     "solution": false,
     "task": false
    }
   },
   "outputs": [
    {
     "data": {
      "text/plain": [
       "[('599', 0.7994141283233694),\n",
       " ('947', 0.5778417812130227),\n",
       " ('53', 0.48576073135810927),\n",
       " ('1339', 0.4511432786293885),\n",
       " ('3160', 0.44486289843334237)]"
      ]
     },
     "execution_count": 80,
     "metadata": {},
     "output_type": "execute_result"
    }
   ],
   "source": [
    "##### Function check\n",
    "drm_lsi = DenseRetrievalRanker(lsi, cosine_sim)\n",
    "drm_lsi.search(\"report\")[:5]\n",
    "##### "
   ]
  },
  {
   "cell_type": "markdown",
   "metadata": {
    "deletable": false,
    "editable": false,
    "nbgrader": {
     "cell_type": "markdown",
     "checksum": "5b3f19fdcaa585d263706d5a26038799",
     "grade": false,
     "grade_id": "cell-034c755a6502b868",
     "locked": true,
     "points": 5,
     "schema_version": 3,
     "solution": false,
     "task": true
    }
   },
   "source": [
    "\\#### Please do not change this. This cell is used for grading."
   ]
  },
  {
   "cell_type": "markdown",
   "metadata": {
    "deletable": false,
    "editable": false,
    "nbgrader": {
     "cell_type": "markdown",
     "checksum": "dcafef6e037033c46304b914f7c78bdf",
     "grade": false,
     "grade_id": "cell-d1df23f497d5ed6b",
     "locked": true,
     "schema_version": 3,
     "solution": false,
     "task": false
    }
   },
   "source": [
    "---\n",
    "Now, you can test your LSI model in the following cell: try finding queries which are lexically different to documents, but semantically similar - does LSI work well for these queries?!"
   ]
  },
  {
   "cell_type": "code",
   "execution_count": 81,
   "metadata": {
    "deletable": false,
    "editable": false,
    "nbgrader": {
     "cell_type": "code",
     "checksum": "11734bc7674377b340ad51297a8e8bb5",
     "grade": false,
     "grade_id": "cell-efd1d08dfc04ec3e",
     "locked": true,
     "schema_version": 3,
     "solution": false,
     "task": false
    }
   },
   "outputs": [
    {
     "data": {
      "application/vnd.jupyter.widget-view+json": {
       "model_id": "adc630a31319454a9b528072e7d0d2fa",
       "version_major": 2,
       "version_minor": 0
      },
      "text/plain": [
       "Text(value='', description='Search Bar')"
      ]
     },
     "metadata": {},
     "output_type": "display_data"
    }
   ],
   "source": [
    "# test your LSI model\n",
    "search_fn = drm_lsi.search\n",
    "\n",
    "text = widgets.Text(description=\"Search Bar\", width=200)\n",
    "display(text)\n",
    "\n",
    "def make_results_2(query, search_fn):\n",
    "    results = []\n",
    "    for doc_id, score in search_fn(query):\n",
    "        highlight = highlight_text(docs_by_id[doc_id], query)\n",
    "        if len(highlight.strip()) == 0:\n",
    "            highlight = docs_by_id[doc_id]\n",
    "        results.append(ResultRow(doc_id, highlight, score))\n",
    "    return results\n",
    "\n",
    "def handle_submit_2(sender):\n",
    "    print(f\"Searching for: '{sender.value}' (SEARCH FN: {search_fn})\")\n",
    "    \n",
    "    results = make_results_2(sender.value, search_fn)\n",
    "    \n",
    "    # display only the top 5\n",
    "    results = results[:5]\n",
    "    \n",
    "    body = \"\"\n",
    "    for idx, r in enumerate(results):\n",
    "        body += f\"<li>Document #{r.doc_id}({r.score}): {r.snippet}</li>\"\n",
    "    display(HTML(f\"<ul>{body}</ul>\"))\n",
    "    \n",
    "\n",
    "text.on_submit(handle_submit_2)"
   ]
  },
  {
   "cell_type": "markdown",
   "metadata": {
    "deletable": false,
    "editable": false,
    "nbgrader": {
     "cell_type": "markdown",
     "checksum": "d074ce1ca48384cdda78742741c938be",
     "grade": false,
     "grade_id": "cell-3a86cef264d8f6cf",
     "locked": true,
     "schema_version": 3,
     "solution": false,
     "task": false
    }
   },
   "source": [
    "---\n",
    "## Section 7: Latent Dirichlet Allocation (LDA) (10 points) <a class=\"anchor\" id=\"lda\"></a>\n",
    "\n",
    "[Back to Part 2](#part2)\n",
    "\n",
    "The specifics of LDA is out of the scope of this assignment, but we will use the `gensim` implementation to perform search using LDA over our small document collection. The key thing to remember is that LDA, unlike LSI, outputs a topic **distribution**, not a vector. With that in mind, let's first define a similarity measure.\n"
   ]
  },
  {
   "cell_type": "markdown",
   "metadata": {
    "deletable": false,
    "editable": false,
    "nbgrader": {
     "cell_type": "markdown",
     "checksum": "db01092373b18f0c9dfed1bb17db4ad9",
     "grade": false,
     "grade_id": "cell-6b78ad22c2d60ba7",
     "locked": true,
     "schema_version": 3,
     "solution": false,
     "task": false
    }
   },
   "source": [
    "---\n",
    "### Section 7.1: Jenson-Shannon divergence (5 points) <a class=\"anchor\" id=\"js_sim\"></a>\n",
    "\n",
    "The Jenson-Shannon divergence is a symmetric and finite measure on two probability distributions (unlike the KL, which is neither). For identical distributions, the JSD is equal to 0, and since our code uses 0 as irrelevant and higher scores as relevant, we use `(1 - JSD)` as the score or 'similarity' in our setup\n",
    "\n",
    "**Note**: the JSD is bounded to \\[0,1\\] only if we use log base 2. So please ensure that you're using `np.log2` instead of `np.log`"
   ]
  },
  {
   "cell_type": "code",
   "execution_count": 267,
   "metadata": {
    "deletable": false,
    "nbgrader": {
     "cell_type": "code",
     "checksum": "a579e6cd7a24a3516bc9a84528b392d3",
     "grade": false,
     "grade_id": "cell-d2376a85a4841e98",
     "locked": false,
     "schema_version": 3,
     "solution": true,
     "task": false
    }
   },
   "outputs": [
    {
     "data": {
      "text/plain": [
       "0"
      ]
     },
     "execution_count": 267,
     "metadata": {},
     "output_type": "execute_result"
    }
   ],
   "source": [
    "## TODO: Implement this! (5 points)\n",
    "def jenson_shannon_divergence(vec_1, vec_2, assert_prob=False):\n",
    "    \"\"\"\n",
    "        Computes the Jensen-Shannon divergence between two probability distributions. \n",
    "        NOTE: DO NOT RETURN 1 - JSD here, that is handled by the next function which is already implemented! \n",
    "        The inputs are *gensim* vectors - same as the vectors for the cosine_sim function\n",
    "        assert_prob is a flag that checks if the inputs are proper probability distributions \n",
    "            i.e they sum to 1 and are positive - use this to check your inputs if needed. \n",
    "                (This is optional to implement, but recommended - \n",
    "                you can the default to False to save a few ms off the runtime)\n",
    "    \"\"\"\n",
    "    # YOUR CODE HERE\n",
    "    \n",
    "    def kl_divergence(vec_1, vec_2):\n",
    "        \n",
    "        score = 0\n",
    "        \n",
    "        for i in range(len(vec_1)):\n",
    "            # np.log2 [0, 1]\n",
    "            # vec_2 is a list and not list of tuples\n",
    "            score += vec_1[i][1] * np.log2(vec_1[i][1] / vec_2[i])\n",
    "        \n",
    "        return score\n",
    "        \n",
    "    if assert_prob == True:\n",
    "    \n",
    "        condition_1 = np.sum([tup[1] for tup in vec_1 if tup[1] > 0]) \n",
    "        condition_2 = np.sum([tup[1] for tup in vec_2 if tup[1] > 0])\n",
    "    \n",
    "        if condition_1 == 1 and condition_2 == 1:\n",
    "            m = [0.5 * (vec_1[i][1] + vec_2[i][1]) for i in range(len(vec_1))] \n",
    "            return (0.5 * kl_divergence(vec_1, m)) + (0.5 * kl_divergence(vec_2, m))\n",
    "        else:\n",
    "            return 1  \n",
    "        \n",
    "    m = [0.5 * (vec_1[i][1] + vec_2[i][1]) for i in range(len(vec_1))] \n",
    "    return (0.5 * kl_divergence(vec_1, m)) + (0.5 * kl_divergence(vec_2, m))\n",
    "\n",
    "def jenson_shannon_sim(vec_1, vec_2, assert_prob=True):\n",
    "    \n",
    "    # added the assert_prob to check if the assert_prob in def jenson_shannon_divergence works\n",
    "    return 1 - jenson_shannon_divergence(vec_1, vec_2, assert_prob)\n",
    "\n",
    "\n",
    "##### Function check\n",
    "vec_1 = [(1, 0.3), (2, 0.4), (3, 0.4)]\n",
    "vec_2 = [(1, 0.1), (2, 0.7), (3, 0.2)]\n",
    "jenson_shannon_sim(vec_1, vec_2, assert_prob=True)\n",
    "##### "
   ]
  },
  {
   "cell_type": "code",
   "execution_count": 265,
   "metadata": {
    "deletable": false,
    "editable": false,
    "nbgrader": {
     "cell_type": "code",
     "checksum": "ab340aa941c9fb5c89b3fd0a9139e246",
     "grade": true,
     "grade_id": "cell-487c6d2933f38053",
     "locked": true,
     "points": 5,
     "schema_version": 3,
     "solution": false,
     "task": false
    }
   },
   "outputs": [
    {
     "data": {
      "text/plain": [
       "0.9251064410358459"
      ]
     },
     "execution_count": 265,
     "metadata": {},
     "output_type": "execute_result"
    }
   ],
   "source": [
    "##### Function check\n",
    "vec_1 = [(1, 0.3), (2, 0.4), (3, 0.3)]\n",
    "vec_2 = [(1, 0.1), (2, 0.7), (3, 0.2)]\n",
    "jenson_shannon_sim(vec_1, vec_2, assert_prob=True)\n",
    "##### "
   ]
  },
  {
   "cell_type": "markdown",
   "metadata": {
    "deletable": false,
    "editable": false,
    "nbgrader": {
     "cell_type": "markdown",
     "checksum": "0a1583a5f23e3390038331cce67f5d8e",
     "grade": false,
     "grade_id": "cell-4535cc67a50b80fa",
     "locked": true,
     "schema_version": 3,
     "solution": false,
     "task": false
    }
   },
   "source": [
    "---\n",
    "### Section 7.2: LDA retrieval (5 points) <a class=\"anchor\" id=\"lda_ret\"></a>\n",
    "\n",
    "Implement the `train_model` method in the following class (note that this is only one line of code in `gensim`!). Ensure that the parameters defined in the `__init__` method are not changed, and are *used in the `train_method` function*. You do not need to set this. Normally, the hyperaparameter space will be searched using grid search / other methods. Note that training the LDA model might take some time\n",
    "\n",
    "The last two lines of code train an LDA model on the list of documents which have been stemmed, lower-cased and have stopwords removed. "
   ]
  },
  {
   "cell_type": "code",
   "execution_count": 262,
   "metadata": {
    "deletable": false,
    "nbgrader": {
     "cell_type": "code",
     "checksum": "27de8e4fa85536bb396b73bfc51b3f50",
     "grade": false,
     "grade_id": "cell-021a48dff4a8bb91",
     "locked": false,
     "schema_version": 3,
     "solution": true,
     "task": false
    }
   },
   "outputs": [],
   "source": [
    "# TODO: Implement this! (5 points)\n",
    "class LdaRetrievalModel(VectorSpaceRetrievalModel):\n",
    "    def __init__(self, doc_repr):\n",
    "        super().__init__(doc_repr)\n",
    "        \n",
    "        # use these parameters in the train_model method\n",
    "        self.num_topics = 100\n",
    "        self.chunksize = 2000\n",
    "        self.passes = 20\n",
    "        self.iterations = 400\n",
    "        self.eval_every = 10\n",
    "        # this is need to get full vectors\n",
    "        self.minimum_probability=0.0\n",
    "        self.alpha='auto'\n",
    "        self.eta='auto'\n",
    "    \n",
    "    \n",
    "    def train_model(self):\n",
    "        # YOUR CODE HERE\n",
    "\n",
    "        self.model = LdaModel(corpus=self.corpus, num_topics=self.num_topics, chunksize=self.chunksize, passes=self.passes, \n",
    "                              iterations=self.iterations, eval_every=self.eval_every, \n",
    "                              minimum_probability=self.minimum_probability, alpha=self.alpha, eta=self.eta)\n",
    "        \n",
    "        return self.model"
   ]
  },
  {
   "cell_type": "code",
   "execution_count": 263,
   "metadata": {
    "deletable": false,
    "editable": false,
    "nbgrader": {
     "cell_type": "code",
     "checksum": "be70fcb8098d0b6ce64cd2a10e6a05b7",
     "grade": true,
     "grade_id": "cell-86750b715f0345fd",
     "locked": true,
     "points": 0,
     "schema_version": 3,
     "solution": false,
     "task": false
    }
   },
   "outputs": [
    {
     "name": "stderr",
     "output_type": "stream",
     "text": [
      "2022-02-27 15:15:07,885 : INFO : adding document #0 to Dictionary(0 unique tokens: [])\n",
      "2022-02-27 15:15:08,002 : INFO : built Dictionary(5937 unique tokens: ['-', 'algebra', 'intern', 'languag', 'preliminari']...) from 3204 documents (total 115969 corpus positions)\n",
      "2022-02-27 15:15:08,007 : INFO : discarding 4740 tokens: [('repeat', 8), ('glossari', 7), ('inspect', 8), ('uncol', 2), ('rung', 9), ('secant', 2), ('.', 1603), ('acceler', 6), ('diverg', 3), ('induc', 9)]...\n",
      "2022-02-27 15:15:08,008 : INFO : keeping 1197 tokens which were in no less than 10 and no more than 1602 (=50.0%) documents\n",
      "2022-02-27 15:15:08,009 : INFO : resulting dictionary: Dictionary(1197 unique tokens: ['-', 'algebra', 'intern', 'languag', 'preliminari']...)\n",
      "2022-02-27 15:15:08,061 : WARNING : no word id mapping provided; initializing from corpus, assuming identity\n",
      "2022-02-27 15:15:08,072 : INFO : using autotuned alpha, starting with [0.01, 0.01, 0.01, 0.01, 0.01, 0.01, 0.01, 0.01, 0.01, 0.01, 0.01, 0.01, 0.01, 0.01, 0.01, 0.01, 0.01, 0.01, 0.01, 0.01, 0.01, 0.01, 0.01, 0.01, 0.01, 0.01, 0.01, 0.01, 0.01, 0.01, 0.01, 0.01, 0.01, 0.01, 0.01, 0.01, 0.01, 0.01, 0.01, 0.01, 0.01, 0.01, 0.01, 0.01, 0.01, 0.01, 0.01, 0.01, 0.01, 0.01, 0.01, 0.01, 0.01, 0.01, 0.01, 0.01, 0.01, 0.01, 0.01, 0.01, 0.01, 0.01, 0.01, 0.01, 0.01, 0.01, 0.01, 0.01, 0.01, 0.01, 0.01, 0.01, 0.01, 0.01, 0.01, 0.01, 0.01, 0.01, 0.01, 0.01, 0.01, 0.01, 0.01, 0.01, 0.01, 0.01, 0.01, 0.01, 0.01, 0.01, 0.01, 0.01, 0.01, 0.01, 0.01, 0.01, 0.01, 0.01, 0.01, 0.01]\n",
      "2022-02-27 15:15:08,083 : INFO : using serial LDA version on this node\n",
      "2022-02-27 15:15:08,105 : INFO : running online (multi-pass) LDA training, 100 topics, 20 passes over the supplied corpus of 3204 documents, updating model once every 2000 documents, evaluating perplexity every 3204 documents, iterating 400x with a convergence threshold of 0.001000\n",
      "2022-02-27 15:15:08,106 : INFO : PROGRESS: pass 0, at document #2000/3204\n",
      "2022-02-27 15:15:09,059 : INFO : optimized alpha [0.009834968, 0.009891924, 0.009803536, 0.009881356, 0.009814793, 0.00976208, 0.00981406, 0.009839816, 0.009824457, 0.009787779, 0.009922459, 0.009798298, 0.009777583, 0.009850431, 0.009834411, 0.0098709725, 0.009830916, 0.00985399, 0.009813651, 0.009843362, 0.009798188, 0.009865669, 0.009772319, 0.009793104, 0.009875445, 0.0098396875, 0.009813374, 0.009850682, 0.009803915, 0.009850508, 0.00981874, 0.009782627, 0.00978289, 0.009829558, 0.0098349955, 0.009787946, 0.009808614, 0.009865889, 0.009845146, 0.009782662, 0.009897144, 0.009808601, 0.009925717, 0.009772275, 0.009777486, 0.009809031, 0.00982948, 0.009788, 0.009767252, 0.009792982, 0.009845236, 0.009762135, 0.00980866, 0.009885922, 0.009787901, 0.009927537, 0.009824448, 0.009792347, 0.009901529, 0.0097877225, 0.009865559, 0.009793344, 0.00979822, 0.009813722, 0.009802579, 0.009834315, 0.00990629, 0.009798039, 0.009803485, 0.009880728, 0.009808174, 0.009845042, 0.009782979, 0.009814224, 0.009813736, 0.009881207, 0.009901859, 0.009772507, 0.009829699, 0.009829625, 0.009803308, 0.009772459, 0.009897356, 0.009787748, 0.009798236, 0.0098033305, 0.009965003, 0.009829272, 0.009886061, 0.009782893, 0.010042513, 0.009793051, 0.009777583, 0.009944281, 0.009954658, 0.0097826775, 0.009854859, 0.009813788, 0.009829615, 0.009796848]\n",
      "2022-02-27 15:15:09,062 : INFO : merging changes from 2000 documents into a model of 3204 documents\n",
      "2022-02-27 15:15:09,066 : INFO : topic #5 (0.010): 0.071*\"324\" + 0.048*\"89\" + 0.047*\"15\" + 0.046*\"790\" + 0.046*\"333\" + 0.045*\"386\" + 0.042*\"320\" + 0.040*\"314\" + 0.039*\"298\" + 0.000*\"800\"\n",
      "2022-02-27 15:15:09,067 : INFO : topic #48 (0.010): 0.070*\"89\" + 0.070*\"212\" + 0.070*\"13\" + 0.035*\"287\" + 0.035*\"286\" + 0.035*\"40\" + 0.035*\"288\" + 0.035*\"384\" + 0.035*\"529\" + 0.035*\"35\"\n",
      "2022-02-27 15:15:09,067 : INFO : topic #93 (0.010): 0.099*\"50\" + 0.027*\"13\" + 0.027*\"49\" + 0.026*\"0\" + 0.016*\"3\" + 0.014*\"115\" + 0.011*\"34\" + 0.011*\"146\" + 0.010*\"45\" + 0.010*\"238\"\n",
      "2022-02-27 15:15:09,067 : INFO : topic #94 (0.010): 0.088*\"50\" + 0.027*\"6\" + 0.026*\"49\" + 0.025*\"13\" + 0.020*\"0\" + 0.015*\"34\" + 0.013*\"83\" + 0.012*\"57\" + 0.011*\"35\" + 0.011*\"3\"\n",
      "2022-02-27 15:15:09,068 : INFO : topic #90 (0.010): 0.081*\"50\" + 0.035*\"0\" + 0.034*\"34\" + 0.025*\"35\" + 0.020*\"49\" + 0.018*\"6\" + 0.014*\"13\" + 0.013*\"83\" + 0.013*\"146\" + 0.012*\"73\"\n",
      "2022-02-27 15:15:09,068 : INFO : topic diff=82.480179, rho=1.000000\n",
      "2022-02-27 15:15:09,666 : INFO : -7.287 per-word bound, 156.1 perplexity estimate based on a held-out corpus of 1204 documents with 49783 words\n",
      "2022-02-27 15:15:09,668 : INFO : PROGRESS: pass 0, at document #3204/3204\n",
      "2022-02-27 15:15:10,136 : INFO : optimized alpha [0.01002476, 0.009939618, 0.010137543, 0.010286094, 0.009907754, 0.009581396, 0.01013475, 0.010040451, 0.010018186, 0.0097644115, 0.009879464, 0.009874839, 0.009684211, 0.0099984305, 0.01003573, 0.010091046, 0.010191876, 0.010030567, 0.010047489, 0.010268011, 0.009809695, 0.010146889, 0.0096780285, 0.009991293, 0.0100725405, 0.010033373, 0.009689559, 0.010011644, 0.0102057485, 0.009998975, 0.010070324, 0.009683064, 0.009935202, 0.009888641, 0.01013553, 0.009940624, 0.010120171, 0.010115519, 0.010022398, 0.00980546, 0.010237982, 0.009897026, 0.009858231, 0.009677897, 0.00963658, 0.009986868, 0.010001219, 0.009958116, 0.009615318, 0.00982656, 0.009874735, 0.009517846, 0.010007924, 0.009973203, 0.009758594, 0.010094072, 0.010048352, 0.009920372, 0.010031052, 0.009892159, 0.0098598255, 0.010170324, 0.009868339, 0.010012711, 0.009902633, 0.009969263, 0.009945466, 0.00982099, 0.010009451, 0.009956488, 0.009918209, 0.010028895, 0.009848141, 0.010298227, 0.010096084, 0.010011738, 0.010037731, 0.0098180035, 0.010101397, 0.009982729, 0.010154065, 0.009841685, 0.010266723, 0.00967648, 0.009756603, 0.009662543, 0.010228249, 0.0097586475, 0.01001029, 0.009906483, 0.010179093, 0.009850262, 0.009911495, 0.010400704, 0.0101588, 0.009740882, 0.010001843, 0.009895531, 0.009942133, 0.009900335]\n",
      "2022-02-27 15:15:10,139 : INFO : merging changes from 1204 documents into a model of 3204 documents\n",
      "2022-02-27 15:15:10,142 : INFO : topic #51 (0.010): 0.199*\"163\" + 0.070*\"309\" + 0.065*\"13\" + 0.030*\"50\" + 0.023*\"174\" + 0.018*\"204\" + 0.010*\"128\" + 0.009*\"267\" + 0.008*\"14\" + 0.008*\"1160\"\n",
      "2022-02-27 15:15:10,143 : INFO : topic #5 (0.010): 0.386*\"324\" + 0.225*\"790\" + 0.086*\"298\" + 0.046*\"333\" + 0.041*\"15\" + 0.022*\"89\" + 0.019*\"320\" + 0.019*\"314\" + 0.004*\"386\" + 0.000*\"802\"\n",
      "2022-02-27 15:15:10,143 : INFO : topic #73 (0.010): 0.095*\"50\" + 0.055*\"0\" + 0.028*\"545\" + 0.027*\"224\" + 0.026*\"131\" + 0.023*\"6\" + 0.019*\"238\" + 0.019*\"225\" + 0.019*\"670\" + 0.018*\"240\"\n",
      "2022-02-27 15:15:10,144 : INFO : topic #3 (0.010): 0.113*\"0\" + 0.041*\"146\" + 0.033*\"50\" + 0.030*\"49\" + 0.029*\"398\" + 0.026*\"458\" + 0.017*\"135\" + 0.017*\"229\" + 0.015*\"1010\" + 0.014*\"202\"\n",
      "2022-02-27 15:15:10,144 : INFO : topic #93 (0.010): 0.113*\"50\" + 0.034*\"13\" + 0.028*\"49\" + 0.024*\"0\" + 0.024*\"115\" + 0.018*\"3\" + 0.018*\"637\" + 0.014*\"45\" + 0.013*\"146\" + 0.011*\"1030\"\n",
      "2022-02-27 15:15:10,144 : INFO : topic diff=0.789999, rho=0.707107\n",
      "2022-02-27 15:15:10,148 : INFO : PROGRESS: pass 1, at document #2000/3204\n",
      "2022-02-27 15:15:10,559 : INFO : optimized alpha [0.009933175, 0.009861031, 0.01006398, 0.010281677, 0.009934836, 0.009563112, 0.010163204, 0.010103247, 0.009979922, 0.009717456, 0.009804882, 0.0098860925, 0.009659063, 0.009896789, 0.010015698, 0.009984329, 0.010169645, 0.010024431, 0.009957151, 0.010204936, 0.009851729, 0.010127829, 0.009678288, 0.010066821, 0.009985413, 0.010018854, 0.009893139, 0.0099609485, 0.010111856, 0.0099887075, 0.010100201, 0.009894908, 0.009889863, 0.009813687, 0.010054489, 0.01000733, 0.010155326, 0.010018987, 0.009952142, 0.009804091, 0.010243428, 0.009853094, 0.009770186, 0.00963673, 0.009722052, 0.0098905815, 0.009976916, 0.009939123, 0.009591333, 0.00984104, 0.0098027075, 0.009376875, 0.009971942, 0.009919761, 0.00971943, 0.009997972, 0.010025566, 0.009944332, 0.009949752, 0.010605609, 0.009817258, 0.010137312, 0.0098640565, 0.009960555, 0.009855106, 0.009875801, 0.00993274, 0.010040984, 0.010029391, 0.009860633, 0.009903262, 0.010004275, 0.009852278, 0.010262652, 0.010047461, 0.010087353, 0.0099407155, 0.009949085, 0.010005132, 0.009926845, 0.010082935, 0.009829274, 0.01022174, 0.009687769, 0.009719937, 0.009658743, 0.010159891, 0.009722714, 0.009950931, 0.009888615, 0.010120158, 0.009884598, 0.0099004395, 0.010356663, 0.010097432, 0.009805389, 0.010056911, 0.009830251, 0.009894988, 0.009873602]\n"
     ]
    },
    {
     "name": "stderr",
     "output_type": "stream",
     "text": [
      "2022-02-27 15:15:10,562 : INFO : merging changes from 2000 documents into a model of 3204 documents\n",
      "2022-02-27 15:15:10,565 : INFO : topic #51 (0.009): 0.228*\"163\" + 0.090*\"309\" + 0.052*\"13\" + 0.020*\"174\" + 0.019*\"50\" + 0.013*\"204\" + 0.009*\"128\" + 0.007*\"267\" + 0.005*\"1160\" + 0.005*\"14\"\n",
      "2022-02-27 15:15:10,565 : INFO : topic #5 (0.010): 0.470*\"324\" + 0.187*\"790\" + 0.059*\"298\" + 0.055*\"15\" + 0.050*\"89\" + 0.042*\"333\" + 0.039*\"320\" + 0.023*\"314\" + 0.002*\"386\" + 0.000*\"802\"\n",
      "2022-02-27 15:15:10,566 : INFO : topic #3 (0.010): 0.118*\"0\" + 0.043*\"146\" + 0.033*\"398\" + 0.031*\"50\" + 0.030*\"49\" + 0.025*\"458\" + 0.020*\"229\" + 0.014*\"202\" + 0.014*\"135\" + 0.013*\"6\"\n",
      "2022-02-27 15:15:10,566 : INFO : topic #93 (0.010): 0.114*\"50\" + 0.036*\"13\" + 0.031*\"49\" + 0.025*\"0\" + 0.023*\"115\" + 0.018*\"3\" + 0.015*\"637\" + 0.014*\"45\" + 0.014*\"146\" + 0.011*\"238\"\n",
      "2022-02-27 15:15:10,566 : INFO : topic #59 (0.011): 0.227*\"34\" + 0.194*\"83\" + 0.155*\"35\" + 0.087*\"611\" + 0.073*\"273\" + 0.065*\"1015\" + 0.025*\"69\" + 0.020*\"0\" + 0.018*\"1003\" + 0.018*\"526\"\n",
      "2022-02-27 15:15:10,567 : INFO : topic diff=0.348737, rho=0.526900\n",
      "2022-02-27 15:15:11,058 : INFO : -6.899 per-word bound, 119.3 perplexity estimate based on a held-out corpus of 1204 documents with 49783 words\n",
      "2022-02-27 15:15:11,058 : INFO : PROGRESS: pass 1, at document #3204/3204\n",
      "2022-02-27 15:15:11,439 : INFO : optimized alpha [0.010044052, 0.009871947, 0.010293327, 0.01057044, 0.010016638, 0.009546401, 0.010524936, 0.01025667, 0.0101602785, 0.009789017, 0.009745905, 0.010087779, 0.009731115, 0.010025096, 0.010220015, 0.010126766, 0.010523556, 0.010299512, 0.010149787, 0.010544931, 0.0098919505, 0.010279961, 0.00974411, 0.010267756, 0.010096827, 0.010203937, 0.009835279, 0.0100677535, 0.010406969, 0.010076936, 0.010378137, 0.009876779, 0.00999936, 0.009854759, 0.010185682, 0.010138571, 0.01039007, 0.010129683, 0.01010219, 0.009887264, 0.0105099, 0.010099115, 0.009750786, 0.009702709, 0.009705897, 0.010006532, 0.0101985205, 0.010172948, 0.009603565, 0.0099315075, 0.009822452, 0.009260234, 0.010164686, 0.009950483, 0.009777896, 0.010135986, 0.010215308, 0.010096518, 0.010038334, 0.01090217, 0.00985907, 0.010499448, 0.010013052, 0.010161552, 0.009978265, 0.01000401, 0.010024409, 0.010225637, 0.010223296, 0.009936453, 0.010241363, 0.01013738, 0.009979614, 0.010622801, 0.010352775, 0.010319661, 0.009998095, 0.010100152, 0.010226405, 0.010058556, 0.01023626, 0.010011955, 0.010431196, 0.009768013, 0.009807955, 0.009657408, 0.0103064785, 0.009764799, 0.010097019, 0.010025394, 0.010126299, 0.01000547, 0.010193281, 0.010629304, 0.010186128, 0.00988346, 0.010228384, 0.00992709, 0.010023534, 0.010076914]\n",
      "2022-02-27 15:15:11,442 : INFO : merging changes from 1204 documents into a model of 3204 documents\n",
      "2022-02-27 15:15:11,445 : INFO : topic #51 (0.009): 0.470*\"163\" + 0.168*\"309\" + 0.057*\"13\" + 0.010*\"174\" + 0.008*\"50\" + 0.005*\"204\" + 0.003*\"128\" + 0.002*\"267\" + 0.002*\"1160\" + 0.001*\"14\"\n",
      "2022-02-27 15:15:11,446 : INFO : topic #5 (0.010): 0.466*\"324\" + 0.242*\"790\" + 0.058*\"298\" + 0.055*\"15\" + 0.042*\"333\" + 0.035*\"320\" + 0.025*\"314\" + 0.023*\"89\" + 0.001*\"386\" + 0.000*\"803\"\n",
      "2022-02-27 15:15:11,446 : INFO : topic #73 (0.011): 0.103*\"50\" + 0.056*\"0\" + 0.041*\"545\" + 0.032*\"224\" + 0.030*\"131\" + 0.022*\"6\" + 0.021*\"225\" + 0.021*\"670\" + 0.021*\"472\" + 0.019*\"7\"\n",
      "2022-02-27 15:15:11,447 : INFO : topic #93 (0.011): 0.119*\"50\" + 0.041*\"13\" + 0.028*\"49\" + 0.027*\"115\" + 0.025*\"0\" + 0.022*\"637\" + 0.020*\"3\" + 0.016*\"45\" + 0.015*\"146\" + 0.012*\"1030\"\n",
      "2022-02-27 15:15:11,447 : INFO : topic #59 (0.011): 0.245*\"34\" + 0.189*\"35\" + 0.172*\"83\" + 0.071*\"273\" + 0.062*\"611\" + 0.032*\"1003\" + 0.030*\"1015\" + 0.029*\"526\" + 0.025*\"69\" + 0.020*\"0\"\n",
      "2022-02-27 15:15:11,447 : INFO : topic diff=0.450497, rho=0.526900\n",
      "2022-02-27 15:15:11,451 : INFO : PROGRESS: pass 2, at document #2000/3204\n",
      "2022-02-27 15:15:11,863 : INFO : optimized alpha [0.009963943, 0.009825972, 0.010255479, 0.0105863465, 0.010071068, 0.009541127, 0.010602428, 0.010359971, 0.0101707345, 0.009745994, 0.009702235, 0.010136614, 0.009727816, 0.009950013, 0.010215308, 0.010042484, 0.01053201, 0.010349705, 0.010073737, 0.010499839, 0.009971715, 0.010279094, 0.0098083, 0.0104041, 0.010015796, 0.01021875, 0.010063697, 0.010042336, 0.010328078, 0.010087113, 0.010417126, 0.010131983, 0.009989976, 0.009823122, 0.010133651, 0.010213859, 0.010441687, 0.010040535, 0.010068586, 0.009927922, 0.010522229, 0.010138727, 0.009697096, 0.009710318, 0.009821097, 0.00993871, 0.010196899, 0.010202134, 0.009610955, 0.009965006, 0.009763421, 0.009158657, 0.010172074, 0.009906978, 0.009769624, 0.0100561, 0.010196223, 0.01013353, 0.009984015, 0.011690984, 0.009839009, 0.010500658, 0.010060371, 0.010166153, 0.009945552, 0.009931317, 0.010027088, 0.010605265, 0.010247036, 0.009869713, 0.01022921, 0.010136861, 0.010027364, 0.0106069455, 0.01033769, 0.010466693, 0.009928681, 0.010314027, 0.010156639, 0.010034971, 0.010192194, 0.010044593, 0.010407083, 0.009863172, 0.009819601, 0.009718654, 0.010245664, 0.009789433, 0.010063153, 0.010023525, 0.010066475, 0.010066097, 0.010230757, 0.010602603, 0.010139911, 0.010024293, 0.010293127, 0.009888683, 0.010014967, 0.010072848]\n",
      "2022-02-27 15:15:11,866 : INFO : merging changes from 2000 documents into a model of 3204 documents\n",
      "2022-02-27 15:15:11,869 : INFO : topic #51 (0.009): 0.411*\"163\" + 0.215*\"309\" + 0.060*\"13\" + 0.008*\"174\" + 0.005*\"50\" + 0.003*\"204\" + 0.002*\"128\" + 0.001*\"267\" + 0.001*\"1160\" + 0.001*\"14\"\n",
      "2022-02-27 15:15:11,869 : INFO : topic #5 (0.010): 0.470*\"324\" + 0.211*\"790\" + 0.064*\"15\" + 0.053*\"320\" + 0.053*\"298\" + 0.044*\"333\" + 0.029*\"89\" + 0.028*\"314\" + 0.000*\"386\" + 0.000*\"792\"\n",
      "2022-02-27 15:15:11,870 : INFO : topic #67 (0.011): 0.256*\"34\" + 0.226*\"35\" + 0.174*\"83\" + 0.027*\"39\" + 0.021*\"30\" + 0.018*\"54\" + 0.018*\"647\" + 0.016*\"585\" + 0.014*\"835\" + 0.014*\"354\"\n",
      "2022-02-27 15:15:11,870 : INFO : topic #6 (0.011): 0.141*\"49\" + 0.099*\"50\" + 0.069*\"6\" + 0.045*\"518\" + 0.036*\"165\" + 0.027*\"239\" + 0.022*\"45\" + 0.021*\"229\" + 0.020*\"507\" + 0.020*\"1070\"\n",
      "2022-02-27 15:15:11,870 : INFO : topic #59 (0.012): 0.246*\"34\" + 0.192*\"83\" + 0.173*\"35\" + 0.078*\"611\" + 0.069*\"273\" + 0.063*\"1015\" + 0.028*\"69\" + 0.021*\"526\" + 0.017*\"0\" + 0.016*\"24\"\n",
      "2022-02-27 15:15:11,870 : INFO : topic diff=0.413679, rho=0.466151\n",
      "2022-02-27 15:15:12,323 : INFO : -6.771 per-word bound, 109.2 perplexity estimate based on a held-out corpus of 1204 documents with 49783 words\n",
      "2022-02-27 15:15:12,323 : INFO : PROGRESS: pass 2, at document #3204/3204\n",
      "2022-02-27 15:15:12,655 : INFO : optimized alpha [0.010090583, 0.009845176, 0.010456099, 0.010862205, 0.010158783, 0.009543003, 0.011026689, 0.010499753, 0.010327374, 0.009829363, 0.00967645, 0.010395471, 0.009830398, 0.010107111, 0.010421638, 0.010185318, 0.010822019, 0.010710389, 0.010280969, 0.010809609, 0.010057872, 0.010393536, 0.00989695, 0.010586998, 0.010123366, 0.010399681, 0.010037457, 0.01010585, 0.010624765, 0.010169315, 0.010687062, 0.01012046, 0.010102898, 0.00989521, 0.010242471, 0.010313909, 0.0106554115, 0.010111605, 0.010229889, 0.01004414, 0.010764965, 0.0104661295, 0.009712913, 0.00981086, 0.009840674, 0.010053829, 0.0104193, 0.010423208, 0.009682811, 0.010068304, 0.009790487, 0.009076872, 0.010363384, 0.0099511435, 0.009844882, 0.010207039, 0.010345249, 0.010260651, 0.01006325, 0.011904866, 0.009911762, 0.01085204, 0.010216886, 0.010404167, 0.0100630075, 0.010049656, 0.01012431, 0.010944906, 0.010431871, 0.009972748, 0.010614861, 0.010275045, 0.010147972, 0.010880961, 0.010647962, 0.010741154, 0.009969514, 0.0104913665, 0.010361823, 0.010156106, 0.010368903, 0.010289835, 0.010581338, 0.010045504, 0.009916814, 0.00975187, 0.010363775, 0.009872892, 0.010208916, 0.010176697, 0.010073851, 0.010192671, 0.0105339475, 0.01082121, 0.010199177, 0.010135496, 0.010449481, 0.010006058, 0.010129203, 0.01028937]\n",
      "2022-02-27 15:15:12,657 : INFO : merging changes from 1204 documents into a model of 3204 documents\n",
      "2022-02-27 15:15:12,660 : INFO : topic #51 (0.009): 0.497*\"163\" + 0.235*\"309\" + 0.057*\"13\" + 0.004*\"174\" + 0.002*\"50\" + 0.001*\"204\" + 0.001*\"128\" + 0.001*\"267\" + 0.000*\"1160\" + 0.000*\"14\"\n",
      "2022-02-27 15:15:12,661 : INFO : topic #5 (0.010): 0.450*\"324\" + 0.244*\"790\" + 0.061*\"15\" + 0.060*\"298\" + 0.052*\"320\" + 0.042*\"333\" + 0.030*\"314\" + 0.017*\"89\" + 0.000*\"386\" + 0.000*\"803\"\n"
     ]
    },
    {
     "name": "stderr",
     "output_type": "stream",
     "text": [
      "2022-02-27 15:15:12,661 : INFO : topic #67 (0.011): 0.277*\"34\" + 0.237*\"35\" + 0.190*\"83\" + 0.028*\"39\" + 0.017*\"585\" + 0.017*\"30\" + 0.014*\"45\" + 0.013*\"54\" + 0.013*\"354\" + 0.012*\"404\"\n",
      "2022-02-27 15:15:12,661 : INFO : topic #6 (0.011): 0.160*\"49\" + 0.099*\"50\" + 0.065*\"6\" + 0.048*\"518\" + 0.040*\"165\" + 0.030*\"239\" + 0.026*\"45\" + 0.025*\"1070\" + 0.021*\"135\" + 0.020*\"507\"\n",
      "2022-02-27 15:15:12,662 : INFO : topic #59 (0.012): 0.253*\"34\" + 0.191*\"35\" + 0.169*\"83\" + 0.071*\"273\" + 0.059*\"611\" + 0.038*\"1015\" + 0.030*\"526\" + 0.028*\"69\" + 0.025*\"1003\" + 0.021*\"24\"\n",
      "2022-02-27 15:15:12,662 : INFO : topic diff=0.546274, rho=0.466151\n",
      "2022-02-27 15:15:12,667 : INFO : PROGRESS: pass 3, at document #2000/3204\n",
      "2022-02-27 15:15:13,065 : INFO : optimized alpha [0.010035509, 0.009817909, 0.010447393, 0.0109118875, 0.010236316, 0.00954355, 0.011118887, 0.010622759, 0.010362735, 0.00979511, 0.00965374, 0.010460597, 0.009835842, 0.010051718, 0.010429364, 0.010119906, 0.010848169, 0.010788117, 0.010221743, 0.010781718, 0.010178105, 0.010394675, 0.009982598, 0.010738719, 0.010052928, 0.0104299085, 0.010264246, 0.010103134, 0.010561542, 0.010185151, 0.010748002, 0.0103513, 0.010111424, 0.009879919, 0.010210997, 0.010397622, 0.010719509, 0.010041106, 0.010227288, 0.010115076, 0.010795151, 0.010546825, 0.009674448, 0.009832237, 0.00996073, 0.009997051, 0.010434318, 0.010477324, 0.0097165555, 0.010113458, 0.009759672, 0.008993737, 0.010395445, 0.009925579, 0.009871197, 0.010141102, 0.010345029, 0.01030039, 0.0100213485, 0.0125069935, 0.009923845, 0.01087528, 0.0102900015, 0.010437481, 0.010046123, 0.0099948915, 0.010146222, 0.011575608, 0.0104635805, 0.0099234395, 0.010606539, 0.0102806715, 0.010225653, 0.010875953, 0.010638095, 0.010917468, 0.009917027, 0.010704622, 0.010303963, 0.010147698, 0.010350207, 0.010344233, 0.010574317, 0.010191762, 0.009961057, 0.00984309, 0.010306595, 0.009926999, 0.0101973815, 0.010187449, 0.010034856, 0.010247627, 0.010588241, 0.0107836975, 0.010180203, 0.010318399, 0.010521106, 0.009990403, 0.0101322085, 0.01030601]\n",
      "2022-02-27 15:15:13,068 : INFO : merging changes from 2000 documents into a model of 3204 documents\n",
      "2022-02-27 15:15:13,072 : INFO : topic #51 (0.009): 0.436*\"163\" + 0.264*\"309\" + 0.065*\"13\" + 0.003*\"174\" + 0.001*\"50\" + 0.001*\"204\" + 0.001*\"128\" + 0.000*\"267\" + 0.000*\"1160\" + 0.000*\"14\"\n",
      "2022-02-27 15:15:13,072 : INFO : topic #5 (0.010): 0.453*\"324\" + 0.217*\"790\" + 0.069*\"15\" + 0.066*\"320\" + 0.055*\"298\" + 0.050*\"333\" + 0.030*\"314\" + 0.017*\"89\" + 0.000*\"386\" + 0.000*\"803\"\n",
      "2022-02-27 15:15:13,072 : INFO : topic #6 (0.011): 0.166*\"49\" + 0.098*\"50\" + 0.067*\"6\" + 0.048*\"518\" + 0.036*\"165\" + 0.029*\"239\" + 0.027*\"45\" + 0.023*\"229\" + 0.021*\"1070\" + 0.020*\"507\"\n",
      "2022-02-27 15:15:13,073 : INFO : topic #67 (0.012): 0.295*\"34\" + 0.267*\"35\" + 0.205*\"83\" + 0.021*\"39\" + 0.012*\"30\" + 0.011*\"585\" + 0.011*\"254\" + 0.010*\"872\" + 0.010*\"404\" + 0.010*\"835\"\n",
      "2022-02-27 15:15:13,073 : INFO : topic #59 (0.013): 0.242*\"34\" + 0.175*\"83\" + 0.161*\"35\" + 0.082*\"611\" + 0.074*\"273\" + 0.070*\"1015\" + 0.032*\"69\" + 0.026*\"526\" + 0.018*\"24\" + 0.017*\"527\"\n",
      "2022-02-27 15:15:13,073 : INFO : topic diff=0.548044, rho=0.422502\n",
      "2022-02-27 15:15:13,513 : INFO : -6.692 per-word bound, 103.4 perplexity estimate based on a held-out corpus of 1204 documents with 49783 words\n",
      "2022-02-27 15:15:13,514 : INFO : PROGRESS: pass 3, at document #3204/3204\n",
      "2022-02-27 15:15:13,832 : INFO : optimized alpha [0.010165595, 0.009854401, 0.0106345685, 0.01116184, 0.010333907, 0.009556605, 0.011555487, 0.010783307, 0.0104909185, 0.009878531, 0.009653066, 0.010713674, 0.009967582, 0.010220112, 0.010629376, 0.010268467, 0.011122485, 0.0112038, 0.010411336, 0.011066855, 0.010302821, 0.010513515, 0.010084061, 0.010897921, 0.010165792, 0.010606438, 0.010256452, 0.010172089, 0.010841504, 0.010238328, 0.0110231545, 0.010338387, 0.010214295, 0.009977511, 0.010328786, 0.010499258, 0.010938146, 0.010092552, 0.010385689, 0.010249535, 0.011048798, 0.010899105, 0.009703955, 0.009948116, 0.009991844, 0.010113172, 0.010679336, 0.010676443, 0.009809476, 0.010214512, 0.009789084, 0.008927657, 0.01056296, 0.009984289, 0.009960784, 0.010300723, 0.010499348, 0.010423488, 0.010094092, 0.012619658, 0.010043409, 0.011188799, 0.010458591, 0.010677809, 0.010171048, 0.0101068355, 0.010249354, 0.012082455, 0.010651406, 0.010017853, 0.010972054, 0.010421206, 0.010353263, 0.011127227, 0.010923917, 0.011144164, 0.009976492, 0.010858888, 0.010498737, 0.010272486, 0.010563048, 0.010599257, 0.01073345, 0.010409465, 0.010056562, 0.009914552, 0.010418177, 0.010006156, 0.010355873, 0.010323679, 0.010068232, 0.010377288, 0.010864408, 0.010964206, 0.010238704, 0.010447902, 0.010682035, 0.010108293, 0.010250708, 0.010526142]\n",
      "2022-02-27 15:15:13,835 : INFO : merging changes from 1204 documents into a model of 3204 documents\n",
      "2022-02-27 15:15:13,838 : INFO : topic #51 (0.009): 0.487*\"163\" + 0.269*\"309\" + 0.060*\"13\" + 0.001*\"174\" + 0.001*\"50\" + 0.000*\"204\" + 0.000*\"128\" + 0.000*\"267\" + 0.000*\"1160\" + 0.000*\"14\"\n",
      "2022-02-27 15:15:13,838 : INFO : topic #5 (0.010): 0.436*\"324\" + 0.241*\"790\" + 0.065*\"15\" + 0.062*\"298\" + 0.060*\"320\" + 0.056*\"333\" + 0.030*\"314\" + 0.010*\"89\" + 0.000*\"386\" + 0.000*\"803\"\n",
      "2022-02-27 15:15:13,838 : INFO : topic #6 (0.012): 0.178*\"49\" + 0.099*\"50\" + 0.063*\"6\" + 0.050*\"518\" + 0.038*\"165\" + 0.030*\"239\" + 0.029*\"45\" + 0.024*\"1070\" + 0.021*\"135\" + 0.021*\"229\"\n",
      "2022-02-27 15:15:13,839 : INFO : topic #67 (0.012): 0.300*\"34\" + 0.267*\"35\" + 0.222*\"83\" + 0.022*\"39\" + 0.012*\"585\" + 0.012*\"404\" + 0.010*\"45\" + 0.010*\"0\" + 0.009*\"254\" + 0.009*\"872\"\n",
      "2022-02-27 15:15:13,839 : INFO : topic #59 (0.013): 0.251*\"34\" + 0.176*\"35\" + 0.145*\"83\" + 0.082*\"273\" + 0.065*\"611\" + 0.048*\"1015\" + 0.034*\"526\" + 0.031*\"69\" + 0.027*\"1003\" + 0.023*\"527\"\n",
      "2022-02-27 15:15:13,839 : INFO : topic diff=0.661667, rho=0.422502\n",
      "2022-02-27 15:15:13,843 : INFO : PROGRESS: pass 4, at document #2000/3204\n",
      "2022-02-27 15:15:14,232 : INFO : optimized alpha [0.010118906, 0.009843957, 0.010625713, 0.011226472, 0.010431995, 0.00955818, 0.011689731, 0.010922827, 0.010529495, 0.009847497, 0.00964316, 0.010781362, 0.009982107, 0.010176546, 0.010641936, 0.010204126, 0.01115581, 0.011320287, 0.010368159, 0.011045298, 0.010432991, 0.0105245765, 0.010192941, 0.011049926, 0.010107399, 0.010633754, 0.010470372, 0.010180032, 0.010793582, 0.010259574, 0.0111127375, 0.010554032, 0.010222219, 0.009981202, 0.010311947, 0.010591103, 0.011022464, 0.010029214, 0.010403216, 0.0103351725, 0.011083895, 0.010991968, 0.009675502, 0.009979363, 0.010111383, 0.01006311, 0.010706443, 0.010736448, 0.009846445, 0.010269993, 0.009769627, 0.008854951, 0.010600312, 0.009982967, 0.00999706, 0.010247753, 0.010504818, 0.010466018, 0.01005429, 0.013129755, 0.010088011, 0.011227952, 0.010554904, 0.010723979, 0.010159264, 0.010058762, 0.010287824, 0.0129278675, 0.010680024, 0.009976895, 0.010965422, 0.010423937, 0.010437237, 0.011134009, 0.010931701, 0.011359892, 0.009937185, 0.011076183, 0.0104464805, 0.010276749, 0.010565339, 0.010669265, 0.010736985, 0.010586817, 0.010119155, 0.0100186495, 0.0103699025, 0.010079864, 0.010361073, 0.010331361, 0.010051466, 0.0104460195, 0.010936643, 0.010931, 0.010232177, 0.010647885, 0.010749984, 0.010107652, 0.010273499, 0.010550533]\n",
      "2022-02-27 15:15:14,234 : INFO : merging changes from 2000 documents into a model of 3204 documents\n",
      "2022-02-27 15:15:14,238 : INFO : topic #51 (0.009): 0.436*\"163\" + 0.284*\"309\" + 0.070*\"13\" + 0.001*\"174\" + 0.001*\"50\" + 0.000*\"204\" + 0.000*\"128\" + 0.000*\"267\" + 0.000*\"1160\" + 0.000*\"14\"\n",
      "2022-02-27 15:15:14,238 : INFO : topic #5 (0.010): 0.442*\"324\" + 0.218*\"790\" + 0.070*\"320\" + 0.070*\"15\" + 0.063*\"333\" + 0.056*\"298\" + 0.030*\"314\" + 0.012*\"89\" + 0.000*\"386\" + 0.000*\"803\"\n",
      "2022-02-27 15:15:14,239 : INFO : topic #6 (0.012): 0.183*\"49\" + 0.098*\"50\" + 0.065*\"6\" + 0.050*\"518\" + 0.036*\"165\" + 0.030*\"45\" + 0.029*\"239\" + 0.025*\"229\" + 0.020*\"1070\" + 0.020*\"507\"\n",
      "2022-02-27 15:15:14,239 : INFO : topic #67 (0.013): 0.312*\"34\" + 0.289*\"35\" + 0.227*\"83\" + 0.017*\"39\" + 0.010*\"404\" + 0.009*\"254\" + 0.009*\"585\" + 0.008*\"872\" + 0.008*\"0\" + 0.008*\"131\"\n",
      "2022-02-27 15:15:14,239 : INFO : topic #59 (0.013): 0.239*\"34\" + 0.155*\"83\" + 0.145*\"35\" + 0.089*\"611\" + 0.085*\"273\" + 0.079*\"1015\" + 0.035*\"69\" + 0.029*\"526\" + 0.021*\"527\" + 0.017*\"24\"\n"
     ]
    },
    {
     "name": "stderr",
     "output_type": "stream",
     "text": [
      "2022-02-27 15:15:14,240 : INFO : topic diff=0.636780, rho=0.389191\n",
      "2022-02-27 15:15:14,674 : INFO : -6.636 per-word bound, 99.4 perplexity estimate based on a held-out corpus of 1204 documents with 49783 words\n",
      "2022-02-27 15:15:14,675 : INFO : PROGRESS: pass 4, at document #3204/3204\n",
      "2022-02-27 15:15:14,976 : INFO : optimized alpha [0.010249643, 0.009917355, 0.010796176, 0.011485447, 0.010552475, 0.009571255, 0.012132441, 0.011075361, 0.010651771, 0.009922055, 0.009666033, 0.011053256, 0.010114272, 0.010353159, 0.010831599, 0.010352229, 0.011408573, 0.011767289, 0.010541127, 0.011308265, 0.010558526, 0.010645262, 0.010316212, 0.011200771, 0.010225548, 0.0108014885, 0.010461336, 0.010234105, 0.011055195, 0.01031583, 0.01136359, 0.01053322, 0.010317565, 0.0100980755, 0.0104518905, 0.0106813675, 0.011222692, 0.010091124, 0.010577768, 0.010463234, 0.011324488, 0.0113572, 0.00971646, 0.0100933295, 0.010142919, 0.010187454, 0.01094951, 0.010914798, 0.0099326195, 0.010363506, 0.0098010115, 0.00879788, 0.010773043, 0.010044312, 0.010102887, 0.010436456, 0.010661876, 0.010593638, 0.010128948, 0.013207399, 0.01023858, 0.011566158, 0.010736111, 0.010958686, 0.010285166, 0.010159642, 0.0103934975, 0.013589379, 0.010872351, 0.010071323, 0.011320326, 0.01057461, 0.010565487, 0.011372079, 0.011206383, 0.011579373, 0.009983358, 0.01123317, 0.010644789, 0.010409218, 0.010774027, 0.010939247, 0.01089516, 0.0108354995, 0.010223956, 0.010113655, 0.010480407, 0.010156265, 0.010518342, 0.010464605, 0.010086547, 0.010586551, 0.011220323, 0.011095223, 0.01028366, 0.010784755, 0.010885371, 0.010223726, 0.010403578, 0.010772811]\n",
      "2022-02-27 15:15:14,979 : INFO : merging changes from 1204 documents into a model of 3204 documents\n",
      "2022-02-27 15:15:14,982 : INFO : topic #51 (0.009): 0.481*\"163\" + 0.280*\"309\" + 0.064*\"13\" + 0.001*\"174\" + 0.000*\"50\" + 0.000*\"204\" + 0.000*\"128\" + 0.000*\"267\" + 0.000*\"1160\" + 0.000*\"14\"\n",
      "2022-02-27 15:15:14,982 : INFO : topic #5 (0.010): 0.430*\"324\" + 0.238*\"790\" + 0.066*\"15\" + 0.064*\"320\" + 0.063*\"333\" + 0.063*\"298\" + 0.029*\"314\" + 0.008*\"89\" + 0.000*\"386\" + 0.000*\"803\"\n",
      "2022-02-27 15:15:14,983 : INFO : topic #6 (0.012): 0.191*\"49\" + 0.098*\"50\" + 0.063*\"6\" + 0.051*\"518\" + 0.038*\"165\" + 0.031*\"45\" + 0.030*\"239\" + 0.023*\"1070\" + 0.023*\"229\" + 0.021*\"135\"\n",
      "2022-02-27 15:15:14,983 : INFO : topic #59 (0.013): 0.243*\"34\" + 0.155*\"35\" + 0.133*\"83\" + 0.092*\"273\" + 0.071*\"611\" + 0.058*\"1015\" + 0.037*\"526\" + 0.035*\"69\" + 0.029*\"1003\" + 0.027*\"527\"\n",
      "2022-02-27 15:15:14,983 : INFO : topic #67 (0.014): 0.315*\"34\" + 0.288*\"35\" + 0.237*\"83\" + 0.017*\"39\" + 0.012*\"404\" + 0.009*\"45\" + 0.008*\"0\" + 0.008*\"585\" + 0.008*\"254\" + 0.007*\"131\"\n",
      "2022-02-27 15:15:14,983 : INFO : topic diff=0.698663, rho=0.389191\n",
      "2022-02-27 15:15:14,987 : INFO : PROGRESS: pass 5, at document #2000/3204\n",
      "2022-02-27 15:15:15,388 : INFO : optimized alpha [0.010215457, 0.009915316, 0.010795081, 0.011566095, 0.010650426, 0.009577126, 0.012280674, 0.011221004, 0.010699378, 0.009893675, 0.009670054, 0.011123812, 0.010134921, 0.010317469, 0.0108365305, 0.010303451, 0.011449091, 0.011906104, 0.010504024, 0.011284092, 0.0106870895, 0.010659367, 0.010429943, 0.011358327, 0.010180767, 0.010822581, 0.010661647, 0.010255239, 0.011014599, 0.010343641, 0.011465772, 0.010748346, 0.010323261, 0.010097692, 0.01045319, 0.010771675, 0.011317926, 0.010033286, 0.010612976, 0.010543575, 0.011364478, 0.011461976, 0.009697958, 0.010127971, 0.01025741, 0.0101389345, 0.010983687, 0.0109805465, 0.009970953, 0.010417366, 0.009790992, 0.008734852, 0.01082702, 0.010056416, 0.0101516405, 0.010401498, 0.010668439, 0.010637206, 0.010087007, 0.0136573, 0.010311885, 0.011611491, 0.010852074, 0.011010827, 0.010285293, 0.010133741, 0.010437086, 0.014560598, 0.010910364, 0.010039119, 0.011317359, 0.0105844345, 0.010659562, 0.0113939205, 0.011211908, 0.011808401, 0.0099587655, 0.011445711, 0.010598883, 0.010412895, 0.010777043, 0.011008006, 0.010897922, 0.011025705, 0.010295646, 0.01021714, 0.01043749, 0.010242205, 0.010516902, 0.010490611, 0.010079289, 0.01065467, 0.011299183, 0.011065669, 0.010282218, 0.010972726, 0.0109506715, 0.010228698, 0.010420888, 0.010804363]\n",
      "2022-02-27 15:15:15,391 : INFO : merging changes from 2000 documents into a model of 3204 documents\n",
      "2022-02-27 15:15:15,394 : INFO : topic #51 (0.009): 0.436*\"163\" + 0.296*\"309\" + 0.069*\"13\" + 0.000*\"174\" + 0.000*\"50\" + 0.000*\"204\" + 0.000*\"128\" + 0.000*\"267\" + 0.000*\"1160\" + 0.000*\"14\"\n",
      "2022-02-27 15:15:15,394 : INFO : topic #5 (0.010): 0.434*\"324\" + 0.216*\"790\" + 0.074*\"320\" + 0.073*\"15\" + 0.069*\"333\" + 0.057*\"298\" + 0.028*\"314\" + 0.010*\"89\" + 0.000*\"386\" + 0.000*\"803\"\n",
      "2022-02-27 15:15:15,394 : INFO : topic #6 (0.012): 0.194*\"49\" + 0.096*\"50\" + 0.064*\"6\" + 0.051*\"518\" + 0.035*\"165\" + 0.032*\"45\" + 0.029*\"239\" + 0.026*\"229\" + 0.020*\"1070\" + 0.020*\"737\"\n",
      "2022-02-27 15:15:15,395 : INFO : topic #59 (0.014): 0.231*\"34\" + 0.149*\"83\" + 0.127*\"35\" + 0.096*\"611\" + 0.094*\"273\" + 0.087*\"1015\" + 0.037*\"69\" + 0.030*\"526\" + 0.024*\"527\" + 0.018*\"1003\"\n",
      "2022-02-27 15:15:15,395 : INFO : topic #67 (0.015): 0.324*\"34\" + 0.304*\"35\" + 0.236*\"83\" + 0.013*\"39\" + 0.010*\"404\" + 0.009*\"254\" + 0.008*\"0\" + 0.007*\"585\" + 0.007*\"872\" + 0.007*\"131\"\n",
      "2022-02-27 15:15:15,396 : INFO : topic diff=0.635152, rho=0.362690\n",
      "2022-02-27 15:15:15,814 : INFO : -6.597 per-word bound, 96.8 perplexity estimate based on a held-out corpus of 1204 documents with 49783 words\n",
      "2022-02-27 15:15:15,815 : INFO : PROGRESS: pass 5, at document #3204/3204\n",
      "2022-02-27 15:15:16,114 : INFO : optimized alpha [0.010344541, 0.010014746, 0.010958667, 0.011815064, 0.010779454, 0.009593124, 0.012710748, 0.011381104, 0.010827016, 0.009967034, 0.009707044, 0.011391709, 0.010274553, 0.010502458, 0.011021637, 0.01044262, 0.011701917, 0.012387662, 0.010682572, 0.011528714, 0.010811121, 0.010785595, 0.010551804, 0.011489116, 0.010295011, 0.010983808, 0.010651701, 0.010309365, 0.011278186, 0.0103965495, 0.011699719, 0.010727043, 0.010412779, 0.0102350805, 0.010603782, 0.010862406, 0.011513433, 0.010101351, 0.010793539, 0.0106796175, 0.011605872, 0.011811597, 0.009745884, 0.010244166, 0.010286508, 0.010271246, 0.011226985, 0.011175056, 0.010051875, 0.010508097, 0.009818186, 0.008684749, 0.010992872, 0.0101264715, 0.010278676, 0.010582486, 0.010835572, 0.010769861, 0.010148407, 0.013728978, 0.010494448, 0.011947626, 0.0110496, 0.011229112, 0.01040989, 0.010241004, 0.010552155, 0.015303541, 0.011101669, 0.010128025, 0.011655248, 0.010729193, 0.010795797, 0.011611665, 0.011492246, 0.012019742, 0.010015015, 0.011606837, 0.010795174, 0.010549923, 0.010990178, 0.011274135, 0.011036573, 0.011295567, 0.010403265, 0.0103338845, 0.0105477115, 0.010325956, 0.010667998, 0.010634939, 0.010122146, 0.010789869, 0.0115783885, 0.01121323, 0.010337426, 0.011124008, 0.011074327, 0.01034396, 0.010542956, 0.011030493]\n",
      "2022-02-27 15:15:16,117 : INFO : merging changes from 1204 documents into a model of 3204 documents\n",
      "2022-02-27 15:15:16,120 : INFO : topic #51 (0.009): 0.477*\"163\" + 0.288*\"309\" + 0.063*\"13\" + 0.000*\"174\" + 0.000*\"50\" + 0.000*\"204\" + 0.000*\"128\" + 0.000*\"267\" + 0.000*\"1160\" + 0.000*\"14\"\n",
      "2022-02-27 15:15:16,120 : INFO : topic #5 (0.010): 0.423*\"324\" + 0.234*\"790\" + 0.069*\"15\" + 0.068*\"320\" + 0.067*\"333\" + 0.066*\"298\" + 0.029*\"314\" + 0.007*\"89\" + 0.000*\"386\" + 0.000*\"803\"\n",
      "2022-02-27 15:15:16,121 : INFO : topic #6 (0.013): 0.200*\"49\" + 0.096*\"50\" + 0.062*\"6\" + 0.052*\"518\" + 0.037*\"165\" + 0.033*\"45\" + 0.030*\"239\" + 0.024*\"229\" + 0.022*\"1070\" + 0.022*\"135\"\n",
      "2022-02-27 15:15:16,121 : INFO : topic #59 (0.014): 0.231*\"34\" + 0.134*\"83\" + 0.133*\"35\" + 0.103*\"273\" + 0.081*\"611\" + 0.067*\"1015\" + 0.037*\"69\" + 0.034*\"526\" + 0.031*\"1003\" + 0.030*\"527\"\n",
      "2022-02-27 15:15:16,121 : INFO : topic #67 (0.015): 0.329*\"34\" + 0.305*\"35\" + 0.242*\"83\" + 0.012*\"404\" + 0.011*\"39\" + 0.008*\"0\" + 0.007*\"254\" + 0.006*\"131\" + 0.006*\"45\" + 0.006*\"585\"\n",
      "2022-02-27 15:15:16,122 : INFO : topic diff=0.656911, rho=0.362690\n",
      "2022-02-27 15:15:16,126 : INFO : PROGRESS: pass 6, at document #2000/3204\n",
      "2022-02-27 15:15:16,495 : INFO : optimized alpha [0.010312251, 0.010025095, 0.010974159, 0.011892774, 0.010876017, 0.0096011, 0.012871411, 0.011529565, 0.0108866505, 0.009940855, 0.009714741, 0.01147321, 0.010295474, 0.010468003, 0.011025667, 0.010402023, 0.011737082, 0.0125533305, 0.010659718, 0.011506439, 0.010942771, 0.010800603, 0.0106634535, 0.011650849, 0.010253015, 0.011018428, 0.0108352015, 0.01034213, 0.011243902, 0.010421358, 0.011828427, 0.010941616, 0.010430796, 0.010246734, 0.010615621, 0.010951792, 0.011609388, 0.010058364, 0.01082812, 0.010753797, 0.011664663, 0.0119163925, 0.009739183, 0.010276803, 0.010395344, 0.0102325445, 0.011267858, 0.011244488, 0.010088248, 0.010578839, 0.009814842, 0.008629548, 0.011051121, 0.0101433685, 0.010329932, 0.010561558, 0.010848717, 0.010816378, 0.010108079, 0.014177537, 0.010610482, 0.012003144, 0.011184628, 0.011281438, 0.010415224, 0.010220315, 0.010607789, 0.016384808, 0.01115031, 0.010098106, 0.0116478475, 0.010749139, 0.010890486, 0.011631312, 0.011501628, 0.012237746, 0.009996074, 0.011808527, 0.010750998, 0.0105603635, 0.010997671, 0.011355776, 0.011038936, 0.011495589, 0.0104871625, 0.010469073, 0.010505813, 0.010405732, 0.010673578, 0.010662975, 0.01012479, 0.010852381, 0.011656267, 0.011196896, 0.010345606, 0.011305836, 0.011124666, 0.010354023, 0.01057375, 0.011059278]\n"
     ]
    },
    {
     "name": "stderr",
     "output_type": "stream",
     "text": [
      "2022-02-27 15:15:16,497 : INFO : merging changes from 2000 documents into a model of 3204 documents\n",
      "2022-02-27 15:15:16,500 : INFO : topic #51 (0.009): 0.433*\"163\" + 0.307*\"309\" + 0.066*\"13\" + 0.000*\"174\" + 0.000*\"50\" + 0.000*\"204\" + 0.000*\"128\" + 0.000*\"267\" + 0.000*\"1160\" + 0.000*\"14\"\n",
      "2022-02-27 15:15:16,501 : INFO : topic #5 (0.010): 0.426*\"324\" + 0.214*\"790\" + 0.078*\"15\" + 0.077*\"320\" + 0.071*\"333\" + 0.059*\"298\" + 0.028*\"314\" + 0.009*\"89\" + 0.000*\"386\" + 0.000*\"803\"\n",
      "2022-02-27 15:15:16,501 : INFO : topic #6 (0.013): 0.204*\"49\" + 0.095*\"50\" + 0.063*\"6\" + 0.052*\"518\" + 0.035*\"165\" + 0.034*\"45\" + 0.029*\"239\" + 0.027*\"229\" + 0.021*\"0\" + 0.020*\"737\"\n",
      "2022-02-27 15:15:16,501 : INFO : topic #59 (0.014): 0.221*\"34\" + 0.149*\"83\" + 0.107*\"35\" + 0.104*\"611\" + 0.101*\"273\" + 0.095*\"1015\" + 0.040*\"69\" + 0.028*\"526\" + 0.026*\"527\" + 0.019*\"1003\"\n",
      "2022-02-27 15:15:16,502 : INFO : topic #67 (0.016): 0.334*\"34\" + 0.317*\"35\" + 0.240*\"83\" + 0.011*\"404\" + 0.009*\"39\" + 0.008*\"254\" + 0.007*\"0\" + 0.007*\"386\" + 0.006*\"131\" + 0.005*\"716\"\n",
      "2022-02-27 15:15:16,502 : INFO : topic diff=0.578859, rho=0.340958\n",
      "2022-02-27 15:15:16,919 : INFO : -6.568 per-word bound, 94.9 perplexity estimate based on a held-out corpus of 1204 documents with 49783 words\n",
      "2022-02-27 15:15:16,920 : INFO : PROGRESS: pass 6, at document #3204/3204\n",
      "2022-02-27 15:15:17,210 : INFO : optimized alpha [0.010428681, 0.010148411, 0.011132509, 0.012133878, 0.011007418, 0.009616932, 0.013310401, 0.011691069, 0.011004376, 0.010013541, 0.009775215, 0.011726409, 0.010428013, 0.010634673, 0.011195191, 0.01055187, 0.0119780805, 0.013069626, 0.010844422, 0.011729327, 0.011053674, 0.010932576, 0.010799803, 0.011774053, 0.010376109, 0.011177789, 0.010833843, 0.010408208, 0.01149838, 0.010477613, 0.012068517, 0.0109230215, 0.0105157215, 0.010403358, 0.010779793, 0.011049924, 0.011795331, 0.010126215, 0.011009149, 0.010885807, 0.011898271, 0.012259917, 0.009782055, 0.010386889, 0.010425437, 0.010372626, 0.011506461, 0.011426292, 0.010167757, 0.010664534, 0.009852432, 0.0085850125, 0.011217976, 0.010227169, 0.010450434, 0.010736657, 0.011019858, 0.010951311, 0.010178417, 0.01423604, 0.010814879, 0.012325708, 0.01138912, 0.01148917, 0.01054229, 0.0103249205, 0.010728755, 0.017209914, 0.011322747, 0.01019112, 0.011971655, 0.0108709885, 0.011034938, 0.011848447, 0.011775859, 0.012449766, 0.010069826, 0.011967847, 0.010959075, 0.010693281, 0.011219468, 0.011620088, 0.011176606, 0.01177776, 0.010600893, 0.0105973575, 0.010619317, 0.010496645, 0.010823074, 0.01080899, 0.010168765, 0.010995833, 0.011946589, 0.011336829, 0.010407277, 0.011452387, 0.011241642, 0.010463279, 0.010698519, 0.011277876]\n",
      "2022-02-27 15:15:17,212 : INFO : merging changes from 1204 documents into a model of 3204 documents\n",
      "2022-02-27 15:15:17,216 : INFO : topic #51 (0.009): 0.473*\"163\" + 0.295*\"309\" + 0.061*\"13\" + 0.000*\"174\" + 0.000*\"50\" + 0.000*\"204\" + 0.000*\"128\" + 0.000*\"267\" + 0.000*\"1160\" + 0.000*\"14\"\n",
      "2022-02-27 15:15:17,216 : INFO : topic #5 (0.010): 0.417*\"324\" + 0.231*\"790\" + 0.074*\"15\" + 0.071*\"320\" + 0.069*\"333\" + 0.067*\"298\" + 0.027*\"314\" + 0.006*\"89\" + 0.000*\"386\" + 0.000*\"803\"\n",
      "2022-02-27 15:15:17,217 : INFO : topic #6 (0.013): 0.209*\"49\" + 0.094*\"50\" + 0.061*\"6\" + 0.054*\"518\" + 0.036*\"165\" + 0.035*\"45\" + 0.030*\"239\" + 0.025*\"229\" + 0.022*\"1070\" + 0.022*\"135\"\n",
      "2022-02-27 15:15:17,217 : INFO : topic #59 (0.014): 0.218*\"34\" + 0.137*\"83\" + 0.113*\"273\" + 0.109*\"35\" + 0.090*\"611\" + 0.075*\"1015\" + 0.040*\"69\" + 0.033*\"1003\" + 0.033*\"527\" + 0.030*\"526\"\n",
      "2022-02-27 15:15:17,217 : INFO : topic #67 (0.017): 0.338*\"34\" + 0.317*\"35\" + 0.244*\"83\" + 0.012*\"404\" + 0.007*\"39\" + 0.007*\"0\" + 0.007*\"254\" + 0.006*\"386\" + 0.005*\"131\" + 0.005*\"716\"\n",
      "2022-02-27 15:15:17,218 : INFO : topic diff=0.583566, rho=0.340958\n",
      "2022-02-27 15:15:17,222 : INFO : PROGRESS: pass 7, at document #2000/3204\n",
      "2022-02-27 15:15:17,586 : INFO : optimized alpha [0.010403273, 0.010166417, 0.011154071, 0.012219143, 0.011113881, 0.009625208, 0.013479462, 0.011831461, 0.011062979, 0.009989251, 0.009784452, 0.011811038, 0.010454512, 0.010603134, 0.011189358, 0.010516505, 0.012022239, 0.013241651, 0.010832597, 0.011706967, 0.011186885, 0.010957127, 0.01090834, 0.011929192, 0.010343039, 0.011223134, 0.011009678, 0.010441348, 0.011469839, 0.010501648, 0.012217007, 0.011111257, 0.010534716, 0.010424127, 0.010801087, 0.011145979, 0.01189053, 0.01009287, 0.011050593, 0.01095813, 0.0119672185, 0.01237123, 0.009776336, 0.010419568, 0.010527911, 0.010344173, 0.011540713, 0.011497659, 0.010202557, 0.010740661, 0.0098595675, 0.008534918, 0.01127858, 0.010243406, 0.01051102, 0.0107196765, 0.011040688, 0.01100075, 0.010142546, 0.014671609, 0.01096638, 0.012383186, 0.011529977, 0.011540148, 0.010549001, 0.010313844, 0.010788712, 0.01838423, 0.011370508, 0.010166389, 0.011966281, 0.010888121, 0.011127151, 0.011864265, 0.011794729, 0.012676731, 0.0100572435, 0.012162192, 0.01091969, 0.010713453, 0.011238315, 0.011712368, 0.011184127, 0.0119732795, 0.010689595, 0.0107459575, 0.010581459, 0.010583052, 0.010826281, 0.010844209, 0.010188484, 0.011064105, 0.012037347, 0.011311854, 0.010422375, 0.011634807, 0.011280308, 0.010491513, 0.010731154, 0.011309859]\n",
      "2022-02-27 15:15:17,589 : INFO : merging changes from 2000 documents into a model of 3204 documents\n",
      "2022-02-27 15:15:17,592 : INFO : topic #51 (0.009): 0.432*\"163\" + 0.313*\"309\" + 0.063*\"13\" + 0.000*\"174\" + 0.000*\"50\" + 0.000*\"204\" + 0.000*\"128\" + 0.000*\"267\" + 0.000*\"1160\" + 0.000*\"14\"\n",
      "2022-02-27 15:15:17,592 : INFO : topic #5 (0.010): 0.420*\"324\" + 0.212*\"790\" + 0.082*\"15\" + 0.080*\"320\" + 0.073*\"333\" + 0.061*\"298\" + 0.026*\"314\" + 0.009*\"89\" + 0.000*\"386\" + 0.000*\"803\"\n",
      "2022-02-27 15:15:17,592 : INFO : topic #6 (0.013): 0.213*\"49\" + 0.093*\"50\" + 0.062*\"6\" + 0.054*\"518\" + 0.035*\"45\" + 0.034*\"165\" + 0.029*\"239\" + 0.028*\"229\" + 0.022*\"0\" + 0.020*\"135\"\n",
      "2022-02-27 15:15:17,593 : INFO : topic #59 (0.015): 0.211*\"34\" + 0.151*\"83\" + 0.115*\"611\" + 0.109*\"273\" + 0.105*\"1015\" + 0.085*\"35\" + 0.043*\"69\" + 0.028*\"527\" + 0.023*\"526\" + 0.021*\"1003\"\n",
      "2022-02-27 15:15:17,593 : INFO : topic #67 (0.018): 0.342*\"34\" + 0.327*\"35\" + 0.242*\"83\" + 0.011*\"404\" + 0.007*\"254\" + 0.007*\"386\" + 0.006*\"0\" + 0.006*\"39\" + 0.005*\"131\" + 0.004*\"716\"\n",
      "2022-02-27 15:15:17,593 : INFO : topic diff=0.507257, rho=0.322715\n",
      "2022-02-27 15:15:18,011 : INFO : -6.545 per-word bound, 93.4 perplexity estimate based on a held-out corpus of 1204 documents with 49783 words\n",
      "2022-02-27 15:15:18,012 : INFO : PROGRESS: pass 7, at document #3204/3204\n",
      "2022-02-27 15:15:18,301 : INFO : optimized alpha [0.010505975, 0.0102983145, 0.011308327, 0.012473963, 0.0112540955, 0.009640904, 0.013925982, 0.011985634, 0.011175237, 0.010058836, 0.009850234, 0.01205462, 0.010583905, 0.010773859, 0.011342241, 0.0106654465, 0.012273032, 0.013781169, 0.011023892, 0.011917057, 0.011289269, 0.011109587, 0.011041499, 0.012039619, 0.010457783, 0.011378547, 0.011004408, 0.010510012, 0.0117202755, 0.010555299, 0.012451194, 0.011092393, 0.010621373, 0.0105824135, 0.010975757, 0.011245313, 0.012058732, 0.010163473, 0.011226954, 0.011087037, 0.012214356, 0.012713969, 0.009820397, 0.01052462, 0.0105562685, 0.010486371, 0.011773108, 0.011665437, 0.010278392, 0.010827891, 0.00989048, 0.008494945, 0.011444127, 0.010334544, 0.010628775, 0.010901693, 0.011225296, 0.011123673, 0.0102154, 0.014714281, 0.011201792, 0.012697788, 0.011729736, 0.011748122, 0.010681741, 0.010413793, 0.010921656, 0.019283986, 0.011547838, 0.010258072, 0.01227525, 0.010986546, 0.011271, 0.012062457, 0.012061507, 0.012883465, 0.010133339, 0.012330224, 0.01111585, 0.010840346, 0.0114540765, 0.01198287, 0.011333461, 0.012252778, 0.010797953, 0.010908753, 0.010695486, 0.010680851, 0.010972044, 0.010974945, 0.010244477, 0.011204107, 0.012346361, 0.011442322, 0.010492818, 0.011786957, 0.011379691, 0.010609898, 0.010853118, 0.01152848]\n",
      "2022-02-27 15:15:18,304 : INFO : merging changes from 1204 documents into a model of 3204 documents\n",
      "2022-02-27 15:15:18,307 : INFO : topic #51 (0.008): 0.470*\"163\" + 0.300*\"309\" + 0.060*\"13\" + 0.000*\"174\" + 0.000*\"50\" + 0.000*\"204\" + 0.000*\"128\" + 0.000*\"267\" + 0.000*\"1160\" + 0.000*\"14\"\n",
      "2022-02-27 15:15:18,307 : INFO : topic #5 (0.010): 0.415*\"324\" + 0.229*\"790\" + 0.076*\"15\" + 0.073*\"320\" + 0.071*\"333\" + 0.068*\"298\" + 0.026*\"314\" + 0.006*\"89\" + 0.000*\"386\" + 0.000*\"803\"\n"
     ]
    },
    {
     "name": "stderr",
     "output_type": "stream",
     "text": [
      "2022-02-27 15:15:18,307 : INFO : topic #6 (0.014): 0.217*\"49\" + 0.092*\"50\" + 0.060*\"6\" + 0.055*\"518\" + 0.036*\"45\" + 0.035*\"165\" + 0.029*\"239\" + 0.026*\"229\" + 0.022*\"135\" + 0.022*\"0\"\n",
      "2022-02-27 15:15:18,308 : INFO : topic #59 (0.015): 0.206*\"34\" + 0.141*\"83\" + 0.122*\"273\" + 0.101*\"611\" + 0.087*\"35\" + 0.085*\"1015\" + 0.043*\"69\" + 0.035*\"1003\" + 0.034*\"527\" + 0.025*\"526\"\n",
      "2022-02-27 15:15:18,308 : INFO : topic #67 (0.019): 0.346*\"34\" + 0.327*\"35\" + 0.245*\"83\" + 0.012*\"404\" + 0.006*\"254\" + 0.006*\"0\" + 0.006*\"386\" + 0.005*\"39\" + 0.005*\"131\" + 0.004*\"767\"\n",
      "2022-02-27 15:15:18,309 : INFO : topic diff=0.508332, rho=0.322715\n",
      "2022-02-27 15:15:18,313 : INFO : PROGRESS: pass 8, at document #2000/3204\n",
      "2022-02-27 15:15:18,672 : INFO : optimized alpha [0.010491687, 0.010315397, 0.011332121, 0.012562693, 0.011366805, 0.009652463, 0.014080235, 0.0121265, 0.011234832, 0.010036158, 0.009868519, 0.012137157, 0.010612325, 0.010743259, 0.011331142, 0.010643079, 0.012312523, 0.013964073, 0.01101195, 0.011898449, 0.011415964, 0.011136125, 0.011145916, 0.012194703, 0.010432837, 0.011423502, 0.011177071, 0.010548467, 0.011702372, 0.010581952, 0.012619248, 0.011242656, 0.010641357, 0.010606765, 0.011009302, 0.011342929, 0.012149928, 0.010141759, 0.011261031, 0.011156393, 0.012283499, 0.012824238, 0.00981705, 0.010557482, 0.010656415, 0.010468736, 0.011823329, 0.011744505, 0.010311825, 0.010905996, 0.0099055795, 0.00844916, 0.011503691, 0.01035495, 0.010690151, 0.010884841, 0.011239491, 0.011177804, 0.010181793, 0.0151594635, 0.011383147, 0.01276127, 0.011876723, 0.011797973, 0.010694605, 0.010408199, 0.010984113, 0.020565765, 0.011602149, 0.010241083, 0.012264285, 0.01100645, 0.011366449, 0.01207874, 0.012080066, 0.013113849, 0.010134236, 0.012539166, 0.011077484, 0.010854487, 0.011474913, 0.012078401, 0.011347292, 0.012450154, 0.010889822, 0.011060912, 0.010661148, 0.010770447, 0.010978226, 0.011015347, 0.0102653075, 0.01126944, 0.012440421, 0.011427562, 0.010515801, 0.011974285, 0.011420271, 0.010645161, 0.010891044, 0.011560043]\n",
      "2022-02-27 15:15:18,674 : INFO : merging changes from 2000 documents into a model of 3204 documents\n",
      "2022-02-27 15:15:18,678 : INFO : topic #51 (0.008): 0.432*\"163\" + 0.317*\"309\" + 0.062*\"13\" + 0.000*\"174\" + 0.000*\"50\" + 0.000*\"204\" + 0.000*\"128\" + 0.000*\"267\" + 0.000*\"1160\" + 0.000*\"14\"\n",
      "2022-02-27 15:15:18,679 : INFO : topic #5 (0.010): 0.416*\"324\" + 0.211*\"790\" + 0.086*\"15\" + 0.080*\"320\" + 0.076*\"333\" + 0.061*\"298\" + 0.025*\"314\" + 0.009*\"89\" + 0.000*\"386\" + 0.000*\"803\"\n",
      "2022-02-27 15:15:18,679 : INFO : topic #6 (0.014): 0.221*\"49\" + 0.092*\"50\" + 0.061*\"6\" + 0.055*\"518\" + 0.036*\"45\" + 0.034*\"165\" + 0.029*\"229\" + 0.028*\"239\" + 0.023*\"0\" + 0.021*\"135\"\n",
      "2022-02-27 15:15:18,680 : INFO : topic #59 (0.015): 0.203*\"34\" + 0.154*\"83\" + 0.128*\"611\" + 0.116*\"1015\" + 0.113*\"273\" + 0.065*\"35\" + 0.044*\"69\" + 0.028*\"527\" + 0.022*\"1003\" + 0.018*\"526\"\n",
      "2022-02-27 15:15:18,680 : INFO : topic #67 (0.021): 0.347*\"34\" + 0.334*\"35\" + 0.244*\"83\" + 0.011*\"404\" + 0.007*\"254\" + 0.006*\"386\" + 0.006*\"0\" + 0.004*\"39\" + 0.004*\"131\" + 0.004*\"767\"\n",
      "2022-02-27 15:15:18,680 : INFO : topic diff=0.439755, rho=0.307119\n",
      "2022-02-27 15:15:19,110 : INFO : -6.524 per-word bound, 92.1 perplexity estimate based on a held-out corpus of 1204 documents with 49783 words\n",
      "2022-02-27 15:15:19,112 : INFO : PROGRESS: pass 8, at document #3204/3204\n",
      "2022-02-27 15:15:19,397 : INFO : optimized alpha [0.010595638, 0.010484734, 0.011477414, 0.012805738, 0.011510088, 0.009668083, 0.014513973, 0.012283826, 0.011356812, 0.010103169, 0.009936857, 0.012378693, 0.01073115, 0.010910084, 0.011466224, 0.010786145, 0.012545126, 0.014529069, 0.011196122, 0.012088115, 0.0115226, 0.011276877, 0.011273745, 0.012290445, 0.01055381, 0.011566888, 0.011176851, 0.010622455, 0.011952898, 0.010636315, 0.012874716, 0.011215407, 0.010732697, 0.010769796, 0.011183272, 0.011446582, 0.012323908, 0.010235836, 0.011436467, 0.011285831, 0.0125319455, 0.013157711, 0.009869722, 0.010660943, 0.010683315, 0.010608056, 0.012065965, 0.011926854, 0.0103845745, 0.010997776, 0.009943223, 0.00841301, 0.011680434, 0.010447729, 0.010816778, 0.011076818, 0.011417175, 0.0113043375, 0.010254562, 0.015171799, 0.011641187, 0.01305301, 0.012093964, 0.011995117, 0.010838618, 0.010501443, 0.011137198, 0.021504026, 0.011772804, 0.010334414, 0.01256645, 0.011092303, 0.011507423, 0.012275703, 0.012356462, 0.013316331, 0.0102100475, 0.012719569, 0.011266194, 0.01099569, 0.011697674, 0.012343615, 0.011496666, 0.012744154, 0.010996348, 0.011229251, 0.010776139, 0.010866894, 0.011135137, 0.011140742, 0.010319201, 0.0114037935, 0.01275619, 0.011549769, 0.010588858, 0.012120204, 0.011512604, 0.010775098, 0.011013799, 0.01177376]\n",
      "2022-02-27 15:15:19,400 : INFO : merging changes from 1204 documents into a model of 3204 documents\n",
      "2022-02-27 15:15:19,403 : INFO : topic #51 (0.008): 0.468*\"163\" + 0.302*\"309\" + 0.059*\"13\" + 0.000*\"174\" + 0.000*\"50\" + 0.000*\"204\" + 0.000*\"128\" + 0.000*\"267\" + 0.000*\"1160\" + 0.000*\"14\"\n",
      "2022-02-27 15:15:19,404 : INFO : topic #5 (0.010): 0.411*\"324\" + 0.227*\"790\" + 0.079*\"15\" + 0.073*\"320\" + 0.073*\"333\" + 0.069*\"298\" + 0.025*\"314\" + 0.006*\"89\" + 0.000*\"386\" + 0.000*\"803\"\n",
      "2022-02-27 15:15:19,404 : INFO : topic #17 (0.015): 0.314*\"29\" + 0.063*\"345\" + 0.062*\"30\" + 0.051*\"83\" + 0.034*\"13\" + 0.027*\"6\" + 0.024*\"50\" + 0.022*\"1165\" + 0.022*\"429\" + 0.021*\"101\"\n",
      "2022-02-27 15:15:19,405 : INFO : topic #59 (0.015): 0.196*\"34\" + 0.145*\"83\" + 0.128*\"273\" + 0.114*\"611\" + 0.098*\"1015\" + 0.066*\"35\" + 0.045*\"69\" + 0.035*\"527\" + 0.035*\"1003\" + 0.021*\"485\"\n",
      "2022-02-27 15:15:19,405 : INFO : topic #67 (0.022): 0.352*\"34\" + 0.333*\"35\" + 0.246*\"83\" + 0.012*\"404\" + 0.006*\"254\" + 0.006*\"0\" + 0.006*\"386\" + 0.004*\"39\" + 0.004*\"131\" + 0.004*\"767\"\n",
      "2022-02-27 15:15:19,406 : INFO : topic diff=0.441797, rho=0.307119\n",
      "2022-02-27 15:15:19,410 : INFO : PROGRESS: pass 9, at document #2000/3204\n",
      "2022-02-27 15:15:19,763 : INFO : optimized alpha [0.0105852485, 0.010513069, 0.011500098, 0.012887054, 0.011624017, 0.00967976, 0.014686506, 0.012421914, 0.011420878, 0.010081912, 0.009957556, 0.012463188, 0.010758399, 0.010883501, 0.011453728, 0.010766111, 0.012585962, 0.014727951, 0.011180701, 0.012071413, 0.01164692, 0.011307183, 0.011381133, 0.012436875, 0.010529867, 0.011620313, 0.011340633, 0.010670637, 0.011939704, 0.010665431, 0.013070281, 0.011337265, 0.010764594, 0.010791238, 0.011226801, 0.011542482, 0.012406163, 0.010221294, 0.011470459, 0.01135422, 0.012599794, 0.013263502, 0.009872781, 0.010695687, 0.0107800625, 0.010592503, 0.012109867, 0.0120045, 0.010415336, 0.011084447, 0.009964047, 0.008370876, 0.011744303, 0.010472041, 0.010883794, 0.011061558, 0.01143202, 0.011361352, 0.01022138, 0.015627356, 0.011850925, 0.013109209, 0.012245492, 0.012040706, 0.010853875, 0.010500922, 0.011202168, 0.022848958, 0.011824738, 0.0103183305, 0.012557673, 0.011114924, 0.011602933, 0.012290659, 0.012372925, 0.013538904, 0.010217318, 0.012939767, 0.011232048, 0.011012316, 0.011720307, 0.012444409, 0.011513147, 0.012944125, 0.011086639, 0.0113953, 0.010744973, 0.010951777, 0.011139063, 0.011189334, 0.010345703, 0.011473271, 0.012870606, 0.011545977, 0.010617539, 0.0123005835, 0.011553459, 0.010811985, 0.01105838, 0.0118033495]\n",
      "2022-02-27 15:15:19,766 : INFO : merging changes from 2000 documents into a model of 3204 documents\n",
      "2022-02-27 15:15:19,769 : INFO : topic #51 (0.008): 0.433*\"163\" + 0.318*\"309\" + 0.061*\"13\" + 0.000*\"174\" + 0.000*\"50\" + 0.000*\"204\" + 0.000*\"128\" + 0.000*\"267\" + 0.000*\"1160\" + 0.000*\"14\"\n",
      "2022-02-27 15:15:19,769 : INFO : topic #5 (0.010): 0.413*\"324\" + 0.210*\"790\" + 0.088*\"15\" + 0.079*\"320\" + 0.077*\"333\" + 0.062*\"298\" + 0.025*\"314\" + 0.009*\"89\" + 0.000*\"386\" + 0.000*\"803\"\n",
      "2022-02-27 15:15:19,770 : INFO : topic #17 (0.015): 0.319*\"29\" + 0.065*\"345\" + 0.064*\"30\" + 0.047*\"83\" + 0.035*\"13\" + 0.028*\"6\" + 0.023*\"50\" + 0.020*\"429\" + 0.020*\"61\" + 0.019*\"101\"\n",
      "2022-02-27 15:15:19,770 : INFO : topic #59 (0.016): 0.196*\"34\" + 0.158*\"83\" + 0.138*\"611\" + 0.128*\"1015\" + 0.116*\"273\" + 0.050*\"35\" + 0.044*\"69\" + 0.028*\"527\" + 0.022*\"1003\" + 0.019*\"485\"\n",
      "2022-02-27 15:15:19,770 : INFO : topic #67 (0.023): 0.352*\"34\" + 0.339*\"35\" + 0.244*\"83\" + 0.010*\"404\" + 0.006*\"386\" + 0.006*\"254\" + 0.005*\"0\" + 0.004*\"39\" + 0.003*\"131\" + 0.003*\"441\"\n"
     ]
    },
    {
     "name": "stderr",
     "output_type": "stream",
     "text": [
      "2022-02-27 15:15:19,771 : INFO : topic diff=0.381383, rho=0.293585\n",
      "2022-02-27 15:15:20,182 : INFO : -6.508 per-word bound, 91.0 perplexity estimate based on a held-out corpus of 1204 documents with 49783 words\n",
      "2022-02-27 15:15:20,183 : INFO : PROGRESS: pass 9, at document #3204/3204\n",
      "2022-02-27 15:15:20,462 : INFO : optimized alpha [0.01068811, 0.010682483, 0.011628993, 0.013141695, 0.0117705725, 0.009695301, 0.015137831, 0.012570531, 0.011541213, 0.010144236, 0.010028444, 0.012706686, 0.010878166, 0.0110552, 0.011592456, 0.010904186, 0.012811128, 0.015306652, 0.011358619, 0.01225133, 0.011746542, 0.011456709, 0.01150429, 0.012522267, 0.010654413, 0.011764353, 0.011342375, 0.010749727, 0.012185518, 0.010717845, 0.013328335, 0.011310962, 0.010860427, 0.010959489, 0.011406057, 0.011636378, 0.012564834, 0.010317128, 0.011634379, 0.011484432, 0.012846957, 0.013588953, 0.009921364, 0.010797967, 0.010805713, 0.010731999, 0.012354188, 0.012177729, 0.010482843, 0.011178008, 0.010007919, 0.008337968, 0.011915137, 0.010566608, 0.011008531, 0.011249911, 0.011609321, 0.011491647, 0.010291726, 0.01562994, 0.01212397, 0.013402266, 0.01245354, 0.0122369835, 0.010987512, 0.01059335, 0.011366522, 0.023828385, 0.012006992, 0.010408359, 0.012848113, 0.011200333, 0.011741626, 0.012483992, 0.012629013, 0.013748127, 0.010305629, 0.013120157, 0.011411557, 0.011159219, 0.011936061, 0.012708425, 0.011654379, 0.0132722985, 0.01119182, 0.01156388, 0.010853212, 0.011047181, 0.011290467, 0.011321229, 0.010400292, 0.0116056, 0.013188115, 0.011663761, 0.010682763, 0.012447115, 0.011645168, 0.010937363, 0.011179597, 0.012013096]\n",
      "2022-02-27 15:15:20,464 : INFO : merging changes from 1204 documents into a model of 3204 documents\n",
      "2022-02-27 15:15:20,467 : INFO : topic #51 (0.008): 0.466*\"163\" + 0.304*\"309\" + 0.059*\"13\" + 0.000*\"174\" + 0.000*\"50\" + 0.000*\"204\" + 0.000*\"128\" + 0.000*\"267\" + 0.000*\"1160\" + 0.000*\"14\"\n",
      "2022-02-27 15:15:20,468 : INFO : topic #5 (0.010): 0.409*\"324\" + 0.225*\"790\" + 0.081*\"15\" + 0.074*\"333\" + 0.073*\"320\" + 0.070*\"298\" + 0.025*\"314\" + 0.006*\"89\" + 0.000*\"386\" + 0.000*\"803\"\n",
      "2022-02-27 15:15:20,468 : INFO : topic #17 (0.015): 0.325*\"29\" + 0.066*\"30\" + 0.064*\"345\" + 0.049*\"83\" + 0.036*\"13\" + 0.026*\"6\" + 0.024*\"50\" + 0.021*\"1165\" + 0.020*\"429\" + 0.020*\"61\"\n",
      "2022-02-27 15:15:20,469 : INFO : topic #59 (0.016): 0.189*\"34\" + 0.149*\"83\" + 0.132*\"273\" + 0.125*\"611\" + 0.109*\"1015\" + 0.051*\"35\" + 0.045*\"69\" + 0.034*\"527\" + 0.034*\"1003\" + 0.021*\"485\"\n",
      "2022-02-27 15:15:20,469 : INFO : topic #67 (0.024): 0.356*\"34\" + 0.337*\"35\" + 0.247*\"83\" + 0.011*\"404\" + 0.006*\"386\" + 0.006*\"0\" + 0.005*\"254\" + 0.003*\"767\" + 0.003*\"39\" + 0.003*\"131\"\n",
      "2022-02-27 15:15:20,469 : INFO : topic diff=0.384897, rho=0.293585\n",
      "2022-02-27 15:15:20,473 : INFO : PROGRESS: pass 10, at document #2000/3204\n",
      "2022-02-27 15:15:20,819 : INFO : optimized alpha [0.0106812725, 0.010720115, 0.011660626, 0.01321038, 0.0118877925, 0.009707105, 0.01531419, 0.012706354, 0.011606423, 0.010125713, 0.010047173, 0.012786172, 0.010905928, 0.011033816, 0.01158522, 0.010887801, 0.012849757, 0.015509222, 0.011343199, 0.012233029, 0.011870499, 0.011485698, 0.011608418, 0.012666163, 0.010631323, 0.01181748, 0.011494949, 0.010797903, 0.012171565, 0.010744754, 0.0135438265, 0.011411173, 0.01089892, 0.010990587, 0.011457366, 0.011729332, 0.012649518, 0.010309205, 0.011670142, 0.011548887, 0.012913724, 0.013696617, 0.009929031, 0.010833049, 0.010901063, 0.0107229, 0.012385359, 0.012256079, 0.010514194, 0.011268214, 0.0100312345, 0.008298975, 0.0119782705, 0.010591591, 0.011071712, 0.011236148, 0.011641354, 0.011543318, 0.010264712, 0.016095033, 0.012345801, 0.013461186, 0.012613526, 0.01228388, 0.011000454, 0.010600508, 0.011440366, 0.025261551, 0.012060178, 0.010391601, 0.012838001, 0.011225434, 0.0118390275, 0.012497774, 0.0126472935, 0.013973727, 0.01031859, 0.013333595, 0.0113748945, 0.011179709, 0.011957161, 0.0128128575, 0.011675072, 0.01347188, 0.011280833, 0.011739122, 0.010826481, 0.0111294035, 0.011303486, 0.011368147, 0.010432077, 0.011677548, 0.013313468, 0.011660241, 0.010716907, 0.012617647, 0.011684718, 0.010979057, 0.011220982, 0.012047737]\n",
      "2022-02-27 15:15:20,822 : INFO : merging changes from 2000 documents into a model of 3204 documents\n",
      "2022-02-27 15:15:20,825 : INFO : topic #51 (0.008): 0.433*\"163\" + 0.319*\"309\" + 0.060*\"13\" + 0.000*\"174\" + 0.000*\"50\" + 0.000*\"204\" + 0.000*\"128\" + 0.000*\"267\" + 0.000*\"1160\" + 0.000*\"14\"\n",
      "2022-02-27 15:15:20,826 : INFO : topic #5 (0.010): 0.412*\"324\" + 0.209*\"790\" + 0.090*\"15\" + 0.079*\"320\" + 0.078*\"333\" + 0.063*\"298\" + 0.024*\"314\" + 0.008*\"89\" + 0.000*\"386\" + 0.000*\"803\"\n",
      "2022-02-27 15:15:20,826 : INFO : topic #17 (0.016): 0.329*\"29\" + 0.068*\"30\" + 0.065*\"345\" + 0.045*\"83\" + 0.037*\"13\" + 0.027*\"6\" + 0.023*\"50\" + 0.020*\"61\" + 0.019*\"429\" + 0.018*\"101\"\n",
      "2022-02-27 15:15:20,827 : INFO : topic #59 (0.016): 0.192*\"34\" + 0.162*\"83\" + 0.148*\"611\" + 0.137*\"1015\" + 0.117*\"273\" + 0.043*\"69\" + 0.038*\"35\" + 0.028*\"527\" + 0.021*\"1003\" + 0.019*\"485\"\n",
      "2022-02-27 15:15:20,827 : INFO : topic #67 (0.025): 0.356*\"34\" + 0.342*\"35\" + 0.245*\"83\" + 0.010*\"404\" + 0.006*\"386\" + 0.006*\"254\" + 0.005*\"0\" + 0.003*\"767\" + 0.003*\"39\" + 0.003*\"441\"\n",
      "2022-02-27 15:15:20,828 : INFO : topic diff=0.332493, rho=0.281696\n",
      "2022-02-27 15:15:21,234 : INFO : -6.496 per-word bound, 90.2 perplexity estimate based on a held-out corpus of 1204 documents with 49783 words\n",
      "2022-02-27 15:15:21,235 : INFO : PROGRESS: pass 10, at document #3204/3204\n",
      "2022-02-27 15:15:21,515 : INFO : optimized alpha [0.010783326, 0.010900055, 0.011790868, 0.013470785, 0.012043501, 0.009720322, 0.015770067, 0.012855906, 0.011736473, 0.010186216, 0.010118164, 0.013023327, 0.011021866, 0.011200128, 0.011724991, 0.011018894, 0.013065424, 0.016099209, 0.011515658, 0.012395507, 0.0119748665, 0.011635961, 0.011735595, 0.012756931, 0.010759452, 0.011971025, 0.011498713, 0.010876866, 0.0124248965, 0.010795604, 0.013821191, 0.011386012, 0.010994147, 0.011156506, 0.011631498, 0.011825325, 0.012796992, 0.010411769, 0.011829041, 0.011682968, 0.013163613, 0.01401829, 0.009978567, 0.010934516, 0.010925651, 0.010878192, 0.012623161, 0.012438381, 0.010579477, 0.011358477, 0.010083319, 0.008268864, 0.012152416, 0.010685618, 0.011195061, 0.0114188995, 0.011824336, 0.011677622, 0.010332909, 0.01609209, 0.012654763, 0.013743685, 0.012822041, 0.012477117, 0.01114276, 0.010684993, 0.011605244, 0.026286125, 0.012234216, 0.010481187, 0.013120841, 0.011302691, 0.011978767, 0.012694072, 0.012893427, 0.0141702, 0.0104138255, 0.013514565, 0.011554079, 0.011321974, 0.012169714, 0.013067519, 0.0118173305, 0.01380379, 0.01138244, 0.0119111845, 0.0109388875, 0.011224165, 0.011458112, 0.011493138, 0.0104923695, 0.011805583, 0.013646176, 0.011777044, 0.0107826255, 0.012750429, 0.011770552, 0.011105603, 0.011346197, 0.012254357]\n",
      "2022-02-27 15:15:21,517 : INFO : merging changes from 1204 documents into a model of 3204 documents\n",
      "2022-02-27 15:15:21,520 : INFO : topic #51 (0.008): 0.466*\"163\" + 0.305*\"309\" + 0.058*\"13\" + 0.000*\"174\" + 0.000*\"50\" + 0.000*\"204\" + 0.000*\"128\" + 0.000*\"267\" + 0.000*\"1160\" + 0.000*\"14\"\n",
      "2022-02-27 15:15:21,521 : INFO : topic #5 (0.010): 0.410*\"324\" + 0.225*\"790\" + 0.083*\"15\" + 0.075*\"333\" + 0.073*\"320\" + 0.067*\"298\" + 0.025*\"314\" + 0.006*\"89\" + 0.000*\"386\" + 0.000*\"803\"\n",
      "2022-02-27 15:15:21,521 : INFO : topic #17 (0.016): 0.334*\"29\" + 0.069*\"30\" + 0.065*\"345\" + 0.047*\"83\" + 0.038*\"13\" + 0.026*\"6\" + 0.023*\"50\" + 0.021*\"1165\" + 0.020*\"61\" + 0.019*\"429\"\n",
      "2022-02-27 15:15:21,521 : INFO : topic #59 (0.016): 0.185*\"34\" + 0.155*\"83\" + 0.135*\"611\" + 0.133*\"273\" + 0.119*\"1015\" + 0.044*\"69\" + 0.038*\"35\" + 0.033*\"527\" + 0.032*\"1003\" + 0.022*\"485\"\n",
      "2022-02-27 15:15:21,522 : INFO : topic #67 (0.026): 0.359*\"34\" + 0.340*\"35\" + 0.248*\"83\" + 0.010*\"404\" + 0.006*\"386\" + 0.006*\"0\" + 0.004*\"254\" + 0.003*\"767\" + 0.003*\"39\" + 0.003*\"441\"\n",
      "2022-02-27 15:15:21,522 : INFO : topic diff=0.337937, rho=0.281696\n",
      "2022-02-27 15:15:21,526 : INFO : PROGRESS: pass 11, at document #2000/3204\n",
      "2022-02-27 15:15:21,864 : INFO : optimized alpha [0.010772357, 0.010942143, 0.011818232, 0.013538442, 0.012164056, 0.009734905, 0.015948225, 0.012989857, 0.0118029425, 0.010171527, 0.01013786, 0.013101723, 0.011047169, 0.011183597, 0.011716272, 0.010999871, 0.0131039405, 0.016316732, 0.011498708, 0.012377489, 0.012102089, 0.011666925, 0.01183844, 0.012898771, 0.010737003, 0.012028894, 0.011648776, 0.0109266, 0.012413611, 0.010820446, 0.014066577, 0.01148318, 0.011032993, 0.011186304, 0.011684192, 0.011917215, 0.012879079, 0.010408451, 0.011863391, 0.011745423, 0.013240427, 0.014126039, 0.009990393, 0.010968487, 0.011019844, 0.010872018, 0.012659349, 0.012510863, 0.010610021, 0.011446142, 0.010113083, 0.008232611, 0.012214977, 0.010711311, 0.011257819, 0.011405032, 0.011853327, 0.011730751, 0.010308738, 0.016598461, 0.012885938, 0.013794195, 0.012983799, 0.012527091, 0.011156591, 0.010692118, 0.011681533, 0.02778826, 0.012285433, 0.010468085, 0.013104068, 0.011333365, 0.012075057, 0.012708519, 0.012910075, 0.014389337, 0.010435012, 0.013732836, 0.011516537, 0.011350886, 0.012191109, 0.013168741, 0.011840444, 0.014012601, 0.011473578, 0.012082964, 0.010914652, 0.011305614, 0.011479782, 0.011536918, 0.010520505, 0.011876947, 0.013778884, 0.011775286, 0.010818852, 0.012916916, 0.011813767, 0.01115195, 0.011386224, 0.012287234]\n"
     ]
    },
    {
     "name": "stderr",
     "output_type": "stream",
     "text": [
      "2022-02-27 15:15:21,866 : INFO : merging changes from 2000 documents into a model of 3204 documents\n",
      "2022-02-27 15:15:21,870 : INFO : topic #51 (0.008): 0.434*\"163\" + 0.319*\"309\" + 0.059*\"13\" + 0.000*\"174\" + 0.000*\"50\" + 0.000*\"204\" + 0.000*\"128\" + 0.000*\"267\" + 0.000*\"1160\" + 0.000*\"14\"\n",
      "2022-02-27 15:15:21,870 : INFO : topic #5 (0.010): 0.410*\"324\" + 0.209*\"790\" + 0.093*\"15\" + 0.080*\"320\" + 0.079*\"333\" + 0.061*\"298\" + 0.024*\"314\" + 0.007*\"89\" + 0.000*\"386\" + 0.000*\"803\"\n",
      "2022-02-27 15:15:21,870 : INFO : topic #17 (0.016): 0.338*\"29\" + 0.070*\"30\" + 0.066*\"345\" + 0.044*\"83\" + 0.038*\"13\" + 0.027*\"6\" + 0.023*\"50\" + 0.020*\"61\" + 0.018*\"1165\" + 0.017*\"0\"\n",
      "2022-02-27 15:15:21,871 : INFO : topic #59 (0.017): 0.189*\"34\" + 0.166*\"83\" + 0.155*\"611\" + 0.145*\"1015\" + 0.117*\"273\" + 0.043*\"69\" + 0.028*\"35\" + 0.027*\"527\" + 0.020*\"1003\" + 0.019*\"485\"\n",
      "2022-02-27 15:15:21,871 : INFO : topic #67 (0.028): 0.358*\"34\" + 0.344*\"35\" + 0.246*\"83\" + 0.009*\"404\" + 0.006*\"386\" + 0.005*\"0\" + 0.005*\"254\" + 0.003*\"441\" + 0.003*\"767\" + 0.003*\"39\"\n",
      "2022-02-27 15:15:21,871 : INFO : topic diff=0.292892, rho=0.271143\n",
      "2022-02-27 15:15:22,278 : INFO : -6.484 per-word bound, 89.5 perplexity estimate based on a held-out corpus of 1204 documents with 49783 words\n",
      "2022-02-27 15:15:22,278 : INFO : PROGRESS: pass 11, at document #3204/3204\n",
      "2022-02-27 15:15:22,564 : INFO : optimized alpha [0.010883625, 0.011135062, 0.011949879, 0.013789732, 0.012323669, 0.009750361, 0.01641676, 0.013131974, 0.011937302, 0.010230421, 0.010211395, 0.0133360885, 0.011159713, 0.011352873, 0.011846555, 0.011124581, 0.013313854, 0.016912067, 0.011666326, 0.0125296805, 0.012208498, 0.011831457, 0.01196712, 0.012980382, 0.010871213, 0.012180827, 0.011654431, 0.011010527, 0.012660818, 0.010864993, 0.01435159, 0.011464262, 0.0111253485, 0.011357928, 0.011875016, 0.012007512, 0.013019219, 0.010507962, 0.012025935, 0.011870327, 0.013490674, 0.014441364, 0.010045426, 0.011066936, 0.011043475, 0.011030406, 0.012905927, 0.012682499, 0.010673336, 0.011543804, 0.010168296, 0.008204925, 0.012395372, 0.010802593, 0.011375018, 0.011585398, 0.012039593, 0.011861121, 0.01037978, 0.016593505, 0.013229127, 0.014076193, 0.013205194, 0.012723396, 0.011297404, 0.0107716285, 0.011850024, 0.028773066, 0.012460168, 0.010559791, 0.013380191, 0.011408266, 0.012216116, 0.01290517, 0.013150083, 0.014590097, 0.0105441185, 0.013917858, 0.0116854245, 0.01149425, 0.012403745, 0.013408756, 0.011986715, 0.014358489, 0.011577167, 0.012264263, 0.011023716, 0.011399892, 0.011632694, 0.011668694, 0.01058375, 0.012001153, 0.014102716, 0.0118913725, 0.010877631, 0.013051195, 0.011894304, 0.011277382, 0.011510453, 0.012491219]\n",
      "2022-02-27 15:15:22,566 : INFO : merging changes from 1204 documents into a model of 3204 documents\n",
      "2022-02-27 15:15:22,570 : INFO : topic #51 (0.008): 0.465*\"163\" + 0.306*\"309\" + 0.057*\"13\" + 0.000*\"174\" + 0.000*\"50\" + 0.000*\"204\" + 0.000*\"128\" + 0.000*\"267\" + 0.000*\"1160\" + 0.000*\"14\"\n",
      "2022-02-27 15:15:22,570 : INFO : topic #5 (0.010): 0.408*\"324\" + 0.223*\"790\" + 0.085*\"15\" + 0.076*\"333\" + 0.074*\"320\" + 0.067*\"298\" + 0.024*\"314\" + 0.006*\"89\" + 0.000*\"386\" + 0.000*\"803\"\n",
      "2022-02-27 15:15:22,571 : INFO : topic #59 (0.017): 0.183*\"34\" + 0.160*\"83\" + 0.142*\"611\" + 0.132*\"273\" + 0.127*\"1015\" + 0.044*\"69\" + 0.032*\"527\" + 0.031*\"1003\" + 0.029*\"35\" + 0.021*\"485\"\n",
      "2022-02-27 15:15:22,571 : INFO : topic #17 (0.017): 0.341*\"29\" + 0.071*\"30\" + 0.066*\"345\" + 0.046*\"83\" + 0.039*\"13\" + 0.025*\"6\" + 0.023*\"50\" + 0.021*\"1165\" + 0.020*\"61\" + 0.017*\"101\"\n",
      "2022-02-27 15:15:22,572 : INFO : topic #67 (0.029): 0.360*\"34\" + 0.341*\"35\" + 0.250*\"83\" + 0.010*\"404\" + 0.006*\"386\" + 0.006*\"0\" + 0.004*\"254\" + 0.003*\"767\" + 0.003*\"39\" + 0.003*\"441\"\n",
      "2022-02-27 15:15:22,572 : INFO : topic diff=0.299513, rho=0.271143\n",
      "2022-02-27 15:15:22,577 : INFO : PROGRESS: pass 12, at document #2000/3204\n",
      "2022-02-27 15:15:22,915 : INFO : optimized alpha [0.010878772, 0.011182953, 0.011982677, 0.013856591, 0.012452566, 0.009763688, 0.016605778, 0.013262746, 0.012020816, 0.0102166375, 0.010229289, 0.013417056, 0.011182775, 0.011337854, 0.011842736, 0.011109017, 0.0133542055, 0.01712967, 0.01165255, 0.012510375, 0.012334279, 0.01187049, 0.012067379, 0.013120523, 0.010855057, 0.01224339, 0.011800914, 0.011061878, 0.0126470085, 0.01088943, 0.014612668, 0.011549672, 0.011176244, 0.011386483, 0.011936888, 0.012097045, 0.013105837, 0.010511759, 0.012065343, 0.01193409, 0.01356123, 0.014551339, 0.010057173, 0.011099967, 0.011136736, 0.011025487, 0.012938626, 0.012762773, 0.01070316, 0.011629254, 0.010201396, 0.008171082, 0.012455906, 0.01083045, 0.011437516, 0.01156984, 0.012065758, 0.011911137, 0.010359513, 0.017122684, 0.013475681, 0.014127887, 0.013361936, 0.012774715, 0.01131056, 0.010774521, 0.011924078, 0.030347358, 0.012512861, 0.010548666, 0.013367741, 0.011438275, 0.0123131545, 0.012915217, 0.013167044, 0.014818645, 0.010572973, 0.01412491, 0.0116471145, 0.011525145, 0.012428633, 0.0135088, 0.012013718, 0.014565859, 0.01166751, 0.012434583, 0.010998916, 0.011476237, 0.011656545, 0.011718834, 0.010616851, 0.01207523, 0.014237508, 0.011900798, 0.010914532, 0.013200426, 0.011933341, 0.011322415, 0.011564377, 0.012525843]\n",
      "2022-02-27 15:15:22,918 : INFO : merging changes from 2000 documents into a model of 3204 documents\n",
      "2022-02-27 15:15:22,921 : INFO : topic #51 (0.008): 0.435*\"163\" + 0.320*\"309\" + 0.058*\"13\" + 0.000*\"174\" + 0.000*\"50\" + 0.000*\"204\" + 0.000*\"128\" + 0.000*\"267\" + 0.000*\"1160\" + 0.000*\"14\"\n",
      "2022-02-27 15:15:22,921 : INFO : topic #5 (0.010): 0.410*\"324\" + 0.209*\"790\" + 0.094*\"15\" + 0.080*\"333\" + 0.079*\"320\" + 0.062*\"298\" + 0.023*\"314\" + 0.007*\"89\" + 0.000*\"386\" + 0.000*\"803\"\n",
      "2022-02-27 15:15:22,922 : INFO : topic #59 (0.017): 0.188*\"34\" + 0.170*\"83\" + 0.161*\"611\" + 0.153*\"1015\" + 0.115*\"273\" + 0.041*\"69\" + 0.026*\"527\" + 0.021*\"35\" + 0.020*\"1003\" + 0.019*\"485\"\n",
      "2022-02-27 15:15:22,922 : INFO : topic #17 (0.017): 0.345*\"29\" + 0.073*\"30\" + 0.067*\"345\" + 0.042*\"83\" + 0.040*\"13\" + 0.026*\"6\" + 0.023*\"50\" + 0.020*\"61\" + 0.018*\"1165\" + 0.017*\"0\"\n",
      "2022-02-27 15:15:22,922 : INFO : topic #67 (0.030): 0.360*\"34\" + 0.346*\"35\" + 0.247*\"83\" + 0.009*\"404\" + 0.006*\"386\" + 0.005*\"0\" + 0.004*\"254\" + 0.003*\"767\" + 0.003*\"441\" + 0.003*\"39\"\n",
      "2022-02-27 15:15:22,923 : INFO : topic diff=0.260806, rho=0.261694\n",
      "2022-02-27 15:15:23,330 : INFO : -6.475 per-word bound, 88.9 perplexity estimate based on a held-out corpus of 1204 documents with 49783 words\n",
      "2022-02-27 15:15:23,331 : INFO : PROGRESS: pass 12, at document #3204/3204\n",
      "2022-02-27 15:15:23,604 : INFO : optimized alpha [0.01097991, 0.011394057, 0.012116052, 0.014105507, 0.012608218, 0.009779117, 0.017084384, 0.013409537, 0.012167507, 0.010274108, 0.010307603, 0.013657868, 0.011292272, 0.011515293, 0.011972142, 0.01124745, 0.013559073, 0.017741783, 0.011818512, 0.01266118, 0.012445565, 0.012038682, 0.012192622, 0.013199266, 0.010990551, 0.012388663, 0.011803255, 0.011145916, 0.01290264, 0.010942448, 0.0149059305, 0.011534119, 0.01126358, 0.011566492, 0.012118305, 0.012179388, 0.013244956, 0.010617903, 0.012226444, 0.012063439, 0.013812268, 0.01486727, 0.010115179, 0.011195726, 0.011159524, 0.01117992, 0.013183007, 0.01292728, 0.010762397, 0.011726588, 0.010264096, 0.00814553, 0.0126373125, 0.01092627, 0.011559012, 0.011753393, 0.01224488, 0.012040666, 0.010428728, 0.017107729, 0.01383426, 0.014394611, 0.013584815, 0.012977224, 0.011450243, 0.010856622, 0.0120964, 0.031327274, 0.012691477, 0.010635665, 0.013634996, 0.011518695, 0.012453159, 0.013104262, 0.013410198, 0.015027292, 0.010686194, 0.014289621, 0.011814162, 0.011672381, 0.0126364315, 0.01375249, 0.012158949, 0.014913739, 0.011775705, 0.012611896, 0.011102504, 0.0115727885, 0.011810576, 0.011847104, 0.010683081, 0.012201337, 0.014543906, 0.012018972, 0.010974144, 0.013333683, 0.01202463, 0.011449433, 0.011682775, 0.012722253]\n",
      "2022-02-27 15:15:23,607 : INFO : merging changes from 1204 documents into a model of 3204 documents\n",
      "2022-02-27 15:15:23,610 : INFO : topic #51 (0.008): 0.465*\"163\" + 0.307*\"309\" + 0.056*\"13\" + 0.000*\"174\" + 0.000*\"50\" + 0.000*\"204\" + 0.000*\"128\" + 0.000*\"267\" + 0.000*\"1160\" + 0.000*\"14\"\n",
      "2022-02-27 15:15:23,611 : INFO : topic #5 (0.010): 0.407*\"324\" + 0.223*\"790\" + 0.086*\"15\" + 0.076*\"333\" + 0.074*\"320\" + 0.068*\"298\" + 0.024*\"314\" + 0.005*\"89\" + 0.000*\"386\" + 0.000*\"803\"\n"
     ]
    },
    {
     "name": "stderr",
     "output_type": "stream",
     "text": [
      "2022-02-27 15:15:23,611 : INFO : topic #59 (0.017): 0.181*\"34\" + 0.165*\"83\" + 0.150*\"611\" + 0.135*\"1015\" + 0.131*\"273\" + 0.043*\"69\" + 0.030*\"1003\" + 0.029*\"527\" + 0.022*\"485\" + 0.021*\"35\"\n",
      "2022-02-27 15:15:23,611 : INFO : topic #17 (0.018): 0.349*\"29\" + 0.073*\"30\" + 0.066*\"345\" + 0.044*\"83\" + 0.040*\"13\" + 0.025*\"6\" + 0.023*\"50\" + 0.021*\"1165\" + 0.020*\"61\" + 0.017*\"146\"\n",
      "2022-02-27 15:15:23,612 : INFO : topic #67 (0.031): 0.362*\"34\" + 0.343*\"35\" + 0.251*\"83\" + 0.009*\"404\" + 0.006*\"0\" + 0.006*\"386\" + 0.003*\"767\" + 0.003*\"254\" + 0.002*\"39\" + 0.002*\"441\"\n",
      "2022-02-27 15:15:23,612 : INFO : topic diff=0.268387, rho=0.261694\n",
      "2022-02-27 15:15:23,617 : INFO : PROGRESS: pass 13, at document #2000/3204\n",
      "2022-02-27 15:15:23,948 : INFO : optimized alpha [0.010976677, 0.01144326, 0.012152543, 0.014169981, 0.012755133, 0.009793756, 0.01727608, 0.0135391615, 0.012259915, 0.010263722, 0.010334318, 0.013743372, 0.011314683, 0.011501658, 0.011965255, 0.011240719, 0.013601218, 0.01795935, 0.01180321, 0.012645487, 0.0125718955, 0.0120748505, 0.012295134, 0.013336297, 0.01097473, 0.012454247, 0.011945007, 0.011200291, 0.012884664, 0.0109678265, 0.015181441, 0.011604261, 0.011311803, 0.011596828, 0.01217683, 0.01226841, 0.0133326715, 0.010618898, 0.012266138, 0.012128575, 0.013883856, 0.0149702085, 0.010125565, 0.011229323, 0.011250656, 0.011174799, 0.013212289, 0.012998909, 0.0107929725, 0.011812975, 0.0102978, 0.008113827, 0.012702403, 0.01095756, 0.011618397, 0.011734727, 0.012269913, 0.012096885, 0.01041076, 0.017638689, 0.014096998, 0.014445884, 0.013740371, 0.013031605, 0.011465712, 0.010865115, 0.012174675, 0.032939807, 0.012745722, 0.010625035, 0.013619766, 0.011549497, 0.012551014, 0.013108393, 0.013425715, 0.015252575, 0.010722446, 0.01448581, 0.0117765395, 0.011703734, 0.012658481, 0.013855012, 0.01218193, 0.015129272, 0.011865432, 0.012782587, 0.011077129, 0.011648746, 0.011835007, 0.011901934, 0.010715482, 0.012278197, 0.0146864625, 0.012031229, 0.011014543, 0.013476435, 0.012065745, 0.011491699, 0.011738347, 0.012755444]\n",
      "2022-02-27 15:15:23,950 : INFO : merging changes from 2000 documents into a model of 3204 documents\n",
      "2022-02-27 15:15:23,953 : INFO : topic #51 (0.008): 0.436*\"163\" + 0.320*\"309\" + 0.057*\"13\" + 0.000*\"174\" + 0.000*\"50\" + 0.000*\"204\" + 0.000*\"128\" + 0.000*\"267\" + 0.000*\"1160\" + 0.000*\"14\"\n",
      "2022-02-27 15:15:23,954 : INFO : topic #5 (0.010): 0.409*\"324\" + 0.209*\"790\" + 0.095*\"15\" + 0.080*\"333\" + 0.079*\"320\" + 0.062*\"298\" + 0.023*\"314\" + 0.007*\"89\" + 0.000*\"386\" + 0.000*\"803\"\n",
      "2022-02-27 15:15:23,954 : INFO : topic #59 (0.018): 0.188*\"34\" + 0.174*\"83\" + 0.168*\"611\" + 0.159*\"1015\" + 0.114*\"273\" + 0.040*\"69\" + 0.023*\"527\" + 0.019*\"1003\" + 0.019*\"485\" + 0.015*\"35\"\n",
      "2022-02-27 15:15:23,954 : INFO : topic #17 (0.018): 0.352*\"29\" + 0.074*\"30\" + 0.067*\"345\" + 0.041*\"83\" + 0.040*\"13\" + 0.026*\"6\" + 0.023*\"50\" + 0.020*\"61\" + 0.018*\"1165\" + 0.017*\"0\"\n",
      "2022-02-27 15:15:23,954 : INFO : topic #67 (0.033): 0.361*\"34\" + 0.348*\"35\" + 0.248*\"83\" + 0.009*\"404\" + 0.006*\"386\" + 0.006*\"0\" + 0.003*\"767\" + 0.003*\"441\" + 0.003*\"254\" + 0.002*\"39\"\n",
      "2022-02-27 15:15:23,955 : INFO : topic diff=0.235266, rho=0.253169\n",
      "2022-02-27 15:15:24,351 : INFO : -6.465 per-word bound, 88.3 perplexity estimate based on a held-out corpus of 1204 documents with 49783 words\n",
      "2022-02-27 15:15:24,351 : INFO : PROGRESS: pass 13, at document #3204/3204\n",
      "2022-02-27 15:15:24,622 : INFO : optimized alpha [0.01108233, 0.011653105, 0.0122852735, 0.014410887, 0.012915155, 0.009809141, 0.01775811, 0.013676476, 0.012423875, 0.0103199, 0.010417252, 0.013991221, 0.011421475, 0.01167516, 0.012091455, 0.011385379, 0.013804416, 0.018581718, 0.011960201, 0.012795217, 0.01268816, 0.01224693, 0.012419797, 0.01341523, 0.011107024, 0.012593549, 0.011946767, 0.01128923, 0.013140772, 0.011019542, 0.01547059, 0.011587066, 0.011408762, 0.011773072, 0.012359656, 0.012348474, 0.013479546, 0.010724732, 0.012426118, 0.012254739, 0.014130255, 0.0152808605, 0.010184331, 0.011322648, 0.011272687, 0.011337483, 0.013465982, 0.013159453, 0.010848432, 0.0119077545, 0.010363268, 0.008090151, 0.012874487, 0.011055701, 0.011739325, 0.01190423, 0.012450409, 0.01222579, 0.010489382, 0.017599143, 0.014480788, 0.014710383, 0.01395624, 0.013235181, 0.011609257, 0.010942868, 0.01234845, 0.033933554, 0.012923026, 0.0107143875, 0.013884489, 0.011627874, 0.012690223, 0.013293006, 0.013669574, 0.015443465, 0.010833041, 0.014633842, 0.01193452, 0.011847613, 0.012859153, 0.014102714, 0.012315845, 0.015476463, 0.011973288, 0.012961607, 0.011182855, 0.011737815, 0.011977958, 0.012024481, 0.010784577, 0.012403698, 0.014988119, 0.012162031, 0.011072668, 0.013603281, 0.012157218, 0.011618168, 0.011858839, 0.012944789]\n",
      "2022-02-27 15:15:24,624 : INFO : merging changes from 1204 documents into a model of 3204 documents\n",
      "2022-02-27 15:15:24,628 : INFO : topic #51 (0.008): 0.465*\"163\" + 0.307*\"309\" + 0.055*\"13\" + 0.000*\"174\" + 0.000*\"50\" + 0.000*\"204\" + 0.000*\"128\" + 0.000*\"267\" + 0.000*\"1160\" + 0.000*\"14\"\n",
      "2022-02-27 15:15:24,628 : INFO : topic #5 (0.010): 0.407*\"324\" + 0.222*\"790\" + 0.088*\"15\" + 0.076*\"333\" + 0.074*\"320\" + 0.068*\"298\" + 0.024*\"314\" + 0.005*\"89\" + 0.000*\"386\" + 0.000*\"803\"\n",
      "2022-02-27 15:15:24,628 : INFO : topic #6 (0.018): 0.251*\"49\" + 0.089*\"50\" + 0.059*\"518\" + 0.054*\"6\" + 0.040*\"45\" + 0.033*\"165\" + 0.030*\"229\" + 0.027*\"0\" + 0.022*\"135\" + 0.022*\"64\"\n",
      "2022-02-27 15:15:24,629 : INFO : topic #17 (0.019): 0.355*\"29\" + 0.074*\"30\" + 0.067*\"345\" + 0.043*\"83\" + 0.041*\"13\" + 0.025*\"6\" + 0.023*\"50\" + 0.021*\"1165\" + 0.020*\"61\" + 0.017*\"146\"\n",
      "2022-02-27 15:15:24,629 : INFO : topic #67 (0.034): 0.363*\"34\" + 0.345*\"35\" + 0.251*\"83\" + 0.009*\"404\" + 0.006*\"0\" + 0.006*\"386\" + 0.003*\"767\" + 0.002*\"441\" + 0.002*\"631\" + 0.002*\"39\"\n",
      "2022-02-27 15:15:24,629 : INFO : topic diff=0.242939, rho=0.253169\n",
      "2022-02-27 15:15:24,633 : INFO : PROGRESS: pass 14, at document #2000/3204\n",
      "2022-02-27 15:15:24,968 : INFO : optimized alpha [0.011079201, 0.011705077, 0.012322256, 0.014465984, 0.013061141, 0.009823803, 0.017954612, 0.0138085205, 0.012523403, 0.010310178, 0.01044724, 0.014084548, 0.011444717, 0.011664318, 0.012084688, 0.011375806, 0.0138466805, 0.018792521, 0.011944977, 0.01277972, 0.0128198555, 0.0122834025, 0.012520136, 0.013547788, 0.011091428, 0.012662204, 0.012087072, 0.011342345, 0.013126972, 0.011045905, 0.015759027, 0.011657165, 0.011460069, 0.011802293, 0.012419663, 0.012435597, 0.013563546, 0.010732292, 0.012466122, 0.012322859, 0.01419795, 0.015384567, 0.010197199, 0.011355447, 0.011361912, 0.011339044, 0.013497023, 0.013234034, 0.010875783, 0.011995136, 0.01040905, 0.008060348, 0.012936207, 0.011091661, 0.011800168, 0.011891528, 0.012479026, 0.012277562, 0.010470833, 0.018123463, 0.014747998, 0.0147595275, 0.014115984, 0.013289391, 0.011631199, 0.010955401, 0.012424905, 0.03558177, 0.012974076, 0.010702855, 0.013870104, 0.011662312, 0.012785952, 0.013301481, 0.013683733, 0.015665343, 0.010873726, 0.0148212565, 0.011899079, 0.011877981, 0.012881648, 0.0141957225, 0.01233962, 0.015683442, 0.012061077, 0.013139229, 0.011159651, 0.011813525, 0.012003025, 0.012082429, 0.010813645, 0.012477225, 0.015127621, 0.012178519, 0.011115028, 0.013748167, 0.012197387, 0.01165796, 0.011911586, 0.012978268]\n",
      "2022-02-27 15:15:24,971 : INFO : merging changes from 2000 documents into a model of 3204 documents\n",
      "2022-02-27 15:15:24,974 : INFO : topic #51 (0.008): 0.437*\"163\" + 0.320*\"309\" + 0.056*\"13\" + 0.000*\"174\" + 0.000*\"50\" + 0.000*\"204\" + 0.000*\"128\" + 0.000*\"267\" + 0.000*\"1160\" + 0.000*\"14\"\n",
      "2022-02-27 15:15:24,975 : INFO : topic #5 (0.010): 0.407*\"324\" + 0.208*\"790\" + 0.096*\"15\" + 0.081*\"333\" + 0.079*\"320\" + 0.062*\"298\" + 0.023*\"314\" + 0.007*\"89\" + 0.000*\"386\" + 0.000*\"803\"\n",
      "2022-02-27 15:15:24,975 : INFO : topic #59 (0.018): 0.188*\"34\" + 0.178*\"83\" + 0.173*\"611\" + 0.164*\"1015\" + 0.113*\"273\" + 0.039*\"69\" + 0.020*\"527\" + 0.019*\"485\" + 0.017*\"1003\" + 0.013*\"759\"\n",
      "2022-02-27 15:15:24,976 : INFO : topic #17 (0.019): 0.358*\"29\" + 0.075*\"30\" + 0.068*\"345\" + 0.041*\"13\" + 0.040*\"83\" + 0.025*\"6\" + 0.023*\"50\" + 0.020*\"61\" + 0.018*\"1165\" + 0.017*\"174\"\n",
      "2022-02-27 15:15:24,976 : INFO : topic #67 (0.036): 0.363*\"34\" + 0.349*\"35\" + 0.249*\"83\" + 0.008*\"404\" + 0.006*\"386\" + 0.006*\"0\" + 0.003*\"767\" + 0.003*\"441\" + 0.002*\"39\" + 0.002*\"631\"\n"
     ]
    },
    {
     "name": "stderr",
     "output_type": "stream",
     "text": [
      "2022-02-27 15:15:24,976 : INFO : topic diff=0.214644, rho=0.245426\n",
      "2022-02-27 15:15:25,392 : INFO : -6.456 per-word bound, 87.8 perplexity estimate based on a held-out corpus of 1204 documents with 49783 words\n",
      "2022-02-27 15:15:25,392 : INFO : PROGRESS: pass 14, at document #3204/3204\n",
      "2022-02-27 15:15:25,665 : INFO : optimized alpha [0.011187, 0.011923752, 0.012457055, 0.014702336, 0.013220431, 0.009835148, 0.018429603, 0.013948041, 0.012689197, 0.010365184, 0.010530404, 0.014339619, 0.011549057, 0.011836593, 0.012210471, 0.011517429, 0.01404286, 0.01942154, 0.012101063, 0.012933847, 0.012933257, 0.012452004, 0.012641885, 0.01362701, 0.011232258, 0.012803486, 0.012088308, 0.0114361225, 0.013375793, 0.01109653, 0.016050728, 0.011643173, 0.011557123, 0.011989563, 0.012599024, 0.012510952, 0.01370704, 0.010844546, 0.012620169, 0.01244621, 0.014448798, 0.01568107, 0.010258871, 0.011446554, 0.011383252, 0.01150072, 0.013746551, 0.013393748, 0.010927737, 0.012085089, 0.0104794, 0.008038343, 0.013107345, 0.011187587, 0.01192553, 0.012062333, 0.01265847, 0.01240851, 0.010547639, 0.018067501, 0.015158085, 0.015016076, 0.01433969, 0.013494266, 0.011776442, 0.011038039, 0.012597816, 0.036529783, 0.013150357, 0.010790158, 0.014129924, 0.011745989, 0.01292202, 0.013487602, 0.01391739, 0.015855258, 0.01099977, 0.014956311, 0.012053499, 0.012013875, 0.013081029, 0.014433307, 0.0124730775, 0.01603631, 0.012166299, 0.013322852, 0.011258294, 0.011900372, 0.012152624, 0.012209648, 0.010881172, 0.012602349, 0.015421919, 0.012306399, 0.01116947, 0.0138773685, 0.012291757, 0.0117888125, 0.012031773, 0.013166299]\n",
      "2022-02-27 15:15:25,668 : INFO : merging changes from 1204 documents into a model of 3204 documents\n",
      "2022-02-27 15:15:25,671 : INFO : topic #51 (0.008): 0.465*\"163\" + 0.308*\"309\" + 0.055*\"13\" + 0.000*\"174\" + 0.000*\"50\" + 0.000*\"204\" + 0.000*\"128\" + 0.000*\"267\" + 0.000*\"1160\" + 0.000*\"14\"\n",
      "2022-02-27 15:15:25,671 : INFO : topic #5 (0.010): 0.407*\"324\" + 0.222*\"790\" + 0.089*\"15\" + 0.077*\"333\" + 0.074*\"320\" + 0.064*\"298\" + 0.024*\"314\" + 0.005*\"89\" + 0.000*\"386\" + 0.000*\"803\"\n",
      "2022-02-27 15:15:25,672 : INFO : topic #6 (0.018): 0.254*\"49\" + 0.089*\"50\" + 0.059*\"518\" + 0.053*\"6\" + 0.041*\"45\" + 0.033*\"165\" + 0.030*\"229\" + 0.028*\"0\" + 0.023*\"64\" + 0.022*\"135\"\n",
      "2022-02-27 15:15:25,672 : INFO : topic #17 (0.019): 0.361*\"29\" + 0.075*\"30\" + 0.068*\"345\" + 0.042*\"13\" + 0.041*\"83\" + 0.024*\"6\" + 0.023*\"50\" + 0.021*\"1165\" + 0.020*\"61\" + 0.018*\"174\"\n",
      "2022-02-27 15:15:25,672 : INFO : topic #67 (0.037): 0.364*\"34\" + 0.346*\"35\" + 0.252*\"83\" + 0.008*\"404\" + 0.006*\"0\" + 0.006*\"386\" + 0.003*\"767\" + 0.002*\"631\" + 0.002*\"441\" + 0.002*\"39\"\n",
      "2022-02-27 15:15:25,673 : INFO : topic diff=0.222059, rho=0.245426\n",
      "2022-02-27 15:15:25,677 : INFO : PROGRESS: pass 15, at document #2000/3204\n",
      "2022-02-27 15:15:26,003 : INFO : optimized alpha [0.011190629, 0.011987059, 0.01249609, 0.014755431, 0.01337032, 0.009851022, 0.018631054, 0.014077642, 0.012792922, 0.010356038, 0.010562278, 0.014428934, 0.011570364, 0.011826924, 0.012203805, 0.011513347, 0.014080325, 0.019627657, 0.012085857, 0.012915351, 0.0130627295, 0.0124888085, 0.012740259, 0.013757048, 0.011219571, 0.012878266, 0.012225958, 0.011486751, 0.013359634, 0.011122538, 0.016348803, 0.0117104985, 0.011610067, 0.012017698, 0.012660518, 0.0125962645, 0.013794126, 0.0108531555, 0.01266663, 0.012509847, 0.014514405, 0.015793163, 0.010271606, 0.011478643, 0.011470735, 0.011506018, 0.013781037, 0.013472985, 0.010953333, 0.012172198, 0.010530557, 0.008010248, 0.013173716, 0.011220095, 0.011984983, 0.012052377, 0.0126875, 0.01246497, 0.010532361, 0.018596105, 0.015430349, 0.015066807, 0.014484945, 0.01354843, 0.011797696, 0.011050345, 0.012680013, 0.038211957, 0.013199881, 0.01078033, 0.014109551, 0.011785378, 0.013017299, 0.013496957, 0.013932019, 0.016081875, 0.011047436, 0.015142419, 0.012020056, 0.012043403, 0.0131023945, 0.014530816, 0.012499191, 0.016238574, 0.012252307, 0.013501397, 0.011235828, 0.011971717, 0.012179777, 0.012264805, 0.010913653, 0.012675764, 0.015567664, 0.012320844, 0.01121382, 0.014018038, 0.012333933, 0.011831787, 0.01208624, 0.013198558]\n",
      "2022-02-27 15:15:26,006 : INFO : merging changes from 2000 documents into a model of 3204 documents\n",
      "2022-02-27 15:15:26,009 : INFO : topic #51 (0.008): 0.437*\"163\" + 0.320*\"309\" + 0.055*\"13\" + 0.000*\"174\" + 0.000*\"50\" + 0.000*\"204\" + 0.000*\"128\" + 0.000*\"267\" + 0.000*\"1160\" + 0.000*\"14\"\n",
      "2022-02-27 15:15:26,009 : INFO : topic #5 (0.010): 0.407*\"324\" + 0.208*\"790\" + 0.099*\"15\" + 0.080*\"333\" + 0.080*\"320\" + 0.059*\"298\" + 0.023*\"314\" + 0.007*\"89\" + 0.000*\"386\" + 0.000*\"803\"\n",
      "2022-02-27 15:15:26,009 : INFO : topic #6 (0.019): 0.256*\"49\" + 0.088*\"50\" + 0.058*\"518\" + 0.053*\"6\" + 0.041*\"45\" + 0.032*\"165\" + 0.032*\"229\" + 0.029*\"0\" + 0.022*\"57\" + 0.021*\"64\"\n",
      "2022-02-27 15:15:26,010 : INFO : topic #17 (0.020): 0.364*\"29\" + 0.076*\"30\" + 0.069*\"345\" + 0.042*\"13\" + 0.039*\"83\" + 0.025*\"6\" + 0.023*\"50\" + 0.020*\"61\" + 0.018*\"174\" + 0.018*\"1165\"\n",
      "2022-02-27 15:15:26,010 : INFO : topic #67 (0.038): 0.364*\"34\" + 0.350*\"35\" + 0.249*\"83\" + 0.007*\"404\" + 0.006*\"386\" + 0.006*\"0\" + 0.003*\"767\" + 0.003*\"441\" + 0.002*\"39\" + 0.002*\"631\"\n",
      "2022-02-27 15:15:26,011 : INFO : topic diff=0.197721, rho=0.238352\n",
      "2022-02-27 15:15:26,402 : INFO : -6.449 per-word bound, 87.3 perplexity estimate based on a held-out corpus of 1204 documents with 49783 words\n",
      "2022-02-27 15:15:26,403 : INFO : PROGRESS: pass 15, at document #3204/3204\n",
      "2022-02-27 15:15:26,673 : INFO : optimized alpha [0.0113006495, 0.012207651, 0.012633164, 0.014984635, 0.0135290595, 0.009862437, 0.019113915, 0.014205496, 0.012950622, 0.010412029, 0.010649977, 0.014685785, 0.011677048, 0.011995914, 0.012324492, 0.011656696, 0.014281256, 0.020251622, 0.012238765, 0.013063642, 0.013170898, 0.012659236, 0.012859312, 0.013833966, 0.011355343, 0.013008943, 0.012229132, 0.011578517, 0.01361222, 0.011172129, 0.016662793, 0.011701811, 0.011704979, 0.012206545, 0.012839181, 0.012667215, 0.013931795, 0.010967473, 0.012820181, 0.012623107, 0.014767142, 0.016088355, 0.01033198, 0.011567756, 0.011491452, 0.0116646495, 0.014032224, 0.013632157, 0.0110042095, 0.01226243, 0.010599342, 0.007989733, 0.013344186, 0.011313982, 0.012110126, 0.012227101, 0.0128737595, 0.012593147, 0.01060757, 0.018527912, 0.015834402, 0.015324923, 0.014710894, 0.013749566, 0.011947142, 0.011129027, 0.012854881, 0.039111264, 0.01337277, 0.010863642, 0.014362003, 0.011869586, 0.013155576, 0.013679437, 0.0141642485, 0.016274102, 0.011171185, 0.015276954, 0.01217372, 0.012181291, 0.013298113, 0.014772986, 0.012637459, 0.01659429, 0.012362372, 0.013687208, 0.011332329, 0.01205654, 0.012328836, 0.012396624, 0.010979692, 0.01280066, 0.015857821, 0.01245836, 0.011267058, 0.014144094, 0.012433574, 0.011962387, 0.0122086955, 0.0133855995]\n",
      "2022-02-27 15:15:26,675 : INFO : merging changes from 1204 documents into a model of 3204 documents\n",
      "2022-02-27 15:15:26,678 : INFO : topic #51 (0.008): 0.464*\"163\" + 0.308*\"309\" + 0.055*\"13\" + 0.000*\"174\" + 0.000*\"50\" + 0.000*\"204\" + 0.000*\"128\" + 0.000*\"267\" + 0.000*\"1160\" + 0.000*\"14\"\n",
      "2022-02-27 15:15:26,679 : INFO : topic #5 (0.010): 0.408*\"324\" + 0.222*\"790\" + 0.092*\"15\" + 0.077*\"333\" + 0.075*\"320\" + 0.060*\"298\" + 0.024*\"314\" + 0.005*\"89\" + 0.000*\"386\" + 0.000*\"803\"\n",
      "2022-02-27 15:15:26,679 : INFO : topic #6 (0.019): 0.257*\"49\" + 0.088*\"50\" + 0.059*\"518\" + 0.052*\"6\" + 0.042*\"45\" + 0.033*\"165\" + 0.030*\"229\" + 0.029*\"0\" + 0.023*\"64\" + 0.022*\"135\"\n",
      "2022-02-27 15:15:26,679 : INFO : topic #17 (0.020): 0.367*\"29\" + 0.076*\"30\" + 0.068*\"345\" + 0.042*\"13\" + 0.040*\"83\" + 0.023*\"6\" + 0.023*\"50\" + 0.021*\"1165\" + 0.021*\"61\" + 0.018*\"174\"\n",
      "2022-02-27 15:15:26,680 : INFO : topic #67 (0.039): 0.365*\"34\" + 0.347*\"35\" + 0.251*\"83\" + 0.007*\"404\" + 0.006*\"0\" + 0.006*\"386\" + 0.003*\"767\" + 0.002*\"631\" + 0.002*\"441\" + 0.002*\"39\"\n",
      "2022-02-27 15:15:26,680 : INFO : topic diff=0.204681, rho=0.238352\n",
      "2022-02-27 15:15:26,684 : INFO : PROGRESS: pass 16, at document #2000/3204\n",
      "2022-02-27 15:15:27,011 : INFO : optimized alpha [0.011308159, 0.0122680785, 0.0126726525, 0.015034168, 0.013683066, 0.009880595, 0.019311672, 0.014332789, 0.013052561, 0.010403407, 0.010686146, 0.014771219, 0.011697857, 0.011991683, 0.0123251965, 0.011653834, 0.014324099, 0.02045536, 0.012225072, 0.013048417, 0.013298272, 0.012697841, 0.012957312, 0.013961717, 0.011344101, 0.013077652, 0.01236439, 0.011629494, 0.013596843, 0.011197787, 0.016961357, 0.011766521, 0.011762321, 0.012233641, 0.01289466, 0.01274807, 0.014018762, 0.010980979, 0.012859407, 0.012691309, 0.014830779, 0.01619957, 0.0103469975, 0.01160052, 0.011577328, 0.011670844, 0.014053461, 0.013716041, 0.011030732, 0.012350752, 0.010660694, 0.007963165, 0.013407463, 0.011351071, 0.012169696, 0.012218357, 0.01290625, 0.012652792, 0.010592855, 0.019058933, 0.016109677, 0.015370155, 0.014853781, 0.013800458, 0.011973191, 0.011145081, 0.012938354, 0.040831104, 0.013417922, 0.010854208, 0.014342576, 0.011911002, 0.013249117, 0.013691437, 0.014182617, 0.016490186, 0.011226973, 0.01545832, 0.012142255, 0.012211408, 0.013318503, 0.014863043, 0.012661324, 0.016791837, 0.012446747, 0.013871529, 0.011313188, 0.012127898, 0.01236088, 0.012449108, 0.011014154, 0.0128711285, 0.016000872, 0.012475324, 0.011311957, 0.014282399, 0.012471981, 0.012005733, 0.0122634275, 0.01341831]\n"
     ]
    },
    {
     "name": "stderr",
     "output_type": "stream",
     "text": [
      "2022-02-27 15:15:27,013 : INFO : merging changes from 2000 documents into a model of 3204 documents\n",
      "2022-02-27 15:15:27,016 : INFO : topic #51 (0.008): 0.438*\"163\" + 0.320*\"309\" + 0.055*\"13\" + 0.000*\"174\" + 0.000*\"50\" + 0.000*\"204\" + 0.000*\"128\" + 0.000*\"267\" + 0.000*\"1160\" + 0.000*\"14\"\n",
      "2022-02-27 15:15:27,017 : INFO : topic #5 (0.010): 0.406*\"324\" + 0.208*\"790\" + 0.103*\"15\" + 0.081*\"333\" + 0.080*\"320\" + 0.056*\"298\" + 0.023*\"314\" + 0.006*\"89\" + 0.000*\"386\" + 0.000*\"803\"\n",
      "2022-02-27 15:15:27,017 : INFO : topic #6 (0.019): 0.258*\"49\" + 0.088*\"50\" + 0.058*\"518\" + 0.052*\"6\" + 0.042*\"45\" + 0.032*\"229\" + 0.032*\"165\" + 0.030*\"0\" + 0.023*\"57\" + 0.022*\"64\"\n",
      "2022-02-27 15:15:27,017 : INFO : topic #17 (0.020): 0.369*\"29\" + 0.077*\"30\" + 0.069*\"345\" + 0.043*\"13\" + 0.037*\"83\" + 0.024*\"6\" + 0.023*\"50\" + 0.020*\"61\" + 0.018*\"174\" + 0.018*\"1165\"\n",
      "2022-02-27 15:15:27,018 : INFO : topic #67 (0.041): 0.365*\"34\" + 0.352*\"35\" + 0.249*\"83\" + 0.006*\"404\" + 0.006*\"386\" + 0.006*\"0\" + 0.003*\"767\" + 0.003*\"441\" + 0.002*\"39\" + 0.002*\"631\"\n",
      "2022-02-27 15:15:27,018 : INFO : topic diff=0.183406, rho=0.231857\n",
      "2022-02-27 15:15:27,411 : INFO : -6.442 per-word bound, 86.9 perplexity estimate based on a held-out corpus of 1204 documents with 49783 words\n",
      "2022-02-27 15:15:27,411 : INFO : PROGRESS: pass 16, at document #3204/3204\n",
      "2022-02-27 15:15:27,676 : INFO : optimized alpha [0.0114204185, 0.012495651, 0.012812059, 0.015253679, 0.013838884, 0.009892096, 0.019795528, 0.014466212, 0.013210017, 0.010456383, 0.010774194, 0.015032932, 0.0118001755, 0.012162324, 0.012457842, 0.011799023, 0.014521505, 0.021093745, 0.012375081, 0.013186178, 0.013406593, 0.012870117, 0.013076343, 0.014036592, 0.011481751, 0.013208224, 0.012369439, 0.011717087, 0.0138508035, 0.011250841, 0.017278844, 0.011756056, 0.011857595, 0.012426607, 0.013077953, 0.012817345, 0.01415637, 0.0111016575, 0.013017614, 0.012812046, 0.015074054, 0.01649378, 0.010414174, 0.01168781, 0.01159749, 0.011833454, 0.01429005, 0.01388542, 0.011080634, 0.012441347, 0.010727963, 0.007943998, 0.013577353, 0.01145406, 0.012292453, 0.012390056, 0.01309195, 0.012773643, 0.0106665585, 0.018978799, 0.016535137, 0.015630176, 0.015070674, 0.014003296, 0.012117687, 0.01122216, 0.013115366, 0.041698135, 0.0135877, 0.010938007, 0.014590947, 0.011995823, 0.013384702, 0.013870586, 0.01441106, 0.016675383, 0.011361603, 0.01558362, 0.012295235, 0.012344309, 0.013521245, 0.015101546, 0.01279454, 0.017147435, 0.012554514, 0.01407307, 0.011407756, 0.012213204, 0.012504809, 0.012576013, 0.011085281, 0.012998508, 0.016299559, 0.012607825, 0.011361868, 0.014408279, 0.012569635, 0.012138595, 0.0123858815, 0.013602019]\n",
      "2022-02-27 15:15:27,679 : INFO : merging changes from 1204 documents into a model of 3204 documents\n",
      "2022-02-27 15:15:27,682 : INFO : topic #51 (0.008): 0.464*\"163\" + 0.308*\"309\" + 0.055*\"13\" + 0.000*\"174\" + 0.000*\"50\" + 0.000*\"204\" + 0.000*\"128\" + 0.000*\"267\" + 0.000*\"1160\" + 0.000*\"14\"\n",
      "2022-02-27 15:15:27,683 : INFO : topic #5 (0.010): 0.407*\"324\" + 0.221*\"790\" + 0.095*\"15\" + 0.077*\"333\" + 0.075*\"320\" + 0.058*\"298\" + 0.024*\"314\" + 0.005*\"89\" + 0.000*\"386\" + 0.000*\"803\"\n",
      "2022-02-27 15:15:27,683 : INFO : topic #6 (0.020): 0.260*\"49\" + 0.088*\"50\" + 0.059*\"518\" + 0.051*\"6\" + 0.042*\"45\" + 0.033*\"165\" + 0.030*\"229\" + 0.030*\"0\" + 0.023*\"64\" + 0.022*\"135\"\n",
      "2022-02-27 15:15:27,683 : INFO : topic #17 (0.021): 0.372*\"29\" + 0.077*\"30\" + 0.069*\"345\" + 0.042*\"13\" + 0.039*\"83\" + 0.023*\"6\" + 0.023*\"50\" + 0.021*\"61\" + 0.021*\"1165\" + 0.019*\"174\"\n",
      "2022-02-27 15:15:27,683 : INFO : topic #67 (0.042): 0.366*\"34\" + 0.349*\"35\" + 0.251*\"83\" + 0.007*\"404\" + 0.006*\"0\" + 0.006*\"386\" + 0.003*\"767\" + 0.002*\"631\" + 0.002*\"441\" + 0.002*\"39\"\n",
      "2022-02-27 15:15:27,684 : INFO : topic diff=0.190018, rho=0.231857\n",
      "2022-02-27 15:15:27,688 : INFO : PROGRESS: pass 17, at document #2000/3204\n",
      "2022-02-27 15:15:28,011 : INFO : optimized alpha [0.011430273, 0.012558871, 0.012853511, 0.0152963195, 0.013989358, 0.009909068, 0.019992007, 0.01459636, 0.0133132385, 0.010448279, 0.010808439, 0.015117958, 0.01182055, 0.012163249, 0.01246122, 0.011793284, 0.014561361, 0.021297444, 0.012362841, 0.013172626, 0.013533527, 0.012916382, 0.013172676, 0.014162218, 0.011473106, 0.013281612, 0.012502515, 0.011768414, 0.0138346795, 0.01127618, 0.017591674, 0.011819692, 0.011917946, 0.012454128, 0.013147008, 0.01289674, 0.014244812, 0.0111198295, 0.013063302, 0.012878922, 0.015141087, 0.016607957, 0.010430173, 0.011719973, 0.0116819255, 0.011840501, 0.01430188, 0.013967653, 0.011106806, 0.012529564, 0.010785848, 0.007918827, 0.013640754, 0.0114969, 0.012352261, 0.012376815, 0.013121923, 0.012833548, 0.010652408, 0.01951476, 0.016826712, 0.015680702, 0.015209665, 0.014054267, 0.012147111, 0.011236706, 0.013195857, 0.043456186, 0.013631677, 0.01092766, 0.014569226, 0.012039259, 0.0134796025, 0.013883512, 0.014428309, 0.016888805, 0.01141638, 0.015753511, 0.012262871, 0.012377883, 0.013540633, 0.015198026, 0.012817799, 0.017342314, 0.01264021, 0.014260346, 0.011387882, 0.0122846905, 0.012544492, 0.012634607, 0.011122908, 0.013066099, 0.016443737, 0.012625784, 0.011404784, 0.014544416, 0.012615829, 0.012187877, 0.012440939, 0.013632085]\n",
      "2022-02-27 15:15:28,014 : INFO : merging changes from 2000 documents into a model of 3204 documents\n",
      "2022-02-27 15:15:28,017 : INFO : topic #51 (0.008): 0.438*\"163\" + 0.320*\"309\" + 0.055*\"13\" + 0.000*\"174\" + 0.000*\"50\" + 0.000*\"204\" + 0.000*\"128\" + 0.000*\"267\" + 0.000*\"1160\" + 0.000*\"14\"\n",
      "2022-02-27 15:15:28,017 : INFO : topic #5 (0.010): 0.406*\"324\" + 0.208*\"790\" + 0.105*\"15\" + 0.080*\"333\" + 0.080*\"320\" + 0.055*\"298\" + 0.023*\"314\" + 0.006*\"89\" + 0.000*\"386\" + 0.000*\"803\"\n",
      "2022-02-27 15:15:28,017 : INFO : topic #6 (0.020): 0.262*\"49\" + 0.088*\"50\" + 0.058*\"518\" + 0.051*\"6\" + 0.042*\"45\" + 0.032*\"229\" + 0.032*\"165\" + 0.031*\"0\" + 0.023*\"57\" + 0.022*\"64\"\n",
      "2022-02-27 15:15:28,018 : INFO : topic #17 (0.021): 0.374*\"29\" + 0.078*\"30\" + 0.070*\"345\" + 0.043*\"13\" + 0.036*\"83\" + 0.024*\"6\" + 0.022*\"50\" + 0.021*\"61\" + 0.019*\"174\" + 0.018*\"1165\"\n",
      "2022-02-27 15:15:28,018 : INFO : topic #67 (0.043): 0.366*\"34\" + 0.353*\"35\" + 0.249*\"83\" + 0.006*\"386\" + 0.006*\"0\" + 0.006*\"404\" + 0.003*\"767\" + 0.002*\"441\" + 0.002*\"631\" + 0.002*\"39\"\n",
      "2022-02-27 15:15:28,018 : INFO : topic diff=0.171236, rho=0.225865\n",
      "2022-02-27 15:15:28,413 : INFO : -6.435 per-word bound, 86.5 perplexity estimate based on a held-out corpus of 1204 documents with 49783 words\n",
      "2022-02-27 15:15:28,413 : INFO : PROGRESS: pass 17, at document #3204/3204\n",
      "2022-02-27 15:15:28,679 : INFO : optimized alpha [0.011549143, 0.012786458, 0.0129929315, 0.015509262, 0.014147665, 0.009920619, 0.020480433, 0.014724288, 0.01346554, 0.010500357, 0.010894878, 0.015384967, 0.011918734, 0.012335673, 0.012586793, 0.011935959, 0.014752818, 0.021934725, 0.01250788, 0.013307796, 0.013639561, 0.013098024, 0.013289393, 0.014235149, 0.0116127515, 0.013419931, 0.012507064, 0.011852034, 0.014071993, 0.011321809, 0.017919522, 0.011809732, 0.012011357, 0.012644419, 0.01332758, 0.012959591, 0.014382482, 0.0112384455, 0.01322132, 0.012994988, 0.015392487, 0.016901448, 0.010500016, 0.011805596, 0.011701563, 0.01200272, 0.014548589, 0.014142151, 0.011157866, 0.012620636, 0.010857877, 0.007900876, 0.013810378, 0.011604569, 0.012472801, 0.012545652, 0.013309758, 0.012961848, 0.010728805, 0.019422859, 0.017265437, 0.015936911, 0.01542616, 0.014256452, 0.012289194, 0.011312339, 0.013370206, 0.044285756, 0.0138011575, 0.01101196, 0.014816525, 0.012122459, 0.013612688, 0.014056976, 0.014655955, 0.017083343, 0.011557631, 0.015881691, 0.012413138, 0.0125153735, 0.0137428725, 0.015433092, 0.012946126, 0.017697966, 0.012743469, 0.014461931, 0.0114807, 0.012365914, 0.012690646, 0.012752053, 0.011192648, 0.013191132, 0.01674186, 0.012758306, 0.011458029, 0.014667649, 0.012713993, 0.0123253865, 0.012563565, 0.013812735]\n",
      "2022-02-27 15:15:28,682 : INFO : merging changes from 1204 documents into a model of 3204 documents\n",
      "2022-02-27 15:15:28,685 : INFO : topic #51 (0.008): 0.464*\"163\" + 0.308*\"309\" + 0.055*\"13\" + 0.000*\"174\" + 0.000*\"50\" + 0.000*\"204\" + 0.000*\"128\" + 0.000*\"267\" + 0.000*\"1160\" + 0.000*\"14\"\n",
      "2022-02-27 15:15:28,685 : INFO : topic #5 (0.010): 0.407*\"324\" + 0.221*\"790\" + 0.097*\"15\" + 0.075*\"320\" + 0.075*\"333\" + 0.058*\"298\" + 0.024*\"314\" + 0.005*\"89\" + 0.000*\"386\" + 0.000*\"803\"\n"
     ]
    },
    {
     "name": "stderr",
     "output_type": "stream",
     "text": [
      "2022-02-27 15:15:28,686 : INFO : topic #6 (0.020): 0.263*\"49\" + 0.088*\"50\" + 0.059*\"518\" + 0.050*\"6\" + 0.043*\"45\" + 0.033*\"165\" + 0.031*\"0\" + 0.031*\"229\" + 0.024*\"64\" + 0.022*\"57\"\n",
      "2022-02-27 15:15:28,686 : INFO : topic #17 (0.022): 0.376*\"29\" + 0.078*\"30\" + 0.069*\"345\" + 0.042*\"13\" + 0.037*\"83\" + 0.023*\"50\" + 0.023*\"6\" + 0.021*\"61\" + 0.021*\"1165\" + 0.019*\"174\"\n",
      "2022-02-27 15:15:28,686 : INFO : topic #67 (0.044): 0.368*\"34\" + 0.350*\"35\" + 0.250*\"83\" + 0.006*\"0\" + 0.006*\"404\" + 0.006*\"386\" + 0.003*\"767\" + 0.002*\"631\" + 0.002*\"441\" + 0.002*\"39\"\n",
      "2022-02-27 15:15:28,687 : INFO : topic diff=0.177526, rho=0.225865\n",
      "2022-02-27 15:15:28,691 : INFO : PROGRESS: pass 18, at document #2000/3204\n",
      "2022-02-27 15:15:29,013 : INFO : optimized alpha [0.011561287, 0.012849786, 0.013039235, 0.015547014, 0.014296253, 0.0099397395, 0.02068253, 0.0148524325, 0.01356867, 0.010492716, 0.010930906, 0.01547303, 0.011938707, 0.012333387, 0.012594225, 0.01193543, 0.014791479, 0.02213592, 0.012497037, 0.013297374, 0.013764687, 0.013144573, 0.01338415, 0.014358816, 0.011605389, 0.013491949, 0.012638122, 0.011906407, 0.014053653, 0.011346883, 0.018239234, 0.011872381, 0.012071984, 0.012668124, 0.013398174, 0.013037727, 0.014466218, 0.01125619, 0.0132674, 0.013060649, 0.015454277, 0.017009374, 0.010518106, 0.01183719, 0.011784639, 0.0120159285, 0.014564143, 0.01422436, 0.011181243, 0.012708817, 0.010915994, 0.007876971, 0.013875385, 0.011646606, 0.012530125, 0.012537846, 0.013341671, 0.013016329, 0.010717476, 0.01995322, 0.017566508, 0.015985757, 0.015568166, 0.014306006, 0.012319205, 0.011325436, 0.013450663, 0.046049286, 0.01384705, 0.011000702, 0.014797506, 0.012165117, 0.013708995, 0.014067692, 0.014675303, 0.017305726, 0.011616521, 0.016049094, 0.012381191, 0.012548165, 0.013761314, 0.015529282, 0.012968794, 0.017888205, 0.012830557, 0.014647527, 0.011461362, 0.012434808, 0.0127266, 0.0128081, 0.011228445, 0.013255949, 0.016889, 0.012775798, 0.011509244, 0.014800081, 0.0127524, 0.0123695815, 0.012621776, 0.013840286]\n",
      "2022-02-27 15:15:29,016 : INFO : merging changes from 2000 documents into a model of 3204 documents\n",
      "2022-02-27 15:15:29,019 : INFO : topic #51 (0.008): 0.439*\"163\" + 0.320*\"309\" + 0.055*\"13\" + 0.000*\"174\" + 0.000*\"50\" + 0.000*\"204\" + 0.000*\"128\" + 0.000*\"267\" + 0.000*\"1160\" + 0.000*\"14\"\n",
      "2022-02-27 15:15:29,019 : INFO : topic #5 (0.010): 0.406*\"324\" + 0.208*\"790\" + 0.107*\"15\" + 0.080*\"320\" + 0.079*\"333\" + 0.055*\"298\" + 0.023*\"314\" + 0.006*\"89\" + 0.000*\"386\" + 0.000*\"803\"\n",
      "2022-02-27 15:15:29,019 : INFO : topic #6 (0.021): 0.265*\"49\" + 0.088*\"50\" + 0.058*\"518\" + 0.050*\"6\" + 0.043*\"45\" + 0.032*\"229\" + 0.032*\"0\" + 0.032*\"165\" + 0.023*\"57\" + 0.022*\"64\"\n",
      "2022-02-27 15:15:29,020 : INFO : topic #17 (0.022): 0.378*\"29\" + 0.079*\"30\" + 0.070*\"345\" + 0.043*\"13\" + 0.035*\"83\" + 0.023*\"6\" + 0.023*\"50\" + 0.021*\"61\" + 0.019*\"174\" + 0.018*\"1165\"\n",
      "2022-02-27 15:15:29,020 : INFO : topic #67 (0.046): 0.367*\"34\" + 0.354*\"35\" + 0.248*\"83\" + 0.006*\"386\" + 0.006*\"0\" + 0.005*\"404\" + 0.002*\"767\" + 0.002*\"441\" + 0.002*\"39\" + 0.002*\"631\"\n",
      "2022-02-27 15:15:29,021 : INFO : topic diff=0.160820, rho=0.220316\n",
      "2022-02-27 15:15:29,412 : INFO : -6.429 per-word bound, 86.2 perplexity estimate based on a held-out corpus of 1204 documents with 49783 words\n",
      "2022-02-27 15:15:29,412 : INFO : PROGRESS: pass 18, at document #3204/3204\n",
      "2022-02-27 15:15:29,675 : INFO : optimized alpha [0.011671737, 0.013082429, 0.013178798, 0.015756657, 0.014449332, 0.009949513, 0.02117227, 0.0149860205, 0.013731236, 0.01054396, 0.0110218655, 0.015736915, 0.012035121, 0.0125032, 0.012719997, 0.012082436, 0.014982644, 0.02277991, 0.012639634, 0.0134277595, 0.013865926, 0.013321255, 0.013498665, 0.014429931, 0.0117450105, 0.013625419, 0.01264218, 0.011992867, 0.014282552, 0.011393862, 0.01855761, 0.011862884, 0.012165907, 0.012853521, 0.013578653, 0.013101666, 0.014598666, 0.011372875, 0.013425324, 0.013179439, 0.01570536, 0.01730539, 0.010590603, 0.011921236, 0.011803796, 0.012184517, 0.014799524, 0.01439094, 0.011229389, 0.012795738, 0.01098865, 0.0078601185, 0.014047445, 0.011758882, 0.012650843, 0.012706368, 0.013531775, 0.01313518, 0.010798486, 0.019846242, 0.018012393, 0.016232563, 0.015784618, 0.014505159, 0.012461281, 0.011403877, 0.013624988, 0.04685482, 0.014013867, 0.011085526, 0.015035894, 0.012249007, 0.013839729, 0.014240933, 0.014904902, 0.017487172, 0.011753672, 0.016174396, 0.012531216, 0.012681152, 0.013958091, 0.015758285, 0.013097324, 0.018240679, 0.012934201, 0.014865201, 0.011552552, 0.012516723, 0.012868065, 0.01293053, 0.011299003, 0.013378729, 0.017190022, 0.01291797, 0.011567943, 0.014915295, 0.01284876, 0.0125026265, 0.012742306, 0.014020556]\n",
      "2022-02-27 15:15:29,678 : INFO : merging changes from 1204 documents into a model of 3204 documents\n",
      "2022-02-27 15:15:29,681 : INFO : topic #51 (0.008): 0.463*\"163\" + 0.308*\"309\" + 0.055*\"13\" + 0.000*\"174\" + 0.000*\"50\" + 0.000*\"204\" + 0.000*\"128\" + 0.000*\"267\" + 0.000*\"1160\" + 0.000*\"14\"\n",
      "2022-02-27 15:15:29,681 : INFO : topic #5 (0.010): 0.407*\"324\" + 0.221*\"790\" + 0.100*\"15\" + 0.077*\"333\" + 0.075*\"320\" + 0.054*\"298\" + 0.024*\"314\" + 0.005*\"89\" + 0.000*\"386\" + 0.000*\"803\"\n",
      "2022-02-27 15:15:29,682 : INFO : topic #6 (0.021): 0.265*\"49\" + 0.088*\"50\" + 0.059*\"518\" + 0.049*\"6\" + 0.043*\"45\" + 0.033*\"165\" + 0.032*\"0\" + 0.031*\"229\" + 0.024*\"64\" + 0.022*\"57\"\n",
      "2022-02-27 15:15:29,682 : INFO : topic #17 (0.023): 0.380*\"29\" + 0.079*\"30\" + 0.069*\"345\" + 0.042*\"13\" + 0.036*\"83\" + 0.023*\"50\" + 0.022*\"6\" + 0.021*\"61\" + 0.021*\"1165\" + 0.019*\"174\"\n",
      "2022-02-27 15:15:29,682 : INFO : topic #67 (0.047): 0.368*\"34\" + 0.351*\"35\" + 0.250*\"83\" + 0.006*\"0\" + 0.006*\"386\" + 0.005*\"404\" + 0.003*\"767\" + 0.002*\"631\" + 0.002*\"441\" + 0.002*\"39\"\n",
      "2022-02-27 15:15:29,682 : INFO : topic diff=0.166364, rho=0.220316\n",
      "2022-02-27 15:15:29,687 : INFO : PROGRESS: pass 19, at document #2000/3204\n",
      "2022-02-27 15:15:30,007 : INFO : optimized alpha [0.011686128, 0.013147267, 0.013224218, 0.015796602, 0.014594552, 0.009969653, 0.021387078, 0.015117207, 0.013829848, 0.010536739, 0.011058468, 0.015824787, 0.012054752, 0.0125046475, 0.012725811, 0.012078979, 0.015025065, 0.022985864, 0.012627402, 0.013414494, 0.01399087, 0.013373782, 0.013591958, 0.014551797, 0.011737529, 0.01369915, 0.012771367, 0.012048954, 0.014257532, 0.011421132, 0.01888634, 0.011924626, 0.012226832, 0.0128833065, 0.013649383, 0.013180054, 0.014682435, 0.011390143, 0.0134733515, 0.013243981, 0.015770562, 0.01741276, 0.010614103, 0.011952292, 0.011885643, 0.012197112, 0.014818821, 0.014474831, 0.01125372, 0.012886625, 0.01105421, 0.007837383, 0.014103626, 0.011801407, 0.012708477, 0.012694175, 0.01356717, 0.013191581, 0.0107887145, 0.02036669, 0.018321306, 0.016276266, 0.015928147, 0.014553371, 0.012491915, 0.011419296, 0.013704066, 0.048628107, 0.0140601555, 0.011075783, 0.015017945, 0.012292322, 0.0139360335, 0.014251083, 0.0149231125, 0.017703509, 0.011816633, 0.016341338, 0.012501014, 0.012711855, 0.013975655, 0.01584922, 0.0131223295, 0.018428225, 0.013018561, 0.015052415, 0.011532457, 0.012584543, 0.0129060075, 0.012992621, 0.011339175, 0.013442449, 0.017351434, 0.012939221, 0.01161839, 0.01505065, 0.012887862, 0.012545941, 0.012795286, 0.014048667]\n",
      "2022-02-27 15:15:30,010 : INFO : merging changes from 2000 documents into a model of 3204 documents\n",
      "2022-02-27 15:15:30,013 : INFO : topic #51 (0.008): 0.439*\"163\" + 0.319*\"309\" + 0.055*\"13\" + 0.000*\"174\" + 0.000*\"50\" + 0.000*\"204\" + 0.000*\"128\" + 0.000*\"267\" + 0.000*\"1160\" + 0.000*\"14\"\n",
      "2022-02-27 15:15:30,013 : INFO : topic #5 (0.010): 0.404*\"324\" + 0.207*\"790\" + 0.111*\"15\" + 0.081*\"320\" + 0.080*\"333\" + 0.051*\"298\" + 0.024*\"314\" + 0.006*\"89\" + 0.000*\"386\" + 0.000*\"803\"\n",
      "2022-02-27 15:15:30,013 : INFO : topic #6 (0.021): 0.268*\"49\" + 0.088*\"50\" + 0.058*\"518\" + 0.048*\"6\" + 0.043*\"45\" + 0.033*\"0\" + 0.032*\"229\" + 0.032*\"165\" + 0.023*\"57\" + 0.023*\"64\"\n",
      "2022-02-27 15:15:30,014 : INFO : topic #17 (0.023): 0.382*\"29\" + 0.079*\"30\" + 0.070*\"345\" + 0.043*\"13\" + 0.034*\"83\" + 0.023*\"6\" + 0.023*\"50\" + 0.021*\"61\" + 0.020*\"174\" + 0.018*\"1165\"\n",
      "2022-02-27 15:15:30,014 : INFO : topic #67 (0.049): 0.367*\"34\" + 0.354*\"35\" + 0.248*\"83\" + 0.006*\"386\" + 0.006*\"0\" + 0.004*\"404\" + 0.003*\"441\" + 0.002*\"767\" + 0.002*\"631\" + 0.002*\"39\"\n"
     ]
    },
    {
     "name": "stderr",
     "output_type": "stream",
     "text": [
      "2022-02-27 15:15:30,014 : INFO : topic diff=0.151460, rho=0.215156\n",
      "2022-02-27 15:15:30,398 : INFO : -6.422 per-word bound, 85.7 perplexity estimate based on a held-out corpus of 1204 documents with 49783 words\n",
      "2022-02-27 15:15:30,399 : INFO : PROGRESS: pass 19, at document #3204/3204\n",
      "2022-02-27 15:15:30,666 : INFO : optimized alpha [0.011801214, 0.013385044, 0.013364085, 0.016000317, 0.014750298, 0.009981256, 0.021885717, 0.015242867, 0.013982541, 0.010587217, 0.011147975, 0.016085638, 0.0121517135, 0.012672126, 0.01284498, 0.012219471, 0.015213245, 0.023640651, 0.012763198, 0.013549878, 0.0140901, 0.013548113, 0.013704433, 0.014621207, 0.011879377, 0.0138354, 0.012774958, 0.012133879, 0.014473039, 0.011465264, 0.019218782, 0.011921963, 0.012321324, 0.0130802505, 0.013837311, 0.013240232, 0.014815217, 0.011511305, 0.013633927, 0.01335601, 0.016018774, 0.017705478, 0.010689211, 0.012032774, 0.011904351, 0.012363507, 0.015045926, 0.014646723, 0.01130107, 0.0129741635, 0.011125576, 0.007821536, 0.01427574, 0.011928892, 0.012829506, 0.012862626, 0.013754777, 0.013308475, 0.010862641, 0.020252362, 0.018774318, 0.016522799, 0.016165012, 0.014749633, 0.012634135, 0.011500488, 0.013878474, 0.04935112, 0.014224522, 0.011157186, 0.015250393, 0.012376962, 0.014064557, 0.014424274, 0.015155091, 0.017891176, 0.011951967, 0.016466701, 0.012648653, 0.012845021, 0.014172299, 0.01608086, 0.01324879, 0.018777648, 0.013120355, 0.015265136, 0.011624201, 0.012664961, 0.013040696, 0.013110664, 0.011410582, 0.013565576, 0.017649429, 0.013081469, 0.011678208, 0.01516346, 0.012982598, 0.012679257, 0.012911578, 0.014231197]\n",
      "2022-02-27 15:15:30,669 : INFO : merging changes from 1204 documents into a model of 3204 documents\n",
      "2022-02-27 15:15:30,673 : INFO : topic #51 (0.008): 0.463*\"163\" + 0.309*\"309\" + 0.055*\"13\" + 0.000*\"174\" + 0.000*\"50\" + 0.000*\"204\" + 0.000*\"128\" + 0.000*\"267\" + 0.000*\"1160\" + 0.000*\"14\"\n",
      "2022-02-27 15:15:30,673 : INFO : topic #5 (0.010): 0.406*\"324\" + 0.220*\"790\" + 0.105*\"15\" + 0.076*\"320\" + 0.075*\"333\" + 0.050*\"298\" + 0.025*\"314\" + 0.005*\"89\" + 0.000*\"386\" + 0.000*\"803\"\n",
      "2022-02-27 15:15:30,674 : INFO : topic #6 (0.022): 0.268*\"49\" + 0.088*\"50\" + 0.059*\"518\" + 0.048*\"6\" + 0.044*\"45\" + 0.033*\"165\" + 0.032*\"0\" + 0.031*\"229\" + 0.024*\"64\" + 0.022*\"57\"\n",
      "2022-02-27 15:15:30,674 : INFO : topic #17 (0.024): 0.384*\"29\" + 0.080*\"30\" + 0.070*\"345\" + 0.042*\"13\" + 0.035*\"83\" + 0.023*\"50\" + 0.022*\"6\" + 0.021*\"61\" + 0.021*\"1165\" + 0.020*\"174\"\n",
      "2022-02-27 15:15:30,675 : INFO : topic #67 (0.049): 0.368*\"34\" + 0.351*\"35\" + 0.250*\"83\" + 0.006*\"0\" + 0.006*\"386\" + 0.004*\"404\" + 0.003*\"767\" + 0.002*\"631\" + 0.002*\"441\" + 0.002*\"39\"\n",
      "2022-02-27 15:15:30,675 : INFO : topic diff=0.156395, rho=0.215156\n"
     ]
    },
    {
     "data": {
      "text/plain": [
       "[(0, 0.0048867967),\n",
       " (1, 0.0055426494),\n",
       " (2, 0.00553397),\n",
       " (3, 0.0066256146),\n",
       " (4, 0.0061079906),\n",
       " (5, 0.0041331653),\n",
       " (6, 0.009062716),\n",
       " (7, 0.00631196),\n",
       " (8, 0.0057900683),\n",
       " (9, 0.0043840893),\n",
       " (10, 0.004616295),\n",
       " (11, 0.0066609452),\n",
       " (12, 0.005031936),\n",
       " (13, 0.005247435),\n",
       " (14, 0.0053190123),\n",
       " (15, 0.005059994),\n",
       " (16, 0.42038876),\n",
       " (17, 0.009789421),\n",
       " (18, 0.0052851476),\n",
       " (19, 0.0056109056),\n",
       " (20, 0.005834608),\n",
       " (21, 0.005610175),\n",
       " (22, 0.0056749056),\n",
       " (23, 0.006054535),\n",
       " (24, 0.0049191634),\n",
       " (25, 0.0057291384),\n",
       " (26, 0.005290017),\n",
       " (27, 0.0050245505),\n",
       " (28, 0.0059931795),\n",
       " (29, 0.004747682),\n",
       " (30, 0.007958357),\n",
       " (31, 0.0049367975),\n",
       " (32, 0.0051021706),\n",
       " (33, 0.005416436),\n",
       " (34, 0.0057299295),\n",
       " (35, 0.0054826834),\n",
       " (36, 0.0061348733),\n",
       " (37, 0.0047667474),\n",
       " (38, 0.00564571),\n",
       " (39, 0.0055306265),\n",
       " (40, 0.0066332575),\n",
       " (41, 0.0073317094),\n",
       " (42, 0.0044263243),\n",
       " (43, 0.004982684),\n",
       " (44, 0.0049295053),\n",
       " (45, 0.005119638),\n",
       " (46, 0.0062304083),\n",
       " (47, 0.006065101),\n",
       " (48, 0.004679691),\n",
       " (49, 0.0053725066),\n",
       " (50, 0.00460702),\n",
       " (51, 0.003238841),\n",
       " (52, 0.0059114797),\n",
       " (53, 0.004939667),\n",
       " (54, 0.005312605),\n",
       " (55, 0.00532632),\n",
       " (56, 0.005695753),\n",
       " (57, 0.005510942),\n",
       " (58, 0.0044981404),\n",
       " (59, 0.008386355),\n",
       " (60, 0.007774308),\n",
       " (61, 0.0068419706),\n",
       " (62, 0.006693814),\n",
       " (63, 0.0061077154),\n",
       " (64, 0.005231703),\n",
       " (65, 0.004762268),\n",
       " (66, 0.0057469746),\n",
       " (67, 0.020435939),\n",
       " (68, 0.0058902707),\n",
       " (69, 0.004620109),\n",
       " (70, 0.0063150767),\n",
       " (71, 0.0051252097),\n",
       " (72, 0.0058240304),\n",
       " (73, 0.0059729866),\n",
       " (74, 0.0062756124),\n",
       " (75, 0.0074086054),\n",
       " (76, 0.0049492223),\n",
       " (77, 0.006818741),\n",
       " (78, 0.005237715),\n",
       " (79, 0.0053190296),\n",
       " (80, 0.0058686454),\n",
       " (81, 0.0066589667),\n",
       " (82, 0.005486227),\n",
       " (83, 0.007775687),\n",
       " (84, 0.0054330435),\n",
       " (85, 0.0063211815),\n",
       " (86, 0.004813497),\n",
       " (87, 0.005244468),\n",
       " (88, 0.005400057),\n",
       " (89, 0.0054290304),\n",
       " (90, 0.0047250385),\n",
       " (91, 0.0056174058),\n",
       " (92, 0.0073085),\n",
       " (93, 0.005416941),\n",
       " (94, 0.004835861),\n",
       " (95, 0.006279078),\n",
       " (96, 0.005375999),\n",
       " (97, 0.005250388),\n",
       " (98, 0.00534659),\n",
       " (99, 0.005893035)]"
      ]
     },
     "execution_count": 263,
     "metadata": {},
     "output_type": "execute_result"
    }
   ],
   "source": [
    "##### Function check\n",
    "lda = LdaRetrievalModel(doc_repr_2)\n",
    "lda.train_model()\n",
    "\n",
    "# you can now get an LDA vector for a given query in the following way:\n",
    "lda.vectorize_query(\"report\")\n",
    "##### "
   ]
  },
  {
   "cell_type": "markdown",
   "metadata": {
    "deletable": false,
    "editable": false,
    "nbgrader": {
     "cell_type": "markdown",
     "checksum": "32d83b6ea79ca3ddb789a7f8805a1b25",
     "grade": false,
     "grade_id": "cell-0e24b727d5908c0e",
     "locked": true,
     "points": 5,
     "schema_version": 3,
     "solution": false,
     "task": true
    }
   },
   "source": [
    "\\#### Please do not change this. This cell is used for grading."
   ]
  },
  {
   "cell_type": "markdown",
   "metadata": {
    "deletable": false,
    "editable": false,
    "nbgrader": {
     "cell_type": "markdown",
     "checksum": "114a934f0b9ce696e6cf09d3b8da6a3d",
     "grade": false,
     "grade_id": "cell-b1bffcb970b18aeb",
     "locked": true,
     "schema_version": 3,
     "solution": false,
     "task": false
    }
   },
   "source": [
    "---\n",
    "Now we can use the `DenseRetrievalModel` class to obtain an LDA search function.\n",
    "You can test your LDA model in the following cell: Try finding queries which are lexically different to documents, but semantically similar - does LDA work well for these queries?!"
   ]
  },
  {
   "cell_type": "code",
   "execution_count": 268,
   "metadata": {},
   "outputs": [
    {
     "data": {
      "application/vnd.jupyter.widget-view+json": {
       "model_id": "887f738db0374487b2f4189ea3d6daa3",
       "version_major": 2,
       "version_minor": 0
      },
      "text/plain": [
       "Text(value='', description='Search Bar')"
      ]
     },
     "metadata": {},
     "output_type": "display_data"
    },
    {
     "name": "stdout",
     "output_type": "stream",
     "text": [
      "Searching for: 'report' (SEARCH FN: <bound method DenseRetrievalRanker.search of <__main__.DenseRetrievalRanker object at 0x7fe163192588>>)\n"
     ]
    },
    {
     "data": {
      "text/html": [
       "<ul><li>Document #669(0.9999999788356722): A Specification of JOVIAL\n",
       "</li><li>Document #218(0.8554546102691716): Computer Preparation of a Poetry Concordance\n",
       "</li><li>Document #725(0.8022367286538564): Group Participation Computer Demonstration\n",
       "</li><li>Document #601(0.7974781476549865): ...Interim <strong>Report</strong> on Bureau of Shi...</li><li>Document #235(0.7816899324258311): Two Think Pieces\n",
       "</li></ul>"
      ],
      "text/plain": [
       "<IPython.core.display.HTML object>"
      ]
     },
     "metadata": {},
     "output_type": "display_data"
    },
    {
     "name": "stdout",
     "output_type": "stream",
     "text": [
      "Searching for: 'report computer' (SEARCH FN: <bound method DenseRetrievalRanker.search of <__main__.DenseRetrievalRanker object at 0x7fe163192588>>)\n"
     ]
    },
    {
     "data": {
      "text/html": [
       "<ul><li>Document #218(1.000000020300857): ...<strong>Computer</strong> Preparation of a...</li><li>Document #147(0.8977428471115267): ...<strong>Report</strong> on a Conference ...</li><li>Document #725(0.8936794206275233): ...up Participation <strong>Computer</strong> Demonstration ...</li><li>Document #3019(0.8928844165257243): ...Advanced Test in <strong>Computer</strong> Science ...</li><li>Document #669(0.8554667615209877): A Specification of JOVIAL\n",
       "</li></ul>"
      ],
      "text/plain": [
       "<IPython.core.display.HTML object>"
      ]
     },
     "metadata": {},
     "output_type": "display_data"
    },
    {
     "name": "stdout",
     "output_type": "stream",
     "text": [
      "Searching for: 'computer' (SEARCH FN: <bound method DenseRetrievalRanker.search of <__main__.DenseRetrievalRanker object at 0x7fe163192588>>)\n"
     ]
    },
    {
     "data": {
      "text/html": [
       "<ul><li>Document #999(1.0): Joint Inventorship of Computers\n",
       "</li><li>Document #1000(1.0): ...<strong>Computer</strong> Patent Disclosur...</li><li>Document #72(0.9493693829250077): An Educational Program in Computing \n",
       "</li><li>Document #1103(0.8742956992903639): ...Logic for the <strong>Computer</strong> Sciences  ...</li><li>Document #2478(0.8610692213221304): ...<strong>Computer</strong> Science-Seminars...</li></ul>"
      ],
      "text/plain": [
       "<IPython.core.display.HTML object>"
      ]
     },
     "metadata": {},
     "output_type": "display_data"
    },
    {
     "name": "stdout",
     "output_type": "stream",
     "text": [
      "Searching for: 'pc' (SEARCH FN: <bound method DenseRetrievalRanker.search of <__main__.DenseRetrievalRanker object at 0x7fe163192588>>)\n"
     ]
    },
    {
     "data": {
      "text/html": [
       "<ul><li>Document #235(1.0): Two Think Pieces\n",
       "</li><li>Document #913(1.0): Neliac\n",
       "</li><li>Document #917(1.0): COMIT\n",
       "</li><li>Document #2782(1.0): A Reply to Gentleman and Marovich\n",
       "</li><li>Document #999(0.7868903128071114): Joint Inventorship of Computers\n",
       "</li></ul>"
      ],
      "text/plain": [
       "<IPython.core.display.HTML object>"
      ]
     },
     "metadata": {},
     "output_type": "display_data"
    },
    {
     "name": "stdout",
     "output_type": "stream",
     "text": [
      "Searching for: 'cpu' (SEARCH FN: <bound method DenseRetrievalRanker.search of <__main__.DenseRetrievalRanker object at 0x7fe163192588>>)\n"
     ]
    },
    {
     "data": {
      "text/html": [
       "<ul><li>Document #3123(0.8092073115311353): Employment Characteristics of Doctoral Level Computer Scientists\n",
       "</li><li>Document #896(0.7976817457477299): Characteristic Values and Vectors of Defective Matrices\n",
       "</li><li>Document #235(0.7795075981361225): Two Think Pieces\n",
       "</li><li>Document #913(0.7795075981361225): Neliac\n",
       "</li><li>Document #917(0.7795075981361225): COMIT\n",
       "</li></ul>"
      ],
      "text/plain": [
       "<IPython.core.display.HTML object>"
      ]
     },
     "metadata": {},
     "output_type": "display_data"
    }
   ],
   "source": [
    "drm_lda = DenseRetrievalRanker(lda, jenson_shannon_sim)\n",
    "\n",
    "# test your LDA model\n",
    "search_fn = drm_lda.search\n",
    "\n",
    "text = widgets.Text(description=\"Search Bar\", width=200)\n",
    "display(text)\n",
    "\n",
    "\n",
    "text.on_submit(handle_submit_2)"
   ]
  },
  {
   "cell_type": "markdown",
   "metadata": {
    "deletable": false,
    "editable": false,
    "nbgrader": {
     "cell_type": "markdown",
     "checksum": "9d7f15863b655119b45f4d89354e5661",
     "grade": false,
     "grade_id": "cell-190cd0854b2791cc",
     "locked": true,
     "schema_version": 3,
     "solution": false,
     "task": false
    }
   },
   "source": [
    "## Section 8: Word2Vec/Doc2Vec (20 points) <a class=\"anchor\" id=\"2vec\"></a>\n",
    "\n",
    "[Back to Part 2](#part2)\n",
    "\n",
    "We will implement two other methods here, the Word2Vec model and the Doc2Vec model, also using `gensim`. Word2Vec creates representations of words, not documents, so the word level vectors need to be aggregated to obtain a representation for the document. Here, we will simply take the mean of the vectors. \n",
    "\n",
    "\n",
    "A drawback of these models is that they need a lot of training data. Our dataset is tiny, so in addition to using a model trained on the data, we will also use a pre-trained model for Word2Vec (this will be automatically downloaded).     \n",
    "\n",
    "*Note*:\n",
    "1. The code in vectorize_documents / vectorize_query should return gensim-like vectors i.e `[(dim, val), .. (dim, val)]`. \n",
    "2. For Word2Vec: You should also handle the following two cases: (a) A word in the query is not present in the vocabulary of the model and (b) none of the words in the query are present in the model - you can return 0 scores for all documents in this case. For either of these, you can check if a `word` is present in the vocab by using `word in self.model`\n"
   ]
  },
  {
   "cell_type": "code",
   "execution_count": null,
   "metadata": {
    "deletable": false,
    "nbgrader": {
     "cell_type": "code",
     "checksum": "83ab733608ed14c29c09b36b4e1b6daa",
     "grade": false,
     "grade_id": "cell-2b73759f9baf688f",
     "locked": false,
     "schema_version": 3,
     "solution": true,
     "task": false
    }
   },
   "outputs": [],
   "source": [
    "# TODO: Implement this! (10 points)\n",
    "class W2VRetrievalModel(VectorSpaceRetrievalModel):\n",
    "    def __init__(self, doc_repr):\n",
    "        super().__init__(doc_repr)\n",
    "        \n",
    "        # the dimensionality of the vectors\n",
    "        self.size = 100 \n",
    "        self.min_count = 1\n",
    "    \n",
    "    def train_model(self):\n",
    "        \"\"\"\n",
    "        Trains the W2V model\n",
    "        \"\"\"\n",
    "        # YOUR CODE HERE\n",
    "        raise NotImplementedError()\n",
    "        \n",
    "    def vectorize_documents(self):\n",
    "        \"\"\"\n",
    "            Returns a doc_id -> vector dictionary\n",
    "        \"\"\"\n",
    "        # YOUR CODE HERE\n",
    "        raise NotImplementedError()\n",
    "\n",
    "    def vectorize_query(self, query):\n",
    "        \"\"\"\n",
    "        Vectorizes the query using the W2V model\n",
    "        \"\"\"\n",
    "        query = process_text(query, **config_2)\n",
    "        # YOUR CODE HERE\n",
    "        raise NotImplementedError()\n",
    "    \n",
    "    \n",
    "class W2VPretrainedRetrievalModel(W2VRetrievalModel):\n",
    "    def __init__(self, doc_repr):\n",
    "        super().__init__(doc_repr)\n",
    "        self.model_name = \"word2vec-google-news-300\"\n",
    "        self.size = 300\n",
    "    \n",
    "    def train_model(self):\n",
    "        \"\"\"\n",
    "        Loads the pretrained model\n",
    "        \"\"\"\n",
    "        self.model = g_downloader.load(self.model_name)\n",
    "\n",
    "w2v = W2VRetrievalModel(doc_repr_2)\n",
    "w2v.train_model()\n",
    "\n",
    "# you can now get a W2V vector for a given query in the following way:\n",
    "w2v.vectorize_query(\"report\")"
   ]
  },
  {
   "cell_type": "code",
   "execution_count": null,
   "metadata": {
    "deletable": false,
    "editable": false,
    "nbgrader": {
     "cell_type": "code",
     "checksum": "f92b5c5a8c6c4b80652b94223209ab0b",
     "grade": true,
     "grade_id": "cell-b31c0f8d214b8bdf",
     "locked": true,
     "points": 0,
     "schema_version": 3,
     "solution": false,
     "task": false
    }
   },
   "outputs": [],
   "source": [
    "assert len(w2v.vectorize_query(\"report\")) == 100\n",
    "assert len(w2v.vectorize_query(\"this is a sentence that is not mellifluous\")) == 100\n"
   ]
  },
  {
   "cell_type": "markdown",
   "metadata": {
    "deletable": false,
    "editable": false,
    "nbgrader": {
     "cell_type": "markdown",
     "checksum": "8dfaabebcb06f308a7ca61fdc5d369e7",
     "grade": false,
     "grade_id": "cell-c2614fa067386384",
     "locked": true,
     "points": 8,
     "schema_version": 3,
     "solution": false,
     "task": true
    }
   },
   "source": [
    "\\#### Please do not change this. This cell is used for grading."
   ]
  },
  {
   "cell_type": "code",
   "execution_count": null,
   "metadata": {},
   "outputs": [],
   "source": [
    "w2v_pretrained = W2VPretrainedRetrievalModel(doc_repr_2)\n",
    "w2v_pretrained.train_model()\n",
    "\n",
    "# you can now get an W2V vector for a given query in the following way:\n",
    "w2v_pretrained.vectorize_query(\"report\")"
   ]
  },
  {
   "cell_type": "code",
   "execution_count": null,
   "metadata": {
    "deletable": false,
    "editable": false,
    "nbgrader": {
     "cell_type": "code",
     "checksum": "0822845afb5eafe5ddb1ffeaa4f4942a",
     "grade": true,
     "grade_id": "cell-1b1466f8ce516f42",
     "locked": true,
     "points": 2,
     "schema_version": 3,
     "solution": false,
     "task": false
    }
   },
   "outputs": [],
   "source": [
    "##### Function check\n",
    "\n",
    "print(len(w2v_pretrained.vectorize_query(\"report\")))\n",
    "#####"
   ]
  },
  {
   "cell_type": "code",
   "execution_count": null,
   "metadata": {},
   "outputs": [],
   "source": [
    "drm_w2v = DenseRetrievalRanker(w2v, cosine_sim)\n",
    "\n",
    "# test your LDA model\n",
    "search_fn = drm_w2v.search\n",
    "\n",
    "text = widgets.Text(description=\"Search Bar\", width=200)\n",
    "display(text)\n",
    "\n",
    "\n",
    "text.on_submit(handle_submit_2)"
   ]
  },
  {
   "cell_type": "code",
   "execution_count": null,
   "metadata": {},
   "outputs": [],
   "source": [
    "drm_w2v_pretrained = DenseRetrievalRanker(w2v_pretrained, cosine_sim)\n",
    "\n",
    "# test your LDA model\n",
    "search_fn = drm_w2v_pretrained.search\n",
    "\n",
    "text = widgets.Text(description=\"Search Bar\", width=200)\n",
    "display(text)\n",
    "\n",
    "\n",
    "text.on_submit(handle_submit_2)"
   ]
  },
  {
   "cell_type": "markdown",
   "metadata": {
    "deletable": false,
    "editable": false,
    "nbgrader": {
     "cell_type": "markdown",
     "checksum": "51b778984fd60757974f51047c61eb15",
     "grade": false,
     "grade_id": "cell-b92f701cbc706108",
     "locked": true,
     "schema_version": 3,
     "solution": false,
     "task": false
    }
   },
   "source": [
    "**Implementation (10 points):**\n",
    "For Doc2Vec, you will need to create a list of `TaggedDocument` instead of using the `self.corpus` or `self.documents` variable. Use the document id as the 'tag'.\n",
    "  "
   ]
  },
  {
   "cell_type": "code",
   "execution_count": null,
   "metadata": {
    "deletable": false,
    "nbgrader": {
     "cell_type": "code",
     "checksum": "1f60fdeb97febb7f4a6fd5bf109aac20",
     "grade": false,
     "grade_id": "cell-680facdcc98a19ab",
     "locked": false,
     "schema_version": 3,
     "solution": true,
     "task": false
    }
   },
   "outputs": [],
   "source": [
    "# TODO: Implement this! (10 points)\n",
    "class D2VRetrievalModel(VectorSpaceRetrievalModel):\n",
    "    def __init__(self, doc_repr):\n",
    "        super().__init__(doc_repr)\n",
    "        \n",
    "        self.vector_size= 100\n",
    "        self.min_count = 1\n",
    "        self.epochs = 20\n",
    "        \n",
    "        # YOUR CODE HERE\n",
    "        raise NotImplementedError()\n",
    "        \n",
    "    def train_model(self):\n",
    "        # YOUR CODE HERE\n",
    "        raise NotImplementedError()\n",
    "    \n",
    "    def vectorize_documents(self):\n",
    "        \"\"\"\n",
    "            Returns a doc_id -> vector dictionary\n",
    "        \"\"\"\n",
    "        # YOUR CODE HERE\n",
    "        raise NotImplementedError()\n",
    "\n",
    "    def vectorize_query(self, query):\n",
    "        # YOUR CODE HERE\n",
    "        raise NotImplementedError()\n",
    "        \n",
    "d2v = D2VRetrievalModel(doc_repr_2)\n",
    "d2v.train_model()\n",
    "\n",
    "\n",
    "# # you can now get an LSI vector for a given query in the following way:\n",
    "d2v.vectorize_query(\"report\")"
   ]
  },
  {
   "cell_type": "code",
   "execution_count": null,
   "metadata": {
    "deletable": false,
    "editable": false,
    "nbgrader": {
     "cell_type": "code",
     "checksum": "e83a363a9d4f136efbdde1426a83925e",
     "grade": true,
     "grade_id": "cell-5e2c5e0c9a2e8cb5",
     "locked": true,
     "points": 0,
     "schema_version": 3,
     "solution": false,
     "task": false
    }
   },
   "outputs": [],
   "source": [
    "#### Please do not change this. This cell is used for grading."
   ]
  },
  {
   "cell_type": "markdown",
   "metadata": {
    "deletable": false,
    "editable": false,
    "nbgrader": {
     "cell_type": "markdown",
     "checksum": "5bb46bf6b9be1e0ca66f0b0bc6260ecb",
     "grade": false,
     "grade_id": "cell-8a49d414f798a595",
     "locked": true,
     "points": 10,
     "schema_version": 3,
     "solution": false,
     "task": true
    }
   },
   "source": [
    "\\#### Please do not change this. This cell is used for grading."
   ]
  },
  {
   "cell_type": "code",
   "execution_count": null,
   "metadata": {},
   "outputs": [],
   "source": [
    "drm_d2v = DenseRetrievalRanker(d2v, cosine_sim)\n",
    "\n",
    "# test your LDA model\n",
    "search_fn = drm_d2v.search\n",
    "\n",
    "text = widgets.Text(description=\"Search Bar\", width=200)\n",
    "display(text)\n",
    "\n",
    "\n",
    "text.on_submit(handle_submit_2)"
   ]
  },
  {
   "cell_type": "markdown",
   "metadata": {
    "deletable": false,
    "editable": false,
    "nbgrader": {
     "cell_type": "markdown",
     "checksum": "363ec36c1d03d9f9e1c2045a6e193c14",
     "grade": false,
     "grade_id": "cell-3529ae29eece7b97",
     "locked": true,
     "schema_version": 3,
     "solution": false,
     "task": false
    }
   },
   "source": [
    "---\n",
    "## Section 9: Re-ranking (10 points) <a class=\"anchor\" id=\"reranking\"></a>\n",
    "\n",
    "[Back to Part 2](#part2)\n",
    "\n",
    "To motivate the re-ranking perspective (i.e retrieve with lexical method + rerank with a semantic method), let's search using semantic methods and compare it to BM25's performance, along with their runtime:\n"
   ]
  },
  {
   "cell_type": "code",
   "execution_count": null,
   "metadata": {
    "deletable": false,
    "editable": false,
    "nbgrader": {
     "cell_type": "code",
     "checksum": "5755f70e3eb28abc65d14d80125338af",
     "grade": false,
     "grade_id": "cell-f8f43bf5ae383128",
     "locked": true,
     "schema_version": 3,
     "solution": false,
     "task": false
    }
   },
   "outputs": [],
   "source": [
    "query = \"algebraic functions\"\n",
    "print(\"BM25: \")\n",
    "%timeit bm25_search(query, 2)\n",
    "print(\"LSI: \")\n",
    "%timeit drm_lsi.search(query)\n",
    "print(\"LDA: \")\n",
    "%timeit drm_lda.search(query)\n",
    "print(\"W2V: \")\n",
    "%timeit drm_w2v.search(query)\n",
    "print(\"W2V(Pretrained): \")\n",
    "%timeit drm_w2v_pretrained.search(query)\n",
    "print(\"D2V:\")\n",
    "%timeit drm_d2v.search(query)"
   ]
  },
  {
   "cell_type": "markdown",
   "metadata": {
    "deletable": false,
    "editable": false,
    "nbgrader": {
     "cell_type": "markdown",
     "checksum": "ae398da0a8c23c95bcbb0023b7ec6f34",
     "grade": false,
     "grade_id": "cell-db5ff09f97841af7",
     "locked": true,
     "schema_version": 3,
     "solution": false,
     "task": false
    }
   },
   "source": [
    "---\n",
    "\n",
    "**Implementation (10 points):**\n",
    "Re-ranking involves retrieving a small set of documents using simple but fast methods like BM25 and then re-ranking them with the aid of semantic methods such as LDA or LSI. Implement the following class, which takes in an `initial_retrieval_fn` - the initial retrieval function and `vsrm` - an instance of the `VectorSpaceRetrievalModel` class (i.e LSI/LDA) as input. The search function should first retrieve an initial list of K documents, and then these documents are re-ranked using a semantic method. This not only makes retrieval faster, but semantic methods perform poorly when used in isolation, as you will find out."
   ]
  },
  {
   "cell_type": "code",
   "execution_count": null,
   "metadata": {
    "deletable": false,
    "nbgrader": {
     "cell_type": "code",
     "checksum": "63b6b05a676a2ae3f08d8bed1bc59428",
     "grade": false,
     "grade_id": "cell-5bf47600d1a0c507",
     "locked": false,
     "schema_version": 3,
     "solution": true,
     "task": false
    }
   },
   "outputs": [],
   "source": [
    "# TODO: Implement this! (10 points)\n",
    "class DenseRerankingModel:\n",
    "    def __init__(self, initial_retrieval_fn, vsrm, similarity_fn):\n",
    "        \"\"\"\n",
    "            initial_retrieval_fn: takes in a query and returns a list of [(doc_id, score)] (sorted)\n",
    "            vsrm: instance of `VectorSpaceRetrievalModel`\n",
    "            similarity_fn: function instance that takes in two vectors \n",
    "                            and returns a similarity score e.g cosine_sim defined earlier\n",
    "        \"\"\"\n",
    "        self.ret = initial_retrieval_fn\n",
    "        self.vsrm = vsrm\n",
    "        self.similarity_fn = similarity_fn\n",
    "        self.vectorized_documents = vsrm.vectorize_documents()\n",
    "        \n",
    "        assert len(self.vectorized_documents) == len(doc_repr_2)\n",
    "    \n",
    "    def search(self, query, K=50):\n",
    "        \"\"\"\n",
    "            First, retrieve the top K results using the retrieval function\n",
    "            Then, re-rank the results using the VSRM instance\n",
    "        \"\"\"\n",
    "        # YOUR CODE HERE\n",
    "        raise NotImplementedError()"
   ]
  },
  {
   "cell_type": "code",
   "execution_count": null,
   "metadata": {
    "deletable": false,
    "editable": false,
    "nbgrader": {
     "cell_type": "code",
     "checksum": "334ab5af96976265cace682ab82a7387",
     "grade": true,
     "grade_id": "cell-52c6d18a4c0b4882",
     "locked": true,
     "points": 0,
     "schema_version": 3,
     "solution": false,
     "task": false
    }
   },
   "outputs": [],
   "source": [
    "##### Function check\n",
    "bm25_search_2 = partial(bm25_search, index_set=2)\n",
    "lsi_rerank = DenseRerankingModel(bm25_search_2, lsi, cosine_sim)\n",
    "lda_rerank = DenseRerankingModel(bm25_search_2, lda, jenson_shannon_sim)\n",
    "w2v_rerank = DenseRerankingModel(bm25_search_2, w2v, cosine_sim)\n",
    "w2v_pretrained_rerank = DenseRerankingModel(bm25_search_2, w2v_pretrained, cosine_sim)\n",
    "d2v_rerank = DenseRerankingModel(bm25_search_2, d2v, cosine_sim)\n",
    "\n",
    "##### "
   ]
  },
  {
   "cell_type": "markdown",
   "metadata": {
    "deletable": false,
    "editable": false,
    "nbgrader": {
     "cell_type": "markdown",
     "checksum": "bd904253f45f84e63bab3a69729058fc",
     "grade": false,
     "grade_id": "cell-93215dfe6bcf7cff",
     "locked": true,
     "points": 10,
     "schema_version": 3,
     "solution": false,
     "task": true
    }
   },
   "source": [
    "\\#### Please do not change this. This cell is used for grading."
   ]
  },
  {
   "cell_type": "markdown",
   "metadata": {
    "deletable": false,
    "editable": false,
    "nbgrader": {
     "cell_type": "markdown",
     "checksum": "b592e60292bfe3d9ef2930a354c4077a",
     "grade": false,
     "grade_id": "cell-aa694ff55fa91e7d",
     "locked": true,
     "schema_version": 3,
     "solution": false,
     "task": false
    }
   },
   "source": [
    "---\n",
    "Now, let us time the new search functions:"
   ]
  },
  {
   "cell_type": "code",
   "execution_count": null,
   "metadata": {
    "deletable": false,
    "editable": false,
    "nbgrader": {
     "cell_type": "code",
     "checksum": "338c7e3528cba266a865a061287c0e38",
     "grade": false,
     "grade_id": "cell-5edbd481562ad91f",
     "locked": true,
     "schema_version": 3,
     "solution": false,
     "task": false
    }
   },
   "outputs": [],
   "source": [
    "query = \"algebraic functions\"\n",
    "print(\"BM25: \")\n",
    "%timeit bm25_search(query, 2)\n",
    "print(\"LSI: \")\n",
    "%timeit lsi_rerank.search(query)\n",
    "print(\"LDA: \")\n",
    "%timeit lda_rerank.search(query)\n",
    "print(\"W2V: \")\n",
    "%timeit w2v_rerank.search(query)\n",
    "print(\"W2V(Pretrained): \")\n",
    "%timeit w2v_pretrained_rerank.search(query)\n",
    "print(\"D2V:\")\n",
    "%timeit d2v_rerank.search(query)"
   ]
  },
  {
   "cell_type": "markdown",
   "metadata": {
    "deletable": false,
    "editable": false,
    "nbgrader": {
     "cell_type": "markdown",
     "checksum": "c45c5e3f015b2de89d9d39ae3766368b",
     "grade": false,
     "grade_id": "cell-85c50f2ab9eec301",
     "locked": true,
     "schema_version": 3,
     "solution": false,
     "task": false
    }
   },
   "source": [
    "---\n",
    "As you can see, it is much faster (but BM25 is still orders of magnitude faster)."
   ]
  },
  {
   "cell_type": "markdown",
   "metadata": {
    "deletable": false,
    "editable": false,
    "nbgrader": {
     "cell_type": "markdown",
     "checksum": "1e2f3388e3807659f303fe31a75a010e",
     "grade": false,
     "grade_id": "cell-5071bb99b2af61cb",
     "locked": true,
     "schema_version": 3,
     "solution": false,
     "task": false
    }
   },
   "source": [
    "---\n",
    "## Section 10: Evaluation & Analysis (30 points) <a class=\"anchor\" id=\"reranking_eval\"></a>\n",
    "\n",
    "[Back to Part 2](#part2)\n",
    "\n",
    "[Previously](#evaluation) we have implemented some evaluation metrics and used them for measuring the ranking performance of term-based IR algorithms. In this section, we will do the same for semantic methods, both with and without re-ranking.\n",
    "\n",
    "### Section 10.1: Plot (10 points)\n",
    "\n",
    "First, gather the results. The results should consider the index set, the different search functions and different metrics. Plot the results in bar charts, per metric, with clear labels.\n",
    "\n",
    "Then, gather only the re-ranking models, and plot and compare them with the results obtained in part 1 (only index set 2)."
   ]
  },
  {
   "cell_type": "code",
   "execution_count": null,
   "metadata": {
    "deletable": false,
    "editable": false,
    "nbgrader": {
     "cell_type": "code",
     "checksum": "4fe81520ac6413a803838913fd64de03",
     "grade": false,
     "grade_id": "cell-b672fe6dfae0b1ce",
     "locked": true,
     "schema_version": 3,
     "solution": false,
     "task": false
    }
   },
   "outputs": [],
   "source": [
    "list_of_sem_search_fns = [\n",
    "    (\"lda\", drm_lda.search),\n",
    "    (\"lsi\", drm_lsi.search),\n",
    "    (\"w2v\", drm_w2v.search),\n",
    "    (\"w2v_pretrained\", drm_w2v_pretrained.search),\n",
    "    (\"d2v\", drm_d2v.search),\n",
    "    (\"lsi_rr\", lsi_rerank.search),\n",
    "    (\"lda_rr\", lda_rerank.search),\n",
    "    (\"w2v_rr\", w2v_rerank.search),\n",
    "    (\"w2v_pretrained_rr\", w2v_pretrained_rerank.search),\n",
    "    (\"d2v_rr\", d2v_rerank.search),\n",
    "    \n",
    "]"
   ]
  },
  {
   "cell_type": "code",
   "execution_count": null,
   "metadata": {
    "deletable": false,
    "nbgrader": {
     "cell_type": "code",
     "checksum": "54707c4afac084299aeefa047259b4a9",
     "grade": true,
     "grade_id": "cell-7dd8273b0f5a3c22",
     "locked": false,
     "points": 10,
     "schema_version": 3,
     "solution": true,
     "task": false
    }
   },
   "outputs": [],
   "source": [
    "# YOUR CODE HERE\n",
    "raise NotImplementedError()"
   ]
  },
  {
   "cell_type": "markdown",
   "metadata": {
    "deletable": false,
    "editable": false,
    "nbgrader": {
     "cell_type": "markdown",
     "checksum": "a8a3b6189bdde66704c694d85e38d049",
     "grade": false,
     "grade_id": "cell-deb2ef3daa306e82",
     "locked": true,
     "schema_version": 3,
     "solution": false,
     "task": false
    }
   },
   "source": [
    "### Section 10.2: Summary (20 points)\n",
    "\n",
    "Your summary should compare methods from Part 1 and Part 2 (only for index set 2). State what you expected to see in the results, followed by either supporting evidence *or* justify why the results did not support your expectations. Consider the availability of data, scalability, domain/type of data, etc."
   ]
  },
  {
   "cell_type": "markdown",
   "metadata": {
    "deletable": false,
    "nbgrader": {
     "cell_type": "markdown",
     "checksum": "ff97c43837d10bff6aaffa75e1492887",
     "grade": true,
     "grade_id": "cell-ec5dd7d9cf59dd86",
     "locked": false,
     "points": 20,
     "schema_version": 3,
     "solution": true,
     "task": false
    }
   },
   "source": [
    "YOUR ANSWER HERE"
   ]
  }
 ],
 "metadata": {
  "kernelspec": {
   "display_name": "Python 3",
   "language": "python",
   "name": "python3"
  },
  "language_info": {
   "codemirror_mode": {
    "name": "ipython",
    "version": 3
   },
   "file_extension": ".py",
   "mimetype": "text/x-python",
   "name": "python",
   "nbconvert_exporter": "python",
   "pygments_lexer": "ipython3",
   "version": "3.6.5"
  },
  "toc": {
   "base_numbering": 1,
   "nav_menu": {},
   "number_sections": true,
   "sideBar": true,
   "skip_h1_title": false,
   "title_cell": "Table of Contents",
   "title_sidebar": "Contents",
   "toc_cell": false,
   "toc_position": {},
   "toc_section_display": true,
   "toc_window_display": false
  }
 },
 "nbformat": 4,
 "nbformat_minor": 4
}
