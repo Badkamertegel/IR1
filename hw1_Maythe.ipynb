{
 "cells": [
  {
   "cell_type": "markdown",
   "metadata": {
    "deletable": false,
    "editable": false,
    "nbgrader": {
     "cell_type": "markdown",
     "checksum": "1bba455de8bc2825ca70469169bbadaa",
     "grade": false,
     "grade_id": "cell-c9cd9e550239e812",
     "locked": true,
     "schema_version": 3,
     "solution": false,
     "task": false
    }
   },
   "source": [
    "# Homework 1 (Total Points: 250) <a class=\"anchor\" id=\"top\"></a>\n",
    "\n",
    "\n",
    "**Submission instructions**:\n",
    "- The cells with the `# YOUR CODE HERE` denote that these sections are graded and you need to add your implementation.\n",
    "- For Part 1: You can use the `nltk`, `NumPy`, and `matplotlib` libraries here. Other libraries, e.g., `gensim` or `scikit-learn`, may not be used. For Part 2: `gensim` is allowed in addition to the imported libraries in the next code cell\n",
    "- Please use Python 3.6.5 and `pip install -r requirements.txt` to avoid version issues.\n",
    "- The notebook you submit has to have the student ids, separated by underscores (E.g., `12341234_12341234_12341234_hw1.ipynb`).\n",
    "- This will be parsed by a regexp, **so please double check your filename**.\n",
    "- Only one member of each group has to submit the file (**please do not compress the .ipynb file when you will submit it**) to canvas.\n",
    "- **Make sure to check that your notebook runs before submission**. A quick way to do this is to restart the kernel and run all the cells.  \n",
    "- Do not change the number of arugments in the given functions.\n",
    "- **Please do not delete/add new cells**. Removing cells **will** lead to grade deduction. \n",
    "- Note, that you are not allowed to use Google Colab.\n",
    "\n",
    "\n",
    "**Learning Goals**:\n",
    "- [Part 1, Term-based matching](#part1) (165 points):\n",
    "    - Learn how to load a dataset and process it.\n",
    "    - Learn how to implement several standard IR methods (TF-IDF, BM25, QL) and understand their weaknesses & strengths.\n",
    "    - Learn how to evaluate IR methods.\n",
    "- [Part 2, Semantic-based matching](#part2) (85 points):\n",
    "    - Learn how to implement vector-space retrieval methods (LSI, LDA).\n",
    "    - Learn how to use LSI and LDA for re-ranking.\n",
    "\n",
    "    \n",
    "**Resources**: \n",
    "- **Part 1**: Sections 2.3, 4.1, 4.2, 4.3, 5.3, 5.6, 5.7, 6.2, 7, 8 of [Search Engines: Information Retrieval in Practice](https://ciir.cs.umass.edu/downloads/SEIRiP.pdf)\n",
    "- **Part 2**: [LSI - Chapter 18](https://nlp.stanford.edu/IR-book/pdf/18lsi.pdf) from [Introduction to Information Retrieval](https://nlp.stanford.edu/IR-book/) book and the [original LDA paper](https://jmlr.org/papers/volume3/blei03a/blei03a.pdf)"
   ]
  },
  {
   "cell_type": "code",
   "execution_count": 1,
   "metadata": {
    "deletable": false,
    "editable": false,
    "nbgrader": {
     "cell_type": "code",
     "checksum": "c55bfe94ff1f564dd595547e516c4c6e",
     "grade": false,
     "grade_id": "cell-f5357fabdb9660e3",
     "locked": true,
     "schema_version": 3,
     "solution": false,
     "task": false
    }
   },
   "outputs": [],
   "source": [
    "# imports \n",
    "# TODO: Ensure that no additional library is imported in the notebook. \n",
    "# TODO: Only the standard library and the following libraries are allowed:\n",
    "# TODO: You can also use unlisted classes from these libraries or standard libraries (such as defaultdict, Counter, ...).\n",
    "\n",
    "import os\n",
    "import zipfile\n",
    "from functools import partial\n",
    "\n",
    "import nltk\n",
    "import requests\n",
    "import numpy as np\n",
    "from tqdm import tqdm\n",
    "\n",
    "import matplotlib.pyplot as plt\n",
    "from matplotlib.pyplot import cm\n",
    "\n",
    "from ipywidgets import widgets\n",
    "from IPython.display import display, HTML\n",
    "#from IPython.html import widgets\n",
    "from collections import namedtuple\n",
    "\n",
    "%matplotlib inline"
   ]
  },
  {
   "cell_type": "markdown",
   "metadata": {
    "deletable": false,
    "editable": false,
    "nbgrader": {
     "cell_type": "markdown",
     "checksum": "c8328f758ca5b69f76eee03dbbdd4715",
     "grade": false,
     "grade_id": "cell-7428e12ed184408b",
     "locked": true,
     "schema_version": 3,
     "solution": false,
     "task": false
    }
   },
   "source": [
    "\n",
    "# Part 1: Term-based Matching (165 points) <a class=\"anchor\" id=\"part1\"></a>\n",
    "\n",
    "[Back to top](#top)\n",
    "\n",
    "In the first part, we will learn the basics of IR from loading and preprocessing the material, to implementing some well known search algorithms, to evaluating the ranking performance of the implemented algorithms. We will be using the CACM dataset throughout the assignment. The CACM dataset is a collection of titles and abstracts from the journal CACM (Communication of the ACM).\n",
    "\n",
    "Table of contents:\n",
    "- [Section 1: Text Processing](#text_processing) (5 points)\n",
    "- [Section 2: Indexing](#indexing) (10 points)\n",
    "- [Section 3: Ranking](#ranking) (80 points)\n",
    "- [Section 4: Evaluation](#evaluation) (40 points)\n",
    "- [Section 5: Analysis](#analysis) (30 points)\n"
   ]
  },
  {
   "cell_type": "markdown",
   "metadata": {
    "deletable": false,
    "editable": false,
    "nbgrader": {
     "cell_type": "markdown",
     "checksum": "4e3f938065183dc743aa8254b96b4f5e",
     "grade": false,
     "grade_id": "cell-4b24825cf4ae55ec",
     "locked": true,
     "schema_version": 3,
     "solution": false,
     "task": false
    }
   },
   "source": [
    "---\n",
    "## Section 1: Text Processing (5 points)<a class=\"anchor\" id=\"text_processing\"></a>\n",
    "\n",
    "[Back to Part 1](#part1)\n",
    "\n",
    "In this section, we will load the dataset and learn how to clean up the data to make it usable for an IR system. \n",
    "First, go through the implementation of the following functions:\n",
    "- `read_cacm_docs`: Reads in the CACM documents.\n",
    "- `read_queries`: Reads in the CACM queries.\n",
    "- `load_stopwords`: Loads the stopwords.\n",
    "\n",
    "The points of this section are earned for the following implementations:\n",
    "- `tokenize` (3 points): Tokenizes the input text.\n",
    "- `stem_token` (2 points): Stems the given token. \n",
    "\n",
    "We are using the [CACM dataset](http://ir.dcs.gla.ac.uk/resources/test_collections/cacm/), which is a small, classic IR dataset, composed of a collection of titles and abstracts from the journal CACM. It comes with relevance judgements for queries, so we can evaluate our IR system. \n"
   ]
  },
  {
   "cell_type": "markdown",
   "metadata": {
    "deletable": false,
    "editable": false,
    "nbgrader": {
     "cell_type": "markdown",
     "checksum": "0155d897c7016389d73d160921947a6f",
     "grade": false,
     "grade_id": "cell-45651364e7af6d5a",
     "locked": true,
     "schema_version": 3,
     "solution": false,
     "task": false
    }
   },
   "source": [
    "---\n",
    "### 1.1 Read the CACM documents\n",
    "\n",
    "\n",
    "The following cell downloads the dataset and unzips it to a local directory."
   ]
  },
  {
   "cell_type": "code",
   "execution_count": 2,
   "metadata": {
    "deletable": false,
    "editable": false,
    "nbgrader": {
     "cell_type": "code",
     "checksum": "4d43c9ad6e77cc01ce4cef0c34824930",
     "grade": false,
     "grade_id": "cell-bbc3030bb3fe7e02",
     "locked": true,
     "schema_version": 3,
     "solution": false,
     "task": false
    }
   },
   "outputs": [],
   "source": [
    "def download_dataset():\n",
    "    folder_path = os.environ.get(\"IR1_DATA_PATH\")\n",
    "    if not folder_path:\n",
    "        folder_path = \"./datasets/\"\n",
    "    os.makedirs(folder_path, exist_ok=True)\n",
    "    \n",
    "    file_location = os.path.join(folder_path, \"cacm.zip\")\n",
    "    \n",
    "    # download file if it doesn't exist\n",
    "    if not os.path.exists(file_location):\n",
    "        \n",
    "        url = \"https://surfdrive.surf.nl/files/index.php/s/M0FGJpX2p8wDwxR/download\"\n",
    "\n",
    "        with open(file_location, \"wb\") as handle:\n",
    "            print(f\"Downloading file from {url} to {file_location}\")\n",
    "            response = requests.get(url, stream=True)\n",
    "            for data in tqdm(response.iter_content()):\n",
    "                handle.write(data)\n",
    "            print(\"Finished downloading file\")\n",
    "    \n",
    "    if not os.path.exists(os.path.join(folder_path, \"train.txt\")):\n",
    "        \n",
    "        # unzip file\n",
    "        with zipfile.ZipFile(file_location, 'r') as zip_ref:\n",
    "            zip_ref.extractall(folder_path)\n",
    "        \n",
    "download_dataset()"
   ]
  },
  {
   "cell_type": "markdown",
   "metadata": {
    "deletable": false,
    "editable": false,
    "nbgrader": {
     "cell_type": "markdown",
     "checksum": "31609b0d61d0c74cbd69bc43e47c23be",
     "grade": false,
     "grade_id": "cell-a7dd9a9bf98ede05",
     "locked": true,
     "schema_version": 3,
     "solution": false,
     "task": false
    }
   },
   "source": [
    "---\n",
    "\n",
    "You can see a brief description of each file in the dataset by looking at the README file:"
   ]
  },
  {
   "cell_type": "code",
   "execution_count": 3,
   "metadata": {
    "deletable": false,
    "editable": false,
    "nbgrader": {
     "cell_type": "code",
     "checksum": "cb3c9a2b8b2bf4fd5b7446b0c4c00f43",
     "grade": false,
     "grade_id": "cell-9b6ff1a17124711f",
     "locked": true,
     "schema_version": 3,
     "solution": false,
     "task": false
    }
   },
   "outputs": [
    {
     "name": "stdout",
     "output_type": "stream",
     "text": [
      "Files in this directory with sizes:\n",
      "          0 Jun 19 21:01 README\n",
      "\n",
      "    2187734 Jun 19 20:55 cacm.all              text of documents\n",
      "        626 Jun 19 20:58 cite.info             key to citation info\n",
      "                                                (the X sections in cacm.all)\n",
      "       2668 Jun 19 20:55 common_words           stop words used by smart\n",
      "       2194 Jun 19 20:55 make_coll*             shell script to make collection\n",
      "       1557 Jun 19 20:55 make_coll_term*        ditto (both useless without\n",
      "                                                smart system)\n",
      "       9948 Jun 19 20:55 qrels.text             relation giving\n",
      "                                                    qid did 0 0\n",
      "                                                to indicate dument did is\n",
      "                                                relevant to query qid\n",
      "      13689 Jun 19 20:55 query.text             Original text of the query\n",
      "\n"
     ]
    }
   ],
   "source": [
    "##### Read the README file \n",
    "with open (\"./datasets/README\",\"r\") as file:\n",
    "    readme = file.read()\n",
    "    print(readme)\n",
    "#####"
   ]
  },
  {
   "cell_type": "markdown",
   "metadata": {
    "deletable": false,
    "editable": false,
    "nbgrader": {
     "cell_type": "markdown",
     "checksum": "6e2712c4c4632bf7486a532f7f18074d",
     "grade": false,
     "grade_id": "cell-73351431869fda76",
     "locked": true,
     "schema_version": 3,
     "solution": false,
     "task": false
    }
   },
   "source": [
    "---\n",
    "We are interested in 4 files:\n",
    "- `cacm.all` : Contains the text for all documents. Note that some documents do not have abstracts available\n",
    "- `query.text` : The text of all queries\n",
    "- `qrels.text` : The relevance judgements\n",
    "- `common_words` : A list of common words. This may be used as a collection of stopwords"
   ]
  },
  {
   "cell_type": "code",
   "execution_count": 4,
   "metadata": {
    "deletable": false,
    "editable": false,
    "nbgrader": {
     "cell_type": "code",
     "checksum": "f1162c15177eb4ffe466531d03cff4a2",
     "grade": false,
     "grade_id": "cell-b44dd14079f278ca",
     "locked": true,
     "schema_version": 3,
     "solution": false,
     "task": false
    }
   },
   "outputs": [
    {
     "name": "stdout",
     "output_type": "stream",
     "text": [
      ".I 1\n",
      ".T\n",
      "Preliminary Report-International Algebraic Language\n",
      ".B\n",
      "CACM December, 1958\n",
      ".A\n",
      "Perlis, A. J.\n",
      "Samelson,K.\n",
      ".N\n",
      "CA581203 JB March 22, 1978  8:28 PM\n",
      ".X\n",
      "100\t5\t1\n",
      "123\t5\t1\n",
      "164\t5\t1\n",
      "1\t5\t1\n",
      "1\t5\t1\n",
      "1\t5\t1\n",
      "205\t5\t1\n",
      "210\t5\t1\n",
      "214\t5\t1\n",
      "1982\t5\t1\n",
      "398\t5\t1\n",
      "642\t5\t1\n",
      "669\t5\t1\n",
      "1\t6\t1\n",
      "1\t6\t1\n",
      "1\t6\t1\n",
      "1\t6\t1\n",
      "1\t6\t1\n",
      "1\t6\t1\n",
      "1\t6\t1\n",
      "1\t6\t1\n",
      "1\t6\t1\n",
      "1\t6\t1\n",
      "165\t6\t1\n",
      "196\t6\t1\n",
      "196\t6\t1\n",
      "1273\t6\t1\n",
      "1883\t6\t1\n",
      "324\t6\t1\n",
      "43\t6\t1\n",
      "53\t6\t1\n",
      "91\t6\t1\n",
      "410\t6\t1\n",
      "3184\t6\t1\n",
      "\n"
     ]
    }
   ],
   "source": [
    "##### The first 45 lines of the CACM dataset forms the first record\n",
    "# We are interested only in 3 fields. \n",
    "# 1. the '.I' field, which is the document id\n",
    "# 2. the '.T' field (the title) and\n",
    "# 3. the '.W' field (the abstract, which may be absent)\n",
    "with open (\"./datasets/cacm.all\",\"r\") as file:\n",
    "    cacm_all = \"\".join(file.readlines()[:45])\n",
    "    print(cacm_all)\n",
    "#####"
   ]
  },
  {
   "cell_type": "markdown",
   "metadata": {
    "deletable": false,
    "editable": false,
    "nbgrader": {
     "cell_type": "markdown",
     "checksum": "250b413baccd8efb186bb46a34ae0060",
     "grade": false,
     "grade_id": "cell-c4bf2e263ec553d8",
     "locked": true,
     "schema_version": 3,
     "solution": false,
     "task": false
    }
   },
   "source": [
    "---\n",
    "\n",
    "The following function reads the `cacm.all` file. Note that each document has a variable number of lines. The `.I` field denotes a new document:"
   ]
  },
  {
   "cell_type": "code",
   "execution_count": 5,
   "metadata": {
    "deletable": false,
    "editable": false,
    "nbgrader": {
     "cell_type": "code",
     "checksum": "57d757e6a7a6938740dc899022b4f291",
     "grade": false,
     "grade_id": "cell-b736116eb419c624",
     "locked": true,
     "schema_version": 3,
     "solution": false,
     "task": false
    }
   },
   "outputs": [],
   "source": [
    "def read_cacm_docs(root_folder = \"./datasets/\"):\n",
    "    \"\"\"\n",
    "        Reads in the CACM documents. The dataset is assumed to be in the folder \"./datasets/\" by default\n",
    "        Returns: A list of 2-tuples: (doc_id, document), where 'document' is a single string created by \n",
    "            appending the title and abstract (separated by a \"\\n\"). \n",
    "            In case the record doesn't have an abstract, the document is composed only by the title\n",
    "    \"\"\"\n",
    "    with open(os.path.join(root_folder, \"cacm.all\")) as reader:\n",
    "        lines = reader.readlines()\n",
    "    \n",
    "    doc_id, title, abstract = None, None, None\n",
    "    \n",
    "    docs = []\n",
    "    line_idx = 0\n",
    "    while line_idx < len(lines):\n",
    "        line = lines[line_idx]\n",
    "        if line.startswith(\".I\"):\n",
    "            if doc_id is not None:\n",
    "                docs.append((doc_id, title, abstract))\n",
    "                doc_id, title, abstract = None, None, None\n",
    "            \n",
    "            doc_id = line.split()[-1]\n",
    "            line_idx += 1\n",
    "        elif line.startswith(\".T\"):\n",
    "            # start at next line\n",
    "            line_idx += 1\n",
    "            temp_lines = []\n",
    "            # read till next '.'\n",
    "            while not lines[line_idx].startswith(\".\"):\n",
    "                temp_lines.append(lines[line_idx].strip(\"\\n\"))\n",
    "                line_idx += 1\n",
    "            title = \"\\n\".join(temp_lines).strip(\"\\n\")\n",
    "        elif line.startswith(\".W\"):\n",
    "            # start at next line\n",
    "            line_idx += 1\n",
    "            temp_lines = []\n",
    "            # read till next '.'\n",
    "            while not lines[line_idx].startswith(\".\"):\n",
    "                temp_lines.append(lines[line_idx].strip(\"\\n\"))\n",
    "                line_idx += 1\n",
    "            abstract = \"\\n\".join(temp_lines).strip(\"\\n\")\n",
    "        else:\n",
    "            line_idx += 1\n",
    "    \n",
    "    docs.append((doc_id, title, abstract))\n",
    "    \n",
    "    p_docs = []\n",
    "    for (did, t, a) in docs:\n",
    "        if a is None:\n",
    "            a = \"\"\n",
    "        p_docs.append((did, t + \"\\n\" + a))\n",
    "    return p_docs\n"
   ]
  },
  {
   "cell_type": "code",
   "execution_count": 6,
   "metadata": {
    "deletable": false,
    "editable": false,
    "nbgrader": {
     "cell_type": "code",
     "checksum": "2f81930fcd89670b6e20e2255e1f2369",
     "grade": false,
     "grade_id": "cell-a1c43818e0d3fd79",
     "locked": true,
     "schema_version": 3,
     "solution": false,
     "task": false
    }
   },
   "outputs": [],
   "source": [
    "##### Function check\n",
    "docs = read_cacm_docs()\n",
    "\n",
    "assert isinstance(docs, list)\n",
    "assert len(docs) == 3204, \"There should be exactly 3204 documents\"\n",
    "\n",
    "unzipped_docs = list(zip(*docs))\n",
    "assert np.sum(np.array(list(map(int,unzipped_docs[0])))) == 5134410\n",
    "\n",
    "##### "
   ]
  },
  {
   "cell_type": "markdown",
   "metadata": {
    "deletable": false,
    "editable": false,
    "nbgrader": {
     "cell_type": "markdown",
     "checksum": "25fd3cfaf2137c56002b850699b3c9d3",
     "grade": false,
     "grade_id": "cell-5ed2ddc91f73c60e",
     "locked": true,
     "schema_version": 3,
     "solution": false,
     "task": false
    }
   },
   "source": [
    "---\n",
    "### 1.2 Read the CACM queries\n",
    "\n",
    "Next, let us read the queries. They are formatted similarly:"
   ]
  },
  {
   "cell_type": "code",
   "execution_count": 7,
   "metadata": {
    "deletable": false,
    "editable": false,
    "nbgrader": {
     "cell_type": "code",
     "checksum": "5d26c0908e758acb9968b84056b1060a",
     "grade": false,
     "grade_id": "cell-5c7e8e7c4fc2757f",
     "locked": true,
     "schema_version": 3,
     "solution": false,
     "task": false
    }
   },
   "outputs": [
    {
     "name": "stdout",
     "output_type": "stream",
     "text": [
      ".I 1\r\n",
      ".W\r\n",
      " What articles exist which deal with TSS (Time Sharing System), an\r\n",
      "operating system for IBM computers?\r\n",
      ".N\r\n",
      " 1. Richard Alexander, Comp Serv, Langmuir Lab (TSS)\r\n",
      " \r\n",
      ".I 2\r\n",
      ".W\r\n",
      " I am interested in articles written either by Prieve or Udo Pooch\r\n",
      ".A\r\n",
      "Prieve, B.\r\n",
      "Pooch, U.\r\n",
      ".N\r\n",
      " 2. Richard Alexander, Comp Serv, Langmuir Lab (author = Pooch or Prieve)\r\n"
     ]
    }
   ],
   "source": [
    "##### The first 15 lines of 'query.text' has 2 queries\n",
    "# We are interested only in 2 fields. \n",
    "# 1. the '.I' - the query id\n",
    "# 2. the '.W' - the query\n",
    "!head -15 ./datasets/query.text\n",
    "#####"
   ]
  },
  {
   "cell_type": "markdown",
   "metadata": {
    "deletable": false,
    "editable": false,
    "nbgrader": {
     "cell_type": "markdown",
     "checksum": "8f19f311a660f30e3f86cb0f7037d54a",
     "grade": false,
     "grade_id": "cell-88e293507d2dcef6",
     "locked": true,
     "schema_version": 3,
     "solution": false,
     "task": false
    }
   },
   "source": [
    "---\n",
    "\n",
    "The following function reads the `query.text` file:"
   ]
  },
  {
   "cell_type": "code",
   "execution_count": 8,
   "metadata": {
    "deletable": false,
    "editable": false,
    "nbgrader": {
     "cell_type": "code",
     "checksum": "e3fbb193211007672849487f5cff1664",
     "grade": false,
     "grade_id": "cell-433e3ad5d0e2572a",
     "locked": true,
     "schema_version": 3,
     "solution": false,
     "task": false
    }
   },
   "outputs": [],
   "source": [
    "def read_queries(root_folder = \"./datasets/\"):\n",
    "    \"\"\"\n",
    "        Reads in the CACM queries. The dataset is assumed to be in the folder \"./datasets/\" by default\n",
    "        Returns: A list of 2-tuples: (query_id, query)\n",
    "    \"\"\"\n",
    "    with open(os.path.join(root_folder, \"query.text\")) as reader:\n",
    "        lines = reader.readlines()\n",
    "    \n",
    "    query_id, query = None, None\n",
    "    \n",
    "    queries = []\n",
    "    line_idx = 0\n",
    "    while line_idx < len(lines):\n",
    "        line = lines[line_idx]\n",
    "        if line.startswith(\".I\"):\n",
    "            if query_id is not None:\n",
    "                queries.append((query_id, query))\n",
    "                query_id, query = None, None\n",
    "    \n",
    "            query_id = line.split()[-1]\n",
    "            line_idx += 1\n",
    "        elif line.startswith(\".W\"):\n",
    "            # start at next line\n",
    "            line_idx += 1\n",
    "            temp_lines = []\n",
    "            # read till next '.'\n",
    "            while not lines[line_idx].startswith(\".\"):\n",
    "                temp_lines.append(lines[line_idx].strip(\"\\n\"))\n",
    "                line_idx += 1\n",
    "            query = \"\\n\".join(temp_lines).strip(\"\\n\")\n",
    "        else:\n",
    "            line_idx += 1\n",
    "    \n",
    "    queries.append((query_id, query))\n",
    "    return queries\n"
   ]
  },
  {
   "cell_type": "code",
   "execution_count": 9,
   "metadata": {
    "deletable": false,
    "editable": false,
    "nbgrader": {
     "cell_type": "code",
     "checksum": "a897b9771b54f447be3418d7246fc4a0",
     "grade": false,
     "grade_id": "cell-6ec540abce66c598",
     "locked": true,
     "schema_version": 3,
     "solution": false,
     "task": false
    }
   },
   "outputs": [],
   "source": [
    "##### Function check\n",
    "queries = read_queries()\n",
    "\n",
    "assert isinstance(queries, list)\n",
    "assert len(queries) == 64 and all([q[1] is not None for q in queries]), \"There should be exactly 64 queries\"\n",
    "\n",
    "unzipped_queries = list(zip(*queries))\n",
    "assert np.sum(np.array(list(map(int,unzipped_queries[0])))) == 2080\n",
    "\n",
    "##### "
   ]
  },
  {
   "cell_type": "markdown",
   "metadata": {
    "deletable": false,
    "editable": false,
    "nbgrader": {
     "cell_type": "markdown",
     "checksum": "a300c41912ac63b239070b4c15c9f5c5",
     "grade": false,
     "grade_id": "cell-1c31569491d7b782",
     "locked": true,
     "schema_version": 3,
     "solution": false,
     "task": false
    }
   },
   "source": [
    "---\n",
    "### 1.3 Read the stop words\n",
    "\n",
    "We use the common words stored in `common_words`:"
   ]
  },
  {
   "cell_type": "code",
   "execution_count": 10,
   "metadata": {
    "deletable": false,
    "editable": false,
    "nbgrader": {
     "cell_type": "code",
     "checksum": "1ad6f5bae6a792504c1c8513ae5751ad",
     "grade": false,
     "grade_id": "cell-34bdb63461418a96",
     "locked": true,
     "schema_version": 3,
     "solution": false,
     "task": false
    }
   },
   "outputs": [
    {
     "name": "stdout",
     "output_type": "stream",
     "text": [
      "a\r\n",
      "about\r\n",
      "above\r\n",
      "accordingly\r\n",
      "across\r\n",
      "after\r\n",
      "afterwards\r\n",
      "again\r\n",
      "against\r\n",
      "all\r\n"
     ]
    }
   ],
   "source": [
    "##### Read the stop words file \n",
    "!head ./datasets/common_words\n",
    "##### Read the README file "
   ]
  },
  {
   "cell_type": "markdown",
   "metadata": {
    "deletable": false,
    "editable": false,
    "nbgrader": {
     "cell_type": "markdown",
     "checksum": "6d0fe612e770213b6397c2179b07a966",
     "grade": false,
     "grade_id": "cell-4744bde0338895d8",
     "locked": true,
     "schema_version": 3,
     "solution": false,
     "task": false
    }
   },
   "source": [
    "---\n",
    "\n",
    "The following function reads the `common_words` file (For better coverage, we try to keep them in lowercase):"
   ]
  },
  {
   "cell_type": "code",
   "execution_count": 11,
   "metadata": {
    "deletable": false,
    "editable": false,
    "nbgrader": {
     "cell_type": "code",
     "checksum": "9409713fd26eb0c33587e190638997c4",
     "grade": false,
     "grade_id": "cell-7357aa40f64e5bcb",
     "locked": true,
     "schema_version": 3,
     "solution": false,
     "task": false
    }
   },
   "outputs": [],
   "source": [
    "def load_stopwords(root_folder = \"./datasets/\"):\n",
    "    \"\"\"\n",
    "        Loads the stopwords. The dataset is assumed to be in the folder \"./datasets/\" by default\n",
    "        Output: A set of stopwords\n",
    "    \"\"\"\n",
    "    with open(os.path.join(root_folder, \"common_words\")) as reader:\n",
    "        lines = reader.readlines()\n",
    "    stopwords = set([l.strip().lower() for l in lines])\n",
    "    return stopwords\n"
   ]
  },
  {
   "cell_type": "code",
   "execution_count": 12,
   "metadata": {
    "deletable": false,
    "editable": false,
    "nbgrader": {
     "cell_type": "code",
     "checksum": "f1c8153c3c38133bc2db6e7b076ad470",
     "grade": false,
     "grade_id": "cell-2ca3ac162004de97",
     "locked": true,
     "schema_version": 3,
     "solution": false,
     "task": false
    }
   },
   "outputs": [],
   "source": [
    "##### Function check\n",
    "stopwords = load_stopwords()\n",
    "\n",
    "assert isinstance(stopwords, set)\n",
    "assert len(stopwords) == 428, \"There should be exactly 428 stop words\"\n",
    "\n",
    "assert np.sum(np.array(list(map(len,stopwords)))) == 2234\n",
    "\n",
    "##### \n"
   ]
  },
  {
   "cell_type": "markdown",
   "metadata": {
    "deletable": false,
    "editable": false,
    "nbgrader": {
     "cell_type": "markdown",
     "checksum": "92c1191e9e7291dcf0d70dc67b907a65",
     "grade": false,
     "grade_id": "cell-134b72872f4300cb",
     "locked": true,
     "schema_version": 3,
     "solution": false,
     "task": false
    }
   },
   "source": [
    "---\n",
    "### 1.4 Tokenization (3 points)\n",
    "\n",
    "We can now write some basic text processing functions. \n",
    "A first step is to tokenize the text. \n",
    "\n",
    "**Note**: Use the  `WordPunctTokenizer` available in the `nltk` library:"
   ]
  },
  {
   "cell_type": "code",
   "execution_count": 13,
   "metadata": {
    "deletable": false,
    "nbgrader": {
     "cell_type": "code",
     "checksum": "3f5564d3c75bf22fbf832b3a9b938f37",
     "grade": false,
     "grade_id": "cell-322be4c9499bdc4b",
     "locked": false,
     "schema_version": 3,
     "solution": true,
     "task": false
    }
   },
   "outputs": [],
   "source": [
    "# TODO: Implement this! (4 points)\n",
    "\n",
    "def tokenize(text):\n",
    "    \"\"\"\n",
    "        Tokenizes the input text. Use the WordPunctTokenizer\n",
    "        Input: text - a string\n",
    "        Output: a list of tokens\n",
    "    \"\"\"\n",
    "    \n",
    "    wpt = nltk.tokenize.WordPunctTokenizer()\n",
    "    \n",
    "    return wpt.tokenize(text)\n",
    "     "
   ]
  },
  {
   "cell_type": "code",
   "execution_count": 14,
   "metadata": {
    "deletable": false,
    "editable": false,
    "nbgrader": {
     "cell_type": "code",
     "checksum": "e15af22c4d8ae0a3f9dac43bef7097ec",
     "grade": true,
     "grade_id": "cell-7fbf48bf7541a622",
     "locked": true,
     "points": 3,
     "schema_version": 3,
     "solution": false,
     "task": false
    },
    "scrolled": true
   },
   "outputs": [
    {
     "name": "stdout",
     "output_type": "stream",
     "text": [
      "['the', 'quick', 'brown', 'fox', 'jumps', 'over', 'the', 'lazy', 'dog']\n"
     ]
    }
   ],
   "source": [
    "##### Function check\n",
    "text = \"the quick brown fox jumps over the lazy dog\"\n",
    "tokens = tokenize(text)\n",
    "\n",
    "assert isinstance(tokens, list)\n",
    "assert len(tokens) == 9\n",
    "\n",
    "print(tokens)\n",
    "# output: ['the', 'quick', 'brown', 'fox', 'jumps', 'over', 'the', 'lazy', 'dog']\n",
    "#####"
   ]
  },
  {
   "cell_type": "markdown",
   "metadata": {
    "deletable": false,
    "editable": false,
    "nbgrader": {
     "cell_type": "markdown",
     "checksum": "34210618bff4cb47aad2f03cb4b9854c",
     "grade": false,
     "grade_id": "cell-fd1b98ae61b697ca",
     "locked": true,
     "schema_version": 3,
     "solution": false,
     "task": false
    }
   },
   "source": [
    "---\n",
    "### 1.5 Stemming (2 points)\n",
    "\n",
    "Write a function to stem tokens. \n",
    "Again, you can use the nltk library for this:"
   ]
  },
  {
   "cell_type": "code",
   "execution_count": 15,
   "metadata": {
    "deletable": false,
    "nbgrader": {
     "cell_type": "code",
     "checksum": "1c4a6aa979d66158c7b6b992af43293a",
     "grade": false,
     "grade_id": "cell-e3f6c8e3f874b28d",
     "locked": false,
     "schema_version": 3,
     "solution": true,
     "task": false
    }
   },
   "outputs": [],
   "source": [
    "# TODO: Implement this! (3 points)\n",
    "def stem_token(token):\n",
    "    \"\"\"\n",
    "        Stems the given token using the PorterStemmer from the nltk library\n",
    "        Input: a single token\n",
    "        Output: the stem of the token\n",
    "    \"\"\"\n",
    "    \n",
    "    ps = nltk.stem.PorterStemmer()\n",
    "    \n",
    "    return ps.stem(token)\n",
    "    "
   ]
  },
  {
   "cell_type": "code",
   "execution_count": 16,
   "metadata": {
    "deletable": false,
    "editable": false,
    "nbgrader": {
     "cell_type": "code",
     "checksum": "9363b4f09b556d424d9c895d4ab57b1c",
     "grade": true,
     "grade_id": "cell-cd6863e6ee6ed205",
     "locked": true,
     "points": 2,
     "schema_version": 3,
     "solution": false,
     "task": false
    }
   },
   "outputs": [],
   "source": [
    "##### Function check\n",
    "\n",
    "assert stem_token('owned') == 'own'\n",
    "assert stem_token('itemization') == 'item'\n",
    "#####"
   ]
  },
  {
   "cell_type": "markdown",
   "metadata": {
    "deletable": false,
    "editable": false,
    "nbgrader": {
     "cell_type": "markdown",
     "checksum": "0b311d014146da6afa1d39542fab9869",
     "grade": false,
     "grade_id": "cell-47c9f90498699110",
     "locked": true,
     "schema_version": 3,
     "solution": false,
     "task": false
    }
   },
   "source": [
    "---\n",
    "### 1.6 Summary\n",
    "\n",
    "The following function puts it all together. Given an input string, this functions tokenizes and processes it according to the flags that you set."
   ]
  },
  {
   "cell_type": "code",
   "execution_count": 17,
   "metadata": {
    "deletable": false,
    "editable": false,
    "nbgrader": {
     "cell_type": "code",
     "checksum": "2ff2d215ee8e0039c5a91fd3de12e6bd",
     "grade": false,
     "grade_id": "cell-dd0d3f46b30801da",
     "locked": true,
     "schema_version": 3,
     "solution": false,
     "task": false
    }
   },
   "outputs": [],
   "source": [
    "#### Putting it all together\n",
    "def process_text(text, stem=False, remove_stopwords=False, lowercase_text=False):\n",
    "    \n",
    "    tokens = []\n",
    "    for token in tokenize(text):\n",
    "        if remove_stopwords and token.lower() in stopwords:\n",
    "            continue\n",
    "        if stem:\n",
    "            token = stem_token(token)\n",
    "        if lowercase_text:\n",
    "            token = token.lower()\n",
    "        tokens.append(token)\n",
    "\n",
    "    return tokens\n",
    "#### "
   ]
  },
  {
   "cell_type": "markdown",
   "metadata": {
    "deletable": false,
    "editable": false,
    "nbgrader": {
     "cell_type": "markdown",
     "checksum": "02d433b18eb43654fa4306a7bf55b190",
     "grade": false,
     "grade_id": "cell-8d885bfd2edd43ae",
     "locked": true,
     "schema_version": 3,
     "solution": false,
     "task": false
    }
   },
   "source": [
    "---\n",
    "\n",
    "Let's create two sets of preprocessed documents.\n",
    "We can process the documents and queries according to these two configurations:"
   ]
  },
  {
   "cell_type": "code",
   "execution_count": 18,
   "metadata": {
    "deletable": false,
    "editable": false,
    "nbgrader": {
     "cell_type": "code",
     "checksum": "dbe4ca667be6842fdcf512fbcad50c7f",
     "grade": false,
     "grade_id": "cell-d427365ee0fb21d8",
     "locked": true,
     "schema_version": 3,
     "solution": false,
     "task": false
    }
   },
   "outputs": [],
   "source": [
    "# In this configuration:\n",
    "# Don't preprocess the text, except to tokenize \n",
    "config_1 = {\n",
    "  \"stem\": False,\n",
    "  \"remove_stopwords\" : False,\n",
    "  \"lowercase_text\": True\n",
    "} \n",
    "\n",
    "\n",
    "# In this configuration:\n",
    "# Preprocess the text, stem and remove stopwords\n",
    "config_2 = {\n",
    "  \"stem\": True,\n",
    "  \"remove_stopwords\" : True,\n",
    "  \"lowercase_text\": True, \n",
    "} \n",
    "\n",
    "####\n",
    "doc_repr_1 = []\n",
    "doc_repr_2 = []\n",
    "for (doc_id, document) in docs:\n",
    "    doc_repr_1.append((doc_id, process_text(document, **config_1)))\n",
    "    doc_repr_2.append((doc_id, process_text(document, **config_2)))\n",
    "\n",
    "####"
   ]
  },
  {
   "cell_type": "markdown",
   "metadata": {
    "deletable": false,
    "editable": false,
    "nbgrader": {
     "cell_type": "markdown",
     "checksum": "b60589aac19e80941d860d9b3f1e9a16",
     "grade": false,
     "grade_id": "cell-b1c102db61ae7495",
     "locked": true,
     "schema_version": 3,
     "solution": false,
     "task": false
    }
   },
   "source": [
    "--- \n",
    "\n",
    "## Section 2: Indexing (10 points)<a class=\"anchor\" id=\"indexing\"></a>\n",
    "\n",
    "[Back to Part 1](#part1)\n",
    "\n",
    "\n",
    "\n",
    "A retrieval function usually takes in a query document pair, and scores a query against a document.  Our document set is quite small - just a few thousand documents. However, consider a web-scale dataset with a few million documents. In such a scenario, it would become infeasible to score every query and document pair. In such a case, we can build an inverted index. From Wikipedia:\n",
    "\n",
    "> ... , an inverted index (also referred to as a postings file or inverted file) is a database index storing a mapping from content, such as words or numbers, to its locations in a table, .... The purpose of an inverted index is to allow fast full-text searches, at a cost of increased processing when a document is added to the database. ...\n",
    "\n",
    "\n",
    "Consider a simple inverted index, which maps from word to document. This can improve the performance of a retrieval system significantly. In this assignment, we consider a *simple* inverted index, which maps a word to a set of documents. In practice, however, more complex indices might be used.  \n"
   ]
  },
  {
   "cell_type": "markdown",
   "metadata": {
    "deletable": false,
    "editable": false,
    "nbgrader": {
     "cell_type": "markdown",
     "checksum": "710fd943f45523ac36fcb887cc0d4d39",
     "grade": false,
     "grade_id": "cell-fa373192c1b7bb95",
     "locked": true,
     "schema_version": 3,
     "solution": false,
     "task": false
    }
   },
   "source": [
    "### 2.1 Term Frequency-index (10 points)\n",
    "In this assignment, we will be using an index created in memory since our dataset is tiny. To get started, build a simple index that maps each `token` to a list of `(doc_id, count)` where `count` is the count of the `token` in `doc_id`.\n",
    "For consistency, build this index using a python dictionary.\n",
    "    \n",
    "Now, implement a function to build an index:"
   ]
  },
  {
   "cell_type": "code",
   "execution_count": 19,
   "metadata": {
    "deletable": false,
    "nbgrader": {
     "cell_type": "code",
     "checksum": "d4e8c6b658c469379d5fe511de05b536",
     "grade": false,
     "grade_id": "cell-077599b87e953209",
     "locked": false,
     "schema_version": 3,
     "solution": true,
     "task": false
    },
    "scrolled": true
   },
   "outputs": [],
   "source": [
    "# TODO: Implement this! (10 points)\n",
    "from collections import Counter, defaultdict\n",
    "\n",
    "def build_tf_index(documents):\n",
    "    \"\"\"\n",
    "        Build an inverted index (with counts). The output is a dictionary which takes in a token\n",
    "        and returns a list of (doc_id, count) where 'count' is the count of the 'token' in 'doc_id'\n",
    "        Input: a list of documents - (doc_id, tokens) \n",
    "        Output: An inverted index implemented within a pyhton dictionary: [token] -> [(doc_id, token_count)]\n",
    "    \"\"\"\n",
    "    \n",
    "    dictionary = defaultdict(list)\n",
    "    \n",
    "    for document in documents:\n",
    "        doc_id = document[0]\n",
    "        tokens = document[1]\n",
    "        \n",
    "        # count tokens in document\n",
    "        count = dict(Counter(tokens))\n",
    "        \n",
    "        # add doc_id and count to inverted index\n",
    "        for token, count in count.items():\n",
    "            dictionary[token].append((doc_id, count))\n",
    "   \n",
    "    \n",
    "    return dictionary\n",
    "    \n",
    "    \n",
    "# Only for testing\n",
    "# tf_index_2 = build_tf_index(doc_repr_2)\n",
    "# tf_index_2['example']"
   ]
  },
  {
   "cell_type": "markdown",
   "metadata": {
    "deletable": false,
    "editable": false,
    "nbgrader": {
     "cell_type": "markdown",
     "checksum": "15e7041b4323d2a290322de538ff7670",
     "grade": false,
     "grade_id": "cell-093aebfa504f96f2",
     "locked": true,
     "schema_version": 3,
     "solution": false,
     "task": false
    }
   },
   "source": [
    "---\n",
    "Now we can build indexed documents and preprocess the queries based on the two configurations:"
   ]
  },
  {
   "cell_type": "code",
   "execution_count": 20,
   "metadata": {
    "deletable": false,
    "editable": false,
    "nbgrader": {
     "cell_type": "code",
     "checksum": "e27540c1d8d77a3779a05f557f3f40c6",
     "grade": false,
     "grade_id": "cell-b2ff1676348b90a8",
     "locked": true,
     "schema_version": 3,
     "solution": false,
     "task": false
    }
   },
   "outputs": [],
   "source": [
    "#### Indexed documents based on the two configs\n",
    "\n",
    "# Create the 2 indices\n",
    "tf_index_1 = build_tf_index(doc_repr_1)\n",
    "tf_index_2 = build_tf_index(doc_repr_2)\n",
    "\n",
    "# This function returns the tf_index of the corresponding config\n",
    "def get_index(index_set):\n",
    "    assert index_set in {1, 2}\n",
    "    return {\n",
    "        1: tf_index_1,\n",
    "        2: tf_index_2\n",
    "    }[index_set]\n",
    "\n",
    "####\n",
    "#### Preprocessed query based on the two configs\n",
    "\n",
    "# This function preprocesses the text given the index set, according to the specified config\n",
    "def preprocess_query(text, index_set):\n",
    "    assert index_set in {1, 2}\n",
    "    if index_set == 1:\n",
    "        return process_text(text, **config_1)\n",
    "    elif index_set == 2:\n",
    "        return process_text(text, **config_2)\n",
    "\n",
    "#### "
   ]
  },
  {
   "cell_type": "code",
   "execution_count": 21,
   "metadata": {
    "deletable": false,
    "editable": false,
    "nbgrader": {
     "cell_type": "code",
     "checksum": "f0cbc8703e1248cd6edf03f9019b69db",
     "grade": true,
     "grade_id": "cell-fc7c7232d5d2ee46",
     "locked": true,
     "points": 5,
     "schema_version": 3,
     "solution": false,
     "task": false
    }
   },
   "outputs": [
    {
     "name": "stdout",
     "output_type": "stream",
     "text": [
      "sample tf index for computer: [('4', 1), ('7', 1), ('10', 1), ('13', 1), ('19', 1), ('22', 1), ('23', 1), ('37', 1), ('40', 3), ('41', 1)]\n",
      "sample tf index for examples: [('111', 1), ('320', 1), ('644', 1), ('691', 1), ('727', 1), ('848', 1), ('892', 1), ('893', 1), ('1049', 1), ('1051', 1)]\n"
     ]
    }
   ],
   "source": [
    "##### Function check\n",
    "\n",
    "assert isinstance(tf_index_1, dict)\n",
    "\n",
    "assert isinstance(tf_index_1['computer'], list)\n",
    "print('sample tf index for computer:', tf_index_1['computer'][:10])\n",
    "\n",
    "assert isinstance(tf_index_1['examples'], list)\n",
    "print('sample tf index for examples:', tf_index_1['examples'][:10])\n",
    "#### "
   ]
  },
  {
   "cell_type": "code",
   "execution_count": 22,
   "metadata": {
    "deletable": false,
    "editable": false,
    "nbgrader": {
     "cell_type": "code",
     "checksum": "d49b8ac36815d9a5cb4bed838ab53a50",
     "grade": true,
     "grade_id": "cell-ff06bd11204db250",
     "locked": true,
     "points": 5,
     "schema_version": 3,
     "solution": false,
     "task": false
    }
   },
   "outputs": [
    {
     "name": "stdout",
     "output_type": "stream",
     "text": [
      "sample tf index for computer: [('4', 1), ('7', 1), ('10', 1), ('13', 1), ('19', 1), ('22', 1), ('23', 1), ('37', 1), ('40', 3), ('41', 1)]\n",
      "sample tf index for examples: []\n"
     ]
    }
   ],
   "source": [
    "##### Function check\n",
    "\n",
    "assert isinstance(tf_index_2, dict)\n",
    "\n",
    "assert isinstance(tf_index_2['computer'], list)\n",
    "print('sample tf index for computer:', tf_index_1['computer'][:10])\n",
    "\n",
    "assert isinstance(tf_index_2['examples'], list)\n",
    "print('sample tf index for examples:', tf_index_2['examples'][:10])\n",
    "#### "
   ]
  },
  {
   "cell_type": "markdown",
   "metadata": {
    "deletable": false,
    "editable": false,
    "nbgrader": {
     "cell_type": "markdown",
     "checksum": "880b2ef3ca405f2af6e0667d2dc7a600",
     "grade": false,
     "grade_id": "cell-89eba71f04310291",
     "locked": true,
     "schema_version": 3,
     "solution": false,
     "task": false
    }
   },
   "source": [
    "\n",
    "---\n",
    "## Section 3: Ranking  (80 points) <a class=\"anchor\" id=\"ranking\"></a>\n",
    "\n",
    "[Back to Part 1](#part1)\n",
    "\n",
    "Now that we have cleaned and processed our dataset, we can start building simple IR systems. \n",
    "\n",
    "For now, we consider *simple* IR systems, which involve computing scores from the tokens present in the document/query. More advanced methods are covered in later assignments.\n",
    "\n",
    "We will implement the following methods in this section:\n",
    "- [Section 3.1: Bag of Words](#bow) (10 points)\n",
    "- [Section 3.2: TF-IDF](#tfidf) (15 points)\n",
    "- [Section 3.3: Query Likelihood Model](#qlm) (35 points)\n",
    "- [Section 3.4: BM25](#bm25) (20 points)\n",
    "\n",
    "*All search functions should be able to handle multiple words queries.*\n",
    "\n",
    "**Scoring policy:**\n",
    "Your implementations in this section are scored based on the expected performance of your ranking functions.\n",
    "You will get a full mark if your implementation meets the expected performance (measured by some evaluation metric).\n",
    "Otherwise, you may get partial credit.\n",
    "For example, if your *Bag of words* ranking function has 60% of expected performance, you will get 6 out of 10."
   ]
  },
  {
   "cell_type": "markdown",
   "metadata": {
    "deletable": false,
    "editable": false,
    "nbgrader": {
     "cell_type": "markdown",
     "checksum": "6c74e5061917358300c6e8085ec07864",
     "grade": false,
     "grade_id": "cell-3daf70a60e393adf",
     "locked": true,
     "schema_version": 3,
     "solution": false,
     "task": false
    }
   },
   "source": [
    "--- \n",
    "\n",
    "### Section 3.1: Bag of Words (10 points)<a class=\"anchor\" id=\"bow\"></a>\n",
    "\n",
    "Probably the simplest IR model is the Bag of Words (BOW) model.\n",
    "Implement a function that scores and ranks all the documents against a query using this model.   \n",
    "\n",
    "- For consistency, you should use the count of the token and **not** the binary indicator.\n",
    "- Use `float` type for the scores (even though the scores are integers in this case).\n",
    "- No normalization of the scores is necessary, as the ordering is what we are interested in.\n",
    "- If two documents have the same score, they can have any ordering: you are not required to disambiguate.\n"
   ]
  },
  {
   "cell_type": "code",
   "execution_count": 23,
   "metadata": {
    "deletable": false,
    "nbgrader": {
     "cell_type": "code",
     "checksum": "fee4640e22bfc4f05eb958a675ef40e7",
     "grade": false,
     "grade_id": "cell-de9cf0459c4b9324",
     "locked": false,
     "schema_version": 3,
     "solution": true,
     "task": false
    }
   },
   "outputs": [],
   "source": [
    "# TODO: Implement this! (10 points)\n",
    "def bow_search(query, index_set):\n",
    "    \"\"\"\n",
    "        Perform a search over all documents with the given query. \n",
    "        Note: You have to use the `get_index` function created in the previous cells\n",
    "        Input: \n",
    "            query - a (unprocessed) query\n",
    "            index_set - the index to use\n",
    "        Output: a list of (document_id, score), sorted in descending relevance to the given query. \n",
    "    \"\"\"\n",
    "    index = get_index(index_set)\n",
    "    processed_query = preprocess_query(query, index_set)\n",
    "    \n",
    "    temp_dict = dict()\n",
    "    \n",
    "    for word in processed_query:\n",
    "        \n",
    "        if word in index:\n",
    "            docs = index[word]\n",
    "\n",
    "            for pair in docs:\n",
    "                doc_id = pair[0]\n",
    "                count = pair[1]\n",
    "\n",
    "                if doc_id in temp_dict:\n",
    "                    temp_dict[doc_id] += float(count)\n",
    "                else:\n",
    "                    temp_dict[doc_id] = float(count)\n",
    "    \n",
    "    sorted_list = sorted(temp_dict.items(), key=lambda x: (x[1],x[1]), reverse=True)\n",
    "\n",
    "    \n",
    "    return sorted_list\n",
    "\n",
    "\n",
    "# bow_search(\"how to implement bag of words search\", index_set=1)[:5]"
   ]
  },
  {
   "cell_type": "code",
   "execution_count": 24,
   "metadata": {
    "deletable": false,
    "editable": false,
    "nbgrader": {
     "cell_type": "code",
     "checksum": "613524fbbf02b1d122c6611a71fbf11b",
     "grade": true,
     "grade_id": "cell-9f6aceae6dd9125f",
     "locked": true,
     "points": 2,
     "schema_version": 3,
     "solution": false,
     "task": false
    }
   },
   "outputs": [],
   "source": [
    "#### Function check\n",
    "\n",
    "test_bow = bow_search(\"how to implement bag of words search\", index_set=1)[:5]\n",
    "assert isinstance(test_bow, list)\n",
    "assert len(test_bow[0]) == 2\n",
    "assert isinstance(test_bow[0][0], str)\n",
    "assert isinstance(test_bow[0][1], float)\n",
    "\n",
    "#### "
   ]
  },
  {
   "cell_type": "code",
   "execution_count": 25,
   "metadata": {
    "deletable": false,
    "editable": false,
    "nbgrader": {
     "cell_type": "code",
     "checksum": "9af20897659edb62fe77598483590500",
     "grade": true,
     "grade_id": "cell-4eed3abf233d9b58",
     "locked": true,
     "points": 2,
     "schema_version": 3,
     "solution": false,
     "task": false
    }
   },
   "outputs": [
    {
     "name": "stdout",
     "output_type": "stream",
     "text": [
      "BOW Results:\n",
      "Rank 0(1.3e+01): On Computing The Fast Fourier Transform\\nCooley an...\n",
      "Rank 1(1.2e+01): Variable Length Tree Structures Having Minimum Ave...\n",
      "Rank 2(1.1e+01): A Modular Computer Sharing System\\nAn alternative ...\n",
      "Rank 3(1e+01): PEEKABIT, Computer Offspring of Punched\\nCard PEEK...\n",
      "Rank 4(9.0): Computer Simulation-Discussion of the\\nTechnique a...\n"
     ]
    }
   ],
   "source": [
    "\n",
    "docs_by_id = dict(docs)\n",
    "def print_results(docs, len_limit=50):    \n",
    "    for i, (doc_id, score) in enumerate(docs):\n",
    "        doc_content = docs_by_id[doc_id].strip().replace(\"\\n\", \"\\\\n\")[:len_limit] + \"...\"\n",
    "        print(f\"Rank {i}({score:.2}): {doc_content}\")\n",
    "\n",
    "test_bow_2 = bow_search(\"computer search word\", index_set=2)[:5]\n",
    "print(f\"BOW Results:\")\n",
    "print_results(test_bow_2)\n"
   ]
  },
  {
   "cell_type": "code",
   "execution_count": 26,
   "metadata": {
    "deletable": false,
    "editable": false,
    "nbgrader": {
     "cell_type": "code",
     "checksum": "3c9c8b16c8e7d1032f101e9da8a6e845",
     "grade": true,
     "grade_id": "cell-4d65a2d7090c466c",
     "locked": true,
     "points": 3,
     "schema_version": 3,
     "solution": false,
     "task": false
    }
   },
   "outputs": [
    {
     "name": "stdout",
     "output_type": "stream",
     "text": [
      "BOW Results:\n",
      "Rank 0(9.0): CURRICULUM 68 -- Recommendations for Academic\\nPro...\n",
      "Rank 1(9.0): Variable Length Tree Structures Having Minimum Ave...\n",
      "Rank 2(7.0): Computer Formulation of the Equations of Motion Us...\n",
      "Rank 3(7.0): The Effects of Multiplexing on a Computer-Communic...\n",
      "Rank 4(6.0): Optimizing Bit-time Computer Simulation\\nA major c...\n"
     ]
    }
   ],
   "source": [
    "\n",
    "test_bow_1 = bow_search(\"computer search word\", index_set=1)[:5]\n",
    "print(f\"BOW Results:\")\n",
    "print_results(test_bow_1)\n"
   ]
  },
  {
   "cell_type": "code",
   "execution_count": 27,
   "metadata": {
    "deletable": false,
    "editable": false,
    "nbgrader": {
     "cell_type": "code",
     "checksum": "b7e593847aa4202ae45ec061fb18ad73",
     "grade": true,
     "grade_id": "cell-dedf36ab5853ce20",
     "locked": true,
     "points": 3,
     "schema_version": 3,
     "solution": false,
     "task": false
    }
   },
   "outputs": [
    {
     "name": "stdout",
     "output_type": "stream",
     "text": [
      "top-5 docs for index1: ('1771', '1936', '1543', '2535', '678')\n",
      "top-5 docs for index2: ('1525', '1936', '1844', '1700', '1366')\n"
     ]
    }
   ],
   "source": [
    "print('top-5 docs for index1:', list(zip(*test_bow_1[:5]))[0])\n",
    "print('top-5 docs for index2:', list(zip(*test_bow_2[:5]))[0])\n"
   ]
  },
  {
   "cell_type": "markdown",
   "metadata": {
    "deletable": false,
    "editable": false,
    "nbgrader": {
     "cell_type": "markdown",
     "checksum": "b04352ee0716dfdf094b8cdb6f32e984",
     "grade": false,
     "grade_id": "cell-a5c09c79ac1f2871",
     "locked": true,
     "schema_version": 3,
     "solution": false,
     "task": false
    }
   },
   "source": [
    "\n",
    "---\n",
    "\n",
    "### Section 3.2: TF-IDF (15 points) <a class=\"anchor\" id=\"tfidf\"></a>\n",
    "\n",
    "Before we implement the tf-idf scoring functions, let's first write a function to compute the document frequencies of all words.  \n",
    "\n",
    "#### 3.2.1 Document frequency (5 points)\n",
    "Compute the document frequencies of all tokens in the collection. \n",
    "Your code should return a dictionary with tokens as its keys and the number of documents containing the token as values.\n",
    "For consistency, the values should have `int` type."
   ]
  },
  {
   "cell_type": "code",
   "execution_count": 28,
   "metadata": {
    "deletable": false,
    "nbgrader": {
     "cell_type": "code",
     "checksum": "5c53263cf4c0b0ffcaae08b91fc364cc",
     "grade": false,
     "grade_id": "cell-9a2369f32e864b8a",
     "locked": false,
     "schema_version": 3,
     "solution": true,
     "task": false
    }
   },
   "outputs": [],
   "source": [
    "# TODO: Implement this! (5 points)\n",
    "def compute_df(documents):\n",
    "    \"\"\"\n",
    "        Compute the document frequency of all terms in the vocabulary\n",
    "        Input: A list of documents\n",
    "        Output: A dictionary with {token: document frequency (int)}\n",
    "    \"\"\"\n",
    "    \n",
    "    # create empty dictionary\n",
    "    dictionary = defaultdict(int)\n",
    "\n",
    "    # add tokens and count to \n",
    "    for document in documents:\n",
    "        # make sure that a document is only counted once for each token\n",
    "        document = list(set(document))\n",
    "        for token in document:\n",
    "            dictionary[token] += 1   \n",
    "        \n",
    "    return dictionary\n",
    "\n",
    "# compute_df([d[1] for d in doc_repr_1])"
   ]
  },
  {
   "cell_type": "code",
   "execution_count": 29,
   "metadata": {
    "deletable": false,
    "editable": false,
    "nbgrader": {
     "cell_type": "code",
     "checksum": "154985511d7925c5793a1f97dea81880",
     "grade": false,
     "grade_id": "cell-4c3bddd0b73ac90e",
     "locked": true,
     "schema_version": 3,
     "solution": false,
     "task": false
    }
   },
   "outputs": [],
   "source": [
    "#### Compute df based on the two configs\n",
    "\n",
    "# get the document frequencies of each document\n",
    "df_1 = compute_df([d[1] for d in doc_repr_1])\n",
    "df_2 = compute_df([d[1] for d in doc_repr_2])\n",
    "\n",
    "def get_df(index_set):\n",
    "    assert index_set in {1, 2}\n",
    "    return {\n",
    "        1: df_1,\n",
    "        2: df_2\n",
    "    }[index_set]\n",
    "####"
   ]
  },
  {
   "cell_type": "code",
   "execution_count": 30,
   "metadata": {
    "deletable": false,
    "editable": false,
    "nbgrader": {
     "cell_type": "code",
     "checksum": "110cc180068cf3f77c682ee3de2a117c",
     "grade": true,
     "grade_id": "cell-79e8a6db1e5fc46f",
     "locked": true,
     "points": 5,
     "schema_version": 3,
     "solution": false,
     "task": false
    }
   },
   "outputs": [
    {
     "name": "stdout",
     "output_type": "stream",
     "text": [
      "597\n",
      "11\n"
     ]
    }
   ],
   "source": [
    "#### Function check\n",
    "\n",
    "print(df_1['computer'])\n",
    "print(df_2['computer'])\n",
    "####"
   ]
  },
  {
   "cell_type": "markdown",
   "metadata": {
    "deletable": false,
    "editable": false,
    "nbgrader": {
     "cell_type": "markdown",
     "checksum": "d0d577668fa51b80aeab6e67209ae73b",
     "grade": false,
     "grade_id": "cell-52f6acc487e1b96d",
     "locked": true,
     "schema_version": 3,
     "solution": false,
     "task": false
    }
   },
   "source": [
    "---\n",
    "#### 3.2.2 TF-IDF search (10 points)\n",
    "Next, implement a function that computes a tf-idf score, given a query.\n",
    "Use the following formulas for TF and IDF:\n",
    "\n",
    "$$ TF=\\log (1 + f_{d,t}) $$\n",
    "\n",
    "$$ IDF=\\log (\\frac{N}{n_t})$$\n",
    "\n",
    "where $f_{d,t}$ is the frequency of token $t$ in document $d$, $N$ is the number of total documents and $n_t$ is the number of documents containing token $t$.\n",
    "\n",
    "**Note:** your implementation will be auto-graded assuming you have used the above formulas.\n"
   ]
  },
  {
   "cell_type": "code",
   "execution_count": 31,
   "metadata": {
    "deletable": false,
    "nbgrader": {
     "cell_type": "code",
     "checksum": "3534c44b4a3419ca1db98eebe7115dc1",
     "grade": false,
     "grade_id": "cell-2fb5ba34b2994cd9",
     "locked": false,
     "schema_version": 3,
     "solution": true,
     "task": false
    }
   },
   "outputs": [
    {
     "data": {
      "text/plain": [
       "[('1936', 13.308107602410963),\n",
       " ('3054', 12.14716003635928),\n",
       " ('3033', 10.467387734480772),\n",
       " ('2883', 9.364337442031015),\n",
       " ('497', 9.21427477062769)]"
      ]
     },
     "execution_count": 31,
     "metadata": {},
     "output_type": "execute_result"
    }
   ],
   "source": [
    "# TODO: Implement this! (10 points)\n",
    "def tfidf_search(query, index_set):\n",
    "    \"\"\"\n",
    "        Perform a search over all documents with the given query using tf-idf. \n",
    "        Note #1: You have to use the `get_index` (and the `get_df`) function created in the previous cells\n",
    "        Input: \n",
    "            query - a (unprocessed) query\n",
    "            index_set - the index to use\n",
    "        Output: a list of (document_id, score), sorted in descending relevance to the given query \n",
    "    \"\"\"\n",
    "    \n",
    "    doc_ids = [x[0] for x in docs]\n",
    "    output = {doc_id:float(0) for doc_id in doc_ids}\n",
    "    \n",
    "    # index with per token, in which document it occurs and frequency of occurrence \n",
    "    index = get_index(index_set)\n",
    "    \n",
    "    # document frequencies for all terms in index\n",
    "    df = get_df(index_set)\n",
    "    \n",
    "    # get processed words in query (tokens)\n",
    "    processed_query = preprocess_query(query, index_set)\n",
    "    \n",
    "    N = len(docs)\n",
    "    \n",
    "    def tf_idf(word, doc_id):\n",
    "        if doc_id in dict(index[word]):\n",
    "            fdt = dict(index[word])[doc_id]\n",
    "            tf = np.log(1 + fdt)\n",
    "\n",
    "            n_t = df[word]\n",
    "            idf = np.log(N / n_t)\n",
    "\n",
    "            tf_idf = tf * idf\n",
    "\n",
    "            return tf_idf\n",
    "        \n",
    "        return 0\n",
    "        \n",
    "    for doc_id in doc_ids:\n",
    "        for word in processed_query:\n",
    "            if doc_id in output:\n",
    "                output[doc_id] += tf_idf(word, doc_id)\n",
    "\n",
    "        \n",
    "    return sorted(output.items(), key=lambda x: x[1], reverse=True)\n",
    "\n",
    "tfidf_search(\"how to implement tf idf search\", index_set=1)[:5]"
   ]
  },
  {
   "cell_type": "code",
   "execution_count": 32,
   "metadata": {
    "deletable": false,
    "editable": false,
    "nbgrader": {
     "cell_type": "code",
     "checksum": "7b66a514663d898694b09a23a597312b",
     "grade": true,
     "grade_id": "cell-bc68aeeacf42beb3",
     "locked": true,
     "points": 2,
     "schema_version": 3,
     "solution": false,
     "task": false
    }
   },
   "outputs": [],
   "source": [
    "\n",
    "#### Function check\n",
    "test_tfidf = tfidf_search(\"how to implement tf idf search\", index_set=1)[:5]\n",
    "assert isinstance(test_tfidf, list)\n",
    "assert len(test_tfidf[0]) == 2\n",
    "assert isinstance(test_tfidf[0][0], str)\n",
    "assert isinstance(test_tfidf[0][1], float)\n",
    "\n",
    "####"
   ]
  },
  {
   "cell_type": "code",
   "execution_count": 33,
   "metadata": {
    "deletable": false,
    "editable": false,
    "nbgrader": {
     "cell_type": "code",
     "checksum": "98fb1326cf4bf7983ae237ca8a9105f9",
     "grade": true,
     "grade_id": "cell-c7702fa8179fadb9",
     "locked": true,
     "points": 2,
     "schema_version": 3,
     "solution": false,
     "task": false
    },
    "scrolled": true
   },
   "outputs": [
    {
     "name": "stdout",
     "output_type": "stream",
     "text": [
      "TFIDF Results:\n",
      "Rank 0(1.3e+01): PEEKABIT, Computer Offspring of Punched\\nCard PEEK...\n",
      "Rank 1(9.8): Variable Length Tree Structures Having Minimum Ave...\n",
      "Rank 2(8.2): A Stochastic Approach to the Grammatical Coding of...\n",
      "Rank 3(8.1): Full Table Quadratic Searching for Scatter Storage...\n",
      "Rank 4(7.6): Use of Tree Structures for Processing Files\\nIn da...\n"
     ]
    }
   ],
   "source": [
    "\n",
    "test_tfidf_2 = tfidf_search(\"computer word search\", index_set=2)[:5]\n",
    "print(f\"TFIDF Results:\")\n",
    "print_results(test_tfidf_2)\n"
   ]
  },
  {
   "cell_type": "code",
   "execution_count": 34,
   "metadata": {
    "deletable": false,
    "editable": false,
    "nbgrader": {
     "cell_type": "code",
     "checksum": "733b5b67be5e53989f5b763ce5e52ee9",
     "grade": true,
     "grade_id": "cell-3284f50ac29abbaa",
     "locked": true,
     "points": 3,
     "schema_version": 3,
     "solution": false,
     "task": false
    }
   },
   "outputs": [
    {
     "name": "stdout",
     "output_type": "stream",
     "text": [
      "TFIDF Results:\n",
      "Rank 0(9.4): Variable Length Tree Structures Having Minimum Ave...\n",
      "Rank 1(7.4): On the Feasibility of Voice Input to\\nan On-line C...\n",
      "Rank 2(7.3): Median Split Trees: A Fast Lookup Technique for Fr...\n",
      "Rank 3(7.0): Execution Time Requirements for Encipherment Progr...\n",
      "Rank 4(7.0): Storage and Search Properties of a Tree-Organized ...\n"
     ]
    }
   ],
   "source": [
    "\n",
    "test_tfidf_1 = tfidf_search(\"computer word search\", index_set=1)[:5]\n",
    "print(f\"TFIDF Results:\")\n",
    "print_results(test_tfidf_1)\n"
   ]
  },
  {
   "cell_type": "code",
   "execution_count": 35,
   "metadata": {
    "deletable": false,
    "editable": false,
    "nbgrader": {
     "cell_type": "code",
     "checksum": "e0edb37a5ae807a2de85d578c87ccb78",
     "grade": true,
     "grade_id": "cell-d908c80a3155354b",
     "locked": true,
     "points": 3,
     "schema_version": 3,
     "solution": false,
     "task": false
    }
   },
   "outputs": [
    {
     "name": "stdout",
     "output_type": "stream",
     "text": [
      "top-5 docs for index1 with BOW search: ('1771', '1936', '1543', '2535', '678')\n",
      "top-5 docs for index2 with BOW search: ('1525', '1936', '1844', '1700', '1366')\n",
      "top-5 docs for index1 with TF-IDF search: ('1936', '2054', '3041', '2620', '944')\n",
      "top-5 docs for index2 with TF-IDF search: ('1700', '1936', '1235', '2018', '849')\n"
     ]
    }
   ],
   "source": [
    "\n",
    "print('top-5 docs for index1 with BOW search:', list(zip(*test_bow_1[:5]))[0])\n",
    "print('top-5 docs for index2 with BOW search:', list(zip(*test_bow_2[:5]))[0])\n",
    "print('top-5 docs for index1 with TF-IDF search:', list(zip(*test_tfidf_1[:5]))[0])\n",
    "print('top-5 docs for index2 with TF-IDF search:', list(zip(*test_tfidf_2[:5]))[0])\n",
    "\n"
   ]
  },
  {
   "cell_type": "markdown",
   "metadata": {
    "deletable": false,
    "editable": false,
    "nbgrader": {
     "cell_type": "markdown",
     "checksum": "cdffc83f0eaea937cf64a212e7e9af8d",
     "grade": false,
     "grade_id": "cell-f5d923459ba21733",
     "locked": true,
     "schema_version": 3,
     "solution": false,
     "task": false
    }
   },
   "source": [
    "--- \n",
    "\n",
    "### Section 3.3: Query Likelihood Model (35 points) <a class=\"anchor\" id=\"qlm\"></a>\n",
    "\n",
    "In this section, you will implement a simple query likelihood model. \n",
    "\n",
    "\n",
    "#### 3.3.1 Naive QL (15 points)\n",
    "\n",
    "First, let us implement a naive version of a QL model, assuming a multinomial unigram language model (with a uniform prior over the documents). \n",
    "\n"
   ]
  },
  {
   "cell_type": "code",
   "execution_count": 36,
   "metadata": {
    "deletable": false,
    "editable": false,
    "nbgrader": {
     "cell_type": "code",
     "checksum": "b7ae2b7d818b428b4638c1c9206d2aca",
     "grade": false,
     "grade_id": "cell-98505778f7b68e7f",
     "locked": true,
     "schema_version": 3,
     "solution": false,
     "task": false
    }
   },
   "outputs": [],
   "source": [
    "#### Document length for normalization\n",
    "\n",
    "def doc_lengths(documents):\n",
    "    doc_lengths = {doc_id:len(doc) for (doc_id, doc) in documents}\n",
    "    return doc_lengths\n",
    "\n",
    "doc_lengths_1 = doc_lengths(doc_repr_1)\n",
    "doc_lengths_2 = doc_lengths(doc_repr_2)\n",
    "\n",
    "def get_doc_lengths(index_set):\n",
    "    assert index_set in {1, 2}\n",
    "    return {\n",
    "        1: doc_lengths_1,\n",
    "        2: doc_lengths_2\n",
    "    }[index_set]\n",
    "####"
   ]
  },
  {
   "cell_type": "code",
   "execution_count": 37,
   "metadata": {
    "deletable": false,
    "nbgrader": {
     "cell_type": "code",
     "checksum": "cedd08303a914243fefdb6b876977ca1",
     "grade": false,
     "grade_id": "cell-8bcf2b804d636c2e",
     "locked": false,
     "schema_version": 3,
     "solution": true,
     "task": false
    }
   },
   "outputs": [
    {
     "data": {
      "text/plain": [
       "[('599', 0.2),\n",
       " ('2689', 0.2),\n",
       " ('1', 0.16666666666666666),\n",
       " ('947', 0.16666666666666666),\n",
       " ('65', 0.14285714285714285)]"
      ]
     },
     "execution_count": 37,
     "metadata": {},
     "output_type": "execute_result"
    }
   ],
   "source": [
    "# TODO: Implement this! (15 points)\n",
    "def naive_ql_search(query, index_set):\n",
    "    \"\"\"\n",
    "        Perform a search over all documents with the given query using a naive QL model. \n",
    "        Note #1: You have to use the `get_index` (and get_doc_lengths) function created in the previous cells\n",
    "        Input: \n",
    "            query - a (unprocessed) query\n",
    "            index_set - the index to use\n",
    "        Output: a list of (document_id, score), sorted in descending relevance to the given query \n",
    "    \"\"\"\n",
    "    index = get_index(index_set)\n",
    "    doc_lengths = get_doc_lengths(index_set)\n",
    "    processed_query = preprocess_query(query, index_set)\n",
    "    \n",
    "    # create output dict with all doc_ids as keys and a 0 as value\n",
    "    output = {doc_id:0 for doc_id in doc_lengths.keys()}\n",
    "    \n",
    "    for word in processed_query:\n",
    "        # get term frequency of all doc_ids for word\n",
    "        tf_list = index[word]\n",
    "\n",
    "        for pair in tf_list:\n",
    "            doc_id = pair[0]\n",
    "            term_freq = pair[1]\n",
    "            doc_len = doc_lengths[doc_id]\n",
    "            \n",
    "            if output[doc_id] == 0:\n",
    "                output[doc_id] = term_freq / doc_len\n",
    "            # this only applies with the BoW assumption (aka if len(query > 1))\n",
    "            else:\n",
    "                output[doc_id] *= term_freq / doc_len    \n",
    "    \n",
    "    return sorted(output.items(), key=lambda x: x[1], reverse=True)\n",
    "\n",
    "    \n",
    "naive_ql_search(\"report dkljfadlskjf\", index_set=1)[:5]"
   ]
  },
  {
   "cell_type": "code",
   "execution_count": 38,
   "metadata": {
    "deletable": false,
    "editable": false,
    "nbgrader": {
     "cell_type": "code",
     "checksum": "b550d15bdad28354c336020a00c33d56",
     "grade": true,
     "grade_id": "cell-5a83ac12ecde8578",
     "locked": true,
     "points": 3,
     "schema_version": 3,
     "solution": false,
     "task": false
    }
   },
   "outputs": [
    {
     "name": "stdout",
     "output_type": "stream",
     "text": [
      "Naive QL Results:\n",
      "Rank 0(0.2): A Report Writer For COBOL...\n",
      "Rank 1(0.2): A CRT Report Generating System...\n",
      "Rank 2(0.17): Preliminary Report-International Algebraic Languag...\n",
      "Rank 3(0.17): Supplement to the ALGOL 60 Report...\n",
      "Rank 4(0.14): ALGOL Sub-Committee Report - Extensions...\n"
     ]
    }
   ],
   "source": [
    "#### Function check\n",
    "test_naiveql = naive_ql_search(\"report\", index_set=1)[:5]\n",
    "print(f\"Naive QL Results:\")\n",
    "print_results(test_naiveql)\n",
    "####"
   ]
  },
  {
   "cell_type": "code",
   "execution_count": 39,
   "metadata": {
    "deletable": false,
    "editable": false,
    "nbgrader": {
     "cell_type": "code",
     "checksum": "799df1d81c63fe90edbb6c218fc707fb",
     "grade": true,
     "grade_id": "cell-80f4bf2137f997bb",
     "locked": true,
     "points": 2,
     "schema_version": 3,
     "solution": false,
     "task": false
    }
   },
   "outputs": [],
   "source": [
    "#### Please do not change this. This cell is used for grading."
   ]
  },
  {
   "cell_type": "code",
   "execution_count": 40,
   "metadata": {
    "deletable": false,
    "editable": false,
    "nbgrader": {
     "cell_type": "code",
     "checksum": "875a4a517d27e20625d41783cebec118",
     "grade": true,
     "grade_id": "cell-5ce2993458a8ce51",
     "locked": true,
     "points": 3,
     "schema_version": 3,
     "solution": false,
     "task": false
    }
   },
   "outputs": [],
   "source": [
    "#### Please do not change this. This cell is used for grading."
   ]
  },
  {
   "cell_type": "code",
   "execution_count": 41,
   "metadata": {
    "deletable": false,
    "editable": false,
    "nbgrader": {
     "cell_type": "code",
     "checksum": "d5c4e1c3852e71a46f32825b122f1b71",
     "grade": true,
     "grade_id": "cell-7753bdb54e292f3d",
     "locked": true,
     "points": 3,
     "schema_version": 3,
     "solution": false,
     "task": false
    }
   },
   "outputs": [],
   "source": [
    "#### Please do not change this. This cell is used for grading."
   ]
  },
  {
   "cell_type": "code",
   "execution_count": 42,
   "metadata": {
    "deletable": false,
    "editable": false,
    "nbgrader": {
     "cell_type": "code",
     "checksum": "c4d4332d4356e89ce0240f6b80e1899a",
     "grade": true,
     "grade_id": "cell-54e476e2f96e64bb",
     "locked": true,
     "points": 4,
     "schema_version": 3,
     "solution": false,
     "task": false
    }
   },
   "outputs": [],
   "source": [
    "#### Please do not change this. This cell is used for grading."
   ]
  },
  {
   "cell_type": "markdown",
   "metadata": {
    "deletable": false,
    "editable": false,
    "nbgrader": {
     "cell_type": "markdown",
     "checksum": "8d739dc91a22bd48897f603885f95a74",
     "grade": false,
     "grade_id": "cell-5414dfd69dab8b94",
     "locked": true,
     "schema_version": 3,
     "solution": false,
     "task": false
    }
   },
   "source": [
    "---\n",
    "#### 3.3.2 QL (20 points)\n",
    "Now, let's implement a QL model that handles the issues with the naive version. In particular, you will implement a QL model with Jelinek-Mercer Smoothing. That means an interpolated score is computed per word - one term is the same as the previous naive version, and the second term comes from a unigram language model. In addition, you should accumulate the scores by summing the **log** (smoothed) probability which leads to better numerical stability."
   ]
  },
  {
   "cell_type": "code",
   "execution_count": 43,
   "metadata": {
    "deletable": false,
    "nbgrader": {
     "cell_type": "code",
     "checksum": "b8c6abf937ad333e628f1db891f2e29e",
     "grade": false,
     "grade_id": "cell-bb1f506409771257",
     "locked": false,
     "schema_version": 3,
     "solution": true,
     "task": false
    }
   },
   "outputs": [
    {
     "data": {
      "text/plain": [
       "[('599', 0.2),\n",
       " ('2689', 0.2),\n",
       " ('1', 0.16666666666666666),\n",
       " ('947', 0.16666666666666666),\n",
       " ('65', 0.14285714285714285)]"
      ]
     },
     "execution_count": 43,
     "metadata": {},
     "output_type": "execute_result"
    }
   ],
   "source": [
    "# TODO: Implement this! (20 points)\n",
    "\n",
    "# WHAT DO WE NEED TO WRITE HERE?\n",
    "# raise NotImplementedError()\n",
    "\n",
    "def ql_search(query, index_set):\n",
    "    \"\"\"\n",
    "        Perform a search over all documents with the given query using a QL model \n",
    "        with Jelinek-Mercer Smoothing (set smoothing=0.1). \n",
    "        \n",
    "        \n",
    "        Note #1: You have to use the `get_index` (and get_doc_lengths) function created in the previous cells\n",
    "        Note #2: You might have to create some variables beforehand and use them in this function\n",
    "        \n",
    "        \n",
    "        Input: \n",
    "            query - a (unprocessed) query\n",
    "            index_set - the index to use\n",
    "        Output: a list of (document_id, score), sorted in descending relevance to the given query \n",
    "    \"\"\"\n",
    "    index = get_index(index_set)\n",
    "    doc_lengths = get_doc_lengths(index_set)\n",
    "    processed_query = preprocess_query(query, index_set)\n",
    "    \n",
    "    # create output dict with all doc_ids as keys and a 0 as value\n",
    "    output = {doc_id:float(0) for doc_id in doc_lengths.keys()}\n",
    "    \n",
    "    # variables needed for Jelinek-Mercer smoothing\n",
    "    cf = Counter() # frequency of word in all documents combined\n",
    "    cl = len(processed_query) # number of documents\n",
    "    smoothing = 0.1\n",
    "    \n",
    "    for word in processed_query:\n",
    "        # get term frequency of all doc_ids for word\n",
    "        tf_list = index[word]\n",
    "\n",
    "        for pair in tf_list:\n",
    "            doc_id = pair[0]\n",
    "            term_freq = pair[1]\n",
    "            doc_len = doc_lengths[doc_id]\n",
    "            \n",
    "            # first entry is naive\n",
    "            if output[doc_id] == 0:\n",
    "                output[doc_id] = term_freq / doc_len \n",
    "    \n",
    "            # using smoothing and summing the log (after first entry in query)\n",
    "            else:\n",
    "                output[doc_id] += np.log(smoothing * (term_freq / doc_len) + (1 - smoothing) * (cf[word] / cl))\n",
    "    \n",
    "    return sorted(output.items(), key=lambda x: x[1], reverse=True)\n",
    " \n",
    "ql_search(\"report\", index_set=1)[:5]"
   ]
  },
  {
   "cell_type": "code",
   "execution_count": 44,
   "metadata": {
    "deletable": false,
    "editable": false,
    "nbgrader": {
     "cell_type": "code",
     "checksum": "0b12a7f3355193a257fd9f5f69a66562",
     "grade": true,
     "grade_id": "cell-850e9d6369bcec32",
     "locked": true,
     "points": 4,
     "schema_version": 3,
     "solution": false,
     "task": false
    }
   },
   "outputs": [
    {
     "name": "stdout",
     "output_type": "stream",
     "text": [
      "Rank 0(0.2): A Report Writer For COBOL...\n",
      "Rank 1(0.2): A CRT Report Generating System...\n",
      "Rank 2(0.17): Preliminary Report-International Algebraic Languag...\n",
      "Rank 3(0.17): Supplement to the ALGOL 60 Report...\n",
      "Rank 4(0.14): ALGOL Sub-Committee Report - Extensions...\n",
      "\n",
      "Rank 0(0.0): Extraction of Roots by Repeated Subtractions for D...\n",
      "Rank 1(0.0): Techniques Department on Matrix Program Schemes...\n",
      "Rank 2(0.0): Glossary of Computer Engineering and Programming T...\n",
      "Rank 3(0.0): Two Square-Root Approximations...\n",
      "Rank 4(0.0): The Use of Computers in Inspection Procedures...\n"
     ]
    }
   ],
   "source": [
    "#### Function check\n",
    "test_ql_results = ql_search(\"report\", index_set=1)[:5]\n",
    "print_results(test_ql_results)\n",
    "print()\n",
    "test_ql_results_long = ql_search(\"report \" * 10, index_set=1)[:5]\n",
    "print_results(test_ql_results_long)\n",
    "####"
   ]
  },
  {
   "cell_type": "code",
   "execution_count": 45,
   "metadata": {
    "deletable": false,
    "editable": false,
    "nbgrader": {
     "cell_type": "code",
     "checksum": "e40be645140389c115849856145f5b59",
     "grade": true,
     "grade_id": "cell-958cdcf6fd6899b7",
     "locked": true,
     "points": 3,
     "schema_version": 3,
     "solution": false,
     "task": false
    }
   },
   "outputs": [],
   "source": [
    "#### Please do not change this. This cell is used for grading."
   ]
  },
  {
   "cell_type": "code",
   "execution_count": 46,
   "metadata": {
    "deletable": false,
    "editable": false,
    "nbgrader": {
     "cell_type": "code",
     "checksum": "41d4aff001df17e7963ba79b45810b30",
     "grade": true,
     "grade_id": "cell-384dc23a0c251f6e",
     "locked": true,
     "points": 4,
     "schema_version": 3,
     "solution": false,
     "task": false
    }
   },
   "outputs": [],
   "source": [
    "#### Please do not change this. This cell is used for grading."
   ]
  },
  {
   "cell_type": "code",
   "execution_count": 47,
   "metadata": {
    "deletable": false,
    "editable": false,
    "nbgrader": {
     "cell_type": "code",
     "checksum": "893e8c5a073abc8ebb763d267b91bc02",
     "grade": true,
     "grade_id": "cell-7218966cba5097cc",
     "locked": true,
     "points": 4,
     "schema_version": 3,
     "solution": false,
     "task": false
    }
   },
   "outputs": [],
   "source": [
    "#### Please do not change this. This cell is used for grading."
   ]
  },
  {
   "cell_type": "code",
   "execution_count": 48,
   "metadata": {
    "deletable": false,
    "editable": false,
    "nbgrader": {
     "cell_type": "code",
     "checksum": "f99cb6f8b1f5830aaed8f06712ff846e",
     "grade": true,
     "grade_id": "cell-481ab073259ae53f",
     "locked": true,
     "points": 5,
     "schema_version": 3,
     "solution": false,
     "task": false
    }
   },
   "outputs": [],
   "source": [
    "#### Please do not change this. This cell is used for grading."
   ]
  },
  {
   "cell_type": "markdown",
   "metadata": {
    "deletable": false,
    "editable": false,
    "nbgrader": {
     "cell_type": "markdown",
     "checksum": "c02f14705d679579b1aa9f78f54779d5",
     "grade": false,
     "grade_id": "cell-f44088bfdac1dc90",
     "locked": true,
     "schema_version": 3,
     "solution": false,
     "task": false
    }
   },
   "source": [
    "--- \n",
    "\n",
    "### Section 3.4: BM25 (20 points) <a class=\"anchor\" id=\"bm25\"></a>\n",
    "\n",
    "In this section, we will implement the BM25 scoring function. \n"
   ]
  },
  {
   "cell_type": "code",
   "execution_count": 49,
   "metadata": {
    "deletable": false,
    "nbgrader": {
     "cell_type": "code",
     "checksum": "e57efe06ea92af1c83784a42eb3d86e0",
     "grade": false,
     "grade_id": "cell-15640fc9b5d00a3c",
     "locked": false,
     "schema_version": 3,
     "solution": true,
     "task": false
    }
   },
   "outputs": [
    {
     "data": {
      "text/plain": [
       "[('599', 6.670850051170776),\n",
       " ('2689', 6.670850051170776),\n",
       " ('1', 6.588585274553996),\n",
       " ('947', 6.588585274553996),\n",
       " ('65', 6.508324756311132)]"
      ]
     },
     "execution_count": 49,
     "metadata": {},
     "output_type": "execute_result"
    }
   ],
   "source": [
    "# TODO: Implement this! (20 points)\n",
    "def bm25_search(query, index_set):\n",
    "    \"\"\"\n",
    "        Perform a search over all documents with the given query using BM25. Use k_1 = 1.5 and b = 0.75\n",
    "        Note #1: You have to use the `get_index` (and `get_doc_lengths`) function created in the previous cells\n",
    "        Note #2: You might have to create some variables beforehand and use them in this function\n",
    "        \n",
    "        Input: \n",
    "            query - a (unprocessed) query\n",
    "            index_set - the index to use\n",
    "        Output: a list of (document_id, score), sorted in descending relevance to the given query \n",
    "    \"\"\"\n",
    "    \n",
    "    index = get_index(index_set)\n",
    "    df = get_df(index_set)\n",
    "    doc_lengths = get_doc_lengths(index_set)\n",
    "    processed_query = preprocess_query(query, index_set)\n",
    "    \n",
    "    # create output dict with all doc_ids as keys and a 0 as value\n",
    "    output = {doc_id:float(0) for doc_id in doc_lengths.keys()}\n",
    "    \n",
    "    # set parameters\n",
    "    k_1 = 1.5\n",
    "    b = 0.75\n",
    "    dl_avg = np.mean(list(doc_lengths.values()))\n",
    "    N = len(doc_lengths)\n",
    "    \n",
    "    # function that computes the BM25 score\n",
    "    def function(df, term_freq, doc_len):\n",
    "        p1 = np.log(N / df)\n",
    "        p2 = (k_1 + 1) * term_freq\n",
    "        p3 = k_1 * ((1 - b) + b * (doc_len / dl_avg)) + term_freq\n",
    "        \n",
    "        return p1 * (p2 / p3)\n",
    "    \n",
    "    \n",
    "    for word in processed_query:\n",
    "        tf_list = index[word]\n",
    "\n",
    "        for pair in tf_list:\n",
    "            doc_id = pair[0]\n",
    "            term_freq = pair[1]\n",
    "            doc_len = doc_lengths[doc_id]\n",
    "            \n",
    "            if output[doc_id] == 0:\n",
    "                output[doc_id] = function(df[word], term_freq, doc_len)\n",
    "            else:\n",
    "                output[doc_id] += function(df[word], term_freq, doc_len)\n",
    "    \n",
    "    \n",
    "    return sorted(output.items(), key=lambda x: x[1], reverse=True)\n",
    "\n",
    "bm25_search(\"report\", index_set=1)[:5]"
   ]
  },
  {
   "cell_type": "code",
   "execution_count": 50,
   "metadata": {
    "deletable": false,
    "editable": false,
    "nbgrader": {
     "cell_type": "code",
     "checksum": "4be9de5d4e94637960d83725422bea6c",
     "grade": true,
     "grade_id": "cell-d10536bca72c74b1",
     "locked": true,
     "points": 3,
     "schema_version": 3,
     "solution": false,
     "task": false
    }
   },
   "outputs": [
    {
     "name": "stdout",
     "output_type": "stream",
     "text": [
      "Rank 0(6.7): A Report Writer For COBOL...\n",
      "Rank 1(6.7): A CRT Report Generating System...\n",
      "Rank 2(6.6): Preliminary Report-International Algebraic Languag...\n",
      "Rank 3(6.6): Supplement to the ALGOL 60 Report...\n",
      "Rank 4(6.5): ALGOL Sub-Committee Report - Extensions...\n"
     ]
    }
   ],
   "source": [
    "#### Function check\n",
    "test_bm25_results = bm25_search(\"report\", index_set=1)[:5]\n",
    "print_results(test_bm25_results)\n",
    "####"
   ]
  },
  {
   "cell_type": "code",
   "execution_count": 51,
   "metadata": {
    "deletable": false,
    "editable": false,
    "nbgrader": {
     "cell_type": "code",
     "checksum": "31b550d6a46ae4f8ede88788799ac2b9",
     "grade": true,
     "grade_id": "cell-60f6ec5052712d79",
     "locked": true,
     "points": 5,
     "schema_version": 3,
     "solution": false,
     "task": false
    }
   },
   "outputs": [],
   "source": [
    "#### Please do not change this. This cell is used for grading."
   ]
  },
  {
   "cell_type": "code",
   "execution_count": 52,
   "metadata": {
    "deletable": false,
    "editable": false,
    "nbgrader": {
     "cell_type": "code",
     "checksum": "3da2ec16bfe781916e71755d65aa2983",
     "grade": true,
     "grade_id": "cell-5d17524043a5abcc",
     "locked": true,
     "points": 5,
     "schema_version": 3,
     "solution": false,
     "task": false
    }
   },
   "outputs": [],
   "source": [
    "#### Please do not change this. This cell is used for grading."
   ]
  },
  {
   "cell_type": "code",
   "execution_count": 53,
   "metadata": {
    "deletable": false,
    "editable": false,
    "nbgrader": {
     "cell_type": "code",
     "checksum": "e7b563d54fa84c20909c0ae107010541",
     "grade": true,
     "grade_id": "cell-ff8e704eda1184e3",
     "locked": true,
     "points": 3,
     "schema_version": 3,
     "solution": false,
     "task": false
    }
   },
   "outputs": [],
   "source": [
    "#### Please do not change this. This cell is used for grading."
   ]
  },
  {
   "cell_type": "code",
   "execution_count": 54,
   "metadata": {
    "deletable": false,
    "editable": false,
    "nbgrader": {
     "cell_type": "code",
     "checksum": "b013f90974b396630a8831d6f1d7e5f7",
     "grade": true,
     "grade_id": "cell-a52310500a2543cb",
     "locked": true,
     "points": 4,
     "schema_version": 3,
     "solution": false,
     "task": false
    }
   },
   "outputs": [],
   "source": [
    "#### Please do not change this. This cell is used for grading."
   ]
  },
  {
   "cell_type": "markdown",
   "metadata": {
    "deletable": false,
    "editable": false,
    "nbgrader": {
     "cell_type": "markdown",
     "checksum": "8fcf67cb7d5e8b26cb9bf1f0aa42c847",
     "grade": false,
     "grade_id": "cell-8b2b412c81d62f2d",
     "locked": true,
     "schema_version": 3,
     "solution": false,
     "task": false
    }
   },
   "source": [
    "\n",
    "---\n",
    "\n",
    "### 3.5. Test Your Functions\n",
    "\n",
    "The widget below allows you to play with the search functions you've written so far. Use this to test your search functions and ensure that they work as expected."
   ]
  },
  {
   "cell_type": "code",
   "execution_count": 55,
   "metadata": {
    "deletable": false,
    "editable": false,
    "nbgrader": {
     "cell_type": "code",
     "checksum": "dfeb204b390acc0794dbdcac92b0cf2c",
     "grade": false,
     "grade_id": "cell-c9c2bb76354e8d97",
     "locked": true,
     "schema_version": 3,
     "solution": false,
     "task": false
    }
   },
   "outputs": [],
   "source": [
    "#### Highlighter function\n",
    "# class for results\n",
    "ResultRow = namedtuple(\"ResultRow\", [\"doc_id\", \"snippet\", \"score\"])\n",
    "# doc_id -> doc\n",
    "docs_by_id = dict((d[0], d[1]) for d in docs)\n",
    "\n",
    "def highlight_text(document, query, tol=17):\n",
    "    import re\n",
    "    tokens = tokenize(query)\n",
    "    regex = \"|\".join(f\"(\\\\b{t}\\\\b)\" for t in tokens)\n",
    "    regex = re.compile(regex, flags=re.IGNORECASE)\n",
    "    output = \"\"\n",
    "    i = 0\n",
    "    for m in regex.finditer(document):\n",
    "        start_idx = max(0, m.start() - tol)\n",
    "        end_idx = min(len(document), m.end() + tol)\n",
    "        output += \"\".join([\"...\",\n",
    "                        document[start_idx:m.start()],\n",
    "                        \"<strong>\",\n",
    "                        document[m.start():m.end()],\n",
    "                        \"</strong>\",\n",
    "                        document[m.end():end_idx],\n",
    "                        \"...\"])\n",
    "    return output.replace(\"\\n\", \" \")\n",
    "\n",
    "\n",
    "def make_results(query, search_fn, index_set):\n",
    "    results = []\n",
    "    for doc_id, score in search_fn(query, index_set):\n",
    "        highlight = highlight_text(docs_by_id[doc_id], query)\n",
    "        if len(highlight.strip()) == 0:\n",
    "            highlight = docs_by_id[doc_id]\n",
    "        results.append(ResultRow(doc_id, highlight, score))\n",
    "    return results\n",
    "####"
   ]
  },
  {
   "cell_type": "code",
   "execution_count": 56,
   "metadata": {},
   "outputs": [
    {
     "data": {
      "application/vnd.jupyter.widget-view+json": {
       "model_id": "0a8f56c9ba344b3790bd7c321e036796",
       "version_major": 2,
       "version_minor": 0
      },
      "text/plain": [
       "Text(value='', description='Search Bar')"
      ]
     },
     "metadata": {},
     "output_type": "display_data"
    }
   ],
   "source": [
    "# TODO: Set this to the function you want to test!\n",
    "# this function should take in a query (string)\n",
    "# and return a sorted list of (doc_id, score) \n",
    "# with the most relevant document in the first position\n",
    "search_fn = bm25_search\n",
    "index_set = 1\n",
    "\n",
    "text = widgets.Text(description=\"Search Bar\", width=200)\n",
    "display(text)\n",
    "\n",
    "def handle_submit(sender):\n",
    "    print(f\"Searching for: '{sender.value}'\")\n",
    "    \n",
    "    results = make_results(sender.value, search_fn, index_set)\n",
    "    \n",
    "    # display only the top 5\n",
    "    results = results[:5]\n",
    "    \n",
    "    body = \"\"\n",
    "    for idx, r in enumerate(results):\n",
    "        body += f\"<li>Document #{r.doc_id}({r.score}): {r.snippet}</li>\"\n",
    "    display(HTML(f\"<ul>{body}</ul>\"))\n",
    "    \n",
    "\n",
    "text.on_submit(handle_submit)"
   ]
  },
  {
   "cell_type": "markdown",
   "metadata": {
    "deletable": false,
    "editable": false,
    "nbgrader": {
     "cell_type": "markdown",
     "checksum": "019b1ff878dc6339dd068e2d48d19904",
     "grade": false,
     "grade_id": "cell-8d46fe8e4f3d8cdb",
     "locked": true,
     "schema_version": 3,
     "solution": false,
     "task": false
    }
   },
   "source": [
    "---\n",
    "\n",
    "## Section 4: Evaluation (40 points) <a class=\"anchor\" id=\"evaluation\"></a>\n",
    "\n",
    "[Back to Part 1](#part1)\n",
    "\n",
    "In order to analyze the effectiveness of retrieval algorithms, we first have to learn how to evaluate such a system. In particular, we will work with offline evaluation metrics. These metrics are computed on a dataset with known relevance judgements.\n",
    "\n",
    "Implement the following evaluation metrics. \n",
    "\n",
    "1. Precision (7 points)\n",
    "2. Recall (7 points)\n",
    "3. Mean Average Precision (13 points)\n",
    "4. Expected Reciprocal Rank (13 points)"
   ]
  },
  {
   "cell_type": "markdown",
   "metadata": {
    "deletable": false,
    "editable": false,
    "nbgrader": {
     "cell_type": "markdown",
     "checksum": "e46f54c7f81d88bbc950b0fae14c4ca5",
     "grade": false,
     "grade_id": "cell-3419fd3bc663d7cc",
     "locked": true,
     "schema_version": 3,
     "solution": false,
     "task": false
    }
   },
   "source": [
    "---\n",
    "### 4.1 Read relevance labels\n",
    "\n",
    "Let's take a look at the `qrels.text` file, which contains the ground truth relevance scores. The relevance labels for CACM are binary - either 0 or 1. \n"
   ]
  },
  {
   "cell_type": "code",
   "execution_count": null,
   "metadata": {
    "deletable": false,
    "editable": false,
    "nbgrader": {
     "cell_type": "code",
     "checksum": "6c11025f5a222796f2882c73c1634799",
     "grade": false,
     "grade_id": "cell-6b738366059dde9e",
     "locked": true,
     "schema_version": 3,
     "solution": false,
     "task": false
    }
   },
   "outputs": [],
   "source": [
    "!head ./datasets/qrels.text"
   ]
  },
  {
   "cell_type": "markdown",
   "metadata": {
    "deletable": false,
    "editable": false,
    "nbgrader": {
     "cell_type": "markdown",
     "checksum": "7ce95245c1597183320d7254afde5c8e",
     "grade": false,
     "grade_id": "cell-10e16bff2753ffbb",
     "locked": true,
     "schema_version": 3,
     "solution": false,
     "task": false
    }
   },
   "source": [
    "---\n",
    "\n",
    "The first column is the query_id and the second column is the document_id. We can safely ignore the 3rd and 4th columns."
   ]
  },
  {
   "cell_type": "code",
   "execution_count": null,
   "metadata": {
    "deletable": false,
    "nbgrader": {
     "cell_type": "code",
     "checksum": "000c6d59dce08dba0ba1e8d691dbbc2e",
     "grade": false,
     "grade_id": "cell-ee5253a4ef602fce",
     "locked": false,
     "schema_version": 3,
     "solution": true,
     "task": false
    }
   },
   "outputs": [],
   "source": [
    "# YOUR CODE HERE\n",
    "raise NotImplementedError()"
   ]
  },
  {
   "cell_type": "code",
   "execution_count": null,
   "metadata": {
    "deletable": false,
    "editable": false,
    "nbgrader": {
     "cell_type": "code",
     "checksum": "d60caeba85c2a97d2211184a5ae91fd1",
     "grade": false,
     "grade_id": "cell-72215605fbe24f65",
     "locked": true,
     "schema_version": 3,
     "solution": false,
     "task": false
    }
   },
   "outputs": [],
   "source": [
    "#### Function check\n",
    "qrels = read_qrels()\n",
    "\n",
    "assert len(qrels) == 52, \"There should be 52 queries with relevance judgements\"\n",
    "assert sum(len(j) for j in qrels.values()) == 796, \"There should be a total of 796 Relevance Judgements\"\n",
    "\n",
    "assert np.min(np.array([len(j) for j in qrels.values()])) == 1\n",
    "assert np.max(np.array([len(j) for j in qrels.values()])) == 51\n",
    "\n",
    "####"
   ]
  },
  {
   "cell_type": "markdown",
   "metadata": {
    "deletable": false,
    "editable": false,
    "nbgrader": {
     "cell_type": "markdown",
     "checksum": "6c9e7428a52e291a2cdf92a379730d4c",
     "grade": false,
     "grade_id": "cell-176a6fb2939d0420",
     "locked": true,
     "schema_version": 3,
     "solution": false,
     "task": false
    }
   },
   "source": [
    "---\n",
    "**Note:** For a given query `query_id`, you can assume that documents *not* in `qrels[query_id]` are not relevant to `query_id`. \n"
   ]
  },
  {
   "cell_type": "markdown",
   "metadata": {
    "deletable": false,
    "editable": false,
    "nbgrader": {
     "cell_type": "markdown",
     "checksum": "b26a818c7b4f7ad490e00b35ea0edd69",
     "grade": false,
     "grade_id": "cell-bd8341b72cdd89bb",
     "locked": true,
     "schema_version": 3,
     "solution": false,
     "task": false
    }
   },
   "source": [
    "---\n",
    "### 4.2 Precision (7 points)\n",
    "Implement the `precision@k` metric:"
   ]
  },
  {
   "cell_type": "code",
   "execution_count": null,
   "metadata": {
    "deletable": false,
    "nbgrader": {
     "cell_type": "code",
     "checksum": "43dea1979ebdec24ffcfeff71c670433",
     "grade": false,
     "grade_id": "cell-494bd0cce108ed67",
     "locked": false,
     "schema_version": 3,
     "solution": true,
     "task": false
    }
   },
   "outputs": [],
   "source": [
    "# TODO: Implement this! (7 points)\n",
    "def precision_k(results, relevant_docs, k):\n",
    "    \"\"\"\n",
    "        Compute Precision@K\n",
    "        Input: \n",
    "            results: A sorted list of 2-tuples (document_id, score), \n",
    "                    with the most relevant document in the first position\n",
    "            relevant_docs: A set of relevant documents. \n",
    "            k: the cut-off\n",
    "        Output: Precision@K\n",
    "    \"\"\"\n",
    "    if k > len(results):\n",
    "        k = len(results)\n",
    "    # YOUR CODE HERE\n",
    "    raise NotImplementedError()"
   ]
  },
  {
   "cell_type": "code",
   "execution_count": null,
   "metadata": {
    "deletable": false,
    "editable": false,
    "nbgrader": {
     "cell_type": "code",
     "checksum": "9222e35582b1840ffb60fd02fb0b60c3",
     "grade": true,
     "grade_id": "cell-e7ff0d91c319ca64",
     "locked": true,
     "points": 7,
     "schema_version": 3,
     "solution": false,
     "task": false
    }
   },
   "outputs": [],
   "source": [
    "\n",
    "#### Function check\n",
    "qid = queries[0][0]\n",
    "qtext = queries[0][1]\n",
    "print(f'query:{qtext}')\n",
    "results = bm25_search(qtext, 2)\n",
    "precision = precision_k(results, qrels[qid], 10)\n",
    "print(f'precision@10 = {precision}')\n",
    "####"
   ]
  },
  {
   "cell_type": "markdown",
   "metadata": {
    "deletable": false,
    "editable": false,
    "nbgrader": {
     "cell_type": "markdown",
     "checksum": "8fd3b3998197c7097a40348500affb68",
     "grade": false,
     "grade_id": "cell-afd95f865bc7191e",
     "locked": true,
     "schema_version": 3,
     "solution": false,
     "task": false
    }
   },
   "source": [
    "---\n",
    "### 4.3 Recall (7 points)\n",
    "Implement the `recall@k` metric:"
   ]
  },
  {
   "cell_type": "code",
   "execution_count": null,
   "metadata": {
    "deletable": false,
    "nbgrader": {
     "cell_type": "code",
     "checksum": "b2020e5741ae03b3fe35817ed8f4ccaa",
     "grade": false,
     "grade_id": "cell-c323fc8c3f8a7cf8",
     "locked": false,
     "schema_version": 3,
     "solution": true,
     "task": false
    }
   },
   "outputs": [],
   "source": [
    "# TODO: Implement this! (7 points)\n",
    "def recall_k(results, relevant_docs, k):\n",
    "    \"\"\"\n",
    "        Compute Recall@K\n",
    "        Input: \n",
    "            results: A sorted list of 2-tuples (document_id, score), with the most relevant document in the first position\n",
    "            relevant_docs: A set of relevant documents. \n",
    "            k: the cut-off\n",
    "        Output: Recall@K\n",
    "    \"\"\"\n",
    "    # YOUR CODE HERE\n",
    "    raise NotImplementedError()"
   ]
  },
  {
   "cell_type": "code",
   "execution_count": null,
   "metadata": {
    "deletable": false,
    "editable": false,
    "nbgrader": {
     "cell_type": "code",
     "checksum": "56b6e0b8522f8b2dffbfb3206b2efa84",
     "grade": true,
     "grade_id": "cell-b25172161aef165c",
     "locked": true,
     "points": 7,
     "schema_version": 3,
     "solution": false,
     "task": false
    }
   },
   "outputs": [],
   "source": [
    "#### Function check\n",
    "qid = queries[10][0]\n",
    "qtext = queries[10][1]\n",
    "print(f'query:{qtext}')\n",
    "results = bm25_search(qtext, 2)\n",
    "recall = recall_k(results, qrels[qid], 10)\n",
    "print(f'recall@10 = {recall}')\n",
    "####"
   ]
  },
  {
   "cell_type": "markdown",
   "metadata": {
    "deletable": false,
    "editable": false,
    "nbgrader": {
     "cell_type": "markdown",
     "checksum": "b3d3c7bd1cd977cd07ef5df7d3fbf159",
     "grade": false,
     "grade_id": "cell-77fd2e7a39a74739",
     "locked": true,
     "schema_version": 3,
     "solution": false,
     "task": false
    }
   },
   "source": [
    "---\n",
    "### 4.4 Mean Average Precision (13 points)\n",
    "Implement the `map` metric:"
   ]
  },
  {
   "cell_type": "code",
   "execution_count": null,
   "metadata": {
    "deletable": false,
    "nbgrader": {
     "cell_type": "code",
     "checksum": "aae2c62f2ffd76f5b6c004e9519b9f14",
     "grade": false,
     "grade_id": "cell-e50925fa9093a30d",
     "locked": false,
     "schema_version": 3,
     "solution": true,
     "task": false
    }
   },
   "outputs": [],
   "source": [
    "# TODO: Implement this! (12 points)\n",
    "def average_precision(results, relevant_docs):\n",
    "    \"\"\"\n",
    "        Compute Average Precision (for a single query - the results are \n",
    "        averaged across queries to get MAP in the next few cells)\n",
    "        Hint: You can use the recall_k and precision_k functions here!\n",
    "        Input: \n",
    "            results: A sorted list of 2-tuples (document_id, score), with the most \n",
    "                    relevant document in the first position\n",
    "            relevant_docs: A set of relevant documents. \n",
    "        Output: Average Precision\n",
    "    \"\"\"\n",
    "    # YOUR CODE HERE\n",
    "    raise NotImplementedError()\n"
   ]
  },
  {
   "cell_type": "code",
   "execution_count": null,
   "metadata": {
    "deletable": false,
    "editable": false,
    "nbgrader": {
     "cell_type": "code",
     "checksum": "3b00e147c2fa146fa59f179b7c9cab75",
     "grade": true,
     "grade_id": "cell-8a1f7ec98571e58b",
     "locked": true,
     "points": 13,
     "schema_version": 3,
     "solution": false,
     "task": false
    }
   },
   "outputs": [],
   "source": [
    "#### Function check\n",
    "qid = queries[20][0]\n",
    "qtext = queries[20][1]\n",
    "print(f'query:{qtext}')\n",
    "results = bm25_search(qtext, 2)\n",
    "mean_ap = average_precision(results, qrels[qid])\n",
    "print(f'MAP = {mean_ap}')\n",
    "####"
   ]
  },
  {
   "cell_type": "markdown",
   "metadata": {
    "deletable": false,
    "editable": false,
    "nbgrader": {
     "cell_type": "markdown",
     "checksum": "36f85f45ef52d9467ba9a717d6d99ff2",
     "grade": false,
     "grade_id": "cell-1da18f0fe6f6d7be",
     "locked": true,
     "schema_version": 3,
     "solution": false,
     "task": false
    }
   },
   "source": [
    "---\n",
    "### 4.5 Expected Reciprocal Rank (13 points)\n",
    "Implement the `err` metric:"
   ]
  },
  {
   "cell_type": "code",
   "execution_count": null,
   "metadata": {
    "deletable": false,
    "nbgrader": {
     "cell_type": "code",
     "checksum": "9ac94db728e23ea1f5dc0d509473c6fb",
     "grade": false,
     "grade_id": "cell-64262889f9b267ea",
     "locked": false,
     "schema_version": 3,
     "solution": true,
     "task": false
    }
   },
   "outputs": [],
   "source": [
    "# TODO: Implement this! (12 points)\n",
    "def err(results, relevant_docs):\n",
    "    \"\"\"\n",
    "        Compute the expected reciprocal rank.\n",
    "        Hint: https://dl.acm.org/doi/pdf/10.1145/1645953.1646033?download=true\n",
    "        Input: \n",
    "            results: A sorted list of 2-tuples (document_id, score), with the most \n",
    "                    relevant document in the first position\n",
    "            relevant_docs: A set of relevant documents. \n",
    "        Output: ERR\n",
    "        \n",
    "    \"\"\"\n",
    "    # YOUR CODE HERE\n",
    "    raise NotImplementedError()"
   ]
  },
  {
   "cell_type": "code",
   "execution_count": null,
   "metadata": {
    "deletable": false,
    "editable": false,
    "nbgrader": {
     "cell_type": "code",
     "checksum": "b7d201de0990b69d5f38704668665d87",
     "grade": true,
     "grade_id": "cell-071e3970ff1afae4",
     "locked": true,
     "points": 13,
     "schema_version": 3,
     "solution": false,
     "task": false
    }
   },
   "outputs": [],
   "source": [
    "#### Function check\n",
    "qid = queries[30][0]\n",
    "qtext = queries[30][1]\n",
    "print(f'query:{qtext}')\n",
    "results = bm25_search(qtext, 2)\n",
    "ERR = err(results, qrels[qid])\n",
    "print(f'ERR = {ERR}')\n",
    "####"
   ]
  },
  {
   "cell_type": "markdown",
   "metadata": {
    "deletable": false,
    "editable": false,
    "nbgrader": {
     "cell_type": "markdown",
     "checksum": "5bd94caf77cfa5f34675df758d91002d",
     "grade": false,
     "grade_id": "cell-43709a765f353946",
     "locked": true,
     "schema_version": 3,
     "solution": false,
     "task": false
    }
   },
   "source": [
    "---\n",
    "### 4.6 Evaluate Search Functions\n",
    "\n",
    "Let's define some metrics@k using [partial functions](https://docs.python.org/3/library/functools.html#functools.partial)"
   ]
  },
  {
   "cell_type": "code",
   "execution_count": null,
   "metadata": {
    "deletable": false,
    "editable": false,
    "nbgrader": {
     "cell_type": "code",
     "checksum": "49ccc158e5fb7340ace55e90eeb9d62a",
     "grade": false,
     "grade_id": "cell-dab560e18e340da8",
     "locked": true,
     "schema_version": 3,
     "solution": false,
     "task": false
    }
   },
   "outputs": [],
   "source": [
    "#### metrics@k functions\n",
    "\n",
    "recall_at_1 = partial(recall_k, k=1)\n",
    "recall_at_5 = partial(recall_k, k=5)\n",
    "recall_at_10 = partial(recall_k, k=10)\n",
    "precision_at_1 = partial(precision_k, k=1)\n",
    "precision_at_5 = partial(precision_k, k=5)\n",
    "precision_at_10 = partial(precision_k, k=10)\n",
    "\n",
    "\n",
    "list_of_metrics = [\n",
    "    (\"ERR\", err),\n",
    "    (\"MAP\", average_precision),\n",
    "    (\"Recall@1\",recall_at_1),\n",
    "    (\"Recall@5\", recall_at_5),\n",
    "    (\"Recall@10\", recall_at_10),\n",
    "    (\"Precision@1\", precision_at_1),\n",
    "    (\"Precision@5\", precision_at_5),\n",
    "    (\"Precision@10\", precision_at_10)]\n",
    "####"
   ]
  },
  {
   "cell_type": "markdown",
   "metadata": {
    "deletable": false,
    "editable": false,
    "nbgrader": {
     "cell_type": "markdown",
     "checksum": "fb541002c03221b453b8936290020ea5",
     "grade": false,
     "grade_id": "cell-580a2bdc66d03b47",
     "locked": true,
     "schema_version": 3,
     "solution": false,
     "task": false
    }
   },
   "source": [
    "---\n",
    "\n",
    "The following function evaluates a `search_fn` using the `metric_fn`. Note that the final number is averaged over all the queries"
   ]
  },
  {
   "cell_type": "code",
   "execution_count": null,
   "metadata": {},
   "outputs": [],
   "source": [
    "#### Evaluate a search function\n",
    "\n",
    "list_of_search_fns = [\n",
    "    (\"BOW\", bow_search),\n",
    "    (\"TF-IDF\", tfidf_search),\n",
    "    (\"NaiveQL\", naive_ql_search),\n",
    "    (\"QL\", ql_search),\n",
    "    (\"BM25\", bm25_search)\n",
    "]\n",
    "\n",
    "def evaluate_search_fn(search_fn, metric_fns, index_set=None):\n",
    "    # build a dict query_id -> query \n",
    "    queries_by_id = dict((q[0], q[1]) for q in queries)\n",
    "    \n",
    "    metrics = {}\n",
    "    for metric, metric_fn in metric_fns:\n",
    "        metrics[metric] = np.zeros(len(qrels), dtype=np.float32)\n",
    "    \n",
    "    for i, (query_id, relevant_docs) in enumerate(qrels.items()):\n",
    "        query = queries_by_id[query_id]\n",
    "        if index_set:\n",
    "            results = search_fn(query, index_set)\n",
    "        else:\n",
    "            results = search_fn(query)\n",
    "        \n",
    "        for metric, metric_fn in metric_fns:\n",
    "            metrics[metric][i] = metric_fn(results, relevant_docs)\n",
    "\n",
    "    \n",
    "    \n",
    "    final_dict = {}\n",
    "    for metric, metric_vals in metrics.items():\n",
    "        final_dict[metric] = metric_vals.mean()\n",
    "    \n",
    "    return final_dict\n",
    "####"
   ]
  },
  {
   "cell_type": "markdown",
   "metadata": {
    "deletable": false,
    "editable": false,
    "nbgrader": {
     "cell_type": "markdown",
     "checksum": "6ea67534f74a8f81e1f504794f641709",
     "grade": false,
     "grade_id": "cell-b156d83a0649cbb4",
     "locked": true,
     "schema_version": 3,
     "solution": false,
     "task": false
    }
   },
   "source": [
    "## Section 5: Analysis (30 points) <a class=\"anchor\" id=\"analysis\"></a>\n",
    "\n",
    "[Back to Part 1](#part1)\n",
    "\n",
    "In the final section of Part1, we will compare the different term-based IR algorithms and different preprocessing configurations and analyze their advantages and disadvantages.\n",
    "\n",
    "### Section 5.1: Plot (20 points)\n",
    "\n",
    "First, gather the results. The results should consider the index set, the different search functions and different metrics. Plot the results in bar charts, per metric, with clear labels.\n",
    "\n",
    "**Rubric:**\n",
    "- Each Metric is plotted: 7 points\n",
    "- Each Method is plotted: 7 points\n",
    "- Clear titles, x label, y labels and legends (if applicable): 6 points"
   ]
  },
  {
   "cell_type": "code",
   "execution_count": null,
   "metadata": {
    "deletable": false,
    "nbgrader": {
     "cell_type": "code",
     "checksum": "7e2588a925d13ddf588abe8311dc9cfc",
     "grade": true,
     "grade_id": "cell-46fda42a25863a04",
     "locked": false,
     "points": 20,
     "schema_version": 3,
     "solution": true,
     "task": false
    }
   },
   "outputs": [],
   "source": [
    "# YOUR CODE HERE\n",
    "raise NotImplementedError()"
   ]
  },
  {
   "cell_type": "markdown",
   "metadata": {
    "deletable": false,
    "editable": false,
    "nbgrader": {
     "cell_type": "markdown",
     "checksum": "e88c444a0acf4e398c65e289169b75f7",
     "grade": false,
     "grade_id": "cell-8aabe3bcf265deb0",
     "locked": true,
     "points": 10,
     "schema_version": 3,
     "solution": false,
     "task": true
    }
   },
   "source": [
    "---\n",
    "### Section 5.2: Summary (10 points)\n",
    "Write a summary of what you observe in the results.\n",
    "Your summary should compare results across the 2 indices and the methods being used. State what you expected to see in the results, followed by either supporting evidence *or* justify why the results did not support your expectations.      "
   ]
  },
  {
   "cell_type": "markdown",
   "metadata": {},
   "source": [
    "Write your answer here!"
   ]
  },
  {
   "cell_type": "markdown",
   "metadata": {
    "deletable": false,
    "editable": false,
    "nbgrader": {
     "cell_type": "markdown",
     "checksum": "b3eb77be74eecca205fc7b47316d1627",
     "grade": false,
     "grade_id": "cell-bb60dd5c092d0f2e",
     "locked": true,
     "schema_version": 3,
     "solution": false,
     "task": false
    }
   },
   "source": [
    "---\n",
    "---\n",
    "# Part 2: Semantic-based Matching (85 points) <a class=\"anchor\" id=\"part2\"></a>\n",
    "\n",
    "[Back to top](#top)\n",
    "\n",
    "We will now experiment with methods that go beyond lexical methods like TF-IDF, which operate at the word level and are high dimensional and sparse, and look at methods which constructs low dimensional dense representations of queries and documents. \n",
    "\n",
    "Since these low-dimensional methods have a higher time complexity, they are typically used in conjunction with methods like BM-25. That is, instead of searching through potentially million documents to find matches using low dimensional vectors, a list of K documents are retrieved using BM25, and then **re-ranked** using the other method. This is the method that is going to be applied in the following exercises. \n",
    "\n",
    "LSI/LDA takes documents that are similar on a semantic level - for instance, if they are describing the same topic - and projects them into nearby vectors, despite having low lexical overlap.\n",
    "\n",
    "In this assignment, you will use `gensim` to create LSI/LDA models and use them in re-ranking. \n",
    "\n",
    "**Note**: The following exercises only uses `doc_repr_2` and `config_2`\n",
    "\n",
    "Table of contents:\n",
    "- [Section 6: LSI](#lsi) (15 points)\n",
    "- [Section 7: LDA](#lda) (10 points)\n",
    "- [Section 8: Word2Vec/Doc2Vec](#2vec) (20 points)\n",
    "- [Section 8: Re-ranking](#reranking) (10 points)\n",
    "- [Section 9: Re-ranking Evaluation](#reranking_eval) (30 points)"
   ]
  },
  {
   "cell_type": "markdown",
   "metadata": {
    "deletable": false,
    "editable": false,
    "nbgrader": {
     "cell_type": "markdown",
     "checksum": "f7c7b2cab82f576ed0acf836ca57171c",
     "grade": false,
     "grade_id": "cell-6b2c81e7a8abd180",
     "locked": true,
     "schema_version": 3,
     "solution": false,
     "task": false
    }
   },
   "source": [
    "---\n",
    "## Section 6: Latent Semantic Indexing (LSI) (15 points) <a class=\"anchor\" id=\"lsi\"></a>\n",
    "\n",
    "[Back to Part 2](#part2)\n",
    "\n",
    "LSI is one of the methods to embed the queries and documents into vectors. It is based on a method similar to Principal Component Analysis (PCA) for obtaining a dense concept matrix out of the sparse term-document matrix.\n",
    "\n",
    "See [wikipedia](https://en.wikipedia.org/wiki/Latent_semantic_analysis), particularly [#Mathematics_of_LSI](https://en.wikipedia.org/wiki/Latent_semantic_analysis#Mathematics_of_LSI)."
   ]
  },
  {
   "cell_type": "code",
   "execution_count": 127,
   "metadata": {
    "deletable": false,
    "editable": false,
    "nbgrader": {
     "cell_type": "code",
     "checksum": "c17ee75319cb517e2bf48ec3d9efc329",
     "grade": false,
     "grade_id": "cell-59913daee47f680d",
     "locked": true,
     "schema_version": 3,
     "solution": false,
     "task": false
    }
   },
   "outputs": [],
   "source": [
    "from gensim.corpora import Dictionary\n",
    "from gensim.models import LdaModel, LsiModel, Word2Vec\n",
    "from gensim.models.doc2vec import Doc2Vec, TaggedDocument\n",
    "from gensim import downloader as g_downloader\n",
    "# gensim uses logging, so set it up \n",
    "import logging\n",
    "logging.basicConfig(format='%(asctime)s : %(levelname)s : %(message)s', level=logging.INFO)"
   ]
  },
  {
   "cell_type": "markdown",
   "metadata": {
    "deletable": false,
    "editable": false,
    "nbgrader": {
     "cell_type": "markdown",
     "checksum": "5fce140c546759b54a9fc060901ae77c",
     "grade": false,
     "grade_id": "cell-3644faff4976598a",
     "locked": true,
     "schema_version": 3,
     "solution": false,
     "task": false
    }
   },
   "source": [
    "---\n",
    "### Section 6.1: Cosine Similarity (5 points)<a class=\"anchor\" id=\"cosing_sim\"></a>\n",
    "Before we begin, let us first define our method of similarity for the LSI model, the cosine similarity:\n",
    "\n",
    "$$\\text{similarity} = \\cos(\\theta) = {\\mathbf{A} \\cdot \\mathbf{B} \\over \\|\\mathbf{A}\\| \\|\\mathbf{B}\\|} = \\frac{ \\sum\\limits_{i=1}^{n}{A_i  B_i} }{ \\sqrt{\\sum\\limits_{i=1}^{n}{A_i^2}}  \\sqrt{\\sum\\limits_{i=1}^{n}{B_i^2}} }$$\n",
    "\n",
    "Since we are using gensim, the types of vectors returned by their classes are of the form defined below (they are not just simple vectors):"
   ]
  },
  {
   "cell_type": "code",
   "execution_count": 58,
   "metadata": {
    "deletable": false,
    "editable": false,
    "nbgrader": {
     "cell_type": "code",
     "checksum": "4e340e1a1d546f430c018fd0760e707a",
     "grade": false,
     "grade_id": "cell-3995a50f951314d5",
     "locked": true,
     "schema_version": 3,
     "solution": false,
     "task": false
    }
   },
   "outputs": [],
   "source": [
    "# 1, 2, 3 are either latent dimensions (LSI), or topics (LDA)\n",
    "# The second value in each tuple is a number (LSI) or a probability (LDA)  \n",
    "example_vec_1 = [(1, 0.2), (2, 0.3), (3, 0.4)]\n",
    "example_vec_2 = [(1, 0.2), (2, 0.7), (3, 0.4)]"
   ]
  },
  {
   "cell_type": "markdown",
   "metadata": {
    "deletable": false,
    "editable": false,
    "nbgrader": {
     "cell_type": "markdown",
     "checksum": "20832fd4f579f49ae204b0efee02edd1",
     "grade": false,
     "grade_id": "cell-5e54d581858dc8f7",
     "locked": true,
     "schema_version": 3,
     "solution": false,
     "task": false
    }
   },
   "source": [
    "---\n",
    "**Implementation (2+3 points):**\n",
    "Now, implement the `dot product` operation on these types of vectors and using this operator, implement the `cosine similarity` (don't forget: two functions to implement!):"
   ]
  },
  {
   "cell_type": "code",
   "execution_count": 228,
   "metadata": {
    "deletable": false,
    "nbgrader": {
     "cell_type": "code",
     "checksum": "06a712ee75fc213a21c5f0067fd8fe28",
     "grade": false,
     "grade_id": "cell-0e8189f5f93de33f",
     "locked": false,
     "schema_version": 3,
     "solution": true,
     "task": false
    }
   },
   "outputs": [],
   "source": [
    "# TODO: Implement this! (2 points)\n",
    "def dot(vec_1,vec_2): \n",
    "    \"\"\"\n",
    "        vec_1 and vec_2 are of the form: [(int, float), (int, float), ...]\n",
    "        Return the dot product of two such vectors, computed only on the floats\n",
    "        You can assume that the lengths of the vectors are the same, and the dimensions are aligned \n",
    "            i.e you won't get: vec_1 = [(1, 0.2)] ; vec_2 = [(2, 0.3)] \n",
    "                                (dimensions are unaligned and lengths are different)\n",
    "    \"\"\"\n",
    "    \n",
    "    values_1 = np.array([x[1] for x in vec_1])\n",
    "    values_2 = np.array([x[1] for x in vec_2])\n",
    "    \n",
    "    return np.dot(values_1, values_2)\n",
    "\n",
    "\n",
    "# TODO: Implement this! (3 points)\n",
    "def cosine_sim(vec_1, vec_2):\n",
    "    \n",
    "    if len([x[1] for x in vec_1]) == 0 or len([x[1] for x in vec_2]) == 0:\n",
    "        return 0\n",
    "    \n",
    "    return dot(vec_1, vec_2) / (np.sqrt(dot(vec_1, vec_1)) * np.sqrt(dot(vec_2, vec_2)))\n"
   ]
  },
  {
   "cell_type": "code",
   "execution_count": 60,
   "metadata": {
    "deletable": false,
    "editable": false,
    "nbgrader": {
     "cell_type": "code",
     "checksum": "d22a4a7325ba7815a808390388f534a1",
     "grade": true,
     "grade_id": "cell-b25d04ed6b79fd35",
     "locked": true,
     "points": 2,
     "schema_version": 3,
     "solution": false,
     "task": false
    }
   },
   "outputs": [
    {
     "name": "stdout",
     "output_type": "stream",
     "text": [
      "vectors: ([(1, 0.2), (2, 0.3), (3, 0.4)], [(1, 0.2), (2, 0.7), (3, 0.4)])\n",
      "dot product = 0.41000000000000003\n",
      "cosine similarity = 0.9165587597202866\n"
     ]
    }
   ],
   "source": [
    "##### Function check\n",
    "print(f'vectors: {(example_vec_1,example_vec_2)}')\n",
    "print(f'dot product = {dot(example_vec_1,example_vec_2)}')\n",
    "print(f'cosine similarity = {cosine_sim(example_vec_1,example_vec_2)}')\n",
    "##### "
   ]
  },
  {
   "cell_type": "code",
   "execution_count": 61,
   "metadata": {
    "deletable": false,
    "editable": false,
    "nbgrader": {
     "cell_type": "code",
     "checksum": "0744131724ce76b1b3f163b4bae5f700",
     "grade": true,
     "grade_id": "cell-ae3c4466866ace77",
     "locked": true,
     "points": 3,
     "schema_version": 3,
     "solution": false,
     "task": false
    }
   },
   "outputs": [],
   "source": [
    "#### Please do not change this. This cell is used for grading."
   ]
  },
  {
   "cell_type": "markdown",
   "metadata": {
    "deletable": false,
    "editable": false,
    "nbgrader": {
     "cell_type": "markdown",
     "checksum": "9b123f599f9ea372d14676e23f1c6a52",
     "grade": false,
     "grade_id": "cell-4b2534067c44fcdf",
     "locked": true,
     "schema_version": 3,
     "solution": false,
     "task": false
    }
   },
   "source": [
    "---\n",
    "### Section 6.2: LSI Retrieval (10 points)<a class=\"anchor\" id=\"lsi_retrieval\"></a>\n",
    "LSI retrieval is simply ranking the documents based on their cosine similarity to the query vector.\n",
    "First, let's write a parent class for vector-based retrieval models:"
   ]
  },
  {
   "cell_type": "code",
   "execution_count": 62,
   "metadata": {
    "deletable": false,
    "editable": false,
    "nbgrader": {
     "cell_type": "code",
     "checksum": "ecc111d58182570e2252b8ef5d6b02af",
     "grade": false,
     "grade_id": "cell-937936cea18711ee",
     "locked": true,
     "schema_version": 3,
     "solution": false,
     "task": false
    }
   },
   "outputs": [],
   "source": [
    "class VectorSpaceRetrievalModel:\n",
    "    \"\"\"\n",
    "        Parent class for Dense Vector Retrieval models\n",
    "    \"\"\"\n",
    "    def __init__(self, doc_repr):\n",
    "        \"\"\"\n",
    "            document_collection: \n",
    "                [\n",
    "                    (doc_id_1, [token 1, token 2, ...]), \n",
    "                    (doc_id_2, [token 1, token 2, ....]) \n",
    "                    ...\n",
    "                ]\n",
    "\n",
    "        \"\"\"\n",
    "        self.doc_repr = doc_repr\n",
    "        self.documents = [_[1] for _ in self.doc_repr]\n",
    "        \n",
    "        # construct a dictionary\n",
    "        self.dictionary = Dictionary(self.documents)\n",
    "        # Filter out words that occur less than 20 documents, or more than 50% of the documents.\n",
    "        self.dictionary.filter_extremes(no_below=10)\n",
    "        self.corpus = [self.dictionary.doc2bow(doc) for doc in self.documents]\n",
    "    \n",
    "        # Make a index to word dictionary.\n",
    "        temp = self.dictionary[0]  # This is only to \"load\" the dictionary.\n",
    "        self.id2word = self.dictionary.id2token\n",
    "        \n",
    "        # this is set by the train_model function\n",
    "        self.model = None\n",
    "        \n",
    "        \n",
    "    def vectorize_documents(self):\n",
    "        \"\"\"\n",
    "            Returns a doc_id -> vector dictionary\n",
    "        \"\"\"\n",
    "        vectors = {}\n",
    "        for (doc_id, _), cc in zip(self.doc_repr, self.corpus):\n",
    "            vectors[doc_id] = self.model[cc]\n",
    "        return vectors\n",
    "\n",
    "    def vectorize_query(self, query):\n",
    "        # Note the use of config_2 here!\n",
    "        query = process_text(query, **config_2)\n",
    "        query_vector = self.dictionary.doc2bow(query)\n",
    "        return self.model[query_vector]\n",
    "    \n",
    "    def train_model(self):\n",
    "        \"\"\"\n",
    "            Trains a model and sets the 'self.model' variable. \n",
    "            Make sure to use the variables created in the __init__ method.\n",
    "            e.g the variables which may be useful: {corpus, dictionary, id2word}\n",
    "        \"\"\"\n",
    "        raise NotImplementedError()"
   ]
  },
  {
   "cell_type": "markdown",
   "metadata": {
    "deletable": false,
    "editable": false,
    "nbgrader": {
     "cell_type": "markdown",
     "checksum": "ff161eefd9b81b768cd6361bc1a502b0",
     "grade": false,
     "grade_id": "cell-704a18c2f80cd60c",
     "locked": true,
     "schema_version": 3,
     "solution": false,
     "task": false
    }
   },
   "source": [
    "---\n",
    "**Implementation (5 points):**\n",
    "Implement the `train_model` method in the following class (note that this is only one line of code in `gensim`!). Ensure that the parameters defined in the `__init__` method are not changed, and are *used in the `train_method` function*. Normally, the hyperaparameter space will be searched using grid search / other methods - in this assignment we have provided the hyperparameters for you.\n",
    "\n",
    "The last two lines of code train an LSI model on the list of documents which have been stemmed, lower-cased and have stopwords removed. "
   ]
  },
  {
   "cell_type": "code",
   "execution_count": 116,
   "metadata": {
    "deletable": false,
    "nbgrader": {
     "cell_type": "code",
     "checksum": "0e90eedc27c248bc1ae050518a46a46c",
     "grade": false,
     "grade_id": "cell-307682c9089f15d6",
     "locked": false,
     "schema_version": 3,
     "solution": true,
     "task": false
    },
    "scrolled": true
   },
   "outputs": [],
   "source": [
    "# TODO: Implement this! (5 points)\n",
    "class LsiRetrievalModel(VectorSpaceRetrievalModel):\n",
    "    def __init__(self, doc_repr):\n",
    "        super().__init__(doc_repr)\n",
    "        \n",
    "        self.num_topics = 100\n",
    "        self.chunksize = 2000\n",
    "    \n",
    "    def train_model(self):\n",
    "        \n",
    "        self.model = LsiModel(corpus=self.corpus, id2word=self.id2word, num_topics=self.num_topics, chunksize=self.chunksize)\n",
    "\n",
    "        return self.model\n",
    "    "
   ]
  },
  {
   "cell_type": "code",
   "execution_count": 117,
   "metadata": {
    "deletable": false,
    "editable": false,
    "nbgrader": {
     "cell_type": "code",
     "checksum": "00399cfe13d60cb4beed1271e36004b0",
     "grade": true,
     "grade_id": "cell-5ce512650c1b2dfb",
     "locked": true,
     "points": 0,
     "schema_version": 3,
     "solution": false,
     "task": false
    }
   },
   "outputs": [
    {
     "name": "stderr",
     "output_type": "stream",
     "text": [
      "2022-02-27 19:47:02,857 : INFO : adding document #0 to Dictionary(0 unique tokens: [])\n",
      "2022-02-27 19:47:02,979 : INFO : built Dictionary(5937 unique tokens: ['-', 'algebra', 'intern', 'languag', 'preliminari']...) from 3204 documents (total 115969 corpus positions)\n",
      "2022-02-27 19:47:02,983 : INFO : discarding 4740 tokens: [('repeat', 8), ('glossari', 7), ('inspect', 8), ('uncol', 2), ('rung', 9), ('secant', 2), ('.', 1603), ('acceler', 6), ('diverg', 3), ('induc', 9)]...\n",
      "2022-02-27 19:47:02,984 : INFO : keeping 1197 tokens which were in no less than 10 and no more than 1602 (=50.0%) documents\n",
      "2022-02-27 19:47:02,985 : INFO : resulting dictionary: Dictionary(1197 unique tokens: ['-', 'algebra', 'intern', 'languag', 'preliminari']...)\n",
      "2022-02-27 19:47:03,039 : INFO : using serial LSI version on this node\n",
      "2022-02-27 19:47:03,040 : INFO : updating model with new documents\n",
      "2022-02-27 19:47:03,040 : INFO : preparing a new chunk of documents\n",
      "2022-02-27 19:47:03,050 : INFO : using 100 extra samples and 2 power iterations\n",
      "2022-02-27 19:47:03,050 : INFO : 1st phase: constructing (1197, 200) action matrix\n",
      "2022-02-27 19:47:03,062 : INFO : orthonormalizing (1197, 200) action matrix\n",
      "2022-02-27 19:47:03,146 : INFO : 2nd phase: running dense svd on (200, 2000) matrix\n",
      "2022-02-27 19:47:03,185 : INFO : computing the final decomposition\n",
      "2022-02-27 19:47:03,186 : INFO : keeping 100 factors (discarding 13.447% of energy spectrum)\n",
      "2022-02-27 19:47:03,188 : INFO : processed documents up to #2000\n",
      "2022-02-27 19:47:03,189 : INFO : topic #0(152.127): 0.741*\",\" + 0.342*\"-\" + 0.211*\"system\" + 0.204*\"program\" + 0.192*\"comput\" + 0.146*\"(\" + 0.127*\"languag\" + 0.108*\")\" + 0.084*\"gener\" + 0.083*\"data\"\n",
      "2022-02-27 19:47:03,189 : INFO : topic #1(60.600): -0.607*\"(\" + -0.434*\")\" + -0.366*\"algorithm\" + -0.300*\"-\" + 0.237*\",\" + 0.213*\"system\" + 0.132*\"comput\" + -0.096*\"[\" + 0.093*\"program\" + -0.084*\"])\"\n",
      "2022-02-27 19:47:03,190 : INFO : topic #2(57.438): 0.744*\"-\" + -0.452*\",\" + 0.263*\"system\" + -0.214*\"(\" + -0.166*\")\" + 0.107*\"time\" + 0.105*\"program\" + -0.094*\"algorithm\" + 0.068*\"comput\" + 0.067*\"share\"\n",
      "2022-02-27 19:47:03,191 : INFO : topic #3(48.370): -0.483*\"system\" + -0.375*\"program\" + -0.367*\"comput\" + 0.363*\"-\" + 0.308*\",\" + -0.212*\"(\" + -0.168*\")\" + -0.147*\"algorithm\" + 0.144*\"languag\" + -0.119*\"time\"\n",
      "2022-02-27 19:47:03,191 : INFO : topic #4(45.710): 0.489*\"comput\" + -0.475*\"languag\" + -0.428*\"program\" + 0.238*\"method\" + 0.141*\"problem\" + -0.121*\"system\" + -0.109*\")\" + 0.107*\"equat\" + 0.100*\"algorithm\" + -0.099*\"(\"\n",
      "2022-02-27 19:47:03,191 : INFO : preparing a new chunk of documents\n",
      "2022-02-27 19:47:03,199 : INFO : using 100 extra samples and 2 power iterations\n",
      "2022-02-27 19:47:03,201 : INFO : 1st phase: constructing (1197, 200) action matrix\n",
      "2022-02-27 19:47:03,210 : INFO : orthonormalizing (1197, 200) action matrix\n",
      "2022-02-27 19:47:03,255 : INFO : 2nd phase: running dense svd on (200, 1204) matrix\n",
      "2022-02-27 19:47:03,292 : INFO : computing the final decomposition\n",
      "2022-02-27 19:47:03,292 : INFO : keeping 100 factors (discarding 14.024% of energy spectrum)\n",
      "2022-02-27 19:47:03,294 : INFO : merging projections: (1197, 100) + (1197, 100)\n",
      "2022-02-27 19:47:03,322 : INFO : keeping 100 factors (discarding 8.172% of energy spectrum)\n",
      "2022-02-27 19:47:03,325 : INFO : processed documents up to #3204\n",
      "2022-02-27 19:47:03,326 : INFO : topic #0(225.136): 0.759*\",\" + 0.337*\"-\" + 0.196*\"system\" + 0.186*\"program\" + 0.166*\"comput\" + 0.139*\"(\" + 0.103*\")\" + 0.103*\"algorithm\" + 0.099*\"languag\" + 0.087*\"time\"\n",
      "2022-02-27 19:47:03,326 : INFO : topic #1(87.805): 0.613*\"-\" + -0.399*\",\" + 0.399*\"(\" + 0.326*\"algorithm\" + 0.293*\")\" + -0.129*\"system\" + -0.107*\"program\" + 0.085*\"method\" + 0.077*\"time\" + 0.062*\"1\"\n",
      "2022-02-27 19:47:03,327 : INFO : topic #2(81.909): 0.550*\"-\" + -0.434*\"(\" + 0.355*\"system\" + -0.321*\")\" + -0.291*\",\" + -0.266*\"algorithm\" + 0.146*\"program\" + 0.123*\"comput\" + 0.078*\"time\" + -0.064*\"[\"\n",
      "2022-02-27 19:47:03,327 : INFO : topic #3(72.433): -0.693*\"program\" + 0.339*\",\" + 0.279*\"-\" + -0.251*\"(\" + -0.221*\"system\" + -0.214*\"languag\" + -0.204*\")\" + -0.160*\"comput\" + -0.099*\"data\" + -0.056*\"execut\"\n",
      "2022-02-27 19:47:03,328 : INFO : topic #4(68.523): -0.673*\"system\" + 0.453*\"program\" + 0.254*\"languag\" + 0.212*\"-\" + -0.179*\"comput\" + -0.165*\"(\" + -0.121*\")\" + -0.115*\"model\" + 0.101*\",\" + -0.098*\"algorithm\"\n"
     ]
    },
    {
     "data": {
      "text/plain": [
       "[(0, 0.015214748713441585),\n",
       " (1, -0.01624550912722224),\n",
       " (2, -0.00020002452763986543),\n",
       " (3, -0.0018365592634544904),\n",
       " (4, -0.009416616712347167),\n",
       " (5, -0.004654691087887276),\n",
       " (6, 0.027077589693623255),\n",
       " (7, 0.01669051685030295),\n",
       " (8, -0.03186832873566943),\n",
       " (9, -0.000913768814671697),\n",
       " (10, 0.0022383085274751933),\n",
       " (11, -0.017669343327646515),\n",
       " (12, 0.0003189560210592659),\n",
       " (13, 0.0009817106299293225),\n",
       " (14, 0.004509230935812351),\n",
       " (15, 0.00539853777380463),\n",
       " (16, 0.006094483099669138),\n",
       " (17, 0.00268001453382191),\n",
       " (18, -0.016058106961948346),\n",
       " (19, 0.020330603332609748),\n",
       " (20, -0.011996190147868072),\n",
       " (21, -0.014596799510455827),\n",
       " (22, 0.04686039465423612),\n",
       " (23, 0.02584866648668248),\n",
       " (24, -0.010711405612087301),\n",
       " (25, -0.009753205533607697),\n",
       " (26, 0.004608069873022863),\n",
       " (27, 0.07650172171384986),\n",
       " (28, -0.06400665363840423),\n",
       " (29, 0.03211854577511788),\n",
       " (30, 0.04523547530780534),\n",
       " (31, 0.04895691657310337),\n",
       " (32, -0.0692131904509463),\n",
       " (33, 0.04791279020956512),\n",
       " (34, -0.028912780988039156),\n",
       " (35, 0.06364585933129674),\n",
       " (36, 0.04169468712212923),\n",
       " (37, -0.008902068505270897),\n",
       " (38, -0.05200861743455952),\n",
       " (39, 0.0332034076410851),\n",
       " (40, -0.042861159949215875),\n",
       " (41, -0.03614979930476471),\n",
       " (42, 0.022413530041430492),\n",
       " (43, 0.020014952166747847),\n",
       " (44, 0.009336139308023026),\n",
       " (45, 0.05624900362583819),\n",
       " (46, -0.013817430765721537),\n",
       " (47, 0.008512827746620596),\n",
       " (48, 0.020379194255136984),\n",
       " (49, 0.02910258355860123),\n",
       " (50, 0.025567740060724226),\n",
       " (51, 0.048460901188963096),\n",
       " (52, -0.007358639953431077),\n",
       " (53, 0.011130454867981983),\n",
       " (54, 0.03609138318745893),\n",
       " (55, 0.02618481640808067),\n",
       " (56, -0.008366885088129702),\n",
       " (57, -0.017674021546028817),\n",
       " (58, -0.017473705365391466),\n",
       " (59, 0.036421352751798315),\n",
       " (60, -0.018056208072237956),\n",
       " (61, -0.048495617201127654),\n",
       " (62, 0.02092831501626188),\n",
       " (63, 0.02863531865960378),\n",
       " (64, 0.05870454099980208),\n",
       " (65, 0.015546477243894156),\n",
       " (66, 0.04423066872943857),\n",
       " (67, -0.06236720372176692),\n",
       " (68, -0.00014162775009463752),\n",
       " (69, -0.018233337143545886),\n",
       " (70, -0.050620472311441),\n",
       " (71, -0.01420291051795681),\n",
       " (72, 0.028269848214290228),\n",
       " (73, -0.07067525249991102),\n",
       " (74, -0.05342840307393379),\n",
       " (75, 0.04586109747381199),\n",
       " (76, 0.04975622442065655),\n",
       " (77, 0.008715444383739925),\n",
       " (78, 0.037987235962761184),\n",
       " (79, 0.03670000019790754),\n",
       " (80, -0.016942599454979432),\n",
       " (81, 0.005410014183057222),\n",
       " (82, 0.0332851963931224),\n",
       " (83, -0.044734002939940586),\n",
       " (84, -0.027516551491944576),\n",
       " (85, 0.017067509857748405),\n",
       " (86, 0.03310635531234946),\n",
       " (87, 0.0006872395032024164),\n",
       " (88, -0.0823218427581611),\n",
       " (89, -0.03671879436746305),\n",
       " (90, 0.02608157216270415),\n",
       " (91, 0.08990046598036987),\n",
       " (92, -0.0091960383073439),\n",
       " (93, -0.012264644314962297),\n",
       " (94, 0.026425400390379286),\n",
       " (95, -0.05020158881268806),\n",
       " (96, 0.010068703585327186),\n",
       " (97, 0.010572930079246132),\n",
       " (98, -0.01645641360055337),\n",
       " (99, -0.03896484902954865)]"
      ]
     },
     "execution_count": 117,
     "metadata": {},
     "output_type": "execute_result"
    }
   ],
   "source": [
    "##### Function check\n",
    "lsi = LsiRetrievalModel(doc_repr_2)\n",
    "lsi.train_model()\n",
    "\n",
    "# you can now get an LSI vector for a given query in the following way:\n",
    "lsi.vectorize_query(\"report\")\n",
    "##### "
   ]
  },
  {
   "cell_type": "markdown",
   "metadata": {
    "deletable": false,
    "editable": false,
    "nbgrader": {
     "cell_type": "markdown",
     "checksum": "7116bb9f576c5bb04934e1d59c51d729",
     "grade": false,
     "grade_id": "cell-4c5eeb557b4fca2f",
     "locked": true,
     "points": 5,
     "schema_version": 3,
     "solution": false,
     "task": true
    }
   },
   "source": [
    "\\#### Please do not change this. This cell is used for grading."
   ]
  },
  {
   "cell_type": "markdown",
   "metadata": {
    "deletable": false,
    "editable": false,
    "nbgrader": {
     "cell_type": "markdown",
     "checksum": "26e2ff3c413745e633d99f66c041d6b1",
     "grade": false,
     "grade_id": "cell-c4e50296cd17a555",
     "locked": true,
     "schema_version": 3,
     "solution": false,
     "task": false
    }
   },
   "source": [
    "---\n",
    "**Implementation (5 points):**\n",
    " Next, implement a basic ranking class for vector space retrieval (used for all semantic methods): "
   ]
  },
  {
   "cell_type": "code",
   "execution_count": 308,
   "metadata": {
    "deletable": false,
    "nbgrader": {
     "cell_type": "code",
     "checksum": "1a8389d2f0635c3405e2b0b27ed9f327",
     "grade": false,
     "grade_id": "cell-250515d288e80cdc",
     "locked": false,
     "schema_version": 3,
     "solution": true,
     "task": false
    }
   },
   "outputs": [],
   "source": [
    "# TODO: Implement this! (5 points)\n",
    "class DenseRetrievalRanker:\n",
    "    def __init__(self, vsrm, similarity_fn):\n",
    "        \"\"\"\n",
    "            vsrm: instance of `VectorSpaceRetrievalModel`\n",
    "            similarity_fn: function instance that takes in two vectors \n",
    "                            and returns a similarity score e.g cosine_sim defined earlier\n",
    "        \"\"\"\n",
    "        self.vsrm = vsrm \n",
    "        self.vectorized_documents = self.vsrm.vectorize_documents()\n",
    "        self.similarity_fn = similarity_fn\n",
    "    \n",
    "    def _compute_sim(self, query_vector):\n",
    "        \"\"\"\n",
    "            Compute the similarity of `query_vector` to documents in \n",
    "            `self.vectorized_documents` using `self.similarity_fn`\n",
    "            Returns a list of (doc_id, score) tuples\n",
    "        \"\"\"\n",
    "        \n",
    "        output = list()\n",
    "        \n",
    "        for doc_id, vector in list(self.vectorized_documents.items()):\n",
    "            similarity = self.similarity_fn(query_vector, vector)\n",
    "            output.append((doc_id, similarity))\n",
    "        \n",
    "        if np.isnan(output[0][1]):\n",
    "            return [(tup[0], 0.0) for tup in output]\n",
    "\n",
    "        return output\n",
    "        \n",
    "    \n",
    "    def search(self, query):\n",
    "        scores = self._compute_sim(self.vsrm.vectorize_query(query))\n",
    "        scores.sort(key=lambda _:-_[1])\n",
    "        return scores \n"
   ]
  },
  {
   "cell_type": "code",
   "execution_count": 309,
   "metadata": {
    "deletable": false,
    "editable": false,
    "nbgrader": {
     "cell_type": "code",
     "checksum": "f237dd1ef6c1783c06797f4b514421f5",
     "grade": true,
     "grade_id": "cell-b73068b3e77a8e31",
     "locked": true,
     "points": 0,
     "schema_version": 3,
     "solution": false,
     "task": false
    }
   },
   "outputs": [
    {
     "data": {
      "text/plain": [
       "[('599', 0.7918633199493843),\n",
       " ('947', 0.5916009715902285),\n",
       " ('53', 0.5030384790342963),\n",
       " ('1339', 0.45981639784233014),\n",
       " ('3160', 0.4461266786789552)]"
      ]
     },
     "execution_count": 309,
     "metadata": {},
     "output_type": "execute_result"
    }
   ],
   "source": [
    "##### Function check\n",
    "drm_lsi = DenseRetrievalRanker(lsi, cosine_sim)\n",
    "drm_lsi.search(\"report\")[:5]\n",
    "##### "
   ]
  },
  {
   "cell_type": "markdown",
   "metadata": {
    "deletable": false,
    "editable": false,
    "nbgrader": {
     "cell_type": "markdown",
     "checksum": "5b3f19fdcaa585d263706d5a26038799",
     "grade": false,
     "grade_id": "cell-034c755a6502b868",
     "locked": true,
     "points": 5,
     "schema_version": 3,
     "solution": false,
     "task": true
    }
   },
   "source": [
    "\\#### Please do not change this. This cell is used for grading."
   ]
  },
  {
   "cell_type": "markdown",
   "metadata": {
    "deletable": false,
    "editable": false,
    "nbgrader": {
     "cell_type": "markdown",
     "checksum": "dcafef6e037033c46304b914f7c78bdf",
     "grade": false,
     "grade_id": "cell-d1df23f497d5ed6b",
     "locked": true,
     "schema_version": 3,
     "solution": false,
     "task": false
    }
   },
   "source": [
    "---\n",
    "Now, you can test your LSI model in the following cell: try finding queries which are lexically different to documents, but semantically similar - does LSI work well for these queries?!"
   ]
  },
  {
   "cell_type": "code",
   "execution_count": 67,
   "metadata": {
    "deletable": false,
    "editable": false,
    "nbgrader": {
     "cell_type": "code",
     "checksum": "11734bc7674377b340ad51297a8e8bb5",
     "grade": false,
     "grade_id": "cell-efd1d08dfc04ec3e",
     "locked": true,
     "schema_version": 3,
     "solution": false,
     "task": false
    }
   },
   "outputs": [
    {
     "data": {
      "application/vnd.jupyter.widget-view+json": {
       "model_id": "0b6d6212a9684104a3b3bdfdc9056796",
       "version_major": 2,
       "version_minor": 0
      },
      "text/plain": [
       "Text(value='', description='Search Bar')"
      ]
     },
     "metadata": {},
     "output_type": "display_data"
    }
   ],
   "source": [
    "# test your LSI model\n",
    "search_fn = drm_lsi.search\n",
    "\n",
    "text = widgets.Text(description=\"Search Bar\", width=200)\n",
    "display(text)\n",
    "\n",
    "def make_results_2(query, search_fn):\n",
    "    results = []\n",
    "    for doc_id, score in search_fn(query):\n",
    "        highlight = highlight_text(docs_by_id[doc_id], query)\n",
    "        if len(highlight.strip()) == 0:\n",
    "            highlight = docs_by_id[doc_id]\n",
    "        results.append(ResultRow(doc_id, highlight, score))\n",
    "    return results\n",
    "\n",
    "def handle_submit_2(sender):\n",
    "    print(f\"Searching for: '{sender.value}' (SEARCH FN: {search_fn})\")\n",
    "    \n",
    "    results = make_results_2(sender.value, search_fn)\n",
    "    \n",
    "    # display only the top 5\n",
    "    results = results[:5]\n",
    "    \n",
    "    body = \"\"\n",
    "    for idx, r in enumerate(results):\n",
    "        body += f\"<li>Document #{r.doc_id}({r.score}): {r.snippet}</li>\"\n",
    "    display(HTML(f\"<ul>{body}</ul>\"))\n",
    "    \n",
    "\n",
    "text.on_submit(handle_submit_2)"
   ]
  },
  {
   "cell_type": "markdown",
   "metadata": {
    "deletable": false,
    "editable": false,
    "nbgrader": {
     "cell_type": "markdown",
     "checksum": "d074ce1ca48384cdda78742741c938be",
     "grade": false,
     "grade_id": "cell-3a86cef264d8f6cf",
     "locked": true,
     "schema_version": 3,
     "solution": false,
     "task": false
    }
   },
   "source": [
    "---\n",
    "## Section 7: Latent Dirichlet Allocation (LDA) (10 points) <a class=\"anchor\" id=\"lda\"></a>\n",
    "\n",
    "[Back to Part 2](#part2)\n",
    "\n",
    "The specifics of LDA is out of the scope of this assignment, but we will use the `gensim` implementation to perform search using LDA over our small document collection. The key thing to remember is that LDA, unlike LSI, outputs a topic **distribution**, not a vector. With that in mind, let's first define a similarity measure.\n"
   ]
  },
  {
   "cell_type": "markdown",
   "metadata": {
    "deletable": false,
    "editable": false,
    "nbgrader": {
     "cell_type": "markdown",
     "checksum": "db01092373b18f0c9dfed1bb17db4ad9",
     "grade": false,
     "grade_id": "cell-6b78ad22c2d60ba7",
     "locked": true,
     "schema_version": 3,
     "solution": false,
     "task": false
    }
   },
   "source": [
    "---\n",
    "### Section 7.1: Jenson-Shannon divergence (5 points) <a class=\"anchor\" id=\"js_sim\"></a>\n",
    "\n",
    "The Jenson-Shannon divergence is a symmetric and finite measure on two probability distributions (unlike the KL, which is neither). For identical distributions, the JSD is equal to 0, and since our code uses 0 as irrelevant and higher scores as relevant, we use `(1 - JSD)` as the score or 'similarity' in our setup\n",
    "\n",
    "**Note**: the JSD is bounded to \\[0,1\\] only if we use log base 2. So please ensure that you're using `np.log2` instead of `np.log`"
   ]
  },
  {
   "cell_type": "code",
   "execution_count": 100,
   "metadata": {
    "deletable": false,
    "nbgrader": {
     "cell_type": "code",
     "checksum": "a579e6cd7a24a3516bc9a84528b392d3",
     "grade": false,
     "grade_id": "cell-d2376a85a4841e98",
     "locked": false,
     "schema_version": 3,
     "solution": true,
     "task": false
    }
   },
   "outputs": [],
   "source": [
    "## TODO: Implement this! (5 points)\n",
    "def jenson_shannon_divergence(vec_1, vec_2, assert_prob=False):\n",
    "    \"\"\"\n",
    "        Computes the Jensen-Shannon divergence between two probability distributions. \n",
    "        NOTE: DO NOT RETURN 1 - JSD here, that is handled by the next function which is already implemented! \n",
    "        The inputs are *gensim* vectors - same as the vectors for the cosine_sim function\n",
    "        assert_prob is a flag that checks if the inputs are proper probability distributions \n",
    "            i.e they sum to 1 and are positive - use this to check your inputs if needed. \n",
    "                (This is optional to implement, but recommended - \n",
    "                you can set the default to False to save a few ms off the runtime)\n",
    "    \"\"\"\n",
    "    \n",
    "    def kl_divergence(vec_1, vec_2):\n",
    "        \n",
    "        score = 0\n",
    "        \n",
    "        for i in range(len(vec_1)):\n",
    "            # np.log2 [0, 1]\n",
    "            # vec_2 is a list and not list of tuples\n",
    "            score += vec_1[i][1] * np.log2(vec_1[i][1] / vec_2[i])\n",
    "        \n",
    "        return score\n",
    "        \n",
    "    if assert_prob == True:\n",
    "    \n",
    "        condition_1 = np.sum([tup[1] for tup in vec_1]) \n",
    "        condition_2 = np.sum([tup[1] for tup in vec_2])\n",
    "        \n",
    "        minus_1 = [tup[1] for tup in vec_1 if tup[1] < 0]\n",
    "        minus_2 = [tup[1] for tup in vec_2 if tup[1] < 0]\n",
    "        \n",
    "        if len(minus_1) > 0 or len(minus_2) > 0:\n",
    "            return 1\n",
    "    \n",
    "        if condition_1 == 1 and condition_2 == 1:\n",
    "            m = [0.5 * (vec_1[i][1] + vec_2[i][1]) for i in range(len(vec_1))] \n",
    "            return (0.5 * kl_divergence(vec_1, m)) + (0.5 * kl_divergence(vec_2, m))\n",
    "        else:\n",
    "            return 1  \n",
    "        \n",
    "    m = [0.5 * (vec_1[i][1] + vec_2[i][1]) for i in range(len(vec_1))] \n",
    "    return (0.5 * kl_divergence(vec_1, m)) + (0.5 * kl_divergence(vec_2, m))\n",
    "        \n",
    "\n",
    "def jenson_shannon_sim(vec_1, vec_2, assert_prob=False):\n",
    "    return 1 - jenson_shannon_divergence(vec_1, vec_2, assert_prob)\n"
   ]
  },
  {
   "cell_type": "code",
   "execution_count": 101,
   "metadata": {
    "deletable": false,
    "editable": false,
    "nbgrader": {
     "cell_type": "code",
     "checksum": "ab340aa941c9fb5c89b3fd0a9139e246",
     "grade": true,
     "grade_id": "cell-487c6d2933f38053",
     "locked": true,
     "points": 5,
     "schema_version": 3,
     "solution": false,
     "task": false
    }
   },
   "outputs": [
    {
     "data": {
      "text/plain": [
       "0.9251064410358459"
      ]
     },
     "execution_count": 101,
     "metadata": {},
     "output_type": "execute_result"
    }
   ],
   "source": [
    "##### Function check\n",
    "vec_1 = [(1, 0.3), (2, 0.4), (3, 0.3)]\n",
    "vec_2 = [(1, 0.1), (2, 0.7), (3, 0.2)]\n",
    "jenson_shannon_sim(vec_1, vec_2, assert_prob=True)\n",
    "##### "
   ]
  },
  {
   "cell_type": "markdown",
   "metadata": {
    "deletable": false,
    "editable": false,
    "nbgrader": {
     "cell_type": "markdown",
     "checksum": "0a1583a5f23e3390038331cce67f5d8e",
     "grade": false,
     "grade_id": "cell-4535cc67a50b80fa",
     "locked": true,
     "schema_version": 3,
     "solution": false,
     "task": false
    }
   },
   "source": [
    "---\n",
    "### Section 7.2: LDA retrieval (5 points) <a class=\"anchor\" id=\"lda_ret\"></a>\n",
    "\n",
    "Implement the `train_model` method in the following class (note that this is only one line of code in `gensim`!). Ensure that the parameters defined in the `__init__` method are not changed, and are *used in the `train_method` function*. You do not need to set this. Normally, the hyperaparameter space will be searched using grid search / other methods. Note that training the LDA model might take some time\n",
    "\n",
    "The last two lines of code train an LDA model on the list of documents which have been stemmed, lower-cased and have stopwords removed. "
   ]
  },
  {
   "cell_type": "code",
   "execution_count": 107,
   "metadata": {
    "deletable": false,
    "nbgrader": {
     "cell_type": "code",
     "checksum": "27de8e4fa85536bb396b73bfc51b3f50",
     "grade": false,
     "grade_id": "cell-021a48dff4a8bb91",
     "locked": false,
     "schema_version": 3,
     "solution": true,
     "task": false
    }
   },
   "outputs": [],
   "source": [
    "# TODO: Implement this! (5 points)\n",
    "class LdaRetrievalModel(VectorSpaceRetrievalModel):\n",
    "    def __init__(self, doc_repr):\n",
    "        super().__init__(doc_repr)\n",
    "        \n",
    "        # use these parameters in the train_model method\n",
    "        self.num_topics = 100\n",
    "        self.chunksize = 2000\n",
    "        self.passes = 20\n",
    "        self.iterations = 400\n",
    "        self.eval_every = 10\n",
    "        # this is need to get full vectors\n",
    "        self.minimum_probability=0.0\n",
    "        self.alpha='auto'\n",
    "        self.eta='auto'\n",
    "    \n",
    "    \n",
    "    def train_model(self):\n",
    "        \n",
    "        self.model = LdaModel(corpus = self.corpus, num_topics = self.num_topics, id2word = self.id2word,\n",
    "                             chunksize = self.chunksize, passes = self.passes, iterations = self.iterations,\n",
    "                             eval_every = self.eval_every, minimum_probability = self.minimum_probability,\n",
    "                             alpha = self.alpha, eta = self.eta)\n",
    "        \n",
    "        return self.model\n",
    "        "
   ]
  },
  {
   "cell_type": "code",
   "execution_count": 108,
   "metadata": {
    "deletable": false,
    "editable": false,
    "nbgrader": {
     "cell_type": "code",
     "checksum": "be70fcb8098d0b6ce64cd2a10e6a05b7",
     "grade": true,
     "grade_id": "cell-86750b715f0345fd",
     "locked": true,
     "points": 0,
     "schema_version": 3,
     "solution": false,
     "task": false
    }
   },
   "outputs": [
    {
     "name": "stderr",
     "output_type": "stream",
     "text": [
      "2022-02-27 19:46:04,332 : INFO : adding document #0 to Dictionary(0 unique tokens: [])\n",
      "2022-02-27 19:46:04,453 : INFO : built Dictionary(5937 unique tokens: ['-', 'algebra', 'intern', 'languag', 'preliminari']...) from 3204 documents (total 115969 corpus positions)\n",
      "2022-02-27 19:46:04,458 : INFO : discarding 4740 tokens: [('repeat', 8), ('glossari', 7), ('inspect', 8), ('uncol', 2), ('rung', 9), ('secant', 2), ('.', 1603), ('acceler', 6), ('diverg', 3), ('induc', 9)]...\n",
      "2022-02-27 19:46:04,458 : INFO : keeping 1197 tokens which were in no less than 10 and no more than 1602 (=50.0%) documents\n",
      "2022-02-27 19:46:04,460 : INFO : resulting dictionary: Dictionary(1197 unique tokens: ['-', 'algebra', 'intern', 'languag', 'preliminari']...)\n",
      "2022-02-27 19:46:04,514 : INFO : using autotuned alpha, starting with [0.01, 0.01, 0.01, 0.01, 0.01, 0.01, 0.01, 0.01, 0.01, 0.01, 0.01, 0.01, 0.01, 0.01, 0.01, 0.01, 0.01, 0.01, 0.01, 0.01, 0.01, 0.01, 0.01, 0.01, 0.01, 0.01, 0.01, 0.01, 0.01, 0.01, 0.01, 0.01, 0.01, 0.01, 0.01, 0.01, 0.01, 0.01, 0.01, 0.01, 0.01, 0.01, 0.01, 0.01, 0.01, 0.01, 0.01, 0.01, 0.01, 0.01, 0.01, 0.01, 0.01, 0.01, 0.01, 0.01, 0.01, 0.01, 0.01, 0.01, 0.01, 0.01, 0.01, 0.01, 0.01, 0.01, 0.01, 0.01, 0.01, 0.01, 0.01, 0.01, 0.01, 0.01, 0.01, 0.01, 0.01, 0.01, 0.01, 0.01, 0.01, 0.01, 0.01, 0.01, 0.01, 0.01, 0.01, 0.01, 0.01, 0.01, 0.01, 0.01, 0.01, 0.01, 0.01, 0.01, 0.01, 0.01, 0.01, 0.01]\n",
      "2022-02-27 19:46:04,515 : INFO : using serial LDA version on this node\n",
      "2022-02-27 19:46:04,524 : INFO : running online (multi-pass) LDA training, 100 topics, 20 passes over the supplied corpus of 3204 documents, updating model once every 2000 documents, evaluating perplexity every 3204 documents, iterating 400x with a convergence threshold of 0.001000\n",
      "2022-02-27 19:46:04,525 : INFO : PROGRESS: pass 0, at document #2000/3204\n",
      "2022-02-27 19:46:05,525 : INFO : optimized alpha [0.009812709, 0.009792113, 0.009900103, 0.009807759, 0.009771618, 0.00984954, 0.009905385, 0.009813143, 0.009928401, 0.009776814, 0.009802995, 0.009885802, 0.009839456, 0.009839239, 0.009843794, 0.009839022, 0.009766442, 0.009937229, 0.0099753225, 0.009818283, 0.009797397, 0.009818387, 0.009807545, 0.00978705, 0.009808108, 0.009841397, 0.009891451, 0.009817975, 0.009766427, 0.009797569, 0.009797316, 0.00987592, 0.009870475, 0.009813003, 0.009798444, 0.009787255, 0.009787275, 0.009818159, 0.009797371, 0.009839053, 0.009838887, 0.009818148, 0.009781909, 0.009812857, 0.009771561, 0.00978684, 0.009782077, 0.009850215, 0.009776822, 0.009839071, 0.009791969, 0.009802708, 0.01000086, 0.00981252, 0.009781807, 0.009818181, 0.009894804, 0.009776838, 0.009844324, 0.009838876, 0.00981849, 0.009854595, 0.00979749, 0.009776721, 0.0098549165, 0.009873395, 0.009828498, 0.0098076705, 0.009808034, 0.00981838, 0.009813065, 0.0097972, 0.00978171, 0.009787327, 0.010000712, 0.009818284, 0.009787168, 0.009761174, 0.009787159, 0.009792361, 0.009823161, 0.009838393, 0.009870494, 0.009925913, 0.0098546585, 0.00979254, 0.009781737, 0.009817931, 0.009833948, 0.009787065, 0.00980748, 0.009797636, 0.009895113, 0.009977889, 0.00990165, 0.009781977, 0.009812907, 0.009870199, 0.0098541165, 0.009782042]\n",
      "2022-02-27 19:46:05,528 : INFO : merging changes from 2000 documents into a model of 3204 documents\n",
      "2022-02-27 19:46:05,531 : INFO : topic #4 (0.010): 0.123*\"point\" + 0.055*\"intersect\" + 0.041*\"method\" + 0.041*\"integr\" + 0.027*\"system\" + 0.027*\"determin\" + 0.027*\"curv\" + 0.027*\"plane\" + 0.027*\"differenti\" + 0.027*\"equat\"\n",
      "2022-02-27 19:46:05,531 : INFO : topic #28 (0.010): 0.090*\"-\" + 0.060*\"non\" + 0.030*\"boundari\" + 0.030*\"provid\" + 0.030*\"polynomi\" + 0.030*\"numer\" + 0.030*\"techniqu\" + 0.030*\"improv\" + 0.030*\"scheme\" + 0.030*\"suggest\"\n",
      "2022-02-27 19:46:05,532 : INFO : topic #74 (0.010): 0.077*\",\" + 0.029*\"-\" + 0.026*\"system\" + 0.017*\"program\" + 0.014*\"techniqu\" + 0.013*\"comput\" + 0.012*\"(\" + 0.011*\"gener\" + 0.011*\"process\" + 0.009*\"method\"\n",
      "2022-02-27 19:46:05,532 : INFO : topic #18 (0.010): 0.089*\",\" + 0.028*\"-\" + 0.025*\"program\" + 0.024*\"system\" + 0.017*\"(\" + 0.011*\"languag\" + 0.010*\"algorithm\" + 0.010*\"gener\" + 0.010*\"comput\" + 0.010*\"storag\"\n",
      "2022-02-27 19:46:05,532 : INFO : topic #93 (0.010): 0.051*\"-\" + 0.050*\",\" + 0.047*\"(\" + 0.036*\"algorithm\" + 0.023*\"processor\" + 0.021*\")\" + 0.019*\"program\" + 0.018*\"[\" + 0.017*\"])\" + 0.013*\"languag\"\n",
      "2022-02-27 19:46:05,533 : INFO : topic diff=83.257675, rho=1.000000\n",
      "2022-02-27 19:46:06,142 : INFO : -7.268 per-word bound, 154.1 perplexity estimate based on a held-out corpus of 1204 documents with 49783 words\n",
      "2022-02-27 19:46:06,143 : INFO : PROGRESS: pass 0, at document #3204/3204\n",
      "2022-02-27 19:46:06,618 : INFO : optimized alpha [0.009776629, 0.009873995, 0.009975199, 0.009761672, 0.009851498, 0.010206181, 0.009951999, 0.010079044, 0.01010262, 0.009980477, 0.010160712, 0.010074864, 0.010273041, 0.010301947, 0.009926383, 0.009993067, 0.009718957, 0.010276589, 0.010469401, 0.009854755, 0.0098512685, 0.009983568, 0.009771755, 0.009722533, 0.010031384, 0.010012361, 0.010142055, 0.009758777, 0.009655401, 0.010198398, 0.00995505, 0.010037473, 0.010216238, 0.010125185, 0.00988073, 0.009928714, 0.010122194, 0.009735815, 0.009797233, 0.009945914, 0.010223543, 0.009942465, 0.009944943, 0.009771222, 0.009823457, 0.0097571965, 0.010044872, 0.009902133, 0.009963227, 0.010035315, 0.010095783, 0.009884095, 0.010180342, 0.0097996015, 0.009932532, 0.010146012, 0.009928613, 0.009940239, 0.010074777, 0.009991783, 0.009825489, 0.010295066, 0.009720971, 0.009844715, 0.010269895, 0.0099744005, 0.0100117875, 0.009760482, 0.009767735, 0.009884322, 0.0099138925, 0.010118438, 0.009670303, 0.010117213, 0.0103510665, 0.010070787, 0.0097348755, 0.00949975, 0.010004074, 0.009739584, 0.0099221775, 0.009737591, 0.010132669, 0.009786191, 0.009889884, 0.009939145, 0.00984549, 0.009770139, 0.010018007, 0.009705207, 0.009825027, 0.0099792, 0.010070284, 0.01015574, 0.01014665, 0.009974253, 0.009983488, 0.0099104075, 0.010161295, 0.009828659]\n",
      "2022-02-27 19:46:06,621 : INFO : merging changes from 1204 documents into a model of 3204 documents\n",
      "2022-02-27 19:46:06,624 : INFO : topic #77 (0.009): 0.011*\"algol\" + 0.010*\"data\" + 0.010*\"storag\" + 0.009*\"magnet\" + 0.009*\"translat\" + 0.009*\"-\" + 0.008*\"tape\" + 0.001*\"simpson\" + 0.001*\"polygon\" + 0.001*\"regress\"\n",
      "2022-02-27 19:46:06,624 : INFO : topic #28 (0.010): 0.132*\"properti\" + 0.132*\"non\" + 0.078*\"usual\" + 0.062*\"approxim\" + 0.061*\"-\" + 0.049*\"scheme\" + 0.048*\"polynomi\" + 0.048*\"point\" + 0.045*\"suggest\" + 0.040*\"numer\"\n",
      "2022-02-27 19:46:06,624 : INFO : topic #13 (0.010): 0.110*\"languag\" + 0.073*\"program\" + 0.047*\",\" + 0.026*\"level\" + 0.022*\"-\" + 0.021*\"comput\" + 0.017*\"paper\" + 0.017*\"semant\" + 0.017*\"discuss\" + 0.014*\"?\"\n",
      "2022-02-27 19:46:06,624 : INFO : topic #74 (0.010): 0.083*\",\" + 0.026*\"system\" + 0.026*\"-\" + 0.018*\"structur\" + 0.016*\"program\" + 0.015*\"tabl\" + 0.013*\"techniqu\" + 0.012*\"decis\" + 0.012*\"paper\" + 0.009*\"oper\"\n",
      "2022-02-27 19:46:06,625 : INFO : topic #18 (0.010): 0.104*\",\" + 0.028*\"-\" + 0.022*\"system\" + 0.017*\"program\" + 0.014*\"schedul\" + 0.013*\"(\" + 0.012*\"memori\" + 0.010*\"time\" + 0.010*\"number\" + 0.010*\"storag\"\n",
      "2022-02-27 19:46:06,625 : INFO : topic diff=0.737352, rho=0.707107\n",
      "2022-02-27 19:46:06,629 : INFO : PROGRESS: pass 1, at document #2000/3204\n",
      "2022-02-27 19:46:07,083 : INFO : optimized alpha [0.009811293, 0.010008469, 0.009887105, 0.009746524, 0.009859671, 0.010197742, 0.009910195, 0.01000176, 0.010029107, 0.009955675, 0.010119633, 0.009990075, 0.0101807965, 0.0104631, 0.009884791, 0.009961323, 0.009814378, 0.010181525, 0.010409968, 0.009846354, 0.009792468, 0.009951585, 0.0097765755, 0.009745766, 0.010030331, 0.009955334, 0.010086464, 0.009704214, 0.00973359, 0.010197391, 0.009893463, 0.009994735, 0.010153355, 0.01007393, 0.0098341815, 0.00990521, 0.010113828, 0.009666742, 0.009836082, 0.009950243, 0.010145506, 0.009868696, 0.009886635, 0.009721747, 0.009798287, 0.010191033, 0.010037823, 0.009871069, 0.009941187, 0.009957208, 0.010004243, 0.00991858, 0.010104709, 0.009869484, 0.009929835, 0.010172517, 0.010291256, 0.010007045, 0.009995328, 0.009887458, 0.009801647, 0.010257881, 0.009721343, 0.009788165, 0.010229941, 0.00991635, 0.0100461515, 0.009726624, 0.009755211, 0.009869488, 0.009877859, 0.010351431, 0.009658606, 0.010049869, 0.010252077, 0.0100312205, 0.009675775, 0.0093518635, 0.010023731, 0.0097270515, 0.0098746745, 0.009907984, 0.010125403, 0.009773435, 0.009809391, 0.009902576, 0.009888304, 0.009780067, 0.0100128045, 0.0096878605, 0.009902952, 0.00994143, 0.01008015, 0.010074331, 0.010033491, 0.009983443, 0.009961516, 0.009840211, 0.010101032, 0.009846183]\n"
     ]
    },
    {
     "name": "stderr",
     "output_type": "stream",
     "text": [
      "2022-02-27 19:46:07,086 : INFO : merging changes from 2000 documents into a model of 3204 documents\n",
      "2022-02-27 19:46:07,089 : INFO : topic #77 (0.009): 0.006*\"algol\" + 0.005*\"data\" + 0.005*\"storag\" + 0.005*\"magnet\" + 0.005*\"translat\" + 0.005*\"-\" + 0.004*\"tape\" + 0.001*\"simpson\" + 0.001*\"polygon\" + 0.001*\"regress\"\n",
      "2022-02-27 19:46:07,089 : INFO : topic #37 (0.010): 0.094*\"-\" + 0.049*\",\" + 0.030*\"gener\" + 0.026*\"cycl\" + 0.023*\"system\" + 0.022*\"queue\" + 0.021*\"written\" + 0.019*\"read\" + 0.018*\"multipl\" + 0.018*\"drive\"\n",
      "2022-02-27 19:46:07,090 : INFO : topic #71 (0.010): 0.175*\"(\" + 0.174*\"algorithm\" + 0.140*\")\" + 0.063*\"$\" + 0.046*\"))\" + 0.035*\"interpol\" + 0.031*\"exponenti\" + 0.026*\"squar\" + 0.025*\"fit\" + 0.018*\"ambigu\"\n",
      "2022-02-27 19:46:07,090 : INFO : topic #18 (0.010): 0.107*\",\" + 0.027*\"-\" + 0.023*\"system\" + 0.019*\"program\" + 0.014*\"schedul\" + 0.013*\"(\" + 0.012*\"storag\" + 0.010*\"memori\" + 0.010*\"number\" + 0.010*\"time\"\n",
      "2022-02-27 19:46:07,090 : INFO : topic #13 (0.010): 0.134*\"languag\" + 0.077*\"program\" + 0.049*\",\" + 0.026*\"-\" + 0.024*\"comput\" + 0.021*\"compil\" + 0.020*\"level\" + 0.016*\"discuss\" + 0.014*\"user\" + 0.013*\"paper\"\n",
      "2022-02-27 19:46:07,091 : INFO : topic diff=0.284244, rho=0.526900\n",
      "2022-02-27 19:46:07,598 : INFO : -6.896 per-word bound, 119.1 perplexity estimate based on a held-out corpus of 1204 documents with 49783 words\n",
      "2022-02-27 19:46:07,598 : INFO : PROGRESS: pass 1, at document #3204/3204\n",
      "2022-02-27 19:46:07,975 : INFO : optimized alpha [0.009764307, 0.010192221, 0.009904987, 0.009862276, 0.010036249, 0.010481116, 0.009910642, 0.010236538, 0.010064444, 0.010191397, 0.010389296, 0.010122413, 0.010482228, 0.010922046, 0.010054036, 0.010107137, 0.009987534, 0.010404861, 0.010593598, 0.009922739, 0.009942703, 0.010066528, 0.009851638, 0.009808114, 0.010242134, 0.010105213, 0.010210637, 0.009702786, 0.00983349, 0.010551505, 0.010059817, 0.010061723, 0.010390899, 0.010304492, 0.009913359, 0.009971704, 0.010429429, 0.009649495, 0.0099279955, 0.010119377, 0.010458748, 0.010067511, 0.010136242, 0.009745704, 0.009959379, 0.010334184, 0.010399631, 0.009945737, 0.010203809, 0.010153565, 0.010321541, 0.0101282, 0.010138487, 0.009894964, 0.010104119, 0.010514223, 0.010494332, 0.010341621, 0.010181152, 0.010002084, 0.00989543, 0.010593467, 0.009736779, 0.009904756, 0.010498186, 0.009947879, 0.010240694, 0.009780627, 0.009814876, 0.009923513, 0.010032518, 0.0106590865, 0.009644429, 0.010422958, 0.010432018, 0.010229172, 0.009777841, 0.009174558, 0.010230807, 0.0097635295, 0.0100278035, 0.009929564, 0.010258214, 0.009675146, 0.009929433, 0.0100210095, 0.01001006, 0.00984195, 0.010231744, 0.009751015, 0.00997663, 0.010138699, 0.010174642, 0.010238759, 0.010144715, 0.010233073, 0.010200125, 0.009897974, 0.010344594, 0.009964468]\n",
      "2022-02-27 19:46:07,978 : INFO : merging changes from 1204 documents into a model of 3204 documents\n",
      "2022-02-27 19:46:07,982 : INFO : topic #77 (0.009): 0.003*\"algol\" + 0.003*\"data\" + 0.003*\"storag\" + 0.003*\"magnet\" + 0.003*\"translat\" + 0.003*\"-\" + 0.002*\"tape\" + 0.001*\"simpson\" + 0.001*\"polygon\" + 0.001*\"regress\"\n",
      "2022-02-27 19:46:07,982 : INFO : topic #83 (0.010): 0.059*\"(\" + 0.052*\"algorithm\" + 0.044*\"graphic\" + 0.041*\"modifi\" + 0.037*\"solut\" + 0.036*\"[\" + 0.036*\"])\" + 0.036*\"meet\" + 0.034*\"head\" + 0.033*\",\"\n",
      "2022-02-27 19:46:07,982 : INFO : topic #71 (0.011): 0.183*\"(\" + 0.182*\"algorithm\" + 0.122*\")\" + 0.090*\"$\" + 0.073*\"))\" + 0.039*\"interpol\" + 0.033*\"exponenti\" + 0.026*\"squar\" + 0.023*\"fit\" + 0.021*\"remov\"\n",
      "2022-02-27 19:46:07,983 : INFO : topic #18 (0.011): 0.117*\",\" + 0.028*\"-\" + 0.023*\"system\" + 0.017*\"schedul\" + 0.016*\"program\" + 0.013*\"memori\" + 0.013*\"requir\" + 0.012*\"storag\" + 0.011*\"time\" + 0.011*\"(\"\n",
      "2022-02-27 19:46:07,983 : INFO : topic #13 (0.011): 0.143*\"languag\" + 0.101*\"program\" + 0.051*\",\" + 0.027*\"level\" + 0.022*\"-\" + 0.018*\"comput\" + 0.017*\"compil\" + 0.017*\"semant\" + 0.017*\"paper\" + 0.016*\"discuss\"\n",
      "2022-02-27 19:46:07,984 : INFO : topic diff=0.390795, rho=0.526900\n",
      "2022-02-27 19:46:07,987 : INFO : PROGRESS: pass 2, at document #2000/3204\n",
      "2022-02-27 19:46:08,416 : INFO : optimized alpha [0.009819331, 0.010386489, 0.009845933, 0.009895344, 0.010072769, 0.010490872, 0.009882814, 0.010175991, 0.010010913, 0.010200856, 0.010374717, 0.01006201, 0.010424572, 0.01114856, 0.010076074, 0.010116535, 0.010095453, 0.010311874, 0.010549782, 0.009950998, 0.00993018, 0.01006195, 0.009907147, 0.009907313, 0.0102732815, 0.010047316, 0.010175776, 0.0096774455, 0.010015793, 0.010581759, 0.01002587, 0.010070158, 0.010357902, 0.010261901, 0.009882214, 0.00998009, 0.0104410555, 0.0096119, 0.010001964, 0.010206874, 0.010425482, 0.010017729, 0.010146984, 0.009719557, 0.009978433, 0.010891388, 0.010418899, 0.009984439, 0.01019843, 0.010102832, 0.010244135, 0.010200175, 0.010076053, 0.009957132, 0.01008847, 0.010566711, 0.011034946, 0.010494506, 0.010121999, 0.009922634, 0.009888755, 0.0105743185, 0.009797908, 0.009887191, 0.010445183, 0.009903167, 0.010301118, 0.009776942, 0.0098417085, 0.009932152, 0.010011816, 0.010829106, 0.009678633, 0.0103831105, 0.010343879, 0.010200031, 0.009756187, 0.009053744, 0.01028758, 0.009790087, 0.010006184, 0.010105026, 0.010326423, 0.009609251, 0.009884615, 0.010033531, 0.010061435, 0.009878933, 0.010278602, 0.009795844, 0.010059625, 0.01012063, 0.010221815, 0.010195373, 0.01004845, 0.0102896, 0.010229115, 0.009849032, 0.010308205, 0.009991268]\n",
      "2022-02-27 19:46:08,419 : INFO : merging changes from 2000 documents into a model of 3204 documents\n",
      "2022-02-27 19:46:08,422 : INFO : topic #77 (0.009): 0.002*\"algol\" + 0.002*\"data\" + 0.002*\"storag\" + 0.002*\"magnet\" + 0.002*\"translat\" + 0.002*\"-\" + 0.002*\"tape\" + 0.001*\"simpson\" + 0.001*\"polygon\" + 0.001*\"regress\"\n",
      "2022-02-27 19:46:08,423 : INFO : topic #83 (0.010): 0.055*\"(\" + 0.042*\"algorithm\" + 0.041*\"modifi\" + 0.041*\",\" + 0.037*\"graphic\" + 0.036*\"solut\" + 0.036*\"meet\" + 0.033*\"])\" + 0.031*\"head\" + 0.031*\"[\"\n",
      "2022-02-27 19:46:08,423 : INFO : topic #71 (0.011): 0.183*\"(\" + 0.174*\"algorithm\" + 0.137*\")\" + 0.071*\"$\" + 0.053*\"))\" + 0.043*\"squar\" + 0.042*\"exponenti\" + 0.040*\"interpol\" + 0.032*\"fit\" + 0.020*\"integr\"\n",
      "2022-02-27 19:46:08,424 : INFO : topic #56 (0.011): 0.233*\"(\" + 0.232*\")\" + 0.170*\"algorithm\" + 0.047*\"'\" + 0.038*\"integr\" + 0.020*\"-\" + 0.016*\"normal\" + 0.015*\"evalu\" + 0.013*\"s15\" + 0.011*\"simpson\"\n",
      "2022-02-27 19:46:08,424 : INFO : topic #13 (0.011): 0.159*\"languag\" + 0.099*\"program\" + 0.052*\",\" + 0.026*\"-\" + 0.025*\"compil\" + 0.022*\"level\" + 0.020*\"comput\" + 0.016*\"discuss\" + 0.014*\"paper\" + 0.012*\"semant\"\n",
      "2022-02-27 19:46:08,424 : INFO : topic diff=0.351782, rho=0.466151\n",
      "2022-02-27 19:46:08,904 : INFO : -6.779 per-word bound, 109.9 perplexity estimate based on a held-out corpus of 1204 documents with 49783 words\n",
      "2022-02-27 19:46:08,904 : INFO : PROGRESS: pass 2, at document #3204/3204\n",
      "2022-02-27 19:46:09,248 : INFO : optimized alpha [0.009813781, 0.01060245, 0.009917645, 0.010083523, 0.010276866, 0.0107572, 0.009900629, 0.010409852, 0.010063529, 0.010419494, 0.010624293, 0.0101681445, 0.0107316, 0.0115877595, 0.010302811, 0.010282016, 0.0103241755, 0.010527251, 0.010692184, 0.010022878, 0.010091172, 0.010200263, 0.010000807, 0.010004618, 0.010470337, 0.010208503, 0.010294377, 0.009696915, 0.010169138, 0.010918, 0.010201752, 0.010145671, 0.01056977, 0.010423139, 0.009937472, 0.010035671, 0.010761592, 0.009651745, 0.010129959, 0.010406313, 0.010702058, 0.010250195, 0.010442453, 0.009776463, 0.010145547, 0.010946909, 0.010758446, 0.010097768, 0.0104693705, 0.0102862455, 0.010525242, 0.010447025, 0.0100995, 0.00999899, 0.010240067, 0.010920528, 0.011545133, 0.010876076, 0.010335375, 0.010032824, 0.010015057, 0.010872383, 0.009853932, 0.010025818, 0.010705513, 0.009932587, 0.010446112, 0.009875187, 0.009941349, 0.010019588, 0.010161309, 0.011064187, 0.009697343, 0.010723958, 0.010475409, 0.010364333, 0.009858703, 0.008908061, 0.0105249, 0.009830466, 0.0101819, 0.0101660695, 0.010468385, 0.009550414, 0.010034647, 0.010135023, 0.010173266, 0.009957012, 0.010527279, 0.009897981, 0.010124642, 0.010316416, 0.01029715, 0.010361959, 0.0101440335, 0.010549452, 0.010474722, 0.00990137, 0.0105257565, 0.01017039]\n",
      "2022-02-27 19:46:09,251 : INFO : merging changes from 1204 documents into a model of 3204 documents\n"
     ]
    },
    {
     "name": "stderr",
     "output_type": "stream",
     "text": [
      "2022-02-27 19:46:09,254 : INFO : topic #77 (0.009): 0.002*\"algol\" + 0.001*\"data\" + 0.001*\"storag\" + 0.001*\"magnet\" + 0.001*\"translat\" + 0.001*\"-\" + 0.001*\"tape\" + 0.001*\"simpson\" + 0.001*\"polygon\" + 0.001*\"regress\"\n",
      "2022-02-27 19:46:09,254 : INFO : topic #83 (0.010): 0.074*\"modifi\" + 0.059*\"graphic\" + 0.052*\"head\" + 0.051*\"(\" + 0.045*\"meet\" + 0.041*\"algorithm\" + 0.036*\",\" + 0.032*\"solut\" + 0.024*\")\" + 0.024*\"-\"\n",
      "2022-02-27 19:46:09,255 : INFO : topic #71 (0.011): 0.178*\"(\" + 0.172*\"algorithm\" + 0.116*\")\" + 0.095*\"$\" + 0.076*\"))\" + 0.044*\"interpol\" + 0.041*\"exponenti\" + 0.041*\"squar\" + 0.031*\"fit\" + 0.021*\"remov\"\n",
      "2022-02-27 19:46:09,255 : INFO : topic #56 (0.012): 0.256*\"(\" + 0.253*\")\" + 0.172*\"algorithm\" + 0.052*\"'\" + 0.035*\"integr\" + 0.022*\"-\" + 0.015*\"normal\" + 0.012*\"evalu\" + 0.010*\"gener\" + 0.009*\"function\"\n",
      "2022-02-27 19:46:09,255 : INFO : topic #13 (0.012): 0.163*\"languag\" + 0.117*\"program\" + 0.053*\",\" + 0.029*\"level\" + 0.023*\"-\" + 0.020*\"compil\" + 0.017*\"paper\" + 0.017*\"semant\" + 0.016*\"discuss\" + 0.015*\"comput\"\n",
      "2022-02-27 19:46:09,256 : INFO : topic diff=0.476242, rho=0.466151\n",
      "2022-02-27 19:46:09,260 : INFO : PROGRESS: pass 3, at document #2000/3204\n",
      "2022-02-27 19:46:09,657 : INFO : optimized alpha [0.009887526, 0.010802094, 0.00987365, 0.010123639, 0.010330844, 0.010789367, 0.009891647, 0.010375436, 0.010020618, 0.010435696, 0.010629464, 0.010118193, 0.010685527, 0.011823015, 0.010385407, 0.010320491, 0.010437549, 0.010455242, 0.0106636435, 0.010066054, 0.010102946, 0.010219814, 0.01006415, 0.010097442, 0.010522279, 0.010168516, 0.010267227, 0.009695951, 0.01036718, 0.010970831, 0.010183158, 0.010173329, 0.010563342, 0.010383907, 0.009908255, 0.0100696655, 0.01077863, 0.009637315, 0.010227304, 0.010555307, 0.010678551, 0.010214252, 0.0104878815, 0.0097722495, 0.010179495, 0.011379499, 0.010796119, 0.010163047, 0.0104910685, 0.010270345, 0.010459174, 0.010518257, 0.010042706, 0.010063948, 0.010234074, 0.0109894145, 0.01242603, 0.011060224, 0.010289237, 0.009974378, 0.0100344, 0.010871032, 0.009960261, 0.010035092, 0.010646115, 0.009900013, 0.0105162095, 0.009892927, 0.009991187, 0.010057418, 0.010170268, 0.011189146, 0.009749555, 0.0107046375, 0.010402761, 0.010350516, 0.009868557, 0.0088059325, 0.010615711, 0.0098760575, 0.010172256, 0.010320292, 0.0105929645, 0.009502282, 0.0100215, 0.010194001, 0.010243518, 0.009997302, 0.010584338, 0.009957786, 0.010211156, 0.010305515, 0.010357856, 0.01034846, 0.010064697, 0.010617566, 0.010524135, 0.00987303, 0.010493475, 0.010198295]\n",
      "2022-02-27 19:46:09,659 : INFO : merging changes from 2000 documents into a model of 3204 documents\n",
      "2022-02-27 19:46:09,662 : INFO : topic #77 (0.009): 0.001*\"algol\" + 0.001*\"data\" + 0.001*\"storag\" + 0.001*\"magnet\" + 0.001*\"translat\" + 0.001*\"-\" + 0.001*\"tape\" + 0.001*\"simpson\" + 0.001*\"polygon\" + 0.001*\"regress\"\n",
      "2022-02-27 19:46:09,663 : INFO : topic #83 (0.010): 0.075*\"modifi\" + 0.046*\"meet\" + 0.045*\"head\" + 0.044*\"(\" + 0.043*\"graphic\" + 0.038*\",\" + 0.035*\"romberg\" + 0.032*\"solut\" + 0.030*\"algorithm\" + 0.027*\"linear\"\n",
      "2022-02-27 19:46:09,663 : INFO : topic #45 (0.011): 0.225*\"algorithm\" + 0.205*\"(\" + 0.166*\"[\" + 0.140*\"])\" + 0.073*\")\" + 0.040*\"function\" + 0.022*\"-\" + 0.021*\"integr\" + 0.013*\"s14\" + 0.013*\"s22\"\n",
      "2022-02-27 19:46:09,663 : INFO : topic #13 (0.012): 0.175*\"languag\" + 0.114*\"program\" + 0.054*\",\" + 0.027*\"compil\" + 0.026*\"-\" + 0.024*\"level\" + 0.018*\"comput\" + 0.016*\"discuss\" + 0.014*\"paper\" + 0.013*\"featur\"\n",
      "2022-02-27 19:46:09,663 : INFO : topic #56 (0.012): 0.273*\"(\" + 0.270*\")\" + 0.188*\"algorithm\" + 0.040*\"'\" + 0.035*\"integr\" + 0.019*\"-\" + 0.013*\"normal\" + 0.012*\"evalu\" + 0.011*\"function\" + 0.009*\"s15\"\n",
      "2022-02-27 19:46:09,664 : INFO : topic diff=0.490747, rho=0.422502\n",
      "2022-02-27 19:46:10,117 : INFO : -6.700 per-word bound, 104.0 perplexity estimate based on a held-out corpus of 1204 documents with 49783 words\n",
      "2022-02-27 19:46:10,118 : INFO : PROGRESS: pass 3, at document #3204/3204\n",
      "2022-02-27 19:46:10,442 : INFO : optimized alpha [0.00993552, 0.011019441, 0.009974714, 0.010331906, 0.010521633, 0.0110573815, 0.009905389, 0.010600958, 0.010087394, 0.010643409, 0.010851172, 0.010236907, 0.010980029, 0.012218486, 0.010649526, 0.01048258, 0.010702888, 0.010637476, 0.010793649, 0.010163685, 0.010275162, 0.010382811, 0.010160139, 0.010196534, 0.010717559, 0.010297922, 0.010360975, 0.009735258, 0.010543287, 0.011278224, 0.010358727, 0.010263942, 0.01078363, 0.010549267, 0.009962841, 0.010109748, 0.011082199, 0.0097017465, 0.010351007, 0.01072744, 0.010928643, 0.010434987, 0.010838869, 0.009848896, 0.010357515, 0.011303015, 0.011133295, 0.010294975, 0.0107848495, 0.010452773, 0.010718377, 0.010756371, 0.010054968, 0.010116165, 0.010372658, 0.011328854, 0.013189584, 0.011444513, 0.010502949, 0.010089422, 0.010167427, 0.011172972, 0.010042516, 0.010197007, 0.0108659705, 0.009949247, 0.010621823, 0.010003699, 0.010110427, 0.010176205, 0.010339273, 0.011400766, 0.009801168, 0.011027009, 0.010552945, 0.010489672, 0.009972704, 0.0086822, 0.010878663, 0.009930453, 0.0103327865, 0.010392961, 0.010741, 0.009489437, 0.010212122, 0.010286257, 0.010374153, 0.010079064, 0.010836058, 0.010100426, 0.010269844, 0.010502935, 0.010422679, 0.010497061, 0.010163368, 0.010845545, 0.010783084, 0.009939173, 0.010722164, 0.010365814]\n",
      "2022-02-27 19:46:10,445 : INFO : merging changes from 1204 documents into a model of 3204 documents\n",
      "2022-02-27 19:46:10,448 : INFO : topic #77 (0.009): 0.001*\"algol\" + 0.001*\"data\" + 0.001*\"storag\" + 0.001*\"magnet\" + 0.001*\"translat\" + 0.001*\"-\" + 0.001*\"tape\" + 0.001*\"simpson\" + 0.001*\"polygon\" + 0.001*\"regress\"\n",
      "2022-02-27 19:46:10,448 : INFO : topic #83 (0.009): 0.110*\"modifi\" + 0.062*\"head\" + 0.050*\"graphic\" + 0.048*\"meet\" + 0.044*\"(\" + 0.033*\",\" + 0.032*\"linear\" + 0.032*\"solut\" + 0.031*\"romberg\" + 0.030*\"algorithm\"\n",
      "2022-02-27 19:46:10,449 : INFO : topic #57 (0.011): 0.127*\"solut\" + 0.112*\"equat\" + 0.109*\"problem\" + 0.086*\"method\" + 0.057*\"differenti\" + 0.039*\"comment\" + 0.028*\"numer\" + 0.028*\"weight\" + 0.026*\"'\" + 0.026*\"end\"\n",
      "2022-02-27 19:46:10,449 : INFO : topic #13 (0.012): 0.176*\"languag\" + 0.128*\"program\" + 0.055*\",\" + 0.029*\"level\" + 0.024*\"-\" + 0.021*\"compil\" + 0.016*\"paper\" + 0.016*\"semant\" + 0.016*\"featur\" + 0.015*\"discuss\"\n",
      "2022-02-27 19:46:10,449 : INFO : topic #56 (0.013): 0.289*\"(\" + 0.283*\")\" + 0.190*\"algorithm\" + 0.040*\"'\" + 0.032*\"integr\" + 0.021*\"-\" + 0.012*\"normal\" + 0.010*\"function\" + 0.010*\"evalu\" + 0.007*\"simpson\"\n",
      "2022-02-27 19:46:10,450 : INFO : topic diff=0.605200, rho=0.422502\n",
      "2022-02-27 19:46:10,454 : INFO : PROGRESS: pass 4, at document #2000/3204\n",
      "2022-02-27 19:46:10,838 : INFO : optimized alpha [0.010050518, 0.011224172, 0.009940461, 0.010384558, 0.010583317, 0.011092315, 0.009911913, 0.010578172, 0.010056754, 0.010657378, 0.010854745, 0.010211171, 0.010941503, 0.012459678, 0.0107507, 0.010526061, 0.010831002, 0.010576756, 0.010773688, 0.010211784, 0.010297434, 0.010416746, 0.010219, 0.010294717, 0.010781874, 0.01026305, 0.010338553, 0.009739012, 0.010745755, 0.011347657, 0.010346915, 0.010307753, 0.0107871415, 0.010514658, 0.009944678, 0.010141924, 0.011100229, 0.009710011, 0.010453458, 0.010885887, 0.010907285, 0.0104087135, 0.010913053, 0.009860779, 0.0104025835, 0.011716127, 0.011190037, 0.0103796255, 0.010811471, 0.010462157, 0.010655534, 0.010817363, 0.010016743, 0.0101765655, 0.010375041, 0.011417636, 0.014244841, 0.0116398875, 0.010473673, 0.010041865, 0.010189038, 0.011193783, 0.010165294, 0.010218976, 0.01081838, 0.009926183, 0.010678465, 0.010037623, 0.010168481, 0.010260958, 0.010361279, 0.011523241, 0.009865166, 0.011025889, 0.010496502, 0.010480875, 0.0099878665, 0.008593848, 0.010970695, 0.009976897, 0.010337489, 0.010538457, 0.010903519, 0.009454617, 0.010213128, 0.01037728, 0.010449199, 0.010120518, 0.010900676, 0.010171566, 0.010366304, 0.010520792, 0.010489367, 0.010498831, 0.010095219, 0.010914396, 0.010838129, 0.009915844, 0.010720308, 0.010399233]\n",
      "2022-02-27 19:46:10,841 : INFO : merging changes from 2000 documents into a model of 3204 documents\n",
      "2022-02-27 19:46:10,844 : INFO : topic #77 (0.009): 0.001*\"algol\" + 0.001*\"data\" + 0.001*\"storag\" + 0.001*\"magnet\" + 0.001*\"translat\" + 0.001*\"-\" + 0.001*\"tape\" + 0.001*\"simpson\" + 0.001*\"polygon\" + 0.001*\"regress\"\n"
     ]
    },
    {
     "name": "stderr",
     "output_type": "stream",
     "text": [
      "2022-02-27 19:46:10,845 : INFO : topic #83 (0.009): 0.108*\"modifi\" + 0.055*\"head\" + 0.049*\"meet\" + 0.044*\"romberg\" + 0.040*\"(\" + 0.036*\"graphic\" + 0.035*\"linear\" + 0.034*\",\" + 0.032*\"solut\" + 0.025*\"program\"\n",
      "2022-02-27 19:46:10,845 : INFO : topic #45 (0.012): 0.227*\"algorithm\" + 0.197*\"(\" + 0.192*\"[\" + 0.175*\"])\" + 0.039*\"function\" + 0.038*\")\" + 0.022*\"-\" + 0.017*\"s14\" + 0.015*\"integr\" + 0.014*\"s22\"\n",
      "2022-02-27 19:46:10,845 : INFO : topic #13 (0.012): 0.184*\"languag\" + 0.124*\"program\" + 0.056*\",\" + 0.027*\"compil\" + 0.027*\"-\" + 0.025*\"level\" + 0.016*\"comput\" + 0.016*\"discuss\" + 0.015*\"featur\" + 0.014*\"paper\"\n",
      "2022-02-27 19:46:10,846 : INFO : topic #56 (0.014): 0.296*\"(\" + 0.292*\")\" + 0.196*\"algorithm\" + 0.032*\"integr\" + 0.032*\"'\" + 0.018*\"-\" + 0.012*\"function\" + 0.011*\"normal\" + 0.010*\"evalu\" + 0.008*\"s15\"\n",
      "2022-02-27 19:46:10,846 : INFO : topic diff=0.595634, rho=0.389191\n",
      "2022-02-27 19:46:11,284 : INFO : -6.645 per-word bound, 100.1 perplexity estimate based on a held-out corpus of 1204 documents with 49783 words\n",
      "2022-02-27 19:46:11,284 : INFO : PROGRESS: pass 4, at document #3204/3204\n",
      "2022-02-27 19:46:11,591 : INFO : optimized alpha [0.010146976, 0.011416442, 0.010063939, 0.010592811, 0.010771337, 0.011350527, 0.009945231, 0.010784907, 0.010132353, 0.0108542945, 0.011072132, 0.010378233, 0.011231502, 0.012859601, 0.01100947, 0.01068361, 0.011094284, 0.010760056, 0.010912352, 0.010285613, 0.010464558, 0.010599515, 0.010324567, 0.010379598, 0.010974234, 0.010383338, 0.010429159, 0.009795201, 0.010923541, 0.011650998, 0.010507051, 0.01039509, 0.01099976, 0.010668382, 0.009999209, 0.01018272, 0.011392109, 0.009810979, 0.010574785, 0.011071256, 0.011150863, 0.010648512, 0.011308484, 0.009957595, 0.010591967, 0.011612637, 0.011525775, 0.010505437, 0.011136296, 0.010652662, 0.010897702, 0.0110435225, 0.010029742, 0.010261217, 0.010503852, 0.011748565, 0.0152341, 0.012031483, 0.010703706, 0.010148927, 0.010332291, 0.011488311, 0.01026087, 0.010369581, 0.011026659, 0.009985762, 0.010776129, 0.010143725, 0.010285974, 0.010408033, 0.010508302, 0.011724007, 0.009925884, 0.01131745, 0.0106431, 0.010630559, 0.010087729, 0.00848636, 0.011231342, 0.010053289, 0.0104901185, 0.0106255505, 0.011047897, 0.0094936825, 0.0104074385, 0.010489493, 0.010570202, 0.010199608, 0.011193182, 0.010327494, 0.010420178, 0.010697822, 0.010559597, 0.010643824, 0.010200453, 0.011130879, 0.011101722, 0.009981119, 0.010957926, 0.010565311]\n",
      "2022-02-27 19:46:11,594 : INFO : merging changes from 1204 documents into a model of 3204 documents\n",
      "2022-02-27 19:46:11,597 : INFO : topic #77 (0.008): 0.001*\"algol\" + 0.001*\"data\" + 0.001*\"storag\" + 0.001*\"magnet\" + 0.001*\"translat\" + 0.001*\"-\" + 0.001*\"tape\" + 0.001*\"simpson\" + 0.001*\"polygon\" + 0.001*\"regress\"\n",
      "2022-02-27 19:46:11,597 : INFO : topic #83 (0.009): 0.151*\"modifi\" + 0.065*\"head\" + 0.054*\"meet\" + 0.043*\"0\" + 0.039*\"linear\" + 0.037*\"(\" + 0.035*\"solut\" + 0.035*\"romberg\" + 0.031*\"graphic\" + 0.030*\",\"\n",
      "2022-02-27 19:46:11,598 : INFO : topic #57 (0.012): 0.140*\"solut\" + 0.123*\"equat\" + 0.114*\"problem\" + 0.083*\"method\" + 0.058*\"differenti\" + 0.038*\"comment\" + 0.028*\"'\" + 0.028*\"numer\" + 0.027*\"weight\" + 0.026*\"linear\"\n",
      "2022-02-27 19:46:11,598 : INFO : topic #13 (0.013): 0.184*\"languag\" + 0.135*\"program\" + 0.056*\",\" + 0.030*\"level\" + 0.025*\"-\" + 0.022*\"compil\" + 0.017*\"featur\" + 0.016*\"paper\" + 0.016*\"semant\" + 0.016*\"discuss\"\n",
      "2022-02-27 19:46:11,598 : INFO : topic #56 (0.015): 0.307*\"(\" + 0.301*\")\" + 0.197*\"algorithm\" + 0.033*\"'\" + 0.029*\"integr\" + 0.019*\"-\" + 0.011*\"function\" + 0.010*\"normal\" + 0.008*\"evalu\" + 0.006*\"simpson\"\n",
      "2022-02-27 19:46:11,599 : INFO : topic diff=0.661234, rho=0.389191\n",
      "2022-02-27 19:46:11,602 : INFO : PROGRESS: pass 5, at document #2000/3204\n",
      "2022-02-27 19:46:11,975 : INFO : optimized alpha [0.01030502, 0.011619316, 0.010041249, 0.010651308, 0.010830752, 0.011388253, 0.009964772, 0.010772488, 0.010121109, 0.010870489, 0.0110744415, 0.010355597, 0.01119951, 0.013103917, 0.011146628, 0.010729922, 0.011227079, 0.010694948, 0.010901682, 0.010334793, 0.010494606, 0.010650403, 0.010387373, 0.010483399, 0.011046148, 0.01035666, 0.010418229, 0.009804593, 0.0111201145, 0.011717115, 0.010503356, 0.010447685, 0.01102636, 0.010645586, 0.009988519, 0.010220899, 0.011409333, 0.009838411, 0.010682607, 0.011241787, 0.011139471, 0.010630263, 0.011393149, 0.009977936, 0.010652946, 0.012034033, 0.011579571, 0.010600293, 0.011157163, 0.0106725935, 0.010837536, 0.011110034, 0.010010409, 0.010319864, 0.010523135, 0.011835201, 0.016421951, 0.012226032, 0.010678862, 0.010117977, 0.010369136, 0.011510356, 0.010393625, 0.010410522, 0.010981241, 0.00998523, 0.010827379, 0.010181085, 0.010351686, 0.010512335, 0.010536338, 0.011838892, 0.0099897925, 0.011316504, 0.010592374, 0.010633714, 0.010098442, 0.008408622, 0.011333499, 0.0100988755, 0.0105075715, 0.010754952, 0.01123197, 0.009469174, 0.010413423, 0.010586629, 0.010648131, 0.010247978, 0.011275302, 0.010416791, 0.010518603, 0.010721809, 0.010639646, 0.010654927, 0.010137508, 0.011205008, 0.011160459, 0.009971065, 0.010954863, 0.010601925]\n",
      "2022-02-27 19:46:11,977 : INFO : merging changes from 2000 documents into a model of 3204 documents\n",
      "2022-02-27 19:46:11,980 : INFO : topic #77 (0.008): 0.001*\"algol\" + 0.001*\"data\" + 0.001*\"storag\" + 0.001*\"magnet\" + 0.001*\"translat\" + 0.001*\"-\" + 0.001*\"tape\" + 0.001*\"simpson\" + 0.001*\"polygon\" + 0.001*\"regress\"\n",
      "2022-02-27 19:46:11,981 : INFO : topic #83 (0.009): 0.146*\"modifi\" + 0.059*\"head\" + 0.054*\"meet\" + 0.046*\"romberg\" + 0.041*\"linear\" + 0.035*\"solut\" + 0.035*\"0\" + 0.035*\"(\" + 0.030*\",\" + 0.030*\"articl\"\n",
      "2022-02-27 19:46:11,981 : INFO : topic #57 (0.012): 0.144*\"solut\" + 0.135*\"equat\" + 0.109*\"problem\" + 0.084*\"method\" + 0.062*\"differenti\" + 0.036*\"numer\" + 0.031*\"comment\" + 0.027*\"'\" + 0.027*\"linear\" + 0.025*\"ordinari\"\n",
      "2022-02-27 19:46:11,981 : INFO : topic #13 (0.013): 0.191*\"languag\" + 0.131*\"program\" + 0.057*\",\" + 0.028*\"-\" + 0.027*\"compil\" + 0.025*\"level\" + 0.016*\"discuss\" + 0.016*\"comput\" + 0.015*\"featur\" + 0.014*\"paper\"\n",
      "2022-02-27 19:46:11,982 : INFO : topic #56 (0.016): 0.309*\"(\" + 0.304*\")\" + 0.200*\"algorithm\" + 0.029*\"integr\" + 0.027*\"'\" + 0.017*\"-\" + 0.013*\"function\" + 0.009*\"normal\" + 0.009*\"evalu\" + 0.007*\"s15\"\n",
      "2022-02-27 19:46:11,982 : INFO : topic diff=0.610940, rho=0.362690\n",
      "2022-02-27 19:46:12,404 : INFO : -6.604 per-word bound, 97.2 perplexity estimate based on a held-out corpus of 1204 documents with 49783 words\n",
      "2022-02-27 19:46:12,404 : INFO : PROGRESS: pass 5, at document #3204/3204\n",
      "2022-02-27 19:46:12,697 : INFO : optimized alpha [0.01041699, 0.0118076205, 0.010172859, 0.010883838, 0.01101459, 0.011618663, 0.010005712, 0.010970794, 0.010201699, 0.011062631, 0.011292879, 0.010538083, 0.011505111, 0.013491721, 0.011412984, 0.010878003, 0.011500841, 0.010870673, 0.011032021, 0.01042289, 0.010664777, 0.010849115, 0.010489551, 0.010562688, 0.011240962, 0.010460478, 0.0105034625, 0.009869602, 0.011284242, 0.012012162, 0.0106636295, 0.010542479, 0.011237111, 0.010809666, 0.0100492835, 0.01026257, 0.011682591, 0.009942411, 0.010805934, 0.011409916, 0.011359114, 0.01088281, 0.011806899, 0.010075026, 0.0108573185, 0.011931584, 0.011892473, 0.010708691, 0.011476119, 0.010865401, 0.011066114, 0.011327139, 0.01004536, 0.010414927, 0.010650452, 0.012143112, 0.017575732, 0.0126165515, 0.0109187905, 0.010212721, 0.010516349, 0.011814568, 0.010489218, 0.010561652, 0.01121096, 0.0100506935, 0.010912248, 0.010302194, 0.010474653, 0.010650642, 0.0106810145, 0.012027891, 0.01005885, 0.0116131585, 0.010723892, 0.010780954, 0.010183208, 0.008313648, 0.011590939, 0.010170679, 0.010663849, 0.0108523425, 0.011387732, 0.009526788, 0.010599935, 0.010704628, 0.010784161, 0.010315942, 0.0115744565, 0.01058594, 0.010584713, 0.010872132, 0.010702088, 0.010791337, 0.010245869, 0.0114195645, 0.011417066, 0.010032683, 0.011206168, 0.010777703]\n",
      "2022-02-27 19:46:12,700 : INFO : merging changes from 1204 documents into a model of 3204 documents\n",
      "2022-02-27 19:46:12,703 : INFO : topic #77 (0.008): 0.001*\"algol\" + 0.001*\"data\" + 0.001*\"storag\" + 0.001*\"magnet\" + 0.001*\"translat\" + 0.001*\"-\" + 0.001*\"tape\" + 0.001*\"simpson\" + 0.001*\"polygon\" + 0.001*\"regress\"\n",
      "2022-02-27 19:46:12,703 : INFO : topic #83 (0.010): 0.178*\"modifi\" + 0.068*\"head\" + 0.056*\"meet\" + 0.056*\"0\" + 0.045*\"linear\" + 0.036*\"solut\" + 0.036*\"articl\" + 0.035*\"romberg\" + 0.033*\"(\" + 0.031*\"appear\"\n"
     ]
    },
    {
     "name": "stderr",
     "output_type": "stream",
     "text": [
      "2022-02-27 19:46:12,704 : INFO : topic #57 (0.013): 0.150*\"solut\" + 0.130*\"equat\" + 0.116*\"problem\" + 0.078*\"method\" + 0.060*\"differenti\" + 0.037*\"comment\" + 0.031*\"'\" + 0.027*\"numer\" + 0.026*\"weight\" + 0.026*\"linear\"\n",
      "2022-02-27 19:46:12,704 : INFO : topic #13 (0.013): 0.190*\"languag\" + 0.141*\"program\" + 0.057*\",\" + 0.029*\"level\" + 0.026*\"-\" + 0.022*\"compil\" + 0.017*\"featur\" + 0.016*\"paper\" + 0.016*\"semant\" + 0.016*\"discuss\"\n",
      "2022-02-27 19:46:12,704 : INFO : topic #56 (0.018): 0.317*\"(\" + 0.312*\")\" + 0.200*\"algorithm\" + 0.028*\"'\" + 0.026*\"integr\" + 0.017*\"-\" + 0.012*\"function\" + 0.008*\"normal\" + 0.007*\"evalu\" + 0.005*\"simpson\"\n",
      "2022-02-27 19:46:12,705 : INFO : topic diff=0.635035, rho=0.362690\n",
      "2022-02-27 19:46:12,708 : INFO : PROGRESS: pass 6, at document #2000/3204\n",
      "2022-02-27 19:46:13,068 : INFO : optimized alpha [0.010582374, 0.012003959, 0.010156654, 0.010944275, 0.011072307, 0.011669563, 0.010031699, 0.010967709, 0.010193207, 0.0110791465, 0.011303755, 0.010525033, 0.01148659, 0.013738442, 0.01154193, 0.0109328935, 0.011632901, 0.010816459, 0.011023791, 0.010480266, 0.010705543, 0.01090992, 0.0105616255, 0.010661345, 0.011310609, 0.010439229, 0.010495412, 0.009887339, 0.011468731, 0.012079825, 0.010663434, 0.01059602, 0.011276981, 0.01078596, 0.010043252, 0.010311505, 0.0116973715, 0.009976904, 0.010921285, 0.011584928, 0.011353094, 0.010864153, 0.01189572, 0.010094379, 0.010924028, 0.012336872, 0.011941969, 0.010804323, 0.011494006, 0.010898552, 0.011008208, 0.011395369, 0.010035123, 0.010490094, 0.0106758345, 0.01223473, 0.018885924, 0.012805291, 0.010895785, 0.0101840375, 0.010558207, 0.011850122, 0.010626556, 0.010612673, 0.011172704, 0.010073277, 0.01097208, 0.010340955, 0.0105656, 0.010768031, 0.010710975, 0.012146892, 0.010134918, 0.0116202505, 0.010683688, 0.010791054, 0.010191812, 0.008244307, 0.011695405, 0.01022625, 0.010692724, 0.010982751, 0.011573573, 0.009510945, 0.010612288, 0.010802475, 0.010856153, 0.010365525, 0.011661488, 0.010676125, 0.01068367, 0.0109020015, 0.010787303, 0.010805426, 0.010190735, 0.011491282, 0.011473782, 0.0100273015, 0.011217279, 0.010819269]\n",
      "2022-02-27 19:46:13,071 : INFO : merging changes from 2000 documents into a model of 3204 documents\n",
      "2022-02-27 19:46:13,074 : INFO : topic #77 (0.008): 0.001*\"algol\" + 0.001*\"data\" + 0.001*\"storag\" + 0.001*\"magnet\" + 0.001*\"translat\" + 0.001*\"-\" + 0.001*\"tape\" + 0.001*\"simpson\" + 0.001*\"polygon\" + 0.001*\"regress\"\n",
      "2022-02-27 19:46:13,075 : INFO : topic #83 (0.010): 0.170*\"modifi\" + 0.061*\"head\" + 0.055*\"meet\" + 0.046*\"linear\" + 0.046*\"romberg\" + 0.044*\"0\" + 0.037*\"articl\" + 0.036*\"solut\" + 0.031*\"(\" + 0.029*\"program\"\n",
      "2022-02-27 19:46:13,075 : INFO : topic #57 (0.013): 0.152*\"solut\" + 0.140*\"equat\" + 0.111*\"problem\" + 0.079*\"method\" + 0.063*\"differenti\" + 0.036*\"numer\" + 0.031*\"comment\" + 0.029*\"'\" + 0.027*\"linear\" + 0.025*\"ordinari\"\n",
      "2022-02-27 19:46:13,075 : INFO : topic #13 (0.014): 0.197*\"languag\" + 0.136*\"program\" + 0.058*\",\" + 0.028*\"-\" + 0.027*\"compil\" + 0.026*\"level\" + 0.016*\"discuss\" + 0.015*\"featur\" + 0.015*\"comput\" + 0.014*\"paper\"\n",
      "2022-02-27 19:46:13,075 : INFO : topic #56 (0.019): 0.317*\"(\" + 0.313*\")\" + 0.203*\"algorithm\" + 0.027*\"integr\" + 0.024*\"'\" + 0.016*\"-\" + 0.013*\"function\" + 0.008*\"evalu\" + 0.008*\"normal\" + 0.007*\"s15\"\n",
      "2022-02-27 19:46:13,076 : INFO : topic diff=0.565373, rho=0.340958\n",
      "2022-02-27 19:46:13,493 : INFO : -6.573 per-word bound, 95.2 perplexity estimate based on a held-out corpus of 1204 documents with 49783 words\n",
      "2022-02-27 19:46:13,494 : INFO : PROGRESS: pass 6, at document #3204/3204\n",
      "2022-02-27 19:46:13,782 : INFO : optimized alpha [0.010694291, 0.012186261, 0.010299099, 0.011172767, 0.011244093, 0.01188244, 0.010079483, 0.011143758, 0.010284557, 0.011258562, 0.011521466, 0.010704582, 0.011792075, 0.014104725, 0.011813974, 0.01108269, 0.011918326, 0.010986317, 0.01116325, 0.010569734, 0.010867372, 0.011124608, 0.010655328, 0.010739205, 0.011499125, 0.010546733, 0.010576423, 0.009957576, 0.01162772, 0.012355153, 0.010827849, 0.010691965, 0.011487547, 0.01095415, 0.010106803, 0.010360034, 0.011968282, 0.010092497, 0.0110439975, 0.011771479, 0.011558784, 0.011114364, 0.012326596, 0.010200902, 0.011131287, 0.012238823, 0.012251991, 0.010906914, 0.011812827, 0.011094626, 0.0112319365, 0.011624969, 0.01007477, 0.010589032, 0.0107965255, 0.012540017, 0.020188065, 0.01319392, 0.011133802, 0.010282916, 0.010712876, 0.012151867, 0.010728857, 0.010756157, 0.011397785, 0.010152754, 0.011046, 0.010458725, 0.010691291, 0.01092072, 0.010854481, 0.0123192845, 0.010211714, 0.011913609, 0.010802412, 0.010924548, 0.010272289, 0.008159304, 0.011958204, 0.010297171, 0.010844092, 0.011093175, 0.01172127, 0.009590215, 0.010804944, 0.010917219, 0.010991346, 0.010429935, 0.011968798, 0.010840191, 0.0107521, 0.01103854, 0.010843023, 0.010934886, 0.010305206, 0.011698944, 0.011705974, 0.010100326, 0.011473253, 0.01099554]\n",
      "2022-02-27 19:46:13,785 : INFO : merging changes from 1204 documents into a model of 3204 documents\n",
      "2022-02-27 19:46:13,788 : INFO : topic #77 (0.008): 0.001*\"algol\" + 0.001*\"data\" + 0.001*\"storag\" + 0.001*\"magnet\" + 0.001*\"translat\" + 0.001*\"-\" + 0.001*\"tape\" + 0.001*\"simpson\" + 0.001*\"polygon\" + 0.001*\"regress\"\n",
      "2022-02-27 19:46:13,788 : INFO : topic #83 (0.010): 0.201*\"modifi\" + 0.067*\"head\" + 0.064*\"0\" + 0.056*\"meet\" + 0.048*\"linear\" + 0.038*\"articl\" + 0.037*\"appear\" + 0.037*\"solut\" + 0.035*\"romberg\" + 0.028*\"(\"\n",
      "2022-02-27 19:46:13,788 : INFO : topic #57 (0.013): 0.155*\"solut\" + 0.133*\"equat\" + 0.117*\"problem\" + 0.074*\"method\" + 0.060*\"differenti\" + 0.037*\"comment\" + 0.034*\"'\" + 0.027*\"numer\" + 0.026*\"weight\" + 0.026*\"linear\"\n",
      "2022-02-27 19:46:13,789 : INFO : topic #13 (0.014): 0.196*\"languag\" + 0.145*\"program\" + 0.058*\",\" + 0.029*\"level\" + 0.027*\"-\" + 0.022*\"compil\" + 0.017*\"featur\" + 0.016*\"paper\" + 0.016*\"semant\" + 0.016*\"discuss\"\n",
      "2022-02-27 19:46:13,789 : INFO : topic #56 (0.020): 0.325*\"(\" + 0.320*\")\" + 0.201*\"algorithm\" + 0.024*\"'\" + 0.024*\"integr\" + 0.016*\"-\" + 0.013*\"function\" + 0.008*\"normal\" + 0.007*\"evalu\" + 0.005*\"simpson\"\n",
      "2022-02-27 19:46:13,789 : INFO : topic diff=0.570497, rho=0.340958\n",
      "2022-02-27 19:46:13,793 : INFO : PROGRESS: pass 7, at document #2000/3204\n",
      "2022-02-27 19:46:14,141 : INFO : optimized alpha [0.010874326, 0.012371463, 0.010286856, 0.011235339, 0.011302447, 0.011936111, 0.010116123, 0.011142098, 0.010283478, 0.011277425, 0.011532928, 0.010695079, 0.011778352, 0.0143364305, 0.011943329, 0.011140183, 0.01205057, 0.010930981, 0.011153477, 0.010622872, 0.010902456, 0.011200383, 0.010731109, 0.010838791, 0.011576366, 0.010530241, 0.010581346, 0.009976392, 0.011807206, 0.012426869, 0.010827292, 0.010746721, 0.011525017, 0.010938314, 0.01010978, 0.010415467, 0.011984869, 0.010131914, 0.011161453, 0.0119555155, 0.011548523, 0.011104249, 0.012420147, 0.010222643, 0.011196332, 0.01263267, 0.012303598, 0.010998374, 0.011839413, 0.01113477, 0.011175859, 0.011697031, 0.010067601, 0.010666016, 0.010824182, 0.012632843, 0.02164952, 0.013394841, 0.01112158, 0.010254349, 0.01076462, 0.012208349, 0.010867676, 0.0108116185, 0.011364041, 0.01018448, 0.01110507, 0.01050408, 0.010781758, 0.011052783, 0.010886287, 0.012438629, 0.010291159, 0.011926361, 0.010766328, 0.010941289, 0.010285849, 0.008096792, 0.012059572, 0.010353705, 0.0108782835, 0.011225262, 0.011907783, 0.009586416, 0.010807232, 0.011010813, 0.011061702, 0.0104825245, 0.01206077, 0.01092459, 0.010846795, 0.011075777, 0.010933399, 0.010946492, 0.010254949, 0.011768818, 0.01176307, 0.010117041, 0.01149743, 0.011038279]\n",
      "2022-02-27 19:46:14,144 : INFO : merging changes from 2000 documents into a model of 3204 documents\n",
      "2022-02-27 19:46:14,147 : INFO : topic #77 (0.008): 0.001*\"algol\" + 0.001*\"data\" + 0.001*\"storag\" + 0.001*\"magnet\" + 0.001*\"translat\" + 0.001*\"-\" + 0.001*\"tape\" + 0.001*\"simpson\" + 0.001*\"polygon\" + 0.001*\"regress\"\n",
      "2022-02-27 19:46:14,147 : INFO : topic #83 (0.010): 0.193*\"modifi\" + 0.060*\"head\" + 0.054*\"meet\" + 0.053*\"0\" + 0.049*\"linear\" + 0.044*\"romberg\" + 0.039*\"articl\" + 0.035*\"appear\" + 0.035*\"solut\" + 0.031*\"program\"\n",
      "2022-02-27 19:46:14,147 : INFO : topic #57 (0.013): 0.157*\"solut\" + 0.142*\"equat\" + 0.113*\"problem\" + 0.076*\"method\" + 0.063*\"differenti\" + 0.035*\"numer\" + 0.032*\"'\" + 0.032*\"comment\" + 0.027*\"linear\" + 0.025*\"ordinari\"\n"
     ]
    },
    {
     "name": "stderr",
     "output_type": "stream",
     "text": [
      "2022-02-27 19:46:14,148 : INFO : topic #13 (0.014): 0.202*\"languag\" + 0.140*\"program\" + 0.059*\",\" + 0.029*\"-\" + 0.026*\"compil\" + 0.025*\"level\" + 0.016*\"discuss\" + 0.016*\"featur\" + 0.014*\"comput\" + 0.014*\"paper\"\n",
      "2022-02-27 19:46:14,148 : INFO : topic #56 (0.022): 0.324*\"(\" + 0.320*\")\" + 0.203*\"algorithm\" + 0.025*\"integr\" + 0.021*\"'\" + 0.015*\"-\" + 0.014*\"function\" + 0.008*\"normal\" + 0.008*\"evalu\" + 0.006*\"s15\"\n",
      "2022-02-27 19:46:14,148 : INFO : topic diff=0.499838, rho=0.322715\n",
      "2022-02-27 19:46:14,563 : INFO : -6.547 per-word bound, 93.5 perplexity estimate based on a held-out corpus of 1204 documents with 49783 words\n",
      "2022-02-27 19:46:14,563 : INFO : PROGRESS: pass 7, at document #3204/3204\n",
      "2022-02-27 19:46:14,850 : INFO : optimized alpha [0.010986691, 0.012549159, 0.010425932, 0.011464243, 0.0114758955, 0.012140157, 0.010167312, 0.011319567, 0.010376291, 0.011449056, 0.0117447665, 0.01088134, 0.012085519, 0.014702912, 0.0122190965, 0.011283295, 0.012339137, 0.011096347, 0.011283679, 0.010708186, 0.011060179, 0.011428215, 0.010823261, 0.010915655, 0.0117662735, 0.010632959, 0.010653079, 0.010048934, 0.01196529, 0.012691693, 0.010975774, 0.010841154, 0.011748906, 0.011099173, 0.010170663, 0.010470308, 0.012248362, 0.010239688, 0.011299467, 0.012147492, 0.011732726, 0.011347635, 0.012833665, 0.010335565, 0.011404333, 0.0125178, 0.012599073, 0.011102062, 0.0121375015, 0.011334883, 0.011393107, 0.011908131, 0.010119697, 0.010763148, 0.010945201, 0.0129305255, 0.023076132, 0.013772558, 0.011362102, 0.010343313, 0.010906838, 0.012506012, 0.010961946, 0.010948592, 0.011592132, 0.010274185, 0.011184469, 0.010622201, 0.010913474, 0.011216664, 0.011038194, 0.012603032, 0.010369812, 0.012208662, 0.010897485, 0.011086467, 0.010368278, 0.008019928, 0.012315778, 0.010429578, 0.011028856, 0.011333297, 0.012058233, 0.009664837, 0.011000661, 0.011120154, 0.011193816, 0.010546735, 0.012370936, 0.01108767, 0.010917611, 0.011233171, 0.010989182, 0.011073134, 0.010380907, 0.011974085, 0.011998536, 0.010197789, 0.011768238, 0.011221941]\n",
      "2022-02-27 19:46:14,853 : INFO : merging changes from 1204 documents into a model of 3204 documents\n",
      "2022-02-27 19:46:14,856 : INFO : topic #77 (0.008): 0.001*\"algol\" + 0.001*\"data\" + 0.001*\"storag\" + 0.001*\"magnet\" + 0.001*\"translat\" + 0.001*\"-\" + 0.001*\"tape\" + 0.001*\"simpson\" + 0.001*\"polygon\" + 0.001*\"regress\"\n",
      "2022-02-27 19:46:14,856 : INFO : topic #83 (0.010): 0.215*\"modifi\" + 0.068*\"0\" + 0.065*\"head\" + 0.055*\"meet\" + 0.051*\"linear\" + 0.047*\"appear\" + 0.039*\"articl\" + 0.035*\"solut\" + 0.034*\"romberg\" + 0.031*\"program\"\n",
      "2022-02-27 19:46:14,856 : INFO : topic #57 (0.014): 0.161*\"solut\" + 0.136*\"equat\" + 0.117*\"problem\" + 0.071*\"method\" + 0.061*\"differenti\" + 0.037*\"'\" + 0.036*\"comment\" + 0.028*\"numer\" + 0.026*\"linear\" + 0.026*\"integr\"\n",
      "2022-02-27 19:46:14,856 : INFO : topic #13 (0.015): 0.200*\"languag\" + 0.148*\"program\" + 0.059*\",\" + 0.028*\"level\" + 0.027*\"-\" + 0.022*\"compil\" + 0.017*\"featur\" + 0.016*\"discuss\" + 0.016*\"paper\" + 0.016*\"semant\"\n",
      "2022-02-27 19:46:14,857 : INFO : topic #56 (0.023): 0.330*\"(\" + 0.325*\")\" + 0.203*\"algorithm\" + 0.022*\"integr\" + 0.021*\"'\" + 0.015*\"-\" + 0.013*\"function\" + 0.008*\"normal\" + 0.006*\"evalu\" + 0.005*\"simpson\"\n",
      "2022-02-27 19:46:14,857 : INFO : topic diff=0.499807, rho=0.322715\n",
      "2022-02-27 19:46:14,861 : INFO : PROGRESS: pass 8, at document #2000/3204\n",
      "2022-02-27 19:46:15,207 : INFO : optimized alpha [0.011157793, 0.012734011, 0.0104156695, 0.011523763, 0.011533332, 0.012191097, 0.010207413, 0.011313989, 0.010378712, 0.011463135, 0.0117567135, 0.010876649, 0.012074298, 0.014948331, 0.012351269, 0.011343542, 0.012468122, 0.011048462, 0.011276117, 0.010774104, 0.011098621, 0.011521986, 0.010901024, 0.0110232355, 0.011836568, 0.010619138, 0.010656506, 0.01006874, 0.012137142, 0.012771588, 0.010981706, 0.010902174, 0.011791403, 0.011080342, 0.010180134, 0.01052529, 0.012261106, 0.010280551, 0.01142461, 0.012339227, 0.011727802, 0.011341955, 0.012926311, 0.010357952, 0.011473296, 0.012898035, 0.012656932, 0.011198577, 0.01216151, 0.011376405, 0.01133865, 0.011980517, 0.010118231, 0.010835528, 0.010968267, 0.013029006, 0.024624022, 0.013977858, 0.011354453, 0.010322897, 0.010959732, 0.012564995, 0.011102656, 0.011008431, 0.011564283, 0.010317439, 0.011244746, 0.010670554, 0.011015723, 0.011359697, 0.011065002, 0.012715606, 0.010441401, 0.012225018, 0.010866502, 0.011109094, 0.010386286, 0.007963121, 0.012409016, 0.010493558, 0.011071547, 0.011462292, 0.012244459, 0.009667444, 0.011010674, 0.01121529, 0.011266427, 0.010599003, 0.012470239, 0.011185774, 0.011020544, 0.011273755, 0.01108288, 0.011089365, 0.010337969, 0.012048079, 0.01205254, 0.010223492, 0.011793925, 0.011265918]\n",
      "2022-02-27 19:46:15,209 : INFO : merging changes from 2000 documents into a model of 3204 documents\n",
      "2022-02-27 19:46:15,212 : INFO : topic #77 (0.008): 0.001*\"algol\" + 0.001*\"data\" + 0.001*\"storag\" + 0.001*\"magnet\" + 0.001*\"translat\" + 0.001*\"-\" + 0.001*\"tape\" + 0.001*\"simpson\" + 0.001*\"polygon\" + 0.001*\"regress\"\n",
      "2022-02-27 19:46:15,213 : INFO : topic #83 (0.010): 0.208*\"modifi\" + 0.059*\"head\" + 0.057*\"0\" + 0.053*\"meet\" + 0.053*\"linear\" + 0.043*\"appear\" + 0.043*\"romberg\" + 0.041*\"articl\" + 0.034*\"solut\" + 0.033*\"program\"\n",
      "2022-02-27 19:46:15,213 : INFO : topic #57 (0.014): 0.162*\"solut\" + 0.144*\"equat\" + 0.113*\"problem\" + 0.072*\"method\" + 0.063*\"differenti\" + 0.035*\"numer\" + 0.035*\"'\" + 0.032*\"comment\" + 0.027*\"linear\" + 0.026*\"integr\"\n",
      "2022-02-27 19:46:15,213 : INFO : topic #13 (0.015): 0.206*\"languag\" + 0.144*\"program\" + 0.060*\",\" + 0.029*\"-\" + 0.026*\"compil\" + 0.025*\"level\" + 0.016*\"discuss\" + 0.016*\"featur\" + 0.014*\"paper\" + 0.014*\"comput\"\n",
      "2022-02-27 19:46:15,214 : INFO : topic #56 (0.025): 0.328*\"(\" + 0.324*\")\" + 0.205*\"algorithm\" + 0.023*\"integr\" + 0.019*\"'\" + 0.014*\"-\" + 0.014*\"function\" + 0.008*\"normal\" + 0.007*\"evalu\" + 0.006*\"s15\"\n",
      "2022-02-27 19:46:15,214 : INFO : topic diff=0.435869, rho=0.307119\n",
      "2022-02-27 19:46:15,622 : INFO : -6.527 per-word bound, 92.2 perplexity estimate based on a held-out corpus of 1204 documents with 49783 words\n",
      "2022-02-27 19:46:15,623 : INFO : PROGRESS: pass 8, at document #3204/3204\n",
      "2022-02-27 19:46:15,902 : INFO : optimized alpha [0.011282436, 0.012901608, 0.010562673, 0.011753969, 0.011700263, 0.012393957, 0.010264496, 0.011490504, 0.010473246, 0.01162811, 0.011966849, 0.011070006, 0.012406329, 0.015316647, 0.0126316575, 0.011489668, 0.012748171, 0.011210103, 0.01140983, 0.010861448, 0.011256043, 0.0117635075, 0.010994953, 0.011102345, 0.012047054, 0.010715064, 0.010722817, 0.010148761, 0.012288935, 0.013040659, 0.01111888, 0.010998341, 0.012016718, 0.011249351, 0.010249111, 0.010580672, 0.012509347, 0.010397222, 0.011574613, 0.012540611, 0.011911024, 0.011585627, 0.0133338235, 0.010466443, 0.011697692, 0.012781015, 0.012955794, 0.011306581, 0.01245324, 0.0115664005, 0.011547719, 0.012184079, 0.01016865, 0.010934286, 0.011087176, 0.013310759, 0.026127873, 0.014357075, 0.011589698, 0.010421771, 0.011104817, 0.012847136, 0.011204075, 0.011142797, 0.011787049, 0.010408831, 0.011320741, 0.010786782, 0.011148041, 0.0115320645, 0.01121681, 0.012879777, 0.010516795, 0.012501131, 0.010995315, 0.011265714, 0.010470765, 0.00789303, 0.0126503715, 0.010574433, 0.011224742, 0.011571434, 0.01239201, 0.009757668, 0.0112113105, 0.011325911, 0.011401892, 0.010663294, 0.0127910795, 0.011351533, 0.011099416, 0.011436837, 0.011138937, 0.011210997, 0.010466906, 0.012258324, 0.012270622, 0.010319432, 0.012068173, 0.011460085]\n",
      "2022-02-27 19:46:15,904 : INFO : merging changes from 1204 documents into a model of 3204 documents\n",
      "2022-02-27 19:46:15,907 : INFO : topic #77 (0.008): 0.001*\"algol\" + 0.001*\"data\" + 0.001*\"storag\" + 0.001*\"magnet\" + 0.001*\"translat\" + 0.001*\"-\" + 0.001*\"tape\" + 0.001*\"simpson\" + 0.001*\"polygon\" + 0.001*\"regress\"\n",
      "2022-02-27 19:46:15,908 : INFO : topic #83 (0.010): 0.223*\"modifi\" + 0.073*\"0\" + 0.063*\"head\" + 0.055*\"linear\" + 0.053*\"meet\" + 0.051*\"appear\" + 0.040*\"articl\" + 0.035*\"row\" + 0.033*\"romberg\" + 0.033*\"solut\"\n",
      "2022-02-27 19:46:15,908 : INFO : topic #57 (0.014): 0.166*\"solut\" + 0.138*\"equat\" + 0.117*\"problem\" + 0.067*\"method\" + 0.061*\"differenti\" + 0.040*\"'\" + 0.036*\"comment\" + 0.028*\"numer\" + 0.027*\"integr\" + 0.027*\"linear\"\n"
     ]
    },
    {
     "name": "stderr",
     "output_type": "stream",
     "text": [
      "2022-02-27 19:46:15,908 : INFO : topic #13 (0.015): 0.203*\"languag\" + 0.151*\"program\" + 0.060*\",\" + 0.028*\"level\" + 0.027*\"-\" + 0.022*\"compil\" + 0.018*\"featur\" + 0.016*\"discuss\" + 0.016*\"paper\" + 0.015*\"semant\"\n",
      "2022-02-27 19:46:15,909 : INFO : topic #56 (0.026): 0.335*\"(\" + 0.329*\")\" + 0.204*\"algorithm\" + 0.020*\"integr\" + 0.019*\"'\" + 0.014*\"-\" + 0.013*\"function\" + 0.008*\"normal\" + 0.006*\"evalu\" + 0.005*\"simpson\"\n",
      "2022-02-27 19:46:15,909 : INFO : topic diff=0.436491, rho=0.307119\n",
      "2022-02-27 19:46:15,913 : INFO : PROGRESS: pass 9, at document #2000/3204\n",
      "2022-02-27 19:46:16,259 : INFO : optimized alpha [0.011463739, 0.013085001, 0.010552593, 0.011821234, 0.011755265, 0.012444355, 0.010309447, 0.011488161, 0.010480434, 0.011642996, 0.011986517, 0.0110664675, 0.012398958, 0.01557184, 0.012763335, 0.011549258, 0.012870904, 0.01116728, 0.011405961, 0.010915534, 0.011297764, 0.0118782995, 0.011073317, 0.011206432, 0.012117913, 0.010705294, 0.010729699, 0.010168024, 0.012461176, 0.013120809, 0.011127769, 0.011058858, 0.012060583, 0.011237546, 0.010260068, 0.010640157, 0.012518668, 0.010441161, 0.011716087, 0.012719932, 0.011904097, 0.0115859145, 0.013420029, 0.010491056, 0.011774139, 0.013149128, 0.013016049, 0.011398179, 0.012473144, 0.011604232, 0.011494692, 0.012251575, 0.010172354, 0.011007412, 0.01110771, 0.013409142, 0.02782128, 0.014559087, 0.011577924, 0.010402484, 0.011158945, 0.012910751, 0.011345456, 0.011206875, 0.011755873, 0.010456731, 0.0113889575, 0.010836499, 0.011263435, 0.011677717, 0.011245713, 0.012992009, 0.010592131, 0.012517436, 0.010968839, 0.011297238, 0.010489879, 0.007841003, 0.012743596, 0.010636242, 0.0112739345, 0.011696234, 0.012580413, 0.00976319, 0.01122691, 0.011419542, 0.0114802355, 0.010720069, 0.012901487, 0.011442971, 0.0111988885, 0.011489064, 0.011231174, 0.011228272, 0.01042422, 0.012334632, 0.012322035, 0.010351895, 0.012093543, 0.011507036]\n",
      "2022-02-27 19:46:16,261 : INFO : merging changes from 2000 documents into a model of 3204 documents\n",
      "2022-02-27 19:46:16,264 : INFO : topic #77 (0.008): 0.001*\"algol\" + 0.001*\"data\" + 0.001*\"storag\" + 0.001*\"magnet\" + 0.001*\"translat\" + 0.001*\"-\" + 0.001*\"tape\" + 0.001*\"simpson\" + 0.001*\"polygon\" + 0.001*\"regress\"\n",
      "2022-02-27 19:46:16,264 : INFO : topic #83 (0.010): 0.218*\"modifi\" + 0.063*\"0\" + 0.059*\"head\" + 0.057*\"linear\" + 0.052*\"meet\" + 0.047*\"appear\" + 0.042*\"articl\" + 0.042*\"romberg\" + 0.037*\"row\" + 0.035*\"program\"\n",
      "2022-02-27 19:46:16,265 : INFO : topic #57 (0.015): 0.166*\"solut\" + 0.146*\"equat\" + 0.113*\"problem\" + 0.070*\"method\" + 0.063*\"differenti\" + 0.038*\"'\" + 0.035*\"numer\" + 0.032*\"comment\" + 0.028*\"linear\" + 0.027*\"integr\"\n",
      "2022-02-27 19:46:16,265 : INFO : topic #13 (0.016): 0.208*\"languag\" + 0.146*\"program\" + 0.061*\",\" + 0.029*\"-\" + 0.026*\"compil\" + 0.025*\"level\" + 0.017*\"featur\" + 0.016*\"discuss\" + 0.014*\"paper\" + 0.014*\"comput\"\n",
      "2022-02-27 19:46:16,265 : INFO : topic #56 (0.028): 0.333*\"(\" + 0.328*\")\" + 0.207*\"algorithm\" + 0.022*\"integr\" + 0.017*\"'\" + 0.013*\"-\" + 0.013*\"function\" + 0.008*\"normal\" + 0.007*\"evalu\" + 0.006*\"s15\"\n",
      "2022-02-27 19:46:16,266 : INFO : topic diff=0.380006, rho=0.293585\n",
      "2022-02-27 19:46:16,671 : INFO : -6.511 per-word bound, 91.2 perplexity estimate based on a held-out corpus of 1204 documents with 49783 words\n",
      "2022-02-27 19:46:16,671 : INFO : PROGRESS: pass 9, at document #3204/3204\n",
      "2022-02-27 19:46:16,950 : INFO : optimized alpha [0.011603471, 0.013243383, 0.010692012, 0.012047672, 0.011913665, 0.012637552, 0.010367019, 0.011655885, 0.010571587, 0.011810788, 0.012192816, 0.011258981, 0.012731862, 0.015947064, 0.013036983, 0.011695943, 0.013159227, 0.011339669, 0.011543444, 0.011002358, 0.011447088, 0.012145842, 0.011163734, 0.011290544, 0.012330871, 0.010797858, 0.010807, 0.010247773, 0.012610489, 0.013378847, 0.011262893, 0.011151564, 0.012276089, 0.011400871, 0.010329117, 0.01069618, 0.012752971, 0.010558867, 0.011869516, 0.012937191, 0.012078001, 0.011830716, 0.013812788, 0.01060088, 0.011997716, 0.013039696, 0.013306422, 0.011499364, 0.012768603, 0.011788087, 0.011691094, 0.012451647, 0.010236353, 0.011102483, 0.011216939, 0.0136763835, 0.02943127, 0.014933534, 0.011825941, 0.010495331, 0.011293603, 0.0131755285, 0.011442986, 0.011333781, 0.011980135, 0.010549986, 0.011456483, 0.010945956, 0.011399511, 0.011861694, 0.011397858, 0.013153254, 0.010664688, 0.012788491, 0.011101334, 0.011451243, 0.010573976, 0.007776634, 0.012980838, 0.010711468, 0.011424729, 0.011806774, 0.012719479, 0.009850212, 0.0114323115, 0.01152883, 0.011619345, 0.010781977, 0.013211824, 0.011608956, 0.011282904, 0.011649498, 0.011282118, 0.011351107, 0.0105461525, 0.012535133, 0.012545192, 0.010454651, 0.012389621, 0.011692302]\n",
      "2022-02-27 19:46:16,952 : INFO : merging changes from 1204 documents into a model of 3204 documents\n",
      "2022-02-27 19:46:16,955 : INFO : topic #77 (0.008): 0.001*\"algol\" + 0.001*\"data\" + 0.001*\"storag\" + 0.001*\"magnet\" + 0.001*\"translat\" + 0.001*\"-\" + 0.001*\"tape\" + 0.001*\"simpson\" + 0.001*\"polygon\" + 0.001*\"regress\"\n",
      "2022-02-27 19:46:16,956 : INFO : topic #83 (0.010): 0.230*\"modifi\" + 0.077*\"0\" + 0.063*\"head\" + 0.059*\"linear\" + 0.053*\"meet\" + 0.051*\"appear\" + 0.046*\"row\" + 0.040*\"articl\" + 0.034*\"program\" + 0.033*\"romberg\"\n",
      "2022-02-27 19:46:16,956 : INFO : topic #57 (0.015): 0.170*\"solut\" + 0.141*\"equat\" + 0.118*\"problem\" + 0.064*\"method\" + 0.061*\"differenti\" + 0.043*\"'\" + 0.036*\"comment\" + 0.028*\"numer\" + 0.028*\"linear\" + 0.028*\"integr\"\n",
      "2022-02-27 19:46:16,956 : INFO : topic #13 (0.016): 0.205*\"languag\" + 0.154*\"program\" + 0.061*\",\" + 0.027*\"level\" + 0.027*\"-\" + 0.022*\"compil\" + 0.019*\"featur\" + 0.016*\"discuss\" + 0.016*\"paper\" + 0.015*\"semant\"\n",
      "2022-02-27 19:46:16,957 : INFO : topic #56 (0.029): 0.338*\"(\" + 0.332*\")\" + 0.206*\"algorithm\" + 0.020*\"integr\" + 0.018*\"'\" + 0.013*\"-\" + 0.012*\"function\" + 0.007*\"normal\" + 0.006*\"evalu\" + 0.005*\"simpson\"\n",
      "2022-02-27 19:46:16,957 : INFO : topic diff=0.381877, rho=0.293585\n",
      "2022-02-27 19:46:16,961 : INFO : PROGRESS: pass 10, at document #2000/3204\n",
      "2022-02-27 19:46:17,303 : INFO : optimized alpha [0.0117937755, 0.013425693, 0.010682115, 0.012110632, 0.01196162, 0.012685746, 0.010415086, 0.011649973, 0.010580203, 0.011826458, 0.012212887, 0.0112596825, 0.012728247, 0.0161992, 0.013164877, 0.011758328, 0.013285445, 0.011296461, 0.011544619, 0.011059549, 0.011482356, 0.012269397, 0.011245962, 0.011394725, 0.012402524, 0.010787187, 0.010818621, 0.01026938, 0.012778294, 0.013459578, 0.01127132, 0.01121496, 0.012324955, 0.011395617, 0.010344356, 0.010752394, 0.012761047, 0.010599834, 0.012025554, 0.01312524, 0.012070907, 0.011833312, 0.013894917, 0.010630653, 0.012076452, 0.013400899, 0.013361808, 0.0115882335, 0.012793574, 0.011824284, 0.011639424, 0.012518317, 0.0102417525, 0.0111795915, 0.011238354, 0.013780927, 0.031231668, 0.0151241105, 0.011816731, 0.010480031, 0.011360154, 0.013241908, 0.011585353, 0.011398952, 0.0119526, 0.010602437, 0.0115226535, 0.010994015, 0.011524594, 0.01201372, 0.011425535, 0.013269249, 0.010734757, 0.012801172, 0.01107741, 0.011483075, 0.010595623, 0.007728699, 0.013068867, 0.010775891, 0.011473735, 0.0119295865, 0.012912225, 0.009858444, 0.011446773, 0.011621237, 0.011693496, 0.010838607, 0.013322282, 0.011702514, 0.0113889, 0.01171302, 0.011377961, 0.011369409, 0.010506724, 0.0126086455, 0.012592488, 0.010496446, 0.012426761, 0.011735698]\n",
      "2022-02-27 19:46:17,306 : INFO : merging changes from 2000 documents into a model of 3204 documents\n",
      "2022-02-27 19:46:17,309 : INFO : topic #77 (0.008): 0.001*\"algol\" + 0.001*\"data\" + 0.001*\"storag\" + 0.001*\"magnet\" + 0.001*\"translat\" + 0.001*\"-\" + 0.001*\"tape\" + 0.001*\"simpson\" + 0.001*\"polygon\" + 0.001*\"regress\"\n",
      "2022-02-27 19:46:17,309 : INFO : topic #83 (0.010): 0.225*\"modifi\" + 0.068*\"0\" + 0.060*\"linear\" + 0.059*\"head\" + 0.052*\"meet\" + 0.049*\"appear\" + 0.046*\"row\" + 0.042*\"articl\" + 0.041*\"romberg\" + 0.036*\"program\"\n",
      "2022-02-27 19:46:17,309 : INFO : topic #57 (0.015): 0.170*\"solut\" + 0.148*\"equat\" + 0.114*\"problem\" + 0.067*\"method\" + 0.063*\"differenti\" + 0.040*\"'\" + 0.035*\"numer\" + 0.032*\"comment\" + 0.029*\"linear\" + 0.028*\"integr\"\n",
      "2022-02-27 19:46:17,310 : INFO : topic #13 (0.016): 0.210*\"languag\" + 0.149*\"program\" + 0.062*\",\" + 0.028*\"-\" + 0.026*\"compil\" + 0.024*\"level\" + 0.017*\"featur\" + 0.016*\"discuss\" + 0.014*\"paper\" + 0.014*\"comput\"\n"
     ]
    },
    {
     "name": "stderr",
     "output_type": "stream",
     "text": [
      "2022-02-27 19:46:17,310 : INFO : topic #56 (0.031): 0.336*\"(\" + 0.331*\")\" + 0.208*\"algorithm\" + 0.021*\"integr\" + 0.017*\"'\" + 0.013*\"-\" + 0.012*\"function\" + 0.008*\"normal\" + 0.006*\"evalu\" + 0.006*\"s15\"\n",
      "2022-02-27 19:46:17,310 : INFO : topic diff=0.333043, rho=0.281696\n",
      "2022-02-27 19:46:17,710 : INFO : -6.498 per-word bound, 90.4 perplexity estimate based on a held-out corpus of 1204 documents with 49783 words\n",
      "2022-02-27 19:46:17,710 : INFO : PROGRESS: pass 10, at document #3204/3204\n",
      "2022-02-27 19:46:17,985 : INFO : optimized alpha [0.011954048, 0.013581937, 0.0108197015, 0.012336898, 0.012112308, 0.0128792245, 0.010475674, 0.011815321, 0.0106834695, 0.011986385, 0.012410276, 0.01145189, 0.013068863, 0.01655906, 0.013444834, 0.0119031435, 0.013564, 0.011479429, 0.011686086, 0.011146116, 0.011624249, 0.012557651, 0.01133326, 0.011478389, 0.012630196, 0.010876863, 0.010898616, 0.01034419, 0.012919633, 0.013713884, 0.011410125, 0.011301886, 0.012546336, 0.01155936, 0.010411247, 0.010809133, 0.01298863, 0.010713767, 0.012199704, 0.013371385, 0.012242284, 0.012071636, 0.014276996, 0.01074452, 0.012305605, 0.013282686, 0.013641525, 0.011688834, 0.013084687, 0.012000001, 0.011835247, 0.012709587, 0.010303811, 0.011276658, 0.011344027, 0.014037945, 0.032887384, 0.0154982135, 0.01207201, 0.010569992, 0.011485265, 0.013515735, 0.01168472, 0.011519118, 0.012170369, 0.010700174, 0.011596018, 0.011099923, 0.011656532, 0.01219821, 0.011575688, 0.013428371, 0.010802286, 0.0130769955, 0.011237294, 0.0116297295, 0.010676989, 0.00766923, 0.013299727, 0.010846094, 0.011619819, 0.012039019, 0.013046552, 0.009944979, 0.011649173, 0.011729529, 0.011833719, 0.010895876, 0.013651121, 0.011863681, 0.011480652, 0.011874176, 0.011429675, 0.011491032, 0.010619813, 0.0128062945, 0.012803533, 0.0105959745, 0.012736595, 0.011918332]\n",
      "2022-02-27 19:46:17,988 : INFO : merging changes from 1204 documents into a model of 3204 documents\n",
      "2022-02-27 19:46:17,991 : INFO : topic #77 (0.008): 0.001*\"algol\" + 0.001*\"data\" + 0.001*\"storag\" + 0.001*\"magnet\" + 0.001*\"translat\" + 0.001*\"-\" + 0.001*\"tape\" + 0.001*\"simpson\" + 0.001*\"polygon\" + 0.001*\"regress\"\n",
      "2022-02-27 19:46:17,991 : INFO : topic #83 (0.010): 0.234*\"modifi\" + 0.082*\"0\" + 0.062*\"head\" + 0.061*\"linear\" + 0.053*\"appear\" + 0.053*\"meet\" + 0.052*\"row\" + 0.041*\"articl\" + 0.035*\"program\" + 0.033*\"romberg\"\n",
      "2022-02-27 19:46:17,991 : INFO : topic #57 (0.015): 0.174*\"solut\" + 0.143*\"equat\" + 0.119*\"problem\" + 0.062*\"method\" + 0.061*\"differenti\" + 0.044*\"'\" + 0.037*\"comment\" + 0.029*\"linear\" + 0.029*\"integr\" + 0.029*\"numer\"\n",
      "2022-02-27 19:46:17,992 : INFO : topic #13 (0.017): 0.207*\"languag\" + 0.157*\"program\" + 0.062*\",\" + 0.027*\"level\" + 0.027*\"-\" + 0.022*\"compil\" + 0.019*\"featur\" + 0.016*\"discuss\" + 0.016*\"paper\" + 0.014*\"semant\"\n",
      "2022-02-27 19:46:17,992 : INFO : topic #56 (0.033): 0.342*\"(\" + 0.334*\")\" + 0.207*\"algorithm\" + 0.019*\"integr\" + 0.017*\"'\" + 0.013*\"-\" + 0.011*\"function\" + 0.007*\"normal\" + 0.005*\"evalu\" + 0.005*\"simpson\"\n",
      "2022-02-27 19:46:17,992 : INFO : topic diff=0.336720, rho=0.281696\n",
      "2022-02-27 19:46:17,996 : INFO : PROGRESS: pass 11, at document #2000/3204\n",
      "2022-02-27 19:46:18,335 : INFO : optimized alpha [0.012147371, 0.013756327, 0.010814381, 0.012399239, 0.012166857, 0.012927303, 0.010523865, 0.011812465, 0.010696167, 0.012002887, 0.012429124, 0.011458275, 0.013065365, 0.016828872, 0.013574771, 0.011966842, 0.013682964, 0.011435625, 0.011685467, 0.011209192, 0.011661427, 0.012695288, 0.011417834, 0.011584425, 0.01270449, 0.0108713, 0.010910182, 0.010352789, 0.013083461, 0.013799169, 0.011421289, 0.011355741, 0.0125984205, 0.011558749, 0.010431886, 0.010859388, 0.012995569, 0.010760722, 0.012365542, 0.013572384, 0.012236724, 0.012076504, 0.01435737, 0.010776227, 0.012385108, 0.013632453, 0.013701612, 0.011768889, 0.013098748, 0.012038148, 0.01178473, 0.012772163, 0.0103121875, 0.01135467, 0.011364798, 0.014139118, 0.034754027, 0.015690567, 0.012065187, 0.010564099, 0.01155921, 0.013583144, 0.011826827, 0.01158236, 0.012146217, 0.010754075, 0.011655645, 0.011151084, 0.011786554, 0.012353463, 0.011602277, 0.0135428645, 0.010873357, 0.013095094, 0.011218511, 0.01166835, 0.0106966505, 0.0076248394, 0.013386582, 0.01091022, 0.011670337, 0.012161823, 0.013235139, 0.009954413, 0.011665775, 0.011819375, 0.011910431, 0.010951012, 0.013771284, 0.011962666, 0.011594823, 0.011947007, 0.011524491, 0.01151026, 0.0105819, 0.012875595, 0.012848864, 0.010645264, 0.0127783725, 0.0119632855]\n",
      "2022-02-27 19:46:18,338 : INFO : merging changes from 2000 documents into a model of 3204 documents\n",
      "2022-02-27 19:46:18,341 : INFO : topic #77 (0.008): 0.001*\"algol\" + 0.001*\"data\" + 0.001*\"storag\" + 0.001*\"magnet\" + 0.001*\"translat\" + 0.001*\"-\" + 0.001*\"tape\" + 0.001*\"simpson\" + 0.001*\"polygon\" + 0.001*\"regress\"\n",
      "2022-02-27 19:46:18,341 : INFO : topic #83 (0.010): 0.230*\"modifi\" + 0.073*\"0\" + 0.062*\"linear\" + 0.060*\"head\" + 0.052*\"meet\" + 0.051*\"appear\" + 0.050*\"row\" + 0.043*\"articl\" + 0.041*\"romberg\" + 0.037*\"program\"\n",
      "2022-02-27 19:46:18,341 : INFO : topic #57 (0.016): 0.173*\"solut\" + 0.149*\"equat\" + 0.115*\"problem\" + 0.065*\"method\" + 0.063*\"differenti\" + 0.041*\"'\" + 0.035*\"numer\" + 0.032*\"comment\" + 0.030*\"linear\" + 0.028*\"integr\"\n",
      "2022-02-27 19:46:18,342 : INFO : topic #13 (0.017): 0.211*\"languag\" + 0.153*\"program\" + 0.063*\",\" + 0.028*\"-\" + 0.025*\"compil\" + 0.024*\"level\" + 0.018*\"featur\" + 0.016*\"discuss\" + 0.015*\"paper\" + 0.014*\"comput\"\n",
      "2022-02-27 19:46:18,342 : INFO : topic #56 (0.035): 0.340*\"(\" + 0.333*\")\" + 0.209*\"algorithm\" + 0.020*\"integr\" + 0.016*\"'\" + 0.012*\"-\" + 0.010*\"function\" + 0.008*\"normal\" + 0.006*\"evalu\" + 0.006*\"s15\"\n",
      "2022-02-27 19:46:18,342 : INFO : topic diff=0.294145, rho=0.271143\n",
      "2022-02-27 19:46:18,743 : INFO : -6.484 per-word bound, 89.5 perplexity estimate based on a held-out corpus of 1204 documents with 49783 words\n",
      "2022-02-27 19:46:18,744 : INFO : PROGRESS: pass 11, at document #3204/3204\n",
      "2022-02-27 19:46:19,014 : INFO : optimized alpha [0.012330949, 0.013913923, 0.010943173, 0.01262586, 0.012316022, 0.01312153, 0.010589822, 0.011970445, 0.01078918, 0.012166434, 0.012627003, 0.011640343, 0.013405524, 0.0171933, 0.013852228, 0.01210213, 0.013955614, 0.011608285, 0.011820252, 0.011300764, 0.011807337, 0.013004673, 0.011502355, 0.011673227, 0.012921205, 0.010963403, 0.010992773, 0.010416122, 0.013226264, 0.014050444, 0.011556211, 0.01144524, 0.012820193, 0.011731152, 0.010499204, 0.01092435, 0.013220027, 0.010871436, 0.0125546865, 0.013810431, 0.01240612, 0.0123118125, 0.014719792, 0.010889336, 0.012617439, 0.013518373, 0.013974848, 0.0118637085, 0.013374525, 0.012214718, 0.01196979, 0.01296411, 0.010377323, 0.011451296, 0.011469886, 0.014393299, 0.03645013, 0.016061712, 0.012306464, 0.01064664, 0.011683304, 0.013860207, 0.011920285, 0.011698988, 0.0123584, 0.010858827, 0.011729383, 0.011253834, 0.011917365, 0.012544557, 0.011748283, 0.013703353, 0.01093876, 0.013367534, 0.011389288, 0.01180561, 0.010782842, 0.0075696083, 0.013611734, 0.010968388, 0.011820213, 0.0122649595, 0.013371154, 0.010042907, 0.011865744, 0.011932489, 0.012049344, 0.011008973, 0.014110363, 0.0121223, 0.011691496, 0.012117386, 0.011574362, 0.011633604, 0.010698894, 0.013056334, 0.013054458, 0.010741944, 0.013096643, 0.012146512]\n",
      "2022-02-27 19:46:19,016 : INFO : merging changes from 1204 documents into a model of 3204 documents\n",
      "2022-02-27 19:46:19,019 : INFO : topic #77 (0.008): 0.001*\"algol\" + 0.001*\"data\" + 0.001*\"storag\" + 0.001*\"magnet\" + 0.001*\"translat\" + 0.001*\"-\" + 0.001*\"tape\" + 0.001*\"simpson\" + 0.001*\"polygon\" + 0.001*\"regress\"\n",
      "2022-02-27 19:46:19,020 : INFO : topic #83 (0.010): 0.237*\"modifi\" + 0.084*\"0\" + 0.063*\"head\" + 0.062*\"linear\" + 0.057*\"appear\" + 0.056*\"row\" + 0.052*\"meet\" + 0.041*\"articl\" + 0.035*\"program\" + 0.034*\"romberg\"\n",
      "2022-02-27 19:46:19,020 : INFO : topic #57 (0.016): 0.177*\"solut\" + 0.144*\"equat\" + 0.120*\"problem\" + 0.061*\"differenti\" + 0.060*\"method\" + 0.045*\"'\" + 0.037*\"comment\" + 0.030*\"linear\" + 0.029*\"integr\" + 0.029*\"numer\"\n",
      "2022-02-27 19:46:19,020 : INFO : topic #13 (0.017): 0.208*\"languag\" + 0.159*\"program\" + 0.063*\",\" + 0.026*\"level\" + 0.026*\"-\" + 0.022*\"compil\" + 0.020*\"featur\" + 0.016*\"paper\" + 0.016*\"discuss\" + 0.014*\"semant\"\n"
     ]
    },
    {
     "name": "stderr",
     "output_type": "stream",
     "text": [
      "2022-02-27 19:46:19,020 : INFO : topic #56 (0.036): 0.345*\"(\" + 0.337*\")\" + 0.207*\"algorithm\" + 0.019*\"integr\" + 0.016*\"'\" + 0.012*\"-\" + 0.009*\"function\" + 0.007*\"normal\" + 0.005*\"evalu\" + 0.005*\"simpson\"\n",
      "2022-02-27 19:46:19,021 : INFO : topic diff=0.299690, rho=0.271143\n",
      "2022-02-27 19:46:19,024 : INFO : PROGRESS: pass 12, at document #2000/3204\n",
      "2022-02-27 19:46:19,362 : INFO : optimized alpha [0.012529372, 0.014095488, 0.010936484, 0.012686026, 0.012367307, 0.013166131, 0.010641005, 0.011961087, 0.01080164, 0.01218057, 0.0126464795, 0.011647557, 0.013405415, 0.017458705, 0.013982698, 0.012163983, 0.01407851, 0.011568543, 0.011821155, 0.011360795, 0.011847966, 0.013143102, 0.011583298, 0.01177671, 0.012996581, 0.010962533, 0.011007088, 0.010424739, 0.0133848265, 0.01413297, 0.011569942, 0.011502209, 0.012872047, 0.011745623, 0.010519523, 0.010987811, 0.013225957, 0.010918513, 0.01273705, 0.014004501, 0.012400395, 0.012315614, 0.014796762, 0.010917281, 0.012702765, 0.013857596, 0.01402871, 0.011946434, 0.013392186, 0.012256299, 0.011920399, 0.013028075, 0.010388459, 0.0115288375, 0.011491598, 0.014495167, 0.038395416, 0.016251888, 0.012298792, 0.010642599, 0.011759968, 0.013934238, 0.012059335, 0.011762023, 0.01233588, 0.01090993, 0.011793647, 0.0113050975, 0.012047677, 0.0127066355, 0.011778558, 0.013816578, 0.011010874, 0.013385769, 0.011373675, 0.011847727, 0.010806362, 0.007528309, 0.013697625, 0.011028078, 0.01186916, 0.012388038, 0.013559561, 0.01005349, 0.011882897, 0.012021744, 0.012128711, 0.011062749, 0.014230964, 0.012217294, 0.011809109, 0.012192899, 0.011668408, 0.011652261, 0.010662308, 0.0131235, 0.013099701, 0.010791365, 0.013134358, 0.01219145]\n",
      "2022-02-27 19:46:19,365 : INFO : merging changes from 2000 documents into a model of 3204 documents\n",
      "2022-02-27 19:46:19,368 : INFO : topic #77 (0.008): 0.001*\"algol\" + 0.001*\"data\" + 0.001*\"storag\" + 0.001*\"magnet\" + 0.001*\"translat\" + 0.001*\"-\" + 0.001*\"tape\" + 0.001*\"simpson\" + 0.001*\"polygon\" + 0.001*\"regress\"\n",
      "2022-02-27 19:46:19,368 : INFO : topic #83 (0.010): 0.232*\"modifi\" + 0.075*\"0\" + 0.064*\"linear\" + 0.061*\"head\" + 0.054*\"row\" + 0.054*\"appear\" + 0.052*\"meet\" + 0.043*\"articl\" + 0.041*\"romberg\" + 0.039*\"program\"\n",
      "2022-02-27 19:46:19,368 : INFO : topic #57 (0.016): 0.176*\"solut\" + 0.151*\"equat\" + 0.116*\"problem\" + 0.063*\"method\" + 0.063*\"differenti\" + 0.042*\"'\" + 0.035*\"numer\" + 0.032*\"comment\" + 0.030*\"linear\" + 0.029*\"integr\"\n",
      "2022-02-27 19:46:19,369 : INFO : topic #13 (0.017): 0.212*\"languag\" + 0.155*\"program\" + 0.064*\",\" + 0.027*\"-\" + 0.025*\"compil\" + 0.024*\"level\" + 0.019*\"featur\" + 0.016*\"discuss\" + 0.015*\"paper\" + 0.014*\"comput\"\n",
      "2022-02-27 19:46:19,369 : INFO : topic #56 (0.038): 0.342*\"(\" + 0.336*\")\" + 0.210*\"algorithm\" + 0.020*\"integr\" + 0.015*\"'\" + 0.012*\"-\" + 0.008*\"function\" + 0.008*\"normal\" + 0.006*\"s15\" + 0.006*\"evalu\"\n",
      "2022-02-27 19:46:19,369 : INFO : topic diff=0.262583, rho=0.261694\n",
      "2022-02-27 19:46:19,765 : INFO : -6.473 per-word bound, 88.8 perplexity estimate based on a held-out corpus of 1204 documents with 49783 words\n",
      "2022-02-27 19:46:19,765 : INFO : PROGRESS: pass 12, at document #3204/3204\n",
      "2022-02-27 19:46:20,032 : INFO : optimized alpha [0.0127174035, 0.014257839, 0.011066707, 0.012918959, 0.012512573, 0.013367267, 0.010712092, 0.012112415, 0.010903974, 0.01234529, 0.012839575, 0.011825299, 0.013751854, 0.017812844, 0.014267551, 0.012303565, 0.014345792, 0.011744328, 0.01194724, 0.011444796, 0.01199285, 0.013454445, 0.011667877, 0.011862825, 0.013222685, 0.011049788, 0.011092352, 0.010495505, 0.013511883, 0.01437878, 0.011701348, 0.011591728, 0.013088977, 0.011919047, 0.010585041, 0.01106055, 0.013442236, 0.0110286195, 0.012933204, 0.014235046, 0.012568147, 0.012545762, 0.015140202, 0.011034657, 0.012930476, 0.013735069, 0.014289949, 0.012043758, 0.013659225, 0.0124367215, 0.0121033, 0.013215243, 0.010454189, 0.01162526, 0.011598807, 0.014740533, 0.040068634, 0.016620602, 0.012537437, 0.01072771, 0.011883392, 0.01420292, 0.012155206, 0.0118703535, 0.012548417, 0.011019067, 0.011873072, 0.01140504, 0.012180355, 0.012901924, 0.011918306, 0.013975688, 0.011079123, 0.013646593, 0.011552708, 0.011989262, 0.010906709, 0.0074767894, 0.01391764, 0.01108458, 0.012022952, 0.012490658, 0.013697614, 0.010141821, 0.012088753, 0.012131786, 0.0122719575, 0.011119095, 0.014561981, 0.012367609, 0.011902946, 0.012364609, 0.011711547, 0.011774936, 0.010773922, 0.013299708, 0.013303286, 0.010887818, 0.013455889, 0.012378185]\n",
      "2022-02-27 19:46:20,035 : INFO : merging changes from 1204 documents into a model of 3204 documents\n",
      "2022-02-27 19:46:20,038 : INFO : topic #77 (0.007): 0.001*\"algol\" + 0.001*\"data\" + 0.001*\"storag\" + 0.001*\"magnet\" + 0.001*\"translat\" + 0.001*\"-\" + 0.001*\"tape\" + 0.001*\"simpson\" + 0.001*\"polygon\" + 0.001*\"regress\"\n",
      "2022-02-27 19:46:20,038 : INFO : topic #83 (0.010): 0.239*\"modifi\" + 0.085*\"0\" + 0.064*\"linear\" + 0.063*\"head\" + 0.062*\"row\" + 0.059*\"appear\" + 0.051*\"meet\" + 0.041*\"articl\" + 0.037*\"program\" + 0.034*\"romberg\"\n",
      "2022-02-27 19:46:20,038 : INFO : topic #57 (0.017): 0.179*\"solut\" + 0.145*\"equat\" + 0.122*\"problem\" + 0.061*\"differenti\" + 0.059*\"method\" + 0.046*\"'\" + 0.036*\"comment\" + 0.030*\"linear\" + 0.030*\"integr\" + 0.029*\"numer\"\n",
      "2022-02-27 19:46:20,039 : INFO : topic #13 (0.018): 0.209*\"languag\" + 0.161*\"program\" + 0.064*\",\" + 0.026*\"level\" + 0.026*\"-\" + 0.022*\"compil\" + 0.020*\"featur\" + 0.016*\"paper\" + 0.016*\"discuss\" + 0.014*\"semant\"\n",
      "2022-02-27 19:46:20,039 : INFO : topic #56 (0.040): 0.347*\"(\" + 0.339*\")\" + 0.209*\"algorithm\" + 0.019*\"integr\" + 0.015*\"'\" + 0.012*\"-\" + 0.008*\"function\" + 0.007*\"normal\" + 0.005*\"evalu\" + 0.005*\"simpson\"\n",
      "2022-02-27 19:46:20,039 : INFO : topic diff=0.268929, rho=0.261694\n",
      "2022-02-27 19:46:20,043 : INFO : PROGRESS: pass 13, at document #2000/3204\n",
      "2022-02-27 19:46:20,380 : INFO : optimized alpha [0.012921252, 0.014430594, 0.011060091, 0.012982072, 0.012560785, 0.013418871, 0.010763462, 0.012104675, 0.010917519, 0.012361846, 0.012854764, 0.011834894, 0.013751725, 0.018082788, 0.014398702, 0.012365278, 0.014465674, 0.011705315, 0.0119526815, 0.011509282, 0.0120399175, 0.0136159, 0.011746942, 0.011965489, 0.013302559, 0.011050524, 0.011109293, 0.010506774, 0.013670648, 0.014460574, 0.011713136, 0.011644385, 0.013144098, 0.011931161, 0.010606351, 0.0111197345, 0.013450707, 0.011074532, 0.013124313, 0.014427931, 0.012560637, 0.012548723, 0.015214071, 0.011065986, 0.013021728, 0.014071411, 0.014345128, 0.012118439, 0.013682244, 0.01248008, 0.012053369, 0.013280649, 0.010469296, 0.011702488, 0.011619978, 0.014839555, 0.042062405, 0.016819457, 0.012527297, 0.010721274, 0.011955255, 0.014281787, 0.012293008, 0.011934789, 0.012524151, 0.011077359, 0.011932861, 0.011453601, 0.012311194, 0.013061203, 0.011949155, 0.014086146, 0.011152416, 0.013663256, 0.011540032, 0.012031639, 0.010939312, 0.0074382117, 0.014001034, 0.011142948, 0.012070438, 0.012611104, 0.013879152, 0.0101508945, 0.012107881, 0.012223605, 0.012350894, 0.011170251, 0.014681346, 0.012463487, 0.012018061, 0.012450701, 0.011803488, 0.011797547, 0.010741288, 0.013364892, 0.013346909, 0.0109415995, 0.013499836, 0.0124216145]\n",
      "2022-02-27 19:46:20,382 : INFO : merging changes from 2000 documents into a model of 3204 documents\n",
      "2022-02-27 19:46:20,385 : INFO : topic #77 (0.007): 0.001*\"algol\" + 0.001*\"data\" + 0.001*\"storag\" + 0.001*\"magnet\" + 0.001*\"translat\" + 0.001*\"-\" + 0.001*\"tape\" + 0.001*\"simpson\" + 0.001*\"polygon\" + 0.001*\"regress\"\n",
      "2022-02-27 19:46:20,385 : INFO : topic #83 (0.010): 0.235*\"modifi\" + 0.077*\"0\" + 0.064*\"linear\" + 0.062*\"head\" + 0.059*\"row\" + 0.056*\"appear\" + 0.051*\"meet\" + 0.043*\"articl\" + 0.041*\"romberg\" + 0.039*\"program\"\n",
      "2022-02-27 19:46:20,386 : INFO : topic #57 (0.017): 0.178*\"solut\" + 0.151*\"equat\" + 0.118*\"problem\" + 0.063*\"differenti\" + 0.062*\"method\" + 0.043*\"'\" + 0.035*\"numer\" + 0.032*\"comment\" + 0.031*\"linear\" + 0.029*\"integr\"\n",
      "2022-02-27 19:46:20,386 : INFO : topic #13 (0.018): 0.213*\"languag\" + 0.157*\"program\" + 0.064*\",\" + 0.027*\"-\" + 0.025*\"compil\" + 0.023*\"level\" + 0.019*\"featur\" + 0.016*\"discuss\" + 0.015*\"paper\" + 0.014*\"comput\"\n",
      "2022-02-27 19:46:20,386 : INFO : topic #56 (0.042): 0.344*\"(\" + 0.337*\")\" + 0.211*\"algorithm\" + 0.020*\"integr\" + 0.015*\"'\" + 0.012*\"-\" + 0.008*\"normal\" + 0.007*\"function\" + 0.006*\"s15\" + 0.006*\"evalu\"\n"
     ]
    },
    {
     "name": "stderr",
     "output_type": "stream",
     "text": [
      "2022-02-27 19:46:20,387 : INFO : topic diff=0.236683, rho=0.253169\n",
      "2022-02-27 19:46:20,782 : INFO : -6.463 per-word bound, 88.2 perplexity estimate based on a held-out corpus of 1204 documents with 49783 words\n",
      "2022-02-27 19:46:20,782 : INFO : PROGRESS: pass 13, at document #3204/3204\n",
      "2022-02-27 19:46:21,049 : INFO : optimized alpha [0.013116613, 0.014594873, 0.011191891, 0.013207951, 0.012699916, 0.013612828, 0.010844078, 0.012249749, 0.011017369, 0.012520172, 0.013038089, 0.012011219, 0.014110827, 0.018434538, 0.0146791525, 0.0124961855, 0.014728057, 0.011877015, 0.0120756915, 0.011593545, 0.012194126, 0.013944484, 0.011836733, 0.012051723, 0.01352435, 0.011138046, 0.011199519, 0.010580342, 0.013794093, 0.014695194, 0.011838908, 0.011731642, 0.013367935, 0.012105859, 0.01066803, 0.011202392, 0.013656523, 0.0111866435, 0.013341338, 0.014666569, 0.012721731, 0.012776913, 0.015542329, 0.011189946, 0.013245296, 0.013958909, 0.014601221, 0.01221064, 0.013944102, 0.012654006, 0.01222941, 0.013457958, 0.010533485, 0.011796413, 0.011726926, 0.015079816, 0.0437445, 0.017182574, 0.012761185, 0.010808807, 0.012073104, 0.014554711, 0.012386176, 0.012032803, 0.012732068, 0.011190945, 0.012005147, 0.0115485815, 0.012440705, 0.013255471, 0.012085568, 0.014241287, 0.011221138, 0.013907373, 0.011730009, 0.012164781, 0.011037267, 0.007389952, 0.014216395, 0.011207376, 0.012220656, 0.012710854, 0.0140193915, 0.010237081, 0.012309559, 0.012330823, 0.012485524, 0.011225147, 0.015017315, 0.012613008, 0.012106763, 0.012626626, 0.011847816, 0.011917278, 0.010854674, 0.013536988, 0.013537533, 0.011044952, 0.01382812, 0.012604327]\n",
      "2022-02-27 19:46:21,051 : INFO : merging changes from 1204 documents into a model of 3204 documents\n",
      "2022-02-27 19:46:21,054 : INFO : topic #77 (0.007): 0.001*\"algol\" + 0.001*\"data\" + 0.001*\"storag\" + 0.001*\"magnet\" + 0.001*\"translat\" + 0.001*\"-\" + 0.001*\"tape\" + 0.001*\"simpson\" + 0.001*\"polygon\" + 0.001*\"regress\"\n",
      "2022-02-27 19:46:21,055 : INFO : topic #83 (0.010): 0.240*\"modifi\" + 0.086*\"0\" + 0.067*\"row\" + 0.064*\"head\" + 0.064*\"linear\" + 0.061*\"appear\" + 0.050*\"meet\" + 0.041*\"articl\" + 0.037*\"program\" + 0.034*\"romberg\"\n",
      "2022-02-27 19:46:21,055 : INFO : topic #57 (0.017): 0.182*\"solut\" + 0.146*\"equat\" + 0.123*\"problem\" + 0.061*\"differenti\" + 0.058*\"method\" + 0.046*\"'\" + 0.036*\"comment\" + 0.031*\"linear\" + 0.030*\"integr\" + 0.029*\"numer\"\n",
      "2022-02-27 19:46:21,055 : INFO : topic #13 (0.018): 0.211*\"languag\" + 0.162*\"program\" + 0.065*\",\" + 0.026*\"-\" + 0.026*\"level\" + 0.022*\"compil\" + 0.021*\"featur\" + 0.016*\"paper\" + 0.016*\"discuss\" + 0.014*\"semant\"\n",
      "2022-02-27 19:46:21,055 : INFO : topic #56 (0.044): 0.349*\"(\" + 0.341*\")\" + 0.209*\"algorithm\" + 0.019*\"integr\" + 0.015*\"'\" + 0.012*\"-\" + 0.007*\"normal\" + 0.006*\"function\" + 0.005*\"simpson\" + 0.005*\"evalu\"\n",
      "2022-02-27 19:46:21,056 : INFO : topic diff=0.242880, rho=0.253169\n",
      "2022-02-27 19:46:21,059 : INFO : PROGRESS: pass 14, at document #2000/3204\n",
      "2022-02-27 19:46:21,393 : INFO : optimized alpha [0.013324621, 0.014775225, 0.011183925, 0.013272446, 0.012746872, 0.01366117, 0.010895658, 0.01224196, 0.011027921, 0.012537568, 0.013052434, 0.012026083, 0.014114047, 0.018703066, 0.0148111945, 0.012557927, 0.014845135, 0.011840124, 0.012082458, 0.011665319, 0.01224589, 0.014118909, 0.011915564, 0.01215233, 0.01360885, 0.011141718, 0.011210615, 0.010592849, 0.013946556, 0.014774672, 0.011856123, 0.011790452, 0.013421311, 0.012124828, 0.010690347, 0.011264438, 0.01366588, 0.011236984, 0.013539812, 0.014862256, 0.012717238, 0.012777369, 0.015613372, 0.011220441, 0.013335988, 0.01428452, 0.0146542145, 0.01228069, 0.013963809, 0.012699235, 0.012181966, 0.013526558, 0.010547181, 0.011870504, 0.011750489, 0.015172469, 0.04578065, 0.017369233, 0.012742452, 0.01080804, 0.012144856, 0.014641949, 0.0125214895, 0.0120957885, 0.012712468, 0.011247955, 0.012065174, 0.011596047, 0.012572272, 0.013418714, 0.012119987, 0.014349227, 0.011291517, 0.013924419, 0.011714155, 0.012206042, 0.011071826, 0.00735377, 0.0142991925, 0.011267297, 0.012268296, 0.01283198, 0.014201389, 0.01024726, 0.012326191, 0.012422246, 0.01256574, 0.011277993, 0.015146784, 0.012709955, 0.012222576, 0.012715501, 0.011940801, 0.011942248, 0.010821615, 0.013600401, 0.013583006, 0.011101648, 0.013873239, 0.012647879]\n",
      "2022-02-27 19:46:21,396 : INFO : merging changes from 2000 documents into a model of 3204 documents\n",
      "2022-02-27 19:46:21,399 : INFO : topic #77 (0.007): 0.001*\"algol\" + 0.001*\"data\" + 0.001*\"storag\" + 0.001*\"magnet\" + 0.001*\"translat\" + 0.001*\"-\" + 0.001*\"tape\" + 0.001*\"simpson\" + 0.001*\"polygon\" + 0.001*\"regress\"\n",
      "2022-02-27 19:46:21,399 : INFO : topic #83 (0.010): 0.236*\"modifi\" + 0.079*\"0\" + 0.065*\"linear\" + 0.063*\"row\" + 0.062*\"head\" + 0.058*\"appear\" + 0.050*\"meet\" + 0.043*\"articl\" + 0.041*\"romberg\" + 0.039*\"program\"\n",
      "2022-02-27 19:46:21,399 : INFO : topic #57 (0.017): 0.180*\"solut\" + 0.153*\"equat\" + 0.119*\"problem\" + 0.063*\"differenti\" + 0.061*\"method\" + 0.044*\"'\" + 0.035*\"numer\" + 0.032*\"comment\" + 0.032*\"linear\" + 0.029*\"integr\"\n",
      "2022-02-27 19:46:21,400 : INFO : topic #13 (0.019): 0.214*\"languag\" + 0.158*\"program\" + 0.065*\",\" + 0.027*\"-\" + 0.024*\"compil\" + 0.023*\"level\" + 0.019*\"featur\" + 0.016*\"discuss\" + 0.015*\"paper\" + 0.014*\"comput\"\n",
      "2022-02-27 19:46:21,400 : INFO : topic #56 (0.046): 0.346*\"(\" + 0.339*\")\" + 0.212*\"algorithm\" + 0.020*\"integr\" + 0.014*\"'\" + 0.011*\"-\" + 0.008*\"normal\" + 0.006*\"s15\" + 0.006*\"function\" + 0.005*\"evalu\"\n",
      "2022-02-27 19:46:21,400 : INFO : topic diff=0.215370, rho=0.245426\n",
      "2022-02-27 19:46:21,793 : INFO : -6.454 per-word bound, 87.6 perplexity estimate based on a held-out corpus of 1204 documents with 49783 words\n",
      "2022-02-27 19:46:21,793 : INFO : PROGRESS: pass 14, at document #3204/3204\n",
      "2022-02-27 19:46:22,059 : INFO : optimized alpha [0.013527615, 0.014938576, 0.01131285, 0.013502581, 0.012890629, 0.013856799, 0.010976652, 0.01237874, 0.011127854, 0.012695023, 0.013231924, 0.012203794, 0.014474721, 0.019049356, 0.0150935855, 0.012685848, 0.015099917, 0.012005672, 0.012205234, 0.01174515, 0.01241198, 0.014471022, 0.012003187, 0.012236348, 0.013829605, 0.011231878, 0.011291871, 0.010666923, 0.014069509, 0.015016835, 0.011979101, 0.011885431, 0.013638414, 0.012298579, 0.010750639, 0.01134754, 0.01386738, 0.011346602, 0.013756282, 0.01510629, 0.012872195, 0.013006534, 0.015930107, 0.011346336, 0.013553053, 0.014166758, 0.014902514, 0.012373197, 0.014218047, 0.012880077, 0.012356618, 0.013705705, 0.010616497, 0.011964579, 0.011854968, 0.015414404, 0.047490753, 0.017723663, 0.012961432, 0.010895838, 0.012262552, 0.014913594, 0.012609635, 0.012183919, 0.012924061, 0.011359131, 0.0121231545, 0.011688811, 0.012704052, 0.013614918, 0.012253365, 0.0145006785, 0.011360867, 0.014158172, 0.011905308, 0.012341271, 0.011167603, 0.0073084068, 0.014507358, 0.011332394, 0.012415335, 0.012937011, 0.014338271, 0.010335657, 0.01252672, 0.012529457, 0.012697346, 0.011333848, 0.01547888, 0.0128615, 0.012311412, 0.01288543, 0.011983852, 0.012059332, 0.010943586, 0.013763199, 0.013769682, 0.011193566, 0.014211582, 0.012829481]\n",
      "2022-02-27 19:46:22,061 : INFO : merging changes from 1204 documents into a model of 3204 documents\n",
      "2022-02-27 19:46:22,065 : INFO : topic #77 (0.007): 0.001*\"algol\" + 0.001*\"data\" + 0.001*\"storag\" + 0.001*\"magnet\" + 0.001*\"translat\" + 0.001*\"-\" + 0.001*\"tape\" + 0.001*\"simpson\" + 0.001*\"polygon\" + 0.001*\"regress\"\n",
      "2022-02-27 19:46:22,065 : INFO : topic #83 (0.010): 0.240*\"modifi\" + 0.087*\"0\" + 0.070*\"row\" + 0.066*\"linear\" + 0.064*\"head\" + 0.062*\"appear\" + 0.049*\"meet\" + 0.041*\"articl\" + 0.037*\"program\" + 0.034*\"romberg\"\n",
      "2022-02-27 19:46:22,065 : INFO : topic #57 (0.018): 0.184*\"solut\" + 0.147*\"equat\" + 0.124*\"problem\" + 0.061*\"differenti\" + 0.057*\"method\" + 0.047*\"'\" + 0.036*\"comment\" + 0.032*\"linear\" + 0.030*\"integr\" + 0.029*\"numer\"\n",
      "2022-02-27 19:46:22,066 : INFO : topic #13 (0.019): 0.212*\"languag\" + 0.164*\"program\" + 0.065*\",\" + 0.025*\"level\" + 0.025*\"-\" + 0.022*\"compil\" + 0.021*\"featur\" + 0.016*\"paper\" + 0.015*\"discuss\" + 0.014*\"semant\"\n",
      "2022-02-27 19:46:22,066 : INFO : topic #56 (0.047): 0.350*\"(\" + 0.342*\")\" + 0.210*\"algorithm\" + 0.019*\"integr\" + 0.015*\"'\" + 0.011*\"-\" + 0.007*\"normal\" + 0.005*\"function\" + 0.005*\"simpson\" + 0.005*\"evalu\"\n"
     ]
    },
    {
     "name": "stderr",
     "output_type": "stream",
     "text": [
      "2022-02-27 19:46:22,066 : INFO : topic diff=0.221241, rho=0.245426\n",
      "2022-02-27 19:46:22,070 : INFO : PROGRESS: pass 15, at document #2000/3204\n",
      "2022-02-27 19:46:22,407 : INFO : optimized alpha [0.013735245, 0.015114307, 0.011306331, 0.013568517, 0.012934843, 0.013900254, 0.011036304, 0.012371095, 0.011136823, 0.0127162915, 0.013248695, 0.012217893, 0.014479426, 0.019318704, 0.015228582, 0.012749191, 0.015217995, 0.011967906, 0.012211862, 0.011819704, 0.012468374, 0.014662689, 0.012087604, 0.012339413, 0.01391535, 0.011241006, 0.011306949, 0.010683128, 0.014221003, 0.015097632, 0.011998755, 0.011943022, 0.013688568, 0.012319688, 0.010775232, 0.011408281, 0.013877604, 0.011394463, 0.013955917, 0.015299536, 0.012872177, 0.013009277, 0.015998466, 0.011382818, 0.013646632, 0.014490583, 0.0149517115, 0.012440332, 0.01424146, 0.012930263, 0.012309982, 0.013772601, 0.010635141, 0.012038554, 0.011876615, 0.015512055, 0.04953687, 0.017906586, 0.012942337, 0.010892635, 0.012334283, 0.015000381, 0.012744121, 0.012248502, 0.012905739, 0.011421799, 0.012183502, 0.011735279, 0.01283345, 0.013777498, 0.01228688, 0.014609796, 0.01142987, 0.014167296, 0.011890673, 0.012384446, 0.01120413, 0.0072743734, 0.014588122, 0.01138976, 0.012463251, 0.013057445, 0.0145175075, 0.010348096, 0.012542461, 0.012620603, 0.012781913, 0.011385684, 0.01560376, 0.012954994, 0.012429592, 0.012970956, 0.012077883, 0.012085177, 0.0109113315, 0.013823328, 0.013815429, 0.0112558, 0.014256206, 0.012870179]\n",
      "2022-02-27 19:46:22,409 : INFO : merging changes from 2000 documents into a model of 3204 documents\n",
      "2022-02-27 19:46:22,412 : INFO : topic #77 (0.007): 0.001*\"algol\" + 0.001*\"data\" + 0.001*\"storag\" + 0.001*\"magnet\" + 0.001*\"translat\" + 0.001*\"-\" + 0.001*\"tape\" + 0.001*\"simpson\" + 0.001*\"polygon\" + 0.001*\"regress\"\n",
      "2022-02-27 19:46:22,413 : INFO : topic #83 (0.010): 0.237*\"modifi\" + 0.080*\"0\" + 0.067*\"linear\" + 0.066*\"row\" + 0.062*\"head\" + 0.059*\"appear\" + 0.050*\"meet\" + 0.043*\"articl\" + 0.041*\"romberg\" + 0.039*\"program\"\n",
      "2022-02-27 19:46:22,413 : INFO : topic #57 (0.018): 0.183*\"solut\" + 0.154*\"equat\" + 0.120*\"problem\" + 0.063*\"differenti\" + 0.060*\"method\" + 0.045*\"'\" + 0.035*\"numer\" + 0.032*\"comment\" + 0.032*\"linear\" + 0.030*\"integr\"\n",
      "2022-02-27 19:46:22,413 : INFO : topic #13 (0.019): 0.215*\"languag\" + 0.160*\"program\" + 0.066*\",\" + 0.026*\"-\" + 0.024*\"compil\" + 0.023*\"level\" + 0.020*\"featur\" + 0.016*\"discuss\" + 0.015*\"paper\" + 0.014*\"comput\"\n",
      "2022-02-27 19:46:22,413 : INFO : topic #56 (0.050): 0.347*\"(\" + 0.340*\")\" + 0.213*\"algorithm\" + 0.020*\"integr\" + 0.014*\"'\" + 0.011*\"-\" + 0.007*\"normal\" + 0.006*\"s15\" + 0.005*\"simpson\" + 0.005*\"evalu\"\n",
      "2022-02-27 19:46:22,414 : INFO : topic diff=0.197433, rho=0.238352\n",
      "2022-02-27 19:46:22,818 : INFO : -6.445 per-word bound, 87.1 perplexity estimate based on a held-out corpus of 1204 documents with 49783 words\n",
      "2022-02-27 19:46:22,818 : INFO : PROGRESS: pass 15, at document #3204/3204\n",
      "2022-02-27 19:46:23,088 : INFO : optimized alpha [0.013946068, 0.015270711, 0.011432625, 0.013800431, 0.013078195, 0.014097722, 0.011122204, 0.012502558, 0.011241357, 0.012868031, 0.0134274, 0.012387462, 0.014848012, 0.019648096, 0.015504286, 0.012879467, 0.0154746, 0.012137266, 0.012334474, 0.011888206, 0.012651313, 0.015019038, 0.012173213, 0.012426204, 0.014135186, 0.011333772, 0.011393312, 0.010755664, 0.014340983, 0.015323523, 0.012121569, 0.01202634, 0.013907543, 0.012502549, 0.010834255, 0.01148954, 0.014075215, 0.011499551, 0.014172045, 0.0155553175, 0.013026547, 0.0132319825, 0.016310403, 0.011519928, 0.013870889, 0.014367576, 0.015201488, 0.012533206, 0.014488582, 0.013113178, 0.0124811, 0.013942745, 0.010705163, 0.012130484, 0.011981218, 0.015752696, 0.05122542, 0.01825955, 0.013152211, 0.010976414, 0.012447013, 0.015268019, 0.012829986, 0.012337032, 0.013116189, 0.0115329055, 0.012240133, 0.011825992, 0.01295994, 0.013967734, 0.012417568, 0.014760795, 0.011495323, 0.014379627, 0.012088033, 0.012516946, 0.011293409, 0.007231601, 0.014792387, 0.011451137, 0.012612233, 0.01316252, 0.01465403, 0.010432605, 0.012744526, 0.012722911, 0.012913278, 0.011438019, 0.015947709, 0.013106174, 0.012516268, 0.013140361, 0.01211974, 0.012199806, 0.011028555, 0.013985494, 0.013992944, 0.011356983, 0.014588073, 0.013045816]\n",
      "2022-02-27 19:46:23,091 : INFO : merging changes from 1204 documents into a model of 3204 documents\n",
      "2022-02-27 19:46:23,094 : INFO : topic #77 (0.007): 0.001*\"algol\" + 0.001*\"data\" + 0.001*\"storag\" + 0.001*\"magnet\" + 0.001*\"translat\" + 0.001*\"-\" + 0.001*\"tape\" + 0.001*\"simpson\" + 0.001*\"polygon\" + 0.001*\"regress\"\n",
      "2022-02-27 19:46:23,094 : INFO : topic #83 (0.010): 0.238*\"modifi\" + 0.087*\"0\" + 0.071*\"row\" + 0.066*\"linear\" + 0.063*\"head\" + 0.062*\"appear\" + 0.049*\"meet\" + 0.041*\"articl\" + 0.037*\"program\" + 0.034*\"romberg\"\n",
      "2022-02-27 19:46:23,095 : INFO : topic #57 (0.018): 0.187*\"solut\" + 0.149*\"equat\" + 0.124*\"problem\" + 0.061*\"differenti\" + 0.057*\"method\" + 0.047*\"'\" + 0.036*\"comment\" + 0.033*\"linear\" + 0.030*\"integr\" + 0.030*\"numer\"\n",
      "2022-02-27 19:46:23,095 : INFO : topic #13 (0.020): 0.213*\"languag\" + 0.165*\"program\" + 0.066*\",\" + 0.025*\"level\" + 0.025*\"-\" + 0.021*\"compil\" + 0.021*\"featur\" + 0.016*\"paper\" + 0.015*\"discuss\" + 0.014*\"semant\"\n",
      "2022-02-27 19:46:23,095 : INFO : topic #56 (0.051): 0.351*\"(\" + 0.342*\")\" + 0.212*\"algorithm\" + 0.019*\"integr\" + 0.015*\"'\" + 0.011*\"-\" + 0.007*\"normal\" + 0.005*\"simpson\" + 0.005*\"evalu\" + 0.004*\"s15\"\n",
      "2022-02-27 19:46:23,095 : INFO : topic diff=0.203402, rho=0.238352\n",
      "2022-02-27 19:46:23,100 : INFO : PROGRESS: pass 16, at document #2000/3204\n",
      "2022-02-27 19:46:23,440 : INFO : optimized alpha [0.014151958, 0.015447291, 0.011426133, 0.01386624, 0.013121226, 0.014139874, 0.011184677, 0.012492049, 0.011254072, 0.012888629, 0.013443428, 0.01239799, 0.014859426, 0.019911606, 0.015640328, 0.012941478, 0.0155919595, 0.012100028, 0.012340879, 0.011958659, 0.012713689, 0.015224635, 0.012254717, 0.012528958, 0.014222284, 0.011345458, 0.011412132, 0.010770377, 0.014488352, 0.015404059, 0.012137904, 0.012084227, 0.013957839, 0.012535932, 0.010857237, 0.0115532065, 0.014084685, 0.011545085, 0.014369705, 0.01573171, 0.013027752, 0.013233872, 0.016376266, 0.01155553, 0.013965693, 0.01468162, 0.015250624, 0.012599111, 0.014510585, 0.013168203, 0.012435201, 0.014008106, 0.010728614, 0.012203041, 0.0120009845, 0.01584987, 0.053315263, 0.018443404, 0.013128201, 0.010973456, 0.0125231305, 0.015358105, 0.012960886, 0.01240322, 0.0130960625, 0.011590333, 0.012299374, 0.011872913, 0.013087318, 0.014131294, 0.012450328, 0.014869496, 0.011563064, 0.014391149, 0.012080183, 0.012564993, 0.011333195, 0.0071994914, 0.014869433, 0.011510126, 0.012657516, 0.013283948, 0.014830732, 0.010447246, 0.012760866, 0.012806469, 0.012994758, 0.0114889415, 0.016073627, 0.0131994905, 0.012631008, 0.01323025, 0.012210679, 0.012225078, 0.010997085, 0.01404585, 0.014037402, 0.011419411, 0.014637224, 0.013085301]\n",
      "2022-02-27 19:46:23,442 : INFO : merging changes from 2000 documents into a model of 3204 documents\n",
      "2022-02-27 19:46:23,446 : INFO : topic #77 (0.007): 0.001*\"algol\" + 0.001*\"data\" + 0.001*\"storag\" + 0.001*\"magnet\" + 0.001*\"translat\" + 0.001*\"-\" + 0.001*\"tape\" + 0.001*\"simpson\" + 0.001*\"polygon\" + 0.001*\"regress\"\n",
      "2022-02-27 19:46:23,446 : INFO : topic #83 (0.010): 0.235*\"modifi\" + 0.081*\"0\" + 0.067*\"row\" + 0.066*\"linear\" + 0.062*\"head\" + 0.059*\"appear\" + 0.049*\"meet\" + 0.042*\"articl\" + 0.040*\"romberg\" + 0.039*\"program\"\n",
      "2022-02-27 19:46:23,446 : INFO : topic #57 (0.018): 0.185*\"solut\" + 0.154*\"equat\" + 0.120*\"problem\" + 0.063*\"differenti\" + 0.059*\"method\" + 0.045*\"'\" + 0.036*\"numer\" + 0.033*\"linear\" + 0.033*\"comment\" + 0.030*\"integr\"\n",
      "2022-02-27 19:46:23,447 : INFO : topic #13 (0.020): 0.216*\"languag\" + 0.161*\"program\" + 0.067*\",\" + 0.026*\"-\" + 0.024*\"compil\" + 0.023*\"level\" + 0.020*\"featur\" + 0.016*\"discuss\" + 0.015*\"comput\" + 0.015*\"paper\"\n",
      "2022-02-27 19:46:23,447 : INFO : topic #56 (0.053): 0.348*\"(\" + 0.340*\")\" + 0.214*\"algorithm\" + 0.020*\"integr\" + 0.014*\"'\" + 0.010*\"-\" + 0.007*\"normal\" + 0.006*\"s15\" + 0.005*\"simpson\" + 0.005*\"evalu\"\n",
      "2022-02-27 19:46:23,447 : INFO : topic diff=0.182498, rho=0.231857\n",
      "2022-02-27 19:46:23,845 : INFO : -6.437 per-word bound, 86.7 perplexity estimate based on a held-out corpus of 1204 documents with 49783 words\n"
     ]
    },
    {
     "name": "stderr",
     "output_type": "stream",
     "text": [
      "2022-02-27 19:46:23,846 : INFO : PROGRESS: pass 16, at document #3204/3204\n",
      "2022-02-27 19:46:24,117 : INFO : optimized alpha [0.014365426, 0.0156004075, 0.011552235, 0.014097632, 0.013261868, 0.014339442, 0.011266631, 0.012623381, 0.01136105, 0.013044946, 0.013621562, 0.012571746, 0.015227596, 0.020266352, 0.015924875, 0.013066572, 0.015841695, 0.01226617, 0.012463603, 0.012027959, 0.012901187, 0.015594467, 0.012336114, 0.012613817, 0.014441578, 0.011440813, 0.011501286, 0.01084563, 0.014605517, 0.015632112, 0.0122583965, 0.012163478, 0.014178876, 0.01271093, 0.010915099, 0.011637274, 0.014278775, 0.011652607, 0.014596564, 0.01598426, 0.013181707, 0.013453018, 0.016683761, 0.011699227, 0.014184137, 0.014565258, 0.015493302, 0.012692391, 0.0147564635, 0.013348098, 0.0126006715, 0.0141723985, 0.010803515, 0.012295341, 0.012105837, 0.016086504, 0.05494856, 0.018798834, 0.0133343795, 0.011055635, 0.012636036, 0.015622153, 0.013049662, 0.012492244, 0.013305458, 0.011701649, 0.012354777, 0.011957163, 0.013211314, 0.014321193, 0.012573626, 0.015017386, 0.011629363, 0.014588563, 0.012279102, 0.0127023505, 0.011425098, 0.007159046, 0.015072955, 0.011567976, 0.012803758, 0.013389099, 0.014967157, 0.010530082, 0.012964597, 0.012904136, 0.0131260725, 0.0115401745, 0.016411383, 0.013347958, 0.0127156405, 0.013406945, 0.01224908, 0.012339844, 0.011116307, 0.014202148, 0.014219731, 0.011527493, 0.014979862, 0.013265427]\n",
      "2022-02-27 19:46:24,120 : INFO : merging changes from 1204 documents into a model of 3204 documents\n",
      "2022-02-27 19:46:24,123 : INFO : topic #77 (0.007): 0.001*\"algol\" + 0.001*\"data\" + 0.001*\"storag\" + 0.001*\"magnet\" + 0.001*\"translat\" + 0.001*\"-\" + 0.001*\"tape\" + 0.001*\"simpson\" + 0.001*\"polygon\" + 0.001*\"regress\"\n",
      "2022-02-27 19:46:24,123 : INFO : topic #83 (0.011): 0.237*\"modifi\" + 0.087*\"0\" + 0.072*\"row\" + 0.065*\"linear\" + 0.063*\"head\" + 0.062*\"appear\" + 0.048*\"meet\" + 0.041*\"articl\" + 0.036*\"program\" + 0.034*\"romberg\"\n",
      "2022-02-27 19:46:24,124 : INFO : topic #57 (0.019): 0.189*\"solut\" + 0.149*\"equat\" + 0.125*\"problem\" + 0.061*\"differenti\" + 0.056*\"method\" + 0.048*\"'\" + 0.036*\"comment\" + 0.033*\"linear\" + 0.031*\"numer\" + 0.030*\"integr\"\n",
      "2022-02-27 19:46:24,124 : INFO : topic #13 (0.020): 0.214*\"languag\" + 0.166*\"program\" + 0.067*\",\" + 0.025*\"level\" + 0.025*\"-\" + 0.021*\"featur\" + 0.021*\"compil\" + 0.016*\"paper\" + 0.015*\"discuss\" + 0.014*\"semant\"\n",
      "2022-02-27 19:46:24,125 : INFO : topic #56 (0.055): 0.352*\"(\" + 0.342*\")\" + 0.214*\"algorithm\" + 0.019*\"integr\" + 0.015*\"'\" + 0.010*\"-\" + 0.007*\"normal\" + 0.005*\"simpson\" + 0.004*\"s15\" + 0.004*\"evalu\"\n",
      "2022-02-27 19:46:24,125 : INFO : topic diff=0.187801, rho=0.231857\n",
      "2022-02-27 19:46:24,129 : INFO : PROGRESS: pass 17, at document #2000/3204\n",
      "2022-02-27 19:46:24,464 : INFO : optimized alpha [0.014577712, 0.015774552, 0.011547075, 0.014160152, 0.013303927, 0.014386769, 0.011333143, 0.0126144625, 0.011374791, 0.013066364, 0.013636878, 0.0125830835, 0.01523694, 0.020528484, 0.016056886, 0.013125884, 0.01595667, 0.012229379, 0.012474122, 0.012097211, 0.012971001, 0.015805658, 0.012417651, 0.012717759, 0.014535124, 0.011458835, 0.011521166, 0.010865092, 0.0147522325, 0.015707033, 0.012277116, 0.012218986, 0.014229373, 0.012739015, 0.010939009, 0.01169726, 0.014289157, 0.011697261, 0.0148022445, 0.01616946, 0.01318269, 0.013455664, 0.016747251, 0.011733955, 0.014275536, 0.014874969, 0.015542444, 0.012757093, 0.014778826, 0.013401853, 0.01255553, 0.014239519, 0.010825361, 0.012365195, 0.012127969, 0.016185118, 0.05705083, 0.01897507, 0.013311671, 0.011052923, 0.012707968, 0.015709983, 0.0131801255, 0.01255868, 0.013291139, 0.011763312, 0.012414445, 0.0120032355, 0.01333836, 0.014484397, 0.012605651, 0.01512744, 0.011697254, 0.014599349, 0.012273593, 0.012753736, 0.011469348, 0.007128676, 0.015148203, 0.011624649, 0.012849415, 0.013510147, 0.015137993, 0.010544499, 0.012983045, 0.012987719, 0.013206054, 0.011592884, 0.0165367, 0.013441102, 0.012828608, 0.0134997945, 0.012335719, 0.012364589, 0.011088031, 0.014265939, 0.014264571, 0.011592761, 0.015031921, 0.013303783]\n",
      "2022-02-27 19:46:24,467 : INFO : merging changes from 2000 documents into a model of 3204 documents\n",
      "2022-02-27 19:46:24,470 : INFO : topic #77 (0.007): 0.001*\"algol\" + 0.001*\"data\" + 0.001*\"storag\" + 0.001*\"magnet\" + 0.001*\"translat\" + 0.001*\"-\" + 0.001*\"tape\" + 0.001*\"simpson\" + 0.001*\"polygon\" + 0.001*\"regress\"\n",
      "2022-02-27 19:46:24,470 : INFO : topic #83 (0.011): 0.235*\"modifi\" + 0.082*\"0\" + 0.068*\"row\" + 0.066*\"linear\" + 0.062*\"head\" + 0.059*\"appear\" + 0.049*\"meet\" + 0.042*\"articl\" + 0.040*\"romberg\" + 0.038*\"program\"\n",
      "2022-02-27 19:46:24,471 : INFO : topic #57 (0.019): 0.187*\"solut\" + 0.155*\"equat\" + 0.120*\"problem\" + 0.063*\"differenti\" + 0.059*\"method\" + 0.046*\"'\" + 0.036*\"numer\" + 0.033*\"linear\" + 0.033*\"comment\" + 0.030*\"integr\"\n",
      "2022-02-27 19:46:24,471 : INFO : topic #13 (0.021): 0.217*\"languag\" + 0.163*\"program\" + 0.067*\",\" + 0.026*\"-\" + 0.024*\"compil\" + 0.023*\"level\" + 0.021*\"featur\" + 0.016*\"discuss\" + 0.015*\"comput\" + 0.015*\"paper\"\n",
      "2022-02-27 19:46:24,472 : INFO : topic #56 (0.057): 0.348*\"(\" + 0.340*\")\" + 0.216*\"algorithm\" + 0.020*\"integr\" + 0.014*\"'\" + 0.009*\"-\" + 0.008*\"normal\" + 0.006*\"s15\" + 0.005*\"simpson\" + 0.005*\"evalu\"\n",
      "2022-02-27 19:46:24,472 : INFO : topic diff=0.169287, rho=0.225865\n",
      "2022-02-27 19:46:24,874 : INFO : -6.431 per-word bound, 86.3 perplexity estimate based on a held-out corpus of 1204 documents with 49783 words\n",
      "2022-02-27 19:46:24,874 : INFO : PROGRESS: pass 17, at document #3204/3204\n",
      "2022-02-27 19:46:25,142 : INFO : optimized alpha [0.014794044, 0.015927337, 0.011664393, 0.014396454, 0.013439499, 0.014585954, 0.011411375, 0.01273863, 0.011482103, 0.013217573, 0.013812043, 0.012754054, 0.015604874, 0.020882756, 0.016335156, 0.013251136, 0.016205706, 0.012390371, 0.012589896, 0.012167414, 0.013170672, 0.016189625, 0.012499677, 0.012798368, 0.014745969, 0.011558908, 0.011608579, 0.010938932, 0.014863942, 0.01593731, 0.012397749, 0.01229667, 0.014450056, 0.012918513, 0.010995784, 0.011775302, 0.014477243, 0.011802762, 0.0150319375, 0.016409786, 0.013333873, 0.013676535, 0.017050566, 0.011875423, 0.014485471, 0.014759079, 0.01578718, 0.012848533, 0.015026559, 0.013589147, 0.012715692, 0.014398179, 0.010900959, 0.012453328, 0.012230856, 0.016424038, 0.058619052, 0.019329693, 0.013522083, 0.011133552, 0.012818739, 0.015970632, 0.013271827, 0.012648243, 0.013489674, 0.011886039, 0.012473404, 0.012090396, 0.0134600075, 0.014674207, 0.012726744, 0.015278132, 0.011762187, 0.014796023, 0.012474314, 0.01288381, 0.011555219, 0.007090329, 0.015351209, 0.011683514, 0.012990652, 0.013613134, 0.015268649, 0.0106257815, 0.0131839365, 0.013083354, 0.013332441, 0.01164525, 0.016864965, 0.013594592, 0.012908918, 0.0136737935, 0.012373233, 0.012474945, 0.011209268, 0.014419378, 0.014446541, 0.011701163, 0.015368857, 0.013476002]\n",
      "2022-02-27 19:46:25,145 : INFO : merging changes from 1204 documents into a model of 3204 documents\n",
      "2022-02-27 19:46:25,148 : INFO : topic #77 (0.007): 0.001*\"algol\" + 0.001*\"data\" + 0.001*\"storag\" + 0.001*\"magnet\" + 0.001*\"translat\" + 0.001*\"-\" + 0.001*\"tape\" + 0.001*\"simpson\" + 0.001*\"polygon\" + 0.001*\"regress\"\n",
      "2022-02-27 19:46:25,149 : INFO : topic #83 (0.011): 0.237*\"modifi\" + 0.088*\"0\" + 0.073*\"row\" + 0.066*\"linear\" + 0.063*\"head\" + 0.062*\"appear\" + 0.048*\"meet\" + 0.041*\"articl\" + 0.036*\"program\" + 0.034*\"column\"\n",
      "2022-02-27 19:46:25,149 : INFO : topic #57 (0.019): 0.190*\"solut\" + 0.150*\"equat\" + 0.125*\"problem\" + 0.061*\"differenti\" + 0.055*\"method\" + 0.048*\"'\" + 0.036*\"comment\" + 0.033*\"linear\" + 0.031*\"numer\" + 0.030*\"integr\"\n",
      "2022-02-27 19:46:25,149 : INFO : topic #13 (0.021): 0.215*\"languag\" + 0.168*\"program\" + 0.067*\",\" + 0.025*\"level\" + 0.024*\"-\" + 0.022*\"featur\" + 0.021*\"compil\" + 0.016*\"paper\" + 0.015*\"discuss\" + 0.014*\"semant\"\n",
      "2022-02-27 19:46:25,150 : INFO : topic #56 (0.059): 0.352*\"(\" + 0.342*\")\" + 0.215*\"algorithm\" + 0.019*\"integr\" + 0.015*\"'\" + 0.009*\"-\" + 0.007*\"normal\" + 0.005*\"simpson\" + 0.005*\"s15\" + 0.004*\"evalu\"\n",
      "2022-02-27 19:46:25,150 : INFO : topic diff=0.174348, rho=0.225865\n",
      "2022-02-27 19:46:25,154 : INFO : PROGRESS: pass 18, at document #2000/3204\n",
      "2022-02-27 19:46:25,486 : INFO : optimized alpha [0.01500827, 0.016097438, 0.011657975, 0.014458983, 0.013486615, 0.014632048, 0.011475557, 0.012728395, 0.0114955325, 0.013238344, 0.013826745, 0.012764782, 0.015617249, 0.021148786, 0.016470365, 0.013307854, 0.016318431, 0.012358154, 0.012598794, 0.012245023, 0.013239133, 0.016420836, 0.012579905, 0.012899344, 0.014837795, 0.011584246, 0.011628121, 0.010956894, 0.015006962, 0.016015677, 0.012418775, 0.012352669, 0.014507141, 0.012959888, 0.011019405, 0.011831671, 0.014485357, 0.011849203, 0.015239323, 0.016596476, 0.0133331, 0.01367689, 0.01711182, 0.011910638, 0.014578287, 0.0150681045, 0.015836414, 0.012910723, 0.015050929, 0.01364478, 0.0126712285, 0.014468657, 0.01092371, 0.012519252, 0.01225523, 0.016522406, 0.060698695, 0.01950713, 0.013499075, 0.01113224, 0.012892304, 0.016063644, 0.01340193, 0.012716343, 0.013476558, 0.011950621, 0.012529352, 0.012134292, 0.013586837, 0.014835476, 0.012759516, 0.015386297, 0.011829, 0.01480607, 0.012466841, 0.012932745, 0.011601321, 0.0070615364, 0.015424738, 0.011741848, 0.013038152, 0.013732432, 0.015437272, 0.010641111, 0.013204439, 0.013164099, 0.013415431, 0.011697142, 0.016995372, 0.013689162, 0.013023073, 0.013763588, 0.012462645, 0.0125005795, 0.011181527, 0.01448182, 0.014490226, 0.011769261, 0.015420528, 0.013514824]\n"
     ]
    },
    {
     "name": "stderr",
     "output_type": "stream",
     "text": [
      "2022-02-27 19:46:25,488 : INFO : merging changes from 2000 documents into a model of 3204 documents\n",
      "2022-02-27 19:46:25,492 : INFO : topic #77 (0.007): 0.001*\"algol\" + 0.001*\"data\" + 0.001*\"storag\" + 0.001*\"magnet\" + 0.001*\"translat\" + 0.001*\"-\" + 0.001*\"tape\" + 0.001*\"simpson\" + 0.001*\"polygon\" + 0.001*\"regress\"\n",
      "2022-02-27 19:46:25,492 : INFO : topic #83 (0.011): 0.235*\"modifi\" + 0.082*\"0\" + 0.069*\"row\" + 0.067*\"linear\" + 0.062*\"head\" + 0.059*\"appear\" + 0.049*\"meet\" + 0.042*\"articl\" + 0.040*\"romberg\" + 0.038*\"program\"\n",
      "2022-02-27 19:46:25,492 : INFO : topic #57 (0.020): 0.188*\"solut\" + 0.155*\"equat\" + 0.121*\"problem\" + 0.062*\"differenti\" + 0.058*\"method\" + 0.047*\"'\" + 0.036*\"numer\" + 0.033*\"linear\" + 0.033*\"comment\" + 0.030*\"integr\"\n",
      "2022-02-27 19:46:25,493 : INFO : topic #13 (0.021): 0.218*\"languag\" + 0.164*\"program\" + 0.068*\",\" + 0.025*\"-\" + 0.023*\"compil\" + 0.023*\"level\" + 0.021*\"featur\" + 0.015*\"discuss\" + 0.015*\"comput\" + 0.015*\"paper\"\n",
      "2022-02-27 19:46:25,493 : INFO : topic #56 (0.061): 0.349*\"(\" + 0.340*\")\" + 0.217*\"algorithm\" + 0.020*\"integr\" + 0.014*\"'\" + 0.009*\"-\" + 0.008*\"normal\" + 0.006*\"s15\" + 0.005*\"simpson\" + 0.005*\"evalu\"\n",
      "2022-02-27 19:46:25,493 : INFO : topic diff=0.158013, rho=0.220316\n",
      "2022-02-27 19:46:25,896 : INFO : -6.424 per-word bound, 85.9 perplexity estimate based on a held-out corpus of 1204 documents with 49783 words\n",
      "2022-02-27 19:46:25,897 : INFO : PROGRESS: pass 18, at document #3204/3204\n",
      "2022-02-27 19:46:26,168 : INFO : optimized alpha [0.015224952, 0.016244283, 0.011775417, 0.014689837, 0.01362479, 0.014828335, 0.011558707, 0.012850408, 0.011607421, 0.013384619, 0.014004331, 0.012935563, 0.01597086, 0.021494074, 0.016751695, 0.013430877, 0.016558062, 0.012514173, 0.012717266, 0.012316052, 0.013441373, 0.016831364, 0.012658033, 0.01298066, 0.015051264, 0.011691169, 0.011720472, 0.011033429, 0.01511348, 0.016236624, 0.012539704, 0.012426617, 0.0147276595, 0.013137006, 0.011077195, 0.011910455, 0.014673094, 0.011952914, 0.015474725, 0.016842794, 0.0134841995, 0.013892288, 0.01740493, 0.012049985, 0.014790668, 0.014952736, 0.016074557, 0.012998108, 0.01530074, 0.013824455, 0.012831002, 0.014624669, 0.010997979, 0.012610257, 0.012354067, 0.016760834, 0.062235456, 0.019850112, 0.013703912, 0.011215585, 0.01300346, 0.01633009, 0.013491697, 0.012804231, 0.013669653, 0.0120714735, 0.012587185, 0.012219833, 0.013711329, 0.015022571, 0.012876186, 0.015531367, 0.011892666, 0.014996872, 0.012674162, 0.013065425, 0.0116941715, 0.0070251008, 0.015624644, 0.011799606, 0.013177064, 0.01383583, 0.015565259, 0.010720974, 0.013402655, 0.013262798, 0.013539591, 0.01175066, 0.017327042, 0.013832766, 0.013106386, 0.01395018, 0.012496983, 0.012613624, 0.011298646, 0.0146325715, 0.014669137, 0.011875908, 0.01576042, 0.013691742]\n",
      "2022-02-27 19:46:26,170 : INFO : merging changes from 1204 documents into a model of 3204 documents\n",
      "2022-02-27 19:46:26,173 : INFO : topic #77 (0.007): 0.001*\"algol\" + 0.001*\"data\" + 0.001*\"storag\" + 0.001*\"magnet\" + 0.001*\"translat\" + 0.001*\"-\" + 0.001*\"tape\" + 0.001*\"simpson\" + 0.001*\"polygon\" + 0.001*\"regress\"\n",
      "2022-02-27 19:46:26,173 : INFO : topic #83 (0.011): 0.238*\"modifi\" + 0.088*\"0\" + 0.073*\"row\" + 0.067*\"linear\" + 0.063*\"head\" + 0.062*\"appear\" + 0.048*\"meet\" + 0.041*\"articl\" + 0.038*\"column\" + 0.035*\"program\"\n",
      "2022-02-27 19:46:26,174 : INFO : topic #57 (0.020): 0.192*\"solut\" + 0.151*\"equat\" + 0.124*\"problem\" + 0.061*\"differenti\" + 0.055*\"method\" + 0.049*\"'\" + 0.036*\"comment\" + 0.033*\"linear\" + 0.031*\"numer\" + 0.030*\"integr\"\n",
      "2022-02-27 19:46:26,174 : INFO : topic #13 (0.021): 0.216*\"languag\" + 0.169*\"program\" + 0.068*\",\" + 0.025*\"level\" + 0.024*\"-\" + 0.022*\"featur\" + 0.021*\"compil\" + 0.016*\"paper\" + 0.015*\"discuss\" + 0.014*\"semant\"\n",
      "2022-02-27 19:46:26,174 : INFO : topic #56 (0.062): 0.353*\"(\" + 0.342*\")\" + 0.216*\"algorithm\" + 0.019*\"integr\" + 0.015*\"'\" + 0.009*\"-\" + 0.007*\"normal\" + 0.005*\"simpson\" + 0.005*\"s15\" + 0.004*\"evalu\"\n",
      "2022-02-27 19:46:26,175 : INFO : topic diff=0.162457, rho=0.220316\n",
      "2022-02-27 19:46:26,179 : INFO : PROGRESS: pass 19, at document #2000/3204\n",
      "2022-02-27 19:46:26,511 : INFO : optimized alpha [0.01543942, 0.016410496, 0.011772842, 0.014753946, 0.013669455, 0.014876439, 0.011626971, 0.012837607, 0.011620552, 0.013407739, 0.014021362, 0.012944303, 0.01599532, 0.021754365, 0.016882945, 0.01348939, 0.016672196, 0.012480964, 0.012727345, 0.012396511, 0.013510032, 0.017072884, 0.0127384085, 0.013081594, 0.015139765, 0.011721081, 0.01174226, 0.011051155, 0.0152561655, 0.01631326, 0.012564313, 0.012481761, 0.014781933, 0.013185897, 0.011100532, 0.011965968, 0.014680607, 0.011994695, 0.015678896, 0.017023895, 0.013483195, 0.01389496, 0.017464086, 0.012084442, 0.01487863, 0.015254857, 0.016122214, 0.013057915, 0.015330383, 0.0138818445, 0.012787165, 0.0146970125, 0.011022787, 0.012675175, 0.012376724, 0.01686087, 0.06435045, 0.020024473, 0.0136761805, 0.011216844, 0.013075878, 0.016414078, 0.013621572, 0.012871252, 0.013654721, 0.012132407, 0.012643683, 0.012264348, 0.013836531, 0.015180456, 0.012906873, 0.015639476, 0.011959749, 0.015012734, 0.0126675265, 0.013116263, 0.011739517, 0.0069977376, 0.01569823, 0.011855794, 0.013222198, 0.013953445, 0.015733441, 0.0107349185, 0.013420827, 0.013345182, 0.0136212725, 0.011803065, 0.01746265, 0.013925922, 0.013219011, 0.01403698, 0.012587769, 0.012640102, 0.01127508, 0.014693802, 0.014711723, 0.011944302, 0.015810063, 0.013732477]\n",
      "2022-02-27 19:46:26,514 : INFO : merging changes from 2000 documents into a model of 3204 documents\n",
      "2022-02-27 19:46:26,517 : INFO : topic #77 (0.007): 0.001*\"algol\" + 0.001*\"data\" + 0.001*\"storag\" + 0.001*\"magnet\" + 0.001*\"translat\" + 0.001*\"-\" + 0.001*\"tape\" + 0.001*\"simpson\" + 0.001*\"polygon\" + 0.001*\"regress\"\n",
      "2022-02-27 19:46:26,517 : INFO : topic #83 (0.011): 0.236*\"modifi\" + 0.083*\"0\" + 0.069*\"row\" + 0.068*\"linear\" + 0.062*\"head\" + 0.060*\"appear\" + 0.049*\"meet\" + 0.042*\"articl\" + 0.040*\"romberg\" + 0.037*\"program\"\n",
      "2022-02-27 19:46:26,517 : INFO : topic #57 (0.020): 0.190*\"solut\" + 0.156*\"equat\" + 0.120*\"problem\" + 0.063*\"differenti\" + 0.057*\"method\" + 0.048*\"'\" + 0.037*\"numer\" + 0.033*\"linear\" + 0.033*\"comment\" + 0.030*\"integr\"\n",
      "2022-02-27 19:46:26,518 : INFO : topic #13 (0.022): 0.218*\"languag\" + 0.165*\"program\" + 0.069*\",\" + 0.025*\"-\" + 0.023*\"compil\" + 0.023*\"level\" + 0.021*\"featur\" + 0.015*\"discuss\" + 0.015*\"comput\" + 0.015*\"paper\"\n",
      "2022-02-27 19:46:26,518 : INFO : topic #56 (0.064): 0.350*\"(\" + 0.340*\")\" + 0.218*\"algorithm\" + 0.020*\"integr\" + 0.014*\"'\" + 0.008*\"-\" + 0.008*\"normal\" + 0.006*\"s15\" + 0.005*\"simpson\" + 0.005*\"evalu\"\n",
      "2022-02-27 19:46:26,518 : INFO : topic diff=0.147880, rho=0.215156\n",
      "2022-02-27 19:46:26,919 : INFO : -6.420 per-word bound, 85.6 perplexity estimate based on a held-out corpus of 1204 documents with 49783 words\n",
      "2022-02-27 19:46:26,920 : INFO : PROGRESS: pass 19, at document #3204/3204\n",
      "2022-02-27 19:46:27,188 : INFO : optimized alpha [0.01566198, 0.01656031, 0.011888424, 0.014984774, 0.0138054425, 0.015078036, 0.011715012, 0.012955317, 0.011743286, 0.013551715, 0.014196325, 0.013114993, 0.01636393, 0.02210305, 0.017164543, 0.013612753, 0.016908567, 0.0126300715, 0.012841638, 0.0124662435, 0.013726888, 0.017505556, 0.012815067, 0.013163615, 0.01535604, 0.01183063, 0.0118394075, 0.011126444, 0.015360362, 0.01653694, 0.012683327, 0.01254984, 0.015002415, 0.013365412, 0.011155387, 0.0120499, 0.0148628615, 0.012101038, 0.015908906, 0.017276764, 0.013631885, 0.014110003, 0.017756624, 0.012226144, 0.015088356, 0.015139935, 0.01635701, 0.013141408, 0.015579796, 0.01405661, 0.012944422, 0.014850508, 0.01109389, 0.012766853, 0.012478366, 0.017099062, 0.065780245, 0.020363279, 0.013883002, 0.011296821, 0.013192202, 0.016668603, 0.013699808, 0.012959837, 0.013859885, 0.012253649, 0.012700385, 0.012344014, 0.013958939, 0.015364942, 0.013021654, 0.015781969, 0.012024369, 0.015203232, 0.012879193, 0.013251601, 0.011826614, 0.0069630393, 0.015895184, 0.011912503, 0.013358907, 0.014057325, 0.015858857, 0.010815363, 0.013618902, 0.013439714, 0.013745768, 0.01185773, 0.017791566, 0.0140697295, 0.013300688, 0.014218724, 0.012621326, 0.012753591, 0.01139439, 0.0148421135, 0.014888064, 0.012044951, 0.016150203, 0.013911762]\n"
     ]
    },
    {
     "name": "stderr",
     "output_type": "stream",
     "text": [
      "2022-02-27 19:46:27,190 : INFO : merging changes from 1204 documents into a model of 3204 documents\n",
      "2022-02-27 19:46:27,194 : INFO : topic #77 (0.007): 0.001*\"algol\" + 0.001*\"data\" + 0.001*\"storag\" + 0.001*\"magnet\" + 0.001*\"translat\" + 0.001*\"-\" + 0.001*\"tape\" + 0.001*\"simpson\" + 0.001*\"polygon\" + 0.001*\"regress\"\n",
      "2022-02-27 19:46:27,194 : INFO : topic #83 (0.011): 0.238*\"modifi\" + 0.089*\"0\" + 0.074*\"row\" + 0.067*\"linear\" + 0.063*\"head\" + 0.063*\"appear\" + 0.048*\"meet\" + 0.041*\"articl\" + 0.040*\"column\" + 0.035*\"program\"\n",
      "2022-02-27 19:46:27,194 : INFO : topic #57 (0.020): 0.194*\"solut\" + 0.152*\"equat\" + 0.123*\"problem\" + 0.061*\"differenti\" + 0.054*\"method\" + 0.050*\"'\" + 0.036*\"comment\" + 0.033*\"linear\" + 0.032*\"numer\" + 0.031*\"integr\"\n",
      "2022-02-27 19:46:27,195 : INFO : topic #13 (0.022): 0.216*\"languag\" + 0.169*\"program\" + 0.069*\",\" + 0.024*\"level\" + 0.024*\"-\" + 0.022*\"featur\" + 0.021*\"compil\" + 0.016*\"paper\" + 0.015*\"discuss\" + 0.014*\"semant\"\n",
      "2022-02-27 19:46:27,195 : INFO : topic #56 (0.066): 0.353*\"(\" + 0.342*\")\" + 0.217*\"algorithm\" + 0.019*\"integr\" + 0.015*\"'\" + 0.008*\"-\" + 0.007*\"normal\" + 0.005*\"simpson\" + 0.005*\"s15\" + 0.004*\"evalu\"\n",
      "2022-02-27 19:46:27,195 : INFO : topic diff=0.151695, rho=0.215156\n"
     ]
    },
    {
     "data": {
      "text/plain": [
       "[(0, 0.006403878),\n",
       " (1, 0.006771188),\n",
       " (2, 0.0048609446),\n",
       " (3, 0.006126982),\n",
       " (4, 0.0056447764),\n",
       " (5, 0.006165115),\n",
       " (6, 0.0047900397),\n",
       " (7, 0.0052971765),\n",
       " (8, 0.0048016007),\n",
       " (9, 0.005541032),\n",
       " (10, 0.0058046007),\n",
       " (11, 0.005362465),\n",
       " (12, 0.006690892),\n",
       " (13, 0.009037507),\n",
       " (14, 0.007018247),\n",
       " (15, 0.0055659893),\n",
       " (16, 0.0069135837),\n",
       " (17, 0.00516419),\n",
       " (18, 0.0052506956),\n",
       " (19, 0.005097204),\n",
       " (20, 0.005612657),\n",
       " (21, 0.0071576806),\n",
       " (22, 0.005239831),\n",
       " (23, 0.0053823455),\n",
       " (24, 0.0062787854),\n",
       " (25, 0.0048373137),\n",
       " (26, 0.004840903),\n",
       " (27, 0.004549386),\n",
       " (28, 0.0062805526),\n",
       " (29, 0.41563955),\n",
       " (30, 0.0051859654),\n",
       " (31, 0.005131385),\n",
       " (32, 0.006134195),\n",
       " (33, 0.0054648565),\n",
       " (34, 0.0045612203),\n",
       " (35, 0.0049269693),\n",
       " (36, 0.0060771345),\n",
       " (37, 0.004947879),\n",
       " (38, 0.0065048416),\n",
       " (39, 0.007064132),\n",
       " (40, 0.005573812),\n",
       " (41, 0.005769305),\n",
       " (42, 0.0072603375),\n",
       " (43, 0.004999032),\n",
       " (44, 0.0061693345),\n",
       " (45, 0.0061904243),\n",
       " (46, 0.0066880626),\n",
       " (47, 0.0053732656),\n",
       " (48, 0.006370275),\n",
       " (49, 0.005747474),\n",
       " (50, 0.0052927216),\n",
       " (51, 0.0060720835),\n",
       " (52, 0.0045360755),\n",
       " (53, 0.0052201175),\n",
       " (54, 0.0051021604),\n",
       " (55, 0.006991473),\n",
       " (56, 0.02689626),\n",
       " (57, 0.008326148),\n",
       " (58, 0.005676489),\n",
       " (59, 0.00461905),\n",
       " (60, 0.005394034),\n",
       " (61, 0.0068154666),\n",
       " (62, 0.0056015844),\n",
       " (63, 0.0052990247),\n",
       " (64, 0.005667037),\n",
       " (65, 0.005010278),\n",
       " (66, 0.00519294),\n",
       " (67, 0.005047227),\n",
       " (68, 0.005707538),\n",
       " (69, 0.0062824255),\n",
       " (70, 0.005324301),\n",
       " (71, 0.0064529395),\n",
       " (72, 0.00491653),\n",
       " (73, 0.0062163053),\n",
       " (74, 0.005266051),\n",
       " (75, 0.005418321),\n",
       " (76, 0.0048356717),\n",
       " (77, 0.002847051),\n",
       " (78, 0.006499231),\n",
       " (79, 0.0048707905),\n",
       " (80, 0.0054621967),\n",
       " (81, 0.0057477662),\n",
       " (82, 0.0064843777),\n",
       " (83, 0.004422191),\n",
       " (84, 0.005568504),\n",
       " (85, 0.005495237),\n",
       " (86, 0.0056203767),\n",
       " (87, 0.004848395),\n",
       " (88, 0.0072746244),\n",
       " (89, 0.005752838),\n",
       " (90, 0.005438392),\n",
       " (91, 0.0058137593),\n",
       " (92, 0.0051606144),\n",
       " (93, 0.005214695),\n",
       " (94, 0.004658944),\n",
       " (95, 0.006068651),\n",
       " (96, 0.006087439),\n",
       " (97, 0.004924946),\n",
       " (98, 0.006603503),\n",
       " (99, 0.005688248)]"
      ]
     },
     "execution_count": 108,
     "metadata": {},
     "output_type": "execute_result"
    }
   ],
   "source": [
    "##### Function check\n",
    "lda = LdaRetrievalModel(doc_repr_2)\n",
    "lda.train_model()\n",
    "\n",
    "# you can now get an LDA vector for a given query in the following way:\n",
    "lda.vectorize_query(\"report\")\n",
    "##### "
   ]
  },
  {
   "cell_type": "markdown",
   "metadata": {
    "deletable": false,
    "editable": false,
    "nbgrader": {
     "cell_type": "markdown",
     "checksum": "32d83b6ea79ca3ddb789a7f8805a1b25",
     "grade": false,
     "grade_id": "cell-0e24b727d5908c0e",
     "locked": true,
     "points": 5,
     "schema_version": 3,
     "solution": false,
     "task": true
    }
   },
   "source": [
    "\\#### Please do not change this. This cell is used for grading."
   ]
  },
  {
   "cell_type": "markdown",
   "metadata": {
    "deletable": false,
    "editable": false,
    "nbgrader": {
     "cell_type": "markdown",
     "checksum": "114a934f0b9ce696e6cf09d3b8da6a3d",
     "grade": false,
     "grade_id": "cell-b1bffcb970b18aeb",
     "locked": true,
     "schema_version": 3,
     "solution": false,
     "task": false
    }
   },
   "source": [
    "---\n",
    "Now we can use the `DenseRetrievalModel` class to obtain an LDA search function.\n",
    "You can test your LDA model in the following cell: Try finding queries which are lexically different to documents, but semantically similar - does LDA work well for these queries?!"
   ]
  },
  {
   "cell_type": "code",
   "execution_count": 132,
   "metadata": {},
   "outputs": [
    {
     "data": {
      "application/vnd.jupyter.widget-view+json": {
       "model_id": "e231b50fff7543f1b3d1cf7734caa62a",
       "version_major": 2,
       "version_minor": 0
      },
      "text/plain": [
       "Text(value='', description='Search Bar')"
      ]
     },
     "metadata": {},
     "output_type": "display_data"
    },
    {
     "name": "stdout",
     "output_type": "stream",
     "text": [
      "Searching for: 'report' (SEARCH FN: <bound method DenseRetrievalRanker.search of <__main__.DenseRetrievalRanker object at 0x7ff878236550>>)\n"
     ]
    },
    {
     "data": {
      "text/html": [
       "<ul><li>Document #2425(1.0000000258596393): The Programmer as Navigator\n",
       "</li><li>Document #2689(0.8755547995259227): ...A CRT <strong>Report</strong> Generating Syste...</li><li>Document #725(0.7869413764084248): Group Participation Computer Demonstration\n",
       "</li><li>Document #235(0.786583312441317): Two Think Pieces\n",
       "</li><li>Document #913(0.786583312441317): Neliac\n",
       "</li></ul>"
      ],
      "text/plain": [
       "<IPython.core.display.HTML object>"
      ]
     },
     "metadata": {},
     "output_type": "display_data"
    }
   ],
   "source": [
    "drm_lda = DenseRetrievalRanker(lda, jenson_shannon_sim)\n",
    "\n",
    "# test your LDA model\n",
    "search_fn = drm_lda.search\n",
    "\n",
    "text = widgets.Text(description=\"Search Bar\", width=200)\n",
    "display(text)\n",
    "\n",
    "\n",
    "text.on_submit(handle_submit_2)"
   ]
  },
  {
   "cell_type": "markdown",
   "metadata": {
    "deletable": false,
    "editable": false,
    "nbgrader": {
     "cell_type": "markdown",
     "checksum": "9d7f15863b655119b45f4d89354e5661",
     "grade": false,
     "grade_id": "cell-190cd0854b2791cc",
     "locked": true,
     "schema_version": 3,
     "solution": false,
     "task": false
    }
   },
   "source": [
    "## Section 8: Word2Vec/Doc2Vec (20 points) <a class=\"anchor\" id=\"2vec\"></a>\n",
    "\n",
    "[Back to Part 2](#part2)\n",
    "\n",
    "We will implement two other methods here, the Word2Vec model and the Doc2Vec model, also using `gensim`. Word2Vec creates representations of words, not documents, so the word level vectors need to be aggregated to obtain a representation for the document. Here, we will simply take the mean of the vectors. \n",
    "\n",
    "\n",
    "A drawback of these models is that they need a lot of training data. Our dataset is tiny, so in addition to using a model trained on the data, we will also use a pre-trained model for Word2Vec (this will be automatically downloaded).     \n",
    "\n",
    "*Note*:\n",
    "1. The code in vectorize_documents / vectorize_query should return gensim-like vectors i.e `[(dim, val), .. (dim, val)]`. \n",
    "2. For Word2Vec: You should also handle the following two cases: (a) A word in the query is not present in the vocabulary of the model and (b) none of the words in the query are present in the model - you can return 0 scores for all documents in this case. For either of these, you can check if a `word` is present in the vocab by using `word in self.model`\n"
   ]
  },
  {
   "cell_type": "code",
   "execution_count": 313,
   "metadata": {
    "deletable": false,
    "nbgrader": {
     "cell_type": "code",
     "checksum": "83ab733608ed14c29c09b36b4e1b6daa",
     "grade": false,
     "grade_id": "cell-2b73759f9baf688f",
     "locked": false,
     "schema_version": 3,
     "solution": true,
     "task": false
    }
   },
   "outputs": [
    {
     "name": "stderr",
     "output_type": "stream",
     "text": [
      "2022-02-28 01:00:15,898 : INFO : adding document #0 to Dictionary(0 unique tokens: [])\n",
      "2022-02-28 01:00:16,014 : INFO : built Dictionary(5937 unique tokens: ['-', 'algebra', 'intern', 'languag', 'preliminari']...) from 3204 documents (total 115969 corpus positions)\n",
      "2022-02-28 01:00:16,020 : INFO : discarding 4740 tokens: [('repeat', 8), ('glossari', 7), ('inspect', 8), ('uncol', 2), ('rung', 9), ('secant', 2), ('.', 1603), ('acceler', 6), ('diverg', 3), ('induc', 9)]...\n",
      "2022-02-28 01:00:16,021 : INFO : keeping 1197 tokens which were in no less than 10 and no more than 1602 (=50.0%) documents\n",
      "2022-02-28 01:00:16,023 : INFO : resulting dictionary: Dictionary(1197 unique tokens: ['-', 'algebra', 'intern', 'languag', 'preliminari']...)\n",
      "2022-02-28 01:00:16,082 : INFO : collecting all words and their counts\n",
      "2022-02-28 01:00:16,083 : INFO : PROGRESS: at sentence #0, processed 0 words, keeping 0 word types\n",
      "2022-02-28 01:00:16,096 : INFO : collected 5937 word types from a corpus of 115969 raw words and 3204 sentences\n",
      "2022-02-28 01:00:16,096 : INFO : Loading a fresh vocabulary\n",
      "2022-02-28 01:00:16,104 : INFO : effective_min_count=1 retains 5937 unique words (100% of original 5937, drops 0)\n",
      "2022-02-28 01:00:16,104 : INFO : effective_min_count=1 leaves 115969 word corpus (100% of original 115969, drops 0)\n",
      "2022-02-28 01:00:16,116 : INFO : deleting the raw counts dictionary of 5937 items\n",
      "2022-02-28 01:00:16,117 : INFO : sample=0.001 downsamples 40 most-common words\n",
      "2022-02-28 01:00:16,117 : INFO : downsampling leaves estimated 92346 word corpus (79.6% of prior 115969)\n",
      "2022-02-28 01:00:16,125 : INFO : estimated required memory for 5937 words and 100 dimensions: 7718100 bytes\n",
      "2022-02-28 01:00:16,125 : INFO : resetting layer weights\n",
      "2022-02-28 01:00:16,953 : INFO : training model with 3 workers on 5937 vocabulary and 100 features, using sg=0 hs=0 sample=0.001 negative=5 window=5\n",
      "2022-02-28 01:00:17,032 : INFO : worker thread finished; awaiting finish of 2 more threads\n",
      "2022-02-28 01:00:17,033 : INFO : worker thread finished; awaiting finish of 1 more threads\n",
      "2022-02-28 01:00:17,035 : INFO : worker thread finished; awaiting finish of 0 more threads\n",
      "2022-02-28 01:00:17,035 : INFO : EPOCH - 1 : training on 115969 raw words (92241 effective words) took 0.1s, 1264573 effective words/s\n",
      "2022-02-28 01:00:17,094 : INFO : worker thread finished; awaiting finish of 2 more threads\n",
      "2022-02-28 01:00:17,094 : INFO : worker thread finished; awaiting finish of 1 more threads\n",
      "2022-02-28 01:00:17,097 : INFO : worker thread finished; awaiting finish of 0 more threads\n",
      "2022-02-28 01:00:17,097 : INFO : EPOCH - 2 : training on 115969 raw words (92242 effective words) took 0.1s, 1595434 effective words/s\n",
      "2022-02-28 01:00:17,156 : INFO : worker thread finished; awaiting finish of 2 more threads\n",
      "2022-02-28 01:00:17,157 : INFO : worker thread finished; awaiting finish of 1 more threads\n",
      "2022-02-28 01:00:17,159 : INFO : worker thread finished; awaiting finish of 0 more threads\n",
      "2022-02-28 01:00:17,159 : INFO : EPOCH - 3 : training on 115969 raw words (92375 effective words) took 0.1s, 1548993 effective words/s\n",
      "2022-02-28 01:00:17,217 : INFO : worker thread finished; awaiting finish of 2 more threads\n",
      "2022-02-28 01:00:17,218 : INFO : worker thread finished; awaiting finish of 1 more threads\n",
      "2022-02-28 01:00:17,221 : INFO : worker thread finished; awaiting finish of 0 more threads\n",
      "2022-02-28 01:00:17,221 : INFO : EPOCH - 4 : training on 115969 raw words (92422 effective words) took 0.1s, 1596749 effective words/s\n",
      "2022-02-28 01:00:17,279 : INFO : worker thread finished; awaiting finish of 2 more threads\n",
      "2022-02-28 01:00:17,280 : INFO : worker thread finished; awaiting finish of 1 more threads\n",
      "2022-02-28 01:00:17,283 : INFO : worker thread finished; awaiting finish of 0 more threads\n",
      "2022-02-28 01:00:17,283 : INFO : EPOCH - 5 : training on 115969 raw words (92308 effective words) took 0.1s, 1552749 effective words/s\n",
      "2022-02-28 01:00:17,283 : INFO : training on a 579845 raw words (461588 effective words) took 0.3s, 1404879 effective words/s\n",
      "/Users/maythedirkzwager/opt/anaconda3/envs/py365/lib/python3.6/site-packages/ipykernel_launcher.py:41: DeprecationWarning: Call to deprecated `__contains__` (Method will be removed in 4.0.0, use self.wv.__contains__() instead).\n",
      "/Users/maythedirkzwager/opt/anaconda3/envs/py365/lib/python3.6/site-packages/ipykernel_launcher.py:44: DeprecationWarning: Call to deprecated `__getitem__` (Method will be removed in 4.0.0, use self.wv.__getitem__() instead).\n"
     ]
    },
    {
     "data": {
      "text/plain": [
       "[(0, -0.37036437),\n",
       " (1, -0.69271326),\n",
       " (2, -0.44325954),\n",
       " (3, 0.9242751),\n",
       " (4, -0.21096154),\n",
       " (5, -0.2679105),\n",
       " (6, -0.78642166),\n",
       " (7, 0.36260554),\n",
       " (8, -0.06523154),\n",
       " (9, 0.09520708),\n",
       " (10, 0.47097117),\n",
       " (11, 0.5373126),\n",
       " (12, 0.5567245),\n",
       " (13, -0.01602547),\n",
       " (14, 0.47311553),\n",
       " (15, -0.31221393),\n",
       " (16, -0.7437574),\n",
       " (17, 0.1413497),\n",
       " (18, -0.16561674),\n",
       " (19, 0.04780111),\n",
       " (20, -0.49355224),\n",
       " (21, 0.4625802),\n",
       " (22, -0.17507936),\n",
       " (23, 0.41913345),\n",
       " (24, -0.4505809),\n",
       " (25, 0.19471756),\n",
       " (26, -0.054448776),\n",
       " (27, 0.27307957),\n",
       " (28, -0.50297904),\n",
       " (29, 0.22521463),\n",
       " (30, 0.47137928),\n",
       " (31, -0.31410676),\n",
       " (32, -0.017428622),\n",
       " (33, -0.32257012),\n",
       " (34, 0.39268476),\n",
       " (35, 0.18387754),\n",
       " (36, -0.6656915),\n",
       " (37, 0.10849301),\n",
       " (38, -1.272184),\n",
       " (39, -0.4124771),\n",
       " (40, 0.07234809),\n",
       " (41, 0.77056),\n",
       " (42, 0.43936807),\n",
       " (43, 0.6890936),\n",
       " (44, -0.14298747),\n",
       " (45, 0.09346139),\n",
       " (46, 0.32118875),\n",
       " (47, -0.020100515),\n",
       " (48, -0.6535143),\n",
       " (49, 0.5455363),\n",
       " (50, -0.3445486),\n",
       " (51, -0.33919573),\n",
       " (52, 0.022039888),\n",
       " (53, 1.1048194),\n",
       " (54, 0.011510636),\n",
       " (55, 0.13552335),\n",
       " (56, 0.6123426),\n",
       " (57, 0.038151413),\n",
       " (58, 0.36461836),\n",
       " (59, 0.0415786),\n",
       " (60, -0.09627693),\n",
       " (61, -0.00069861364),\n",
       " (62, 0.8685127),\n",
       " (63, 0.7417725),\n",
       " (64, 0.8159043),\n",
       " (65, 0.50651056),\n",
       " (66, -0.31428286),\n",
       " (67, 0.5752097),\n",
       " (68, -0.38830352),\n",
       " (69, -0.12960033),\n",
       " (70, 0.5027947),\n",
       " (71, 0.21979423),\n",
       " (72, 0.6411698),\n",
       " (73, 0.64484143),\n",
       " (74, -0.5481862),\n",
       " (75, -0.36274242),\n",
       " (76, 0.14083584),\n",
       " (77, 0.033945106),\n",
       " (78, 0.3201434),\n",
       " (79, -0.074921966),\n",
       " (80, -0.21548276),\n",
       " (81, -0.02036377),\n",
       " (82, 0.40966153),\n",
       " (83, 0.27574506),\n",
       " (84, -0.43799973),\n",
       " (85, -0.23358412),\n",
       " (86, -1.0582297),\n",
       " (87, -0.39356256),\n",
       " (88, -0.07879374),\n",
       " (89, 0.43233687),\n",
       " (90, 0.79789543),\n",
       " (91, 0.26852074),\n",
       " (92, 0.049890768),\n",
       " (93, 0.4465458),\n",
       " (94, -0.4027681),\n",
       " (95, 0.34104696),\n",
       " (96, -0.32008138),\n",
       " (97, 0.23020948),\n",
       " (98, -0.0399417),\n",
       " (99, 0.38836524)]"
      ]
     },
     "execution_count": 313,
     "metadata": {},
     "output_type": "execute_result"
    }
   ],
   "source": [
    "# TODO: Implement this! (10 points)\n",
    "class W2VRetrievalModel(VectorSpaceRetrievalModel):\n",
    "    def __init__(self, doc_repr):\n",
    "        super().__init__(doc_repr)\n",
    "        \n",
    "        # the dimensionality of the vectors\n",
    "        self.size = 100 \n",
    "        self.min_count = 1\n",
    "    \n",
    "    def train_model(self):\n",
    "        \"\"\"\n",
    "        Trains the W2V model\n",
    "        \"\"\"\n",
    "        self.model = Word2Vec(sentences = self.documents, min_count = self.min_count, size = self.size)\n",
    "\n",
    "        return self.model\n",
    "        \n",
    "        \n",
    "    def vectorize_documents(self):\n",
    "        \"\"\"\n",
    "            Returns a doc_id -> vector dictionary\n",
    "        \"\"\"\n",
    "        vectors = {}\n",
    "        \n",
    "        for (doc_id, _), cc in zip(self.doc_repr, self.documents):\n",
    "        \n",
    "            mean = np.mean(self.model[cc], axis=0)\n",
    "                \n",
    "            vectors[doc_id] = [(x, mean[x]) for x in range(len(mean))]\n",
    "        \n",
    "        return vectors\n",
    "\n",
    "    \n",
    "    def vectorize_query(self, query):\n",
    "        \"\"\"\n",
    "        Vectorizes the query using the W2V model\n",
    "        \"\"\"\n",
    "        query = process_text(query, **config_2)\n",
    "        \n",
    "        # return zeros if a word in the query is not in the model\n",
    "        for word in query:\n",
    "            if word not in self.model:\n",
    "                return [(index, 0.0) for index in range(self.size)]\n",
    "\n",
    "        vectorized_query = self.model[query]\n",
    "        \n",
    "        mean = np.mean(vectorized_query, axis=0)\n",
    "        \n",
    "        output = list()\n",
    "        count = 0\n",
    "        \n",
    "        for item in mean:\n",
    "            output.append((count, item))\n",
    "            count += 1\n",
    "\n",
    "        return output\n",
    "        \n",
    "        \n",
    "class W2VPretrainedRetrievalModel(W2VRetrievalModel):\n",
    "    def __init__(self, doc_repr):\n",
    "        super().__init__(doc_repr)\n",
    "        self.model_name = \"word2vec-google-news-300\"\n",
    "        self.size = 300\n",
    "    \n",
    "    def train_model(self):\n",
    "        \"\"\"\n",
    "        Loads the pretrained model\n",
    "        \"\"\"\n",
    "        self.model = g_downloader.load(self.model_name)\n",
    "\n",
    "w2v = W2VRetrievalModel(doc_repr_2)\n",
    "w2v.train_model()\n",
    "\n",
    "# you can now get a W2V vector for a given query in the following way:\n",
    "w2v.vectorize_query(\"report\")"
   ]
  },
  {
   "cell_type": "code",
   "execution_count": 315,
   "metadata": {
    "deletable": false,
    "editable": false,
    "nbgrader": {
     "cell_type": "code",
     "checksum": "f92b5c5a8c6c4b80652b94223209ab0b",
     "grade": true,
     "grade_id": "cell-b31c0f8d214b8bdf",
     "locked": true,
     "points": 0,
     "schema_version": 3,
     "solution": false,
     "task": false
    }
   },
   "outputs": [
    {
     "name": "stderr",
     "output_type": "stream",
     "text": [
      "/Users/maythedirkzwager/opt/anaconda3/envs/py365/lib/python3.6/site-packages/ipykernel_launcher.py:41: DeprecationWarning: Call to deprecated `__contains__` (Method will be removed in 4.0.0, use self.wv.__contains__() instead).\n",
      "/Users/maythedirkzwager/opt/anaconda3/envs/py365/lib/python3.6/site-packages/ipykernel_launcher.py:44: DeprecationWarning: Call to deprecated `__getitem__` (Method will be removed in 4.0.0, use self.wv.__getitem__() instead).\n"
     ]
    }
   ],
   "source": [
    "assert len(w2v.vectorize_query(\"report\")) == 100\n",
    "assert len(w2v.vectorize_query(\"this is a sentence that is not mellifluous\")) == 100\n"
   ]
  },
  {
   "cell_type": "markdown",
   "metadata": {
    "deletable": false,
    "editable": false,
    "nbgrader": {
     "cell_type": "markdown",
     "checksum": "8dfaabebcb06f308a7ca61fdc5d369e7",
     "grade": false,
     "grade_id": "cell-c2614fa067386384",
     "locked": true,
     "points": 8,
     "schema_version": 3,
     "solution": false,
     "task": true
    }
   },
   "source": [
    "\\#### Please do not change this. This cell is used for grading."
   ]
  },
  {
   "cell_type": "code",
   "execution_count": 217,
   "metadata": {},
   "outputs": [
    {
     "name": "stderr",
     "output_type": "stream",
     "text": [
      "2022-02-28 00:09:19,457 : INFO : adding document #0 to Dictionary(0 unique tokens: [])\n",
      "2022-02-28 00:09:19,580 : INFO : built Dictionary(5937 unique tokens: ['-', 'algebra', 'intern', 'languag', 'preliminari']...) from 3204 documents (total 115969 corpus positions)\n",
      "2022-02-28 00:09:19,585 : INFO : discarding 4740 tokens: [('repeat', 8), ('glossari', 7), ('inspect', 8), ('uncol', 2), ('rung', 9), ('secant', 2), ('.', 1603), ('acceler', 6), ('diverg', 3), ('induc', 9)]...\n",
      "2022-02-28 00:09:19,586 : INFO : keeping 1197 tokens which were in no less than 10 and no more than 1602 (=50.0%) documents\n",
      "2022-02-28 00:09:19,587 : INFO : resulting dictionary: Dictionary(1197 unique tokens: ['-', 'algebra', 'intern', 'languag', 'preliminari']...)\n",
      "2022-02-28 00:09:19,756 : INFO : loading projection weights from /Users/maythedirkzwager/gensim-data/word2vec-google-news-300/word2vec-google-news-300.gz\n",
      "2022-02-28 00:10:06,923 : INFO : loaded (3000000, 300) matrix from /Users/maythedirkzwager/gensim-data/word2vec-google-news-300/word2vec-google-news-300.gz\n"
     ]
    },
    {
     "data": {
      "text/plain": [
       "[(0, -0.14257812),\n",
       " (1, -0.1640625),\n",
       " (2, -0.09033203),\n",
       " (3, -0.11230469),\n",
       " (4, 0.100097656),\n",
       " (5, -0.041259766),\n",
       " (6, 0.048828125),\n",
       " (7, -0.13671875),\n",
       " (8, 0.19628906),\n",
       " (9, -0.13476562),\n",
       " (10, -0.017578125),\n",
       " (11, 0.032226562),\n",
       " (12, 0.095214844),\n",
       " (13, -0.10595703),\n",
       " (14, -0.16992188),\n",
       " (15, 0.041015625),\n",
       " (16, -0.26367188),\n",
       " (17, -0.0063171387),\n",
       " (18, -0.17773438),\n",
       " (19, -0.24023438),\n",
       " (20, 0.3515625),\n",
       " (21, -0.012207031),\n",
       " (22, -0.16210938),\n",
       " (23, -0.12060547),\n",
       " (24, 0.04321289),\n",
       " (25, 0.10986328),\n",
       " (26, 0.052490234),\n",
       " (27, 0.17871094),\n",
       " (28, -0.14550781),\n",
       " (29, 0.13769531),\n",
       " (30, -0.08203125),\n",
       " (31, -0.28320312),\n",
       " (32, -0.10888672),\n",
       " (33, -0.2890625),\n",
       " (34, 0.072265625),\n",
       " (35, -0.04736328),\n",
       " (36, 0.040283203),\n",
       " (37, 0.067871094),\n",
       " (38, 0.11669922),\n",
       " (39, 0.000831604),\n",
       " (40, 0.068359375),\n",
       " (41, 0.12011719),\n",
       " (42, -0.088378906),\n",
       " (43, 0.33789062),\n",
       " (44, -0.044677734),\n",
       " (45, -0.030151367),\n",
       " (46, 0.0076904297),\n",
       " (47, -0.021118164),\n",
       " (48, -0.25390625),\n",
       " (49, 0.14941406),\n",
       " (50, 0.3984375),\n",
       " (51, 0.021606445),\n",
       " (52, -0.02319336),\n",
       " (53, 0.0063476562),\n",
       " (54, 0.008239746),\n",
       " (55, -0.16894531),\n",
       " (56, 0.037353516),\n",
       " (57, -0.06347656),\n",
       " (58, 0.1171875),\n",
       " (59, -0.1484375),\n",
       " (60, -0.07861328),\n",
       " (61, 0.36914062),\n",
       " (62, -0.22460938),\n",
       " (63, 0.17382812),\n",
       " (64, 0.0138549805),\n",
       " (65, 0.1875),\n",
       " (66, -0.10107422),\n",
       " (67, 0.037841797),\n",
       " (68, 0.0021209717),\n",
       " (69, -0.05126953),\n",
       " (70, 0.096191406),\n",
       " (71, -0.057128906),\n",
       " (72, 0.10595703),\n",
       " (73, -0.020996094),\n",
       " (74, 0.16113281),\n",
       " (75, 0.09765625),\n",
       " (76, 0.038330078),\n",
       " (77, 0.21972656),\n",
       " (78, 0.10644531),\n",
       " (79, 0.0859375),\n",
       " (80, 0.1796875),\n",
       " (81, -0.08300781),\n",
       " (82, -0.033203125),\n",
       " (83, 0.041015625),\n",
       " (84, -0.064941406),\n",
       " (85, 0.019897461),\n",
       " (86, 0.13378906),\n",
       " (87, -0.09765625),\n",
       " (88, -0.19335938),\n",
       " (89, -0.23535156),\n",
       " (90, 0.19042969),\n",
       " (91, 0.0024871826),\n",
       " (92, -0.01574707),\n",
       " (93, 0.032226562),\n",
       " (94, -0.21972656),\n",
       " (95, -0.091308594),\n",
       " (96, 0.021240234),\n",
       " (97, 0.15820312),\n",
       " (98, 0.29882812),\n",
       " (99, -0.328125),\n",
       " (100, 0.057373047),\n",
       " (101, -0.04638672),\n",
       " (102, 0.11328125),\n",
       " (103, -0.1015625),\n",
       " (104, 0.18066406),\n",
       " (105, -0.025146484),\n",
       " (106, -0.16601562),\n",
       " (107, -0.096191406),\n",
       " (108, 0.018798828),\n",
       " (109, -0.19433594),\n",
       " (110, 0.14941406),\n",
       " (111, -0.056640625),\n",
       " (112, -0.106933594),\n",
       " (113, -0.15039062),\n",
       " (114, -0.17578125),\n",
       " (115, 0.11279297),\n",
       " (116, 0.049316406),\n",
       " (117, 0.21972656),\n",
       " (118, 0.31835938),\n",
       " (119, 0.15722656),\n",
       " (120, -0.29296875),\n",
       " (121, 0.10498047),\n",
       " (122, -0.296875),\n",
       " (123, -0.013427734),\n",
       " (124, 0.09082031),\n",
       " (125, 0.012573242),\n",
       " (126, -0.051513672),\n",
       " (127, -0.12890625),\n",
       " (128, 0.014465332),\n",
       " (129, 0.12060547),\n",
       " (130, -0.10107422),\n",
       " (131, -0.111328125),\n",
       " (132, 0.063964844),\n",
       " (133, -0.052978516),\n",
       " (134, -0.04321289),\n",
       " (135, -0.012939453),\n",
       " (136, -0.02758789),\n",
       " (137, -0.09716797),\n",
       " (138, -0.20214844),\n",
       " (139, 0.123046875),\n",
       " (140, -0.04248047),\n",
       " (141, 0.17382812),\n",
       " (142, -0.013671875),\n",
       " (143, 0.1015625),\n",
       " (144, -0.0009384155),\n",
       " (145, -0.03564453),\n",
       " (146, 0.30078125),\n",
       " (147, -0.068359375),\n",
       " (148, -0.056152344),\n",
       " (149, 0.037597656),\n",
       " (150, 0.06591797),\n",
       " (151, 0.040283203),\n",
       " (152, 0.0119018555),\n",
       " (153, 0.096191406),\n",
       " (154, 0.3671875),\n",
       " (155, -0.27929688),\n",
       " (156, -0.052001953),\n",
       " (157, -0.106933594),\n",
       " (158, -0.13476562),\n",
       " (159, -0.046142578),\n",
       " (160, 0.25),\n",
       " (161, 0.0056762695),\n",
       " (162, -0.014404297),\n",
       " (163, -0.03100586),\n",
       " (164, -0.060302734),\n",
       " (165, 0.10595703),\n",
       " (166, 0.37890625),\n",
       " (167, 0.05883789),\n",
       " (168, 0.123046875),\n",
       " (169, -0.115234375),\n",
       " (170, 0.14941406),\n",
       " (171, -0.1640625),\n",
       " (172, -0.23339844),\n",
       " (173, -0.07763672),\n",
       " (174, 0.026733398),\n",
       " (175, -0.021118164),\n",
       " (176, 0.19433594),\n",
       " (177, -0.056152344),\n",
       " (178, -0.006439209),\n",
       " (179, -0.16992188),\n",
       " (180, -0.118652344),\n",
       " (181, -0.06738281),\n",
       " (182, -0.068847656),\n",
       " (183, -0.08691406),\n",
       " (184, -0.1015625),\n",
       " (185, 0.014160156),\n",
       " (186, -0.20117188),\n",
       " (187, 0.09814453),\n",
       " (188, -0.010253906),\n",
       " (189, 0.1875),\n",
       " (190, 0.19628906),\n",
       " (191, -0.22070312),\n",
       " (192, -0.19628906),\n",
       " (193, -0.07373047),\n",
       " (194, 0.06640625),\n",
       " (195, -0.13378906),\n",
       " (196, 0.18359375),\n",
       " (197, -0.20019531),\n",
       " (198, 0.19824219),\n",
       " (199, 0.05029297),\n",
       " (200, 0.029907227),\n",
       " (201, 0.017700195),\n",
       " (202, -0.19335938),\n",
       " (203, -0.096191406),\n",
       " (204, -0.10253906),\n",
       " (205, 0.21289062),\n",
       " (206, -0.029907227),\n",
       " (207, 0.14355469),\n",
       " (208, 0.041015625),\n",
       " (209, -0.21191406),\n",
       " (210, 0.20800781),\n",
       " (211, 0.13769531),\n",
       " (212, -0.01965332),\n",
       " (213, 0.014953613),\n",
       " (214, -0.09765625),\n",
       " (215, 0.24316406),\n",
       " (216, 0.080078125),\n",
       " (217, 0.08251953),\n",
       " (218, 0.09863281),\n",
       " (219, 0.056884766),\n",
       " (220, 0.04248047),\n",
       " (221, 0.068847656),\n",
       " (222, -0.03540039),\n",
       " (223, -0.076171875),\n",
       " (224, -0.00016117096),\n",
       " (225, -0.07519531),\n",
       " (226, 0.22460938),\n",
       " (227, 0.15136719),\n",
       " (228, 0.10058594),\n",
       " (229, 0.10986328),\n",
       " (230, 0.023803711),\n",
       " (231, 0.088378906),\n",
       " (232, 0.061767578),\n",
       " (233, -0.107910156),\n",
       " (234, 0.06225586),\n",
       " (235, 0.0034332275),\n",
       " (236, 0.080566406),\n",
       " (237, 0.106933594),\n",
       " (238, 0.08886719),\n",
       " (239, -0.23730469),\n",
       " (240, 0.064941406),\n",
       " (241, 0.010192871),\n",
       " (242, -0.088378906),\n",
       " (243, -0.33203125),\n",
       " (244, 0.0046691895),\n",
       " (245, 0.21289062),\n",
       " (246, 0.0859375),\n",
       " (247, 0.020385742),\n",
       " (248, 0.045654297),\n",
       " (249, 0.1484375),\n",
       " (250, 0.11816406),\n",
       " (251, 0.055664062),\n",
       " (252, -0.17285156),\n",
       " (253, -0.125),\n",
       " (254, -0.025390625),\n",
       " (255, -0.31835938),\n",
       " (256, 0.03112793),\n",
       " (257, 0.0859375),\n",
       " (258, -0.041992188),\n",
       " (259, 0.15625),\n",
       " (260, 0.16113281),\n",
       " (261, 0.19824219),\n",
       " (262, -0.100097656),\n",
       " (263, 0.203125),\n",
       " (264, 0.12890625),\n",
       " (265, 0.23339844),\n",
       " (266, -0.26757812),\n",
       " (267, 0.05517578),\n",
       " (268, 0.048828125),\n",
       " (269, 0.072265625),\n",
       " (270, 0.24414062),\n",
       " (271, 0.24414062),\n",
       " (272, 0.056884766),\n",
       " (273, -0.0546875),\n",
       " (274, -0.033691406),\n",
       " (275, -0.12060547),\n",
       " (276, 0.03491211),\n",
       " (277, -0.14550781),\n",
       " (278, 0.087402344),\n",
       " (279, -0.08300781),\n",
       " (280, 0.017211914),\n",
       " (281, 0.14355469),\n",
       " (282, -0.122558594),\n",
       " (283, 0.1796875),\n",
       " (284, 0.13085938),\n",
       " (285, -0.16503906),\n",
       " (286, 0.012756348),\n",
       " (287, 0.16015625),\n",
       " (288, -0.03112793),\n",
       " (289, 0.08203125),\n",
       " (290, 0.17382812),\n",
       " (291, -0.16796875),\n",
       " (292, 0.13085938),\n",
       " (293, 0.08544922),\n",
       " (294, -0.2109375),\n",
       " (295, -0.13085938),\n",
       " (296, -0.028930664),\n",
       " (297, -0.10546875),\n",
       " (298, 0.084472656),\n",
       " (299, -0.14160156)]"
      ]
     },
     "execution_count": 217,
     "metadata": {},
     "output_type": "execute_result"
    }
   ],
   "source": [
    "w2v_pretrained = W2VPretrainedRetrievalModel(doc_repr_2)\n",
    "w2v_pretrained.train_model()\n",
    "\n",
    "# you can now get an W2V vector for a given query in the following way:\n",
    "w2v_pretrained.vectorize_query(\"report\")"
   ]
  },
  {
   "cell_type": "code",
   "execution_count": 260,
   "metadata": {
    "deletable": false,
    "editable": false,
    "nbgrader": {
     "cell_type": "code",
     "checksum": "0822845afb5eafe5ddb1ffeaa4f4942a",
     "grade": true,
     "grade_id": "cell-1b1466f8ce516f42",
     "locked": true,
     "points": 2,
     "schema_version": 3,
     "solution": false,
     "task": false
    }
   },
   "outputs": [
    {
     "name": "stdout",
     "output_type": "stream",
     "text": [
      "300\n"
     ]
    }
   ],
   "source": [
    "##### Function check\n",
    "\n",
    "print(len(w2v_pretrained.vectorize_query(\"report\")))\n",
    "#####"
   ]
  },
  {
   "cell_type": "code",
   "execution_count": 316,
   "metadata": {
    "scrolled": false
   },
   "outputs": [
    {
     "name": "stderr",
     "output_type": "stream",
     "text": [
      "/Users/maythedirkzwager/opt/anaconda3/envs/py365/lib/python3.6/site-packages/ipykernel_launcher.py:27: DeprecationWarning: Call to deprecated `__getitem__` (Method will be removed in 4.0.0, use self.wv.__getitem__() instead).\n"
     ]
    },
    {
     "data": {
      "application/vnd.jupyter.widget-view+json": {
       "model_id": "43576c96af88425485b9bd7c7356e60a",
       "version_major": 2,
       "version_minor": 0
      },
      "text/plain": [
       "Text(value='', description='Search Bar')"
      ]
     },
     "metadata": {},
     "output_type": "display_data"
    },
    {
     "name": "stdout",
     "output_type": "stream",
     "text": [
      "Searching for: 'kaas computer' (SEARCH FN: <bound method DenseRetrievalRanker.search of <__main__.DenseRetrievalRanker object at 0x7ff9f7a759e8>>)\n"
     ]
    },
    {
     "name": "stderr",
     "output_type": "stream",
     "text": [
      "/Users/maythedirkzwager/opt/anaconda3/envs/py365/lib/python3.6/site-packages/ipykernel_launcher.py:41: DeprecationWarning: Call to deprecated `__contains__` (Method will be removed in 4.0.0, use self.wv.__contains__() instead).\n",
      "/Users/maythedirkzwager/opt/anaconda3/envs/py365/lib/python3.6/site-packages/ipykernel_launcher.py:23: RuntimeWarning: invalid value encountered in double_scalars\n"
     ]
    },
    {
     "data": {
      "text/html": [
       "<ul><li>Document #1(0.0): Preliminary Report-International Algebraic Language\n",
       "</li><li>Document #2(0.0): Extraction of Roots by Repeated Subtractions for Digital Computers\n",
       "</li><li>Document #3(0.0): Techniques Department on Matrix Program Schemes\n",
       "</li><li>Document #4(0.0): ...Glossary of <strong>Computer</strong> Engineering and ...</li><li>Document #5(0.0): Two Square-Root Approximations\n",
       "</li></ul>"
      ],
      "text/plain": [
       "<IPython.core.display.HTML object>"
      ]
     },
     "metadata": {},
     "output_type": "display_data"
    },
    {
     "name": "stdout",
     "output_type": "stream",
     "text": [
      "Searching for: 'computer' (SEARCH FN: <bound method DenseRetrievalRanker.search of <__main__.DenseRetrievalRanker object at 0x7ff9f7a759e8>>)\n"
     ]
    },
    {
     "name": "stderr",
     "output_type": "stream",
     "text": [
      "/Users/maythedirkzwager/opt/anaconda3/envs/py365/lib/python3.6/site-packages/ipykernel_launcher.py:41: DeprecationWarning: Call to deprecated `__contains__` (Method will be removed in 4.0.0, use self.wv.__contains__() instead).\n",
      "/Users/maythedirkzwager/opt/anaconda3/envs/py365/lib/python3.6/site-packages/ipykernel_launcher.py:44: DeprecationWarning: Call to deprecated `__getitem__` (Method will be removed in 4.0.0, use self.wv.__getitem__() instead).\n"
     ]
    },
    {
     "data": {
      "text/html": [
       "<ul><li>Document #1089(0.9999240636825562): ...Designing a <strong>Computer</strong> Center ...</li><li>Document #997(0.999890148639679): ...nt Protection of <strong>Computer</strong> Programs ...</li><li>Document #2875(0.9998787641525269): ...al Protection of <strong>Computer</strong> Programs ...</li><li>Document #72(0.9998723864555359): An Educational Program in Computing \n",
       "</li><li>Document #756(0.9998558759689331): ...A <strong>Computer</strong> Program for Edit...</li></ul>"
      ],
      "text/plain": [
       "<IPython.core.display.HTML object>"
      ]
     },
     "metadata": {},
     "output_type": "display_data"
    },
    {
     "name": "stdout",
     "output_type": "stream",
     "text": [
      "Searching for: 'kaas' (SEARCH FN: <bound method DenseRetrievalRanker.search of <__main__.DenseRetrievalRanker object at 0x7ff9f7a759e8>>)\n"
     ]
    },
    {
     "name": "stderr",
     "output_type": "stream",
     "text": [
      "/Users/maythedirkzwager/opt/anaconda3/envs/py365/lib/python3.6/site-packages/ipykernel_launcher.py:41: DeprecationWarning: Call to deprecated `__contains__` (Method will be removed in 4.0.0, use self.wv.__contains__() instead).\n",
      "/Users/maythedirkzwager/opt/anaconda3/envs/py365/lib/python3.6/site-packages/ipykernel_launcher.py:23: RuntimeWarning: invalid value encountered in double_scalars\n"
     ]
    },
    {
     "data": {
      "text/html": [
       "<ul><li>Document #1(0.0): Preliminary Report-International Algebraic Language\n",
       "</li><li>Document #2(0.0): Extraction of Roots by Repeated Subtractions for Digital Computers\n",
       "</li><li>Document #3(0.0): Techniques Department on Matrix Program Schemes\n",
       "</li><li>Document #4(0.0): Glossary of Computer Engineering and Programming Terminology\n",
       "</li><li>Document #5(0.0): Two Square-Root Approximations\n",
       "</li></ul>"
      ],
      "text/plain": [
       "<IPython.core.display.HTML object>"
      ]
     },
     "metadata": {},
     "output_type": "display_data"
    }
   ],
   "source": [
    "drm_w2v = DenseRetrievalRanker(w2v, cosine_sim)\n",
    "\n",
    "# test your LDA model\n",
    "search_fn = drm_w2v.search\n",
    "\n",
    "text = widgets.Text(description=\"Search Bar\", width=200)\n",
    "display(text)\n",
    "\n",
    "\n",
    "text.on_submit(handle_submit_2)"
   ]
  },
  {
   "cell_type": "code",
   "execution_count": 246,
   "metadata": {},
   "outputs": [
    {
     "data": {
      "application/vnd.jupyter.widget-view+json": {
       "model_id": "88eb460c01cd4499bfa29baa72a13bb6",
       "version_major": 2,
       "version_minor": 0
      },
      "text/plain": [
       "Text(value='', description='Search Bar')"
      ]
     },
     "metadata": {},
     "output_type": "display_data"
    }
   ],
   "source": [
    "drm_w2v_pretrained = DenseRetrievalRanker(w2v_pretrained, cosine_sim)\n",
    "\n",
    "# test your LDA model\n",
    "search_fn = drm_w2v_pretrained.search\n",
    "\n",
    "text = widgets.Text(description=\"Search Bar\", width=200)\n",
    "display(text)\n",
    "\n",
    "\n",
    "text.on_submit(handle_submit_2)"
   ]
  },
  {
   "cell_type": "markdown",
   "metadata": {
    "deletable": false,
    "editable": false,
    "nbgrader": {
     "cell_type": "markdown",
     "checksum": "51b778984fd60757974f51047c61eb15",
     "grade": false,
     "grade_id": "cell-b92f701cbc706108",
     "locked": true,
     "schema_version": 3,
     "solution": false,
     "task": false
    }
   },
   "source": [
    "**Implementation (10 points):**\n",
    "For Doc2Vec, you will need to create a list of `TaggedDocument` instead of using the `self.corpus` or `self.documents` variable. Use the document id as the 'tag'.\n",
    "  "
   ]
  },
  {
   "cell_type": "code",
   "execution_count": null,
   "metadata": {
    "deletable": false,
    "nbgrader": {
     "cell_type": "code",
     "checksum": "1f60fdeb97febb7f4a6fd5bf109aac20",
     "grade": false,
     "grade_id": "cell-680facdcc98a19ab",
     "locked": false,
     "schema_version": 3,
     "solution": true,
     "task": false
    }
   },
   "outputs": [],
   "source": [
    "# TODO: Implement this! (10 points)\n",
    "class D2VRetrievalModel(VectorSpaceRetrievalModel):\n",
    "    def __init__(self, doc_repr):\n",
    "        super().__init__(doc_repr)\n",
    "        \n",
    "        self.vector_size= 100\n",
    "        self.min_count = 1\n",
    "        self.epochs = 20\n",
    "        \n",
    "        # YOUR CODE HERE\n",
    "        raise NotImplementedError()\n",
    "        \n",
    "    def train_model(self):\n",
    "        # YOUR CODE HERE\n",
    "        raise NotImplementedError()\n",
    "    \n",
    "    def vectorize_documents(self):\n",
    "        \"\"\"\n",
    "            Returns a doc_id -> vector dictionary\n",
    "        \"\"\"\n",
    "        # YOUR CODE HERE\n",
    "        raise NotImplementedError()\n",
    "\n",
    "    def vectorize_query(self, query):\n",
    "        # YOUR CODE HERE\n",
    "        raise NotImplementedError()\n",
    "        \n",
    "d2v = D2VRetrievalModel(doc_repr_2)\n",
    "d2v.train_model()\n",
    "\n",
    "\n",
    "# # you can now get an LSI vector for a given query in the following way:\n",
    "d2v.vectorize_query(\"report\")"
   ]
  },
  {
   "cell_type": "code",
   "execution_count": null,
   "metadata": {
    "deletable": false,
    "editable": false,
    "nbgrader": {
     "cell_type": "code",
     "checksum": "e83a363a9d4f136efbdde1426a83925e",
     "grade": true,
     "grade_id": "cell-5e2c5e0c9a2e8cb5",
     "locked": true,
     "points": 0,
     "schema_version": 3,
     "solution": false,
     "task": false
    }
   },
   "outputs": [],
   "source": [
    "#### Please do not change this. This cell is used for grading."
   ]
  },
  {
   "cell_type": "markdown",
   "metadata": {
    "deletable": false,
    "editable": false,
    "nbgrader": {
     "cell_type": "markdown",
     "checksum": "5bb46bf6b9be1e0ca66f0b0bc6260ecb",
     "grade": false,
     "grade_id": "cell-8a49d414f798a595",
     "locked": true,
     "points": 10,
     "schema_version": 3,
     "solution": false,
     "task": true
    }
   },
   "source": [
    "\\#### Please do not change this. This cell is used for grading."
   ]
  },
  {
   "cell_type": "code",
   "execution_count": null,
   "metadata": {},
   "outputs": [],
   "source": [
    "drm_d2v = DenseRetrievalRanker(d2v, cosine_sim)\n",
    "\n",
    "# test your LDA model\n",
    "search_fn = drm_d2v.search\n",
    "\n",
    "text = widgets.Text(description=\"Search Bar\", width=200)\n",
    "display(text)\n",
    "\n",
    "\n",
    "text.on_submit(handle_submit_2)"
   ]
  },
  {
   "cell_type": "markdown",
   "metadata": {
    "deletable": false,
    "editable": false,
    "nbgrader": {
     "cell_type": "markdown",
     "checksum": "363ec36c1d03d9f9e1c2045a6e193c14",
     "grade": false,
     "grade_id": "cell-3529ae29eece7b97",
     "locked": true,
     "schema_version": 3,
     "solution": false,
     "task": false
    }
   },
   "source": [
    "---\n",
    "## Section 9: Re-ranking (10 points) <a class=\"anchor\" id=\"reranking\"></a>\n",
    "\n",
    "[Back to Part 2](#part2)\n",
    "\n",
    "To motivate the re-ranking perspective (i.e retrieve with lexical method + rerank with a semantic method), let's search using semantic methods and compare it to BM25's performance, along with their runtime:\n"
   ]
  },
  {
   "cell_type": "code",
   "execution_count": 199,
   "metadata": {
    "deletable": false,
    "editable": false,
    "nbgrader": {
     "cell_type": "code",
     "checksum": "5755f70e3eb28abc65d14d80125338af",
     "grade": false,
     "grade_id": "cell-f8f43bf5ae383128",
     "locked": true,
     "schema_version": 3,
     "solution": false,
     "task": false
    }
   },
   "outputs": [
    {
     "name": "stdout",
     "output_type": "stream",
     "text": [
      "BM25: \n",
      "2.16 ms ± 17.5 µs per loop (mean ± std. dev. of 7 runs, 100 loops each)\n",
      "LSI: \n",
      "235 ms ± 1.07 ms per loop (mean ± std. dev. of 7 runs, 1 loop each)\n",
      "LDA: \n",
      "3.69 s ± 12.6 ms per loop (mean ± std. dev. of 7 runs, 1 loop each)\n",
      "W2V: \n"
     ]
    },
    {
     "ename": "NameError",
     "evalue": "name 'drm_w2v' is not defined",
     "output_type": "error",
     "traceback": [
      "\u001b[0;31m---------------------------------------------------------------------------\u001b[0m",
      "\u001b[0;31mNameError\u001b[0m                                 Traceback (most recent call last)",
      "\u001b[0;32m<ipython-input-199-e44bd11196b1>\u001b[0m in \u001b[0;36m<module>\u001b[0;34m\u001b[0m\n\u001b[1;32m      7\u001b[0m \u001b[0mget_ipython\u001b[0m\u001b[0;34m(\u001b[0m\u001b[0;34m)\u001b[0m\u001b[0;34m.\u001b[0m\u001b[0mrun_line_magic\u001b[0m\u001b[0;34m(\u001b[0m\u001b[0;34m'timeit'\u001b[0m\u001b[0;34m,\u001b[0m \u001b[0;34m'drm_lda.search(query)'\u001b[0m\u001b[0;34m)\u001b[0m\u001b[0;34m\u001b[0m\u001b[0m\n\u001b[1;32m      8\u001b[0m \u001b[0mprint\u001b[0m\u001b[0;34m(\u001b[0m\u001b[0;34m\"W2V: \"\u001b[0m\u001b[0;34m)\u001b[0m\u001b[0;34m\u001b[0m\u001b[0m\n\u001b[0;32m----> 9\u001b[0;31m \u001b[0mget_ipython\u001b[0m\u001b[0;34m(\u001b[0m\u001b[0;34m)\u001b[0m\u001b[0;34m.\u001b[0m\u001b[0mrun_line_magic\u001b[0m\u001b[0;34m(\u001b[0m\u001b[0;34m'timeit'\u001b[0m\u001b[0;34m,\u001b[0m \u001b[0;34m'drm_w2v.search(query)'\u001b[0m\u001b[0;34m)\u001b[0m\u001b[0;34m\u001b[0m\u001b[0m\n\u001b[0m\u001b[1;32m     10\u001b[0m \u001b[0mprint\u001b[0m\u001b[0;34m(\u001b[0m\u001b[0;34m\"W2V(Pretrained): \"\u001b[0m\u001b[0;34m)\u001b[0m\u001b[0;34m\u001b[0m\u001b[0m\n\u001b[1;32m     11\u001b[0m \u001b[0mget_ipython\u001b[0m\u001b[0;34m(\u001b[0m\u001b[0;34m)\u001b[0m\u001b[0;34m.\u001b[0m\u001b[0mrun_line_magic\u001b[0m\u001b[0;34m(\u001b[0m\u001b[0;34m'timeit'\u001b[0m\u001b[0;34m,\u001b[0m \u001b[0;34m'drm_w2v_pretrained.search(query)'\u001b[0m\u001b[0;34m)\u001b[0m\u001b[0;34m\u001b[0m\u001b[0m\n",
      "\u001b[0;32m~/opt/anaconda3/envs/py365/lib/python3.6/site-packages/IPython/core/interactiveshell.py\u001b[0m in \u001b[0;36mrun_line_magic\u001b[0;34m(self, magic_name, line, _stack_depth)\u001b[0m\n\u001b[1;32m   2324\u001b[0m                 \u001b[0mkwargs\u001b[0m\u001b[0;34m[\u001b[0m\u001b[0;34m'local_ns'\u001b[0m\u001b[0;34m]\u001b[0m \u001b[0;34m=\u001b[0m \u001b[0msys\u001b[0m\u001b[0;34m.\u001b[0m\u001b[0m_getframe\u001b[0m\u001b[0;34m(\u001b[0m\u001b[0mstack_depth\u001b[0m\u001b[0;34m)\u001b[0m\u001b[0;34m.\u001b[0m\u001b[0mf_locals\u001b[0m\u001b[0;34m\u001b[0m\u001b[0m\n\u001b[1;32m   2325\u001b[0m             \u001b[0;32mwith\u001b[0m \u001b[0mself\u001b[0m\u001b[0;34m.\u001b[0m\u001b[0mbuiltin_trap\u001b[0m\u001b[0;34m:\u001b[0m\u001b[0;34m\u001b[0m\u001b[0m\n\u001b[0;32m-> 2326\u001b[0;31m                 \u001b[0mresult\u001b[0m \u001b[0;34m=\u001b[0m \u001b[0mfn\u001b[0m\u001b[0;34m(\u001b[0m\u001b[0;34m*\u001b[0m\u001b[0margs\u001b[0m\u001b[0;34m,\u001b[0m \u001b[0;34m**\u001b[0m\u001b[0mkwargs\u001b[0m\u001b[0;34m)\u001b[0m\u001b[0;34m\u001b[0m\u001b[0m\n\u001b[0m\u001b[1;32m   2327\u001b[0m             \u001b[0;32mreturn\u001b[0m \u001b[0mresult\u001b[0m\u001b[0;34m\u001b[0m\u001b[0m\n\u001b[1;32m   2328\u001b[0m \u001b[0;34m\u001b[0m\u001b[0m\n",
      "\u001b[0;32m~/opt/anaconda3/envs/py365/lib/python3.6/site-packages/decorator.py\u001b[0m in \u001b[0;36mfun\u001b[0;34m(*args, **kw)\u001b[0m\n\u001b[1;32m    230\u001b[0m             \u001b[0;32mif\u001b[0m \u001b[0;32mnot\u001b[0m \u001b[0mkwsyntax\u001b[0m\u001b[0;34m:\u001b[0m\u001b[0;34m\u001b[0m\u001b[0m\n\u001b[1;32m    231\u001b[0m                 \u001b[0margs\u001b[0m\u001b[0;34m,\u001b[0m \u001b[0mkw\u001b[0m \u001b[0;34m=\u001b[0m \u001b[0mfix\u001b[0m\u001b[0;34m(\u001b[0m\u001b[0margs\u001b[0m\u001b[0;34m,\u001b[0m \u001b[0mkw\u001b[0m\u001b[0;34m,\u001b[0m \u001b[0msig\u001b[0m\u001b[0;34m)\u001b[0m\u001b[0;34m\u001b[0m\u001b[0m\n\u001b[0;32m--> 232\u001b[0;31m             \u001b[0;32mreturn\u001b[0m \u001b[0mcaller\u001b[0m\u001b[0;34m(\u001b[0m\u001b[0mfunc\u001b[0m\u001b[0;34m,\u001b[0m \u001b[0;34m*\u001b[0m\u001b[0;34m(\u001b[0m\u001b[0mextras\u001b[0m \u001b[0;34m+\u001b[0m \u001b[0margs\u001b[0m\u001b[0;34m)\u001b[0m\u001b[0;34m,\u001b[0m \u001b[0;34m**\u001b[0m\u001b[0mkw\u001b[0m\u001b[0;34m)\u001b[0m\u001b[0;34m\u001b[0m\u001b[0m\n\u001b[0m\u001b[1;32m    233\u001b[0m     \u001b[0mfun\u001b[0m\u001b[0;34m.\u001b[0m\u001b[0m__name__\u001b[0m \u001b[0;34m=\u001b[0m \u001b[0mfunc\u001b[0m\u001b[0;34m.\u001b[0m\u001b[0m__name__\u001b[0m\u001b[0;34m\u001b[0m\u001b[0m\n\u001b[1;32m    234\u001b[0m     \u001b[0mfun\u001b[0m\u001b[0;34m.\u001b[0m\u001b[0m__doc__\u001b[0m \u001b[0;34m=\u001b[0m \u001b[0mfunc\u001b[0m\u001b[0;34m.\u001b[0m\u001b[0m__doc__\u001b[0m\u001b[0;34m\u001b[0m\u001b[0m\n",
      "\u001b[0;32m~/opt/anaconda3/envs/py365/lib/python3.6/site-packages/IPython/core/magic.py\u001b[0m in \u001b[0;36m<lambda>\u001b[0;34m(f, *a, **k)\u001b[0m\n\u001b[1;32m    185\u001b[0m     \u001b[0;31m# but it's overkill for just that one bit of state.\u001b[0m\u001b[0;34m\u001b[0m\u001b[0;34m\u001b[0m\u001b[0m\n\u001b[1;32m    186\u001b[0m     \u001b[0;32mdef\u001b[0m \u001b[0mmagic_deco\u001b[0m\u001b[0;34m(\u001b[0m\u001b[0marg\u001b[0m\u001b[0;34m)\u001b[0m\u001b[0;34m:\u001b[0m\u001b[0;34m\u001b[0m\u001b[0m\n\u001b[0;32m--> 187\u001b[0;31m         \u001b[0mcall\u001b[0m \u001b[0;34m=\u001b[0m \u001b[0;32mlambda\u001b[0m \u001b[0mf\u001b[0m\u001b[0;34m,\u001b[0m \u001b[0;34m*\u001b[0m\u001b[0ma\u001b[0m\u001b[0;34m,\u001b[0m \u001b[0;34m**\u001b[0m\u001b[0mk\u001b[0m\u001b[0;34m:\u001b[0m \u001b[0mf\u001b[0m\u001b[0;34m(\u001b[0m\u001b[0;34m*\u001b[0m\u001b[0ma\u001b[0m\u001b[0;34m,\u001b[0m \u001b[0;34m**\u001b[0m\u001b[0mk\u001b[0m\u001b[0;34m)\u001b[0m\u001b[0;34m\u001b[0m\u001b[0m\n\u001b[0m\u001b[1;32m    188\u001b[0m \u001b[0;34m\u001b[0m\u001b[0m\n\u001b[1;32m    189\u001b[0m         \u001b[0;32mif\u001b[0m \u001b[0mcallable\u001b[0m\u001b[0;34m(\u001b[0m\u001b[0marg\u001b[0m\u001b[0;34m)\u001b[0m\u001b[0;34m:\u001b[0m\u001b[0;34m\u001b[0m\u001b[0m\n",
      "\u001b[0;32m~/opt/anaconda3/envs/py365/lib/python3.6/site-packages/IPython/core/magics/execution.py\u001b[0m in \u001b[0;36mtimeit\u001b[0;34m(self, line, cell, local_ns)\u001b[0m\n\u001b[1;32m   1161\u001b[0m             \u001b[0;32mfor\u001b[0m \u001b[0mindex\u001b[0m \u001b[0;32min\u001b[0m \u001b[0mrange\u001b[0m\u001b[0;34m(\u001b[0m\u001b[0;36m0\u001b[0m\u001b[0;34m,\u001b[0m \u001b[0;36m10\u001b[0m\u001b[0;34m)\u001b[0m\u001b[0;34m:\u001b[0m\u001b[0;34m\u001b[0m\u001b[0m\n\u001b[1;32m   1162\u001b[0m                 \u001b[0mnumber\u001b[0m \u001b[0;34m=\u001b[0m \u001b[0;36m10\u001b[0m \u001b[0;34m**\u001b[0m \u001b[0mindex\u001b[0m\u001b[0;34m\u001b[0m\u001b[0m\n\u001b[0;32m-> 1163\u001b[0;31m                 \u001b[0mtime_number\u001b[0m \u001b[0;34m=\u001b[0m \u001b[0mtimer\u001b[0m\u001b[0;34m.\u001b[0m\u001b[0mtimeit\u001b[0m\u001b[0;34m(\u001b[0m\u001b[0mnumber\u001b[0m\u001b[0;34m)\u001b[0m\u001b[0;34m\u001b[0m\u001b[0m\n\u001b[0m\u001b[1;32m   1164\u001b[0m                 \u001b[0;32mif\u001b[0m \u001b[0mtime_number\u001b[0m \u001b[0;34m>=\u001b[0m \u001b[0;36m0.2\u001b[0m\u001b[0;34m:\u001b[0m\u001b[0;34m\u001b[0m\u001b[0m\n\u001b[1;32m   1165\u001b[0m                     \u001b[0;32mbreak\u001b[0m\u001b[0;34m\u001b[0m\u001b[0m\n",
      "\u001b[0;32m~/opt/anaconda3/envs/py365/lib/python3.6/site-packages/IPython/core/magics/execution.py\u001b[0m in \u001b[0;36mtimeit\u001b[0;34m(self, number)\u001b[0m\n\u001b[1;32m    167\u001b[0m         \u001b[0mgc\u001b[0m\u001b[0;34m.\u001b[0m\u001b[0mdisable\u001b[0m\u001b[0;34m(\u001b[0m\u001b[0;34m)\u001b[0m\u001b[0;34m\u001b[0m\u001b[0m\n\u001b[1;32m    168\u001b[0m         \u001b[0;32mtry\u001b[0m\u001b[0;34m:\u001b[0m\u001b[0;34m\u001b[0m\u001b[0m\n\u001b[0;32m--> 169\u001b[0;31m             \u001b[0mtiming\u001b[0m \u001b[0;34m=\u001b[0m \u001b[0mself\u001b[0m\u001b[0;34m.\u001b[0m\u001b[0minner\u001b[0m\u001b[0;34m(\u001b[0m\u001b[0mit\u001b[0m\u001b[0;34m,\u001b[0m \u001b[0mself\u001b[0m\u001b[0;34m.\u001b[0m\u001b[0mtimer\u001b[0m\u001b[0;34m)\u001b[0m\u001b[0;34m\u001b[0m\u001b[0m\n\u001b[0m\u001b[1;32m    170\u001b[0m         \u001b[0;32mfinally\u001b[0m\u001b[0;34m:\u001b[0m\u001b[0;34m\u001b[0m\u001b[0m\n\u001b[1;32m    171\u001b[0m             \u001b[0;32mif\u001b[0m \u001b[0mgcold\u001b[0m\u001b[0;34m:\u001b[0m\u001b[0;34m\u001b[0m\u001b[0m\n",
      "\u001b[0;32m<magic-timeit>\u001b[0m in \u001b[0;36minner\u001b[0;34m(_it, _timer)\u001b[0m\n",
      "\u001b[0;31mNameError\u001b[0m: name 'drm_w2v' is not defined"
     ]
    }
   ],
   "source": [
    "query = \"algebraic functions\"\n",
    "print(\"BM25: \")\n",
    "%timeit bm25_search(query, 2)\n",
    "print(\"LSI: \")\n",
    "%timeit drm_lsi.search(query)\n",
    "print(\"LDA: \")\n",
    "%timeit drm_lda.search(query)\n",
    "print(\"W2V: \")\n",
    "%timeit drm_w2v.search(query)\n",
    "print(\"W2V(Pretrained): \")\n",
    "%timeit drm_w2v_pretrained.search(query)\n",
    "print(\"D2V:\")\n",
    "%timeit drm_d2v.search(query)"
   ]
  },
  {
   "cell_type": "markdown",
   "metadata": {
    "deletable": false,
    "editable": false,
    "nbgrader": {
     "cell_type": "markdown",
     "checksum": "ae398da0a8c23c95bcbb0023b7ec6f34",
     "grade": false,
     "grade_id": "cell-db5ff09f97841af7",
     "locked": true,
     "schema_version": 3,
     "solution": false,
     "task": false
    }
   },
   "source": [
    "---\n",
    "\n",
    "**Implementation (10 points):**\n",
    "Re-ranking involves retrieving a small set of documents using simple but fast methods like BM25 and then re-ranking them with the aid of semantic methods such as LDA or LSI. Implement the following class, which takes in an `initial_retrieval_fn` - the initial retrieval function and `vsrm` - an instance of the `VectorSpaceRetrievalModel` class (i.e LSI/LDA) as input. The search function should first retrieve an initial list of K documents, and then these documents are re-ranked using a semantic method. This not only makes retrieval faster, but semantic methods perform poorly when used in isolation, as you will find out."
   ]
  },
  {
   "cell_type": "code",
   "execution_count": null,
   "metadata": {
    "deletable": false,
    "nbgrader": {
     "cell_type": "code",
     "checksum": "63b6b05a676a2ae3f08d8bed1bc59428",
     "grade": false,
     "grade_id": "cell-5bf47600d1a0c507",
     "locked": false,
     "schema_version": 3,
     "solution": true,
     "task": false
    }
   },
   "outputs": [],
   "source": [
    "# TODO: Implement this! (10 points)\n",
    "class DenseRerankingModel:\n",
    "    def __init__(self, initial_retrieval_fn, vsrm, similarity_fn):\n",
    "        \"\"\"\n",
    "            initial_retrieval_fn: takes in a query and returns a list of [(doc_id, score)] (sorted)\n",
    "            vsrm: instance of `VectorSpaceRetrievalModel`\n",
    "            similarity_fn: function instance that takes in two vectors \n",
    "                            and returns a similarity score e.g cosine_sim defined earlier\n",
    "        \"\"\"\n",
    "        self.ret = initial_retrieval_fn\n",
    "        self.vsrm = vsrm\n",
    "        self.similarity_fn = similarity_fn\n",
    "        self.vectorized_documents = vsrm.vectorize_documents()\n",
    "        \n",
    "        assert len(self.vectorized_documents) == len(doc_repr_2)\n",
    "    \n",
    "    def search(self, query, K=50):\n",
    "        \"\"\"\n",
    "            First, retrieve the top K results using the retrieval function\n",
    "            Then, re-rank the results using the VSRM instance\n",
    "        \"\"\"\n",
    "        # YOUR CODE HERE\n",
    "        raise NotImplementedError()"
   ]
  },
  {
   "cell_type": "code",
   "execution_count": null,
   "metadata": {
    "deletable": false,
    "editable": false,
    "nbgrader": {
     "cell_type": "code",
     "checksum": "334ab5af96976265cace682ab82a7387",
     "grade": true,
     "grade_id": "cell-52c6d18a4c0b4882",
     "locked": true,
     "points": 0,
     "schema_version": 3,
     "solution": false,
     "task": false
    }
   },
   "outputs": [],
   "source": [
    "##### Function check\n",
    "bm25_search_2 = partial(bm25_search, index_set=2)\n",
    "lsi_rerank = DenseRerankingModel(bm25_search_2, lsi, cosine_sim)\n",
    "lda_rerank = DenseRerankingModel(bm25_search_2, lda, jenson_shannon_sim)\n",
    "w2v_rerank = DenseRerankingModel(bm25_search_2, w2v, cosine_sim)\n",
    "w2v_pretrained_rerank = DenseRerankingModel(bm25_search_2, w2v_pretrained, cosine_sim)\n",
    "d2v_rerank = DenseRerankingModel(bm25_search_2, d2v, cosine_sim)\n",
    "\n",
    "##### "
   ]
  },
  {
   "cell_type": "markdown",
   "metadata": {
    "deletable": false,
    "editable": false,
    "nbgrader": {
     "cell_type": "markdown",
     "checksum": "bd904253f45f84e63bab3a69729058fc",
     "grade": false,
     "grade_id": "cell-93215dfe6bcf7cff",
     "locked": true,
     "points": 10,
     "schema_version": 3,
     "solution": false,
     "task": true
    }
   },
   "source": [
    "\\#### Please do not change this. This cell is used for grading."
   ]
  },
  {
   "cell_type": "markdown",
   "metadata": {
    "deletable": false,
    "editable": false,
    "nbgrader": {
     "cell_type": "markdown",
     "checksum": "b592e60292bfe3d9ef2930a354c4077a",
     "grade": false,
     "grade_id": "cell-aa694ff55fa91e7d",
     "locked": true,
     "schema_version": 3,
     "solution": false,
     "task": false
    }
   },
   "source": [
    "---\n",
    "Now, let us time the new search functions:"
   ]
  },
  {
   "cell_type": "code",
   "execution_count": null,
   "metadata": {
    "deletable": false,
    "editable": false,
    "nbgrader": {
     "cell_type": "code",
     "checksum": "338c7e3528cba266a865a061287c0e38",
     "grade": false,
     "grade_id": "cell-5edbd481562ad91f",
     "locked": true,
     "schema_version": 3,
     "solution": false,
     "task": false
    }
   },
   "outputs": [],
   "source": [
    "query = \"algebraic functions\"\n",
    "print(\"BM25: \")\n",
    "%timeit bm25_search(query, 2)\n",
    "print(\"LSI: \")\n",
    "%timeit lsi_rerank.search(query)\n",
    "print(\"LDA: \")\n",
    "%timeit lda_rerank.search(query)\n",
    "print(\"W2V: \")\n",
    "%timeit w2v_rerank.search(query)\n",
    "print(\"W2V(Pretrained): \")\n",
    "%timeit w2v_pretrained_rerank.search(query)\n",
    "print(\"D2V:\")\n",
    "%timeit d2v_rerank.search(query)"
   ]
  },
  {
   "cell_type": "markdown",
   "metadata": {
    "deletable": false,
    "editable": false,
    "nbgrader": {
     "cell_type": "markdown",
     "checksum": "c45c5e3f015b2de89d9d39ae3766368b",
     "grade": false,
     "grade_id": "cell-85c50f2ab9eec301",
     "locked": true,
     "schema_version": 3,
     "solution": false,
     "task": false
    }
   },
   "source": [
    "---\n",
    "As you can see, it is much faster (but BM25 is still orders of magnitude faster)."
   ]
  },
  {
   "cell_type": "markdown",
   "metadata": {
    "deletable": false,
    "editable": false,
    "nbgrader": {
     "cell_type": "markdown",
     "checksum": "1e2f3388e3807659f303fe31a75a010e",
     "grade": false,
     "grade_id": "cell-5071bb99b2af61cb",
     "locked": true,
     "schema_version": 3,
     "solution": false,
     "task": false
    }
   },
   "source": [
    "---\n",
    "## Section 10: Evaluation & Analysis (30 points) <a class=\"anchor\" id=\"reranking_eval\"></a>\n",
    "\n",
    "[Back to Part 2](#part2)\n",
    "\n",
    "[Previously](#evaluation) we have implemented some evaluation metrics and used them for measuring the ranking performance of term-based IR algorithms. In this section, we will do the same for semantic methods, both with and without re-ranking.\n",
    "\n",
    "### Section 10.1: Plot (10 points)\n",
    "\n",
    "First, gather the results. The results should consider the index set, the different search functions and different metrics. Plot the results in bar charts, per metric, with clear labels.\n",
    "\n",
    "Then, gather only the re-ranking models, and plot and compare them with the results obtained in part 1 (only index set 2)."
   ]
  },
  {
   "cell_type": "code",
   "execution_count": null,
   "metadata": {
    "deletable": false,
    "editable": false,
    "nbgrader": {
     "cell_type": "code",
     "checksum": "4fe81520ac6413a803838913fd64de03",
     "grade": false,
     "grade_id": "cell-b672fe6dfae0b1ce",
     "locked": true,
     "schema_version": 3,
     "solution": false,
     "task": false
    }
   },
   "outputs": [],
   "source": [
    "list_of_sem_search_fns = [\n",
    "    (\"lda\", drm_lda.search),\n",
    "    (\"lsi\", drm_lsi.search),\n",
    "    (\"w2v\", drm_w2v.search),\n",
    "    (\"w2v_pretrained\", drm_w2v_pretrained.search),\n",
    "    (\"d2v\", drm_d2v.search),\n",
    "    (\"lsi_rr\", lsi_rerank.search),\n",
    "    (\"lda_rr\", lda_rerank.search),\n",
    "    (\"w2v_rr\", w2v_rerank.search),\n",
    "    (\"w2v_pretrained_rr\", w2v_pretrained_rerank.search),\n",
    "    (\"d2v_rr\", d2v_rerank.search),\n",
    "    \n",
    "]"
   ]
  },
  {
   "cell_type": "code",
   "execution_count": null,
   "metadata": {
    "deletable": false,
    "nbgrader": {
     "cell_type": "code",
     "checksum": "54707c4afac084299aeefa047259b4a9",
     "grade": true,
     "grade_id": "cell-7dd8273b0f5a3c22",
     "locked": false,
     "points": 10,
     "schema_version": 3,
     "solution": true,
     "task": false
    }
   },
   "outputs": [],
   "source": [
    "# YOUR CODE HERE\n",
    "raise NotImplementedError()"
   ]
  },
  {
   "cell_type": "markdown",
   "metadata": {
    "deletable": false,
    "editable": false,
    "nbgrader": {
     "cell_type": "markdown",
     "checksum": "a8a3b6189bdde66704c694d85e38d049",
     "grade": false,
     "grade_id": "cell-deb2ef3daa306e82",
     "locked": true,
     "schema_version": 3,
     "solution": false,
     "task": false
    }
   },
   "source": [
    "### Section 10.2: Summary (20 points)\n",
    "\n",
    "Your summary should compare methods from Part 1 and Part 2 (only for index set 2). State what you expected to see in the results, followed by either supporting evidence *or* justify why the results did not support your expectations. Consider the availability of data, scalability, domain/type of data, etc."
   ]
  },
  {
   "cell_type": "markdown",
   "metadata": {
    "deletable": false,
    "nbgrader": {
     "cell_type": "markdown",
     "checksum": "ff97c43837d10bff6aaffa75e1492887",
     "grade": true,
     "grade_id": "cell-ec5dd7d9cf59dd86",
     "locked": false,
     "points": 20,
     "schema_version": 3,
     "solution": true,
     "task": false
    }
   },
   "source": [
    "YOUR ANSWER HERE"
   ]
  }
 ],
 "metadata": {
  "kernelspec": {
   "display_name": "Python 3",
   "language": "python",
   "name": "python3"
  },
  "language_info": {
   "codemirror_mode": {
    "name": "ipython",
    "version": 3
   },
   "file_extension": ".py",
   "mimetype": "text/x-python",
   "name": "python",
   "nbconvert_exporter": "python",
   "pygments_lexer": "ipython3",
   "version": "3.6.5"
  },
  "toc": {
   "base_numbering": 1,
   "nav_menu": {},
   "number_sections": true,
   "sideBar": true,
   "skip_h1_title": false,
   "title_cell": "Table of Contents",
   "title_sidebar": "Contents",
   "toc_cell": false,
   "toc_position": {},
   "toc_section_display": true,
   "toc_window_display": false
  }
 },
 "nbformat": 4,
 "nbformat_minor": 4
}
